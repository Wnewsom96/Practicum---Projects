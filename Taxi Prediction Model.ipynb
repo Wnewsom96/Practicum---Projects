{
 "cells": [
  {
   "cell_type": "markdown",
   "metadata": {},
   "source": [
    "# Project description\n",
    "\n",
    "Sweet Lift Taxi company has collected historical data on taxi orders at airports. To attract more drivers during peak hours, we need to predict the amount of taxi orders for the next hour. Build a model for such a prediction.\n",
    "\n",
    "The RMSE metric on the test set should not be more than 48.\n",
    "\n",
    "## Project instructions\n",
    "\n",
    "1. Download the data and resample it by one hour.\n",
    "2. Analyze the data.\n",
    "3. Train different models with different hyperparameters. The test sample should be 10% of the initial dataset. \n",
    "4. Test the data using the test sample and provide a conclusion.\n",
    "\n",
    "## Data description\n",
    "\n",
    "The data is stored in file `taxi.csv`. The number of orders is in the '*num_orders*' column."
   ]
  },
  {
   "cell_type": "markdown",
   "metadata": {},
   "source": [
    "## Preparation"
   ]
  },
  {
   "cell_type": "code",
   "execution_count": 1,
   "metadata": {},
   "outputs": [],
   "source": [
    "# Importing Libraries\n",
    "import pandas as pd\n",
    "import numpy as np\n",
    "import os, sys\n",
    "import matplotlib.pyplot as plt\n",
    "import seaborn as sns\n",
    "import time\n",
    "\n",
    "from sklearn.linear_model import LinearRegression as lr\n",
    "from sklearn.ensemble import RandomForestRegressor as rf\n",
    "from sklearn.metrics import mean_squared_error, r2_score, make_scorer\n",
    "from sklearn.model_selection import train_test_split, TimeSeriesSplit, GridSearchCV\n",
    "from sklearn.preprocessing import StandardScaler as ss\n",
    "from lightgbm import LGBMRegressor\n",
    "from xgboost import XGBRegressor\n",
    "from sklearn.model_selection import cross_val_score\n",
    "\n",
    "\n",
    "from catboost import CatBoostRegressor as cat\n",
    "from statsmodels.tsa.seasonal import seasonal_decompose\n",
    "\n",
    "import warnings\n",
    "warnings.filterwarnings('ignore')"
   ]
  },
  {
   "cell_type": "code",
   "execution_count": 2,
   "metadata": {},
   "outputs": [
    {
     "name": "stdout",
     "output_type": "stream",
     "text": [
      "Requirement already satisfied: joypy in /opt/conda/lib/python3.9/site-packages (0.2.6)\n",
      "Requirement already satisfied: scipy>=0.11.0 in /opt/conda/lib/python3.9/site-packages (from joypy) (1.8.0)\n",
      "Requirement already satisfied: matplotlib in /opt/conda/lib/python3.9/site-packages (from joypy) (3.3.4)\n",
      "Requirement already satisfied: pandas>=0.20.0 in /opt/conda/lib/python3.9/site-packages (from joypy) (1.2.4)\n",
      "Requirement already satisfied: numpy>=1.16.5 in /opt/conda/lib/python3.9/site-packages (from joypy) (1.21.1)\n",
      "Requirement already satisfied: python-dateutil>=2.7.3 in /opt/conda/lib/python3.9/site-packages (from pandas>=0.20.0->joypy) (2.8.1)\n",
      "Requirement already satisfied: pytz>=2017.3 in /opt/conda/lib/python3.9/site-packages (from pandas>=0.20.0->joypy) (2021.1)\n",
      "Requirement already satisfied: six>=1.5 in /opt/conda/lib/python3.9/site-packages (from python-dateutil>=2.7.3->pandas>=0.20.0->joypy) (1.16.0)\n",
      "Requirement already satisfied: pyparsing!=2.0.4,!=2.1.2,!=2.1.6,>=2.0.3 in /opt/conda/lib/python3.9/site-packages (from matplotlib->joypy) (2.4.7)\n",
      "Requirement already satisfied: cycler>=0.10 in /opt/conda/lib/python3.9/site-packages (from matplotlib->joypy) (0.11.0)\n",
      "Requirement already satisfied: pillow>=6.2.0 in /opt/conda/lib/python3.9/site-packages (from matplotlib->joypy) (8.4.0)\n",
      "Requirement already satisfied: kiwisolver>=1.0.1 in /opt/conda/lib/python3.9/site-packages (from matplotlib->joypy) (1.4.2)\n",
      "Note: you may need to restart the kernel to use updated packages.\n"
     ]
    }
   ],
   "source": [
    "pip install joypy\n"
   ]
  },
  {
   "cell_type": "code",
   "execution_count": 3,
   "metadata": {},
   "outputs": [],
   "source": [
    "import joypy\n"
   ]
  },
  {
   "cell_type": "code",
   "execution_count": 4,
   "metadata": {},
   "outputs": [
    {
     "data": {
      "text/html": [
       "<div>\n",
       "<style scoped>\n",
       "    .dataframe tbody tr th:only-of-type {\n",
       "        vertical-align: middle;\n",
       "    }\n",
       "\n",
       "    .dataframe tbody tr th {\n",
       "        vertical-align: top;\n",
       "    }\n",
       "\n",
       "    .dataframe thead th {\n",
       "        text-align: right;\n",
       "    }\n",
       "</style>\n",
       "<table border=\"1\" class=\"dataframe\">\n",
       "  <thead>\n",
       "    <tr style=\"text-align: right;\">\n",
       "      <th></th>\n",
       "      <th>datetime</th>\n",
       "      <th>num_orders</th>\n",
       "    </tr>\n",
       "  </thead>\n",
       "  <tbody>\n",
       "    <tr>\n",
       "      <th>0</th>\n",
       "      <td>2018-03-01 00:00:00</td>\n",
       "      <td>9</td>\n",
       "    </tr>\n",
       "    <tr>\n",
       "      <th>1</th>\n",
       "      <td>2018-03-01 00:10:00</td>\n",
       "      <td>14</td>\n",
       "    </tr>\n",
       "    <tr>\n",
       "      <th>2</th>\n",
       "      <td>2018-03-01 00:20:00</td>\n",
       "      <td>28</td>\n",
       "    </tr>\n",
       "    <tr>\n",
       "      <th>3</th>\n",
       "      <td>2018-03-01 00:30:00</td>\n",
       "      <td>20</td>\n",
       "    </tr>\n",
       "    <tr>\n",
       "      <th>4</th>\n",
       "      <td>2018-03-01 00:40:00</td>\n",
       "      <td>32</td>\n",
       "    </tr>\n",
       "    <tr>\n",
       "      <th>...</th>\n",
       "      <td>...</td>\n",
       "      <td>...</td>\n",
       "    </tr>\n",
       "    <tr>\n",
       "      <th>26491</th>\n",
       "      <td>2018-08-31 23:10:00</td>\n",
       "      <td>32</td>\n",
       "    </tr>\n",
       "    <tr>\n",
       "      <th>26492</th>\n",
       "      <td>2018-08-31 23:20:00</td>\n",
       "      <td>24</td>\n",
       "    </tr>\n",
       "    <tr>\n",
       "      <th>26493</th>\n",
       "      <td>2018-08-31 23:30:00</td>\n",
       "      <td>27</td>\n",
       "    </tr>\n",
       "    <tr>\n",
       "      <th>26494</th>\n",
       "      <td>2018-08-31 23:40:00</td>\n",
       "      <td>39</td>\n",
       "    </tr>\n",
       "    <tr>\n",
       "      <th>26495</th>\n",
       "      <td>2018-08-31 23:50:00</td>\n",
       "      <td>53</td>\n",
       "    </tr>\n",
       "  </tbody>\n",
       "</table>\n",
       "<p>26496 rows × 2 columns</p>\n",
       "</div>"
      ],
      "text/plain": [
       "                  datetime  num_orders\n",
       "0      2018-03-01 00:00:00           9\n",
       "1      2018-03-01 00:10:00          14\n",
       "2      2018-03-01 00:20:00          28\n",
       "3      2018-03-01 00:30:00          20\n",
       "4      2018-03-01 00:40:00          32\n",
       "...                    ...         ...\n",
       "26491  2018-08-31 23:10:00          32\n",
       "26492  2018-08-31 23:20:00          24\n",
       "26493  2018-08-31 23:30:00          27\n",
       "26494  2018-08-31 23:40:00          39\n",
       "26495  2018-08-31 23:50:00          53\n",
       "\n",
       "[26496 rows x 2 columns]"
      ]
     },
     "execution_count": 4,
     "metadata": {},
     "output_type": "execute_result"
    }
   ],
   "source": [
    "# Loading dataset\n",
    "data = pd.read_csv('/datasets/taxi.csv')\n",
    "data"
   ]
  },
  {
   "cell_type": "code",
   "execution_count": 5,
   "metadata": {},
   "outputs": [],
   "source": [
    "# Changing datatype of columnd('datetime') to datetime\n",
    "data['datetime'] = pd.to_datetime(data['datetime'])"
   ]
  },
  {
   "cell_type": "code",
   "execution_count": 6,
   "metadata": {},
   "outputs": [
    {
     "name": "stdout",
     "output_type": "stream",
     "text": [
      "<class 'pandas.core.frame.DataFrame'>\n",
      "RangeIndex: 26496 entries, 0 to 26495\n",
      "Data columns (total 2 columns):\n",
      " #   Column      Non-Null Count  Dtype         \n",
      "---  ------      --------------  -----         \n",
      " 0   datetime    26496 non-null  datetime64[ns]\n",
      " 1   num_orders  26496 non-null  int64         \n",
      "dtypes: datetime64[ns](1), int64(1)\n",
      "memory usage: 414.1 KB\n",
      "None\n",
      "         num_orders\n",
      "count  26496.000000\n",
      "mean      14.070463\n",
      "std        9.211330\n",
      "min        0.000000\n",
      "25%        8.000000\n",
      "50%       13.000000\n",
      "75%       19.000000\n",
      "max      119.000000\n",
      "2018-03-01 00:00:00 2018-08-31 23:50:00\n",
      "                 datetime  num_orders\n",
      "0     2018-03-01 00:00:00           9\n",
      "1     2018-03-01 00:10:00          14\n",
      "2     2018-03-01 00:20:00          28\n",
      "3     2018-03-01 00:30:00          20\n",
      "4     2018-03-01 00:40:00          32\n",
      "...                   ...         ...\n",
      "26491 2018-08-31 23:10:00          32\n",
      "26492 2018-08-31 23:20:00          24\n",
      "26493 2018-08-31 23:30:00          27\n",
      "26494 2018-08-31 23:40:00          39\n",
      "26495 2018-08-31 23:50:00          53\n",
      "\n",
      "[26496 rows x 2 columns]\n"
     ]
    }
   ],
   "source": [
    "# Observing dataset\n",
    "print(data.info())\n",
    "print(data.describe())\n",
    "print(data['datetime'].min(), data['datetime'].max())\n",
    "print(data)"
   ]
  },
  {
   "cell_type": "code",
   "execution_count": 7,
   "metadata": {},
   "outputs": [
    {
     "data": {
      "text/plain": [
       "True"
      ]
     },
     "execution_count": 7,
     "metadata": {},
     "output_type": "execute_result"
    }
   ],
   "source": [
    "data.sort_index(inplace=True)\n",
    "data.index.is_monotonic\n"
   ]
  },
  {
   "cell_type": "markdown",
   "metadata": {},
   "source": [
    "\n",
    "We analyzed the data and saw that there were no missing values. It has two columns, one representing time and the other the amount of orders that occured during that time period. Then we put the data in order ascending order by time."
   ]
  },
  {
   "cell_type": "markdown",
   "metadata": {},
   "source": [
    "## Analysis"
   ]
  },
  {
   "cell_type": "code",
   "execution_count": 8,
   "metadata": {},
   "outputs": [
    {
     "data": {
      "text/html": [
       "<div>\n",
       "<style scoped>\n",
       "    .dataframe tbody tr th:only-of-type {\n",
       "        vertical-align: middle;\n",
       "    }\n",
       "\n",
       "    .dataframe tbody tr th {\n",
       "        vertical-align: top;\n",
       "    }\n",
       "\n",
       "    .dataframe thead th {\n",
       "        text-align: right;\n",
       "    }\n",
       "</style>\n",
       "<table border=\"1\" class=\"dataframe\">\n",
       "  <thead>\n",
       "    <tr style=\"text-align: right;\">\n",
       "      <th></th>\n",
       "      <th>datetime</th>\n",
       "      <th>num_orders</th>\n",
       "      <th>month</th>\n",
       "      <th>day</th>\n",
       "      <th>dayoftheweek</th>\n",
       "      <th>hour</th>\n",
       "      <th>lag_1</th>\n",
       "      <th>lag_2</th>\n",
       "      <th>lag_3</th>\n",
       "      <th>lag_4</th>\n",
       "      <th>lag_5</th>\n",
       "      <th>lag_6</th>\n",
       "      <th>lag_7</th>\n",
       "      <th>rolling_mean</th>\n",
       "      <th>rolling_median</th>\n",
       "      <th>rolling_std</th>\n",
       "    </tr>\n",
       "  </thead>\n",
       "  <tbody>\n",
       "    <tr>\n",
       "      <th>0</th>\n",
       "      <td>2018-03-01 00:00:00</td>\n",
       "      <td>124</td>\n",
       "      <td>3</td>\n",
       "      <td>1</td>\n",
       "      <td>3</td>\n",
       "      <td>0</td>\n",
       "      <td>0</td>\n",
       "      <td>0</td>\n",
       "      <td>0</td>\n",
       "      <td>0</td>\n",
       "      <td>0</td>\n",
       "      <td>0</td>\n",
       "      <td>0</td>\n",
       "      <td>0</td>\n",
       "      <td>0</td>\n",
       "      <td>0</td>\n",
       "    </tr>\n",
       "    <tr>\n",
       "      <th>1</th>\n",
       "      <td>2018-03-01 01:00:00</td>\n",
       "      <td>85</td>\n",
       "      <td>3</td>\n",
       "      <td>1</td>\n",
       "      <td>3</td>\n",
       "      <td>1</td>\n",
       "      <td>124.0</td>\n",
       "      <td>0</td>\n",
       "      <td>0</td>\n",
       "      <td>0</td>\n",
       "      <td>0</td>\n",
       "      <td>0</td>\n",
       "      <td>0</td>\n",
       "      <td>0</td>\n",
       "      <td>0</td>\n",
       "      <td>0</td>\n",
       "    </tr>\n",
       "    <tr>\n",
       "      <th>2</th>\n",
       "      <td>2018-03-01 02:00:00</td>\n",
       "      <td>71</td>\n",
       "      <td>3</td>\n",
       "      <td>1</td>\n",
       "      <td>3</td>\n",
       "      <td>2</td>\n",
       "      <td>85.0</td>\n",
       "      <td>124.0</td>\n",
       "      <td>0</td>\n",
       "      <td>0</td>\n",
       "      <td>0</td>\n",
       "      <td>0</td>\n",
       "      <td>0</td>\n",
       "      <td>0</td>\n",
       "      <td>0</td>\n",
       "      <td>0</td>\n",
       "    </tr>\n",
       "    <tr>\n",
       "      <th>3</th>\n",
       "      <td>2018-03-01 03:00:00</td>\n",
       "      <td>66</td>\n",
       "      <td>3</td>\n",
       "      <td>1</td>\n",
       "      <td>3</td>\n",
       "      <td>3</td>\n",
       "      <td>71.0</td>\n",
       "      <td>85.0</td>\n",
       "      <td>124.0</td>\n",
       "      <td>0</td>\n",
       "      <td>0</td>\n",
       "      <td>0</td>\n",
       "      <td>0</td>\n",
       "      <td>0</td>\n",
       "      <td>0</td>\n",
       "      <td>0</td>\n",
       "    </tr>\n",
       "    <tr>\n",
       "      <th>4</th>\n",
       "      <td>2018-03-01 04:00:00</td>\n",
       "      <td>43</td>\n",
       "      <td>3</td>\n",
       "      <td>1</td>\n",
       "      <td>3</td>\n",
       "      <td>4</td>\n",
       "      <td>66.0</td>\n",
       "      <td>71.0</td>\n",
       "      <td>85.0</td>\n",
       "      <td>124.0</td>\n",
       "      <td>0</td>\n",
       "      <td>0</td>\n",
       "      <td>0</td>\n",
       "      <td>0</td>\n",
       "      <td>0</td>\n",
       "      <td>0</td>\n",
       "    </tr>\n",
       "    <tr>\n",
       "      <th>...</th>\n",
       "      <td>...</td>\n",
       "      <td>...</td>\n",
       "      <td>...</td>\n",
       "      <td>...</td>\n",
       "      <td>...</td>\n",
       "      <td>...</td>\n",
       "      <td>...</td>\n",
       "      <td>...</td>\n",
       "      <td>...</td>\n",
       "      <td>...</td>\n",
       "      <td>...</td>\n",
       "      <td>...</td>\n",
       "      <td>...</td>\n",
       "      <td>...</td>\n",
       "      <td>...</td>\n",
       "      <td>...</td>\n",
       "    </tr>\n",
       "    <tr>\n",
       "      <th>4411</th>\n",
       "      <td>2018-08-31 19:00:00</td>\n",
       "      <td>136</td>\n",
       "      <td>8</td>\n",
       "      <td>31</td>\n",
       "      <td>4</td>\n",
       "      <td>19</td>\n",
       "      <td>207.0</td>\n",
       "      <td>217.0</td>\n",
       "      <td>197.0</td>\n",
       "      <td>116.0</td>\n",
       "      <td>133.0</td>\n",
       "      <td>166.0</td>\n",
       "      <td>136.0</td>\n",
       "      <td>167.428571</td>\n",
       "      <td>166.0</td>\n",
       "      <td>40.244491</td>\n",
       "    </tr>\n",
       "    <tr>\n",
       "      <th>4412</th>\n",
       "      <td>2018-08-31 20:00:00</td>\n",
       "      <td>154</td>\n",
       "      <td>8</td>\n",
       "      <td>31</td>\n",
       "      <td>4</td>\n",
       "      <td>20</td>\n",
       "      <td>136.0</td>\n",
       "      <td>207.0</td>\n",
       "      <td>217.0</td>\n",
       "      <td>197.0</td>\n",
       "      <td>116.0</td>\n",
       "      <td>133.0</td>\n",
       "      <td>166.0</td>\n",
       "      <td>167.428571</td>\n",
       "      <td>166.0</td>\n",
       "      <td>40.244491</td>\n",
       "    </tr>\n",
       "    <tr>\n",
       "      <th>4413</th>\n",
       "      <td>2018-08-31 21:00:00</td>\n",
       "      <td>159</td>\n",
       "      <td>8</td>\n",
       "      <td>31</td>\n",
       "      <td>4</td>\n",
       "      <td>21</td>\n",
       "      <td>154.0</td>\n",
       "      <td>136.0</td>\n",
       "      <td>207.0</td>\n",
       "      <td>217.0</td>\n",
       "      <td>197.0</td>\n",
       "      <td>116.0</td>\n",
       "      <td>133.0</td>\n",
       "      <td>165.714286</td>\n",
       "      <td>154.0</td>\n",
       "      <td>40.569752</td>\n",
       "    </tr>\n",
       "    <tr>\n",
       "      <th>4414</th>\n",
       "      <td>2018-08-31 22:00:00</td>\n",
       "      <td>223</td>\n",
       "      <td>8</td>\n",
       "      <td>31</td>\n",
       "      <td>4</td>\n",
       "      <td>22</td>\n",
       "      <td>159.0</td>\n",
       "      <td>154.0</td>\n",
       "      <td>136.0</td>\n",
       "      <td>207.0</td>\n",
       "      <td>217.0</td>\n",
       "      <td>197.0</td>\n",
       "      <td>116.0</td>\n",
       "      <td>169.428571</td>\n",
       "      <td>159.0</td>\n",
       "      <td>38.196235</td>\n",
       "    </tr>\n",
       "    <tr>\n",
       "      <th>4415</th>\n",
       "      <td>2018-08-31 23:00:00</td>\n",
       "      <td>205</td>\n",
       "      <td>8</td>\n",
       "      <td>31</td>\n",
       "      <td>4</td>\n",
       "      <td>23</td>\n",
       "      <td>223.0</td>\n",
       "      <td>159.0</td>\n",
       "      <td>154.0</td>\n",
       "      <td>136.0</td>\n",
       "      <td>207.0</td>\n",
       "      <td>217.0</td>\n",
       "      <td>197.0</td>\n",
       "      <td>184.714286</td>\n",
       "      <td>197.0</td>\n",
       "      <td>34.480498</td>\n",
       "    </tr>\n",
       "  </tbody>\n",
       "</table>\n",
       "<p>4416 rows × 16 columns</p>\n",
       "</div>"
      ],
      "text/plain": [
       "                datetime  num_orders  month  day  dayoftheweek  hour  lag_1  \\\n",
       "0    2018-03-01 00:00:00         124      3    1             3     0      0   \n",
       "1    2018-03-01 01:00:00          85      3    1             3     1  124.0   \n",
       "2    2018-03-01 02:00:00          71      3    1             3     2   85.0   \n",
       "3    2018-03-01 03:00:00          66      3    1             3     3   71.0   \n",
       "4    2018-03-01 04:00:00          43      3    1             3     4   66.0   \n",
       "...                  ...         ...    ...  ...           ...   ...    ...   \n",
       "4411 2018-08-31 19:00:00         136      8   31             4    19  207.0   \n",
       "4412 2018-08-31 20:00:00         154      8   31             4    20  136.0   \n",
       "4413 2018-08-31 21:00:00         159      8   31             4    21  154.0   \n",
       "4414 2018-08-31 22:00:00         223      8   31             4    22  159.0   \n",
       "4415 2018-08-31 23:00:00         205      8   31             4    23  223.0   \n",
       "\n",
       "      lag_2  lag_3  lag_4  lag_5  lag_6  lag_7 rolling_mean rolling_median  \\\n",
       "0         0      0      0      0      0      0            0              0   \n",
       "1         0      0      0      0      0      0            0              0   \n",
       "2     124.0      0      0      0      0      0            0              0   \n",
       "3      85.0  124.0      0      0      0      0            0              0   \n",
       "4      71.0   85.0  124.0      0      0      0            0              0   \n",
       "...     ...    ...    ...    ...    ...    ...          ...            ...   \n",
       "4411  217.0  197.0  116.0  133.0  166.0  136.0   167.428571          166.0   \n",
       "4412  207.0  217.0  197.0  116.0  133.0  166.0   167.428571          166.0   \n",
       "4413  136.0  207.0  217.0  197.0  116.0  133.0   165.714286          154.0   \n",
       "4414  154.0  136.0  207.0  217.0  197.0  116.0   169.428571          159.0   \n",
       "4415  159.0  154.0  136.0  207.0  217.0  197.0   184.714286          197.0   \n",
       "\n",
       "     rolling_std  \n",
       "0              0  \n",
       "1              0  \n",
       "2              0  \n",
       "3              0  \n",
       "4              0  \n",
       "...          ...  \n",
       "4411   40.244491  \n",
       "4412   40.244491  \n",
       "4413   40.569752  \n",
       "4414   38.196235  \n",
       "4415   34.480498  \n",
       "\n",
       "[4416 rows x 16 columns]"
      ]
     },
     "execution_count": 8,
     "metadata": {},
     "output_type": "execute_result"
    }
   ],
   "source": [
    "datahour = data.copy()\n",
    "datahour.set_index('datetime', inplace=True)\n",
    "datahour = datahour.resample('1H').sum()\n",
    "\n",
    "def data2(data, dt_field, target, max_lag=1, rolling_window=1):\n",
    "    data['month'] = data.index.month\n",
    "    data['day'] = data.index.day\n",
    "    data['dayoftheweek'] = data.index.dayofweek\n",
    "    data['hour'] = data.index.hour\n",
    "    \n",
    "    for lag in range(1, max_lag+1):\n",
    "        data['lag_{}'.format(str(lag))] = data[target].shift(lag)\n",
    "    \n",
    "    data['rolling_mean'] = data[target].shift().rolling(rolling_window).mean()\n",
    "    data['rolling_median'] = data[target].shift().rolling(rolling_window).median()\n",
    "    data['rolling_std'] = data[target].shift().rolling(rolling_window).std()\n",
    "    \n",
    "data2(datahour, 'datetime', 'num_orders', max_lag=7, rolling_window=7)\n",
    "\n",
    "datahour2 = datahour.copy()\n",
    "\n",
    "datahour = datahour.fillna('0')\n",
    "\n",
    "\n",
    "datahour.reset_index(inplace=True)\n",
    "\n",
    "datahour"
   ]
  },
  {
   "cell_type": "code",
   "execution_count": 9,
   "metadata": {},
   "outputs": [],
   "source": [
    "change = ['lag_1', 'lag_2', 'lag_3', 'lag_4', 'lag_5', 'lag_6', 'lag_7','rolling_median']\n",
    "datahour[change] = datahour[change].astype('float')\n",
    "\n",
    "changes = ['rolling_mean','rolling_std']\n",
    "datahour[changes] = datahour[changes].astype('float')\n"
   ]
  },
  {
   "cell_type": "code",
   "execution_count": 10,
   "metadata": {},
   "outputs": [],
   "source": [
    "change = ['lag_1', 'lag_2', 'lag_3', 'lag_4', 'lag_5', 'lag_6', 'lag_7','rolling_median']\n",
    "datahour[change] = datahour[change].astype('Int16')\n"
   ]
  },
  {
   "cell_type": "code",
   "execution_count": 11,
   "metadata": {},
   "outputs": [
    {
     "name": "stdout",
     "output_type": "stream",
     "text": [
      "<class 'pandas.core.frame.DataFrame'>\n",
      "RangeIndex: 4416 entries, 0 to 4415\n",
      "Data columns (total 16 columns):\n",
      " #   Column          Non-Null Count  Dtype         \n",
      "---  ------          --------------  -----         \n",
      " 0   datetime        4416 non-null   datetime64[ns]\n",
      " 1   num_orders      4416 non-null   int64         \n",
      " 2   month           4416 non-null   int64         \n",
      " 3   day             4416 non-null   int64         \n",
      " 4   dayoftheweek    4416 non-null   int64         \n",
      " 5   hour            4416 non-null   int64         \n",
      " 6   lag_1           4416 non-null   Int16         \n",
      " 7   lag_2           4416 non-null   Int16         \n",
      " 8   lag_3           4416 non-null   Int16         \n",
      " 9   lag_4           4416 non-null   Int16         \n",
      " 10  lag_5           4416 non-null   Int16         \n",
      " 11  lag_6           4416 non-null   Int16         \n",
      " 12  lag_7           4416 non-null   Int16         \n",
      " 13  rolling_mean    4416 non-null   float64       \n",
      " 14  rolling_median  4416 non-null   Int16         \n",
      " 15  rolling_std     4416 non-null   float64       \n",
      "dtypes: Int16(8), datetime64[ns](1), float64(2), int64(5)\n",
      "memory usage: 379.6 KB\n"
     ]
    }
   ],
   "source": [
    "datahour.info()"
   ]
  },
  {
   "cell_type": "code",
   "execution_count": 12,
   "metadata": {
    "scrolled": true
   },
   "outputs": [
    {
     "data": {
      "text/plain": [
       "<Figure size 480x480 with 0 Axes>"
      ]
     },
     "metadata": {},
     "output_type": "display_data"
    },
    {
     "data": {
      "image/png": "[encoded data removed]",
      "text/plain": [
       "<Figure size 432x432 with 32 Axes>"
      ]
     },
     "metadata": {
      "needs_background": "light"
     },
     "output_type": "display_data"
    }
   ],
   "source": [
    "plt.figure(figsize=(6,6), dpi= 80)\n",
    "\n",
    "fig, axes = joypy.joyplot(datahour, column=['num_orders'], by=\"day\", ylim='own', figsize=(6,6),range_style='own', colormap=plt.cm.viridis,fade='True')\n",
    "\n",
    "plt.title('Order Density by Day', fontsize=15)\n",
    "plt.show()\n",
    "\n"
   ]
  },
  {
   "cell_type": "code",
   "execution_count": 13,
   "metadata": {},
   "outputs": [
    {
     "data": {
      "text/plain": [
       "<Figure size 480x480 with 0 Axes>"
      ]
     },
     "metadata": {},
     "output_type": "display_data"
    },
    {
     "data": {
      "image/png": "[encoded data removed]",
      "text/plain": [
       "<Figure size 432x432 with 7 Axes>"
      ]
     },
     "metadata": {
      "needs_background": "light"
     },
     "output_type": "display_data"
    }
   ],
   "source": [
    "plt.figure(figsize=(6,6), dpi= 80)\n",
    "\n",
    "fig, axes = joypy.joyplot(datahour, column=['num_orders'], by=\"month\", ylim='own', figsize=(6,6),colormap=plt.cm.viridis,fade='True', range_style='own')\n",
    "\n",
    "plt.title('Order Density by Month', fontsize=15)\n",
    "plt.show()\n"
   ]
  },
  {
   "cell_type": "markdown",
   "metadata": {},
   "source": [
    "Here we observe order density by day and by month. We see that there are bumps in orders every 13th, 20th and 27th day. We also observe that from march to september there is a slight but noticiable increase in orders."
   ]
  },
  {
   "cell_type": "code",
   "execution_count": 14,
   "metadata": {},
   "outputs": [
    {
     "data": {
      "image/png": "[encoded data removed]",
      "text/plain": [
       "<Figure size 960x480 with 1 Axes>"
      ]
     },
     "metadata": {
      "needs_background": "light"
     },
     "output_type": "display_data"
    }
   ],
   "source": [
    "plt.figure(figsize=(16,8), dpi= 60)\n",
    "plt.plot('datetime', 'num_orders', data=datahour, color='tab:green')\n",
    "\n",
    "plt.title(\"Number of Orders (3/2018 - 9/2018)\", fontsize=15)\n",
    "plt.xlabel('Month')\n",
    "plt.ylabel('Number of Orders')\n",
    "plt.show()"
   ]
  },
  {
   "cell_type": "markdown",
   "metadata": {},
   "source": [
    "This graph shows that the number of orders increased in volume relative with time. Highs all occuring in august and september."
   ]
  },
  {
   "cell_type": "markdown",
   "metadata": {},
   "source": [
    "## Training"
   ]
  },
  {
   "cell_type": "code",
   "execution_count": 15,
   "metadata": {},
   "outputs": [
    {
     "data": {
      "text/html": [
       "<div>\n",
       "<style scoped>\n",
       "    .dataframe tbody tr th:only-of-type {\n",
       "        vertical-align: middle;\n",
       "    }\n",
       "\n",
       "    .dataframe tbody tr th {\n",
       "        vertical-align: top;\n",
       "    }\n",
       "\n",
       "    .dataframe thead th {\n",
       "        text-align: right;\n",
       "    }\n",
       "</style>\n",
       "<table border=\"1\" class=\"dataframe\">\n",
       "  <thead>\n",
       "    <tr style=\"text-align: right;\">\n",
       "      <th></th>\n",
       "      <th>num_orders</th>\n",
       "      <th>month</th>\n",
       "      <th>day</th>\n",
       "      <th>dayoftheweek</th>\n",
       "      <th>hour</th>\n",
       "      <th>lag_1</th>\n",
       "      <th>lag_2</th>\n",
       "      <th>lag_3</th>\n",
       "      <th>lag_4</th>\n",
       "      <th>lag_5</th>\n",
       "      <th>lag_6</th>\n",
       "      <th>lag_7</th>\n",
       "      <th>rolling_mean</th>\n",
       "      <th>rolling_median</th>\n",
       "      <th>rolling_std</th>\n",
       "    </tr>\n",
       "    <tr>\n",
       "      <th>datetime</th>\n",
       "      <th></th>\n",
       "      <th></th>\n",
       "      <th></th>\n",
       "      <th></th>\n",
       "      <th></th>\n",
       "      <th></th>\n",
       "      <th></th>\n",
       "      <th></th>\n",
       "      <th></th>\n",
       "      <th></th>\n",
       "      <th></th>\n",
       "      <th></th>\n",
       "      <th></th>\n",
       "      <th></th>\n",
       "      <th></th>\n",
       "    </tr>\n",
       "  </thead>\n",
       "  <tbody>\n",
       "    <tr>\n",
       "      <th>2018-03-01 00:00:00</th>\n",
       "      <td>124</td>\n",
       "      <td>3</td>\n",
       "      <td>1</td>\n",
       "      <td>3</td>\n",
       "      <td>0</td>\n",
       "      <td>NaN</td>\n",
       "      <td>NaN</td>\n",
       "      <td>NaN</td>\n",
       "      <td>NaN</td>\n",
       "      <td>NaN</td>\n",
       "      <td>NaN</td>\n",
       "      <td>NaN</td>\n",
       "      <td>NaN</td>\n",
       "      <td>NaN</td>\n",
       "      <td>NaN</td>\n",
       "    </tr>\n",
       "    <tr>\n",
       "      <th>2018-03-01 01:00:00</th>\n",
       "      <td>85</td>\n",
       "      <td>3</td>\n",
       "      <td>1</td>\n",
       "      <td>3</td>\n",
       "      <td>1</td>\n",
       "      <td>124.0</td>\n",
       "      <td>NaN</td>\n",
       "      <td>NaN</td>\n",
       "      <td>NaN</td>\n",
       "      <td>NaN</td>\n",
       "      <td>NaN</td>\n",
       "      <td>NaN</td>\n",
       "      <td>NaN</td>\n",
       "      <td>NaN</td>\n",
       "      <td>NaN</td>\n",
       "    </tr>\n",
       "    <tr>\n",
       "      <th>2018-03-01 02:00:00</th>\n",
       "      <td>71</td>\n",
       "      <td>3</td>\n",
       "      <td>1</td>\n",
       "      <td>3</td>\n",
       "      <td>2</td>\n",
       "      <td>85.0</td>\n",
       "      <td>124.0</td>\n",
       "      <td>NaN</td>\n",
       "      <td>NaN</td>\n",
       "      <td>NaN</td>\n",
       "      <td>NaN</td>\n",
       "      <td>NaN</td>\n",
       "      <td>NaN</td>\n",
       "      <td>NaN</td>\n",
       "      <td>NaN</td>\n",
       "    </tr>\n",
       "    <tr>\n",
       "      <th>2018-03-01 03:00:00</th>\n",
       "      <td>66</td>\n",
       "      <td>3</td>\n",
       "      <td>1</td>\n",
       "      <td>3</td>\n",
       "      <td>3</td>\n",
       "      <td>71.0</td>\n",
       "      <td>85.0</td>\n",
       "      <td>124.0</td>\n",
       "      <td>NaN</td>\n",
       "      <td>NaN</td>\n",
       "      <td>NaN</td>\n",
       "      <td>NaN</td>\n",
       "      <td>NaN</td>\n",
       "      <td>NaN</td>\n",
       "      <td>NaN</td>\n",
       "    </tr>\n",
       "    <tr>\n",
       "      <th>2018-03-01 04:00:00</th>\n",
       "      <td>43</td>\n",
       "      <td>3</td>\n",
       "      <td>1</td>\n",
       "      <td>3</td>\n",
       "      <td>4</td>\n",
       "      <td>66.0</td>\n",
       "      <td>71.0</td>\n",
       "      <td>85.0</td>\n",
       "      <td>124.0</td>\n",
       "      <td>NaN</td>\n",
       "      <td>NaN</td>\n",
       "      <td>NaN</td>\n",
       "      <td>NaN</td>\n",
       "      <td>NaN</td>\n",
       "      <td>NaN</td>\n",
       "    </tr>\n",
       "    <tr>\n",
       "      <th>...</th>\n",
       "      <td>...</td>\n",
       "      <td>...</td>\n",
       "      <td>...</td>\n",
       "      <td>...</td>\n",
       "      <td>...</td>\n",
       "      <td>...</td>\n",
       "      <td>...</td>\n",
       "      <td>...</td>\n",
       "      <td>...</td>\n",
       "      <td>...</td>\n",
       "      <td>...</td>\n",
       "      <td>...</td>\n",
       "      <td>...</td>\n",
       "      <td>...</td>\n",
       "      <td>...</td>\n",
       "    </tr>\n",
       "    <tr>\n",
       "      <th>2018-08-31 19:00:00</th>\n",
       "      <td>136</td>\n",
       "      <td>8</td>\n",
       "      <td>31</td>\n",
       "      <td>4</td>\n",
       "      <td>19</td>\n",
       "      <td>207.0</td>\n",
       "      <td>217.0</td>\n",
       "      <td>197.0</td>\n",
       "      <td>116.0</td>\n",
       "      <td>133.0</td>\n",
       "      <td>166.0</td>\n",
       "      <td>136.0</td>\n",
       "      <td>167.428571</td>\n",
       "      <td>166.0</td>\n",
       "      <td>40.244491</td>\n",
       "    </tr>\n",
       "    <tr>\n",
       "      <th>2018-08-31 20:00:00</th>\n",
       "      <td>154</td>\n",
       "      <td>8</td>\n",
       "      <td>31</td>\n",
       "      <td>4</td>\n",
       "      <td>20</td>\n",
       "      <td>136.0</td>\n",
       "      <td>207.0</td>\n",
       "      <td>217.0</td>\n",
       "      <td>197.0</td>\n",
       "      <td>116.0</td>\n",
       "      <td>133.0</td>\n",
       "      <td>166.0</td>\n",
       "      <td>167.428571</td>\n",
       "      <td>166.0</td>\n",
       "      <td>40.244491</td>\n",
       "    </tr>\n",
       "    <tr>\n",
       "      <th>2018-08-31 21:00:00</th>\n",
       "      <td>159</td>\n",
       "      <td>8</td>\n",
       "      <td>31</td>\n",
       "      <td>4</td>\n",
       "      <td>21</td>\n",
       "      <td>154.0</td>\n",
       "      <td>136.0</td>\n",
       "      <td>207.0</td>\n",
       "      <td>217.0</td>\n",
       "      <td>197.0</td>\n",
       "      <td>116.0</td>\n",
       "      <td>133.0</td>\n",
       "      <td>165.714286</td>\n",
       "      <td>154.0</td>\n",
       "      <td>40.569752</td>\n",
       "    </tr>\n",
       "    <tr>\n",
       "      <th>2018-08-31 22:00:00</th>\n",
       "      <td>223</td>\n",
       "      <td>8</td>\n",
       "      <td>31</td>\n",
       "      <td>4</td>\n",
       "      <td>22</td>\n",
       "      <td>159.0</td>\n",
       "      <td>154.0</td>\n",
       "      <td>136.0</td>\n",
       "      <td>207.0</td>\n",
       "      <td>217.0</td>\n",
       "      <td>197.0</td>\n",
       "      <td>116.0</td>\n",
       "      <td>169.428571</td>\n",
       "      <td>159.0</td>\n",
       "      <td>38.196235</td>\n",
       "    </tr>\n",
       "    <tr>\n",
       "      <th>2018-08-31 23:00:00</th>\n",
       "      <td>205</td>\n",
       "      <td>8</td>\n",
       "      <td>31</td>\n",
       "      <td>4</td>\n",
       "      <td>23</td>\n",
       "      <td>223.0</td>\n",
       "      <td>159.0</td>\n",
       "      <td>154.0</td>\n",
       "      <td>136.0</td>\n",
       "      <td>207.0</td>\n",
       "      <td>217.0</td>\n",
       "      <td>197.0</td>\n",
       "      <td>184.714286</td>\n",
       "      <td>197.0</td>\n",
       "      <td>34.480498</td>\n",
       "    </tr>\n",
       "  </tbody>\n",
       "</table>\n",
       "<p>4416 rows × 15 columns</p>\n",
       "</div>"
      ],
      "text/plain": [
       "                     num_orders  month  day  dayoftheweek  hour  lag_1  lag_2  \\\n",
       "datetime                                                                        \n",
       "2018-03-01 00:00:00         124      3    1             3     0    NaN    NaN   \n",
       "2018-03-01 01:00:00          85      3    1             3     1  124.0    NaN   \n",
       "2018-03-01 02:00:00          71      3    1             3     2   85.0  124.0   \n",
       "2018-03-01 03:00:00          66      3    1             3     3   71.0   85.0   \n",
       "2018-03-01 04:00:00          43      3    1             3     4   66.0   71.0   \n",
       "...                         ...    ...  ...           ...   ...    ...    ...   \n",
       "2018-08-31 19:00:00         136      8   31             4    19  207.0  217.0   \n",
       "2018-08-31 20:00:00         154      8   31             4    20  136.0  207.0   \n",
       "2018-08-31 21:00:00         159      8   31             4    21  154.0  136.0   \n",
       "2018-08-31 22:00:00         223      8   31             4    22  159.0  154.0   \n",
       "2018-08-31 23:00:00         205      8   31             4    23  223.0  159.0   \n",
       "\n",
       "                     lag_3  lag_4  lag_5  lag_6  lag_7  rolling_mean  \\\n",
       "datetime                                                               \n",
       "2018-03-01 00:00:00    NaN    NaN    NaN    NaN    NaN           NaN   \n",
       "2018-03-01 01:00:00    NaN    NaN    NaN    NaN    NaN           NaN   \n",
       "2018-03-01 02:00:00    NaN    NaN    NaN    NaN    NaN           NaN   \n",
       "2018-03-01 03:00:00  124.0    NaN    NaN    NaN    NaN           NaN   \n",
       "2018-03-01 04:00:00   85.0  124.0    NaN    NaN    NaN           NaN   \n",
       "...                    ...    ...    ...    ...    ...           ...   \n",
       "2018-08-31 19:00:00  197.0  116.0  133.0  166.0  136.0    167.428571   \n",
       "2018-08-31 20:00:00  217.0  197.0  116.0  133.0  166.0    167.428571   \n",
       "2018-08-31 21:00:00  207.0  217.0  197.0  116.0  133.0    165.714286   \n",
       "2018-08-31 22:00:00  136.0  207.0  217.0  197.0  116.0    169.428571   \n",
       "2018-08-31 23:00:00  154.0  136.0  207.0  217.0  197.0    184.714286   \n",
       "\n",
       "                     rolling_median  rolling_std  \n",
       "datetime                                          \n",
       "2018-03-01 00:00:00             NaN          NaN  \n",
       "2018-03-01 01:00:00             NaN          NaN  \n",
       "2018-03-01 02:00:00             NaN          NaN  \n",
       "2018-03-01 03:00:00             NaN          NaN  \n",
       "2018-03-01 04:00:00             NaN          NaN  \n",
       "...                             ...          ...  \n",
       "2018-08-31 19:00:00           166.0    40.244491  \n",
       "2018-08-31 20:00:00           166.0    40.244491  \n",
       "2018-08-31 21:00:00           154.0    40.569752  \n",
       "2018-08-31 22:00:00           159.0    38.196235  \n",
       "2018-08-31 23:00:00           197.0    34.480498  \n",
       "\n",
       "[4416 rows x 15 columns]"
      ]
     },
     "metadata": {},
     "output_type": "display_data"
    }
   ],
   "source": [
    "display(datahour2)"
   ]
  },
  {
   "cell_type": "code",
   "execution_count": 16,
   "metadata": {},
   "outputs": [],
   "source": [
    "# splitting the data\n",
    "\n",
    "\n",
    "X = datahour2.drop('num_orders', axis=1)\n",
    "y = datahour2['num_orders']\n",
    "\n",
    "X_train, X_test, y_train, y_test = train_test_split(X, y, test_size=0.1, shuffle=False)"
   ]
  },
  {
   "cell_type": "code",
   "execution_count": 17,
   "metadata": {},
   "outputs": [],
   "source": [
    "tscv = TimeSeriesSplit()\n"
   ]
  },
  {
   "cell_type": "code",
   "execution_count": 18,
   "metadata": {},
   "outputs": [],
   "source": [
    "# standard scaling\n",
    "sc = ss()\n",
    "X_train = sc.fit_transform(X_train)\n",
    "X_test = sc.transform(X_test)"
   ]
  },
  {
   "cell_type": "code",
   "execution_count": 19,
   "metadata": {},
   "outputs": [],
   "source": [
    "# rmse\n",
    "def rmse(actual, predict):\n",
    "    predict = np.array(predict)\n",
    "    actual = np.array(actual)\n",
    "\n",
    "    distance = predict - actual\n",
    "\n",
    "    square_distance = distance ** 2\n",
    "\n",
    "    mean_square_distance = square_distance.mean()\n",
    "\n",
    "    score = np.sqrt(mean_square_distance)\n",
    "\n",
    "    return score\n",
    "\n",
    "rmse_scorer = make_scorer(rmse, greater_is_better = False)"
   ]
  },
  {
   "cell_type": "code",
   "execution_count": 21,
   "metadata": {},
   "outputs": [
    {
     "data": {
      "text/plain": [
       "26.443438089719997"
      ]
     },
     "execution_count": 21,
     "metadata": {},
     "output_type": "execute_result"
    }
   ],
   "source": [
    "XGB = XGBRegressor(n_jobs=-1, random_state=12345)\n",
    "XGB_base = np.mean(abs(cross_val_score(XGB,  X_train, y_train, cv=tscv, scoring = rmse_scorer)))\n",
    "XGB_base"
   ]
  },
  {
   "cell_type": "code",
   "execution_count": 22,
   "metadata": {},
   "outputs": [
    {
     "data": {
      "text/plain": [
       "25.159293380456806"
      ]
     },
     "execution_count": 22,
     "metadata": {},
     "output_type": "execute_result"
    }
   ],
   "source": [
    "CB = cat(verbose=0, loss_function=\"RMSE\", random_state=12345)\n",
    "CB_base = np.mean(abs(cross_val_score(CB,  X_train, y_train, cv=tscv, scoring = rmse_scorer)))\n",
    "CB_base"
   ]
  },
  {
   "cell_type": "code",
   "execution_count": 23,
   "metadata": {},
   "outputs": [
    {
     "data": {
      "text/plain": [
       "25.34173814194568"
      ]
     },
     "execution_count": 23,
     "metadata": {},
     "output_type": "execute_result"
    }
   ],
   "source": [
    "LGB = LGBMRegressor(random_state=12345)\n",
    "LGB_base = np.mean(abs(cross_val_score(LGB,  X_train, y_train, cv=tscv, scoring = rmse_scorer)))\n",
    "LGB_base"
   ]
  },
  {
   "cell_type": "markdown",
   "metadata": {},
   "source": [
    "Catboost performs slightly better than the LGBM Regressor model so we will run it on the test set to see if it performs well."
   ]
  },
  {
   "cell_type": "markdown",
   "metadata": {},
   "source": [
    "## Testing"
   ]
  },
  {
   "cell_type": "code",
   "execution_count": 24,
   "metadata": {},
   "outputs": [
    {
     "data": {
      "text/plain": [
       "43.646199107761646"
      ]
     },
     "execution_count": 24,
     "metadata": {},
     "output_type": "execute_result"
    }
   ],
   "source": [
    "CB = cat(verbose=0, loss_function=\"RMSE\", random_state=12345)\n",
    "CB.fit(X_train, y_train)\n",
    "\n",
    "y_pred_test = CB.predict(X_test)\n",
    "CB_test_score = rmse(y_test, y_pred_test)\n",
    "CB_test_score"
   ]
  },
  {
   "cell_type": "markdown",
   "metadata": {},
   "source": [
    "We run the catboost model on the test set and the rmse is less than 48."
   ]
  }
 ],
 "metadata": {
  "kernelspec": {
   "display_name": "Python 3 (ipykernel)",
   "language": "python",
   "name": "python3"
  },
  "language_info": {
   "codemirror_mode": {
    "name": "ipython",
    "version": 3
   },
   "file_extension": ".py",
   "mimetype": "text/x-python",
   "name": "python",
   "nbconvert_exporter": "python",
   "pygments_lexer": "ipython3",
   "version": "3.9.5"
  },
  "toc": {
   "base_numbering": 1,
   "nav_menu": {},
   "number_sections": true,
   "sideBar": true,
   "skip_h1_title": true,
   "title_cell": "Table of Contents",
   "title_sidebar": "Contents",
   "toc_cell": false,
   "toc_position": {},
   "toc_section_display": true,
   "toc_window_display": false
  }
 },
 "nbformat": 4,
 "nbformat_minor": 2
}
