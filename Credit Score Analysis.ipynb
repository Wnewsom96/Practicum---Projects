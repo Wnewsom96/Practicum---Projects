{
 "cells": [
  {
   "cell_type": "markdown",
   "metadata": {},
   "source": [
    "# Analyzing borrowers’ risk of defaulting\n",
    "\n",
    "Your project is to prepare a report for a bank’s loan division. You’ll need to find out if a customer’s marital status and number of children has an impact on whether they will default on a loan. The bank already has some data on customers’ credit worthiness.\n",
    "\n",
    "Your report will be considered when building the **credit score** of a potential customer. The **credit score** is used to evaluate the ability of a potential borrower to repay their loan.\n",
    "\n"
   ]
  },
  {
   "cell_type": "markdown",
   "metadata": {},
   "source": [
    "## Open the data file and have a look at the general information. \n"
   ]
  },
  {
   "cell_type": "code",
   "execution_count": 1,
   "metadata": {},
   "outputs": [],
   "source": [
    "# Loading all the libraries\n",
    "import pandas as pd\n",
    "import numpy as np"
   ]
  },
  {
   "cell_type": "code",
   "execution_count": 2,
   "metadata": {},
   "outputs": [
    {
     "data": {
      "text/html": [
       "<div>\n",
       "<style scoped>\n",
       "    .dataframe tbody tr th:only-of-type {\n",
       "        vertical-align: middle;\n",
       "    }\n",
       "\n",
       "    .dataframe tbody tr th {\n",
       "        vertical-align: top;\n",
       "    }\n",
       "\n",
       "    .dataframe thead th {\n",
       "        text-align: right;\n",
       "    }\n",
       "</style>\n",
       "<table border=\"1\" class=\"dataframe\">\n",
       "  <thead>\n",
       "    <tr style=\"text-align: right;\">\n",
       "      <th></th>\n",
       "      <th>children</th>\n",
       "      <th>days_employed</th>\n",
       "      <th>dob_years</th>\n",
       "      <th>education</th>\n",
       "      <th>education_id</th>\n",
       "      <th>family_status</th>\n",
       "      <th>family_status_id</th>\n",
       "      <th>gender</th>\n",
       "      <th>income_type</th>\n",
       "      <th>debt</th>\n",
       "      <th>total_income</th>\n",
       "      <th>purpose</th>\n",
       "    </tr>\n",
       "  </thead>\n",
       "  <tbody>\n",
       "    <tr>\n",
       "      <th>0</th>\n",
       "      <td>1</td>\n",
       "      <td>-8437.673028</td>\n",
       "      <td>42</td>\n",
       "      <td>bachelor's degree</td>\n",
       "      <td>0</td>\n",
       "      <td>married</td>\n",
       "      <td>0</td>\n",
       "      <td>F</td>\n",
       "      <td>employee</td>\n",
       "      <td>0</td>\n",
       "      <td>40620.102</td>\n",
       "      <td>purchase of the house</td>\n",
       "    </tr>\n",
       "    <tr>\n",
       "      <th>1</th>\n",
       "      <td>1</td>\n",
       "      <td>-4024.803754</td>\n",
       "      <td>36</td>\n",
       "      <td>secondary education</td>\n",
       "      <td>1</td>\n",
       "      <td>married</td>\n",
       "      <td>0</td>\n",
       "      <td>F</td>\n",
       "      <td>employee</td>\n",
       "      <td>0</td>\n",
       "      <td>17932.802</td>\n",
       "      <td>car purchase</td>\n",
       "    </tr>\n",
       "    <tr>\n",
       "      <th>2</th>\n",
       "      <td>0</td>\n",
       "      <td>-5623.422610</td>\n",
       "      <td>33</td>\n",
       "      <td>Secondary Education</td>\n",
       "      <td>1</td>\n",
       "      <td>married</td>\n",
       "      <td>0</td>\n",
       "      <td>M</td>\n",
       "      <td>employee</td>\n",
       "      <td>0</td>\n",
       "      <td>23341.752</td>\n",
       "      <td>purchase of the house</td>\n",
       "    </tr>\n",
       "    <tr>\n",
       "      <th>3</th>\n",
       "      <td>3</td>\n",
       "      <td>-4124.747207</td>\n",
       "      <td>32</td>\n",
       "      <td>secondary education</td>\n",
       "      <td>1</td>\n",
       "      <td>married</td>\n",
       "      <td>0</td>\n",
       "      <td>M</td>\n",
       "      <td>employee</td>\n",
       "      <td>0</td>\n",
       "      <td>42820.568</td>\n",
       "      <td>supplementary education</td>\n",
       "    </tr>\n",
       "    <tr>\n",
       "      <th>4</th>\n",
       "      <td>0</td>\n",
       "      <td>340266.072047</td>\n",
       "      <td>53</td>\n",
       "      <td>secondary education</td>\n",
       "      <td>1</td>\n",
       "      <td>civil partnership</td>\n",
       "      <td>1</td>\n",
       "      <td>F</td>\n",
       "      <td>retiree</td>\n",
       "      <td>0</td>\n",
       "      <td>25378.572</td>\n",
       "      <td>to have a wedding</td>\n",
       "    </tr>\n",
       "    <tr>\n",
       "      <th>...</th>\n",
       "      <td>...</td>\n",
       "      <td>...</td>\n",
       "      <td>...</td>\n",
       "      <td>...</td>\n",
       "      <td>...</td>\n",
       "      <td>...</td>\n",
       "      <td>...</td>\n",
       "      <td>...</td>\n",
       "      <td>...</td>\n",
       "      <td>...</td>\n",
       "      <td>...</td>\n",
       "      <td>...</td>\n",
       "    </tr>\n",
       "    <tr>\n",
       "      <th>21520</th>\n",
       "      <td>1</td>\n",
       "      <td>-4529.316663</td>\n",
       "      <td>43</td>\n",
       "      <td>secondary education</td>\n",
       "      <td>1</td>\n",
       "      <td>civil partnership</td>\n",
       "      <td>1</td>\n",
       "      <td>F</td>\n",
       "      <td>business</td>\n",
       "      <td>0</td>\n",
       "      <td>35966.698</td>\n",
       "      <td>housing transactions</td>\n",
       "    </tr>\n",
       "    <tr>\n",
       "      <th>21521</th>\n",
       "      <td>0</td>\n",
       "      <td>343937.404131</td>\n",
       "      <td>67</td>\n",
       "      <td>secondary education</td>\n",
       "      <td>1</td>\n",
       "      <td>married</td>\n",
       "      <td>0</td>\n",
       "      <td>F</td>\n",
       "      <td>retiree</td>\n",
       "      <td>0</td>\n",
       "      <td>24959.969</td>\n",
       "      <td>purchase of a car</td>\n",
       "    </tr>\n",
       "    <tr>\n",
       "      <th>21522</th>\n",
       "      <td>1</td>\n",
       "      <td>-2113.346888</td>\n",
       "      <td>38</td>\n",
       "      <td>secondary education</td>\n",
       "      <td>1</td>\n",
       "      <td>civil partnership</td>\n",
       "      <td>1</td>\n",
       "      <td>M</td>\n",
       "      <td>employee</td>\n",
       "      <td>1</td>\n",
       "      <td>14347.610</td>\n",
       "      <td>property</td>\n",
       "    </tr>\n",
       "    <tr>\n",
       "      <th>21523</th>\n",
       "      <td>3</td>\n",
       "      <td>-3112.481705</td>\n",
       "      <td>38</td>\n",
       "      <td>secondary education</td>\n",
       "      <td>1</td>\n",
       "      <td>married</td>\n",
       "      <td>0</td>\n",
       "      <td>M</td>\n",
       "      <td>employee</td>\n",
       "      <td>1</td>\n",
       "      <td>39054.888</td>\n",
       "      <td>buying my own car</td>\n",
       "    </tr>\n",
       "    <tr>\n",
       "      <th>21524</th>\n",
       "      <td>2</td>\n",
       "      <td>-1984.507589</td>\n",
       "      <td>40</td>\n",
       "      <td>secondary education</td>\n",
       "      <td>1</td>\n",
       "      <td>married</td>\n",
       "      <td>0</td>\n",
       "      <td>F</td>\n",
       "      <td>employee</td>\n",
       "      <td>0</td>\n",
       "      <td>13127.587</td>\n",
       "      <td>to buy a car</td>\n",
       "    </tr>\n",
       "  </tbody>\n",
       "</table>\n",
       "<p>21525 rows × 12 columns</p>\n",
       "</div>"
      ],
      "text/plain": [
       "       children  days_employed  dob_years            education  education_id  \\\n",
       "0             1   -8437.673028         42    bachelor's degree             0   \n",
       "1             1   -4024.803754         36  secondary education             1   \n",
       "2             0   -5623.422610         33  Secondary Education             1   \n",
       "3             3   -4124.747207         32  secondary education             1   \n",
       "4             0  340266.072047         53  secondary education             1   \n",
       "...         ...            ...        ...                  ...           ...   \n",
       "21520         1   -4529.316663         43  secondary education             1   \n",
       "21521         0  343937.404131         67  secondary education             1   \n",
       "21522         1   -2113.346888         38  secondary education             1   \n",
       "21523         3   -3112.481705         38  secondary education             1   \n",
       "21524         2   -1984.507589         40  secondary education             1   \n",
       "\n",
       "           family_status  family_status_id gender income_type  debt  \\\n",
       "0                married                 0      F    employee     0   \n",
       "1                married                 0      F    employee     0   \n",
       "2                married                 0      M    employee     0   \n",
       "3                married                 0      M    employee     0   \n",
       "4      civil partnership                 1      F     retiree     0   \n",
       "...                  ...               ...    ...         ...   ...   \n",
       "21520  civil partnership                 1      F    business     0   \n",
       "21521            married                 0      F     retiree     0   \n",
       "21522  civil partnership                 1      M    employee     1   \n",
       "21523            married                 0      M    employee     1   \n",
       "21524            married                 0      F    employee     0   \n",
       "\n",
       "       total_income                  purpose  \n",
       "0         40620.102    purchase of the house  \n",
       "1         17932.802             car purchase  \n",
       "2         23341.752    purchase of the house  \n",
       "3         42820.568  supplementary education  \n",
       "4         25378.572        to have a wedding  \n",
       "...             ...                      ...  \n",
       "21520     35966.698     housing transactions  \n",
       "21521     24959.969        purchase of a car  \n",
       "21522     14347.610                 property  \n",
       "21523     39054.888        buying my own car  \n",
       "21524     13127.587             to buy a car  \n",
       "\n",
       "[21525 rows x 12 columns]"
      ]
     },
     "metadata": {},
     "output_type": "display_data"
    }
   ],
   "source": [
    "# Load the data\n",
    "df = pd.read_csv('/datasets/credit_scoring_eng.csv')\n",
    "\n",
    "display(df)"
   ]
  },
  {
   "cell_type": "markdown",
   "metadata": {},
   "source": [
    "## Task 1. Data exploration\n",
    "\n",
    "**Description of the data**\n",
    "- `children` - the number of children in the family\n",
    "- `days_employed` - work experience in days\n",
    "- `dob_years` - client's age in years\n",
    "- `education` - client's education\n",
    "- `education_id` - education identifier\n",
    "- `family_status` - marital status\n",
    "- `family_status_id` - marital status identifier\n",
    "- `gender` - gender of the client\n",
    "- `income_type` - type of employment\n",
    "- `debt` - was there any debt on loan repayment\n",
    "- `total_income` - monthly income\n",
    "- `purpose` - the purpose of obtaining a loan\n",
    "\n",
    "[Now let's explore our data. You'll want to see how many columns and rows it has, look at a few rows to check for potential issues with the data.]"
   ]
  },
  {
   "cell_type": "code",
   "execution_count": 3,
   "metadata": {},
   "outputs": [
    {
     "data": {
      "text/plain": [
       "(21525, 12)"
      ]
     },
     "execution_count": 3,
     "metadata": {},
     "output_type": "execute_result"
    }
   ],
   "source": [
    "# Let's see how many rows and columns our dataset has\n",
    "\n",
    "df.shape"
   ]
  },
  {
   "cell_type": "code",
   "execution_count": 4,
   "metadata": {
    "scrolled": true
   },
   "outputs": [
    {
     "name": "stdout",
     "output_type": "stream",
     "text": [
      "   children  days_employed  dob_years            education  education_id  \\\n",
      "0         1   -8437.673028         42    bachelor's degree             0   \n",
      "1         1   -4024.803754         36  secondary education             1   \n",
      "2         0   -5623.422610         33  Secondary Education             1   \n",
      "3         3   -4124.747207         32  secondary education             1   \n",
      "4         0  340266.072047         53  secondary education             1   \n",
      "\n",
      "       family_status  family_status_id gender income_type  debt  total_income  \\\n",
      "0            married                 0      F    employee     0     40620.102   \n",
      "1            married                 0      F    employee     0     17932.802   \n",
      "2            married                 0      M    employee     0     23341.752   \n",
      "3            married                 0      M    employee     0     42820.568   \n",
      "4  civil partnership                 1      F     retiree     0     25378.572   \n",
      "\n",
      "                   purpose  \n",
      "0    purchase of the house  \n",
      "1             car purchase  \n",
      "2    purchase of the house  \n",
      "3  supplementary education  \n",
      "4        to have a wedding  \n"
     ]
    }
   ],
   "source": [
    "# let's print the first N rows\n",
    "\n",
    "print(df.head())"
   ]
  },
  {
   "cell_type": "code",
   "execution_count": 5,
   "metadata": {
    "scrolled": false
   },
   "outputs": [
    {
     "name": "stdout",
     "output_type": "stream",
     "text": [
      "<class 'pandas.core.frame.DataFrame'>\n",
      "RangeIndex: 21525 entries, 0 to 21524\n",
      "Data columns (total 12 columns):\n",
      " #   Column            Non-Null Count  Dtype  \n",
      "---  ------            --------------  -----  \n",
      " 0   children          21525 non-null  int64  \n",
      " 1   days_employed     19351 non-null  float64\n",
      " 2   dob_years         21525 non-null  int64  \n",
      " 3   education         21525 non-null  object \n",
      " 4   education_id      21525 non-null  int64  \n",
      " 5   family_status     21525 non-null  object \n",
      " 6   family_status_id  21525 non-null  int64  \n",
      " 7   gender            21525 non-null  object \n",
      " 8   income_type       21525 non-null  object \n",
      " 9   debt              21525 non-null  int64  \n",
      " 10  total_income      19351 non-null  float64\n",
      " 11  purpose           21525 non-null  object \n",
      "dtypes: float64(2), int64(5), object(5)\n",
      "memory usage: 2.0+ MB\n"
     ]
    }
   ],
   "source": [
    "# Get info on data\n",
    "df.info()"
   ]
  },
  {
   "cell_type": "markdown",
   "metadata": {},
   "source": [
    "[Are there missing values across all columns or just a few? Briefly describe what you see in 1-2 sentences.]\n",
    "\n",
    "Days Employed & Total Income are missing data. They both have 19351 values when they should be 21525.\n",
    "\n"
   ]
  },
  {
   "cell_type": "code",
   "execution_count": 6,
   "metadata": {
    "scrolled": true
   },
   "outputs": [
    {
     "name": "stdout",
     "output_type": "stream",
     "text": [
      "       children  days_employed  dob_years            education  education_id  \\\n",
      "0             1   -8437.673028         42    bachelor's degree             0   \n",
      "1             1   -4024.803754         36  secondary education             1   \n",
      "2             0   -5623.422610         33  Secondary Education             1   \n",
      "3             3   -4124.747207         32  secondary education             1   \n",
      "4             0  340266.072047         53  secondary education             1   \n",
      "...         ...            ...        ...                  ...           ...   \n",
      "21520         1   -4529.316663         43  secondary education             1   \n",
      "21521         0  343937.404131         67  secondary education             1   \n",
      "21522         1   -2113.346888         38  secondary education             1   \n",
      "21523         3   -3112.481705         38  secondary education             1   \n",
      "21524         2   -1984.507589         40  secondary education             1   \n",
      "\n",
      "           family_status  family_status_id gender income_type  debt  \\\n",
      "0                married                 0      F    employee     0   \n",
      "1                married                 0      F    employee     0   \n",
      "2                married                 0      M    employee     0   \n",
      "3                married                 0      M    employee     0   \n",
      "4      civil partnership                 1      F     retiree     0   \n",
      "...                  ...               ...    ...         ...   ...   \n",
      "21520  civil partnership                 1      F    business     0   \n",
      "21521            married                 0      F     retiree     0   \n",
      "21522  civil partnership                 1      M    employee     1   \n",
      "21523            married                 0      M    employee     1   \n",
      "21524            married                 0      F    employee     0   \n",
      "\n",
      "       total_income                  purpose  \n",
      "0         40620.102    purchase of the house  \n",
      "1         17932.802             car purchase  \n",
      "2         23341.752    purchase of the house  \n",
      "3         42820.568  supplementary education  \n",
      "4         25378.572        to have a wedding  \n",
      "...             ...                      ...  \n",
      "21520     35966.698     housing transactions  \n",
      "21521     24959.969        purchase of a car  \n",
      "21522     14347.610                 property  \n",
      "21523     39054.888        buying my own car  \n",
      "21524     13127.587             to buy a car  \n",
      "\n",
      "[21525 rows x 12 columns]\n",
      "(2174, 12)\n"
     ]
    }
   ],
   "source": [
    "# Let's look at the filtered table with missing values in the the first column with missing data\n",
    "miss_data = df['days_employed'].value_counts(dropna=False)\n",
    "# miss_data=df.isna().sum()\n",
    "print(df)\n",
    "\n",
    "print(df[df['days_employed'].isnull() &  df['total_income'].isnull()].shape)\n",
    "\n"
   ]
  },
  {
   "cell_type": "code",
   "execution_count": 7,
   "metadata": {},
   "outputs": [
    {
     "name": "stdout",
     "output_type": "stream",
     "text": [
      "(2174, 2)\n"
     ]
    }
   ],
   "source": [
    "# Let's apply multiple conditions for filtering data and look at the number of rows in the filtered table\n",
    "\n",
    "\n",
    "miss_data= df[df['days_employed'].isna() & df['total_income'].isna()][['total_income', 'days_employed']].shape\n",
    "                 \n",
    "print(miss_data)\n",
    "\n"
   ]
  },
  {
   "cell_type": "code",
   "execution_count": 8,
   "metadata": {},
   "outputs": [
    {
     "name": "stdout",
     "output_type": "stream",
     "text": [
      "       children  days_employed  dob_years            education  education_id  \\\n",
      "12            0            NaN         65  secondary education             1   \n",
      "26            0            NaN         41  secondary education             1   \n",
      "29            0            NaN         63  secondary education             1   \n",
      "41            0            NaN         50  secondary education             1   \n",
      "55            0            NaN         54  secondary education             1   \n",
      "...         ...            ...        ...                  ...           ...   \n",
      "21489         2            NaN         47  Secondary Education             1   \n",
      "21495         1            NaN         50  secondary education             1   \n",
      "21497         0            NaN         48    BACHELOR'S DEGREE             0   \n",
      "21502         1            NaN         42  secondary education             1   \n",
      "21510         2            NaN         28  secondary education             1   \n",
      "\n",
      "           family_status  family_status_id gender    income_type  debt  \\\n",
      "12     civil partnership                 1      M        retiree     0   \n",
      "26               married                 0      M  civil servant     0   \n",
      "29             unmarried                 4      F        retiree     0   \n",
      "41               married                 0      F  civil servant     0   \n",
      "55     civil partnership                 1      F        retiree     1   \n",
      "...                  ...               ...    ...            ...   ...   \n",
      "21489            married                 0      M       business     0   \n",
      "21495  civil partnership                 1      F       employee     0   \n",
      "21497            married                 0      F       business     0   \n",
      "21502            married                 0      F       employee     0   \n",
      "21510            married                 0      F       employee     0   \n",
      "\n",
      "       total_income                   purpose  \n",
      "12              NaN         to have a wedding  \n",
      "26              NaN                 education  \n",
      "29              NaN    building a real estate  \n",
      "41              NaN  second-hand car purchase  \n",
      "55              NaN         to have a wedding  \n",
      "...             ...                       ...  \n",
      "21489           NaN         purchase of a car  \n",
      "21495           NaN          wedding ceremony  \n",
      "21497           NaN       building a property  \n",
      "21502           NaN    building a real estate  \n",
      "21510           NaN              car purchase  \n",
      "\n",
      "[2174 rows x 12 columns]\n"
     ]
    }
   ],
   "source": [
    "# Let's investigate clients who do not have data on identified characteristic and the column with the missing values\n",
    "df_nan = df[df['days_employed'].isna()]\n",
    "print(df_nan)"
   ]
  },
  {
   "cell_type": "code",
   "execution_count": 9,
   "metadata": {},
   "outputs": [
    {
     "name": "stdout",
     "output_type": "stream",
     "text": [
      "employee         0.508280\n",
      "business         0.233671\n",
      "retiree          0.189972\n",
      "civil servant    0.067617\n",
      "entrepreneur     0.000460\n",
      "Name: income_type, dtype: float64\n",
      "employee                       0.516562\n",
      "business                       0.236237\n",
      "retiree                        0.179141\n",
      "civil servant                  0.067782\n",
      "unemployed                     0.000093\n",
      "entrepreneur                   0.000093\n",
      "student                        0.000046\n",
      "paternity / maternity leave    0.000046\n",
      "Name: income_type, dtype: float64\n"
     ]
    }
   ],
   "source": [
    "# Checking distribution\n",
    "\n",
    "print(df_nan['income_type'].value_counts(normalize = True))\n",
    "\n",
    "print(df['income_type'].value_counts(normalize = True))\n"
   ]
  },
  {
   "cell_type": "code",
   "execution_count": 10,
   "metadata": {
    "scrolled": true
   },
   "outputs": [
    {
     "name": "stdout",
     "output_type": "stream",
     "text": [
      "wedding ceremony                            0.037027\n",
      "having a wedding                            0.036098\n",
      "to have a wedding                           0.035958\n",
      "real estate transactions                    0.031405\n",
      "buy commercial real estate                  0.030848\n",
      "housing transactions                        0.030337\n",
      "buying property for renting out             0.030337\n",
      "transactions with commercial real estate    0.030244\n",
      "housing                                     0.030058\n",
      "purchase of the house                       0.030058\n",
      "purchase of the house for my family         0.029779\n",
      "construction of own property                0.029501\n",
      "property                                    0.029454\n",
      "transactions with my real estate            0.029268\n",
      "building a real estate                      0.029082\n",
      "buy real estate                             0.028990\n",
      "building a property                         0.028804\n",
      "purchase of my own house                    0.028804\n",
      "housing renovation                          0.028432\n",
      "buy residential real estate                 0.028200\n",
      "buying my own car                           0.023461\n",
      "going to university                         0.023043\n",
      "car                                         0.022997\n",
      "second-hand car purchase                    0.022718\n",
      "to own a car                                0.022300\n",
      "buying a second-hand car                    0.022253\n",
      "cars                                        0.022207\n",
      "to buy a car                                0.021928\n",
      "supplementary education                     0.021463\n",
      "car purchase                                0.021463\n",
      "purchase of a car                           0.021138\n",
      "university education                        0.021045\n",
      "education                                   0.020767\n",
      "to get a supplementary education            0.020767\n",
      "getting an education                        0.020581\n",
      "profile education                           0.020256\n",
      "getting higher education                    0.019791\n",
      "to become educated                          0.019141\n",
      "Name: purpose, dtype: float64\n",
      "-327.685916     0.000052\n",
      "-1580.622577    0.000052\n",
      "-4122.460569    0.000052\n",
      "-2828.237691    0.000052\n",
      "-2636.090517    0.000052\n",
      "                  ...   \n",
      "-7120.517564    0.000052\n",
      "-2146.884040    0.000052\n",
      "-881.454684     0.000052\n",
      "-794.666350     0.000052\n",
      "-3382.113891    0.000052\n",
      "Name: days_employed, Length: 19351, dtype: float64\n"
     ]
    }
   ],
   "source": [
    "# Checking the distribution in the whole dataset\n",
    "\n",
    "print(df['purpose'].value_counts(normalize = True))\n",
    "\n",
    "print(df['days_employed'].value_counts(normalize = True))\n",
    "\n"
   ]
  },
  {
   "cell_type": "code",
   "execution_count": 12,
   "metadata": {
    "scrolled": true
   },
   "outputs": [],
   "source": [
    "# Checking for other patterns - explain which"
   ]
  },
  {
   "cell_type": "markdown",
   "metadata": {},
   "source": [
    "**Conclusions**\n",
    "\n",
    "\n",
    "Days Employed and Total Income are missing the same numbr of values. I used info to see how many values populate in the columns\n",
    "\n",
    "I will use mean,median, and mode for missing numerical values. I will drop values that are minute and wont affect the whole dataset if removed.\n",
    "\n",
    "I will first remove duplicate values within columns. Then I will change puncuation so that all the values in the columns are the same. Then I will remove missing values if they affect the dataset."
   ]
  },
  {
   "cell_type": "markdown",
   "metadata": {},
   "source": [
    "## Data transformation\n",
    "\n"
   ]
  },
  {
   "cell_type": "code",
   "execution_count": 13,
   "metadata": {},
   "outputs": [
    {
     "name": "stdout",
     "output_type": "stream",
     "text": [
      "0          bachelor's degree\n",
      "1        secondary education\n",
      "2        Secondary Education\n",
      "3        secondary education\n",
      "4        secondary education\n",
      "                ...         \n",
      "21520    secondary education\n",
      "21521    secondary education\n",
      "21522    secondary education\n",
      "21523    secondary education\n",
      "21524    secondary education\n",
      "Name: education, Length: 21525, dtype: object\n"
     ]
    }
   ],
   "source": [
    "# Let's see all values in education column to check if and what spellings will need to be fixed\n",
    "print(df.education)"
   ]
  },
  {
   "cell_type": "code",
   "execution_count": 14,
   "metadata": {
    "scrolled": true
   },
   "outputs": [],
   "source": [
    "# Fix the registers if required\n",
    "df['education'] = df['education'].str.lower()\n",
    "\n"
   ]
  },
  {
   "cell_type": "code",
   "execution_count": 15,
   "metadata": {},
   "outputs": [
    {
     "name": "stdout",
     "output_type": "stream",
     "text": [
      "0          bachelor's degree\n",
      "1        secondary education\n",
      "2        secondary education\n",
      "3        secondary education\n",
      "4        secondary education\n",
      "                ...         \n",
      "21520    secondary education\n",
      "21521    secondary education\n",
      "21522    secondary education\n",
      "21523    secondary education\n",
      "21524    secondary education\n",
      "Name: education, Length: 21525, dtype: object\n"
     ]
    }
   ],
   "source": [
    "# Checking all the values in the column to make sure we fixed them\n",
    "\n",
    "print(df.education)\n"
   ]
  },
  {
   "cell_type": "markdown",
   "metadata": {},
   "source": [
    "[Check the data the `children` column]"
   ]
  },
  {
   "cell_type": "code",
   "execution_count": 16,
   "metadata": {},
   "outputs": [
    {
     "name": "stdout",
     "output_type": "stream",
     "text": [
      " 0     0.657329\n",
      " 1     0.223833\n",
      " 2     0.095470\n",
      " 3     0.015331\n",
      " 20    0.003531\n",
      "-1     0.002184\n",
      " 4     0.001905\n",
      " 5     0.000418\n",
      "Name: children, dtype: float64\n"
     ]
    }
   ],
   "source": [
    "# Let's see the distribution of values in the `children` column\n",
    "\n",
    "print(df['children'].value_counts(normalize = True))\n",
    "\n"
   ]
  },
  {
   "cell_type": "code",
   "execution_count": 17,
   "metadata": {},
   "outputs": [],
   "source": [
    "# [fix the data based on your decision]\n",
    "df.drop(df[df['children'] == 20].index, inplace= True)\n",
    "df.drop(df[df['children'] == -1].index, inplace= True)\n",
    "\n",
    "\n"
   ]
  },
  {
   "cell_type": "code",
   "execution_count": 18,
   "metadata": {},
   "outputs": [
    {
     "name": "stdout",
     "output_type": "stream",
     "text": [
      "0    0.661106\n",
      "1    0.225119\n",
      "2    0.096019\n",
      "3    0.015419\n",
      "4    0.001916\n",
      "5    0.000421\n",
      "Name: children, dtype: float64\n"
     ]
    }
   ],
   "source": [
    "# Checking the `children` column again to make sure it's all fixed\n",
    "print(df['children'].value_counts(normalize = True))\n"
   ]
  },
  {
   "cell_type": "code",
   "execution_count": 19,
   "metadata": {},
   "outputs": [
    {
     "name": "stdout",
     "output_type": "stream",
     "text": [
      "-327.685916     0.000052\n",
      "-1580.622577    0.000052\n",
      "-4122.460569    0.000052\n",
      "-2828.237691    0.000052\n",
      "-2636.090517    0.000052\n",
      "                  ...   \n",
      "-201.643573     0.000052\n",
      "-7120.517564    0.000052\n",
      "-2146.884040    0.000052\n",
      "-881.454684     0.000052\n",
      "-3382.113891    0.000052\n",
      "Name: days_employed, Length: 19240, dtype: float64\n"
     ]
    }
   ],
   "source": [
    "# Find problematic data in `days_employed`, if they exist, and calculate the percentage\n",
    "# Let's see the distribution of values in the `children` column\n",
    "\n",
    "print(df['days_employed'].value_counts(normalize = True))"
   ]
  },
  {
   "cell_type": "code",
   "execution_count": 20,
   "metadata": {},
   "outputs": [],
   "source": [
    "# Address the problematic values, if they exist\n",
    "\n",
    "df['days_employed'] = df['days_employed'].abs()\n"
   ]
  },
  {
   "cell_type": "code",
   "execution_count": 21,
   "metadata": {},
   "outputs": [
    {
     "name": "stdout",
     "output_type": "stream",
     "text": [
      "0          8437.673028\n",
      "1          4024.803754\n",
      "2          5623.422610\n",
      "3          4124.747207\n",
      "4        340266.072047\n",
      "             ...      \n",
      "21520      4529.316663\n",
      "21521    343937.404131\n",
      "21522      2113.346888\n",
      "21523      3112.481705\n",
      "21524      1984.507589\n",
      "Name: days_employed, Length: 21402, dtype: float64\n"
     ]
    }
   ],
   "source": [
    "# Check the result - make sure it's fixed\n",
    "print(df.days_employed)"
   ]
  },
  {
   "cell_type": "markdown",
   "metadata": {},
   "source": [
    "[Let's now look at the client's age and whether there are any issues there. Again, think about what can data can be strange in this column, i.e. what cannot be someone's age.]\n",
    "\n",
    "0 can't be someones age,"
   ]
  },
  {
   "cell_type": "code",
   "execution_count": 22,
   "metadata": {
    "scrolled": true
   },
   "outputs": [
    {
     "name": "stdout",
     "output_type": "stream",
     "text": [
      "35    0.028689\n",
      "40    0.028175\n",
      "41    0.028175\n",
      "34    0.027895\n",
      "38    0.027801\n",
      "42    0.027661\n",
      "33    0.026960\n",
      "39    0.026726\n",
      "31    0.025979\n",
      "36    0.025839\n",
      "29    0.025371\n",
      "44    0.025371\n",
      "48    0.025044\n",
      "30    0.025044\n",
      "37    0.024811\n",
      "43    0.023830\n",
      "50    0.023783\n",
      "32    0.023643\n",
      "49    0.023596\n",
      "28    0.023409\n",
      "45    0.023082\n",
      "27    0.022895\n",
      "52    0.022568\n",
      "56    0.022521\n",
      "47    0.022428\n",
      "54    0.022241\n",
      "46    0.021914\n",
      "58    0.021540\n",
      "53    0.021353\n",
      "57    0.021353\n",
      "51    0.020839\n",
      "59    0.020606\n",
      "55    0.020606\n",
      "26    0.018970\n",
      "60    0.017568\n",
      "25    0.016634\n",
      "61    0.016494\n",
      "62    0.016400\n",
      "63    0.012522\n",
      "24    0.012289\n",
      "64    0.012289\n",
      "23    0.011775\n",
      "65    0.009065\n",
      "66    0.008551\n",
      "22    0.008551\n",
      "67    0.007803\n",
      "21    0.005140\n",
      "0     0.004672\n",
      "68    0.004626\n",
      "69    0.003878\n",
      "70    0.003037\n",
      "71    0.002710\n",
      "20    0.002383\n",
      "72    0.001542\n",
      "19    0.000654\n",
      "73    0.000374\n",
      "74    0.000280\n",
      "75    0.000047\n",
      "Name: dob_years, dtype: float64\n"
     ]
    }
   ],
   "source": [
    "# Check the `dob_years` for suspicious values and count the percentage\n",
    "\n",
    "print(df['dob_years'].value_counts(normalize = True))"
   ]
  },
  {
   "cell_type": "code",
   "execution_count": 23,
   "metadata": {},
   "outputs": [],
   "source": [
    "# Address the issues in the `dob_years` column, if they exist\n",
    "df.drop(df[df['dob_years'] == 0].index, inplace= True)\n"
   ]
  },
  {
   "cell_type": "code",
   "execution_count": 24,
   "metadata": {},
   "outputs": [
    {
     "name": "stdout",
     "output_type": "stream",
     "text": [
      "35    0.028824\n",
      "41    0.028307\n",
      "40    0.028307\n",
      "34    0.028026\n",
      "38    0.027932\n",
      "42    0.027791\n",
      "33    0.027087\n",
      "39    0.026852\n",
      "31    0.026101\n",
      "36    0.025960\n",
      "44    0.025491\n",
      "29    0.025491\n",
      "48    0.025162\n",
      "30    0.025162\n",
      "37    0.024927\n",
      "43    0.023941\n",
      "50    0.023894\n",
      "32    0.023754\n",
      "49    0.023707\n",
      "28    0.023519\n",
      "45    0.023190\n",
      "27    0.023003\n",
      "52    0.022674\n",
      "56    0.022627\n",
      "47    0.022533\n",
      "54    0.022345\n",
      "46    0.022017\n",
      "58    0.021641\n",
      "57    0.021453\n",
      "53    0.021453\n",
      "51    0.020937\n",
      "55    0.020702\n",
      "59    0.020702\n",
      "26    0.019059\n",
      "60    0.017651\n",
      "25    0.016712\n",
      "61    0.016571\n",
      "62    0.016477\n",
      "63    0.012581\n",
      "64    0.012346\n",
      "24    0.012346\n",
      "23    0.011830\n",
      "65    0.009107\n",
      "22    0.008591\n",
      "66    0.008591\n",
      "67    0.007840\n",
      "21    0.005164\n",
      "68    0.004647\n",
      "69    0.003896\n",
      "70    0.003051\n",
      "71    0.002723\n",
      "20    0.002394\n",
      "72    0.001549\n",
      "19    0.000657\n",
      "73    0.000376\n",
      "74    0.000282\n",
      "75    0.000047\n",
      "Name: dob_years, dtype: float64\n"
     ]
    }
   ],
   "source": [
    "# Check the result - make sure it's fixed\n",
    "print(df['dob_years'].value_counts(normalize = True))"
   ]
  },
  {
   "cell_type": "code",
   "execution_count": 25,
   "metadata": {},
   "outputs": [
    {
     "name": "stdout",
     "output_type": "stream",
     "text": [
      "married              0.575251\n",
      "civil partnership    0.194301\n",
      "unmarried            0.130645\n",
      "divorced             0.055347\n",
      "widow / widower      0.044456\n",
      "Name: family_status, dtype: float64\n"
     ]
    }
   ],
   "source": [
    "# Let's see the values for the column\n",
    "\n",
    "print(df['family_status'].value_counts(normalize = True))"
   ]
  },
  {
   "cell_type": "code",
   "execution_count": 26,
   "metadata": {},
   "outputs": [],
   "source": [
    "# Address the problematic values in `family_status`, if they exist\n",
    "\n",
    "# No problems in this data set"
   ]
  },
  {
   "cell_type": "code",
   "execution_count": 27,
   "metadata": {},
   "outputs": [
    {
     "name": "stdout",
     "output_type": "stream",
     "text": [
      "married              0.575251\n",
      "civil partnership    0.194301\n",
      "unmarried            0.130645\n",
      "divorced             0.055347\n",
      "widow / widower      0.044456\n",
      "Name: family_status, dtype: float64\n"
     ]
    }
   ],
   "source": [
    "# Check the result - make sure it's fixed\n",
    "print(df['family_status'].value_counts(normalize = True))"
   ]
  },
  {
   "cell_type": "code",
   "execution_count": 28,
   "metadata": {},
   "outputs": [
    {
     "name": "stdout",
     "output_type": "stream",
     "text": [
      "F      0.661112\n",
      "M      0.338841\n",
      "XNA    0.000047\n",
      "Name: gender, dtype: float64\n"
     ]
    }
   ],
   "source": [
    "# Let's see the values in the column\n",
    "print(df['gender'].value_counts(normalize = True))\n"
   ]
  },
  {
   "cell_type": "code",
   "execution_count": 29,
   "metadata": {},
   "outputs": [],
   "source": [
    "# Address the problematic values, if they exist\n",
    "\n",
    "df.drop(df[df['gender'] == 'XNA'].index, inplace= True)\n"
   ]
  },
  {
   "cell_type": "code",
   "execution_count": 30,
   "metadata": {},
   "outputs": [
    {
     "name": "stdout",
     "output_type": "stream",
     "text": [
      "F    0.661143\n",
      "M    0.338857\n",
      "Name: gender, dtype: float64\n"
     ]
    }
   ],
   "source": [
    "# Check the result - make sure it's fixed\n",
    "print(df['gender'].value_counts(normalize = True))\n"
   ]
  },
  {
   "cell_type": "code",
   "execution_count": 31,
   "metadata": {},
   "outputs": [
    {
     "name": "stdout",
     "output_type": "stream",
     "text": [
      "employee                       0.516220\n",
      "business                       0.236280\n",
      "retiree                        0.179287\n",
      "civil servant                  0.067931\n",
      "unemployed                     0.000094\n",
      "entrepreneur                   0.000094\n",
      "student                        0.000047\n",
      "paternity / maternity leave    0.000047\n",
      "Name: income_type, dtype: float64\n"
     ]
    }
   ],
   "source": [
    "# Let's see the values in the column\n",
    "print(df['income_type'].value_counts(normalize = True))"
   ]
  },
  {
   "cell_type": "code",
   "execution_count": 32,
   "metadata": {},
   "outputs": [],
   "source": [
    "# Address the problematic values, if they exist\n",
    "# No Problems"
   ]
  },
  {
   "cell_type": "code",
   "execution_count": 33,
   "metadata": {},
   "outputs": [
    {
     "name": "stdout",
     "output_type": "stream",
     "text": [
      "employee                       0.516220\n",
      "business                       0.236280\n",
      "retiree                        0.179287\n",
      "civil servant                  0.067931\n",
      "unemployed                     0.000094\n",
      "entrepreneur                   0.000094\n",
      "student                        0.000047\n",
      "paternity / maternity leave    0.000047\n",
      "Name: income_type, dtype: float64\n"
     ]
    }
   ],
   "source": [
    "# Check the result - make sure it's fixed\n",
    "\n",
    "print(df['income_type'].value_counts(normalize = True))"
   ]
  },
  {
   "cell_type": "code",
   "execution_count": 34,
   "metadata": {
    "scrolled": true
   },
   "outputs": [
    {
     "data": {
      "text/plain": [
       "71"
      ]
     },
     "execution_count": 34,
     "metadata": {},
     "output_type": "execute_result"
    }
   ],
   "source": [
    "# Checking duplicates\n",
    "#df.duplicated(subset=None, keep='first')\n",
    "\n",
    "df.duplicated().sum()\n",
    "\n"
   ]
  },
  {
   "cell_type": "code",
   "execution_count": 35,
   "metadata": {},
   "outputs": [
    {
     "data": {
      "text/html": [
       "<div>\n",
       "<style scoped>\n",
       "    .dataframe tbody tr th:only-of-type {\n",
       "        vertical-align: middle;\n",
       "    }\n",
       "\n",
       "    .dataframe tbody tr th {\n",
       "        vertical-align: top;\n",
       "    }\n",
       "\n",
       "    .dataframe thead th {\n",
       "        text-align: right;\n",
       "    }\n",
       "</style>\n",
       "<table border=\"1\" class=\"dataframe\">\n",
       "  <thead>\n",
       "    <tr style=\"text-align: right;\">\n",
       "      <th></th>\n",
       "      <th>children</th>\n",
       "      <th>days_employed</th>\n",
       "      <th>dob_years</th>\n",
       "      <th>education</th>\n",
       "      <th>education_id</th>\n",
       "      <th>family_status</th>\n",
       "      <th>family_status_id</th>\n",
       "      <th>gender</th>\n",
       "      <th>income_type</th>\n",
       "      <th>debt</th>\n",
       "      <th>total_income</th>\n",
       "      <th>purpose</th>\n",
       "    </tr>\n",
       "  </thead>\n",
       "  <tbody>\n",
       "    <tr>\n",
       "      <th>0</th>\n",
       "      <td>1</td>\n",
       "      <td>8437.673028</td>\n",
       "      <td>42</td>\n",
       "      <td>bachelor's degree</td>\n",
       "      <td>0</td>\n",
       "      <td>married</td>\n",
       "      <td>0</td>\n",
       "      <td>F</td>\n",
       "      <td>employee</td>\n",
       "      <td>0</td>\n",
       "      <td>40620.102</td>\n",
       "      <td>purchase of the house</td>\n",
       "    </tr>\n",
       "    <tr>\n",
       "      <th>1</th>\n",
       "      <td>1</td>\n",
       "      <td>4024.803754</td>\n",
       "      <td>36</td>\n",
       "      <td>secondary education</td>\n",
       "      <td>1</td>\n",
       "      <td>married</td>\n",
       "      <td>0</td>\n",
       "      <td>F</td>\n",
       "      <td>employee</td>\n",
       "      <td>0</td>\n",
       "      <td>17932.802</td>\n",
       "      <td>car purchase</td>\n",
       "    </tr>\n",
       "    <tr>\n",
       "      <th>2</th>\n",
       "      <td>0</td>\n",
       "      <td>5623.422610</td>\n",
       "      <td>33</td>\n",
       "      <td>secondary education</td>\n",
       "      <td>1</td>\n",
       "      <td>married</td>\n",
       "      <td>0</td>\n",
       "      <td>M</td>\n",
       "      <td>employee</td>\n",
       "      <td>0</td>\n",
       "      <td>23341.752</td>\n",
       "      <td>purchase of the house</td>\n",
       "    </tr>\n",
       "    <tr>\n",
       "      <th>3</th>\n",
       "      <td>3</td>\n",
       "      <td>4124.747207</td>\n",
       "      <td>32</td>\n",
       "      <td>secondary education</td>\n",
       "      <td>1</td>\n",
       "      <td>married</td>\n",
       "      <td>0</td>\n",
       "      <td>M</td>\n",
       "      <td>employee</td>\n",
       "      <td>0</td>\n",
       "      <td>42820.568</td>\n",
       "      <td>supplementary education</td>\n",
       "    </tr>\n",
       "    <tr>\n",
       "      <th>4</th>\n",
       "      <td>0</td>\n",
       "      <td>340266.072047</td>\n",
       "      <td>53</td>\n",
       "      <td>secondary education</td>\n",
       "      <td>1</td>\n",
       "      <td>civil partnership</td>\n",
       "      <td>1</td>\n",
       "      <td>F</td>\n",
       "      <td>retiree</td>\n",
       "      <td>0</td>\n",
       "      <td>25378.572</td>\n",
       "      <td>to have a wedding</td>\n",
       "    </tr>\n",
       "    <tr>\n",
       "      <th>...</th>\n",
       "      <td>...</td>\n",
       "      <td>...</td>\n",
       "      <td>...</td>\n",
       "      <td>...</td>\n",
       "      <td>...</td>\n",
       "      <td>...</td>\n",
       "      <td>...</td>\n",
       "      <td>...</td>\n",
       "      <td>...</td>\n",
       "      <td>...</td>\n",
       "      <td>...</td>\n",
       "      <td>...</td>\n",
       "    </tr>\n",
       "    <tr>\n",
       "      <th>21520</th>\n",
       "      <td>1</td>\n",
       "      <td>4529.316663</td>\n",
       "      <td>43</td>\n",
       "      <td>secondary education</td>\n",
       "      <td>1</td>\n",
       "      <td>civil partnership</td>\n",
       "      <td>1</td>\n",
       "      <td>F</td>\n",
       "      <td>business</td>\n",
       "      <td>0</td>\n",
       "      <td>35966.698</td>\n",
       "      <td>housing transactions</td>\n",
       "    </tr>\n",
       "    <tr>\n",
       "      <th>21521</th>\n",
       "      <td>0</td>\n",
       "      <td>343937.404131</td>\n",
       "      <td>67</td>\n",
       "      <td>secondary education</td>\n",
       "      <td>1</td>\n",
       "      <td>married</td>\n",
       "      <td>0</td>\n",
       "      <td>F</td>\n",
       "      <td>retiree</td>\n",
       "      <td>0</td>\n",
       "      <td>24959.969</td>\n",
       "      <td>purchase of a car</td>\n",
       "    </tr>\n",
       "    <tr>\n",
       "      <th>21522</th>\n",
       "      <td>1</td>\n",
       "      <td>2113.346888</td>\n",
       "      <td>38</td>\n",
       "      <td>secondary education</td>\n",
       "      <td>1</td>\n",
       "      <td>civil partnership</td>\n",
       "      <td>1</td>\n",
       "      <td>M</td>\n",
       "      <td>employee</td>\n",
       "      <td>1</td>\n",
       "      <td>14347.610</td>\n",
       "      <td>property</td>\n",
       "    </tr>\n",
       "    <tr>\n",
       "      <th>21523</th>\n",
       "      <td>3</td>\n",
       "      <td>3112.481705</td>\n",
       "      <td>38</td>\n",
       "      <td>secondary education</td>\n",
       "      <td>1</td>\n",
       "      <td>married</td>\n",
       "      <td>0</td>\n",
       "      <td>M</td>\n",
       "      <td>employee</td>\n",
       "      <td>1</td>\n",
       "      <td>39054.888</td>\n",
       "      <td>buying my own car</td>\n",
       "    </tr>\n",
       "    <tr>\n",
       "      <th>21524</th>\n",
       "      <td>2</td>\n",
       "      <td>1984.507589</td>\n",
       "      <td>40</td>\n",
       "      <td>secondary education</td>\n",
       "      <td>1</td>\n",
       "      <td>married</td>\n",
       "      <td>0</td>\n",
       "      <td>F</td>\n",
       "      <td>employee</td>\n",
       "      <td>0</td>\n",
       "      <td>13127.587</td>\n",
       "      <td>to buy a car</td>\n",
       "    </tr>\n",
       "  </tbody>\n",
       "</table>\n",
       "<p>21230 rows × 12 columns</p>\n",
       "</div>"
      ],
      "text/plain": [
       "       children  days_employed  dob_years            education  education_id  \\\n",
       "0             1    8437.673028         42    bachelor's degree             0   \n",
       "1             1    4024.803754         36  secondary education             1   \n",
       "2             0    5623.422610         33  secondary education             1   \n",
       "3             3    4124.747207         32  secondary education             1   \n",
       "4             0  340266.072047         53  secondary education             1   \n",
       "...         ...            ...        ...                  ...           ...   \n",
       "21520         1    4529.316663         43  secondary education             1   \n",
       "21521         0  343937.404131         67  secondary education             1   \n",
       "21522         1    2113.346888         38  secondary education             1   \n",
       "21523         3    3112.481705         38  secondary education             1   \n",
       "21524         2    1984.507589         40  secondary education             1   \n",
       "\n",
       "           family_status  family_status_id gender income_type  debt  \\\n",
       "0                married                 0      F    employee     0   \n",
       "1                married                 0      F    employee     0   \n",
       "2                married                 0      M    employee     0   \n",
       "3                married                 0      M    employee     0   \n",
       "4      civil partnership                 1      F     retiree     0   \n",
       "...                  ...               ...    ...         ...   ...   \n",
       "21520  civil partnership                 1      F    business     0   \n",
       "21521            married                 0      F     retiree     0   \n",
       "21522  civil partnership                 1      M    employee     1   \n",
       "21523            married                 0      M    employee     1   \n",
       "21524            married                 0      F    employee     0   \n",
       "\n",
       "       total_income                  purpose  \n",
       "0         40620.102    purchase of the house  \n",
       "1         17932.802             car purchase  \n",
       "2         23341.752    purchase of the house  \n",
       "3         42820.568  supplementary education  \n",
       "4         25378.572        to have a wedding  \n",
       "...             ...                      ...  \n",
       "21520     35966.698     housing transactions  \n",
       "21521     24959.969        purchase of a car  \n",
       "21522     14347.610                 property  \n",
       "21523     39054.888        buying my own car  \n",
       "21524     13127.587             to buy a car  \n",
       "\n",
       "[21230 rows x 12 columns]"
      ]
     },
     "execution_count": 35,
     "metadata": {},
     "output_type": "execute_result"
    }
   ],
   "source": [
    "# Address the duplicates, if they exist\n",
    "df.drop_duplicates(keep = 'first', inplace = True)\n",
    "df"
   ]
  },
  {
   "cell_type": "code",
   "execution_count": 36,
   "metadata": {
    "scrolled": true
   },
   "outputs": [
    {
     "data": {
      "text/plain": [
       "0"
      ]
     },
     "execution_count": 36,
     "metadata": {},
     "output_type": "execute_result"
    }
   ],
   "source": [
    "# Last check whether we have any duplicates\n",
    "df.duplicated().sum()\n"
   ]
  },
  {
   "cell_type": "code",
   "execution_count": 37,
   "metadata": {},
   "outputs": [
    {
     "data": {
      "text/plain": [
       "254760"
      ]
     },
     "execution_count": 37,
     "metadata": {},
     "output_type": "execute_result"
    }
   ],
   "source": [
    "# Check the size of the dataset that you now have after your first manipulations with it\n",
    "df.size"
   ]
  },
  {
   "cell_type": "markdown",
   "metadata": {},
   "source": [
    "[Describe your new dataset: briefly say what's changed and what's the percentage of the changes, if there were any.]\n",
    "\n",
    "The total amount of the dataset dropped by 71. \n",
    "\n",
    "A % change of .0002757838\n",
    "\n",
    "The dataset now has no duplicates."
   ]
  },
  {
   "cell_type": "markdown",
   "metadata": {},
   "source": [
    "# Working with missing values"
   ]
  },
  {
   "cell_type": "code",
   "execution_count": 38,
   "metadata": {
    "scrolled": false
   },
   "outputs": [
    {
     "name": "stdout",
     "output_type": "stream",
     "text": [
      "       education_id  family_status_id            education      family_status\n",
      "0                 0                 0    bachelor's degree            married\n",
      "1                 1                 0  secondary education            married\n",
      "2                 1                 0  secondary education            married\n",
      "3                 1                 0  secondary education            married\n",
      "4                 1                 1  secondary education  civil partnership\n",
      "...             ...               ...                  ...                ...\n",
      "21520             1                 1  secondary education  civil partnership\n",
      "21521             1                 0  secondary education            married\n",
      "21522             1                 1  secondary education  civil partnership\n",
      "21523             1                 0  secondary education            married\n",
      "21524             1                 0  secondary education            married\n",
      "\n",
      "[21230 rows x 4 columns]\n",
      "{0: \"bachelor's degree\", 1: 'secondary education', 2: 'some college', 3: 'primary_education', 4: 'graduate degree'}\n",
      "{0: 'married', 1: 'civil partnership', 2: 'widow/widower', 3: 'divorced', 4: 'unmarried'}\n"
     ]
    }
   ],
   "source": [
    "# Find the dictionaries\n",
    "print(df[['education_id', 'family_status_id', 'education' ,'family_status']])\n",
    "\n",
    "education_dict = {0: 'bachelor\\'s degree', 1: 'secondary education', 2: 'some college', 3: 'primary_education', 4: 'graduate degree'}\n",
    "\n",
    "family_dict = {0: 'married', 1: 'civil partnership', 2: 'widow/widower', 3: 'divorced', 4: 'unmarried'}\n",
    "\n",
    "print(education_dict)\n",
    "\n",
    "print(family_dict)"
   ]
  },
  {
   "cell_type": "code",
   "execution_count": 39,
   "metadata": {},
   "outputs": [
    {
     "data": {
      "text/plain": [
       "array(['married', 'civil partnership', 'widow / widower', 'divorced',\n",
       "       'unmarried'], dtype=object)"
      ]
     },
     "execution_count": 39,
     "metadata": {},
     "output_type": "execute_result"
    }
   ],
   "source": [
    "df.family_status.unique()"
   ]
  },
  {
   "cell_type": "code",
   "execution_count": 40,
   "metadata": {},
   "outputs": [
    {
     "data": {
      "text/plain": [
       "array([0, 1, 2, 3, 4])"
      ]
     },
     "execution_count": 40,
     "metadata": {},
     "output_type": "execute_result"
    }
   ],
   "source": [
    "df.family_status_id.unique()"
   ]
  },
  {
   "cell_type": "code",
   "execution_count": 41,
   "metadata": {},
   "outputs": [],
   "source": [
    "d = df.groupby('education')['education_id'].apply(list).to_dict()\n",
    "f = df.groupby('family_status')['family_status_id'].apply(list).to_dict()"
   ]
  },
  {
   "cell_type": "markdown",
   "metadata": {},
   "source": [
    "### Restoring missing values in `total_income`"
   ]
  },
  {
   "cell_type": "code",
   "execution_count": 42,
   "metadata": {},
   "outputs": [],
   "source": [
    "# Let's write a function that calculates the age category\n",
    "\n",
    "def dob_years(age):\n",
    "     if age <= 29:\n",
    "        return 'youth'\n",
    "     if age <= 39:\n",
    "        return 'adult'\n",
    "     if age <= 59:\n",
    "        return 'middle aged'\n",
    "     if age >= 60:\n",
    "        return 'senior'"
   ]
  },
  {
   "cell_type": "code",
   "execution_count": 43,
   "metadata": {},
   "outputs": [
    {
     "name": "stdout",
     "output_type": "stream",
     "text": [
      "youth\n",
      "adult\n",
      "middle aged\n",
      "senior\n"
     ]
    }
   ],
   "source": [
    "# Test if the function works\n",
    "print(dob_years(24))\n",
    "print(dob_years(35))\n",
    "print(dob_years(50))\n",
    "print(dob_years(74))"
   ]
  },
  {
   "cell_type": "code",
   "execution_count": 44,
   "metadata": {},
   "outputs": [],
   "source": [
    "# Creating new column based on function\n",
    "\n",
    "df['age_group'] = df['dob_years'].apply(dob_years)"
   ]
  },
  {
   "cell_type": "code",
   "execution_count": 45,
   "metadata": {
    "scrolled": true
   },
   "outputs": [
    {
     "name": "stdout",
     "output_type": "stream",
     "text": [
      "0        middle aged\n",
      "1              adult\n",
      "2              adult\n",
      "3              adult\n",
      "4        middle aged\n",
      "            ...     \n",
      "21520    middle aged\n",
      "21521         senior\n",
      "21522          adult\n",
      "21523          adult\n",
      "21524    middle aged\n",
      "Name: age_group, Length: 21230, dtype: object\n"
     ]
    }
   ],
   "source": [
    "# Checking how values in the new column\n",
    "print(df['age_group'])\n"
   ]
  },
  {
   "cell_type": "code",
   "execution_count": 46,
   "metadata": {
    "scrolled": true
   },
   "outputs": [
    {
     "name": "stdout",
     "output_type": "stream",
     "text": [
      "<class 'pandas.core.frame.DataFrame'>\n",
      "Int64Index: 21230 entries, 0 to 21524\n",
      "Data columns (total 13 columns):\n",
      " #   Column            Non-Null Count  Dtype  \n",
      "---  ------            --------------  -----  \n",
      " 0   children          21230 non-null  int64  \n",
      " 1   days_employed     19149 non-null  float64\n",
      " 2   dob_years         21230 non-null  int64  \n",
      " 3   education         21230 non-null  object \n",
      " 4   education_id      21230 non-null  int64  \n",
      " 5   family_status     21230 non-null  object \n",
      " 6   family_status_id  21230 non-null  int64  \n",
      " 7   gender            21230 non-null  object \n",
      " 8   income_type       21230 non-null  object \n",
      " 9   debt              21230 non-null  int64  \n",
      " 10  total_income      19149 non-null  float64\n",
      " 11  purpose           21230 non-null  object \n",
      " 12  age_group         21230 non-null  object \n",
      "dtypes: float64(2), int64(5), object(6)\n",
      "memory usage: 2.3+ MB\n",
      "None\n"
     ]
    }
   ],
   "source": [
    "# Create a table without missing values and print a few of its rows to make sure it looks fine\n",
    "print(df.info())"
   ]
  },
  {
   "cell_type": "code",
   "execution_count": 47,
   "metadata": {},
   "outputs": [
    {
     "name": "stdout",
     "output_type": "stream",
     "text": [
      "26798.699010026634\n"
     ]
    }
   ],
   "source": [
    "# Look at the mean values for income based on your identified factors\n",
    "mean_income = df['total_income'].mean()\n",
    "print(mean_income)"
   ]
  },
  {
   "cell_type": "code",
   "execution_count": 48,
   "metadata": {
    "scrolled": true
   },
   "outputs": [],
   "source": [
    "# Look at the median values for income based on your identified factors\n",
    "#median_income = df['total_income'].median()\n",
    "#print(median_income)\n",
    "\n",
    "\n",
    "#median_by_type = df[['total_income','income_type']]\n",
    "#print(median_by_type.groupby('income_type').median().sort_values('total_income',ascending=False).head(10)) "
   ]
  },
  {
   "cell_type": "code",
   "execution_count": 49,
   "metadata": {},
   "outputs": [],
   "source": [
    "df['total_income'] = df['total_income'].fillna(df.groupby('income_type')['total_income'].transform('median'))"
   ]
  },
  {
   "cell_type": "code",
   "execution_count": 50,
   "metadata": {},
   "outputs": [
    {
     "name": "stdout",
     "output_type": "stream",
     "text": [
      "<class 'pandas.core.frame.DataFrame'>\n",
      "Int64Index: 21230 entries, 0 to 21524\n",
      "Data columns (total 13 columns):\n",
      " #   Column            Non-Null Count  Dtype  \n",
      "---  ------            --------------  -----  \n",
      " 0   children          21230 non-null  int64  \n",
      " 1   days_employed     19149 non-null  float64\n",
      " 2   dob_years         21230 non-null  int64  \n",
      " 3   education         21230 non-null  object \n",
      " 4   education_id      21230 non-null  int64  \n",
      " 5   family_status     21230 non-null  object \n",
      " 6   family_status_id  21230 non-null  int64  \n",
      " 7   gender            21230 non-null  object \n",
      " 8   income_type       21230 non-null  object \n",
      " 9   debt              21230 non-null  int64  \n",
      " 10  total_income      21230 non-null  float64\n",
      " 11  purpose           21230 non-null  object \n",
      " 12  age_group         21230 non-null  object \n",
      "dtypes: float64(2), int64(5), object(6)\n",
      "memory usage: 2.3+ MB\n"
     ]
    }
   ],
   "source": [
    "df.info()"
   ]
  },
  {
   "cell_type": "code",
   "execution_count": 51,
   "metadata": {},
   "outputs": [],
   "source": [
    "#  Write a function that we will use for filling in missing values\n",
    "        \n",
    "df['total_income'].fillna(df['total_income'].median(), inplace=True) "
   ]
  },
  {
   "cell_type": "code",
   "execution_count": 52,
   "metadata": {},
   "outputs": [
    {
     "name": "stdout",
     "output_type": "stream",
     "text": [
      "<class 'pandas.core.frame.DataFrame'>\n",
      "Int64Index: 21230 entries, 0 to 21524\n",
      "Data columns (total 13 columns):\n",
      " #   Column            Non-Null Count  Dtype  \n",
      "---  ------            --------------  -----  \n",
      " 0   children          21230 non-null  int64  \n",
      " 1   days_employed     19149 non-null  float64\n",
      " 2   dob_years         21230 non-null  int64  \n",
      " 3   education         21230 non-null  object \n",
      " 4   education_id      21230 non-null  int64  \n",
      " 5   family_status     21230 non-null  object \n",
      " 6   family_status_id  21230 non-null  int64  \n",
      " 7   gender            21230 non-null  object \n",
      " 8   income_type       21230 non-null  object \n",
      " 9   debt              21230 non-null  int64  \n",
      " 10  total_income      21230 non-null  float64\n",
      " 11  purpose           21230 non-null  object \n",
      " 12  age_group         21230 non-null  object \n",
      "dtypes: float64(2), int64(5), object(6)\n",
      "memory usage: 2.3+ MB\n",
      "None\n"
     ]
    }
   ],
   "source": [
    "# Check if it works\n",
    "print(df.info())"
   ]
  },
  {
   "cell_type": "code",
   "execution_count": 54,
   "metadata": {},
   "outputs": [
    {
     "data": {
      "text/plain": [
       "0    40620.102\n",
       "1    17932.802\n",
       "2    23341.752\n",
       "3    42820.568\n",
       "4    25378.572\n",
       "Name: total_income, dtype: float64"
      ]
     },
     "execution_count": 54,
     "metadata": {},
     "output_type": "execute_result"
    }
   ],
   "source": [
    "# Check if we got any errors\n",
    "df['total_income'].head()"
   ]
  },
  {
   "cell_type": "code",
   "execution_count": 56,
   "metadata": {},
   "outputs": [
    {
     "name": "stdout",
     "output_type": "stream",
     "text": [
      "<class 'pandas.core.frame.DataFrame'>\n",
      "Int64Index: 21230 entries, 0 to 21524\n",
      "Data columns (total 13 columns):\n",
      " #   Column            Non-Null Count  Dtype  \n",
      "---  ------            --------------  -----  \n",
      " 0   children          21230 non-null  int64  \n",
      " 1   days_employed     19149 non-null  float64\n",
      " 2   dob_years         21230 non-null  int64  \n",
      " 3   education         21230 non-null  object \n",
      " 4   education_id      21230 non-null  int64  \n",
      " 5   family_status     21230 non-null  object \n",
      " 6   family_status_id  21230 non-null  int64  \n",
      " 7   gender            21230 non-null  object \n",
      " 8   income_type       21230 non-null  object \n",
      " 9   debt              21230 non-null  int64  \n",
      " 10  total_income      21230 non-null  float64\n",
      " 11  purpose           21230 non-null  object \n",
      " 12  age_group         21230 non-null  object \n",
      "dtypes: float64(2), int64(5), object(6)\n",
      "memory usage: 2.3+ MB\n"
     ]
    }
   ],
   "source": [
    "# Checking the number of entries in the columns\n",
    "\n",
    "df.info()"
   ]
  },
  {
   "cell_type": "markdown",
   "metadata": {},
   "source": [
    "###  Restoring values in `days_employed`"
   ]
  },
  {
   "cell_type": "code",
   "execution_count": 57,
   "metadata": {
    "pycharm": {
     "name": "#%%\n"
    }
   },
   "outputs": [
    {
     "name": "stdout",
     "output_type": "stream",
     "text": [
      "67015.85571538519\n"
     ]
    }
   ],
   "source": [
    "# Distribution of `days_employed` medians based on your identified parameters\n",
    "\n",
    "mean_daysemployed = df['days_employed'].mean()\n",
    "print(mean_daysemployed)\n"
   ]
  },
  {
   "cell_type": "code",
   "execution_count": 58,
   "metadata": {},
   "outputs": [
    {
     "name": "stdout",
     "output_type": "stream",
     "text": [
      "2197.460718185312\n"
     ]
    }
   ],
   "source": [
    "# Distribution of `days_employed` means based on your identified parameters\n",
    "median_daysemployed = df['days_employed'].median()\n",
    "print(median_daysemployed)"
   ]
  },
  {
   "cell_type": "code",
   "execution_count": 59,
   "metadata": {
    "scrolled": true
   },
   "outputs": [
    {
     "name": "stdout",
     "output_type": "stream",
     "text": [
      "2197.460718185312\n"
     ]
    }
   ],
   "source": [
    "# Let's write a function that calculates means or medians (depending on your decision) based on your identified parameter\n",
    "median_daysemployed = df['days_employed'].median()\n",
    "print(median_daysemployed)"
   ]
  },
  {
   "cell_type": "code",
   "execution_count": 60,
   "metadata": {},
   "outputs": [
    {
     "name": "stdout",
     "output_type": "stream",
     "text": [
      "2197.460718185312\n"
     ]
    }
   ],
   "source": [
    "# Check that the function works\n",
    "\n",
    "median_daysemployed = df['days_employed'].median()\n",
    "print(median_daysemployed)"
   ]
  },
  {
   "cell_type": "code",
   "execution_count": 61,
   "metadata": {},
   "outputs": [
    {
     "data": {
      "text/plain": [
       "401755.40047533"
      ]
     },
     "execution_count": 61,
     "metadata": {},
     "output_type": "execute_result"
    }
   ],
   "source": [
    "df['days_employed'].max()"
   ]
  },
  {
   "cell_type": "code",
   "execution_count": 62,
   "metadata": {},
   "outputs": [],
   "source": [
    "#df.drop(df[df['days_employed'] >= 300000].index, inplace = True)\n",
    "#median = df.loc[df['days_employed']>21000, 'days_employed'].median()\n",
    "#df.loc[df.days_employed > 21000, 'days_employed'] = np.nan\n",
    "#df.fillna(median,inplace=True)"
   ]
  },
  {
   "cell_type": "code",
   "execution_count": 63,
   "metadata": {},
   "outputs": [],
   "source": [
    "days_employed_threshold = 50*365.25\n",
    "extreme_days_employed_idx = df['days_employed'] > days_employed_threshold\n",
    "df.loc[extreme_days_employed_idx , 'days_employed'] = df.loc[~extreme_days_employed_idx , 'days_employed'].median()"
   ]
  },
  {
   "cell_type": "code",
   "execution_count": 64,
   "metadata": {},
   "outputs": [
    {
     "data": {
      "text/plain": [
       "array([[<AxesSubplot:title={'center':'days_employed'}>]], dtype=object)"
      ]
     },
     "execution_count": 64,
     "metadata": {},
     "output_type": "execute_result"
    },
    {
     "data": {
      "image/png": "[encoded data removed]",
      "text/plain": [
       "<Figure size 432x288 with 1 Axes>"
      ]
     },
     "metadata": {
      "needs_background": "light"
     },
     "output_type": "display_data"
    }
   ],
   "source": [
    "df.hist('days_employed')"
   ]
  },
  {
   "cell_type": "code",
   "execution_count": 65,
   "metadata": {
    "scrolled": true
   },
   "outputs": [],
   "source": [
    "# Apply function to the income_type\n",
    "\n",
    "# median/mean days_employed by say income_type and age_group\n",
    "\n",
    "#table = df.pivot_table(index = ['income_type'], values='income_type', aggfunc=['mode'])\n",
    "\n",
    "\n",
    "\n",
    "df['income_type']=df['income_type'].fillna(df['income_type'].fillna('unknown'))\n",
    "\n",
    "df['days_employed']=df['days_employed'].fillna(df['days_employed'].median())\n",
    "\n",
    "\n",
    "\n",
    "\n"
   ]
  },
  {
   "cell_type": "code",
   "execution_count": 66,
   "metadata": {},
   "outputs": [
    {
     "name": "stdout",
     "output_type": "stream",
     "text": [
      "<class 'pandas.core.frame.DataFrame'>\n",
      "Int64Index: 21230 entries, 0 to 21524\n",
      "Data columns (total 13 columns):\n",
      " #   Column            Non-Null Count  Dtype  \n",
      "---  ------            --------------  -----  \n",
      " 0   children          21230 non-null  int64  \n",
      " 1   days_employed     21230 non-null  float64\n",
      " 2   dob_years         21230 non-null  int64  \n",
      " 3   education         21230 non-null  object \n",
      " 4   education_id      21230 non-null  int64  \n",
      " 5   family_status     21230 non-null  object \n",
      " 6   family_status_id  21230 non-null  int64  \n",
      " 7   gender            21230 non-null  object \n",
      " 8   income_type       21230 non-null  object \n",
      " 9   debt              21230 non-null  int64  \n",
      " 10  total_income      21230 non-null  float64\n",
      " 11  purpose           21230 non-null  object \n",
      " 12  age_group         21230 non-null  object \n",
      "dtypes: float64(2), int64(5), object(6)\n",
      "memory usage: 2.3+ MB\n"
     ]
    }
   ],
   "source": [
    "# Check if function worked\n",
    "df.info()\n"
   ]
  },
  {
   "cell_type": "code",
   "execution_count": 67,
   "metadata": {},
   "outputs": [
    {
     "name": "stdout",
     "output_type": "stream",
     "text": [
      "<class 'pandas.core.frame.DataFrame'>\n",
      "Int64Index: 21230 entries, 0 to 21524\n",
      "Data columns (total 13 columns):\n",
      " #   Column            Non-Null Count  Dtype  \n",
      "---  ------            --------------  -----  \n",
      " 0   children          21230 non-null  int64  \n",
      " 1   days_employed     21230 non-null  float64\n",
      " 2   dob_years         21230 non-null  int64  \n",
      " 3   education         21230 non-null  object \n",
      " 4   education_id      21230 non-null  int64  \n",
      " 5   family_status     21230 non-null  object \n",
      " 6   family_status_id  21230 non-null  int64  \n",
      " 7   gender            21230 non-null  object \n",
      " 8   income_type       21230 non-null  object \n",
      " 9   debt              21230 non-null  int64  \n",
      " 10  total_income      21230 non-null  float64\n",
      " 11  purpose           21230 non-null  object \n",
      " 12  age_group         21230 non-null  object \n",
      "dtypes: float64(2), int64(5), object(6)\n",
      "memory usage: 2.3+ MB\n"
     ]
    }
   ],
   "source": [
    "# Replacing missing values\n",
    "\n",
    "df.info()\n"
   ]
  },
  {
   "cell_type": "markdown",
   "metadata": {},
   "source": [
    "[When you think you've finished with `total_income`, check that the total number of values in this column matches the number of values in other ones.]"
   ]
  },
  {
   "cell_type": "code",
   "execution_count": 68,
   "metadata": {
    "scrolled": true
   },
   "outputs": [
    {
     "name": "stdout",
     "output_type": "stream",
     "text": [
      "<class 'pandas.core.frame.DataFrame'>\n",
      "Int64Index: 21230 entries, 0 to 21524\n",
      "Data columns (total 13 columns):\n",
      " #   Column            Non-Null Count  Dtype  \n",
      "---  ------            --------------  -----  \n",
      " 0   children          21230 non-null  int64  \n",
      " 1   days_employed     21230 non-null  float64\n",
      " 2   dob_years         21230 non-null  int64  \n",
      " 3   education         21230 non-null  object \n",
      " 4   education_id      21230 non-null  int64  \n",
      " 5   family_status     21230 non-null  object \n",
      " 6   family_status_id  21230 non-null  int64  \n",
      " 7   gender            21230 non-null  object \n",
      " 8   income_type       21230 non-null  object \n",
      " 9   debt              21230 non-null  int64  \n",
      " 10  total_income      21230 non-null  float64\n",
      " 11  purpose           21230 non-null  object \n",
      " 12  age_group         21230 non-null  object \n",
      "dtypes: float64(2), int64(5), object(6)\n",
      "memory usage: 2.3+ MB\n",
      "None\n"
     ]
    }
   ],
   "source": [
    "# Check the entries in all columns - make sure we fixed all missing values\n",
    "\n",
    "df['days_employed'].convert_dtypes('days_employed') \n",
    "\n",
    "print(df.info())\n"
   ]
  },
  {
   "cell_type": "code",
   "execution_count": 69,
   "metadata": {},
   "outputs": [
    {
     "name": "stdout",
     "output_type": "stream",
     "text": [
      "children              int64\n",
      "days_employed         int64\n",
      "dob_years             int64\n",
      "education            object\n",
      "education_id          int64\n",
      "family_status        object\n",
      "family_status_id      int64\n",
      "gender               object\n",
      "income_type          object\n",
      "debt                  int64\n",
      "total_income        float64\n",
      "purpose              object\n",
      "age_group            object\n",
      "dtype: object\n"
     ]
    }
   ],
   "source": [
    "df['days_employed'] = df['days_employed'].astype(int)\n",
    "\n",
    "print(df.dtypes)\n"
   ]
  },
  {
   "cell_type": "markdown",
   "metadata": {},
   "source": [
    "# Categorization of data\n",
    "\n",
    "\n"
   ]
  },
  {
   "cell_type": "code",
   "execution_count": 70,
   "metadata": {
    "scrolled": true
   },
   "outputs": [
    {
     "data": {
      "text/plain": [
       "wedding ceremony                            785\n",
       "having a wedding                            759\n",
       "to have a wedding                           755\n",
       "real estate transactions                    669\n",
       "buy commercial real estate                  655\n",
       "buying property for renting out             647\n",
       "transactions with commercial real estate    643\n",
       "housing transactions                        641\n",
       "purchase of the house for my family         636\n",
       "housing                                     635\n",
       "purchase of the house                       634\n",
       "property                                    627\n",
       "construction of own property                626\n",
       "transactions with my real estate            623\n",
       "building a property                         619\n",
       "Name: purpose, dtype: int64"
      ]
     },
     "execution_count": 70,
     "metadata": {},
     "output_type": "execute_result"
    }
   ],
   "source": [
    "# Print the values for your selected data for categorization\n",
    "df['total_income'].value_counts().head(15)\n",
    "df['children'].value_counts().head()\n",
    "df['family_status'].value_counts().head()\n",
    "df['purpose'].value_counts().head(15)\n"
   ]
  },
  {
   "cell_type": "markdown",
   "metadata": {},
   "source": [
    "[Let's check unique values]"
   ]
  },
  {
   "cell_type": "code",
   "execution_count": 71,
   "metadata": {},
   "outputs": [
    {
     "data": {
      "text/plain": [
       "38"
      ]
     },
     "execution_count": 71,
     "metadata": {},
     "output_type": "execute_result"
    }
   ],
   "source": [
    "# Check the unique values\n",
    "len(df['total_income'].unique())\n",
    "len(df['children'].unique())\n",
    "len(df['family_status'].unique())\n",
    "len(df['purpose'].unique())\n"
   ]
  },
  {
   "cell_type": "code",
   "execution_count": 72,
   "metadata": {
    "scrolled": true
   },
   "outputs": [
    {
     "name": "stdout",
     "output_type": "stream",
     "text": [
      "           family_status                  purpose\n",
      "0                married    purchase of the house\n",
      "1                married             car purchase\n",
      "2                married    purchase of the house\n",
      "3                married  supplementary education\n",
      "4      civil partnership        to have a wedding\n",
      "...                  ...                      ...\n",
      "21520  civil partnership     housing transactions\n",
      "21521            married        purchase of a car\n",
      "21522  civil partnership                 property\n",
      "21523            married        buying my own car\n",
      "21524            married             to buy a car\n",
      "\n",
      "[21230 rows x 2 columns]\n"
     ]
    }
   ],
   "source": [
    "# Let's write a function to categorize the data based on common topics\n",
    "text_log = df[['family_status','purpose']]\n",
    "\n",
    "print(text_log)"
   ]
  },
  {
   "cell_type": "code",
   "execution_count": 74,
   "metadata": {},
   "outputs": [
    {
     "name": "stdout",
     "output_type": "stream",
     "text": [
      "       children  total_income\n",
      "0             1     40620.102\n",
      "1             1     17932.802\n",
      "2             0     23341.752\n",
      "3             3     42820.568\n",
      "4             0     25378.572\n",
      "...         ...           ...\n",
      "21520         1     35966.698\n",
      "21521         0     24959.969\n",
      "21522         1     14347.610\n",
      "21523         3     39054.888\n",
      "21524         2     13127.587\n",
      "\n",
      "[21230 rows x 2 columns]\n"
     ]
    }
   ],
   "source": [
    "# Looking through all the numerical data in your selected column for categorization\n",
    "number_log = df[['children','total_income']]\n",
    "print(number_log)"
   ]
  },
  {
   "cell_type": "code",
   "execution_count": 75,
   "metadata": {},
   "outputs": [
    {
     "data": {
      "text/html": [
       "<div>\n",
       "<style scoped>\n",
       "    .dataframe tbody tr th:only-of-type {\n",
       "        vertical-align: middle;\n",
       "    }\n",
       "\n",
       "    .dataframe tbody tr th {\n",
       "        vertical-align: top;\n",
       "    }\n",
       "\n",
       "    .dataframe thead th {\n",
       "        text-align: right;\n",
       "    }\n",
       "</style>\n",
       "<table border=\"1\" class=\"dataframe\">\n",
       "  <thead>\n",
       "    <tr style=\"text-align: right;\">\n",
       "      <th></th>\n",
       "      <th>total_income</th>\n",
       "    </tr>\n",
       "    <tr>\n",
       "      <th>children</th>\n",
       "      <th></th>\n",
       "    </tr>\n",
       "  </thead>\n",
       "  <tbody>\n",
       "    <tr>\n",
       "      <th>0</th>\n",
       "      <td>26096.112986</td>\n",
       "    </tr>\n",
       "    <tr>\n",
       "      <th>1</th>\n",
       "      <td>27078.823259</td>\n",
       "    </tr>\n",
       "    <tr>\n",
       "      <th>2</th>\n",
       "      <td>27151.458416</td>\n",
       "    </tr>\n",
       "    <tr>\n",
       "      <th>3</th>\n",
       "      <td>28769.787213</td>\n",
       "    </tr>\n",
       "    <tr>\n",
       "      <th>4</th>\n",
       "      <td>26618.121146</td>\n",
       "    </tr>\n",
       "    <tr>\n",
       "      <th>5</th>\n",
       "      <td>26773.986833</td>\n",
       "    </tr>\n",
       "  </tbody>\n",
       "</table>\n",
       "</div>"
      ],
      "text/plain": [
       "          total_income\n",
       "children              \n",
       "0         26096.112986\n",
       "1         27078.823259\n",
       "2         27151.458416\n",
       "3         28769.787213\n",
       "4         26618.121146\n",
       "5         26773.986833"
      ]
     },
     "execution_count": 75,
     "metadata": {},
     "output_type": "execute_result"
    }
   ],
   "source": [
    "# Getting summary statistics for the column\n",
    "\n",
    "# Average income by # of children\n",
    "\n",
    "\n",
    "df[[\"children\", \"total_income\"]].groupby(\"children\").mean()\n",
    "\n",
    "\n"
   ]
  },
  {
   "cell_type": "markdown",
   "metadata": {},
   "source": [
    "[Decide what ranges you will use for grouping and explain why.]"
   ]
  },
  {
   "cell_type": "code",
   "execution_count": 76,
   "metadata": {
    "scrolled": true
   },
   "outputs": [
    {
     "data": {
      "text/plain": [
       "(2947.571, 75144.739]       20943\n",
       "(75144.739, 146982.715]       258\n",
       "(146982.715, 218820.692]       21\n",
       "(218820.692, 290658.668]        6\n",
       "(290658.668, 362496.645]        2\n",
       "Name: total_income, dtype: int64"
      ]
     },
     "execution_count": 76,
     "metadata": {},
     "output_type": "execute_result"
    }
   ],
   "source": [
    "# Creating function for categorizing into different numerical groups based on ranges\n",
    "\n",
    "df.groupby(\"children\").mean()\n",
    "\n",
    "df['total_income'].value_counts(bins=5)\n"
   ]
  },
  {
   "cell_type": "code",
   "execution_count": 77,
   "metadata": {},
   "outputs": [
    {
     "name": "stdout",
     "output_type": "stream",
     "text": [
      "wedding ceremony                            785\n",
      "having a wedding                            759\n",
      "to have a wedding                           755\n",
      "real estate transactions                    669\n",
      "buy commercial real estate                  655\n",
      "buying property for renting out             647\n",
      "transactions with commercial real estate    643\n",
      "housing transactions                        641\n",
      "purchase of the house for my family         636\n",
      "housing                                     635\n",
      "purchase of the house                       634\n",
      "property                                    627\n",
      "construction of own property                626\n",
      "transactions with my real estate            623\n",
      "building a property                         619\n",
      "purchase of my own house                    618\n",
      "building a real estate                      617\n",
      "buy real estate                             612\n",
      "housing renovation                          602\n",
      "buy residential real estate                 599\n",
      "buying my own car                           501\n",
      "going to university                         493\n",
      "car                                         487\n",
      "second-hand car purchase                    479\n",
      "cars                                        474\n",
      "buying a second-hand car                    471\n",
      "to own a car                                470\n",
      "to buy a car                                465\n",
      "car purchase                                457\n",
      "purchase of a car                           454\n",
      "supplementary education                     453\n",
      "university education                        443\n",
      "to get a supplementary education            442\n",
      "education                                   439\n",
      "getting an education                        439\n",
      "profile education                           431\n",
      "getting higher education                    423\n",
      "to become educated                          407\n",
      "Name: purpose, dtype: int64\n",
      "                                      purpose  education_id\n",
      "0                       purchase of the house             0\n",
      "37                                       cars             0\n",
      "38                                   property             0\n",
      "40                   getting higher education             0\n",
      "43        purchase of the house for my family             0\n",
      "..                                        ...           ...\n",
      "143  transactions with commercial real estate             4\n",
      "137               buy residential real estate             4\n",
      "150                       going to university             4\n",
      "154                     purchase of the house             4\n",
      "156                buy commercial real estate             4\n",
      "\n",
      "[157 rows x 2 columns]\n"
     ]
    }
   ],
   "source": [
    "print(df['purpose'].value_counts())\n",
    "purpose_log = df[['education_id', 'family_status_id']]\n",
    "purpose_ref = df[['purpose','education_id']]\n",
    "purpose_ref = purpose_ref.drop_duplicates().reset_index(drop=True)\n",
    "print(purpose_ref.sort_values('education_id')) "
   ]
  },
  {
   "cell_type": "code",
   "execution_count": 78,
   "metadata": {},
   "outputs": [
    {
     "name": "stdout",
     "output_type": "stream",
     "text": [
      "employee                       10961\n",
      "business                        5026\n",
      "retiree                         3792\n",
      "civil servant                   1445\n",
      "unemployed                         2\n",
      "entrepreneur                       2\n",
      "student                            1\n",
      "paternity / maternity leave        1\n",
      "Name: income_type, dtype: int64\n",
      "                    income_type  family_status_id\n",
      "0                      employee                 0\n",
      "21                 entrepreneur                 0\n",
      "20                   unemployed                 0\n",
      "9                 civil servant                 0\n",
      "8                       retiree                 0\n",
      "25  paternity / maternity leave                 0\n",
      "3                      business                 0\n",
      "23                   unemployed                 1\n",
      "4                      employee                 1\n",
      "1                       retiree                 1\n",
      "2                      business                 1\n",
      "24                 entrepreneur                 1\n",
      "13                civil servant                 1\n",
      "14                     employee                 2\n",
      "5                       retiree                 2\n",
      "19                civil servant                 2\n",
      "17                     business                 2\n",
      "6                      employee                 3\n",
      "12                     business                 3\n",
      "16                      retiree                 3\n",
      "18                civil servant                 3\n",
      "11                     business                 4\n",
      "10                     employee                 4\n",
      "22                      student                 4\n",
      "7                       retiree                 4\n",
      "15                civil servant                 4\n"
     ]
    }
   ],
   "source": [
    "print(df['income_type'].value_counts())\n",
    "income_log = df[['education_id', 'family_status_id']]\n",
    "income_ref = df[['income_type','family_status_id']]\n",
    "income_ref = income_ref.drop_duplicates().reset_index(drop=True)\n",
    "print(income_ref.sort_values('family_status_id')) "
   ]
  },
  {
   "cell_type": "code",
   "execution_count": 79,
   "metadata": {},
   "outputs": [],
   "source": [
    "#create a function to label income lvl\n",
    "\n",
    "def income_assignment(total_income):\n",
    "    if total_income <= 17000:\n",
    "        return 'small'\n",
    "    elif total_income <= 50000:\n",
    "        return 'medium'\n",
    "    else:\n",
    "        return 'large'\n",
    "        "
   ]
  },
  {
   "cell_type": "code",
   "execution_count": 80,
   "metadata": {},
   "outputs": [],
   "source": [
    "df['income_label'] = df['total_income'].apply(income_assignment)"
   ]
  },
  {
   "cell_type": "code",
   "execution_count": 81,
   "metadata": {},
   "outputs": [
    {
     "data": {
      "text/html": [
       "<div>\n",
       "<style scoped>\n",
       "    .dataframe tbody tr th:only-of-type {\n",
       "        vertical-align: middle;\n",
       "    }\n",
       "\n",
       "    .dataframe tbody tr th {\n",
       "        vertical-align: top;\n",
       "    }\n",
       "\n",
       "    .dataframe thead th {\n",
       "        text-align: right;\n",
       "    }\n",
       "</style>\n",
       "<table border=\"1\" class=\"dataframe\">\n",
       "  <thead>\n",
       "    <tr style=\"text-align: right;\">\n",
       "      <th></th>\n",
       "      <th>children</th>\n",
       "      <th>days_employed</th>\n",
       "      <th>dob_years</th>\n",
       "      <th>education</th>\n",
       "      <th>education_id</th>\n",
       "      <th>family_status</th>\n",
       "      <th>family_status_id</th>\n",
       "      <th>gender</th>\n",
       "      <th>income_type</th>\n",
       "      <th>debt</th>\n",
       "      <th>total_income</th>\n",
       "      <th>purpose</th>\n",
       "      <th>age_group</th>\n",
       "      <th>income_label</th>\n",
       "    </tr>\n",
       "  </thead>\n",
       "  <tbody>\n",
       "    <tr>\n",
       "      <th>0</th>\n",
       "      <td>1</td>\n",
       "      <td>8437</td>\n",
       "      <td>42</td>\n",
       "      <td>bachelor's degree</td>\n",
       "      <td>0</td>\n",
       "      <td>married</td>\n",
       "      <td>0</td>\n",
       "      <td>F</td>\n",
       "      <td>employee</td>\n",
       "      <td>0</td>\n",
       "      <td>40620.102</td>\n",
       "      <td>purchase of the house</td>\n",
       "      <td>middle aged</td>\n",
       "      <td>medium</td>\n",
       "    </tr>\n",
       "    <tr>\n",
       "      <th>1</th>\n",
       "      <td>1</td>\n",
       "      <td>4024</td>\n",
       "      <td>36</td>\n",
       "      <td>secondary education</td>\n",
       "      <td>1</td>\n",
       "      <td>married</td>\n",
       "      <td>0</td>\n",
       "      <td>F</td>\n",
       "      <td>employee</td>\n",
       "      <td>0</td>\n",
       "      <td>17932.802</td>\n",
       "      <td>car purchase</td>\n",
       "      <td>adult</td>\n",
       "      <td>medium</td>\n",
       "    </tr>\n",
       "    <tr>\n",
       "      <th>2</th>\n",
       "      <td>0</td>\n",
       "      <td>5623</td>\n",
       "      <td>33</td>\n",
       "      <td>secondary education</td>\n",
       "      <td>1</td>\n",
       "      <td>married</td>\n",
       "      <td>0</td>\n",
       "      <td>M</td>\n",
       "      <td>employee</td>\n",
       "      <td>0</td>\n",
       "      <td>23341.752</td>\n",
       "      <td>purchase of the house</td>\n",
       "      <td>adult</td>\n",
       "      <td>medium</td>\n",
       "    </tr>\n",
       "    <tr>\n",
       "      <th>3</th>\n",
       "      <td>3</td>\n",
       "      <td>4124</td>\n",
       "      <td>32</td>\n",
       "      <td>secondary education</td>\n",
       "      <td>1</td>\n",
       "      <td>married</td>\n",
       "      <td>0</td>\n",
       "      <td>M</td>\n",
       "      <td>employee</td>\n",
       "      <td>0</td>\n",
       "      <td>42820.568</td>\n",
       "      <td>supplementary education</td>\n",
       "      <td>adult</td>\n",
       "      <td>medium</td>\n",
       "    </tr>\n",
       "    <tr>\n",
       "      <th>4</th>\n",
       "      <td>0</td>\n",
       "      <td>1631</td>\n",
       "      <td>53</td>\n",
       "      <td>secondary education</td>\n",
       "      <td>1</td>\n",
       "      <td>civil partnership</td>\n",
       "      <td>1</td>\n",
       "      <td>F</td>\n",
       "      <td>retiree</td>\n",
       "      <td>0</td>\n",
       "      <td>25378.572</td>\n",
       "      <td>to have a wedding</td>\n",
       "      <td>middle aged</td>\n",
       "      <td>medium</td>\n",
       "    </tr>\n",
       "  </tbody>\n",
       "</table>\n",
       "</div>"
      ],
      "text/plain": [
       "   children  days_employed  dob_years            education  education_id  \\\n",
       "0         1           8437         42    bachelor's degree             0   \n",
       "1         1           4024         36  secondary education             1   \n",
       "2         0           5623         33  secondary education             1   \n",
       "3         3           4124         32  secondary education             1   \n",
       "4         0           1631         53  secondary education             1   \n",
       "\n",
       "       family_status  family_status_id gender income_type  debt  total_income  \\\n",
       "0            married                 0      F    employee     0     40620.102   \n",
       "1            married                 0      F    employee     0     17932.802   \n",
       "2            married                 0      M    employee     0     23341.752   \n",
       "3            married                 0      M    employee     0     42820.568   \n",
       "4  civil partnership                 1      F     retiree     0     25378.572   \n",
       "\n",
       "                   purpose    age_group income_label  \n",
       "0    purchase of the house  middle aged       medium  \n",
       "1             car purchase        adult       medium  \n",
       "2    purchase of the house        adult       medium  \n",
       "3  supplementary education        adult       medium  \n",
       "4        to have a wedding  middle aged       medium  "
      ]
     },
     "execution_count": 81,
     "metadata": {},
     "output_type": "execute_result"
    }
   ],
   "source": [
    "df.head()"
   ]
  },
  {
   "cell_type": "markdown",
   "metadata": {},
   "source": [
    "## Checking the Hypotheses\n"
   ]
  },
  {
   "cell_type": "markdown",
   "metadata": {},
   "source": [
    "**Is there a correlation between having children and paying back on time?**\n",
    "There is no correlation between having children and paying back on time. If a person had 5 children , according to their dataset the default rate would be 0. However there are only 9 persons in the dataset that have 5 children so we don't know how many more persons with 5 children could impace the dataset. The majority of of persons had 0 or 1 children and they had a low likelyhood to defaulting on loans."
   ]
  },
  {
   "cell_type": "code",
   "execution_count": 82,
   "metadata": {},
   "outputs": [
    {
     "data": {
      "text/plain": [
       "children\n",
       "4    0.097561\n",
       "2    0.095145\n",
       "1    0.092028\n",
       "3    0.082317\n",
       "0    0.075458\n",
       "5    0.000000\n",
       "Name: debt, dtype: float64"
      ]
     },
     "execution_count": 82,
     "metadata": {},
     "output_type": "execute_result"
    }
   ],
   "source": [
    "# Check the children data and paying back on time\n",
    "\n",
    "df[[\"children\", \"debt\", \"purpose\"]].groupby(\"children\")['debt'].mean().sort_values(ascending= False)\n",
    "\n",
    "# Calculating default-rate based on the number of children\n",
    "\n",
    "\n",
    "# closer to 1.0, greater likely-hood to defaulting\n",
    "\n"
   ]
  },
  {
   "cell_type": "code",
   "execution_count": 83,
   "metadata": {},
   "outputs": [
    {
     "data": {
      "text/plain": [
       "children\n",
       "0    14021\n",
       "1     4792\n",
       "2     2039\n",
       "3      328\n",
       "4       41\n",
       "5        9\n",
       "dtype: int64"
      ]
     },
     "execution_count": 83,
     "metadata": {},
     "output_type": "execute_result"
    }
   ],
   "source": [
    "df.groupby('children').size()"
   ]
  },
  {
   "cell_type": "markdown",
   "metadata": {},
   "source": [
    "**Is there a correlation between family status and paying back on time?**\n",
    "\n",
    "There seems to be a correlation betwwen family status and paying pack on team. Persons that are married, involved in a civil partnership and unmarried seem to have no trouble paying back loans and are the majority of the dataset. Divorcees and widow/er's seem to have a lower default rate than the top three but it could be related to the lower number in their specific datasets compared to the other family status's."
   ]
  },
  {
   "cell_type": "code",
   "execution_count": 84,
   "metadata": {},
   "outputs": [
    {
     "data": {
      "text/plain": [
       "family_status\n",
       "unmarried            0.097842\n",
       "civil partnership    0.093142\n",
       "married              0.075575\n",
       "divorced             0.071247\n",
       "widow / widower      0.065539\n",
       "Name: debt, dtype: float64"
      ]
     },
     "execution_count": 84,
     "metadata": {},
     "output_type": "execute_result"
    }
   ],
   "source": [
    "# Check the family status data and paying back on time\n",
    "\n",
    "df[[\"family_status\", \"debt\", \"purpose\"]].groupby(\"family_status\")['debt'].mean().sort_values(ascending= False)\n",
    "\n",
    "\n",
    "# Calculating default-rate based on family status"
   ]
  },
  {
   "cell_type": "code",
   "execution_count": 85,
   "metadata": {},
   "outputs": [
    {
     "data": {
      "text/plain": [
       "family_status\n",
       "married              12213\n",
       "civil partnership     4112\n",
       "unmarried             2780\n",
       "divorced              1179\n",
       "widow / widower        946\n",
       "dtype: int64"
      ]
     },
     "execution_count": 85,
     "metadata": {},
     "output_type": "execute_result"
    }
   ],
   "source": [
    "df.groupby('family_status').size().sort_values(ascending= False)"
   ]
  },
  {
   "cell_type": "markdown",
   "metadata": {},
   "source": [
    "**Is there a correlation between income level and paying back on time?**\n",
    "There is a small correlation between income level and paying loans back on time. Persons with incomes less than 17k default 9% of the time, 50k and under 8% and 50k+ 7% of the time. The majority of the dataset falls within the medium category and only 8% of them default on their loans. So their is very low correlation dependent on income level."
   ]
  },
  {
   "cell_type": "code",
   "execution_count": 86,
   "metadata": {},
   "outputs": [
    {
     "data": {
      "text/plain": [
       "income_label\n",
       "medium    0.082989\n",
       "small     0.078978\n",
       "large     0.069962\n",
       "Name: debt, dtype: float64"
      ]
     },
     "execution_count": 86,
     "metadata": {},
     "output_type": "execute_result"
    }
   ],
   "source": [
    "# Check the income level data and paying back on time\n",
    "\n",
    "df[[\"total_income\", \"debt\",\"income_label\"]].groupby(\"income_label\")['debt'].mean().sort_values(ascending= False)\n",
    "\n",
    "\n",
    "# Calculating default-rate based on income level\n",
    "\n"
   ]
  },
  {
   "cell_type": "code",
   "execution_count": 87,
   "metadata": {},
   "outputs": [
    {
     "data": {
      "text/plain": [
       "income_label\n",
       "medium    14749\n",
       "small      5166\n",
       "large      1315\n",
       "dtype: int64"
      ]
     },
     "execution_count": 87,
     "metadata": {},
     "output_type": "execute_result"
    }
   ],
   "source": [
    "df.groupby('income_label').size().sort_values(ascending= False)"
   ]
  },
  {
   "cell_type": "markdown",
   "metadata": {},
   "source": [
    "**How does credit purpose affect the default rate?**"
   ]
  },
  {
   "cell_type": "code",
   "execution_count": 88,
   "metadata": {},
   "outputs": [],
   "source": [
    "df.loc[df['purpose'].str.contains('house'), 'purpose_list'] = 'real estate'\n",
    "df.loc[df['purpose'].str.contains('car'), 'purpose_list'] = 'car'\n",
    "df.loc[df['purpose'].str.contains('edu'), 'purpose_list'] = 'education'\n",
    "df.loc[df['purpose'].str.contains('marriage'), 'purpose_list'] = 'marriage'"
   ]
  },
  {
   "cell_type": "code",
   "execution_count": 89,
   "metadata": {},
   "outputs": [
    {
     "data": {
      "text/html": [
       "<div>\n",
       "<style scoped>\n",
       "    .dataframe tbody tr th:only-of-type {\n",
       "        vertical-align: middle;\n",
       "    }\n",
       "\n",
       "    .dataframe tbody tr th {\n",
       "        vertical-align: top;\n",
       "    }\n",
       "\n",
       "    .dataframe thead th {\n",
       "        text-align: right;\n",
       "    }\n",
       "</style>\n",
       "<table border=\"1\" class=\"dataframe\">\n",
       "  <thead>\n",
       "    <tr style=\"text-align: right;\">\n",
       "      <th></th>\n",
       "      <th>children</th>\n",
       "      <th>days_employed</th>\n",
       "      <th>dob_years</th>\n",
       "      <th>education</th>\n",
       "      <th>education_id</th>\n",
       "      <th>family_status</th>\n",
       "      <th>family_status_id</th>\n",
       "      <th>gender</th>\n",
       "      <th>income_type</th>\n",
       "      <th>debt</th>\n",
       "      <th>total_income</th>\n",
       "      <th>purpose</th>\n",
       "      <th>age_group</th>\n",
       "      <th>income_label</th>\n",
       "      <th>purpose_list</th>\n",
       "    </tr>\n",
       "  </thead>\n",
       "  <tbody>\n",
       "    <tr>\n",
       "      <th>0</th>\n",
       "      <td>1</td>\n",
       "      <td>8437</td>\n",
       "      <td>42</td>\n",
       "      <td>bachelor's degree</td>\n",
       "      <td>0</td>\n",
       "      <td>married</td>\n",
       "      <td>0</td>\n",
       "      <td>F</td>\n",
       "      <td>employee</td>\n",
       "      <td>0</td>\n",
       "      <td>40620.102</td>\n",
       "      <td>purchase of the house</td>\n",
       "      <td>middle aged</td>\n",
       "      <td>medium</td>\n",
       "      <td>real estate</td>\n",
       "    </tr>\n",
       "    <tr>\n",
       "      <th>1</th>\n",
       "      <td>1</td>\n",
       "      <td>4024</td>\n",
       "      <td>36</td>\n",
       "      <td>secondary education</td>\n",
       "      <td>1</td>\n",
       "      <td>married</td>\n",
       "      <td>0</td>\n",
       "      <td>F</td>\n",
       "      <td>employee</td>\n",
       "      <td>0</td>\n",
       "      <td>17932.802</td>\n",
       "      <td>car purchase</td>\n",
       "      <td>adult</td>\n",
       "      <td>medium</td>\n",
       "      <td>car</td>\n",
       "    </tr>\n",
       "    <tr>\n",
       "      <th>2</th>\n",
       "      <td>0</td>\n",
       "      <td>5623</td>\n",
       "      <td>33</td>\n",
       "      <td>secondary education</td>\n",
       "      <td>1</td>\n",
       "      <td>married</td>\n",
       "      <td>0</td>\n",
       "      <td>M</td>\n",
       "      <td>employee</td>\n",
       "      <td>0</td>\n",
       "      <td>23341.752</td>\n",
       "      <td>purchase of the house</td>\n",
       "      <td>adult</td>\n",
       "      <td>medium</td>\n",
       "      <td>real estate</td>\n",
       "    </tr>\n",
       "    <tr>\n",
       "      <th>3</th>\n",
       "      <td>3</td>\n",
       "      <td>4124</td>\n",
       "      <td>32</td>\n",
       "      <td>secondary education</td>\n",
       "      <td>1</td>\n",
       "      <td>married</td>\n",
       "      <td>0</td>\n",
       "      <td>M</td>\n",
       "      <td>employee</td>\n",
       "      <td>0</td>\n",
       "      <td>42820.568</td>\n",
       "      <td>supplementary education</td>\n",
       "      <td>adult</td>\n",
       "      <td>medium</td>\n",
       "      <td>education</td>\n",
       "    </tr>\n",
       "    <tr>\n",
       "      <th>4</th>\n",
       "      <td>0</td>\n",
       "      <td>1631</td>\n",
       "      <td>53</td>\n",
       "      <td>secondary education</td>\n",
       "      <td>1</td>\n",
       "      <td>civil partnership</td>\n",
       "      <td>1</td>\n",
       "      <td>F</td>\n",
       "      <td>retiree</td>\n",
       "      <td>0</td>\n",
       "      <td>25378.572</td>\n",
       "      <td>to have a wedding</td>\n",
       "      <td>middle aged</td>\n",
       "      <td>medium</td>\n",
       "      <td>NaN</td>\n",
       "    </tr>\n",
       "    <tr>\n",
       "      <th>5</th>\n",
       "      <td>0</td>\n",
       "      <td>926</td>\n",
       "      <td>27</td>\n",
       "      <td>bachelor's degree</td>\n",
       "      <td>0</td>\n",
       "      <td>civil partnership</td>\n",
       "      <td>1</td>\n",
       "      <td>M</td>\n",
       "      <td>business</td>\n",
       "      <td>0</td>\n",
       "      <td>40922.170</td>\n",
       "      <td>purchase of the house</td>\n",
       "      <td>youth</td>\n",
       "      <td>medium</td>\n",
       "      <td>real estate</td>\n",
       "    </tr>\n",
       "    <tr>\n",
       "      <th>6</th>\n",
       "      <td>0</td>\n",
       "      <td>2879</td>\n",
       "      <td>43</td>\n",
       "      <td>bachelor's degree</td>\n",
       "      <td>0</td>\n",
       "      <td>married</td>\n",
       "      <td>0</td>\n",
       "      <td>F</td>\n",
       "      <td>business</td>\n",
       "      <td>0</td>\n",
       "      <td>38484.156</td>\n",
       "      <td>housing transactions</td>\n",
       "      <td>middle aged</td>\n",
       "      <td>medium</td>\n",
       "      <td>NaN</td>\n",
       "    </tr>\n",
       "    <tr>\n",
       "      <th>7</th>\n",
       "      <td>0</td>\n",
       "      <td>152</td>\n",
       "      <td>50</td>\n",
       "      <td>secondary education</td>\n",
       "      <td>1</td>\n",
       "      <td>married</td>\n",
       "      <td>0</td>\n",
       "      <td>M</td>\n",
       "      <td>employee</td>\n",
       "      <td>0</td>\n",
       "      <td>21731.829</td>\n",
       "      <td>education</td>\n",
       "      <td>middle aged</td>\n",
       "      <td>medium</td>\n",
       "      <td>education</td>\n",
       "    </tr>\n",
       "    <tr>\n",
       "      <th>8</th>\n",
       "      <td>2</td>\n",
       "      <td>6929</td>\n",
       "      <td>35</td>\n",
       "      <td>bachelor's degree</td>\n",
       "      <td>0</td>\n",
       "      <td>civil partnership</td>\n",
       "      <td>1</td>\n",
       "      <td>F</td>\n",
       "      <td>employee</td>\n",
       "      <td>0</td>\n",
       "      <td>15337.093</td>\n",
       "      <td>having a wedding</td>\n",
       "      <td>adult</td>\n",
       "      <td>small</td>\n",
       "      <td>NaN</td>\n",
       "    </tr>\n",
       "    <tr>\n",
       "      <th>9</th>\n",
       "      <td>0</td>\n",
       "      <td>2188</td>\n",
       "      <td>41</td>\n",
       "      <td>secondary education</td>\n",
       "      <td>1</td>\n",
       "      <td>married</td>\n",
       "      <td>0</td>\n",
       "      <td>M</td>\n",
       "      <td>employee</td>\n",
       "      <td>0</td>\n",
       "      <td>23108.150</td>\n",
       "      <td>purchase of the house for my family</td>\n",
       "      <td>middle aged</td>\n",
       "      <td>medium</td>\n",
       "      <td>real estate</td>\n",
       "    </tr>\n",
       "  </tbody>\n",
       "</table>\n",
       "</div>"
      ],
      "text/plain": [
       "   children  days_employed  dob_years            education  education_id  \\\n",
       "0         1           8437         42    bachelor's degree             0   \n",
       "1         1           4024         36  secondary education             1   \n",
       "2         0           5623         33  secondary education             1   \n",
       "3         3           4124         32  secondary education             1   \n",
       "4         0           1631         53  secondary education             1   \n",
       "5         0            926         27    bachelor's degree             0   \n",
       "6         0           2879         43    bachelor's degree             0   \n",
       "7         0            152         50  secondary education             1   \n",
       "8         2           6929         35    bachelor's degree             0   \n",
       "9         0           2188         41  secondary education             1   \n",
       "\n",
       "       family_status  family_status_id gender income_type  debt  total_income  \\\n",
       "0            married                 0      F    employee     0     40620.102   \n",
       "1            married                 0      F    employee     0     17932.802   \n",
       "2            married                 0      M    employee     0     23341.752   \n",
       "3            married                 0      M    employee     0     42820.568   \n",
       "4  civil partnership                 1      F     retiree     0     25378.572   \n",
       "5  civil partnership                 1      M    business     0     40922.170   \n",
       "6            married                 0      F    business     0     38484.156   \n",
       "7            married                 0      M    employee     0     21731.829   \n",
       "8  civil partnership                 1      F    employee     0     15337.093   \n",
       "9            married                 0      M    employee     0     23108.150   \n",
       "\n",
       "                               purpose    age_group income_label purpose_list  \n",
       "0                purchase of the house  middle aged       medium  real estate  \n",
       "1                         car purchase        adult       medium          car  \n",
       "2                purchase of the house        adult       medium  real estate  \n",
       "3              supplementary education        adult       medium    education  \n",
       "4                    to have a wedding  middle aged       medium          NaN  \n",
       "5                purchase of the house        youth       medium  real estate  \n",
       "6                 housing transactions  middle aged       medium          NaN  \n",
       "7                            education  middle aged       medium    education  \n",
       "8                     having a wedding        adult        small          NaN  \n",
       "9  purchase of the house for my family  middle aged       medium  real estate  "
      ]
     },
     "execution_count": 89,
     "metadata": {},
     "output_type": "execute_result"
    }
   ],
   "source": [
    "df.head(10)"
   ]
  },
  {
   "cell_type": "code",
   "execution_count": 90,
   "metadata": {},
   "outputs": [],
   "source": [
    "purpose_dict = {\n",
    "    \"real estate transactions\":\n",
    "        'real estate',\n",
    "    \"transactions with my real estate\":\n",
    "        'real estate',\n",
    "    \"transactions with commercial real estate\":\n",
    "        'real estate',\n",
    "    \"buy real estate\":\n",
    "        'real estate',\n",
    "    \"purchase of the house\":\n",
    "        'real estate',\n",
    "    \"purchase of the house for my family\":\n",
    "        'real estate',\n",
    "    \"purchase of my own house\":\n",
    "        'real estate',\n",
    "    \"property\":\n",
    "        'real estate',\n",
    "    \"housing transactions\":\n",
    "        'real estate',\n",
    "    \"housing renovation\":\n",
    "        'real estate',\n",
    "    \"housing\":\n",
    "        'real estate',\n",
    "    \"construction of own property\":\n",
    "        'real estate',\n",
    "    \"buying property for renting out\":\n",
    "        'real estate',\n",
    "    \"buy residential real estate\":\n",
    "        'real estate',\n",
    "    \"buy real estate\":\n",
    "        'real estate',\n",
    "    \"buy commercial real estate\":\n",
    "        'real estate',\n",
    "    \"building a real estate\":\n",
    "        'real estate',\n",
    "    \"building a property\":\n",
    "        'real estate',\n",
    "    \"to own a car\":\n",
    "        'car transaction',\n",
    "    \"to buy a car\":\n",
    "        'car transaction',\n",
    "    \"second-hand car purchase\":\n",
    "        'car transaction',\n",
    "    \"purchase of a car\":\n",
    "        'car transaction',\n",
    "    \"cars\":\n",
    "        'car transaction',\n",
    "    \"car purchase\":\n",
    "        'car transaction',\n",
    "    \"car\":\n",
    "        'car transaction',\n",
    "    \"buying my own car\":\n",
    "        'car transaction',\n",
    "    \"buying a second-hand car\":\n",
    "        'car transaction',\n",
    "    \"university education\":\n",
    "        'education',\n",
    "    \"to get a supplementary education\":\n",
    "        'education',\n",
    "    \"supplementary education\":\n",
    "        'education',\n",
    "    \"profile education\":\n",
    "        'education',\n",
    "    \"education\":\n",
    "        'education',\n",
    "   \"getting an education\":\n",
    "        'education',\n",
    "   \"getting higher education\":\n",
    "        'education',\n",
    "   \"going to university\":\n",
    "        'education',\n",
    "    \"wedding ceremony\":\n",
    "        'marriage',\n",
    "    \"to have a wedding\":\n",
    "        'marriage',\n",
    "    \"having a wedding\":\n",
    "        'marriage',\n",
    "    \"to become educated\":\n",
    "        'education',\n",
    "    \"buy real estate\":\n",
    "        'real estate'\n",
    "}        \n",
    "    "
   ]
  },
  {
   "cell_type": "code",
   "execution_count": 91,
   "metadata": {},
   "outputs": [],
   "source": [
    "def purpose_list(purpose):\n",
    "    if ('car') in purpose:\n",
    "        return 'Car Transaction'\n",
    "    elif ('real') in purpose or ('housing') in purpose or ('house') in purpose:\n",
    "        return 'Real Estate Transaction'\n",
    "    elif ('education') in purpose or ('university') in purpose:\n",
    "        return ' Educational Transaction'\n",
    "    else:\n",
    "        return 'Wedding Transaction'\n"
   ]
  },
  {
   "cell_type": "code",
   "execution_count": 92,
   "metadata": {},
   "outputs": [],
   "source": [
    "df['purpose_grouped'] = df['purpose'].apply(purpose_list)"
   ]
  },
  {
   "cell_type": "code",
   "execution_count": 93,
   "metadata": {},
   "outputs": [
    {
     "data": {
      "text/html": [
       "<div>\n",
       "<style scoped>\n",
       "    .dataframe tbody tr th:only-of-type {\n",
       "        vertical-align: middle;\n",
       "    }\n",
       "\n",
       "    .dataframe tbody tr th {\n",
       "        vertical-align: top;\n",
       "    }\n",
       "\n",
       "    .dataframe thead th {\n",
       "        text-align: right;\n",
       "    }\n",
       "</style>\n",
       "<table border=\"1\" class=\"dataframe\">\n",
       "  <thead>\n",
       "    <tr style=\"text-align: right;\">\n",
       "      <th></th>\n",
       "      <th>children</th>\n",
       "      <th>days_employed</th>\n",
       "      <th>dob_years</th>\n",
       "      <th>education</th>\n",
       "      <th>education_id</th>\n",
       "      <th>family_status</th>\n",
       "      <th>family_status_id</th>\n",
       "      <th>gender</th>\n",
       "      <th>income_type</th>\n",
       "      <th>debt</th>\n",
       "      <th>total_income</th>\n",
       "      <th>purpose</th>\n",
       "      <th>age_group</th>\n",
       "      <th>income_label</th>\n",
       "      <th>purpose_list</th>\n",
       "      <th>purpose_grouped</th>\n",
       "    </tr>\n",
       "  </thead>\n",
       "  <tbody>\n",
       "    <tr>\n",
       "      <th>0</th>\n",
       "      <td>1</td>\n",
       "      <td>8437</td>\n",
       "      <td>42</td>\n",
       "      <td>bachelor's degree</td>\n",
       "      <td>0</td>\n",
       "      <td>married</td>\n",
       "      <td>0</td>\n",
       "      <td>F</td>\n",
       "      <td>employee</td>\n",
       "      <td>0</td>\n",
       "      <td>40620.102</td>\n",
       "      <td>purchase of the house</td>\n",
       "      <td>middle aged</td>\n",
       "      <td>medium</td>\n",
       "      <td>real estate</td>\n",
       "      <td>Real Estate Transaction</td>\n",
       "    </tr>\n",
       "    <tr>\n",
       "      <th>1</th>\n",
       "      <td>1</td>\n",
       "      <td>4024</td>\n",
       "      <td>36</td>\n",
       "      <td>secondary education</td>\n",
       "      <td>1</td>\n",
       "      <td>married</td>\n",
       "      <td>0</td>\n",
       "      <td>F</td>\n",
       "      <td>employee</td>\n",
       "      <td>0</td>\n",
       "      <td>17932.802</td>\n",
       "      <td>car purchase</td>\n",
       "      <td>adult</td>\n",
       "      <td>medium</td>\n",
       "      <td>car</td>\n",
       "      <td>Car Transaction</td>\n",
       "    </tr>\n",
       "    <tr>\n",
       "      <th>2</th>\n",
       "      <td>0</td>\n",
       "      <td>5623</td>\n",
       "      <td>33</td>\n",
       "      <td>secondary education</td>\n",
       "      <td>1</td>\n",
       "      <td>married</td>\n",
       "      <td>0</td>\n",
       "      <td>M</td>\n",
       "      <td>employee</td>\n",
       "      <td>0</td>\n",
       "      <td>23341.752</td>\n",
       "      <td>purchase of the house</td>\n",
       "      <td>adult</td>\n",
       "      <td>medium</td>\n",
       "      <td>real estate</td>\n",
       "      <td>Real Estate Transaction</td>\n",
       "    </tr>\n",
       "    <tr>\n",
       "      <th>3</th>\n",
       "      <td>3</td>\n",
       "      <td>4124</td>\n",
       "      <td>32</td>\n",
       "      <td>secondary education</td>\n",
       "      <td>1</td>\n",
       "      <td>married</td>\n",
       "      <td>0</td>\n",
       "      <td>M</td>\n",
       "      <td>employee</td>\n",
       "      <td>0</td>\n",
       "      <td>42820.568</td>\n",
       "      <td>supplementary education</td>\n",
       "      <td>adult</td>\n",
       "      <td>medium</td>\n",
       "      <td>education</td>\n",
       "      <td>Educational Transaction</td>\n",
       "    </tr>\n",
       "    <tr>\n",
       "      <th>4</th>\n",
       "      <td>0</td>\n",
       "      <td>1631</td>\n",
       "      <td>53</td>\n",
       "      <td>secondary education</td>\n",
       "      <td>1</td>\n",
       "      <td>civil partnership</td>\n",
       "      <td>1</td>\n",
       "      <td>F</td>\n",
       "      <td>retiree</td>\n",
       "      <td>0</td>\n",
       "      <td>25378.572</td>\n",
       "      <td>to have a wedding</td>\n",
       "      <td>middle aged</td>\n",
       "      <td>medium</td>\n",
       "      <td>NaN</td>\n",
       "      <td>Wedding Transaction</td>\n",
       "    </tr>\n",
       "    <tr>\n",
       "      <th>5</th>\n",
       "      <td>0</td>\n",
       "      <td>926</td>\n",
       "      <td>27</td>\n",
       "      <td>bachelor's degree</td>\n",
       "      <td>0</td>\n",
       "      <td>civil partnership</td>\n",
       "      <td>1</td>\n",
       "      <td>M</td>\n",
       "      <td>business</td>\n",
       "      <td>0</td>\n",
       "      <td>40922.170</td>\n",
       "      <td>purchase of the house</td>\n",
       "      <td>youth</td>\n",
       "      <td>medium</td>\n",
       "      <td>real estate</td>\n",
       "      <td>Real Estate Transaction</td>\n",
       "    </tr>\n",
       "    <tr>\n",
       "      <th>6</th>\n",
       "      <td>0</td>\n",
       "      <td>2879</td>\n",
       "      <td>43</td>\n",
       "      <td>bachelor's degree</td>\n",
       "      <td>0</td>\n",
       "      <td>married</td>\n",
       "      <td>0</td>\n",
       "      <td>F</td>\n",
       "      <td>business</td>\n",
       "      <td>0</td>\n",
       "      <td>38484.156</td>\n",
       "      <td>housing transactions</td>\n",
       "      <td>middle aged</td>\n",
       "      <td>medium</td>\n",
       "      <td>NaN</td>\n",
       "      <td>Real Estate Transaction</td>\n",
       "    </tr>\n",
       "    <tr>\n",
       "      <th>7</th>\n",
       "      <td>0</td>\n",
       "      <td>152</td>\n",
       "      <td>50</td>\n",
       "      <td>secondary education</td>\n",
       "      <td>1</td>\n",
       "      <td>married</td>\n",
       "      <td>0</td>\n",
       "      <td>M</td>\n",
       "      <td>employee</td>\n",
       "      <td>0</td>\n",
       "      <td>21731.829</td>\n",
       "      <td>education</td>\n",
       "      <td>middle aged</td>\n",
       "      <td>medium</td>\n",
       "      <td>education</td>\n",
       "      <td>Educational Transaction</td>\n",
       "    </tr>\n",
       "    <tr>\n",
       "      <th>8</th>\n",
       "      <td>2</td>\n",
       "      <td>6929</td>\n",
       "      <td>35</td>\n",
       "      <td>bachelor's degree</td>\n",
       "      <td>0</td>\n",
       "      <td>civil partnership</td>\n",
       "      <td>1</td>\n",
       "      <td>F</td>\n",
       "      <td>employee</td>\n",
       "      <td>0</td>\n",
       "      <td>15337.093</td>\n",
       "      <td>having a wedding</td>\n",
       "      <td>adult</td>\n",
       "      <td>small</td>\n",
       "      <td>NaN</td>\n",
       "      <td>Wedding Transaction</td>\n",
       "    </tr>\n",
       "    <tr>\n",
       "      <th>9</th>\n",
       "      <td>0</td>\n",
       "      <td>2188</td>\n",
       "      <td>41</td>\n",
       "      <td>secondary education</td>\n",
       "      <td>1</td>\n",
       "      <td>married</td>\n",
       "      <td>0</td>\n",
       "      <td>M</td>\n",
       "      <td>employee</td>\n",
       "      <td>0</td>\n",
       "      <td>23108.150</td>\n",
       "      <td>purchase of the house for my family</td>\n",
       "      <td>middle aged</td>\n",
       "      <td>medium</td>\n",
       "      <td>real estate</td>\n",
       "      <td>Real Estate Transaction</td>\n",
       "    </tr>\n",
       "  </tbody>\n",
       "</table>\n",
       "</div>"
      ],
      "text/plain": [
       "   children  days_employed  dob_years            education  education_id  \\\n",
       "0         1           8437         42    bachelor's degree             0   \n",
       "1         1           4024         36  secondary education             1   \n",
       "2         0           5623         33  secondary education             1   \n",
       "3         3           4124         32  secondary education             1   \n",
       "4         0           1631         53  secondary education             1   \n",
       "5         0            926         27    bachelor's degree             0   \n",
       "6         0           2879         43    bachelor's degree             0   \n",
       "7         0            152         50  secondary education             1   \n",
       "8         2           6929         35    bachelor's degree             0   \n",
       "9         0           2188         41  secondary education             1   \n",
       "\n",
       "       family_status  family_status_id gender income_type  debt  total_income  \\\n",
       "0            married                 0      F    employee     0     40620.102   \n",
       "1            married                 0      F    employee     0     17932.802   \n",
       "2            married                 0      M    employee     0     23341.752   \n",
       "3            married                 0      M    employee     0     42820.568   \n",
       "4  civil partnership                 1      F     retiree     0     25378.572   \n",
       "5  civil partnership                 1      M    business     0     40922.170   \n",
       "6            married                 0      F    business     0     38484.156   \n",
       "7            married                 0      M    employee     0     21731.829   \n",
       "8  civil partnership                 1      F    employee     0     15337.093   \n",
       "9            married                 0      M    employee     0     23108.150   \n",
       "\n",
       "                               purpose    age_group income_label purpose_list  \\\n",
       "0                purchase of the house  middle aged       medium  real estate   \n",
       "1                         car purchase        adult       medium          car   \n",
       "2                purchase of the house        adult       medium  real estate   \n",
       "3              supplementary education        adult       medium    education   \n",
       "4                    to have a wedding  middle aged       medium          NaN   \n",
       "5                purchase of the house        youth       medium  real estate   \n",
       "6                 housing transactions  middle aged       medium          NaN   \n",
       "7                            education  middle aged       medium    education   \n",
       "8                     having a wedding        adult        small          NaN   \n",
       "9  purchase of the house for my family  middle aged       medium  real estate   \n",
       "\n",
       "            purpose_grouped  \n",
       "0   Real Estate Transaction  \n",
       "1           Car Transaction  \n",
       "2   Real Estate Transaction  \n",
       "3   Educational Transaction  \n",
       "4       Wedding Transaction  \n",
       "5   Real Estate Transaction  \n",
       "6   Real Estate Transaction  \n",
       "7   Educational Transaction  \n",
       "8       Wedding Transaction  \n",
       "9   Real Estate Transaction  "
      ]
     },
     "execution_count": 93,
     "metadata": {},
     "output_type": "execute_result"
    }
   ],
   "source": [
    "df.head(10)"
   ]
  },
  {
   "cell_type": "code",
   "execution_count": 94,
   "metadata": {},
   "outputs": [
    {
     "name": "stdout",
     "output_type": "stream",
     "text": [
      "{'real estate transactions': 'real estate', 'transactions with my real estate': 'real estate', 'transactions with commercial real estate': 'real estate', 'buy real estate': 'real estate', 'purchase of the house': 'real estate', 'purchase of the house for my family': 'real estate', 'purchase of my own house': 'real estate', 'property': 'real estate', 'housing transactions': 'real estate', 'housing renovation': 'real estate', 'housing': 'real estate', 'construction of own property': 'real estate', 'buying property for renting out': 'real estate', 'buy residential real estate': 'real estate', 'buy commercial real estate': 'real estate', 'building a real estate': 'real estate', 'building a property': 'real estate', 'to own a car': 'car transaction', 'to buy a car': 'car transaction', 'second-hand car purchase': 'car transaction', 'purchase of a car': 'car transaction', 'cars': 'car transaction', 'car purchase': 'car transaction', 'car': 'car transaction', 'buying my own car': 'car transaction', 'buying a second-hand car': 'car transaction', 'university education': 'education', 'to get a supplementary education': 'education', 'supplementary education': 'education', 'profile education': 'education', 'education': 'education', 'getting an education': 'education', 'getting higher education': 'education', 'going to university': 'education', 'wedding ceremony': 'marriage', 'to have a wedding': 'marriage', 'having a wedding': 'marriage', 'to become educated': 'education'}\n"
     ]
    }
   ],
   "source": [
    "print(purpose_dict)"
   ]
  },
  {
   "cell_type": "code",
   "execution_count": 95,
   "metadata": {
    "scrolled": true
   },
   "outputs": [],
   "source": [
    "df['purpose_category'] = df['purpose'].replace(purpose_dict)\n"
   ]
  },
  {
   "cell_type": "code",
   "execution_count": 96,
   "metadata": {},
   "outputs": [
    {
     "data": {
      "text/plain": [
       "array(['real estate', 'car transaction', 'education', 'marriage'],\n",
       "      dtype=object)"
      ]
     },
     "execution_count": 96,
     "metadata": {},
     "output_type": "execute_result"
    }
   ],
   "source": [
    "df['purpose_category'].unique()"
   ]
  },
  {
   "cell_type": "code",
   "execution_count": 97,
   "metadata": {},
   "outputs": [
    {
     "data": {
      "text/html": [
       "<div>\n",
       "<style scoped>\n",
       "    .dataframe tbody tr th:only-of-type {\n",
       "        vertical-align: middle;\n",
       "    }\n",
       "\n",
       "    .dataframe tbody tr th {\n",
       "        vertical-align: top;\n",
       "    }\n",
       "\n",
       "    .dataframe thead th {\n",
       "        text-align: right;\n",
       "    }\n",
       "</style>\n",
       "<table border=\"1\" class=\"dataframe\">\n",
       "  <thead>\n",
       "    <tr style=\"text-align: right;\">\n",
       "      <th></th>\n",
       "      <th>children</th>\n",
       "      <th>days_employed</th>\n",
       "      <th>dob_years</th>\n",
       "      <th>education</th>\n",
       "      <th>education_id</th>\n",
       "      <th>family_status</th>\n",
       "      <th>family_status_id</th>\n",
       "      <th>gender</th>\n",
       "      <th>income_type</th>\n",
       "      <th>debt</th>\n",
       "      <th>total_income</th>\n",
       "      <th>purpose</th>\n",
       "      <th>age_group</th>\n",
       "      <th>income_label</th>\n",
       "      <th>purpose_list</th>\n",
       "      <th>purpose_grouped</th>\n",
       "      <th>purpose_category</th>\n",
       "    </tr>\n",
       "  </thead>\n",
       "  <tbody>\n",
       "    <tr>\n",
       "      <th>0</th>\n",
       "      <td>1</td>\n",
       "      <td>8437</td>\n",
       "      <td>42</td>\n",
       "      <td>bachelor's degree</td>\n",
       "      <td>0</td>\n",
       "      <td>married</td>\n",
       "      <td>0</td>\n",
       "      <td>F</td>\n",
       "      <td>employee</td>\n",
       "      <td>0</td>\n",
       "      <td>40620.102</td>\n",
       "      <td>purchase of the house</td>\n",
       "      <td>middle aged</td>\n",
       "      <td>medium</td>\n",
       "      <td>real estate</td>\n",
       "      <td>Real Estate Transaction</td>\n",
       "      <td>real estate</td>\n",
       "    </tr>\n",
       "    <tr>\n",
       "      <th>1</th>\n",
       "      <td>1</td>\n",
       "      <td>4024</td>\n",
       "      <td>36</td>\n",
       "      <td>secondary education</td>\n",
       "      <td>1</td>\n",
       "      <td>married</td>\n",
       "      <td>0</td>\n",
       "      <td>F</td>\n",
       "      <td>employee</td>\n",
       "      <td>0</td>\n",
       "      <td>17932.802</td>\n",
       "      <td>car purchase</td>\n",
       "      <td>adult</td>\n",
       "      <td>medium</td>\n",
       "      <td>car</td>\n",
       "      <td>Car Transaction</td>\n",
       "      <td>car transaction</td>\n",
       "    </tr>\n",
       "    <tr>\n",
       "      <th>2</th>\n",
       "      <td>0</td>\n",
       "      <td>5623</td>\n",
       "      <td>33</td>\n",
       "      <td>secondary education</td>\n",
       "      <td>1</td>\n",
       "      <td>married</td>\n",
       "      <td>0</td>\n",
       "      <td>M</td>\n",
       "      <td>employee</td>\n",
       "      <td>0</td>\n",
       "      <td>23341.752</td>\n",
       "      <td>purchase of the house</td>\n",
       "      <td>adult</td>\n",
       "      <td>medium</td>\n",
       "      <td>real estate</td>\n",
       "      <td>Real Estate Transaction</td>\n",
       "      <td>real estate</td>\n",
       "    </tr>\n",
       "    <tr>\n",
       "      <th>3</th>\n",
       "      <td>3</td>\n",
       "      <td>4124</td>\n",
       "      <td>32</td>\n",
       "      <td>secondary education</td>\n",
       "      <td>1</td>\n",
       "      <td>married</td>\n",
       "      <td>0</td>\n",
       "      <td>M</td>\n",
       "      <td>employee</td>\n",
       "      <td>0</td>\n",
       "      <td>42820.568</td>\n",
       "      <td>supplementary education</td>\n",
       "      <td>adult</td>\n",
       "      <td>medium</td>\n",
       "      <td>education</td>\n",
       "      <td>Educational Transaction</td>\n",
       "      <td>education</td>\n",
       "    </tr>\n",
       "    <tr>\n",
       "      <th>4</th>\n",
       "      <td>0</td>\n",
       "      <td>1631</td>\n",
       "      <td>53</td>\n",
       "      <td>secondary education</td>\n",
       "      <td>1</td>\n",
       "      <td>civil partnership</td>\n",
       "      <td>1</td>\n",
       "      <td>F</td>\n",
       "      <td>retiree</td>\n",
       "      <td>0</td>\n",
       "      <td>25378.572</td>\n",
       "      <td>to have a wedding</td>\n",
       "      <td>middle aged</td>\n",
       "      <td>medium</td>\n",
       "      <td>NaN</td>\n",
       "      <td>Wedding Transaction</td>\n",
       "      <td>marriage</td>\n",
       "    </tr>\n",
       "  </tbody>\n",
       "</table>\n",
       "</div>"
      ],
      "text/plain": [
       "   children  days_employed  dob_years            education  education_id  \\\n",
       "0         1           8437         42    bachelor's degree             0   \n",
       "1         1           4024         36  secondary education             1   \n",
       "2         0           5623         33  secondary education             1   \n",
       "3         3           4124         32  secondary education             1   \n",
       "4         0           1631         53  secondary education             1   \n",
       "\n",
       "       family_status  family_status_id gender income_type  debt  total_income  \\\n",
       "0            married                 0      F    employee     0     40620.102   \n",
       "1            married                 0      F    employee     0     17932.802   \n",
       "2            married                 0      M    employee     0     23341.752   \n",
       "3            married                 0      M    employee     0     42820.568   \n",
       "4  civil partnership                 1      F     retiree     0     25378.572   \n",
       "\n",
       "                   purpose    age_group income_label purpose_list  \\\n",
       "0    purchase of the house  middle aged       medium  real estate   \n",
       "1             car purchase        adult       medium          car   \n",
       "2    purchase of the house        adult       medium  real estate   \n",
       "3  supplementary education        adult       medium    education   \n",
       "4        to have a wedding  middle aged       medium          NaN   \n",
       "\n",
       "            purpose_grouped purpose_category  \n",
       "0   Real Estate Transaction      real estate  \n",
       "1           Car Transaction  car transaction  \n",
       "2   Real Estate Transaction      real estate  \n",
       "3   Educational Transaction        education  \n",
       "4       Wedding Transaction         marriage  "
      ]
     },
     "execution_count": 97,
     "metadata": {},
     "output_type": "execute_result"
    }
   ],
   "source": [
    "df.head()"
   ]
  },
  {
   "cell_type": "code",
   "execution_count": 98,
   "metadata": {
    "scrolled": true
   },
   "outputs": [
    {
     "data": {
      "text/plain": [
       "purpose_category\n",
       "car transaction    0.093236\n",
       "education          0.092947\n",
       "marriage           0.078730\n",
       "real estate        0.072596\n",
       "Name: debt, dtype: float64"
      ]
     },
     "execution_count": 98,
     "metadata": {},
     "output_type": "execute_result"
    }
   ],
   "source": [
    "# Check the percentages for default rate for each credit purpose and analyze them\n",
    "\n",
    "df[[\"purpose_category\", \"debt\"]].groupby(\"purpose_category\")['debt'].mean().sort_values(ascending= False)\n",
    "\n"
   ]
  },
  {
   "cell_type": "code",
   "execution_count": 99,
   "metadata": {},
   "outputs": [
    {
     "data": {
      "text/plain": [
       "purpose_category\n",
       "real estate        10703\n",
       "car transaction     4258\n",
       "education           3970\n",
       "marriage            2299\n",
       "dtype: int64"
      ]
     },
     "execution_count": 99,
     "metadata": {},
     "output_type": "execute_result"
    }
   ],
   "source": [
    "df.groupby('purpose_category').size().sort_values(ascending= False)"
   ]
  },
  {
   "cell_type": "markdown",
   "metadata": {},
   "source": [
    "**Conclusion**\n",
    "\n",
    "I combined all of the purposes into groups that fit them. I then checked the default rate for those specific groups rather than multiple indivual purposes. It looks like people who are involved in transactions related to Real Estate have the lowest defualt rate but also the most people in the dataset. It would be a reasonable statement to say those involved with Real Estate would be pretty reliable to give a loan to. The ROI on Car and Education related expenses is not a beneficial as real estate. Those who are involved in Car and Edcuation related expenses have an almost 3% higher default rate than those who own real estate."
   ]
  },
  {
   "cell_type": "markdown",
   "metadata": {},
   "source": [
    "# General Conclusion \n",
    "\n"
   ]
  },
  {
   "cell_type": "markdown",
   "metadata": {},
   "source": [
    "I opened the data filestudied the general information of the set.\n",
    "\n",
    "I identified and filled in missing values. I filled in missing values in the total income column, Missing values were most likely present due to human error. I used the fillna function with median. I removed outliers so the median would be more accurate of the general dataset.\n",
    "\n",
    "Then I replaced the real number data type with the integer type, deleted duplicate data(I used the drop duplicate method to, we wanted to drop duplicatest to see if it would affect the data set, the removal of them didnt affect the dataset) and proceeded to categorize the data.(I used the astype to change the data type. I did this becuase some of the incomes had 5 numbers behind the decimal so to clean up the column)\n",
    "\n",
    " I used education and family status id as the dictionaries. I used them becuase I could map them to columns that are directly related to them (family and education).\n",
    "\n",
    "The data may contain artifacts, or values that don't correspond to reality (for instance, a negative number of days employed). This kind of thing happens when you're working with real data. You need to describe the possible reasons such data may have turned up and process it.*\n",
    "\n",
    "The total income had all negative values, I used a function to turn them all into positive. A reason such data might have been inside the data set would probably be due to human error.\n",
    "\n",
    "Is there a connection between having kids and repaying a loan on time? According to the dataset, there is no connection between the number of kids and repaying a loan on time.\n",
    "Is there a connection between marital status and repaying a loan on time? \n",
    "There doesnt seem to be a connection between marital status and repaying a loan on time. Married persons seem to default 7% of the time with the majority of the dataset at their disposal.\n",
    "Is there a connection between income level and repaying a loan on time? There seems to be no direct connection between income level and reapaying a loan on time. The three categories that I created (Small, Medium, High) all fell into the 7-9% default rate.\n",
    "How do different loan purposes affect on-time loan repayment? Peoples that own real estate seem to default less at a substantial rate as compared to \n"
   ]
  }
 ],
 "metadata": {
  "ExecuteTimeLog": [
   {
    "duration": 2741,
    "start_time": "2021-10-21T01:08:49.480Z"
   },
   {
    "duration": 52,
    "start_time": "2021-10-21T01:08:53.315Z"
   },
   {
    "duration": 49,
    "start_time": "2021-10-21T01:08:57.432Z"
   },
   {
    "duration": 70,
    "start_time": "2021-10-21T01:09:07.706Z"
   },
   {
    "duration": 640,
    "start_time": "2022-02-13T01:22:52.386Z"
   },
   {
    "duration": 537,
    "start_time": "2022-02-17T02:00:36.464Z"
   },
   {
    "duration": 46,
    "start_time": "2022-02-17T02:02:50.132Z"
   },
   {
    "duration": 223,
    "start_time": "2022-02-17T02:04:28.366Z"
   },
   {
    "duration": 36,
    "start_time": "2022-02-17T02:05:34.308Z"
   },
   {
    "duration": 43,
    "start_time": "2022-02-17T02:05:48.651Z"
   },
   {
    "duration": 40,
    "start_time": "2022-02-17T02:05:57.259Z"
   },
   {
    "duration": 183,
    "start_time": "2022-02-17T02:06:00.022Z"
   },
   {
    "duration": 41,
    "start_time": "2022-02-17T02:06:18.321Z"
   },
   {
    "duration": 44,
    "start_time": "2022-02-17T02:06:32.937Z"
   },
   {
    "duration": 8,
    "start_time": "2022-02-17T02:06:54.069Z"
   },
   {
    "duration": 8,
    "start_time": "2022-02-17T02:07:00.627Z"
   },
   {
    "duration": 12,
    "start_time": "2022-02-17T02:07:27.289Z"
   },
   {
    "duration": 64,
    "start_time": "2022-02-17T02:17:05.247Z"
   },
   {
    "duration": 169,
    "start_time": "2022-02-17T02:17:12.307Z"
   },
   {
    "duration": 12,
    "start_time": "2022-02-17T02:25:36.253Z"
   },
   {
    "duration": 13,
    "start_time": "2022-02-17T02:25:50.032Z"
   },
   {
    "duration": 3,
    "start_time": "2022-02-17T02:26:23.017Z"
   },
   {
    "duration": 167,
    "start_time": "2022-02-17T02:27:07.047Z"
   },
   {
    "duration": 163,
    "start_time": "2022-02-17T02:27:20.138Z"
   },
   {
    "duration": 168,
    "start_time": "2022-02-17T02:27:30.411Z"
   },
   {
    "duration": 165,
    "start_time": "2022-02-17T02:29:36.325Z"
   },
   {
    "duration": 14,
    "start_time": "2022-02-17T02:29:52.589Z"
   },
   {
    "duration": 10,
    "start_time": "2022-02-17T02:29:57.263Z"
   },
   {
    "duration": 10,
    "start_time": "2022-02-17T02:30:07.057Z"
   },
   {
    "duration": 11,
    "start_time": "2022-02-17T02:30:29.258Z"
   },
   {
    "duration": 171,
    "start_time": "2022-02-17T02:39:23.253Z"
   },
   {
    "duration": 166,
    "start_time": "2022-02-17T02:39:46.700Z"
   },
   {
    "duration": 16,
    "start_time": "2022-02-17T02:39:59.606Z"
   },
   {
    "duration": 341,
    "start_time": "2022-02-18T23:21:31.466Z"
   },
   {
    "duration": 269,
    "start_time": "2022-02-18T23:24:19.540Z"
   },
   {
    "duration": 292,
    "start_time": "2022-02-18T23:26:19.832Z"
   },
   {
    "duration": 317,
    "start_time": "2022-02-18T23:26:47.189Z"
   },
   {
    "duration": 317,
    "start_time": "2022-02-18T23:27:08.730Z"
   },
   {
    "duration": 851,
    "start_time": "2022-02-18T23:28:34.691Z"
   },
   {
    "duration": 15,
    "start_time": "2022-02-18T23:42:52.154Z"
   },
   {
    "duration": 98,
    "start_time": "2022-02-18T23:43:11.135Z"
   },
   {
    "duration": 15,
    "start_time": "2022-02-18T23:43:17.984Z"
   },
   {
    "duration": 3,
    "start_time": "2022-02-18T23:47:10.286Z"
   },
   {
    "duration": -333,
    "start_time": "2022-02-18T23:48:08.270Z"
   },
   {
    "duration": 117,
    "start_time": "2022-02-19T18:48:29.249Z"
   },
   {
    "duration": 483,
    "start_time": "2022-02-19T18:53:01.548Z"
   },
   {
    "duration": 365,
    "start_time": "2022-02-19T18:53:59.808Z"
   },
   {
    "duration": 373,
    "start_time": "2022-02-19T18:54:15.677Z"
   },
   {
    "duration": 4,
    "start_time": "2022-02-19T18:55:05.909Z"
   },
   {
    "duration": 364,
    "start_time": "2022-02-19T18:58:56.461Z"
   },
   {
    "duration": 363,
    "start_time": "2022-02-19T18:59:03.379Z"
   },
   {
    "duration": 459,
    "start_time": "2022-02-19T18:59:37.744Z"
   },
   {
    "duration": 357,
    "start_time": "2022-02-19T19:00:14.291Z"
   },
   {
    "duration": 364,
    "start_time": "2022-02-19T19:00:45.834Z"
   },
   {
    "duration": 188,
    "start_time": "2022-02-19T19:24:56.999Z"
   },
   {
    "duration": 331,
    "start_time": "2022-02-25T23:32:46.976Z"
   },
   {
    "duration": 292,
    "start_time": "2022-02-25T23:33:05.880Z"
   },
   {
    "duration": 287,
    "start_time": "2022-02-25T23:33:43.093Z"
   },
   {
    "duration": 292,
    "start_time": "2022-02-25T23:33:51.282Z"
   },
   {
    "duration": 614,
    "start_time": "2022-02-26T16:07:06.802Z"
   },
   {
    "duration": 3,
    "start_time": "2022-02-26T16:07:07.418Z"
   },
   {
    "duration": 9,
    "start_time": "2022-02-26T16:07:07.423Z"
   },
   {
    "duration": 14,
    "start_time": "2022-02-26T16:07:07.433Z"
   },
   {
    "duration": 20,
    "start_time": "2022-02-26T16:07:07.448Z"
   },
   {
    "duration": 14,
    "start_time": "2022-02-26T16:07:07.470Z"
   },
   {
    "duration": 3,
    "start_time": "2022-02-26T16:07:07.485Z"
   },
   {
    "duration": 11,
    "start_time": "2022-02-26T16:07:07.489Z"
   },
   {
    "duration": 11,
    "start_time": "2022-02-26T16:07:07.503Z"
   },
   {
    "duration": 14,
    "start_time": "2022-02-26T16:07:07.516Z"
   },
   {
    "duration": 5,
    "start_time": "2022-02-26T16:07:07.532Z"
   },
   {
    "duration": 5,
    "start_time": "2022-02-26T16:07:07.539Z"
   },
   {
    "duration": 13,
    "start_time": "2022-02-26T16:07:07.546Z"
   },
   {
    "duration": 7,
    "start_time": "2022-02-26T16:07:07.561Z"
   },
   {
    "duration": 5,
    "start_time": "2022-02-26T16:07:07.569Z"
   },
   {
    "duration": 5,
    "start_time": "2022-02-26T16:07:07.575Z"
   },
   {
    "duration": 4,
    "start_time": "2022-02-26T16:07:07.582Z"
   },
   {
    "duration": 6,
    "start_time": "2022-02-26T16:07:07.587Z"
   },
   {
    "duration": 5,
    "start_time": "2022-02-26T16:07:07.595Z"
   },
   {
    "duration": 4,
    "start_time": "2022-02-26T16:07:07.602Z"
   },
   {
    "duration": 4,
    "start_time": "2022-02-26T16:07:07.608Z"
   },
   {
    "duration": 5,
    "start_time": "2022-02-26T16:07:07.613Z"
   },
   {
    "duration": 7,
    "start_time": "2022-02-26T16:07:07.619Z"
   },
   {
    "duration": 4,
    "start_time": "2022-02-26T16:07:07.628Z"
   },
   {
    "duration": 4,
    "start_time": "2022-02-26T16:07:07.634Z"
   },
   {
    "duration": 8,
    "start_time": "2022-02-26T16:07:07.639Z"
   },
   {
    "duration": 3,
    "start_time": "2022-02-26T16:07:07.665Z"
   },
   {
    "duration": 4,
    "start_time": "2022-02-26T16:07:07.671Z"
   },
   {
    "duration": 8,
    "start_time": "2022-02-26T16:07:07.676Z"
   },
   {
    "duration": 7,
    "start_time": "2022-02-26T16:07:07.685Z"
   },
   {
    "duration": 4,
    "start_time": "2022-02-26T16:07:07.693Z"
   },
   {
    "duration": 4,
    "start_time": "2022-02-26T16:07:07.699Z"
   },
   {
    "duration": 6,
    "start_time": "2022-02-26T16:07:07.704Z"
   },
   {
    "duration": 4,
    "start_time": "2022-02-26T16:07:07.712Z"
   },
   {
    "duration": 7,
    "start_time": "2022-02-26T16:07:07.717Z"
   },
   {
    "duration": 4,
    "start_time": "2022-02-26T16:07:07.726Z"
   },
   {
    "duration": 8,
    "start_time": "2022-02-26T16:07:07.731Z"
   },
   {
    "duration": 4,
    "start_time": "2022-02-26T16:07:07.741Z"
   },
   {
    "duration": 5,
    "start_time": "2022-02-26T16:07:07.747Z"
   },
   {
    "duration": 2,
    "start_time": "2022-02-26T16:07:07.763Z"
   },
   {
    "duration": 6,
    "start_time": "2022-02-26T16:07:07.766Z"
   },
   {
    "duration": 5,
    "start_time": "2022-02-26T16:07:07.773Z"
   },
   {
    "duration": 7,
    "start_time": "2022-02-26T16:07:07.779Z"
   },
   {
    "duration": 6,
    "start_time": "2022-02-26T16:07:07.788Z"
   },
   {
    "duration": 9,
    "start_time": "2022-02-26T16:07:07.795Z"
   },
   {
    "duration": 6,
    "start_time": "2022-02-26T16:07:07.805Z"
   },
   {
    "duration": 5,
    "start_time": "2022-02-26T16:07:07.812Z"
   },
   {
    "duration": 8,
    "start_time": "2022-02-26T16:07:07.818Z"
   },
   {
    "duration": 5,
    "start_time": "2022-02-26T16:07:07.827Z"
   },
   {
    "duration": 5,
    "start_time": "2022-02-26T16:07:07.834Z"
   },
   {
    "duration": 5,
    "start_time": "2022-02-26T16:07:07.841Z"
   },
   {
    "duration": 6,
    "start_time": "2022-02-26T16:07:07.848Z"
   },
   {
    "duration": 8,
    "start_time": "2022-02-26T16:07:07.855Z"
   },
   {
    "duration": 6,
    "start_time": "2022-02-26T16:07:07.865Z"
   },
   {
    "duration": 7,
    "start_time": "2022-02-26T16:07:07.872Z"
   },
   {
    "duration": 10,
    "start_time": "2022-02-26T16:07:07.881Z"
   },
   {
    "duration": 5,
    "start_time": "2022-02-26T16:07:07.893Z"
   },
   {
    "duration": 4,
    "start_time": "2022-02-26T16:07:07.899Z"
   },
   {
    "duration": 5,
    "start_time": "2022-02-26T16:07:07.905Z"
   },
   {
    "duration": 5,
    "start_time": "2022-02-26T16:07:07.912Z"
   },
   {
    "duration": 5,
    "start_time": "2022-02-26T16:07:07.918Z"
   },
   {
    "duration": 5,
    "start_time": "2022-02-26T16:07:07.925Z"
   },
   {
    "duration": 5,
    "start_time": "2022-02-26T16:07:07.931Z"
   },
   {
    "duration": 8,
    "start_time": "2022-02-26T16:07:07.937Z"
   },
   {
    "duration": 8,
    "start_time": "2022-02-26T16:07:07.946Z"
   },
   {
    "duration": 2,
    "start_time": "2022-02-26T16:07:07.963Z"
   },
   {
    "duration": 4,
    "start_time": "2022-02-26T16:07:07.967Z"
   },
   {
    "duration": 5,
    "start_time": "2022-02-26T16:07:07.973Z"
   },
   {
    "duration": 8,
    "start_time": "2022-02-26T16:07:07.979Z"
   },
   {
    "duration": 5,
    "start_time": "2022-02-26T16:07:07.989Z"
   },
   {
    "duration": 6,
    "start_time": "2022-02-26T16:07:07.995Z"
   },
   {
    "duration": 14,
    "start_time": "2022-02-26T16:07:16.727Z"
   },
   {
    "duration": 14,
    "start_time": "2022-02-26T16:07:21.858Z"
   },
   {
    "duration": 15,
    "start_time": "2022-02-26T16:07:33.766Z"
   },
   {
    "duration": 15,
    "start_time": "2022-02-26T16:08:20.413Z"
   },
   {
    "duration": 15,
    "start_time": "2022-02-26T16:08:52.858Z"
   },
   {
    "duration": 16,
    "start_time": "2022-02-26T16:09:01.437Z"
   },
   {
    "duration": 273,
    "start_time": "2022-02-26T16:13:28.242Z"
   },
   {
    "duration": 20,
    "start_time": "2022-02-26T16:13:35.545Z"
   },
   {
    "duration": 97,
    "start_time": "2022-02-26T22:00:20.751Z"
   },
   {
    "duration": 8,
    "start_time": "2022-02-26T22:00:46.097Z"
   },
   {
    "duration": 78,
    "start_time": "2022-03-02T00:16:16.586Z"
   },
   {
    "duration": 70,
    "start_time": "2022-03-02T00:16:26.240Z"
   },
   {
    "duration": 68,
    "start_time": "2022-03-02T00:16:35.802Z"
   },
   {
    "duration": 253,
    "start_time": "2022-03-02T00:17:22.999Z"
   },
   {
    "duration": 204,
    "start_time": "2022-03-02T00:18:17.123Z"
   },
   {
    "duration": 674,
    "start_time": "2022-03-02T00:18:52.132Z"
   },
   {
    "duration": 4,
    "start_time": "2022-03-02T00:18:52.808Z"
   },
   {
    "duration": 9,
    "start_time": "2022-03-02T00:18:52.814Z"
   },
   {
    "duration": 14,
    "start_time": "2022-03-02T00:18:52.825Z"
   },
   {
    "duration": 3768,
    "start_time": "2022-03-02T00:18:52.841Z"
   },
   {
    "duration": -432,
    "start_time": "2022-03-02T00:18:57.045Z"
   },
   {
    "duration": -436,
    "start_time": "2022-03-02T00:18:57.050Z"
   },
   {
    "duration": -450,
    "start_time": "2022-03-02T00:18:57.065Z"
   },
   {
    "duration": -461,
    "start_time": "2022-03-02T00:18:57.077Z"
   },
   {
    "duration": -465,
    "start_time": "2022-03-02T00:18:57.082Z"
   },
   {
    "duration": -466,
    "start_time": "2022-03-02T00:18:57.084Z"
   },
   {
    "duration": -473,
    "start_time": "2022-03-02T00:18:57.092Z"
   },
   {
    "duration": -476,
    "start_time": "2022-03-02T00:18:57.096Z"
   },
   {
    "duration": -481,
    "start_time": "2022-03-02T00:18:57.101Z"
   },
   {
    "duration": -494,
    "start_time": "2022-03-02T00:18:57.115Z"
   },
   {
    "duration": -499,
    "start_time": "2022-03-02T00:18:57.121Z"
   },
   {
    "duration": -509,
    "start_time": "2022-03-02T00:18:57.132Z"
   },
   {
    "duration": -520,
    "start_time": "2022-03-02T00:18:57.144Z"
   },
   {
    "duration": -521,
    "start_time": "2022-03-02T00:18:57.146Z"
   },
   {
    "duration": -725,
    "start_time": "2022-03-02T00:18:57.350Z"
   },
   {
    "duration": -975,
    "start_time": "2022-03-02T00:18:57.602Z"
   },
   {
    "duration": -988,
    "start_time": "2022-03-02T00:18:57.616Z"
   },
   {
    "duration": -991,
    "start_time": "2022-03-02T00:18:57.620Z"
   },
   {
    "duration": -1021,
    "start_time": "2022-03-02T00:18:57.650Z"
   },
   {
    "duration": -1026,
    "start_time": "2022-03-02T00:18:57.656Z"
   },
   {
    "duration": -1040,
    "start_time": "2022-03-02T00:18:57.671Z"
   },
   {
    "duration": -1059,
    "start_time": "2022-03-02T00:18:57.691Z"
   },
   {
    "duration": -1079,
    "start_time": "2022-03-02T00:18:57.712Z"
   },
   {
    "duration": -1080,
    "start_time": "2022-03-02T00:18:57.714Z"
   },
   {
    "duration": -1086,
    "start_time": "2022-03-02T00:18:57.720Z"
   },
   {
    "duration": -1109,
    "start_time": "2022-03-02T00:18:57.744Z"
   },
   {
    "duration": -1119,
    "start_time": "2022-03-02T00:18:57.755Z"
   },
   {
    "duration": -1133,
    "start_time": "2022-03-02T00:18:57.769Z"
   },
   {
    "duration": -1156,
    "start_time": "2022-03-02T00:18:57.793Z"
   },
   {
    "duration": -1164,
    "start_time": "2022-03-02T00:18:57.802Z"
   },
   {
    "duration": -1183,
    "start_time": "2022-03-02T00:18:57.822Z"
   },
   {
    "duration": -1208,
    "start_time": "2022-03-02T00:18:57.847Z"
   },
   {
    "duration": -1210,
    "start_time": "2022-03-02T00:18:57.850Z"
   },
   {
    "duration": -1213,
    "start_time": "2022-03-02T00:18:57.854Z"
   },
   {
    "duration": -1223,
    "start_time": "2022-03-02T00:18:57.865Z"
   },
   {
    "duration": -1230,
    "start_time": "2022-03-02T00:18:57.872Z"
   },
   {
    "duration": -1249,
    "start_time": "2022-03-02T00:18:57.892Z"
   },
   {
    "duration": -1263,
    "start_time": "2022-03-02T00:18:57.907Z"
   },
   {
    "duration": -1271,
    "start_time": "2022-03-02T00:18:57.916Z"
   },
   {
    "duration": -1277,
    "start_time": "2022-03-02T00:18:57.922Z"
   },
   {
    "duration": -1297,
    "start_time": "2022-03-02T00:18:57.943Z"
   },
   {
    "duration": -1305,
    "start_time": "2022-03-02T00:18:57.952Z"
   },
   {
    "duration": -1315,
    "start_time": "2022-03-02T00:18:57.962Z"
   },
   {
    "duration": -1320,
    "start_time": "2022-03-02T00:18:57.968Z"
   },
   {
    "duration": -1339,
    "start_time": "2022-03-02T00:18:57.988Z"
   },
   {
    "duration": -1351,
    "start_time": "2022-03-02T00:18:58.000Z"
   },
   {
    "duration": -1349,
    "start_time": "2022-03-02T00:18:58.011Z"
   },
   {
    "duration": -1352,
    "start_time": "2022-03-02T00:18:58.015Z"
   },
   {
    "duration": -1358,
    "start_time": "2022-03-02T00:18:58.021Z"
   },
   {
    "duration": -1378,
    "start_time": "2022-03-02T00:18:58.042Z"
   },
   {
    "duration": -1384,
    "start_time": "2022-03-02T00:18:58.049Z"
   },
   {
    "duration": -1387,
    "start_time": "2022-03-02T00:18:58.052Z"
   },
   {
    "duration": -1400,
    "start_time": "2022-03-02T00:18:58.066Z"
   },
   {
    "duration": -1402,
    "start_time": "2022-03-02T00:18:58.069Z"
   },
   {
    "duration": -1419,
    "start_time": "2022-03-02T00:18:58.087Z"
   },
   {
    "duration": -1430,
    "start_time": "2022-03-02T00:18:58.099Z"
   },
   {
    "duration": -1434,
    "start_time": "2022-03-02T00:18:58.103Z"
   },
   {
    "duration": -1441,
    "start_time": "2022-03-02T00:18:58.111Z"
   },
   {
    "duration": -1444,
    "start_time": "2022-03-02T00:18:58.115Z"
   },
   {
    "duration": -1446,
    "start_time": "2022-03-02T00:18:58.117Z"
   },
   {
    "duration": -1460,
    "start_time": "2022-03-02T00:18:58.132Z"
   },
   {
    "duration": -1467,
    "start_time": "2022-03-02T00:18:58.140Z"
   },
   {
    "duration": -1479,
    "start_time": "2022-03-02T00:18:58.152Z"
   },
   {
    "duration": -1494,
    "start_time": "2022-03-02T00:18:58.168Z"
   },
   {
    "duration": -1519,
    "start_time": "2022-03-02T00:18:58.194Z"
   },
   {
    "duration": -1520,
    "start_time": "2022-03-02T00:18:58.196Z"
   },
   {
    "duration": 14,
    "start_time": "2022-03-02T00:21:10.786Z"
   },
   {
    "duration": 8,
    "start_time": "2022-03-02T00:24:57.117Z"
   },
   {
    "duration": 8,
    "start_time": "2022-03-02T00:25:32.400Z"
   },
   {
    "duration": 7,
    "start_time": "2022-03-02T00:25:43.562Z"
   },
   {
    "duration": 22,
    "start_time": "2022-03-02T00:28:38.151Z"
   },
   {
    "duration": 16,
    "start_time": "2022-03-02T00:28:42.197Z"
   },
   {
    "duration": 20,
    "start_time": "2022-03-02T00:28:53.093Z"
   },
   {
    "duration": 15,
    "start_time": "2022-03-02T00:31:08.536Z"
   },
   {
    "duration": 6,
    "start_time": "2022-03-02T00:33:45.962Z"
   },
   {
    "duration": 6,
    "start_time": "2022-03-02T00:34:20.866Z"
   },
   {
    "duration": 7,
    "start_time": "2022-03-02T00:34:42.595Z"
   },
   {
    "duration": 8,
    "start_time": "2022-03-02T00:35:47.032Z"
   },
   {
    "duration": 9,
    "start_time": "2022-03-02T00:35:57.888Z"
   },
   {
    "duration": 9,
    "start_time": "2022-03-02T00:36:28.340Z"
   },
   {
    "duration": 76,
    "start_time": "2022-03-05T00:09:41.319Z"
   },
   {
    "duration": 272,
    "start_time": "2022-03-05T00:09:45.845Z"
   },
   {
    "duration": 225,
    "start_time": "2022-03-05T00:10:47.475Z"
   },
   {
    "duration": 232,
    "start_time": "2022-03-05T00:10:53.565Z"
   },
   {
    "duration": 812,
    "start_time": "2022-03-05T00:11:08.502Z"
   },
   {
    "duration": 5,
    "start_time": "2022-03-05T00:11:09.316Z"
   },
   {
    "duration": 28,
    "start_time": "2022-03-05T00:11:09.324Z"
   },
   {
    "duration": 17,
    "start_time": "2022-03-05T00:11:09.355Z"
   },
   {
    "duration": 24,
    "start_time": "2022-03-05T00:11:09.374Z"
   },
   {
    "duration": 50,
    "start_time": "2022-03-05T00:11:09.401Z"
   },
   {
    "duration": 21,
    "start_time": "2022-03-05T00:11:09.454Z"
   },
   {
    "duration": 15,
    "start_time": "2022-03-05T00:11:09.478Z"
   },
   {
    "duration": 315,
    "start_time": "2022-03-05T00:11:09.499Z"
   },
   {
    "duration": -2364,
    "start_time": "2022-03-05T00:11:12.185Z"
   },
   {
    "duration": -2366,
    "start_time": "2022-03-05T00:11:12.189Z"
   },
   {
    "duration": -2366,
    "start_time": "2022-03-05T00:11:12.191Z"
   },
   {
    "duration": -2371,
    "start_time": "2022-03-05T00:11:12.198Z"
   },
   {
    "duration": -2372,
    "start_time": "2022-03-05T00:11:12.202Z"
   },
   {
    "duration": -2372,
    "start_time": "2022-03-05T00:11:12.204Z"
   },
   {
    "duration": -2373,
    "start_time": "2022-03-05T00:11:12.207Z"
   },
   {
    "duration": -2372,
    "start_time": "2022-03-05T00:11:12.209Z"
   },
   {
    "duration": -2378,
    "start_time": "2022-03-05T00:11:12.217Z"
   },
   {
    "duration": -2378,
    "start_time": "2022-03-05T00:11:12.219Z"
   },
   {
    "duration": -2378,
    "start_time": "2022-03-05T00:11:12.221Z"
   },
   {
    "duration": -2377,
    "start_time": "2022-03-05T00:11:12.223Z"
   },
   {
    "duration": -2377,
    "start_time": "2022-03-05T00:11:12.225Z"
   },
   {
    "duration": -2383,
    "start_time": "2022-03-05T00:11:12.233Z"
   },
   {
    "duration": -2383,
    "start_time": "2022-03-05T00:11:12.235Z"
   },
   {
    "duration": -2383,
    "start_time": "2022-03-05T00:11:12.238Z"
   },
   {
    "duration": -2383,
    "start_time": "2022-03-05T00:11:12.240Z"
   },
   {
    "duration": -2384,
    "start_time": "2022-03-05T00:11:12.243Z"
   },
   {
    "duration": -2390,
    "start_time": "2022-03-05T00:11:12.251Z"
   },
   {
    "duration": -2588,
    "start_time": "2022-03-05T00:11:12.451Z"
   },
   {
    "duration": -2588,
    "start_time": "2022-03-05T00:11:12.453Z"
   },
   {
    "duration": -2588,
    "start_time": "2022-03-05T00:11:12.455Z"
   },
   {
    "duration": -2588,
    "start_time": "2022-03-05T00:11:12.457Z"
   },
   {
    "duration": -2588,
    "start_time": "2022-03-05T00:11:12.460Z"
   },
   {
    "duration": -2593,
    "start_time": "2022-03-05T00:11:12.467Z"
   },
   {
    "duration": -2594,
    "start_time": "2022-03-05T00:11:12.470Z"
   },
   {
    "duration": -2594,
    "start_time": "2022-03-05T00:11:12.472Z"
   },
   {
    "duration": -2593,
    "start_time": "2022-03-05T00:11:12.474Z"
   },
   {
    "duration": -2593,
    "start_time": "2022-03-05T00:11:12.476Z"
   },
   {
    "duration": -2599,
    "start_time": "2022-03-05T00:11:12.484Z"
   },
   {
    "duration": -2599,
    "start_time": "2022-03-05T00:11:12.487Z"
   },
   {
    "duration": -2599,
    "start_time": "2022-03-05T00:11:12.489Z"
   },
   {
    "duration": -2555,
    "start_time": "2022-03-05T00:11:12.507Z"
   },
   {
    "duration": -2556,
    "start_time": "2022-03-05T00:11:12.510Z"
   },
   {
    "duration": -2562,
    "start_time": "2022-03-05T00:11:12.518Z"
   },
   {
    "duration": -2562,
    "start_time": "2022-03-05T00:11:12.520Z"
   },
   {
    "duration": -2562,
    "start_time": "2022-03-05T00:11:12.522Z"
   },
   {
    "duration": -2561,
    "start_time": "2022-03-05T00:11:12.524Z"
   },
   {
    "duration": -2562,
    "start_time": "2022-03-05T00:11:12.527Z"
   },
   {
    "duration": -2568,
    "start_time": "2022-03-05T00:11:12.535Z"
   },
   {
    "duration": -2569,
    "start_time": "2022-03-05T00:11:12.538Z"
   },
   {
    "duration": -2568,
    "start_time": "2022-03-05T00:11:12.540Z"
   },
   {
    "duration": -2567,
    "start_time": "2022-03-05T00:11:12.541Z"
   },
   {
    "duration": -2571,
    "start_time": "2022-03-05T00:11:12.548Z"
   },
   {
    "duration": -2572,
    "start_time": "2022-03-05T00:11:12.551Z"
   },
   {
    "duration": -2572,
    "start_time": "2022-03-05T00:11:12.553Z"
   },
   {
    "duration": -2572,
    "start_time": "2022-03-05T00:11:12.555Z"
   },
   {
    "duration": -2572,
    "start_time": "2022-03-05T00:11:12.557Z"
   },
   {
    "duration": -2572,
    "start_time": "2022-03-05T00:11:12.559Z"
   },
   {
    "duration": -2579,
    "start_time": "2022-03-05T00:11:12.568Z"
   },
   {
    "duration": -2579,
    "start_time": "2022-03-05T00:11:12.570Z"
   },
   {
    "duration": -2520,
    "start_time": "2022-03-05T00:11:12.572Z"
   },
   {
    "duration": -2521,
    "start_time": "2022-03-05T00:11:12.575Z"
   },
   {
    "duration": -2527,
    "start_time": "2022-03-05T00:11:12.583Z"
   },
   {
    "duration": -2527,
    "start_time": "2022-03-05T00:11:12.585Z"
   },
   {
    "duration": -2526,
    "start_time": "2022-03-05T00:11:12.587Z"
   },
   {
    "duration": -2526,
    "start_time": "2022-03-05T00:11:12.589Z"
   },
   {
    "duration": -2526,
    "start_time": "2022-03-05T00:11:12.591Z"
   },
   {
    "duration": -2533,
    "start_time": "2022-03-05T00:11:12.600Z"
   },
   {
    "duration": -2534,
    "start_time": "2022-03-05T00:11:12.603Z"
   },
   {
    "duration": -2535,
    "start_time": "2022-03-05T00:11:12.606Z"
   },
   {
    "duration": -2535,
    "start_time": "2022-03-05T00:11:12.608Z"
   },
   {
    "duration": 243,
    "start_time": "2022-03-05T00:11:32.005Z"
   },
   {
    "duration": 248,
    "start_time": "2022-03-05T00:44:00.453Z"
   },
   {
    "duration": 85,
    "start_time": "2022-03-05T00:44:08.509Z"
   },
   {
    "duration": 11,
    "start_time": "2022-03-05T00:45:49.236Z"
   },
   {
    "duration": 12,
    "start_time": "2022-03-05T00:46:40.456Z"
   },
   {
    "duration": 9,
    "start_time": "2022-03-05T00:46:44.905Z"
   },
   {
    "duration": 14,
    "start_time": "2022-03-05T00:47:16.646Z"
   },
   {
    "duration": 47,
    "start_time": "2022-05-08T19:17:59.559Z"
   },
   {
    "duration": 5,
    "start_time": "2022-05-08T19:19:07.068Z"
   },
   {
    "duration": 49,
    "start_time": "2022-05-08T19:19:35.666Z"
   },
   {
    "duration": 550,
    "start_time": "2022-05-08T19:19:39.542Z"
   },
   {
    "duration": 4,
    "start_time": "2022-05-08T19:19:40.094Z"
   },
   {
    "duration": 10,
    "start_time": "2022-05-08T19:19:40.099Z"
   },
   {
    "duration": 16,
    "start_time": "2022-05-08T19:19:40.110Z"
   },
   {
    "duration": 12,
    "start_time": "2022-05-08T19:19:40.128Z"
   },
   {
    "duration": 5,
    "start_time": "2022-05-08T19:19:40.142Z"
   },
   {
    "duration": 13,
    "start_time": "2022-05-08T19:19:40.148Z"
   },
   {
    "duration": 10,
    "start_time": "2022-05-08T19:19:40.192Z"
   },
   {
    "duration": 10,
    "start_time": "2022-05-08T19:19:40.204Z"
   },
   {
    "duration": 2,
    "start_time": "2022-05-08T19:19:40.218Z"
   },
   {
    "duration": 3,
    "start_time": "2022-05-08T19:19:40.222Z"
   },
   {
    "duration": 9,
    "start_time": "2022-05-08T19:19:40.227Z"
   },
   {
    "duration": 4,
    "start_time": "2022-05-08T19:19:40.238Z"
   },
   {
    "duration": 6,
    "start_time": "2022-05-08T19:19:40.244Z"
   },
   {
    "duration": 132,
    "start_time": "2022-05-08T19:19:40.251Z"
   },
   {
    "duration": 0,
    "start_time": "2022-05-08T19:19:40.386Z"
   },
   {
    "duration": 0,
    "start_time": "2022-05-08T19:19:40.388Z"
   },
   {
    "duration": 0,
    "start_time": "2022-05-08T19:19:40.389Z"
   },
   {
    "duration": 0,
    "start_time": "2022-05-08T19:19:40.391Z"
   },
   {
    "duration": 0,
    "start_time": "2022-05-08T19:19:40.392Z"
   },
   {
    "duration": 0,
    "start_time": "2022-05-08T19:19:40.394Z"
   },
   {
    "duration": 0,
    "start_time": "2022-05-08T19:19:40.395Z"
   },
   {
    "duration": 0,
    "start_time": "2022-05-08T19:19:40.396Z"
   },
   {
    "duration": 0,
    "start_time": "2022-05-08T19:19:40.397Z"
   },
   {
    "duration": 0,
    "start_time": "2022-05-08T19:19:40.399Z"
   },
   {
    "duration": 0,
    "start_time": "2022-05-08T19:19:40.400Z"
   },
   {
    "duration": 0,
    "start_time": "2022-05-08T19:19:40.401Z"
   },
   {
    "duration": 0,
    "start_time": "2022-05-08T19:19:40.403Z"
   },
   {
    "duration": 0,
    "start_time": "2022-05-08T19:19:40.404Z"
   },
   {
    "duration": 0,
    "start_time": "2022-05-08T19:19:40.405Z"
   },
   {
    "duration": 0,
    "start_time": "2022-05-08T19:19:40.407Z"
   },
   {
    "duration": 0,
    "start_time": "2022-05-08T19:19:40.408Z"
   },
   {
    "duration": 0,
    "start_time": "2022-05-08T19:19:40.409Z"
   },
   {
    "duration": 0,
    "start_time": "2022-05-08T19:19:40.411Z"
   },
   {
    "duration": 0,
    "start_time": "2022-05-08T19:19:40.412Z"
   },
   {
    "duration": 0,
    "start_time": "2022-05-08T19:19:40.413Z"
   },
   {
    "duration": 0,
    "start_time": "2022-05-08T19:19:40.415Z"
   },
   {
    "duration": 0,
    "start_time": "2022-05-08T19:19:40.416Z"
   },
   {
    "duration": 0,
    "start_time": "2022-05-08T19:19:40.419Z"
   },
   {
    "duration": 0,
    "start_time": "2022-05-08T19:19:40.420Z"
   },
   {
    "duration": 0,
    "start_time": "2022-05-08T19:19:40.421Z"
   },
   {
    "duration": 0,
    "start_time": "2022-05-08T19:19:40.422Z"
   },
   {
    "duration": 0,
    "start_time": "2022-05-08T19:19:40.424Z"
   },
   {
    "duration": 0,
    "start_time": "2022-05-08T19:19:40.425Z"
   },
   {
    "duration": 0,
    "start_time": "2022-05-08T19:19:40.426Z"
   },
   {
    "duration": 1,
    "start_time": "2022-05-08T19:19:40.427Z"
   },
   {
    "duration": 0,
    "start_time": "2022-05-08T19:19:40.429Z"
   },
   {
    "duration": 0,
    "start_time": "2022-05-08T19:19:40.430Z"
   },
   {
    "duration": 0,
    "start_time": "2022-05-08T19:19:40.432Z"
   },
   {
    "duration": 0,
    "start_time": "2022-05-08T19:19:40.493Z"
   },
   {
    "duration": 0,
    "start_time": "2022-05-08T19:19:40.494Z"
   },
   {
    "duration": 0,
    "start_time": "2022-05-08T19:19:40.496Z"
   },
   {
    "duration": 0,
    "start_time": "2022-05-08T19:19:40.497Z"
   },
   {
    "duration": 0,
    "start_time": "2022-05-08T19:19:40.498Z"
   },
   {
    "duration": 0,
    "start_time": "2022-05-08T19:19:40.500Z"
   },
   {
    "duration": 0,
    "start_time": "2022-05-08T19:19:40.501Z"
   },
   {
    "duration": 0,
    "start_time": "2022-05-08T19:19:40.503Z"
   },
   {
    "duration": 0,
    "start_time": "2022-05-08T19:19:40.504Z"
   },
   {
    "duration": 0,
    "start_time": "2022-05-08T19:19:40.505Z"
   },
   {
    "duration": 0,
    "start_time": "2022-05-08T19:19:40.506Z"
   },
   {
    "duration": 0,
    "start_time": "2022-05-08T19:19:40.507Z"
   },
   {
    "duration": 0,
    "start_time": "2022-05-08T19:19:40.509Z"
   },
   {
    "duration": 0,
    "start_time": "2022-05-08T19:19:40.510Z"
   },
   {
    "duration": 0,
    "start_time": "2022-05-08T19:19:40.511Z"
   },
   {
    "duration": 0,
    "start_time": "2022-05-08T19:19:40.513Z"
   },
   {
    "duration": 0,
    "start_time": "2022-05-08T19:19:40.514Z"
   },
   {
    "duration": 0,
    "start_time": "2022-05-08T19:19:40.515Z"
   },
   {
    "duration": 1,
    "start_time": "2022-05-08T19:19:40.516Z"
   },
   {
    "duration": 0,
    "start_time": "2022-05-08T19:19:40.518Z"
   },
   {
    "duration": 0,
    "start_time": "2022-05-08T19:19:40.519Z"
   },
   {
    "duration": 0,
    "start_time": "2022-05-08T19:19:40.521Z"
   },
   {
    "duration": 29,
    "start_time": "2022-05-08T19:24:39.187Z"
   },
   {
    "duration": 11,
    "start_time": "2022-05-08T19:25:20.567Z"
   },
   {
    "duration": 4,
    "start_time": "2022-05-08T19:25:35.257Z"
   },
   {
    "duration": 10,
    "start_time": "2022-05-08T19:26:29.351Z"
   },
   {
    "duration": 5,
    "start_time": "2022-05-08T19:26:33.144Z"
   },
   {
    "duration": 362,
    "start_time": "2022-05-08T19:28:00.258Z"
   },
   {
    "duration": 13,
    "start_time": "2022-05-08T19:28:41.298Z"
   },
   {
    "duration": 6,
    "start_time": "2022-05-08T19:30:00.962Z"
   },
   {
    "duration": 10,
    "start_time": "2022-05-08T19:30:12.901Z"
   },
   {
    "duration": 7,
    "start_time": "2022-05-08T19:30:29.697Z"
   },
   {
    "duration": 7,
    "start_time": "2022-05-08T19:31:46.476Z"
   },
   {
    "duration": 12,
    "start_time": "2022-05-08T19:31:57.329Z"
   },
   {
    "duration": 8,
    "start_time": "2022-05-08T19:32:46.583Z"
   },
   {
    "duration": 9,
    "start_time": "2022-05-08T19:45:09.847Z"
   },
   {
    "duration": 3,
    "start_time": "2022-05-08T19:45:14.484Z"
   },
   {
    "duration": 4,
    "start_time": "2022-05-08T19:45:17.180Z"
   },
   {
    "duration": 5,
    "start_time": "2022-05-08T19:52:12.808Z"
   },
   {
    "duration": 2389,
    "start_time": "2022-05-08T21:09:51.330Z"
   },
   {
    "duration": 6,
    "start_time": "2022-05-08T21:10:15.920Z"
   },
   {
    "duration": 6,
    "start_time": "2022-05-08T21:10:30.599Z"
   },
   {
    "duration": 7,
    "start_time": "2022-05-08T21:10:38.584Z"
   },
   {
    "duration": 7,
    "start_time": "2022-05-08T21:10:41.777Z"
   },
   {
    "duration": 20,
    "start_time": "2022-05-08T21:31:36.755Z"
   },
   {
    "duration": 14,
    "start_time": "2022-05-08T21:32:01.984Z"
   },
   {
    "duration": 16,
    "start_time": "2022-05-08T21:42:20.924Z"
   },
   {
    "duration": 5,
    "start_time": "2022-05-08T21:42:44.600Z"
   },
   {
    "duration": 10,
    "start_time": "2022-05-08T22:07:50.022Z"
   },
   {
    "duration": 5,
    "start_time": "2022-05-08T22:09:18.688Z"
   },
   {
    "duration": 12,
    "start_time": "2022-05-08T22:25:32.091Z"
   },
   {
    "duration": 6,
    "start_time": "2022-05-08T22:25:50.708Z"
   },
   {
    "duration": 55,
    "start_time": "2022-05-09T22:04:33.494Z"
   },
   {
    "duration": 7,
    "start_time": "2022-05-09T22:05:12.219Z"
   },
   {
    "duration": 509,
    "start_time": "2022-05-09T22:05:23.085Z"
   },
   {
    "duration": 3,
    "start_time": "2022-05-09T22:05:23.596Z"
   },
   {
    "duration": 12,
    "start_time": "2022-05-09T22:05:23.601Z"
   },
   {
    "duration": 26,
    "start_time": "2022-05-09T22:05:23.616Z"
   },
   {
    "duration": 12,
    "start_time": "2022-05-09T22:05:23.644Z"
   },
   {
    "duration": 5,
    "start_time": "2022-05-09T22:05:23.657Z"
   },
   {
    "duration": 10,
    "start_time": "2022-05-09T22:05:23.663Z"
   },
   {
    "duration": 35,
    "start_time": "2022-05-09T22:05:23.675Z"
   },
   {
    "duration": 15,
    "start_time": "2022-05-09T22:05:23.712Z"
   },
   {
    "duration": 4,
    "start_time": "2022-05-09T22:05:23.729Z"
   },
   {
    "duration": 10,
    "start_time": "2022-05-09T22:05:23.735Z"
   },
   {
    "duration": 7,
    "start_time": "2022-05-09T22:05:23.747Z"
   },
   {
    "duration": 11,
    "start_time": "2022-05-09T22:05:23.755Z"
   },
   {
    "duration": 6,
    "start_time": "2022-05-09T22:05:23.767Z"
   },
   {
    "duration": 29,
    "start_time": "2022-05-09T22:05:23.775Z"
   },
   {
    "duration": 3,
    "start_time": "2022-05-09T22:05:23.807Z"
   },
   {
    "duration": 15,
    "start_time": "2022-05-09T22:05:23.812Z"
   },
   {
    "duration": 9,
    "start_time": "2022-05-09T22:05:23.829Z"
   },
   {
    "duration": 3,
    "start_time": "2022-05-09T22:05:23.840Z"
   },
   {
    "duration": 8,
    "start_time": "2022-05-09T22:05:23.845Z"
   },
   {
    "duration": 8,
    "start_time": "2022-05-09T22:05:23.854Z"
   },
   {
    "duration": 3,
    "start_time": "2022-05-09T22:05:23.863Z"
   },
   {
    "duration": 11,
    "start_time": "2022-05-09T22:05:23.868Z"
   },
   {
    "duration": 29,
    "start_time": "2022-05-09T22:05:23.881Z"
   },
   {
    "duration": 14,
    "start_time": "2022-05-09T22:05:23.912Z"
   },
   {
    "duration": 15,
    "start_time": "2022-05-09T22:05:23.928Z"
   },
   {
    "duration": 9,
    "start_time": "2022-05-09T22:05:23.945Z"
   },
   {
    "duration": 3,
    "start_time": "2022-05-09T22:05:23.958Z"
   },
   {
    "duration": 7,
    "start_time": "2022-05-09T22:05:23.962Z"
   },
   {
    "duration": 9,
    "start_time": "2022-05-09T22:05:23.970Z"
   },
   {
    "duration": 5,
    "start_time": "2022-05-09T22:05:23.981Z"
   },
   {
    "duration": 5,
    "start_time": "2022-05-09T22:05:23.988Z"
   },
   {
    "duration": 24,
    "start_time": "2022-05-09T22:05:24.008Z"
   },
   {
    "duration": 2,
    "start_time": "2022-05-09T22:05:24.033Z"
   },
   {
    "duration": 8,
    "start_time": "2022-05-09T22:05:24.037Z"
   },
   {
    "duration": 7,
    "start_time": "2022-05-09T22:05:24.046Z"
   },
   {
    "duration": 77,
    "start_time": "2022-05-09T22:05:24.054Z"
   },
   {
    "duration": 0,
    "start_time": "2022-05-09T22:05:24.132Z"
   },
   {
    "duration": 0,
    "start_time": "2022-05-09T22:05:24.133Z"
   },
   {
    "duration": 0,
    "start_time": "2022-05-09T22:05:24.134Z"
   },
   {
    "duration": 0,
    "start_time": "2022-05-09T22:05:24.135Z"
   },
   {
    "duration": 0,
    "start_time": "2022-05-09T22:05:24.136Z"
   },
   {
    "duration": 0,
    "start_time": "2022-05-09T22:05:24.137Z"
   },
   {
    "duration": 0,
    "start_time": "2022-05-09T22:05:24.138Z"
   },
   {
    "duration": 0,
    "start_time": "2022-05-09T22:05:24.139Z"
   },
   {
    "duration": 0,
    "start_time": "2022-05-09T22:05:24.140Z"
   },
   {
    "duration": 0,
    "start_time": "2022-05-09T22:05:24.141Z"
   },
   {
    "duration": 0,
    "start_time": "2022-05-09T22:05:24.142Z"
   },
   {
    "duration": 0,
    "start_time": "2022-05-09T22:05:24.143Z"
   },
   {
    "duration": 0,
    "start_time": "2022-05-09T22:05:24.144Z"
   },
   {
    "duration": 0,
    "start_time": "2022-05-09T22:05:24.145Z"
   },
   {
    "duration": 0,
    "start_time": "2022-05-09T22:05:24.146Z"
   },
   {
    "duration": 0,
    "start_time": "2022-05-09T22:05:24.146Z"
   },
   {
    "duration": 0,
    "start_time": "2022-05-09T22:05:24.147Z"
   },
   {
    "duration": 0,
    "start_time": "2022-05-09T22:05:24.148Z"
   },
   {
    "duration": 0,
    "start_time": "2022-05-09T22:05:24.148Z"
   },
   {
    "duration": 0,
    "start_time": "2022-05-09T22:05:24.149Z"
   },
   {
    "duration": 0,
    "start_time": "2022-05-09T22:05:24.150Z"
   },
   {
    "duration": 0,
    "start_time": "2022-05-09T22:05:24.151Z"
   },
   {
    "duration": 0,
    "start_time": "2022-05-09T22:05:24.152Z"
   },
   {
    "duration": 0,
    "start_time": "2022-05-09T22:05:24.153Z"
   },
   {
    "duration": 0,
    "start_time": "2022-05-09T22:05:24.154Z"
   },
   {
    "duration": 0,
    "start_time": "2022-05-09T22:05:24.155Z"
   },
   {
    "duration": 0,
    "start_time": "2022-05-09T22:05:24.156Z"
   },
   {
    "duration": 0,
    "start_time": "2022-05-09T22:05:24.157Z"
   },
   {
    "duration": 0,
    "start_time": "2022-05-09T22:05:24.158Z"
   },
   {
    "duration": 0,
    "start_time": "2022-05-09T22:05:24.200Z"
   },
   {
    "duration": 0,
    "start_time": "2022-05-09T22:05:24.201Z"
   },
   {
    "duration": 0,
    "start_time": "2022-05-09T22:05:24.202Z"
   },
   {
    "duration": 0,
    "start_time": "2022-05-09T22:05:24.202Z"
   },
   {
    "duration": 0,
    "start_time": "2022-05-09T22:05:24.203Z"
   },
   {
    "duration": 36,
    "start_time": "2022-05-09T22:06:42.499Z"
   },
   {
    "duration": 17,
    "start_time": "2022-05-09T22:06:46.358Z"
   },
   {
    "duration": 49,
    "start_time": "2022-05-09T22:07:12.180Z"
   },
   {
    "duration": 24,
    "start_time": "2022-05-09T22:07:16.712Z"
   },
   {
    "duration": 4,
    "start_time": "2022-05-09T22:07:18.419Z"
   },
   {
    "duration": 16,
    "start_time": "2022-05-09T22:12:41.555Z"
   },
   {
    "duration": 44,
    "start_time": "2022-05-10T00:47:47.458Z"
   },
   {
    "duration": 474,
    "start_time": "2022-05-10T00:48:01.222Z"
   },
   {
    "duration": 3,
    "start_time": "2022-05-10T00:48:01.698Z"
   },
   {
    "duration": 15,
    "start_time": "2022-05-10T00:48:01.703Z"
   },
   {
    "duration": 33,
    "start_time": "2022-05-10T00:48:01.720Z"
   },
   {
    "duration": 13,
    "start_time": "2022-05-10T00:48:01.755Z"
   },
   {
    "duration": 5,
    "start_time": "2022-05-10T00:48:01.770Z"
   },
   {
    "duration": 12,
    "start_time": "2022-05-10T00:48:01.777Z"
   },
   {
    "duration": 12,
    "start_time": "2022-05-10T00:48:01.790Z"
   },
   {
    "duration": 9,
    "start_time": "2022-05-10T00:48:01.804Z"
   },
   {
    "duration": 8,
    "start_time": "2022-05-10T00:48:01.815Z"
   },
   {
    "duration": 8,
    "start_time": "2022-05-10T00:48:01.825Z"
   },
   {
    "duration": 7,
    "start_time": "2022-05-10T00:48:01.834Z"
   },
   {
    "duration": 13,
    "start_time": "2022-05-10T00:48:01.843Z"
   },
   {
    "duration": 5,
    "start_time": "2022-05-10T00:48:01.860Z"
   },
   {
    "duration": 14,
    "start_time": "2022-05-10T00:48:01.866Z"
   },
   {
    "duration": 18,
    "start_time": "2022-05-10T00:48:01.882Z"
   },
   {
    "duration": 6,
    "start_time": "2022-05-10T00:48:01.902Z"
   },
   {
    "duration": 18,
    "start_time": "2022-05-10T00:48:01.909Z"
   },
   {
    "duration": 18,
    "start_time": "2022-05-10T00:48:01.929Z"
   },
   {
    "duration": 14,
    "start_time": "2022-05-10T00:48:01.949Z"
   },
   {
    "duration": 12,
    "start_time": "2022-05-10T00:48:01.965Z"
   },
   {
    "duration": 20,
    "start_time": "2022-05-10T00:48:01.979Z"
   },
   {
    "duration": 18,
    "start_time": "2022-05-10T00:48:02.001Z"
   },
   {
    "duration": 15,
    "start_time": "2022-05-10T00:48:02.021Z"
   },
   {
    "duration": 16,
    "start_time": "2022-05-10T00:48:02.038Z"
   },
   {
    "duration": 18,
    "start_time": "2022-05-10T00:48:02.056Z"
   },
   {
    "duration": 13,
    "start_time": "2022-05-10T00:48:02.076Z"
   },
   {
    "duration": 11,
    "start_time": "2022-05-10T00:48:02.091Z"
   },
   {
    "duration": 14,
    "start_time": "2022-05-10T00:48:02.104Z"
   },
   {
    "duration": 22,
    "start_time": "2022-05-10T00:48:02.120Z"
   },
   {
    "duration": 18,
    "start_time": "2022-05-10T00:48:02.144Z"
   },
   {
    "duration": 12,
    "start_time": "2022-05-10T00:48:02.164Z"
   },
   {
    "duration": 74,
    "start_time": "2022-05-10T00:48:02.178Z"
   },
   {
    "duration": 0,
    "start_time": "2022-05-10T00:48:02.254Z"
   },
   {
    "duration": 0,
    "start_time": "2022-05-10T00:48:02.255Z"
   },
   {
    "duration": 0,
    "start_time": "2022-05-10T00:48:02.256Z"
   },
   {
    "duration": 0,
    "start_time": "2022-05-10T00:48:02.258Z"
   },
   {
    "duration": 0,
    "start_time": "2022-05-10T00:48:02.259Z"
   },
   {
    "duration": 0,
    "start_time": "2022-05-10T00:48:02.260Z"
   },
   {
    "duration": 0,
    "start_time": "2022-05-10T00:48:02.261Z"
   },
   {
    "duration": 0,
    "start_time": "2022-05-10T00:48:02.262Z"
   },
   {
    "duration": 0,
    "start_time": "2022-05-10T00:48:02.263Z"
   },
   {
    "duration": 0,
    "start_time": "2022-05-10T00:48:02.264Z"
   },
   {
    "duration": 0,
    "start_time": "2022-05-10T00:48:02.265Z"
   },
   {
    "duration": 0,
    "start_time": "2022-05-10T00:48:02.266Z"
   },
   {
    "duration": 0,
    "start_time": "2022-05-10T00:48:02.267Z"
   },
   {
    "duration": 0,
    "start_time": "2022-05-10T00:48:02.268Z"
   },
   {
    "duration": 0,
    "start_time": "2022-05-10T00:48:02.300Z"
   },
   {
    "duration": 0,
    "start_time": "2022-05-10T00:48:02.301Z"
   },
   {
    "duration": 0,
    "start_time": "2022-05-10T00:48:02.302Z"
   },
   {
    "duration": 0,
    "start_time": "2022-05-10T00:48:02.304Z"
   },
   {
    "duration": 0,
    "start_time": "2022-05-10T00:48:02.305Z"
   },
   {
    "duration": 0,
    "start_time": "2022-05-10T00:48:02.306Z"
   },
   {
    "duration": 0,
    "start_time": "2022-05-10T00:48:02.306Z"
   },
   {
    "duration": 0,
    "start_time": "2022-05-10T00:48:02.307Z"
   },
   {
    "duration": 0,
    "start_time": "2022-05-10T00:48:02.308Z"
   },
   {
    "duration": 0,
    "start_time": "2022-05-10T00:48:02.309Z"
   },
   {
    "duration": 0,
    "start_time": "2022-05-10T00:48:02.309Z"
   },
   {
    "duration": 0,
    "start_time": "2022-05-10T00:48:02.310Z"
   },
   {
    "duration": 0,
    "start_time": "2022-05-10T00:48:02.311Z"
   },
   {
    "duration": 0,
    "start_time": "2022-05-10T00:48:02.312Z"
   },
   {
    "duration": 0,
    "start_time": "2022-05-10T00:48:02.313Z"
   },
   {
    "duration": 0,
    "start_time": "2022-05-10T00:48:02.314Z"
   },
   {
    "duration": 0,
    "start_time": "2022-05-10T00:48:02.315Z"
   },
   {
    "duration": 0,
    "start_time": "2022-05-10T00:48:02.316Z"
   },
   {
    "duration": 0,
    "start_time": "2022-05-10T00:48:02.317Z"
   },
   {
    "duration": 0,
    "start_time": "2022-05-10T00:48:02.318Z"
   },
   {
    "duration": 0,
    "start_time": "2022-05-10T00:48:02.318Z"
   },
   {
    "duration": 0,
    "start_time": "2022-05-10T00:48:02.319Z"
   },
   {
    "duration": 0,
    "start_time": "2022-05-10T00:48:02.320Z"
   },
   {
    "duration": 0,
    "start_time": "2022-05-10T00:48:02.321Z"
   },
   {
    "duration": 7,
    "start_time": "2022-05-10T00:48:52.614Z"
   },
   {
    "duration": 17,
    "start_time": "2022-05-10T00:49:02.344Z"
   },
   {
    "duration": 28,
    "start_time": "2022-05-10T01:06:30.814Z"
   },
   {
    "duration": 30,
    "start_time": "2022-05-10T01:06:36.285Z"
   },
   {
    "duration": 4,
    "start_time": "2022-05-10T01:06:44.349Z"
   },
   {
    "duration": 17,
    "start_time": "2022-05-10T01:06:47.603Z"
   },
   {
    "duration": 213,
    "start_time": "2022-05-10T01:20:25.079Z"
   },
   {
    "duration": 8,
    "start_time": "2022-05-10T01:20:29.007Z"
   },
   {
    "duration": 8,
    "start_time": "2022-05-10T01:20:44.423Z"
   },
   {
    "duration": 213,
    "start_time": "2022-05-10T01:22:41.673Z"
   },
   {
    "duration": 7,
    "start_time": "2022-05-10T01:22:45.018Z"
   },
   {
    "duration": 196,
    "start_time": "2022-05-10T01:23:06.012Z"
   },
   {
    "duration": 3,
    "start_time": "2022-05-10T01:23:59.645Z"
   },
   {
    "duration": 198,
    "start_time": "2022-05-10T01:24:32.544Z"
   },
   {
    "duration": 198,
    "start_time": "2022-05-10T01:24:41.024Z"
   },
   {
    "duration": 203,
    "start_time": "2022-05-10T01:27:08.689Z"
   },
   {
    "duration": 202,
    "start_time": "2022-05-10T01:27:32.448Z"
   },
   {
    "duration": 188,
    "start_time": "2022-05-10T01:27:48.390Z"
   },
   {
    "duration": 4,
    "start_time": "2022-05-10T01:28:03.059Z"
   },
   {
    "duration": 4,
    "start_time": "2022-05-10T01:28:06.595Z"
   },
   {
    "duration": 3105,
    "start_time": "2022-05-10T01:28:26.920Z"
   },
   {
    "duration": 7,
    "start_time": "2022-05-10T01:29:48.767Z"
   },
   {
    "duration": 11,
    "start_time": "2022-05-10T01:30:03.097Z"
   },
   {
    "duration": 7,
    "start_time": "2022-05-10T01:31:24.409Z"
   },
   {
    "duration": 4,
    "start_time": "2022-05-10T01:31:28.615Z"
   },
   {
    "duration": 507,
    "start_time": "2022-05-10T22:47:20.822Z"
   },
   {
    "duration": 4,
    "start_time": "2022-05-10T22:47:21.332Z"
   },
   {
    "duration": 10,
    "start_time": "2022-05-10T22:47:21.338Z"
   },
   {
    "duration": 17,
    "start_time": "2022-05-10T22:47:21.351Z"
   },
   {
    "duration": 54,
    "start_time": "2022-05-10T22:47:21.370Z"
   },
   {
    "duration": 7,
    "start_time": "2022-05-10T22:47:21.426Z"
   },
   {
    "duration": 14,
    "start_time": "2022-05-10T22:47:21.434Z"
   },
   {
    "duration": 9,
    "start_time": "2022-05-10T22:47:21.450Z"
   },
   {
    "duration": 11,
    "start_time": "2022-05-10T22:47:21.461Z"
   },
   {
    "duration": 2,
    "start_time": "2022-05-10T22:47:21.475Z"
   },
   {
    "duration": 3,
    "start_time": "2022-05-10T22:47:21.511Z"
   },
   {
    "duration": 7,
    "start_time": "2022-05-10T22:47:21.516Z"
   },
   {
    "duration": 10,
    "start_time": "2022-05-10T22:47:21.526Z"
   },
   {
    "duration": 6,
    "start_time": "2022-05-10T22:47:21.538Z"
   },
   {
    "duration": 7,
    "start_time": "2022-05-10T22:47:21.546Z"
   },
   {
    "duration": 3,
    "start_time": "2022-05-10T22:47:21.555Z"
   },
   {
    "duration": 7,
    "start_time": "2022-05-10T22:47:21.560Z"
   },
   {
    "duration": 40,
    "start_time": "2022-05-10T22:47:21.569Z"
   },
   {
    "duration": 14,
    "start_time": "2022-05-10T22:47:21.611Z"
   },
   {
    "duration": 6,
    "start_time": "2022-05-10T22:47:21.628Z"
   },
   {
    "duration": 10,
    "start_time": "2022-05-10T22:47:21.636Z"
   },
   {
    "duration": 6,
    "start_time": "2022-05-10T22:47:21.648Z"
   },
   {
    "duration": 14,
    "start_time": "2022-05-10T22:47:21.656Z"
   },
   {
    "duration": 12,
    "start_time": "2022-05-10T22:47:21.672Z"
   },
   {
    "duration": 24,
    "start_time": "2022-05-10T22:47:21.685Z"
   },
   {
    "duration": 14,
    "start_time": "2022-05-10T22:47:21.710Z"
   },
   {
    "duration": 13,
    "start_time": "2022-05-10T22:47:21.726Z"
   },
   {
    "duration": 6,
    "start_time": "2022-05-10T22:47:21.745Z"
   },
   {
    "duration": 15,
    "start_time": "2022-05-10T22:47:21.752Z"
   },
   {
    "duration": 18,
    "start_time": "2022-05-10T22:47:21.769Z"
   },
   {
    "duration": 21,
    "start_time": "2022-05-10T22:47:21.790Z"
   },
   {
    "duration": 11,
    "start_time": "2022-05-10T22:47:21.814Z"
   },
   {
    "duration": 20,
    "start_time": "2022-05-10T22:47:21.827Z"
   },
   {
    "duration": 34,
    "start_time": "2022-05-10T22:47:21.849Z"
   },
   {
    "duration": 46,
    "start_time": "2022-05-10T22:47:21.884Z"
   },
   {
    "duration": 4,
    "start_time": "2022-05-10T22:47:21.932Z"
   },
   {
    "duration": 91,
    "start_time": "2022-05-10T22:47:21.937Z"
   },
   {
    "duration": 0,
    "start_time": "2022-05-10T22:47:22.029Z"
   },
   {
    "duration": 0,
    "start_time": "2022-05-10T22:47:22.031Z"
   },
   {
    "duration": 0,
    "start_time": "2022-05-10T22:47:22.032Z"
   },
   {
    "duration": 0,
    "start_time": "2022-05-10T22:47:22.033Z"
   },
   {
    "duration": 0,
    "start_time": "2022-05-10T22:47:22.035Z"
   },
   {
    "duration": 0,
    "start_time": "2022-05-10T22:47:22.036Z"
   },
   {
    "duration": 0,
    "start_time": "2022-05-10T22:47:22.038Z"
   },
   {
    "duration": 0,
    "start_time": "2022-05-10T22:47:22.039Z"
   },
   {
    "duration": 0,
    "start_time": "2022-05-10T22:47:22.041Z"
   },
   {
    "duration": 0,
    "start_time": "2022-05-10T22:47:22.042Z"
   },
   {
    "duration": 0,
    "start_time": "2022-05-10T22:47:22.043Z"
   },
   {
    "duration": 0,
    "start_time": "2022-05-10T22:47:22.044Z"
   },
   {
    "duration": 0,
    "start_time": "2022-05-10T22:47:22.046Z"
   },
   {
    "duration": 0,
    "start_time": "2022-05-10T22:47:22.047Z"
   },
   {
    "duration": 0,
    "start_time": "2022-05-10T22:47:22.048Z"
   },
   {
    "duration": 0,
    "start_time": "2022-05-10T22:47:22.049Z"
   },
   {
    "duration": 0,
    "start_time": "2022-05-10T22:47:22.050Z"
   },
   {
    "duration": 0,
    "start_time": "2022-05-10T22:47:22.051Z"
   },
   {
    "duration": 0,
    "start_time": "2022-05-10T22:47:22.052Z"
   },
   {
    "duration": 0,
    "start_time": "2022-05-10T22:47:22.054Z"
   },
   {
    "duration": 0,
    "start_time": "2022-05-10T22:47:22.055Z"
   },
   {
    "duration": 0,
    "start_time": "2022-05-10T22:47:22.056Z"
   },
   {
    "duration": 0,
    "start_time": "2022-05-10T22:47:22.057Z"
   },
   {
    "duration": 0,
    "start_time": "2022-05-10T22:47:22.107Z"
   },
   {
    "duration": 0,
    "start_time": "2022-05-10T22:47:22.108Z"
   },
   {
    "duration": 0,
    "start_time": "2022-05-10T22:47:22.108Z"
   },
   {
    "duration": 0,
    "start_time": "2022-05-10T22:47:22.109Z"
   },
   {
    "duration": 0,
    "start_time": "2022-05-10T22:47:22.110Z"
   },
   {
    "duration": 0,
    "start_time": "2022-05-10T22:47:22.114Z"
   },
   {
    "duration": 0,
    "start_time": "2022-05-10T22:47:22.115Z"
   },
   {
    "duration": 0,
    "start_time": "2022-05-10T22:47:22.119Z"
   },
   {
    "duration": 0,
    "start_time": "2022-05-10T22:47:22.120Z"
   },
   {
    "duration": 0,
    "start_time": "2022-05-10T22:47:22.121Z"
   },
   {
    "duration": 0,
    "start_time": "2022-05-10T22:47:22.122Z"
   },
   {
    "duration": 10,
    "start_time": "2022-05-10T22:48:02.687Z"
   },
   {
    "duration": 6,
    "start_time": "2022-05-10T22:48:06.477Z"
   },
   {
    "duration": 22,
    "start_time": "2022-05-10T22:48:44.399Z"
   },
   {
    "duration": 14,
    "start_time": "2022-05-10T22:49:05.604Z"
   },
   {
    "duration": 12,
    "start_time": "2022-05-10T22:49:20.020Z"
   },
   {
    "duration": 14,
    "start_time": "2022-05-10T22:49:53.726Z"
   },
   {
    "duration": 8,
    "start_time": "2022-05-10T22:55:53.184Z"
   },
   {
    "duration": 24,
    "start_time": "2022-05-10T22:56:03.220Z"
   },
   {
    "duration": 6,
    "start_time": "2022-05-10T22:56:11.120Z"
   },
   {
    "duration": 6,
    "start_time": "2022-05-10T22:56:41.416Z"
   },
   {
    "duration": 36,
    "start_time": "2022-05-10T22:56:44.416Z"
   },
   {
    "duration": 5,
    "start_time": "2022-05-10T22:56:48.667Z"
   },
   {
    "duration": 23,
    "start_time": "2022-05-10T22:58:46.081Z"
   },
   {
    "duration": 5,
    "start_time": "2022-05-10T22:58:50.574Z"
   },
   {
    "duration": 6,
    "start_time": "2022-05-10T23:03:33.833Z"
   },
   {
    "duration": 6,
    "start_time": "2022-05-10T23:03:36.423Z"
   },
   {
    "duration": 3330,
    "start_time": "2022-05-10T23:04:01.315Z"
   },
   {
    "duration": 0,
    "start_time": "2022-05-10T23:04:04.647Z"
   },
   {
    "duration": 13,
    "start_time": "2022-05-10T23:04:22.446Z"
   },
   {
    "duration": 6,
    "start_time": "2022-05-10T23:04:24.801Z"
   },
   {
    "duration": 7,
    "start_time": "2022-05-11T00:06:05.205Z"
   },
   {
    "duration": 6,
    "start_time": "2022-05-11T00:06:06.595Z"
   },
   {
    "duration": 6,
    "start_time": "2022-05-11T00:06:19.586Z"
   },
   {
    "duration": 7,
    "start_time": "2022-05-11T00:08:15.253Z"
   },
   {
    "duration": 5,
    "start_time": "2022-05-11T00:12:39.025Z"
   },
   {
    "duration": 5,
    "start_time": "2022-05-11T00:12:48.862Z"
   },
   {
    "duration": 4,
    "start_time": "2022-05-11T00:12:54.930Z"
   },
   {
    "duration": 4,
    "start_time": "2022-05-11T00:13:02.231Z"
   },
   {
    "duration": 5,
    "start_time": "2022-05-11T00:13:10.551Z"
   },
   {
    "duration": 4,
    "start_time": "2022-05-11T00:13:19.306Z"
   },
   {
    "duration": 4,
    "start_time": "2022-05-11T00:13:27.722Z"
   },
   {
    "duration": 4,
    "start_time": "2022-05-11T00:13:42.106Z"
   },
   {
    "duration": 4,
    "start_time": "2022-05-11T00:13:58.800Z"
   },
   {
    "duration": 4,
    "start_time": "2022-05-11T00:14:09.002Z"
   },
   {
    "duration": 6,
    "start_time": "2022-05-11T00:14:24.399Z"
   },
   {
    "duration": 7,
    "start_time": "2022-05-11T00:17:46.507Z"
   },
   {
    "duration": 7,
    "start_time": "2022-05-11T00:17:52.532Z"
   },
   {
    "duration": 16,
    "start_time": "2022-05-11T00:18:51.771Z"
   },
   {
    "duration": 10,
    "start_time": "2022-05-11T00:19:28.921Z"
   },
   {
    "duration": 27,
    "start_time": "2022-05-11T00:20:01.563Z"
   },
   {
    "duration": 6,
    "start_time": "2022-05-11T00:20:06.002Z"
   },
   {
    "duration": 9,
    "start_time": "2022-05-11T00:21:41.565Z"
   },
   {
    "duration": 24,
    "start_time": "2022-05-11T00:22:06.320Z"
   },
   {
    "duration": 7,
    "start_time": "2022-05-11T00:22:11.036Z"
   },
   {
    "duration": 25,
    "start_time": "2022-05-11T00:23:08.456Z"
   },
   {
    "duration": 7,
    "start_time": "2022-05-11T00:23:14.013Z"
   },
   {
    "duration": 7,
    "start_time": "2022-05-11T00:23:26.825Z"
   },
   {
    "duration": 27,
    "start_time": "2022-05-11T00:23:29.411Z"
   },
   {
    "duration": 23,
    "start_time": "2022-05-11T00:25:11.925Z"
   },
   {
    "duration": 9,
    "start_time": "2022-05-11T00:30:03.586Z"
   },
   {
    "duration": 8,
    "start_time": "2022-05-11T00:30:12.891Z"
   },
   {
    "duration": 12,
    "start_time": "2022-05-11T00:30:36.087Z"
   },
   {
    "duration": 7,
    "start_time": "2022-05-11T00:30:37.096Z"
   },
   {
    "duration": 6,
    "start_time": "2022-05-11T00:34:26.535Z"
   },
   {
    "duration": 5,
    "start_time": "2022-05-11T00:34:27.932Z"
   },
   {
    "duration": 7,
    "start_time": "2022-05-11T00:36:29.781Z"
   },
   {
    "duration": 11,
    "start_time": "2022-05-11T00:37:38.283Z"
   },
   {
    "duration": 7,
    "start_time": "2022-05-11T00:38:07.130Z"
   },
   {
    "duration": 8,
    "start_time": "2022-05-11T00:38:15.783Z"
   },
   {
    "duration": 7,
    "start_time": "2022-05-11T00:38:38.178Z"
   },
   {
    "duration": 821,
    "start_time": "2022-05-11T21:10:13.226Z"
   },
   {
    "duration": 6,
    "start_time": "2022-05-11T21:10:14.050Z"
   },
   {
    "duration": 33,
    "start_time": "2022-05-11T21:10:14.059Z"
   },
   {
    "duration": 27,
    "start_time": "2022-05-11T21:10:14.095Z"
   },
   {
    "duration": 22,
    "start_time": "2022-05-11T21:10:14.124Z"
   },
   {
    "duration": 9,
    "start_time": "2022-05-11T21:10:14.149Z"
   },
   {
    "duration": 44,
    "start_time": "2022-05-11T21:10:14.160Z"
   },
   {
    "duration": 15,
    "start_time": "2022-05-11T21:10:14.207Z"
   },
   {
    "duration": 15,
    "start_time": "2022-05-11T21:10:14.224Z"
   },
   {
    "duration": 45,
    "start_time": "2022-05-11T21:10:14.243Z"
   },
   {
    "duration": 10,
    "start_time": "2022-05-11T21:10:14.290Z"
   },
   {
    "duration": 12,
    "start_time": "2022-05-11T21:10:14.304Z"
   },
   {
    "duration": 16,
    "start_time": "2022-05-11T21:10:14.318Z"
   },
   {
    "duration": 10,
    "start_time": "2022-05-11T21:10:14.336Z"
   },
   {
    "duration": 12,
    "start_time": "2022-05-11T21:10:14.348Z"
   },
   {
    "duration": 21,
    "start_time": "2022-05-11T21:10:14.382Z"
   },
   {
    "duration": 8,
    "start_time": "2022-05-11T21:10:14.406Z"
   },
   {
    "duration": 18,
    "start_time": "2022-05-11T21:10:14.417Z"
   },
   {
    "duration": 5,
    "start_time": "2022-05-11T21:10:14.437Z"
   },
   {
    "duration": 10,
    "start_time": "2022-05-11T21:10:14.444Z"
   },
   {
    "duration": 20,
    "start_time": "2022-05-11T21:10:14.483Z"
   },
   {
    "duration": 12,
    "start_time": "2022-05-11T21:10:14.506Z"
   },
   {
    "duration": 6,
    "start_time": "2022-05-11T21:10:14.521Z"
   },
   {
    "duration": 15,
    "start_time": "2022-05-11T21:10:14.530Z"
   },
   {
    "duration": 5,
    "start_time": "2022-05-11T21:10:14.548Z"
   },
   {
    "duration": 10,
    "start_time": "2022-05-11T21:10:14.583Z"
   },
   {
    "duration": 14,
    "start_time": "2022-05-11T21:10:14.596Z"
   },
   {
    "duration": 11,
    "start_time": "2022-05-11T21:10:14.617Z"
   },
   {
    "duration": 8,
    "start_time": "2022-05-11T21:10:14.630Z"
   },
   {
    "duration": 49,
    "start_time": "2022-05-11T21:10:14.640Z"
   },
   {
    "duration": 13,
    "start_time": "2022-05-11T21:10:14.691Z"
   },
   {
    "duration": 12,
    "start_time": "2022-05-11T21:10:14.707Z"
   },
   {
    "duration": 28,
    "start_time": "2022-05-11T21:10:14.722Z"
   },
   {
    "duration": 86,
    "start_time": "2022-05-11T21:10:14.753Z"
   },
   {
    "duration": 33,
    "start_time": "2022-05-11T21:10:14.841Z"
   },
   {
    "duration": 10,
    "start_time": "2022-05-11T21:10:14.876Z"
   },
   {
    "duration": 28,
    "start_time": "2022-05-11T21:10:14.889Z"
   },
   {
    "duration": 6,
    "start_time": "2022-05-11T21:10:14.920Z"
   },
   {
    "duration": 8,
    "start_time": "2022-05-11T21:10:14.929Z"
   },
   {
    "duration": 14,
    "start_time": "2022-05-11T21:10:14.940Z"
   },
   {
    "duration": 38,
    "start_time": "2022-05-11T21:10:14.956Z"
   },
   {
    "duration": 8,
    "start_time": "2022-05-11T21:10:14.997Z"
   },
   {
    "duration": 27,
    "start_time": "2022-05-11T21:10:15.007Z"
   },
   {
    "duration": 8,
    "start_time": "2022-05-11T21:10:15.036Z"
   },
   {
    "duration": 116,
    "start_time": "2022-05-11T21:10:15.046Z"
   },
   {
    "duration": 0,
    "start_time": "2022-05-11T21:10:15.165Z"
   },
   {
    "duration": 1,
    "start_time": "2022-05-11T21:10:15.167Z"
   },
   {
    "duration": 0,
    "start_time": "2022-05-11T21:10:15.169Z"
   },
   {
    "duration": 0,
    "start_time": "2022-05-11T21:10:15.171Z"
   },
   {
    "duration": 0,
    "start_time": "2022-05-11T21:10:15.173Z"
   },
   {
    "duration": 0,
    "start_time": "2022-05-11T21:10:15.174Z"
   },
   {
    "duration": 0,
    "start_time": "2022-05-11T21:10:15.176Z"
   },
   {
    "duration": 0,
    "start_time": "2022-05-11T21:10:15.178Z"
   },
   {
    "duration": 0,
    "start_time": "2022-05-11T21:10:15.180Z"
   },
   {
    "duration": 0,
    "start_time": "2022-05-11T21:10:15.181Z"
   },
   {
    "duration": 0,
    "start_time": "2022-05-11T21:10:15.182Z"
   },
   {
    "duration": 0,
    "start_time": "2022-05-11T21:10:15.184Z"
   },
   {
    "duration": 0,
    "start_time": "2022-05-11T21:10:15.188Z"
   },
   {
    "duration": 0,
    "start_time": "2022-05-11T21:10:15.192Z"
   },
   {
    "duration": 0,
    "start_time": "2022-05-11T21:10:15.194Z"
   },
   {
    "duration": 0,
    "start_time": "2022-05-11T21:10:15.196Z"
   },
   {
    "duration": 0,
    "start_time": "2022-05-11T21:10:15.198Z"
   },
   {
    "duration": 0,
    "start_time": "2022-05-11T21:10:15.201Z"
   },
   {
    "duration": 0,
    "start_time": "2022-05-11T21:10:15.205Z"
   },
   {
    "duration": 0,
    "start_time": "2022-05-11T21:10:15.207Z"
   },
   {
    "duration": 0,
    "start_time": "2022-05-11T21:10:15.209Z"
   },
   {
    "duration": 0,
    "start_time": "2022-05-11T21:10:15.210Z"
   },
   {
    "duration": 0,
    "start_time": "2022-05-11T21:10:15.213Z"
   },
   {
    "duration": 1,
    "start_time": "2022-05-11T21:10:15.214Z"
   },
   {
    "duration": 0,
    "start_time": "2022-05-11T21:10:15.216Z"
   },
   {
    "duration": 0,
    "start_time": "2022-05-11T21:10:15.218Z"
   },
   {
    "duration": 19,
    "start_time": "2022-05-11T21:36:23.042Z"
   },
   {
    "duration": 155,
    "start_time": "2022-05-11T21:39:39.841Z"
   },
   {
    "duration": 33,
    "start_time": "2022-05-11T21:39:50.690Z"
   },
   {
    "duration": 9,
    "start_time": "2022-05-11T21:40:13.609Z"
   },
   {
    "duration": 10,
    "start_time": "2022-05-11T21:40:27.535Z"
   },
   {
    "duration": 10,
    "start_time": "2022-05-11T21:40:43.836Z"
   },
   {
    "duration": 10,
    "start_time": "2022-05-11T21:40:49.605Z"
   },
   {
    "duration": 19,
    "start_time": "2022-05-11T21:42:04.673Z"
   },
   {
    "duration": 18,
    "start_time": "2022-05-11T21:42:21.815Z"
   },
   {
    "duration": 10,
    "start_time": "2022-05-11T21:42:31.373Z"
   },
   {
    "duration": 10,
    "start_time": "2022-05-11T21:42:39.959Z"
   },
   {
    "duration": 10,
    "start_time": "2022-05-11T21:42:48.945Z"
   },
   {
    "duration": 1272,
    "start_time": "2022-05-11T21:43:01.004Z"
   },
   {
    "duration": 10,
    "start_time": "2022-05-11T21:43:37.190Z"
   },
   {
    "duration": 10,
    "start_time": "2022-05-11T21:44:28.698Z"
   },
   {
    "duration": 7,
    "start_time": "2022-05-11T21:44:38.002Z"
   },
   {
    "duration": 8,
    "start_time": "2022-05-11T21:45:15.516Z"
   },
   {
    "duration": 5,
    "start_time": "2022-05-11T21:55:47.521Z"
   },
   {
    "duration": 5,
    "start_time": "2022-05-11T21:55:48.836Z"
   },
   {
    "duration": 6,
    "start_time": "2022-05-11T22:10:29.441Z"
   },
   {
    "duration": 24,
    "start_time": "2022-05-11T22:11:01.916Z"
   },
   {
    "duration": 23,
    "start_time": "2022-05-11T22:11:25.428Z"
   },
   {
    "duration": 3,
    "start_time": "2022-05-11T22:11:27.364Z"
   },
   {
    "duration": 16,
    "start_time": "2022-05-11T22:14:25.898Z"
   },
   {
    "duration": 16,
    "start_time": "2022-05-11T22:14:29.577Z"
   },
   {
    "duration": 24,
    "start_time": "2022-05-11T22:14:50.204Z"
   },
   {
    "duration": 14,
    "start_time": "2022-05-11T22:15:36.138Z"
   },
   {
    "duration": 23,
    "start_time": "2022-05-11T22:15:38.200Z"
   },
   {
    "duration": 5,
    "start_time": "2022-05-11T22:17:55.647Z"
   },
   {
    "duration": 35,
    "start_time": "2022-05-11T22:17:57.671Z"
   },
   {
    "duration": 18,
    "start_time": "2022-05-11T22:18:16.405Z"
   },
   {
    "duration": 17,
    "start_time": "2022-05-11T22:18:25.313Z"
   },
   {
    "duration": 4,
    "start_time": "2022-05-11T22:18:32.226Z"
   },
   {
    "duration": 23,
    "start_time": "2022-05-11T22:18:36.062Z"
   },
   {
    "duration": 7,
    "start_time": "2022-05-11T22:19:16.805Z"
   },
   {
    "duration": 8,
    "start_time": "2022-05-11T22:19:49.516Z"
   },
   {
    "duration": 23,
    "start_time": "2022-05-11T22:20:23.096Z"
   },
   {
    "duration": 20,
    "start_time": "2022-05-11T22:28:22.130Z"
   },
   {
    "duration": 5,
    "start_time": "2022-05-12T00:01:25.329Z"
   },
   {
    "duration": 6,
    "start_time": "2022-05-12T00:02:29.874Z"
   },
   {
    "duration": 19,
    "start_time": "2022-05-12T00:02:38.669Z"
   },
   {
    "duration": 17,
    "start_time": "2022-05-12T00:02:58.154Z"
   },
   {
    "duration": 17,
    "start_time": "2022-05-12T00:28:00.053Z"
   },
   {
    "duration": 18,
    "start_time": "2022-05-12T00:28:30.598Z"
   },
   {
    "duration": 17,
    "start_time": "2022-05-12T00:28:55.016Z"
   },
   {
    "duration": 17,
    "start_time": "2022-05-12T00:29:52.311Z"
   },
   {
    "duration": 689,
    "start_time": "2022-05-12T20:55:38.398Z"
   },
   {
    "duration": 6,
    "start_time": "2022-05-12T20:55:39.089Z"
   },
   {
    "duration": 27,
    "start_time": "2022-05-12T20:55:39.098Z"
   },
   {
    "duration": 26,
    "start_time": "2022-05-12T20:55:39.128Z"
   },
   {
    "duration": 23,
    "start_time": "2022-05-12T20:55:39.159Z"
   },
   {
    "duration": 40,
    "start_time": "2022-05-12T20:55:39.185Z"
   },
   {
    "duration": 21,
    "start_time": "2022-05-12T20:55:39.227Z"
   },
   {
    "duration": 23,
    "start_time": "2022-05-12T20:55:39.251Z"
   },
   {
    "duration": 15,
    "start_time": "2022-05-12T20:55:39.276Z"
   },
   {
    "duration": 33,
    "start_time": "2022-05-12T20:55:39.293Z"
   },
   {
    "duration": 9,
    "start_time": "2022-05-12T20:55:39.328Z"
   },
   {
    "duration": 15,
    "start_time": "2022-05-12T20:55:39.339Z"
   },
   {
    "duration": 17,
    "start_time": "2022-05-12T20:55:39.356Z"
   },
   {
    "duration": 9,
    "start_time": "2022-05-12T20:55:39.378Z"
   },
   {
    "duration": 38,
    "start_time": "2022-05-12T20:55:39.389Z"
   },
   {
    "duration": 25,
    "start_time": "2022-05-12T20:55:39.429Z"
   },
   {
    "duration": 7,
    "start_time": "2022-05-12T20:55:39.457Z"
   },
   {
    "duration": 20,
    "start_time": "2022-05-12T20:55:39.467Z"
   },
   {
    "duration": 6,
    "start_time": "2022-05-12T20:55:39.490Z"
   },
   {
    "duration": 6,
    "start_time": "2022-05-12T20:55:39.525Z"
   },
   {
    "duration": 15,
    "start_time": "2022-05-12T20:55:39.533Z"
   },
   {
    "duration": 14,
    "start_time": "2022-05-12T20:55:39.550Z"
   },
   {
    "duration": 9,
    "start_time": "2022-05-12T20:55:39.566Z"
   },
   {
    "duration": 11,
    "start_time": "2022-05-12T20:55:39.577Z"
   },
   {
    "duration": 4,
    "start_time": "2022-05-12T20:55:39.625Z"
   },
   {
    "duration": 14,
    "start_time": "2022-05-12T20:55:39.631Z"
   },
   {
    "duration": 11,
    "start_time": "2022-05-12T20:55:39.647Z"
   },
   {
    "duration": 16,
    "start_time": "2022-05-12T20:55:39.660Z"
   },
   {
    "duration": 10,
    "start_time": "2022-05-12T20:55:39.678Z"
   },
   {
    "duration": 10,
    "start_time": "2022-05-12T20:55:39.725Z"
   },
   {
    "duration": 5,
    "start_time": "2022-05-12T20:55:39.738Z"
   },
   {
    "duration": 13,
    "start_time": "2022-05-12T20:55:39.745Z"
   },
   {
    "duration": 33,
    "start_time": "2022-05-12T20:55:39.761Z"
   },
   {
    "duration": 78,
    "start_time": "2022-05-12T20:55:39.796Z"
   },
   {
    "duration": 50,
    "start_time": "2022-05-12T20:55:39.876Z"
   },
   {
    "duration": 5,
    "start_time": "2022-05-12T20:55:39.928Z"
   },
   {
    "duration": 49,
    "start_time": "2022-05-12T20:55:39.935Z"
   },
   {
    "duration": 7,
    "start_time": "2022-05-12T20:55:39.986Z"
   },
   {
    "duration": 9,
    "start_time": "2022-05-12T20:55:39.995Z"
   },
   {
    "duration": 24,
    "start_time": "2022-05-12T20:55:40.006Z"
   },
   {
    "duration": 12,
    "start_time": "2022-05-12T20:55:40.037Z"
   },
   {
    "duration": 30,
    "start_time": "2022-05-12T20:55:40.051Z"
   },
   {
    "duration": 5,
    "start_time": "2022-05-12T20:55:40.084Z"
   },
   {
    "duration": 12,
    "start_time": "2022-05-12T20:55:40.092Z"
   },
   {
    "duration": 7,
    "start_time": "2022-05-12T20:55:40.124Z"
   },
   {
    "duration": 27,
    "start_time": "2022-05-12T20:55:40.133Z"
   },
   {
    "duration": 4,
    "start_time": "2022-05-12T20:55:40.162Z"
   },
   {
    "duration": 16,
    "start_time": "2022-05-12T20:55:40.168Z"
   },
   {
    "duration": 8,
    "start_time": "2022-05-12T20:55:40.187Z"
   },
   {
    "duration": 48,
    "start_time": "2022-05-12T20:55:40.197Z"
   },
   {
    "duration": 5,
    "start_time": "2022-05-12T20:55:40.247Z"
   },
   {
    "duration": 12,
    "start_time": "2022-05-12T20:55:40.254Z"
   },
   {
    "duration": 14,
    "start_time": "2022-05-12T20:55:40.268Z"
   },
   {
    "duration": 16,
    "start_time": "2022-05-12T20:55:40.284Z"
   },
   {
    "duration": 119,
    "start_time": "2022-05-12T20:55:40.326Z"
   },
   {
    "duration": 0,
    "start_time": "2022-05-12T20:55:40.448Z"
   },
   {
    "duration": 0,
    "start_time": "2022-05-12T20:55:40.450Z"
   },
   {
    "duration": 0,
    "start_time": "2022-05-12T20:55:40.451Z"
   },
   {
    "duration": 0,
    "start_time": "2022-05-12T20:55:40.453Z"
   },
   {
    "duration": 0,
    "start_time": "2022-05-12T20:55:40.454Z"
   },
   {
    "duration": 0,
    "start_time": "2022-05-12T20:55:40.456Z"
   },
   {
    "duration": 0,
    "start_time": "2022-05-12T20:55:40.458Z"
   },
   {
    "duration": 0,
    "start_time": "2022-05-12T20:55:40.460Z"
   },
   {
    "duration": 0,
    "start_time": "2022-05-12T20:55:40.461Z"
   },
   {
    "duration": 0,
    "start_time": "2022-05-12T20:55:40.463Z"
   },
   {
    "duration": 0,
    "start_time": "2022-05-12T20:55:40.465Z"
   },
   {
    "duration": 0,
    "start_time": "2022-05-12T20:55:40.466Z"
   },
   {
    "duration": 0,
    "start_time": "2022-05-12T20:55:40.468Z"
   },
   {
    "duration": 0,
    "start_time": "2022-05-12T20:55:40.470Z"
   },
   {
    "duration": 0,
    "start_time": "2022-05-12T20:55:40.472Z"
   },
   {
    "duration": 0,
    "start_time": "2022-05-12T20:55:40.473Z"
   },
   {
    "duration": 18,
    "start_time": "2022-05-12T20:55:48.787Z"
   },
   {
    "duration": 18,
    "start_time": "2022-05-12T20:56:01.659Z"
   },
   {
    "duration": 18,
    "start_time": "2022-05-12T20:56:13.591Z"
   },
   {
    "duration": 8,
    "start_time": "2022-05-12T22:20:02.029Z"
   },
   {
    "duration": 7,
    "start_time": "2022-05-12T22:20:52.371Z"
   },
   {
    "duration": 11,
    "start_time": "2022-05-12T22:22:48.490Z"
   },
   {
    "duration": 15,
    "start_time": "2022-05-12T22:24:05.050Z"
   },
   {
    "duration": 1519,
    "start_time": "2022-05-12T22:24:22.160Z"
   },
   {
    "duration": 10,
    "start_time": "2022-05-12T22:24:33.526Z"
   },
   {
    "duration": 8,
    "start_time": "2022-05-12T22:25:59.525Z"
   },
   {
    "duration": 7,
    "start_time": "2022-05-12T22:42:28.248Z"
   },
   {
    "duration": 14,
    "start_time": "2022-05-12T22:42:48.410Z"
   },
   {
    "duration": 10,
    "start_time": "2022-05-12T22:43:31.766Z"
   },
   {
    "duration": 8,
    "start_time": "2022-05-12T22:43:36.456Z"
   },
   {
    "duration": 7,
    "start_time": "2022-05-12T22:43:40.766Z"
   },
   {
    "duration": 552,
    "start_time": "2022-05-13T18:25:52.452Z"
   },
   {
    "duration": 4,
    "start_time": "2022-05-13T18:25:53.006Z"
   },
   {
    "duration": 9,
    "start_time": "2022-05-13T18:25:53.011Z"
   },
   {
    "duration": 16,
    "start_time": "2022-05-13T18:25:53.022Z"
   },
   {
    "duration": 13,
    "start_time": "2022-05-13T18:25:53.041Z"
   },
   {
    "duration": 5,
    "start_time": "2022-05-13T18:25:53.056Z"
   },
   {
    "duration": 36,
    "start_time": "2022-05-13T18:25:53.063Z"
   },
   {
    "duration": 11,
    "start_time": "2022-05-13T18:25:53.100Z"
   },
   {
    "duration": 9,
    "start_time": "2022-05-13T18:25:53.112Z"
   },
   {
    "duration": 3,
    "start_time": "2022-05-13T18:25:53.122Z"
   },
   {
    "duration": 4,
    "start_time": "2022-05-13T18:25:53.126Z"
   },
   {
    "duration": 6,
    "start_time": "2022-05-13T18:25:53.132Z"
   },
   {
    "duration": 10,
    "start_time": "2022-05-13T18:25:53.139Z"
   },
   {
    "duration": 3,
    "start_time": "2022-05-13T18:25:53.152Z"
   },
   {
    "duration": 5,
    "start_time": "2022-05-13T18:25:53.188Z"
   },
   {
    "duration": 12,
    "start_time": "2022-05-13T18:25:53.194Z"
   },
   {
    "duration": 5,
    "start_time": "2022-05-13T18:25:53.207Z"
   },
   {
    "duration": 8,
    "start_time": "2022-05-13T18:25:53.213Z"
   },
   {
    "duration": 3,
    "start_time": "2022-05-13T18:25:53.222Z"
   },
   {
    "duration": 5,
    "start_time": "2022-05-13T18:25:53.227Z"
   },
   {
    "duration": 7,
    "start_time": "2022-05-13T18:25:53.233Z"
   },
   {
    "duration": 8,
    "start_time": "2022-05-13T18:25:53.241Z"
   },
   {
    "duration": 38,
    "start_time": "2022-05-13T18:25:53.250Z"
   },
   {
    "duration": 7,
    "start_time": "2022-05-13T18:25:53.289Z"
   },
   {
    "duration": 5,
    "start_time": "2022-05-13T18:25:53.297Z"
   },
   {
    "duration": 8,
    "start_time": "2022-05-13T18:25:53.304Z"
   },
   {
    "duration": 8,
    "start_time": "2022-05-13T18:25:53.314Z"
   },
   {
    "duration": 8,
    "start_time": "2022-05-13T18:25:53.324Z"
   },
   {
    "duration": 7,
    "start_time": "2022-05-13T18:25:53.333Z"
   },
   {
    "duration": 7,
    "start_time": "2022-05-13T18:25:53.342Z"
   },
   {
    "duration": 4,
    "start_time": "2022-05-13T18:25:53.350Z"
   },
   {
    "duration": 6,
    "start_time": "2022-05-13T18:25:53.389Z"
   },
   {
    "duration": 18,
    "start_time": "2022-05-13T18:25:53.397Z"
   },
   {
    "duration": 29,
    "start_time": "2022-05-13T18:25:53.416Z"
   },
   {
    "duration": 15,
    "start_time": "2022-05-13T18:25:53.447Z"
   },
   {
    "duration": 3,
    "start_time": "2022-05-13T18:25:53.489Z"
   },
   {
    "duration": 10,
    "start_time": "2022-05-13T18:25:53.494Z"
   },
   {
    "duration": 4,
    "start_time": "2022-05-13T18:25:53.506Z"
   },
   {
    "duration": 5,
    "start_time": "2022-05-13T18:25:53.511Z"
   },
   {
    "duration": 9,
    "start_time": "2022-05-13T18:25:53.517Z"
   },
   {
    "duration": 3,
    "start_time": "2022-05-13T18:25:53.530Z"
   },
   {
    "duration": 16,
    "start_time": "2022-05-13T18:25:53.535Z"
   },
   {
    "duration": 3,
    "start_time": "2022-05-13T18:25:53.552Z"
   },
   {
    "duration": 5,
    "start_time": "2022-05-13T18:25:53.588Z"
   },
   {
    "duration": 5,
    "start_time": "2022-05-13T18:25:53.594Z"
   },
   {
    "duration": 14,
    "start_time": "2022-05-13T18:25:53.601Z"
   },
   {
    "duration": 2,
    "start_time": "2022-05-13T18:25:53.617Z"
   },
   {
    "duration": 7,
    "start_time": "2022-05-13T18:25:53.620Z"
   },
   {
    "duration": 3,
    "start_time": "2022-05-13T18:25:53.629Z"
   },
   {
    "duration": 17,
    "start_time": "2022-05-13T18:25:53.633Z"
   },
   {
    "duration": 3,
    "start_time": "2022-05-13T18:25:53.651Z"
   },
   {
    "duration": 36,
    "start_time": "2022-05-13T18:25:53.655Z"
   },
   {
    "duration": 7,
    "start_time": "2022-05-13T18:25:53.692Z"
   },
   {
    "duration": 9,
    "start_time": "2022-05-13T18:25:53.700Z"
   },
   {
    "duration": 83,
    "start_time": "2022-05-13T18:25:53.710Z"
   },
   {
    "duration": 0,
    "start_time": "2022-05-13T18:25:53.794Z"
   },
   {
    "duration": 0,
    "start_time": "2022-05-13T18:25:53.795Z"
   },
   {
    "duration": 0,
    "start_time": "2022-05-13T18:25:53.796Z"
   },
   {
    "duration": 0,
    "start_time": "2022-05-13T18:25:53.797Z"
   },
   {
    "duration": 0,
    "start_time": "2022-05-13T18:25:53.798Z"
   },
   {
    "duration": 0,
    "start_time": "2022-05-13T18:25:53.799Z"
   },
   {
    "duration": 0,
    "start_time": "2022-05-13T18:25:53.800Z"
   },
   {
    "duration": 0,
    "start_time": "2022-05-13T18:25:53.800Z"
   },
   {
    "duration": 0,
    "start_time": "2022-05-13T18:25:53.801Z"
   },
   {
    "duration": 0,
    "start_time": "2022-05-13T18:25:53.802Z"
   },
   {
    "duration": 0,
    "start_time": "2022-05-13T18:25:53.803Z"
   },
   {
    "duration": 0,
    "start_time": "2022-05-13T18:25:53.803Z"
   },
   {
    "duration": 0,
    "start_time": "2022-05-13T18:25:53.805Z"
   },
   {
    "duration": 0,
    "start_time": "2022-05-13T18:25:53.806Z"
   },
   {
    "duration": 0,
    "start_time": "2022-05-13T18:25:53.808Z"
   },
   {
    "duration": 0,
    "start_time": "2022-05-13T18:25:53.809Z"
   },
   {
    "duration": 7,
    "start_time": "2022-05-13T18:29:18.095Z"
   },
   {
    "duration": 4,
    "start_time": "2022-05-13T18:29:49.456Z"
   },
   {
    "duration": 4,
    "start_time": "2022-05-13T18:30:23.154Z"
   },
   {
    "duration": 8,
    "start_time": "2022-05-13T18:31:49.566Z"
   },
   {
    "duration": 112,
    "start_time": "2022-05-13T18:35:36.199Z"
   },
   {
    "duration": 107,
    "start_time": "2022-05-13T18:35:43.138Z"
   },
   {
    "duration": 106,
    "start_time": "2022-05-13T18:35:50.132Z"
   },
   {
    "duration": 102,
    "start_time": "2022-05-13T18:35:55.136Z"
   },
   {
    "duration": 108,
    "start_time": "2022-05-13T18:37:54.295Z"
   },
   {
    "duration": 10,
    "start_time": "2022-05-13T18:38:40.646Z"
   },
   {
    "duration": 6,
    "start_time": "2022-05-13T18:38:53.810Z"
   },
   {
    "duration": 7,
    "start_time": "2022-05-13T18:39:04.346Z"
   },
   {
    "duration": 7,
    "start_time": "2022-05-13T18:39:56.866Z"
   },
   {
    "duration": 12,
    "start_time": "2022-05-13T18:40:17.396Z"
   },
   {
    "duration": 6,
    "start_time": "2022-05-13T18:41:25.907Z"
   },
   {
    "duration": 6,
    "start_time": "2022-05-13T18:52:05.568Z"
   },
   {
    "duration": 6,
    "start_time": "2022-05-13T18:52:27.152Z"
   },
   {
    "duration": 9,
    "start_time": "2022-05-13T18:52:57.893Z"
   },
   {
    "duration": 10,
    "start_time": "2022-05-13T18:54:01.690Z"
   },
   {
    "duration": 7,
    "start_time": "2022-05-13T18:54:10.206Z"
   },
   {
    "duration": 11,
    "start_time": "2022-05-13T18:55:28.273Z"
   },
   {
    "duration": 10,
    "start_time": "2022-05-13T18:59:22.016Z"
   },
   {
    "duration": 44,
    "start_time": "2022-05-13T22:25:57.861Z"
   },
   {
    "duration": 6,
    "start_time": "2022-05-13T22:26:09.735Z"
   },
   {
    "duration": 573,
    "start_time": "2022-05-13T22:26:25.164Z"
   },
   {
    "duration": 3,
    "start_time": "2022-05-13T22:26:25.740Z"
   },
   {
    "duration": 10,
    "start_time": "2022-05-13T22:26:25.744Z"
   },
   {
    "duration": 19,
    "start_time": "2022-05-13T22:26:25.755Z"
   },
   {
    "duration": 13,
    "start_time": "2022-05-13T22:26:25.776Z"
   },
   {
    "duration": 6,
    "start_time": "2022-05-13T22:26:25.790Z"
   },
   {
    "duration": 14,
    "start_time": "2022-05-13T22:26:25.797Z"
   },
   {
    "duration": 10,
    "start_time": "2022-05-13T22:26:25.812Z"
   },
   {
    "duration": 10,
    "start_time": "2022-05-13T22:26:25.824Z"
   },
   {
    "duration": 5,
    "start_time": "2022-05-13T22:26:25.835Z"
   },
   {
    "duration": 30,
    "start_time": "2022-05-13T22:26:25.841Z"
   },
   {
    "duration": 4,
    "start_time": "2022-05-13T22:26:25.873Z"
   },
   {
    "duration": 13,
    "start_time": "2022-05-13T22:26:25.878Z"
   },
   {
    "duration": 4,
    "start_time": "2022-05-13T22:26:25.894Z"
   },
   {
    "duration": 10,
    "start_time": "2022-05-13T22:26:25.900Z"
   },
   {
    "duration": 11,
    "start_time": "2022-05-13T22:26:25.911Z"
   },
   {
    "duration": 5,
    "start_time": "2022-05-13T22:26:25.923Z"
   },
   {
    "duration": 7,
    "start_time": "2022-05-13T22:26:25.929Z"
   },
   {
    "duration": 33,
    "start_time": "2022-05-13T22:26:25.938Z"
   },
   {
    "duration": 5,
    "start_time": "2022-05-13T22:26:25.973Z"
   },
   {
    "duration": 6,
    "start_time": "2022-05-13T22:26:25.980Z"
   },
   {
    "duration": 7,
    "start_time": "2022-05-13T22:26:25.988Z"
   },
   {
    "duration": 5,
    "start_time": "2022-05-13T22:26:25.996Z"
   },
   {
    "duration": 7,
    "start_time": "2022-05-13T22:26:26.002Z"
   },
   {
    "duration": 3,
    "start_time": "2022-05-13T22:26:26.011Z"
   },
   {
    "duration": 8,
    "start_time": "2022-05-13T22:26:26.015Z"
   },
   {
    "duration": 8,
    "start_time": "2022-05-13T22:26:26.024Z"
   },
   {
    "duration": 41,
    "start_time": "2022-05-13T22:26:26.033Z"
   },
   {
    "duration": 6,
    "start_time": "2022-05-13T22:26:26.075Z"
   },
   {
    "duration": 7,
    "start_time": "2022-05-13T22:26:26.083Z"
   },
   {
    "duration": 6,
    "start_time": "2022-05-13T22:26:26.092Z"
   },
   {
    "duration": 8,
    "start_time": "2022-05-13T22:26:26.099Z"
   },
   {
    "duration": 21,
    "start_time": "2022-05-13T22:26:26.108Z"
   },
   {
    "duration": 55,
    "start_time": "2022-05-13T22:26:26.130Z"
   },
   {
    "duration": 14,
    "start_time": "2022-05-13T22:26:26.187Z"
   },
   {
    "duration": 3,
    "start_time": "2022-05-13T22:26:26.203Z"
   },
   {
    "duration": 7,
    "start_time": "2022-05-13T22:26:26.208Z"
   },
   {
    "duration": 3,
    "start_time": "2022-05-13T22:26:26.217Z"
   },
   {
    "duration": 5,
    "start_time": "2022-05-13T22:26:26.221Z"
   },
   {
    "duration": 8,
    "start_time": "2022-05-13T22:26:26.227Z"
   },
   {
    "duration": 33,
    "start_time": "2022-05-13T22:26:26.239Z"
   },
   {
    "duration": 15,
    "start_time": "2022-05-13T22:26:26.274Z"
   },
   {
    "duration": 3,
    "start_time": "2022-05-13T22:26:26.291Z"
   },
   {
    "duration": 4,
    "start_time": "2022-05-13T22:26:26.296Z"
   },
   {
    "duration": 4,
    "start_time": "2022-05-13T22:26:26.301Z"
   },
   {
    "duration": 14,
    "start_time": "2022-05-13T22:26:26.306Z"
   },
   {
    "duration": 2,
    "start_time": "2022-05-13T22:26:26.322Z"
   },
   {
    "duration": 46,
    "start_time": "2022-05-13T22:26:26.325Z"
   },
   {
    "duration": 2,
    "start_time": "2022-05-13T22:26:26.373Z"
   },
   {
    "duration": 16,
    "start_time": "2022-05-13T22:26:26.377Z"
   },
   {
    "duration": 4,
    "start_time": "2022-05-13T22:26:26.395Z"
   },
   {
    "duration": 6,
    "start_time": "2022-05-13T22:26:26.400Z"
   },
   {
    "duration": 4,
    "start_time": "2022-05-13T22:26:26.408Z"
   },
   {
    "duration": 4,
    "start_time": "2022-05-13T22:26:26.413Z"
   },
   {
    "duration": 96,
    "start_time": "2022-05-13T22:26:26.418Z"
   },
   {
    "duration": 0,
    "start_time": "2022-05-13T22:26:26.515Z"
   },
   {
    "duration": 0,
    "start_time": "2022-05-13T22:26:26.516Z"
   },
   {
    "duration": 0,
    "start_time": "2022-05-13T22:26:26.517Z"
   },
   {
    "duration": 0,
    "start_time": "2022-05-13T22:26:26.518Z"
   },
   {
    "duration": 0,
    "start_time": "2022-05-13T22:26:26.519Z"
   },
   {
    "duration": 0,
    "start_time": "2022-05-13T22:26:26.520Z"
   },
   {
    "duration": 0,
    "start_time": "2022-05-13T22:26:26.521Z"
   },
   {
    "duration": 0,
    "start_time": "2022-05-13T22:26:26.522Z"
   },
   {
    "duration": 0,
    "start_time": "2022-05-13T22:26:26.523Z"
   },
   {
    "duration": 0,
    "start_time": "2022-05-13T22:26:26.524Z"
   },
   {
    "duration": 0,
    "start_time": "2022-05-13T22:26:26.525Z"
   },
   {
    "duration": 0,
    "start_time": "2022-05-13T22:26:26.526Z"
   },
   {
    "duration": 0,
    "start_time": "2022-05-13T22:26:26.527Z"
   },
   {
    "duration": 0,
    "start_time": "2022-05-13T22:26:26.528Z"
   },
   {
    "duration": 0,
    "start_time": "2022-05-13T22:26:26.529Z"
   },
   {
    "duration": 0,
    "start_time": "2022-05-13T22:26:26.530Z"
   },
   {
    "duration": 15,
    "start_time": "2022-05-13T22:26:30.707Z"
   },
   {
    "duration": 12,
    "start_time": "2022-05-13T22:26:53.976Z"
   },
   {
    "duration": 12,
    "start_time": "2022-05-13T22:29:59.564Z"
   },
   {
    "duration": 7,
    "start_time": "2022-05-13T23:50:34.460Z"
   },
   {
    "duration": 9,
    "start_time": "2022-05-13T23:51:15.367Z"
   },
   {
    "duration": 7,
    "start_time": "2022-05-13T23:51:22.572Z"
   },
   {
    "duration": 12,
    "start_time": "2022-05-13T23:59:40.650Z"
   },
   {
    "duration": 10,
    "start_time": "2022-05-14T00:00:22.134Z"
   },
   {
    "duration": 16,
    "start_time": "2022-05-14T00:01:39.287Z"
   },
   {
    "duration": 10,
    "start_time": "2022-05-14T00:03:55.059Z"
   },
   {
    "duration": 16,
    "start_time": "2022-05-14T00:04:14.309Z"
   },
   {
    "duration": 7,
    "start_time": "2022-05-14T00:04:31.444Z"
   },
   {
    "duration": 14,
    "start_time": "2022-05-14T00:04:37.471Z"
   },
   {
    "duration": 14,
    "start_time": "2022-05-14T00:04:47.959Z"
   },
   {
    "duration": 31,
    "start_time": "2022-05-14T00:13:58.595Z"
   },
   {
    "duration": 2462,
    "start_time": "2022-05-14T00:14:19.748Z"
   },
   {
    "duration": 15,
    "start_time": "2022-05-14T00:14:35.564Z"
   },
   {
    "duration": 14,
    "start_time": "2022-05-14T00:14:50.899Z"
   },
   {
    "duration": 13,
    "start_time": "2022-05-14T00:15:05.661Z"
   },
   {
    "duration": 14,
    "start_time": "2022-05-14T00:15:13.543Z"
   },
   {
    "duration": 10,
    "start_time": "2022-05-14T00:34:22.742Z"
   },
   {
    "duration": 6,
    "start_time": "2022-05-14T00:34:33.443Z"
   },
   {
    "duration": 9,
    "start_time": "2022-05-14T00:34:42.758Z"
   },
   {
    "duration": 9,
    "start_time": "2022-05-14T00:34:50.470Z"
   },
   {
    "duration": 10,
    "start_time": "2022-05-14T00:34:59.170Z"
   },
   {
    "duration": 10,
    "start_time": "2022-05-14T00:35:35.762Z"
   },
   {
    "duration": 11,
    "start_time": "2022-05-14T00:36:38.932Z"
   },
   {
    "duration": 15,
    "start_time": "2022-05-14T00:37:26.264Z"
   },
   {
    "duration": 744,
    "start_time": "2022-05-14T21:46:32.217Z"
   },
   {
    "duration": 6,
    "start_time": "2022-05-14T21:46:32.964Z"
   },
   {
    "duration": 29,
    "start_time": "2022-05-14T21:46:32.972Z"
   },
   {
    "duration": 36,
    "start_time": "2022-05-14T21:46:33.005Z"
   },
   {
    "duration": 28,
    "start_time": "2022-05-14T21:46:33.043Z"
   },
   {
    "duration": 10,
    "start_time": "2022-05-14T21:46:33.094Z"
   },
   {
    "duration": 29,
    "start_time": "2022-05-14T21:46:33.107Z"
   },
   {
    "duration": 17,
    "start_time": "2022-05-14T21:46:33.139Z"
   },
   {
    "duration": 45,
    "start_time": "2022-05-14T21:46:33.158Z"
   },
   {
    "duration": 9,
    "start_time": "2022-05-14T21:46:33.208Z"
   },
   {
    "duration": 10,
    "start_time": "2022-05-14T21:46:33.219Z"
   },
   {
    "duration": 9,
    "start_time": "2022-05-14T21:46:33.232Z"
   },
   {
    "duration": 25,
    "start_time": "2022-05-14T21:46:33.243Z"
   },
   {
    "duration": 6,
    "start_time": "2022-05-14T21:46:33.295Z"
   },
   {
    "duration": 13,
    "start_time": "2022-05-14T21:46:33.304Z"
   },
   {
    "duration": 20,
    "start_time": "2022-05-14T21:46:33.320Z"
   },
   {
    "duration": 7,
    "start_time": "2022-05-14T21:46:33.344Z"
   },
   {
    "duration": 43,
    "start_time": "2022-05-14T21:46:33.354Z"
   },
   {
    "duration": 5,
    "start_time": "2022-05-14T21:46:33.400Z"
   },
   {
    "duration": 12,
    "start_time": "2022-05-14T21:46:33.407Z"
   },
   {
    "duration": 11,
    "start_time": "2022-05-14T21:46:33.422Z"
   },
   {
    "duration": 11,
    "start_time": "2022-05-14T21:46:33.436Z"
   },
   {
    "duration": 45,
    "start_time": "2022-05-14T21:46:33.450Z"
   },
   {
    "duration": 11,
    "start_time": "2022-05-14T21:46:33.498Z"
   },
   {
    "duration": 7,
    "start_time": "2022-05-14T21:46:33.511Z"
   },
   {
    "duration": 13,
    "start_time": "2022-05-14T21:46:33.520Z"
   },
   {
    "duration": 11,
    "start_time": "2022-05-14T21:46:33.535Z"
   },
   {
    "duration": 14,
    "start_time": "2022-05-14T21:46:33.597Z"
   },
   {
    "duration": 9,
    "start_time": "2022-05-14T21:46:33.613Z"
   },
   {
    "duration": 12,
    "start_time": "2022-05-14T21:46:33.624Z"
   },
   {
    "duration": 6,
    "start_time": "2022-05-14T21:46:33.638Z"
   },
   {
    "duration": 11,
    "start_time": "2022-05-14T21:46:33.647Z"
   },
   {
    "duration": 24,
    "start_time": "2022-05-14T21:46:33.703Z"
   },
   {
    "duration": 49,
    "start_time": "2022-05-14T21:46:33.729Z"
   },
   {
    "duration": 37,
    "start_time": "2022-05-14T21:46:33.780Z"
   },
   {
    "duration": 6,
    "start_time": "2022-05-14T21:46:33.820Z"
   },
   {
    "duration": 19,
    "start_time": "2022-05-14T21:46:33.829Z"
   },
   {
    "duration": 42,
    "start_time": "2022-05-14T21:46:33.851Z"
   },
   {
    "duration": 9,
    "start_time": "2022-05-14T21:46:33.896Z"
   },
   {
    "duration": 15,
    "start_time": "2022-05-14T21:46:33.907Z"
   },
   {
    "duration": 6,
    "start_time": "2022-05-14T21:46:33.924Z"
   },
   {
    "duration": 26,
    "start_time": "2022-05-14T21:46:33.932Z"
   },
   {
    "duration": 36,
    "start_time": "2022-05-14T21:46:33.960Z"
   },
   {
    "duration": 17,
    "start_time": "2022-05-14T21:46:33.999Z"
   },
   {
    "duration": 9,
    "start_time": "2022-05-14T21:46:34.019Z"
   },
   {
    "duration": 29,
    "start_time": "2022-05-14T21:46:34.031Z"
   },
   {
    "duration": 4,
    "start_time": "2022-05-14T21:46:34.063Z"
   },
   {
    "duration": 12,
    "start_time": "2022-05-14T21:46:34.092Z"
   },
   {
    "duration": 7,
    "start_time": "2022-05-14T21:46:34.107Z"
   },
   {
    "duration": 23,
    "start_time": "2022-05-14T21:46:34.117Z"
   },
   {
    "duration": 6,
    "start_time": "2022-05-14T21:46:34.142Z"
   },
   {
    "duration": 43,
    "start_time": "2022-05-14T21:46:34.150Z"
   },
   {
    "duration": 6,
    "start_time": "2022-05-14T21:46:34.195Z"
   },
   {
    "duration": 65,
    "start_time": "2022-05-14T21:46:34.203Z"
   },
   {
    "duration": 177,
    "start_time": "2022-05-14T21:46:34.270Z"
   },
   {
    "duration": 0,
    "start_time": "2022-05-14T21:46:34.450Z"
   },
   {
    "duration": 0,
    "start_time": "2022-05-14T21:46:34.453Z"
   },
   {
    "duration": 0,
    "start_time": "2022-05-14T21:46:34.455Z"
   },
   {
    "duration": 0,
    "start_time": "2022-05-14T21:46:34.456Z"
   },
   {
    "duration": 0,
    "start_time": "2022-05-14T21:46:34.458Z"
   },
   {
    "duration": 0,
    "start_time": "2022-05-14T21:46:34.460Z"
   },
   {
    "duration": 0,
    "start_time": "2022-05-14T21:46:34.461Z"
   },
   {
    "duration": 0,
    "start_time": "2022-05-14T21:46:34.463Z"
   },
   {
    "duration": 0,
    "start_time": "2022-05-14T21:46:34.464Z"
   },
   {
    "duration": 0,
    "start_time": "2022-05-14T21:46:34.493Z"
   },
   {
    "duration": 0,
    "start_time": "2022-05-14T21:46:34.495Z"
   },
   {
    "duration": 0,
    "start_time": "2022-05-14T21:46:34.496Z"
   },
   {
    "duration": 0,
    "start_time": "2022-05-14T21:46:34.497Z"
   },
   {
    "duration": 0,
    "start_time": "2022-05-14T21:46:34.499Z"
   },
   {
    "duration": 0,
    "start_time": "2022-05-14T21:46:34.500Z"
   },
   {
    "duration": 0,
    "start_time": "2022-05-14T21:46:34.502Z"
   },
   {
    "duration": 642,
    "start_time": "2022-05-14T22:27:30.479Z"
   },
   {
    "duration": 5,
    "start_time": "2022-05-14T22:27:31.124Z"
   },
   {
    "duration": 20,
    "start_time": "2022-05-14T22:27:31.131Z"
   },
   {
    "duration": 46,
    "start_time": "2022-05-14T22:27:31.154Z"
   },
   {
    "duration": 24,
    "start_time": "2022-05-14T22:27:31.202Z"
   },
   {
    "duration": 8,
    "start_time": "2022-05-14T22:27:31.228Z"
   },
   {
    "duration": 21,
    "start_time": "2022-05-14T22:27:31.238Z"
   },
   {
    "duration": 42,
    "start_time": "2022-05-14T22:27:31.261Z"
   },
   {
    "duration": 34,
    "start_time": "2022-05-14T22:27:31.305Z"
   },
   {
    "duration": 9,
    "start_time": "2022-05-14T22:27:31.344Z"
   },
   {
    "duration": 8,
    "start_time": "2022-05-14T22:27:31.355Z"
   },
   {
    "duration": 13,
    "start_time": "2022-05-14T22:27:31.365Z"
   },
   {
    "duration": 31,
    "start_time": "2022-05-14T22:27:31.380Z"
   },
   {
    "duration": 9,
    "start_time": "2022-05-14T22:27:31.414Z"
   },
   {
    "duration": 14,
    "start_time": "2022-05-14T22:27:31.426Z"
   },
   {
    "duration": 16,
    "start_time": "2022-05-14T22:27:31.442Z"
   },
   {
    "duration": 36,
    "start_time": "2022-05-14T22:27:31.461Z"
   },
   {
    "duration": 15,
    "start_time": "2022-05-14T22:27:31.500Z"
   },
   {
    "duration": 13,
    "start_time": "2022-05-14T22:27:31.517Z"
   },
   {
    "duration": 8,
    "start_time": "2022-05-14T22:27:31.533Z"
   },
   {
    "duration": 10,
    "start_time": "2022-05-14T22:27:31.544Z"
   },
   {
    "duration": 39,
    "start_time": "2022-05-14T22:27:31.556Z"
   },
   {
    "duration": 11,
    "start_time": "2022-05-14T22:27:31.598Z"
   },
   {
    "duration": 10,
    "start_time": "2022-05-14T22:27:31.611Z"
   },
   {
    "duration": 13,
    "start_time": "2022-05-14T22:27:31.623Z"
   },
   {
    "duration": 10,
    "start_time": "2022-05-14T22:27:31.638Z"
   },
   {
    "duration": 19,
    "start_time": "2022-05-14T22:27:31.650Z"
   },
   {
    "duration": 12,
    "start_time": "2022-05-14T22:27:31.698Z"
   },
   {
    "duration": 13,
    "start_time": "2022-05-14T22:27:31.712Z"
   },
   {
    "duration": 11,
    "start_time": "2022-05-14T22:27:31.727Z"
   },
   {
    "duration": 6,
    "start_time": "2022-05-14T22:27:31.741Z"
   },
   {
    "duration": 10,
    "start_time": "2022-05-14T22:27:31.749Z"
   },
   {
    "duration": 36,
    "start_time": "2022-05-14T22:27:31.792Z"
   },
   {
    "duration": 66,
    "start_time": "2022-05-14T22:27:31.830Z"
   },
   {
    "duration": 26,
    "start_time": "2022-05-14T22:27:31.904Z"
   },
   {
    "duration": 5,
    "start_time": "2022-05-14T22:27:31.932Z"
   },
   {
    "duration": 14,
    "start_time": "2022-05-14T22:27:31.939Z"
   },
   {
    "duration": 5,
    "start_time": "2022-05-14T22:27:31.955Z"
   },
   {
    "duration": 9,
    "start_time": "2022-05-14T22:27:31.995Z"
   },
   {
    "duration": 19,
    "start_time": "2022-05-14T22:27:32.006Z"
   },
   {
    "duration": 8,
    "start_time": "2022-05-14T22:27:32.028Z"
   },
   {
    "duration": 23,
    "start_time": "2022-05-14T22:27:32.040Z"
   },
   {
    "duration": 32,
    "start_time": "2022-05-14T22:27:32.065Z"
   },
   {
    "duration": 7,
    "start_time": "2022-05-14T22:27:32.100Z"
   },
   {
    "duration": 10,
    "start_time": "2022-05-14T22:27:32.110Z"
   },
   {
    "duration": 22,
    "start_time": "2022-05-14T22:27:32.123Z"
   },
   {
    "duration": 3,
    "start_time": "2022-05-14T22:27:32.147Z"
   },
   {
    "duration": 44,
    "start_time": "2022-05-14T22:27:32.152Z"
   },
   {
    "duration": 3,
    "start_time": "2022-05-14T22:27:32.198Z"
   },
   {
    "duration": 46,
    "start_time": "2022-05-14T22:27:32.204Z"
   },
   {
    "duration": 7,
    "start_time": "2022-05-14T22:27:32.252Z"
   },
   {
    "duration": 7,
    "start_time": "2022-05-14T22:27:32.261Z"
   },
   {
    "duration": 10,
    "start_time": "2022-05-14T22:27:32.298Z"
   },
   {
    "duration": 7,
    "start_time": "2022-05-14T22:27:32.311Z"
   },
   {
    "duration": 197,
    "start_time": "2022-05-14T22:27:32.320Z"
   },
   {
    "duration": 0,
    "start_time": "2022-05-14T22:27:32.519Z"
   },
   {
    "duration": 0,
    "start_time": "2022-05-14T22:27:32.520Z"
   },
   {
    "duration": 0,
    "start_time": "2022-05-14T22:27:32.522Z"
   },
   {
    "duration": 0,
    "start_time": "2022-05-14T22:27:32.523Z"
   },
   {
    "duration": 0,
    "start_time": "2022-05-14T22:27:32.525Z"
   },
   {
    "duration": 0,
    "start_time": "2022-05-14T22:27:32.526Z"
   },
   {
    "duration": 0,
    "start_time": "2022-05-14T22:27:32.528Z"
   },
   {
    "duration": 0,
    "start_time": "2022-05-14T22:27:32.529Z"
   },
   {
    "duration": 0,
    "start_time": "2022-05-14T22:27:32.530Z"
   },
   {
    "duration": 0,
    "start_time": "2022-05-14T22:27:32.532Z"
   },
   {
    "duration": 0,
    "start_time": "2022-05-14T22:27:32.533Z"
   },
   {
    "duration": 0,
    "start_time": "2022-05-14T22:27:32.535Z"
   },
   {
    "duration": 0,
    "start_time": "2022-05-14T22:27:32.537Z"
   },
   {
    "duration": 0,
    "start_time": "2022-05-14T22:27:32.538Z"
   },
   {
    "duration": 0,
    "start_time": "2022-05-14T22:27:32.539Z"
   },
   {
    "duration": 0,
    "start_time": "2022-05-14T22:27:32.541Z"
   },
   {
    "duration": 540,
    "start_time": "2022-05-15T13:51:05.835Z"
   },
   {
    "duration": 3,
    "start_time": "2022-05-15T13:51:09.791Z"
   },
   {
    "duration": 124,
    "start_time": "2022-05-15T13:51:11.055Z"
   },
   {
    "duration": 23,
    "start_time": "2022-05-15T14:05:27.650Z"
   },
   {
    "duration": 117,
    "start_time": "2022-05-15T14:19:41.452Z"
   },
   {
    "duration": 1783,
    "start_time": "2022-05-15T14:19:48.901Z"
   },
   {
    "duration": 13,
    "start_time": "2022-05-15T14:20:38.127Z"
   },
   {
    "duration": 15,
    "start_time": "2022-05-15T14:25:29.520Z"
   },
   {
    "duration": 14,
    "start_time": "2022-05-15T14:30:11.297Z"
   },
   {
    "duration": 10,
    "start_time": "2022-05-15T14:30:23.396Z"
   },
   {
    "duration": 13,
    "start_time": "2022-05-15T14:30:41.211Z"
   },
   {
    "duration": 8,
    "start_time": "2022-05-15T14:31:32.097Z"
   },
   {
    "duration": 7,
    "start_time": "2022-05-15T14:32:28.698Z"
   },
   {
    "duration": 15,
    "start_time": "2022-05-15T14:33:14.830Z"
   },
   {
    "duration": 13,
    "start_time": "2022-05-15T14:33:26.397Z"
   },
   {
    "duration": 22,
    "start_time": "2022-05-15T14:34:06.576Z"
   },
   {
    "duration": 25,
    "start_time": "2022-05-15T14:34:16.280Z"
   },
   {
    "duration": 28,
    "start_time": "2022-05-15T14:34:46.931Z"
   },
   {
    "duration": 25,
    "start_time": "2022-05-15T14:34:59.746Z"
   },
   {
    "duration": 50,
    "start_time": "2022-05-15T14:36:30.004Z"
   },
   {
    "duration": 86,
    "start_time": "2022-05-15T14:53:15.013Z"
   },
   {
    "duration": 11,
    "start_time": "2022-05-15T14:54:38.297Z"
   },
   {
    "duration": 13,
    "start_time": "2022-05-15T14:55:14.336Z"
   },
   {
    "duration": 10,
    "start_time": "2022-05-15T15:01:51.186Z"
   },
   {
    "duration": 8,
    "start_time": "2022-05-15T15:02:01.941Z"
   },
   {
    "duration": 22,
    "start_time": "2022-05-15T15:03:36.857Z"
   },
   {
    "duration": 20,
    "start_time": "2022-05-15T15:03:49.340Z"
   },
   {
    "duration": 4,
    "start_time": "2022-05-15T15:43:21.566Z"
   },
   {
    "duration": 10,
    "start_time": "2022-05-15T15:44:57.361Z"
   },
   {
    "duration": 9,
    "start_time": "2022-05-15T15:45:16.735Z"
   },
   {
    "duration": 11,
    "start_time": "2022-05-15T15:45:29.603Z"
   },
   {
    "duration": 125,
    "start_time": "2022-05-15T16:05:23.715Z"
   },
   {
    "duration": 11,
    "start_time": "2022-05-15T16:05:32.152Z"
   },
   {
    "duration": 17,
    "start_time": "2022-05-15T16:09:19.861Z"
   },
   {
    "duration": 32,
    "start_time": "2022-05-15T16:10:29.242Z"
   },
   {
    "duration": 5,
    "start_time": "2022-05-15T16:10:46.902Z"
   },
   {
    "duration": 11,
    "start_time": "2022-05-15T16:11:01.480Z"
   },
   {
    "duration": 13,
    "start_time": "2022-05-15T16:12:32.811Z"
   },
   {
    "duration": 20,
    "start_time": "2022-05-15T16:12:44.831Z"
   },
   {
    "duration": 19,
    "start_time": "2022-05-15T16:14:01.224Z"
   },
   {
    "duration": 20,
    "start_time": "2022-05-15T16:14:20.992Z"
   },
   {
    "duration": 7,
    "start_time": "2022-05-15T16:14:36.132Z"
   },
   {
    "duration": 120,
    "start_time": "2022-05-15T17:24:01.158Z"
   },
   {
    "duration": 15,
    "start_time": "2022-05-15T17:24:13.524Z"
   },
   {
    "duration": 15,
    "start_time": "2022-05-15T17:24:44.509Z"
   },
   {
    "duration": 27,
    "start_time": "2022-05-15T17:25:06.092Z"
   },
   {
    "duration": 18,
    "start_time": "2022-05-15T17:25:47.808Z"
   },
   {
    "duration": 26,
    "start_time": "2022-05-15T17:26:03.025Z"
   },
   {
    "duration": 2041,
    "start_time": "2022-05-15T17:26:56.230Z"
   },
   {
    "duration": 2422,
    "start_time": "2022-05-15T17:27:22.226Z"
   },
   {
    "duration": 18,
    "start_time": "2022-05-15T17:38:10.523Z"
   },
   {
    "duration": 18,
    "start_time": "2022-05-15T17:38:20.109Z"
   },
   {
    "duration": 27,
    "start_time": "2022-05-15T17:44:51.110Z"
   },
   {
    "duration": 27,
    "start_time": "2022-05-15T17:45:04.767Z"
   },
   {
    "duration": 11,
    "start_time": "2022-05-15T17:45:33.781Z"
   },
   {
    "duration": 25,
    "start_time": "2022-05-15T17:46:59.273Z"
   },
   {
    "duration": 0,
    "start_time": "2022-05-15T17:47:23.665Z"
   },
   {
    "duration": 4128,
    "start_time": "2022-05-15T17:47:34.855Z"
   },
   {
    "duration": 0,
    "start_time": "2022-05-15T17:47:38.986Z"
   },
   {
    "duration": 25,
    "start_time": "2022-05-15T17:47:54.500Z"
   },
   {
    "duration": 20,
    "start_time": "2022-05-15T17:48:14.212Z"
   },
   {
    "duration": 22,
    "start_time": "2022-05-15T17:48:56.421Z"
   },
   {
    "duration": 70,
    "start_time": "2022-05-16T22:37:00.901Z"
   },
   {
    "duration": 9,
    "start_time": "2022-05-16T22:37:10.472Z"
   },
   {
    "duration": 3,
    "start_time": "2022-05-16T22:43:17.255Z"
   },
   {
    "duration": 539,
    "start_time": "2022-05-16T22:43:23.979Z"
   },
   {
    "duration": 95,
    "start_time": "2022-05-16T22:43:24.520Z"
   },
   {
    "duration": 5,
    "start_time": "2022-05-16T22:43:24.617Z"
   },
   {
    "duration": 28,
    "start_time": "2022-05-16T22:43:24.625Z"
   },
   {
    "duration": 31,
    "start_time": "2022-05-16T22:43:24.655Z"
   },
   {
    "duration": 21,
    "start_time": "2022-05-16T22:43:24.688Z"
   },
   {
    "duration": 8,
    "start_time": "2022-05-16T22:43:24.711Z"
   },
   {
    "duration": 42,
    "start_time": "2022-05-16T22:43:24.721Z"
   },
   {
    "duration": 13,
    "start_time": "2022-05-16T22:43:24.765Z"
   },
   {
    "duration": 17,
    "start_time": "2022-05-16T22:43:24.782Z"
   },
   {
    "duration": 8,
    "start_time": "2022-05-16T22:43:24.801Z"
   },
   {
    "duration": 40,
    "start_time": "2022-05-16T22:43:24.811Z"
   },
   {
    "duration": 15,
    "start_time": "2022-05-16T22:43:24.854Z"
   },
   {
    "duration": 26,
    "start_time": "2022-05-16T22:43:24.871Z"
   },
   {
    "duration": 21,
    "start_time": "2022-05-16T22:43:24.900Z"
   },
   {
    "duration": 25,
    "start_time": "2022-05-16T22:43:24.923Z"
   },
   {
    "duration": 40,
    "start_time": "2022-05-16T22:43:24.950Z"
   },
   {
    "duration": 11,
    "start_time": "2022-05-16T22:43:24.992Z"
   },
   {
    "duration": 22,
    "start_time": "2022-05-16T22:43:25.006Z"
   },
   {
    "duration": 15,
    "start_time": "2022-05-16T22:43:25.031Z"
   },
   {
    "duration": 36,
    "start_time": "2022-05-16T22:43:25.048Z"
   },
   {
    "duration": 28,
    "start_time": "2022-05-16T22:43:25.087Z"
   },
   {
    "duration": 19,
    "start_time": "2022-05-16T22:43:25.118Z"
   },
   {
    "duration": 18,
    "start_time": "2022-05-16T22:43:25.139Z"
   },
   {
    "duration": 15,
    "start_time": "2022-05-16T22:43:25.159Z"
   },
   {
    "duration": 12,
    "start_time": "2022-05-16T22:43:25.177Z"
   },
   {
    "duration": 22,
    "start_time": "2022-05-16T22:43:25.191Z"
   },
   {
    "duration": 10,
    "start_time": "2022-05-16T22:43:25.220Z"
   },
   {
    "duration": 27,
    "start_time": "2022-05-16T22:43:25.233Z"
   },
   {
    "duration": 12,
    "start_time": "2022-05-16T22:43:25.263Z"
   },
   {
    "duration": 31,
    "start_time": "2022-05-16T22:43:25.278Z"
   },
   {
    "duration": 21,
    "start_time": "2022-05-16T22:43:25.311Z"
   },
   {
    "duration": 23,
    "start_time": "2022-05-16T22:43:25.334Z"
   },
   {
    "duration": 42,
    "start_time": "2022-05-16T22:43:25.359Z"
   },
   {
    "duration": 57,
    "start_time": "2022-05-16T22:43:25.403Z"
   },
   {
    "duration": 27,
    "start_time": "2022-05-16T22:43:25.463Z"
   },
   {
    "duration": 8,
    "start_time": "2022-05-16T22:43:25.493Z"
   },
   {
    "duration": 13,
    "start_time": "2022-05-16T22:43:25.504Z"
   },
   {
    "duration": 5,
    "start_time": "2022-05-16T22:43:25.553Z"
   },
   {
    "duration": 16,
    "start_time": "2022-05-16T22:43:25.560Z"
   },
   {
    "duration": 24,
    "start_time": "2022-05-16T22:43:25.579Z"
   },
   {
    "duration": 21,
    "start_time": "2022-05-16T22:43:25.605Z"
   },
   {
    "duration": 32,
    "start_time": "2022-05-16T22:43:25.629Z"
   },
   {
    "duration": 25,
    "start_time": "2022-05-16T22:43:25.664Z"
   },
   {
    "duration": 20,
    "start_time": "2022-05-16T22:43:25.691Z"
   },
   {
    "duration": 6,
    "start_time": "2022-05-16T22:43:25.713Z"
   },
   {
    "duration": 47,
    "start_time": "2022-05-16T22:43:25.721Z"
   },
   {
    "duration": 4,
    "start_time": "2022-05-16T22:43:25.771Z"
   },
   {
    "duration": 17,
    "start_time": "2022-05-16T22:43:25.778Z"
   },
   {
    "duration": 17,
    "start_time": "2022-05-16T22:43:25.798Z"
   },
   {
    "duration": 38,
    "start_time": "2022-05-16T22:43:25.818Z"
   },
   {
    "duration": 7,
    "start_time": "2022-05-16T22:43:25.858Z"
   },
   {
    "duration": 24,
    "start_time": "2022-05-16T22:43:25.867Z"
   },
   {
    "duration": 12,
    "start_time": "2022-05-16T22:43:25.893Z"
   },
   {
    "duration": 6,
    "start_time": "2022-05-16T22:43:25.907Z"
   },
   {
    "duration": 120,
    "start_time": "2022-05-16T22:43:25.915Z"
   },
   {
    "duration": 0,
    "start_time": "2022-05-16T22:43:26.037Z"
   },
   {
    "duration": 0,
    "start_time": "2022-05-16T22:43:26.039Z"
   },
   {
    "duration": 0,
    "start_time": "2022-05-16T22:43:26.040Z"
   },
   {
    "duration": 0,
    "start_time": "2022-05-16T22:43:26.042Z"
   },
   {
    "duration": 0,
    "start_time": "2022-05-16T22:43:26.043Z"
   },
   {
    "duration": 0,
    "start_time": "2022-05-16T22:43:26.052Z"
   },
   {
    "duration": 0,
    "start_time": "2022-05-16T22:43:26.054Z"
   },
   {
    "duration": 0,
    "start_time": "2022-05-16T22:43:26.055Z"
   },
   {
    "duration": 0,
    "start_time": "2022-05-16T22:43:26.057Z"
   },
   {
    "duration": 0,
    "start_time": "2022-05-16T22:43:26.058Z"
   },
   {
    "duration": 0,
    "start_time": "2022-05-16T22:43:26.060Z"
   },
   {
    "duration": 0,
    "start_time": "2022-05-16T22:43:26.061Z"
   },
   {
    "duration": 0,
    "start_time": "2022-05-16T22:43:26.063Z"
   },
   {
    "duration": 0,
    "start_time": "2022-05-16T22:43:26.064Z"
   },
   {
    "duration": 0,
    "start_time": "2022-05-16T22:43:26.066Z"
   },
   {
    "duration": 0,
    "start_time": "2022-05-16T22:43:26.068Z"
   },
   {
    "duration": 25,
    "start_time": "2022-05-16T23:21:48.477Z"
   },
   {
    "duration": 23,
    "start_time": "2022-05-16T23:22:03.315Z"
   },
   {
    "duration": 23,
    "start_time": "2022-05-16T23:22:13.432Z"
   },
   {
    "duration": 5,
    "start_time": "2022-05-16T23:44:04.198Z"
   },
   {
    "duration": 9,
    "start_time": "2022-05-16T23:44:55.944Z"
   },
   {
    "duration": 8,
    "start_time": "2022-05-16T23:45:07.759Z"
   },
   {
    "duration": 22,
    "start_time": "2022-05-16T23:45:37.847Z"
   },
   {
    "duration": 14,
    "start_time": "2022-05-16T23:51:31.604Z"
   },
   {
    "duration": 12,
    "start_time": "2022-05-16T23:51:35.164Z"
   },
   {
    "duration": 21,
    "start_time": "2022-05-16T23:51:36.946Z"
   },
   {
    "duration": 21,
    "start_time": "2022-05-16T23:56:30.677Z"
   },
   {
    "duration": 17,
    "start_time": "2022-05-16T23:56:37.931Z"
   },
   {
    "duration": 12,
    "start_time": "2022-05-16T23:56:47.551Z"
   },
   {
    "duration": 10,
    "start_time": "2022-05-16T23:56:51.151Z"
   },
   {
    "duration": 9,
    "start_time": "2022-05-16T23:56:55.804Z"
   },
   {
    "duration": 14,
    "start_time": "2022-05-16T23:57:02.323Z"
   },
   {
    "duration": 26,
    "start_time": "2022-05-16T23:57:09.527Z"
   },
   {
    "duration": 24,
    "start_time": "2022-05-16T23:57:39.910Z"
   },
   {
    "duration": 17,
    "start_time": "2022-05-16T23:57:42.910Z"
   },
   {
    "duration": 15,
    "start_time": "2022-05-16T23:57:46.860Z"
   },
   {
    "duration": 15,
    "start_time": "2022-05-16T23:58:53.499Z"
   },
   {
    "duration": 24,
    "start_time": "2022-05-16T23:59:02.072Z"
   },
   {
    "duration": 11,
    "start_time": "2022-05-17T00:13:41.655Z"
   },
   {
    "duration": 11,
    "start_time": "2022-05-17T00:13:54.747Z"
   },
   {
    "duration": 25,
    "start_time": "2022-05-17T00:14:00.680Z"
   },
   {
    "duration": 18,
    "start_time": "2022-05-17T00:14:52.784Z"
   },
   {
    "duration": 12,
    "start_time": "2022-05-17T00:15:06.953Z"
   },
   {
    "duration": 23,
    "start_time": "2022-05-17T00:15:25.957Z"
   },
   {
    "duration": 530,
    "start_time": "2022-05-17T09:41:39.684Z"
   },
   {
    "duration": 96,
    "start_time": "2022-05-17T09:41:40.217Z"
   },
   {
    "duration": 5,
    "start_time": "2022-05-17T09:41:40.315Z"
   },
   {
    "duration": 16,
    "start_time": "2022-05-17T09:41:40.323Z"
   },
   {
    "duration": 44,
    "start_time": "2022-05-17T09:41:40.341Z"
   },
   {
    "duration": 21,
    "start_time": "2022-05-17T09:41:40.388Z"
   },
   {
    "duration": 8,
    "start_time": "2022-05-17T09:41:40.411Z"
   },
   {
    "duration": 18,
    "start_time": "2022-05-17T09:41:40.421Z"
   },
   {
    "duration": 53,
    "start_time": "2022-05-17T09:41:40.441Z"
   },
   {
    "duration": 16,
    "start_time": "2022-05-17T09:41:40.498Z"
   },
   {
    "duration": 8,
    "start_time": "2022-05-17T09:41:40.516Z"
   },
   {
    "duration": 9,
    "start_time": "2022-05-17T09:41:40.525Z"
   },
   {
    "duration": 10,
    "start_time": "2022-05-17T09:41:40.535Z"
   },
   {
    "duration": 42,
    "start_time": "2022-05-17T09:41:40.547Z"
   },
   {
    "duration": 8,
    "start_time": "2022-05-17T09:41:40.591Z"
   },
   {
    "duration": 10,
    "start_time": "2022-05-17T09:41:40.601Z"
   },
   {
    "duration": 18,
    "start_time": "2022-05-17T09:41:40.614Z"
   },
   {
    "duration": 7,
    "start_time": "2022-05-17T09:41:40.634Z"
   },
   {
    "duration": 9,
    "start_time": "2022-05-17T09:41:40.679Z"
   },
   {
    "duration": 4,
    "start_time": "2022-05-17T09:41:40.690Z"
   },
   {
    "duration": 8,
    "start_time": "2022-05-17T09:41:40.696Z"
   },
   {
    "duration": 11,
    "start_time": "2022-05-17T09:41:40.706Z"
   },
   {
    "duration": 10,
    "start_time": "2022-05-17T09:41:40.719Z"
   },
   {
    "duration": 49,
    "start_time": "2022-05-17T09:41:40.731Z"
   },
   {
    "duration": 9,
    "start_time": "2022-05-17T09:41:40.782Z"
   },
   {
    "duration": 10,
    "start_time": "2022-05-17T09:41:40.793Z"
   },
   {
    "duration": 24,
    "start_time": "2022-05-17T09:41:40.805Z"
   },
   {
    "duration": 8,
    "start_time": "2022-05-17T09:41:40.835Z"
   },
   {
    "duration": 13,
    "start_time": "2022-05-17T09:41:40.845Z"
   },
   {
    "duration": 26,
    "start_time": "2022-05-17T09:41:40.860Z"
   },
   {
    "duration": 16,
    "start_time": "2022-05-17T09:41:40.888Z"
   },
   {
    "duration": 11,
    "start_time": "2022-05-17T09:41:40.906Z"
   },
   {
    "duration": 18,
    "start_time": "2022-05-17T09:41:40.919Z"
   },
   {
    "duration": 41,
    "start_time": "2022-05-17T09:41:40.940Z"
   },
   {
    "duration": 54,
    "start_time": "2022-05-17T09:41:40.984Z"
   },
   {
    "duration": 52,
    "start_time": "2022-05-17T09:41:41.041Z"
   },
   {
    "duration": 6,
    "start_time": "2022-05-17T09:41:41.096Z"
   },
   {
    "duration": 18,
    "start_time": "2022-05-17T09:41:41.105Z"
   },
   {
    "duration": 5,
    "start_time": "2022-05-17T09:41:41.126Z"
   },
   {
    "duration": 46,
    "start_time": "2022-05-17T09:41:41.134Z"
   },
   {
    "duration": 13,
    "start_time": "2022-05-17T09:41:41.182Z"
   },
   {
    "duration": 19,
    "start_time": "2022-05-17T09:41:41.197Z"
   },
   {
    "duration": 32,
    "start_time": "2022-05-17T09:41:41.219Z"
   },
   {
    "duration": 6,
    "start_time": "2022-05-17T09:41:41.253Z"
   },
   {
    "duration": 18,
    "start_time": "2022-05-17T09:41:41.279Z"
   },
   {
    "duration": 7,
    "start_time": "2022-05-17T09:41:41.299Z"
   },
   {
    "duration": 25,
    "start_time": "2022-05-17T09:41:41.308Z"
   },
   {
    "duration": 3,
    "start_time": "2022-05-17T09:41:41.336Z"
   },
   {
    "duration": 45,
    "start_time": "2022-05-17T09:41:41.342Z"
   },
   {
    "duration": 4,
    "start_time": "2022-05-17T09:41:41.390Z"
   },
   {
    "duration": 26,
    "start_time": "2022-05-17T09:41:41.396Z"
   },
   {
    "duration": 5,
    "start_time": "2022-05-17T09:41:41.425Z"
   },
   {
    "duration": 9,
    "start_time": "2022-05-17T09:41:41.432Z"
   },
   {
    "duration": 6,
    "start_time": "2022-05-17T09:41:41.481Z"
   },
   {
    "duration": 9,
    "start_time": "2022-05-17T09:41:41.489Z"
   },
   {
    "duration": 16,
    "start_time": "2022-05-17T09:41:41.500Z"
   },
   {
    "duration": 21,
    "start_time": "2022-05-17T09:41:41.518Z"
   },
   {
    "duration": 58,
    "start_time": "2022-05-17T09:41:41.541Z"
   },
   {
    "duration": 22,
    "start_time": "2022-05-17T09:41:41.601Z"
   },
   {
    "duration": 16,
    "start_time": "2022-05-17T09:41:41.625Z"
   },
   {
    "duration": 47,
    "start_time": "2022-05-17T09:41:41.643Z"
   },
   {
    "duration": 9,
    "start_time": "2022-05-17T09:41:41.692Z"
   },
   {
    "duration": 5,
    "start_time": "2022-05-17T09:41:41.703Z"
   },
   {
    "duration": 10,
    "start_time": "2022-05-17T09:41:41.710Z"
   },
   {
    "duration": 14,
    "start_time": "2022-05-17T09:41:41.723Z"
   },
   {
    "duration": 60,
    "start_time": "2022-05-17T09:41:41.739Z"
   },
   {
    "duration": 3,
    "start_time": "2022-05-17T09:41:41.802Z"
   },
   {
    "duration": 6,
    "start_time": "2022-05-17T09:41:41.807Z"
   },
   {
    "duration": 15,
    "start_time": "2022-05-17T09:41:41.815Z"
   },
   {
    "duration": 49,
    "start_time": "2022-05-17T09:41:41.832Z"
   },
   {
    "duration": 22,
    "start_time": "2022-05-17T09:41:41.883Z"
   },
   {
    "duration": 18,
    "start_time": "2022-05-17T09:41:41.907Z"
   },
   {
    "duration": 6,
    "start_time": "2022-05-17T10:55:26.690Z"
   },
   {
    "duration": 61,
    "start_time": "2022-05-17T21:32:15.340Z"
   },
   {
    "duration": 12,
    "start_time": "2022-05-17T21:32:23.138Z"
   },
   {
    "duration": 426,
    "start_time": "2022-05-17T21:32:29.264Z"
   },
   {
    "duration": 566,
    "start_time": "2022-05-17T21:32:29.692Z"
   },
   {
    "duration": 4,
    "start_time": "2022-05-17T21:32:30.259Z"
   },
   {
    "duration": 32,
    "start_time": "2022-05-17T21:32:30.264Z"
   },
   {
    "duration": 81,
    "start_time": "2022-05-17T21:32:30.298Z"
   },
   {
    "duration": 46,
    "start_time": "2022-05-17T21:32:30.381Z"
   },
   {
    "duration": 62,
    "start_time": "2022-05-17T21:32:30.429Z"
   },
   {
    "duration": 68,
    "start_time": "2022-05-17T21:32:30.493Z"
   },
   {
    "duration": 34,
    "start_time": "2022-05-17T21:32:30.563Z"
   },
   {
    "duration": 71,
    "start_time": "2022-05-17T21:32:30.599Z"
   },
   {
    "duration": 6,
    "start_time": "2022-05-17T21:32:30.672Z"
   },
   {
    "duration": 18,
    "start_time": "2022-05-17T21:32:30.680Z"
   },
   {
    "duration": 54,
    "start_time": "2022-05-17T21:32:30.700Z"
   },
   {
    "duration": 31,
    "start_time": "2022-05-17T21:32:30.759Z"
   },
   {
    "duration": 9,
    "start_time": "2022-05-17T21:32:30.791Z"
   },
   {
    "duration": 17,
    "start_time": "2022-05-17T21:32:30.802Z"
   },
   {
    "duration": 36,
    "start_time": "2022-05-17T21:32:30.825Z"
   },
   {
    "duration": 5,
    "start_time": "2022-05-17T21:32:30.863Z"
   },
   {
    "duration": 14,
    "start_time": "2022-05-17T21:32:30.870Z"
   },
   {
    "duration": 14,
    "start_time": "2022-05-17T21:32:30.886Z"
   },
   {
    "duration": 49,
    "start_time": "2022-05-17T21:32:30.902Z"
   },
   {
    "duration": 14,
    "start_time": "2022-05-17T21:32:30.953Z"
   },
   {
    "duration": 15,
    "start_time": "2022-05-17T21:32:30.969Z"
   },
   {
    "duration": 11,
    "start_time": "2022-05-17T21:32:30.986Z"
   },
   {
    "duration": 48,
    "start_time": "2022-05-17T21:32:30.999Z"
   },
   {
    "duration": 15,
    "start_time": "2022-05-17T21:32:31.049Z"
   },
   {
    "duration": 22,
    "start_time": "2022-05-17T21:32:31.066Z"
   },
   {
    "duration": 26,
    "start_time": "2022-05-17T21:32:31.089Z"
   },
   {
    "duration": 39,
    "start_time": "2022-05-17T21:32:31.117Z"
   },
   {
    "duration": 12,
    "start_time": "2022-05-17T21:32:31.158Z"
   },
   {
    "duration": 13,
    "start_time": "2022-05-17T21:32:31.172Z"
   },
   {
    "duration": 11,
    "start_time": "2022-05-17T21:32:31.188Z"
   },
   {
    "duration": 20,
    "start_time": "2022-05-17T21:32:31.201Z"
   },
   {
    "duration": 47,
    "start_time": "2022-05-17T21:32:31.226Z"
   },
   {
    "duration": 53,
    "start_time": "2022-05-17T21:32:31.275Z"
   },
   {
    "duration": 22,
    "start_time": "2022-05-17T21:32:31.334Z"
   },
   {
    "duration": 17,
    "start_time": "2022-05-17T21:32:31.357Z"
   },
   {
    "duration": 33,
    "start_time": "2022-05-17T21:32:31.375Z"
   },
   {
    "duration": 60,
    "start_time": "2022-05-17T21:32:31.411Z"
   },
   {
    "duration": 37,
    "start_time": "2022-05-17T21:32:31.473Z"
   },
   {
    "duration": 54,
    "start_time": "2022-05-17T21:32:31.521Z"
   },
   {
    "duration": 9,
    "start_time": "2022-05-17T21:32:31.578Z"
   },
   {
    "duration": 46,
    "start_time": "2022-05-17T21:32:31.589Z"
   },
   {
    "duration": 38,
    "start_time": "2022-05-17T21:32:31.639Z"
   },
   {
    "duration": 192,
    "start_time": "2022-05-17T21:32:31.680Z"
   },
   {
    "duration": 0,
    "start_time": "2022-05-17T21:32:31.877Z"
   },
   {
    "duration": 0,
    "start_time": "2022-05-17T21:32:31.879Z"
   },
   {
    "duration": 0,
    "start_time": "2022-05-17T21:32:31.881Z"
   },
   {
    "duration": 0,
    "start_time": "2022-05-17T21:32:31.883Z"
   },
   {
    "duration": 0,
    "start_time": "2022-05-17T21:32:31.886Z"
   },
   {
    "duration": 0,
    "start_time": "2022-05-17T21:32:31.888Z"
   },
   {
    "duration": 0,
    "start_time": "2022-05-17T21:32:31.889Z"
   },
   {
    "duration": 0,
    "start_time": "2022-05-17T21:32:31.891Z"
   },
   {
    "duration": 0,
    "start_time": "2022-05-17T21:32:31.892Z"
   },
   {
    "duration": 0,
    "start_time": "2022-05-17T21:32:31.894Z"
   },
   {
    "duration": 0,
    "start_time": "2022-05-17T21:32:31.896Z"
   },
   {
    "duration": 0,
    "start_time": "2022-05-17T21:32:31.898Z"
   },
   {
    "duration": 0,
    "start_time": "2022-05-17T21:32:31.899Z"
   },
   {
    "duration": 0,
    "start_time": "2022-05-17T21:32:31.901Z"
   },
   {
    "duration": 0,
    "start_time": "2022-05-17T21:32:31.903Z"
   },
   {
    "duration": 0,
    "start_time": "2022-05-17T21:32:31.906Z"
   },
   {
    "duration": 0,
    "start_time": "2022-05-17T21:32:31.907Z"
   },
   {
    "duration": 0,
    "start_time": "2022-05-17T21:32:31.909Z"
   },
   {
    "duration": 0,
    "start_time": "2022-05-17T21:32:31.911Z"
   },
   {
    "duration": 0,
    "start_time": "2022-05-17T21:32:31.912Z"
   },
   {
    "duration": 0,
    "start_time": "2022-05-17T21:32:31.912Z"
   },
   {
    "duration": 0,
    "start_time": "2022-05-17T21:32:31.913Z"
   },
   {
    "duration": 0,
    "start_time": "2022-05-17T21:32:31.914Z"
   },
   {
    "duration": 0,
    "start_time": "2022-05-17T21:32:31.914Z"
   },
   {
    "duration": 0,
    "start_time": "2022-05-17T21:32:31.915Z"
   },
   {
    "duration": 0,
    "start_time": "2022-05-17T21:32:31.915Z"
   },
   {
    "duration": 0,
    "start_time": "2022-05-17T21:32:31.917Z"
   },
   {
    "duration": 0,
    "start_time": "2022-05-17T21:32:31.918Z"
   },
   {
    "duration": 15,
    "start_time": "2022-05-17T21:33:06.646Z"
   },
   {
    "duration": 17,
    "start_time": "2022-05-17T21:38:30.856Z"
   },
   {
    "duration": 43,
    "start_time": "2022-05-17T21:39:26.944Z"
   },
   {
    "duration": 11,
    "start_time": "2022-05-17T21:39:45.807Z"
   },
   {
    "duration": 80,
    "start_time": "2022-05-17T21:52:15.578Z"
   },
   {
    "duration": 9,
    "start_time": "2022-05-17T21:52:23.081Z"
   },
   {
    "duration": 6,
    "start_time": "2022-05-17T21:52:26.204Z"
   },
   {
    "duration": 23,
    "start_time": "2022-05-17T21:52:39.740Z"
   },
   {
    "duration": 6,
    "start_time": "2022-05-17T21:53:59.560Z"
   },
   {
    "duration": 6,
    "start_time": "2022-05-17T21:54:01.561Z"
   },
   {
    "duration": 6,
    "start_time": "2022-05-17T21:54:05.290Z"
   },
   {
    "duration": 22,
    "start_time": "2022-05-17T21:59:26.259Z"
   },
   {
    "duration": 130,
    "start_time": "2022-05-17T21:59:37.432Z"
   },
   {
    "duration": 22,
    "start_time": "2022-05-17T21:59:50.028Z"
   },
   {
    "duration": 12,
    "start_time": "2022-05-17T22:00:06.005Z"
   },
   {
    "duration": 8,
    "start_time": "2022-05-17T22:02:55.904Z"
   },
   {
    "duration": 10,
    "start_time": "2022-05-17T22:04:13.810Z"
   },
   {
    "duration": 8,
    "start_time": "2022-05-17T22:11:25.362Z"
   },
   {
    "duration": 4,
    "start_time": "2022-05-17T22:11:46.986Z"
   },
   {
    "duration": 13,
    "start_time": "2022-05-17T22:11:59.241Z"
   },
   {
    "duration": 9,
    "start_time": "2022-05-17T22:15:03.478Z"
   },
   {
    "duration": 14,
    "start_time": "2022-05-17T22:15:35.859Z"
   },
   {
    "duration": 12,
    "start_time": "2022-05-17T22:16:07.790Z"
   },
   {
    "duration": 8,
    "start_time": "2022-05-17T22:16:27.170Z"
   },
   {
    "duration": 4,
    "start_time": "2022-05-17T22:17:02.664Z"
   },
   {
    "duration": 8,
    "start_time": "2022-05-17T22:18:13.082Z"
   },
   {
    "duration": 13,
    "start_time": "2022-05-17T22:18:15.135Z"
   },
   {
    "duration": 12,
    "start_time": "2022-05-17T22:18:15.318Z"
   },
   {
    "duration": 5,
    "start_time": "2022-05-17T22:18:36.775Z"
   },
   {
    "duration": 10,
    "start_time": "2022-05-17T22:18:40.138Z"
   },
   {
    "duration": 14,
    "start_time": "2022-05-17T22:19:31.779Z"
   },
   {
    "duration": 19,
    "start_time": "2022-05-17T22:19:41.737Z"
   },
   {
    "duration": 109,
    "start_time": "2022-05-17T22:24:58.836Z"
   },
   {
    "duration": 32,
    "start_time": "2022-05-17T22:25:56.804Z"
   },
   {
    "duration": 5,
    "start_time": "2022-05-17T22:31:10.862Z"
   },
   {
    "duration": 30,
    "start_time": "2022-05-17T22:31:17.219Z"
   },
   {
    "duration": 4,
    "start_time": "2022-05-17T22:31:35.296Z"
   },
   {
    "duration": 4,
    "start_time": "2022-05-17T22:54:30.960Z"
   },
   {
    "duration": 9,
    "start_time": "2022-05-17T22:54:32.647Z"
   },
   {
    "duration": 8,
    "start_time": "2022-05-17T22:58:44.558Z"
   },
   {
    "duration": 8,
    "start_time": "2022-05-17T22:58:53.755Z"
   },
   {
    "duration": 16,
    "start_time": "2022-05-17T23:56:17.242Z"
   },
   {
    "duration": 14,
    "start_time": "2022-05-17T23:56:22.884Z"
   },
   {
    "duration": 7,
    "start_time": "2022-05-17T23:58:15.166Z"
   },
   {
    "duration": 13,
    "start_time": "2022-05-17T23:58:25.307Z"
   },
   {
    "duration": 16,
    "start_time": "2022-05-17T23:58:32.151Z"
   },
   {
    "duration": 16,
    "start_time": "2022-05-17T23:58:41.529Z"
   },
   {
    "duration": 17,
    "start_time": "2022-05-17T23:58:47.166Z"
   },
   {
    "duration": 7,
    "start_time": "2022-05-17T23:58:59.336Z"
   },
   {
    "duration": 13,
    "start_time": "2022-05-18T00:00:18.010Z"
   },
   {
    "duration": 21,
    "start_time": "2022-05-18T00:01:15.205Z"
   },
   {
    "duration": 13,
    "start_time": "2022-05-18T00:01:35.977Z"
   },
   {
    "duration": 6,
    "start_time": "2022-05-18T00:02:20.030Z"
   },
   {
    "duration": 15,
    "start_time": "2022-05-18T00:05:05.157Z"
   },
   {
    "duration": 7,
    "start_time": "2022-05-18T00:05:25.211Z"
   },
   {
    "duration": 1073,
    "start_time": "2022-05-18T00:08:10.650Z"
   },
   {
    "duration": 601,
    "start_time": "2022-05-18T00:11:30.463Z"
   },
   {
    "duration": 10,
    "start_time": "2022-05-18T00:11:44.472Z"
   },
   {
    "duration": 8,
    "start_time": "2022-05-18T00:11:55.012Z"
   },
   {
    "duration": 121,
    "start_time": "2022-05-18T00:11:55.581Z"
   },
   {
    "duration": 8,
    "start_time": "2022-05-18T00:12:00.807Z"
   },
   {
    "duration": 14,
    "start_time": "2022-05-18T00:12:04.036Z"
   },
   {
    "duration": 21,
    "start_time": "2022-05-18T00:12:15.991Z"
   },
   {
    "duration": 4,
    "start_time": "2022-05-18T00:14:14.467Z"
   },
   {
    "duration": 6,
    "start_time": "2022-05-18T00:15:04.088Z"
   },
   {
    "duration": 10,
    "start_time": "2022-05-18T00:15:20.688Z"
   },
   {
    "duration": 10,
    "start_time": "2022-05-18T00:15:23.009Z"
   },
   {
    "duration": 9,
    "start_time": "2022-05-18T00:15:25.935Z"
   },
   {
    "duration": 7,
    "start_time": "2022-05-18T00:15:30.091Z"
   },
   {
    "duration": 11,
    "start_time": "2022-05-18T00:15:31.863Z"
   },
   {
    "duration": 16,
    "start_time": "2022-05-18T00:15:37.902Z"
   },
   {
    "duration": 10,
    "start_time": "2022-05-18T00:16:01.191Z"
   },
   {
    "duration": 11,
    "start_time": "2022-05-18T00:16:26.468Z"
   },
   {
    "duration": 22,
    "start_time": "2022-05-18T00:17:23.138Z"
   },
   {
    "duration": 13,
    "start_time": "2022-05-18T00:17:25.258Z"
   },
   {
    "duration": 11,
    "start_time": "2022-05-18T00:17:28.258Z"
   },
   {
    "duration": 13,
    "start_time": "2022-05-18T00:17:32.324Z"
   },
   {
    "duration": 8,
    "start_time": "2022-05-18T00:31:23.840Z"
   },
   {
    "duration": 10,
    "start_time": "2022-05-18T00:31:33.434Z"
   },
   {
    "duration": 2,
    "start_time": "2022-05-18T00:33:10.518Z"
   },
   {
    "duration": 34,
    "start_time": "2022-05-18T00:36:36.532Z"
   },
   {
    "duration": 7,
    "start_time": "2022-05-18T00:37:35.856Z"
   },
   {
    "duration": 5,
    "start_time": "2022-05-18T00:42:07.645Z"
   },
   {
    "duration": 6,
    "start_time": "2022-05-18T00:43:38.763Z"
   },
   {
    "duration": 6,
    "start_time": "2022-05-18T00:43:47.484Z"
   },
   {
    "duration": 6,
    "start_time": "2022-05-18T00:45:41.062Z"
   },
   {
    "duration": 9,
    "start_time": "2022-05-18T00:47:21.777Z"
   },
   {
    "duration": 14,
    "start_time": "2022-05-18T00:48:45.304Z"
   },
   {
    "duration": 12,
    "start_time": "2022-05-18T00:54:36.943Z"
   },
   {
    "duration": 13,
    "start_time": "2022-05-18T00:55:12.609Z"
   },
   {
    "duration": 432,
    "start_time": "2022-05-18T22:05:39.699Z"
   },
   {
    "duration": 240,
    "start_time": "2022-05-18T22:05:40.133Z"
   },
   {
    "duration": 5,
    "start_time": "2022-05-18T22:05:40.374Z"
   },
   {
    "duration": 10,
    "start_time": "2022-05-18T22:05:40.381Z"
   },
   {
    "duration": 20,
    "start_time": "2022-05-18T22:05:40.392Z"
   },
   {
    "duration": 14,
    "start_time": "2022-05-18T22:05:40.414Z"
   },
   {
    "duration": 7,
    "start_time": "2022-05-18T22:05:40.441Z"
   },
   {
    "duration": 28,
    "start_time": "2022-05-18T22:05:40.449Z"
   },
   {
    "duration": 12,
    "start_time": "2022-05-18T22:05:40.479Z"
   },
   {
    "duration": 13,
    "start_time": "2022-05-18T22:05:40.494Z"
   },
   {
    "duration": 2,
    "start_time": "2022-05-18T22:05:40.509Z"
   },
   {
    "duration": 5,
    "start_time": "2022-05-18T22:05:40.512Z"
   },
   {
    "duration": 37,
    "start_time": "2022-05-18T22:05:40.518Z"
   },
   {
    "duration": 12,
    "start_time": "2022-05-18T22:05:40.557Z"
   },
   {
    "duration": 7,
    "start_time": "2022-05-18T22:05:40.570Z"
   },
   {
    "duration": 6,
    "start_time": "2022-05-18T22:05:40.578Z"
   },
   {
    "duration": 11,
    "start_time": "2022-05-18T22:05:40.586Z"
   },
   {
    "duration": 5,
    "start_time": "2022-05-18T22:05:40.599Z"
   },
   {
    "duration": 10,
    "start_time": "2022-05-18T22:05:40.605Z"
   },
   {
    "duration": 3,
    "start_time": "2022-05-18T22:05:40.616Z"
   },
   {
    "duration": 25,
    "start_time": "2022-05-18T22:05:40.621Z"
   },
   {
    "duration": 12,
    "start_time": "2022-05-18T22:05:40.649Z"
   },
   {
    "duration": 11,
    "start_time": "2022-05-18T22:05:40.663Z"
   },
   {
    "duration": 6,
    "start_time": "2022-05-18T22:05:40.675Z"
   },
   {
    "duration": 6,
    "start_time": "2022-05-18T22:05:40.683Z"
   },
   {
    "duration": 4,
    "start_time": "2022-05-18T22:05:40.691Z"
   },
   {
    "duration": 10,
    "start_time": "2022-05-18T22:05:40.696Z"
   },
   {
    "duration": 8,
    "start_time": "2022-05-18T22:05:40.710Z"
   },
   {
    "duration": 12,
    "start_time": "2022-05-18T22:05:40.742Z"
   },
   {
    "duration": 12,
    "start_time": "2022-05-18T22:05:40.756Z"
   },
   {
    "duration": 8,
    "start_time": "2022-05-18T22:05:40.769Z"
   },
   {
    "duration": 6,
    "start_time": "2022-05-18T22:05:40.778Z"
   },
   {
    "duration": 13,
    "start_time": "2022-05-18T22:05:40.785Z"
   },
   {
    "duration": 24,
    "start_time": "2022-05-18T22:05:40.800Z"
   },
   {
    "duration": 59,
    "start_time": "2022-05-18T22:05:40.825Z"
   },
   {
    "duration": 15,
    "start_time": "2022-05-18T22:05:40.885Z"
   },
   {
    "duration": 4,
    "start_time": "2022-05-18T22:05:40.902Z"
   },
   {
    "duration": 14,
    "start_time": "2022-05-18T22:05:40.907Z"
   },
   {
    "duration": 38,
    "start_time": "2022-05-18T22:05:40.922Z"
   },
   {
    "duration": 4,
    "start_time": "2022-05-18T22:05:40.962Z"
   },
   {
    "duration": 4,
    "start_time": "2022-05-18T22:05:40.968Z"
   },
   {
    "duration": 5,
    "start_time": "2022-05-18T22:05:40.973Z"
   },
   {
    "duration": 8,
    "start_time": "2022-05-18T22:05:40.979Z"
   },
   {
    "duration": 4,
    "start_time": "2022-05-18T22:05:40.988Z"
   },
   {
    "duration": 17,
    "start_time": "2022-05-18T22:05:40.993Z"
   },
   {
    "duration": 3,
    "start_time": "2022-05-18T22:05:41.012Z"
   },
   {
    "duration": 13,
    "start_time": "2022-05-18T22:05:41.043Z"
   },
   {
    "duration": 9,
    "start_time": "2022-05-18T22:05:41.057Z"
   },
   {
    "duration": 14,
    "start_time": "2022-05-18T22:05:41.067Z"
   },
   {
    "duration": 4,
    "start_time": "2022-05-18T22:05:41.083Z"
   },
   {
    "duration": 16,
    "start_time": "2022-05-18T22:05:41.088Z"
   },
   {
    "duration": 3,
    "start_time": "2022-05-18T22:05:41.105Z"
   },
   {
    "duration": 21,
    "start_time": "2022-05-18T22:05:41.109Z"
   },
   {
    "duration": 23,
    "start_time": "2022-05-18T22:05:41.141Z"
   },
   {
    "duration": 17,
    "start_time": "2022-05-18T22:05:41.168Z"
   },
   {
    "duration": 4,
    "start_time": "2022-05-18T22:05:41.186Z"
   },
   {
    "duration": 6,
    "start_time": "2022-05-18T22:05:41.191Z"
   },
   {
    "duration": 6,
    "start_time": "2022-05-18T22:05:41.198Z"
   },
   {
    "duration": 6,
    "start_time": "2022-05-18T22:05:41.206Z"
   },
   {
    "duration": 6,
    "start_time": "2022-05-18T22:05:41.214Z"
   },
   {
    "duration": 12,
    "start_time": "2022-05-18T22:05:41.221Z"
   },
   {
    "duration": 592,
    "start_time": "2022-05-18T22:05:41.240Z"
   },
   {
    "duration": 16,
    "start_time": "2022-05-18T22:05:41.833Z"
   },
   {
    "duration": 24,
    "start_time": "2022-05-18T22:05:41.851Z"
   },
   {
    "duration": 19,
    "start_time": "2022-05-18T22:05:41.876Z"
   },
   {
    "duration": 15,
    "start_time": "2022-05-18T22:05:41.896Z"
   },
   {
    "duration": 4,
    "start_time": "2022-05-18T22:05:41.913Z"
   },
   {
    "duration": 39,
    "start_time": "2022-05-18T22:05:41.919Z"
   },
   {
    "duration": 24,
    "start_time": "2022-05-18T22:05:41.959Z"
   },
   {
    "duration": 8,
    "start_time": "2022-05-18T22:05:41.985Z"
   },
   {
    "duration": 11,
    "start_time": "2022-05-18T22:05:41.994Z"
   },
   {
    "duration": 10,
    "start_time": "2022-05-18T22:05:42.007Z"
   },
   {
    "duration": 13,
    "start_time": "2022-05-18T22:05:42.018Z"
   },
   {
    "duration": 28,
    "start_time": "2022-05-18T22:05:42.033Z"
   },
   {
    "duration": 13,
    "start_time": "2022-05-18T22:05:42.062Z"
   },
   {
    "duration": 12,
    "start_time": "2022-05-18T22:05:42.077Z"
   },
   {
    "duration": 2,
    "start_time": "2022-05-18T22:05:42.090Z"
   },
   {
    "duration": 4,
    "start_time": "2022-05-18T22:05:42.094Z"
   },
   {
    "duration": 12,
    "start_time": "2022-05-18T22:05:42.099Z"
   },
   {
    "duration": 46,
    "start_time": "2022-05-18T22:05:42.112Z"
   },
   {
    "duration": 16,
    "start_time": "2022-05-18T22:05:42.160Z"
   },
   {
    "duration": 13,
    "start_time": "2022-05-18T22:05:42.181Z"
   },
   {
    "duration": 5,
    "start_time": "2022-05-18T22:32:05.210Z"
   },
   {
    "duration": 14,
    "start_time": "2022-05-18T22:32:07.375Z"
   },
   {
    "duration": 3,
    "start_time": "2022-05-18T22:51:21.862Z"
   },
   {
    "duration": 8,
    "start_time": "2022-05-18T22:52:33.576Z"
   },
   {
    "duration": 13,
    "start_time": "2022-05-18T22:52:47.319Z"
   },
   {
    "duration": 11,
    "start_time": "2022-05-18T22:59:00.137Z"
   },
   {
    "duration": 6,
    "start_time": "2022-05-18T23:00:51.038Z"
   },
   {
    "duration": 8,
    "start_time": "2022-05-18T23:13:39.038Z"
   },
   {
    "duration": 78,
    "start_time": "2022-05-18T23:13:52.593Z"
   },
   {
    "duration": 7,
    "start_time": "2022-05-18T23:14:39.585Z"
   },
   {
    "duration": 13,
    "start_time": "2022-05-18T23:14:49.338Z"
   },
   {
    "duration": 14,
    "start_time": "2022-05-18T23:15:36.282Z"
   },
   {
    "duration": 9,
    "start_time": "2022-05-18T23:15:56.954Z"
   },
   {
    "duration": 9,
    "start_time": "2022-05-18T23:16:04.935Z"
   },
   {
    "duration": 7,
    "start_time": "2022-05-18T23:16:50.309Z"
   },
   {
    "duration": 9,
    "start_time": "2022-05-18T23:17:17.139Z"
   },
   {
    "duration": 7,
    "start_time": "2022-05-18T23:17:21.643Z"
   },
   {
    "duration": 8,
    "start_time": "2022-05-18T23:17:27.667Z"
   },
   {
    "duration": 7,
    "start_time": "2022-05-18T23:17:28.856Z"
   },
   {
    "duration": 7,
    "start_time": "2022-05-18T23:18:10.547Z"
   },
   {
    "duration": 7,
    "start_time": "2022-05-18T23:18:19.996Z"
   },
   {
    "duration": 9,
    "start_time": "2022-05-18T23:18:31.636Z"
   },
   {
    "duration": 9,
    "start_time": "2022-05-18T23:18:42.057Z"
   },
   {
    "duration": 6,
    "start_time": "2022-05-18T23:18:47.118Z"
   },
   {
    "duration": 8,
    "start_time": "2022-05-18T23:19:02.867Z"
   },
   {
    "duration": 38,
    "start_time": "2022-05-18T23:39:54.596Z"
   },
   {
    "duration": 48,
    "start_time": "2022-05-19T00:06:09.978Z"
   },
   {
    "duration": 32,
    "start_time": "2022-05-19T02:28:46.520Z"
   },
   {
    "duration": 46,
    "start_time": "2022-05-19T02:30:07.423Z"
   },
   {
    "duration": 27,
    "start_time": "2022-05-19T02:30:25.490Z"
   },
   {
    "duration": 33,
    "start_time": "2022-05-19T02:30:47.051Z"
   },
   {
    "duration": 3,
    "start_time": "2022-05-19T02:31:22.000Z"
   },
   {
    "duration": 53,
    "start_time": "2022-05-19T02:31:44.794Z"
   },
   {
    "duration": 6,
    "start_time": "2022-05-19T02:32:04.317Z"
   },
   {
    "duration": 416,
    "start_time": "2022-05-19T02:32:18.969Z"
   },
   {
    "duration": 168,
    "start_time": "2022-05-19T02:32:19.387Z"
   },
   {
    "duration": 5,
    "start_time": "2022-05-19T02:32:19.556Z"
   },
   {
    "duration": 9,
    "start_time": "2022-05-19T02:32:19.564Z"
   },
   {
    "duration": 18,
    "start_time": "2022-05-19T02:32:19.575Z"
   },
   {
    "duration": 35,
    "start_time": "2022-05-19T02:32:19.595Z"
   },
   {
    "duration": 6,
    "start_time": "2022-05-19T02:32:19.633Z"
   },
   {
    "duration": 21,
    "start_time": "2022-05-19T02:32:19.641Z"
   },
   {
    "duration": 9,
    "start_time": "2022-05-19T02:32:19.663Z"
   },
   {
    "duration": 12,
    "start_time": "2022-05-19T02:32:19.674Z"
   },
   {
    "duration": 4,
    "start_time": "2022-05-19T02:32:19.687Z"
   },
   {
    "duration": 7,
    "start_time": "2022-05-19T02:32:19.692Z"
   },
   {
    "duration": 29,
    "start_time": "2022-05-19T02:32:19.700Z"
   },
   {
    "duration": 11,
    "start_time": "2022-05-19T02:32:19.731Z"
   },
   {
    "duration": 6,
    "start_time": "2022-05-19T02:32:19.744Z"
   },
   {
    "duration": 9,
    "start_time": "2022-05-19T02:32:19.751Z"
   },
   {
    "duration": 12,
    "start_time": "2022-05-19T02:32:19.762Z"
   },
   {
    "duration": 5,
    "start_time": "2022-05-19T02:32:19.775Z"
   },
   {
    "duration": 9,
    "start_time": "2022-05-19T02:32:19.781Z"
   },
   {
    "duration": 4,
    "start_time": "2022-05-19T02:32:19.791Z"
   },
   {
    "duration": 4,
    "start_time": "2022-05-19T02:32:19.828Z"
   },
   {
    "duration": 12,
    "start_time": "2022-05-19T02:32:19.833Z"
   },
   {
    "duration": 11,
    "start_time": "2022-05-19T02:32:19.846Z"
   },
   {
    "duration": 6,
    "start_time": "2022-05-19T02:32:19.859Z"
   },
   {
    "duration": 8,
    "start_time": "2022-05-19T02:32:19.867Z"
   },
   {
    "duration": 6,
    "start_time": "2022-05-19T02:32:19.876Z"
   },
   {
    "duration": 8,
    "start_time": "2022-05-19T02:32:19.884Z"
   },
   {
    "duration": 9,
    "start_time": "2022-05-19T02:32:19.926Z"
   },
   {
    "duration": 13,
    "start_time": "2022-05-19T02:32:19.937Z"
   },
   {
    "duration": 11,
    "start_time": "2022-05-19T02:32:19.952Z"
   },
   {
    "duration": 12,
    "start_time": "2022-05-19T02:32:19.964Z"
   },
   {
    "duration": 9,
    "start_time": "2022-05-19T02:32:19.978Z"
   },
   {
    "duration": 30,
    "start_time": "2022-05-19T02:32:19.988Z"
   },
   {
    "duration": 22,
    "start_time": "2022-05-19T02:32:20.020Z"
   },
   {
    "duration": 31,
    "start_time": "2022-05-19T02:32:20.044Z"
   },
   {
    "duration": 15,
    "start_time": "2022-05-19T02:32:20.077Z"
   },
   {
    "duration": 4,
    "start_time": "2022-05-19T02:32:20.094Z"
   },
   {
    "duration": 33,
    "start_time": "2022-05-19T02:32:20.100Z"
   },
   {
    "duration": 10,
    "start_time": "2022-05-19T02:32:20.135Z"
   },
   {
    "duration": 16,
    "start_time": "2022-05-19T02:32:20.146Z"
   },
   {
    "duration": 7,
    "start_time": "2022-05-19T02:32:20.164Z"
   },
   {
    "duration": 18,
    "start_time": "2022-05-19T02:32:20.173Z"
   },
   {
    "duration": 17,
    "start_time": "2022-05-19T02:32:20.193Z"
   },
   {
    "duration": 10,
    "start_time": "2022-05-19T02:32:20.211Z"
   },
   {
    "duration": 21,
    "start_time": "2022-05-19T02:32:20.223Z"
   },
   {
    "duration": 4,
    "start_time": "2022-05-19T02:32:20.246Z"
   },
   {
    "duration": 5,
    "start_time": "2022-05-19T02:32:20.252Z"
   },
   {
    "duration": 10,
    "start_time": "2022-05-19T02:32:20.258Z"
   },
   {
    "duration": 16,
    "start_time": "2022-05-19T02:32:20.269Z"
   },
   {
    "duration": 4,
    "start_time": "2022-05-19T02:32:20.287Z"
   },
   {
    "duration": 15,
    "start_time": "2022-05-19T02:32:20.293Z"
   },
   {
    "duration": 3,
    "start_time": "2022-05-19T02:32:20.327Z"
   },
   {
    "duration": 16,
    "start_time": "2022-05-19T02:32:20.331Z"
   },
   {
    "duration": 7,
    "start_time": "2022-05-19T02:32:20.348Z"
   },
   {
    "duration": 16,
    "start_time": "2022-05-19T02:32:20.356Z"
   },
   {
    "duration": 5,
    "start_time": "2022-05-19T02:32:20.374Z"
   },
   {
    "duration": 7,
    "start_time": "2022-05-19T02:32:20.380Z"
   },
   {
    "duration": 13,
    "start_time": "2022-05-19T02:32:20.388Z"
   },
   {
    "duration": 10,
    "start_time": "2022-05-19T02:32:20.402Z"
   },
   {
    "duration": 4,
    "start_time": "2022-05-19T02:32:20.427Z"
   },
   {
    "duration": 12,
    "start_time": "2022-05-19T02:32:20.432Z"
   },
   {
    "duration": 587,
    "start_time": "2022-05-19T02:32:20.446Z"
   },
   {
    "duration": 8,
    "start_time": "2022-05-19T02:32:21.035Z"
   },
   {
    "duration": 37,
    "start_time": "2022-05-19T02:32:21.044Z"
   },
   {
    "duration": 22,
    "start_time": "2022-05-19T02:32:21.083Z"
   },
   {
    "duration": 25,
    "start_time": "2022-05-19T02:32:21.108Z"
   },
   {
    "duration": 17,
    "start_time": "2022-05-19T02:32:21.135Z"
   },
   {
    "duration": 47,
    "start_time": "2022-05-19T02:32:21.154Z"
   },
   {
    "duration": 25,
    "start_time": "2022-05-19T02:32:21.203Z"
   },
   {
    "duration": 15,
    "start_time": "2022-05-19T02:32:21.229Z"
   },
   {
    "duration": 6,
    "start_time": "2022-05-19T02:32:21.246Z"
   },
   {
    "duration": 110,
    "start_time": "2022-05-19T02:32:21.254Z"
   },
   {
    "duration": 56,
    "start_time": "2022-05-19T02:32:21.365Z"
   },
   {
    "duration": 36,
    "start_time": "2022-05-19T02:32:21.423Z"
   },
   {
    "duration": 19,
    "start_time": "2022-05-19T02:32:21.461Z"
   },
   {
    "duration": 33,
    "start_time": "2022-05-19T02:32:21.482Z"
   },
   {
    "duration": 9,
    "start_time": "2022-05-19T02:32:21.517Z"
   },
   {
    "duration": 17,
    "start_time": "2022-05-19T02:32:21.528Z"
   },
   {
    "duration": 43,
    "start_time": "2022-05-19T02:32:21.547Z"
   },
   {
    "duration": 23,
    "start_time": "2022-05-19T02:32:21.592Z"
   },
   {
    "duration": 7,
    "start_time": "2022-05-19T02:32:21.617Z"
   },
   {
    "duration": 15,
    "start_time": "2022-05-19T02:32:21.629Z"
   },
   {
    "duration": 15,
    "start_time": "2022-05-19T02:32:21.646Z"
   },
   {
    "duration": 14,
    "start_time": "2022-05-19T02:32:21.662Z"
   },
   {
    "duration": 17,
    "start_time": "2022-05-19T02:32:21.678Z"
   },
   {
    "duration": 11,
    "start_time": "2022-05-19T02:32:21.697Z"
   },
   {
    "duration": 0,
    "start_time": "2022-05-19T02:32:21.709Z"
   },
   {
    "duration": 0,
    "start_time": "2022-05-19T02:32:21.710Z"
   },
   {
    "duration": 0,
    "start_time": "2022-05-19T02:32:21.711Z"
   },
   {
    "duration": 11,
    "start_time": "2022-05-19T02:32:26.103Z"
   },
   {
    "duration": 74,
    "start_time": "2022-05-19T02:32:35.494Z"
   },
   {
    "duration": 3,
    "start_time": "2022-05-19T02:33:52.834Z"
   },
   {
    "duration": 15,
    "start_time": "2022-05-19T02:33:55.595Z"
   },
   {
    "duration": 10,
    "start_time": "2022-05-19T02:34:12.738Z"
   },
   {
    "duration": 13,
    "start_time": "2022-05-19T02:34:36.181Z"
   },
   {
    "duration": 9,
    "start_time": "2022-05-19T02:34:44.295Z"
   },
   {
    "duration": 3,
    "start_time": "2022-05-19T02:35:02.258Z"
   },
   {
    "duration": 10,
    "start_time": "2022-05-19T02:35:28.982Z"
   },
   {
    "duration": 31,
    "start_time": "2022-05-19T02:43:55.734Z"
   },
   {
    "duration": 38,
    "start_time": "2022-05-19T02:44:18.805Z"
   },
   {
    "duration": 32,
    "start_time": "2022-05-19T02:44:27.839Z"
   },
   {
    "duration": 40,
    "start_time": "2022-05-19T02:47:17.951Z"
   },
   {
    "duration": 32,
    "start_time": "2022-05-19T03:02:05.844Z"
   },
   {
    "duration": 38,
    "start_time": "2022-05-19T03:02:36.953Z"
   },
   {
    "duration": 142,
    "start_time": "2022-05-19T03:08:39.479Z"
   },
   {
    "duration": 52,
    "start_time": "2022-05-19T03:09:26.378Z"
   },
   {
    "duration": 30,
    "start_time": "2022-05-19T03:10:17.270Z"
   },
   {
    "duration": 48,
    "start_time": "2022-05-19T03:10:23.317Z"
   },
   {
    "duration": 9,
    "start_time": "2022-05-19T17:08:24.325Z"
   },
   {
    "duration": 3,
    "start_time": "2022-05-19T17:08:25.924Z"
   },
   {
    "duration": 58,
    "start_time": "2022-05-19T17:08:32.902Z"
   },
   {
    "duration": 8,
    "start_time": "2022-05-19T17:09:37.579Z"
   },
   {
    "duration": 848,
    "start_time": "2022-05-19T17:09:50.349Z"
   },
   {
    "duration": 180,
    "start_time": "2022-05-19T17:09:51.199Z"
   },
   {
    "duration": 7,
    "start_time": "2022-05-19T17:09:51.381Z"
   },
   {
    "duration": 11,
    "start_time": "2022-05-19T17:09:51.390Z"
   },
   {
    "duration": 17,
    "start_time": "2022-05-19T17:09:51.404Z"
   },
   {
    "duration": 14,
    "start_time": "2022-05-19T17:09:51.423Z"
   },
   {
    "duration": 35,
    "start_time": "2022-05-19T17:09:51.439Z"
   },
   {
    "duration": 13,
    "start_time": "2022-05-19T17:09:51.476Z"
   },
   {
    "duration": 14,
    "start_time": "2022-05-19T17:09:51.491Z"
   },
   {
    "duration": 9,
    "start_time": "2022-05-19T17:09:51.507Z"
   },
   {
    "duration": 4,
    "start_time": "2022-05-19T17:09:51.517Z"
   },
   {
    "duration": 10,
    "start_time": "2022-05-19T17:09:51.522Z"
   },
   {
    "duration": 13,
    "start_time": "2022-05-19T17:09:51.533Z"
   },
   {
    "duration": 29,
    "start_time": "2022-05-19T17:09:51.549Z"
   },
   {
    "duration": 4,
    "start_time": "2022-05-19T17:09:51.581Z"
   },
   {
    "duration": 8,
    "start_time": "2022-05-19T17:09:51.586Z"
   },
   {
    "duration": 19,
    "start_time": "2022-05-19T17:09:51.595Z"
   },
   {
    "duration": 6,
    "start_time": "2022-05-19T17:09:51.616Z"
   },
   {
    "duration": 10,
    "start_time": "2022-05-19T17:09:51.623Z"
   },
   {
    "duration": 8,
    "start_time": "2022-05-19T17:09:51.635Z"
   },
   {
    "duration": 6,
    "start_time": "2022-05-19T17:09:51.645Z"
   },
   {
    "duration": 21,
    "start_time": "2022-05-19T17:09:51.653Z"
   },
   {
    "duration": 7,
    "start_time": "2022-05-19T17:09:51.676Z"
   },
   {
    "duration": 8,
    "start_time": "2022-05-19T17:09:51.684Z"
   },
   {
    "duration": 20,
    "start_time": "2022-05-19T17:09:51.694Z"
   },
   {
    "duration": 5,
    "start_time": "2022-05-19T17:09:51.716Z"
   },
   {
    "duration": 9,
    "start_time": "2022-05-19T17:09:51.723Z"
   },
   {
    "duration": 11,
    "start_time": "2022-05-19T17:09:51.733Z"
   },
   {
    "duration": 11,
    "start_time": "2022-05-19T17:09:51.746Z"
   },
   {
    "duration": 26,
    "start_time": "2022-05-19T17:09:51.759Z"
   },
   {
    "duration": 12,
    "start_time": "2022-05-19T17:09:51.787Z"
   },
   {
    "duration": 13,
    "start_time": "2022-05-19T17:09:51.801Z"
   },
   {
    "duration": 14,
    "start_time": "2022-05-19T17:09:51.815Z"
   },
   {
    "duration": 45,
    "start_time": "2022-05-19T17:09:51.830Z"
   },
   {
    "duration": 34,
    "start_time": "2022-05-19T17:09:51.877Z"
   },
   {
    "duration": 16,
    "start_time": "2022-05-19T17:09:51.913Z"
   },
   {
    "duration": 4,
    "start_time": "2022-05-19T17:09:51.931Z"
   },
   {
    "duration": 41,
    "start_time": "2022-05-19T17:09:51.937Z"
   },
   {
    "duration": 5,
    "start_time": "2022-05-19T17:09:51.980Z"
   },
   {
    "duration": 12,
    "start_time": "2022-05-19T17:09:51.986Z"
   },
   {
    "duration": 8,
    "start_time": "2022-05-19T17:09:52.002Z"
   },
   {
    "duration": 21,
    "start_time": "2022-05-19T17:09:52.011Z"
   },
   {
    "duration": 12,
    "start_time": "2022-05-19T17:09:52.034Z"
   },
   {
    "duration": 5,
    "start_time": "2022-05-19T17:09:52.048Z"
   },
   {
    "duration": 31,
    "start_time": "2022-05-19T17:09:52.055Z"
   },
   {
    "duration": 4,
    "start_time": "2022-05-19T17:09:52.088Z"
   },
   {
    "duration": 7,
    "start_time": "2022-05-19T17:09:52.094Z"
   },
   {
    "duration": 12,
    "start_time": "2022-05-19T17:09:52.103Z"
   },
   {
    "duration": 18,
    "start_time": "2022-05-19T17:09:52.116Z"
   },
   {
    "duration": 6,
    "start_time": "2022-05-19T17:09:52.136Z"
   },
   {
    "duration": 30,
    "start_time": "2022-05-19T17:09:52.143Z"
   },
   {
    "duration": 2,
    "start_time": "2022-05-19T17:09:52.176Z"
   },
   {
    "duration": 15,
    "start_time": "2022-05-19T17:09:52.180Z"
   },
   {
    "duration": 6,
    "start_time": "2022-05-19T17:09:52.196Z"
   },
   {
    "duration": 17,
    "start_time": "2022-05-19T17:09:52.204Z"
   },
   {
    "duration": 4,
    "start_time": "2022-05-19T17:09:52.222Z"
   },
   {
    "duration": 6,
    "start_time": "2022-05-19T17:09:52.228Z"
   },
   {
    "duration": 6,
    "start_time": "2022-05-19T17:09:52.236Z"
   },
   {
    "duration": 26,
    "start_time": "2022-05-19T17:09:52.243Z"
   },
   {
    "duration": 13,
    "start_time": "2022-05-19T17:09:52.270Z"
   },
   {
    "duration": 11,
    "start_time": "2022-05-19T17:09:52.284Z"
   },
   {
    "duration": 638,
    "start_time": "2022-05-19T17:09:52.297Z"
   },
   {
    "duration": 8,
    "start_time": "2022-05-19T17:09:52.937Z"
   },
   {
    "duration": 38,
    "start_time": "2022-05-19T17:09:52.946Z"
   },
   {
    "duration": 13,
    "start_time": "2022-05-19T17:09:52.986Z"
   },
   {
    "duration": 28,
    "start_time": "2022-05-19T17:09:53.000Z"
   },
   {
    "duration": 4,
    "start_time": "2022-05-19T17:09:53.030Z"
   },
   {
    "duration": 19,
    "start_time": "2022-05-19T17:09:53.036Z"
   },
   {
    "duration": 24,
    "start_time": "2022-05-19T17:09:53.056Z"
   },
   {
    "duration": 15,
    "start_time": "2022-05-19T17:09:53.082Z"
   },
   {
    "duration": 3,
    "start_time": "2022-05-19T17:09:53.099Z"
   },
   {
    "duration": 19,
    "start_time": "2022-05-19T17:09:53.104Z"
   },
   {
    "duration": 23,
    "start_time": "2022-05-19T17:09:53.125Z"
   },
   {
    "duration": 44,
    "start_time": "2022-05-19T17:09:53.150Z"
   },
   {
    "duration": 16,
    "start_time": "2022-05-19T17:09:53.196Z"
   },
   {
    "duration": 12,
    "start_time": "2022-05-19T17:09:53.214Z"
   },
   {
    "duration": 4,
    "start_time": "2022-05-19T17:09:53.228Z"
   },
   {
    "duration": 12,
    "start_time": "2022-05-19T17:09:53.233Z"
   },
   {
    "duration": 29,
    "start_time": "2022-05-19T17:09:53.247Z"
   },
   {
    "duration": 15,
    "start_time": "2022-05-19T17:09:53.278Z"
   },
   {
    "duration": 7,
    "start_time": "2022-05-19T17:09:53.295Z"
   },
   {
    "duration": 10,
    "start_time": "2022-05-19T17:09:53.304Z"
   },
   {
    "duration": 7,
    "start_time": "2022-05-19T17:09:53.316Z"
   },
   {
    "duration": 9,
    "start_time": "2022-05-19T17:09:53.325Z"
   },
   {
    "duration": 43,
    "start_time": "2022-05-19T17:09:53.335Z"
   },
   {
    "duration": 22,
    "start_time": "2022-05-19T17:09:53.380Z"
   },
   {
    "duration": 0,
    "start_time": "2022-05-19T17:09:53.404Z"
   },
   {
    "duration": 0,
    "start_time": "2022-05-19T17:09:53.405Z"
   },
   {
    "duration": 0,
    "start_time": "2022-05-19T17:09:53.406Z"
   },
   {
    "duration": 3,
    "start_time": "2022-05-19T17:09:55.422Z"
   },
   {
    "duration": 41,
    "start_time": "2022-05-19T17:09:55.775Z"
   },
   {
    "duration": 18,
    "start_time": "2022-05-19T17:09:56.061Z"
   },
   {
    "duration": 7,
    "start_time": "2022-05-19T17:31:36.234Z"
   },
   {
    "duration": 11,
    "start_time": "2022-05-19T17:31:37.463Z"
   },
   {
    "duration": 9,
    "start_time": "2022-05-19T17:37:32.155Z"
   },
   {
    "duration": 7,
    "start_time": "2022-05-19T17:40:55.381Z"
   },
   {
    "duration": 9,
    "start_time": "2022-05-19T17:40:56.327Z"
   },
   {
    "duration": 11,
    "start_time": "2022-05-19T17:40:56.482Z"
   },
   {
    "duration": 10,
    "start_time": "2022-05-19T17:43:21.603Z"
   },
   {
    "duration": 15,
    "start_time": "2022-05-19T20:03:19.261Z"
   },
   {
    "duration": 5,
    "start_time": "2022-05-19T20:03:20.149Z"
   },
   {
    "duration": 89,
    "start_time": "2022-05-19T20:03:24.548Z"
   },
   {
    "duration": 9,
    "start_time": "2022-05-19T20:03:40.881Z"
   },
   {
    "duration": 514,
    "start_time": "2022-05-19T20:03:59.377Z"
   },
   {
    "duration": 190,
    "start_time": "2022-05-19T20:03:59.893Z"
   },
   {
    "duration": 6,
    "start_time": "2022-05-19T20:04:00.086Z"
   },
   {
    "duration": 67,
    "start_time": "2022-05-19T20:04:00.094Z"
   },
   {
    "duration": 39,
    "start_time": "2022-05-19T20:04:00.163Z"
   },
   {
    "duration": 42,
    "start_time": "2022-05-19T20:04:00.206Z"
   },
   {
    "duration": 53,
    "start_time": "2022-05-19T20:04:00.249Z"
   },
   {
    "duration": 87,
    "start_time": "2022-05-19T20:04:00.304Z"
   },
   {
    "duration": 52,
    "start_time": "2022-05-19T20:04:00.393Z"
   },
   {
    "duration": 38,
    "start_time": "2022-05-19T20:04:00.453Z"
   },
   {
    "duration": 75,
    "start_time": "2022-05-19T20:04:00.494Z"
   },
   {
    "duration": 38,
    "start_time": "2022-05-19T20:04:00.571Z"
   },
   {
    "duration": 48,
    "start_time": "2022-05-19T20:04:00.611Z"
   },
   {
    "duration": 61,
    "start_time": "2022-05-19T20:04:00.662Z"
   },
   {
    "duration": 82,
    "start_time": "2022-05-19T20:04:00.724Z"
   },
   {
    "duration": 59,
    "start_time": "2022-05-19T20:04:00.808Z"
   },
   {
    "duration": 83,
    "start_time": "2022-05-19T20:04:00.869Z"
   },
   {
    "duration": 50,
    "start_time": "2022-05-19T20:04:00.960Z"
   },
   {
    "duration": 104,
    "start_time": "2022-05-19T20:04:01.011Z"
   },
   {
    "duration": 54,
    "start_time": "2022-05-19T20:04:01.117Z"
   },
   {
    "duration": 52,
    "start_time": "2022-05-19T20:04:01.173Z"
   },
   {
    "duration": 73,
    "start_time": "2022-05-19T20:04:01.226Z"
   },
   {
    "duration": 20,
    "start_time": "2022-05-19T20:04:01.302Z"
   },
   {
    "duration": 64,
    "start_time": "2022-05-19T20:04:01.325Z"
   },
   {
    "duration": 39,
    "start_time": "2022-05-19T20:04:01.391Z"
   },
   {
    "duration": 51,
    "start_time": "2022-05-19T20:04:01.432Z"
   },
   {
    "duration": 49,
    "start_time": "2022-05-19T20:04:01.486Z"
   },
   {
    "duration": 89,
    "start_time": "2022-05-19T20:04:01.542Z"
   },
   {
    "duration": 57,
    "start_time": "2022-05-19T20:04:01.633Z"
   },
   {
    "duration": 67,
    "start_time": "2022-05-19T20:04:01.692Z"
   },
   {
    "duration": 101,
    "start_time": "2022-05-19T20:04:01.761Z"
   },
   {
    "duration": 57,
    "start_time": "2022-05-19T20:04:01.864Z"
   },
   {
    "duration": 67,
    "start_time": "2022-05-19T20:04:01.923Z"
   },
   {
    "duration": 42,
    "start_time": "2022-05-19T20:04:01.993Z"
   },
   {
    "duration": 125,
    "start_time": "2022-05-19T20:04:02.041Z"
   },
   {
    "duration": 20,
    "start_time": "2022-05-19T20:04:02.168Z"
   },
   {
    "duration": 8,
    "start_time": "2022-05-19T20:04:02.190Z"
   },
   {
    "duration": 90,
    "start_time": "2022-05-19T20:04:02.200Z"
   },
   {
    "duration": 22,
    "start_time": "2022-05-19T20:04:02.292Z"
   },
   {
    "duration": 50,
    "start_time": "2022-05-19T20:04:02.317Z"
   },
   {
    "duration": 28,
    "start_time": "2022-05-19T20:04:02.369Z"
   },
   {
    "duration": 61,
    "start_time": "2022-05-19T20:04:02.399Z"
   },
   {
    "duration": 39,
    "start_time": "2022-05-19T20:04:02.465Z"
   },
   {
    "duration": 73,
    "start_time": "2022-05-19T20:04:02.507Z"
   },
   {
    "duration": 67,
    "start_time": "2022-05-19T20:04:02.582Z"
   },
   {
    "duration": 68,
    "start_time": "2022-05-19T20:04:02.653Z"
   },
   {
    "duration": 78,
    "start_time": "2022-05-19T20:04:02.723Z"
   },
   {
    "duration": 82,
    "start_time": "2022-05-19T20:04:02.803Z"
   },
   {
    "duration": 39,
    "start_time": "2022-05-19T20:04:02.887Z"
   },
   {
    "duration": 46,
    "start_time": "2022-05-19T20:04:02.932Z"
   },
   {
    "duration": 61,
    "start_time": "2022-05-19T20:04:02.980Z"
   },
   {
    "duration": 37,
    "start_time": "2022-05-19T20:04:03.043Z"
   },
   {
    "duration": 33,
    "start_time": "2022-05-19T20:04:03.082Z"
   },
   {
    "duration": 68,
    "start_time": "2022-05-19T20:04:03.117Z"
   },
   {
    "duration": 37,
    "start_time": "2022-05-19T20:04:03.187Z"
   },
   {
    "duration": 58,
    "start_time": "2022-05-19T20:04:03.226Z"
   },
   {
    "duration": 24,
    "start_time": "2022-05-19T20:04:03.286Z"
   },
   {
    "duration": 60,
    "start_time": "2022-05-19T20:04:03.312Z"
   },
   {
    "duration": 16,
    "start_time": "2022-05-19T20:04:03.374Z"
   },
   {
    "duration": 28,
    "start_time": "2022-05-19T20:04:03.392Z"
   },
   {
    "duration": 60,
    "start_time": "2022-05-19T20:04:03.422Z"
   },
   {
    "duration": 701,
    "start_time": "2022-05-19T20:04:03.484Z"
   },
   {
    "duration": 10,
    "start_time": "2022-05-19T20:04:04.187Z"
   },
   {
    "duration": 65,
    "start_time": "2022-05-19T20:04:04.199Z"
   },
   {
    "duration": 32,
    "start_time": "2022-05-19T20:04:04.267Z"
   },
   {
    "duration": 60,
    "start_time": "2022-05-19T20:04:04.301Z"
   },
   {
    "duration": 30,
    "start_time": "2022-05-19T20:04:04.364Z"
   },
   {
    "duration": 15,
    "start_time": "2022-05-19T20:04:04.396Z"
   },
   {
    "duration": 25,
    "start_time": "2022-05-19T20:04:04.413Z"
   },
   {
    "duration": 56,
    "start_time": "2022-05-19T20:04:04.441Z"
   },
   {
    "duration": 34,
    "start_time": "2022-05-19T20:04:04.499Z"
   },
   {
    "duration": 43,
    "start_time": "2022-05-19T20:04:04.535Z"
   },
   {
    "duration": 28,
    "start_time": "2022-05-19T20:04:04.579Z"
   },
   {
    "duration": 60,
    "start_time": "2022-05-19T20:04:04.608Z"
   },
   {
    "duration": 25,
    "start_time": "2022-05-19T20:04:04.670Z"
   },
   {
    "duration": 52,
    "start_time": "2022-05-19T20:04:04.697Z"
   },
   {
    "duration": 24,
    "start_time": "2022-05-19T20:04:04.751Z"
   },
   {
    "duration": 19,
    "start_time": "2022-05-19T20:04:04.778Z"
   },
   {
    "duration": 20,
    "start_time": "2022-05-19T20:04:04.798Z"
   },
   {
    "duration": 60,
    "start_time": "2022-05-19T20:04:04.820Z"
   },
   {
    "duration": 23,
    "start_time": "2022-05-19T20:04:04.883Z"
   },
   {
    "duration": 31,
    "start_time": "2022-05-19T20:04:04.913Z"
   },
   {
    "duration": 47,
    "start_time": "2022-05-19T20:04:04.946Z"
   },
   {
    "duration": 33,
    "start_time": "2022-05-19T20:04:04.995Z"
   },
   {
    "duration": 40,
    "start_time": "2022-05-19T20:04:05.030Z"
   },
   {
    "duration": 17,
    "start_time": "2022-05-19T20:04:05.073Z"
   },
   {
    "duration": 0,
    "start_time": "2022-05-19T20:04:05.092Z"
   },
   {
    "duration": 0,
    "start_time": "2022-05-19T20:04:05.094Z"
   },
   {
    "duration": 0,
    "start_time": "2022-05-19T20:04:05.095Z"
   },
   {
    "duration": 0,
    "start_time": "2022-05-19T20:04:05.097Z"
   },
   {
    "duration": 13,
    "start_time": "2022-05-19T20:04:15.522Z"
   },
   {
    "duration": 7,
    "start_time": "2022-05-19T20:04:33.891Z"
   },
   {
    "duration": 5,
    "start_time": "2022-05-19T20:04:35.206Z"
   },
   {
    "duration": 27,
    "start_time": "2022-05-19T20:04:50.814Z"
   },
   {
    "duration": 16,
    "start_time": "2022-05-19T20:04:52.079Z"
   },
   {
    "duration": 22,
    "start_time": "2022-05-19T20:05:12.390Z"
   },
   {
    "duration": 27,
    "start_time": "2022-05-19T20:05:23.793Z"
   },
   {
    "duration": 26,
    "start_time": "2022-05-19T20:06:08.123Z"
   },
   {
    "duration": 10,
    "start_time": "2022-05-19T20:06:35.882Z"
   },
   {
    "duration": 4,
    "start_time": "2022-05-19T20:06:37.088Z"
   },
   {
    "duration": 33,
    "start_time": "2022-05-19T20:06:38.078Z"
   },
   {
    "duration": 15,
    "start_time": "2022-05-19T20:06:40.184Z"
   },
   {
    "duration": 32,
    "start_time": "2022-05-19T20:07:43.172Z"
   },
   {
    "duration": 4,
    "start_time": "2022-05-19T20:08:07.246Z"
   },
   {
    "duration": 67,
    "start_time": "2022-05-19T20:08:11.488Z"
   },
   {
    "duration": 32,
    "start_time": "2022-05-19T20:08:35.844Z"
   },
   {
    "duration": 31,
    "start_time": "2022-05-19T20:09:09.459Z"
   },
   {
    "duration": 3,
    "start_time": "2022-05-19T20:09:09.613Z"
   },
   {
    "duration": 2,
    "start_time": "2022-05-19T20:09:14.572Z"
   },
   {
    "duration": 88,
    "start_time": "2022-05-19T20:09:14.576Z"
   },
   {
    "duration": 7,
    "start_time": "2022-05-19T20:09:14.665Z"
   },
   {
    "duration": 8,
    "start_time": "2022-05-19T20:09:14.675Z"
   },
   {
    "duration": 19,
    "start_time": "2022-05-19T20:09:14.685Z"
   },
   {
    "duration": 58,
    "start_time": "2022-05-19T20:09:14.705Z"
   },
   {
    "duration": 9,
    "start_time": "2022-05-19T20:09:14.768Z"
   },
   {
    "duration": 16,
    "start_time": "2022-05-19T20:09:14.779Z"
   },
   {
    "duration": 9,
    "start_time": "2022-05-19T20:09:14.796Z"
   },
   {
    "duration": 51,
    "start_time": "2022-05-19T20:09:14.807Z"
   },
   {
    "duration": 10,
    "start_time": "2022-05-19T20:09:14.867Z"
   },
   {
    "duration": 10,
    "start_time": "2022-05-19T20:09:14.879Z"
   },
   {
    "duration": 9,
    "start_time": "2022-05-19T20:09:14.891Z"
   },
   {
    "duration": 11,
    "start_time": "2022-05-19T20:09:14.902Z"
   },
   {
    "duration": 8,
    "start_time": "2022-05-19T20:09:14.915Z"
   },
   {
    "duration": 58,
    "start_time": "2022-05-19T20:09:14.924Z"
   },
   {
    "duration": 15,
    "start_time": "2022-05-19T20:09:14.984Z"
   },
   {
    "duration": 20,
    "start_time": "2022-05-19T20:09:15.001Z"
   },
   {
    "duration": 53,
    "start_time": "2022-05-19T20:09:15.023Z"
   },
   {
    "duration": 4,
    "start_time": "2022-05-19T20:09:15.077Z"
   },
   {
    "duration": 9,
    "start_time": "2022-05-19T20:09:15.083Z"
   },
   {
    "duration": 13,
    "start_time": "2022-05-19T20:09:15.093Z"
   },
   {
    "duration": 8,
    "start_time": "2022-05-19T20:09:15.108Z"
   },
   {
    "duration": 6,
    "start_time": "2022-05-19T20:09:15.118Z"
   },
   {
    "duration": 46,
    "start_time": "2022-05-19T20:09:15.126Z"
   },
   {
    "duration": 6,
    "start_time": "2022-05-19T20:09:15.173Z"
   },
   {
    "duration": 13,
    "start_time": "2022-05-19T20:09:15.180Z"
   },
   {
    "duration": 7,
    "start_time": "2022-05-19T20:09:15.197Z"
   },
   {
    "duration": 10,
    "start_time": "2022-05-19T20:09:15.205Z"
   },
   {
    "duration": 9,
    "start_time": "2022-05-19T20:09:15.217Z"
   },
   {
    "duration": 44,
    "start_time": "2022-05-19T20:09:15.240Z"
   },
   {
    "duration": 9,
    "start_time": "2022-05-19T20:09:15.286Z"
   },
   {
    "duration": 13,
    "start_time": "2022-05-19T20:09:15.297Z"
   },
   {
    "duration": 27,
    "start_time": "2022-05-19T20:09:15.311Z"
   },
   {
    "duration": 59,
    "start_time": "2022-05-19T20:09:15.347Z"
   },
   {
    "duration": 42,
    "start_time": "2022-05-19T20:09:15.407Z"
   },
   {
    "duration": 6,
    "start_time": "2022-05-19T20:09:15.452Z"
   },
   {
    "duration": 14,
    "start_time": "2022-05-19T20:09:15.460Z"
   },
   {
    "duration": 21,
    "start_time": "2022-05-19T20:09:15.477Z"
   },
   {
    "duration": 6,
    "start_time": "2022-05-19T20:09:15.500Z"
   },
   {
    "duration": 10,
    "start_time": "2022-05-19T20:09:15.507Z"
   },
   {
    "duration": 53,
    "start_time": "2022-05-19T20:09:15.518Z"
   },
   {
    "duration": 12,
    "start_time": "2022-05-19T20:09:15.572Z"
   },
   {
    "duration": 4,
    "start_time": "2022-05-19T20:09:15.586Z"
   },
   {
    "duration": 20,
    "start_time": "2022-05-19T20:09:15.591Z"
   },
   {
    "duration": 4,
    "start_time": "2022-05-19T20:09:15.613Z"
   },
   {
    "duration": 6,
    "start_time": "2022-05-19T20:09:15.619Z"
   },
   {
    "duration": 41,
    "start_time": "2022-05-19T20:09:15.626Z"
   },
   {
    "duration": 17,
    "start_time": "2022-05-19T20:09:15.669Z"
   },
   {
    "duration": 4,
    "start_time": "2022-05-19T20:09:15.688Z"
   },
   {
    "duration": 17,
    "start_time": "2022-05-19T20:09:15.694Z"
   },
   {
    "duration": 3,
    "start_time": "2022-05-19T20:09:15.713Z"
   },
   {
    "duration": 49,
    "start_time": "2022-05-19T20:09:15.717Z"
   },
   {
    "duration": 11,
    "start_time": "2022-05-19T20:09:15.768Z"
   },
   {
    "duration": 25,
    "start_time": "2022-05-19T20:09:15.781Z"
   },
   {
    "duration": 4,
    "start_time": "2022-05-19T20:09:15.808Z"
   },
   {
    "duration": 11,
    "start_time": "2022-05-19T20:09:15.814Z"
   },
   {
    "duration": 42,
    "start_time": "2022-05-19T20:09:15.826Z"
   },
   {
    "duration": 13,
    "start_time": "2022-05-19T20:09:15.869Z"
   },
   {
    "duration": 7,
    "start_time": "2022-05-19T20:09:15.884Z"
   },
   {
    "duration": 9,
    "start_time": "2022-05-19T20:09:15.893Z"
   },
   {
    "duration": 171,
    "start_time": "2022-05-19T20:09:15.904Z"
   },
   {
    "duration": 7,
    "start_time": "2022-05-19T20:09:16.077Z"
   },
   {
    "duration": 16,
    "start_time": "2022-05-19T20:09:16.086Z"
   },
   {
    "duration": 43,
    "start_time": "2022-05-19T20:09:16.103Z"
   },
   {
    "duration": 23,
    "start_time": "2022-05-19T20:09:16.149Z"
   },
   {
    "duration": 5,
    "start_time": "2022-05-19T20:09:16.174Z"
   },
   {
    "duration": 13,
    "start_time": "2022-05-19T20:09:16.180Z"
   },
   {
    "duration": 17,
    "start_time": "2022-05-19T20:09:16.194Z"
   },
   {
    "duration": 27,
    "start_time": "2022-05-19T20:09:16.214Z"
   },
   {
    "duration": 25,
    "start_time": "2022-05-19T20:09:16.254Z"
   },
   {
    "duration": 12,
    "start_time": "2022-05-19T20:09:16.281Z"
   },
   {
    "duration": 15,
    "start_time": "2022-05-19T20:09:16.295Z"
   },
   {
    "duration": 32,
    "start_time": "2022-05-19T20:09:16.312Z"
   },
   {
    "duration": 20,
    "start_time": "2022-05-19T20:09:16.347Z"
   },
   {
    "duration": 35,
    "start_time": "2022-05-19T20:09:16.369Z"
   },
   {
    "duration": 5,
    "start_time": "2022-05-19T20:09:16.407Z"
   },
   {
    "duration": 26,
    "start_time": "2022-05-19T20:09:16.414Z"
   },
   {
    "duration": 52,
    "start_time": "2022-05-19T20:09:16.445Z"
   },
   {
    "duration": 22,
    "start_time": "2022-05-19T20:09:16.499Z"
   },
   {
    "duration": 12,
    "start_time": "2022-05-19T20:09:16.523Z"
   },
   {
    "duration": 46,
    "start_time": "2022-05-19T20:09:16.543Z"
   },
   {
    "duration": 23,
    "start_time": "2022-05-19T20:09:16.591Z"
   },
   {
    "duration": 60,
    "start_time": "2022-05-19T20:09:16.616Z"
   },
   {
    "duration": 7,
    "start_time": "2022-05-19T20:09:16.678Z"
   },
   {
    "duration": 36,
    "start_time": "2022-05-19T20:09:16.687Z"
   },
   {
    "duration": 0,
    "start_time": "2022-05-19T20:09:16.724Z"
   },
   {
    "duration": 0,
    "start_time": "2022-05-19T20:09:16.725Z"
   },
   {
    "duration": 0,
    "start_time": "2022-05-19T20:09:16.726Z"
   },
   {
    "duration": 0,
    "start_time": "2022-05-19T20:09:16.727Z"
   },
   {
    "duration": 0,
    "start_time": "2022-05-19T20:09:16.728Z"
   },
   {
    "duration": 39,
    "start_time": "2022-05-19T20:09:20.260Z"
   },
   {
    "duration": 4,
    "start_time": "2022-05-19T20:09:59.076Z"
   },
   {
    "duration": 25,
    "start_time": "2022-05-19T20:10:00.416Z"
   },
   {
    "duration": 44,
    "start_time": "2022-05-19T20:10:03.223Z"
   },
   {
    "duration": 47,
    "start_time": "2022-05-19T20:10:20.882Z"
   },
   {
    "duration": 3,
    "start_time": "2022-05-19T20:10:30.586Z"
   },
   {
    "duration": 25,
    "start_time": "2022-05-19T20:10:31.463Z"
   },
   {
    "duration": 24,
    "start_time": "2022-05-19T20:10:32.160Z"
   },
   {
    "duration": 109,
    "start_time": "2022-05-19T20:11:10.796Z"
   },
   {
    "duration": 14,
    "start_time": "2022-05-19T20:11:33.591Z"
   },
   {
    "duration": 11,
    "start_time": "2022-05-19T20:12:04.370Z"
   },
   {
    "duration": 7,
    "start_time": "2022-05-19T20:12:22.293Z"
   },
   {
    "duration": 24,
    "start_time": "2022-05-19T20:12:26.362Z"
   },
   {
    "duration": 7,
    "start_time": "2022-05-19T20:12:27.142Z"
   },
   {
    "duration": 11,
    "start_time": "2022-05-19T20:12:34.862Z"
   },
   {
    "duration": 7,
    "start_time": "2022-05-19T20:12:53.592Z"
   },
   {
    "duration": 43,
    "start_time": "2022-05-19T20:14:16.759Z"
   },
   {
    "duration": 4,
    "start_time": "2022-05-19T20:14:19.881Z"
   },
   {
    "duration": 22,
    "start_time": "2022-05-19T20:14:21.287Z"
   },
   {
    "duration": 6,
    "start_time": "2022-05-19T20:14:22.251Z"
   },
   {
    "duration": 7,
    "start_time": "2022-05-19T20:26:12.500Z"
   },
   {
    "duration": 6,
    "start_time": "2022-05-19T20:26:14.070Z"
   },
   {
    "duration": 30,
    "start_time": "2022-05-19T20:26:14.903Z"
   },
   {
    "duration": 8,
    "start_time": "2022-05-19T20:26:15.707Z"
   },
   {
    "duration": 29,
    "start_time": "2022-05-19T20:26:17.260Z"
   },
   {
    "duration": 12,
    "start_time": "2022-05-19T20:26:22.870Z"
   },
   {
    "duration": 11,
    "start_time": "2022-05-19T20:27:03.700Z"
   },
   {
    "duration": 13,
    "start_time": "2022-05-19T20:27:36.520Z"
   },
   {
    "duration": 499,
    "start_time": "2022-05-20T12:59:23.050Z"
   },
   {
    "duration": 190,
    "start_time": "2022-05-20T12:59:23.551Z"
   },
   {
    "duration": 5,
    "start_time": "2022-05-20T12:59:23.743Z"
   },
   {
    "duration": 27,
    "start_time": "2022-05-20T12:59:23.750Z"
   },
   {
    "duration": 20,
    "start_time": "2022-05-20T12:59:23.779Z"
   },
   {
    "duration": 16,
    "start_time": "2022-05-20T12:59:23.801Z"
   },
   {
    "duration": 7,
    "start_time": "2022-05-20T12:59:23.819Z"
   },
   {
    "duration": 14,
    "start_time": "2022-05-20T12:59:23.827Z"
   },
   {
    "duration": 37,
    "start_time": "2022-05-20T12:59:23.843Z"
   },
   {
    "duration": 17,
    "start_time": "2022-05-20T12:59:23.883Z"
   },
   {
    "duration": 2,
    "start_time": "2022-05-20T12:59:23.902Z"
   },
   {
    "duration": 12,
    "start_time": "2022-05-20T12:59:23.906Z"
   },
   {
    "duration": 14,
    "start_time": "2022-05-20T12:59:23.920Z"
   },
   {
    "duration": 21,
    "start_time": "2022-05-20T12:59:23.936Z"
   },
   {
    "duration": 27,
    "start_time": "2022-05-20T12:59:23.959Z"
   },
   {
    "duration": 12,
    "start_time": "2022-05-20T12:59:23.988Z"
   },
   {
    "duration": 18,
    "start_time": "2022-05-20T12:59:24.002Z"
   },
   {
    "duration": 5,
    "start_time": "2022-05-20T12:59:24.022Z"
   },
   {
    "duration": 21,
    "start_time": "2022-05-20T12:59:24.029Z"
   },
   {
    "duration": 3,
    "start_time": "2022-05-20T12:59:24.052Z"
   },
   {
    "duration": 8,
    "start_time": "2022-05-20T12:59:24.057Z"
   },
   {
    "duration": 23,
    "start_time": "2022-05-20T12:59:24.067Z"
   },
   {
    "duration": 13,
    "start_time": "2022-05-20T12:59:24.091Z"
   },
   {
    "duration": 7,
    "start_time": "2022-05-20T12:59:24.106Z"
   },
   {
    "duration": 7,
    "start_time": "2022-05-20T12:59:24.114Z"
   },
   {
    "duration": 13,
    "start_time": "2022-05-20T12:59:24.122Z"
   },
   {
    "duration": 29,
    "start_time": "2022-05-20T12:59:24.137Z"
   },
   {
    "duration": 19,
    "start_time": "2022-05-20T12:59:24.174Z"
   },
   {
    "duration": 9,
    "start_time": "2022-05-20T12:59:24.195Z"
   },
   {
    "duration": 12,
    "start_time": "2022-05-20T12:59:24.206Z"
   },
   {
    "duration": 10,
    "start_time": "2022-05-20T12:59:24.220Z"
   },
   {
    "duration": 13,
    "start_time": "2022-05-20T12:59:24.232Z"
   },
   {
    "duration": 28,
    "start_time": "2022-05-20T12:59:24.247Z"
   },
   {
    "duration": 32,
    "start_time": "2022-05-20T12:59:24.277Z"
   },
   {
    "duration": 31,
    "start_time": "2022-05-20T12:59:24.312Z"
   },
   {
    "duration": 16,
    "start_time": "2022-05-20T12:59:24.344Z"
   },
   {
    "duration": 14,
    "start_time": "2022-05-20T12:59:24.361Z"
   },
   {
    "duration": 15,
    "start_time": "2022-05-20T12:59:24.377Z"
   },
   {
    "duration": 8,
    "start_time": "2022-05-20T12:59:24.394Z"
   },
   {
    "duration": 7,
    "start_time": "2022-05-20T12:59:24.404Z"
   },
   {
    "duration": 11,
    "start_time": "2022-05-20T12:59:24.413Z"
   },
   {
    "duration": 12,
    "start_time": "2022-05-20T12:59:24.426Z"
   },
   {
    "duration": 14,
    "start_time": "2022-05-20T12:59:24.440Z"
   },
   {
    "duration": 13,
    "start_time": "2022-05-20T12:59:24.456Z"
   },
   {
    "duration": 26,
    "start_time": "2022-05-20T12:59:24.471Z"
   },
   {
    "duration": 4,
    "start_time": "2022-05-20T12:59:24.498Z"
   },
   {
    "duration": 5,
    "start_time": "2022-05-20T12:59:24.504Z"
   },
   {
    "duration": 27,
    "start_time": "2022-05-20T12:59:24.510Z"
   },
   {
    "duration": 47,
    "start_time": "2022-05-20T12:59:24.539Z"
   },
   {
    "duration": 15,
    "start_time": "2022-05-20T12:59:24.588Z"
   },
   {
    "duration": 26,
    "start_time": "2022-05-20T12:59:24.605Z"
   },
   {
    "duration": 3,
    "start_time": "2022-05-20T12:59:24.632Z"
   },
   {
    "duration": 8,
    "start_time": "2022-05-20T12:59:24.637Z"
   },
   {
    "duration": 6,
    "start_time": "2022-05-20T12:59:24.647Z"
   },
   {
    "duration": 29,
    "start_time": "2022-05-20T12:59:24.654Z"
   },
   {
    "duration": 7,
    "start_time": "2022-05-20T12:59:24.685Z"
   },
   {
    "duration": 6,
    "start_time": "2022-05-20T12:59:24.694Z"
   },
   {
    "duration": 5,
    "start_time": "2022-05-20T12:59:24.701Z"
   },
   {
    "duration": 5,
    "start_time": "2022-05-20T12:59:24.707Z"
   },
   {
    "duration": 6,
    "start_time": "2022-05-20T12:59:24.714Z"
   },
   {
    "duration": 52,
    "start_time": "2022-05-20T12:59:24.722Z"
   },
   {
    "duration": 641,
    "start_time": "2022-05-20T12:59:24.777Z"
   },
   {
    "duration": 8,
    "start_time": "2022-05-20T12:59:25.420Z"
   },
   {
    "duration": 49,
    "start_time": "2022-05-20T12:59:25.431Z"
   },
   {
    "duration": 15,
    "start_time": "2022-05-20T12:59:25.482Z"
   },
   {
    "duration": 16,
    "start_time": "2022-05-20T12:59:25.498Z"
   },
   {
    "duration": 5,
    "start_time": "2022-05-20T12:59:25.516Z"
   },
   {
    "duration": 13,
    "start_time": "2022-05-20T12:59:25.523Z"
   },
   {
    "duration": 27,
    "start_time": "2022-05-20T12:59:25.538Z"
   },
   {
    "duration": 12,
    "start_time": "2022-05-20T12:59:25.567Z"
   },
   {
    "duration": 6,
    "start_time": "2022-05-20T12:59:25.581Z"
   },
   {
    "duration": 10,
    "start_time": "2022-05-20T12:59:25.589Z"
   },
   {
    "duration": 11,
    "start_time": "2022-05-20T12:59:25.602Z"
   },
   {
    "duration": 34,
    "start_time": "2022-05-20T12:59:25.616Z"
   },
   {
    "duration": 19,
    "start_time": "2022-05-20T12:59:25.672Z"
   },
   {
    "duration": 14,
    "start_time": "2022-05-20T12:59:25.693Z"
   },
   {
    "duration": 3,
    "start_time": "2022-05-20T12:59:25.709Z"
   },
   {
    "duration": 14,
    "start_time": "2022-05-20T12:59:25.713Z"
   },
   {
    "duration": 17,
    "start_time": "2022-05-20T12:59:25.728Z"
   },
   {
    "duration": 17,
    "start_time": "2022-05-20T12:59:25.770Z"
   },
   {
    "duration": 7,
    "start_time": "2022-05-20T12:59:25.789Z"
   },
   {
    "duration": 10,
    "start_time": "2022-05-20T12:59:25.802Z"
   },
   {
    "duration": 8,
    "start_time": "2022-05-20T12:59:25.814Z"
   },
   {
    "duration": 45,
    "start_time": "2022-05-20T12:59:25.824Z"
   },
   {
    "duration": 10,
    "start_time": "2022-05-20T12:59:25.871Z"
   },
   {
    "duration": 7,
    "start_time": "2022-05-20T12:59:25.883Z"
   },
   {
    "duration": 12,
    "start_time": "2022-05-20T12:59:25.892Z"
   },
   {
    "duration": 23,
    "start_time": "2022-05-20T12:59:25.906Z"
   },
   {
    "duration": 7,
    "start_time": "2022-05-20T12:59:25.931Z"
   },
   {
    "duration": 20,
    "start_time": "2022-05-20T12:59:25.967Z"
   },
   {
    "duration": 15,
    "start_time": "2022-05-20T12:59:25.989Z"
   },
   {
    "duration": 9,
    "start_time": "2022-05-20T12:59:26.006Z"
   },
   {
    "duration": 8,
    "start_time": "2022-05-20T12:59:35.569Z"
   },
   {
    "duration": 3,
    "start_time": "2022-05-20T12:59:36.445Z"
   },
   {
    "duration": 25,
    "start_time": "2022-05-20T12:59:37.478Z"
   },
   {
    "duration": 5,
    "start_time": "2022-05-20T12:59:39.484Z"
   },
   {
    "duration": 10,
    "start_time": "2022-05-20T12:59:49.191Z"
   },
   {
    "duration": 7,
    "start_time": "2022-05-20T12:59:50.218Z"
   },
   {
    "duration": 505,
    "start_time": "2022-05-21T12:45:24.208Z"
   },
   {
    "duration": 192,
    "start_time": "2022-05-21T12:45:24.717Z"
   },
   {
    "duration": 3,
    "start_time": "2022-05-21T12:45:24.913Z"
   },
   {
    "duration": 89,
    "start_time": "2022-05-21T12:45:24.926Z"
   },
   {
    "duration": 56,
    "start_time": "2022-05-21T12:45:25.017Z"
   },
   {
    "duration": 44,
    "start_time": "2022-05-21T12:45:25.075Z"
   },
   {
    "duration": 14,
    "start_time": "2022-05-21T12:45:25.123Z"
   },
   {
    "duration": 80,
    "start_time": "2022-05-21T12:45:25.145Z"
   },
   {
    "duration": 23,
    "start_time": "2022-05-21T12:45:25.227Z"
   },
   {
    "duration": 105,
    "start_time": "2022-05-21T12:45:25.253Z"
   },
   {
    "duration": 3,
    "start_time": "2022-05-21T12:45:25.360Z"
   },
   {
    "duration": 40,
    "start_time": "2022-05-21T12:45:25.367Z"
   },
   {
    "duration": 86,
    "start_time": "2022-05-21T12:45:25.409Z"
   },
   {
    "duration": 108,
    "start_time": "2022-05-21T12:45:25.499Z"
   },
   {
    "duration": 32,
    "start_time": "2022-05-21T12:45:25.608Z"
   },
   {
    "duration": 73,
    "start_time": "2022-05-21T12:45:25.648Z"
   },
   {
    "duration": 97,
    "start_time": "2022-05-21T12:45:25.724Z"
   },
   {
    "duration": 11,
    "start_time": "2022-05-21T12:45:25.823Z"
   },
   {
    "duration": 81,
    "start_time": "2022-05-21T12:45:25.836Z"
   },
   {
    "duration": 61,
    "start_time": "2022-05-21T12:45:25.920Z"
   },
   {
    "duration": 35,
    "start_time": "2022-05-21T12:45:25.983Z"
   },
   {
    "duration": 25,
    "start_time": "2022-05-21T12:45:26.020Z"
   },
   {
    "duration": 71,
    "start_time": "2022-05-21T12:45:26.054Z"
   },
   {
    "duration": 53,
    "start_time": "2022-05-21T12:45:26.127Z"
   },
   {
    "duration": 10,
    "start_time": "2022-05-21T12:45:26.182Z"
   },
   {
    "duration": 105,
    "start_time": "2022-05-21T12:45:26.194Z"
   },
   {
    "duration": 26,
    "start_time": "2022-05-21T12:45:26.301Z"
   },
   {
    "duration": 50,
    "start_time": "2022-05-21T12:45:26.342Z"
   },
   {
    "duration": 26,
    "start_time": "2022-05-21T12:45:26.399Z"
   },
   {
    "duration": 68,
    "start_time": "2022-05-21T12:45:26.443Z"
   },
   {
    "duration": 65,
    "start_time": "2022-05-21T12:45:26.515Z"
   },
   {
    "duration": 30,
    "start_time": "2022-05-21T12:45:26.584Z"
   },
   {
    "duration": 44,
    "start_time": "2022-05-21T12:45:26.617Z"
   },
   {
    "duration": 82,
    "start_time": "2022-05-21T12:45:26.666Z"
   },
   {
    "duration": 200,
    "start_time": "2022-05-21T12:45:26.756Z"
   },
   {
    "duration": 35,
    "start_time": "2022-05-21T12:45:26.962Z"
   },
   {
    "duration": 55,
    "start_time": "2022-05-21T12:45:27.002Z"
   },
   {
    "duration": 52,
    "start_time": "2022-05-21T12:45:27.062Z"
   },
   {
    "duration": 34,
    "start_time": "2022-05-21T12:45:27.120Z"
   },
   {
    "duration": 146,
    "start_time": "2022-05-21T12:45:27.169Z"
   },
   {
    "duration": 102,
    "start_time": "2022-05-21T12:45:27.317Z"
   },
   {
    "duration": 55,
    "start_time": "2022-05-21T12:45:27.424Z"
   },
   {
    "duration": 151,
    "start_time": "2022-05-21T12:45:27.481Z"
   },
   {
    "duration": 119,
    "start_time": "2022-05-21T12:45:27.636Z"
   },
   {
    "duration": 35,
    "start_time": "2022-05-21T12:45:27.760Z"
   },
   {
    "duration": 20,
    "start_time": "2022-05-21T12:45:27.797Z"
   },
   {
    "duration": 62,
    "start_time": "2022-05-21T12:45:27.818Z"
   },
   {
    "duration": 43,
    "start_time": "2022-05-21T12:45:27.882Z"
   },
   {
    "duration": 122,
    "start_time": "2022-05-21T12:45:27.927Z"
   },
   {
    "duration": 44,
    "start_time": "2022-05-21T12:45:28.051Z"
   },
   {
    "duration": 139,
    "start_time": "2022-05-21T12:45:28.099Z"
   },
   {
    "duration": 8,
    "start_time": "2022-05-21T12:45:28.257Z"
   },
   {
    "duration": 53,
    "start_time": "2022-05-21T12:45:28.269Z"
   },
   {
    "duration": 83,
    "start_time": "2022-05-21T12:45:28.324Z"
   },
   {
    "duration": 99,
    "start_time": "2022-05-21T12:45:28.408Z"
   },
   {
    "duration": 17,
    "start_time": "2022-05-21T12:45:28.508Z"
   },
   {
    "duration": 57,
    "start_time": "2022-05-21T12:45:28.530Z"
   },
   {
    "duration": 26,
    "start_time": "2022-05-21T12:45:28.589Z"
   },
   {
    "duration": 46,
    "start_time": "2022-05-21T12:45:28.617Z"
   },
   {
    "duration": 63,
    "start_time": "2022-05-21T12:45:28.665Z"
   },
   {
    "duration": 91,
    "start_time": "2022-05-21T12:45:28.733Z"
   },
   {
    "duration": 623,
    "start_time": "2022-05-21T12:45:28.826Z"
   },
   {
    "duration": 12,
    "start_time": "2022-05-21T12:45:29.454Z"
   },
   {
    "duration": 118,
    "start_time": "2022-05-21T12:45:29.471Z"
   },
   {
    "duration": 56,
    "start_time": "2022-05-21T12:45:29.594Z"
   },
   {
    "duration": 54,
    "start_time": "2022-05-21T12:45:29.668Z"
   },
   {
    "duration": 14,
    "start_time": "2022-05-21T12:45:29.726Z"
   },
   {
    "duration": 76,
    "start_time": "2022-05-21T12:45:29.742Z"
   },
   {
    "duration": 17,
    "start_time": "2022-05-21T12:45:29.820Z"
   },
   {
    "duration": 73,
    "start_time": "2022-05-21T12:45:29.840Z"
   },
   {
    "duration": 3,
    "start_time": "2022-05-21T12:45:29.915Z"
   },
   {
    "duration": 91,
    "start_time": "2022-05-21T12:45:29.919Z"
   },
   {
    "duration": 21,
    "start_time": "2022-05-21T12:45:30.014Z"
   },
   {
    "duration": 75,
    "start_time": "2022-05-21T12:45:30.036Z"
   },
   {
    "duration": 33,
    "start_time": "2022-05-21T12:45:30.112Z"
   },
   {
    "duration": 122,
    "start_time": "2022-05-21T12:45:30.151Z"
   },
   {
    "duration": 18,
    "start_time": "2022-05-21T12:45:30.284Z"
   },
   {
    "duration": 65,
    "start_time": "2022-05-21T12:45:30.312Z"
   },
   {
    "duration": 95,
    "start_time": "2022-05-21T12:45:30.382Z"
   },
   {
    "duration": 106,
    "start_time": "2022-05-21T12:45:30.482Z"
   },
   {
    "duration": 127,
    "start_time": "2022-05-21T12:45:30.592Z"
   },
   {
    "duration": 135,
    "start_time": "2022-05-21T12:45:30.734Z"
   },
   {
    "duration": 168,
    "start_time": "2022-05-21T12:45:30.874Z"
   },
   {
    "duration": 94,
    "start_time": "2022-05-21T12:45:31.047Z"
   },
   {
    "duration": 129,
    "start_time": "2022-05-21T12:45:31.152Z"
   },
   {
    "duration": 200,
    "start_time": "2022-05-21T12:45:31.288Z"
   },
   {
    "duration": 174,
    "start_time": "2022-05-21T12:45:31.494Z"
   },
   {
    "duration": 122,
    "start_time": "2022-05-21T12:45:31.680Z"
   },
   {
    "duration": 93,
    "start_time": "2022-05-21T12:45:31.814Z"
   },
   {
    "duration": 94,
    "start_time": "2022-05-21T12:45:31.912Z"
   },
   {
    "duration": 35,
    "start_time": "2022-05-21T12:45:32.012Z"
   },
   {
    "duration": 25,
    "start_time": "2022-05-21T12:45:32.052Z"
   },
   {
    "duration": 6,
    "start_time": "2022-05-21T12:46:41.716Z"
   },
   {
    "duration": 68,
    "start_time": "2022-05-21T14:18:55.376Z"
   },
   {
    "duration": 8,
    "start_time": "2022-05-21T14:19:02.986Z"
   },
   {
    "duration": 435,
    "start_time": "2022-05-21T14:19:09.970Z"
   },
   {
    "duration": 164,
    "start_time": "2022-05-21T14:19:10.407Z"
   },
   {
    "duration": 5,
    "start_time": "2022-05-21T14:19:10.573Z"
   },
   {
    "duration": 8,
    "start_time": "2022-05-21T14:19:10.580Z"
   },
   {
    "duration": 19,
    "start_time": "2022-05-21T14:19:10.589Z"
   },
   {
    "duration": 21,
    "start_time": "2022-05-21T14:19:10.610Z"
   },
   {
    "duration": 23,
    "start_time": "2022-05-21T14:19:10.633Z"
   },
   {
    "duration": 17,
    "start_time": "2022-05-21T14:19:10.658Z"
   },
   {
    "duration": 11,
    "start_time": "2022-05-21T14:19:10.677Z"
   },
   {
    "duration": 13,
    "start_time": "2022-05-21T14:19:10.691Z"
   },
   {
    "duration": 2,
    "start_time": "2022-05-21T14:19:10.706Z"
   },
   {
    "duration": 8,
    "start_time": "2022-05-21T14:19:10.710Z"
   },
   {
    "duration": 33,
    "start_time": "2022-05-21T14:19:10.720Z"
   },
   {
    "duration": 15,
    "start_time": "2022-05-21T14:19:10.754Z"
   },
   {
    "duration": 8,
    "start_time": "2022-05-21T14:19:10.770Z"
   },
   {
    "duration": 10,
    "start_time": "2022-05-21T14:19:10.779Z"
   },
   {
    "duration": 12,
    "start_time": "2022-05-21T14:19:10.791Z"
   },
   {
    "duration": 5,
    "start_time": "2022-05-21T14:19:10.804Z"
   },
   {
    "duration": 9,
    "start_time": "2022-05-21T14:19:10.811Z"
   },
   {
    "duration": 3,
    "start_time": "2022-05-21T14:19:10.821Z"
   },
   {
    "duration": 27,
    "start_time": "2022-05-21T14:19:10.826Z"
   },
   {
    "duration": 6,
    "start_time": "2022-05-21T14:19:10.854Z"
   },
   {
    "duration": 12,
    "start_time": "2022-05-21T14:19:10.861Z"
   },
   {
    "duration": 7,
    "start_time": "2022-05-21T14:19:10.875Z"
   },
   {
    "duration": 7,
    "start_time": "2022-05-21T14:19:10.884Z"
   },
   {
    "duration": 8,
    "start_time": "2022-05-21T14:19:10.893Z"
   },
   {
    "duration": 9,
    "start_time": "2022-05-21T14:19:10.902Z"
   },
   {
    "duration": 14,
    "start_time": "2022-05-21T14:19:10.916Z"
   },
   {
    "duration": 26,
    "start_time": "2022-05-21T14:19:10.932Z"
   },
   {
    "duration": 8,
    "start_time": "2022-05-21T14:19:10.960Z"
   },
   {
    "duration": 11,
    "start_time": "2022-05-21T14:19:10.970Z"
   },
   {
    "duration": 5,
    "start_time": "2022-05-21T14:19:10.983Z"
   },
   {
    "duration": 8,
    "start_time": "2022-05-21T14:19:10.990Z"
   },
   {
    "duration": 20,
    "start_time": "2022-05-21T14:19:11.000Z"
   },
   {
    "duration": 52,
    "start_time": "2022-05-21T14:19:11.022Z"
   },
   {
    "duration": 16,
    "start_time": "2022-05-21T14:19:11.075Z"
   },
   {
    "duration": 3,
    "start_time": "2022-05-21T14:19:11.093Z"
   },
   {
    "duration": 38,
    "start_time": "2022-05-21T14:19:11.097Z"
   },
   {
    "duration": 16,
    "start_time": "2022-05-21T14:19:11.137Z"
   },
   {
    "duration": 6,
    "start_time": "2022-05-21T14:19:11.156Z"
   },
   {
    "duration": 7,
    "start_time": "2022-05-21T14:19:11.163Z"
   },
   {
    "duration": 6,
    "start_time": "2022-05-21T14:19:11.171Z"
   },
   {
    "duration": 6,
    "start_time": "2022-05-21T14:19:11.178Z"
   },
   {
    "duration": 10,
    "start_time": "2022-05-21T14:19:11.186Z"
   },
   {
    "duration": 5,
    "start_time": "2022-05-21T14:19:11.197Z"
   },
   {
    "duration": 19,
    "start_time": "2022-05-21T14:19:11.203Z"
   },
   {
    "duration": 5,
    "start_time": "2022-05-21T14:19:11.252Z"
   },
   {
    "duration": 10,
    "start_time": "2022-05-21T14:19:11.258Z"
   },
   {
    "duration": 11,
    "start_time": "2022-05-21T14:19:11.270Z"
   },
   {
    "duration": 14,
    "start_time": "2022-05-21T14:19:11.283Z"
   },
   {
    "duration": 14,
    "start_time": "2022-05-21T14:19:11.299Z"
   },
   {
    "duration": 2,
    "start_time": "2022-05-21T14:19:11.315Z"
   },
   {
    "duration": 32,
    "start_time": "2022-05-21T14:19:11.319Z"
   },
   {
    "duration": 2,
    "start_time": "2022-05-21T14:19:11.353Z"
   },
   {
    "duration": 17,
    "start_time": "2022-05-21T14:19:11.356Z"
   },
   {
    "duration": 4,
    "start_time": "2022-05-21T14:19:11.375Z"
   },
   {
    "duration": 6,
    "start_time": "2022-05-21T14:19:11.380Z"
   },
   {
    "duration": 12,
    "start_time": "2022-05-21T14:19:11.388Z"
   },
   {
    "duration": 5,
    "start_time": "2022-05-21T14:19:11.402Z"
   },
   {
    "duration": 7,
    "start_time": "2022-05-21T14:19:11.409Z"
   },
   {
    "duration": 39,
    "start_time": "2022-05-21T14:19:11.418Z"
   },
   {
    "duration": 582,
    "start_time": "2022-05-21T14:19:11.459Z"
   },
   {
    "duration": 12,
    "start_time": "2022-05-21T14:19:12.042Z"
   },
   {
    "duration": 19,
    "start_time": "2022-05-21T14:19:12.056Z"
   },
   {
    "duration": 13,
    "start_time": "2022-05-21T14:19:12.076Z"
   },
   {
    "duration": 13,
    "start_time": "2022-05-21T14:19:12.091Z"
   },
   {
    "duration": 5,
    "start_time": "2022-05-21T14:19:12.105Z"
   },
   {
    "duration": 41,
    "start_time": "2022-05-21T14:19:12.112Z"
   },
   {
    "duration": 8,
    "start_time": "2022-05-21T14:19:12.155Z"
   },
   {
    "duration": 14,
    "start_time": "2022-05-21T14:19:12.165Z"
   },
   {
    "duration": 4,
    "start_time": "2022-05-21T14:19:12.180Z"
   },
   {
    "duration": 12,
    "start_time": "2022-05-21T14:19:12.185Z"
   },
   {
    "duration": 13,
    "start_time": "2022-05-21T14:19:12.198Z"
   },
   {
    "duration": 23,
    "start_time": "2022-05-21T14:19:12.213Z"
   },
   {
    "duration": 13,
    "start_time": "2022-05-21T14:19:12.253Z"
   },
   {
    "duration": 15,
    "start_time": "2022-05-21T14:19:12.267Z"
   },
   {
    "duration": 3,
    "start_time": "2022-05-21T14:19:12.283Z"
   },
   {
    "duration": 13,
    "start_time": "2022-05-21T14:19:12.288Z"
   },
   {
    "duration": 13,
    "start_time": "2022-05-21T14:19:12.302Z"
   },
   {
    "duration": 37,
    "start_time": "2022-05-21T14:19:12.316Z"
   },
   {
    "duration": 5,
    "start_time": "2022-05-21T14:19:12.354Z"
   },
   {
    "duration": 8,
    "start_time": "2022-05-21T14:19:12.364Z"
   },
   {
    "duration": 6,
    "start_time": "2022-05-21T14:19:12.373Z"
   },
   {
    "duration": 8,
    "start_time": "2022-05-21T14:19:12.381Z"
   },
   {
    "duration": 6,
    "start_time": "2022-05-21T14:19:12.391Z"
   },
   {
    "duration": 6,
    "start_time": "2022-05-21T14:19:12.398Z"
   },
   {
    "duration": 7,
    "start_time": "2022-05-21T14:19:12.406Z"
   },
   {
    "duration": 22,
    "start_time": "2022-05-21T14:19:12.451Z"
   },
   {
    "duration": 7,
    "start_time": "2022-05-21T14:19:12.476Z"
   },
   {
    "duration": 44,
    "start_time": "2022-05-21T14:19:12.485Z"
   },
   {
    "duration": 17,
    "start_time": "2022-05-21T14:19:12.531Z"
   },
   {
    "duration": 7,
    "start_time": "2022-05-21T14:19:12.550Z"
   },
   {
    "duration": 11,
    "start_time": "2022-05-21T14:20:09.977Z"
   },
   {
    "duration": 12,
    "start_time": "2022-05-21T14:21:18.014Z"
   },
   {
    "duration": 11,
    "start_time": "2022-05-21T14:21:22.017Z"
   },
   {
    "duration": 79,
    "start_time": "2022-05-21T14:21:33.597Z"
   },
   {
    "duration": 22,
    "start_time": "2022-05-21T14:21:52.145Z"
   },
   {
    "duration": 13,
    "start_time": "2022-05-21T14:22:00.879Z"
   },
   {
    "duration": 20,
    "start_time": "2022-05-21T14:23:17.510Z"
   },
   {
    "duration": 16,
    "start_time": "2022-05-21T14:23:27.310Z"
   },
   {
    "duration": 17,
    "start_time": "2022-05-21T14:24:30.079Z"
   },
   {
    "duration": 7,
    "start_time": "2022-05-21T14:25:18.647Z"
   },
   {
    "duration": 9,
    "start_time": "2022-05-21T14:25:22.147Z"
   },
   {
    "duration": 17,
    "start_time": "2022-05-21T14:26:09.858Z"
   },
   {
    "duration": 8,
    "start_time": "2022-05-21T14:26:16.372Z"
   },
   {
    "duration": 22,
    "start_time": "2022-05-21T14:30:43.069Z"
   },
   {
    "duration": 146,
    "start_time": "2022-05-21T14:31:16.778Z"
   },
   {
    "duration": 23,
    "start_time": "2022-05-21T14:34:51.644Z"
   },
   {
    "duration": 63,
    "start_time": "2022-05-22T13:58:05.417Z"
   },
   {
    "duration": 413,
    "start_time": "2022-05-22T13:58:11.502Z"
   },
   {
    "duration": 578,
    "start_time": "2022-05-22T13:58:11.916Z"
   },
   {
    "duration": 5,
    "start_time": "2022-05-22T13:58:12.496Z"
   },
   {
    "duration": 14,
    "start_time": "2022-05-22T13:58:12.503Z"
   },
   {
    "duration": 26,
    "start_time": "2022-05-22T13:58:12.519Z"
   },
   {
    "duration": 16,
    "start_time": "2022-05-22T13:58:12.552Z"
   },
   {
    "duration": 6,
    "start_time": "2022-05-22T13:58:12.570Z"
   },
   {
    "duration": 13,
    "start_time": "2022-05-22T13:58:12.578Z"
   },
   {
    "duration": 12,
    "start_time": "2022-05-22T13:58:12.593Z"
   },
   {
    "duration": 47,
    "start_time": "2022-05-22T13:58:12.607Z"
   },
   {
    "duration": 11,
    "start_time": "2022-05-22T13:58:12.656Z"
   },
   {
    "duration": 5,
    "start_time": "2022-05-22T13:58:12.669Z"
   },
   {
    "duration": 9,
    "start_time": "2022-05-22T13:58:12.676Z"
   },
   {
    "duration": 14,
    "start_time": "2022-05-22T13:58:12.686Z"
   },
   {
    "duration": 5,
    "start_time": "2022-05-22T13:58:12.702Z"
   },
   {
    "duration": 12,
    "start_time": "2022-05-22T13:58:12.709Z"
   },
   {
    "duration": 18,
    "start_time": "2022-05-22T13:58:12.723Z"
   },
   {
    "duration": 5,
    "start_time": "2022-05-22T13:58:12.744Z"
   },
   {
    "duration": 14,
    "start_time": "2022-05-22T13:58:12.754Z"
   },
   {
    "duration": 4,
    "start_time": "2022-05-22T13:58:12.769Z"
   },
   {
    "duration": 6,
    "start_time": "2022-05-22T13:58:12.774Z"
   },
   {
    "duration": 8,
    "start_time": "2022-05-22T13:58:12.782Z"
   },
   {
    "duration": 7,
    "start_time": "2022-05-22T13:58:12.792Z"
   },
   {
    "duration": 9,
    "start_time": "2022-05-22T13:58:12.801Z"
   },
   {
    "duration": 10,
    "start_time": "2022-05-22T13:58:12.811Z"
   },
   {
    "duration": 24,
    "start_time": "2022-05-22T13:58:12.823Z"
   },
   {
    "duration": 18,
    "start_time": "2022-05-22T13:58:12.851Z"
   },
   {
    "duration": 6,
    "start_time": "2022-05-22T13:58:12.874Z"
   },
   {
    "duration": 9,
    "start_time": "2022-05-22T13:58:12.881Z"
   },
   {
    "duration": 5,
    "start_time": "2022-05-22T13:58:12.892Z"
   },
   {
    "duration": 7,
    "start_time": "2022-05-22T13:58:12.899Z"
   },
   {
    "duration": 5,
    "start_time": "2022-05-22T13:58:12.907Z"
   },
   {
    "duration": 8,
    "start_time": "2022-05-22T13:58:12.913Z"
   },
   {
    "duration": 38,
    "start_time": "2022-05-22T13:58:12.923Z"
   },
   {
    "duration": 32,
    "start_time": "2022-05-22T13:58:12.963Z"
   },
   {
    "duration": 16,
    "start_time": "2022-05-22T13:58:12.996Z"
   },
   {
    "duration": 4,
    "start_time": "2022-05-22T13:58:13.013Z"
   },
   {
    "duration": 15,
    "start_time": "2022-05-22T13:58:13.041Z"
   },
   {
    "duration": 5,
    "start_time": "2022-05-22T13:58:13.058Z"
   },
   {
    "duration": 4,
    "start_time": "2022-05-22T13:58:13.065Z"
   },
   {
    "duration": 13,
    "start_time": "2022-05-22T13:58:13.071Z"
   },
   {
    "duration": 3,
    "start_time": "2022-05-22T13:58:13.085Z"
   },
   {
    "duration": 7,
    "start_time": "2022-05-22T13:58:13.089Z"
   },
   {
    "duration": 15,
    "start_time": "2022-05-22T13:58:13.097Z"
   },
   {
    "duration": 51,
    "start_time": "2022-05-22T13:58:13.113Z"
   },
   {
    "duration": 21,
    "start_time": "2022-05-22T13:58:13.165Z"
   },
   {
    "duration": 3,
    "start_time": "2022-05-22T13:58:13.188Z"
   },
   {
    "duration": 5,
    "start_time": "2022-05-22T13:58:13.193Z"
   },
   {
    "duration": 9,
    "start_time": "2022-05-22T13:58:13.199Z"
   },
   {
    "duration": 16,
    "start_time": "2022-05-22T13:58:13.210Z"
   },
   {
    "duration": 28,
    "start_time": "2022-05-22T13:58:13.228Z"
   },
   {
    "duration": 6,
    "start_time": "2022-05-22T13:58:13.258Z"
   },
   {
    "duration": 8,
    "start_time": "2022-05-22T13:58:13.265Z"
   },
   {
    "duration": 6,
    "start_time": "2022-05-22T13:58:13.274Z"
   },
   {
    "duration": 17,
    "start_time": "2022-05-22T13:58:13.281Z"
   },
   {
    "duration": 3,
    "start_time": "2022-05-22T13:58:13.300Z"
   },
   {
    "duration": 6,
    "start_time": "2022-05-22T13:58:13.304Z"
   },
   {
    "duration": 33,
    "start_time": "2022-05-22T13:58:13.311Z"
   },
   {
    "duration": 7,
    "start_time": "2022-05-22T13:58:13.347Z"
   },
   {
    "duration": 8,
    "start_time": "2022-05-22T13:58:13.357Z"
   },
   {
    "duration": 12,
    "start_time": "2022-05-22T13:58:13.367Z"
   },
   {
    "duration": 650,
    "start_time": "2022-05-22T13:58:13.381Z"
   },
   {
    "duration": 23,
    "start_time": "2022-05-22T13:58:14.033Z"
   },
   {
    "duration": 26,
    "start_time": "2022-05-22T13:58:14.061Z"
   },
   {
    "duration": 19,
    "start_time": "2022-05-22T13:58:14.089Z"
   },
   {
    "duration": 33,
    "start_time": "2022-05-22T13:58:14.110Z"
   },
   {
    "duration": 7,
    "start_time": "2022-05-22T13:58:14.152Z"
   },
   {
    "duration": 14,
    "start_time": "2022-05-22T13:58:14.160Z"
   },
   {
    "duration": 7,
    "start_time": "2022-05-22T13:58:14.176Z"
   },
   {
    "duration": 7,
    "start_time": "2022-05-22T13:58:14.184Z"
   },
   {
    "duration": 14,
    "start_time": "2022-05-22T13:58:14.193Z"
   },
   {
    "duration": 9,
    "start_time": "2022-05-22T13:58:14.208Z"
   },
   {
    "duration": 27,
    "start_time": "2022-05-22T13:58:14.219Z"
   },
   {
    "duration": 46,
    "start_time": "2022-05-22T13:58:14.248Z"
   },
   {
    "duration": 16,
    "start_time": "2022-05-22T13:58:14.295Z"
   },
   {
    "duration": 12,
    "start_time": "2022-05-22T13:58:14.313Z"
   },
   {
    "duration": 3,
    "start_time": "2022-05-22T13:58:14.327Z"
   },
   {
    "duration": 23,
    "start_time": "2022-05-22T13:58:14.331Z"
   },
   {
    "duration": 18,
    "start_time": "2022-05-22T13:58:14.355Z"
   },
   {
    "duration": 11,
    "start_time": "2022-05-22T13:58:14.374Z"
   },
   {
    "duration": 5,
    "start_time": "2022-05-22T13:58:14.387Z"
   },
   {
    "duration": 9,
    "start_time": "2022-05-22T13:58:14.397Z"
   },
   {
    "duration": 8,
    "start_time": "2022-05-22T13:58:14.407Z"
   },
   {
    "duration": 39,
    "start_time": "2022-05-22T13:58:14.416Z"
   },
   {
    "duration": 11,
    "start_time": "2022-05-22T13:58:14.457Z"
   },
   {
    "duration": 5,
    "start_time": "2022-05-22T13:58:14.470Z"
   },
   {
    "duration": 7,
    "start_time": "2022-05-22T13:58:14.477Z"
   },
   {
    "duration": 22,
    "start_time": "2022-05-22T13:58:14.486Z"
   },
   {
    "duration": 5,
    "start_time": "2022-05-22T13:58:14.510Z"
   },
   {
    "duration": 52,
    "start_time": "2022-05-22T13:58:14.516Z"
   },
   {
    "duration": 16,
    "start_time": "2022-05-22T13:58:14.570Z"
   },
   {
    "duration": 6,
    "start_time": "2022-05-22T13:58:14.588Z"
   },
   {
    "duration": 435,
    "start_time": "2022-05-22T13:58:19.181Z"
   },
   {
    "duration": 96,
    "start_time": "2022-05-22T13:58:19.618Z"
   },
   {
    "duration": 5,
    "start_time": "2022-05-22T13:58:19.716Z"
   },
   {
    "duration": 16,
    "start_time": "2022-05-22T13:58:19.724Z"
   },
   {
    "duration": 30,
    "start_time": "2022-05-22T13:58:19.752Z"
   },
   {
    "duration": 15,
    "start_time": "2022-05-22T13:58:19.784Z"
   },
   {
    "duration": 8,
    "start_time": "2022-05-22T13:58:19.800Z"
   },
   {
    "duration": 13,
    "start_time": "2022-05-22T13:58:19.810Z"
   },
   {
    "duration": 27,
    "start_time": "2022-05-22T13:58:19.825Z"
   },
   {
    "duration": 12,
    "start_time": "2022-05-22T13:58:19.857Z"
   },
   {
    "duration": 5,
    "start_time": "2022-05-22T13:58:19.870Z"
   },
   {
    "duration": 15,
    "start_time": "2022-05-22T13:58:19.877Z"
   },
   {
    "duration": 14,
    "start_time": "2022-05-22T13:58:19.894Z"
   },
   {
    "duration": 26,
    "start_time": "2022-05-22T13:58:19.910Z"
   },
   {
    "duration": 27,
    "start_time": "2022-05-22T13:58:19.938Z"
   },
   {
    "duration": 12,
    "start_time": "2022-05-22T13:58:19.967Z"
   },
   {
    "duration": 13,
    "start_time": "2022-05-22T13:58:19.981Z"
   },
   {
    "duration": 9,
    "start_time": "2022-05-22T13:58:19.996Z"
   },
   {
    "duration": 9,
    "start_time": "2022-05-22T13:58:20.007Z"
   },
   {
    "duration": 3,
    "start_time": "2022-05-22T13:58:20.018Z"
   },
   {
    "duration": 7,
    "start_time": "2022-05-22T13:58:20.022Z"
   },
   {
    "duration": 24,
    "start_time": "2022-05-22T13:58:20.031Z"
   },
   {
    "duration": 10,
    "start_time": "2022-05-22T13:58:20.057Z"
   },
   {
    "duration": 7,
    "start_time": "2022-05-22T13:58:20.068Z"
   },
   {
    "duration": 9,
    "start_time": "2022-05-22T13:58:20.076Z"
   },
   {
    "duration": 6,
    "start_time": "2022-05-22T13:58:20.086Z"
   },
   {
    "duration": 10,
    "start_time": "2022-05-22T13:58:20.094Z"
   },
   {
    "duration": 9,
    "start_time": "2022-05-22T13:58:20.108Z"
   },
   {
    "duration": 25,
    "start_time": "2022-05-22T13:58:20.119Z"
   },
   {
    "duration": 20,
    "start_time": "2022-05-22T13:58:20.146Z"
   },
   {
    "duration": 9,
    "start_time": "2022-05-22T13:58:20.168Z"
   },
   {
    "duration": 5,
    "start_time": "2022-05-22T13:58:20.178Z"
   },
   {
    "duration": 9,
    "start_time": "2022-05-22T13:58:20.184Z"
   },
   {
    "duration": 17,
    "start_time": "2022-05-22T13:58:20.195Z"
   },
   {
    "duration": 47,
    "start_time": "2022-05-22T13:58:20.213Z"
   },
   {
    "duration": 15,
    "start_time": "2022-05-22T13:58:20.262Z"
   },
   {
    "duration": 4,
    "start_time": "2022-05-22T13:58:20.278Z"
   },
   {
    "duration": 12,
    "start_time": "2022-05-22T13:58:20.284Z"
   },
   {
    "duration": 10,
    "start_time": "2022-05-22T13:58:20.298Z"
   },
   {
    "duration": 5,
    "start_time": "2022-05-22T13:58:20.309Z"
   },
   {
    "duration": 43,
    "start_time": "2022-05-22T13:58:20.315Z"
   },
   {
    "duration": 3,
    "start_time": "2022-05-22T13:58:20.359Z"
   },
   {
    "duration": 6,
    "start_time": "2022-05-22T13:58:20.364Z"
   },
   {
    "duration": 8,
    "start_time": "2022-05-22T13:58:20.372Z"
   },
   {
    "duration": 5,
    "start_time": "2022-05-22T13:58:20.382Z"
   },
   {
    "duration": 24,
    "start_time": "2022-05-22T13:58:20.388Z"
   },
   {
    "duration": 36,
    "start_time": "2022-05-22T13:58:20.414Z"
   },
   {
    "duration": 12,
    "start_time": "2022-05-22T13:58:20.452Z"
   },
   {
    "duration": 8,
    "start_time": "2022-05-22T13:58:20.465Z"
   },
   {
    "duration": 17,
    "start_time": "2022-05-22T13:58:20.475Z"
   },
   {
    "duration": 16,
    "start_time": "2022-05-22T13:58:20.493Z"
   },
   {
    "duration": 2,
    "start_time": "2022-05-22T13:58:20.511Z"
   },
   {
    "duration": 7,
    "start_time": "2022-05-22T13:58:20.515Z"
   },
   {
    "duration": 5,
    "start_time": "2022-05-22T13:58:20.552Z"
   },
   {
    "duration": 17,
    "start_time": "2022-05-22T13:58:20.559Z"
   },
   {
    "duration": 4,
    "start_time": "2022-05-22T13:58:20.578Z"
   },
   {
    "duration": 6,
    "start_time": "2022-05-22T13:58:20.584Z"
   },
   {
    "duration": 11,
    "start_time": "2022-05-22T13:58:20.592Z"
   },
   {
    "duration": 5,
    "start_time": "2022-05-22T13:58:20.605Z"
   },
   {
    "duration": 4,
    "start_time": "2022-05-22T13:58:20.612Z"
   },
   {
    "duration": 37,
    "start_time": "2022-05-22T13:58:20.618Z"
   },
   {
    "duration": 441,
    "start_time": "2022-05-22T13:58:20.656Z"
   },
   {
    "duration": 10,
    "start_time": "2022-05-22T13:58:21.099Z"
   },
   {
    "duration": 34,
    "start_time": "2022-05-22T13:58:21.110Z"
   },
   {
    "duration": 19,
    "start_time": "2022-05-22T13:58:21.148Z"
   },
   {
    "duration": 16,
    "start_time": "2022-05-22T13:58:21.168Z"
   },
   {
    "duration": 5,
    "start_time": "2022-05-22T13:58:21.186Z"
   },
   {
    "duration": 16,
    "start_time": "2022-05-22T13:58:21.192Z"
   },
   {
    "duration": 8,
    "start_time": "2022-05-22T13:58:21.209Z"
   },
   {
    "duration": 16,
    "start_time": "2022-05-22T13:58:21.240Z"
   },
   {
    "duration": 6,
    "start_time": "2022-05-22T13:58:21.260Z"
   },
   {
    "duration": 12,
    "start_time": "2022-05-22T13:58:21.267Z"
   },
   {
    "duration": 11,
    "start_time": "2022-05-22T13:58:21.281Z"
   },
   {
    "duration": 16,
    "start_time": "2022-05-22T13:58:21.294Z"
   },
   {
    "duration": 39,
    "start_time": "2022-05-22T13:58:21.312Z"
   },
   {
    "duration": 15,
    "start_time": "2022-05-22T13:58:21.354Z"
   },
   {
    "duration": 3,
    "start_time": "2022-05-22T13:58:21.371Z"
   },
   {
    "duration": 13,
    "start_time": "2022-05-22T13:58:21.375Z"
   },
   {
    "duration": 15,
    "start_time": "2022-05-22T13:58:21.390Z"
   },
   {
    "duration": 11,
    "start_time": "2022-05-22T13:58:21.407Z"
   },
   {
    "duration": 32,
    "start_time": "2022-05-22T13:58:21.420Z"
   },
   {
    "duration": 11,
    "start_time": "2022-05-22T13:58:21.462Z"
   },
   {
    "duration": 8,
    "start_time": "2022-05-22T13:58:21.475Z"
   },
   {
    "duration": 12,
    "start_time": "2022-05-22T13:58:21.484Z"
   },
   {
    "duration": 9,
    "start_time": "2022-05-22T13:58:21.497Z"
   },
   {
    "duration": 38,
    "start_time": "2022-05-22T13:58:21.508Z"
   },
   {
    "duration": 3,
    "start_time": "2022-05-22T13:58:21.548Z"
   },
   {
    "duration": 20,
    "start_time": "2022-05-22T13:58:21.552Z"
   },
   {
    "duration": 4,
    "start_time": "2022-05-22T13:58:21.574Z"
   },
   {
    "duration": 16,
    "start_time": "2022-05-22T13:58:21.580Z"
   },
   {
    "duration": 14,
    "start_time": "2022-05-22T13:58:21.597Z"
   },
   {
    "duration": 42,
    "start_time": "2022-05-22T13:58:21.613Z"
   },
   {
    "duration": 8,
    "start_time": "2022-05-22T13:59:45.095Z"
   },
   {
    "duration": 25,
    "start_time": "2022-05-22T13:59:48.840Z"
   },
   {
    "duration": 6,
    "start_time": "2022-05-22T14:00:32.736Z"
   },
   {
    "duration": 2,
    "start_time": "2022-05-22T14:00:34.696Z"
   },
   {
    "duration": 154,
    "start_time": "2022-05-22T14:00:35.770Z"
   },
   {
    "duration": 9,
    "start_time": "2022-05-22T14:00:36.993Z"
   },
   {
    "duration": 27,
    "start_time": "2022-05-22T14:00:39.871Z"
   },
   {
    "duration": 16,
    "start_time": "2022-05-22T14:00:50.077Z"
   },
   {
    "duration": 14,
    "start_time": "2022-05-22T14:02:09.925Z"
   },
   {
    "duration": 6,
    "start_time": "2022-05-22T14:02:30.016Z"
   },
   {
    "duration": 24,
    "start_time": "2022-05-22T14:02:40.533Z"
   },
   {
    "duration": 2,
    "start_time": "2022-05-22T14:02:46.013Z"
   },
   {
    "duration": 169,
    "start_time": "2022-05-22T14:02:46.637Z"
   },
   {
    "duration": 8,
    "start_time": "2022-05-22T14:02:51.162Z"
   },
   {
    "duration": 26,
    "start_time": "2022-05-22T14:02:57.412Z"
   },
   {
    "duration": 27,
    "start_time": "2022-05-22T14:02:57.577Z"
   },
   {
    "duration": 19,
    "start_time": "2022-05-22T14:03:06.674Z"
   },
   {
    "duration": 17,
    "start_time": "2022-05-22T14:05:21.371Z"
   },
   {
    "duration": 4,
    "start_time": "2022-05-22T14:05:24.180Z"
   },
   {
    "duration": 5,
    "start_time": "2022-05-22T14:05:25.296Z"
   },
   {
    "duration": 8,
    "start_time": "2022-05-22T14:05:26.861Z"
   },
   {
    "duration": 5,
    "start_time": "2022-05-22T14:05:27.318Z"
   },
   {
    "duration": 10,
    "start_time": "2022-05-22T14:05:28.945Z"
   },
   {
    "duration": 3,
    "start_time": "2022-05-22T14:05:30.106Z"
   },
   {
    "duration": 167,
    "start_time": "2022-05-22T14:05:30.604Z"
   },
   {
    "duration": 457,
    "start_time": "2022-05-22T17:47:47.020Z"
   },
   {
    "duration": 152,
    "start_time": "2022-05-22T17:47:47.738Z"
   },
   {
    "duration": 3,
    "start_time": "2022-05-22T17:47:48.873Z"
   },
   {
    "duration": 9,
    "start_time": "2022-05-22T17:47:49.070Z"
   },
   {
    "duration": 16,
    "start_time": "2022-05-22T17:47:49.476Z"
   },
   {
    "duration": 21,
    "start_time": "2022-05-22T17:47:49.880Z"
   },
   {
    "duration": 8,
    "start_time": "2022-05-22T17:47:50.316Z"
   },
   {
    "duration": 12,
    "start_time": "2022-05-22T17:47:58.704Z"
   },
   {
    "duration": 10,
    "start_time": "2022-05-22T17:47:59.642Z"
   },
   {
    "duration": 14,
    "start_time": "2022-05-22T17:48:02.728Z"
   },
   {
    "duration": 2,
    "start_time": "2022-05-22T17:48:17.143Z"
   },
   {
    "duration": 2,
    "start_time": "2022-05-22T17:48:18.534Z"
   },
   {
    "duration": 5,
    "start_time": "2022-05-22T17:48:23.987Z"
   },
   {
    "duration": 12,
    "start_time": "2022-05-22T17:48:42.568Z"
   },
   {
    "duration": 5,
    "start_time": "2022-05-22T17:48:43.097Z"
   },
   {
    "duration": 5,
    "start_time": "2022-05-22T17:48:46.145Z"
   },
   {
    "duration": 11,
    "start_time": "2022-05-22T17:51:41.733Z"
   },
   {
    "duration": 6,
    "start_time": "2022-05-22T17:51:42.775Z"
   },
   {
    "duration": 8,
    "start_time": "2022-05-22T17:51:49.343Z"
   },
   {
    "duration": 4,
    "start_time": "2022-05-22T17:51:54.804Z"
   },
   {
    "duration": 5,
    "start_time": "2022-05-22T17:51:56.924Z"
   },
   {
    "duration": 7,
    "start_time": "2022-05-22T17:52:02.446Z"
   },
   {
    "duration": 6,
    "start_time": "2022-05-22T17:52:07.351Z"
   },
   {
    "duration": 7,
    "start_time": "2022-05-22T17:52:08.803Z"
   },
   {
    "duration": 9,
    "start_time": "2022-05-22T17:52:38.252Z"
   },
   {
    "duration": 3,
    "start_time": "2022-05-22T17:52:38.968Z"
   },
   {
    "duration": 6,
    "start_time": "2022-05-22T17:52:39.468Z"
   },
   {
    "duration": 6,
    "start_time": "2022-05-22T17:52:42.843Z"
   },
   {
    "duration": 7,
    "start_time": "2022-05-22T17:52:43.318Z"
   },
   {
    "duration": 7,
    "start_time": "2022-05-22T17:52:44.579Z"
   },
   {
    "duration": 6,
    "start_time": "2022-05-22T17:52:50.517Z"
   },
   {
    "duration": 2,
    "start_time": "2022-05-22T17:55:33.598Z"
   },
   {
    "duration": 6,
    "start_time": "2022-05-22T17:55:34.397Z"
   },
   {
    "duration": 16,
    "start_time": "2022-05-22T17:55:41.492Z"
   },
   {
    "duration": 32,
    "start_time": "2022-05-22T17:55:42.072Z"
   },
   {
    "duration": 22,
    "start_time": "2022-05-22T17:55:45.927Z"
   },
   {
    "duration": 4,
    "start_time": "2022-05-22T17:55:50.548Z"
   },
   {
    "duration": 9,
    "start_time": "2022-05-22T17:55:56.703Z"
   },
   {
    "duration": 7,
    "start_time": "2022-05-22T17:56:01.717Z"
   },
   {
    "duration": 5,
    "start_time": "2022-05-22T17:56:02.274Z"
   },
   {
    "duration": 14,
    "start_time": "2022-05-22T17:56:05.915Z"
   },
   {
    "duration": 5,
    "start_time": "2022-05-22T17:56:10.265Z"
   },
   {
    "duration": 4,
    "start_time": "2022-05-22T17:57:48.403Z"
   },
   {
    "duration": 11,
    "start_time": "2022-05-22T17:57:48.993Z"
   },
   {
    "duration": 6,
    "start_time": "2022-05-22T17:57:50.809Z"
   },
   {
    "duration": 22,
    "start_time": "2022-05-22T17:57:57.679Z"
   },
   {
    "duration": 5,
    "start_time": "2022-05-22T17:58:01.328Z"
   },
   {
    "duration": 6,
    "start_time": "2022-05-22T17:58:08.291Z"
   },
   {
    "duration": 26,
    "start_time": "2022-05-22T17:58:12.380Z"
   },
   {
    "duration": 4,
    "start_time": "2022-05-22T17:58:37.644Z"
   },
   {
    "duration": 15,
    "start_time": "2022-05-22T17:58:38.688Z"
   },
   {
    "duration": 2,
    "start_time": "2022-05-22T17:58:43.793Z"
   },
   {
    "duration": 7,
    "start_time": "2022-05-22T17:58:44.425Z"
   },
   {
    "duration": 5,
    "start_time": "2022-05-22T17:58:49.464Z"
   },
   {
    "duration": 16,
    "start_time": "2022-05-22T17:58:53.873Z"
   },
   {
    "duration": 3,
    "start_time": "2022-05-22T17:58:59.815Z"
   },
   {
    "duration": 4,
    "start_time": "2022-05-22T17:59:01.777Z"
   },
   {
    "duration": 5,
    "start_time": "2022-05-22T17:59:05.377Z"
   },
   {
    "duration": 5,
    "start_time": "2022-05-22T17:59:07.217Z"
   },
   {
    "duration": 5,
    "start_time": "2022-05-22T17:59:12.399Z"
   },
   {
    "duration": 872,
    "start_time": "2022-05-22T17:59:29.976Z"
   },
   {
    "duration": 17,
    "start_time": "2022-05-22T18:05:39.028Z"
   },
   {
    "duration": 90,
    "start_time": "2022-05-22T18:08:05.008Z"
   },
   {
    "duration": 2,
    "start_time": "2022-05-22T18:08:25.319Z"
   },
   {
    "duration": 74,
    "start_time": "2022-05-22T18:08:28.998Z"
   },
   {
    "duration": 3,
    "start_time": "2022-05-22T18:08:29.864Z"
   },
   {
    "duration": 9,
    "start_time": "2022-05-22T18:08:30.011Z"
   },
   {
    "duration": 15,
    "start_time": "2022-05-22T18:08:30.422Z"
   },
   {
    "duration": 15,
    "start_time": "2022-05-22T18:08:30.829Z"
   },
   {
    "duration": 6,
    "start_time": "2022-05-22T18:08:32.919Z"
   },
   {
    "duration": 12,
    "start_time": "2022-05-22T18:08:33.417Z"
   },
   {
    "duration": 8,
    "start_time": "2022-05-22T18:08:33.612Z"
   },
   {
    "duration": 14,
    "start_time": "2022-05-22T18:08:33.992Z"
   },
   {
    "duration": 12,
    "start_time": "2022-05-22T18:09:24.762Z"
   },
   {
    "duration": 156,
    "start_time": "2022-05-22T18:09:26.199Z"
   },
   {
    "duration": 8,
    "start_time": "2022-05-22T18:09:33.784Z"
   },
   {
    "duration": 21,
    "start_time": "2022-05-22T18:09:36.532Z"
   },
   {
    "duration": 16,
    "start_time": "2022-05-22T18:09:39.794Z"
   },
   {
    "duration": 16,
    "start_time": "2022-05-22T18:26:14.814Z"
   },
   {
    "duration": 16,
    "start_time": "2022-05-22T18:26:19.452Z"
   },
   {
    "duration": 12,
    "start_time": "2022-05-22T18:26:23.764Z"
   },
   {
    "duration": 9,
    "start_time": "2022-05-22T18:26:26.787Z"
   },
   {
    "duration": 7,
    "start_time": "2022-05-22T18:26:29.484Z"
   },
   {
    "duration": 2,
    "start_time": "2022-05-22T18:26:32.057Z"
   },
   {
    "duration": 10,
    "start_time": "2022-05-22T18:26:32.524Z"
   },
   {
    "duration": 12,
    "start_time": "2022-05-22T18:26:35.977Z"
   },
   {
    "duration": 19,
    "start_time": "2022-05-22T18:26:46.023Z"
   },
   {
    "duration": 16,
    "start_time": "2022-05-22T18:26:47.275Z"
   },
   {
    "duration": 13,
    "start_time": "2022-05-22T18:26:51.663Z"
   },
   {
    "duration": 3,
    "start_time": "2022-05-22T18:26:56.888Z"
   },
   {
    "duration": 9,
    "start_time": "2022-05-22T18:26:57.305Z"
   },
   {
    "duration": 14,
    "start_time": "2022-05-22T18:26:58.104Z"
   },
   {
    "duration": 10,
    "start_time": "2022-05-22T18:27:03.589Z"
   },
   {
    "duration": 6,
    "start_time": "2022-05-22T18:27:03.917Z"
   },
   {
    "duration": 10,
    "start_time": "2022-05-22T18:27:05.735Z"
   },
   {
    "duration": 8,
    "start_time": "2022-05-22T18:27:06.333Z"
   },
   {
    "duration": 11,
    "start_time": "2022-05-22T18:27:06.823Z"
   },
   {
    "duration": 8,
    "start_time": "2022-05-22T18:27:07.110Z"
   },
   {
    "duration": 5,
    "start_time": "2022-05-22T18:27:07.658Z"
   },
   {
    "duration": 3,
    "start_time": "2022-05-22T18:27:07.955Z"
   },
   {
    "duration": 12,
    "start_time": "2022-05-22T18:27:57.058Z"
   },
   {
    "duration": 5,
    "start_time": "2022-05-22T18:27:58.799Z"
   },
   {
    "duration": 6,
    "start_time": "2022-05-22T18:28:08.126Z"
   },
   {
    "duration": 7,
    "start_time": "2022-05-22T18:28:08.572Z"
   },
   {
    "duration": 3,
    "start_time": "2022-05-22T18:28:08.788Z"
   },
   {
    "duration": 7,
    "start_time": "2022-05-22T18:28:08.972Z"
   },
   {
    "duration": 7,
    "start_time": "2022-05-22T18:28:09.408Z"
   },
   {
    "duration": 8,
    "start_time": "2022-05-22T18:28:09.603Z"
   },
   {
    "duration": 7,
    "start_time": "2022-05-22T18:28:10.020Z"
   },
   {
    "duration": 7,
    "start_time": "2022-05-22T18:28:10.418Z"
   },
   {
    "duration": 3,
    "start_time": "2022-05-22T18:28:10.613Z"
   },
   {
    "duration": 7,
    "start_time": "2022-05-22T18:28:10.827Z"
   },
   {
    "duration": 19,
    "start_time": "2022-05-22T18:28:11.254Z"
   },
   {
    "duration": 35,
    "start_time": "2022-05-22T18:28:11.460Z"
   },
   {
    "duration": 18,
    "start_time": "2022-05-22T18:28:11.660Z"
   },
   {
    "duration": 3,
    "start_time": "2022-05-22T18:28:12.099Z"
   },
   {
    "duration": 9,
    "start_time": "2022-05-22T18:28:14.526Z"
   },
   {
    "duration": 6,
    "start_time": "2022-05-22T18:28:15.313Z"
   },
   {
    "duration": 4,
    "start_time": "2022-05-22T18:28:16.244Z"
   },
   {
    "duration": 12,
    "start_time": "2022-05-22T18:28:17.652Z"
   },
   {
    "duration": 3,
    "start_time": "2022-05-22T18:28:18.713Z"
   },
   {
    "duration": 4,
    "start_time": "2022-05-22T18:28:19.017Z"
   },
   {
    "duration": 7,
    "start_time": "2022-05-22T18:28:19.480Z"
   },
   {
    "duration": 5,
    "start_time": "2022-05-22T18:28:19.794Z"
   },
   {
    "duration": 16,
    "start_time": "2022-05-22T18:28:21.738Z"
   },
   {
    "duration": 4,
    "start_time": "2022-05-22T18:28:22.235Z"
   },
   {
    "duration": 3,
    "start_time": "2022-05-22T18:28:23.434Z"
   },
   {
    "duration": 6,
    "start_time": "2022-05-22T18:28:24.063Z"
   },
   {
    "duration": 18,
    "start_time": "2022-05-22T18:28:25.262Z"
   },
   {
    "duration": 5,
    "start_time": "2022-05-22T18:28:29.248Z"
   },
   {
    "duration": 17,
    "start_time": "2022-05-22T18:28:30.156Z"
   },
   {
    "duration": 2,
    "start_time": "2022-05-22T18:28:31.139Z"
   },
   {
    "duration": 5,
    "start_time": "2022-05-22T18:28:31.804Z"
   },
   {
    "duration": 2,
    "start_time": "2022-05-22T18:28:33.684Z"
   },
   {
    "duration": 17,
    "start_time": "2022-05-22T18:28:34.422Z"
   },
   {
    "duration": 3,
    "start_time": "2022-05-22T18:28:36.498Z"
   },
   {
    "duration": 4,
    "start_time": "2022-05-22T18:28:37.451Z"
   },
   {
    "duration": 5,
    "start_time": "2022-05-22T18:28:47.104Z"
   },
   {
    "duration": 5,
    "start_time": "2022-05-22T18:28:47.536Z"
   },
   {
    "duration": 4,
    "start_time": "2022-05-22T18:28:48.358Z"
   },
   {
    "duration": 16,
    "start_time": "2022-05-22T18:28:49.250Z"
   },
   {
    "duration": 162,
    "start_time": "2022-05-22T18:28:49.868Z"
   },
   {
    "duration": 7,
    "start_time": "2022-05-22T18:28:51.059Z"
   },
   {
    "duration": 16,
    "start_time": "2022-05-22T18:28:54.516Z"
   },
   {
    "duration": 19,
    "start_time": "2022-05-22T18:28:55.308Z"
   },
   {
    "duration": 18,
    "start_time": "2022-05-22T18:28:56.230Z"
   },
   {
    "duration": 6,
    "start_time": "2022-05-22T18:28:57.328Z"
   },
   {
    "duration": 13,
    "start_time": "2022-05-22T18:29:02.292Z"
   },
   {
    "duration": 13,
    "start_time": "2022-05-22T18:29:05.465Z"
   },
   {
    "duration": 8,
    "start_time": "2022-05-22T18:29:08.527Z"
   },
   {
    "duration": 6,
    "start_time": "2022-05-22T18:29:11.339Z"
   },
   {
    "duration": 10,
    "start_time": "2022-05-22T18:29:59.575Z"
   },
   {
    "duration": 18,
    "start_time": "2022-05-22T18:30:06.765Z"
   },
   {
    "duration": 15,
    "start_time": "2022-05-22T18:30:08.038Z"
   },
   {
    "duration": 13,
    "start_time": "2022-05-22T18:30:08.852Z"
   },
   {
    "duration": 3,
    "start_time": "2022-05-22T18:30:09.814Z"
   },
   {
    "duration": 9,
    "start_time": "2022-05-22T18:30:11.065Z"
   },
   {
    "duration": 12,
    "start_time": "2022-05-22T18:30:11.499Z"
   },
   {
    "duration": 8,
    "start_time": "2022-05-22T18:30:17.731Z"
   },
   {
    "duration": 6,
    "start_time": "2022-05-22T18:30:18.564Z"
   },
   {
    "duration": 10,
    "start_time": "2022-05-22T18:30:22.118Z"
   },
   {
    "duration": 8,
    "start_time": "2022-05-22T18:30:23.296Z"
   },
   {
    "duration": 11,
    "start_time": "2022-05-22T18:30:26.775Z"
   },
   {
    "duration": 7,
    "start_time": "2022-05-22T18:30:27.853Z"
   },
   {
    "duration": 6,
    "start_time": "2022-05-22T18:30:29.617Z"
   },
   {
    "duration": 4,
    "start_time": "2022-05-22T18:30:30.467Z"
   },
   {
    "duration": 24,
    "start_time": "2022-05-22T18:30:31.199Z"
   },
   {
    "duration": 5,
    "start_time": "2022-05-22T18:30:31.910Z"
   },
   {
    "duration": 17,
    "start_time": "2022-05-22T18:30:35.050Z"
   },
   {
    "duration": 14,
    "start_time": "2022-05-22T18:30:42.134Z"
   },
   {
    "duration": 13,
    "start_time": "2022-05-22T18:30:47.592Z"
   },
   {
    "duration": 8,
    "start_time": "2022-05-22T18:30:48.003Z"
   },
   {
    "duration": 433,
    "start_time": "2022-05-23T12:25:04.171Z"
   },
   {
    "duration": 228,
    "start_time": "2022-05-23T12:25:04.606Z"
   },
   {
    "duration": 3,
    "start_time": "2022-05-23T12:25:04.836Z"
   },
   {
    "duration": 9,
    "start_time": "2022-05-23T12:25:04.841Z"
   },
   {
    "duration": 16,
    "start_time": "2022-05-23T12:25:04.851Z"
   },
   {
    "duration": 18,
    "start_time": "2022-05-23T12:25:04.868Z"
   },
   {
    "duration": 6,
    "start_time": "2022-05-23T12:25:04.888Z"
   },
   {
    "duration": 14,
    "start_time": "2022-05-23T12:25:04.896Z"
   },
   {
    "duration": 8,
    "start_time": "2022-05-23T12:25:04.912Z"
   },
   {
    "duration": 9,
    "start_time": "2022-05-23T12:25:04.922Z"
   },
   {
    "duration": 4,
    "start_time": "2022-05-23T12:25:04.933Z"
   },
   {
    "duration": 6,
    "start_time": "2022-05-23T12:25:04.938Z"
   },
   {
    "duration": 4,
    "start_time": "2022-05-23T12:25:04.974Z"
   },
   {
    "duration": 11,
    "start_time": "2022-05-23T12:25:04.979Z"
   },
   {
    "duration": 8,
    "start_time": "2022-05-23T12:25:04.991Z"
   },
   {
    "duration": 13,
    "start_time": "2022-05-23T12:25:05.000Z"
   },
   {
    "duration": 16,
    "start_time": "2022-05-23T12:25:05.015Z"
   },
   {
    "duration": 4,
    "start_time": "2022-05-23T12:25:05.032Z"
   },
   {
    "duration": 9,
    "start_time": "2022-05-23T12:25:05.038Z"
   },
   {
    "duration": 4,
    "start_time": "2022-05-23T12:25:05.048Z"
   },
   {
    "duration": 22,
    "start_time": "2022-05-23T12:25:05.053Z"
   },
   {
    "duration": 5,
    "start_time": "2022-05-23T12:25:05.077Z"
   },
   {
    "duration": 10,
    "start_time": "2022-05-23T12:25:05.083Z"
   },
   {
    "duration": 6,
    "start_time": "2022-05-23T12:25:05.095Z"
   },
   {
    "duration": 9,
    "start_time": "2022-05-23T12:25:05.103Z"
   },
   {
    "duration": 11,
    "start_time": "2022-05-23T12:25:05.114Z"
   },
   {
    "duration": 11,
    "start_time": "2022-05-23T12:25:05.128Z"
   },
   {
    "duration": 36,
    "start_time": "2022-05-23T12:25:05.144Z"
   },
   {
    "duration": 10,
    "start_time": "2022-05-23T12:25:05.181Z"
   },
   {
    "duration": 6,
    "start_time": "2022-05-23T12:25:05.192Z"
   },
   {
    "duration": 8,
    "start_time": "2022-05-23T12:25:05.199Z"
   },
   {
    "duration": 8,
    "start_time": "2022-05-23T12:25:05.208Z"
   },
   {
    "duration": 8,
    "start_time": "2022-05-23T12:25:05.217Z"
   },
   {
    "duration": 17,
    "start_time": "2022-05-23T12:25:05.226Z"
   },
   {
    "duration": 64,
    "start_time": "2022-05-23T12:25:05.244Z"
   },
   {
    "duration": 16,
    "start_time": "2022-05-23T12:25:05.310Z"
   },
   {
    "duration": 4,
    "start_time": "2022-05-23T12:25:05.328Z"
   },
   {
    "duration": 12,
    "start_time": "2022-05-23T12:25:05.334Z"
   },
   {
    "duration": 32,
    "start_time": "2022-05-23T12:25:05.348Z"
   },
   {
    "duration": 6,
    "start_time": "2022-05-23T12:25:05.381Z"
   },
   {
    "duration": 25,
    "start_time": "2022-05-23T12:25:05.388Z"
   },
   {
    "duration": 4,
    "start_time": "2022-05-23T12:25:05.415Z"
   },
   {
    "duration": 6,
    "start_time": "2022-05-23T12:25:05.421Z"
   },
   {
    "duration": 11,
    "start_time": "2022-05-23T12:25:05.430Z"
   },
   {
    "duration": 5,
    "start_time": "2022-05-23T12:25:05.443Z"
   },
   {
    "duration": 48,
    "start_time": "2022-05-23T12:25:05.450Z"
   },
   {
    "duration": 4,
    "start_time": "2022-05-23T12:25:05.499Z"
   },
   {
    "duration": 5,
    "start_time": "2022-05-23T12:25:05.504Z"
   },
   {
    "duration": 8,
    "start_time": "2022-05-23T12:25:05.511Z"
   },
   {
    "duration": 17,
    "start_time": "2022-05-23T12:25:05.521Z"
   },
   {
    "duration": 5,
    "start_time": "2022-05-23T12:25:05.539Z"
   },
   {
    "duration": 30,
    "start_time": "2022-05-23T12:25:05.545Z"
   },
   {
    "duration": 2,
    "start_time": "2022-05-23T12:25:05.577Z"
   },
   {
    "duration": 6,
    "start_time": "2022-05-23T12:25:05.581Z"
   },
   {
    "duration": 5,
    "start_time": "2022-05-23T12:25:05.589Z"
   },
   {
    "duration": 15,
    "start_time": "2022-05-23T12:25:05.596Z"
   },
   {
    "duration": 4,
    "start_time": "2022-05-23T12:25:05.612Z"
   },
   {
    "duration": 6,
    "start_time": "2022-05-23T12:25:05.617Z"
   },
   {
    "duration": 6,
    "start_time": "2022-05-23T12:25:05.624Z"
   },
   {
    "duration": 5,
    "start_time": "2022-05-23T12:25:05.631Z"
   },
   {
    "duration": 37,
    "start_time": "2022-05-23T12:25:05.638Z"
   },
   {
    "duration": 12,
    "start_time": "2022-05-23T12:25:05.677Z"
   },
   {
    "duration": 570,
    "start_time": "2022-05-23T12:25:05.691Z"
   },
   {
    "duration": 12,
    "start_time": "2022-05-23T12:25:06.262Z"
   },
   {
    "duration": 16,
    "start_time": "2022-05-23T12:25:06.276Z"
   },
   {
    "duration": 16,
    "start_time": "2022-05-23T12:25:06.293Z"
   },
   {
    "duration": 15,
    "start_time": "2022-05-23T12:25:06.311Z"
   },
   {
    "duration": 4,
    "start_time": "2022-05-23T12:25:06.328Z"
   },
   {
    "duration": 45,
    "start_time": "2022-05-23T12:25:06.334Z"
   },
   {
    "duration": 9,
    "start_time": "2022-05-23T12:25:06.381Z"
   },
   {
    "duration": 7,
    "start_time": "2022-05-23T12:25:06.392Z"
   },
   {
    "duration": 3,
    "start_time": "2022-05-23T12:25:06.400Z"
   },
   {
    "duration": 10,
    "start_time": "2022-05-23T12:25:06.404Z"
   },
   {
    "duration": 12,
    "start_time": "2022-05-23T12:25:06.415Z"
   },
   {
    "duration": 47,
    "start_time": "2022-05-23T12:25:06.428Z"
   },
   {
    "duration": 14,
    "start_time": "2022-05-23T12:25:06.477Z"
   },
   {
    "duration": 13,
    "start_time": "2022-05-23T12:25:06.493Z"
   },
   {
    "duration": 4,
    "start_time": "2022-05-23T12:25:06.507Z"
   },
   {
    "duration": 12,
    "start_time": "2022-05-23T12:25:06.512Z"
   },
   {
    "duration": 12,
    "start_time": "2022-05-23T12:25:06.526Z"
   },
   {
    "duration": 41,
    "start_time": "2022-05-23T12:25:06.540Z"
   },
   {
    "duration": 5,
    "start_time": "2022-05-23T12:25:06.586Z"
   },
   {
    "duration": 9,
    "start_time": "2022-05-23T12:25:06.593Z"
   },
   {
    "duration": 7,
    "start_time": "2022-05-23T12:25:06.603Z"
   },
   {
    "duration": 9,
    "start_time": "2022-05-23T12:25:06.612Z"
   },
   {
    "duration": 19,
    "start_time": "2022-05-23T12:25:06.622Z"
   },
   {
    "duration": 36,
    "start_time": "2022-05-23T12:25:06.643Z"
   },
   {
    "duration": 10,
    "start_time": "2022-05-23T12:25:06.680Z"
   },
   {
    "duration": 31,
    "start_time": "2022-05-23T12:25:06.692Z"
   },
   {
    "duration": 5,
    "start_time": "2022-05-23T12:25:06.725Z"
   },
   {
    "duration": 18,
    "start_time": "2022-05-23T12:25:06.731Z"
   },
   {
    "duration": 34,
    "start_time": "2022-05-23T12:25:06.751Z"
   },
   {
    "duration": 5,
    "start_time": "2022-05-23T12:25:06.787Z"
   },
   {
    "duration": 400,
    "start_time": "2022-05-23T17:13:16.611Z"
   },
   {
    "duration": 89,
    "start_time": "2022-05-23T17:13:17.012Z"
   },
   {
    "duration": 4,
    "start_time": "2022-05-23T17:13:17.102Z"
   },
   {
    "duration": 33,
    "start_time": "2022-05-23T17:13:17.108Z"
   },
   {
    "duration": 23,
    "start_time": "2022-05-23T17:13:17.142Z"
   },
   {
    "duration": 39,
    "start_time": "2022-05-23T17:13:17.167Z"
   },
   {
    "duration": 6,
    "start_time": "2022-05-23T17:13:17.208Z"
   },
   {
    "duration": 20,
    "start_time": "2022-05-23T17:13:17.215Z"
   },
   {
    "duration": 19,
    "start_time": "2022-05-23T17:13:17.236Z"
   },
   {
    "duration": 18,
    "start_time": "2022-05-23T17:13:17.257Z"
   },
   {
    "duration": 15,
    "start_time": "2022-05-23T17:13:17.277Z"
   },
   {
    "duration": 22,
    "start_time": "2022-05-23T17:13:17.293Z"
   },
   {
    "duration": 36,
    "start_time": "2022-05-23T17:13:17.317Z"
   },
   {
    "duration": 22,
    "start_time": "2022-05-23T17:13:17.354Z"
   },
   {
    "duration": 14,
    "start_time": "2022-05-23T17:13:17.377Z"
   },
   {
    "duration": 16,
    "start_time": "2022-05-23T17:13:17.392Z"
   },
   {
    "duration": 22,
    "start_time": "2022-05-23T17:13:17.409Z"
   },
   {
    "duration": 12,
    "start_time": "2022-05-23T17:13:17.433Z"
   },
   {
    "duration": 41,
    "start_time": "2022-05-23T17:13:17.446Z"
   },
   {
    "duration": 21,
    "start_time": "2022-05-23T17:13:17.488Z"
   },
   {
    "duration": 30,
    "start_time": "2022-05-23T17:13:17.511Z"
   },
   {
    "duration": 17,
    "start_time": "2022-05-23T17:13:17.543Z"
   },
   {
    "duration": 26,
    "start_time": "2022-05-23T17:13:17.561Z"
   },
   {
    "duration": 21,
    "start_time": "2022-05-23T17:13:17.589Z"
   },
   {
    "duration": 24,
    "start_time": "2022-05-23T17:13:17.611Z"
   },
   {
    "duration": 7,
    "start_time": "2022-05-23T17:13:17.636Z"
   },
   {
    "duration": 17,
    "start_time": "2022-05-23T17:13:17.644Z"
   },
   {
    "duration": 28,
    "start_time": "2022-05-23T17:13:17.666Z"
   },
   {
    "duration": 23,
    "start_time": "2022-05-23T17:13:17.696Z"
   },
   {
    "duration": 15,
    "start_time": "2022-05-23T17:13:17.720Z"
   },
   {
    "duration": 26,
    "start_time": "2022-05-23T17:13:17.737Z"
   },
   {
    "duration": 15,
    "start_time": "2022-05-23T17:13:17.764Z"
   },
   {
    "duration": 25,
    "start_time": "2022-05-23T17:13:17.781Z"
   },
   {
    "duration": 59,
    "start_time": "2022-05-23T17:13:17.807Z"
   },
   {
    "duration": 32,
    "start_time": "2022-05-23T17:13:17.867Z"
   },
   {
    "duration": 14,
    "start_time": "2022-05-23T17:13:17.900Z"
   },
   {
    "duration": 5,
    "start_time": "2022-05-23T17:13:17.916Z"
   },
   {
    "duration": 32,
    "start_time": "2022-05-23T17:13:17.922Z"
   },
   {
    "duration": 31,
    "start_time": "2022-05-23T17:13:17.955Z"
   },
   {
    "duration": 17,
    "start_time": "2022-05-23T17:13:17.987Z"
   },
   {
    "duration": 40,
    "start_time": "2022-05-23T17:13:18.005Z"
   },
   {
    "duration": 13,
    "start_time": "2022-05-23T17:13:18.047Z"
   },
   {
    "duration": 8,
    "start_time": "2022-05-23T17:13:18.061Z"
   },
   {
    "duration": 9,
    "start_time": "2022-05-23T17:13:18.071Z"
   },
   {
    "duration": 4,
    "start_time": "2022-05-23T17:13:18.082Z"
   },
   {
    "duration": 16,
    "start_time": "2022-05-23T17:13:18.088Z"
   },
   {
    "duration": 4,
    "start_time": "2022-05-23T17:13:18.105Z"
   },
   {
    "duration": 4,
    "start_time": "2022-05-23T17:13:18.110Z"
   },
   {
    "duration": 8,
    "start_time": "2022-05-23T17:13:18.115Z"
   },
   {
    "duration": 13,
    "start_time": "2022-05-23T17:13:18.124Z"
   },
   {
    "duration": 3,
    "start_time": "2022-05-23T17:13:18.139Z"
   },
   {
    "duration": 41,
    "start_time": "2022-05-23T17:13:18.144Z"
   },
   {
    "duration": 2,
    "start_time": "2022-05-23T17:13:18.186Z"
   },
   {
    "duration": 10,
    "start_time": "2022-05-23T17:13:18.190Z"
   },
   {
    "duration": 11,
    "start_time": "2022-05-23T17:13:18.202Z"
   },
   {
    "duration": 18,
    "start_time": "2022-05-23T17:13:18.215Z"
   },
   {
    "duration": 4,
    "start_time": "2022-05-23T17:13:18.234Z"
   },
   {
    "duration": 5,
    "start_time": "2022-05-23T17:13:18.239Z"
   },
   {
    "duration": 5,
    "start_time": "2022-05-23T17:13:18.245Z"
   },
   {
    "duration": 25,
    "start_time": "2022-05-23T17:13:18.252Z"
   },
   {
    "duration": 5,
    "start_time": "2022-05-23T17:13:18.278Z"
   },
   {
    "duration": 13,
    "start_time": "2022-05-23T17:13:18.284Z"
   },
   {
    "duration": 434,
    "start_time": "2022-05-23T17:13:18.299Z"
   },
   {
    "duration": 8,
    "start_time": "2022-05-23T17:13:18.735Z"
   },
   {
    "duration": 15,
    "start_time": "2022-05-23T17:13:18.745Z"
   },
   {
    "duration": 25,
    "start_time": "2022-05-23T17:13:18.761Z"
   },
   {
    "duration": 14,
    "start_time": "2022-05-23T17:13:18.788Z"
   },
   {
    "duration": 5,
    "start_time": "2022-05-23T17:13:18.803Z"
   },
   {
    "duration": 13,
    "start_time": "2022-05-23T17:13:18.809Z"
   },
   {
    "duration": 7,
    "start_time": "2022-05-23T17:13:18.823Z"
   },
   {
    "duration": 7,
    "start_time": "2022-05-23T17:13:18.831Z"
   },
   {
    "duration": 37,
    "start_time": "2022-05-23T17:13:18.839Z"
   },
   {
    "duration": 9,
    "start_time": "2022-05-23T17:13:18.877Z"
   },
   {
    "duration": 10,
    "start_time": "2022-05-23T17:13:18.887Z"
   },
   {
    "duration": 13,
    "start_time": "2022-05-23T17:13:18.899Z"
   },
   {
    "duration": 12,
    "start_time": "2022-05-23T17:13:18.913Z"
   },
   {
    "duration": 11,
    "start_time": "2022-05-23T17:13:18.926Z"
   },
   {
    "duration": 3,
    "start_time": "2022-05-23T17:13:18.938Z"
   },
   {
    "duration": 38,
    "start_time": "2022-05-23T17:13:18.942Z"
   },
   {
    "duration": 12,
    "start_time": "2022-05-23T17:13:18.981Z"
   },
   {
    "duration": 12,
    "start_time": "2022-05-23T17:13:18.994Z"
   },
   {
    "duration": 4,
    "start_time": "2022-05-23T17:13:19.011Z"
   },
   {
    "duration": 9,
    "start_time": "2022-05-23T17:13:19.017Z"
   },
   {
    "duration": 6,
    "start_time": "2022-05-23T17:13:19.027Z"
   },
   {
    "duration": 8,
    "start_time": "2022-05-23T17:13:19.034Z"
   },
   {
    "duration": 37,
    "start_time": "2022-05-23T17:13:19.043Z"
   },
   {
    "duration": 7,
    "start_time": "2022-05-23T17:13:19.081Z"
   },
   {
    "duration": 9,
    "start_time": "2022-05-23T17:13:19.089Z"
   },
   {
    "duration": 26,
    "start_time": "2022-05-23T17:13:19.099Z"
   },
   {
    "duration": 4,
    "start_time": "2022-05-23T17:13:19.126Z"
   },
   {
    "duration": 13,
    "start_time": "2022-05-23T17:13:19.132Z"
   },
   {
    "duration": 35,
    "start_time": "2022-05-23T17:13:19.146Z"
   },
   {
    "duration": 7,
    "start_time": "2022-05-23T17:13:19.182Z"
   },
   {
    "duration": 4,
    "start_time": "2022-05-23T19:11:20.098Z"
   },
   {
    "duration": 81,
    "start_time": "2022-05-23T21:18:47.258Z"
   },
   {
    "duration": 7,
    "start_time": "2022-05-23T21:20:09.110Z"
   },
   {
    "duration": 471,
    "start_time": "2022-05-23T21:20:15.056Z"
   },
   {
    "duration": 274,
    "start_time": "2022-05-23T21:20:15.529Z"
   },
   {
    "duration": 5,
    "start_time": "2022-05-23T21:20:15.805Z"
   },
   {
    "duration": 22,
    "start_time": "2022-05-23T21:20:15.812Z"
   },
   {
    "duration": 38,
    "start_time": "2022-05-23T21:20:15.837Z"
   },
   {
    "duration": 30,
    "start_time": "2022-05-23T21:20:15.877Z"
   },
   {
    "duration": 39,
    "start_time": "2022-05-23T21:20:15.909Z"
   },
   {
    "duration": 39,
    "start_time": "2022-05-23T21:20:15.949Z"
   },
   {
    "duration": 38,
    "start_time": "2022-05-23T21:20:15.990Z"
   },
   {
    "duration": 30,
    "start_time": "2022-05-23T21:20:16.030Z"
   },
   {
    "duration": 27,
    "start_time": "2022-05-23T21:20:16.062Z"
   },
   {
    "duration": 36,
    "start_time": "2022-05-23T21:20:16.091Z"
   },
   {
    "duration": 22,
    "start_time": "2022-05-23T21:20:16.129Z"
   },
   {
    "duration": 36,
    "start_time": "2022-05-23T21:20:16.154Z"
   },
   {
    "duration": 53,
    "start_time": "2022-05-23T21:20:16.193Z"
   },
   {
    "duration": 17,
    "start_time": "2022-05-23T21:20:16.248Z"
   },
   {
    "duration": 22,
    "start_time": "2022-05-23T21:20:16.267Z"
   },
   {
    "duration": 27,
    "start_time": "2022-05-23T21:20:16.291Z"
   },
   {
    "duration": 26,
    "start_time": "2022-05-23T21:20:16.320Z"
   },
   {
    "duration": 12,
    "start_time": "2022-05-23T21:20:16.348Z"
   },
   {
    "duration": 15,
    "start_time": "2022-05-23T21:20:16.362Z"
   },
   {
    "duration": 25,
    "start_time": "2022-05-23T21:20:16.379Z"
   },
   {
    "duration": 15,
    "start_time": "2022-05-23T21:20:16.412Z"
   },
   {
    "duration": 20,
    "start_time": "2022-05-23T21:20:16.429Z"
   },
   {
    "duration": 16,
    "start_time": "2022-05-23T21:20:16.450Z"
   },
   {
    "duration": 18,
    "start_time": "2022-05-23T21:20:16.467Z"
   },
   {
    "duration": 31,
    "start_time": "2022-05-23T21:20:16.487Z"
   },
   {
    "duration": 18,
    "start_time": "2022-05-23T21:20:16.520Z"
   },
   {
    "duration": 21,
    "start_time": "2022-05-23T21:20:16.540Z"
   },
   {
    "duration": 15,
    "start_time": "2022-05-23T21:20:16.563Z"
   },
   {
    "duration": 18,
    "start_time": "2022-05-23T21:20:16.580Z"
   },
   {
    "duration": 3,
    "start_time": "2022-05-23T21:20:16.599Z"
   },
   {
    "duration": 20,
    "start_time": "2022-05-23T21:20:16.609Z"
   },
   {
    "duration": 37,
    "start_time": "2022-05-23T21:20:16.631Z"
   },
   {
    "duration": 44,
    "start_time": "2022-05-23T21:20:16.670Z"
   },
   {
    "duration": 17,
    "start_time": "2022-05-23T21:20:16.716Z"
   },
   {
    "duration": 4,
    "start_time": "2022-05-23T21:20:16.735Z"
   },
   {
    "duration": 16,
    "start_time": "2022-05-23T21:20:16.741Z"
   },
   {
    "duration": 11,
    "start_time": "2022-05-23T21:20:16.759Z"
   },
   {
    "duration": 37,
    "start_time": "2022-05-23T21:20:16.772Z"
   },
   {
    "duration": 13,
    "start_time": "2022-05-23T21:20:16.816Z"
   },
   {
    "duration": 4,
    "start_time": "2022-05-23T21:20:16.832Z"
   },
   {
    "duration": 8,
    "start_time": "2022-05-23T21:20:16.837Z"
   },
   {
    "duration": 20,
    "start_time": "2022-05-23T21:20:16.847Z"
   },
   {
    "duration": 15,
    "start_time": "2022-05-23T21:20:16.869Z"
   },
   {
    "duration": 37,
    "start_time": "2022-05-23T21:20:16.885Z"
   },
   {
    "duration": 4,
    "start_time": "2022-05-23T21:20:16.924Z"
   },
   {
    "duration": 23,
    "start_time": "2022-05-23T21:20:16.929Z"
   },
   {
    "duration": 28,
    "start_time": "2022-05-23T21:20:16.954Z"
   },
   {
    "duration": 35,
    "start_time": "2022-05-23T21:20:16.984Z"
   },
   {
    "duration": 21,
    "start_time": "2022-05-23T21:20:17.021Z"
   },
   {
    "duration": 29,
    "start_time": "2022-05-23T21:20:17.044Z"
   },
   {
    "duration": 7,
    "start_time": "2022-05-23T21:20:17.074Z"
   },
   {
    "duration": 30,
    "start_time": "2022-05-23T21:20:17.082Z"
   },
   {
    "duration": 16,
    "start_time": "2022-05-23T21:20:17.114Z"
   },
   {
    "duration": 30,
    "start_time": "2022-05-23T21:20:17.132Z"
   },
   {
    "duration": 15,
    "start_time": "2022-05-23T21:20:17.163Z"
   },
   {
    "duration": 43,
    "start_time": "2022-05-23T21:20:17.180Z"
   },
   {
    "duration": 26,
    "start_time": "2022-05-23T21:20:17.225Z"
   },
   {
    "duration": 46,
    "start_time": "2022-05-23T21:20:17.253Z"
   },
   {
    "duration": 34,
    "start_time": "2022-05-23T21:20:17.307Z"
   },
   {
    "duration": 43,
    "start_time": "2022-05-23T21:20:17.342Z"
   },
   {
    "duration": 730,
    "start_time": "2022-05-23T21:20:17.387Z"
   },
   {
    "duration": 8,
    "start_time": "2022-05-23T21:20:18.119Z"
   },
   {
    "duration": 39,
    "start_time": "2022-05-23T21:20:18.128Z"
   },
   {
    "duration": 30,
    "start_time": "2022-05-23T21:20:18.168Z"
   },
   {
    "duration": 25,
    "start_time": "2022-05-23T21:20:18.201Z"
   },
   {
    "duration": 5,
    "start_time": "2022-05-23T21:20:18.228Z"
   },
   {
    "duration": 31,
    "start_time": "2022-05-23T21:20:18.234Z"
   },
   {
    "duration": 18,
    "start_time": "2022-05-23T21:20:18.267Z"
   },
   {
    "duration": 41,
    "start_time": "2022-05-23T21:20:18.286Z"
   },
   {
    "duration": 12,
    "start_time": "2022-05-23T21:20:18.328Z"
   },
   {
    "duration": 25,
    "start_time": "2022-05-23T21:20:18.342Z"
   },
   {
    "duration": 40,
    "start_time": "2022-05-23T21:20:18.369Z"
   },
   {
    "duration": 41,
    "start_time": "2022-05-23T21:20:18.410Z"
   },
   {
    "duration": 16,
    "start_time": "2022-05-23T21:20:18.452Z"
   },
   {
    "duration": 32,
    "start_time": "2022-05-23T21:20:18.470Z"
   },
   {
    "duration": 32,
    "start_time": "2022-05-23T21:20:18.511Z"
   },
   {
    "duration": 23,
    "start_time": "2022-05-23T21:20:18.545Z"
   },
   {
    "duration": 28,
    "start_time": "2022-05-23T21:20:18.570Z"
   },
   {
    "duration": 36,
    "start_time": "2022-05-23T21:20:18.600Z"
   },
   {
    "duration": 16,
    "start_time": "2022-05-23T21:20:18.637Z"
   },
   {
    "duration": 20,
    "start_time": "2022-05-23T21:20:18.655Z"
   },
   {
    "duration": 41,
    "start_time": "2022-05-23T21:20:18.676Z"
   },
   {
    "duration": 23,
    "start_time": "2022-05-23T21:20:18.718Z"
   },
   {
    "duration": 16,
    "start_time": "2022-05-23T21:20:18.743Z"
   },
   {
    "duration": 26,
    "start_time": "2022-05-23T21:20:18.760Z"
   },
   {
    "duration": 32,
    "start_time": "2022-05-23T21:20:18.788Z"
   },
   {
    "duration": 47,
    "start_time": "2022-05-23T21:20:18.822Z"
   },
   {
    "duration": 6,
    "start_time": "2022-05-23T21:20:18.871Z"
   },
   {
    "duration": 30,
    "start_time": "2022-05-23T21:20:18.879Z"
   },
   {
    "duration": 30,
    "start_time": "2022-05-23T21:20:18.911Z"
   },
   {
    "duration": 11,
    "start_time": "2022-05-23T21:20:18.943Z"
   },
   {
    "duration": 24,
    "start_time": "2022-05-23T21:20:44.987Z"
   },
   {
    "duration": 165,
    "start_time": "2022-05-23T21:20:46.485Z"
   },
   {
    "duration": 8,
    "start_time": "2022-05-23T21:20:53.410Z"
   },
   {
    "duration": 22,
    "start_time": "2022-05-23T21:20:56.407Z"
   },
   {
    "duration": 6,
    "start_time": "2022-05-23T22:01:31.635Z"
   },
   {
    "duration": 152,
    "start_time": "2022-05-23T22:01:33.042Z"
   },
   {
    "duration": 10,
    "start_time": "2022-05-23T22:01:41.062Z"
   },
   {
    "duration": 25,
    "start_time": "2022-05-23T22:01:42.564Z"
   },
   {
    "duration": 23,
    "start_time": "2022-05-23T22:01:43.709Z"
   },
   {
    "duration": 31,
    "start_time": "2022-05-23T22:10:29.296Z"
   },
   {
    "duration": 50,
    "start_time": "2022-05-23T22:24:29.290Z"
   },
   {
    "duration": 37,
    "start_time": "2022-05-23T22:25:53.520Z"
   },
   {
    "duration": 144,
    "start_time": "2022-05-23T22:33:03.046Z"
   },
   {
    "duration": 5,
    "start_time": "2022-05-23T22:33:12.372Z"
   },
   {
    "duration": 2,
    "start_time": "2022-05-23T22:33:43.326Z"
   },
   {
    "duration": 71,
    "start_time": "2022-05-23T22:33:53.365Z"
   },
   {
    "duration": 39,
    "start_time": "2022-05-23T22:37:23.509Z"
   },
   {
    "duration": 36,
    "start_time": "2022-05-23T22:37:36.666Z"
   },
   {
    "duration": 35,
    "start_time": "2022-05-23T22:37:49.452Z"
   },
   {
    "duration": 14,
    "start_time": "2022-05-23T22:38:00.236Z"
   },
   {
    "duration": 507,
    "start_time": "2022-05-23T22:38:26.374Z"
   },
   {
    "duration": 103,
    "start_time": "2022-05-23T22:38:27.146Z"
   },
   {
    "duration": 4,
    "start_time": "2022-05-23T22:38:28.060Z"
   },
   {
    "duration": 9,
    "start_time": "2022-05-23T22:38:28.274Z"
   },
   {
    "duration": 24,
    "start_time": "2022-05-23T22:38:28.671Z"
   },
   {
    "duration": 14,
    "start_time": "2022-05-23T22:38:29.061Z"
   },
   {
    "duration": 6,
    "start_time": "2022-05-23T22:38:29.453Z"
   },
   {
    "duration": 12,
    "start_time": "2022-05-23T22:38:29.847Z"
   },
   {
    "duration": 11,
    "start_time": "2022-05-23T22:38:30.054Z"
   },
   {
    "duration": 11,
    "start_time": "2022-05-23T22:38:30.424Z"
   },
   {
    "duration": 2,
    "start_time": "2022-05-23T22:38:30.840Z"
   },
   {
    "duration": 3,
    "start_time": "2022-05-23T22:38:31.238Z"
   },
   {
    "duration": 4,
    "start_time": "2022-05-23T22:38:32.248Z"
   },
   {
    "duration": 10,
    "start_time": "2022-05-23T22:38:32.448Z"
   },
   {
    "duration": 6,
    "start_time": "2022-05-23T22:38:32.639Z"
   },
   {
    "duration": 4,
    "start_time": "2022-05-23T22:38:33.035Z"
   },
   {
    "duration": 11,
    "start_time": "2022-05-23T22:38:33.431Z"
   },
   {
    "duration": 5,
    "start_time": "2022-05-23T22:38:33.869Z"
   },
   {
    "duration": 10,
    "start_time": "2022-05-23T22:38:34.293Z"
   },
   {
    "duration": 4,
    "start_time": "2022-05-23T22:38:34.705Z"
   },
   {
    "duration": 4,
    "start_time": "2022-05-23T22:38:34.910Z"
   },
   {
    "duration": 6,
    "start_time": "2022-05-23T22:38:35.331Z"
   },
   {
    "duration": 7,
    "start_time": "2022-05-23T22:38:35.740Z"
   },
   {
    "duration": 7,
    "start_time": "2022-05-23T22:38:36.180Z"
   },
   {
    "duration": 7,
    "start_time": "2022-05-23T22:38:36.589Z"
   },
   {
    "duration": 2,
    "start_time": "2022-05-23T22:38:36.804Z"
   },
   {
    "duration": 7,
    "start_time": "2022-05-23T22:38:37.020Z"
   },
   {
    "duration": 6,
    "start_time": "2022-05-23T22:38:37.436Z"
   },
   {
    "duration": 7,
    "start_time": "2022-05-23T22:38:37.637Z"
   },
   {
    "duration": 6,
    "start_time": "2022-05-23T22:38:38.037Z"
   },
   {
    "duration": 6,
    "start_time": "2022-05-23T22:38:38.466Z"
   },
   {
    "duration": 2,
    "start_time": "2022-05-23T22:38:38.613Z"
   },
   {
    "duration": 7,
    "start_time": "2022-05-23T22:38:38.841Z"
   },
   {
    "duration": 16,
    "start_time": "2022-05-23T22:38:39.191Z"
   },
   {
    "duration": 35,
    "start_time": "2022-05-23T22:38:39.332Z"
   },
   {
    "duration": 16,
    "start_time": "2022-05-23T22:38:39.488Z"
   },
   {
    "duration": 4,
    "start_time": "2022-05-23T22:38:39.816Z"
   },
   {
    "duration": 9,
    "start_time": "2022-05-23T22:38:40.823Z"
   },
   {
    "duration": 5,
    "start_time": "2022-05-23T22:38:40.982Z"
   },
   {
    "duration": 4,
    "start_time": "2022-05-23T22:38:43.822Z"
   },
   {
    "duration": 12,
    "start_time": "2022-05-23T22:38:46.813Z"
   },
   {
    "duration": 3,
    "start_time": "2022-05-23T22:38:49.416Z"
   },
   {
    "duration": 3,
    "start_time": "2022-05-23T22:38:49.937Z"
   },
   {
    "duration": 7,
    "start_time": "2022-05-23T22:38:50.181Z"
   },
   {
    "duration": 4,
    "start_time": "2022-05-23T22:38:50.466Z"
   },
   {
    "duration": 28,
    "start_time": "2022-05-23T22:38:55.456Z"
   },
   {
    "duration": 4,
    "start_time": "2022-05-23T22:38:55.931Z"
   },
   {
    "duration": 7,
    "start_time": "2022-05-23T22:38:59.886Z"
   },
   {
    "duration": 4,
    "start_time": "2022-05-23T22:39:02.709Z"
   },
   {
    "duration": 15,
    "start_time": "2022-05-23T22:39:03.143Z"
   },
   {
    "duration": 3,
    "start_time": "2022-05-23T22:39:03.922Z"
   },
   {
    "duration": 5,
    "start_time": "2022-05-23T22:39:04.324Z"
   },
   {
    "duration": 14,
    "start_time": "2022-05-23T22:39:08.083Z"
   },
   {
    "duration": 3,
    "start_time": "2022-05-23T22:39:11.581Z"
   },
   {
    "duration": 5,
    "start_time": "2022-05-23T22:39:12.177Z"
   },
   {
    "duration": 5,
    "start_time": "2022-05-23T22:39:13.357Z"
   },
   {
    "duration": 5,
    "start_time": "2022-05-23T22:39:13.991Z"
   },
   {
    "duration": 6,
    "start_time": "2022-05-23T22:39:17.295Z"
   },
   {
    "duration": 13,
    "start_time": "2022-05-23T22:39:18.662Z"
   },
   {
    "duration": 6,
    "start_time": "2022-05-23T22:39:23.989Z"
   },
   {
    "duration": 462,
    "start_time": "2022-05-23T22:39:24.983Z"
   },
   {
    "duration": 8,
    "start_time": "2022-05-23T22:39:26.456Z"
   },
   {
    "duration": 15,
    "start_time": "2022-05-23T22:39:30.521Z"
   },
   {
    "duration": 15,
    "start_time": "2022-05-23T22:39:31.556Z"
   },
   {
    "duration": 15,
    "start_time": "2022-05-23T22:39:38.877Z"
   },
   {
    "duration": 5,
    "start_time": "2022-05-23T22:39:39.509Z"
   },
   {
    "duration": 13,
    "start_time": "2022-05-23T22:39:43.703Z"
   },
   {
    "duration": 8,
    "start_time": "2022-05-23T22:39:45.517Z"
   },
   {
    "duration": 7,
    "start_time": "2022-05-23T22:39:47.537Z"
   },
   {
    "duration": 2,
    "start_time": "2022-05-23T22:39:48.057Z"
   },
   {
    "duration": 7,
    "start_time": "2022-05-23T22:39:50.273Z"
   },
   {
    "duration": 11,
    "start_time": "2022-05-23T22:39:50.906Z"
   },
   {
    "duration": 16,
    "start_time": "2022-05-23T22:39:54.553Z"
   },
   {
    "duration": 14,
    "start_time": "2022-05-23T22:39:54.976Z"
   },
   {
    "duration": 13,
    "start_time": "2022-05-23T22:39:55.231Z"
   },
   {
    "duration": 3,
    "start_time": "2022-05-23T22:39:55.456Z"
   },
   {
    "duration": 9,
    "start_time": "2022-05-23T22:39:55.661Z"
   },
   {
    "duration": 12,
    "start_time": "2022-05-23T22:39:55.872Z"
   },
   {
    "duration": 14,
    "start_time": "2022-05-23T22:40:01.836Z"
   },
   {
    "duration": 6,
    "start_time": "2022-05-23T22:40:04.164Z"
   },
   {
    "duration": 11,
    "start_time": "2022-05-23T22:40:07.312Z"
   },
   {
    "duration": 6,
    "start_time": "2022-05-23T22:40:09.707Z"
   },
   {
    "duration": 10,
    "start_time": "2022-05-23T22:40:12.467Z"
   },
   {
    "duration": 9,
    "start_time": "2022-05-23T22:40:14.304Z"
   },
   {
    "duration": 35,
    "start_time": "2022-05-23T22:40:38.227Z"
   },
   {
    "duration": 12,
    "start_time": "2022-05-23T22:40:39.222Z"
   },
   {
    "duration": 37,
    "start_time": "2022-05-23T22:45:46.486Z"
   },
   {
    "duration": 12,
    "start_time": "2022-05-23T22:45:48.589Z"
   },
   {
    "duration": 37,
    "start_time": "2022-05-23T22:46:28.643Z"
   },
   {
    "duration": 14,
    "start_time": "2022-05-23T22:46:30.966Z"
   },
   {
    "duration": 42,
    "start_time": "2022-05-23T22:46:36.209Z"
   },
   {
    "duration": 13,
    "start_time": "2022-05-23T22:46:36.841Z"
   },
   {
    "duration": 35,
    "start_time": "2022-05-23T22:47:02.442Z"
   },
   {
    "duration": 13,
    "start_time": "2022-05-23T22:47:03.209Z"
   },
   {
    "duration": 14,
    "start_time": "2022-05-23T22:47:24.688Z"
   },
   {
    "duration": 34,
    "start_time": "2022-05-23T22:47:42.983Z"
   },
   {
    "duration": 43,
    "start_time": "2022-05-23T22:48:12.196Z"
   },
   {
    "duration": 15,
    "start_time": "2022-05-23T22:48:12.892Z"
   },
   {
    "duration": 37,
    "start_time": "2022-05-23T22:48:36.425Z"
   },
   {
    "duration": 14,
    "start_time": "2022-05-23T22:48:41.053Z"
   },
   {
    "duration": 82,
    "start_time": "2022-05-23T22:48:57.371Z"
   },
   {
    "duration": 14,
    "start_time": "2022-05-23T22:48:58.317Z"
   },
   {
    "duration": 35,
    "start_time": "2022-05-23T22:49:12.891Z"
   },
   {
    "duration": 14,
    "start_time": "2022-05-23T22:49:15.986Z"
   },
   {
    "duration": 6,
    "start_time": "2022-05-23T23:10:12.125Z"
   },
   {
    "duration": 163,
    "start_time": "2022-05-23T23:10:29.811Z"
   },
   {
    "duration": 4,
    "start_time": "2022-05-23T23:18:32.281Z"
   },
   {
    "duration": 154,
    "start_time": "2022-05-23T23:19:28.625Z"
   },
   {
    "duration": 4,
    "start_time": "2022-05-23T23:19:38.795Z"
   },
   {
    "duration": 3,
    "start_time": "2022-05-23T23:23:04.328Z"
   },
   {
    "duration": 8,
    "start_time": "2022-05-23T23:23:06.761Z"
   },
   {
    "duration": 14,
    "start_time": "2022-05-23T23:23:21.862Z"
   },
   {
    "duration": 16,
    "start_time": "2022-05-23T23:23:29.530Z"
   },
   {
    "duration": 560,
    "start_time": "2022-05-24T12:05:51.547Z"
   },
   {
    "duration": 664,
    "start_time": "2022-05-24T12:05:52.110Z"
   },
   {
    "duration": 5,
    "start_time": "2022-05-24T12:05:52.777Z"
   },
   {
    "duration": 27,
    "start_time": "2022-05-24T12:05:52.785Z"
   },
   {
    "duration": 35,
    "start_time": "2022-05-24T12:05:52.815Z"
   },
   {
    "duration": 42,
    "start_time": "2022-05-24T12:05:52.852Z"
   },
   {
    "duration": 21,
    "start_time": "2022-05-24T12:05:52.899Z"
   },
   {
    "duration": 22,
    "start_time": "2022-05-24T12:05:52.926Z"
   },
   {
    "duration": 46,
    "start_time": "2022-05-24T12:05:52.950Z"
   },
   {
    "duration": 23,
    "start_time": "2022-05-24T12:05:52.998Z"
   },
   {
    "duration": 47,
    "start_time": "2022-05-24T12:05:53.024Z"
   },
   {
    "duration": 110,
    "start_time": "2022-05-24T12:05:53.074Z"
   },
   {
    "duration": 72,
    "start_time": "2022-05-24T12:05:53.196Z"
   },
   {
    "duration": 66,
    "start_time": "2022-05-24T12:05:53.275Z"
   },
   {
    "duration": 48,
    "start_time": "2022-05-24T12:05:53.350Z"
   },
   {
    "duration": 26,
    "start_time": "2022-05-24T12:05:53.406Z"
   },
   {
    "duration": 34,
    "start_time": "2022-05-24T12:05:53.434Z"
   },
   {
    "duration": 20,
    "start_time": "2022-05-24T12:05:53.471Z"
   },
   {
    "duration": 30,
    "start_time": "2022-05-24T12:05:53.494Z"
   },
   {
    "duration": 12,
    "start_time": "2022-05-24T12:05:53.527Z"
   },
   {
    "duration": 17,
    "start_time": "2022-05-24T12:05:53.543Z"
   },
   {
    "duration": 38,
    "start_time": "2022-05-24T12:05:53.562Z"
   },
   {
    "duration": 35,
    "start_time": "2022-05-24T12:05:53.603Z"
   },
   {
    "duration": 34,
    "start_time": "2022-05-24T12:05:53.641Z"
   },
   {
    "duration": 15,
    "start_time": "2022-05-24T12:05:53.681Z"
   },
   {
    "duration": 13,
    "start_time": "2022-05-24T12:05:53.698Z"
   },
   {
    "duration": 21,
    "start_time": "2022-05-24T12:05:53.714Z"
   },
   {
    "duration": 46,
    "start_time": "2022-05-24T12:05:53.737Z"
   },
   {
    "duration": 18,
    "start_time": "2022-05-24T12:05:53.785Z"
   },
   {
    "duration": 18,
    "start_time": "2022-05-24T12:05:53.810Z"
   },
   {
    "duration": 21,
    "start_time": "2022-05-24T12:05:53.831Z"
   },
   {
    "duration": 12,
    "start_time": "2022-05-24T12:05:53.854Z"
   },
   {
    "duration": 22,
    "start_time": "2022-05-24T12:05:53.869Z"
   },
   {
    "duration": 55,
    "start_time": "2022-05-24T12:05:53.896Z"
   },
   {
    "duration": 61,
    "start_time": "2022-05-24T12:05:53.954Z"
   },
   {
    "duration": 32,
    "start_time": "2022-05-24T12:05:54.017Z"
   },
   {
    "duration": 6,
    "start_time": "2022-05-24T12:05:54.051Z"
   },
   {
    "duration": 36,
    "start_time": "2022-05-24T12:05:54.059Z"
   },
   {
    "duration": 20,
    "start_time": "2022-05-24T12:05:54.098Z"
   },
   {
    "duration": 10,
    "start_time": "2022-05-24T12:05:54.120Z"
   },
   {
    "duration": 23,
    "start_time": "2022-05-24T12:05:54.139Z"
   },
   {
    "duration": 84,
    "start_time": "2022-05-24T12:05:54.167Z"
   },
   {
    "duration": 17,
    "start_time": "2022-05-24T12:05:54.254Z"
   },
   {
    "duration": 56,
    "start_time": "2022-05-24T12:05:54.274Z"
   },
   {
    "duration": 25,
    "start_time": "2022-05-24T12:05:54.336Z"
   },
   {
    "duration": 38,
    "start_time": "2022-05-24T12:05:54.363Z"
   },
   {
    "duration": 14,
    "start_time": "2022-05-24T12:05:54.404Z"
   },
   {
    "duration": 13,
    "start_time": "2022-05-24T12:05:54.420Z"
   },
   {
    "duration": 15,
    "start_time": "2022-05-24T12:05:54.436Z"
   },
   {
    "duration": 27,
    "start_time": "2022-05-24T12:05:54.457Z"
   },
   {
    "duration": 6,
    "start_time": "2022-05-24T12:05:54.496Z"
   },
   {
    "duration": 37,
    "start_time": "2022-05-24T12:05:54.504Z"
   },
   {
    "duration": 3,
    "start_time": "2022-05-24T12:05:54.544Z"
   },
   {
    "duration": 14,
    "start_time": "2022-05-24T12:05:54.550Z"
   },
   {
    "duration": 9,
    "start_time": "2022-05-24T12:05:54.567Z"
   },
   {
    "duration": 41,
    "start_time": "2022-05-24T12:05:54.579Z"
   },
   {
    "duration": 7,
    "start_time": "2022-05-24T12:05:54.622Z"
   },
   {
    "duration": 11,
    "start_time": "2022-05-24T12:05:54.634Z"
   },
   {
    "duration": 15,
    "start_time": "2022-05-24T12:05:54.648Z"
   },
   {
    "duration": 30,
    "start_time": "2022-05-24T12:05:54.665Z"
   },
   {
    "duration": 11,
    "start_time": "2022-05-24T12:05:54.697Z"
   },
   {
    "duration": 16,
    "start_time": "2022-05-24T12:05:54.710Z"
   },
   {
    "duration": 18,
    "start_time": "2022-05-24T12:05:54.729Z"
   },
   {
    "duration": 689,
    "start_time": "2022-05-24T12:05:54.750Z"
   },
   {
    "duration": 18,
    "start_time": "2022-05-24T12:05:55.442Z"
   },
   {
    "duration": 50,
    "start_time": "2022-05-24T12:05:55.463Z"
   },
   {
    "duration": 32,
    "start_time": "2022-05-24T12:05:55.516Z"
   },
   {
    "duration": 47,
    "start_time": "2022-05-24T12:05:55.553Z"
   },
   {
    "duration": 40,
    "start_time": "2022-05-24T12:05:55.602Z"
   },
   {
    "duration": 29,
    "start_time": "2022-05-24T12:05:55.645Z"
   },
   {
    "duration": 51,
    "start_time": "2022-05-24T12:05:55.680Z"
   },
   {
    "duration": 29,
    "start_time": "2022-05-24T12:05:55.733Z"
   },
   {
    "duration": 33,
    "start_time": "2022-05-24T12:05:55.764Z"
   },
   {
    "duration": 25,
    "start_time": "2022-05-24T12:05:55.801Z"
   },
   {
    "duration": 66,
    "start_time": "2022-05-24T12:05:55.829Z"
   },
   {
    "duration": 41,
    "start_time": "2022-05-24T12:05:55.903Z"
   },
   {
    "duration": 30,
    "start_time": "2022-05-24T12:05:55.951Z"
   },
   {
    "duration": 66,
    "start_time": "2022-05-24T12:05:55.988Z"
   },
   {
    "duration": 13,
    "start_time": "2022-05-24T12:05:56.057Z"
   },
   {
    "duration": 37,
    "start_time": "2022-05-24T12:05:56.077Z"
   },
   {
    "duration": 54,
    "start_time": "2022-05-24T12:05:56.122Z"
   },
   {
    "duration": 83,
    "start_time": "2022-05-24T12:05:56.183Z"
   },
   {
    "duration": 94,
    "start_time": "2022-05-24T12:05:56.269Z"
   },
   {
    "duration": 24,
    "start_time": "2022-05-24T12:05:56.366Z"
   },
   {
    "duration": 20,
    "start_time": "2022-05-24T12:05:56.395Z"
   },
   {
    "duration": 65,
    "start_time": "2022-05-24T12:05:56.417Z"
   },
   {
    "duration": 20,
    "start_time": "2022-05-24T12:05:56.484Z"
   },
   {
    "duration": 92,
    "start_time": "2022-05-24T12:05:56.507Z"
   },
   {
    "duration": 26,
    "start_time": "2022-05-24T12:05:56.602Z"
   },
   {
    "duration": 16,
    "start_time": "2022-05-24T12:05:56.632Z"
   },
   {
    "duration": 26,
    "start_time": "2022-05-24T12:05:56.652Z"
   },
   {
    "duration": 31,
    "start_time": "2022-05-24T12:05:56.680Z"
   },
   {
    "duration": 53,
    "start_time": "2022-05-24T12:05:56.714Z"
   },
   {
    "duration": 28,
    "start_time": "2022-05-24T12:05:56.772Z"
   },
   {
    "duration": 99,
    "start_time": "2022-05-24T12:05:56.805Z"
   },
   {
    "duration": 12,
    "start_time": "2022-05-24T12:05:56.909Z"
   },
   {
    "duration": 47,
    "start_time": "2022-05-24T12:05:56.924Z"
   },
   {
    "duration": 39,
    "start_time": "2022-05-24T12:05:56.973Z"
   },
   {
    "duration": 27,
    "start_time": "2022-05-24T12:05:57.015Z"
   },
   {
    "duration": 4,
    "start_time": "2022-05-24T15:43:32.812Z"
   }
  ],
  "kernelspec": {
   "display_name": "Python 3 (ipykernel)",
   "language": "python",
   "name": "python3"
  },
  "language_info": {
   "codemirror_mode": {
    "name": "ipython",
    "version": 3
   },
   "file_extension": ".py",
   "mimetype": "text/x-python",
   "name": "python",
   "nbconvert_exporter": "python",
   "pygments_lexer": "ipython3",
   "version": "3.9.5"
  },
  "toc": {
   "base_numbering": 1,
   "nav_menu": {},
   "number_sections": true,
   "sideBar": true,
   "skip_h1_title": true,
   "title_cell": "Table of Contents",
   "title_sidebar": "Contents",
   "toc_cell": false,
   "toc_position": {},
   "toc_section_display": true,
   "toc_window_display": false
  }
 },
 "nbformat": 4,
 "nbformat_minor": 2
}
