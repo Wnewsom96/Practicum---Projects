{
  "nbformat": 4,
  "nbformat_minor": 0,
  "metadata": {
    "kernelspec": {
      "display_name": "Python 3",
      "language": "python",
      "name": "python3"
    },
    "language_info": {
      "codemirror_mode": {
        "name": "ipython",
        "version": 3
      },
      "file_extension": ".py",
      "mimetype": "text/x-python",
      "name": "python",
      "nbconvert_exporter": "python",
      "pygments_lexer": "ipython3",
      "version": "3.7.6"
    },
    "colab": {
      "name": "Basic_Python_Workshop.ipynb",
      "provenance": []
    }
  },
  "cells": [
    {
      "cell_type": "code",
      "source": [
        "from google.colab import drive\n",
        "drive.mount('/content/drive')"
      ],
      "metadata": {
        "id": "sdKWpsXgEIrn"
      },
      "execution_count": null,
      "outputs": []
    },
    {
      "cell_type": "code",
      "source": [
        "%cd '/content/drive/My Drive/Tutor/Workshops'\n",
        "!ls"
      ],
      "metadata": {
        "id": "SvBd4nbbESbv"
      },
      "execution_count": null,
      "outputs": []
    },
    {
      "cell_type": "markdown",
      "metadata": {
        "id": "3M2bq4EQdKdW"
      },
      "source": [
        "The goal of this workshop is to show that even without fully understanding data science we can analyze data.\n",
        " \n",
        "\n"
      ]
    },
    {
      "cell_type": "code",
      "metadata": {
        "id": "AJBVGpKQdKdX"
      },
      "source": [
        "import pandas as pd\n",
        "# from pandas import read_csv\n",
        "import numpy as np\n",
        "from matplotlib import pyplot as plt\n",
        "import seaborn as sns"
      ],
      "execution_count": 124,
      "outputs": []
    },
    {
      "cell_type": "code",
      "metadata": {
        "id": "5Pn8l6C6dKdY"
      },
      "source": [
        "data = pd.read_csv('archive.zip',sep=',')"
      ],
      "execution_count": 123,
      "outputs": []
    },
    {
      "cell_type": "code",
      "metadata": {
        "id": "s_rGrdK6dKdY",
        "outputId": "b1be4f4a-c2dd-4a40-809f-d575ebc381e3",
        "colab": {
          "base_uri": "https://localhost:8080/",
          "height": 423
        }
      },
      "source": [
        "data"
      ],
      "execution_count": 136,
      "outputs": [
        {
          "output_type": "execute_result",
          "data": {
            "text/html": [
              "\n",
              "  <div id=\"df-689ea265-44e1-4266-8772-721b68ad66f0\">\n",
              "    <div class=\"colab-df-container\">\n",
              "      <div>\n",
              "<style scoped>\n",
              "    .dataframe tbody tr th:only-of-type {\n",
              "        vertical-align: middle;\n",
              "    }\n",
              "\n",
              "    .dataframe tbody tr th {\n",
              "        vertical-align: top;\n",
              "    }\n",
              "\n",
              "    .dataframe thead th {\n",
              "        text-align: right;\n",
              "    }\n",
              "</style>\n",
              "<table border=\"1\" class=\"dataframe\">\n",
              "  <thead>\n",
              "    <tr style=\"text-align: right;\">\n",
              "      <th></th>\n",
              "      <th>Position</th>\n",
              "      <th>Track Name</th>\n",
              "      <th>Artist</th>\n",
              "      <th>Streams</th>\n",
              "      <th>URL</th>\n",
              "      <th>Date</th>\n",
              "      <th>Region</th>\n",
              "    </tr>\n",
              "  </thead>\n",
              "  <tbody>\n",
              "    <tr>\n",
              "      <th>0</th>\n",
              "      <td>1</td>\n",
              "      <td>Reggaetón Lento (Bailemos)</td>\n",
              "      <td>CNCO</td>\n",
              "      <td>19272</td>\n",
              "      <td>https://open.spotify.com/track/3AEZUABDXNtecAO...</td>\n",
              "      <td>2017-01-01</td>\n",
              "      <td>ec</td>\n",
              "    </tr>\n",
              "    <tr>\n",
              "      <th>1</th>\n",
              "      <td>2</td>\n",
              "      <td>Chantaje</td>\n",
              "      <td>Shakira</td>\n",
              "      <td>19270</td>\n",
              "      <td>https://open.spotify.com/track/6mICuAdrwEjh6Y6...</td>\n",
              "      <td>2017-01-01</td>\n",
              "      <td>ec</td>\n",
              "    </tr>\n",
              "    <tr>\n",
              "      <th>2</th>\n",
              "      <td>3</td>\n",
              "      <td>Otra Vez (feat. J Balvin)</td>\n",
              "      <td>Zion &amp; Lennox</td>\n",
              "      <td>15761</td>\n",
              "      <td>https://open.spotify.com/track/3QwBODjSEzelZyV...</td>\n",
              "      <td>2017-01-01</td>\n",
              "      <td>ec</td>\n",
              "    </tr>\n",
              "    <tr>\n",
              "      <th>3</th>\n",
              "      <td>4</td>\n",
              "      <td>Vente Pa' Ca</td>\n",
              "      <td>Ricky Martin</td>\n",
              "      <td>14954</td>\n",
              "      <td>https://open.spotify.com/track/7DM4BPaS7uofFul...</td>\n",
              "      <td>2017-01-01</td>\n",
              "      <td>ec</td>\n",
              "    </tr>\n",
              "    <tr>\n",
              "      <th>4</th>\n",
              "      <td>5</td>\n",
              "      <td>Safari</td>\n",
              "      <td>J Balvin</td>\n",
              "      <td>14269</td>\n",
              "      <td>https://open.spotify.com/track/6rQSrBHf7HlZjtc...</td>\n",
              "      <td>2017-01-01</td>\n",
              "      <td>ec</td>\n",
              "    </tr>\n",
              "    <tr>\n",
              "      <th>...</th>\n",
              "      <td>...</td>\n",
              "      <td>...</td>\n",
              "      <td>...</td>\n",
              "      <td>...</td>\n",
              "      <td>...</td>\n",
              "      <td>...</td>\n",
              "      <td>...</td>\n",
              "    </tr>\n",
              "    <tr>\n",
              "      <th>3441192</th>\n",
              "      <td>196</td>\n",
              "      <td>More Than You Know</td>\n",
              "      <td>Axwell /\\ Ingrosso</td>\n",
              "      <td>2126</td>\n",
              "      <td>https://open.spotify.com/track/71bBFbfn2OBK5Qw...</td>\n",
              "      <td>2018-01-09</td>\n",
              "      <td>hk</td>\n",
              "    </tr>\n",
              "    <tr>\n",
              "      <th>3441193</th>\n",
              "      <td>197</td>\n",
              "      <td>Issues</td>\n",
              "      <td>Julia Michaels</td>\n",
              "      <td>2117</td>\n",
              "      <td>https://open.spotify.com/track/7vu0JkJh0ldukEY...</td>\n",
              "      <td>2018-01-09</td>\n",
              "      <td>hk</td>\n",
              "    </tr>\n",
              "    <tr>\n",
              "      <th>3441194</th>\n",
              "      <td>198</td>\n",
              "      <td>Tuo Fei Lun</td>\n",
              "      <td>Eason Chan</td>\n",
              "      <td>2112</td>\n",
              "      <td>https://open.spotify.com/track/0pmGleExiQyd0Hx...</td>\n",
              "      <td>2018-01-09</td>\n",
              "      <td>hk</td>\n",
              "    </tr>\n",
              "    <tr>\n",
              "      <th>3441195</th>\n",
              "      <td>199</td>\n",
              "      <td>面具</td>\n",
              "      <td>Alfred Hui</td>\n",
              "      <td>2102</td>\n",
              "      <td>https://open.spotify.com/track/58SUsgamkW6vFFq...</td>\n",
              "      <td>2018-01-09</td>\n",
              "      <td>hk</td>\n",
              "    </tr>\n",
              "    <tr>\n",
              "      <th>3441196</th>\n",
              "      <td>200</td>\n",
              "      <td>Let Her Go</td>\n",
              "      <td>Passenger</td>\n",
              "      <td>2088</td>\n",
              "      <td>https://open.spotify.com/track/2jyjhRf6DVbMPU5...</td>\n",
              "      <td>2018-01-09</td>\n",
              "      <td>hk</td>\n",
              "    </tr>\n",
              "  </tbody>\n",
              "</table>\n",
              "<p>3441197 rows × 7 columns</p>\n",
              "</div>\n",
              "      <button class=\"colab-df-convert\" onclick=\"convertToInteractive('df-689ea265-44e1-4266-8772-721b68ad66f0')\"\n",
              "              title=\"Convert this dataframe to an interactive table.\"\n",
              "              style=\"display:none;\">\n",
              "        \n",
              "  <svg xmlns=\"http://www.w3.org/2000/svg\" height=\"24px\"viewBox=\"0 0 24 24\"\n",
              "       width=\"24px\">\n",
              "    <path d=\"M0 0h24v24H0V0z\" fill=\"none\"/>\n",
              "    <path d=\"M18.56 5.44l.94 2.06.94-2.06 2.06-.94-2.06-.94-.94-2.06-.94 2.06-2.06.94zm-11 1L8.5 8.5l.94-2.06 2.06-.94-2.06-.94L8.5 2.5l-.94 2.06-2.06.94zm10 10l.94 2.06.94-2.06 2.06-.94-2.06-.94-.94-2.06-.94 2.06-2.06.94z\"/><path d=\"M17.41 7.96l-1.37-1.37c-.4-.4-.92-.59-1.43-.59-.52 0-1.04.2-1.43.59L10.3 9.45l-7.72 7.72c-.78.78-.78 2.05 0 2.83L4 21.41c.39.39.9.59 1.41.59.51 0 1.02-.2 1.41-.59l7.78-7.78 2.81-2.81c.8-.78.8-2.07 0-2.86zM5.41 20L4 18.59l7.72-7.72 1.47 1.35L5.41 20z\"/>\n",
              "  </svg>\n",
              "      </button>\n",
              "      \n",
              "  <style>\n",
              "    .colab-df-container {\n",
              "      display:flex;\n",
              "      flex-wrap:wrap;\n",
              "      gap: 12px;\n",
              "    }\n",
              "\n",
              "    .colab-df-convert {\n",
              "      background-color: #E8F0FE;\n",
              "      border: none;\n",
              "      border-radius: 50%;\n",
              "      cursor: pointer;\n",
              "      display: none;\n",
              "      fill: #1967D2;\n",
              "      height: 32px;\n",
              "      padding: 0 0 0 0;\n",
              "      width: 32px;\n",
              "    }\n",
              "\n",
              "    .colab-df-convert:hover {\n",
              "      background-color: #E2EBFA;\n",
              "      box-shadow: 0px 1px 2px rgba(60, 64, 67, 0.3), 0px 1px 3px 1px rgba(60, 64, 67, 0.15);\n",
              "      fill: #174EA6;\n",
              "    }\n",
              "\n",
              "    [theme=dark] .colab-df-convert {\n",
              "      background-color: #3B4455;\n",
              "      fill: #D2E3FC;\n",
              "    }\n",
              "\n",
              "    [theme=dark] .colab-df-convert:hover {\n",
              "      background-color: #434B5C;\n",
              "      box-shadow: 0px 1px 3px 1px rgba(0, 0, 0, 0.15);\n",
              "      filter: drop-shadow(0px 1px 2px rgba(0, 0, 0, 0.3));\n",
              "      fill: #FFFFFF;\n",
              "    }\n",
              "  </style>\n",
              "\n",
              "      <script>\n",
              "        const buttonEl =\n",
              "          document.querySelector('#df-689ea265-44e1-4266-8772-721b68ad66f0 button.colab-df-convert');\n",
              "        buttonEl.style.display =\n",
              "          google.colab.kernel.accessAllowed ? 'block' : 'none';\n",
              "\n",
              "        async function convertToInteractive(key) {\n",
              "          const element = document.querySelector('#df-689ea265-44e1-4266-8772-721b68ad66f0');\n",
              "          const dataTable =\n",
              "            await google.colab.kernel.invokeFunction('convertToInteractive',\n",
              "                                                     [key], {});\n",
              "          if (!dataTable) return;\n",
              "\n",
              "          const docLinkHtml = 'Like what you see? Visit the ' +\n",
              "            '<a target=\"_blank\" href=https://colab.research.google.com/notebooks/data_table.ipynb>data table notebook</a>'\n",
              "            + ' to learn more about interactive tables.';\n",
              "          element.innerHTML = '';\n",
              "          dataTable['output_type'] = 'display_data';\n",
              "          await google.colab.output.renderOutput(dataTable, element);\n",
              "          const docLink = document.createElement('div');\n",
              "          docLink.innerHTML = docLinkHtml;\n",
              "          element.appendChild(docLink);\n",
              "        }\n",
              "      </script>\n",
              "    </div>\n",
              "  </div>\n",
              "  "
            ],
            "text/plain": [
              "         Position                  Track Name  ...        Date  Region\n",
              "0               1  Reggaetón Lento (Bailemos)  ...  2017-01-01      ec\n",
              "1               2                    Chantaje  ...  2017-01-01      ec\n",
              "2               3   Otra Vez (feat. J Balvin)  ...  2017-01-01      ec\n",
              "3               4                Vente Pa' Ca  ...  2017-01-01      ec\n",
              "4               5                      Safari  ...  2017-01-01      ec\n",
              "...           ...                         ...  ...         ...     ...\n",
              "3441192       196          More Than You Know  ...  2018-01-09      hk\n",
              "3441193       197                      Issues  ...  2018-01-09      hk\n",
              "3441194       198                 Tuo Fei Lun  ...  2018-01-09      hk\n",
              "3441195       199                          面具  ...  2018-01-09      hk\n",
              "3441196       200                  Let Her Go  ...  2018-01-09      hk\n",
              "\n",
              "[3441197 rows x 7 columns]"
            ]
          },
          "metadata": {},
          "execution_count": 136
        }
      ]
    },
    {
      "cell_type": "markdown",
      "metadata": {
        "id": "0Z9ByOoMdKd1"
      },
      "source": [
        "During the workshop, we will show students how they can answer the following questions with the methods they've already learned:<br>\n",
        "> 1. What was the total number of streams? What was the largest number of streams for a song, position, date and region?\n",
        "What is the average number of streams?<br>\n",
        "> 2. How Many times did Maroon 5 get into top rated? What songs did they have? What artists did they collaborate with? How many of their remixes were in the chart?\n",
        ">3. What is the distribution of the rows of data among regions? Do not include 'global' regions in your calculations. What is the least represented region and its %?"
      ]
    },
    {
      "cell_type": "markdown",
      "source": [
        "# This is a Title\n",
        "\n",
        "\n",
        "*   Hello\n",
        "*   Lword\n",
        "\n"
      ],
      "metadata": {
        "id": "gEKrgdl3GaA3"
      }
    },
    {
      "cell_type": "markdown",
      "metadata": {
        "id": "v8bCo3NndKd2"
      },
      "source": [
        "### 1. What was the total number of streams? What was the largest number of streams for a song, position, date and region?"
      ]
    },
    {
      "cell_type": "code",
      "source": [
        "data.head(1)"
      ],
      "metadata": {
        "colab": {
          "base_uri": "https://localhost:8080/",
          "height": 81
        },
        "id": "OCUZY5nHB5WX",
        "outputId": "9350b9d3-38dc-4f42-b426-0a5aeb541738"
      },
      "execution_count": 126,
      "outputs": [
        {
          "output_type": "execute_result",
          "data": {
            "text/html": [
              "\n",
              "  <div id=\"df-e8b420bf-2cbb-443f-9eb8-e7d2e53ecc63\">\n",
              "    <div class=\"colab-df-container\">\n",
              "      <div>\n",
              "<style scoped>\n",
              "    .dataframe tbody tr th:only-of-type {\n",
              "        vertical-align: middle;\n",
              "    }\n",
              "\n",
              "    .dataframe tbody tr th {\n",
              "        vertical-align: top;\n",
              "    }\n",
              "\n",
              "    .dataframe thead th {\n",
              "        text-align: right;\n",
              "    }\n",
              "</style>\n",
              "<table border=\"1\" class=\"dataframe\">\n",
              "  <thead>\n",
              "    <tr style=\"text-align: right;\">\n",
              "      <th></th>\n",
              "      <th>Position</th>\n",
              "      <th>Track Name</th>\n",
              "      <th>Artist</th>\n",
              "      <th>Streams</th>\n",
              "      <th>URL</th>\n",
              "      <th>Date</th>\n",
              "      <th>Region</th>\n",
              "    </tr>\n",
              "  </thead>\n",
              "  <tbody>\n",
              "    <tr>\n",
              "      <th>0</th>\n",
              "      <td>1</td>\n",
              "      <td>Reggaetón Lento (Bailemos)</td>\n",
              "      <td>CNCO</td>\n",
              "      <td>19272</td>\n",
              "      <td>https://open.spotify.com/track/3AEZUABDXNtecAO...</td>\n",
              "      <td>2017-01-01</td>\n",
              "      <td>ec</td>\n",
              "    </tr>\n",
              "  </tbody>\n",
              "</table>\n",
              "</div>\n",
              "      <button class=\"colab-df-convert\" onclick=\"convertToInteractive('df-e8b420bf-2cbb-443f-9eb8-e7d2e53ecc63')\"\n",
              "              title=\"Convert this dataframe to an interactive table.\"\n",
              "              style=\"display:none;\">\n",
              "        \n",
              "  <svg xmlns=\"http://www.w3.org/2000/svg\" height=\"24px\"viewBox=\"0 0 24 24\"\n",
              "       width=\"24px\">\n",
              "    <path d=\"M0 0h24v24H0V0z\" fill=\"none\"/>\n",
              "    <path d=\"M18.56 5.44l.94 2.06.94-2.06 2.06-.94-2.06-.94-.94-2.06-.94 2.06-2.06.94zm-11 1L8.5 8.5l.94-2.06 2.06-.94-2.06-.94L8.5 2.5l-.94 2.06-2.06.94zm10 10l.94 2.06.94-2.06 2.06-.94-2.06-.94-.94-2.06-.94 2.06-2.06.94z\"/><path d=\"M17.41 7.96l-1.37-1.37c-.4-.4-.92-.59-1.43-.59-.52 0-1.04.2-1.43.59L10.3 9.45l-7.72 7.72c-.78.78-.78 2.05 0 2.83L4 21.41c.39.39.9.59 1.41.59.51 0 1.02-.2 1.41-.59l7.78-7.78 2.81-2.81c.8-.78.8-2.07 0-2.86zM5.41 20L4 18.59l7.72-7.72 1.47 1.35L5.41 20z\"/>\n",
              "  </svg>\n",
              "      </button>\n",
              "      \n",
              "  <style>\n",
              "    .colab-df-container {\n",
              "      display:flex;\n",
              "      flex-wrap:wrap;\n",
              "      gap: 12px;\n",
              "    }\n",
              "\n",
              "    .colab-df-convert {\n",
              "      background-color: #E8F0FE;\n",
              "      border: none;\n",
              "      border-radius: 50%;\n",
              "      cursor: pointer;\n",
              "      display: none;\n",
              "      fill: #1967D2;\n",
              "      height: 32px;\n",
              "      padding: 0 0 0 0;\n",
              "      width: 32px;\n",
              "    }\n",
              "\n",
              "    .colab-df-convert:hover {\n",
              "      background-color: #E2EBFA;\n",
              "      box-shadow: 0px 1px 2px rgba(60, 64, 67, 0.3), 0px 1px 3px 1px rgba(60, 64, 67, 0.15);\n",
              "      fill: #174EA6;\n",
              "    }\n",
              "\n",
              "    [theme=dark] .colab-df-convert {\n",
              "      background-color: #3B4455;\n",
              "      fill: #D2E3FC;\n",
              "    }\n",
              "\n",
              "    [theme=dark] .colab-df-convert:hover {\n",
              "      background-color: #434B5C;\n",
              "      box-shadow: 0px 1px 3px 1px rgba(0, 0, 0, 0.15);\n",
              "      filter: drop-shadow(0px 1px 2px rgba(0, 0, 0, 0.3));\n",
              "      fill: #FFFFFF;\n",
              "    }\n",
              "  </style>\n",
              "\n",
              "      <script>\n",
              "        const buttonEl =\n",
              "          document.querySelector('#df-e8b420bf-2cbb-443f-9eb8-e7d2e53ecc63 button.colab-df-convert');\n",
              "        buttonEl.style.display =\n",
              "          google.colab.kernel.accessAllowed ? 'block' : 'none';\n",
              "\n",
              "        async function convertToInteractive(key) {\n",
              "          const element = document.querySelector('#df-e8b420bf-2cbb-443f-9eb8-e7d2e53ecc63');\n",
              "          const dataTable =\n",
              "            await google.colab.kernel.invokeFunction('convertToInteractive',\n",
              "                                                     [key], {});\n",
              "          if (!dataTable) return;\n",
              "\n",
              "          const docLinkHtml = 'Like what you see? Visit the ' +\n",
              "            '<a target=\"_blank\" href=https://colab.research.google.com/notebooks/data_table.ipynb>data table notebook</a>'\n",
              "            + ' to learn more about interactive tables.';\n",
              "          element.innerHTML = '';\n",
              "          dataTable['output_type'] = 'display_data';\n",
              "          await google.colab.output.renderOutput(dataTable, element);\n",
              "          const docLink = document.createElement('div');\n",
              "          docLink.innerHTML = docLinkHtml;\n",
              "          element.appendChild(docLink);\n",
              "        }\n",
              "      </script>\n",
              "    </div>\n",
              "  </div>\n",
              "  "
            ],
            "text/plain": [
              "   Position                  Track Name  ...        Date  Region\n",
              "0         1  Reggaetón Lento (Bailemos)  ...  2017-01-01      ec\n",
              "\n",
              "[1 rows x 7 columns]"
            ]
          },
          "metadata": {},
          "execution_count": 126
        }
      ]
    },
    {
      "cell_type": "code",
      "metadata": {
        "id": "UMF6CmtNdKd3"
      },
      "source": [
        "stream=data.Streams.to_list()"
      ],
      "execution_count": 137,
      "outputs": []
    },
    {
      "cell_type": "code",
      "source": [
        "stream"
      ],
      "metadata": {
        "colab": {
          "base_uri": "https://localhost:8080/"
        },
        "id": "jU-7SDX343N6",
        "outputId": "9dae60ce-823d-4a50-ea35-cb0c4f68f425"
      },
      "execution_count": 138,
      "outputs": [
        {
          "output_type": "execute_result",
          "data": {
            "text/plain": [
              "[19272,\n",
              " 19270,\n",
              " 15761,\n",
              " 14954,\n",
              " 14269,\n",
              " 12843,\n",
              " 10986,\n",
              " 10653,\n",
              " 9807,\n",
              " 9612,\n",
              " 9611,\n",
              " 8982,\n",
              " 8834,\n",
              " 8309,\n",
              " 7822,\n",
              " 7586,\n",
              " 7472,\n",
              " 7416,\n",
              " 7006,\n",
              " 6779,\n",
              " 6582,\n",
              " 6521,\n",
              " 6261,\n",
              " 6237,\n",
              " 6028,\n",
              " 5723,\n",
              " 5601,\n",
              " 5586,\n",
              " 5541,\n",
              " 5362,\n",
              " 5259,\n",
              " 5198,\n",
              " 5160,\n",
              " 5025,\n",
              " 5001,\n",
              " 4933,\n",
              " 4781,\n",
              " 4644,\n",
              " 4609,\n",
              " 4379,\n",
              " 4300,\n",
              " 4286,\n",
              " 4205,\n",
              " 4103,\n",
              " 3941,\n",
              " 3734,\n",
              " 3721,\n",
              " 3467,\n",
              " 3467,\n",
              " 3376,\n",
              " 3368,\n",
              " 3356,\n",
              " 3321,\n",
              " 3275,\n",
              " 3180,\n",
              " 3085,\n",
              " 3022,\n",
              " 3005,\n",
              " 2967,\n",
              " 2955,\n",
              " 2922,\n",
              " 2863,\n",
              " 2860,\n",
              " 2817,\n",
              " 2815,\n",
              " 2801,\n",
              " 2684,\n",
              " 2663,\n",
              " 2611,\n",
              " 2604,\n",
              " 2581,\n",
              " 2554,\n",
              " 2493,\n",
              " 2482,\n",
              " 2446,\n",
              " 2442,\n",
              " 2440,\n",
              " 2429,\n",
              " 2370,\n",
              " 2351,\n",
              " 2347,\n",
              " 2330,\n",
              " 2329,\n",
              " 2327,\n",
              " 2312,\n",
              " 2304,\n",
              " 2292,\n",
              " 2290,\n",
              " 2218,\n",
              " 2212,\n",
              " 2212,\n",
              " 2202,\n",
              " 2183,\n",
              " 2175,\n",
              " 2165,\n",
              " 2150,\n",
              " 2140,\n",
              " 2135,\n",
              " 2109,\n",
              " 2101,\n",
              " 2079,\n",
              " 2071,\n",
              " 2038,\n",
              " 2035,\n",
              " 1982,\n",
              " 1981,\n",
              " 1962,\n",
              " 1874,\n",
              " 1871,\n",
              " 1861,\n",
              " 1852,\n",
              " 1826,\n",
              " 1822,\n",
              " 1819,\n",
              " 1818,\n",
              " 1812,\n",
              " 1812,\n",
              " 1801,\n",
              " 1791,\n",
              " 1780,\n",
              " 1746,\n",
              " 1743,\n",
              " 1741,\n",
              " 1715,\n",
              " 1712,\n",
              " 1688,\n",
              " 1675,\n",
              " 1673,\n",
              " 1672,\n",
              " 1665,\n",
              " 1657,\n",
              " 1652,\n",
              " 1638,\n",
              " 1628,\n",
              " 1615,\n",
              " 1599,\n",
              " 1595,\n",
              " 1594,\n",
              " 1593,\n",
              " 1585,\n",
              " 1559,\n",
              " 1553,\n",
              " 1540,\n",
              " 1521,\n",
              " 1499,\n",
              " 1486,\n",
              " 1484,\n",
              " 1479,\n",
              " 1466,\n",
              " 1461,\n",
              " 1454,\n",
              " 1454,\n",
              " 1454,\n",
              " 1440,\n",
              " 1433,\n",
              " 1427,\n",
              " 1420,\n",
              " 1416,\n",
              " 1415,\n",
              " 1411,\n",
              " 1406,\n",
              " 1403,\n",
              " 1396,\n",
              " 1394,\n",
              " 1380,\n",
              " 1377,\n",
              " 1377,\n",
              " 1372,\n",
              " 1364,\n",
              " 1363,\n",
              " 1353,\n",
              " 1346,\n",
              " 1335,\n",
              " 1328,\n",
              " 1327,\n",
              " 1324,\n",
              " 1315,\n",
              " 1315,\n",
              " 1313,\n",
              " 1302,\n",
              " 1301,\n",
              " 1298,\n",
              " 1295,\n",
              " 1294,\n",
              " 1285,\n",
              " 1285,\n",
              " 1281,\n",
              " 1272,\n",
              " 1265,\n",
              " 1264,\n",
              " 1264,\n",
              " 1258,\n",
              " 1247,\n",
              " 1239,\n",
              " 1237,\n",
              " 1236,\n",
              " 1233,\n",
              " 1230,\n",
              " 1225,\n",
              " 1223,\n",
              " 16672,\n",
              " 15594,\n",
              " 13507,\n",
              " 11958,\n",
              " 11590,\n",
              " 9096,\n",
              " 9023,\n",
              " 8511,\n",
              " 8288,\n",
              " 8205,\n",
              " 8075,\n",
              " 8048,\n",
              " 7732,\n",
              " 7437,\n",
              " 7330,\n",
              " 6974,\n",
              " 6905,\n",
              " 6883,\n",
              " 6370,\n",
              " 6287,\n",
              " 6205,\n",
              " 6032,\n",
              " 5875,\n",
              " 5822,\n",
              " 5643,\n",
              " 5500,\n",
              " 5363,\n",
              " 4915,\n",
              " 4912,\n",
              " 4894,\n",
              " 4888,\n",
              " 4879,\n",
              " 4762,\n",
              " 4708,\n",
              " 4692,\n",
              " 4569,\n",
              " 4520,\n",
              " 4498,\n",
              " 4417,\n",
              " 4309,\n",
              " 4284,\n",
              " 4149,\n",
              " 3976,\n",
              " 3975,\n",
              " 3970,\n",
              " 3910,\n",
              " 3751,\n",
              " 3618,\n",
              " 3545,\n",
              " 3484,\n",
              " 3450,\n",
              " 3361,\n",
              " 3321,\n",
              " 3194,\n",
              " 3126,\n",
              " 3118,\n",
              " 3081,\n",
              " 3060,\n",
              " 3052,\n",
              " 3001,\n",
              " 2996,\n",
              " 2919,\n",
              " 2912,\n",
              " 2805,\n",
              " 2797,\n",
              " 2673,\n",
              " 2652,\n",
              " 2602,\n",
              " 2519,\n",
              " 2497,\n",
              " 2460,\n",
              " 2436,\n",
              " 2430,\n",
              " 2430,\n",
              " 2429,\n",
              " 2355,\n",
              " 2344,\n",
              " 2335,\n",
              " 2317,\n",
              " 2293,\n",
              " 2269,\n",
              " 2260,\n",
              " 2255,\n",
              " 2238,\n",
              " 2220,\n",
              " 2183,\n",
              " 2173,\n",
              " 2138,\n",
              " 2135,\n",
              " 2123,\n",
              " 2119,\n",
              " 2112,\n",
              " 2084,\n",
              " 2067,\n",
              " 2051,\n",
              " 2051,\n",
              " 2047,\n",
              " 2038,\n",
              " 2035,\n",
              " 2019,\n",
              " 2016,\n",
              " 1998,\n",
              " 1962,\n",
              " 1955,\n",
              " 1954,\n",
              " 1952,\n",
              " 1921,\n",
              " 1893,\n",
              " 1892,\n",
              " 1888,\n",
              " 1869,\n",
              " 1861,\n",
              " 1838,\n",
              " 1811,\n",
              " 1796,\n",
              " 1789,\n",
              " 1788,\n",
              " 1783,\n",
              " 1783,\n",
              " 1778,\n",
              " 1777,\n",
              " 1773,\n",
              " 1765,\n",
              " 1760,\n",
              " 1712,\n",
              " 1684,\n",
              " 1671,\n",
              " 1665,\n",
              " 1663,\n",
              " 1630,\n",
              " 1623,\n",
              " 1622,\n",
              " 1618,\n",
              " 1613,\n",
              " 1602,\n",
              " 1597,\n",
              " 1591,\n",
              " 1588,\n",
              " 1577,\n",
              " 1569,\n",
              " 1561,\n",
              " 1548,\n",
              " 1529,\n",
              " 1519,\n",
              " 1501,\n",
              " 1496,\n",
              " 1476,\n",
              " 1473,\n",
              " 1458,\n",
              " 1457,\n",
              " 1455,\n",
              " 1433,\n",
              " 1414,\n",
              " 1406,\n",
              " 1394,\n",
              " 1386,\n",
              " 1384,\n",
              " 1379,\n",
              " 1379,\n",
              " 1371,\n",
              " 1364,\n",
              " 1364,\n",
              " 1358,\n",
              " 1357,\n",
              " 1345,\n",
              " 1344,\n",
              " 1316,\n",
              " 1316,\n",
              " 1311,\n",
              " 1309,\n",
              " 1306,\n",
              " 1298,\n",
              " 1297,\n",
              " 1294,\n",
              " 1293,\n",
              " 1291,\n",
              " 1288,\n",
              " 1286,\n",
              " 1285,\n",
              " 1280,\n",
              " 1271,\n",
              " 1268,\n",
              " 1265,\n",
              " 1265,\n",
              " 1260,\n",
              " 1256,\n",
              " 1252,\n",
              " 1250,\n",
              " 1248,\n",
              " 1246,\n",
              " 1246,\n",
              " 1246,\n",
              " 1243,\n",
              " 1241,\n",
              " 1230,\n",
              " 1218,\n",
              " 1216,\n",
              " 1214,\n",
              " 1209,\n",
              " 1209,\n",
              " 17258,\n",
              " 16614,\n",
              " 14148,\n",
              " 12336,\n",
              " 12280,\n",
              " 10652,\n",
              " 9519,\n",
              " 9244,\n",
              " 9032,\n",
              " 8993,\n",
              " 8676,\n",
              " 8425,\n",
              " 8357,\n",
              " 8281,\n",
              " 8039,\n",
              " 7821,\n",
              " 7772,\n",
              " 7395,\n",
              " 7229,\n",
              " 6990,\n",
              " 6854,\n",
              " 6686,\n",
              " 6646,\n",
              " 6118,\n",
              " 6106,\n",
              " 6050,\n",
              " 5927,\n",
              " 5791,\n",
              " 5602,\n",
              " 5535,\n",
              " 5436,\n",
              " 5430,\n",
              " 5361,\n",
              " 5108,\n",
              " 5102,\n",
              " 5014,\n",
              " 4984,\n",
              " 4974,\n",
              " 4891,\n",
              " 4629,\n",
              " 4443,\n",
              " 4442,\n",
              " 4345,\n",
              " 4244,\n",
              " 4233,\n",
              " 4173,\n",
              " 4085,\n",
              " 3973,\n",
              " 3935,\n",
              " 3904,\n",
              " 3626,\n",
              " 3582,\n",
              " 3554,\n",
              " 3467,\n",
              " 3448,\n",
              " 3336,\n",
              " 3327,\n",
              " 3300,\n",
              " 3254,\n",
              " 3191,\n",
              " 3185,\n",
              " 3176,\n",
              " 3160,\n",
              " 3105,\n",
              " 3095,\n",
              " 3076,\n",
              " 3017,\n",
              " 3008,\n",
              " 2997,\n",
              " 2946,\n",
              " 2830,\n",
              " 2788,\n",
              " 2761,\n",
              " 2738,\n",
              " 2732,\n",
              " 2683,\n",
              " 2651,\n",
              " 2641,\n",
              " 2594,\n",
              " 2588,\n",
              " 2574,\n",
              " 2573,\n",
              " 2541,\n",
              " 2538,\n",
              " 2523,\n",
              " 2502,\n",
              " 2491,\n",
              " 2464,\n",
              " 2455,\n",
              " 2425,\n",
              " 2411,\n",
              " 2361,\n",
              " 2357,\n",
              " 2355,\n",
              " 2296,\n",
              " 2234,\n",
              " 2227,\n",
              " 2165,\n",
              " 2159,\n",
              " 2151,\n",
              " 2140,\n",
              " 2138,\n",
              " 2126,\n",
              " 2124,\n",
              " 2094,\n",
              " 2092,\n",
              " 2091,\n",
              " 2073,\n",
              " 2060,\n",
              " 2058,\n",
              " 2051,\n",
              " 2044,\n",
              " 2026,\n",
              " 2015,\n",
              " 1983,\n",
              " 1974,\n",
              " 1939,\n",
              " 1930,\n",
              " 1909,\n",
              " 1885,\n",
              " 1879,\n",
              " 1876,\n",
              " 1876,\n",
              " 1863,\n",
              " 1861,\n",
              " 1852,\n",
              " 1836,\n",
              " 1827,\n",
              " 1800,\n",
              " 1765,\n",
              " 1762,\n",
              " 1751,\n",
              " 1746,\n",
              " 1746,\n",
              " 1743,\n",
              " 1736,\n",
              " 1731,\n",
              " 1729,\n",
              " 1710,\n",
              " 1707,\n",
              " 1703,\n",
              " 1688,\n",
              " 1686,\n",
              " 1670,\n",
              " 1668,\n",
              " 1659,\n",
              " 1639,\n",
              " 1639,\n",
              " 1635,\n",
              " 1624,\n",
              " 1616,\n",
              " 1601,\n",
              " 1600,\n",
              " 1585,\n",
              " 1582,\n",
              " 1581,\n",
              " 1581,\n",
              " 1573,\n",
              " 1567,\n",
              " 1566,\n",
              " 1546,\n",
              " 1521,\n",
              " 1516,\n",
              " 1515,\n",
              " 1513,\n",
              " 1504,\n",
              " 1491,\n",
              " 1481,\n",
              " 1479,\n",
              " 1475,\n",
              " 1474,\n",
              " 1467,\n",
              " 1466,\n",
              " 1461,\n",
              " 1460,\n",
              " 1459,\n",
              " 1456,\n",
              " 1449,\n",
              " 1439,\n",
              " 1425,\n",
              " 1420,\n",
              " 1420,\n",
              " 1412,\n",
              " 1411,\n",
              " 1408,\n",
              " 1407,\n",
              " 1406,\n",
              " 1398,\n",
              " 1398,\n",
              " 1396,\n",
              " 1393,\n",
              " 1391,\n",
              " 1389,\n",
              " 1383,\n",
              " 1360,\n",
              " 1357,\n",
              " 1351,\n",
              " 1349,\n",
              " 1349,\n",
              " 1347,\n",
              " 18146,\n",
              " 16582,\n",
              " 14602,\n",
              " 12413,\n",
              " 12386,\n",
              " 11303,\n",
              " 10134,\n",
              " 9747,\n",
              " 9544,\n",
              " 9073,\n",
              " 8903,\n",
              " 8808,\n",
              " 8241,\n",
              " 7978,\n",
              " 7901,\n",
              " 7794,\n",
              " 7708,\n",
              " 7621,\n",
              " 7338,\n",
              " 7116,\n",
              " 6856,\n",
              " 6757,\n",
              " 6700,\n",
              " 6466,\n",
              " 6358,\n",
              " 6240,\n",
              " 6153,\n",
              " 5814,\n",
              " 5798,\n",
              " 5772,\n",
              " 5706,\n",
              " 5623,\n",
              " 5445,\n",
              " 5429,\n",
              " 5272,\n",
              " 5137,\n",
              " 5100,\n",
              " 4993,\n",
              " 4791,\n",
              " 4742,\n",
              " 4699,\n",
              " 4686,\n",
              " 4557,\n",
              " 4483,\n",
              " 4300,\n",
              " 4289,\n",
              " 4236,\n",
              " 4219,\n",
              " 4105,\n",
              " 4103,\n",
              " 3974,\n",
              " 3566,\n",
              " 3551,\n",
              " 3445,\n",
              " 3420,\n",
              " 3405,\n",
              " 3344,\n",
              " 3336,\n",
              " 3327,\n",
              " 3257,\n",
              " 3243,\n",
              " 3211,\n",
              " 3158,\n",
              " 3141,\n",
              " 3090,\n",
              " 3074,\n",
              " 3060,\n",
              " 2986,\n",
              " 2969,\n",
              " 2949,\n",
              " 2944,\n",
              " 2940,\n",
              " 2891,\n",
              " 2873,\n",
              " 2857,\n",
              " 2843,\n",
              " 2838,\n",
              " 2814,\n",
              " 2782,\n",
              " 2757,\n",
              " 2713,\n",
              " 2679,\n",
              " 2665,\n",
              " 2644,\n",
              " 2644,\n",
              " 2620,\n",
              " 2605,\n",
              " 2534,\n",
              " 2518,\n",
              " 2503,\n",
              " 2497,\n",
              " 2495,\n",
              " 2489,\n",
              " 2455,\n",
              " 2436,\n",
              " 2417,\n",
              " 2338,\n",
              " 2318,\n",
              " 2305,\n",
              " 2292,\n",
              " 2262,\n",
              " 2259,\n",
              " 2205,\n",
              " 2202,\n",
              " 2199,\n",
              " 2187,\n",
              " 2175,\n",
              " 2168,\n",
              " 2124,\n",
              " 2115,\n",
              " 2111,\n",
              " 2095,\n",
              " 2092,\n",
              " 2089,\n",
              " 2083,\n",
              " 2060,\n",
              " 2030,\n",
              " 2015,\n",
              " 1957,\n",
              " 1957,\n",
              " 1951,\n",
              " 1933,\n",
              " 1917,\n",
              " 1915,\n",
              " 1914,\n",
              " 1894,\n",
              " 1893,\n",
              " 1890,\n",
              " 1871,\n",
              " 1852,\n",
              " 1828,\n",
              " 1787,\n",
              " 1754,\n",
              " 1750,\n",
              " 1749,\n",
              " 1746,\n",
              " 1733,\n",
              " 1728,\n",
              " 1717,\n",
              " 1712,\n",
              " 1691,\n",
              " 1675,\n",
              " 1673,\n",
              " 1655,\n",
              " 1652,\n",
              " 1649,\n",
              " 1643,\n",
              " 1637,\n",
              " 1622,\n",
              " 1614,\n",
              " 1600,\n",
              " 1594,\n",
              " 1593,\n",
              " 1588,\n",
              " 1586,\n",
              " 1584,\n",
              " 1578,\n",
              " 1577,\n",
              " 1574,\n",
              " 1571,\n",
              " 1570,\n",
              " 1569,\n",
              " 1566,\n",
              " 1566,\n",
              " 1555,\n",
              " 1545,\n",
              " 1542,\n",
              " 1531,\n",
              " 1526,\n",
              " 1515,\n",
              " 1510,\n",
              " 1501,\n",
              " 1490,\n",
              " 1490,\n",
              " 1489,\n",
              " 1479,\n",
              " 1474,\n",
              " 1473,\n",
              " 1473,\n",
              " 1472,\n",
              " 1472,\n",
              " 1470,\n",
              " 1460,\n",
              " 1454,\n",
              " 1444,\n",
              " 1440,\n",
              " 1439,\n",
              " 1439,\n",
              " 1434,\n",
              " 1421,\n",
              " 1418,\n",
              " 1414,\n",
              " 1411,\n",
              " 1408,\n",
              " 1400,\n",
              " 1398,\n",
              " 1397,\n",
              " 1393,\n",
              " 1390,\n",
              " 1387,\n",
              " 17788,\n",
              " 16254,\n",
              " 14529,\n",
              " 12337,\n",
              " 12102,\n",
              " 10765,\n",
              " 10379,\n",
              " 9666,\n",
              " 9384,\n",
              " 8874,\n",
              " 8307,\n",
              " 8305,\n",
              " 8162,\n",
              " 7900,\n",
              " 7749,\n",
              " 7706,\n",
              " 7578,\n",
              " 7569,\n",
              " 7523,\n",
              " 7399,\n",
              " 6594,\n",
              " 6483,\n",
              " 6360,\n",
              " 6279,\n",
              " 6221,\n",
              " 6107,\n",
              " 5966,\n",
              " 5826,\n",
              " 5822,\n",
              " 5782,\n",
              " 5730,\n",
              " 5460,\n",
              " 5407,\n",
              " 5265,\n",
              " 5106,\n",
              " 5070,\n",
              " 5066,\n",
              " 4922,\n",
              " 4855,\n",
              " 4727,\n",
              " 4714,\n",
              " 4544,\n",
              " 4430,\n",
              " 4420,\n",
              " 4396,\n",
              " 4384,\n",
              " 4252,\n",
              " 4243,\n",
              " 4070,\n",
              " 4006,\n",
              " 3998,\n",
              " 3700,\n",
              " 3608,\n",
              " 3596,\n",
              " 3446,\n",
              " 3302,\n",
              " 3296,\n",
              " 3273,\n",
              " 3258,\n",
              " 3235,\n",
              " 3228,\n",
              " 3180,\n",
              " 3119,\n",
              " 3084,\n",
              " 3078,\n",
              " 3040,\n",
              " 2980,\n",
              " 2970,\n",
              " 2964,\n",
              " 2960,\n",
              " 2953,\n",
              " 2923,\n",
              " 2919,\n",
              " 2910,\n",
              " 2869,\n",
              " 2825,\n",
              " 2811,\n",
              " 2804,\n",
              " 2799,\n",
              " 2788,\n",
              " 2778,\n",
              " 2748,\n",
              " 2677,\n",
              " 2650,\n",
              " 2646,\n",
              " 2595,\n",
              " 2571,\n",
              " 2567,\n",
              " 2541,\n",
              " 2515,\n",
              " 2506,\n",
              " 2505,\n",
              " 2500,\n",
              " 2475,\n",
              " 2455,\n",
              " 2395,\n",
              " 2395,\n",
              " 2389,\n",
              " 2369,\n",
              " 2328,\n",
              " 2304,\n",
              " 2282,\n",
              " 2266,\n",
              " 2260,\n",
              " 2245,\n",
              " 2242,\n",
              " 2237,\n",
              " 2237,\n",
              " 2236,\n",
              " 2208,\n",
              " 2199,\n",
              " 2198,\n",
              " 2186,\n",
              " 2182,\n",
              " 2144,\n",
              " 2125,\n",
              " 2103,\n",
              " 2091,\n",
              " 2080,\n",
              " 2079,\n",
              " 2045,\n",
              " 2040,\n",
              " 2008,\n",
              " 2002,\n",
              " 1966,\n",
              " 1960,\n",
              " 1959,\n",
              " 1936,\n",
              " 1924,\n",
              " 1917,\n",
              " 1908,\n",
              " 1880,\n",
              " 1827,\n",
              " 1824,\n",
              " 1815,\n",
              " 1802,\n",
              " 1786,\n",
              " 1763,\n",
              " 1763,\n",
              " 1759,\n",
              " 1759,\n",
              " 1742,\n",
              " 1741,\n",
              " 1724,\n",
              " 1716,\n",
              " 1693,\n",
              " 1686,\n",
              " 1686,\n",
              " 1683,\n",
              " 1669,\n",
              " 1666,\n",
              " 1658,\n",
              " 1653,\n",
              " 1651,\n",
              " 1643,\n",
              " 1636,\n",
              " 1634,\n",
              " 1632,\n",
              " 1620,\n",
              " 1602,\n",
              " 1594,\n",
              " 1592,\n",
              " 1591,\n",
              " 1590,\n",
              " 1584,\n",
              " 1579,\n",
              " 1578,\n",
              " 1577,\n",
              " 1575,\n",
              " 1571,\n",
              " 1566,\n",
              " 1554,\n",
              " 1544,\n",
              " 1542,\n",
              " 1541,\n",
              " 1540,\n",
              " 1538,\n",
              " 1530,\n",
              " 1527,\n",
              " 1527,\n",
              " 1520,\n",
              " 1505,\n",
              " 1493,\n",
              " 1493,\n",
              " 1472,\n",
              " 1464,\n",
              " 1462,\n",
              " 1460,\n",
              " 1459,\n",
              " 1455,\n",
              " 1452,\n",
              " 1449,\n",
              " 1444,\n",
              " 1443,\n",
              " 1436,\n",
              " 1435,\n",
              " 1431,\n",
              " 1430,\n",
              " 1414,\n",
              " 1408,\n",
              " ...]"
            ]
          },
          "metadata": {},
          "execution_count": 138
        }
      ]
    },
    {
      "cell_type": "markdown",
      "metadata": {
        "id": "uKvUDhyUdKd3"
      },
      "source": [
        "#### What was the largest number of streams?\n"
      ]
    },
    {
      "cell_type": "code",
      "metadata": {
        "id": "g9RPvs9EdKd4",
        "outputId": "346a0732-0be0-4e89-a771-6333d65a646e",
        "colab": {
          "base_uri": "https://localhost:8080/"
        }
      },
      "source": [
        "#option 1\n",
        "stream.sort(reverse=True)\n",
        "stream[0]"
      ],
      "execution_count": 141,
      "outputs": [
        {
          "output_type": "execute_result",
          "data": {
            "text/plain": [
              "11381520"
            ]
          },
          "metadata": {},
          "execution_count": 141
        }
      ]
    },
    {
      "cell_type": "code",
      "metadata": {
        "id": "W1cF7CbpdKd4",
        "outputId": "9956396f-2086-41ed-893e-e857679934fe",
        "colab": {
          "base_uri": "https://localhost:8080/"
        }
      },
      "source": [
        "#option 2\n",
        "max(stream)"
      ],
      "execution_count": 130,
      "outputs": [
        {
          "output_type": "execute_result",
          "data": {
            "text/plain": [
              "11381520"
            ]
          },
          "metadata": {},
          "execution_count": 130
        }
      ]
    },
    {
      "cell_type": "markdown",
      "metadata": {
        "id": "YcuweyFqdKd5"
      },
      "source": [
        "#### What was the total number of streams over this period? \n"
      ]
    },
    {
      "cell_type": "markdown",
      "metadata": {
        "id": "22AiUqWBdKd6"
      },
      "source": [
        "This can be an open question - how can we calculate the total number of the streams over this period? \n",
        "\n"
      ]
    },
    {
      "cell_type": "code",
      "metadata": {
        "id": "-FtED8FhdKd6",
        "outputId": "8c929870-e610-4934-b392-1a07278fc6bb",
        "colab": {
          "base_uri": "https://localhost:8080/"
        }
      },
      "source": [
        "sum(stream)"
      ],
      "execution_count": 131,
      "outputs": [
        {
          "output_type": "execute_result",
          "data": {
            "text/plain": [
              "178569775235"
            ]
          },
          "metadata": {},
          "execution_count": 131
        }
      ]
    },
    {
      "cell_type": "code",
      "source": [
        "len(stream)"
      ],
      "metadata": {
        "colab": {
          "base_uri": "https://localhost:8080/"
        },
        "id": "HjONKPQk5IRa",
        "outputId": "ccfce3a6-30ab-40c1-8f08-248b3ecfcd27"
      },
      "execution_count": 132,
      "outputs": [
        {
          "output_type": "execute_result",
          "data": {
            "text/plain": [
              "3441197"
            ]
          },
          "metadata": {},
          "execution_count": 132
        }
      ]
    },
    {
      "cell_type": "markdown",
      "metadata": {
        "id": "WzO2rA_BdKd6"
      },
      "source": [
        "It's important to note that even if this method is not as simple, it's still useful to practice thinking up different solutions, because in a different situation another option may be better.\n",
        " \n",
        "\n"
      ]
    },
    {
      "cell_type": "code",
      "source": [
        "# for i in stream:\n",
        "#   print(i)"
      ],
      "metadata": {
        "id": "RLayKhdDDcqw"
      },
      "execution_count": 133,
      "outputs": []
    },
    {
      "cell_type": "code",
      "metadata": {
        "id": "LvU1ihjBdKd6",
        "colab": {
          "base_uri": "https://localhost:8080/"
        },
        "outputId": "a0d6c2d8-384f-4e7a-9f61-3576ab9f1cc7"
      },
      "source": [
        "## this is showing how to work with iteration + list ( Chapter 4)\n",
        "total_streams =0\n",
        "for i in stream:\n",
        "    total_streams += i\n",
        "\n",
        "print(total_streams)"
      ],
      "execution_count": 134,
      "outputs": [
        {
          "output_type": "stream",
          "name": "stdout",
          "text": [
            "178569775235\n"
          ]
        }
      ]
    },
    {
      "cell_type": "markdown",
      "metadata": {
        "id": "a8B79sNhdKd7"
      },
      "source": [
        "#### What was the average number of streams during this period? \n"
      ]
    },
    {
      "cell_type": "code",
      "metadata": {
        "id": "Mah4YWWldKd7",
        "colab": {
          "base_uri": "https://localhost:8080/"
        },
        "outputId": "5f2341e6-b8eb-49ab-b3a8-91d8d35445e9"
      },
      "source": [
        "total_streams/len(stream)"
      ],
      "execution_count": 135,
      "outputs": [
        {
          "output_type": "execute_result",
          "data": {
            "text/plain": [
              "51891.76185931814"
            ]
          },
          "metadata": {},
          "execution_count": 135
        }
      ]
    },
    {
      "cell_type": "markdown",
      "metadata": {
        "id": "c_KxvA1ydKd8"
      },
      "source": [
        "### 2. How many times did Maroon 5 get into the top ratings? "
      ]
    },
    {
      "cell_type": "markdown",
      "metadata": {
        "id": "plan_pjidKd8"
      },
      "source": [
        "Create a list with artists"
      ]
    },
    {
      "cell_type": "code",
      "metadata": {
        "id": "wHw3c5cJdKd8"
      },
      "source": [
        "artists=data.Artist.to_list()"
      ],
      "execution_count": 26,
      "outputs": []
    },
    {
      "cell_type": "markdown",
      "metadata": {
        "id": "xhu2s_4idKd8"
      },
      "source": [
        "Point out the previously solved task, with the total number of streams. We need a condition here. "
      ]
    },
    {
      "cell_type": "code",
      "metadata": {
        "id": "dN25d_YXdKd8"
      },
      "source": [
        "counter=0\n",
        "for i in artists:\n",
        "    if i=='Maroon 5':\n",
        "        counter+=1\n",
        "    else: \n",
        "        continue "
      ],
      "execution_count": 27,
      "outputs": []
    },
    {
      "cell_type": "code",
      "metadata": {
        "id": "sALfRlsLdKd9",
        "outputId": "d998534a-1899-46f7-a987-7237466643ad",
        "colab": {
          "base_uri": "https://localhost:8080/"
        }
      },
      "source": [
        "print(counter)"
      ],
      "execution_count": 28,
      "outputs": [
        {
          "output_type": "stream",
          "name": "stdout",
          "text": [
            "30125\n"
          ]
        }
      ]
    },
    {
      "cell_type": "code",
      "source": [
        "# Error below. How would you resolve it?\n",
        "# for i in artists\n",
        "# print(i)"
      ],
      "metadata": {
        "id": "g7MH7whBELvs"
      },
      "execution_count": 29,
      "outputs": []
    },
    {
      "cell_type": "markdown",
      "metadata": {
        "id": "gLbWIYIDdKd9"
      },
      "source": [
        "#### How many songs were a collaboration and who did they collaborate with? "
      ]
    },
    {
      "cell_type": "markdown",
      "metadata": {
        "id": "LVF1vsipdKd9"
      },
      "source": [
        "Here the tutor may introduce the unique() method for students ( in order to teach students something new and make the task easier )"
      ]
    },
    {
      "cell_type": "code",
      "source": [
        "data[data.Artist=='Maroon 5']['Track Name']"
      ],
      "metadata": {
        "id": "5l8hMtmDFP9y"
      },
      "execution_count": null,
      "outputs": []
    },
    {
      "cell_type": "code",
      "metadata": {
        "id": "BW7aTIvEdKd9"
      },
      "source": [
        "maroon5_songs=list(data[data.Artist=='Maroon 5']['Track Name'].unique())"
      ],
      "execution_count": 31,
      "outputs": []
    },
    {
      "cell_type": "code",
      "metadata": {
        "id": "Wc5LT2lfdKd9"
      },
      "source": [
        "maroon5_songs"
      ],
      "execution_count": null,
      "outputs": []
    },
    {
      "cell_type": "markdown",
      "metadata": {
        "id": "6yxIDKqpdKd-"
      },
      "source": [
        "How do we find the collaborations? \n",
        " \n",
        "\n"
      ]
    },
    {
      "cell_type": "markdown",
      "source": [
        "Answer 'feat'. \n",
        "\n",
        "\n",
        "\n",
        "How to work with find() and gets back the songs with 'feat' in it. There is a problem with 'feat' vs 'feat.'"
      ],
      "metadata": {
        "id": "xWijq5Ny6bTe"
      }
    },
    {
      "cell_type": "code",
      "metadata": {
        "id": "8FvN41Q1dKd-"
      },
      "source": [
        "for i in maroon5_songs:\n",
        "    if i.find('feat')>0:\n",
        "        if i.find('feat.')>0:\n",
        "            print(i,'ok')\n",
        "        else: \n",
        "            print(i,'not ok')"
      ],
      "execution_count": null,
      "outputs": []
    },
    {
      "cell_type": "markdown",
      "metadata": {
        "id": "KP2jUlJ7dKeF"
      },
      "source": [
        "The next important thing is to actually get the artists that Maroon 5 collaborated with and save that data into a separate list. \n",
        "\n",
        "\n",
        "**What method they can use to help them to do that?**\n",
        "\n",
        "\n",
        "Shows that we can use split() several times until we get the result that we need. The final function may look like this \n",
        "\n"
      ]
    },
    {
      "cell_type": "code",
      "source": [
        "maroon5_songs"
      ],
      "metadata": {
        "id": "v0S_bYer7PQ0"
      },
      "execution_count": null,
      "outputs": []
    },
    {
      "cell_type": "code",
      "source": [
        "remix = []\n",
        "for i in maroon5_songs:\n",
        "  # print(i)\n",
        "  if i.find('Remix') > 0:\n",
        "    remix.append(i)\n",
        "\n",
        "print(remix)"
      ],
      "metadata": {
        "id": "KuGXH3CuLZOt"
      },
      "execution_count": null,
      "outputs": []
    },
    {
      "cell_type": "code",
      "metadata": {
        "id": "7pq7ETdXdKeH"
      },
      "source": [
        "for i in maroon5_songs:\n",
        "    if i.find('Remix') > 0:\n",
        "        if i.find(' - ') > 0:\n",
        "            collab=i.split('-')[1] #.split(')')[0]\n",
        "            print(collab)\n",
        "\n",
        "        #     collabs.append(collab)\n",
        "        # elif i.find('feat') > 0: \n",
        "        #     collab=i.split('(feat')[1].split(')')[0]\n",
        "        #     collabs.append(collab)\n",
        "        # else:\n",
        "        #     pass"
      ],
      "execution_count": null,
      "outputs": []
    },
    {
      "cell_type": "code",
      "metadata": {
        "id": "i6KY9lLBdKeH"
      },
      "source": [
        "# collabs"
      ],
      "execution_count": null,
      "outputs": []
    },
    {
      "cell_type": "markdown",
      "metadata": {
        "id": "Bl2blb2BdKeH"
      },
      "source": [
        "#### How many of their remixes were on the chart?"
      ]
    },
    {
      "cell_type": "code",
      "source": [
        "len(collabs)"
      ],
      "metadata": {
        "id": "Z-BvYmaz7WEA"
      },
      "execution_count": null,
      "outputs": []
    },
    {
      "cell_type": "markdown",
      "metadata": {
        "id": "AFMQUTtHdKeI"
      },
      "source": [
        "## 3. What is the distribution of the rows of data among regions? Do not include the 'global' region in your calculations. What is the least represented region and it's %?"
      ]
    },
    {
      "cell_type": "code",
      "source": [
        "data = pd.read_csv('archive.zip',sep=',')"
      ],
      "metadata": {
        "id": "3419Os9zRV5q"
      },
      "execution_count": 87,
      "outputs": []
    },
    {
      "cell_type": "code",
      "metadata": {
        "id": "6OLIs9z0dKeI"
      },
      "source": [
        "regions=data.Region.to_list()\n",
        "regions"
      ],
      "execution_count": null,
      "outputs": []
    },
    {
      "cell_type": "markdown",
      "metadata": {
        "id": "TkQpAV4AdKeI"
      },
      "source": [
        "Create a function that will take region as an argument and return a list with the region name and number of rows for that region.\n",
        " \n",
        "\n"
      ]
    },
    {
      "cell_type": "code",
      "metadata": {
        "id": "OuZnS4OBdKeJ"
      },
      "source": [
        "def region_count(region):\n",
        "    counter = 0\n",
        "    for i in regions:\n",
        "        if i == region:\n",
        "            counter += 1\n",
        "    return [region,counter]"
      ],
      "execution_count": 89,
      "outputs": []
    },
    {
      "cell_type": "code",
      "metadata": {
        "id": "JDznPiHSdKeJ"
      },
      "source": [
        "region_count('fr')"
      ],
      "execution_count": null,
      "outputs": []
    },
    {
      "cell_type": "markdown",
      "metadata": {
        "id": "rc2dt6WldKeJ"
      },
      "source": [
        "What do we need to do to calculate the share? Find rows for each region, but don't include 'global'.\n",
        "Since we want to take the 'global' region out, we can 'skip' it in the iteration. \n",
        "\n",
        "How we can create a nested list here, and what are the next steps we should take?"
      ]
    },
    {
      "cell_type": "code",
      "source": [
        "data['Region']"
      ],
      "metadata": {
        "id": "f-Vqiw93Hrjm"
      },
      "execution_count": null,
      "outputs": []
    },
    {
      "cell_type": "code",
      "source": [
        "data['Region'].unique()"
      ],
      "metadata": {
        "id": "fdZ0uU-FHtSE"
      },
      "execution_count": null,
      "outputs": []
    },
    {
      "cell_type": "code",
      "metadata": {
        "id": "uIdLuPPddKeK"
      },
      "source": [
        "#don't take global into consideration \n",
        "total_for_regions=[]\n",
        "for i in data['Region'].unique():\n",
        "    if i=='global':\n",
        "        continue\n",
        "    else:    \n",
        "        total_for_regions.append(region_count(i))\n",
        "        print(i,'-ready')"
      ],
      "execution_count": null,
      "outputs": []
    },
    {
      "cell_type": "code",
      "source": [
        "total_for_regions"
      ],
      "metadata": {
        "id": "kpVULJm2IMG3"
      },
      "execution_count": null,
      "outputs": []
    },
    {
      "cell_type": "code",
      "source": [
        "# Could use set to find unique values in a list\n",
        "set(regions)"
      ],
      "metadata": {
        "id": "X1M0IUC08IQ6"
      },
      "execution_count": null,
      "outputs": []
    },
    {
      "cell_type": "markdown",
      "metadata": {
        "id": "fa_G7FmXdKeK"
      },
      "source": [
        "Let's add the % to each region. What do we need for that?\n",
        " \n",
        "\n"
      ]
    },
    {
      "cell_type": "code",
      "source": [
        "data['Region'] = data.loc[data['Region'] != 'global']\n",
        "\n",
        "count_global = 0\n",
        "no_global = 0\n",
        "for i in data['Region'].unique():\n",
        "  if i == 'global':\n",
        "    count_global += 1\n",
        "  else:\n",
        "    no_global += 1\n",
        "\n",
        "print('Global Count:', count_global)\n",
        "print('-'*50) \n",
        "print('Values Not Global: ', no_global)"
      ],
      "metadata": {
        "id": "nhDaAk5jPt2O"
      },
      "execution_count": null,
      "outputs": []
    },
    {
      "cell_type": "code",
      "metadata": {
        "id": "VgMRKaRLdKeK"
      },
      "source": [
        "total_without_global = 0\n",
        "for i in total_for_regions:\n",
        "    total_without_global += i[1]\n",
        "total_without_global"
      ],
      "execution_count": null,
      "outputs": []
    },
    {
      "cell_type": "markdown",
      "metadata": {
        "id": "i3Nh7EIGdKeL"
      },
      "source": [
        "How do we calculate the % and insert it as a 3d element inside the nested list for each region?\n",
        " \n",
        "\n"
      ]
    },
    {
      "cell_type": "code",
      "source": [
        "# for i in total_for_regions:\n",
        "#   print(i)"
      ],
      "metadata": {
        "id": "92ekDcdV-GBs"
      },
      "execution_count": 98,
      "outputs": []
    },
    {
      "cell_type": "code",
      "source": [
        "for i in total_for_regions:\n",
        "  print(i[1])"
      ],
      "metadata": {
        "id": "wCbiQMNWa2lx"
      },
      "execution_count": null,
      "outputs": []
    },
    {
      "cell_type": "code",
      "metadata": {
        "id": "NUbpVGNAdKeL"
      },
      "source": [
        "for i in total_for_regions:\n",
        "    i.append((i[1]/total_without_global)*100)\n",
        "    print(i)"
      ],
      "execution_count": null,
      "outputs": []
    },
    {
      "cell_type": "markdown",
      "metadata": {
        "id": "rW78gIngdKeM"
      },
      "source": [
        "### What is the least represented region and it's %?\n"
      ]
    },
    {
      "cell_type": "code",
      "metadata": {
        "id": "RyEfPvs0dKeM"
      },
      "source": [
        "least_represented=sorted(total_for_regions, key=lambda row: row[2])[0]\n",
        "least_represented"
      ],
      "execution_count": null,
      "outputs": []
    },
    {
      "cell_type": "code",
      "source": [
        "# Here we sort in ascending order by the 2nd slice\n",
        "print( sorted(total_for_regions, key=lambda row: row[2]) )"
      ],
      "metadata": {
        "id": "OUyWK_4RR9dH"
      },
      "execution_count": null,
      "outputs": []
    },
    {
      "cell_type": "code",
      "metadata": {
        "id": "DsTeH6WEdKeN"
      },
      "source": [
        "print(\"The least represented region is\",least_represented[0],'with the share of',least_represented[2])"
      ],
      "execution_count": null,
      "outputs": []
    },
    {
      "cell_type": "markdown",
      "source": [
        "### Consider how you would slice and work with URL."
      ],
      "metadata": {
        "id": "Pjlxzr07Udie"
      }
    },
    {
      "cell_type": "code",
      "source": [
        "data"
      ],
      "metadata": {
        "id": "FspSI5ecUbbV"
      },
      "execution_count": null,
      "outputs": []
    },
    {
      "cell_type": "code",
      "source": [
        "data['URL'].unique()"
      ],
      "metadata": {
        "id": "XTLXpwCmIwg1"
      },
      "execution_count": null,
      "outputs": []
    },
    {
      "cell_type": "code",
      "source": [
        ""
      ],
      "metadata": {
        "id": "modnYZKmTo6v"
      },
      "execution_count": null,
      "outputs": []
    }
  ]
}