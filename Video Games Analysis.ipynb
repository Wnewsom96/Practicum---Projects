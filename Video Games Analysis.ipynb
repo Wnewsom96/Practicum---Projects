{
 "cells": [
  {
   "cell_type": "markdown",
   "metadata": {},
   "source": [
    "# Data Analysis"
   ]
  },
  {
   "cell_type": "markdown",
   "metadata": {},
   "source": [
    "# Intro\n",
    "This project we will be breaking down games and seeing which are the most successful.\n",
    "We will break sales down by platform, game and country.\n",
    "I will manipulate data, then create visualizations for graphs and then I will test my hypothesis."
   ]
  },
  {
   "cell_type": "code",
   "execution_count": 5,
   "metadata": {},
   "outputs": [],
   "source": [
    "import pandas as pd\n",
    "\n",
    "import numpy as np\n",
    "\n",
    "import datetime as dt\n",
    "\n",
    "import matplotlib as plot\n",
    "\n",
    "import seaborn as sns\n",
    "\n",
    "from scipy import stats as st\n",
    "\n",
    "from functools import reduce\n",
    "\n",
    "import matplotlib.pyplot as plt\n",
    "\n",
    "from scipy.stats import shapiro\n",
    "\n",
    "import plotly.express as px\n",
    "\n",
    "from scipy.stats import ttest_ind\n",
    "\n",
    "from scipy.stats import levene\n",
    "\n",
    "\n",
    "%matplotlib inline"
   ]
  },
  {
   "cell_type": "code",
   "execution_count": 6,
   "metadata": {},
   "outputs": [
    {
     "name": "stdout",
     "output_type": "stream",
     "text": [
      "(16715, 11)\n",
      "<class 'pandas.core.frame.DataFrame'>\n",
      "RangeIndex: 16715 entries, 0 to 16714\n",
      "Data columns (total 11 columns):\n",
      " #   Column           Non-Null Count  Dtype  \n",
      "---  ------           --------------  -----  \n",
      " 0   Name             16713 non-null  object \n",
      " 1   Platform         16715 non-null  object \n",
      " 2   Year_of_Release  16446 non-null  float64\n",
      " 3   Genre            16713 non-null  object \n",
      " 4   NA_sales         16715 non-null  float64\n",
      " 5   EU_sales         16715 non-null  float64\n",
      " 6   JP_sales         16715 non-null  float64\n",
      " 7   Other_sales      16715 non-null  float64\n",
      " 8   Critic_Score     8137 non-null   float64\n",
      " 9   User_Score       10014 non-null  object \n",
      " 10  Rating           9949 non-null   object \n",
      "dtypes: float64(6), object(5)\n",
      "memory usage: 1.4+ MB\n",
      "None\n",
      "       Year_of_Release      NA_sales      EU_sales      JP_sales  \\\n",
      "count     16446.000000  16715.000000  16715.000000  16715.000000   \n",
      "mean       2006.484616      0.263377      0.145060      0.077617   \n",
      "std           5.877050      0.813604      0.503339      0.308853   \n",
      "min        1980.000000      0.000000      0.000000      0.000000   \n",
      "25%        2003.000000      0.000000      0.000000      0.000000   \n",
      "50%        2007.000000      0.080000      0.020000      0.000000   \n",
      "75%        2010.000000      0.240000      0.110000      0.040000   \n",
      "max        2016.000000     41.360000     28.960000     10.220000   \n",
      "\n",
      "        Other_sales  Critic_Score  \n",
      "count  16715.000000   8137.000000  \n",
      "mean       0.047342     68.967679  \n",
      "std        0.186731     13.938165  \n",
      "min        0.000000     13.000000  \n",
      "25%        0.000000     60.000000  \n",
      "50%        0.010000     71.000000  \n",
      "75%        0.030000     79.000000  \n",
      "max       10.570000     98.000000  \n"
     ]
    },
    {
     "data": {
      "text/html": [
       "<div>\n",
       "<style scoped>\n",
       "    .dataframe tbody tr th:only-of-type {\n",
       "        vertical-align: middle;\n",
       "    }\n",
       "\n",
       "    .dataframe tbody tr th {\n",
       "        vertical-align: top;\n",
       "    }\n",
       "\n",
       "    .dataframe thead th {\n",
       "        text-align: right;\n",
       "    }\n",
       "</style>\n",
       "<table border=\"1\" class=\"dataframe\">\n",
       "  <thead>\n",
       "    <tr style=\"text-align: right;\">\n",
       "      <th></th>\n",
       "      <th>name</th>\n",
       "      <th>platform</th>\n",
       "      <th>year_of_release</th>\n",
       "      <th>genre</th>\n",
       "      <th>na_sales</th>\n",
       "      <th>eu_sales</th>\n",
       "      <th>jp_sales</th>\n",
       "      <th>other_sales</th>\n",
       "      <th>critic_score</th>\n",
       "      <th>user_score</th>\n",
       "      <th>rating</th>\n",
       "    </tr>\n",
       "  </thead>\n",
       "  <tbody>\n",
       "    <tr>\n",
       "      <th>0</th>\n",
       "      <td>Wii Sports</td>\n",
       "      <td>Wii</td>\n",
       "      <td>2006.0</td>\n",
       "      <td>Sports</td>\n",
       "      <td>41.36</td>\n",
       "      <td>28.96</td>\n",
       "      <td>3.77</td>\n",
       "      <td>8.45</td>\n",
       "      <td>76.0</td>\n",
       "      <td>8</td>\n",
       "      <td>E</td>\n",
       "    </tr>\n",
       "    <tr>\n",
       "      <th>1</th>\n",
       "      <td>Super Mario Bros.</td>\n",
       "      <td>NES</td>\n",
       "      <td>1985.0</td>\n",
       "      <td>Platform</td>\n",
       "      <td>29.08</td>\n",
       "      <td>3.58</td>\n",
       "      <td>6.81</td>\n",
       "      <td>0.77</td>\n",
       "      <td>NaN</td>\n",
       "      <td>NaN</td>\n",
       "      <td>NaN</td>\n",
       "    </tr>\n",
       "    <tr>\n",
       "      <th>2</th>\n",
       "      <td>Mario Kart Wii</td>\n",
       "      <td>Wii</td>\n",
       "      <td>2008.0</td>\n",
       "      <td>Racing</td>\n",
       "      <td>15.68</td>\n",
       "      <td>12.76</td>\n",
       "      <td>3.79</td>\n",
       "      <td>3.29</td>\n",
       "      <td>82.0</td>\n",
       "      <td>8.3</td>\n",
       "      <td>E</td>\n",
       "    </tr>\n",
       "    <tr>\n",
       "      <th>3</th>\n",
       "      <td>Wii Sports Resort</td>\n",
       "      <td>Wii</td>\n",
       "      <td>2009.0</td>\n",
       "      <td>Sports</td>\n",
       "      <td>15.61</td>\n",
       "      <td>10.93</td>\n",
       "      <td>3.28</td>\n",
       "      <td>2.95</td>\n",
       "      <td>80.0</td>\n",
       "      <td>8</td>\n",
       "      <td>E</td>\n",
       "    </tr>\n",
       "    <tr>\n",
       "      <th>4</th>\n",
       "      <td>Pokemon Red/Pokemon Blue</td>\n",
       "      <td>GB</td>\n",
       "      <td>1996.0</td>\n",
       "      <td>Role-Playing</td>\n",
       "      <td>11.27</td>\n",
       "      <td>8.89</td>\n",
       "      <td>10.22</td>\n",
       "      <td>1.00</td>\n",
       "      <td>NaN</td>\n",
       "      <td>NaN</td>\n",
       "      <td>NaN</td>\n",
       "    </tr>\n",
       "    <tr>\n",
       "      <th>...</th>\n",
       "      <td>...</td>\n",
       "      <td>...</td>\n",
       "      <td>...</td>\n",
       "      <td>...</td>\n",
       "      <td>...</td>\n",
       "      <td>...</td>\n",
       "      <td>...</td>\n",
       "      <td>...</td>\n",
       "      <td>...</td>\n",
       "      <td>...</td>\n",
       "      <td>...</td>\n",
       "    </tr>\n",
       "    <tr>\n",
       "      <th>16710</th>\n",
       "      <td>Samurai Warriors: Sanada Maru</td>\n",
       "      <td>PS3</td>\n",
       "      <td>2016.0</td>\n",
       "      <td>Action</td>\n",
       "      <td>0.00</td>\n",
       "      <td>0.00</td>\n",
       "      <td>0.01</td>\n",
       "      <td>0.00</td>\n",
       "      <td>NaN</td>\n",
       "      <td>NaN</td>\n",
       "      <td>NaN</td>\n",
       "    </tr>\n",
       "    <tr>\n",
       "      <th>16711</th>\n",
       "      <td>LMA Manager 2007</td>\n",
       "      <td>X360</td>\n",
       "      <td>2006.0</td>\n",
       "      <td>Sports</td>\n",
       "      <td>0.00</td>\n",
       "      <td>0.01</td>\n",
       "      <td>0.00</td>\n",
       "      <td>0.00</td>\n",
       "      <td>NaN</td>\n",
       "      <td>NaN</td>\n",
       "      <td>NaN</td>\n",
       "    </tr>\n",
       "    <tr>\n",
       "      <th>16712</th>\n",
       "      <td>Haitaka no Psychedelica</td>\n",
       "      <td>PSV</td>\n",
       "      <td>2016.0</td>\n",
       "      <td>Adventure</td>\n",
       "      <td>0.00</td>\n",
       "      <td>0.00</td>\n",
       "      <td>0.01</td>\n",
       "      <td>0.00</td>\n",
       "      <td>NaN</td>\n",
       "      <td>NaN</td>\n",
       "      <td>NaN</td>\n",
       "    </tr>\n",
       "    <tr>\n",
       "      <th>16713</th>\n",
       "      <td>Spirits &amp; Spells</td>\n",
       "      <td>GBA</td>\n",
       "      <td>2003.0</td>\n",
       "      <td>Platform</td>\n",
       "      <td>0.01</td>\n",
       "      <td>0.00</td>\n",
       "      <td>0.00</td>\n",
       "      <td>0.00</td>\n",
       "      <td>NaN</td>\n",
       "      <td>NaN</td>\n",
       "      <td>NaN</td>\n",
       "    </tr>\n",
       "    <tr>\n",
       "      <th>16714</th>\n",
       "      <td>Winning Post 8 2016</td>\n",
       "      <td>PSV</td>\n",
       "      <td>2016.0</td>\n",
       "      <td>Simulation</td>\n",
       "      <td>0.00</td>\n",
       "      <td>0.00</td>\n",
       "      <td>0.01</td>\n",
       "      <td>0.00</td>\n",
       "      <td>NaN</td>\n",
       "      <td>NaN</td>\n",
       "      <td>NaN</td>\n",
       "    </tr>\n",
       "  </tbody>\n",
       "</table>\n",
       "<p>16715 rows × 11 columns</p>\n",
       "</div>"
      ],
      "text/plain": [
       "                                name platform  year_of_release         genre  \\\n",
       "0                         Wii Sports      Wii           2006.0        Sports   \n",
       "1                  Super Mario Bros.      NES           1985.0      Platform   \n",
       "2                     Mario Kart Wii      Wii           2008.0        Racing   \n",
       "3                  Wii Sports Resort      Wii           2009.0        Sports   \n",
       "4           Pokemon Red/Pokemon Blue       GB           1996.0  Role-Playing   \n",
       "...                              ...      ...              ...           ...   \n",
       "16710  Samurai Warriors: Sanada Maru      PS3           2016.0        Action   \n",
       "16711               LMA Manager 2007     X360           2006.0        Sports   \n",
       "16712        Haitaka no Psychedelica      PSV           2016.0     Adventure   \n",
       "16713               Spirits & Spells      GBA           2003.0      Platform   \n",
       "16714            Winning Post 8 2016      PSV           2016.0    Simulation   \n",
       "\n",
       "       na_sales  eu_sales  jp_sales  other_sales  critic_score user_score  \\\n",
       "0         41.36     28.96      3.77         8.45          76.0          8   \n",
       "1         29.08      3.58      6.81         0.77           NaN        NaN   \n",
       "2         15.68     12.76      3.79         3.29          82.0        8.3   \n",
       "3         15.61     10.93      3.28         2.95          80.0          8   \n",
       "4         11.27      8.89     10.22         1.00           NaN        NaN   \n",
       "...         ...       ...       ...          ...           ...        ...   \n",
       "16710      0.00      0.00      0.01         0.00           NaN        NaN   \n",
       "16711      0.00      0.01      0.00         0.00           NaN        NaN   \n",
       "16712      0.00      0.00      0.01         0.00           NaN        NaN   \n",
       "16713      0.01      0.00      0.00         0.00           NaN        NaN   \n",
       "16714      0.00      0.00      0.01         0.00           NaN        NaN   \n",
       "\n",
       "      rating  \n",
       "0          E  \n",
       "1        NaN  \n",
       "2          E  \n",
       "3          E  \n",
       "4        NaN  \n",
       "...      ...  \n",
       "16710    NaN  \n",
       "16711    NaN  \n",
       "16712    NaN  \n",
       "16713    NaN  \n",
       "16714    NaN  \n",
       "\n",
       "[16715 rows x 11 columns]"
      ]
     },
     "metadata": {},
     "output_type": "display_data"
    }
   ],
   "source": [
    "game = pd.read_csv('/datasets/games.csv')\n",
    "\n",
    "print(game.shape)\n",
    "print(game.info())\n",
    "print(game.describe())\n",
    "game.columns= game.columns.str.lower()\n",
    "\n",
    "display(game)"
   ]
  },
  {
   "cell_type": "markdown",
   "metadata": {},
   "source": [
    "With the info output we see that most of the daya is good but their are some problems.\n",
    "I will change the year to int.\n",
    "Critic Score, User Score and Rating are all missing values.\n",
    "We will fill the Critic and User score with values.\n",
    "We will fill the Rating column with."
   ]
  },
  {
   "cell_type": "markdown",
   "metadata": {},
   "source": [
    "# Fixing Errors, Manipulating Data"
   ]
  },
  {
   "cell_type": "code",
   "execution_count": 7,
   "metadata": {},
   "outputs": [
    {
     "data": {
      "text/plain": [
       "array(['8', nan, '8.3', '8.5', '6.6', '8.4', '8.6', '7.7', '6.3', '7.4',\n",
       "       '8.2', '9', '7.9', '8.1', '8.7', '7.1', '3.4', '5.3', '4.8', '3.2',\n",
       "       '8.9', '6.4', '7.8', '7.5', '2.6', '7.2', '9.2', '7', '7.3', '4.3',\n",
       "       '7.6', '5.7', '5', '9.1', '6.5', 'tbd', '8.8', '6.9', '9.4', '6.8',\n",
       "       '6.1', '6.7', '5.4', '4', '4.9', '4.5', '9.3', '6.2', '4.2', '6',\n",
       "       '3.7', '4.1', '5.8', '5.6', '5.5', '4.4', '4.6', '5.9', '3.9',\n",
       "       '3.1', '2.9', '5.2', '3.3', '4.7', '5.1', '3.5', '2.5', '1.9', '3',\n",
       "       '2.7', '2.2', '2', '9.5', '2.1', '3.6', '2.8', '1.8', '3.8', '0',\n",
       "       '1.6', '9.6', '2.4', '1.7', '1.1', '0.3', '1.5', '0.7', '1.2',\n",
       "       '2.3', '0.5', '1.3', '0.2', '0.6', '1.4', '0.9', '1', '9.7'],\n",
       "      dtype=object)"
      ]
     },
     "execution_count": 7,
     "metadata": {},
     "output_type": "execute_result"
    }
   ],
   "source": [
    "game['user_score'].unique()"
   ]
  },
  {
   "cell_type": "code",
   "execution_count": 8,
   "metadata": {},
   "outputs": [
    {
     "name": "stdout",
     "output_type": "stream",
     "text": [
      "<class 'pandas.core.frame.DataFrame'>\n",
      "RangeIndex: 16715 entries, 0 to 16714\n",
      "Data columns (total 11 columns):\n",
      " #   Column           Non-Null Count  Dtype  \n",
      "---  ------           --------------  -----  \n",
      " 0   name             16713 non-null  object \n",
      " 1   platform         16715 non-null  object \n",
      " 2   year_of_release  16446 non-null  Int64  \n",
      " 3   genre            16713 non-null  object \n",
      " 4   na_sales         16715 non-null  float64\n",
      " 5   eu_sales         16715 non-null  float64\n",
      " 6   jp_sales         16715 non-null  float64\n",
      " 7   other_sales      16715 non-null  float64\n",
      " 8   critic_score     8137 non-null   float64\n",
      " 9   user_score       7590 non-null   float64\n",
      " 10  rating           9949 non-null   object \n",
      "dtypes: Int64(1), float64(6), object(4)\n",
      "memory usage: 1.4+ MB\n"
     ]
    },
    {
     "data": {
      "text/html": [
       "<div>\n",
       "<style scoped>\n",
       "    .dataframe tbody tr th:only-of-type {\n",
       "        vertical-align: middle;\n",
       "    }\n",
       "\n",
       "    .dataframe tbody tr th {\n",
       "        vertical-align: top;\n",
       "    }\n",
       "\n",
       "    .dataframe thead th {\n",
       "        text-align: right;\n",
       "    }\n",
       "</style>\n",
       "<table border=\"1\" class=\"dataframe\">\n",
       "  <thead>\n",
       "    <tr style=\"text-align: right;\">\n",
       "      <th></th>\n",
       "      <th>name</th>\n",
       "      <th>platform</th>\n",
       "      <th>year_of_release</th>\n",
       "      <th>genre</th>\n",
       "      <th>na_sales</th>\n",
       "      <th>eu_sales</th>\n",
       "      <th>jp_sales</th>\n",
       "      <th>other_sales</th>\n",
       "      <th>critic_score</th>\n",
       "      <th>user_score</th>\n",
       "      <th>rating</th>\n",
       "    </tr>\n",
       "  </thead>\n",
       "  <tbody>\n",
       "    <tr>\n",
       "      <th>0</th>\n",
       "      <td>Wii Sports</td>\n",
       "      <td>Wii</td>\n",
       "      <td>2006</td>\n",
       "      <td>Sports</td>\n",
       "      <td>41.36</td>\n",
       "      <td>28.96</td>\n",
       "      <td>3.77</td>\n",
       "      <td>8.45</td>\n",
       "      <td>76.0</td>\n",
       "      <td>8.0</td>\n",
       "      <td>E</td>\n",
       "    </tr>\n",
       "    <tr>\n",
       "      <th>1</th>\n",
       "      <td>Super Mario Bros.</td>\n",
       "      <td>NES</td>\n",
       "      <td>1985</td>\n",
       "      <td>Platform</td>\n",
       "      <td>29.08</td>\n",
       "      <td>3.58</td>\n",
       "      <td>6.81</td>\n",
       "      <td>0.77</td>\n",
       "      <td>NaN</td>\n",
       "      <td>NaN</td>\n",
       "      <td>NaN</td>\n",
       "    </tr>\n",
       "    <tr>\n",
       "      <th>2</th>\n",
       "      <td>Mario Kart Wii</td>\n",
       "      <td>Wii</td>\n",
       "      <td>2008</td>\n",
       "      <td>Racing</td>\n",
       "      <td>15.68</td>\n",
       "      <td>12.76</td>\n",
       "      <td>3.79</td>\n",
       "      <td>3.29</td>\n",
       "      <td>82.0</td>\n",
       "      <td>8.3</td>\n",
       "      <td>E</td>\n",
       "    </tr>\n",
       "    <tr>\n",
       "      <th>3</th>\n",
       "      <td>Wii Sports Resort</td>\n",
       "      <td>Wii</td>\n",
       "      <td>2009</td>\n",
       "      <td>Sports</td>\n",
       "      <td>15.61</td>\n",
       "      <td>10.93</td>\n",
       "      <td>3.28</td>\n",
       "      <td>2.95</td>\n",
       "      <td>80.0</td>\n",
       "      <td>8.0</td>\n",
       "      <td>E</td>\n",
       "    </tr>\n",
       "    <tr>\n",
       "      <th>4</th>\n",
       "      <td>Pokemon Red/Pokemon Blue</td>\n",
       "      <td>GB</td>\n",
       "      <td>1996</td>\n",
       "      <td>Role-Playing</td>\n",
       "      <td>11.27</td>\n",
       "      <td>8.89</td>\n",
       "      <td>10.22</td>\n",
       "      <td>1.00</td>\n",
       "      <td>NaN</td>\n",
       "      <td>NaN</td>\n",
       "      <td>NaN</td>\n",
       "    </tr>\n",
       "    <tr>\n",
       "      <th>...</th>\n",
       "      <td>...</td>\n",
       "      <td>...</td>\n",
       "      <td>...</td>\n",
       "      <td>...</td>\n",
       "      <td>...</td>\n",
       "      <td>...</td>\n",
       "      <td>...</td>\n",
       "      <td>...</td>\n",
       "      <td>...</td>\n",
       "      <td>...</td>\n",
       "      <td>...</td>\n",
       "    </tr>\n",
       "    <tr>\n",
       "      <th>16710</th>\n",
       "      <td>Samurai Warriors: Sanada Maru</td>\n",
       "      <td>PS3</td>\n",
       "      <td>2016</td>\n",
       "      <td>Action</td>\n",
       "      <td>0.00</td>\n",
       "      <td>0.00</td>\n",
       "      <td>0.01</td>\n",
       "      <td>0.00</td>\n",
       "      <td>NaN</td>\n",
       "      <td>NaN</td>\n",
       "      <td>NaN</td>\n",
       "    </tr>\n",
       "    <tr>\n",
       "      <th>16711</th>\n",
       "      <td>LMA Manager 2007</td>\n",
       "      <td>X360</td>\n",
       "      <td>2006</td>\n",
       "      <td>Sports</td>\n",
       "      <td>0.00</td>\n",
       "      <td>0.01</td>\n",
       "      <td>0.00</td>\n",
       "      <td>0.00</td>\n",
       "      <td>NaN</td>\n",
       "      <td>NaN</td>\n",
       "      <td>NaN</td>\n",
       "    </tr>\n",
       "    <tr>\n",
       "      <th>16712</th>\n",
       "      <td>Haitaka no Psychedelica</td>\n",
       "      <td>PSV</td>\n",
       "      <td>2016</td>\n",
       "      <td>Adventure</td>\n",
       "      <td>0.00</td>\n",
       "      <td>0.00</td>\n",
       "      <td>0.01</td>\n",
       "      <td>0.00</td>\n",
       "      <td>NaN</td>\n",
       "      <td>NaN</td>\n",
       "      <td>NaN</td>\n",
       "    </tr>\n",
       "    <tr>\n",
       "      <th>16713</th>\n",
       "      <td>Spirits &amp; Spells</td>\n",
       "      <td>GBA</td>\n",
       "      <td>2003</td>\n",
       "      <td>Platform</td>\n",
       "      <td>0.01</td>\n",
       "      <td>0.00</td>\n",
       "      <td>0.00</td>\n",
       "      <td>0.00</td>\n",
       "      <td>NaN</td>\n",
       "      <td>NaN</td>\n",
       "      <td>NaN</td>\n",
       "    </tr>\n",
       "    <tr>\n",
       "      <th>16714</th>\n",
       "      <td>Winning Post 8 2016</td>\n",
       "      <td>PSV</td>\n",
       "      <td>2016</td>\n",
       "      <td>Simulation</td>\n",
       "      <td>0.00</td>\n",
       "      <td>0.00</td>\n",
       "      <td>0.01</td>\n",
       "      <td>0.00</td>\n",
       "      <td>NaN</td>\n",
       "      <td>NaN</td>\n",
       "      <td>NaN</td>\n",
       "    </tr>\n",
       "  </tbody>\n",
       "</table>\n",
       "<p>16715 rows × 11 columns</p>\n",
       "</div>"
      ],
      "text/plain": [
       "                                name platform  year_of_release         genre  \\\n",
       "0                         Wii Sports      Wii             2006        Sports   \n",
       "1                  Super Mario Bros.      NES             1985      Platform   \n",
       "2                     Mario Kart Wii      Wii             2008        Racing   \n",
       "3                  Wii Sports Resort      Wii             2009        Sports   \n",
       "4           Pokemon Red/Pokemon Blue       GB             1996  Role-Playing   \n",
       "...                              ...      ...              ...           ...   \n",
       "16710  Samurai Warriors: Sanada Maru      PS3             2016        Action   \n",
       "16711               LMA Manager 2007     X360             2006        Sports   \n",
       "16712        Haitaka no Psychedelica      PSV             2016     Adventure   \n",
       "16713               Spirits & Spells      GBA             2003      Platform   \n",
       "16714            Winning Post 8 2016      PSV             2016    Simulation   \n",
       "\n",
       "       na_sales  eu_sales  jp_sales  other_sales  critic_score  user_score  \\\n",
       "0         41.36     28.96      3.77         8.45          76.0         8.0   \n",
       "1         29.08      3.58      6.81         0.77           NaN         NaN   \n",
       "2         15.68     12.76      3.79         3.29          82.0         8.3   \n",
       "3         15.61     10.93      3.28         2.95          80.0         8.0   \n",
       "4         11.27      8.89     10.22         1.00           NaN         NaN   \n",
       "...         ...       ...       ...          ...           ...         ...   \n",
       "16710      0.00      0.00      0.01         0.00           NaN         NaN   \n",
       "16711      0.00      0.01      0.00         0.00           NaN         NaN   \n",
       "16712      0.00      0.00      0.01         0.00           NaN         NaN   \n",
       "16713      0.01      0.00      0.00         0.00           NaN         NaN   \n",
       "16714      0.00      0.00      0.01         0.00           NaN         NaN   \n",
       "\n",
       "      rating  \n",
       "0          E  \n",
       "1        NaN  \n",
       "2          E  \n",
       "3          E  \n",
       "4        NaN  \n",
       "...      ...  \n",
       "16710    NaN  \n",
       "16711    NaN  \n",
       "16712    NaN  \n",
       "16713    NaN  \n",
       "16714    NaN  \n",
       "\n",
       "[16715 rows x 11 columns]"
      ]
     },
     "metadata": {},
     "output_type": "display_data"
    }
   ],
   "source": [
    "# YR changed to float, User Score changed to float\n",
    "game['user_score'] = pd.to_numeric(game['user_score'], errors='coerce')\n",
    "\n",
    "#game['year_of_release'] = pd.to_datetime(game.year_of_release, format='%Y').dt.strftime('%Y')\n",
    "game['year_of_release'] = game['year_of_release'].astype('Int64')\n",
    "game.info()\n",
    "display(game)"
   ]
  },
  {
   "cell_type": "code",
   "execution_count": 58,
   "metadata": {},
   "outputs": [
    {
     "data": {
      "text/html": [
       "<div>\n",
       "<style scoped>\n",
       "    .dataframe tbody tr th:only-of-type {\n",
       "        vertical-align: middle;\n",
       "    }\n",
       "\n",
       "    .dataframe tbody tr th {\n",
       "        vertical-align: top;\n",
       "    }\n",
       "\n",
       "    .dataframe thead th {\n",
       "        text-align: right;\n",
       "    }\n",
       "</style>\n",
       "<table border=\"1\" class=\"dataframe\">\n",
       "  <thead>\n",
       "    <tr style=\"text-align: right;\">\n",
       "      <th></th>\n",
       "      <th>name</th>\n",
       "      <th>platform</th>\n",
       "      <th>year_of_release</th>\n",
       "      <th>genre</th>\n",
       "      <th>na_sales</th>\n",
       "      <th>eu_sales</th>\n",
       "      <th>jp_sales</th>\n",
       "      <th>other_sales</th>\n",
       "      <th>critic_score</th>\n",
       "      <th>user_score</th>\n",
       "      <th>rating</th>\n",
       "      <th>total_sales</th>\n",
       "    </tr>\n",
       "  </thead>\n",
       "  <tbody>\n",
       "    <tr>\n",
       "      <th>0</th>\n",
       "      <td>Wii Sports</td>\n",
       "      <td>Wii</td>\n",
       "      <td>2006</td>\n",
       "      <td>Sports</td>\n",
       "      <td>41.36</td>\n",
       "      <td>28.96</td>\n",
       "      <td>3.77</td>\n",
       "      <td>8.45</td>\n",
       "      <td>76.0</td>\n",
       "      <td>8.0</td>\n",
       "      <td>E</td>\n",
       "      <td>82.54</td>\n",
       "    </tr>\n",
       "    <tr>\n",
       "      <th>1</th>\n",
       "      <td>Super Mario Bros.</td>\n",
       "      <td>NES</td>\n",
       "      <td>1985</td>\n",
       "      <td>Platform</td>\n",
       "      <td>29.08</td>\n",
       "      <td>3.58</td>\n",
       "      <td>6.81</td>\n",
       "      <td>0.77</td>\n",
       "      <td>0.0</td>\n",
       "      <td>0.0</td>\n",
       "      <td>undefined</td>\n",
       "      <td>40.24</td>\n",
       "    </tr>\n",
       "    <tr>\n",
       "      <th>2</th>\n",
       "      <td>Mario Kart Wii</td>\n",
       "      <td>Wii</td>\n",
       "      <td>2008</td>\n",
       "      <td>Racing</td>\n",
       "      <td>15.68</td>\n",
       "      <td>12.76</td>\n",
       "      <td>3.79</td>\n",
       "      <td>3.29</td>\n",
       "      <td>82.0</td>\n",
       "      <td>8.3</td>\n",
       "      <td>E</td>\n",
       "      <td>35.52</td>\n",
       "    </tr>\n",
       "    <tr>\n",
       "      <th>3</th>\n",
       "      <td>Wii Sports Resort</td>\n",
       "      <td>Wii</td>\n",
       "      <td>2009</td>\n",
       "      <td>Sports</td>\n",
       "      <td>15.61</td>\n",
       "      <td>10.93</td>\n",
       "      <td>3.28</td>\n",
       "      <td>2.95</td>\n",
       "      <td>80.0</td>\n",
       "      <td>8.0</td>\n",
       "      <td>E</td>\n",
       "      <td>32.77</td>\n",
       "    </tr>\n",
       "    <tr>\n",
       "      <th>4</th>\n",
       "      <td>Pokemon Red/Pokemon Blue</td>\n",
       "      <td>GB</td>\n",
       "      <td>1996</td>\n",
       "      <td>Role-Playing</td>\n",
       "      <td>11.27</td>\n",
       "      <td>8.89</td>\n",
       "      <td>10.22</td>\n",
       "      <td>1.00</td>\n",
       "      <td>0.0</td>\n",
       "      <td>0.0</td>\n",
       "      <td>undefined</td>\n",
       "      <td>31.38</td>\n",
       "    </tr>\n",
       "    <tr>\n",
       "      <th>...</th>\n",
       "      <td>...</td>\n",
       "      <td>...</td>\n",
       "      <td>...</td>\n",
       "      <td>...</td>\n",
       "      <td>...</td>\n",
       "      <td>...</td>\n",
       "      <td>...</td>\n",
       "      <td>...</td>\n",
       "      <td>...</td>\n",
       "      <td>...</td>\n",
       "      <td>...</td>\n",
       "      <td>...</td>\n",
       "    </tr>\n",
       "    <tr>\n",
       "      <th>16710</th>\n",
       "      <td>Samurai Warriors: Sanada Maru</td>\n",
       "      <td>PS3</td>\n",
       "      <td>2016</td>\n",
       "      <td>Action</td>\n",
       "      <td>0.00</td>\n",
       "      <td>0.00</td>\n",
       "      <td>0.01</td>\n",
       "      <td>0.00</td>\n",
       "      <td>0.0</td>\n",
       "      <td>0.0</td>\n",
       "      <td>undefined</td>\n",
       "      <td>0.01</td>\n",
       "    </tr>\n",
       "    <tr>\n",
       "      <th>16711</th>\n",
       "      <td>LMA Manager 2007</td>\n",
       "      <td>X360</td>\n",
       "      <td>2006</td>\n",
       "      <td>Sports</td>\n",
       "      <td>0.00</td>\n",
       "      <td>0.01</td>\n",
       "      <td>0.00</td>\n",
       "      <td>0.00</td>\n",
       "      <td>0.0</td>\n",
       "      <td>0.0</td>\n",
       "      <td>undefined</td>\n",
       "      <td>0.01</td>\n",
       "    </tr>\n",
       "    <tr>\n",
       "      <th>16712</th>\n",
       "      <td>Haitaka no Psychedelica</td>\n",
       "      <td>PSV</td>\n",
       "      <td>2016</td>\n",
       "      <td>Adventure</td>\n",
       "      <td>0.00</td>\n",
       "      <td>0.00</td>\n",
       "      <td>0.01</td>\n",
       "      <td>0.00</td>\n",
       "      <td>0.0</td>\n",
       "      <td>0.0</td>\n",
       "      <td>undefined</td>\n",
       "      <td>0.01</td>\n",
       "    </tr>\n",
       "    <tr>\n",
       "      <th>16713</th>\n",
       "      <td>Spirits &amp; Spells</td>\n",
       "      <td>GBA</td>\n",
       "      <td>2003</td>\n",
       "      <td>Platform</td>\n",
       "      <td>0.01</td>\n",
       "      <td>0.00</td>\n",
       "      <td>0.00</td>\n",
       "      <td>0.00</td>\n",
       "      <td>0.0</td>\n",
       "      <td>0.0</td>\n",
       "      <td>undefined</td>\n",
       "      <td>0.01</td>\n",
       "    </tr>\n",
       "    <tr>\n",
       "      <th>16714</th>\n",
       "      <td>Winning Post 8 2016</td>\n",
       "      <td>PSV</td>\n",
       "      <td>2016</td>\n",
       "      <td>Simulation</td>\n",
       "      <td>0.00</td>\n",
       "      <td>0.00</td>\n",
       "      <td>0.01</td>\n",
       "      <td>0.00</td>\n",
       "      <td>0.0</td>\n",
       "      <td>0.0</td>\n",
       "      <td>undefined</td>\n",
       "      <td>0.01</td>\n",
       "    </tr>\n",
       "  </tbody>\n",
       "</table>\n",
       "<p>16444 rows × 12 columns</p>\n",
       "</div>"
      ],
      "text/plain": [
       "                                name platform  year_of_release         genre  \\\n",
       "0                         Wii Sports      Wii             2006        Sports   \n",
       "1                  Super Mario Bros.      NES             1985      Platform   \n",
       "2                     Mario Kart Wii      Wii             2008        Racing   \n",
       "3                  Wii Sports Resort      Wii             2009        Sports   \n",
       "4           Pokemon Red/Pokemon Blue       GB             1996  Role-Playing   \n",
       "...                              ...      ...              ...           ...   \n",
       "16710  Samurai Warriors: Sanada Maru      PS3             2016        Action   \n",
       "16711               LMA Manager 2007     X360             2006        Sports   \n",
       "16712        Haitaka no Psychedelica      PSV             2016     Adventure   \n",
       "16713               Spirits & Spells      GBA             2003      Platform   \n",
       "16714            Winning Post 8 2016      PSV             2016    Simulation   \n",
       "\n",
       "       na_sales  eu_sales  jp_sales  other_sales  critic_score  user_score  \\\n",
       "0         41.36     28.96      3.77         8.45          76.0         8.0   \n",
       "1         29.08      3.58      6.81         0.77           0.0         0.0   \n",
       "2         15.68     12.76      3.79         3.29          82.0         8.3   \n",
       "3         15.61     10.93      3.28         2.95          80.0         8.0   \n",
       "4         11.27      8.89     10.22         1.00           0.0         0.0   \n",
       "...         ...       ...       ...          ...           ...         ...   \n",
       "16710      0.00      0.00      0.01         0.00           0.0         0.0   \n",
       "16711      0.00      0.01      0.00         0.00           0.0         0.0   \n",
       "16712      0.00      0.00      0.01         0.00           0.0         0.0   \n",
       "16713      0.01      0.00      0.00         0.00           0.0         0.0   \n",
       "16714      0.00      0.00      0.01         0.00           0.0         0.0   \n",
       "\n",
       "          rating  total_sales  \n",
       "0              E        82.54  \n",
       "1      undefined        40.24  \n",
       "2              E        35.52  \n",
       "3              E        32.77  \n",
       "4      undefined        31.38  \n",
       "...          ...          ...  \n",
       "16710  undefined         0.01  \n",
       "16711  undefined         0.01  \n",
       "16712  undefined         0.01  \n",
       "16713  undefined         0.01  \n",
       "16714  undefined         0.01  \n",
       "\n",
       "[16444 rows x 12 columns]"
      ]
     },
     "metadata": {},
     "output_type": "display_data"
    }
   ],
   "source": [
    "columns = ['rating']\n",
    "game[columns] = game[columns].fillna('undefined')\n",
    "game = game.dropna(subset=['name','genre','year_of_release'])\n",
    "\n",
    "\n",
    "\n",
    "game['user_score'] = game.groupby('name')['user_score'].apply(lambda x: x.fillna(x.mean()))\n",
    "game['critic_score'] = game.groupby('name')['critic_score'].apply(lambda x: x.fillna(x.mean()))\n",
    "game['user_score'] = game.groupby('genre')['user_score'].apply(lambda x: x.fillna(x.mean()))\n",
    "game['critic_score'] = game.groupby('genre')['critic_score'].apply(lambda x: x.fillna(x.mean()))\n",
    "#print(game)\n",
    "display(game)\n",
    "# Rating - None, No way to quantify\n",
    "# User Score and Critic Score - Filled with the mean\n",
    "# Name and Genre-Drop, Only 2 missing values\n",
    "# Year of release - drop, dont want to misrepresent what year games were released."
   ]
  },
  {
   "cell_type": "markdown",
   "metadata": {},
   "source": [
    "Rating - Undefined, No way to quantify\n",
    " User Score and Critic Score - Filled with the mean based upon game name(multiple platforms and same game). \n",
    " If it wsnt found in name, filled with mean among the same genre.\n",
    " Name and Genre-Drop, Only 2 missing values\n",
    " Year of release - drop, dont want to misrepresent what year games were released."
   ]
  },
  {
   "cell_type": "code",
   "execution_count": 59,
   "metadata": {},
   "outputs": [],
   "source": [
    "sale = ['na_sales','eu_sales','jp_sales','other_sales']\n",
    "game['total_sales'] = game[sale].sum(axis=1)"
   ]
  },
  {
   "cell_type": "markdown",
   "metadata": {},
   "source": [
    "# Total Sales by Platform\n",
    "\n",
    "All time it seems like the top 5 selling platforms are the PS2, X360, PS3, Wii and DS."
   ]
  },
  {
   "cell_type": "code",
   "execution_count": 60,
   "metadata": {
    "scrolled": true
   },
   "outputs": [
    {
     "data": {
      "text/plain": [
       "Text(0, 0.5, 'Platform')"
      ]
     },
     "execution_count": 60,
     "metadata": {},
     "output_type": "execute_result"
    },
    {
     "data": {
      "image/png": "[encoded data removed]",
      "text/plain": [
       "<Figure size 648x648 with 1 Axes>"
      ]
     },
     "metadata": {},
     "output_type": "display_data"
    }
   ],
   "source": [
    "game_totals = game.groupby(\"platform\")[\"total_sales\"].sum().sort_values()\n",
    "ax = game_totals.plot(kind=\"barh\", fontsize=9, figsize=(9,9),title='Total Sales by Platform',ylabel='Total Sales',xlabel='Platform')\n",
    "ax.set_xlabel(\"Total Sales\")\n",
    "ax.set_ylabel(\"Platform\")\n",
    "# PS2,X360,PS3, Wii,and DS have the most total sales all time. Doesn't show if those sales have fallen off or if they were from one specific time period, etc."
   ]
  },
  {
   "cell_type": "code",
   "execution_count": 61,
   "metadata": {},
   "outputs": [
    {
     "data": {
      "image/png": "[encoded data removed]",
      "text/plain": [
       "<Figure size 1440x1080 with 1 Axes>"
      ]
     },
     "metadata": {},
     "output_type": "display_data"
    }
   ],
   "source": [
    "#Line chart showing all platforms and their respective flow of sales from 1985-2015\n",
    "y = game.pivot_table(index='year_of_release',columns='platform',values='total_sales', aggfunc='sum').plot.line(figsize=(20,15),title='Platorm Total Sales from 1980-2015')\n"
   ]
  },
  {
   "cell_type": "markdown",
   "metadata": {},
   "source": [
    "This line chart shows the total sales for platforms over a 30 year period.\n",
    "This chart is important becuase it shows us when platforms were important.\n",
    "It helps balance out the last chart as some platforms had alot of sales but it might have been in an irrelevant time period."
   ]
  },
  {
   "cell_type": "code",
   "execution_count": 62,
   "metadata": {
    "scrolled": true
   },
   "outputs": [
    {
     "data": {
      "text/html": [
       "<div>\n",
       "<style scoped>\n",
       "    .dataframe tbody tr th:only-of-type {\n",
       "        vertical-align: middle;\n",
       "    }\n",
       "\n",
       "    .dataframe tbody tr th {\n",
       "        vertical-align: top;\n",
       "    }\n",
       "\n",
       "    .dataframe thead th {\n",
       "        text-align: right;\n",
       "    }\n",
       "</style>\n",
       "<table border=\"1\" class=\"dataframe\">\n",
       "  <thead>\n",
       "    <tr style=\"text-align: right;\">\n",
       "      <th></th>\n",
       "      <th></th>\n",
       "      <th>total_sales</th>\n",
       "    </tr>\n",
       "    <tr>\n",
       "      <th>platform</th>\n",
       "      <th>year_of_release</th>\n",
       "      <th></th>\n",
       "    </tr>\n",
       "  </thead>\n",
       "  <tbody>\n",
       "    <tr>\n",
       "      <th rowspan=\"5\" valign=\"top\">2600</th>\n",
       "      <th>1980</th>\n",
       "      <td>11.38</td>\n",
       "    </tr>\n",
       "    <tr>\n",
       "      <th>1981</th>\n",
       "      <td>35.68</td>\n",
       "    </tr>\n",
       "    <tr>\n",
       "      <th>1982</th>\n",
       "      <td>28.88</td>\n",
       "    </tr>\n",
       "    <tr>\n",
       "      <th>1983</th>\n",
       "      <td>5.84</td>\n",
       "    </tr>\n",
       "    <tr>\n",
       "      <th>1984</th>\n",
       "      <td>0.27</td>\n",
       "    </tr>\n",
       "    <tr>\n",
       "      <th>...</th>\n",
       "      <th>...</th>\n",
       "      <td>...</td>\n",
       "    </tr>\n",
       "    <tr>\n",
       "      <th>XB</th>\n",
       "      <th>2008</th>\n",
       "      <td>0.18</td>\n",
       "    </tr>\n",
       "    <tr>\n",
       "      <th rowspan=\"4\" valign=\"top\">XOne</th>\n",
       "      <th>2013</th>\n",
       "      <td>18.96</td>\n",
       "    </tr>\n",
       "    <tr>\n",
       "      <th>2014</th>\n",
       "      <td>54.07</td>\n",
       "    </tr>\n",
       "    <tr>\n",
       "      <th>2015</th>\n",
       "      <td>60.14</td>\n",
       "    </tr>\n",
       "    <tr>\n",
       "      <th>2016</th>\n",
       "      <td>26.15</td>\n",
       "    </tr>\n",
       "  </tbody>\n",
       "</table>\n",
       "<p>238 rows × 1 columns</p>\n",
       "</div>"
      ],
      "text/plain": [
       "                          total_sales\n",
       "platform year_of_release             \n",
       "2600     1980                   11.38\n",
       "         1981                   35.68\n",
       "         1982                   28.88\n",
       "         1983                    5.84\n",
       "         1984                    0.27\n",
       "...                               ...\n",
       "XB       2008                    0.18\n",
       "XOne     2013                   18.96\n",
       "         2014                   54.07\n",
       "         2015                   60.14\n",
       "         2016                   26.15\n",
       "\n",
       "[238 rows x 1 columns]"
      ]
     },
     "execution_count": 62,
     "metadata": {},
     "output_type": "execute_result"
    }
   ],
   "source": [
    "platform_yr = game.groupby([\"platform\",'year_of_release']).sum().sort_values(\"total_sales\", ascending=False)\n",
    "game_plat_year = game.pivot_table(index=['platform','year_of_release'],values='total_sales',aggfunc='sum')\n",
    "game_plat_year\n",
    "#Grouped by Total Sales by Platform by Year to create a graph to see whose sales are growing/dying and the time period of the sales."
   ]
  },
  {
   "cell_type": "markdown",
   "metadata": {},
   "source": [
    "# Total Gaming Sales Trends\n",
    "It seems that gaming was unpopular into late 90s. \n",
    "In the early 2000s sales start to pick up and hit a peak in 2010.\n",
    "Sales started to decline in the 2010s but they are still high compared to it's history."
   ]
  },
  {
   "cell_type": "code",
   "execution_count": 63,
   "metadata": {},
   "outputs": [
    {
     "data": {
      "text/plain": [
       "Text(0, 0.5, 'Total Sales')"
      ]
     },
     "execution_count": 63,
     "metadata": {},
     "output_type": "execute_result"
    },
    {
     "data": {
      "image/png": "[encoded data removed]",
      "text/plain": [
       "<Figure size 648x648 with 1 Axes>"
      ]
     },
     "metadata": {},
     "output_type": "display_data"
    }
   ],
   "source": [
    "total_gaming = game['year_of_release']\n",
    "ax = total_gaming.plot(kind=\"hist\", fontsize=10, figsize=(9,9),title='Total Gaming Sales Trends',ylabel='Year',xlabel='Total Sales')\n",
    "ax.set_xlabel(\"Year\")\n",
    "ax.set_ylabel(\"Total Sales\")"
   ]
  },
  {
   "cell_type": "markdown",
   "metadata": {},
   "source": [
    "Platforms that were popular but now have 0 sales: PS2, Wii, DS, PS\n",
    "\n",
    "How long it takes for new platforms to appear: 4 years\n",
    "\n",
    "How long it takes for old platforms to fade away: 10 years"
   ]
  },
  {
   "cell_type": "code",
   "execution_count": 64,
   "metadata": {},
   "outputs": [
    {
     "data": {
      "text/html": [
       "<div>\n",
       "<style scoped>\n",
       "    .dataframe tbody tr th:only-of-type {\n",
       "        vertical-align: middle;\n",
       "    }\n",
       "\n",
       "    .dataframe tbody tr th {\n",
       "        vertical-align: top;\n",
       "    }\n",
       "\n",
       "    .dataframe thead th {\n",
       "        text-align: right;\n",
       "    }\n",
       "</style>\n",
       "<table border=\"1\" class=\"dataframe\">\n",
       "  <thead>\n",
       "    <tr style=\"text-align: right;\">\n",
       "      <th></th>\n",
       "      <th>eu_sales</th>\n",
       "      <th>jp_sales</th>\n",
       "      <th>na_sales</th>\n",
       "      <th>other_sales</th>\n",
       "      <th>total_sales</th>\n",
       "    </tr>\n",
       "    <tr>\n",
       "      <th>platform</th>\n",
       "      <th></th>\n",
       "      <th></th>\n",
       "      <th></th>\n",
       "      <th></th>\n",
       "      <th></th>\n",
       "    </tr>\n",
       "  </thead>\n",
       "  <tbody>\n",
       "    <tr>\n",
       "      <th>3DS</th>\n",
       "      <td>61.27</td>\n",
       "      <td>100.62</td>\n",
       "      <td>82.65</td>\n",
       "      <td>13.27</td>\n",
       "      <td>257.81</td>\n",
       "    </tr>\n",
       "    <tr>\n",
       "      <th>DS</th>\n",
       "      <td>9.24</td>\n",
       "      <td>8.04</td>\n",
       "      <td>18.86</td>\n",
       "      <td>2.59</td>\n",
       "      <td>38.73</td>\n",
       "    </tr>\n",
       "    <tr>\n",
       "      <th>PC</th>\n",
       "      <td>56.70</td>\n",
       "      <td>0.00</td>\n",
       "      <td>29.88</td>\n",
       "      <td>11.10</td>\n",
       "      <td>97.68</td>\n",
       "    </tr>\n",
       "    <tr>\n",
       "      <th>PS2</th>\n",
       "      <td>0.13</td>\n",
       "      <td>0.09</td>\n",
       "      <td>0.13</td>\n",
       "      <td>0.10</td>\n",
       "      <td>0.45</td>\n",
       "    </tr>\n",
       "    <tr>\n",
       "      <th>PS3</th>\n",
       "      <td>163.10</td>\n",
       "      <td>49.39</td>\n",
       "      <td>168.26</td>\n",
       "      <td>64.82</td>\n",
       "      <td>445.57</td>\n",
       "    </tr>\n",
       "    <tr>\n",
       "      <th>PS4</th>\n",
       "      <td>141.09</td>\n",
       "      <td>15.96</td>\n",
       "      <td>108.74</td>\n",
       "      <td>48.35</td>\n",
       "      <td>314.14</td>\n",
       "    </tr>\n",
       "    <tr>\n",
       "      <th>PSP</th>\n",
       "      <td>1.77</td>\n",
       "      <td>24.04</td>\n",
       "      <td>2.19</td>\n",
       "      <td>1.01</td>\n",
       "      <td>29.01</td>\n",
       "    </tr>\n",
       "    <tr>\n",
       "      <th>PSV</th>\n",
       "      <td>13.07</td>\n",
       "      <td>21.84</td>\n",
       "      <td>12.47</td>\n",
       "      <td>6.43</td>\n",
       "      <td>53.81</td>\n",
       "    </tr>\n",
       "    <tr>\n",
       "      <th>Wii</th>\n",
       "      <td>29.60</td>\n",
       "      <td>8.97</td>\n",
       "      <td>48.56</td>\n",
       "      <td>7.89</td>\n",
       "      <td>95.02</td>\n",
       "    </tr>\n",
       "    <tr>\n",
       "      <th>WiiU</th>\n",
       "      <td>25.13</td>\n",
       "      <td>13.01</td>\n",
       "      <td>38.10</td>\n",
       "      <td>5.95</td>\n",
       "      <td>82.19</td>\n",
       "    </tr>\n",
       "    <tr>\n",
       "      <th>X360</th>\n",
       "      <td>117.10</td>\n",
       "      <td>3.35</td>\n",
       "      <td>226.80</td>\n",
       "      <td>33.13</td>\n",
       "      <td>380.38</td>\n",
       "    </tr>\n",
       "    <tr>\n",
       "      <th>XOne</th>\n",
       "      <td>51.59</td>\n",
       "      <td>0.34</td>\n",
       "      <td>93.12</td>\n",
       "      <td>14.27</td>\n",
       "      <td>159.32</td>\n",
       "    </tr>\n",
       "  </tbody>\n",
       "</table>\n",
       "</div>"
      ],
      "text/plain": [
       "          eu_sales  jp_sales  na_sales  other_sales  total_sales\n",
       "platform                                                        \n",
       "3DS          61.27    100.62     82.65        13.27       257.81\n",
       "DS            9.24      8.04     18.86         2.59        38.73\n",
       "PC           56.70      0.00     29.88        11.10        97.68\n",
       "PS2           0.13      0.09      0.13         0.10         0.45\n",
       "PS3         163.10     49.39    168.26        64.82       445.57\n",
       "PS4         141.09     15.96    108.74        48.35       314.14\n",
       "PSP           1.77     24.04      2.19         1.01        29.01\n",
       "PSV          13.07     21.84     12.47         6.43        53.81\n",
       "Wii          29.60      8.97     48.56         7.89        95.02\n",
       "WiiU         25.13     13.01     38.10         5.95        82.19\n",
       "X360        117.10      3.35    226.80        33.13       380.38\n",
       "XOne         51.59      0.34     93.12        14.27       159.32"
      ]
     },
     "execution_count": 64,
     "metadata": {},
     "output_type": "execute_result"
    }
   ],
   "source": [
    "game2= (game.query('year_of_release > 2010').pivot_table(index='platform',values=['na_sales','eu_sales','jp_sales','other_sales','total_sales'],aggfunc='sum'))\n",
    "game2"
   ]
  },
  {
   "cell_type": "markdown",
   "metadata": {},
   "source": [
    "# Popular Platforms by Country\n",
    "Microsoft products(XOne and X360) are most popular in North America.\n",
    "\n",
    "Sony(PS3 and PS4) is huge in Europe.\n",
    "\n",
    "Nintendo(3DS) is extermely popular in Japan."
   ]
  },
  {
   "cell_type": "code",
   "execution_count": 65,
   "metadata": {
    "scrolled": true
   },
   "outputs": [],
   "source": [
    "g =('PS3','PS4','X360','3DS','XOne')\n",
    "game2 = game.loc[game['platform'].isin(g)]\n",
    "#game2['platform'].hist(bins=30, alpha=0.8,figsize=(6,6))\n",
    "#game2"
   ]
  },
  {
   "cell_type": "code",
   "execution_count": 66,
   "metadata": {
    "scrolled": false
   },
   "outputs": [
    {
     "data": {
      "image/png": "[encoded data removed]",
      "text/plain": [
       "<Figure size 1584x576 with 3 Axes>"
      ]
     },
     "metadata": {},
     "output_type": "display_data"
    }
   ],
   "source": [
    "sns.set_theme(palette='tab20', style='darkgrid')\n",
    "fig, axs= plt.subplots(1,3, figsize=(22,8))\n",
    "\n",
    "sns.barplot(x='eu_sales', y='platform', data=game2, ax=axs[2])\n",
    "axs[2].set_title('Europe',fontsize=10)\n",
    "axs[2].set_xlabel('Total Sales', fontsize=10)\n",
    "axs[2].set(ylabel=None)\n",
    "\n",
    "sns.barplot(x='na_sales', y='platform', data=game2, ax=axs[1])\n",
    "axs[1].set_title('North America',fontsize=10)\n",
    "axs[1].set(ylabel=None)\n",
    "axs[1].set_xlabel('Total Sales',fontsize=10)\n",
    "\n",
    "sns.barplot(x='jp_sales', y='platform', data=game2, ax=axs[0])\n",
    "axs[0].set_title('Japan',fontsize=10)\n",
    "axs[0].set(ylabel='Platforms')\n",
    "axs[0].set_xlabel('Total Sales',fontsize=10)\n",
    "\n",
    "plt.suptitle('Market shares for top gaming platforms in different countries.',fontsize=18,style='oblique');"
   ]
  },
  {
   "cell_type": "markdown",
   "metadata": {},
   "source": [
    "# Top Genres between Platforms and Countries\n",
    "\n",
    "Roleplaying and Simulation are strong in Japan, whilst Shooters, Action and Racing are big in Europe and North America.\n",
    "\n",
    "The most profitable genres are Shooters and then Role-Playing.\n",
    "\n",
    "Puzzle, Strategy and Adventure are low sales between all regions. \n",
    "I imagine that they aren't popular genres between the top platforms.\n"
   ]
  },
  {
   "cell_type": "code",
   "execution_count": 67,
   "metadata": {
    "scrolled": true
   },
   "outputs": [
    {
     "data": {
      "image/png": "[encoded data removed]",
      "text/plain": [
       "<Figure size 1584x576 with 3 Axes>"
      ]
     },
     "metadata": {},
     "output_type": "display_data"
    }
   ],
   "source": [
    "fig, axs= plt.subplots(1,3, figsize=(22,8))\n",
    "\n",
    "sns.barplot(x='eu_sales', y='genre', data=game2, ax=axs[2])\n",
    "axs[2].set_title('Europe',fontsize=10)\n",
    "axs[2].set_xlabel('Total Sales', fontsize=10)\n",
    "axs[2].set(ylabel=None)\n",
    "\n",
    "sns.barplot(x='na_sales', y='genre', data=game2, ax=axs[1])\n",
    "axs[1].set_title('North America',fontsize=10)\n",
    "axs[1].set(ylabel=None)\n",
    "axs[1].set_xlabel('Total Sales',fontsize=10)\n",
    "\n",
    "sns.barplot(x='jp_sales', y='genre', data=game2, ax=axs[0])\n",
    "axs[0].set_title('Japan',fontsize=10)\n",
    "axs[0].set(ylabel='Genres')\n",
    "axs[0].set_xlabel('Total Sales',fontsize=10)\n",
    "\n",
    "plt.suptitle('Market shares for top genres on top platforms in different countries.',fontsize=18,style='oblique');"
   ]
  },
  {
   "cell_type": "markdown",
   "metadata": {},
   "source": [
    "# ESRB ratings for Total Sales\n",
    "E, E10+, M and T are the top ESRB ratings for total sales in all the regions."
   ]
  },
  {
   "cell_type": "code",
   "execution_count": 68,
   "metadata": {},
   "outputs": [
    {
     "data": {
      "text/plain": [
       "array([<AxesSubplot:ylabel='eu_sales'>, <AxesSubplot:ylabel='jp_sales'>,\n",
       "       <AxesSubplot:ylabel='na_sales'>], dtype=object)"
      ]
     },
     "execution_count": 68,
     "metadata": {},
     "output_type": "execute_result"
    },
    {
     "data": {
      "image/png": "[encoded data removed]",
      "text/plain": [
       "<Figure size 1800x720 with 3 Axes>"
      ]
     },
     "metadata": {},
     "output_type": "display_data"
    }
   ],
   "source": [
    "ratingtotalsale = game.pivot_table(index='rating',values=['na_sales','eu_sales','jp_sales'],aggfunc='sum').plot.pie(subplots=True,figsize=(25,10))\n",
    "ratingtotalsale"
   ]
  },
  {
   "cell_type": "markdown",
   "metadata": {},
   "source": [
    "# PS3 User and Critic Reviews"
   ]
  },
  {
   "cell_type": "code",
   "execution_count": 69,
   "metadata": {},
   "outputs": [],
   "source": [
    "game3 = game[game['platform'] == 'PS3'] \n",
    "game3 = game3[game3['critic_score'] > 0]\n",
    "game3 = game3[game3['user_score'] > 0]\n"
   ]
  },
  {
   "cell_type": "code",
   "execution_count": 70,
   "metadata": {
    "scrolled": true
   },
   "outputs": [
    {
     "data": {
      "text/html": [
       "<div>\n",
       "<style scoped>\n",
       "    .dataframe tbody tr th:only-of-type {\n",
       "        vertical-align: middle;\n",
       "    }\n",
       "\n",
       "    .dataframe tbody tr th {\n",
       "        vertical-align: top;\n",
       "    }\n",
       "\n",
       "    .dataframe thead th {\n",
       "        text-align: right;\n",
       "    }\n",
       "</style>\n",
       "<table border=\"1\" class=\"dataframe\">\n",
       "  <thead>\n",
       "    <tr style=\"text-align: right;\">\n",
       "      <th></th>\n",
       "      <th>total_sales</th>\n",
       "      <th>critic_score</th>\n",
       "      <th>user_score</th>\n",
       "    </tr>\n",
       "  </thead>\n",
       "  <tbody>\n",
       "    <tr>\n",
       "      <th>total_sales</th>\n",
       "      <td>1.000000</td>\n",
       "      <td>0.510845</td>\n",
       "      <td>0.105682</td>\n",
       "    </tr>\n",
       "    <tr>\n",
       "      <th>critic_score</th>\n",
       "      <td>0.510845</td>\n",
       "      <td>1.000000</td>\n",
       "      <td>0.572460</td>\n",
       "    </tr>\n",
       "    <tr>\n",
       "      <th>user_score</th>\n",
       "      <td>0.105682</td>\n",
       "      <td>0.572460</td>\n",
       "      <td>1.000000</td>\n",
       "    </tr>\n",
       "  </tbody>\n",
       "</table>\n",
       "</div>"
      ],
      "text/plain": [
       "              total_sales  critic_score  user_score\n",
       "total_sales      1.000000      0.510845    0.105682\n",
       "critic_score     0.510845      1.000000    0.572460\n",
       "user_score       0.105682      0.572460    1.000000"
      ]
     },
     "execution_count": 70,
     "metadata": {},
     "output_type": "execute_result"
    },
    {
     "data": {
      "image/png": "[encoded data removed]",
      "text/plain": [
       "<Figure size 432x288 with 1 Axes>"
      ]
     },
     "metadata": {},
     "output_type": "display_data"
    },
    {
     "data": {
      "image/png": "[encoded data removed]",
      "text/plain": [
       "<Figure size 432x288 with 1 Axes>"
      ]
     },
     "metadata": {},
     "output_type": "display_data"
    }
   ],
   "source": [
    "ps3critic = game3.plot.scatter(x='total_sales', y='critic_score',c='DarkBlue', title='PS3 Critic Reviews')\n",
    "ps3user = game3.plot.scatter(x='total_sales', y='user_score',c='red', title= 'PS3 User Reviews')\n",
    "ps3_corr = game3.pivot_table(index='total_sales', values=['user_score','critic_score']).reset_index()\n",
    "ps3_corr.corr()"
   ]
  },
  {
   "cell_type": "markdown",
   "metadata": {},
   "source": [
    "Both have small correlation. \n",
    "PS3 Critic has a higher correlation score than User but they both arent strong.\n",
    "These relationships are displayed on the graphs."
   ]
  },
  {
   "cell_type": "markdown",
   "metadata": {},
   "source": [
    "# Market Share for Platform by Country"
   ]
  },
  {
   "cell_type": "code",
   "execution_count": 71,
   "metadata": {},
   "outputs": [],
   "source": [
    "g =('PS3','PS4','X360','3DS','XOne')\n",
    "game4 = game.loc[game['platform'].isin(g)]"
   ]
  },
  {
   "cell_type": "code",
   "execution_count": 72,
   "metadata": {},
   "outputs": [
    {
     "data": {
      "text/plain": [
       "Text(0.5, 0.98, 'Market shares for ratings on top platforms in different countries.')"
      ]
     },
     "execution_count": 72,
     "metadata": {},
     "output_type": "execute_result"
    },
    {
     "data": {
      "image/png": "[encoded data removed]",
      "text/plain": [
       "<Figure size 1584x576 with 3 Axes>"
      ]
     },
     "metadata": {},
     "output_type": "display_data"
    }
   ],
   "source": [
    "fig, axs= plt.subplots(1,3, figsize=(22,8))\n",
    "\n",
    "sns.barplot(x='eu_sales', y='rating', data=game4, ax=axs[2])\n",
    "axs[2].set_title('Europe',fontsize=10)\n",
    "axs[2].set_xlabel('Total Sales', fontsize=10)\n",
    "axs[2].set(ylabel=None)\n",
    "\n",
    "sns.barplot(x='na_sales', y='rating', data=game4, ax=axs[1])\n",
    "axs[1].set_title('North America',fontsize=10)\n",
    "axs[1].set(ylabel=None)\n",
    "axs[1].set_xlabel('Total Sales',fontsize=10)\n",
    "\n",
    "sns.barplot(x='jp_sales', y='rating', data=game4, ax=axs[0])\n",
    "axs[0].set_title('Japan',fontsize=10)\n",
    "axs[0].set(ylabel='Genres')\n",
    "axs[0].set_xlabel('Total Sales',fontsize=10)\n",
    "\n",
    "plt.suptitle('Market shares for ratings on top platforms in different countries.',fontsize=18,style='oblique')"
   ]
  },
  {
   "cell_type": "markdown",
   "metadata": {},
   "source": [
    "# Total Sales by Game by Platform\n",
    "The sony product when sold on various platforms usually sold more in relation to its competitiors."
   ]
  },
  {
   "cell_type": "code",
   "execution_count": 73,
   "metadata": {},
   "outputs": [
    {
     "data": {
      "text/plain": [
       "<AxesSubplot:title={'center':'Total sales by game by platform'}, xlabel='name,platform'>"
      ]
     },
     "execution_count": 73,
     "metadata": {},
     "output_type": "execute_result"
    },
    {
     "data": {
      "image/png": "[encoded data removed]",
      "text/plain": [
       "<Figure size 432x288 with 1 Axes>"
      ]
     },
     "metadata": {},
     "output_type": "display_data"
    }
   ],
   "source": [
    "#Compare the sales of the same games on other platforms\n",
    "#maybe top 10-20 and looknat their sales across the different platforms. That would look like :\n",
    "#Subsetting data to most popular games\n",
    "#making a groupped bar chart of the sales on different playtform a for each game\n",
    "k = game.pivot_table(index='name',values=['total_sales'],aggfunc='sum').sort_values(by='total_sales',ascending=False)\n",
    "hk =('Wii Sports','Grand Theft Auto V','Super Mario Bros.','Tetris','Mario Kart Wii','Wii Sports Resort','Pokemon Red/Pokemon Blue','Call of Duty: Modern Warfare 3','New Super Mario Bros.','Call of Duty: Black Ops II')\n",
    "game5 = game.loc[game['name'].isin(hk)]\n",
    "game5.pivot_table(index=['name','platform'],values='total_sales',aggfunc='sum').plot.bar(title='Total sales by game by platform')\n"
   ]
  },
  {
   "cell_type": "markdown",
   "metadata": {},
   "source": [
    "# Hypothesis Testing"
   ]
  },
  {
   "cell_type": "markdown",
   "metadata": {},
   "source": [
    "# Hypothesis One: Avg User Rating for X-Box One/PC are the same. \n",
    "\n",
    "The Null hypothesis (H0) is that the average user ratings of the Xbox One and PC platforms belongs to the same statistical population.\n",
    "\n",
    "The Alternative hypothesis (H1) is that the average user ratings of the Xbox One and PC platforms doesn't belong to the same statistical population.\n",
    "\n",
    "The significance level be 0.05."
   ]
  },
  {
   "cell_type": "code",
   "execution_count": 74,
   "metadata": {},
   "outputs": [
    {
     "name": "stdout",
     "output_type": "stream",
     "text": [
      "p-value from test:  0.12035\n",
      "p-value: 0.78319574565435\n",
      "We can't reject the null hypothesis\n"
     ]
    }
   ],
   "source": [
    "xboxrate = game.query('platform == \"XOne\"')\n",
    "pcrate = game.query('platform == \"PC\"')\n",
    "\n",
    "xboxrateuser = xboxrate.pivot_table(index=['year_of_release', 'platform'], values=['user_score']).reset_index()\n",
    "pcrateuser = pcrate.pivot_table(index=['year_of_release', 'platform'], values=['user_score']).reset_index()\n",
    "\n",
    "xbox = xboxrateuser['user_score']\n",
    "pc = pcrateuser['user_score']\n",
    "\n",
    "stat, p = levene(xbox, pc)\n",
    "print(\"p-value from test: \", p.round(5))\n",
    "\n",
    "alpha = 0.05 \n",
    "\n",
    "results = st.ttest_ind(xbox,pc, equal_var=True)\n",
    "\n",
    "print('p-value:', results.pvalue)\n",
    "\n",
    "if (results.pvalue < alpha):\n",
    "    print(\"We reject the null hypothesis\")\n",
    "else:\n",
    "    print(\"We can't reject the null hypothesis\")"
   ]
  },
  {
   "cell_type": "markdown",
   "metadata": {},
   "source": [
    "# Hypothesis Two: Avg User Rating for Action/Sports are different. \n",
    "\n",
    "The Null hypothesis (H0) : the average user ratings of the Action and Sports are belongs to the same statistical population.\n",
    "    \n",
    "The Alternative hypothesis (H1) : the average user ratings of the Action and Sports are not belongs to the same statistical population.\n",
    "    \n",
    "The significance level be 0.05."
   ]
  },
  {
   "cell_type": "code",
   "execution_count": 75,
   "metadata": {},
   "outputs": [
    {
     "name": "stdout",
     "output_type": "stream",
     "text": [
      "p-value from test:  0.79198\n",
      "p-value: 0.6646898017039122\n",
      "We can't reject the null hypothesis\n"
     ]
    }
   ],
   "source": [
    "actiongenre = game.query('genre == \"Action\"')\n",
    "sportgenre = game.query('genre == \"Sports\"')\n",
    "\n",
    "actionuser = actiongenre.pivot_table(index=['year_of_release', 'genre'], values=['user_score']).reset_index()\n",
    "sportuser = sportgenre.pivot_table(index=['year_of_release', 'genre'], values=['user_score']).reset_index()\n",
    "\n",
    "action = actionuser['user_score']\n",
    "sports = sportuser['user_score']\n",
    "\n",
    "stat, p = levene(action, sports)\n",
    "print(\"p-value from test: \", p.round(5))\n",
    "\n",
    "alpha = 0.05 \n",
    "\n",
    "results = st.ttest_ind(action,sports, equal_var=True)\n",
    "\n",
    "print('p-value:', results.pvalue)\n",
    "\n",
    "if (results.pvalue < alpha):\n",
    "    print(\"We reject the null hypothesis\")\n",
    "else:\n",
    "    print(\"We can't reject the null hypothesis\")"
   ]
  },
  {
   "cell_type": "markdown",
   "metadata": {},
   "source": [
    "# Conclusion\n",
    "\n",
    "\n",
    "The analysis showed that users from different areas prefer different genres. Action, Shooters, and Sports are sought after in the western countries, While the eastern market is focused mainly on Role-Playing and Simulation.\n",
    "\n",
    "Just as genres are different in the various regions so are the preferred platforms. In North America, customers prefer Microsoft products(XOne & X360). In Europe, Sony is the preferred manufacturer with PS3 and PS4 leading the way. Nintendo(3DS) is the most popular in Japan which is no surprise as Nintendo was created in Japan.\n",
    "\n",
    "M(Mature) and E(Everyone) are the most popular among the three regions. If games were to be sold in any of the regions they should definetily aim to have the game in one of those two rating classes."
   ]
  }
 ],
 "metadata": {
  "ExecuteTimeLog": [
   {
    "duration": 5,
    "start_time": "2022-07-14T22:17:57.183Z"
   },
   {
    "duration": 235,
    "start_time": "2022-07-14T22:17:57.485Z"
   },
   {
    "duration": 85,
    "start_time": "2022-07-14T22:18:07.620Z"
   },
   {
    "duration": 101,
    "start_time": "2022-07-14T22:18:26.025Z"
   },
   {
    "duration": 4,
    "start_time": "2022-07-14T22:20:41.453Z"
   },
   {
    "duration": 21,
    "start_time": "2022-07-14T22:20:46.617Z"
   },
   {
    "duration": 107,
    "start_time": "2022-07-14T22:21:06.815Z"
   },
   {
    "duration": 5,
    "start_time": "2022-07-14T22:27:02.399Z"
   },
   {
    "duration": 25,
    "start_time": "2022-07-14T22:27:13.148Z"
   },
   {
    "duration": 25,
    "start_time": "2022-07-14T22:27:23.797Z"
   },
   {
    "duration": 1073,
    "start_time": "2022-07-14T22:27:36.527Z"
   },
   {
    "duration": 101,
    "start_time": "2022-07-14T22:27:37.602Z"
   },
   {
    "duration": 20,
    "start_time": "2022-07-14T22:27:40.984Z"
   },
   {
    "duration": 118,
    "start_time": "2022-07-14T22:28:25.340Z"
   },
   {
    "duration": 1105,
    "start_time": "2022-07-14T22:28:39.384Z"
   },
   {
    "duration": 101,
    "start_time": "2022-07-14T22:28:40.491Z"
   },
   {
    "duration": 91,
    "start_time": "2022-07-14T22:28:40.594Z"
   },
   {
    "duration": 22,
    "start_time": "2022-07-14T22:29:55.193Z"
   },
   {
    "duration": 1061,
    "start_time": "2022-07-14T22:30:15.765Z"
   },
   {
    "duration": 105,
    "start_time": "2022-07-14T22:30:16.973Z"
   },
   {
    "duration": 20,
    "start_time": "2022-07-14T22:30:24.096Z"
   },
   {
    "duration": 20,
    "start_time": "2022-07-14T22:36:12.372Z"
   },
   {
    "duration": 90,
    "start_time": "2022-07-14T22:37:41.534Z"
   },
   {
    "duration": 92,
    "start_time": "2022-07-14T22:37:51.853Z"
   },
   {
    "duration": 203,
    "start_time": "2022-07-14T22:38:53.881Z"
   },
   {
    "duration": 13,
    "start_time": "2022-07-14T22:39:19.914Z"
   },
   {
    "duration": 12,
    "start_time": "2022-07-14T22:41:41.719Z"
   },
   {
    "duration": 12,
    "start_time": "2022-07-14T22:42:20.366Z"
   },
   {
    "duration": 12,
    "start_time": "2022-07-14T22:42:28.721Z"
   },
   {
    "duration": 12,
    "start_time": "2022-07-14T22:42:37.359Z"
   },
   {
    "duration": 540,
    "start_time": "2022-07-14T22:43:17.259Z"
   },
   {
    "duration": 49,
    "start_time": "2022-07-14T22:43:45.989Z"
   },
   {
    "duration": 45,
    "start_time": "2022-07-14T22:43:53.367Z"
   },
   {
    "duration": 7,
    "start_time": "2022-07-14T22:44:08.446Z"
   },
   {
    "duration": 12,
    "start_time": "2022-07-14T22:44:28.205Z"
   },
   {
    "duration": 12,
    "start_time": "2022-07-14T22:45:01.534Z"
   },
   {
    "duration": 45,
    "start_time": "2022-07-14T22:47:43.891Z"
   },
   {
    "duration": 11,
    "start_time": "2022-07-14T22:47:55.515Z"
   },
   {
    "duration": 10,
    "start_time": "2022-07-14T22:48:42.769Z"
   },
   {
    "duration": 12,
    "start_time": "2022-07-14T22:50:11.143Z"
   },
   {
    "duration": 48,
    "start_time": "2022-07-14T22:50:37.946Z"
   },
   {
    "duration": 14,
    "start_time": "2022-07-14T22:50:43.514Z"
   },
   {
    "duration": 9,
    "start_time": "2022-07-14T23:08:58.280Z"
   },
   {
    "duration": 18,
    "start_time": "2022-07-14T23:09:07.345Z"
   },
   {
    "duration": 11,
    "start_time": "2022-07-14T23:09:16.133Z"
   },
   {
    "duration": 6,
    "start_time": "2022-07-14T23:11:28.171Z"
   },
   {
    "duration": 10,
    "start_time": "2022-07-14T23:12:12.486Z"
   },
   {
    "duration": 14,
    "start_time": "2022-07-14T23:14:32.320Z"
   },
   {
    "duration": 21,
    "start_time": "2022-07-14T23:14:39.388Z"
   },
   {
    "duration": 25,
    "start_time": "2022-07-14T23:14:55.617Z"
   },
   {
    "duration": 38,
    "start_time": "2022-07-14T23:15:18.022Z"
   },
   {
    "duration": 5,
    "start_time": "2022-07-14T23:16:37.143Z"
   },
   {
    "duration": 92,
    "start_time": "2022-07-14T23:16:38.062Z"
   },
   {
    "duration": 35,
    "start_time": "2022-07-14T23:16:38.759Z"
   },
   {
    "duration": 36,
    "start_time": "2022-07-14T23:17:20.006Z"
   },
   {
    "duration": 88,
    "start_time": "2022-07-14T23:19:21.744Z"
   },
   {
    "duration": 1513,
    "start_time": "2022-07-15T14:18:38.970Z"
   },
   {
    "duration": 261,
    "start_time": "2022-07-15T14:18:40.486Z"
   },
   {
    "duration": 122,
    "start_time": "2022-07-15T14:18:40.749Z"
   },
   {
    "duration": 5,
    "start_time": "2022-07-15T14:19:14.106Z"
   },
   {
    "duration": 107,
    "start_time": "2022-07-15T14:19:46.063Z"
   },
   {
    "duration": 4,
    "start_time": "2022-07-15T14:19:49.877Z"
   },
   {
    "duration": 190,
    "start_time": "2022-07-15T14:22:23.723Z"
   },
   {
    "duration": 11,
    "start_time": "2022-07-15T14:23:00.776Z"
   },
   {
    "duration": 389,
    "start_time": "2022-07-15T14:23:35.799Z"
   },
   {
    "duration": 521,
    "start_time": "2022-07-15T14:23:54.865Z"
   },
   {
    "duration": 117,
    "start_time": "2022-07-15T14:24:10.214Z"
   },
   {
    "duration": 17,
    "start_time": "2022-07-15T14:32:31.340Z"
   },
   {
    "duration": 6,
    "start_time": "2022-07-15T14:40:39.244Z"
   },
   {
    "duration": 21,
    "start_time": "2022-07-15T14:56:50.194Z"
   },
   {
    "duration": 1230,
    "start_time": "2022-07-15T14:58:59.696Z"
   },
   {
    "duration": 145,
    "start_time": "2022-07-15T14:59:00.928Z"
   },
   {
    "duration": 123,
    "start_time": "2022-07-15T14:59:10.135Z"
   },
   {
    "duration": 153,
    "start_time": "2022-07-15T14:59:57.759Z"
   },
   {
    "duration": 69,
    "start_time": "2022-07-15T15:10:32.400Z"
   },
   {
    "duration": 9,
    "start_time": "2022-07-15T15:10:44.330Z"
   },
   {
    "duration": 6,
    "start_time": "2022-07-15T15:10:50.761Z"
   },
   {
    "duration": 119,
    "start_time": "2022-07-15T15:10:51.233Z"
   },
   {
    "duration": 122,
    "start_time": "2022-07-15T15:10:51.522Z"
   },
   {
    "duration": 6,
    "start_time": "2022-07-15T15:10:51.790Z"
   },
   {
    "duration": 58,
    "start_time": "2022-07-15T15:10:52.478Z"
   },
   {
    "duration": 11,
    "start_time": "2022-07-15T15:11:00.800Z"
   },
   {
    "duration": 1211,
    "start_time": "2022-07-15T15:11:19.616Z"
   },
   {
    "duration": 129,
    "start_time": "2022-07-15T15:11:20.829Z"
   },
   {
    "duration": 122,
    "start_time": "2022-07-15T15:11:21.062Z"
   },
   {
    "duration": 6,
    "start_time": "2022-07-15T15:11:21.963Z"
   },
   {
    "duration": 74,
    "start_time": "2022-07-15T15:11:22.908Z"
   },
   {
    "duration": 1183,
    "start_time": "2022-07-15T15:12:48.958Z"
   },
   {
    "duration": 127,
    "start_time": "2022-07-15T15:12:50.143Z"
   },
   {
    "duration": 126,
    "start_time": "2022-07-15T15:12:54.297Z"
   },
   {
    "duration": 6,
    "start_time": "2022-07-15T15:12:56.784Z"
   },
   {
    "duration": 45,
    "start_time": "2022-07-15T15:13:02.821Z"
   },
   {
    "duration": 5,
    "start_time": "2022-07-15T15:14:26.887Z"
   },
   {
    "duration": 34,
    "start_time": "2022-07-15T15:14:45.738Z"
   },
   {
    "duration": 1602,
    "start_time": "2022-07-16T15:36:08.366Z"
   },
   {
    "duration": 173,
    "start_time": "2022-07-16T15:36:09.972Z"
   },
   {
    "duration": 259,
    "start_time": "2022-07-16T15:36:10.149Z"
   },
   {
    "duration": 7,
    "start_time": "2022-07-16T15:36:10.411Z"
   },
   {
    "duration": 77,
    "start_time": "2022-07-16T15:36:10.420Z"
   },
   {
    "duration": 14,
    "start_time": "2022-07-16T16:01:42.159Z"
   },
   {
    "duration": 28,
    "start_time": "2022-07-16T16:01:51.964Z"
   },
   {
    "duration": 20,
    "start_time": "2022-07-16T16:02:06.963Z"
   },
   {
    "duration": 25,
    "start_time": "2022-07-16T16:11:01.379Z"
   },
   {
    "duration": 22,
    "start_time": "2022-07-16T16:11:01.854Z"
   },
   {
    "duration": 317,
    "start_time": "2022-07-16T16:14:12.641Z"
   },
   {
    "duration": 58,
    "start_time": "2022-07-16T16:24:05.561Z"
   },
   {
    "duration": 16,
    "start_time": "2022-07-16T16:24:19.547Z"
   },
   {
    "duration": 29,
    "start_time": "2022-07-16T16:26:47.097Z"
   },
   {
    "duration": 2746,
    "start_time": "2022-07-16T16:29:17.796Z"
   },
   {
    "duration": 1361,
    "start_time": "2022-07-16T16:29:33.988Z"
   },
   {
    "duration": 104477,
    "start_time": "2022-07-16T16:30:24.958Z"
   },
   {
    "duration": 0,
    "start_time": "2022-07-16T16:34:22.225Z"
   },
   {
    "duration": 0,
    "start_time": "2022-07-16T16:34:22.226Z"
   },
   {
    "duration": 0,
    "start_time": "2022-07-16T16:34:22.247Z"
   },
   {
    "duration": 0,
    "start_time": "2022-07-16T16:34:22.248Z"
   },
   {
    "duration": 0,
    "start_time": "2022-07-16T16:34:22.249Z"
   },
   {
    "duration": 0,
    "start_time": "2022-07-16T16:34:22.251Z"
   },
   {
    "duration": 0,
    "start_time": "2022-07-16T16:34:22.252Z"
   },
   {
    "duration": 7,
    "start_time": "2022-07-16T16:34:29.224Z"
   },
   {
    "duration": 114,
    "start_time": "2022-07-16T16:34:31.164Z"
   },
   {
    "duration": 113,
    "start_time": "2022-07-16T16:34:33.272Z"
   },
   {
    "duration": 5,
    "start_time": "2022-07-16T16:34:33.669Z"
   },
   {
    "duration": 38,
    "start_time": "2022-07-16T16:34:34.563Z"
   },
   {
    "duration": 26,
    "start_time": "2022-07-16T16:34:35.463Z"
   },
   {
    "duration": 27,
    "start_time": "2022-07-16T16:34:43.763Z"
   },
   {
    "duration": 6,
    "start_time": "2022-07-16T16:34:53.665Z"
   },
   {
    "duration": 17,
    "start_time": "2022-07-16T16:34:54.361Z"
   },
   {
    "duration": 1093,
    "start_time": "2022-07-16T17:01:17.589Z"
   },
   {
    "duration": 121,
    "start_time": "2022-07-16T17:01:22.113Z"
   },
   {
    "duration": 97,
    "start_time": "2022-07-16T17:01:23.305Z"
   },
   {
    "duration": 44,
    "start_time": "2022-07-16T17:01:24.195Z"
   },
   {
    "duration": 10,
    "start_time": "2022-07-16T17:01:25.149Z"
   },
   {
    "duration": 3391,
    "start_time": "2022-07-16T17:01:29.352Z"
   },
   {
    "duration": 282,
    "start_time": "2022-07-16T17:01:47.949Z"
   },
   {
    "duration": 98,
    "start_time": "2022-07-16T17:02:01.259Z"
   },
   {
    "duration": 272,
    "start_time": "2022-07-16T17:02:08.067Z"
   },
   {
    "duration": 3135,
    "start_time": "2022-07-16T17:03:18.860Z"
   },
   {
    "duration": 2797,
    "start_time": "2022-07-16T17:03:28.582Z"
   },
   {
    "duration": 11,
    "start_time": "2022-07-16T17:04:02.011Z"
   },
   {
    "duration": 2713,
    "start_time": "2022-07-16T17:04:21.023Z"
   },
   {
    "duration": 18,
    "start_time": "2022-07-16T17:05:50.925Z"
   },
   {
    "duration": 68,
    "start_time": "2022-07-16T17:06:59.055Z"
   },
   {
    "duration": 6,
    "start_time": "2022-07-16T17:06:59.609Z"
   },
   {
    "duration": 1105,
    "start_time": "2022-07-16T17:07:17.046Z"
   },
   {
    "duration": 108,
    "start_time": "2022-07-16T17:07:18.152Z"
   },
   {
    "duration": 110,
    "start_time": "2022-07-16T17:07:18.261Z"
   },
   {
    "duration": 41,
    "start_time": "2022-07-16T17:07:18.823Z"
   },
   {
    "duration": 10,
    "start_time": "2022-07-16T17:07:22.816Z"
   },
   {
    "duration": 6,
    "start_time": "2022-07-16T17:07:25.042Z"
   },
   {
    "duration": 1237,
    "start_time": "2022-07-16T17:10:32.747Z"
   },
   {
    "duration": 191,
    "start_time": "2022-07-16T17:10:36.450Z"
   },
   {
    "duration": 137,
    "start_time": "2022-07-16T17:10:37.016Z"
   },
   {
    "duration": 38,
    "start_time": "2022-07-16T17:10:38.097Z"
   },
   {
    "duration": 12,
    "start_time": "2022-07-16T17:10:41.863Z"
   },
   {
    "duration": 50,
    "start_time": "2022-07-16T17:10:43.947Z"
   },
   {
    "duration": 108,
    "start_time": "2022-07-16T17:11:02.078Z"
   },
   {
    "duration": 4,
    "start_time": "2022-07-16T17:11:08.995Z"
   },
   {
    "duration": 10244,
    "start_time": "2022-07-16T17:17:50.354Z"
   },
   {
    "duration": 74234,
    "start_time": "2022-07-16T17:21:06.987Z"
   },
   {
    "duration": 8,
    "start_time": "2022-07-16T17:22:37.152Z"
   },
   {
    "duration": 7,
    "start_time": "2022-07-16T17:22:56.355Z"
   },
   {
    "duration": 221,
    "start_time": "2022-07-16T17:25:15.943Z"
   },
   {
    "duration": 230,
    "start_time": "2022-07-16T17:25:54.717Z"
   },
   {
    "duration": 465,
    "start_time": "2022-07-16T17:26:23.449Z"
   },
   {
    "duration": 38,
    "start_time": "2022-07-16T17:26:30.689Z"
   },
   {
    "duration": 14,
    "start_time": "2022-07-16T17:26:36.475Z"
   },
   {
    "duration": 325,
    "start_time": "2022-07-16T17:26:37.460Z"
   },
   {
    "duration": 14,
    "start_time": "2022-07-16T17:26:38.248Z"
   },
   {
    "duration": 1285,
    "start_time": "2022-07-16T17:26:51.623Z"
   },
   {
    "duration": 6,
    "start_time": "2022-07-16T17:26:53.165Z"
   },
   {
    "duration": 101,
    "start_time": "2022-07-16T17:26:53.173Z"
   },
   {
    "duration": 431,
    "start_time": "2022-07-16T17:26:53.277Z"
   },
   {
    "duration": 0,
    "start_time": "2022-07-16T17:26:53.710Z"
   },
   {
    "duration": 0,
    "start_time": "2022-07-16T17:26:53.712Z"
   },
   {
    "duration": 0,
    "start_time": "2022-07-16T17:26:53.714Z"
   },
   {
    "duration": 0,
    "start_time": "2022-07-16T17:26:53.715Z"
   },
   {
    "duration": 5,
    "start_time": "2022-07-16T17:27:05.070Z"
   },
   {
    "duration": 228,
    "start_time": "2022-07-16T17:27:25.237Z"
   },
   {
    "duration": 22,
    "start_time": "2022-07-16T17:29:48.560Z"
   },
   {
    "duration": 1175,
    "start_time": "2022-07-16T17:30:16.937Z"
   },
   {
    "duration": 115,
    "start_time": "2022-07-16T17:30:18.114Z"
   },
   {
    "duration": 36,
    "start_time": "2022-07-16T17:30:24.988Z"
   },
   {
    "duration": 116,
    "start_time": "2022-07-16T17:30:35.107Z"
   },
   {
    "duration": 1192,
    "start_time": "2022-07-16T17:36:53.113Z"
   },
   {
    "duration": 149,
    "start_time": "2022-07-16T17:36:58.774Z"
   },
   {
    "duration": 57,
    "start_time": "2022-07-16T17:36:58.989Z"
   },
   {
    "duration": 138,
    "start_time": "2022-07-16T17:36:59.855Z"
   },
   {
    "duration": 18,
    "start_time": "2022-07-16T17:37:07.651Z"
   },
   {
    "duration": 999,
    "start_time": "2022-07-16T17:37:36.373Z"
   },
   {
    "duration": 24,
    "start_time": "2022-07-16T17:37:45.549Z"
   },
   {
    "duration": 40,
    "start_time": "2022-07-16T17:38:21.481Z"
   },
   {
    "duration": 1211,
    "start_time": "2022-07-16T17:38:30.623Z"
   },
   {
    "duration": 123,
    "start_time": "2022-07-16T17:38:32.002Z"
   },
   {
    "duration": 34,
    "start_time": "2022-07-16T17:38:33.305Z"
   },
   {
    "duration": 112,
    "start_time": "2022-07-16T17:38:34.543Z"
   },
   {
    "duration": 18,
    "start_time": "2022-07-16T17:39:08.373Z"
   },
   {
    "duration": 6,
    "start_time": "2022-07-16T19:02:15.130Z"
   },
   {
    "duration": 96,
    "start_time": "2022-07-16T19:02:15.380Z"
   },
   {
    "duration": 52,
    "start_time": "2022-07-16T19:02:15.998Z"
   },
   {
    "duration": 16,
    "start_time": "2022-07-16T19:02:17.165Z"
   },
   {
    "duration": 21,
    "start_time": "2022-07-16T19:02:29.766Z"
   },
   {
    "duration": 18,
    "start_time": "2022-07-16T19:05:31.962Z"
   },
   {
    "duration": 13,
    "start_time": "2022-07-16T19:07:38.655Z"
   },
   {
    "duration": 17,
    "start_time": "2022-07-16T19:11:12.333Z"
   },
   {
    "duration": 34,
    "start_time": "2022-07-16T19:11:53.433Z"
   },
   {
    "duration": 1162,
    "start_time": "2022-07-16T19:12:24.541Z"
   },
   {
    "duration": 105,
    "start_time": "2022-07-16T19:12:25.705Z"
   },
   {
    "duration": 61,
    "start_time": "2022-07-16T19:12:26.731Z"
   },
   {
    "duration": 14,
    "start_time": "2022-07-16T19:13:03.533Z"
   },
   {
    "duration": 93,
    "start_time": "2022-07-16T19:15:11.786Z"
   },
   {
    "duration": 6,
    "start_time": "2022-07-16T19:15:22.800Z"
   },
   {
    "duration": 1162,
    "start_time": "2022-07-16T19:17:34.325Z"
   },
   {
    "duration": 109,
    "start_time": "2022-07-16T19:17:35.493Z"
   },
   {
    "duration": 37,
    "start_time": "2022-07-16T19:17:36.690Z"
   },
   {
    "duration": 10,
    "start_time": "2022-07-16T19:17:38.394Z"
   },
   {
    "duration": 13,
    "start_time": "2022-07-16T19:26:38.275Z"
   },
   {
    "duration": 16,
    "start_time": "2022-07-16T19:27:00.169Z"
   },
   {
    "duration": 18,
    "start_time": "2022-07-16T19:27:04.714Z"
   },
   {
    "duration": 23,
    "start_time": "2022-07-16T19:27:05.543Z"
   },
   {
    "duration": 18,
    "start_time": "2022-07-16T19:32:58.785Z"
   },
   {
    "duration": 48,
    "start_time": "2022-07-16T19:33:01.379Z"
   },
   {
    "duration": 12,
    "start_time": "2022-07-16T19:33:13.850Z"
   },
   {
    "duration": 16,
    "start_time": "2022-07-16T19:33:30.425Z"
   },
   {
    "duration": 14,
    "start_time": "2022-07-16T19:33:33.323Z"
   },
   {
    "duration": 137,
    "start_time": "2022-07-16T19:37:02.088Z"
   },
   {
    "duration": 13,
    "start_time": "2022-07-16T19:37:12.299Z"
   },
   {
    "duration": 30,
    "start_time": "2022-07-16T19:37:18.577Z"
   },
   {
    "duration": 14,
    "start_time": "2022-07-16T19:42:56.312Z"
   },
   {
    "duration": 31,
    "start_time": "2022-07-16T19:42:56.949Z"
   },
   {
    "duration": 11,
    "start_time": "2022-07-16T19:42:57.878Z"
   },
   {
    "duration": 84,
    "start_time": "2022-07-16T19:43:50.888Z"
   },
   {
    "duration": 19,
    "start_time": "2022-07-16T19:44:20.905Z"
   },
   {
    "duration": 30,
    "start_time": "2022-07-16T19:44:22.163Z"
   },
   {
    "duration": 16,
    "start_time": "2022-07-16T19:44:23.058Z"
   },
   {
    "duration": 19,
    "start_time": "2022-07-16T19:44:37.709Z"
   },
   {
    "duration": 24,
    "start_time": "2022-07-16T19:44:38.258Z"
   },
   {
    "duration": 10,
    "start_time": "2022-07-16T19:44:59.228Z"
   },
   {
    "duration": 201,
    "start_time": "2022-07-16T19:45:00.372Z"
   },
   {
    "duration": 201,
    "start_time": "2022-07-16T19:46:55.008Z"
   },
   {
    "duration": 189,
    "start_time": "2022-07-16T19:47:01.860Z"
   },
   {
    "duration": 352,
    "start_time": "2022-07-16T19:47:13.966Z"
   },
   {
    "duration": 310,
    "start_time": "2022-07-16T19:47:22.838Z"
   },
   {
    "duration": 300,
    "start_time": "2022-07-16T19:47:28.918Z"
   },
   {
    "duration": 222,
    "start_time": "2022-07-16T19:47:41.235Z"
   },
   {
    "duration": 258,
    "start_time": "2022-07-16T19:49:18.900Z"
   },
   {
    "duration": 336,
    "start_time": "2022-07-16T19:49:26.769Z"
   },
   {
    "duration": 254,
    "start_time": "2022-07-16T19:49:46.304Z"
   },
   {
    "duration": 270,
    "start_time": "2022-07-16T19:50:06.125Z"
   },
   {
    "duration": 313,
    "start_time": "2022-07-16T19:50:16.373Z"
   },
   {
    "duration": 309,
    "start_time": "2022-07-16T19:50:37.215Z"
   },
   {
    "duration": 278,
    "start_time": "2022-07-16T19:50:47.260Z"
   },
   {
    "duration": 352,
    "start_time": "2022-07-16T19:51:07.471Z"
   },
   {
    "duration": 11,
    "start_time": "2022-07-16T20:00:30.033Z"
   },
   {
    "duration": 23,
    "start_time": "2022-07-16T20:01:14.811Z"
   },
   {
    "duration": 293,
    "start_time": "2022-07-16T20:01:19.902Z"
   },
   {
    "duration": 13,
    "start_time": "2022-07-16T20:01:20.528Z"
   },
   {
    "duration": 1188,
    "start_time": "2022-07-16T20:05:25.078Z"
   },
   {
    "duration": 115,
    "start_time": "2022-07-16T20:05:26.665Z"
   },
   {
    "duration": 40,
    "start_time": "2022-07-16T20:05:27.767Z"
   },
   {
    "duration": 23,
    "start_time": "2022-07-16T20:05:28.701Z"
   },
   {
    "duration": 8,
    "start_time": "2022-07-16T20:05:29.799Z"
   },
   {
    "duration": 174,
    "start_time": "2022-07-16T20:05:30.660Z"
   },
   {
    "duration": 1221,
    "start_time": "2022-07-16T20:11:38.672Z"
   },
   {
    "duration": 108,
    "start_time": "2022-07-16T20:11:39.895Z"
   },
   {
    "duration": 32,
    "start_time": "2022-07-16T20:11:41.089Z"
   },
   {
    "duration": 27,
    "start_time": "2022-07-16T20:11:42.034Z"
   },
   {
    "duration": 6,
    "start_time": "2022-07-16T20:11:43.072Z"
   },
   {
    "duration": 176,
    "start_time": "2022-07-16T20:11:43.990Z"
   },
   {
    "duration": 0,
    "start_time": "2022-07-16T20:15:22.690Z"
   },
   {
    "duration": 1226,
    "start_time": "2022-07-16T20:18:40.366Z"
   },
   {
    "duration": 130,
    "start_time": "2022-07-16T20:18:41.883Z"
   },
   {
    "duration": 37,
    "start_time": "2022-07-16T20:18:42.891Z"
   },
   {
    "duration": 19,
    "start_time": "2022-07-16T20:18:44.219Z"
   },
   {
    "duration": 8,
    "start_time": "2022-07-16T20:18:46.464Z"
   },
   {
    "duration": 203,
    "start_time": "2022-07-16T20:18:46.971Z"
   },
   {
    "duration": 119,
    "start_time": "2022-07-16T20:18:48.067Z"
   },
   {
    "duration": 222905,
    "start_time": "2022-07-16T20:18:54.939Z"
   },
   {
    "duration": 9,
    "start_time": "2022-07-16T20:25:24.865Z"
   },
   {
    "duration": 7,
    "start_time": "2022-07-16T20:26:05.659Z"
   },
   {
    "duration": 9,
    "start_time": "2022-07-16T20:26:18.092Z"
   },
   {
    "duration": 8,
    "start_time": "2022-07-16T20:26:24.290Z"
   },
   {
    "duration": 1341,
    "start_time": "2022-07-17T01:16:03.375Z"
   },
   {
    "duration": 151,
    "start_time": "2022-07-17T01:16:04.717Z"
   },
   {
    "duration": 37,
    "start_time": "2022-07-17T01:16:04.931Z"
   },
   {
    "duration": 20,
    "start_time": "2022-07-17T01:16:05.408Z"
   },
   {
    "duration": 6,
    "start_time": "2022-07-17T01:16:06.126Z"
   },
   {
    "duration": 167,
    "start_time": "2022-07-17T01:16:06.930Z"
   },
   {
    "duration": 8,
    "start_time": "2022-07-17T01:16:07.947Z"
   },
   {
    "duration": 22,
    "start_time": "2022-07-17T01:28:12.046Z"
   },
   {
    "duration": 103,
    "start_time": "2022-07-17T01:30:02.168Z"
   },
   {
    "duration": 7,
    "start_time": "2022-07-17T01:30:10.382Z"
   },
   {
    "duration": 127,
    "start_time": "2022-07-17T01:32:17.422Z"
   },
   {
    "duration": 135,
    "start_time": "2022-07-17T01:32:35.697Z"
   },
   {
    "duration": 137,
    "start_time": "2022-07-17T01:32:47.701Z"
   },
   {
    "duration": 18,
    "start_time": "2022-07-17T01:32:53.002Z"
   },
   {
    "duration": 139,
    "start_time": "2022-07-17T01:33:01.347Z"
   },
   {
    "duration": 13,
    "start_time": "2022-07-17T01:36:28.438Z"
   },
   {
    "duration": 13,
    "start_time": "2022-07-17T01:37:11.321Z"
   },
   {
    "duration": 242,
    "start_time": "2022-07-17T01:42:06.090Z"
   },
   {
    "duration": 242,
    "start_time": "2022-07-17T01:42:30.268Z"
   },
   {
    "duration": 277,
    "start_time": "2022-07-17T01:42:47.544Z"
   },
   {
    "duration": 10,
    "start_time": "2022-07-17T01:43:09.492Z"
   },
   {
    "duration": 325,
    "start_time": "2022-07-17T01:43:17.158Z"
   },
   {
    "duration": 977,
    "start_time": "2022-07-17T01:43:42.444Z"
   },
   {
    "duration": 253,
    "start_time": "2022-07-17T01:44:07.905Z"
   },
   {
    "duration": 3,
    "start_time": "2022-07-17T01:47:26.644Z"
   },
   {
    "duration": 3,
    "start_time": "2022-07-17T01:47:27.713Z"
   },
   {
    "duration": 227,
    "start_time": "2022-07-17T01:48:56.613Z"
   },
   {
    "duration": 222,
    "start_time": "2022-07-17T01:49:08.537Z"
   },
   {
    "duration": 224,
    "start_time": "2022-07-17T01:49:17.815Z"
   },
   {
    "duration": 238,
    "start_time": "2022-07-17T01:49:23.886Z"
   },
   {
    "duration": 235,
    "start_time": "2022-07-17T01:49:44.374Z"
   },
   {
    "duration": 243,
    "start_time": "2022-07-17T01:49:54.477Z"
   },
   {
    "duration": 252,
    "start_time": "2022-07-17T01:50:39.121Z"
   },
   {
    "duration": 1344,
    "start_time": "2022-07-17T14:08:56.160Z"
   },
   {
    "duration": 174,
    "start_time": "2022-07-17T14:08:57.505Z"
   },
   {
    "duration": 40,
    "start_time": "2022-07-17T14:08:58.669Z"
   },
   {
    "duration": 32,
    "start_time": "2022-07-17T14:09:04.964Z"
   },
   {
    "duration": 5,
    "start_time": "2022-07-17T14:09:05.960Z"
   },
   {
    "duration": 157,
    "start_time": "2022-07-17T14:09:06.785Z"
   },
   {
    "duration": 246,
    "start_time": "2022-07-17T14:09:09.268Z"
   },
   {
    "duration": 118,
    "start_time": "2022-07-17T14:12:02.064Z"
   },
   {
    "duration": 56,
    "start_time": "2022-07-17T14:20:30.396Z"
   },
   {
    "duration": 451,
    "start_time": "2022-07-17T14:32:01.872Z"
   },
   {
    "duration": 5,
    "start_time": "2022-07-17T14:32:16.027Z"
   },
   {
    "duration": 15,
    "start_time": "2022-07-17T14:32:52.689Z"
   },
   {
    "duration": 9,
    "start_time": "2022-07-17T14:33:26.268Z"
   },
   {
    "duration": 14,
    "start_time": "2022-07-17T14:35:24.064Z"
   },
   {
    "duration": 8,
    "start_time": "2022-07-17T14:35:34.878Z"
   },
   {
    "duration": 15,
    "start_time": "2022-07-17T14:35:40.865Z"
   },
   {
    "duration": 5,
    "start_time": "2022-07-17T14:35:52.589Z"
   },
   {
    "duration": 14,
    "start_time": "2022-07-17T14:35:54.401Z"
   },
   {
    "duration": 1123,
    "start_time": "2022-07-17T14:36:15.372Z"
   },
   {
    "duration": 107,
    "start_time": "2022-07-17T14:36:16.497Z"
   },
   {
    "duration": 35,
    "start_time": "2022-07-17T14:36:17.442Z"
   },
   {
    "duration": 20,
    "start_time": "2022-07-17T14:36:18.393Z"
   },
   {
    "duration": 5,
    "start_time": "2022-07-17T14:36:21.192Z"
   },
   {
    "duration": 170,
    "start_time": "2022-07-17T14:36:22.389Z"
   },
   {
    "duration": 256,
    "start_time": "2022-07-17T14:36:23.601Z"
   },
   {
    "duration": 5,
    "start_time": "2022-07-17T14:36:29.369Z"
   },
   {
    "duration": 94,
    "start_time": "2022-07-17T14:36:33.467Z"
   },
   {
    "duration": 286,
    "start_time": "2022-07-17T14:36:55.184Z"
   },
   {
    "duration": 9,
    "start_time": "2022-07-17T14:37:23.988Z"
   },
   {
    "duration": 11,
    "start_time": "2022-07-17T14:37:41.292Z"
   },
   {
    "duration": 64,
    "start_time": "2022-07-17T14:39:01.682Z"
   },
   {
    "duration": 10,
    "start_time": "2022-07-17T14:39:09.665Z"
   },
   {
    "duration": 13,
    "start_time": "2022-07-17T14:42:05.306Z"
   },
   {
    "duration": 14,
    "start_time": "2022-07-17T14:42:25.158Z"
   },
   {
    "duration": 11,
    "start_time": "2022-07-17T14:43:11.485Z"
   },
   {
    "duration": 12,
    "start_time": "2022-07-17T14:47:40.413Z"
   },
   {
    "duration": 5,
    "start_time": "2022-07-17T14:47:48.200Z"
   },
   {
    "duration": 20,
    "start_time": "2022-07-17T14:48:12.770Z"
   },
   {
    "duration": 11,
    "start_time": "2022-07-17T14:48:25.728Z"
   },
   {
    "duration": 1127,
    "start_time": "2022-07-17T14:50:46.867Z"
   },
   {
    "duration": 105,
    "start_time": "2022-07-17T14:50:47.996Z"
   },
   {
    "duration": 35,
    "start_time": "2022-07-17T14:50:49.285Z"
   },
   {
    "duration": 22,
    "start_time": "2022-07-17T14:50:50.088Z"
   },
   {
    "duration": 6,
    "start_time": "2022-07-17T14:50:50.770Z"
   },
   {
    "duration": 162,
    "start_time": "2022-07-17T14:50:51.617Z"
   },
   {
    "duration": 314,
    "start_time": "2022-07-17T14:50:52.466Z"
   },
   {
    "duration": 12,
    "start_time": "2022-07-17T14:50:53.671Z"
   },
   {
    "duration": 13,
    "start_time": "2022-07-17T14:50:55.443Z"
   },
   {
    "duration": 6,
    "start_time": "2022-07-17T14:52:18.816Z"
   },
   {
    "duration": 100,
    "start_time": "2022-07-17T14:52:31.072Z"
   },
   {
    "duration": 12,
    "start_time": "2022-07-17T14:52:37.850Z"
   },
   {
    "duration": 11,
    "start_time": "2022-07-17T14:52:41.095Z"
   },
   {
    "duration": 13,
    "start_time": "2022-07-17T15:16:20.785Z"
   },
   {
    "duration": 11,
    "start_time": "2022-07-17T15:16:39.088Z"
   },
   {
    "duration": 9,
    "start_time": "2022-07-17T15:17:14.613Z"
   },
   {
    "duration": 9,
    "start_time": "2022-07-17T15:17:26.679Z"
   },
   {
    "duration": 4,
    "start_time": "2022-07-17T15:17:41.383Z"
   },
   {
    "duration": 11,
    "start_time": "2022-07-17T15:17:48.561Z"
   },
   {
    "duration": 38,
    "start_time": "2022-07-17T15:18:45.262Z"
   },
   {
    "duration": 30,
    "start_time": "2022-07-17T15:19:06.617Z"
   },
   {
    "duration": 19,
    "start_time": "2022-07-17T15:19:13.128Z"
   },
   {
    "duration": 10,
    "start_time": "2022-07-17T15:24:31.403Z"
   },
   {
    "duration": 23,
    "start_time": "2022-07-17T15:25:13.802Z"
   },
   {
    "duration": 170,
    "start_time": "2022-07-17T15:28:25.621Z"
   },
   {
    "duration": 184,
    "start_time": "2022-07-17T15:28:34.891Z"
   },
   {
    "duration": 131,
    "start_time": "2022-07-17T15:28:43.639Z"
   },
   {
    "duration": 163,
    "start_time": "2022-07-17T15:28:58.555Z"
   },
   {
    "duration": 147,
    "start_time": "2022-07-17T15:29:17.350Z"
   },
   {
    "duration": 232,
    "start_time": "2022-07-17T15:29:39.932Z"
   },
   {
    "duration": 159,
    "start_time": "2022-07-17T15:29:50.706Z"
   },
   {
    "duration": 157,
    "start_time": "2022-07-17T15:30:08.382Z"
   },
   {
    "duration": 177,
    "start_time": "2022-07-17T15:30:17.803Z"
   },
   {
    "duration": 676,
    "start_time": "2022-07-17T15:31:44.078Z"
   },
   {
    "duration": 676,
    "start_time": "2022-07-17T15:32:07.685Z"
   },
   {
    "duration": 126,
    "start_time": "2022-07-17T15:32:35.339Z"
   },
   {
    "duration": 125,
    "start_time": "2022-07-17T15:32:41.826Z"
   },
   {
    "duration": 616,
    "start_time": "2022-07-17T15:32:48.267Z"
   },
   {
    "duration": 816,
    "start_time": "2022-07-17T15:33:00.398Z"
   },
   {
    "duration": 772,
    "start_time": "2022-07-17T15:33:14.921Z"
   },
   {
    "duration": 715,
    "start_time": "2022-07-17T15:39:21.410Z"
   },
   {
    "duration": 819,
    "start_time": "2022-07-17T15:39:32.136Z"
   },
   {
    "duration": 711,
    "start_time": "2022-07-17T15:39:50.184Z"
   },
   {
    "duration": 787,
    "start_time": "2022-07-17T15:40:21.134Z"
   },
   {
    "duration": 663,
    "start_time": "2022-07-17T15:40:56.420Z"
   },
   {
    "duration": 698,
    "start_time": "2022-07-17T15:41:41.539Z"
   },
   {
    "duration": 676,
    "start_time": "2022-07-17T15:41:54.460Z"
   },
   {
    "duration": 695,
    "start_time": "2022-07-17T15:42:17.260Z"
   },
   {
    "duration": 658,
    "start_time": "2022-07-17T15:42:56.496Z"
   },
   {
    "duration": 833,
    "start_time": "2022-07-17T15:43:39.775Z"
   },
   {
    "duration": 688,
    "start_time": "2022-07-17T15:44:04.829Z"
   },
   {
    "duration": 180,
    "start_time": "2022-07-17T15:45:59.390Z"
   },
   {
    "duration": 10,
    "start_time": "2022-07-17T15:50:08.640Z"
   },
   {
    "duration": 32,
    "start_time": "2022-07-17T15:50:17.975Z"
   },
   {
    "duration": 18,
    "start_time": "2022-07-17T15:50:32.180Z"
   },
   {
    "duration": 27,
    "start_time": "2022-07-17T15:50:56.695Z"
   },
   {
    "duration": 27,
    "start_time": "2022-07-17T15:51:18.075Z"
   },
   {
    "duration": 1116,
    "start_time": "2022-07-17T15:51:34.172Z"
   },
   {
    "duration": 105,
    "start_time": "2022-07-17T15:51:35.683Z"
   },
   {
    "duration": 36,
    "start_time": "2022-07-17T15:51:36.682Z"
   },
   {
    "duration": 19,
    "start_time": "2022-07-17T15:51:37.468Z"
   },
   {
    "duration": 6,
    "start_time": "2022-07-17T15:51:38.163Z"
   },
   {
    "duration": 170,
    "start_time": "2022-07-17T15:51:40.291Z"
   },
   {
    "duration": 238,
    "start_time": "2022-07-17T15:51:46.131Z"
   },
   {
    "duration": 144,
    "start_time": "2022-07-17T15:52:38.623Z"
   },
   {
    "duration": 22,
    "start_time": "2022-07-17T15:53:04.293Z"
   },
   {
    "duration": 14,
    "start_time": "2022-07-17T15:53:25.895Z"
   },
   {
    "duration": 242,
    "start_time": "2022-07-17T15:53:33.658Z"
   },
   {
    "duration": 12,
    "start_time": "2022-07-17T15:58:20.165Z"
   },
   {
    "duration": 21,
    "start_time": "2022-07-17T15:58:24.908Z"
   },
   {
    "duration": 23,
    "start_time": "2022-07-17T15:58:43.893Z"
   },
   {
    "duration": 20,
    "start_time": "2022-07-17T15:58:53.932Z"
   },
   {
    "duration": 21,
    "start_time": "2022-07-17T15:59:07.868Z"
   },
   {
    "duration": 10,
    "start_time": "2022-07-17T16:00:22.805Z"
   },
   {
    "duration": 36,
    "start_time": "2022-07-17T16:00:30.423Z"
   },
   {
    "duration": 130,
    "start_time": "2022-07-17T16:00:55.087Z"
   },
   {
    "duration": 20,
    "start_time": "2022-07-17T16:01:02.164Z"
   },
   {
    "duration": 12,
    "start_time": "2022-07-17T16:01:17.302Z"
   },
   {
    "duration": 21,
    "start_time": "2022-07-17T16:01:22.199Z"
   },
   {
    "duration": 19,
    "start_time": "2022-07-17T16:01:39.976Z"
   },
   {
    "duration": 16,
    "start_time": "2022-07-17T16:02:26.412Z"
   },
   {
    "duration": 2734,
    "start_time": "2022-07-17T16:04:01.777Z"
   },
   {
    "duration": 29,
    "start_time": "2022-07-17T16:04:31.274Z"
   },
   {
    "duration": 41,
    "start_time": "2022-07-17T16:04:49.601Z"
   },
   {
    "duration": 37,
    "start_time": "2022-07-17T16:04:55.880Z"
   },
   {
    "duration": 24,
    "start_time": "2022-07-17T16:06:18.110Z"
   },
   {
    "duration": 968,
    "start_time": "2022-07-17T16:06:37.537Z"
   },
   {
    "duration": 24,
    "start_time": "2022-07-17T16:07:04.564Z"
   },
   {
    "duration": 30,
    "start_time": "2022-07-17T16:07:25.909Z"
   },
   {
    "duration": 31,
    "start_time": "2022-07-17T16:12:52.569Z"
   },
   {
    "duration": 26,
    "start_time": "2022-07-17T16:13:39.531Z"
   },
   {
    "duration": 35,
    "start_time": "2022-07-17T16:14:09.608Z"
   },
   {
    "duration": 27,
    "start_time": "2022-07-17T16:14:22.380Z"
   },
   {
    "duration": 38,
    "start_time": "2022-07-17T16:14:27.876Z"
   },
   {
    "duration": 34,
    "start_time": "2022-07-17T16:14:39.669Z"
   },
   {
    "duration": 358,
    "start_time": "2022-07-17T16:16:49.873Z"
   },
   {
    "duration": 506,
    "start_time": "2022-07-17T16:16:56.126Z"
   },
   {
    "duration": 61,
    "start_time": "2022-07-17T16:17:37.295Z"
   },
   {
    "duration": 409,
    "start_time": "2022-07-17T16:17:49.379Z"
   },
   {
    "duration": 23,
    "start_time": "2022-07-17T16:18:03.969Z"
   },
   {
    "duration": 173,
    "start_time": "2022-07-17T16:18:11.810Z"
   },
   {
    "duration": 152,
    "start_time": "2022-07-17T16:18:23.769Z"
   },
   {
    "duration": 24,
    "start_time": "2022-07-17T16:36:25.507Z"
   },
   {
    "duration": 141,
    "start_time": "2022-07-17T16:36:33.969Z"
   },
   {
    "duration": 25,
    "start_time": "2022-07-17T16:36:46.000Z"
   },
   {
    "duration": 1369,
    "start_time": "2022-07-18T12:33:26.972Z"
   },
   {
    "duration": 242,
    "start_time": "2022-07-18T12:33:28.343Z"
   },
   {
    "duration": 40,
    "start_time": "2022-07-18T12:33:28.587Z"
   },
   {
    "duration": 22,
    "start_time": "2022-07-18T12:33:29.267Z"
   },
   {
    "duration": 5,
    "start_time": "2022-07-18T12:33:35.729Z"
   },
   {
    "duration": 240,
    "start_time": "2022-07-18T12:33:36.815Z"
   },
   {
    "duration": 270,
    "start_time": "2022-07-18T12:33:38.386Z"
   },
   {
    "duration": 27,
    "start_time": "2022-07-18T12:33:41.125Z"
   },
   {
    "duration": 1541,
    "start_time": "2022-07-18T12:33:45.898Z"
   },
   {
    "duration": 3078,
    "start_time": "2022-07-18T12:34:52.186Z"
   },
   {
    "duration": 685,
    "start_time": "2022-07-18T12:35:09.526Z"
   },
   {
    "duration": 21315,
    "start_time": "2022-07-18T12:35:41.099Z"
   },
   {
    "duration": 529,
    "start_time": "2022-07-18T12:37:08.007Z"
   },
   {
    "duration": 74,
    "start_time": "2022-07-18T12:37:27.576Z"
   },
   {
    "duration": 615,
    "start_time": "2022-07-18T12:37:36.527Z"
   },
   {
    "duration": 21,
    "start_time": "2022-07-18T12:38:10.819Z"
   },
   {
    "duration": 493,
    "start_time": "2022-07-18T12:38:32.672Z"
   },
   {
    "duration": 803,
    "start_time": "2022-07-18T12:41:18.142Z"
   },
   {
    "duration": 792,
    "start_time": "2022-07-18T12:41:51.767Z"
   },
   {
    "duration": 3322,
    "start_time": "2022-07-18T12:42:02.308Z"
   },
   {
    "duration": 127,
    "start_time": "2022-07-18T12:42:20.631Z"
   },
   {
    "duration": 486,
    "start_time": "2022-07-18T12:42:35.355Z"
   },
   {
    "duration": 144,
    "start_time": "2022-07-18T12:43:52.818Z"
   },
   {
    "duration": 87,
    "start_time": "2022-07-18T12:46:01.465Z"
   },
   {
    "duration": 99,
    "start_time": "2022-07-18T12:46:04.314Z"
   },
   {
    "duration": 37,
    "start_time": "2022-07-18T12:46:04.966Z"
   },
   {
    "duration": 17,
    "start_time": "2022-07-18T12:46:05.748Z"
   },
   {
    "duration": 6,
    "start_time": "2022-07-18T12:46:06.416Z"
   },
   {
    "duration": 186,
    "start_time": "2022-07-18T12:46:07.145Z"
   },
   {
    "duration": 270,
    "start_time": "2022-07-18T12:46:08.249Z"
   },
   {
    "duration": 27,
    "start_time": "2022-07-18T12:46:13.565Z"
   },
   {
    "duration": 156,
    "start_time": "2022-07-18T12:46:16.892Z"
   },
   {
    "duration": 563,
    "start_time": "2022-07-18T12:46:26.381Z"
   },
   {
    "duration": 704,
    "start_time": "2022-07-18T13:03:34.002Z"
   },
   {
    "duration": 572,
    "start_time": "2022-07-18T13:04:09.112Z"
   },
   {
    "duration": 518,
    "start_time": "2022-07-18T13:04:19.667Z"
   },
   {
    "duration": 593,
    "start_time": "2022-07-18T13:04:32.786Z"
   },
   {
    "duration": 520,
    "start_time": "2022-07-18T13:05:07.976Z"
   },
   {
    "duration": 509,
    "start_time": "2022-07-18T13:05:18.567Z"
   },
   {
    "duration": 594,
    "start_time": "2022-07-18T13:05:36.932Z"
   },
   {
    "duration": 516,
    "start_time": "2022-07-18T13:05:51.453Z"
   },
   {
    "duration": 18,
    "start_time": "2022-07-18T13:10:24.131Z"
   },
   {
    "duration": 27,
    "start_time": "2022-07-18T13:10:29.846Z"
   },
   {
    "duration": 27,
    "start_time": "2022-07-18T14:06:58.878Z"
   },
   {
    "duration": 24,
    "start_time": "2022-07-18T14:07:19.159Z"
   },
   {
    "duration": 21,
    "start_time": "2022-07-18T14:07:35.321Z"
   },
   {
    "duration": 22,
    "start_time": "2022-07-18T14:08:28.622Z"
   },
   {
    "duration": 21,
    "start_time": "2022-07-18T14:08:45.560Z"
   },
   {
    "duration": 22,
    "start_time": "2022-07-18T14:10:09.194Z"
   },
   {
    "duration": 21,
    "start_time": "2022-07-18T14:10:20.078Z"
   },
   {
    "duration": 166,
    "start_time": "2022-07-18T14:10:47.059Z"
   },
   {
    "duration": 149,
    "start_time": "2022-07-18T14:11:02.853Z"
   },
   {
    "duration": 14,
    "start_time": "2022-07-18T14:11:27.696Z"
   },
   {
    "duration": 22,
    "start_time": "2022-07-18T14:11:34.421Z"
   },
   {
    "duration": 283,
    "start_time": "2022-07-18T14:12:26.324Z"
   },
   {
    "duration": 199,
    "start_time": "2022-07-18T14:12:52.578Z"
   },
   {
    "duration": 160,
    "start_time": "2022-07-18T14:13:02.587Z"
   },
   {
    "duration": 7,
    "start_time": "2022-07-18T14:13:39.636Z"
   },
   {
    "duration": 658,
    "start_time": "2022-07-18T14:13:51.241Z"
   },
   {
    "duration": 871,
    "start_time": "2022-07-18T14:15:31.358Z"
   },
   {
    "duration": 746,
    "start_time": "2022-07-18T14:20:27.741Z"
   },
   {
    "duration": 757,
    "start_time": "2022-07-18T14:22:18.878Z"
   },
   {
    "duration": 565,
    "start_time": "2022-07-18T15:06:26.613Z"
   },
   {
    "duration": 497,
    "start_time": "2022-07-18T15:06:42.940Z"
   },
   {
    "duration": 754,
    "start_time": "2022-07-18T15:06:57.457Z"
   },
   {
    "duration": 879,
    "start_time": "2022-07-18T15:07:17.121Z"
   },
   {
    "duration": 25,
    "start_time": "2022-07-18T15:08:19.209Z"
   },
   {
    "duration": 1252,
    "start_time": "2022-07-18T15:09:18.756Z"
   },
   {
    "duration": 1232,
    "start_time": "2022-07-18T15:09:53.524Z"
   },
   {
    "duration": 1219,
    "start_time": "2022-07-18T15:10:29.810Z"
   },
   {
    "duration": 922,
    "start_time": "2022-07-18T15:16:37.453Z"
   },
   {
    "duration": 813,
    "start_time": "2022-07-18T15:16:47.273Z"
   },
   {
    "duration": 1297,
    "start_time": "2022-07-18T15:16:55.711Z"
   },
   {
    "duration": 1290,
    "start_time": "2022-07-18T15:17:06.861Z"
   },
   {
    "duration": 926,
    "start_time": "2022-07-18T15:17:19.437Z"
   },
   {
    "duration": 1318,
    "start_time": "2022-07-18T15:17:21.808Z"
   },
   {
    "duration": 25,
    "start_time": "2022-07-18T15:28:38.800Z"
   },
   {
    "duration": 386,
    "start_time": "2022-07-18T15:30:00.608Z"
   },
   {
    "duration": 237,
    "start_time": "2022-07-18T15:37:56.105Z"
   },
   {
    "duration": 585,
    "start_time": "2022-07-18T15:38:17.976Z"
   },
   {
    "duration": 581,
    "start_time": "2022-07-18T15:38:41.226Z"
   },
   {
    "duration": 9,
    "start_time": "2022-07-18T15:40:24.401Z"
   },
   {
    "duration": 11,
    "start_time": "2022-07-18T15:40:39.856Z"
   },
   {
    "duration": 1382,
    "start_time": "2022-07-18T21:42:55.474Z"
   },
   {
    "duration": 229,
    "start_time": "2022-07-18T21:42:56.858Z"
   },
   {
    "duration": 32,
    "start_time": "2022-07-18T21:42:57.177Z"
   },
   {
    "duration": 17,
    "start_time": "2022-07-18T21:42:57.987Z"
   },
   {
    "duration": 7,
    "start_time": "2022-07-18T21:42:58.615Z"
   },
   {
    "duration": 249,
    "start_time": "2022-07-18T21:42:59.405Z"
   },
   {
    "duration": 26,
    "start_time": "2022-07-18T21:42:59.983Z"
   },
   {
    "duration": 481,
    "start_time": "2022-07-18T21:43:00.305Z"
   },
   {
    "duration": 135,
    "start_time": "2022-07-18T21:43:01.119Z"
   },
   {
    "duration": 3,
    "start_time": "2022-07-18T21:43:01.649Z"
   },
   {
    "duration": 21,
    "start_time": "2022-07-18T21:43:02.366Z"
   },
   {
    "duration": 5,
    "start_time": "2022-07-18T21:43:02.999Z"
   },
   {
    "duration": 676,
    "start_time": "2022-07-18T21:43:03.667Z"
   },
   {
    "duration": 1162,
    "start_time": "2022-07-18T21:43:04.565Z"
   },
   {
    "duration": 17,
    "start_time": "2022-07-18T21:52:01.035Z"
   },
   {
    "duration": 18,
    "start_time": "2022-07-18T21:52:06.006Z"
   },
   {
    "duration": 14,
    "start_time": "2022-07-18T21:52:10.417Z"
   },
   {
    "duration": 13,
    "start_time": "2022-07-18T21:52:20.706Z"
   },
   {
    "duration": 16,
    "start_time": "2022-07-18T21:52:36.184Z"
   },
   {
    "duration": 3,
    "start_time": "2022-07-18T21:54:18.192Z"
   },
   {
    "duration": 10,
    "start_time": "2022-07-18T21:54:36.942Z"
   },
   {
    "duration": 18,
    "start_time": "2022-07-18T21:54:40.609Z"
   },
   {
    "duration": 206,
    "start_time": "2022-07-18T21:55:57.053Z"
   },
   {
    "duration": 339,
    "start_time": "2022-07-18T21:56:16.113Z"
   },
   {
    "duration": 105,
    "start_time": "2022-07-18T21:56:46.444Z"
   },
   {
    "duration": 224,
    "start_time": "2022-07-18T21:56:57.982Z"
   },
   {
    "duration": 266,
    "start_time": "2022-07-18T21:57:20.105Z"
   },
   {
    "duration": 251,
    "start_time": "2022-07-18T21:58:50.422Z"
   },
   {
    "duration": 1229,
    "start_time": "2022-07-18T22:00:15.069Z"
   },
   {
    "duration": 842,
    "start_time": "2022-07-18T22:00:26.891Z"
   },
   {
    "duration": 1186,
    "start_time": "2022-07-18T22:00:38.271Z"
   },
   {
    "duration": 8,
    "start_time": "2022-07-18T22:04:26.631Z"
   },
   {
    "duration": 1283,
    "start_time": "2022-07-18T22:04:32.509Z"
   },
   {
    "duration": 149,
    "start_time": "2022-07-18T22:04:54.942Z"
   },
   {
    "duration": 1398,
    "start_time": "2022-07-19T15:29:45.438Z"
   },
   {
    "duration": 269,
    "start_time": "2022-07-19T15:29:46.840Z"
   },
   {
    "duration": 144,
    "start_time": "2022-07-19T15:30:22.419Z"
   },
   {
    "duration": 33,
    "start_time": "2022-07-19T15:30:46.396Z"
   },
   {
    "duration": 21,
    "start_time": "2022-07-19T15:30:47.596Z"
   },
   {
    "duration": 6,
    "start_time": "2022-07-19T15:30:48.043Z"
   },
   {
    "duration": 311,
    "start_time": "2022-07-19T15:30:48.630Z"
   },
   {
    "duration": 29,
    "start_time": "2022-07-19T15:30:59.790Z"
   },
   {
    "duration": 553,
    "start_time": "2022-07-19T15:31:00.401Z"
   },
   {
    "duration": 177,
    "start_time": "2022-07-19T15:31:01.093Z"
   },
   {
    "duration": 3,
    "start_time": "2022-07-19T15:31:02.230Z"
   },
   {
    "duration": 24,
    "start_time": "2022-07-19T15:31:02.923Z"
   },
   {
    "duration": 6,
    "start_time": "2022-07-19T15:31:03.454Z"
   },
   {
    "duration": 850,
    "start_time": "2022-07-19T15:31:03.977Z"
   },
   {
    "duration": 1354,
    "start_time": "2022-07-19T15:31:04.829Z"
   },
   {
    "duration": 279,
    "start_time": "2022-07-19T15:31:06.185Z"
   },
   {
    "duration": 221,
    "start_time": "2022-07-19T15:31:06.655Z"
   },
   {
    "duration": 162,
    "start_time": "2022-07-19T15:33:07.984Z"
   },
   {
    "duration": 13,
    "start_time": "2022-07-19T15:33:54.308Z"
   },
   {
    "duration": 5,
    "start_time": "2022-07-19T15:33:59.956Z"
   },
   {
    "duration": 342,
    "start_time": "2022-07-19T15:34:00.520Z"
   },
   {
    "duration": 26,
    "start_time": "2022-07-19T15:34:01.097Z"
   },
   {
    "duration": 592,
    "start_time": "2022-07-19T15:34:01.320Z"
   },
   {
    "duration": 215,
    "start_time": "2022-07-19T15:34:01.914Z"
   },
   {
    "duration": 3,
    "start_time": "2022-07-19T15:34:02.131Z"
   },
   {
    "duration": 36,
    "start_time": "2022-07-19T15:34:02.136Z"
   },
   {
    "duration": 6,
    "start_time": "2022-07-19T15:34:02.197Z"
   },
   {
    "duration": 781,
    "start_time": "2022-07-19T15:34:02.393Z"
   },
   {
    "duration": 1425,
    "start_time": "2022-07-19T15:34:03.176Z"
   },
   {
    "duration": 265,
    "start_time": "2022-07-19T15:34:04.603Z"
   },
   {
    "duration": 166,
    "start_time": "2022-07-19T15:34:04.869Z"
   },
   {
    "duration": 15,
    "start_time": "2022-07-19T15:35:33.936Z"
   },
   {
    "duration": 41,
    "start_time": "2022-07-19T15:35:38.852Z"
   },
   {
    "duration": 1459,
    "start_time": "2022-07-19T15:35:54.386Z"
   },
   {
    "duration": 112,
    "start_time": "2022-07-19T15:35:55.848Z"
   },
   {
    "duration": 45,
    "start_time": "2022-07-19T15:36:00.576Z"
   },
   {
    "duration": 44,
    "start_time": "2022-07-19T15:36:05.247Z"
   },
   {
    "duration": 5,
    "start_time": "2022-07-19T15:36:09.682Z"
   },
   {
    "duration": 283,
    "start_time": "2022-07-19T15:36:10.656Z"
   },
   {
    "duration": 25,
    "start_time": "2022-07-19T15:36:10.941Z"
   },
   {
    "duration": 588,
    "start_time": "2022-07-19T15:36:11.150Z"
   },
   {
    "duration": 174,
    "start_time": "2022-07-19T15:36:11.740Z"
   },
   {
    "duration": 2,
    "start_time": "2022-07-19T15:36:11.916Z"
   },
   {
    "duration": 23,
    "start_time": "2022-07-19T15:36:11.920Z"
   },
   {
    "duration": 5,
    "start_time": "2022-07-19T15:36:12.015Z"
   },
   {
    "duration": 848,
    "start_time": "2022-07-19T15:36:12.246Z"
   },
   {
    "duration": 1397,
    "start_time": "2022-07-19T15:36:13.098Z"
   },
   {
    "duration": 271,
    "start_time": "2022-07-19T15:36:14.496Z"
   },
   {
    "duration": 190,
    "start_time": "2022-07-19T15:36:14.769Z"
   },
   {
    "duration": 1741,
    "start_time": "2022-07-19T15:36:54.042Z"
   },
   {
    "duration": 186,
    "start_time": "2022-07-19T15:37:08.456Z"
   },
   {
    "duration": 179,
    "start_time": "2022-07-19T15:37:14.784Z"
   },
   {
    "duration": 1410,
    "start_time": "2022-07-19T15:38:06.130Z"
   },
   {
    "duration": 6,
    "start_time": "2022-07-19T15:40:58.610Z"
   },
   {
    "duration": 6,
    "start_time": "2022-07-19T15:41:06.881Z"
   },
   {
    "duration": 1663,
    "start_time": "2022-07-19T15:41:13.464Z"
   },
   {
    "duration": 158,
    "start_time": "2022-07-19T15:41:22.391Z"
   },
   {
    "duration": 154,
    "start_time": "2022-07-19T15:41:34.997Z"
   },
   {
    "duration": 152,
    "start_time": "2022-07-19T15:41:42.249Z"
   },
   {
    "duration": 24,
    "start_time": "2022-07-19T15:43:43.407Z"
   },
   {
    "duration": 152,
    "start_time": "2022-07-19T15:43:54.390Z"
   },
   {
    "duration": 1207,
    "start_time": "2022-07-19T15:44:19.420Z"
   },
   {
    "duration": 106,
    "start_time": "2022-07-19T15:44:20.629Z"
   },
   {
    "duration": 38,
    "start_time": "2022-07-19T15:44:24.265Z"
   },
   {
    "duration": 31,
    "start_time": "2022-07-19T15:44:27.644Z"
   },
   {
    "duration": 5,
    "start_time": "2022-07-19T15:44:31.214Z"
   },
   {
    "duration": 268,
    "start_time": "2022-07-19T15:44:33.225Z"
   },
   {
    "duration": 27,
    "start_time": "2022-07-19T15:44:37.551Z"
   },
   {
    "duration": 583,
    "start_time": "2022-07-19T15:44:38.783Z"
   },
   {
    "duration": 165,
    "start_time": "2022-07-19T15:44:39.368Z"
   },
   {
    "duration": 2,
    "start_time": "2022-07-19T15:44:45.382Z"
   },
   {
    "duration": 36,
    "start_time": "2022-07-19T15:44:45.825Z"
   },
   {
    "duration": 26,
    "start_time": "2022-07-19T15:45:01.550Z"
   },
   {
    "duration": 6,
    "start_time": "2022-07-19T15:45:08.857Z"
   },
   {
    "duration": 6,
    "start_time": "2022-07-19T15:46:52.891Z"
   },
   {
    "duration": 857,
    "start_time": "2022-07-19T15:46:56.973Z"
   },
   {
    "duration": 1390,
    "start_time": "2022-07-19T15:47:06.177Z"
   },
   {
    "duration": 248,
    "start_time": "2022-07-19T15:47:14.580Z"
   },
   {
    "duration": 105,
    "start_time": "2022-07-19T15:47:29.859Z"
   },
   {
    "duration": 10,
    "start_time": "2022-07-19T15:47:37.794Z"
   },
   {
    "duration": 11,
    "start_time": "2022-07-19T15:49:40.879Z"
   },
   {
    "duration": 25,
    "start_time": "2022-07-19T15:49:55.031Z"
   },
   {
    "duration": 15,
    "start_time": "2022-07-19T15:50:03.995Z"
   },
   {
    "duration": 6,
    "start_time": "2022-07-19T15:54:35.480Z"
   },
   {
    "duration": 11,
    "start_time": "2022-07-19T15:54:41.942Z"
   },
   {
    "duration": 25,
    "start_time": "2022-07-19T15:54:48.291Z"
   },
   {
    "duration": 26,
    "start_time": "2022-07-19T15:55:11.617Z"
   },
   {
    "duration": 163,
    "start_time": "2022-07-19T15:55:24.979Z"
   },
   {
    "duration": 150,
    "start_time": "2022-07-19T15:55:27.353Z"
   },
   {
    "duration": 27,
    "start_time": "2022-07-19T15:56:52.321Z"
   },
   {
    "duration": 8,
    "start_time": "2022-07-19T15:57:24.364Z"
   },
   {
    "duration": 8,
    "start_time": "2022-07-19T15:57:27.541Z"
   },
   {
    "duration": 166,
    "start_time": "2022-07-19T15:57:28.001Z"
   },
   {
    "duration": 154,
    "start_time": "2022-07-19T15:57:29.412Z"
   },
   {
    "duration": 27,
    "start_time": "2022-07-19T15:57:45.119Z"
   },
   {
    "duration": 28,
    "start_time": "2022-07-19T15:57:55.171Z"
   },
   {
    "duration": 28,
    "start_time": "2022-07-19T15:58:06.231Z"
   },
   {
    "duration": 1158,
    "start_time": "2022-07-19T15:58:47.934Z"
   },
   {
    "duration": 1249,
    "start_time": "2022-07-19T15:59:06.743Z"
   },
   {
    "duration": 27,
    "start_time": "2022-07-19T15:59:45.925Z"
   },
   {
    "duration": 28,
    "start_time": "2022-07-19T16:00:01.670Z"
   },
   {
    "duration": 24,
    "start_time": "2022-07-19T16:00:24.430Z"
   },
   {
    "duration": 154,
    "start_time": "2022-07-19T16:00:29.004Z"
   },
   {
    "duration": 154,
    "start_time": "2022-07-19T16:00:30.265Z"
   },
   {
    "duration": 8,
    "start_time": "2022-07-19T16:01:58.518Z"
   },
   {
    "duration": 280,
    "start_time": "2022-07-19T16:02:10.678Z"
   },
   {
    "duration": 152,
    "start_time": "2022-07-19T16:02:35.251Z"
   },
   {
    "duration": 277,
    "start_time": "2022-07-19T16:02:50.497Z"
   },
   {
    "duration": 298,
    "start_time": "2022-07-19T16:03:27.836Z"
   },
   {
    "duration": 646,
    "start_time": "2022-07-19T16:34:29.800Z"
   },
   {
    "duration": 15,
    "start_time": "2022-07-19T16:36:22.053Z"
   },
   {
    "duration": 15,
    "start_time": "2022-07-19T16:36:27.663Z"
   },
   {
    "duration": 50,
    "start_time": "2022-07-19T16:36:32.233Z"
   },
   {
    "duration": 532,
    "start_time": "2022-07-19T16:42:04.304Z"
   },
   {
    "duration": 885,
    "start_time": "2022-07-19T16:42:13.885Z"
   },
   {
    "duration": 943,
    "start_time": "2022-07-19T16:47:39.926Z"
   },
   {
    "duration": 752,
    "start_time": "2022-07-19T16:48:21.555Z"
   },
   {
    "duration": 72,
    "start_time": "2022-07-19T16:50:26.370Z"
   },
   {
    "duration": 14,
    "start_time": "2022-07-19T16:50:45.365Z"
   },
   {
    "duration": 5,
    "start_time": "2022-07-19T16:51:24.677Z"
   },
   {
    "duration": 761,
    "start_time": "2022-07-19T16:51:45.307Z"
   },
   {
    "duration": 31,
    "start_time": "2022-07-19T16:52:55.842Z"
   },
   {
    "duration": 7,
    "start_time": "2022-07-19T16:52:56.719Z"
   },
   {
    "duration": 325,
    "start_time": "2022-07-19T16:52:57.062Z"
   },
   {
    "duration": 30,
    "start_time": "2022-07-19T16:52:57.389Z"
   },
   {
    "duration": 581,
    "start_time": "2022-07-19T16:52:57.496Z"
   },
   {
    "duration": 209,
    "start_time": "2022-07-19T16:52:58.079Z"
   },
   {
    "duration": 7,
    "start_time": "2022-07-19T16:52:58.290Z"
   },
   {
    "duration": 22,
    "start_time": "2022-07-19T16:52:58.299Z"
   },
   {
    "duration": 4,
    "start_time": "2022-07-19T16:52:58.323Z"
   },
   {
    "duration": 379,
    "start_time": "2022-07-19T16:52:58.491Z"
   },
   {
    "duration": 0,
    "start_time": "2022-07-19T16:52:58.872Z"
   },
   {
    "duration": 385,
    "start_time": "2022-07-19T16:52:58.917Z"
   },
   {
    "duration": 0,
    "start_time": "2022-07-19T16:52:59.303Z"
   },
   {
    "duration": 3,
    "start_time": "2022-07-19T16:52:59.326Z"
   },
   {
    "duration": 362,
    "start_time": "2022-07-19T16:52:59.538Z"
   },
   {
    "duration": 8,
    "start_time": "2022-07-19T16:52:59.902Z"
   },
   {
    "duration": 308,
    "start_time": "2022-07-19T16:52:59.995Z"
   },
   {
    "duration": 5,
    "start_time": "2022-07-19T16:53:00.305Z"
   },
   {
    "duration": 760,
    "start_time": "2022-07-19T16:53:00.477Z"
   },
   {
    "duration": 1216,
    "start_time": "2022-07-19T16:53:14.821Z"
   },
   {
    "duration": 105,
    "start_time": "2022-07-19T16:53:16.039Z"
   },
   {
    "duration": 35,
    "start_time": "2022-07-19T16:53:16.146Z"
   },
   {
    "duration": 38,
    "start_time": "2022-07-19T16:53:16.183Z"
   },
   {
    "duration": 5,
    "start_time": "2022-07-19T16:53:16.223Z"
   },
   {
    "duration": 304,
    "start_time": "2022-07-19T16:53:16.229Z"
   },
   {
    "duration": 26,
    "start_time": "2022-07-19T16:53:16.535Z"
   },
   {
    "duration": 635,
    "start_time": "2022-07-19T16:53:16.563Z"
   },
   {
    "duration": 181,
    "start_time": "2022-07-19T16:53:17.200Z"
   },
   {
    "duration": 2,
    "start_time": "2022-07-19T16:53:17.382Z"
   },
   {
    "duration": 23,
    "start_time": "2022-07-19T16:53:17.398Z"
   },
   {
    "duration": 4,
    "start_time": "2022-07-19T16:53:17.423Z"
   },
   {
    "duration": 542,
    "start_time": "2022-07-19T16:53:17.428Z"
   },
   {
    "duration": 0,
    "start_time": "2022-07-19T16:53:17.972Z"
   },
   {
    "duration": 0,
    "start_time": "2022-07-19T16:53:17.974Z"
   },
   {
    "duration": 0,
    "start_time": "2022-07-19T16:53:17.974Z"
   },
   {
    "duration": 0,
    "start_time": "2022-07-19T16:53:17.975Z"
   },
   {
    "duration": 255,
    "start_time": "2022-07-19T16:53:18.019Z"
   },
   {
    "duration": 9,
    "start_time": "2022-07-19T16:53:18.277Z"
   },
   {
    "duration": 384,
    "start_time": "2022-07-19T16:53:18.406Z"
   },
   {
    "duration": 7,
    "start_time": "2022-07-19T16:53:18.797Z"
   },
   {
    "duration": 824,
    "start_time": "2022-07-19T16:53:18.809Z"
   },
   {
    "duration": 385,
    "start_time": "2022-07-19T16:54:14.590Z"
   },
   {
    "duration": 3,
    "start_time": "2022-07-19T16:54:15.526Z"
   },
   {
    "duration": 384,
    "start_time": "2022-07-19T16:54:16.941Z"
   },
   {
    "duration": 3,
    "start_time": "2022-07-19T16:54:23.936Z"
   },
   {
    "duration": 2,
    "start_time": "2022-07-19T16:54:24.265Z"
   },
   {
    "duration": 252,
    "start_time": "2022-07-19T16:54:24.486Z"
   },
   {
    "duration": 9,
    "start_time": "2022-07-19T16:54:24.904Z"
   },
   {
    "duration": 297,
    "start_time": "2022-07-19T16:54:25.383Z"
   },
   {
    "duration": 5,
    "start_time": "2022-07-19T16:54:25.682Z"
   },
   {
    "duration": 779,
    "start_time": "2022-07-19T16:54:25.803Z"
   },
   {
    "duration": 6,
    "start_time": "2022-07-19T16:54:57.868Z"
   },
   {
    "duration": 886,
    "start_time": "2022-07-19T16:54:58.494Z"
   },
   {
    "duration": 3,
    "start_time": "2022-07-19T16:55:01.140Z"
   },
   {
    "duration": 1264,
    "start_time": "2022-07-19T16:55:02.874Z"
   },
   {
    "duration": 2,
    "start_time": "2022-07-19T16:55:05.720Z"
   },
   {
    "duration": 2,
    "start_time": "2022-07-19T16:55:06.486Z"
   },
   {
    "duration": 286,
    "start_time": "2022-07-19T16:55:06.790Z"
   },
   {
    "duration": 8,
    "start_time": "2022-07-19T16:55:07.982Z"
   },
   {
    "duration": 296,
    "start_time": "2022-07-19T16:55:08.436Z"
   },
   {
    "duration": 6,
    "start_time": "2022-07-19T16:55:09.265Z"
   },
   {
    "duration": 770,
    "start_time": "2022-07-19T16:55:10.041Z"
   },
   {
    "duration": 1488,
    "start_time": "2022-07-19T19:21:23.388Z"
   },
   {
    "duration": 243,
    "start_time": "2022-07-19T19:21:24.878Z"
   },
   {
    "duration": 36,
    "start_time": "2022-07-19T19:21:25.123Z"
   },
   {
    "duration": 30,
    "start_time": "2022-07-19T19:21:25.264Z"
   },
   {
    "duration": 6,
    "start_time": "2022-07-19T19:21:25.484Z"
   },
   {
    "duration": 273,
    "start_time": "2022-07-19T19:21:25.959Z"
   },
   {
    "duration": 28,
    "start_time": "2022-07-19T19:21:26.234Z"
   },
   {
    "duration": 620,
    "start_time": "2022-07-19T19:21:26.426Z"
   },
   {
    "duration": 161,
    "start_time": "2022-07-19T19:21:27.048Z"
   },
   {
    "duration": 2,
    "start_time": "2022-07-19T19:21:27.211Z"
   },
   {
    "duration": 23,
    "start_time": "2022-07-19T19:21:27.284Z"
   },
   {
    "duration": 7,
    "start_time": "2022-07-19T19:21:27.564Z"
   },
   {
    "duration": 798,
    "start_time": "2022-07-19T19:21:27.826Z"
   },
   {
    "duration": 3,
    "start_time": "2022-07-19T19:21:28.626Z"
   },
   {
    "duration": 1385,
    "start_time": "2022-07-19T19:21:28.630Z"
   },
   {
    "duration": 3,
    "start_time": "2022-07-19T19:21:30.017Z"
   },
   {
    "duration": 12,
    "start_time": "2022-07-19T19:21:30.021Z"
   },
   {
    "duration": 284,
    "start_time": "2022-07-19T19:21:30.034Z"
   },
   {
    "duration": 8,
    "start_time": "2022-07-19T19:21:30.320Z"
   },
   {
    "duration": 341,
    "start_time": "2022-07-19T19:21:30.330Z"
   },
   {
    "duration": 8,
    "start_time": "2022-07-19T19:21:30.672Z"
   },
   {
    "duration": 816,
    "start_time": "2022-07-19T19:21:30.682Z"
   },
   {
    "duration": 767,
    "start_time": "2022-07-19T19:21:50.213Z"
   },
   {
    "duration": 792,
    "start_time": "2022-07-19T19:22:14.800Z"
   },
   {
    "duration": 1237,
    "start_time": "2022-07-19T19:22:32.189Z"
   },
   {
    "duration": 1622,
    "start_time": "2022-07-19T22:23:49.078Z"
   },
   {
    "duration": 525,
    "start_time": "2022-07-19T22:23:50.702Z"
   },
   {
    "duration": 48,
    "start_time": "2022-07-19T22:23:51.229Z"
   },
   {
    "duration": 36,
    "start_time": "2022-07-19T22:23:51.280Z"
   },
   {
    "duration": 29,
    "start_time": "2022-07-19T22:23:51.318Z"
   },
   {
    "duration": 406,
    "start_time": "2022-07-19T22:23:51.349Z"
   },
   {
    "duration": 34,
    "start_time": "2022-07-19T22:23:51.757Z"
   },
   {
    "duration": 635,
    "start_time": "2022-07-19T22:23:51.792Z"
   },
   {
    "duration": 190,
    "start_time": "2022-07-19T22:23:52.429Z"
   },
   {
    "duration": 2,
    "start_time": "2022-07-19T22:23:52.621Z"
   },
   {
    "duration": 37,
    "start_time": "2022-07-19T22:23:52.624Z"
   },
   {
    "duration": 8,
    "start_time": "2022-07-19T22:23:52.663Z"
   },
   {
    "duration": 973,
    "start_time": "2022-07-19T22:23:52.674Z"
   },
   {
    "duration": 3,
    "start_time": "2022-07-19T22:23:53.649Z"
   },
   {
    "duration": 1614,
    "start_time": "2022-07-19T22:23:53.655Z"
   },
   {
    "duration": 3,
    "start_time": "2022-07-19T22:23:55.271Z"
   },
   {
    "duration": 19,
    "start_time": "2022-07-19T22:23:55.277Z"
   },
   {
    "duration": 318,
    "start_time": "2022-07-19T22:23:55.298Z"
   },
   {
    "duration": 8,
    "start_time": "2022-07-19T22:23:55.618Z"
   },
   {
    "duration": 362,
    "start_time": "2022-07-19T22:23:55.628Z"
   },
   {
    "duration": 6,
    "start_time": "2022-07-19T22:23:55.991Z"
   },
   {
    "duration": 924,
    "start_time": "2022-07-19T22:23:55.999Z"
   },
   {
    "duration": 2,
    "start_time": "2022-07-19T22:23:56.926Z"
   },
   {
    "duration": 4,
    "start_time": "2022-07-19T22:23:56.939Z"
   },
   {
    "duration": 8,
    "start_time": "2022-07-19T22:23:56.946Z"
   },
   {
    "duration": 128,
    "start_time": "2022-07-19T22:38:27.463Z"
   },
   {
    "duration": 27,
    "start_time": "2022-07-19T22:40:36.903Z"
   },
   {
    "duration": 73,
    "start_time": "2022-07-19T22:41:03.842Z"
   },
   {
    "duration": 43,
    "start_time": "2022-07-19T22:41:33.388Z"
   },
   {
    "duration": 24,
    "start_time": "2022-07-19T22:41:46.964Z"
   },
   {
    "duration": 21,
    "start_time": "2022-07-19T22:42:16.900Z"
   },
   {
    "duration": 22,
    "start_time": "2022-07-19T22:44:04.975Z"
   },
   {
    "duration": 24,
    "start_time": "2022-07-19T22:44:09.293Z"
   },
   {
    "duration": 29,
    "start_time": "2022-07-19T22:44:12.538Z"
   },
   {
    "duration": 31,
    "start_time": "2022-07-19T22:44:25.471Z"
   },
   {
    "duration": 8,
    "start_time": "2022-07-19T22:56:36.007Z"
   },
   {
    "duration": 58,
    "start_time": "2022-07-19T22:56:37.745Z"
   },
   {
    "duration": 1181,
    "start_time": "2022-07-19T22:56:43.585Z"
   },
   {
    "duration": 111,
    "start_time": "2022-07-19T22:56:44.768Z"
   },
   {
    "duration": 38,
    "start_time": "2022-07-19T22:56:44.881Z"
   },
   {
    "duration": 41,
    "start_time": "2022-07-19T22:56:44.922Z"
   },
   {
    "duration": 5,
    "start_time": "2022-07-19T22:56:44.964Z"
   },
   {
    "duration": 350,
    "start_time": "2022-07-19T22:56:44.971Z"
   },
   {
    "duration": 39,
    "start_time": "2022-07-19T22:56:45.323Z"
   },
   {
    "duration": 576,
    "start_time": "2022-07-19T22:56:45.363Z"
   },
   {
    "duration": 185,
    "start_time": "2022-07-19T22:56:45.941Z"
   },
   {
    "duration": 3,
    "start_time": "2022-07-19T22:56:46.128Z"
   },
   {
    "duration": 43,
    "start_time": "2022-07-19T22:56:46.132Z"
   },
   {
    "duration": 5,
    "start_time": "2022-07-19T22:56:46.177Z"
   },
   {
    "duration": 810,
    "start_time": "2022-07-19T22:56:46.183Z"
   },
   {
    "duration": 3,
    "start_time": "2022-07-19T22:56:46.996Z"
   },
   {
    "duration": 1394,
    "start_time": "2022-07-19T22:56:47.001Z"
   },
   {
    "duration": 2,
    "start_time": "2022-07-19T22:56:48.397Z"
   },
   {
    "duration": 7,
    "start_time": "2022-07-19T22:56:48.401Z"
   },
   {
    "duration": 275,
    "start_time": "2022-07-19T22:56:48.410Z"
   },
   {
    "duration": 10,
    "start_time": "2022-07-19T22:56:48.688Z"
   },
   {
    "duration": 358,
    "start_time": "2022-07-19T22:56:48.700Z"
   },
   {
    "duration": 6,
    "start_time": "2022-07-19T22:56:49.060Z"
   },
   {
    "duration": 824,
    "start_time": "2022-07-19T22:56:49.068Z"
   },
   {
    "duration": 5,
    "start_time": "2022-07-19T22:56:49.893Z"
   },
   {
    "duration": 0,
    "start_time": "2022-07-19T22:56:49.900Z"
   },
   {
    "duration": 0,
    "start_time": "2022-07-19T22:56:49.901Z"
   },
   {
    "duration": 2,
    "start_time": "2022-07-19T22:56:49.922Z"
   },
   {
    "duration": 68,
    "start_time": "2022-07-19T22:57:02.881Z"
   },
   {
    "duration": 9,
    "start_time": "2022-07-19T22:57:12.164Z"
   },
   {
    "duration": 32,
    "start_time": "2022-07-19T22:57:23.344Z"
   },
   {
    "duration": 1215,
    "start_time": "2022-07-19T22:58:33.761Z"
   },
   {
    "duration": 127,
    "start_time": "2022-07-19T22:58:34.978Z"
   },
   {
    "duration": 52,
    "start_time": "2022-07-19T22:58:35.107Z"
   },
   {
    "duration": 30,
    "start_time": "2022-07-19T22:58:35.161Z"
   },
   {
    "duration": 5,
    "start_time": "2022-07-19T22:58:35.193Z"
   },
   {
    "duration": 330,
    "start_time": "2022-07-19T22:58:35.199Z"
   },
   {
    "duration": 36,
    "start_time": "2022-07-19T22:58:35.530Z"
   },
   {
    "duration": 582,
    "start_time": "2022-07-19T22:58:35.569Z"
   },
   {
    "duration": 162,
    "start_time": "2022-07-19T22:58:36.152Z"
   },
   {
    "duration": 2,
    "start_time": "2022-07-19T22:58:36.316Z"
   },
   {
    "duration": 34,
    "start_time": "2022-07-19T22:58:36.319Z"
   },
   {
    "duration": 6,
    "start_time": "2022-07-19T22:58:36.558Z"
   },
   {
    "duration": 804,
    "start_time": "2022-07-19T22:58:36.929Z"
   },
   {
    "duration": 3,
    "start_time": "2022-07-19T22:58:37.739Z"
   },
   {
    "duration": 1326,
    "start_time": "2022-07-19T22:58:39.001Z"
   },
   {
    "duration": 2,
    "start_time": "2022-07-19T22:58:41.880Z"
   },
   {
    "duration": 2,
    "start_time": "2022-07-19T22:58:42.295Z"
   },
   {
    "duration": 272,
    "start_time": "2022-07-19T22:58:43.094Z"
   },
   {
    "duration": 7,
    "start_time": "2022-07-19T22:58:44.577Z"
   },
   {
    "duration": 357,
    "start_time": "2022-07-19T22:58:45.074Z"
   },
   {
    "duration": 5,
    "start_time": "2022-07-19T22:58:46.508Z"
   },
   {
    "duration": 854,
    "start_time": "2022-07-19T22:58:47.410Z"
   },
   {
    "duration": 33,
    "start_time": "2022-07-19T22:58:49.834Z"
   },
   {
    "duration": 30,
    "start_time": "2022-07-19T22:58:53.140Z"
   },
   {
    "duration": 28,
    "start_time": "2022-07-19T22:59:06.187Z"
   },
   {
    "duration": 27,
    "start_time": "2022-07-19T22:59:35.543Z"
   },
   {
    "duration": 123,
    "start_time": "2022-07-19T23:00:44.503Z"
   },
   {
    "duration": 33,
    "start_time": "2022-07-19T23:00:52.134Z"
   },
   {
    "duration": 28,
    "start_time": "2022-07-19T23:01:19.464Z"
   },
   {
    "duration": 28,
    "start_time": "2022-07-19T23:01:37.034Z"
   },
   {
    "duration": 31,
    "start_time": "2022-07-19T23:01:51.650Z"
   },
   {
    "duration": 30,
    "start_time": "2022-07-19T23:02:24.001Z"
   },
   {
    "duration": 26,
    "start_time": "2022-07-19T23:06:55.194Z"
   },
   {
    "duration": 46,
    "start_time": "2022-07-19T23:07:02.990Z"
   },
   {
    "duration": 34,
    "start_time": "2022-07-19T23:07:50.437Z"
   },
   {
    "duration": 35,
    "start_time": "2022-07-19T23:07:58.857Z"
   },
   {
    "duration": 33,
    "start_time": "2022-07-19T23:09:28.106Z"
   },
   {
    "duration": 50,
    "start_time": "2022-07-19T23:09:35.006Z"
   },
   {
    "duration": 303,
    "start_time": "2022-07-19T23:09:49.987Z"
   },
   {
    "duration": 254,
    "start_time": "2022-07-19T23:10:23.690Z"
   },
   {
    "duration": 254,
    "start_time": "2022-07-19T23:10:29.352Z"
   },
   {
    "duration": 389,
    "start_time": "2022-07-19T23:10:46.863Z"
   },
   {
    "duration": 397,
    "start_time": "2022-07-19T23:12:15.427Z"
   },
   {
    "duration": 390,
    "start_time": "2022-07-19T23:12:39.755Z"
   },
   {
    "duration": 41,
    "start_time": "2022-07-20T00:29:46.752Z"
   },
   {
    "duration": 7,
    "start_time": "2022-07-20T00:29:47.741Z"
   },
   {
    "duration": 1300,
    "start_time": "2022-07-20T00:29:53.773Z"
   },
   {
    "duration": 235,
    "start_time": "2022-07-20T00:29:55.076Z"
   },
   {
    "duration": 32,
    "start_time": "2022-07-20T00:29:55.312Z"
   },
   {
    "duration": 28,
    "start_time": "2022-07-20T00:29:55.346Z"
   },
   {
    "duration": 4,
    "start_time": "2022-07-20T00:29:55.375Z"
   },
   {
    "duration": 274,
    "start_time": "2022-07-20T00:29:55.381Z"
   },
   {
    "duration": 24,
    "start_time": "2022-07-20T00:29:55.656Z"
   },
   {
    "duration": 529,
    "start_time": "2022-07-20T00:29:55.681Z"
   },
   {
    "duration": 134,
    "start_time": "2022-07-20T00:29:56.212Z"
   },
   {
    "duration": 2,
    "start_time": "2022-07-20T00:29:56.347Z"
   },
   {
    "duration": 21,
    "start_time": "2022-07-20T00:29:56.352Z"
   },
   {
    "duration": 4,
    "start_time": "2022-07-20T00:29:56.374Z"
   },
   {
    "duration": 677,
    "start_time": "2022-07-20T00:29:56.380Z"
   },
   {
    "duration": 2,
    "start_time": "2022-07-20T00:29:57.059Z"
   },
   {
    "duration": 1168,
    "start_time": "2022-07-20T00:29:57.062Z"
   },
   {
    "duration": 2,
    "start_time": "2022-07-20T00:29:58.232Z"
   },
   {
    "duration": 8,
    "start_time": "2022-07-20T00:29:58.235Z"
   },
   {
    "duration": 218,
    "start_time": "2022-07-20T00:29:58.252Z"
   },
   {
    "duration": 7,
    "start_time": "2022-07-20T00:29:58.472Z"
   },
   {
    "duration": 254,
    "start_time": "2022-07-20T00:29:58.480Z"
   },
   {
    "duration": 5,
    "start_time": "2022-07-20T00:29:58.735Z"
   },
   {
    "duration": 669,
    "start_time": "2022-07-20T00:29:58.741Z"
   },
   {
    "duration": 308,
    "start_time": "2022-07-20T00:29:59.412Z"
   },
   {
    "duration": 6,
    "start_time": "2022-07-20T00:29:59.721Z"
   },
   {
    "duration": 9,
    "start_time": "2022-07-20T00:29:59.729Z"
   },
   {
    "duration": 13,
    "start_time": "2022-07-20T00:29:59.739Z"
   },
   {
    "duration": 5,
    "start_time": "2022-07-20T00:50:54.717Z"
   },
   {
    "duration": 6,
    "start_time": "2022-07-20T00:51:01.611Z"
   },
   {
    "duration": 65,
    "start_time": "2022-07-20T00:51:57.555Z"
   },
   {
    "duration": 5,
    "start_time": "2022-07-20T00:52:17.881Z"
   },
   {
    "duration": 92,
    "start_time": "2022-07-20T00:52:18.902Z"
   },
   {
    "duration": 33,
    "start_time": "2022-07-20T00:52:19.079Z"
   },
   {
    "duration": 27,
    "start_time": "2022-07-20T00:52:19.455Z"
   },
   {
    "duration": 5,
    "start_time": "2022-07-20T00:52:19.636Z"
   },
   {
    "duration": 284,
    "start_time": "2022-07-20T00:52:19.826Z"
   },
   {
    "duration": 25,
    "start_time": "2022-07-20T00:52:20.111Z"
   },
   {
    "duration": 562,
    "start_time": "2022-07-20T00:52:20.215Z"
   },
   {
    "duration": 203,
    "start_time": "2022-07-20T00:52:20.779Z"
   },
   {
    "duration": 2,
    "start_time": "2022-07-20T00:52:20.984Z"
   },
   {
    "duration": 26,
    "start_time": "2022-07-20T00:52:20.987Z"
   },
   {
    "duration": 5,
    "start_time": "2022-07-20T00:52:21.014Z"
   },
   {
    "duration": 765,
    "start_time": "2022-07-20T00:52:21.163Z"
   },
   {
    "duration": 2,
    "start_time": "2022-07-20T00:52:21.930Z"
   },
   {
    "duration": 1231,
    "start_time": "2022-07-20T00:52:21.934Z"
   },
   {
    "duration": 3,
    "start_time": "2022-07-20T00:52:23.168Z"
   },
   {
    "duration": 9,
    "start_time": "2022-07-20T00:52:23.173Z"
   },
   {
    "duration": 252,
    "start_time": "2022-07-20T00:52:23.183Z"
   },
   {
    "duration": 19,
    "start_time": "2022-07-20T00:52:23.436Z"
   },
   {
    "duration": 277,
    "start_time": "2022-07-20T00:52:23.457Z"
   },
   {
    "duration": 6,
    "start_time": "2022-07-20T00:52:23.736Z"
   },
   {
    "duration": 729,
    "start_time": "2022-07-20T00:52:23.752Z"
   },
   {
    "duration": 353,
    "start_time": "2022-07-20T00:52:24.483Z"
   },
   {
    "duration": 133,
    "start_time": "2022-07-20T00:52:24.839Z"
   },
   {
    "duration": 25,
    "start_time": "2022-07-20T00:52:39.198Z"
   },
   {
    "duration": 9,
    "start_time": "2022-07-20T00:53:58.038Z"
   },
   {
    "duration": 15,
    "start_time": "2022-07-20T00:54:45.522Z"
   },
   {
    "duration": 19,
    "start_time": "2022-07-20T00:55:26.484Z"
   },
   {
    "duration": 21,
    "start_time": "2022-07-20T01:06:17.744Z"
   },
   {
    "duration": 24,
    "start_time": "2022-07-20T01:13:01.672Z"
   },
   {
    "duration": 18,
    "start_time": "2022-07-20T01:13:09.719Z"
   },
   {
    "duration": 3,
    "start_time": "2022-07-20T01:16:30.246Z"
   },
   {
    "duration": 3,
    "start_time": "2022-07-20T01:16:35.302Z"
   },
   {
    "duration": 3,
    "start_time": "2022-07-20T01:16:50.718Z"
   },
   {
    "duration": 3,
    "start_time": "2022-07-20T01:16:59.442Z"
   },
   {
    "duration": 3,
    "start_time": "2022-07-20T01:17:27.850Z"
   },
   {
    "duration": 1086,
    "start_time": "2022-07-20T01:17:43.807Z"
   },
   {
    "duration": 97,
    "start_time": "2022-07-20T01:17:44.895Z"
   },
   {
    "duration": 32,
    "start_time": "2022-07-20T01:17:44.994Z"
   },
   {
    "duration": 26,
    "start_time": "2022-07-20T01:17:45.249Z"
   },
   {
    "duration": 5,
    "start_time": "2022-07-20T01:17:45.596Z"
   },
   {
    "duration": 284,
    "start_time": "2022-07-20T01:17:46.048Z"
   },
   {
    "duration": 29,
    "start_time": "2022-07-20T01:17:46.391Z"
   },
   {
    "duration": 495,
    "start_time": "2022-07-20T01:17:46.751Z"
   },
   {
    "duration": 141,
    "start_time": "2022-07-20T01:17:47.248Z"
   },
   {
    "duration": 2,
    "start_time": "2022-07-20T01:17:47.463Z"
   },
   {
    "duration": 19,
    "start_time": "2022-07-20T01:17:48.671Z"
   },
   {
    "duration": 5,
    "start_time": "2022-07-20T01:17:49.473Z"
   },
   {
    "duration": 671,
    "start_time": "2022-07-20T01:17:50.124Z"
   },
   {
    "duration": 2,
    "start_time": "2022-07-20T01:17:50.879Z"
   },
   {
    "duration": 1136,
    "start_time": "2022-07-20T01:17:52.855Z"
   },
   {
    "duration": 2,
    "start_time": "2022-07-20T01:17:53.993Z"
   },
   {
    "duration": 2,
    "start_time": "2022-07-20T01:17:55.233Z"
   },
   {
    "duration": 205,
    "start_time": "2022-07-20T01:17:56.292Z"
   },
   {
    "duration": 8,
    "start_time": "2022-07-20T01:17:57.082Z"
   },
   {
    "duration": 247,
    "start_time": "2022-07-20T01:17:57.875Z"
   },
   {
    "duration": 5,
    "start_time": "2022-07-20T01:17:59.218Z"
   },
   {
    "duration": 681,
    "start_time": "2022-07-20T01:18:00.089Z"
   },
   {
    "duration": 317,
    "start_time": "2022-07-20T01:18:01.538Z"
   },
   {
    "duration": 17,
    "start_time": "2022-07-20T01:18:03.341Z"
   },
   {
    "duration": 3,
    "start_time": "2022-07-20T01:18:12.952Z"
   },
   {
    "duration": 18,
    "start_time": "2022-07-20T01:19:13.090Z"
   },
   {
    "duration": 6,
    "start_time": "2022-07-20T01:21:04.733Z"
   },
   {
    "duration": 18,
    "start_time": "2022-07-20T01:21:08.106Z"
   },
   {
    "duration": 6,
    "start_time": "2022-07-20T01:21:08.602Z"
   },
   {
    "duration": 7,
    "start_time": "2022-07-20T01:21:25.113Z"
   },
   {
    "duration": 5,
    "start_time": "2022-07-20T01:21:33.364Z"
   },
   {
    "duration": 7,
    "start_time": "2022-07-20T01:21:48.594Z"
   },
   {
    "duration": 5,
    "start_time": "2022-07-20T01:22:00.097Z"
   },
   {
    "duration": 8,
    "start_time": "2022-07-20T01:22:07.801Z"
   },
   {
    "duration": 89,
    "start_time": "2022-07-20T01:24:02.197Z"
   },
   {
    "duration": 11,
    "start_time": "2022-07-20T01:24:18.587Z"
   },
   {
    "duration": 9,
    "start_time": "2022-07-20T01:24:34.165Z"
   },
   {
    "duration": 145,
    "start_time": "2022-07-20T01:24:46.448Z"
   },
   {
    "duration": 124,
    "start_time": "2022-07-20T01:25:00.462Z"
   },
   {
    "duration": 72,
    "start_time": "2022-07-20T01:25:15.753Z"
   },
   {
    "duration": 75,
    "start_time": "2022-07-20T01:25:25.255Z"
   },
   {
    "duration": 76,
    "start_time": "2022-07-20T01:30:49.089Z"
   },
   {
    "duration": 9,
    "start_time": "2022-07-20T01:31:01.155Z"
   },
   {
    "duration": 21,
    "start_time": "2022-07-20T01:31:11.758Z"
   },
   {
    "duration": 20,
    "start_time": "2022-07-20T01:31:30.043Z"
   },
   {
    "duration": 25,
    "start_time": "2022-07-20T01:31:37.051Z"
   },
   {
    "duration": 20,
    "start_time": "2022-07-20T01:33:16.705Z"
   },
   {
    "duration": 8,
    "start_time": "2022-07-20T01:33:33.420Z"
   },
   {
    "duration": 5,
    "start_time": "2022-07-20T01:34:00.691Z"
   },
   {
    "duration": 20,
    "start_time": "2022-07-20T01:34:15.438Z"
   },
   {
    "duration": 5,
    "start_time": "2022-07-20T01:34:18.281Z"
   },
   {
    "duration": 4,
    "start_time": "2022-07-20T01:34:44.790Z"
   },
   {
    "duration": 23,
    "start_time": "2022-07-20T01:35:11.134Z"
   },
   {
    "duration": 10,
    "start_time": "2022-07-20T01:38:09.555Z"
   },
   {
    "duration": 21,
    "start_time": "2022-07-20T01:38:22.034Z"
   },
   {
    "duration": 4,
    "start_time": "2022-07-20T01:38:57.055Z"
   },
   {
    "duration": 4,
    "start_time": "2022-07-20T01:39:19.061Z"
   },
   {
    "duration": 23,
    "start_time": "2022-07-20T01:39:46.522Z"
   },
   {
    "duration": 6,
    "start_time": "2022-07-20T01:42:56.040Z"
   },
   {
    "duration": 102,
    "start_time": "2022-07-20T01:42:56.538Z"
   },
   {
    "duration": 41,
    "start_time": "2022-07-20T01:42:56.739Z"
   },
   {
    "duration": 32,
    "start_time": "2022-07-20T01:42:56.942Z"
   },
   {
    "duration": 6,
    "start_time": "2022-07-20T01:42:57.119Z"
   },
   {
    "duration": 307,
    "start_time": "2022-07-20T01:42:57.294Z"
   },
   {
    "duration": 28,
    "start_time": "2022-07-20T01:42:57.604Z"
   },
   {
    "duration": 662,
    "start_time": "2022-07-20T01:42:57.675Z"
   },
   {
    "duration": 192,
    "start_time": "2022-07-20T01:42:58.339Z"
   },
   {
    "duration": 2,
    "start_time": "2022-07-20T01:42:58.533Z"
   },
   {
    "duration": 22,
    "start_time": "2022-07-20T01:42:58.552Z"
   },
   {
    "duration": 5,
    "start_time": "2022-07-20T01:42:58.576Z"
   },
   {
    "duration": 726,
    "start_time": "2022-07-20T01:42:58.688Z"
   },
   {
    "duration": 2,
    "start_time": "2022-07-20T01:42:59.417Z"
   },
   {
    "duration": 1091,
    "start_time": "2022-07-20T01:42:59.421Z"
   },
   {
    "duration": 2,
    "start_time": "2022-07-20T01:43:00.514Z"
   },
   {
    "duration": 17,
    "start_time": "2022-07-20T01:43:00.517Z"
   },
   {
    "duration": 216,
    "start_time": "2022-07-20T01:43:00.536Z"
   },
   {
    "duration": 6,
    "start_time": "2022-07-20T01:43:00.754Z"
   },
   {
    "duration": 261,
    "start_time": "2022-07-20T01:43:00.762Z"
   },
   {
    "duration": 5,
    "start_time": "2022-07-20T01:43:01.025Z"
   },
   {
    "duration": 791,
    "start_time": "2022-07-20T01:43:01.032Z"
   },
   {
    "duration": 310,
    "start_time": "2022-07-20T01:43:01.825Z"
   },
   {
    "duration": 29,
    "start_time": "2022-07-20T01:43:02.137Z"
   },
   {
    "duration": 24,
    "start_time": "2022-07-20T01:43:02.167Z"
   },
   {
    "duration": 1346,
    "start_time": "2022-07-20T13:46:41.668Z"
   },
   {
    "duration": 275,
    "start_time": "2022-07-20T13:46:43.016Z"
   },
   {
    "duration": 34,
    "start_time": "2022-07-20T13:46:43.292Z"
   },
   {
    "duration": 41,
    "start_time": "2022-07-20T13:46:43.328Z"
   },
   {
    "duration": 6,
    "start_time": "2022-07-20T13:46:43.371Z"
   },
   {
    "duration": 277,
    "start_time": "2022-07-20T13:46:43.379Z"
   },
   {
    "duration": 26,
    "start_time": "2022-07-20T13:46:43.658Z"
   },
   {
    "duration": 536,
    "start_time": "2022-07-20T13:46:43.685Z"
   },
   {
    "duration": 142,
    "start_time": "2022-07-20T13:46:44.222Z"
   },
   {
    "duration": 2,
    "start_time": "2022-07-20T13:46:44.366Z"
   },
   {
    "duration": 27,
    "start_time": "2022-07-20T13:46:44.370Z"
   },
   {
    "duration": 5,
    "start_time": "2022-07-20T13:46:44.401Z"
   },
   {
    "duration": 703,
    "start_time": "2022-07-20T13:46:44.408Z"
   },
   {
    "duration": 3,
    "start_time": "2022-07-20T13:46:45.113Z"
   },
   {
    "duration": 1258,
    "start_time": "2022-07-20T13:46:45.118Z"
   },
   {
    "duration": 3,
    "start_time": "2022-07-20T13:46:46.378Z"
   },
   {
    "duration": 5,
    "start_time": "2022-07-20T13:46:46.382Z"
   },
   {
    "duration": 239,
    "start_time": "2022-07-20T13:46:46.389Z"
   },
   {
    "duration": 10,
    "start_time": "2022-07-20T13:46:46.631Z"
   },
   {
    "duration": 296,
    "start_time": "2022-07-20T13:46:46.642Z"
   },
   {
    "duration": 5,
    "start_time": "2022-07-20T13:46:46.940Z"
   },
   {
    "duration": 838,
    "start_time": "2022-07-20T13:46:46.946Z"
   },
   {
    "duration": 376,
    "start_time": "2022-07-20T13:46:47.786Z"
   },
   {
    "duration": 25,
    "start_time": "2022-07-20T13:46:48.164Z"
   },
   {
    "duration": 25,
    "start_time": "2022-07-20T13:46:48.202Z"
   },
   {
    "duration": 2,
    "start_time": "2022-07-20T14:05:42.358Z"
   },
   {
    "duration": 1316,
    "start_time": "2022-07-21T15:05:17.738Z"
   },
   {
    "duration": 598,
    "start_time": "2022-07-21T15:05:19.056Z"
   },
   {
    "duration": 9,
    "start_time": "2022-07-21T15:05:29.096Z"
   },
   {
    "duration": 5,
    "start_time": "2022-07-21T15:05:35.584Z"
   },
   {
    "duration": 40,
    "start_time": "2022-07-21T15:05:51.215Z"
   },
   {
    "duration": 4,
    "start_time": "2022-07-21T15:05:53.476Z"
   },
   {
    "duration": 4,
    "start_time": "2022-07-21T15:06:18.644Z"
   },
   {
    "duration": 5,
    "start_time": "2022-07-21T15:06:27.139Z"
   },
   {
    "duration": 5,
    "start_time": "2022-07-21T15:06:31.354Z"
   },
   {
    "duration": 96,
    "start_time": "2022-07-21T15:07:40.343Z"
   },
   {
    "duration": 5,
    "start_time": "2022-07-21T15:07:45.641Z"
   },
   {
    "duration": 32,
    "start_time": "2022-07-21T15:07:50.930Z"
   },
   {
    "duration": 5,
    "start_time": "2022-07-21T15:07:53.596Z"
   },
   {
    "duration": 102,
    "start_time": "2022-07-21T15:08:06.332Z"
   },
   {
    "duration": 23,
    "start_time": "2022-07-21T15:08:23.837Z"
   },
   {
    "duration": 7,
    "start_time": "2022-07-21T15:08:32.653Z"
   },
   {
    "duration": 35,
    "start_time": "2022-07-21T15:08:38.524Z"
   },
   {
    "duration": 11,
    "start_time": "2022-07-21T15:08:41.824Z"
   },
   {
    "duration": 58,
    "start_time": "2022-07-22T13:49:39.919Z"
   },
   {
    "duration": 44,
    "start_time": "2022-07-22T13:51:14.577Z"
   },
   {
    "duration": 1389,
    "start_time": "2022-07-22T13:51:23.176Z"
   },
   {
    "duration": 148,
    "start_time": "2022-07-22T13:51:24.567Z"
   },
   {
    "duration": 35,
    "start_time": "2022-07-22T13:51:25.866Z"
   },
   {
    "duration": 5,
    "start_time": "2022-07-22T13:51:27.009Z"
   },
   {
    "duration": 1220,
    "start_time": "2022-07-22T13:52:18.203Z"
   },
   {
    "duration": 104,
    "start_time": "2022-07-22T13:52:19.425Z"
   },
   {
    "duration": 6,
    "start_time": "2022-07-22T13:52:23.085Z"
   },
   {
    "duration": 121,
    "start_time": "2022-07-22T13:53:30.970Z"
   },
   {
    "duration": 7,
    "start_time": "2022-07-22T13:53:37.312Z"
   },
   {
    "duration": 99,
    "start_time": "2022-07-22T13:53:37.484Z"
   },
   {
    "duration": 4,
    "start_time": "2022-07-22T13:53:38.464Z"
   },
   {
    "duration": 34,
    "start_time": "2022-07-22T13:53:38.654Z"
   },
   {
    "duration": 28,
    "start_time": "2022-07-22T13:53:39.010Z"
   },
   {
    "duration": 5,
    "start_time": "2022-07-22T13:53:39.396Z"
   },
   {
    "duration": 279,
    "start_time": "2022-07-22T13:53:39.974Z"
   },
   {
    "duration": 552,
    "start_time": "2022-07-22T13:53:40.568Z"
   },
   {
    "duration": 26,
    "start_time": "2022-07-22T13:53:41.122Z"
   },
   {
    "duration": 153,
    "start_time": "2022-07-22T13:53:41.794Z"
   },
   {
    "duration": 4,
    "start_time": "2022-07-22T13:53:42.190Z"
   },
   {
    "duration": 21,
    "start_time": "2022-07-22T13:53:42.583Z"
   },
   {
    "duration": 6,
    "start_time": "2022-07-22T13:53:43.458Z"
   },
   {
    "duration": 724,
    "start_time": "2022-07-22T13:53:43.666Z"
   },
   {
    "duration": 1241,
    "start_time": "2022-07-22T13:53:44.392Z"
   },
   {
    "duration": 241,
    "start_time": "2022-07-22T13:53:45.635Z"
   },
   {
    "duration": 8,
    "start_time": "2022-07-22T13:53:45.878Z"
   },
   {
    "duration": 325,
    "start_time": "2022-07-22T13:53:45.888Z"
   },
   {
    "duration": 5,
    "start_time": "2022-07-22T13:53:46.215Z"
   },
   {
    "duration": 729,
    "start_time": "2022-07-22T13:53:46.301Z"
   },
   {
    "duration": 385,
    "start_time": "2022-07-22T13:53:47.032Z"
   },
   {
    "duration": 26,
    "start_time": "2022-07-22T13:53:47.419Z"
   },
   {
    "duration": 26,
    "start_time": "2022-07-22T13:53:47.487Z"
   },
   {
    "duration": 189,
    "start_time": "2022-07-22T13:54:54.294Z"
   },
   {
    "duration": 193,
    "start_time": "2022-07-22T13:55:04.668Z"
   },
   {
    "duration": 193,
    "start_time": "2022-07-22T13:55:12.576Z"
   },
   {
    "duration": 284,
    "start_time": "2022-07-22T13:57:44.850Z"
   },
   {
    "duration": 391,
    "start_time": "2022-07-22T13:58:24.224Z"
   },
   {
    "duration": 283,
    "start_time": "2022-07-22T13:58:48.763Z"
   },
   {
    "duration": 23,
    "start_time": "2022-07-22T14:03:29.366Z"
   },
   {
    "duration": 18,
    "start_time": "2022-07-22T14:05:46.962Z"
   },
   {
    "duration": 191,
    "start_time": "2022-07-22T14:05:58.825Z"
   },
   {
    "duration": 6,
    "start_time": "2022-07-22T14:09:08.973Z"
   },
   {
    "duration": 16,
    "start_time": "2022-07-22T14:09:40.466Z"
   },
   {
    "duration": 187,
    "start_time": "2022-07-22T14:09:48.657Z"
   },
   {
    "duration": 188,
    "start_time": "2022-07-22T14:10:42.193Z"
   },
   {
    "duration": 203,
    "start_time": "2022-07-22T14:11:27.453Z"
   },
   {
    "duration": 211,
    "start_time": "2022-07-22T14:12:38.883Z"
   },
   {
    "duration": 287,
    "start_time": "2022-07-22T14:13:42.990Z"
   },
   {
    "duration": 293,
    "start_time": "2022-07-22T14:13:58.010Z"
   },
   {
    "duration": 232,
    "start_time": "2022-07-22T14:16:46.265Z"
   },
   {
    "duration": 645,
    "start_time": "2022-07-22T14:17:04.715Z"
   },
   {
    "duration": 527,
    "start_time": "2022-07-22T14:17:29.284Z"
   },
   {
    "duration": 19,
    "start_time": "2022-07-22T14:17:58.295Z"
   },
   {
    "duration": 646,
    "start_time": "2022-07-22T14:18:16.967Z"
   },
   {
    "duration": 628,
    "start_time": "2022-07-22T14:18:54.027Z"
   },
   {
    "duration": 678,
    "start_time": "2022-07-22T14:19:09.462Z"
   },
   {
    "duration": 22,
    "start_time": "2022-07-22T14:22:30.591Z"
   },
   {
    "duration": 309,
    "start_time": "2022-07-22T14:22:47.590Z"
   },
   {
    "duration": 814,
    "start_time": "2022-07-22T14:34:40.953Z"
   },
   {
    "duration": 627,
    "start_time": "2022-07-22T14:34:58.230Z"
   },
   {
    "duration": 36,
    "start_time": "2022-07-22T14:43:34.227Z"
   },
   {
    "duration": 27,
    "start_time": "2022-07-22T14:43:38.845Z"
   },
   {
    "duration": 4865,
    "start_time": "2022-07-22T14:51:05.201Z"
   },
   {
    "duration": 5,
    "start_time": "2022-07-22T14:54:38.569Z"
   },
   {
    "duration": 315,
    "start_time": "2022-07-22T14:54:39.164Z"
   },
   {
    "duration": 637,
    "start_time": "2022-07-22T14:54:39.679Z"
   },
   {
    "duration": 27,
    "start_time": "2022-07-22T14:54:40.319Z"
   },
   {
    "duration": 217,
    "start_time": "2022-07-22T14:54:41.001Z"
   },
   {
    "duration": 21,
    "start_time": "2022-07-22T14:54:41.794Z"
   },
   {
    "duration": 6,
    "start_time": "2022-07-22T14:54:42.605Z"
   },
   {
    "duration": 741,
    "start_time": "2022-07-22T14:54:42.841Z"
   },
   {
    "duration": 1197,
    "start_time": "2022-07-22T14:54:43.583Z"
   },
   {
    "duration": 800,
    "start_time": "2022-07-22T14:54:44.782Z"
   },
   {
    "duration": 7,
    "start_time": "2022-07-22T14:54:45.584Z"
   },
   {
    "duration": 311,
    "start_time": "2022-07-22T14:54:45.593Z"
   },
   {
    "duration": 5,
    "start_time": "2022-07-22T14:54:45.909Z"
   },
   {
    "duration": 766,
    "start_time": "2022-07-22T14:54:45.916Z"
   },
   {
    "duration": 366,
    "start_time": "2022-07-22T14:54:46.684Z"
   },
   {
    "duration": 26,
    "start_time": "2022-07-22T14:54:47.052Z"
   },
   {
    "duration": 28,
    "start_time": "2022-07-22T14:54:47.264Z"
   }
  ],
  "kernelspec": {
   "display_name": "Python 3 (ipykernel)",
   "language": "python",
   "name": "python3"
  },
  "language_info": {
   "codemirror_mode": {
    "name": "ipython",
    "version": 3
   },
   "file_extension": ".py",
   "mimetype": "text/x-python",
   "name": "python",
   "nbconvert_exporter": "python",
   "pygments_lexer": "ipython3",
   "version": "3.9.5"
  },
  "toc": {
   "base_numbering": 1,
   "nav_menu": {},
   "number_sections": true,
   "sideBar": true,
   "skip_h1_title": true,
   "title_cell": "Table of Contents",
   "title_sidebar": "Contents",
   "toc_cell": false,
   "toc_position": {},
   "toc_section_display": true,
   "toc_window_display": false
  }
 },
 "nbformat": 4,
 "nbformat_minor": 2
}
