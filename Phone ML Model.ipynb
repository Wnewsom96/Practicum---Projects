{
 "cells": [
  {
   "cell_type": "markdown",
   "metadata": {},
   "source": [
    "# Project Description"
   ]
  },
  {
   "cell_type": "markdown",
   "metadata": {},
   "source": [
    "Mobile carrier Megaline has found out that many of their subscribers use legacy plans. They want to develop a model that would analyze subscribers' behavior and recommend one of Megaline's newer plans: Smart or Ultra. You have access to behavior data about subscribers who have already switched to the new plans (from the project for the Statistical Data Analysis course). For this classification task, you need to develop a model that will pick the right plan. Since you’ve already performed the data preprocessing step, you can move straight to creating the model. Develop a model with the highest possible accuracy. In this project, the threshold for accuracy is 0.75. Check the accuracy using the test dataset."
   ]
  },
  {
   "cell_type": "markdown",
   "metadata": {},
   "source": [
    "# Data Analysis and Library Loading"
   ]
  },
  {
   "cell_type": "code",
   "execution_count": 2,
   "metadata": {},
   "outputs": [],
   "source": [
    "import pandas as pd\n",
    "from sklearn.tree import DecisionTreeClassifier\n",
    "from sklearn.ensemble import RandomForestClassifier\n",
    "from sklearn.metrics import accuracy_score\n",
    "from sklearn.model_selection import train_test_split\n",
    "from sklearn.linear_model import LogisticRegression\n",
    "from sklearn.metrics import precision_score"
   ]
  },
  {
   "cell_type": "code",
   "execution_count": 3,
   "metadata": {},
   "outputs": [],
   "source": [
    "df = pd.read_csv('https://code.s3.yandex.net/datasets/users_behavior.csv')\n"
   ]
  },
  {
   "cell_type": "code",
   "execution_count": 4,
   "metadata": {},
   "outputs": [
    {
     "name": "stdout",
     "output_type": "stream",
     "text": [
      "<class 'pandas.core.frame.DataFrame'>\n",
      "RangeIndex: 3214 entries, 0 to 3213\n",
      "Data columns (total 5 columns):\n",
      " #   Column    Non-Null Count  Dtype  \n",
      "---  ------    --------------  -----  \n",
      " 0   calls     3214 non-null   float64\n",
      " 1   minutes   3214 non-null   float64\n",
      " 2   messages  3214 non-null   float64\n",
      " 3   mb_used   3214 non-null   float64\n",
      " 4   is_ultra  3214 non-null   int64  \n",
      "dtypes: float64(4), int64(1)\n",
      "memory usage: 125.7 KB\n"
     ]
    }
   ],
   "source": [
    "df.isna().sum()\n",
    "df.info()\n",
    "\n",
    "df['messages'] = df['messages'].astype(int) \n",
    "df['calls'] = df['calls'].astype(int) "
   ]
  },
  {
   "cell_type": "markdown",
   "metadata": {},
   "source": [
    "I checked for null values to see if I had to perform any EDA,this dataset needs no fixing."
   ]
  },
  {
   "cell_type": "markdown",
   "metadata": {},
   "source": [
    "# Data Splitting"
   ]
  },
  {
   "cell_type": "code",
   "execution_count": 5,
   "metadata": {},
   "outputs": [],
   "source": [
    "#Split the data into training, testing and validation sets\n",
    "#Split 25% for testing and 75% for training.\n",
    "features = df.drop(columns=['is_ultra'])\n",
    "target =  df['is_ultra']\n",
    "features_train, features_test, target_train, target_test = train_test_split(features, target, test_size=0.25, random_state=12345)\n",
    "features_train, features_valid, target_train, target_valid = train_test_split(features_train, target_train, test_size=0.25, random_state=12345 )"
   ]
  },
  {
   "cell_type": "markdown",
   "metadata": {},
   "source": [
    "# Model Tuning"
   ]
  },
  {
   "cell_type": "code",
   "execution_count": 23,
   "metadata": {},
   "outputs": [
    {
     "name": "stdout",
     "output_type": "stream",
     "text": [
      "The Logistic Regression Model has accuracy of 70.64676616915423\n"
     ]
    }
   ],
   "source": [
    "#Logistic Regression Model\n",
    "logistic = LogisticRegression(random_state=54321, solver='liblinear') \n",
    "logistic.fit(features_valid, target_valid)\n",
    "logistic.score(features_valid, target_valid)\n",
    "\n",
    "print('The Logistic Regression Model has accuracy of',logistic.score(features_valid, target_valid)*100,)"
   ]
  },
  {
   "cell_type": "code",
   "execution_count": 24,
   "metadata": {},
   "outputs": [
    {
     "name": "stdout",
     "output_type": "stream",
     "text": [
      "The Decision Tree Model has accuracy of 78.93864013266997\n"
     ]
    }
   ],
   "source": [
    "#Decision Tree Model\n",
    "tree = DecisionTreeClassifier(random_state =12345, max_depth=2, splitter='best',class_weight=None)\n",
    "\n",
    "tree.fit(features_valid, target_valid)\n",
    "tree.score(features_valid, target_valid)\n",
    "\n",
    "print('The Decision Tree Model has accuracy of',tree.score(features_valid, target_valid)*100,)"
   ]
  },
  {
   "cell_type": "code",
   "execution_count": 25,
   "metadata": {},
   "outputs": [
    {
     "name": "stdout",
     "output_type": "stream",
     "text": [
      "The Decision Tree Model has accuracy of 85.57213930348259\n"
     ]
    }
   ],
   "source": [
    "tree = DecisionTreeClassifier(random_state =54321, max_depth=5, splitter='best',class_weight=None)\n",
    "\n",
    "tree.fit(features_valid, target_valid)\n",
    "tree.score(features_valid, target_valid)\n",
    "\n",
    "print('The Decision Tree Model has accuracy of',tree.score(features_valid, target_valid)*100,)"
   ]
  },
  {
   "cell_type": "code",
   "execution_count": 26,
   "metadata": {},
   "outputs": [
    {
     "name": "stdout",
     "output_type": "stream",
     "text": [
      "The Random Forest Model has accuracy of 76.61691542288557\n"
     ]
    }
   ],
   "source": [
    "#Random Forest Model\n",
    "forest = RandomForestClassifier(random_state=12345,max_depth=1,min_samples_leaf=1,criterion='gini')\n",
    "\n",
    "forest.fit(features_valid, target_valid)\n",
    "forest.score(features_valid, target_valid)\n",
    "\n",
    "print('The Random Forest Model has accuracy of',forest.score(features_valid, target_valid)*100,)"
   ]
  },
  {
   "cell_type": "code",
   "execution_count": 27,
   "metadata": {},
   "outputs": [
    {
     "name": "stdout",
     "output_type": "stream",
     "text": [
      "The Random Forest Model has accuracy of 90.54726368159204\n"
     ]
    }
   ],
   "source": [
    "#Random Forest Model\n",
    "forest = RandomForestClassifier(random_state=12345,max_depth=7,min_samples_leaf=1,criterion='gini')\n",
    "\n",
    "forest.fit(features_valid, target_valid)\n",
    "forest.score(features_valid, target_valid)\n",
    "\n",
    "print('The Random Forest Model has accuracy of',forest.score(features_valid, target_valid)*100,)"
   ]
  },
  {
   "cell_type": "markdown",
   "metadata": {},
   "source": [
    "We see that the Logistic Regression Model has the lowest accuracy of the three models. With a max depth of 7, we see that the Decison Tree and Random Forest Model perform at a higher level."
   ]
  },
  {
   "cell_type": "markdown",
   "metadata": {},
   "source": [
    "# Testing Quality - Test Set"
   ]
  },
  {
   "cell_type": "code",
   "execution_count": 21,
   "metadata": {},
   "outputs": [
    {
     "name": "stdout",
     "output_type": "stream",
     "text": [
      "The Random Forest Model has accuracy of 79.47761194029852\n"
     ]
    }
   ],
   "source": [
    "features_test_accuracy = features_test\n",
    "predictions_test_accuracy = forest.predict(features_test_accuracy)\n",
    "quality = accuracy_score(target_test, predictions_test_accuracy)\n",
    "quality\n",
    "\n",
    "print('The Random Forest Model has accuracy of', quality * 100,)"
   ]
  },
  {
   "cell_type": "markdown",
   "metadata": {},
   "source": [
    "The threshold for accuracy is 0.75 for this project. The Random Forest model has an accuracy of 79.5%, which qaulifies. Out of curiosity, I checked the Decision Tree model. It performed well but the Random Forest slightly outperformed it."
   ]
  },
  {
   "cell_type": "code",
   "execution_count": 28,
   "metadata": {},
   "outputs": [],
   "source": [
    "features_test_accuracy = features_test\n",
    "predictions_test_accuracy = forest.predict(features_test_accuracy)\n",
    "quality = accuracy_score(target_test, predictions_test_accuracy)\n"
   ]
  },
  {
   "cell_type": "code",
   "execution_count": 30,
   "metadata": {},
   "outputs": [
    {
     "name": "stdout",
     "output_type": "stream",
     "text": [
      "The Random Forest Model has the precision of 48.13278008298755\n"
     ]
    }
   ],
   "source": [
    "precision = precision_score(forest.predict(features_test_accuracy), target_test)\n",
    "precision \n",
    "\n",
    "print('The Random Forest Model has the precision of',precision * 100,)"
   ]
  },
  {
   "cell_type": "markdown",
   "metadata": {},
   "source": [
    "The precision of Random Forest model were very low."
   ]
  },
  {
   "cell_type": "markdown",
   "metadata": {},
   "source": [
    "# Conclusion"
   ]
  },
  {
   "cell_type": "markdown",
   "metadata": {},
   "source": [
    "The dataset had enough relevant data that all models performed well. \n",
    "\n",
    "Decision Tree and Random Forest completely outperformed Logistic Regression when tested on the train data set. When running these models on the test data set we saw that Random Forest slightly outperformed the Decision Tree with an accuracy rate of just over 80%."
   ]
  }
 ],
 "metadata": {
  "ExecuteTimeLog": [
   {
    "duration": 1025,
    "start_time": "2022-09-11T18:00:52.079Z"
   },
   {
    "duration": 140,
    "start_time": "2022-09-11T18:00:53.717Z"
   },
   {
    "duration": 22,
    "start_time": "2022-09-11T18:00:54.801Z"
   },
   {
    "duration": 9,
    "start_time": "2022-09-11T18:00:58.030Z"
   },
   {
    "duration": 4,
    "start_time": "2022-09-11T18:00:58.893Z"
   },
   {
    "duration": 16,
    "start_time": "2022-09-11T18:01:01.657Z"
   },
   {
    "duration": 13,
    "start_time": "2022-09-11T18:01:02.831Z"
   },
   {
    "duration": 113,
    "start_time": "2022-09-11T18:01:17.371Z"
   },
   {
    "duration": 8,
    "start_time": "2022-09-11T18:02:09.064Z"
   },
   {
    "duration": 365,
    "start_time": "2022-09-11T18:02:19.017Z"
   },
   {
    "duration": 245,
    "start_time": "2022-09-11T18:03:16.999Z"
   },
   {
    "duration": 352,
    "start_time": "2022-09-11T18:03:28.439Z"
   },
   {
    "duration": 15,
    "start_time": "2022-09-11T18:03:38.301Z"
   },
   {
    "duration": 307,
    "start_time": "2022-09-11T18:03:43.956Z"
   },
   {
    "duration": 15,
    "start_time": "2022-09-11T18:03:49.988Z"
   },
   {
    "duration": 32,
    "start_time": "2022-09-11T18:04:11.804Z"
   },
   {
    "duration": 9,
    "start_time": "2022-09-11T18:04:24.220Z"
   },
   {
    "duration": 6,
    "start_time": "2022-09-11T18:04:41.222Z"
   },
   {
    "duration": 31,
    "start_time": "2022-09-11T18:05:07.400Z"
   },
   {
    "duration": 7,
    "start_time": "2022-09-11T18:05:20.865Z"
   },
   {
    "duration": 10,
    "start_time": "2022-09-11T18:09:21.517Z"
   },
   {
    "duration": 17,
    "start_time": "2022-09-11T18:15:01.433Z"
   },
   {
    "duration": 17,
    "start_time": "2022-09-11T18:15:35.676Z"
   },
   {
    "duration": 13,
    "start_time": "2022-09-11T20:32:15.724Z"
   },
   {
    "duration": 14,
    "start_time": "2022-09-11T20:32:16.569Z"
   },
   {
    "duration": 303,
    "start_time": "2022-09-11T20:32:17.076Z"
   },
   {
    "duration": 26,
    "start_time": "2022-09-11T20:32:18.205Z"
   },
   {
    "duration": 6,
    "start_time": "2022-09-11T20:32:21.804Z"
   },
   {
    "duration": 7,
    "start_time": "2022-09-11T20:32:32.774Z"
   },
   {
    "duration": 25,
    "start_time": "2022-09-11T20:32:32.920Z"
   },
   {
    "duration": 7,
    "start_time": "2022-09-11T20:32:33.334Z"
   },
   {
    "duration": 13,
    "start_time": "2022-09-11T20:35:47.469Z"
   },
   {
    "duration": 524,
    "start_time": "2022-09-11T20:35:54.804Z"
   },
   {
    "duration": 19,
    "start_time": "2022-09-11T20:36:06.490Z"
   },
   {
    "duration": 13,
    "start_time": "2022-09-11T20:36:22.617Z"
   },
   {
    "duration": 14,
    "start_time": "2022-09-11T20:37:01.384Z"
   },
   {
    "duration": 298,
    "start_time": "2022-09-11T20:37:02.116Z"
   },
   {
    "duration": 28,
    "start_time": "2022-09-11T20:41:05.913Z"
   },
   {
    "duration": 7,
    "start_time": "2022-09-11T20:41:36.517Z"
   },
   {
    "duration": 6,
    "start_time": "2022-09-11T20:42:13.525Z"
   },
   {
    "duration": 11,
    "start_time": "2022-09-11T20:45:17.636Z"
   },
   {
    "duration": 5,
    "start_time": "2022-09-11T20:45:24.517Z"
   },
   {
    "duration": 29,
    "start_time": "2022-09-11T20:45:46.113Z"
   },
   {
    "duration": 250,
    "start_time": "2022-09-11T20:53:52.208Z"
   },
   {
    "duration": 13,
    "start_time": "2022-09-11T20:53:57.306Z"
   },
   {
    "duration": 1480,
    "start_time": "2022-09-12T19:52:27.074Z"
   },
   {
    "duration": 124,
    "start_time": "2022-09-12T19:52:28.555Z"
   },
   {
    "duration": 14,
    "start_time": "2022-09-12T19:52:28.680Z"
   },
   {
    "duration": 7,
    "start_time": "2022-09-12T19:52:28.739Z"
   },
   {
    "duration": 14,
    "start_time": "2022-09-12T19:52:29.986Z"
   },
   {
    "duration": 12,
    "start_time": "2022-09-12T19:52:30.687Z"
   },
   {
    "duration": 209,
    "start_time": "2022-09-12T19:52:31.790Z"
   },
   {
    "duration": 23,
    "start_time": "2022-09-12T19:53:54.228Z"
   },
   {
    "duration": 6,
    "start_time": "2022-09-12T19:53:55.276Z"
   },
   {
    "duration": 23,
    "start_time": "2022-09-12T19:54:31.958Z"
   },
   {
    "duration": 11,
    "start_time": "2022-09-12T19:56:50.128Z"
   },
   {
    "duration": 103,
    "start_time": "2022-09-12T19:56:57.005Z"
   },
   {
    "duration": 11,
    "start_time": "2022-09-12T19:57:05.661Z"
   },
   {
    "duration": 200,
    "start_time": "2022-09-12T19:57:11.241Z"
   }
  ],
  "kernelspec": {
   "display_name": "Python 3 (ipykernel)",
   "language": "python",
   "name": "python3"
  },
  "language_info": {
   "codemirror_mode": {
    "name": "ipython",
    "version": 3
   },
   "file_extension": ".py",
   "mimetype": "text/x-python",
   "name": "python",
   "nbconvert_exporter": "python",
   "pygments_lexer": "ipython3",
   "version": "3.9.5"
  },
  "toc": {
   "base_numbering": 1,
   "nav_menu": {},
   "number_sections": true,
   "sideBar": true,
   "skip_h1_title": true,
   "title_cell": "Table of Contents",
   "title_sidebar": "Contents",
   "toc_cell": false,
   "toc_position": {},
   "toc_section_display": true,
   "toc_window_display": false
  }
 },
 "nbformat": 4,
 "nbformat_minor": 2
}
