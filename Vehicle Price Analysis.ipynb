{
 "cells": [
  {
   "cell_type": "markdown",
   "metadata": {},
   "source": [
    "# What sells a car?\n",
    "\n",
    "You're an analyst at Crankshaft List. Hundreds of free advertisements for vehicles are published on your site every day. You need to study data collected over the last few years and determine which factors influence the price of a vehicle."
   ]
  },
  {
   "cell_type": "markdown",
   "metadata": {},
   "source": [
    "## Initialization"
   ]
  },
  {
   "cell_type": "code",
   "execution_count": 3,
   "metadata": {},
   "outputs": [],
   "source": [
    "# Loading all the libraries\n",
    "\n",
    "import pandas as pd\n",
    "\n",
    "import numpy as np\n",
    "\n",
    "import matplotlib as plot\n",
    "\n",
    "import seaborn as sns\n",
    "\n",
    "import scipy"
   ]
  },
  {
   "cell_type": "code",
   "execution_count": 4,
   "metadata": {},
   "outputs": [],
   "source": [
    "from scipy.stats import zscore"
   ]
  },
  {
   "cell_type": "markdown",
   "metadata": {},
   "source": [
    "### Load data"
   ]
  },
  {
   "cell_type": "code",
   "execution_count": 5,
   "metadata": {},
   "outputs": [],
   "source": [
    "# Load the data file into a DataFrame\n",
    "\n",
    "df = pd.read_csv('/datasets/vehicles_us.csv')"
   ]
  },
  {
   "cell_type": "markdown",
   "metadata": {},
   "source": [
    "### Explore initial data"
   ]
  },
  {
   "cell_type": "markdown",
   "metadata": {},
   "source": [
    "The dataset contains the following fields:\n",
    "- `price`\n",
    "- `model_year`\n",
    "- `model`\n",
    "- `condition`\n",
    "- `cylinders`\n",
    "- `fuel` — gas, diesel, etc.\n",
    "- `odometer` — the vehicle's mileage when the ad was published\n",
    "- `transmission`\n",
    "- `paint_color`\n",
    "- `is_4wd` — whether the vehicle has 4-wheel drive (Boolean type)\n",
    "- `date_posted` — the date the ad was published\n",
    "- `days_listed` — from publication to removal\n",
    "\n",
    "[Understanding the fields, explore them to make yourself familiar with the data.]"
   ]
  },
  {
   "cell_type": "code",
   "execution_count": 6,
   "metadata": {
    "scrolled": true
   },
   "outputs": [
    {
     "name": "stdout",
     "output_type": "stream",
     "text": [
      "(51525, 13)\n",
      "<class 'pandas.core.frame.DataFrame'>\n",
      "RangeIndex: 51525 entries, 0 to 51524\n",
      "Data columns (total 13 columns):\n",
      " #   Column        Non-Null Count  Dtype  \n",
      "---  ------        --------------  -----  \n",
      " 0   price         51525 non-null  int64  \n",
      " 1   model_year    47906 non-null  float64\n",
      " 2   model         51525 non-null  object \n",
      " 3   condition     51525 non-null  object \n",
      " 4   cylinders     46265 non-null  float64\n",
      " 5   fuel          51525 non-null  object \n",
      " 6   odometer      43633 non-null  float64\n",
      " 7   transmission  51525 non-null  object \n",
      " 8   type          51525 non-null  object \n",
      " 9   paint_color   42258 non-null  object \n",
      " 10  is_4wd        25572 non-null  float64\n",
      " 11  date_posted   51525 non-null  object \n",
      " 12  days_listed   51525 non-null  int64  \n",
      "dtypes: float64(4), int64(2), object(7)\n",
      "memory usage: 5.1+ MB\n",
      "None\n"
     ]
    }
   ],
   "source": [
    "# print the general/summary information about the DataFrame\n",
    "\n",
    "print(df.shape)\n",
    "print(df.info())\n"
   ]
  },
  {
   "cell_type": "code",
   "execution_count": 7,
   "metadata": {},
   "outputs": [
    {
     "data": {
      "text/html": [
       "<div>\n",
       "<style scoped>\n",
       "    .dataframe tbody tr th:only-of-type {\n",
       "        vertical-align: middle;\n",
       "    }\n",
       "\n",
       "    .dataframe tbody tr th {\n",
       "        vertical-align: top;\n",
       "    }\n",
       "\n",
       "    .dataframe thead th {\n",
       "        text-align: right;\n",
       "    }\n",
       "</style>\n",
       "<table border=\"1\" class=\"dataframe\">\n",
       "  <thead>\n",
       "    <tr style=\"text-align: right;\">\n",
       "      <th></th>\n",
       "      <th>price</th>\n",
       "      <th>model_year</th>\n",
       "      <th>model</th>\n",
       "      <th>condition</th>\n",
       "      <th>cylinders</th>\n",
       "      <th>fuel</th>\n",
       "      <th>odometer</th>\n",
       "      <th>transmission</th>\n",
       "      <th>type</th>\n",
       "      <th>paint_color</th>\n",
       "      <th>is_4wd</th>\n",
       "      <th>date_posted</th>\n",
       "      <th>days_listed</th>\n",
       "    </tr>\n",
       "  </thead>\n",
       "  <tbody>\n",
       "    <tr>\n",
       "      <th>0</th>\n",
       "      <td>9400</td>\n",
       "      <td>2011.0</td>\n",
       "      <td>bmw x5</td>\n",
       "      <td>good</td>\n",
       "      <td>6.0</td>\n",
       "      <td>gas</td>\n",
       "      <td>145000.0</td>\n",
       "      <td>automatic</td>\n",
       "      <td>SUV</td>\n",
       "      <td>NaN</td>\n",
       "      <td>1.0</td>\n",
       "      <td>2018-06-23</td>\n",
       "      <td>19</td>\n",
       "    </tr>\n",
       "    <tr>\n",
       "      <th>1</th>\n",
       "      <td>25500</td>\n",
       "      <td>NaN</td>\n",
       "      <td>ford f-150</td>\n",
       "      <td>good</td>\n",
       "      <td>6.0</td>\n",
       "      <td>gas</td>\n",
       "      <td>88705.0</td>\n",
       "      <td>automatic</td>\n",
       "      <td>pickup</td>\n",
       "      <td>white</td>\n",
       "      <td>1.0</td>\n",
       "      <td>2018-10-19</td>\n",
       "      <td>50</td>\n",
       "    </tr>\n",
       "    <tr>\n",
       "      <th>2</th>\n",
       "      <td>5500</td>\n",
       "      <td>2013.0</td>\n",
       "      <td>hyundai sonata</td>\n",
       "      <td>like new</td>\n",
       "      <td>4.0</td>\n",
       "      <td>gas</td>\n",
       "      <td>110000.0</td>\n",
       "      <td>automatic</td>\n",
       "      <td>sedan</td>\n",
       "      <td>red</td>\n",
       "      <td>NaN</td>\n",
       "      <td>2019-02-07</td>\n",
       "      <td>79</td>\n",
       "    </tr>\n",
       "    <tr>\n",
       "      <th>3</th>\n",
       "      <td>1500</td>\n",
       "      <td>2003.0</td>\n",
       "      <td>ford f-150</td>\n",
       "      <td>fair</td>\n",
       "      <td>8.0</td>\n",
       "      <td>gas</td>\n",
       "      <td>NaN</td>\n",
       "      <td>automatic</td>\n",
       "      <td>pickup</td>\n",
       "      <td>NaN</td>\n",
       "      <td>NaN</td>\n",
       "      <td>2019-03-22</td>\n",
       "      <td>9</td>\n",
       "    </tr>\n",
       "    <tr>\n",
       "      <th>4</th>\n",
       "      <td>14900</td>\n",
       "      <td>2017.0</td>\n",
       "      <td>chrysler 200</td>\n",
       "      <td>excellent</td>\n",
       "      <td>4.0</td>\n",
       "      <td>gas</td>\n",
       "      <td>80903.0</td>\n",
       "      <td>automatic</td>\n",
       "      <td>sedan</td>\n",
       "      <td>black</td>\n",
       "      <td>NaN</td>\n",
       "      <td>2019-04-02</td>\n",
       "      <td>28</td>\n",
       "    </tr>\n",
       "    <tr>\n",
       "      <th>5</th>\n",
       "      <td>14990</td>\n",
       "      <td>2014.0</td>\n",
       "      <td>chrysler 300</td>\n",
       "      <td>excellent</td>\n",
       "      <td>6.0</td>\n",
       "      <td>gas</td>\n",
       "      <td>57954.0</td>\n",
       "      <td>automatic</td>\n",
       "      <td>sedan</td>\n",
       "      <td>black</td>\n",
       "      <td>1.0</td>\n",
       "      <td>2018-06-20</td>\n",
       "      <td>15</td>\n",
       "    </tr>\n",
       "    <tr>\n",
       "      <th>6</th>\n",
       "      <td>12990</td>\n",
       "      <td>2015.0</td>\n",
       "      <td>toyota camry</td>\n",
       "      <td>excellent</td>\n",
       "      <td>4.0</td>\n",
       "      <td>gas</td>\n",
       "      <td>79212.0</td>\n",
       "      <td>automatic</td>\n",
       "      <td>sedan</td>\n",
       "      <td>white</td>\n",
       "      <td>NaN</td>\n",
       "      <td>2018-12-27</td>\n",
       "      <td>73</td>\n",
       "    </tr>\n",
       "    <tr>\n",
       "      <th>7</th>\n",
       "      <td>15990</td>\n",
       "      <td>2013.0</td>\n",
       "      <td>honda pilot</td>\n",
       "      <td>excellent</td>\n",
       "      <td>6.0</td>\n",
       "      <td>gas</td>\n",
       "      <td>109473.0</td>\n",
       "      <td>automatic</td>\n",
       "      <td>SUV</td>\n",
       "      <td>black</td>\n",
       "      <td>1.0</td>\n",
       "      <td>2019-01-07</td>\n",
       "      <td>68</td>\n",
       "    </tr>\n",
       "    <tr>\n",
       "      <th>8</th>\n",
       "      <td>11500</td>\n",
       "      <td>2012.0</td>\n",
       "      <td>kia sorento</td>\n",
       "      <td>excellent</td>\n",
       "      <td>4.0</td>\n",
       "      <td>gas</td>\n",
       "      <td>104174.0</td>\n",
       "      <td>automatic</td>\n",
       "      <td>SUV</td>\n",
       "      <td>NaN</td>\n",
       "      <td>1.0</td>\n",
       "      <td>2018-07-16</td>\n",
       "      <td>19</td>\n",
       "    </tr>\n",
       "    <tr>\n",
       "      <th>9</th>\n",
       "      <td>9200</td>\n",
       "      <td>2008.0</td>\n",
       "      <td>honda pilot</td>\n",
       "      <td>excellent</td>\n",
       "      <td>NaN</td>\n",
       "      <td>gas</td>\n",
       "      <td>147191.0</td>\n",
       "      <td>automatic</td>\n",
       "      <td>SUV</td>\n",
       "      <td>blue</td>\n",
       "      <td>1.0</td>\n",
       "      <td>2019-02-15</td>\n",
       "      <td>17</td>\n",
       "    </tr>\n",
       "  </tbody>\n",
       "</table>\n",
       "</div>"
      ],
      "text/plain": [
       "   price  model_year           model  condition  cylinders fuel  odometer  \\\n",
       "0   9400      2011.0          bmw x5       good        6.0  gas  145000.0   \n",
       "1  25500         NaN      ford f-150       good        6.0  gas   88705.0   \n",
       "2   5500      2013.0  hyundai sonata   like new        4.0  gas  110000.0   \n",
       "3   1500      2003.0      ford f-150       fair        8.0  gas       NaN   \n",
       "4  14900      2017.0    chrysler 200  excellent        4.0  gas   80903.0   \n",
       "5  14990      2014.0    chrysler 300  excellent        6.0  gas   57954.0   \n",
       "6  12990      2015.0    toyota camry  excellent        4.0  gas   79212.0   \n",
       "7  15990      2013.0     honda pilot  excellent        6.0  gas  109473.0   \n",
       "8  11500      2012.0     kia sorento  excellent        4.0  gas  104174.0   \n",
       "9   9200      2008.0     honda pilot  excellent        NaN  gas  147191.0   \n",
       "\n",
       "  transmission    type paint_color  is_4wd date_posted  days_listed  \n",
       "0    automatic     SUV         NaN     1.0  2018-06-23           19  \n",
       "1    automatic  pickup       white     1.0  2018-10-19           50  \n",
       "2    automatic   sedan         red     NaN  2019-02-07           79  \n",
       "3    automatic  pickup         NaN     NaN  2019-03-22            9  \n",
       "4    automatic   sedan       black     NaN  2019-04-02           28  \n",
       "5    automatic   sedan       black     1.0  2018-06-20           15  \n",
       "6    automatic   sedan       white     NaN  2018-12-27           73  \n",
       "7    automatic     SUV       black     1.0  2019-01-07           68  \n",
       "8    automatic     SUV         NaN     1.0  2018-07-16           19  \n",
       "9    automatic     SUV        blue     1.0  2019-02-15           17  "
      ]
     },
     "metadata": {},
     "output_type": "display_data"
    },
    {
     "name": "stdout",
     "output_type": "stream",
     "text": [
      "None\n"
     ]
    },
    {
     "data": {
      "text/plain": [
       "price               0\n",
       "model_year       3619\n",
       "model               0\n",
       "condition           0\n",
       "cylinders        5260\n",
       "fuel                0\n",
       "odometer         7892\n",
       "transmission        0\n",
       "type                0\n",
       "paint_color      9267\n",
       "is_4wd          25953\n",
       "date_posted         0\n",
       "days_listed         0\n",
       "dtype: int64"
      ]
     },
     "execution_count": 7,
     "metadata": {},
     "output_type": "execute_result"
    }
   ],
   "source": [
    "# print a sample of data\n",
    "\n",
    "print(display(df.head(10)))\n",
    "\n",
    "df.isnull().sum()"
   ]
  },
  {
   "cell_type": "raw",
   "metadata": {},
   "source": [
    "With the intial printed sample we see that there are missing values in the columns. \n",
    "There are also incorrect data types for some of the columns."
   ]
  },
  {
   "cell_type": "raw",
   "metadata": {},
   "source": [
    "The price column could be float64.\n",
    "The model year column could be int64.\n",
    "The cylinders could be int64."
   ]
  },
  {
   "cell_type": "raw",
   "metadata": {},
   "source": [
    "There are missing values in 5 out of the 13 columns. \n",
    "The is_4wd and paint_color columns are missing the most amount of values."
   ]
  },
  {
   "cell_type": "markdown",
   "metadata": {},
   "source": [
    "### Conclusions and further steps\n"
   ]
  },
  {
   "cell_type": "raw",
   "metadata": {},
   "source": [
    "The majority of the data looks fine.\n",
    "The parts of the data that could be changed are filling in missing values and changing data types to preferrable ones.\n",
    "I will first fill in the model year,cylinders,odmeter, and paint color columns. I will drop the is4wd column becuase its missing more than 50% of its data.\n",
    "After these columns are filled in correctly with mean/median/mode, I will change the column types to ones that fit the data better."
   ]
  },
  {
   "cell_type": "code",
   "execution_count": 8,
   "metadata": {},
   "outputs": [
    {
     "name": "stdout",
     "output_type": "stream",
     "text": [
      "<class 'pandas.core.frame.DataFrame'>\n",
      "RangeIndex: 51525 entries, 0 to 51524\n",
      "Data columns (total 13 columns):\n",
      " #   Column        Non-Null Count  Dtype         \n",
      "---  ------        --------------  -----         \n",
      " 0   price         51525 non-null  int64         \n",
      " 1   model_year    47906 non-null  float64       \n",
      " 2   model         51525 non-null  object        \n",
      " 3   condition     51525 non-null  object        \n",
      " 4   cylinders     46265 non-null  float64       \n",
      " 5   fuel          51525 non-null  object        \n",
      " 6   odometer      43633 non-null  float64       \n",
      " 7   transmission  51525 non-null  object        \n",
      " 8   type          51525 non-null  object        \n",
      " 9   paint_color   42258 non-null  object        \n",
      " 10  is_4wd        25572 non-null  float64       \n",
      " 11  date_posted   51525 non-null  datetime64[ns]\n",
      " 12  days_listed   51525 non-null  int64         \n",
      "dtypes: datetime64[ns](1), float64(4), int64(2), object(6)\n",
      "memory usage: 5.1+ MB\n",
      "0   2018-06-23\n",
      "1   2018-10-19\n",
      "2   2019-02-07\n",
      "3   2019-03-22\n",
      "4   2019-04-02\n",
      "Name: date_posted, dtype: datetime64[ns]\n"
     ]
    }
   ],
   "source": [
    "# Add datetime values for when the ad was placed\n",
    "df['date_posted'] = pd.to_datetime(df['date_posted'], format='%Y-%m-%d')\n",
    "#df['date_posted'].astype('int')\n",
    "df.info()\n",
    "print(df['date_posted'].head())"
   ]
  },
  {
   "cell_type": "code",
   "execution_count": 9,
   "metadata": {},
   "outputs": [
    {
     "name": "stdout",
     "output_type": "stream",
     "text": [
      "0     7.0\n",
      "1     NaN\n",
      "2     6.0\n",
      "3    16.0\n",
      "4     2.0\n",
      "Name: post_age, dtype: float64\n"
     ]
    }
   ],
   "source": [
    "# Add the vehicle's age when the ad was placed\n",
    "df['post_age'] = (df['date_posted'].dt.year - df['model_year'])\n",
    "df['post_age'] = df['post_age'].astype('float').abs()\n",
    "print(df['post_age'].head())\n",
    "\n"
   ]
  },
  {
   "cell_type": "markdown",
   "metadata": {},
   "source": [
    "## Treat missing values (if any)"
   ]
  },
  {
   "cell_type": "code",
   "execution_count": 10,
   "metadata": {
    "scrolled": true
   },
   "outputs": [
    {
     "name": "stdout",
     "output_type": "stream",
     "text": [
      "<class 'pandas.core.frame.DataFrame'>\n",
      "RangeIndex: 51525 entries, 0 to 51524\n",
      "Data columns (total 14 columns):\n",
      " #   Column        Non-Null Count  Dtype         \n",
      "---  ------        --------------  -----         \n",
      " 0   price         51525 non-null  int64         \n",
      " 1   model_year    51518 non-null  float64       \n",
      " 2   model         51525 non-null  object        \n",
      " 3   condition     51525 non-null  object        \n",
      " 4   cylinders     51525 non-null  float64       \n",
      " 5   fuel          51525 non-null  object        \n",
      " 6   odometer      51517 non-null  float64       \n",
      " 7   transmission  51525 non-null  object        \n",
      " 8   type          51525 non-null  object        \n",
      " 9   paint_color   51525 non-null  object        \n",
      " 10  is_4wd        51525 non-null  float64       \n",
      " 11  date_posted   51525 non-null  datetime64[ns]\n",
      " 12  days_listed   51525 non-null  int64         \n",
      " 13  post_age      51518 non-null  float64       \n",
      "dtypes: datetime64[ns](1), float64(5), int64(2), object(6)\n",
      "memory usage: 5.5+ MB\n"
     ]
    },
    {
     "data": {
      "text/html": [
       "<div>\n",
       "<style scoped>\n",
       "    .dataframe tbody tr th:only-of-type {\n",
       "        vertical-align: middle;\n",
       "    }\n",
       "\n",
       "    .dataframe tbody tr th {\n",
       "        vertical-align: top;\n",
       "    }\n",
       "\n",
       "    .dataframe thead th {\n",
       "        text-align: right;\n",
       "    }\n",
       "</style>\n",
       "<table border=\"1\" class=\"dataframe\">\n",
       "  <thead>\n",
       "    <tr style=\"text-align: right;\">\n",
       "      <th></th>\n",
       "      <th>price</th>\n",
       "      <th>model_year</th>\n",
       "      <th>model</th>\n",
       "      <th>condition</th>\n",
       "      <th>cylinders</th>\n",
       "      <th>fuel</th>\n",
       "      <th>odometer</th>\n",
       "      <th>transmission</th>\n",
       "      <th>type</th>\n",
       "      <th>paint_color</th>\n",
       "      <th>is_4wd</th>\n",
       "      <th>date_posted</th>\n",
       "      <th>days_listed</th>\n",
       "      <th>post_age</th>\n",
       "    </tr>\n",
       "  </thead>\n",
       "  <tbody>\n",
       "    <tr>\n",
       "      <th>0</th>\n",
       "      <td>9400</td>\n",
       "      <td>2011.0</td>\n",
       "      <td>bmw x5</td>\n",
       "      <td>good</td>\n",
       "      <td>6.0</td>\n",
       "      <td>gas</td>\n",
       "      <td>145000.0</td>\n",
       "      <td>automatic</td>\n",
       "      <td>SUV</td>\n",
       "      <td>unknown</td>\n",
       "      <td>1.0</td>\n",
       "      <td>2018-06-23</td>\n",
       "      <td>19</td>\n",
       "      <td>8.0</td>\n",
       "    </tr>\n",
       "    <tr>\n",
       "      <th>1</th>\n",
       "      <td>25500</td>\n",
       "      <td>121928.0</td>\n",
       "      <td>ford f-150</td>\n",
       "      <td>good</td>\n",
       "      <td>6.0</td>\n",
       "      <td>gas</td>\n",
       "      <td>88705.0</td>\n",
       "      <td>automatic</td>\n",
       "      <td>pickup</td>\n",
       "      <td>white</td>\n",
       "      <td>1.0</td>\n",
       "      <td>2018-10-19</td>\n",
       "      <td>50</td>\n",
       "      <td>-119909.0</td>\n",
       "    </tr>\n",
       "    <tr>\n",
       "      <th>2</th>\n",
       "      <td>5500</td>\n",
       "      <td>2013.0</td>\n",
       "      <td>hyundai sonata</td>\n",
       "      <td>like new</td>\n",
       "      <td>4.0</td>\n",
       "      <td>gas</td>\n",
       "      <td>110000.0</td>\n",
       "      <td>automatic</td>\n",
       "      <td>sedan</td>\n",
       "      <td>red</td>\n",
       "      <td>0.0</td>\n",
       "      <td>2019-02-07</td>\n",
       "      <td>79</td>\n",
       "      <td>7.0</td>\n",
       "    </tr>\n",
       "    <tr>\n",
       "      <th>3</th>\n",
       "      <td>1500</td>\n",
       "      <td>2003.0</td>\n",
       "      <td>ford f-150</td>\n",
       "      <td>fair</td>\n",
       "      <td>8.0</td>\n",
       "      <td>gas</td>\n",
       "      <td>161397.0</td>\n",
       "      <td>automatic</td>\n",
       "      <td>pickup</td>\n",
       "      <td>unknown</td>\n",
       "      <td>0.0</td>\n",
       "      <td>2019-03-22</td>\n",
       "      <td>9</td>\n",
       "      <td>17.0</td>\n",
       "    </tr>\n",
       "    <tr>\n",
       "      <th>4</th>\n",
       "      <td>14900</td>\n",
       "      <td>2017.0</td>\n",
       "      <td>chrysler 200</td>\n",
       "      <td>excellent</td>\n",
       "      <td>4.0</td>\n",
       "      <td>gas</td>\n",
       "      <td>80903.0</td>\n",
       "      <td>automatic</td>\n",
       "      <td>sedan</td>\n",
       "      <td>black</td>\n",
       "      <td>0.0</td>\n",
       "      <td>2019-04-02</td>\n",
       "      <td>28</td>\n",
       "      <td>3.0</td>\n",
       "    </tr>\n",
       "  </tbody>\n",
       "</table>\n",
       "</div>"
      ],
      "text/plain": [
       "   price  model_year           model  condition  cylinders fuel  odometer  \\\n",
       "0   9400      2011.0          bmw x5       good        6.0  gas  145000.0   \n",
       "1  25500    121928.0      ford f-150       good        6.0  gas   88705.0   \n",
       "2   5500      2013.0  hyundai sonata   like new        4.0  gas  110000.0   \n",
       "3   1500      2003.0      ford f-150       fair        8.0  gas  161397.0   \n",
       "4  14900      2017.0    chrysler 200  excellent        4.0  gas   80903.0   \n",
       "\n",
       "  transmission    type paint_color  is_4wd date_posted  days_listed  post_age  \n",
       "0    automatic     SUV     unknown     1.0  2018-06-23           19       8.0  \n",
       "1    automatic  pickup       white     1.0  2018-10-19           50 -119909.0  \n",
       "2    automatic   sedan         red     0.0  2019-02-07           79       7.0  \n",
       "3    automatic  pickup     unknown     0.0  2019-03-22            9      17.0  \n",
       "4    automatic   sedan       black     0.0  2019-04-02           28       3.0  "
      ]
     },
     "metadata": {},
     "output_type": "display_data"
    },
    {
     "name": "stdout",
     "output_type": "stream",
     "text": [
      "None\n"
     ]
    }
   ],
   "source": [
    "# Fill in paint_color-Unknown,model_year-Median,cylinders-Median,odemeter-Mean\n",
    "df['model_year'] = df['model_year'].fillna(df.groupby(['model'])['odometer'].transform('median'))\n",
    "df['cylinders'] = df['cylinders'].fillna(df.groupby(['model'])['cylinders'].transform('median'))\n",
    "df['odometer'] = df['odometer'].fillna(df.groupby(['model_year'])['odometer'].transform('median'))\n",
    "df['paint_color'] = df['paint_color'].fillna('unknown')\n",
    "df['is_4wd'] = df['is_4wd'].fillna(0)\n",
    "df['post_age'] = df['date_posted'].dt.year - df['model_year'] + 1\n",
    "\n",
    "df.info()\n",
    "print(display(df.head()))\n",
    "\n"
   ]
  },
  {
   "cell_type": "markdown",
   "metadata": {},
   "source": [
    "## Fix data types"
   ]
  },
  {
   "cell_type": "code",
   "execution_count": 11,
   "metadata": {},
   "outputs": [
    {
     "name": "stdout",
     "output_type": "stream",
     "text": [
      "price                  float64\n",
      "model_year             float64\n",
      "model                   object\n",
      "condition               object\n",
      "cylinders                int64\n",
      "fuel                    object\n",
      "odometer               float64\n",
      "transmission            object\n",
      "type                    object\n",
      "paint_color             object\n",
      "is_4wd                 float64\n",
      "date_posted     datetime64[ns]\n",
      "days_listed              int64\n",
      "post_age               float64\n",
      "dtype: object\n"
     ]
    }
   ],
   "source": [
    "convert_dict = {'price': float,'cylinders':int}\n",
    "  \n",
    "df = df.astype(convert_dict)\n",
    "print(df.dtypes)"
   ]
  },
  {
   "cell_type": "markdown",
   "metadata": {},
   "source": [
    "## Enrich data"
   ]
  },
  {
   "cell_type": "code",
   "execution_count": 12,
   "metadata": {},
   "outputs": [
    {
     "name": "stdout",
     "output_type": "stream",
     "text": [
      "0    18125.000000\n",
      "1       -0.739769\n",
      "2    15714.285714\n",
      "3     9493.941176\n",
      "4    26967.666667\n",
      "Name: mileage, dtype: float64\n"
     ]
    }
   ],
   "source": [
    "# Add the vehicle's average mileage per year\n",
    "df['mileage'] = df['odometer'] / df['post_age']\n",
    "print(df['mileage'].head())\n"
   ]
  },
  {
   "cell_type": "code",
   "execution_count": 13,
   "metadata": {},
   "outputs": [
    {
     "name": "stdout",
     "output_type": "stream",
     "text": [
      "0    3.0\n",
      "1    3.0\n",
      "2    6.0\n",
      "3    2.0\n",
      "4    4.0\n",
      "Name: condition_val, dtype: float64\n"
     ]
    }
   ],
   "source": [
    "# It might help to replace the condition values with something that can be manipulated more easily\n",
    "\n",
    "cond_val = ['good', 'like new', 'fair', 'excellent', 'salvage', 'new']\n",
    "cond_num = [3, 5, 2, 4, 1, 6] # the condition is numbered from 1 to 6, higher is better. \n",
    "for i in range(len(cond_val)):\n",
    "    df.loc[df['condition'].str.contains(cond_val[i]), 'condition_val'] = int(cond_num[i])\n",
    "    \n",
    "print(df['condition_val'].head())"
   ]
  },
  {
   "cell_type": "markdown",
   "metadata": {},
   "source": [
    "## Check clean data"
   ]
  },
  {
   "cell_type": "code",
   "execution_count": 14,
   "metadata": {},
   "outputs": [
    {
     "name": "stdout",
     "output_type": "stream",
     "text": [
      "(51525, 16)\n",
      "<class 'pandas.core.frame.DataFrame'>\n",
      "RangeIndex: 51525 entries, 0 to 51524\n",
      "Data columns (total 16 columns):\n",
      " #   Column         Non-Null Count  Dtype         \n",
      "---  ------         --------------  -----         \n",
      " 0   price          51525 non-null  float64       \n",
      " 1   model_year     51518 non-null  float64       \n",
      " 2   model          51525 non-null  object        \n",
      " 3   condition      51525 non-null  object        \n",
      " 4   cylinders      51525 non-null  int64         \n",
      " 5   fuel           51525 non-null  object        \n",
      " 6   odometer       51517 non-null  float64       \n",
      " 7   transmission   51525 non-null  object        \n",
      " 8   type           51525 non-null  object        \n",
      " 9   paint_color    51525 non-null  object        \n",
      " 10  is_4wd         51525 non-null  float64       \n",
      " 11  date_posted    51525 non-null  datetime64[ns]\n",
      " 12  days_listed    51525 non-null  int64         \n",
      " 13  post_age       51518 non-null  float64       \n",
      " 14  mileage        51517 non-null  float64       \n",
      " 15  condition_val  51525 non-null  float64       \n",
      "dtypes: datetime64[ns](1), float64(7), int64(2), object(6)\n",
      "memory usage: 6.3+ MB\n",
      "None\n"
     ]
    }
   ],
   "source": [
    "# print the general/summary information about the DataFrame\n",
    "\n",
    "print(df.shape)\n",
    "print(df.info())"
   ]
  },
  {
   "cell_type": "code",
   "execution_count": 15,
   "metadata": {},
   "outputs": [
    {
     "data": {
      "text/html": [
       "<div>\n",
       "<style scoped>\n",
       "    .dataframe tbody tr th:only-of-type {\n",
       "        vertical-align: middle;\n",
       "    }\n",
       "\n",
       "    .dataframe tbody tr th {\n",
       "        vertical-align: top;\n",
       "    }\n",
       "\n",
       "    .dataframe thead th {\n",
       "        text-align: right;\n",
       "    }\n",
       "</style>\n",
       "<table border=\"1\" class=\"dataframe\">\n",
       "  <thead>\n",
       "    <tr style=\"text-align: right;\">\n",
       "      <th></th>\n",
       "      <th>price</th>\n",
       "      <th>model_year</th>\n",
       "      <th>model</th>\n",
       "      <th>condition</th>\n",
       "      <th>cylinders</th>\n",
       "      <th>fuel</th>\n",
       "      <th>odometer</th>\n",
       "      <th>transmission</th>\n",
       "      <th>type</th>\n",
       "      <th>paint_color</th>\n",
       "      <th>is_4wd</th>\n",
       "      <th>date_posted</th>\n",
       "      <th>days_listed</th>\n",
       "      <th>post_age</th>\n",
       "      <th>mileage</th>\n",
       "      <th>condition_val</th>\n",
       "    </tr>\n",
       "  </thead>\n",
       "  <tbody>\n",
       "    <tr>\n",
       "      <th>0</th>\n",
       "      <td>9400.0</td>\n",
       "      <td>2011.0</td>\n",
       "      <td>bmw x5</td>\n",
       "      <td>good</td>\n",
       "      <td>6</td>\n",
       "      <td>gas</td>\n",
       "      <td>145000.0</td>\n",
       "      <td>automatic</td>\n",
       "      <td>SUV</td>\n",
       "      <td>unknown</td>\n",
       "      <td>1.0</td>\n",
       "      <td>2018-06-23</td>\n",
       "      <td>19</td>\n",
       "      <td>8.0</td>\n",
       "      <td>18125.000000</td>\n",
       "      <td>3.0</td>\n",
       "    </tr>\n",
       "    <tr>\n",
       "      <th>1</th>\n",
       "      <td>25500.0</td>\n",
       "      <td>121928.0</td>\n",
       "      <td>ford f-150</td>\n",
       "      <td>good</td>\n",
       "      <td>6</td>\n",
       "      <td>gas</td>\n",
       "      <td>88705.0</td>\n",
       "      <td>automatic</td>\n",
       "      <td>pickup</td>\n",
       "      <td>white</td>\n",
       "      <td>1.0</td>\n",
       "      <td>2018-10-19</td>\n",
       "      <td>50</td>\n",
       "      <td>-119909.0</td>\n",
       "      <td>-0.739769</td>\n",
       "      <td>3.0</td>\n",
       "    </tr>\n",
       "    <tr>\n",
       "      <th>2</th>\n",
       "      <td>5500.0</td>\n",
       "      <td>2013.0</td>\n",
       "      <td>hyundai sonata</td>\n",
       "      <td>like new</td>\n",
       "      <td>4</td>\n",
       "      <td>gas</td>\n",
       "      <td>110000.0</td>\n",
       "      <td>automatic</td>\n",
       "      <td>sedan</td>\n",
       "      <td>red</td>\n",
       "      <td>0.0</td>\n",
       "      <td>2019-02-07</td>\n",
       "      <td>79</td>\n",
       "      <td>7.0</td>\n",
       "      <td>15714.285714</td>\n",
       "      <td>6.0</td>\n",
       "    </tr>\n",
       "    <tr>\n",
       "      <th>3</th>\n",
       "      <td>1500.0</td>\n",
       "      <td>2003.0</td>\n",
       "      <td>ford f-150</td>\n",
       "      <td>fair</td>\n",
       "      <td>8</td>\n",
       "      <td>gas</td>\n",
       "      <td>161397.0</td>\n",
       "      <td>automatic</td>\n",
       "      <td>pickup</td>\n",
       "      <td>unknown</td>\n",
       "      <td>0.0</td>\n",
       "      <td>2019-03-22</td>\n",
       "      <td>9</td>\n",
       "      <td>17.0</td>\n",
       "      <td>9493.941176</td>\n",
       "      <td>2.0</td>\n",
       "    </tr>\n",
       "    <tr>\n",
       "      <th>4</th>\n",
       "      <td>14900.0</td>\n",
       "      <td>2017.0</td>\n",
       "      <td>chrysler 200</td>\n",
       "      <td>excellent</td>\n",
       "      <td>4</td>\n",
       "      <td>gas</td>\n",
       "      <td>80903.0</td>\n",
       "      <td>automatic</td>\n",
       "      <td>sedan</td>\n",
       "      <td>black</td>\n",
       "      <td>0.0</td>\n",
       "      <td>2019-04-02</td>\n",
       "      <td>28</td>\n",
       "      <td>3.0</td>\n",
       "      <td>26967.666667</td>\n",
       "      <td>4.0</td>\n",
       "    </tr>\n",
       "    <tr>\n",
       "      <th>5</th>\n",
       "      <td>14990.0</td>\n",
       "      <td>2014.0</td>\n",
       "      <td>chrysler 300</td>\n",
       "      <td>excellent</td>\n",
       "      <td>6</td>\n",
       "      <td>gas</td>\n",
       "      <td>57954.0</td>\n",
       "      <td>automatic</td>\n",
       "      <td>sedan</td>\n",
       "      <td>black</td>\n",
       "      <td>1.0</td>\n",
       "      <td>2018-06-20</td>\n",
       "      <td>15</td>\n",
       "      <td>5.0</td>\n",
       "      <td>11590.800000</td>\n",
       "      <td>4.0</td>\n",
       "    </tr>\n",
       "    <tr>\n",
       "      <th>6</th>\n",
       "      <td>12990.0</td>\n",
       "      <td>2015.0</td>\n",
       "      <td>toyota camry</td>\n",
       "      <td>excellent</td>\n",
       "      <td>4</td>\n",
       "      <td>gas</td>\n",
       "      <td>79212.0</td>\n",
       "      <td>automatic</td>\n",
       "      <td>sedan</td>\n",
       "      <td>white</td>\n",
       "      <td>0.0</td>\n",
       "      <td>2018-12-27</td>\n",
       "      <td>73</td>\n",
       "      <td>4.0</td>\n",
       "      <td>19803.000000</td>\n",
       "      <td>4.0</td>\n",
       "    </tr>\n",
       "    <tr>\n",
       "      <th>7</th>\n",
       "      <td>15990.0</td>\n",
       "      <td>2013.0</td>\n",
       "      <td>honda pilot</td>\n",
       "      <td>excellent</td>\n",
       "      <td>6</td>\n",
       "      <td>gas</td>\n",
       "      <td>109473.0</td>\n",
       "      <td>automatic</td>\n",
       "      <td>SUV</td>\n",
       "      <td>black</td>\n",
       "      <td>1.0</td>\n",
       "      <td>2019-01-07</td>\n",
       "      <td>68</td>\n",
       "      <td>7.0</td>\n",
       "      <td>15639.000000</td>\n",
       "      <td>4.0</td>\n",
       "    </tr>\n",
       "    <tr>\n",
       "      <th>8</th>\n",
       "      <td>11500.0</td>\n",
       "      <td>2012.0</td>\n",
       "      <td>kia sorento</td>\n",
       "      <td>excellent</td>\n",
       "      <td>4</td>\n",
       "      <td>gas</td>\n",
       "      <td>104174.0</td>\n",
       "      <td>automatic</td>\n",
       "      <td>SUV</td>\n",
       "      <td>unknown</td>\n",
       "      <td>1.0</td>\n",
       "      <td>2018-07-16</td>\n",
       "      <td>19</td>\n",
       "      <td>7.0</td>\n",
       "      <td>14882.000000</td>\n",
       "      <td>4.0</td>\n",
       "    </tr>\n",
       "    <tr>\n",
       "      <th>9</th>\n",
       "      <td>9200.0</td>\n",
       "      <td>2008.0</td>\n",
       "      <td>honda pilot</td>\n",
       "      <td>excellent</td>\n",
       "      <td>6</td>\n",
       "      <td>gas</td>\n",
       "      <td>147191.0</td>\n",
       "      <td>automatic</td>\n",
       "      <td>SUV</td>\n",
       "      <td>blue</td>\n",
       "      <td>1.0</td>\n",
       "      <td>2019-02-15</td>\n",
       "      <td>17</td>\n",
       "      <td>12.0</td>\n",
       "      <td>12265.916667</td>\n",
       "      <td>4.0</td>\n",
       "    </tr>\n",
       "  </tbody>\n",
       "</table>\n",
       "</div>"
      ],
      "text/plain": [
       "     price  model_year           model  condition  cylinders fuel  odometer  \\\n",
       "0   9400.0      2011.0          bmw x5       good          6  gas  145000.0   \n",
       "1  25500.0    121928.0      ford f-150       good          6  gas   88705.0   \n",
       "2   5500.0      2013.0  hyundai sonata   like new          4  gas  110000.0   \n",
       "3   1500.0      2003.0      ford f-150       fair          8  gas  161397.0   \n",
       "4  14900.0      2017.0    chrysler 200  excellent          4  gas   80903.0   \n",
       "5  14990.0      2014.0    chrysler 300  excellent          6  gas   57954.0   \n",
       "6  12990.0      2015.0    toyota camry  excellent          4  gas   79212.0   \n",
       "7  15990.0      2013.0     honda pilot  excellent          6  gas  109473.0   \n",
       "8  11500.0      2012.0     kia sorento  excellent          4  gas  104174.0   \n",
       "9   9200.0      2008.0     honda pilot  excellent          6  gas  147191.0   \n",
       "\n",
       "  transmission    type paint_color  is_4wd date_posted  days_listed  post_age  \\\n",
       "0    automatic     SUV     unknown     1.0  2018-06-23           19       8.0   \n",
       "1    automatic  pickup       white     1.0  2018-10-19           50 -119909.0   \n",
       "2    automatic   sedan         red     0.0  2019-02-07           79       7.0   \n",
       "3    automatic  pickup     unknown     0.0  2019-03-22            9      17.0   \n",
       "4    automatic   sedan       black     0.0  2019-04-02           28       3.0   \n",
       "5    automatic   sedan       black     1.0  2018-06-20           15       5.0   \n",
       "6    automatic   sedan       white     0.0  2018-12-27           73       4.0   \n",
       "7    automatic     SUV       black     1.0  2019-01-07           68       7.0   \n",
       "8    automatic     SUV     unknown     1.0  2018-07-16           19       7.0   \n",
       "9    automatic     SUV        blue     1.0  2019-02-15           17      12.0   \n",
       "\n",
       "        mileage  condition_val  \n",
       "0  18125.000000            3.0  \n",
       "1     -0.739769            3.0  \n",
       "2  15714.285714            6.0  \n",
       "3   9493.941176            2.0  \n",
       "4  26967.666667            4.0  \n",
       "5  11590.800000            4.0  \n",
       "6  19803.000000            4.0  \n",
       "7  15639.000000            4.0  \n",
       "8  14882.000000            4.0  \n",
       "9  12265.916667            4.0  "
      ]
     },
     "metadata": {},
     "output_type": "display_data"
    },
    {
     "name": "stdout",
     "output_type": "stream",
     "text": [
      "None\n"
     ]
    }
   ],
   "source": [
    "# print a sample of data\n",
    "\n",
    "print(display(df.head(10)))"
   ]
  },
  {
   "cell_type": "markdown",
   "metadata": {},
   "source": [
    "## Study core parameters\n"
   ]
  },
  {
   "cell_type": "code",
   "execution_count": 16,
   "metadata": {},
   "outputs": [
    {
     "name": "stdout",
     "output_type": "stream",
     "text": [
      "          model_year\n",
      "price               \n",
      "1.0           2017.0\n",
      "3.0           2005.0\n",
      "5.0           2011.0\n",
      "6.0           1999.0\n",
      "9.0           2010.0\n",
      "...              ...\n",
      "145000.0      2008.0\n",
      "175000.0      2004.0\n",
      "189000.0      2014.0\n",
      "300000.0      2015.0\n",
      "375000.0      1999.0\n",
      "\n",
      "[3443 rows x 1 columns]\n"
     ]
    },
    {
     "data": {
      "text/plain": [
       "Text(0, 0.5, 'Model Year')"
      ]
     },
     "execution_count": 16,
     "metadata": {},
     "output_type": "execute_result"
    },
    {
     "data": {
      "image/png": "[encoded data removed]",
      "text/plain": [
       "<Figure size 432x288 with 1 Axes>"
      ]
     },
     "metadata": {
      "needs_background": "light"
     },
     "output_type": "display_data"
    }
   ],
   "source": [
    "#\n",
    "price_tbl = df.pivot_table(index='price',values='model_year',aggfunc='median')\n",
    "print(price_tbl)\n",
    "\n",
    "plot = df.plot(x=\"price\",y=\"model_year\",kind=\"hist\")\n",
    "plot.set_xlabel(\"Price\")\n",
    "plot.set_ylabel(\"Model Year\")"
   ]
  },
  {
   "cell_type": "code",
   "execution_count": 17,
   "metadata": {},
   "outputs": [
    {
     "name": "stdout",
     "output_type": "stream",
     "text": [
      "              price\n",
      "model_year         \n",
      "1908.0      12995.0\n",
      "1929.0      18000.0\n",
      "1936.0       5000.0\n",
      "1948.0      21000.0\n",
      "1949.0      44900.0\n",
      "...             ...\n",
      "148346.0     4947.5\n",
      "149245.0    13749.5\n",
      "150000.0     5650.0\n",
      "156000.0     6450.0\n",
      "162391.0    14245.0\n",
      "\n",
      "[163 rows x 1 columns]\n"
     ]
    },
    {
     "data": {
      "text/plain": [
       "Text(0, 0.5, 'Price')"
      ]
     },
     "execution_count": 17,
     "metadata": {},
     "output_type": "execute_result"
    },
    {
     "data": {
      "image/png": "[encoded data removed]",
      "text/plain": [
       "<Figure size 432x288 with 1 Axes>"
      ]
     },
     "metadata": {
      "needs_background": "light"
     },
     "output_type": "display_data"
    }
   ],
   "source": [
    "#\n",
    "year_tbl = df.pivot_table(index='model_year',values='price',aggfunc='median')\n",
    "print(year_tbl)\n",
    "\n",
    "plot = df.plot(x=\"model_year\",y=\"price\",kind=\"hist\")\n",
    "plot.set_xlabel(\"Model Year\")\n",
    "plot.set_ylabel(\"Price\")"
   ]
  },
  {
   "cell_type": "code",
   "execution_count": 18,
   "metadata": {},
   "outputs": [
    {
     "name": "stdout",
     "output_type": "stream",
     "text": [
      "            price\n",
      "odometer         \n",
      "0.0        7950.0\n",
      "1.0        2149.5\n",
      "2.0        4250.0\n",
      "3.0        3499.0\n",
      "5.0       36494.0\n",
      "...           ...\n",
      "840000.0   5425.0\n",
      "866000.0  18500.0\n",
      "920000.0   6000.0\n",
      "980000.0  40000.0\n",
      "990000.0  32300.0\n",
      "\n",
      "[17813 rows x 1 columns]\n"
     ]
    },
    {
     "data": {
      "text/plain": [
       "Text(0, 0.5, 'Price')"
      ]
     },
     "execution_count": 18,
     "metadata": {},
     "output_type": "execute_result"
    },
    {
     "data": {
      "image/png": "[encoded data removed]",
      "text/plain": [
       "<Figure size 432x288 with 1 Axes>"
      ]
     },
     "metadata": {
      "needs_background": "light"
     },
     "output_type": "display_data"
    }
   ],
   "source": [
    "#\n",
    "mileage_tbl = df.pivot_table(index='odometer',values='price',aggfunc='median')\n",
    "print(mileage_tbl)\n",
    "\n",
    "plot = df.plot(x=\"odometer\",y=\"price\",kind=\"hist\")\n",
    "plot.set_xlabel(\"Odometer\")\n",
    "plot.set_ylabel(\"Price\")"
   ]
  },
  {
   "cell_type": "code",
   "execution_count": 19,
   "metadata": {},
   "outputs": [
    {
     "name": "stdout",
     "output_type": "stream",
     "text": [
      "             price\n",
      "condition         \n",
      "excellent  10495.0\n",
      "fair        2500.0\n",
      "good        7900.0\n",
      "like new   13995.0\n",
      "new        21999.0\n",
      "salvage     2500.0\n"
     ]
    },
    {
     "data": {
      "text/plain": [
       "Text(0, 0.5, 'Price')"
      ]
     },
     "execution_count": 19,
     "metadata": {},
     "output_type": "execute_result"
    },
    {
     "data": {
      "image/png": "[encoded data removed]",
      "text/plain": [
       "<Figure size 432x288 with 1 Axes>"
      ]
     },
     "metadata": {
      "needs_background": "light"
     },
     "output_type": "display_data"
    }
   ],
   "source": [
    "#\n",
    "condition_tbl = df.pivot_table(index='condition',values='price',aggfunc='median')\n",
    "print(condition_tbl)\n",
    "\n",
    "plot = df.plot(x=\"condition\",y=\"price\",kind=\"hist\")\n",
    "plot.set_xlabel(\"Condition\")\n",
    "plot.set_ylabel(\"Price\")"
   ]
  },
  {
   "cell_type": "code",
   "execution_count": 20,
   "metadata": {},
   "outputs": [
    {
     "name": "stdout",
     "output_type": "stream",
     "text": [
      "                   odometer\n",
      "model                      \n",
      "acura tl           141375.0\n",
      "bmw x5             112000.0\n",
      "buick enclave      110517.5\n",
      "cadillac escalade  133327.0\n",
      "chevrolet camaro    65158.0\n",
      "...                     ...\n",
      "toyota sienna      141861.5\n",
      "toyota tacoma      124716.0\n",
      "toyota tundra      127381.0\n",
      "volkswagen jetta   108000.0\n",
      "volkswagen passat   90000.0\n",
      "\n",
      "[100 rows x 1 columns]\n"
     ]
    },
    {
     "data": {
      "text/plain": [
       "Text(0, 0.5, 'Odometer')"
      ]
     },
     "execution_count": 20,
     "metadata": {},
     "output_type": "execute_result"
    },
    {
     "data": {
      "image/png": "[encoded data removed]",
      "text/plain": [
       "<Figure size 432x288 with 1 Axes>"
      ]
     },
     "metadata": {
      "needs_background": "light"
     },
     "output_type": "display_data"
    }
   ],
   "source": [
    "#\n",
    "model_tbl = df.pivot_table(index='model',values='odometer',aggfunc='median')\n",
    "print(model_tbl)\n",
    "\n",
    "plot = df.plot(x=\"model\",y=\"odometer\",kind=\"hist\")\n",
    "plot.set_xlabel(\"Model\")\n",
    "plot.set_ylabel(\"Odometer\")"
   ]
  },
  {
   "cell_type": "code",
   "execution_count": 21,
   "metadata": {},
   "outputs": [
    {
     "name": "stdout",
     "output_type": "stream",
     "text": [
      "             price\n",
      "cylinders         \n",
      "3           7850.0\n",
      "4           6900.0\n",
      "5           6497.5\n",
      "6           9488.0\n",
      "8          13905.0\n",
      "10             1.0\n",
      "12         19000.0\n"
     ]
    },
    {
     "data": {
      "text/plain": [
       "Text(0, 0.5, 'Price')"
      ]
     },
     "execution_count": 21,
     "metadata": {},
     "output_type": "execute_result"
    },
    {
     "data": {
      "image/png": "[encoded data removed]",
      "text/plain": [
       "<Figure size 432x288 with 1 Axes>"
      ]
     },
     "metadata": {
      "needs_background": "light"
     },
     "output_type": "display_data"
    }
   ],
   "source": [
    "#\n",
    "cylinders_tbl = df.pivot_table(index='cylinders',values='price',aggfunc='median')\n",
    "print(cylinders_tbl)\n",
    "\n",
    "plot = df.plot(x=\"cylinders\",y=\"price\",kind=\"hist\")\n",
    "plot.set_xlabel(\"Cylinders\")\n",
    "plot.set_ylabel(\"Price\")"
   ]
  },
  {
   "cell_type": "code",
   "execution_count": 22,
   "metadata": {},
   "outputs": [
    {
     "name": "stdout",
     "output_type": "stream",
     "text": [
      "             price\n",
      "post_age          \n",
      "-160372.0  14000.0\n",
      "-160371.0  14490.0\n",
      "-153981.0   6675.0\n",
      "-153980.0   6000.0\n",
      "-147981.0   6500.0\n",
      "...            ...\n",
      " 70.0      44900.0\n",
      " 72.0      21000.0\n",
      " 83.0       5000.0\n",
      " 90.0      18000.0\n",
      " 111.0     12995.0\n",
      "\n",
      "[257 rows x 1 columns]\n"
     ]
    },
    {
     "data": {
      "text/plain": [
       "Text(0, 0.5, 'Price')"
      ]
     },
     "execution_count": 22,
     "metadata": {},
     "output_type": "execute_result"
    },
    {
     "data": {
      "image/png": "[encoded data removed]",
      "text/plain": [
       "<Figure size 432x288 with 1 Axes>"
      ]
     },
     "metadata": {
      "needs_background": "light"
     },
     "output_type": "display_data"
    }
   ],
   "source": [
    "age_tbl = df.pivot_table(index='post_age',values='price',aggfunc='median')\n",
    "print(age_tbl)\n",
    "\n",
    "plot = df.plot(x=\"post_age\",y=\"price\",kind=\"hist\")\n",
    "plot.set_xlabel(\"Post Age\")\n",
    "plot.set_ylabel(\"Price\")"
   ]
  },
  {
   "cell_type": "markdown",
   "metadata": {},
   "source": [
    "## Study and treat outliers\n",
    "\n"
   ]
  },
  {
   "cell_type": "code",
   "execution_count": 23,
   "metadata": {
    "scrolled": false
   },
   "outputs": [
    {
     "data": {
      "image/png": "[encoded data removed]",
      "text/plain": [
       "<Figure size 432x288 with 1 Axes>"
      ]
     },
     "metadata": {
      "needs_background": "light"
     },
     "output_type": "display_data"
    }
   ],
   "source": [
    "\n",
    "boxplot = df.boxplot(column=['model_year','price', 'odometer','cylinders', 'post_age'])  \n"
   ]
  },
  {
   "cell_type": "code",
   "execution_count": 24,
   "metadata": {},
   "outputs": [
    {
     "name": "stderr",
     "output_type": "stream",
     "text": [
      "/opt/conda/lib/python3.9/site-packages/seaborn/_decorators.py:36: FutureWarning: Pass the following variable as a keyword arg: x. From version 0.12, the only valid positional argument will be `data`, and passing other arguments without an explicit keyword will result in an error or misinterpretation.\n",
      "  warnings.warn(\n"
     ]
    },
    {
     "data": {
      "text/plain": [
       "<AxesSubplot:xlabel='odometer'>"
      ]
     },
     "execution_count": 24,
     "metadata": {},
     "output_type": "execute_result"
    },
    {
     "data": {
      "image/png": "[encoded data removed]",
      "text/plain": [
       "<Figure size 432x288 with 1 Axes>"
      ]
     },
     "metadata": {
      "needs_background": "light"
     },
     "output_type": "display_data"
    }
   ],
   "source": [
    "sns.boxplot(df['odometer'])\n",
    "\n"
   ]
  },
  {
   "cell_type": "code",
   "execution_count": 25,
   "metadata": {},
   "outputs": [
    {
     "name": "stdout",
     "output_type": "stream",
     "text": [
      "(array([    0,     1,     2, ..., 51522, 51523, 51524]),)\n"
     ]
    }
   ],
   "source": [
    "print(np.where(df['odometer']>0.4))\n"
   ]
  },
  {
   "cell_type": "code",
   "execution_count": 26,
   "metadata": {},
   "outputs": [
    {
     "name": "stdout",
     "output_type": "stream",
     "text": [
      "1.0\n",
      "0.0\n"
     ]
    }
   ],
   "source": [
    "# Determine the lower limits for outliers\n",
    "print(df['price'].min())\n",
    "print(df['odometer'].min())"
   ]
  },
  {
   "cell_type": "code",
   "execution_count": 27,
   "metadata": {},
   "outputs": [
    {
     "name": "stdout",
     "output_type": "stream",
     "text": [
      "375000.0\n",
      "990000.0\n"
     ]
    }
   ],
   "source": [
    "# Determine the upper limits for outliers\n",
    "print(df['price'].max())\n",
    "print(df['odometer'].max())"
   ]
  },
  {
   "cell_type": "code",
   "execution_count": 28,
   "metadata": {
    "scrolled": true
   },
   "outputs": [
    {
     "name": "stdout",
     "output_type": "stream",
     "text": [
      "count     51525.000000\n",
      "mean      12132.464920\n",
      "std       10040.803015\n",
      "min           1.000000\n",
      "25%        5000.000000\n",
      "50%        9000.000000\n",
      "75%       16839.000000\n",
      "max      375000.000000\n",
      "Name: price, dtype: float64\n",
      "\n",
      "count     51517.000000\n",
      "mean     115202.837753\n",
      "std       62118.678954\n",
      "min           0.000000\n",
      "25%       73394.000000\n",
      "50%      114000.000000\n",
      "75%      152876.000000\n",
      "max      990000.000000\n",
      "Name: odometer, dtype: float64\n"
     ]
    }
   ],
   "source": [
    "print(df['price'].describe())\n",
    "print()\n",
    "print(df['odometer'].describe())"
   ]
  },
  {
   "cell_type": "code",
   "execution_count": 29,
   "metadata": {},
   "outputs": [
    {
     "name": "stdout",
     "output_type": "stream",
     "text": [
      "         price  model_year           model  condition  cylinders fuel  \\\n",
      "0       9400.0      2011.0          bmw x5       good          6  gas   \n",
      "2       5500.0      2013.0  hyundai sonata   like new          4  gas   \n",
      "3       1500.0      2003.0      ford f-150       fair          8  gas   \n",
      "4      14900.0      2017.0    chrysler 200  excellent          4  gas   \n",
      "5      14990.0      2014.0    chrysler 300  excellent          6  gas   \n",
      "...        ...         ...             ...        ...        ...  ...   \n",
      "51520   9249.0      2013.0   nissan maxima   like new          6  gas   \n",
      "51521   2700.0      2002.0     honda civic    salvage          4  gas   \n",
      "51522   3950.0      2009.0  hyundai sonata  excellent          4  gas   \n",
      "51523   7455.0      2013.0  toyota corolla       good          4  gas   \n",
      "51524   6300.0      2014.0   nissan altima       good          4  gas   \n",
      "\n",
      "       odometer transmission    type paint_color  is_4wd date_posted  \\\n",
      "0      145000.0    automatic     SUV     unknown     1.0  2018-06-23   \n",
      "2      110000.0    automatic   sedan         red     0.0  2019-02-07   \n",
      "3      161397.0    automatic  pickup     unknown     0.0  2019-03-22   \n",
      "4       80903.0    automatic   sedan       black     0.0  2019-04-02   \n",
      "5       57954.0    automatic   sedan       black     1.0  2018-06-20   \n",
      "...         ...          ...     ...         ...     ...         ...   \n",
      "51520   88136.0    automatic   sedan       black     0.0  2018-10-03   \n",
      "51521  181500.0    automatic   sedan       white     0.0  2018-11-14   \n",
      "51522  128000.0    automatic   sedan        blue     0.0  2018-11-15   \n",
      "51523  139573.0    automatic   sedan       black     0.0  2018-07-02   \n",
      "51524   90000.0    automatic   sedan     unknown     0.0  2018-06-05   \n",
      "\n",
      "       days_listed  post_age       mileage  condition_val  \n",
      "0               19       8.0  18125.000000            3.0  \n",
      "2               79       7.0  15714.285714            6.0  \n",
      "3                9      17.0   9493.941176            2.0  \n",
      "4               28       3.0  26967.666667            4.0  \n",
      "5               15       5.0  11590.800000            4.0  \n",
      "...            ...       ...           ...            ...  \n",
      "51520           37       6.0  14689.333333            6.0  \n",
      "51521           22      17.0  10676.470588            1.0  \n",
      "51522           32      10.0  12800.000000            4.0  \n",
      "51523           71       6.0  23262.166667            3.0  \n",
      "51524           10       5.0  18000.000000            3.0  \n",
      "\n",
      "[45005 rows x 16 columns]\n"
     ]
    }
   ],
   "source": [
    "# Store data without outliers in a separate DataFrame\n",
    "cols = ['odometer', 'price', 'post_age','model_year']\n",
    "\n",
    "Q1 = df[cols].quantile(0.25)\n",
    "Q3 = df[cols].quantile(0.75)\n",
    "IQR = Q3 - Q1\n",
    "\n",
    "df = df[~((df[cols] < (Q1 - 1.5 * IQR)) |(df[cols] > (Q3 + 1.5 * IQR))).any(axis=1)]\n",
    "\n",
    "print(df)"
   ]
  },
  {
   "cell_type": "markdown",
   "metadata": {},
   "source": [
    "## Study core parameters without outliers"
   ]
  },
  {
   "cell_type": "code",
   "execution_count": 30,
   "metadata": {},
   "outputs": [
    {
     "name": "stdout",
     "output_type": "stream",
     "text": [
      "         model_year\n",
      "price              \n",
      "1.0          2017.0\n",
      "3.0          2005.0\n",
      "5.0          2011.0\n",
      "6.0          1999.0\n",
      "9.0          2010.0\n",
      "...             ...\n",
      "34499.0      2017.0\n",
      "34500.0      2018.0\n",
      "34545.0      2017.0\n",
      "34555.0      2018.0\n",
      "34595.0      2015.0\n",
      "\n",
      "[2890 rows x 1 columns]\n"
     ]
    },
    {
     "data": {
      "text/plain": [
       "Text(0, 0.5, 'Price')"
      ]
     },
     "execution_count": 30,
     "metadata": {},
     "output_type": "execute_result"
    },
    {
     "data": {
      "image/png": "[encoded data removed]",
      "text/plain": [
       "<Figure size 432x288 with 1 Axes>"
      ]
     },
     "metadata": {
      "needs_background": "light"
     },
     "output_type": "display_data"
    }
   ],
   "source": [
    "price_tbl = df.pivot_table(index='price',values='model_year',aggfunc='median')\n",
    "print(price_tbl)\n",
    "\n",
    "plot = df.plot(x=\"price\",y=\"model_year\",kind=\"hist\")\n",
    "plot.set_xlabel(\"Model Year\")\n",
    "plot.set_ylabel(\"Price\")"
   ]
  },
  {
   "cell_type": "code",
   "execution_count": 31,
   "metadata": {},
   "outputs": [
    {
     "name": "stdout",
     "output_type": "stream",
     "text": [
      "              mileage\n",
      "price                \n",
      "1.0      14400.000000\n",
      "3.0      10928.571429\n",
      "5.0      15442.250000\n",
      "6.0       8261.904762\n",
      "9.0         11.900000\n",
      "...               ...\n",
      "34499.0  61593.500000\n",
      "34500.0  20559.250000\n",
      "34545.0  15161.000000\n",
      "34555.0  22403.000000\n",
      "34595.0  21614.000000\n",
      "\n",
      "[2890 rows x 1 columns]\n"
     ]
    },
    {
     "data": {
      "text/plain": [
       "Text(0, 0.5, 'Mileage')"
      ]
     },
     "execution_count": 31,
     "metadata": {},
     "output_type": "execute_result"
    },
    {
     "data": {
      "image/png": "[encoded data removed]",
      "text/plain": [
       "<Figure size 432x288 with 1 Axes>"
      ]
     },
     "metadata": {
      "needs_background": "light"
     },
     "output_type": "display_data"
    }
   ],
   "source": [
    "mileage_tbl = df.pivot_table(index='price',values='mileage',aggfunc='median')\n",
    "print(mileage_tbl)\n",
    "\n",
    "plot = df.plot(x=\"mileage\",y=\"price\",kind=\"hist\")\n",
    "plot.set_xlabel(\"Price\")\n",
    "plot.set_ylabel(\"Mileage\")"
   ]
  },
  {
   "cell_type": "code",
   "execution_count": 32,
   "metadata": {
    "scrolled": true
   },
   "outputs": [
    {
     "name": "stdout",
     "output_type": "stream",
     "text": [
      "            price\n",
      "odometer         \n",
      "0.0        7969.0\n",
      "1.0        1375.0\n",
      "2.0        4250.0\n",
      "3.0        3499.0\n",
      "5.0       30000.0\n",
      "...           ...\n",
      "271000.0   6900.0\n",
      "271118.0  13900.0\n",
      "271175.0   2600.0\n",
      "271914.0   3995.0\n",
      "272000.0  11500.0\n",
      "\n",
      "[15896 rows x 1 columns]\n"
     ]
    },
    {
     "data": {
      "text/plain": [
       "Text(0, 0.5, 'Price')"
      ]
     },
     "execution_count": 32,
     "metadata": {},
     "output_type": "execute_result"
    },
    {
     "data": {
      "image/png": "[encoded data removed]",
      "text/plain": [
       "<Figure size 432x288 with 1 Axes>"
      ]
     },
     "metadata": {
      "needs_background": "light"
     },
     "output_type": "display_data"
    }
   ],
   "source": [
    "odometer_tbl = df.pivot_table(index='odometer',values='price',aggfunc='median')\n",
    "print(odometer_tbl)\n",
    "\n",
    "plot = df.plot(x=\"odometer\",y=\"price\",kind=\"hist\")\n",
    "plot.set_xlabel(\"Odometer\")\n",
    "plot.set_ylabel(\"Price\")"
   ]
  },
  {
   "cell_type": "code",
   "execution_count": 33,
   "metadata": {
    "scrolled": true
   },
   "outputs": [
    {
     "name": "stdout",
     "output_type": "stream",
     "text": [
      "            price\n",
      "post_age         \n",
      "1.0       20000.0\n",
      "2.0       18650.0\n",
      "3.0       17500.0\n",
      "4.0       16995.0\n",
      "5.0       14500.0\n",
      "6.0       12495.0\n",
      "7.0       10200.0\n",
      "8.0        9995.0\n",
      "9.0        8500.0\n",
      "10.0       6995.0\n",
      "11.0       6999.0\n",
      "12.0       6500.0\n",
      "13.0       5990.0\n",
      "14.0       5000.0\n",
      "15.0       5000.0\n",
      "16.0       4500.0\n",
      "17.0       4000.0\n",
      "18.0       3995.0\n",
      "19.0       3700.0\n",
      "20.0       3500.0\n",
      "21.0       3300.0\n",
      "22.0       3800.0\n",
      "23.0       3500.0\n",
      "24.0       3500.0\n",
      "25.0       3498.5\n"
     ]
    },
    {
     "data": {
      "text/plain": [
       "Text(0, 0.5, 'Price')"
      ]
     },
     "execution_count": 33,
     "metadata": {},
     "output_type": "execute_result"
    },
    {
     "data": {
      "image/png": "[encoded data removed]",
      "text/plain": [
       "<Figure size 432x288 with 1 Axes>"
      ]
     },
     "metadata": {
      "needs_background": "light"
     },
     "output_type": "display_data"
    }
   ],
   "source": [
    "age_tbl = df.pivot_table(index='post_age',values='price',aggfunc='median')\n",
    "print(age_tbl)\n",
    "\n",
    "plot = df.plot(x=\"price\",y=\"post_age\",kind=\"hist\")\n",
    "plot.set_xlabel(\"Age\")\n",
    "plot.set_ylabel(\"Price\")"
   ]
  },
  {
   "cell_type": "markdown",
   "metadata": {},
   "source": [
    "## Ads lifetime\n"
   ]
  },
  {
   "cell_type": "code",
   "execution_count": 34,
   "metadata": {},
   "outputs": [
    {
     "data": {
      "text/html": [
       "<div>\n",
       "<style scoped>\n",
       "    .dataframe tbody tr th:only-of-type {\n",
       "        vertical-align: middle;\n",
       "    }\n",
       "\n",
       "    .dataframe tbody tr th {\n",
       "        vertical-align: top;\n",
       "    }\n",
       "\n",
       "    .dataframe thead tr th {\n",
       "        text-align: left;\n",
       "    }\n",
       "\n",
       "    .dataframe thead tr:last-of-type th {\n",
       "        text-align: right;\n",
       "    }\n",
       "</style>\n",
       "<table border=\"1\" class=\"dataframe\">\n",
       "  <thead>\n",
       "    <tr>\n",
       "      <th></th>\n",
       "      <th>mean</th>\n",
       "      <th>median</th>\n",
       "    </tr>\n",
       "    <tr>\n",
       "      <th></th>\n",
       "      <th>days_listed</th>\n",
       "      <th>days_listed</th>\n",
       "    </tr>\n",
       "    <tr>\n",
       "      <th>date_posted</th>\n",
       "      <th></th>\n",
       "      <th></th>\n",
       "    </tr>\n",
       "  </thead>\n",
       "  <tbody>\n",
       "    <tr>\n",
       "      <th>2018-05-01</th>\n",
       "      <td>35.879630</td>\n",
       "      <td>31.0</td>\n",
       "    </tr>\n",
       "    <tr>\n",
       "      <th>2018-05-02</th>\n",
       "      <td>40.529412</td>\n",
       "      <td>33.0</td>\n",
       "    </tr>\n",
       "    <tr>\n",
       "      <th>2018-05-03</th>\n",
       "      <td>39.013889</td>\n",
       "      <td>34.0</td>\n",
       "    </tr>\n",
       "    <tr>\n",
       "      <th>2018-05-04</th>\n",
       "      <td>40.218045</td>\n",
       "      <td>32.0</td>\n",
       "    </tr>\n",
       "    <tr>\n",
       "      <th>2018-05-05</th>\n",
       "      <td>42.981481</td>\n",
       "      <td>35.5</td>\n",
       "    </tr>\n",
       "    <tr>\n",
       "      <th>...</th>\n",
       "      <td>...</td>\n",
       "      <td>...</td>\n",
       "    </tr>\n",
       "    <tr>\n",
       "      <th>2019-04-15</th>\n",
       "      <td>36.616541</td>\n",
       "      <td>32.0</td>\n",
       "    </tr>\n",
       "    <tr>\n",
       "      <th>2019-04-16</th>\n",
       "      <td>35.865546</td>\n",
       "      <td>31.0</td>\n",
       "    </tr>\n",
       "    <tr>\n",
       "      <th>2019-04-17</th>\n",
       "      <td>37.090909</td>\n",
       "      <td>32.0</td>\n",
       "    </tr>\n",
       "    <tr>\n",
       "      <th>2019-04-18</th>\n",
       "      <td>41.522059</td>\n",
       "      <td>37.0</td>\n",
       "    </tr>\n",
       "    <tr>\n",
       "      <th>2019-04-19</th>\n",
       "      <td>37.622047</td>\n",
       "      <td>32.0</td>\n",
       "    </tr>\n",
       "  </tbody>\n",
       "</table>\n",
       "<p>354 rows × 2 columns</p>\n",
       "</div>"
      ],
      "text/plain": [
       "                   mean      median\n",
       "            days_listed days_listed\n",
       "date_posted                        \n",
       "2018-05-01    35.879630        31.0\n",
       "2018-05-02    40.529412        33.0\n",
       "2018-05-03    39.013889        34.0\n",
       "2018-05-04    40.218045        32.0\n",
       "2018-05-05    42.981481        35.5\n",
       "...                 ...         ...\n",
       "2019-04-15    36.616541        32.0\n",
       "2019-04-16    35.865546        31.0\n",
       "2019-04-17    37.090909        32.0\n",
       "2019-04-18    41.522059        37.0\n",
       "2019-04-19    37.622047        32.0\n",
       "\n",
       "[354 rows x 2 columns]"
      ]
     },
     "execution_count": 34,
     "metadata": {},
     "output_type": "execute_result"
    }
   ],
   "source": [
    "df.pivot_table(index='date_posted',values= 'days_listed',aggfunc=['mean','median'])"
   ]
  },
  {
   "cell_type": "markdown",
   "metadata": {},
   "source": [
    "## Average price per each type of vehicle"
   ]
  },
  {
   "cell_type": "code",
   "execution_count": 35,
   "metadata": {},
   "outputs": [
    {
     "name": "stdout",
     "output_type": "stream",
     "text": [
      "                     mean   median\n",
      "                    price    price\n",
      "type                              \n",
      "SUV          10451.024351   8800.0\n",
      "bus          18107.428571  28990.0\n",
      "convertible  12918.121875  12991.5\n",
      "coupe        13530.282528  12995.0\n",
      "hatchback     6855.452406   5990.0\n",
      "mini-van      8051.369014   6495.0\n",
      "offroad      14422.224138  12500.0\n",
      "other        10346.174528   8925.0\n",
      "pickup       15088.125257  14000.0\n",
      "sedan         7000.896435   5995.0\n",
      "truck        15099.292808  14729.0\n",
      "van           8749.543478   7495.0\n",
      "wagon         8989.247674   7900.0\n",
      "type\n",
      "SUV            11047\n",
      "bus               21\n",
      "convertible      320\n",
      "coupe           1883\n",
      "hatchback        935\n",
      "mini-van        1065\n",
      "offroad          174\n",
      "other            212\n",
      "pickup          5836\n",
      "sedan          11191\n",
      "truck          10372\n",
      "van              552\n",
      "wagon           1397\n",
      "Name: date_posted, dtype: int64\n"
     ]
    }
   ],
   "source": [
    "price_stat = df.pivot_table(index='type', values='price',aggfunc=['mean','median'])\n",
    "ads_stat = df.groupby(['type'])['date_posted'].count()\n",
    "print(price_stat)\n",
    "print(ads_stat)"
   ]
  },
  {
   "cell_type": "code",
   "execution_count": 41,
   "metadata": {},
   "outputs": [],
   "source": [
    "sedan_dataset = df.query('type == \"sedan\"')\n",
    "truck_dataset = df.query('type == \"truck\"')"
   ]
  },
  {
   "cell_type": "markdown",
   "metadata": {},
   "source": [
    "## Price factors"
   ]
  },
  {
   "cell_type": "code",
   "execution_count": 42,
   "metadata": {},
   "outputs": [
    {
     "name": "stdout",
     "output_type": "stream",
     "text": [
      "<class 'pandas.core.frame.DataFrame'>\n",
      "Int64Index: 45005 entries, 0 to 51524\n",
      "Data columns (total 16 columns):\n",
      " #   Column         Non-Null Count  Dtype         \n",
      "---  ------         --------------  -----         \n",
      " 0   price          45005 non-null  float64       \n",
      " 1   model_year     45005 non-null  float64       \n",
      " 2   model          45005 non-null  object        \n",
      " 3   condition      45005 non-null  object        \n",
      " 4   cylinders      45005 non-null  int64         \n",
      " 5   fuel           45005 non-null  object        \n",
      " 6   odometer       45005 non-null  float64       \n",
      " 7   transmission   45005 non-null  object        \n",
      " 8   type           45005 non-null  object        \n",
      " 9   paint_color    45005 non-null  object        \n",
      " 10  is_4wd         45005 non-null  float64       \n",
      " 11  date_posted    45005 non-null  datetime64[ns]\n",
      " 12  days_listed    45005 non-null  int64         \n",
      " 13  post_age       45005 non-null  float64       \n",
      " 14  mileage        45005 non-null  float64       \n",
      " 15  condition_val  45005 non-null  float64       \n",
      "dtypes: datetime64[ns](1), float64(7), int64(2), object(6)\n",
      "memory usage: 5.8+ MB\n"
     ]
    }
   ],
   "source": [
    "df.info()"
   ]
  },
  {
   "cell_type": "code",
   "execution_count": 46,
   "metadata": {},
   "outputs": [
    {
     "name": "stdout",
     "output_type": "stream",
     "text": [
      "                    price\n",
      "transmission             \n",
      "automatic     7110.364906\n",
      "manual        5463.184843\n",
      "other         4417.322581\n",
      "                     price\n",
      "transmission              \n",
      "automatic     15440.038075\n",
      "manual        10048.590116\n",
      "other          6057.067039\n"
     ]
    },
    {
     "data": {
      "text/plain": [
       "<AxesSubplot:title={'center':'price'}, xlabel='transmission'>"
      ]
     },
     "execution_count": 46,
     "metadata": {},
     "output_type": "execute_result"
    },
    {
     "data": {
      "image/png": "[encoded data removed]",
      "text/plain": [
       "<Figure size 360x360 with 1 Axes>"
      ]
     },
     "metadata": {
      "needs_background": "light"
     },
     "output_type": "display_data"
    },
    {
     "data": {
      "image/png": "[encoded data removed]",
      "text/plain": [
       "<Figure size 360x360 with 1 Axes>"
      ]
     },
     "metadata": {
      "needs_background": "light"
     },
     "output_type": "display_data"
    }
   ],
   "source": [
    "transmission_type = sedan_dataset.pivot_table(index='transmission', values='price')\n",
    "transmission_type_two = truck_dataset.pivot_table(index='transmission', values='price')\n",
    "print(transmission_type)\n",
    "print(transmission_type_two)\n",
    "\n",
    "sedan_dataset.boxplot(column='price',by='transmission',figsize=(5,5))\n",
    "truck_dataset.boxplot(column='price',by='transmission',figsize=(5,5))\n"
   ]
  },
  {
   "cell_type": "markdown",
   "metadata": {},
   "source": [
    "## General conclusion"
   ]
  },
  {
   "cell_type": "markdown",
   "metadata": {},
   "source": [
    "     Over the past few years I have been an analyst at Crankshaft list and was given the task to identify which factors are instrumental in determining the price of a vehicle. During my analyzing the raw data I realized many small problems such as Date columns being listed as intergers, missing values in columns with pertinant information, outliers in data raising mean/median values for the whole dataset giving us inaccurate readings and missing columns which would make data manipulation easier. I first fixed the missing data problems by grouping by median of the colum. I then added a necessary column in order to find the post age by subtracting list date by car age and adding 1 to all of the rows that were owned for less than a year. After fixing the data problems I created 3 new columns that would make data manipulation easier.                                                                      I then started to create charts in order to show the data in a better form to see its effect to price. I noticed some values that were very large or small compared to median values so I removed outliers from the columns that featured them. This gave me the ability to only shape data that I really needed to work with. I created boxplots, bar charts, histograms and pivot tables in order to visualize the data that is free from outliers.                                                            I noticed from the two most important car types ( Truck and Sedan) that automatic's sold significantly more compared to manual(Sedan-$1,600 more , Truck-$6,400 more). This shows that automatic' s have huge influence as compared to price. The second observation gained from reading data was age of the car, the newer the car the more it was priced. Cars that were 1 year old had a price of $19,000 whilst cars of 23 years of age had a price of $3,900.                                               "
   ]
  }
 ],
 "metadata": {
  "ExecuteTimeLog": [
   {
    "duration": 828,
    "start_time": "2021-11-16T09:21:11.304Z"
   },
   {
    "duration": 893,
    "start_time": "2021-11-16T09:21:17.728Z"
   },
   {
    "duration": 1150,
    "start_time": "2021-11-16T09:21:29.568Z"
   },
   {
    "duration": 3,
    "start_time": "2021-11-16T09:24:14.495Z"
   },
   {
    "duration": 120,
    "start_time": "2021-11-16T09:24:46.630Z"
   },
   {
    "duration": 3,
    "start_time": "2021-11-16T09:28:27.882Z"
   },
   {
    "duration": 4,
    "start_time": "2021-11-16T09:29:54.281Z"
   },
   {
    "duration": 3,
    "start_time": "2021-11-16T09:30:45.936Z"
   },
   {
    "duration": 4,
    "start_time": "2021-11-16T09:31:06.300Z"
   },
   {
    "duration": 113,
    "start_time": "2021-11-16T09:31:37.208Z"
   },
   {
    "duration": 143,
    "start_time": "2021-11-16T09:31:48.656Z"
   },
   {
    "duration": 98,
    "start_time": "2021-11-16T09:31:55.678Z"
   },
   {
    "duration": 3,
    "start_time": "2021-11-16T09:32:08.535Z"
   },
   {
    "duration": 111,
    "start_time": "2021-11-16T09:32:10.120Z"
   },
   {
    "duration": 3,
    "start_time": "2021-11-16T09:32:15.732Z"
   },
   {
    "duration": 4,
    "start_time": "2021-11-16T09:32:29.423Z"
   },
   {
    "duration": 3,
    "start_time": "2021-11-16T10:03:03.074Z"
   },
   {
    "duration": 3,
    "start_time": "2021-11-16T10:10:01.288Z"
   },
   {
    "duration": 3,
    "start_time": "2021-11-16T10:10:46.923Z"
   },
   {
    "duration": 121,
    "start_time": "2021-11-16T10:37:46.494Z"
   },
   {
    "duration": 125,
    "start_time": "2021-11-16T10:38:20.632Z"
   },
   {
    "duration": 112,
    "start_time": "2021-11-16T10:46:53.001Z"
   },
   {
    "duration": 110,
    "start_time": "2021-11-16T10:48:25.775Z"
   },
   {
    "duration": 3,
    "start_time": "2021-11-16T10:50:18.720Z"
   },
   {
    "duration": 4,
    "start_time": "2021-11-16T10:50:37.649Z"
   },
   {
    "duration": 2,
    "start_time": "2021-11-16T10:50:51.884Z"
   },
   {
    "duration": 3,
    "start_time": "2021-11-16T10:51:56.237Z"
   },
   {
    "duration": 101,
    "start_time": "2021-11-16T10:53:13.791Z"
   },
   {
    "duration": 3,
    "start_time": "2021-11-16T10:55:59.186Z"
   },
   {
    "duration": 3,
    "start_time": "2021-11-16T10:56:10.751Z"
   },
   {
    "duration": 3,
    "start_time": "2021-11-16T10:56:49.038Z"
   },
   {
    "duration": 3,
    "start_time": "2021-11-16T10:56:49.174Z"
   },
   {
    "duration": 4,
    "start_time": "2021-11-16T10:56:49.414Z"
   },
   {
    "duration": 3,
    "start_time": "2021-11-16T10:56:49.680Z"
   },
   {
    "duration": 3,
    "start_time": "2021-11-16T10:56:50.370Z"
   },
   {
    "duration": 114,
    "start_time": "2021-11-16T10:59:34.518Z"
   },
   {
    "duration": 3,
    "start_time": "2021-11-16T11:01:41.201Z"
   },
   {
    "duration": 116,
    "start_time": "2021-11-16T11:01:48.754Z"
   },
   {
    "duration": 3,
    "start_time": "2021-11-16T11:02:16.685Z"
   },
   {
    "duration": 3,
    "start_time": "2021-11-16T11:02:19.479Z"
   },
   {
    "duration": 3,
    "start_time": "2021-11-16T11:02:47.067Z"
   },
   {
    "duration": 3,
    "start_time": "2021-11-16T11:02:49.353Z"
   },
   {
    "duration": 3,
    "start_time": "2021-11-16T11:03:07.835Z"
   },
   {
    "duration": 3,
    "start_time": "2021-11-16T11:03:07.953Z"
   },
   {
    "duration": 112,
    "start_time": "2021-11-16T11:07:52.072Z"
   },
   {
    "duration": 187,
    "start_time": "2021-11-16T11:09:23.468Z"
   },
   {
    "duration": 4,
    "start_time": "2021-11-16T11:10:01.455Z"
   },
   {
    "duration": 3,
    "start_time": "2021-11-16T11:10:05.069Z"
   },
   {
    "duration": 4,
    "start_time": "2021-11-16T11:10:13.376Z"
   },
   {
    "duration": 3,
    "start_time": "2021-11-16T11:10:14.434Z"
   },
   {
    "duration": 3,
    "start_time": "2021-11-16T11:10:22.853Z"
   },
   {
    "duration": 4,
    "start_time": "2021-11-16T11:27:29.279Z"
   },
   {
    "duration": 4,
    "start_time": "2021-11-16T11:29:08.919Z"
   },
   {
    "duration": 118,
    "start_time": "2021-11-16T11:29:46.703Z"
   },
   {
    "duration": 437,
    "start_time": "2021-11-16T11:36:02.181Z"
   },
   {
    "duration": 157,
    "start_time": "2021-11-16T11:36:14.388Z"
   },
   {
    "duration": 207,
    "start_time": "2021-11-16T11:47:15.898Z"
   },
   {
    "duration": 3,
    "start_time": "2021-11-16T11:53:52.092Z"
   },
   {
    "duration": 3,
    "start_time": "2021-11-16T11:53:52.236Z"
   },
   {
    "duration": 3,
    "start_time": "2021-11-16T11:59:12.005Z"
   },
   {
    "duration": 112,
    "start_time": "2021-11-16T12:00:33.446Z"
   },
   {
    "duration": 3,
    "start_time": "2021-11-16T12:02:14.453Z"
   },
   {
    "duration": 3,
    "start_time": "2021-11-16T12:02:39.512Z"
   },
   {
    "duration": 106,
    "start_time": "2021-11-16T12:03:03.460Z"
   },
   {
    "duration": 163,
    "start_time": "2022-06-07T01:00:56.028Z"
   },
   {
    "duration": 21,
    "start_time": "2022-06-07T01:01:13.697Z"
   },
   {
    "duration": 9,
    "start_time": "2022-06-07T01:01:21.226Z"
   },
   {
    "duration": 13,
    "start_time": "2022-06-07T01:02:17.882Z"
   },
   {
    "duration": 13,
    "start_time": "2022-06-07T01:02:35.203Z"
   },
   {
    "duration": 81,
    "start_time": "2022-06-07T01:03:16.597Z"
   },
   {
    "duration": 32,
    "start_time": "2022-06-07T01:03:37.141Z"
   },
   {
    "duration": 14,
    "start_time": "2022-06-07T01:03:54.130Z"
   },
   {
    "duration": 24,
    "start_time": "2022-06-07T01:03:59.667Z"
   },
   {
    "duration": 21,
    "start_time": "2022-06-07T01:04:10.459Z"
   },
   {
    "duration": 14,
    "start_time": "2022-06-07T01:04:34.968Z"
   },
   {
    "duration": 25,
    "start_time": "2022-06-07T01:05:06.137Z"
   },
   {
    "duration": 59,
    "start_time": "2022-06-08T00:37:56.860Z"
   },
   {
    "duration": 7,
    "start_time": "2022-06-08T00:38:23.947Z"
   },
   {
    "duration": 555,
    "start_time": "2022-06-08T00:38:32.912Z"
   },
   {
    "duration": 106,
    "start_time": "2022-06-08T00:38:34.670Z"
   },
   {
    "duration": 66,
    "start_time": "2022-06-08T00:38:41.489Z"
   },
   {
    "duration": 13,
    "start_time": "2022-06-08T00:39:02.770Z"
   },
   {
    "duration": 16,
    "start_time": "2022-06-08T00:39:29.310Z"
   },
   {
    "duration": 30,
    "start_time": "2022-06-08T00:40:06.813Z"
   },
   {
    "duration": 16,
    "start_time": "2022-06-08T00:40:35.082Z"
   },
   {
    "duration": 15,
    "start_time": "2022-06-08T00:40:57.044Z"
   },
   {
    "duration": 2,
    "start_time": "2022-06-08T22:59:39.196Z"
   },
   {
    "duration": 103,
    "start_time": "2022-06-08T22:59:40.486Z"
   },
   {
    "duration": 36,
    "start_time": "2022-06-08T22:59:42.055Z"
   },
   {
    "duration": 49,
    "start_time": "2022-06-08T23:04:37.549Z"
   },
   {
    "duration": 39,
    "start_time": "2022-06-08T23:04:59.318Z"
   },
   {
    "duration": 37,
    "start_time": "2022-06-08T23:05:25.226Z"
   },
   {
    "duration": 28,
    "start_time": "2022-06-08T23:05:43.609Z"
   },
   {
    "duration": 16,
    "start_time": "2022-06-08T23:05:51.583Z"
   },
   {
    "duration": 7,
    "start_time": "2022-06-08T23:43:36.791Z"
   },
   {
    "duration": 5,
    "start_time": "2022-06-08T23:44:33.440Z"
   },
   {
    "duration": 15,
    "start_time": "2022-06-08T23:45:57.651Z"
   },
   {
    "duration": 10,
    "start_time": "2022-06-08T23:46:19.187Z"
   },
   {
    "duration": 9,
    "start_time": "2022-06-08T23:46:30.244Z"
   },
   {
    "duration": 9,
    "start_time": "2022-06-08T23:46:48.052Z"
   },
   {
    "duration": 395,
    "start_time": "2022-06-09T00:01:07.156Z"
   },
   {
    "duration": 35,
    "start_time": "2022-06-09T00:01:18.000Z"
   },
   {
    "duration": 14,
    "start_time": "2022-06-09T00:01:29.627Z"
   },
   {
    "duration": 15,
    "start_time": "2022-06-09T00:01:35.710Z"
   },
   {
    "duration": 22,
    "start_time": "2022-06-09T00:01:51.364Z"
   },
   {
    "duration": 30,
    "start_time": "2022-06-09T00:02:05.352Z"
   },
   {
    "duration": 37,
    "start_time": "2022-06-09T00:02:58.924Z"
   },
   {
    "duration": 64,
    "start_time": "2022-06-09T00:06:32.843Z"
   },
   {
    "duration": 61,
    "start_time": "2022-06-09T00:06:46.386Z"
   },
   {
    "duration": 59,
    "start_time": "2022-06-09T00:07:03.810Z"
   },
   {
    "duration": 41,
    "start_time": "2022-06-09T00:07:27.422Z"
   },
   {
    "duration": 44,
    "start_time": "2022-06-09T00:07:39.941Z"
   },
   {
    "duration": 42,
    "start_time": "2022-06-09T00:07:48.253Z"
   },
   {
    "duration": 34,
    "start_time": "2022-06-09T00:08:14.740Z"
   },
   {
    "duration": 30,
    "start_time": "2022-06-09T00:08:21.342Z"
   },
   {
    "duration": 37,
    "start_time": "2022-06-09T00:08:27.883Z"
   },
   {
    "duration": 41,
    "start_time": "2022-06-09T16:17:33.558Z"
   },
   {
    "duration": 387,
    "start_time": "2022-06-09T16:17:48.432Z"
   },
   {
    "duration": 356,
    "start_time": "2022-06-09T16:17:48.821Z"
   },
   {
    "duration": 20,
    "start_time": "2022-06-09T16:17:49.179Z"
   },
   {
    "duration": 19,
    "start_time": "2022-06-09T16:17:49.201Z"
   },
   {
    "duration": 35,
    "start_time": "2022-06-09T16:17:49.222Z"
   },
   {
    "duration": 43,
    "start_time": "2022-06-09T16:17:49.258Z"
   },
   {
    "duration": 13,
    "start_time": "2022-06-09T16:17:49.302Z"
   },
   {
    "duration": 2,
    "start_time": "2022-06-09T16:17:49.316Z"
   },
   {
    "duration": 6,
    "start_time": "2022-06-09T16:17:49.320Z"
   },
   {
    "duration": 7,
    "start_time": "2022-06-09T16:17:49.327Z"
   },
   {
    "duration": 7,
    "start_time": "2022-06-09T16:17:49.335Z"
   },
   {
    "duration": 4,
    "start_time": "2022-06-09T16:17:49.344Z"
   },
   {
    "duration": 7,
    "start_time": "2022-06-09T16:17:49.350Z"
   },
   {
    "duration": 5,
    "start_time": "2022-06-09T16:17:49.359Z"
   },
   {
    "duration": 10,
    "start_time": "2022-06-09T16:17:49.365Z"
   },
   {
    "duration": 5,
    "start_time": "2022-06-09T16:17:49.377Z"
   },
   {
    "duration": 6,
    "start_time": "2022-06-09T16:17:49.383Z"
   },
   {
    "duration": 7,
    "start_time": "2022-06-09T16:17:49.390Z"
   },
   {
    "duration": 6,
    "start_time": "2022-06-09T16:17:49.398Z"
   },
   {
    "duration": 3,
    "start_time": "2022-06-09T16:17:49.405Z"
   },
   {
    "duration": 4,
    "start_time": "2022-06-09T16:17:49.410Z"
   },
   {
    "duration": 8,
    "start_time": "2022-06-09T16:17:49.415Z"
   },
   {
    "duration": 401,
    "start_time": "2022-06-10T00:31:00.086Z"
   },
   {
    "duration": 179,
    "start_time": "2022-06-10T00:31:00.489Z"
   },
   {
    "duration": 20,
    "start_time": "2022-06-10T00:31:00.670Z"
   },
   {
    "duration": 32,
    "start_time": "2022-06-10T00:31:00.692Z"
   },
   {
    "duration": 51,
    "start_time": "2022-06-10T00:31:00.726Z"
   },
   {
    "duration": 24,
    "start_time": "2022-06-10T00:31:00.778Z"
   },
   {
    "duration": 16,
    "start_time": "2022-06-10T00:31:00.803Z"
   },
   {
    "duration": 21,
    "start_time": "2022-06-10T00:31:00.820Z"
   },
   {
    "duration": 41,
    "start_time": "2022-06-10T00:31:00.843Z"
   },
   {
    "duration": 23,
    "start_time": "2022-06-10T00:31:00.886Z"
   },
   {
    "duration": 17,
    "start_time": "2022-06-10T00:31:00.911Z"
   },
   {
    "duration": 70,
    "start_time": "2022-06-10T00:31:00.930Z"
   },
   {
    "duration": 15,
    "start_time": "2022-06-10T00:31:01.001Z"
   },
   {
    "duration": 16,
    "start_time": "2022-06-10T00:31:01.019Z"
   },
   {
    "duration": 31,
    "start_time": "2022-06-10T00:31:01.037Z"
   },
   {
    "duration": 18,
    "start_time": "2022-06-10T00:31:01.070Z"
   },
   {
    "duration": 17,
    "start_time": "2022-06-10T00:31:01.089Z"
   },
   {
    "duration": 28,
    "start_time": "2022-06-10T00:31:01.107Z"
   },
   {
    "duration": 45,
    "start_time": "2022-06-10T00:31:01.136Z"
   },
   {
    "duration": 18,
    "start_time": "2022-06-10T00:31:01.182Z"
   },
   {
    "duration": 45,
    "start_time": "2022-06-10T00:31:01.202Z"
   },
   {
    "duration": 42,
    "start_time": "2022-06-10T00:31:01.249Z"
   },
   {
    "duration": 49,
    "start_time": "2022-06-11T23:47:01.070Z"
   },
   {
    "duration": 7,
    "start_time": "2022-06-11T23:47:30.362Z"
   },
   {
    "duration": 409,
    "start_time": "2022-06-11T23:47:38.166Z"
   },
   {
    "duration": 151,
    "start_time": "2022-06-11T23:47:39.652Z"
   },
   {
    "duration": 38,
    "start_time": "2022-06-11T23:47:53.274Z"
   },
   {
    "duration": 21,
    "start_time": "2022-06-11T23:49:22.442Z"
   },
   {
    "duration": 17,
    "start_time": "2022-06-11T23:49:31.008Z"
   },
   {
    "duration": 2,
    "start_time": "2022-06-11T23:50:15.631Z"
   },
   {
    "duration": 60,
    "start_time": "2022-06-12T16:24:56.804Z"
   },
   {
    "duration": 45,
    "start_time": "2022-06-13T23:20:57.448Z"
   },
   {
    "duration": 385,
    "start_time": "2022-06-13T23:21:05.370Z"
   },
   {
    "duration": 158,
    "start_time": "2022-06-13T23:21:06.600Z"
   },
   {
    "duration": 25,
    "start_time": "2022-06-13T23:21:07.332Z"
   },
   {
    "duration": 21,
    "start_time": "2022-06-13T23:21:07.593Z"
   },
   {
    "duration": 41,
    "start_time": "2022-06-13T23:21:09.720Z"
   },
   {
    "duration": 26,
    "start_time": "2022-06-13T23:21:11.155Z"
   },
   {
    "duration": 17,
    "start_time": "2022-06-13T23:21:16.329Z"
   },
   {
    "duration": 35,
    "start_time": "2022-06-13T23:21:22.051Z"
   },
   {
    "duration": 65,
    "start_time": "2022-06-13T23:22:13.595Z"
   },
   {
    "duration": 13,
    "start_time": "2022-06-13T23:22:20.206Z"
   },
   {
    "duration": 12,
    "start_time": "2022-06-14T00:19:00.299Z"
   },
   {
    "duration": 12,
    "start_time": "2022-06-14T00:19:22.856Z"
   },
   {
    "duration": 17,
    "start_time": "2022-06-14T00:22:44.490Z"
   },
   {
    "duration": 26,
    "start_time": "2022-06-14T00:23:00.181Z"
   },
   {
    "duration": 11,
    "start_time": "2022-06-14T00:23:24.581Z"
   },
   {
    "duration": 10,
    "start_time": "2022-06-14T00:23:33.722Z"
   },
   {
    "duration": 6,
    "start_time": "2022-06-14T00:24:04.426Z"
   },
   {
    "duration": 98,
    "start_time": "2022-06-14T00:24:14.871Z"
   },
   {
    "duration": 22,
    "start_time": "2022-06-14T00:24:34.587Z"
   },
   {
    "duration": 16,
    "start_time": "2022-06-14T00:24:37.968Z"
   },
   {
    "duration": 15,
    "start_time": "2022-06-14T00:26:57.963Z"
   },
   {
    "duration": 22,
    "start_time": "2022-06-14T00:27:11.890Z"
   },
   {
    "duration": 19,
    "start_time": "2022-06-14T00:27:49.684Z"
   },
   {
    "duration": 16,
    "start_time": "2022-06-14T00:29:46.291Z"
   },
   {
    "duration": 17,
    "start_time": "2022-06-14T00:29:50.722Z"
   },
   {
    "duration": 19,
    "start_time": "2022-06-14T00:29:54.018Z"
   },
   {
    "duration": 15,
    "start_time": "2022-06-14T00:30:23.449Z"
   },
   {
    "duration": 18,
    "start_time": "2022-06-14T00:32:05.978Z"
   },
   {
    "duration": 17,
    "start_time": "2022-06-14T00:33:10.938Z"
   },
   {
    "duration": 19,
    "start_time": "2022-06-14T00:34:39.263Z"
   },
   {
    "duration": 13,
    "start_time": "2022-06-14T00:35:16.015Z"
   },
   {
    "duration": 424,
    "start_time": "2022-06-14T21:13:47.531Z"
   },
   {
    "duration": 391,
    "start_time": "2022-06-14T21:13:48.841Z"
   },
   {
    "duration": 21,
    "start_time": "2022-06-14T21:13:49.609Z"
   },
   {
    "duration": 22,
    "start_time": "2022-06-14T21:13:49.944Z"
   },
   {
    "duration": 37,
    "start_time": "2022-06-14T21:13:52.904Z"
   },
   {
    "duration": 21,
    "start_time": "2022-06-14T21:13:53.511Z"
   },
   {
    "duration": 15,
    "start_time": "2022-06-14T21:13:55.447Z"
   },
   {
    "duration": 28,
    "start_time": "2022-06-14T21:13:56.713Z"
   },
   {
    "duration": 11,
    "start_time": "2022-06-14T21:13:57.344Z"
   },
   {
    "duration": 4,
    "start_time": "2022-06-14T21:13:57.561Z"
   },
   {
    "duration": 121,
    "start_time": "2022-06-14T21:13:57.825Z"
   },
   {
    "duration": 50,
    "start_time": "2022-06-14T21:13:59.108Z"
   },
   {
    "duration": 15,
    "start_time": "2022-06-14T21:13:59.575Z"
   },
   {
    "duration": 20,
    "start_time": "2022-06-14T21:14:01.973Z"
   },
   {
    "duration": 13,
    "start_time": "2022-06-14T21:14:02.605Z"
   },
   {
    "duration": 19,
    "start_time": "2022-06-14T21:14:02.837Z"
   },
   {
    "duration": 15,
    "start_time": "2022-06-14T21:14:03.109Z"
   },
   {
    "duration": 17,
    "start_time": "2022-06-14T21:14:03.314Z"
   },
   {
    "duration": 13,
    "start_time": "2022-06-14T21:14:03.727Z"
   },
   {
    "duration": 4,
    "start_time": "2022-06-14T21:14:04.710Z"
   },
   {
    "duration": 4,
    "start_time": "2022-06-14T21:14:04.960Z"
   },
   {
    "duration": 9,
    "start_time": "2022-06-14T21:14:06.119Z"
   },
   {
    "duration": 400,
    "start_time": "2022-06-14T21:14:12.724Z"
   },
   {
    "duration": 0,
    "start_time": "2022-06-14T21:14:13.126Z"
   },
   {
    "duration": 7,
    "start_time": "2022-06-14T21:14:14.011Z"
   },
   {
    "duration": 7,
    "start_time": "2022-06-14T21:14:18.258Z"
   },
   {
    "duration": 29,
    "start_time": "2022-06-14T21:14:19.410Z"
   },
   {
    "duration": 12,
    "start_time": "2022-06-14T21:14:19.850Z"
   },
   {
    "duration": 101,
    "start_time": "2022-06-14T21:41:34.311Z"
   },
   {
    "duration": 102,
    "start_time": "2022-06-14T21:42:08.837Z"
   },
   {
    "duration": 111,
    "start_time": "2022-06-14T21:42:32.746Z"
   },
   {
    "duration": 600,
    "start_time": "2022-06-14T21:42:38.875Z"
   },
   {
    "duration": 127,
    "start_time": "2022-06-14T21:42:49.660Z"
   },
   {
    "duration": 28,
    "start_time": "2022-06-14T21:43:26.613Z"
   },
   {
    "duration": 28,
    "start_time": "2022-06-14T21:43:52.864Z"
   },
   {
    "duration": 13,
    "start_time": "2022-06-14T21:44:01.060Z"
   },
   {
    "duration": 166,
    "start_time": "2022-06-14T21:52:36.448Z"
   },
   {
    "duration": 4070,
    "start_time": "2022-06-14T21:53:35.903Z"
   },
   {
    "duration": 38,
    "start_time": "2022-06-14T21:58:16.420Z"
   },
   {
    "duration": 40,
    "start_time": "2022-06-14T22:00:51.793Z"
   },
   {
    "duration": 22,
    "start_time": "2022-06-14T22:00:58.886Z"
   },
   {
    "duration": 19,
    "start_time": "2022-06-14T22:01:00.283Z"
   },
   {
    "duration": 111,
    "start_time": "2022-06-14T22:01:07.314Z"
   },
   {
    "duration": 3,
    "start_time": "2022-06-14T22:01:09.312Z"
   },
   {
    "duration": 401,
    "start_time": "2022-06-14T22:01:21.044Z"
   },
   {
    "duration": 99,
    "start_time": "2022-06-14T22:01:23.476Z"
   },
   {
    "duration": 21,
    "start_time": "2022-06-14T22:01:28.588Z"
   },
   {
    "duration": 24,
    "start_time": "2022-06-14T22:01:29.289Z"
   },
   {
    "duration": 41,
    "start_time": "2022-06-14T22:02:26.530Z"
   },
   {
    "duration": 39,
    "start_time": "2022-06-14T22:14:47.259Z"
   },
   {
    "duration": 15,
    "start_time": "2022-06-14T22:14:49.658Z"
   },
   {
    "duration": 27,
    "start_time": "2022-06-14T22:14:55.449Z"
   },
   {
    "duration": 32,
    "start_time": "2022-06-14T22:14:56.217Z"
   },
   {
    "duration": 6,
    "start_time": "2022-06-14T22:14:56.659Z"
   },
   {
    "duration": 104,
    "start_time": "2022-06-14T22:14:57.174Z"
   },
   {
    "duration": 55,
    "start_time": "2022-06-14T22:14:59.821Z"
   },
   {
    "duration": 18,
    "start_time": "2022-06-14T22:15:01.683Z"
   },
   {
    "duration": 9,
    "start_time": "2022-06-14T22:25:35.367Z"
   },
   {
    "duration": 4,
    "start_time": "2022-06-14T22:28:06.632Z"
   },
   {
    "duration": 5,
    "start_time": "2022-06-14T22:28:07.268Z"
   },
   {
    "duration": 337,
    "start_time": "2022-06-14T22:30:12.264Z"
   },
   {
    "duration": 216,
    "start_time": "2022-06-14T22:30:32.148Z"
   },
   {
    "duration": 2,
    "start_time": "2022-06-15T00:03:32.896Z"
   },
   {
    "duration": 90,
    "start_time": "2022-06-15T00:03:36.588Z"
   },
   {
    "duration": 21,
    "start_time": "2022-06-15T00:03:37.783Z"
   },
   {
    "duration": 16,
    "start_time": "2022-06-15T00:03:38.023Z"
   },
   {
    "duration": 38,
    "start_time": "2022-06-15T00:03:39.905Z"
   },
   {
    "duration": 14,
    "start_time": "2022-06-15T00:03:42.586Z"
   },
   {
    "duration": 27,
    "start_time": "2022-06-15T00:03:45.579Z"
   },
   {
    "duration": 10,
    "start_time": "2022-06-15T00:03:46.185Z"
   },
   {
    "duration": 6,
    "start_time": "2022-06-15T00:03:46.731Z"
   },
   {
    "duration": 93,
    "start_time": "2022-06-15T00:03:47.044Z"
   },
   {
    "duration": 19,
    "start_time": "2022-06-15T00:04:28.790Z"
   },
   {
    "duration": 17,
    "start_time": "2022-06-15T00:04:29.524Z"
   },
   {
    "duration": 18,
    "start_time": "2022-06-15T00:04:31.505Z"
   },
   {
    "duration": 15,
    "start_time": "2022-06-15T00:04:31.747Z"
   },
   {
    "duration": 20,
    "start_time": "2022-06-15T00:04:31.996Z"
   },
   {
    "duration": 17,
    "start_time": "2022-06-15T00:04:32.475Z"
   },
   {
    "duration": 18,
    "start_time": "2022-06-15T00:04:32.852Z"
   },
   {
    "duration": 14,
    "start_time": "2022-06-15T00:04:33.098Z"
   },
   {
    "duration": 185,
    "start_time": "2022-06-15T00:04:33.718Z"
   },
   {
    "duration": 4,
    "start_time": "2022-06-15T00:04:34.532Z"
   },
   {
    "duration": 5,
    "start_time": "2022-06-15T00:04:34.788Z"
   },
   {
    "duration": 10,
    "start_time": "2022-06-15T00:04:35.133Z"
   },
   {
    "duration": 28,
    "start_time": "2022-06-15T00:04:41.341Z"
   },
   {
    "duration": 25,
    "start_time": "2022-06-15T00:04:44.498Z"
   },
   {
    "duration": 13,
    "start_time": "2022-06-15T00:04:44.890Z"
   },
   {
    "duration": 95,
    "start_time": "2022-06-15T00:05:16.009Z"
   },
   {
    "duration": 130,
    "start_time": "2022-06-15T00:05:16.965Z"
   },
   {
    "duration": 4138,
    "start_time": "2022-06-15T00:05:17.435Z"
   },
   {
    "duration": 0,
    "start_time": "2022-06-15T00:05:21.578Z"
   },
   {
    "duration": 7,
    "start_time": "2022-06-15T00:46:10.618Z"
   },
   {
    "duration": 29,
    "start_time": "2022-06-15T00:46:22.765Z"
   },
   {
    "duration": 27,
    "start_time": "2022-06-15T00:46:24.537Z"
   },
   {
    "duration": 12,
    "start_time": "2022-06-15T00:46:25.366Z"
   },
   {
    "duration": 8,
    "start_time": "2022-06-15T00:46:30.436Z"
   },
   {
    "duration": 9,
    "start_time": "2022-06-15T00:46:39.814Z"
   },
   {
    "duration": 10,
    "start_time": "2022-06-15T00:47:10.641Z"
   },
   {
    "duration": 11,
    "start_time": "2022-06-15T00:47:28.007Z"
   },
   {
    "duration": 185,
    "start_time": "2022-06-15T00:48:45.670Z"
   },
   {
    "duration": 143,
    "start_time": "2022-06-15T00:49:20.359Z"
   },
   {
    "duration": 237,
    "start_time": "2022-06-15T00:49:39.235Z"
   },
   {
    "duration": 152,
    "start_time": "2022-06-15T00:51:02.064Z"
   },
   {
    "duration": 150,
    "start_time": "2022-06-15T00:51:11.918Z"
   },
   {
    "duration": 434,
    "start_time": "2022-06-16T10:30:29.048Z"
   },
   {
    "duration": 159,
    "start_time": "2022-06-16T10:30:29.484Z"
   },
   {
    "duration": 26,
    "start_time": "2022-06-16T10:30:29.644Z"
   },
   {
    "duration": 23,
    "start_time": "2022-06-16T10:30:29.672Z"
   },
   {
    "duration": 63,
    "start_time": "2022-06-16T10:30:29.698Z"
   },
   {
    "duration": 14,
    "start_time": "2022-06-16T10:30:29.763Z"
   },
   {
    "duration": 89,
    "start_time": "2022-06-16T10:30:29.779Z"
   },
   {
    "duration": 17,
    "start_time": "2022-06-16T10:30:29.869Z"
   },
   {
    "duration": 5,
    "start_time": "2022-06-16T10:30:29.888Z"
   },
   {
    "duration": 120,
    "start_time": "2022-06-16T10:30:29.894Z"
   },
   {
    "duration": 24,
    "start_time": "2022-06-16T10:30:30.016Z"
   },
   {
    "duration": 34,
    "start_time": "2022-06-16T10:30:30.042Z"
   },
   {
    "duration": 28,
    "start_time": "2022-06-16T10:30:30.078Z"
   },
   {
    "duration": 14,
    "start_time": "2022-06-16T10:30:30.108Z"
   },
   {
    "duration": 38,
    "start_time": "2022-06-16T10:30:30.124Z"
   },
   {
    "duration": 15,
    "start_time": "2022-06-16T10:30:30.164Z"
   },
   {
    "duration": 22,
    "start_time": "2022-06-16T10:30:30.180Z"
   },
   {
    "duration": 13,
    "start_time": "2022-06-16T10:30:30.203Z"
   },
   {
    "duration": 630,
    "start_time": "2022-06-16T10:30:30.217Z"
   },
   {
    "duration": 5,
    "start_time": "2022-06-16T10:30:30.849Z"
   },
   {
    "duration": 49,
    "start_time": "2022-06-16T10:30:30.855Z"
   },
   {
    "duration": 21,
    "start_time": "2022-06-16T10:30:30.905Z"
   },
   {
    "duration": 2,
    "start_time": "2022-06-16T10:30:30.928Z"
   },
   {
    "duration": 134,
    "start_time": "2022-06-16T10:30:30.932Z"
   },
   {
    "duration": 0,
    "start_time": "2022-06-16T10:30:31.068Z"
   },
   {
    "duration": 0,
    "start_time": "2022-06-16T10:30:31.069Z"
   },
   {
    "duration": 0,
    "start_time": "2022-06-16T10:30:31.070Z"
   },
   {
    "duration": 0,
    "start_time": "2022-06-16T10:30:31.071Z"
   },
   {
    "duration": 0,
    "start_time": "2022-06-16T10:30:31.073Z"
   },
   {
    "duration": 0,
    "start_time": "2022-06-16T10:30:31.073Z"
   },
   {
    "duration": 73,
    "start_time": "2022-06-16T21:40:23.012Z"
   },
   {
    "duration": 468,
    "start_time": "2022-06-16T21:40:35.403Z"
   },
   {
    "duration": 187,
    "start_time": "2022-06-16T21:40:35.873Z"
   },
   {
    "duration": 25,
    "start_time": "2022-06-16T21:40:36.061Z"
   },
   {
    "duration": 23,
    "start_time": "2022-06-16T21:40:36.088Z"
   },
   {
    "duration": 77,
    "start_time": "2022-06-16T21:40:36.127Z"
   },
   {
    "duration": 35,
    "start_time": "2022-06-16T21:40:36.206Z"
   },
   {
    "duration": 95,
    "start_time": "2022-06-16T21:40:36.243Z"
   },
   {
    "duration": 22,
    "start_time": "2022-06-16T21:40:36.340Z"
   },
   {
    "duration": 12,
    "start_time": "2022-06-16T21:40:36.364Z"
   },
   {
    "duration": 189,
    "start_time": "2022-06-16T21:40:36.378Z"
   },
   {
    "duration": 45,
    "start_time": "2022-06-16T21:40:36.569Z"
   },
   {
    "duration": 51,
    "start_time": "2022-06-16T21:40:36.616Z"
   },
   {
    "duration": 35,
    "start_time": "2022-06-16T21:40:36.669Z"
   },
   {
    "duration": 17,
    "start_time": "2022-06-16T21:40:36.707Z"
   },
   {
    "duration": 24,
    "start_time": "2022-06-16T21:40:36.726Z"
   },
   {
    "duration": 25,
    "start_time": "2022-06-16T21:40:36.752Z"
   },
   {
    "duration": 24,
    "start_time": "2022-06-16T21:40:36.778Z"
   },
   {
    "duration": 31,
    "start_time": "2022-06-16T21:40:36.804Z"
   },
   {
    "duration": 577,
    "start_time": "2022-06-16T21:40:36.842Z"
   },
   {
    "duration": 17,
    "start_time": "2022-06-16T21:40:37.421Z"
   },
   {
    "duration": 24,
    "start_time": "2022-06-16T21:40:37.439Z"
   },
   {
    "duration": 20,
    "start_time": "2022-06-16T21:40:37.465Z"
   },
   {
    "duration": 3,
    "start_time": "2022-06-16T21:40:37.487Z"
   },
   {
    "duration": 112,
    "start_time": "2022-06-16T21:40:37.492Z"
   },
   {
    "duration": 0,
    "start_time": "2022-06-16T21:40:37.606Z"
   },
   {
    "duration": 0,
    "start_time": "2022-06-16T21:40:37.608Z"
   },
   {
    "duration": 0,
    "start_time": "2022-06-16T21:40:37.609Z"
   },
   {
    "duration": 0,
    "start_time": "2022-06-16T21:40:37.611Z"
   },
   {
    "duration": 0,
    "start_time": "2022-06-16T21:40:37.612Z"
   },
   {
    "duration": 0,
    "start_time": "2022-06-16T21:40:37.614Z"
   },
   {
    "duration": 174,
    "start_time": "2022-06-16T21:41:39.639Z"
   },
   {
    "duration": 207,
    "start_time": "2022-06-16T21:42:09.253Z"
   },
   {
    "duration": 166,
    "start_time": "2022-06-16T21:43:50.124Z"
   },
   {
    "duration": 272,
    "start_time": "2022-06-16T21:43:53.964Z"
   },
   {
    "duration": 210,
    "start_time": "2022-06-16T21:44:29.340Z"
   },
   {
    "duration": 231,
    "start_time": "2022-06-16T21:44:32.201Z"
   },
   {
    "duration": 186,
    "start_time": "2022-06-16T21:44:37.674Z"
   },
   {
    "duration": 169,
    "start_time": "2022-06-16T21:44:50.352Z"
   },
   {
    "duration": 179,
    "start_time": "2022-06-16T21:44:51.893Z"
   },
   {
    "duration": 201,
    "start_time": "2022-06-16T21:44:54.773Z"
   },
   {
    "duration": 207,
    "start_time": "2022-06-16T21:45:08.657Z"
   },
   {
    "duration": 45,
    "start_time": "2022-06-16T21:45:50.711Z"
   },
   {
    "duration": 32,
    "start_time": "2022-06-16T21:45:53.855Z"
   },
   {
    "duration": 17,
    "start_time": "2022-06-16T21:45:57.347Z"
   },
   {
    "duration": 18,
    "start_time": "2022-06-16T21:46:00.458Z"
   },
   {
    "duration": 184,
    "start_time": "2022-06-16T21:46:03.887Z"
   },
   {
    "duration": 183,
    "start_time": "2022-06-16T21:46:20.274Z"
   },
   {
    "duration": 263,
    "start_time": "2022-06-16T21:46:29.987Z"
   },
   {
    "duration": 4,
    "start_time": "2022-06-16T22:12:50.004Z"
   },
   {
    "duration": 116,
    "start_time": "2022-06-16T22:12:50.010Z"
   },
   {
    "duration": 24,
    "start_time": "2022-06-16T22:12:50.128Z"
   },
   {
    "duration": 18,
    "start_time": "2022-06-16T22:12:50.154Z"
   },
   {
    "duration": 65,
    "start_time": "2022-06-16T22:12:50.175Z"
   },
   {
    "duration": 19,
    "start_time": "2022-06-16T22:12:50.241Z"
   },
   {
    "duration": 71,
    "start_time": "2022-06-16T22:12:50.262Z"
   },
   {
    "duration": 13,
    "start_time": "2022-06-16T22:12:50.335Z"
   },
   {
    "duration": 14,
    "start_time": "2022-06-16T22:12:50.350Z"
   },
   {
    "duration": 123,
    "start_time": "2022-06-16T22:12:50.366Z"
   },
   {
    "duration": 36,
    "start_time": "2022-06-16T22:12:50.491Z"
   },
   {
    "duration": 18,
    "start_time": "2022-06-16T22:12:50.529Z"
   },
   {
    "duration": 202,
    "start_time": "2022-06-16T22:12:50.551Z"
   },
   {
    "duration": 152,
    "start_time": "2022-06-16T22:12:50.755Z"
   },
   {
    "duration": 202,
    "start_time": "2022-06-16T22:12:51.087Z"
   },
   {
    "duration": 168,
    "start_time": "2022-06-16T22:12:51.291Z"
   },
   {
    "duration": 178,
    "start_time": "2022-06-16T22:12:51.460Z"
   },
   {
    "duration": 126,
    "start_time": "2022-06-16T22:12:51.640Z"
   },
   {
    "duration": 0,
    "start_time": "2022-06-16T22:12:51.767Z"
   },
   {
    "duration": 0,
    "start_time": "2022-06-16T22:12:51.769Z"
   },
   {
    "duration": 0,
    "start_time": "2022-06-16T22:12:51.770Z"
   },
   {
    "duration": 0,
    "start_time": "2022-06-16T22:12:51.771Z"
   },
   {
    "duration": 0,
    "start_time": "2022-06-16T22:12:51.772Z"
   },
   {
    "duration": 0,
    "start_time": "2022-06-16T22:12:51.773Z"
   },
   {
    "duration": 0,
    "start_time": "2022-06-16T22:12:51.775Z"
   },
   {
    "duration": 0,
    "start_time": "2022-06-16T22:12:51.776Z"
   },
   {
    "duration": 0,
    "start_time": "2022-06-16T22:12:51.777Z"
   },
   {
    "duration": 0,
    "start_time": "2022-06-16T22:12:51.779Z"
   },
   {
    "duration": 0,
    "start_time": "2022-06-16T22:12:51.780Z"
   },
   {
    "duration": 309,
    "start_time": "2022-06-16T22:13:59.484Z"
   },
   {
    "duration": 70,
    "start_time": "2022-06-16T22:22:16.860Z"
   },
   {
    "duration": 112,
    "start_time": "2022-06-16T22:22:31.979Z"
   },
   {
    "duration": 63,
    "start_time": "2022-06-16T22:23:49.480Z"
   },
   {
    "duration": 76,
    "start_time": "2022-06-16T22:24:02.342Z"
   },
   {
    "duration": 34,
    "start_time": "2022-06-16T22:24:30.916Z"
   },
   {
    "duration": 753,
    "start_time": "2022-06-16T22:44:10.828Z"
   },
   {
    "duration": 161,
    "start_time": "2022-06-16T22:44:30.723Z"
   },
   {
    "duration": 121,
    "start_time": "2022-06-16T22:44:58.698Z"
   },
   {
    "duration": 131,
    "start_time": "2022-06-16T22:45:22.113Z"
   },
   {
    "duration": 554,
    "start_time": "2022-06-16T22:45:41.294Z"
   },
   {
    "duration": 314,
    "start_time": "2022-06-16T22:45:47.405Z"
   },
   {
    "duration": 48,
    "start_time": "2022-06-18T02:25:53.269Z"
   },
   {
    "duration": 406,
    "start_time": "2022-06-18T02:26:02.928Z"
   },
   {
    "duration": 160,
    "start_time": "2022-06-18T02:26:03.336Z"
   },
   {
    "duration": 25,
    "start_time": "2022-06-18T02:26:03.498Z"
   },
   {
    "duration": 40,
    "start_time": "2022-06-18T02:26:03.526Z"
   },
   {
    "duration": 85,
    "start_time": "2022-06-18T02:26:03.567Z"
   },
   {
    "duration": 0,
    "start_time": "2022-06-18T02:26:03.697Z"
   },
   {
    "duration": 0,
    "start_time": "2022-06-18T02:26:03.698Z"
   },
   {
    "duration": 0,
    "start_time": "2022-06-18T02:26:03.700Z"
   },
   {
    "duration": 0,
    "start_time": "2022-06-18T02:26:03.700Z"
   },
   {
    "duration": 0,
    "start_time": "2022-06-18T02:26:03.702Z"
   },
   {
    "duration": 0,
    "start_time": "2022-06-18T02:26:03.703Z"
   },
   {
    "duration": 0,
    "start_time": "2022-06-18T02:26:03.704Z"
   },
   {
    "duration": 0,
    "start_time": "2022-06-18T02:26:03.705Z"
   },
   {
    "duration": 0,
    "start_time": "2022-06-18T02:26:03.706Z"
   },
   {
    "duration": 0,
    "start_time": "2022-06-18T02:26:03.707Z"
   },
   {
    "duration": 0,
    "start_time": "2022-06-18T02:26:03.708Z"
   },
   {
    "duration": 0,
    "start_time": "2022-06-18T02:26:03.709Z"
   },
   {
    "duration": 0,
    "start_time": "2022-06-18T02:26:03.710Z"
   },
   {
    "duration": 0,
    "start_time": "2022-06-18T02:26:03.711Z"
   },
   {
    "duration": 0,
    "start_time": "2022-06-18T02:26:03.712Z"
   },
   {
    "duration": 0,
    "start_time": "2022-06-18T02:26:03.713Z"
   },
   {
    "duration": 0,
    "start_time": "2022-06-18T02:26:03.714Z"
   },
   {
    "duration": 0,
    "start_time": "2022-06-18T02:26:03.715Z"
   },
   {
    "duration": 0,
    "start_time": "2022-06-18T02:26:03.716Z"
   },
   {
    "duration": 0,
    "start_time": "2022-06-18T02:26:03.717Z"
   },
   {
    "duration": 0,
    "start_time": "2022-06-18T02:26:03.718Z"
   },
   {
    "duration": 0,
    "start_time": "2022-06-18T02:26:03.719Z"
   },
   {
    "duration": 0,
    "start_time": "2022-06-18T02:26:03.720Z"
   },
   {
    "duration": 0,
    "start_time": "2022-06-18T02:26:03.721Z"
   },
   {
    "duration": 0,
    "start_time": "2022-06-18T02:26:03.722Z"
   },
   {
    "duration": 11,
    "start_time": "2022-06-18T02:26:16.321Z"
   },
   {
    "duration": 86,
    "start_time": "2022-06-18T02:27:51.165Z"
   },
   {
    "duration": 76,
    "start_time": "2022-06-18T02:32:59.995Z"
   },
   {
    "duration": 75,
    "start_time": "2022-06-18T02:33:30.150Z"
   },
   {
    "duration": 67,
    "start_time": "2022-06-18T02:39:48.597Z"
   },
   {
    "duration": 15,
    "start_time": "2022-06-18T02:41:10.207Z"
   },
   {
    "duration": 30,
    "start_time": "2022-06-18T02:41:11.434Z"
   },
   {
    "duration": 35,
    "start_time": "2022-06-18T02:41:11.710Z"
   },
   {
    "duration": 5,
    "start_time": "2022-06-18T02:41:11.938Z"
   },
   {
    "duration": 114,
    "start_time": "2022-06-18T02:41:12.189Z"
   },
   {
    "duration": 23,
    "start_time": "2022-06-18T02:41:13.255Z"
   },
   {
    "duration": 18,
    "start_time": "2022-06-18T02:41:13.555Z"
   },
   {
    "duration": 428,
    "start_time": "2022-06-18T02:41:16.279Z"
   },
   {
    "duration": 146,
    "start_time": "2022-06-18T02:41:16.710Z"
   },
   {
    "duration": 172,
    "start_time": "2022-06-18T02:41:16.858Z"
   },
   {
    "duration": 178,
    "start_time": "2022-06-18T02:41:17.032Z"
   },
   {
    "duration": 224,
    "start_time": "2022-06-18T02:41:17.362Z"
   },
   {
    "duration": 157,
    "start_time": "2022-06-18T02:41:17.594Z"
   },
   {
    "duration": 296,
    "start_time": "2022-06-18T02:41:18.249Z"
   },
   {
    "duration": 5,
    "start_time": "2022-06-18T02:41:19.206Z"
   },
   {
    "duration": 6,
    "start_time": "2022-06-18T02:41:19.406Z"
   },
   {
    "duration": 12,
    "start_time": "2022-06-18T02:41:19.623Z"
   },
   {
    "duration": 2,
    "start_time": "2022-06-18T02:41:19.833Z"
   },
   {
    "duration": 45,
    "start_time": "2022-06-18T02:41:20.458Z"
   },
   {
    "duration": 137,
    "start_time": "2022-06-18T02:41:20.878Z"
   },
   {
    "duration": 4540,
    "start_time": "2022-06-18T02:41:21.082Z"
   },
   {
    "duration": 0,
    "start_time": "2022-06-18T02:41:25.623Z"
   },
   {
    "duration": 0,
    "start_time": "2022-06-18T02:41:25.625Z"
   },
   {
    "duration": 0,
    "start_time": "2022-06-18T02:41:25.626Z"
   },
   {
    "duration": 0,
    "start_time": "2022-06-18T02:41:25.627Z"
   },
   {
    "duration": 9,
    "start_time": "2022-06-18T02:41:30.542Z"
   },
   {
    "duration": 28,
    "start_time": "2022-06-18T02:41:37.602Z"
   },
   {
    "duration": 14,
    "start_time": "2022-06-18T02:41:38.622Z"
   },
   {
    "duration": 156,
    "start_time": "2022-06-18T02:41:41.012Z"
   },
   {
    "duration": 12,
    "start_time": "2022-06-18T02:42:48.872Z"
   },
   {
    "duration": 3,
    "start_time": "2022-06-18T02:43:08.752Z"
   },
   {
    "duration": 72,
    "start_time": "2022-06-18T02:43:21.678Z"
   },
   {
    "duration": 133,
    "start_time": "2022-06-18T02:43:31.642Z"
   },
   {
    "duration": 4742,
    "start_time": "2022-06-18T02:43:32.171Z"
   },
   {
    "duration": 37,
    "start_time": "2022-06-18T02:43:38.360Z"
   },
   {
    "duration": 28,
    "start_time": "2022-06-18T02:43:42.840Z"
   },
   {
    "duration": 13,
    "start_time": "2022-06-18T02:43:45.602Z"
   },
   {
    "duration": 161,
    "start_time": "2022-06-18T02:43:47.889Z"
   },
   {
    "duration": 151,
    "start_time": "2022-06-18T02:43:53.039Z"
   },
   {
    "duration": 58,
    "start_time": "2022-06-18T15:22:09.493Z"
   },
   {
    "duration": 399,
    "start_time": "2022-06-18T15:22:23.284Z"
   },
   {
    "duration": 175,
    "start_time": "2022-06-18T15:22:23.684Z"
   },
   {
    "duration": 24,
    "start_time": "2022-06-18T15:22:23.861Z"
   },
   {
    "duration": 51,
    "start_time": "2022-06-18T15:22:23.887Z"
   },
   {
    "duration": 55,
    "start_time": "2022-06-18T15:22:23.939Z"
   },
   {
    "duration": 77,
    "start_time": "2022-06-18T15:22:23.996Z"
   },
   {
    "duration": 0,
    "start_time": "2022-06-18T15:22:24.115Z"
   },
   {
    "duration": 0,
    "start_time": "2022-06-18T15:22:24.116Z"
   },
   {
    "duration": 0,
    "start_time": "2022-06-18T15:22:24.127Z"
   },
   {
    "duration": 0,
    "start_time": "2022-06-18T15:22:24.127Z"
   },
   {
    "duration": 0,
    "start_time": "2022-06-18T15:22:24.128Z"
   },
   {
    "duration": 0,
    "start_time": "2022-06-18T15:22:24.129Z"
   },
   {
    "duration": 0,
    "start_time": "2022-06-18T15:22:24.130Z"
   },
   {
    "duration": 0,
    "start_time": "2022-06-18T15:22:24.131Z"
   },
   {
    "duration": 0,
    "start_time": "2022-06-18T15:22:24.132Z"
   },
   {
    "duration": 0,
    "start_time": "2022-06-18T15:22:24.133Z"
   },
   {
    "duration": 0,
    "start_time": "2022-06-18T15:22:24.134Z"
   },
   {
    "duration": 0,
    "start_time": "2022-06-18T15:22:24.137Z"
   },
   {
    "duration": 0,
    "start_time": "2022-06-18T15:22:24.138Z"
   },
   {
    "duration": 0,
    "start_time": "2022-06-18T15:22:24.140Z"
   },
   {
    "duration": 0,
    "start_time": "2022-06-18T15:22:24.141Z"
   },
   {
    "duration": 0,
    "start_time": "2022-06-18T15:22:24.143Z"
   },
   {
    "duration": 0,
    "start_time": "2022-06-18T15:22:24.144Z"
   },
   {
    "duration": 0,
    "start_time": "2022-06-18T15:22:24.146Z"
   },
   {
    "duration": 0,
    "start_time": "2022-06-18T15:22:24.146Z"
   },
   {
    "duration": 0,
    "start_time": "2022-06-18T15:22:24.147Z"
   },
   {
    "duration": 0,
    "start_time": "2022-06-18T15:22:24.148Z"
   },
   {
    "duration": 0,
    "start_time": "2022-06-18T15:22:24.149Z"
   },
   {
    "duration": 0,
    "start_time": "2022-06-18T15:22:24.150Z"
   },
   {
    "duration": 0,
    "start_time": "2022-06-18T15:22:24.151Z"
   },
   {
    "duration": 8,
    "start_time": "2022-06-18T15:23:27.065Z"
   },
   {
    "duration": 69,
    "start_time": "2022-06-18T15:23:33.200Z"
   },
   {
    "duration": 13,
    "start_time": "2022-06-18T15:23:34.063Z"
   },
   {
    "duration": 473,
    "start_time": "2022-06-18T15:23:37.079Z"
   },
   {
    "duration": 167,
    "start_time": "2022-06-18T15:33:37.051Z"
   },
   {
    "duration": 167,
    "start_time": "2022-06-18T15:34:15.079Z"
   },
   {
    "duration": 23,
    "start_time": "2022-06-18T15:35:16.678Z"
   },
   {
    "duration": 368,
    "start_time": "2022-06-18T15:35:59.411Z"
   },
   {
    "duration": 334,
    "start_time": "2022-06-18T15:36:19.273Z"
   },
   {
    "duration": 165,
    "start_time": "2022-06-18T15:37:12.750Z"
   },
   {
    "duration": 273,
    "start_time": "2022-06-18T15:39:36.098Z"
   },
   {
    "duration": 283,
    "start_time": "2022-06-18T15:39:58.765Z"
   },
   {
    "duration": 34,
    "start_time": "2022-06-18T15:40:23.364Z"
   },
   {
    "duration": 32,
    "start_time": "2022-06-18T15:40:38.057Z"
   },
   {
    "duration": 36,
    "start_time": "2022-06-18T15:40:47.522Z"
   },
   {
    "duration": 12,
    "start_time": "2022-06-18T15:41:57.684Z"
   },
   {
    "duration": 35,
    "start_time": "2022-06-18T15:42:11.616Z"
   },
   {
    "duration": 296,
    "start_time": "2022-06-18T15:42:30.722Z"
   },
   {
    "duration": 509,
    "start_time": "2022-06-18T15:49:14.336Z"
   },
   {
    "duration": 115,
    "start_time": "2022-06-18T15:49:15.580Z"
   },
   {
    "duration": 26,
    "start_time": "2022-06-18T15:49:16.136Z"
   },
   {
    "duration": 32,
    "start_time": "2022-06-18T15:49:16.336Z"
   },
   {
    "duration": 59,
    "start_time": "2022-06-18T15:49:18.222Z"
   },
   {
    "duration": 56,
    "start_time": "2022-06-18T15:49:18.980Z"
   },
   {
    "duration": 34,
    "start_time": "2022-06-18T15:49:19.664Z"
   },
   {
    "duration": 12,
    "start_time": "2022-06-18T15:49:19.798Z"
   },
   {
    "duration": 5,
    "start_time": "2022-06-18T15:49:19.988Z"
   },
   {
    "duration": 111,
    "start_time": "2022-06-18T15:49:20.203Z"
   },
   {
    "duration": 24,
    "start_time": "2022-06-18T15:49:21.036Z"
   },
   {
    "duration": 19,
    "start_time": "2022-06-18T15:49:21.236Z"
   },
   {
    "duration": 175,
    "start_time": "2022-06-18T15:49:22.483Z"
   },
   {
    "duration": 186,
    "start_time": "2022-06-18T15:49:22.717Z"
   },
   {
    "duration": 184,
    "start_time": "2022-06-18T15:49:22.905Z"
   },
   {
    "duration": 209,
    "start_time": "2022-06-18T15:49:23.091Z"
   },
   {
    "duration": 164,
    "start_time": "2022-06-18T15:49:23.302Z"
   },
   {
    "duration": 248,
    "start_time": "2022-06-18T15:49:23.500Z"
   },
   {
    "duration": 315,
    "start_time": "2022-06-18T15:49:24.098Z"
   },
   {
    "duration": 5,
    "start_time": "2022-06-18T15:49:24.562Z"
   },
   {
    "duration": 31,
    "start_time": "2022-06-18T15:49:58.247Z"
   },
   {
    "duration": 134,
    "start_time": "2022-06-18T15:50:17.021Z"
   },
   {
    "duration": 113,
    "start_time": "2022-06-18T15:50:32.125Z"
   },
   {
    "duration": 5,
    "start_time": "2022-06-18T15:50:54.283Z"
   },
   {
    "duration": 97,
    "start_time": "2022-06-18T15:51:06.710Z"
   },
   {
    "duration": 6,
    "start_time": "2022-06-18T15:51:24.267Z"
   },
   {
    "duration": 13,
    "start_time": "2022-06-18T15:51:24.690Z"
   },
   {
    "duration": 3,
    "start_time": "2022-06-18T15:51:25.095Z"
   },
   {
    "duration": 4,
    "start_time": "2022-06-18T15:53:10.070Z"
   },
   {
    "duration": 358,
    "start_time": "2022-06-18T15:53:41.306Z"
   },
   {
    "duration": 89,
    "start_time": "2022-06-18T15:53:51.016Z"
   },
   {
    "duration": 4,
    "start_time": "2022-06-18T15:54:04.655Z"
   },
   {
    "duration": 5935,
    "start_time": "2022-06-18T16:38:00.080Z"
   },
   {
    "duration": 5290,
    "start_time": "2022-06-18T16:38:35.272Z"
   },
   {
    "duration": 778,
    "start_time": "2022-06-18T16:44:01.939Z"
   },
   {
    "duration": 1007,
    "start_time": "2022-06-18T16:44:31.798Z"
   },
   {
    "duration": 297,
    "start_time": "2022-06-18T16:44:43.894Z"
   },
   {
    "duration": 326,
    "start_time": "2022-06-18T16:44:51.965Z"
   },
   {
    "duration": 284,
    "start_time": "2022-06-18T16:45:01.386Z"
   },
   {
    "duration": 7,
    "start_time": "2022-06-18T16:52:52.678Z"
   },
   {
    "duration": 5,
    "start_time": "2022-06-18T16:53:04.014Z"
   },
   {
    "duration": 5,
    "start_time": "2022-06-18T16:53:14.597Z"
   },
   {
    "duration": 10,
    "start_time": "2022-06-18T16:53:53.285Z"
   },
   {
    "duration": 4,
    "start_time": "2022-06-18T16:54:01.683Z"
   },
   {
    "duration": 15,
    "start_time": "2022-06-18T16:54:10.834Z"
   },
   {
    "duration": 16,
    "start_time": "2022-06-18T16:54:18.669Z"
   },
   {
    "duration": 3,
    "start_time": "2022-06-18T16:59:34.689Z"
   },
   {
    "duration": 3,
    "start_time": "2022-06-18T17:00:02.489Z"
   },
   {
    "duration": 9,
    "start_time": "2022-06-18T17:00:25.308Z"
   },
   {
    "duration": 30,
    "start_time": "2022-06-18T17:00:44.543Z"
   },
   {
    "duration": 18,
    "start_time": "2022-06-18T17:01:03.340Z"
   },
   {
    "duration": 3,
    "start_time": "2022-06-18T17:03:52.448Z"
   },
   {
    "duration": 13,
    "start_time": "2022-06-18T17:03:53.123Z"
   },
   {
    "duration": 16,
    "start_time": "2022-06-18T17:04:00.369Z"
   },
   {
    "duration": 1310,
    "start_time": "2022-06-19T13:00:55.654Z"
   },
   {
    "duration": 3,
    "start_time": "2022-06-19T13:00:56.966Z"
   },
   {
    "duration": 383,
    "start_time": "2022-06-19T13:00:56.970Z"
   },
   {
    "duration": 25,
    "start_time": "2022-06-19T13:00:57.355Z"
   },
   {
    "duration": 45,
    "start_time": "2022-06-19T13:00:57.383Z"
   },
   {
    "duration": 58,
    "start_time": "2022-06-19T13:00:57.442Z"
   },
   {
    "duration": 140,
    "start_time": "2022-06-19T13:00:57.502Z"
   },
   {
    "duration": 0,
    "start_time": "2022-06-19T13:00:57.645Z"
   },
   {
    "duration": 0,
    "start_time": "2022-06-19T13:00:57.646Z"
   },
   {
    "duration": 0,
    "start_time": "2022-06-19T13:00:57.651Z"
   },
   {
    "duration": 0,
    "start_time": "2022-06-19T13:00:57.652Z"
   },
   {
    "duration": 0,
    "start_time": "2022-06-19T13:00:57.656Z"
   },
   {
    "duration": 0,
    "start_time": "2022-06-19T13:00:57.657Z"
   },
   {
    "duration": 0,
    "start_time": "2022-06-19T13:00:57.659Z"
   },
   {
    "duration": 0,
    "start_time": "2022-06-19T13:00:57.661Z"
   },
   {
    "duration": 0,
    "start_time": "2022-06-19T13:00:57.662Z"
   },
   {
    "duration": 0,
    "start_time": "2022-06-19T13:00:57.663Z"
   },
   {
    "duration": 0,
    "start_time": "2022-06-19T13:00:57.665Z"
   },
   {
    "duration": 0,
    "start_time": "2022-06-19T13:00:57.666Z"
   },
   {
    "duration": 0,
    "start_time": "2022-06-19T13:00:57.667Z"
   },
   {
    "duration": 0,
    "start_time": "2022-06-19T13:00:57.668Z"
   },
   {
    "duration": 0,
    "start_time": "2022-06-19T13:00:57.670Z"
   },
   {
    "duration": 0,
    "start_time": "2022-06-19T13:00:57.671Z"
   },
   {
    "duration": 0,
    "start_time": "2022-06-19T13:00:57.672Z"
   },
   {
    "duration": 0,
    "start_time": "2022-06-19T13:00:57.673Z"
   },
   {
    "duration": 0,
    "start_time": "2022-06-19T13:00:57.674Z"
   },
   {
    "duration": 0,
    "start_time": "2022-06-19T13:00:57.675Z"
   },
   {
    "duration": 0,
    "start_time": "2022-06-19T13:00:57.676Z"
   },
   {
    "duration": 0,
    "start_time": "2022-06-19T13:00:57.677Z"
   },
   {
    "duration": 0,
    "start_time": "2022-06-19T13:00:57.679Z"
   },
   {
    "duration": 0,
    "start_time": "2022-06-19T13:00:57.680Z"
   },
   {
    "duration": 0,
    "start_time": "2022-06-19T13:00:57.682Z"
   },
   {
    "duration": 0,
    "start_time": "2022-06-19T13:00:57.683Z"
   },
   {
    "duration": 0,
    "start_time": "2022-06-19T13:00:57.685Z"
   },
   {
    "duration": 15,
    "start_time": "2022-06-19T13:02:10.982Z"
   },
   {
    "duration": 31,
    "start_time": "2022-06-19T13:02:14.806Z"
   },
   {
    "duration": 29,
    "start_time": "2022-06-19T13:02:15.015Z"
   },
   {
    "duration": 5,
    "start_time": "2022-06-19T13:02:15.464Z"
   },
   {
    "duration": 115,
    "start_time": "2022-06-19T13:02:15.692Z"
   },
   {
    "duration": 22,
    "start_time": "2022-06-19T13:02:16.912Z"
   },
   {
    "duration": 21,
    "start_time": "2022-06-19T13:02:17.551Z"
   },
   {
    "duration": 174,
    "start_time": "2022-06-19T13:02:19.590Z"
   },
   {
    "duration": 147,
    "start_time": "2022-06-19T13:02:19.863Z"
   },
   {
    "duration": 168,
    "start_time": "2022-06-19T13:02:20.416Z"
   },
   {
    "duration": 169,
    "start_time": "2022-06-19T13:02:20.675Z"
   },
   {
    "duration": 156,
    "start_time": "2022-06-19T13:02:20.975Z"
   },
   {
    "duration": 165,
    "start_time": "2022-06-19T13:02:21.209Z"
   },
   {
    "duration": 312,
    "start_time": "2022-06-19T13:02:22.071Z"
   },
   {
    "duration": 93,
    "start_time": "2022-06-19T13:02:23.564Z"
   },
   {
    "duration": 4,
    "start_time": "2022-06-19T13:02:24.356Z"
   },
   {
    "duration": 4,
    "start_time": "2022-06-19T13:02:24.716Z"
   },
   {
    "duration": 5,
    "start_time": "2022-06-19T13:02:24.988Z"
   },
   {
    "duration": 16,
    "start_time": "2022-06-19T13:02:25.308Z"
   },
   {
    "duration": 2,
    "start_time": "2022-06-19T13:02:25.718Z"
   },
   {
    "duration": 14,
    "start_time": "2022-06-19T13:04:23.099Z"
   },
   {
    "duration": 26,
    "start_time": "2022-06-19T13:04:31.987Z"
   },
   {
    "duration": 34,
    "start_time": "2022-06-19T13:05:57.331Z"
   },
   {
    "duration": 50,
    "start_time": "2022-06-19T13:09:20.847Z"
   },
   {
    "duration": 76,
    "start_time": "2022-06-19T13:12:34.644Z"
   },
   {
    "duration": 34,
    "start_time": "2022-06-19T13:13:13.415Z"
   },
   {
    "duration": 70,
    "start_time": "2022-06-19T13:13:18.422Z"
   },
   {
    "duration": 160,
    "start_time": "2022-06-19T13:14:46.624Z"
   },
   {
    "duration": 224,
    "start_time": "2022-06-19T13:16:20.855Z"
   },
   {
    "duration": 197,
    "start_time": "2022-06-19T13:17:16.668Z"
   },
   {
    "duration": 153,
    "start_time": "2022-06-19T13:17:25.191Z"
   },
   {
    "duration": 51,
    "start_time": "2022-06-19T13:19:13.085Z"
   },
   {
    "duration": 32,
    "start_time": "2022-06-19T13:22:05.396Z"
   },
   {
    "duration": 50,
    "start_time": "2022-06-19T13:22:20.487Z"
   },
   {
    "duration": 1069,
    "start_time": "2022-06-19T13:24:09.185Z"
   },
   {
    "duration": 3,
    "start_time": "2022-06-19T13:24:10.256Z"
   },
   {
    "duration": 97,
    "start_time": "2022-06-19T13:24:10.731Z"
   },
   {
    "duration": 22,
    "start_time": "2022-06-19T13:24:15.163Z"
   },
   {
    "duration": 39,
    "start_time": "2022-06-19T13:24:16.055Z"
   },
   {
    "duration": 202,
    "start_time": "2022-06-19T13:26:51.588Z"
   },
   {
    "duration": 30,
    "start_time": "2022-06-19T13:30:03.382Z"
   },
   {
    "duration": 30,
    "start_time": "2022-06-19T13:30:12.675Z"
   },
   {
    "duration": 36,
    "start_time": "2022-06-19T13:32:26.423Z"
   },
   {
    "duration": 45,
    "start_time": "2022-06-19T13:34:52.843Z"
   },
   {
    "duration": 39,
    "start_time": "2022-06-19T13:36:07.303Z"
   },
   {
    "duration": 55,
    "start_time": "2022-06-19T13:36:52.883Z"
   },
   {
    "duration": 1075,
    "start_time": "2022-06-19T13:37:22.194Z"
   },
   {
    "duration": 3,
    "start_time": "2022-06-19T13:37:23.270Z"
   },
   {
    "duration": 105,
    "start_time": "2022-06-19T13:37:23.274Z"
   },
   {
    "duration": 23,
    "start_time": "2022-06-19T13:37:23.382Z"
   },
   {
    "duration": 44,
    "start_time": "2022-06-19T13:37:23.406Z"
   },
   {
    "duration": 61,
    "start_time": "2022-06-19T13:37:23.452Z"
   },
   {
    "duration": 32,
    "start_time": "2022-06-19T13:37:23.514Z"
   },
   {
    "duration": 32,
    "start_time": "2022-06-19T13:37:23.547Z"
   },
   {
    "duration": 12,
    "start_time": "2022-06-19T13:37:23.581Z"
   },
   {
    "duration": 10,
    "start_time": "2022-06-19T13:37:23.595Z"
   },
   {
    "duration": 125,
    "start_time": "2022-06-19T13:37:23.607Z"
   },
   {
    "duration": 28,
    "start_time": "2022-06-19T13:37:23.734Z"
   },
   {
    "duration": 22,
    "start_time": "2022-06-19T13:37:23.764Z"
   },
   {
    "duration": 197,
    "start_time": "2022-06-19T13:37:23.787Z"
   },
   {
    "duration": 181,
    "start_time": "2022-06-19T13:37:23.986Z"
   },
   {
    "duration": 206,
    "start_time": "2022-06-19T13:37:24.169Z"
   },
   {
    "duration": 183,
    "start_time": "2022-06-19T13:37:24.378Z"
   },
   {
    "duration": 163,
    "start_time": "2022-06-19T13:37:24.563Z"
   },
   {
    "duration": 188,
    "start_time": "2022-06-19T13:37:24.728Z"
   },
   {
    "duration": 338,
    "start_time": "2022-06-19T13:37:24.918Z"
   },
   {
    "duration": 110,
    "start_time": "2022-06-19T13:37:25.259Z"
   },
   {
    "duration": 4,
    "start_time": "2022-06-19T13:37:25.370Z"
   },
   {
    "duration": 9,
    "start_time": "2022-06-19T13:37:25.376Z"
   },
   {
    "duration": 8,
    "start_time": "2022-06-19T13:37:25.387Z"
   },
   {
    "duration": 15,
    "start_time": "2022-06-19T13:37:25.397Z"
   },
   {
    "duration": 38,
    "start_time": "2022-06-19T13:37:25.442Z"
   },
   {
    "duration": 169,
    "start_time": "2022-06-19T13:37:25.482Z"
   },
   {
    "duration": 244,
    "start_time": "2022-06-19T13:37:25.655Z"
   },
   {
    "duration": 160,
    "start_time": "2022-06-19T13:37:25.900Z"
   },
   {
    "duration": 184,
    "start_time": "2022-06-19T13:37:26.062Z"
   },
   {
    "duration": 28,
    "start_time": "2022-06-19T13:37:26.247Z"
   },
   {
    "duration": 30,
    "start_time": "2022-06-19T13:37:26.277Z"
   },
   {
    "duration": 34,
    "start_time": "2022-06-19T13:37:26.308Z"
   },
   {
    "duration": 19,
    "start_time": "2022-06-19T13:37:26.344Z"
   },
   {
    "duration": 292,
    "start_time": "2022-06-19T13:37:26.365Z"
   },
   {
    "duration": 61,
    "start_time": "2022-06-19T14:10:45.451Z"
   },
   {
    "duration": 66,
    "start_time": "2022-06-19T14:11:00.221Z"
   },
   {
    "duration": 19,
    "start_time": "2022-06-19T14:14:39.084Z"
   },
   {
    "duration": 32,
    "start_time": "2022-06-19T14:14:40.008Z"
   },
   {
    "duration": 11,
    "start_time": "2022-06-19T14:14:40.230Z"
   },
   {
    "duration": 6,
    "start_time": "2022-06-19T14:14:40.465Z"
   },
   {
    "duration": 105,
    "start_time": "2022-06-19T14:14:40.703Z"
   },
   {
    "duration": 21,
    "start_time": "2022-06-19T14:14:41.611Z"
   },
   {
    "duration": 23,
    "start_time": "2022-06-19T14:14:41.808Z"
   },
   {
    "duration": 150,
    "start_time": "2022-06-19T14:15:35.250Z"
   },
   {
    "duration": 299,
    "start_time": "2022-06-19T14:15:53.555Z"
   },
   {
    "duration": 291,
    "start_time": "2022-06-19T14:16:55.351Z"
   },
   {
    "duration": 89,
    "start_time": "2022-06-19T14:16:56.051Z"
   },
   {
    "duration": 4,
    "start_time": "2022-06-19T14:16:56.349Z"
   },
   {
    "duration": 6,
    "start_time": "2022-06-19T14:16:56.846Z"
   },
   {
    "duration": 4,
    "start_time": "2022-06-19T14:16:57.250Z"
   },
   {
    "duration": 14,
    "start_time": "2022-06-19T14:16:57.591Z"
   },
   {
    "duration": 32,
    "start_time": "2022-06-19T14:16:57.949Z"
   },
   {
    "duration": 110,
    "start_time": "2022-06-19T14:17:20.853Z"
   },
   {
    "duration": 202,
    "start_time": "2022-06-19T14:17:42.564Z"
   },
   {
    "duration": 108,
    "start_time": "2022-06-19T14:17:49.717Z"
   },
   {
    "duration": 99,
    "start_time": "2022-06-19T14:18:12.051Z"
   },
   {
    "duration": 4,
    "start_time": "2022-06-19T14:18:17.066Z"
   },
   {
    "duration": 5,
    "start_time": "2022-06-19T14:18:17.410Z"
   },
   {
    "duration": 5,
    "start_time": "2022-06-19T14:18:17.801Z"
   },
   {
    "duration": 16,
    "start_time": "2022-06-19T14:18:18.064Z"
   },
   {
    "duration": 38,
    "start_time": "2022-06-19T14:18:19.301Z"
   },
   {
    "duration": 166,
    "start_time": "2022-06-19T14:18:21.767Z"
   },
   {
    "duration": 140,
    "start_time": "2022-06-19T14:18:52.543Z"
   },
   {
    "duration": 142,
    "start_time": "2022-06-19T14:18:53.252Z"
   },
   {
    "duration": 167,
    "start_time": "2022-06-19T14:18:53.521Z"
   },
   {
    "duration": 156,
    "start_time": "2022-06-19T14:18:53.863Z"
   },
   {
    "duration": 156,
    "start_time": "2022-06-19T14:19:38.648Z"
   },
   {
    "duration": 31,
    "start_time": "2022-06-19T14:19:57.149Z"
   },
   {
    "duration": 33,
    "start_time": "2022-06-19T14:19:58.048Z"
   },
   {
    "duration": 16,
    "start_time": "2022-06-19T14:19:58.309Z"
   },
   {
    "duration": 19,
    "start_time": "2022-06-19T14:20:05.105Z"
   },
   {
    "duration": 272,
    "start_time": "2022-06-19T14:20:05.421Z"
   },
   {
    "duration": 1260,
    "start_time": "2022-06-20T07:08:21.553Z"
   },
   {
    "duration": 4,
    "start_time": "2022-06-20T07:08:22.815Z"
   },
   {
    "duration": 172,
    "start_time": "2022-06-20T07:08:22.820Z"
   },
   {
    "duration": 22,
    "start_time": "2022-06-20T07:08:22.993Z"
   },
   {
    "duration": 32,
    "start_time": "2022-06-20T07:08:23.018Z"
   },
   {
    "duration": 107,
    "start_time": "2022-06-20T07:08:23.051Z"
   },
   {
    "duration": 0,
    "start_time": "2022-06-20T07:08:23.160Z"
   },
   {
    "duration": 1,
    "start_time": "2022-06-20T07:08:23.160Z"
   },
   {
    "duration": 0,
    "start_time": "2022-06-20T07:08:23.161Z"
   },
   {
    "duration": 0,
    "start_time": "2022-06-20T07:08:23.162Z"
   },
   {
    "duration": 0,
    "start_time": "2022-06-20T07:08:23.162Z"
   },
   {
    "duration": 1,
    "start_time": "2022-06-20T07:08:23.162Z"
   },
   {
    "duration": 0,
    "start_time": "2022-06-20T07:08:23.163Z"
   },
   {
    "duration": 0,
    "start_time": "2022-06-20T07:08:23.163Z"
   },
   {
    "duration": 0,
    "start_time": "2022-06-20T07:08:23.166Z"
   },
   {
    "duration": 0,
    "start_time": "2022-06-20T07:08:23.168Z"
   },
   {
    "duration": 0,
    "start_time": "2022-06-20T07:08:23.169Z"
   },
   {
    "duration": 0,
    "start_time": "2022-06-20T07:08:23.170Z"
   },
   {
    "duration": 0,
    "start_time": "2022-06-20T07:08:23.171Z"
   },
   {
    "duration": 0,
    "start_time": "2022-06-20T07:08:23.172Z"
   },
   {
    "duration": 0,
    "start_time": "2022-06-20T07:08:23.173Z"
   },
   {
    "duration": 0,
    "start_time": "2022-06-20T07:08:23.174Z"
   },
   {
    "duration": 0,
    "start_time": "2022-06-20T07:08:23.175Z"
   },
   {
    "duration": 0,
    "start_time": "2022-06-20T07:08:23.176Z"
   },
   {
    "duration": 0,
    "start_time": "2022-06-20T07:08:23.177Z"
   },
   {
    "duration": 0,
    "start_time": "2022-06-20T07:08:23.178Z"
   },
   {
    "duration": 0,
    "start_time": "2022-06-20T07:08:23.179Z"
   },
   {
    "duration": 0,
    "start_time": "2022-06-20T07:08:23.180Z"
   },
   {
    "duration": 0,
    "start_time": "2022-06-20T07:08:23.181Z"
   },
   {
    "duration": 0,
    "start_time": "2022-06-20T07:08:23.181Z"
   },
   {
    "duration": 0,
    "start_time": "2022-06-20T07:08:23.182Z"
   },
   {
    "duration": 0,
    "start_time": "2022-06-20T07:08:23.183Z"
   },
   {
    "duration": 0,
    "start_time": "2022-06-20T07:08:23.184Z"
   },
   {
    "duration": 0,
    "start_time": "2022-06-20T07:08:23.185Z"
   },
   {
    "duration": 0,
    "start_time": "2022-06-20T07:08:23.186Z"
   },
   {
    "duration": 0,
    "start_time": "2022-06-20T07:08:23.187Z"
   },
   {
    "duration": 0,
    "start_time": "2022-06-20T07:08:23.188Z"
   },
   {
    "duration": 14,
    "start_time": "2022-06-20T07:10:39.368Z"
   },
   {
    "duration": 30,
    "start_time": "2022-06-20T07:10:39.383Z"
   },
   {
    "duration": 11,
    "start_time": "2022-06-20T07:10:39.414Z"
   },
   {
    "duration": 4,
    "start_time": "2022-06-20T07:10:39.427Z"
   },
   {
    "duration": 142,
    "start_time": "2022-06-20T07:10:39.433Z"
   },
   {
    "duration": 26,
    "start_time": "2022-06-20T07:10:39.577Z"
   },
   {
    "duration": 19,
    "start_time": "2022-06-20T07:10:39.605Z"
   },
   {
    "duration": 190,
    "start_time": "2022-06-20T07:10:39.626Z"
   },
   {
    "duration": 159,
    "start_time": "2022-06-20T07:10:39.817Z"
   },
   {
    "duration": 172,
    "start_time": "2022-06-20T07:10:39.979Z"
   },
   {
    "duration": 173,
    "start_time": "2022-06-20T07:10:40.152Z"
   },
   {
    "duration": 154,
    "start_time": "2022-06-20T07:10:40.326Z"
   },
   {
    "duration": 147,
    "start_time": "2022-06-20T07:10:40.481Z"
   },
   {
    "duration": 17,
    "start_time": "2022-06-20T07:10:40.629Z"
   },
   {
    "duration": 0,
    "start_time": "2022-06-20T07:10:40.647Z"
   },
   {
    "duration": 0,
    "start_time": "2022-06-20T07:10:40.648Z"
   },
   {
    "duration": 0,
    "start_time": "2022-06-20T07:10:40.649Z"
   },
   {
    "duration": 0,
    "start_time": "2022-06-20T07:10:40.667Z"
   },
   {
    "duration": 0,
    "start_time": "2022-06-20T07:10:40.668Z"
   },
   {
    "duration": 0,
    "start_time": "2022-06-20T07:10:40.669Z"
   },
   {
    "duration": 0,
    "start_time": "2022-06-20T07:10:40.670Z"
   },
   {
    "duration": 0,
    "start_time": "2022-06-20T07:10:40.671Z"
   },
   {
    "duration": 0,
    "start_time": "2022-06-20T07:10:40.672Z"
   },
   {
    "duration": 0,
    "start_time": "2022-06-20T07:10:40.673Z"
   },
   {
    "duration": 0,
    "start_time": "2022-06-20T07:10:40.673Z"
   },
   {
    "duration": 0,
    "start_time": "2022-06-20T07:10:40.674Z"
   },
   {
    "duration": 0,
    "start_time": "2022-06-20T07:10:40.675Z"
   },
   {
    "duration": 0,
    "start_time": "2022-06-20T07:10:40.676Z"
   },
   {
    "duration": 0,
    "start_time": "2022-06-20T07:10:40.677Z"
   },
   {
    "duration": 0,
    "start_time": "2022-06-20T07:10:40.678Z"
   },
   {
    "duration": 0,
    "start_time": "2022-06-20T07:10:40.679Z"
   },
   {
    "duration": 1107,
    "start_time": "2022-06-20T07:11:45.153Z"
   },
   {
    "duration": 2,
    "start_time": "2022-06-20T07:11:46.262Z"
   },
   {
    "duration": 104,
    "start_time": "2022-06-20T07:11:46.266Z"
   },
   {
    "duration": 23,
    "start_time": "2022-06-20T07:11:46.372Z"
   },
   {
    "duration": 33,
    "start_time": "2022-06-20T07:11:46.397Z"
   },
   {
    "duration": 137,
    "start_time": "2022-06-20T07:11:46.431Z"
   },
   {
    "duration": 0,
    "start_time": "2022-06-20T07:11:46.570Z"
   },
   {
    "duration": 0,
    "start_time": "2022-06-20T07:11:46.571Z"
   },
   {
    "duration": 0,
    "start_time": "2022-06-20T07:11:46.573Z"
   },
   {
    "duration": 0,
    "start_time": "2022-06-20T07:11:46.574Z"
   },
   {
    "duration": 0,
    "start_time": "2022-06-20T07:11:46.575Z"
   },
   {
    "duration": 0,
    "start_time": "2022-06-20T07:11:46.576Z"
   },
   {
    "duration": 1,
    "start_time": "2022-06-20T07:11:46.577Z"
   },
   {
    "duration": 0,
    "start_time": "2022-06-20T07:11:46.578Z"
   },
   {
    "duration": 0,
    "start_time": "2022-06-20T07:11:46.579Z"
   },
   {
    "duration": 0,
    "start_time": "2022-06-20T07:11:46.580Z"
   },
   {
    "duration": 0,
    "start_time": "2022-06-20T07:11:46.581Z"
   },
   {
    "duration": 0,
    "start_time": "2022-06-20T07:11:46.582Z"
   },
   {
    "duration": 0,
    "start_time": "2022-06-20T07:11:46.583Z"
   },
   {
    "duration": 0,
    "start_time": "2022-06-20T07:11:46.584Z"
   },
   {
    "duration": 0,
    "start_time": "2022-06-20T07:11:46.585Z"
   },
   {
    "duration": 0,
    "start_time": "2022-06-20T07:11:46.586Z"
   },
   {
    "duration": 0,
    "start_time": "2022-06-20T07:11:46.587Z"
   },
   {
    "duration": 0,
    "start_time": "2022-06-20T07:11:46.588Z"
   },
   {
    "duration": 0,
    "start_time": "2022-06-20T07:11:46.589Z"
   },
   {
    "duration": 0,
    "start_time": "2022-06-20T07:11:46.590Z"
   },
   {
    "duration": 0,
    "start_time": "2022-06-20T07:11:46.591Z"
   },
   {
    "duration": 0,
    "start_time": "2022-06-20T07:11:46.592Z"
   },
   {
    "duration": 0,
    "start_time": "2022-06-20T07:11:46.593Z"
   },
   {
    "duration": 0,
    "start_time": "2022-06-20T07:11:46.593Z"
   },
   {
    "duration": 0,
    "start_time": "2022-06-20T07:11:46.594Z"
   },
   {
    "duration": 0,
    "start_time": "2022-06-20T07:11:46.595Z"
   },
   {
    "duration": 0,
    "start_time": "2022-06-20T07:11:46.596Z"
   },
   {
    "duration": 0,
    "start_time": "2022-06-20T07:11:46.597Z"
   },
   {
    "duration": 0,
    "start_time": "2022-06-20T07:11:46.598Z"
   },
   {
    "duration": 0,
    "start_time": "2022-06-20T07:11:46.599Z"
   },
   {
    "duration": 0,
    "start_time": "2022-06-20T07:11:46.600Z"
   },
   {
    "duration": 33,
    "start_time": "2022-06-20T07:12:01.969Z"
   },
   {
    "duration": 80,
    "start_time": "2022-06-20T07:15:27.403Z"
   },
   {
    "duration": 14,
    "start_time": "2022-06-20T07:18:36.187Z"
   },
   {
    "duration": 28,
    "start_time": "2022-06-20T07:18:36.203Z"
   },
   {
    "duration": 12,
    "start_time": "2022-06-20T07:18:36.232Z"
   },
   {
    "duration": 4,
    "start_time": "2022-06-20T07:18:36.246Z"
   },
   {
    "duration": 132,
    "start_time": "2022-06-20T07:18:36.252Z"
   },
   {
    "duration": 22,
    "start_time": "2022-06-20T07:18:36.386Z"
   },
   {
    "duration": 20,
    "start_time": "2022-06-20T07:18:36.410Z"
   },
   {
    "duration": 196,
    "start_time": "2022-06-20T07:18:36.431Z"
   },
   {
    "duration": 152,
    "start_time": "2022-06-20T07:18:36.629Z"
   },
   {
    "duration": 166,
    "start_time": "2022-06-20T07:18:36.783Z"
   },
   {
    "duration": 164,
    "start_time": "2022-06-20T07:18:36.951Z"
   },
   {
    "duration": 166,
    "start_time": "2022-06-20T07:18:37.116Z"
   },
   {
    "duration": 140,
    "start_time": "2022-06-20T07:18:37.284Z"
   },
   {
    "duration": 16,
    "start_time": "2022-06-20T07:18:37.426Z"
   },
   {
    "duration": 0,
    "start_time": "2022-06-20T07:18:37.443Z"
   },
   {
    "duration": 0,
    "start_time": "2022-06-20T07:18:37.444Z"
   },
   {
    "duration": 0,
    "start_time": "2022-06-20T07:18:37.445Z"
   },
   {
    "duration": 0,
    "start_time": "2022-06-20T07:18:37.447Z"
   },
   {
    "duration": 0,
    "start_time": "2022-06-20T07:18:37.448Z"
   },
   {
    "duration": 0,
    "start_time": "2022-06-20T07:18:37.467Z"
   },
   {
    "duration": 0,
    "start_time": "2022-06-20T07:18:37.468Z"
   },
   {
    "duration": 0,
    "start_time": "2022-06-20T07:18:37.469Z"
   },
   {
    "duration": 0,
    "start_time": "2022-06-20T07:18:37.471Z"
   },
   {
    "duration": 0,
    "start_time": "2022-06-20T07:18:37.472Z"
   },
   {
    "duration": 0,
    "start_time": "2022-06-20T07:18:37.473Z"
   },
   {
    "duration": 0,
    "start_time": "2022-06-20T07:18:37.474Z"
   },
   {
    "duration": 0,
    "start_time": "2022-06-20T07:18:37.476Z"
   },
   {
    "duration": 0,
    "start_time": "2022-06-20T07:18:37.477Z"
   },
   {
    "duration": 0,
    "start_time": "2022-06-20T07:18:37.478Z"
   },
   {
    "duration": 0,
    "start_time": "2022-06-20T07:18:37.479Z"
   },
   {
    "duration": 0,
    "start_time": "2022-06-20T07:18:37.481Z"
   },
   {
    "duration": 119,
    "start_time": "2022-06-20T07:26:29.701Z"
   },
   {
    "duration": 0,
    "start_time": "2022-06-20T07:26:29.823Z"
   },
   {
    "duration": 0,
    "start_time": "2022-06-20T07:26:29.824Z"
   },
   {
    "duration": 0,
    "start_time": "2022-06-20T07:26:29.826Z"
   },
   {
    "duration": 0,
    "start_time": "2022-06-20T07:26:29.827Z"
   },
   {
    "duration": 0,
    "start_time": "2022-06-20T07:26:29.828Z"
   },
   {
    "duration": 0,
    "start_time": "2022-06-20T07:26:29.830Z"
   },
   {
    "duration": 0,
    "start_time": "2022-06-20T07:26:29.831Z"
   },
   {
    "duration": 0,
    "start_time": "2022-06-20T07:26:29.833Z"
   },
   {
    "duration": 0,
    "start_time": "2022-06-20T07:26:29.834Z"
   },
   {
    "duration": 0,
    "start_time": "2022-06-20T07:26:29.836Z"
   },
   {
    "duration": 0,
    "start_time": "2022-06-20T07:26:29.837Z"
   },
   {
    "duration": 0,
    "start_time": "2022-06-20T07:26:29.868Z"
   },
   {
    "duration": 0,
    "start_time": "2022-06-20T07:26:29.870Z"
   },
   {
    "duration": 0,
    "start_time": "2022-06-20T07:26:29.871Z"
   },
   {
    "duration": 0,
    "start_time": "2022-06-20T07:26:29.873Z"
   },
   {
    "duration": 0,
    "start_time": "2022-06-20T07:26:29.874Z"
   },
   {
    "duration": 86,
    "start_time": "2022-06-20T07:26:45.804Z"
   },
   {
    "duration": 103,
    "start_time": "2022-06-20T07:26:50.223Z"
   },
   {
    "duration": 6,
    "start_time": "2022-06-20T07:26:50.328Z"
   },
   {
    "duration": 15,
    "start_time": "2022-06-20T07:26:50.336Z"
   },
   {
    "duration": 26,
    "start_time": "2022-06-20T07:26:50.353Z"
   },
   {
    "duration": 18,
    "start_time": "2022-06-20T07:26:50.381Z"
   },
   {
    "duration": 119,
    "start_time": "2022-06-20T07:26:50.401Z"
   },
   {
    "duration": 155,
    "start_time": "2022-06-20T07:26:50.522Z"
   },
   {
    "duration": 161,
    "start_time": "2022-06-20T07:26:50.679Z"
   },
   {
    "duration": 159,
    "start_time": "2022-06-20T07:26:50.842Z"
   },
   {
    "duration": 180,
    "start_time": "2022-06-20T07:26:51.003Z"
   },
   {
    "duration": 14,
    "start_time": "2022-06-20T07:26:51.184Z"
   },
   {
    "duration": 0,
    "start_time": "2022-06-20T07:26:51.200Z"
   },
   {
    "duration": 0,
    "start_time": "2022-06-20T07:26:51.201Z"
   },
   {
    "duration": 0,
    "start_time": "2022-06-20T07:26:51.202Z"
   },
   {
    "duration": 0,
    "start_time": "2022-06-20T07:26:51.203Z"
   },
   {
    "duration": 0,
    "start_time": "2022-06-20T07:26:51.204Z"
   },
   {
    "duration": 59,
    "start_time": "2022-06-20T07:26:59.445Z"
   },
   {
    "duration": 59,
    "start_time": "2022-06-20T07:27:05.329Z"
   },
   {
    "duration": 15,
    "start_time": "2022-06-20T07:27:05.390Z"
   },
   {
    "duration": 29,
    "start_time": "2022-06-20T07:27:05.407Z"
   },
   {
    "duration": 34,
    "start_time": "2022-06-20T07:27:05.438Z"
   },
   {
    "duration": 6,
    "start_time": "2022-06-20T07:27:05.474Z"
   },
   {
    "duration": 112,
    "start_time": "2022-06-20T07:27:05.482Z"
   },
   {
    "duration": 22,
    "start_time": "2022-06-20T07:27:05.596Z"
   },
   {
    "duration": 24,
    "start_time": "2022-06-20T07:27:05.619Z"
   },
   {
    "duration": 150,
    "start_time": "2022-06-20T07:27:05.667Z"
   },
   {
    "duration": 159,
    "start_time": "2022-06-20T07:27:05.819Z"
   },
   {
    "duration": 161,
    "start_time": "2022-06-20T07:27:05.980Z"
   },
   {
    "duration": 166,
    "start_time": "2022-06-20T07:27:06.143Z"
   },
   {
    "duration": 153,
    "start_time": "2022-06-20T07:27:06.310Z"
   },
   {
    "duration": 171,
    "start_time": "2022-06-20T07:27:06.468Z"
   },
   {
    "duration": 239,
    "start_time": "2022-06-20T07:27:06.641Z"
   },
   {
    "duration": 297,
    "start_time": "2022-06-20T07:27:06.881Z"
   },
   {
    "duration": 92,
    "start_time": "2022-06-20T07:27:07.179Z"
   },
   {
    "duration": 4,
    "start_time": "2022-06-20T07:27:07.273Z"
   },
   {
    "duration": 11,
    "start_time": "2022-06-20T07:27:07.279Z"
   },
   {
    "duration": 8,
    "start_time": "2022-06-20T07:27:07.292Z"
   },
   {
    "duration": 14,
    "start_time": "2022-06-20T07:27:07.301Z"
   },
   {
    "duration": 52,
    "start_time": "2022-06-20T07:27:07.317Z"
   },
   {
    "duration": 160,
    "start_time": "2022-06-20T07:27:07.370Z"
   },
   {
    "duration": 148,
    "start_time": "2022-06-20T07:27:07.532Z"
   },
   {
    "duration": 162,
    "start_time": "2022-06-20T07:27:07.681Z"
   },
   {
    "duration": 163,
    "start_time": "2022-06-20T07:27:07.845Z"
   },
   {
    "duration": 170,
    "start_time": "2022-06-20T07:27:08.010Z"
   },
   {
    "duration": 29,
    "start_time": "2022-06-20T07:27:08.182Z"
   },
   {
    "duration": 27,
    "start_time": "2022-06-20T07:27:08.213Z"
   },
   {
    "duration": 31,
    "start_time": "2022-06-20T07:27:08.242Z"
   },
   {
    "duration": 18,
    "start_time": "2022-06-20T07:27:08.275Z"
   },
   {
    "duration": 305,
    "start_time": "2022-06-20T07:27:08.294Z"
   },
   {
    "duration": 136,
    "start_time": "2022-06-20T07:33:38.686Z"
   },
   {
    "duration": 1360,
    "start_time": "2022-06-20T16:01:58.941Z"
   },
   {
    "duration": 4,
    "start_time": "2022-06-20T16:02:00.303Z"
   },
   {
    "duration": 624,
    "start_time": "2022-06-20T16:02:00.308Z"
   },
   {
    "duration": 24,
    "start_time": "2022-06-20T16:02:00.934Z"
   },
   {
    "duration": 64,
    "start_time": "2022-06-20T16:02:00.961Z"
   },
   {
    "duration": 152,
    "start_time": "2022-06-20T16:02:01.027Z"
   },
   {
    "duration": 0,
    "start_time": "2022-06-20T16:02:01.181Z"
   },
   {
    "duration": 0,
    "start_time": "2022-06-20T16:02:01.183Z"
   },
   {
    "duration": 0,
    "start_time": "2022-06-20T16:02:01.184Z"
   },
   {
    "duration": 0,
    "start_time": "2022-06-20T16:02:01.185Z"
   },
   {
    "duration": 0,
    "start_time": "2022-06-20T16:02:01.186Z"
   },
   {
    "duration": 0,
    "start_time": "2022-06-20T16:02:01.187Z"
   },
   {
    "duration": 0,
    "start_time": "2022-06-20T16:02:01.189Z"
   },
   {
    "duration": 0,
    "start_time": "2022-06-20T16:02:01.189Z"
   },
   {
    "duration": 0,
    "start_time": "2022-06-20T16:02:01.191Z"
   },
   {
    "duration": 0,
    "start_time": "2022-06-20T16:02:01.192Z"
   },
   {
    "duration": 0,
    "start_time": "2022-06-20T16:02:01.193Z"
   },
   {
    "duration": 0,
    "start_time": "2022-06-20T16:02:01.194Z"
   },
   {
    "duration": 0,
    "start_time": "2022-06-20T16:02:01.195Z"
   },
   {
    "duration": 0,
    "start_time": "2022-06-20T16:02:01.197Z"
   },
   {
    "duration": 0,
    "start_time": "2022-06-20T16:02:01.226Z"
   },
   {
    "duration": 0,
    "start_time": "2022-06-20T16:02:01.228Z"
   },
   {
    "duration": 0,
    "start_time": "2022-06-20T16:02:01.230Z"
   },
   {
    "duration": 0,
    "start_time": "2022-06-20T16:02:01.231Z"
   },
   {
    "duration": 0,
    "start_time": "2022-06-20T16:02:01.232Z"
   },
   {
    "duration": 0,
    "start_time": "2022-06-20T16:02:01.234Z"
   },
   {
    "duration": 0,
    "start_time": "2022-06-20T16:02:01.237Z"
   },
   {
    "duration": 0,
    "start_time": "2022-06-20T16:02:01.238Z"
   },
   {
    "duration": 0,
    "start_time": "2022-06-20T16:02:01.240Z"
   },
   {
    "duration": 0,
    "start_time": "2022-06-20T16:02:01.241Z"
   },
   {
    "duration": 0,
    "start_time": "2022-06-20T16:02:01.242Z"
   },
   {
    "duration": 0,
    "start_time": "2022-06-20T16:02:01.243Z"
   },
   {
    "duration": 0,
    "start_time": "2022-06-20T16:02:01.244Z"
   },
   {
    "duration": 0,
    "start_time": "2022-06-20T16:02:01.245Z"
   },
   {
    "duration": 0,
    "start_time": "2022-06-20T16:02:01.246Z"
   },
   {
    "duration": 0,
    "start_time": "2022-06-20T16:02:01.248Z"
   },
   {
    "duration": 0,
    "start_time": "2022-06-20T16:02:01.249Z"
   },
   {
    "duration": 2,
    "start_time": "2022-06-20T16:02:08.629Z"
   },
   {
    "duration": 3,
    "start_time": "2022-06-20T16:02:09.460Z"
   },
   {
    "duration": 90,
    "start_time": "2022-06-20T16:02:10.471Z"
   },
   {
    "duration": 22,
    "start_time": "2022-06-20T16:02:11.996Z"
   },
   {
    "duration": 43,
    "start_time": "2022-06-20T16:02:12.903Z"
   },
   {
    "duration": 45,
    "start_time": "2022-06-20T16:04:31.674Z"
   },
   {
    "duration": 31,
    "start_time": "2022-06-20T16:05:32.486Z"
   },
   {
    "duration": 15,
    "start_time": "2022-06-20T16:05:33.337Z"
   },
   {
    "duration": 103,
    "start_time": "2022-06-20T16:05:38.738Z"
   },
   {
    "duration": 13,
    "start_time": "2022-06-20T16:07:05.771Z"
   },
   {
    "duration": 103,
    "start_time": "2022-06-20T16:07:08.698Z"
   },
   {
    "duration": 1145,
    "start_time": "2022-06-20T16:10:24.203Z"
   },
   {
    "duration": 11,
    "start_time": "2022-06-20T16:10:25.352Z"
   },
   {
    "duration": 132,
    "start_time": "2022-06-20T16:10:25.364Z"
   },
   {
    "duration": 30,
    "start_time": "2022-06-20T16:10:26.561Z"
   },
   {
    "duration": 33,
    "start_time": "2022-06-20T16:10:26.801Z"
   },
   {
    "duration": 44,
    "start_time": "2022-06-20T16:10:28.998Z"
   },
   {
    "duration": 13,
    "start_time": "2022-06-20T16:10:30.147Z"
   },
   {
    "duration": 55,
    "start_time": "2022-06-20T16:10:31.129Z"
   },
   {
    "duration": 14,
    "start_time": "2022-06-20T16:12:56.958Z"
   },
   {
    "duration": 108,
    "start_time": "2022-06-20T16:13:02.345Z"
   },
   {
    "duration": 24,
    "start_time": "2022-06-20T16:13:09.078Z"
   },
   {
    "duration": 10,
    "start_time": "2022-06-20T16:13:09.325Z"
   },
   {
    "duration": 29,
    "start_time": "2022-06-20T16:13:09.730Z"
   },
   {
    "duration": 15,
    "start_time": "2022-06-20T16:13:39.571Z"
   },
   {
    "duration": 1375,
    "start_time": "2022-06-20T16:14:04.452Z"
   },
   {
    "duration": 3,
    "start_time": "2022-06-20T16:14:05.829Z"
   },
   {
    "duration": 148,
    "start_time": "2022-06-20T16:14:05.834Z"
   },
   {
    "duration": 28,
    "start_time": "2022-06-20T16:14:06.764Z"
   },
   {
    "duration": 51,
    "start_time": "2022-06-20T16:14:07.057Z"
   },
   {
    "duration": 51,
    "start_time": "2022-06-20T16:14:10.582Z"
   },
   {
    "duration": 16,
    "start_time": "2022-06-20T16:14:11.136Z"
   },
   {
    "duration": 84,
    "start_time": "2022-06-20T16:14:13.181Z"
   },
   {
    "duration": 18,
    "start_time": "2022-06-20T16:14:21.366Z"
   },
   {
    "duration": 1467,
    "start_time": "2022-06-20T16:14:22.234Z"
   },
   {
    "duration": 0,
    "start_time": "2022-06-20T16:14:23.703Z"
   },
   {
    "duration": 22,
    "start_time": "2022-06-20T16:14:23.779Z"
   },
   {
    "duration": 28,
    "start_time": "2022-06-20T16:14:24.225Z"
   },
   {
    "duration": 179,
    "start_time": "2022-06-20T16:14:27.094Z"
   },
   {
    "duration": 139,
    "start_time": "2022-06-20T16:14:27.592Z"
   },
   {
    "duration": 24,
    "start_time": "2022-06-20T16:14:27.937Z"
   },
   {
    "duration": 158,
    "start_time": "2022-06-20T16:14:28.347Z"
   },
   {
    "duration": 197,
    "start_time": "2022-06-20T16:14:28.587Z"
   },
   {
    "duration": 252,
    "start_time": "2022-06-20T16:15:16.039Z"
   },
   {
    "duration": 207,
    "start_time": "2022-06-20T16:15:16.641Z"
   },
   {
    "duration": 224,
    "start_time": "2022-06-20T16:16:38.085Z"
   },
   {
    "duration": 21,
    "start_time": "2022-06-20T16:17:06.759Z"
   },
   {
    "duration": 196,
    "start_time": "2022-06-20T16:17:14.125Z"
   },
   {
    "duration": 182,
    "start_time": "2022-06-20T16:18:28.057Z"
   },
   {
    "duration": 276,
    "start_time": "2022-06-20T16:18:39.103Z"
   },
   {
    "duration": 259,
    "start_time": "2022-06-20T16:18:51.388Z"
   },
   {
    "duration": 215,
    "start_time": "2022-06-20T16:21:03.140Z"
   },
   {
    "duration": 226,
    "start_time": "2022-06-20T16:21:17.656Z"
   },
   {
    "duration": 228,
    "start_time": "2022-06-20T16:21:29.927Z"
   },
   {
    "duration": 1491,
    "start_time": "2022-06-20T16:24:42.662Z"
   },
   {
    "duration": 1482,
    "start_time": "2022-06-20T16:24:59.177Z"
   },
   {
    "duration": 154,
    "start_time": "2022-06-20T16:25:15.007Z"
   },
   {
    "duration": 172,
    "start_time": "2022-06-20T16:25:25.447Z"
   },
   {
    "duration": 126,
    "start_time": "2022-06-20T16:25:44.277Z"
   },
   {
    "duration": 122,
    "start_time": "2022-06-20T16:25:56.233Z"
   },
   {
    "duration": 151,
    "start_time": "2022-06-20T16:26:05.752Z"
   },
   {
    "duration": 157,
    "start_time": "2022-06-20T16:26:18.542Z"
   },
   {
    "duration": 188,
    "start_time": "2022-06-20T16:26:19.197Z"
   },
   {
    "duration": 108,
    "start_time": "2022-06-20T16:26:41.424Z"
   },
   {
    "duration": 367,
    "start_time": "2022-06-20T16:27:09.429Z"
   },
   {
    "duration": 92,
    "start_time": "2022-06-20T16:27:14.796Z"
   },
   {
    "duration": 4,
    "start_time": "2022-06-20T16:27:16.227Z"
   },
   {
    "duration": 5,
    "start_time": "2022-06-20T16:27:16.656Z"
   },
   {
    "duration": 5,
    "start_time": "2022-06-20T16:27:17.076Z"
   },
   {
    "duration": 20,
    "start_time": "2022-06-20T16:27:17.721Z"
   },
   {
    "duration": 16,
    "start_time": "2022-06-20T16:27:18.089Z"
   },
   {
    "duration": 33,
    "start_time": "2022-06-20T16:28:01.761Z"
   },
   {
    "duration": 149,
    "start_time": "2022-06-20T16:28:21.754Z"
   },
   {
    "duration": 148,
    "start_time": "2022-06-20T16:28:23.376Z"
   },
   {
    "duration": 13,
    "start_time": "2022-06-20T16:28:24.287Z"
   },
   {
    "duration": 191,
    "start_time": "2022-06-20T16:28:24.578Z"
   },
   {
    "duration": 166,
    "start_time": "2022-06-20T16:28:24.938Z"
   },
   {
    "duration": 37,
    "start_time": "2022-06-20T16:28:26.664Z"
   },
   {
    "duration": 37,
    "start_time": "2022-06-20T16:28:31.572Z"
   },
   {
    "duration": 15,
    "start_time": "2022-06-20T16:28:32.380Z"
   },
   {
    "duration": 27,
    "start_time": "2022-06-20T16:28:34.934Z"
   },
   {
    "duration": 376,
    "start_time": "2022-06-20T16:28:35.629Z"
   },
   {
    "duration": 178,
    "start_time": "2022-06-20T16:28:54.870Z"
   },
   {
    "duration": 471,
    "start_time": "2022-06-20T16:31:05.744Z"
   },
   {
    "duration": 1489,
    "start_time": "2022-06-20T16:36:18.781Z"
   },
   {
    "duration": 3,
    "start_time": "2022-06-20T16:36:20.273Z"
   },
   {
    "duration": 130,
    "start_time": "2022-06-20T16:36:21.038Z"
   },
   {
    "duration": 36,
    "start_time": "2022-06-20T16:36:22.394Z"
   },
   {
    "duration": 58,
    "start_time": "2022-06-20T16:36:22.719Z"
   },
   {
    "duration": 50,
    "start_time": "2022-06-20T16:36:26.366Z"
   },
   {
    "duration": 16,
    "start_time": "2022-06-20T16:36:26.670Z"
   },
   {
    "duration": 88,
    "start_time": "2022-06-20T16:36:27.755Z"
   },
   {
    "duration": 22,
    "start_time": "2022-06-20T16:36:29.810Z"
   },
   {
    "duration": 1943,
    "start_time": "2022-06-20T16:36:30.906Z"
   },
   {
    "duration": 0,
    "start_time": "2022-06-20T16:36:32.852Z"
   },
   {
    "duration": 7,
    "start_time": "2022-06-20T16:36:49.178Z"
   },
   {
    "duration": 164,
    "start_time": "2022-06-20T16:36:50.690Z"
   },
   {
    "duration": 33,
    "start_time": "2022-06-20T16:37:02.087Z"
   },
   {
    "duration": 30,
    "start_time": "2022-06-20T16:37:02.877Z"
   },
   {
    "duration": 237,
    "start_time": "2022-06-20T16:37:05.443Z"
   },
   {
    "duration": 220,
    "start_time": "2022-06-20T16:37:05.849Z"
   },
   {
    "duration": 255,
    "start_time": "2022-06-20T16:37:06.678Z"
   },
   {
    "duration": 268,
    "start_time": "2022-06-20T16:37:07.521Z"
   },
   {
    "duration": 243,
    "start_time": "2022-06-20T16:37:08.100Z"
   },
   {
    "duration": 259,
    "start_time": "2022-06-20T16:37:08.650Z"
   },
   {
    "duration": 197,
    "start_time": "2022-06-20T16:37:09.753Z"
   },
   {
    "duration": 509,
    "start_time": "2022-06-20T16:37:13.416Z"
   },
   {
    "duration": 100,
    "start_time": "2022-06-20T16:37:32.154Z"
   },
   {
    "duration": 6,
    "start_time": "2022-06-20T16:37:33.289Z"
   },
   {
    "duration": 6,
    "start_time": "2022-06-20T16:37:33.687Z"
   },
   {
    "duration": 6,
    "start_time": "2022-06-20T16:37:34.319Z"
   },
   {
    "duration": 22,
    "start_time": "2022-06-20T16:37:34.718Z"
   },
   {
    "duration": 146,
    "start_time": "2022-06-20T16:37:35.524Z"
   },
   {
    "duration": 205,
    "start_time": "2022-06-20T16:37:37.745Z"
   },
   {
    "duration": 235,
    "start_time": "2022-06-20T16:37:42.117Z"
   },
   {
    "duration": 222,
    "start_time": "2022-06-20T16:37:42.861Z"
   },
   {
    "duration": 204,
    "start_time": "2022-06-20T16:37:43.126Z"
   },
   {
    "duration": 45,
    "start_time": "2022-06-20T16:37:45.212Z"
   },
   {
    "duration": 41,
    "start_time": "2022-06-20T16:37:47.072Z"
   },
   {
    "duration": 17,
    "start_time": "2022-06-20T16:37:47.887Z"
   },
   {
    "duration": 32,
    "start_time": "2022-06-20T16:37:50.848Z"
   },
   {
    "duration": 84,
    "start_time": "2022-06-20T16:39:05.868Z"
   },
   {
    "duration": 1410,
    "start_time": "2022-06-20T16:39:17.415Z"
   },
   {
    "duration": 4,
    "start_time": "2022-06-20T16:39:18.828Z"
   },
   {
    "duration": 138,
    "start_time": "2022-06-20T16:39:18.835Z"
   },
   {
    "duration": 38,
    "start_time": "2022-06-20T16:39:20.337Z"
   },
   {
    "duration": 54,
    "start_time": "2022-06-20T16:39:21.617Z"
   },
   {
    "duration": 47,
    "start_time": "2022-06-20T16:39:25.631Z"
   },
   {
    "duration": 17,
    "start_time": "2022-06-20T16:39:26.474Z"
   },
   {
    "duration": 66,
    "start_time": "2022-06-20T16:39:27.643Z"
   },
   {
    "duration": 27,
    "start_time": "2022-06-20T16:39:29.984Z"
   },
   {
    "duration": 7,
    "start_time": "2022-06-20T16:39:31.043Z"
   },
   {
    "duration": 173,
    "start_time": "2022-06-20T16:39:31.830Z"
   },
   {
    "duration": 32,
    "start_time": "2022-06-20T16:39:33.344Z"
   },
   {
    "duration": 32,
    "start_time": "2022-06-20T16:39:34.142Z"
   },
   {
    "duration": 242,
    "start_time": "2022-06-20T16:39:36.971Z"
   },
   {
    "duration": 212,
    "start_time": "2022-06-20T16:39:37.893Z"
   },
   {
    "duration": 235,
    "start_time": "2022-06-20T16:39:38.778Z"
   },
   {
    "duration": 286,
    "start_time": "2022-06-20T16:39:39.350Z"
   },
   {
    "duration": 220,
    "start_time": "2022-06-20T16:39:39.929Z"
   },
   {
    "duration": 232,
    "start_time": "2022-06-20T16:39:40.517Z"
   },
   {
    "duration": 217,
    "start_time": "2022-06-20T16:39:40.894Z"
   },
   {
    "duration": 459,
    "start_time": "2022-06-20T16:39:43.391Z"
   },
   {
    "duration": 163,
    "start_time": "2022-06-20T16:39:45.028Z"
   },
   {
    "duration": 7,
    "start_time": "2022-06-20T16:39:45.967Z"
   },
   {
    "duration": 5,
    "start_time": "2022-06-20T16:39:46.527Z"
   },
   {
    "duration": 7,
    "start_time": "2022-06-20T16:39:47.217Z"
   },
   {
    "duration": 21,
    "start_time": "2022-06-20T16:39:47.876Z"
   },
   {
    "duration": 140,
    "start_time": "2022-06-20T16:39:48.493Z"
   },
   {
    "duration": 210,
    "start_time": "2022-06-20T16:39:50.323Z"
   },
   {
    "duration": 244,
    "start_time": "2022-06-20T16:39:54.220Z"
   },
   {
    "duration": 234,
    "start_time": "2022-06-20T16:40:01.267Z"
   },
   {
    "duration": 209,
    "start_time": "2022-06-20T16:40:05.150Z"
   },
   {
    "duration": 42,
    "start_time": "2022-06-20T16:40:06.514Z"
   },
   {
    "duration": 40,
    "start_time": "2022-06-20T16:40:10.816Z"
   },
   {
    "duration": 16,
    "start_time": "2022-06-20T16:40:11.600Z"
   },
   {
    "duration": 35,
    "start_time": "2022-06-20T16:40:13.528Z"
   },
   {
    "duration": 393,
    "start_time": "2022-06-20T16:41:10.293Z"
   },
   {
    "duration": 389,
    "start_time": "2022-06-20T16:41:49.822Z"
   },
   {
    "duration": 453,
    "start_time": "2022-06-20T16:42:10.349Z"
   },
   {
    "duration": 469,
    "start_time": "2022-06-20T16:50:00.352Z"
   },
   {
    "duration": 449,
    "start_time": "2022-06-20T16:50:37.424Z"
   },
   {
    "duration": 1936,
    "start_time": "2022-06-20T16:50:55.082Z"
   },
   {
    "duration": 405,
    "start_time": "2022-06-20T16:51:15.162Z"
   },
   {
    "duration": 429,
    "start_time": "2022-06-20T16:52:31.335Z"
   },
   {
    "duration": 251,
    "start_time": "2022-06-20T16:52:45.827Z"
   },
   {
    "duration": 313,
    "start_time": "2022-06-20T16:55:29.969Z"
   },
   {
    "duration": 172,
    "start_time": "2022-06-20T16:56:09.035Z"
   },
   {
    "duration": 1445,
    "start_time": "2022-06-20T16:56:57.082Z"
   },
   {
    "duration": 1580,
    "start_time": "2022-06-20T16:57:08.946Z"
   },
   {
    "duration": 223,
    "start_time": "2022-06-20T16:57:18.589Z"
   },
   {
    "duration": 151,
    "start_time": "2022-06-20T16:57:34.355Z"
   },
   {
    "duration": 14,
    "start_time": "2022-06-20T16:59:29.543Z"
   },
   {
    "duration": 158,
    "start_time": "2022-06-20T16:59:44.620Z"
   },
   {
    "duration": 154,
    "start_time": "2022-06-20T17:00:00.940Z"
   },
   {
    "duration": 180,
    "start_time": "2022-06-20T17:00:11.149Z"
   },
   {
    "duration": 2033,
    "start_time": "2022-06-20T17:00:22.028Z"
   },
   {
    "duration": 146,
    "start_time": "2022-06-20T17:00:34.055Z"
   },
   {
    "duration": 158,
    "start_time": "2022-06-20T17:00:34.203Z"
   },
   {
    "duration": 161,
    "start_time": "2022-06-20T17:00:55.366Z"
   },
   {
    "duration": 171,
    "start_time": "2022-06-20T17:01:17.221Z"
   },
   {
    "duration": 166,
    "start_time": "2022-06-20T17:01:25.147Z"
   },
   {
    "duration": 1252,
    "start_time": "2022-06-20T17:01:33.828Z"
   },
   {
    "duration": 57,
    "start_time": "2022-06-20T17:01:43.831Z"
   },
   {
    "duration": 181,
    "start_time": "2022-06-20T17:02:38.225Z"
   },
   {
    "duration": 157,
    "start_time": "2022-06-20T17:02:58.581Z"
   },
   {
    "duration": 166,
    "start_time": "2022-06-20T17:03:58.118Z"
   },
   {
    "duration": 159,
    "start_time": "2022-06-20T17:04:09.357Z"
   },
   {
    "duration": 153,
    "start_time": "2022-06-20T17:04:35.287Z"
   },
   {
    "duration": 142,
    "start_time": "2022-06-20T17:04:36.041Z"
   },
   {
    "duration": 35,
    "start_time": "2022-06-20T17:04:44.626Z"
   },
   {
    "duration": 36,
    "start_time": "2022-06-20T17:04:45.022Z"
   },
   {
    "duration": 13,
    "start_time": "2022-06-20T17:04:45.222Z"
   },
   {
    "duration": 26,
    "start_time": "2022-06-20T17:04:46.081Z"
   },
   {
    "duration": 307,
    "start_time": "2022-06-20T17:04:46.322Z"
   },
   {
    "duration": 1287,
    "start_time": "2022-06-20T21:55:21.211Z"
   },
   {
    "duration": 3,
    "start_time": "2022-06-20T21:55:22.500Z"
   },
   {
    "duration": 180,
    "start_time": "2022-06-20T21:55:22.504Z"
   },
   {
    "duration": 25,
    "start_time": "2022-06-20T21:55:22.686Z"
   },
   {
    "duration": 37,
    "start_time": "2022-06-20T21:55:22.712Z"
   },
   {
    "duration": 33,
    "start_time": "2022-06-20T21:55:22.750Z"
   },
   {
    "duration": 12,
    "start_time": "2022-06-20T21:55:22.785Z"
   },
   {
    "duration": 83,
    "start_time": "2022-06-20T21:55:22.799Z"
   },
   {
    "duration": 16,
    "start_time": "2022-06-20T21:55:22.884Z"
   },
   {
    "duration": 27,
    "start_time": "2022-06-20T21:55:22.903Z"
   },
   {
    "duration": 119,
    "start_time": "2022-06-20T21:55:22.932Z"
   },
   {
    "duration": 22,
    "start_time": "2022-06-20T21:55:23.052Z"
   },
   {
    "duration": 18,
    "start_time": "2022-06-20T21:55:23.076Z"
   },
   {
    "duration": 188,
    "start_time": "2022-06-20T21:55:23.096Z"
   },
   {
    "duration": 149,
    "start_time": "2022-06-20T21:55:23.286Z"
   },
   {
    "duration": 164,
    "start_time": "2022-06-20T21:55:23.437Z"
   },
   {
    "duration": 170,
    "start_time": "2022-06-20T21:55:23.603Z"
   },
   {
    "duration": 153,
    "start_time": "2022-06-20T21:55:23.775Z"
   },
   {
    "duration": 165,
    "start_time": "2022-06-20T21:55:23.930Z"
   },
   {
    "duration": 150,
    "start_time": "2022-06-20T21:55:24.097Z"
   },
   {
    "duration": 312,
    "start_time": "2022-06-20T21:55:24.248Z"
   },
   {
    "duration": 108,
    "start_time": "2022-06-20T21:55:24.561Z"
   },
   {
    "duration": 4,
    "start_time": "2022-06-20T21:55:24.671Z"
   },
   {
    "duration": 6,
    "start_time": "2022-06-20T21:55:24.677Z"
   },
   {
    "duration": 5,
    "start_time": "2022-06-20T21:55:24.685Z"
   },
   {
    "duration": 35,
    "start_time": "2022-06-20T21:55:24.692Z"
   },
   {
    "duration": 91,
    "start_time": "2022-06-20T21:55:24.728Z"
   },
   {
    "duration": 168,
    "start_time": "2022-06-20T21:55:24.828Z"
   },
   {
    "duration": 188,
    "start_time": "2022-06-20T21:55:24.997Z"
   },
   {
    "duration": 181,
    "start_time": "2022-06-20T21:55:25.186Z"
   },
   {
    "duration": 173,
    "start_time": "2022-06-20T21:55:25.369Z"
   },
   {
    "duration": 33,
    "start_time": "2022-06-20T21:55:25.543Z"
   },
   {
    "duration": 26,
    "start_time": "2022-06-20T21:55:25.578Z"
   },
   {
    "duration": 26,
    "start_time": "2022-06-20T21:55:25.606Z"
   },
   {
    "duration": 24,
    "start_time": "2022-06-20T21:55:25.634Z"
   },
   {
    "duration": 290,
    "start_time": "2022-06-20T21:55:25.660Z"
   },
   {
    "duration": 1282,
    "start_time": "2022-06-21T02:16:49.734Z"
   },
   {
    "duration": 3,
    "start_time": "2022-06-21T02:16:51.018Z"
   },
   {
    "duration": 164,
    "start_time": "2022-06-21T02:16:51.022Z"
   },
   {
    "duration": 26,
    "start_time": "2022-06-21T02:16:51.189Z"
   },
   {
    "duration": 50,
    "start_time": "2022-06-21T02:16:51.217Z"
   },
   {
    "duration": 31,
    "start_time": "2022-06-21T02:16:51.269Z"
   },
   {
    "duration": 29,
    "start_time": "2022-06-21T02:16:51.302Z"
   },
   {
    "duration": 56,
    "start_time": "2022-06-21T02:16:51.333Z"
   },
   {
    "duration": 38,
    "start_time": "2022-06-21T02:16:51.390Z"
   },
   {
    "duration": 6,
    "start_time": "2022-06-21T02:16:51.433Z"
   },
   {
    "duration": 180,
    "start_time": "2022-06-21T02:16:51.442Z"
   },
   {
    "duration": 30,
    "start_time": "2022-06-21T02:16:51.626Z"
   },
   {
    "duration": 19,
    "start_time": "2022-06-21T02:16:51.658Z"
   },
   {
    "duration": 226,
    "start_time": "2022-06-21T02:16:51.679Z"
   },
   {
    "duration": 183,
    "start_time": "2022-06-21T02:16:51.907Z"
   },
   {
    "duration": 190,
    "start_time": "2022-06-21T02:16:52.092Z"
   },
   {
    "duration": 187,
    "start_time": "2022-06-21T02:16:52.284Z"
   },
   {
    "duration": 198,
    "start_time": "2022-06-21T02:16:52.473Z"
   },
   {
    "duration": 184,
    "start_time": "2022-06-21T02:16:52.672Z"
   },
   {
    "duration": 183,
    "start_time": "2022-06-21T02:16:52.858Z"
   },
   {
    "duration": 313,
    "start_time": "2022-06-21T02:16:53.043Z"
   },
   {
    "duration": 101,
    "start_time": "2022-06-21T02:16:53.358Z"
   },
   {
    "duration": 4,
    "start_time": "2022-06-21T02:16:53.461Z"
   },
   {
    "duration": 7,
    "start_time": "2022-06-21T02:16:53.467Z"
   },
   {
    "duration": 5,
    "start_time": "2022-06-21T02:16:53.475Z"
   },
   {
    "duration": 16,
    "start_time": "2022-06-21T02:16:53.482Z"
   },
   {
    "duration": 126,
    "start_time": "2022-06-21T02:16:53.500Z"
   },
   {
    "duration": 175,
    "start_time": "2022-06-21T02:16:53.630Z"
   },
   {
    "duration": 189,
    "start_time": "2022-06-21T02:16:53.807Z"
   },
   {
    "duration": 187,
    "start_time": "2022-06-21T02:16:53.998Z"
   },
   {
    "duration": 181,
    "start_time": "2022-06-21T02:16:54.186Z"
   },
   {
    "duration": 29,
    "start_time": "2022-06-21T02:16:54.369Z"
   },
   {
    "duration": 46,
    "start_time": "2022-06-21T02:16:54.400Z"
   },
   {
    "duration": 13,
    "start_time": "2022-06-21T02:16:54.448Z"
   },
   {
    "duration": 24,
    "start_time": "2022-06-21T02:16:54.462Z"
   },
   {
    "duration": 60,
    "start_time": "2022-06-21T02:16:54.488Z"
   },
   {
    "duration": 51,
    "start_time": "2022-06-21T02:17:02.759Z"
   },
   {
    "duration": 264,
    "start_time": "2022-06-21T02:17:32.195Z"
   },
   {
    "duration": 228,
    "start_time": "2022-06-21T02:19:24.543Z"
   },
   {
    "duration": 224,
    "start_time": "2022-06-21T02:20:29.558Z"
   },
   {
    "duration": 220,
    "start_time": "2022-06-21T02:21:00.809Z"
   },
   {
    "duration": 280,
    "start_time": "2022-06-21T02:21:16.285Z"
   },
   {
    "duration": 48,
    "start_time": "2022-06-21T02:23:57.257Z"
   },
   {
    "duration": 1161,
    "start_time": "2022-06-21T02:24:09.221Z"
   },
   {
    "duration": 3,
    "start_time": "2022-06-21T02:24:10.384Z"
   },
   {
    "duration": 119,
    "start_time": "2022-06-21T02:24:10.389Z"
   },
   {
    "duration": 25,
    "start_time": "2022-06-21T02:24:10.511Z"
   },
   {
    "duration": 40,
    "start_time": "2022-06-21T02:24:10.538Z"
   },
   {
    "duration": 65,
    "start_time": "2022-06-21T02:24:10.580Z"
   },
   {
    "duration": 13,
    "start_time": "2022-06-21T02:24:10.646Z"
   },
   {
    "duration": 76,
    "start_time": "2022-06-21T02:24:10.661Z"
   },
   {
    "duration": 16,
    "start_time": "2022-06-21T02:24:10.739Z"
   },
   {
    "duration": 5,
    "start_time": "2022-06-21T02:24:10.759Z"
   },
   {
    "duration": 128,
    "start_time": "2022-06-21T02:24:10.765Z"
   },
   {
    "duration": 34,
    "start_time": "2022-06-21T02:24:10.894Z"
   },
   {
    "duration": 19,
    "start_time": "2022-06-21T02:24:10.930Z"
   },
   {
    "duration": 224,
    "start_time": "2022-06-21T02:24:10.951Z"
   },
   {
    "duration": 197,
    "start_time": "2022-06-21T02:24:11.176Z"
   },
   {
    "duration": 228,
    "start_time": "2022-06-21T02:24:11.374Z"
   },
   {
    "duration": 211,
    "start_time": "2022-06-21T02:24:11.605Z"
   },
   {
    "duration": 194,
    "start_time": "2022-06-21T02:24:11.819Z"
   },
   {
    "duration": 191,
    "start_time": "2022-06-21T02:24:12.015Z"
   },
   {
    "duration": 193,
    "start_time": "2022-06-21T02:24:12.208Z"
   },
   {
    "duration": 354,
    "start_time": "2022-06-21T02:24:12.403Z"
   },
   {
    "duration": 103,
    "start_time": "2022-06-21T02:24:12.759Z"
   },
   {
    "duration": 5,
    "start_time": "2022-06-21T02:24:12.864Z"
   },
   {
    "duration": 11,
    "start_time": "2022-06-21T02:24:12.870Z"
   },
   {
    "duration": 7,
    "start_time": "2022-06-21T02:24:12.882Z"
   },
   {
    "duration": 37,
    "start_time": "2022-06-21T02:24:12.891Z"
   },
   {
    "duration": 120,
    "start_time": "2022-06-21T02:24:12.930Z"
   },
   {
    "duration": 184,
    "start_time": "2022-06-21T02:24:13.053Z"
   },
   {
    "duration": 212,
    "start_time": "2022-06-21T02:24:13.239Z"
   },
   {
    "duration": 205,
    "start_time": "2022-06-21T02:24:13.453Z"
   },
   {
    "duration": 183,
    "start_time": "2022-06-21T02:24:13.660Z"
   },
   {
    "duration": 29,
    "start_time": "2022-06-21T02:24:13.845Z"
   },
   {
    "duration": 27,
    "start_time": "2022-06-21T02:24:13.877Z"
   },
   {
    "duration": 32,
    "start_time": "2022-06-21T02:24:13.906Z"
   },
   {
    "duration": 25,
    "start_time": "2022-06-21T02:24:13.939Z"
   },
   {
    "duration": 0,
    "start_time": "2022-06-21T02:27:53.531Z"
   },
   {
    "duration": 64,
    "start_time": "2022-06-21T02:28:11.489Z"
   },
   {
    "duration": 7,
    "start_time": "2022-06-21T02:28:18.306Z"
   },
   {
    "duration": 1069,
    "start_time": "2022-06-21T02:28:29.578Z"
   },
   {
    "duration": 2,
    "start_time": "2022-06-21T02:28:30.650Z"
   },
   {
    "duration": 120,
    "start_time": "2022-06-21T02:28:30.654Z"
   },
   {
    "duration": 25,
    "start_time": "2022-06-21T02:28:30.776Z"
   },
   {
    "duration": 38,
    "start_time": "2022-06-21T02:28:30.963Z"
   },
   {
    "duration": 33,
    "start_time": "2022-06-21T02:28:32.755Z"
   },
   {
    "duration": 12,
    "start_time": "2022-06-21T02:28:32.942Z"
   },
   {
    "duration": 61,
    "start_time": "2022-06-21T02:28:33.360Z"
   },
   {
    "duration": 16,
    "start_time": "2022-06-21T02:28:34.346Z"
   },
   {
    "duration": 6,
    "start_time": "2022-06-21T02:28:38.679Z"
   },
   {
    "duration": 107,
    "start_time": "2022-06-21T02:28:38.856Z"
   },
   {
    "duration": 24,
    "start_time": "2022-06-21T02:28:39.446Z"
   },
   {
    "duration": 20,
    "start_time": "2022-06-21T02:28:39.642Z"
   },
   {
    "duration": 192,
    "start_time": "2022-06-21T02:28:40.866Z"
   },
   {
    "duration": 169,
    "start_time": "2022-06-21T02:28:41.075Z"
   },
   {
    "duration": 188,
    "start_time": "2022-06-21T02:28:41.286Z"
   },
   {
    "duration": 227,
    "start_time": "2022-06-21T02:28:41.494Z"
   },
   {
    "duration": 190,
    "start_time": "2022-06-21T02:28:41.723Z"
   },
   {
    "duration": 180,
    "start_time": "2022-06-21T02:28:41.916Z"
   },
   {
    "duration": 178,
    "start_time": "2022-06-21T02:28:42.127Z"
   },
   {
    "duration": 306,
    "start_time": "2022-06-21T02:28:43.610Z"
   },
   {
    "duration": 88,
    "start_time": "2022-06-21T02:28:44.046Z"
   },
   {
    "duration": 5,
    "start_time": "2022-06-21T02:28:44.253Z"
   },
   {
    "duration": 4,
    "start_time": "2022-06-21T02:28:44.463Z"
   },
   {
    "duration": 4,
    "start_time": "2022-06-21T02:28:44.704Z"
   },
   {
    "duration": 18,
    "start_time": "2022-06-21T02:28:44.927Z"
   },
   {
    "duration": 116,
    "start_time": "2022-06-21T02:28:45.162Z"
   },
   {
    "duration": 165,
    "start_time": "2022-06-21T02:28:45.885Z"
   },
   {
    "duration": 176,
    "start_time": "2022-06-21T02:28:47.027Z"
   },
   {
    "duration": 177,
    "start_time": "2022-06-21T02:28:47.800Z"
   },
   {
    "duration": 159,
    "start_time": "2022-06-21T02:28:48.355Z"
   },
   {
    "duration": 28,
    "start_time": "2022-06-21T02:28:49.762Z"
   },
   {
    "duration": 27,
    "start_time": "2022-06-21T02:28:50.879Z"
   },
   {
    "duration": 14,
    "start_time": "2022-06-21T02:28:53.196Z"
   },
   {
    "duration": 25,
    "start_time": "2022-06-21T02:28:55.698Z"
   },
   {
    "duration": 290,
    "start_time": "2022-06-21T02:28:56.506Z"
   },
   {
    "duration": 165,
    "start_time": "2022-06-21T02:29:03.497Z"
   },
   {
    "duration": 263,
    "start_time": "2022-06-21T02:31:34.222Z"
   },
   {
    "duration": 12,
    "start_time": "2022-06-21T02:31:47.066Z"
   },
   {
    "duration": 21,
    "start_time": "2022-06-21T02:31:49.611Z"
   },
   {
    "duration": 267,
    "start_time": "2022-06-21T02:31:50.601Z"
   },
   {
    "duration": 491,
    "start_time": "2022-06-21T02:32:07.967Z"
   },
   {
    "duration": 555,
    "start_time": "2022-06-21T02:32:41.974Z"
   },
   {
    "duration": 300,
    "start_time": "2022-06-21T02:33:14.021Z"
   }
  ],
  "kernelspec": {
   "display_name": "Python 3 (ipykernel)",
   "language": "python",
   "name": "python3"
  },
  "language_info": {
   "codemirror_mode": {
    "name": "ipython",
    "version": 3
   },
   "file_extension": ".py",
   "mimetype": "text/x-python",
   "name": "python",
   "nbconvert_exporter": "python",
   "pygments_lexer": "ipython3",
   "version": "3.9.5"
  },
  "toc": {
   "base_numbering": 1,
   "nav_menu": {},
   "number_sections": true,
   "sideBar": true,
   "skip_h1_title": false,
   "title_cell": "Table of Contents",
   "title_sidebar": "Contents",
   "toc_cell": false,
   "toc_position": {},
   "toc_section_display": true,
   "toc_window_display": false
  }
 },
 "nbformat": 4,
 "nbformat_minor": 2
}
