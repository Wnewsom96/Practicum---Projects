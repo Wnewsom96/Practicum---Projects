{
 "cells": [
  {
   "cell_type": "markdown",
   "metadata": {},
   "source": [
    "# Which one is a better plan?\n",
    "\n",
    "You work as an analyst for the telecom operator Megaline. The company offers its clients two prepaid plans, Surf and Ultimate. The commercial department wants to know which of the plans brings in more revenue in order to adjust the advertising budget.\n",
    "\n",
    "You are going to carry out a preliminary analysis of the plans based on a relatively small client selection. You'll have the data on 500 Megaline clients: who the clients are, where they're from, which plan they use, and the number of calls they made and text messages they sent in 2018. Your job is to analyze the clients' behavior and determine which prepaid plan brings in more revenue."
   ]
  },
  {
   "cell_type": "markdown",
   "metadata": {},
   "source": [
    "## Initialization"
   ]
  },
  {
   "cell_type": "code",
   "execution_count": 1,
   "metadata": {},
   "outputs": [],
   "source": [
    "import pandas as pd\n",
    "\n",
    "import numpy as np\n",
    "\n",
    "import matplotlib as plot\n",
    "\n",
    "import seaborn as sns\n",
    "\n",
    "from scipy import stats as st\n",
    "\n",
    "from functools import reduce\n",
    "\n",
    "import matplotlib.pyplot as plt\n",
    "\n",
    "from scipy.stats import shapiro\n",
    "\n",
    "%matplotlib inline\n"
   ]
  },
  {
   "cell_type": "markdown",
   "metadata": {},
   "source": [
    "## Load data"
   ]
  },
  {
   "cell_type": "code",
   "execution_count": 2,
   "metadata": {},
   "outputs": [],
   "source": [
    "call = pd.read_csv('/datasets/megaline_calls.csv')\n",
    "wifi = pd.read_csv('/datasets/megaline_internet.csv')\n",
    "msg = pd.read_csv('/datasets/megaline_messages.csv')\n",
    "plans = pd.read_csv('/datasets/megaline_plans.csv')\n",
    "user = pd.read_csv('/datasets/megaline_users.csv')"
   ]
  },
  {
   "cell_type": "markdown",
   "metadata": {},
   "source": [
    "## Prepare the data"
   ]
  },
  {
   "cell_type": "markdown",
   "metadata": {},
   "source": [
    "## Plans"
   ]
  },
  {
   "cell_type": "code",
   "execution_count": 3,
   "metadata": {},
   "outputs": [
    {
     "name": "stdout",
     "output_type": "stream",
     "text": [
      "(2, 8)\n",
      "<class 'pandas.core.frame.DataFrame'>\n",
      "RangeIndex: 2 entries, 0 to 1\n",
      "Data columns (total 8 columns):\n",
      " #   Column                 Non-Null Count  Dtype  \n",
      "---  ------                 --------------  -----  \n",
      " 0   messages_included      2 non-null      int64  \n",
      " 1   mb_per_month_included  2 non-null      int64  \n",
      " 2   minutes_included       2 non-null      int64  \n",
      " 3   usd_monthly_pay        2 non-null      int64  \n",
      " 4   usd_per_gb             2 non-null      int64  \n",
      " 5   usd_per_message        2 non-null      float64\n",
      " 6   usd_per_minute         2 non-null      float64\n",
      " 7   plan_name              2 non-null      object \n",
      "dtypes: float64(2), int64(5), object(1)\n",
      "memory usage: 256.0+ bytes\n",
      "None\n",
      "       messages_included  mb_per_month_included  minutes_included  \\\n",
      "count           2.000000               2.000000          2.000000   \n",
      "mean          525.000000           23040.000000       1750.000000   \n",
      "std           671.751442           10861.160159       1767.766953   \n",
      "min            50.000000           15360.000000        500.000000   \n",
      "25%           287.500000           19200.000000       1125.000000   \n",
      "50%           525.000000           23040.000000       1750.000000   \n",
      "75%           762.500000           26880.000000       2375.000000   \n",
      "max          1000.000000           30720.000000       3000.000000   \n",
      "\n",
      "       usd_monthly_pay  usd_per_gb  usd_per_message  usd_per_minute  \n",
      "count         2.000000     2.00000         2.000000        2.000000  \n",
      "mean         45.000000     8.50000         0.020000        0.020000  \n",
      "std          35.355339     2.12132         0.014142        0.014142  \n",
      "min          20.000000     7.00000         0.010000        0.010000  \n",
      "25%          32.500000     7.75000         0.015000        0.015000  \n",
      "50%          45.000000     8.50000         0.020000        0.020000  \n",
      "75%          57.500000     9.25000         0.025000        0.025000  \n",
      "max          70.000000    10.00000         0.030000        0.030000  \n"
     ]
    }
   ],
   "source": [
    "print(plans.shape)\n",
    "print(plans.info())\n",
    "print(plans.describe())"
   ]
  },
  {
   "cell_type": "code",
   "execution_count": 4,
   "metadata": {},
   "outputs": [
    {
     "data": {
      "text/html": [
       "<div>\n",
       "<style scoped>\n",
       "    .dataframe tbody tr th:only-of-type {\n",
       "        vertical-align: middle;\n",
       "    }\n",
       "\n",
       "    .dataframe tbody tr th {\n",
       "        vertical-align: top;\n",
       "    }\n",
       "\n",
       "    .dataframe thead th {\n",
       "        text-align: right;\n",
       "    }\n",
       "</style>\n",
       "<table border=\"1\" class=\"dataframe\">\n",
       "  <thead>\n",
       "    <tr style=\"text-align: right;\">\n",
       "      <th></th>\n",
       "      <th>messages_included</th>\n",
       "      <th>mb_per_month_included</th>\n",
       "      <th>minutes_included</th>\n",
       "      <th>usd_monthly_pay</th>\n",
       "      <th>usd_per_gb</th>\n",
       "      <th>usd_per_message</th>\n",
       "      <th>usd_per_minute</th>\n",
       "    </tr>\n",
       "    <tr>\n",
       "      <th>plan_name</th>\n",
       "      <th></th>\n",
       "      <th></th>\n",
       "      <th></th>\n",
       "      <th></th>\n",
       "      <th></th>\n",
       "      <th></th>\n",
       "      <th></th>\n",
       "    </tr>\n",
       "  </thead>\n",
       "  <tbody>\n",
       "    <tr>\n",
       "      <th>surf</th>\n",
       "      <td>50</td>\n",
       "      <td>15360</td>\n",
       "      <td>500</td>\n",
       "      <td>20</td>\n",
       "      <td>10</td>\n",
       "      <td>0.03</td>\n",
       "      <td>0.03</td>\n",
       "    </tr>\n",
       "    <tr>\n",
       "      <th>ultimate</th>\n",
       "      <td>1000</td>\n",
       "      <td>30720</td>\n",
       "      <td>3000</td>\n",
       "      <td>70</td>\n",
       "      <td>7</td>\n",
       "      <td>0.01</td>\n",
       "      <td>0.01</td>\n",
       "    </tr>\n",
       "  </tbody>\n",
       "</table>\n",
       "</div>"
      ],
      "text/plain": [
       "           messages_included  mb_per_month_included  minutes_included  \\\n",
       "plan_name                                                               \n",
       "surf                      50                  15360               500   \n",
       "ultimate                1000                  30720              3000   \n",
       "\n",
       "           usd_monthly_pay  usd_per_gb  usd_per_message  usd_per_minute  \n",
       "plan_name                                                                \n",
       "surf                    20          10             0.03            0.03  \n",
       "ultimate                70           7             0.01            0.01  "
      ]
     },
     "metadata": {},
     "output_type": "display_data"
    }
   ],
   "source": [
    "# Print a sample of data for plans\n",
    "plans = plans.set_index('plan_name')\n",
    "(display(plans.head(5)))\n",
    "\n"
   ]
  },
  {
   "cell_type": "markdown",
   "metadata": {},
   "source": [
    "The data in this dataframe all looks to be correct."
   ]
  },
  {
   "cell_type": "markdown",
   "metadata": {},
   "source": [
    " "
   ]
  },
  {
   "cell_type": "markdown",
   "metadata": {},
   "source": [
    "## Users"
   ]
  },
  {
   "cell_type": "code",
   "execution_count": 5,
   "metadata": {},
   "outputs": [
    {
     "name": "stdout",
     "output_type": "stream",
     "text": [
      "(500, 8)\n",
      "<class 'pandas.core.frame.DataFrame'>\n",
      "RangeIndex: 500 entries, 0 to 499\n",
      "Data columns (total 8 columns):\n",
      " #   Column      Non-Null Count  Dtype \n",
      "---  ------      --------------  ----- \n",
      " 0   user_id     500 non-null    int64 \n",
      " 1   first_name  500 non-null    object\n",
      " 2   last_name   500 non-null    object\n",
      " 3   age         500 non-null    int64 \n",
      " 4   city        500 non-null    object\n",
      " 5   reg_date    500 non-null    object\n",
      " 6   plan        500 non-null    object\n",
      " 7   churn_date  34 non-null     object\n",
      "dtypes: int64(2), object(6)\n",
      "memory usage: 31.4+ KB\n",
      "None\n",
      "           user_id         age\n",
      "count   500.000000  500.000000\n",
      "mean   1249.500000   45.486000\n",
      "std     144.481833   16.972269\n",
      "min    1000.000000   18.000000\n",
      "25%    1124.750000   30.000000\n",
      "50%    1249.500000   46.000000\n",
      "75%    1374.250000   61.000000\n",
      "max    1499.000000   75.000000\n"
     ]
    }
   ],
   "source": [
    "print(user.shape)\n",
    "print(user.info())\n",
    "print(user.describe())"
   ]
  },
  {
   "cell_type": "code",
   "execution_count": 6,
   "metadata": {},
   "outputs": [
    {
     "data": {
      "text/html": [
       "<div>\n",
       "<style scoped>\n",
       "    .dataframe tbody tr th:only-of-type {\n",
       "        vertical-align: middle;\n",
       "    }\n",
       "\n",
       "    .dataframe tbody tr th {\n",
       "        vertical-align: top;\n",
       "    }\n",
       "\n",
       "    .dataframe thead th {\n",
       "        text-align: right;\n",
       "    }\n",
       "</style>\n",
       "<table border=\"1\" class=\"dataframe\">\n",
       "  <thead>\n",
       "    <tr style=\"text-align: right;\">\n",
       "      <th></th>\n",
       "      <th>user_id</th>\n",
       "      <th>first_name</th>\n",
       "      <th>last_name</th>\n",
       "      <th>age</th>\n",
       "      <th>city</th>\n",
       "      <th>reg_date</th>\n",
       "      <th>plan</th>\n",
       "      <th>churn_date</th>\n",
       "    </tr>\n",
       "  </thead>\n",
       "  <tbody>\n",
       "    <tr>\n",
       "      <th>0</th>\n",
       "      <td>1000</td>\n",
       "      <td>Anamaria</td>\n",
       "      <td>Bauer</td>\n",
       "      <td>45</td>\n",
       "      <td>Atlanta-Sandy Springs-Roswell, GA MSA</td>\n",
       "      <td>2018-12-24</td>\n",
       "      <td>ultimate</td>\n",
       "      <td>NaN</td>\n",
       "    </tr>\n",
       "    <tr>\n",
       "      <th>1</th>\n",
       "      <td>1001</td>\n",
       "      <td>Mickey</td>\n",
       "      <td>Wilkerson</td>\n",
       "      <td>28</td>\n",
       "      <td>Seattle-Tacoma-Bellevue, WA MSA</td>\n",
       "      <td>2018-08-13</td>\n",
       "      <td>surf</td>\n",
       "      <td>NaN</td>\n",
       "    </tr>\n",
       "    <tr>\n",
       "      <th>2</th>\n",
       "      <td>1002</td>\n",
       "      <td>Carlee</td>\n",
       "      <td>Hoffman</td>\n",
       "      <td>36</td>\n",
       "      <td>Las Vegas-Henderson-Paradise, NV MSA</td>\n",
       "      <td>2018-10-21</td>\n",
       "      <td>surf</td>\n",
       "      <td>NaN</td>\n",
       "    </tr>\n",
       "    <tr>\n",
       "      <th>3</th>\n",
       "      <td>1003</td>\n",
       "      <td>Reynaldo</td>\n",
       "      <td>Jenkins</td>\n",
       "      <td>52</td>\n",
       "      <td>Tulsa, OK MSA</td>\n",
       "      <td>2018-01-28</td>\n",
       "      <td>surf</td>\n",
       "      <td>NaN</td>\n",
       "    </tr>\n",
       "    <tr>\n",
       "      <th>4</th>\n",
       "      <td>1004</td>\n",
       "      <td>Leonila</td>\n",
       "      <td>Thompson</td>\n",
       "      <td>40</td>\n",
       "      <td>Seattle-Tacoma-Bellevue, WA MSA</td>\n",
       "      <td>2018-05-23</td>\n",
       "      <td>surf</td>\n",
       "      <td>NaN</td>\n",
       "    </tr>\n",
       "  </tbody>\n",
       "</table>\n",
       "</div>"
      ],
      "text/plain": [
       "   user_id first_name  last_name  age                                   city  \\\n",
       "0     1000   Anamaria      Bauer   45  Atlanta-Sandy Springs-Roswell, GA MSA   \n",
       "1     1001     Mickey  Wilkerson   28        Seattle-Tacoma-Bellevue, WA MSA   \n",
       "2     1002     Carlee    Hoffman   36   Las Vegas-Henderson-Paradise, NV MSA   \n",
       "3     1003   Reynaldo    Jenkins   52                          Tulsa, OK MSA   \n",
       "4     1004    Leonila   Thompson   40        Seattle-Tacoma-Bellevue, WA MSA   \n",
       "\n",
       "     reg_date      plan churn_date  \n",
       "0  2018-12-24  ultimate        NaN  \n",
       "1  2018-08-13      surf        NaN  \n",
       "2  2018-10-21      surf        NaN  \n",
       "3  2018-01-28      surf        NaN  \n",
       "4  2018-05-23      surf        NaN  "
      ]
     },
     "metadata": {},
     "output_type": "display_data"
    },
    {
     "name": "stdout",
     "output_type": "stream",
     "text": [
      "None\n"
     ]
    }
   ],
   "source": [
    "print(display(user.head(5)))"
   ]
  },
  {
   "cell_type": "markdown",
   "metadata": {},
   "source": [
    "Issues that can be fixed in this dataframe would be the reg_date and churn_date column turned into Datetime rather than object. Also there are 466 missing values from the Churn Date column. We will have to see if we can fill in the column where it would make sense, but most likely we will fill with NaNs as it is missing almost 90% of its values."
   ]
  },
  {
   "cell_type": "markdown",
   "metadata": {},
   "source": [
    " "
   ]
  },
  {
   "cell_type": "markdown",
   "metadata": {},
   "source": [
    "### Fix Data"
   ]
  },
  {
   "cell_type": "code",
   "execution_count": 7,
   "metadata": {},
   "outputs": [
    {
     "name": "stdout",
     "output_type": "stream",
     "text": [
      "<class 'pandas.core.frame.DataFrame'>\n",
      "RangeIndex: 500 entries, 0 to 499\n",
      "Data columns (total 8 columns):\n",
      " #   Column      Non-Null Count  Dtype         \n",
      "---  ------      --------------  -----         \n",
      " 0   user_id     500 non-null    int64         \n",
      " 1   first_name  500 non-null    object        \n",
      " 2   last_name   500 non-null    object        \n",
      " 3   age         500 non-null    int64         \n",
      " 4   city        500 non-null    object        \n",
      " 5   reg_date    500 non-null    datetime64[ns]\n",
      " 6   plan        500 non-null    object        \n",
      " 7   churn_date  34 non-null     datetime64[ns]\n",
      "dtypes: datetime64[ns](2), int64(2), object(4)\n",
      "memory usage: 31.4+ KB\n"
     ]
    },
    {
     "data": {
      "text/html": [
       "<div>\n",
       "<style scoped>\n",
       "    .dataframe tbody tr th:only-of-type {\n",
       "        vertical-align: middle;\n",
       "    }\n",
       "\n",
       "    .dataframe tbody tr th {\n",
       "        vertical-align: top;\n",
       "    }\n",
       "\n",
       "    .dataframe thead th {\n",
       "        text-align: right;\n",
       "    }\n",
       "</style>\n",
       "<table border=\"1\" class=\"dataframe\">\n",
       "  <thead>\n",
       "    <tr style=\"text-align: right;\">\n",
       "      <th></th>\n",
       "      <th>user_id</th>\n",
       "      <th>first_name</th>\n",
       "      <th>last_name</th>\n",
       "      <th>age</th>\n",
       "      <th>city</th>\n",
       "      <th>reg_date</th>\n",
       "      <th>plan</th>\n",
       "      <th>churn_date</th>\n",
       "    </tr>\n",
       "  </thead>\n",
       "  <tbody>\n",
       "    <tr>\n",
       "      <th>0</th>\n",
       "      <td>1000</td>\n",
       "      <td>Anamaria</td>\n",
       "      <td>Bauer</td>\n",
       "      <td>45</td>\n",
       "      <td>Atlanta-Sandy Springs-Roswell, GA MSA</td>\n",
       "      <td>2018-12-24</td>\n",
       "      <td>ultimate</td>\n",
       "      <td>NaT</td>\n",
       "    </tr>\n",
       "    <tr>\n",
       "      <th>1</th>\n",
       "      <td>1001</td>\n",
       "      <td>Mickey</td>\n",
       "      <td>Wilkerson</td>\n",
       "      <td>28</td>\n",
       "      <td>Seattle-Tacoma-Bellevue, WA MSA</td>\n",
       "      <td>2018-08-13</td>\n",
       "      <td>surf</td>\n",
       "      <td>NaT</td>\n",
       "    </tr>\n",
       "    <tr>\n",
       "      <th>2</th>\n",
       "      <td>1002</td>\n",
       "      <td>Carlee</td>\n",
       "      <td>Hoffman</td>\n",
       "      <td>36</td>\n",
       "      <td>Las Vegas-Henderson-Paradise, NV MSA</td>\n",
       "      <td>2018-10-21</td>\n",
       "      <td>surf</td>\n",
       "      <td>NaT</td>\n",
       "    </tr>\n",
       "    <tr>\n",
       "      <th>3</th>\n",
       "      <td>1003</td>\n",
       "      <td>Reynaldo</td>\n",
       "      <td>Jenkins</td>\n",
       "      <td>52</td>\n",
       "      <td>Tulsa, OK MSA</td>\n",
       "      <td>2018-01-28</td>\n",
       "      <td>surf</td>\n",
       "      <td>NaT</td>\n",
       "    </tr>\n",
       "    <tr>\n",
       "      <th>4</th>\n",
       "      <td>1004</td>\n",
       "      <td>Leonila</td>\n",
       "      <td>Thompson</td>\n",
       "      <td>40</td>\n",
       "      <td>Seattle-Tacoma-Bellevue, WA MSA</td>\n",
       "      <td>2018-05-23</td>\n",
       "      <td>surf</td>\n",
       "      <td>NaT</td>\n",
       "    </tr>\n",
       "    <tr>\n",
       "      <th>...</th>\n",
       "      <td>...</td>\n",
       "      <td>...</td>\n",
       "      <td>...</td>\n",
       "      <td>...</td>\n",
       "      <td>...</td>\n",
       "      <td>...</td>\n",
       "      <td>...</td>\n",
       "      <td>...</td>\n",
       "    </tr>\n",
       "    <tr>\n",
       "      <th>495</th>\n",
       "      <td>1495</td>\n",
       "      <td>Fidel</td>\n",
       "      <td>Sharpe</td>\n",
       "      <td>67</td>\n",
       "      <td>New York-Newark-Jersey City, NY-NJ-PA MSA</td>\n",
       "      <td>2018-09-04</td>\n",
       "      <td>surf</td>\n",
       "      <td>NaT</td>\n",
       "    </tr>\n",
       "    <tr>\n",
       "      <th>496</th>\n",
       "      <td>1496</td>\n",
       "      <td>Ariel</td>\n",
       "      <td>Shepherd</td>\n",
       "      <td>49</td>\n",
       "      <td>New Orleans-Metairie, LA MSA</td>\n",
       "      <td>2018-02-20</td>\n",
       "      <td>surf</td>\n",
       "      <td>NaT</td>\n",
       "    </tr>\n",
       "    <tr>\n",
       "      <th>497</th>\n",
       "      <td>1497</td>\n",
       "      <td>Donte</td>\n",
       "      <td>Barrera</td>\n",
       "      <td>49</td>\n",
       "      <td>Los Angeles-Long Beach-Anaheim, CA MSA</td>\n",
       "      <td>2018-12-10</td>\n",
       "      <td>ultimate</td>\n",
       "      <td>NaT</td>\n",
       "    </tr>\n",
       "    <tr>\n",
       "      <th>498</th>\n",
       "      <td>1498</td>\n",
       "      <td>Scot</td>\n",
       "      <td>Williamson</td>\n",
       "      <td>51</td>\n",
       "      <td>New York-Newark-Jersey City, NY-NJ-PA MSA</td>\n",
       "      <td>2018-02-04</td>\n",
       "      <td>surf</td>\n",
       "      <td>NaT</td>\n",
       "    </tr>\n",
       "    <tr>\n",
       "      <th>499</th>\n",
       "      <td>1499</td>\n",
       "      <td>Shena</td>\n",
       "      <td>Dickson</td>\n",
       "      <td>37</td>\n",
       "      <td>Orlando-Kissimmee-Sanford, FL MSA</td>\n",
       "      <td>2018-05-06</td>\n",
       "      <td>surf</td>\n",
       "      <td>NaT</td>\n",
       "    </tr>\n",
       "  </tbody>\n",
       "</table>\n",
       "<p>500 rows × 8 columns</p>\n",
       "</div>"
      ],
      "text/plain": [
       "     user_id first_name   last_name  age  \\\n",
       "0       1000   Anamaria       Bauer   45   \n",
       "1       1001     Mickey   Wilkerson   28   \n",
       "2       1002     Carlee     Hoffman   36   \n",
       "3       1003   Reynaldo     Jenkins   52   \n",
       "4       1004    Leonila    Thompson   40   \n",
       "..       ...        ...         ...  ...   \n",
       "495     1495      Fidel      Sharpe   67   \n",
       "496     1496      Ariel    Shepherd   49   \n",
       "497     1497      Donte     Barrera   49   \n",
       "498     1498       Scot  Williamson   51   \n",
       "499     1499      Shena     Dickson   37   \n",
       "\n",
       "                                          city   reg_date      plan churn_date  \n",
       "0        Atlanta-Sandy Springs-Roswell, GA MSA 2018-12-24  ultimate        NaT  \n",
       "1              Seattle-Tacoma-Bellevue, WA MSA 2018-08-13      surf        NaT  \n",
       "2         Las Vegas-Henderson-Paradise, NV MSA 2018-10-21      surf        NaT  \n",
       "3                                Tulsa, OK MSA 2018-01-28      surf        NaT  \n",
       "4              Seattle-Tacoma-Bellevue, WA MSA 2018-05-23      surf        NaT  \n",
       "..                                         ...        ...       ...        ...  \n",
       "495  New York-Newark-Jersey City, NY-NJ-PA MSA 2018-09-04      surf        NaT  \n",
       "496               New Orleans-Metairie, LA MSA 2018-02-20      surf        NaT  \n",
       "497     Los Angeles-Long Beach-Anaheim, CA MSA 2018-12-10  ultimate        NaT  \n",
       "498  New York-Newark-Jersey City, NY-NJ-PA MSA 2018-02-04      surf        NaT  \n",
       "499          Orlando-Kissimmee-Sanford, FL MSA 2018-05-06      surf        NaT  \n",
       "\n",
       "[500 rows x 8 columns]"
      ]
     },
     "metadata": {},
     "output_type": "display_data"
    }
   ],
   "source": [
    "user['reg_date'] = pd.to_datetime(user['reg_date'], format='%Y-%m-%d')\n",
    "user['churn_date'] = pd.to_datetime(user['churn_date'], format='%Y-%m-%d')\n",
    "\n",
    "user.info()\n",
    "user['churn_date'].unique()\n",
    "display(user)"
   ]
  },
  {
   "cell_type": "markdown",
   "metadata": {},
   "source": [
    "### Enrich Data"
   ]
  },
  {
   "cell_type": "code",
   "execution_count": 8,
   "metadata": {},
   "outputs": [
    {
     "name": "stdout",
     "output_type": "stream",
     "text": [
      "<class 'pandas.core.frame.DataFrame'>\n",
      "RangeIndex: 500 entries, 0 to 499\n",
      "Data columns (total 9 columns):\n",
      " #   Column      Non-Null Count  Dtype         \n",
      "---  ------      --------------  -----         \n",
      " 0   user_id     500 non-null    int64         \n",
      " 1   first_name  500 non-null    object        \n",
      " 2   last_name   500 non-null    object        \n",
      " 3   age         500 non-null    int64         \n",
      " 4   city        500 non-null    object        \n",
      " 5   reg_date    500 non-null    datetime64[ns]\n",
      " 6   plan        500 non-null    object        \n",
      " 7   churn_date  34 non-null     datetime64[ns]\n",
      " 8   month       500 non-null    object        \n",
      "dtypes: datetime64[ns](2), int64(2), object(5)\n",
      "memory usage: 35.3+ KB\n"
     ]
    },
    {
     "data": {
      "text/html": [
       "<div>\n",
       "<style scoped>\n",
       "    .dataframe tbody tr th:only-of-type {\n",
       "        vertical-align: middle;\n",
       "    }\n",
       "\n",
       "    .dataframe tbody tr th {\n",
       "        vertical-align: top;\n",
       "    }\n",
       "\n",
       "    .dataframe thead th {\n",
       "        text-align: right;\n",
       "    }\n",
       "</style>\n",
       "<table border=\"1\" class=\"dataframe\">\n",
       "  <thead>\n",
       "    <tr style=\"text-align: right;\">\n",
       "      <th></th>\n",
       "      <th>user_id</th>\n",
       "      <th>first_name</th>\n",
       "      <th>last_name</th>\n",
       "      <th>age</th>\n",
       "      <th>city</th>\n",
       "      <th>reg_date</th>\n",
       "      <th>plan</th>\n",
       "      <th>churn_date</th>\n",
       "      <th>month</th>\n",
       "    </tr>\n",
       "  </thead>\n",
       "  <tbody>\n",
       "    <tr>\n",
       "      <th>0</th>\n",
       "      <td>1000</td>\n",
       "      <td>Anamaria</td>\n",
       "      <td>Bauer</td>\n",
       "      <td>45</td>\n",
       "      <td>Atlanta-Sandy Springs-Roswell, GA MSA</td>\n",
       "      <td>2018-12-24</td>\n",
       "      <td>ultimate</td>\n",
       "      <td>NaT</td>\n",
       "      <td>12/2018</td>\n",
       "    </tr>\n",
       "    <tr>\n",
       "      <th>1</th>\n",
       "      <td>1001</td>\n",
       "      <td>Mickey</td>\n",
       "      <td>Wilkerson</td>\n",
       "      <td>28</td>\n",
       "      <td>Seattle-Tacoma-Bellevue, WA MSA</td>\n",
       "      <td>2018-08-13</td>\n",
       "      <td>surf</td>\n",
       "      <td>NaT</td>\n",
       "      <td>08/2018</td>\n",
       "    </tr>\n",
       "    <tr>\n",
       "      <th>2</th>\n",
       "      <td>1002</td>\n",
       "      <td>Carlee</td>\n",
       "      <td>Hoffman</td>\n",
       "      <td>36</td>\n",
       "      <td>Las Vegas-Henderson-Paradise, NV MSA</td>\n",
       "      <td>2018-10-21</td>\n",
       "      <td>surf</td>\n",
       "      <td>NaT</td>\n",
       "      <td>10/2018</td>\n",
       "    </tr>\n",
       "    <tr>\n",
       "      <th>3</th>\n",
       "      <td>1003</td>\n",
       "      <td>Reynaldo</td>\n",
       "      <td>Jenkins</td>\n",
       "      <td>52</td>\n",
       "      <td>Tulsa, OK MSA</td>\n",
       "      <td>2018-01-28</td>\n",
       "      <td>surf</td>\n",
       "      <td>NaT</td>\n",
       "      <td>01/2018</td>\n",
       "    </tr>\n",
       "    <tr>\n",
       "      <th>4</th>\n",
       "      <td>1004</td>\n",
       "      <td>Leonila</td>\n",
       "      <td>Thompson</td>\n",
       "      <td>40</td>\n",
       "      <td>Seattle-Tacoma-Bellevue, WA MSA</td>\n",
       "      <td>2018-05-23</td>\n",
       "      <td>surf</td>\n",
       "      <td>NaT</td>\n",
       "      <td>05/2018</td>\n",
       "    </tr>\n",
       "    <tr>\n",
       "      <th>...</th>\n",
       "      <td>...</td>\n",
       "      <td>...</td>\n",
       "      <td>...</td>\n",
       "      <td>...</td>\n",
       "      <td>...</td>\n",
       "      <td>...</td>\n",
       "      <td>...</td>\n",
       "      <td>...</td>\n",
       "      <td>...</td>\n",
       "    </tr>\n",
       "    <tr>\n",
       "      <th>495</th>\n",
       "      <td>1495</td>\n",
       "      <td>Fidel</td>\n",
       "      <td>Sharpe</td>\n",
       "      <td>67</td>\n",
       "      <td>New York-Newark-Jersey City, NY-NJ-PA MSA</td>\n",
       "      <td>2018-09-04</td>\n",
       "      <td>surf</td>\n",
       "      <td>NaT</td>\n",
       "      <td>09/2018</td>\n",
       "    </tr>\n",
       "    <tr>\n",
       "      <th>496</th>\n",
       "      <td>1496</td>\n",
       "      <td>Ariel</td>\n",
       "      <td>Shepherd</td>\n",
       "      <td>49</td>\n",
       "      <td>New Orleans-Metairie, LA MSA</td>\n",
       "      <td>2018-02-20</td>\n",
       "      <td>surf</td>\n",
       "      <td>NaT</td>\n",
       "      <td>02/2018</td>\n",
       "    </tr>\n",
       "    <tr>\n",
       "      <th>497</th>\n",
       "      <td>1497</td>\n",
       "      <td>Donte</td>\n",
       "      <td>Barrera</td>\n",
       "      <td>49</td>\n",
       "      <td>Los Angeles-Long Beach-Anaheim, CA MSA</td>\n",
       "      <td>2018-12-10</td>\n",
       "      <td>ultimate</td>\n",
       "      <td>NaT</td>\n",
       "      <td>12/2018</td>\n",
       "    </tr>\n",
       "    <tr>\n",
       "      <th>498</th>\n",
       "      <td>1498</td>\n",
       "      <td>Scot</td>\n",
       "      <td>Williamson</td>\n",
       "      <td>51</td>\n",
       "      <td>New York-Newark-Jersey City, NY-NJ-PA MSA</td>\n",
       "      <td>2018-02-04</td>\n",
       "      <td>surf</td>\n",
       "      <td>NaT</td>\n",
       "      <td>02/2018</td>\n",
       "    </tr>\n",
       "    <tr>\n",
       "      <th>499</th>\n",
       "      <td>1499</td>\n",
       "      <td>Shena</td>\n",
       "      <td>Dickson</td>\n",
       "      <td>37</td>\n",
       "      <td>Orlando-Kissimmee-Sanford, FL MSA</td>\n",
       "      <td>2018-05-06</td>\n",
       "      <td>surf</td>\n",
       "      <td>NaT</td>\n",
       "      <td>05/2018</td>\n",
       "    </tr>\n",
       "  </tbody>\n",
       "</table>\n",
       "<p>500 rows × 9 columns</p>\n",
       "</div>"
      ],
      "text/plain": [
       "     user_id first_name   last_name  age  \\\n",
       "0       1000   Anamaria       Bauer   45   \n",
       "1       1001     Mickey   Wilkerson   28   \n",
       "2       1002     Carlee     Hoffman   36   \n",
       "3       1003   Reynaldo     Jenkins   52   \n",
       "4       1004    Leonila    Thompson   40   \n",
       "..       ...        ...         ...  ...   \n",
       "495     1495      Fidel      Sharpe   67   \n",
       "496     1496      Ariel    Shepherd   49   \n",
       "497     1497      Donte     Barrera   49   \n",
       "498     1498       Scot  Williamson   51   \n",
       "499     1499      Shena     Dickson   37   \n",
       "\n",
       "                                          city   reg_date      plan  \\\n",
       "0        Atlanta-Sandy Springs-Roswell, GA MSA 2018-12-24  ultimate   \n",
       "1              Seattle-Tacoma-Bellevue, WA MSA 2018-08-13      surf   \n",
       "2         Las Vegas-Henderson-Paradise, NV MSA 2018-10-21      surf   \n",
       "3                                Tulsa, OK MSA 2018-01-28      surf   \n",
       "4              Seattle-Tacoma-Bellevue, WA MSA 2018-05-23      surf   \n",
       "..                                         ...        ...       ...   \n",
       "495  New York-Newark-Jersey City, NY-NJ-PA MSA 2018-09-04      surf   \n",
       "496               New Orleans-Metairie, LA MSA 2018-02-20      surf   \n",
       "497     Los Angeles-Long Beach-Anaheim, CA MSA 2018-12-10  ultimate   \n",
       "498  New York-Newark-Jersey City, NY-NJ-PA MSA 2018-02-04      surf   \n",
       "499          Orlando-Kissimmee-Sanford, FL MSA 2018-05-06      surf   \n",
       "\n",
       "    churn_date    month  \n",
       "0          NaT  12/2018  \n",
       "1          NaT  08/2018  \n",
       "2          NaT  10/2018  \n",
       "3          NaT  01/2018  \n",
       "4          NaT  05/2018  \n",
       "..         ...      ...  \n",
       "495        NaT  09/2018  \n",
       "496        NaT  02/2018  \n",
       "497        NaT  12/2018  \n",
       "498        NaT  02/2018  \n",
       "499        NaT  05/2018  \n",
       "\n",
       "[500 rows x 9 columns]"
      ]
     },
     "metadata": {},
     "output_type": "display_data"
    }
   ],
   "source": [
    "user['month'] = user['reg_date'].dt.strftime('%m/%Y')\n",
    "\n",
    "user.info()\n",
    "display(user)"
   ]
  },
  {
   "cell_type": "markdown",
   "metadata": {},
   "source": [
    "## Calls"
   ]
  },
  {
   "cell_type": "code",
   "execution_count": 9,
   "metadata": {},
   "outputs": [
    {
     "name": "stdout",
     "output_type": "stream",
     "text": [
      "(137735, 4)\n",
      "<class 'pandas.core.frame.DataFrame'>\n",
      "RangeIndex: 137735 entries, 0 to 137734\n",
      "Data columns (total 4 columns):\n",
      " #   Column     Non-Null Count   Dtype \n",
      "---  ------     --------------   ----- \n",
      " 0   id         137735 non-null  object\n",
      " 1   user_id    137735 non-null  int64 \n",
      " 2   call_date  137735 non-null  object\n",
      " 3   duration   137735 non-null  int64 \n",
      "dtypes: int64(2), object(2)\n",
      "memory usage: 4.2+ MB\n",
      "None\n",
      "             user_id       duration\n",
      "count  137735.000000  137735.000000\n",
      "mean     1247.658046       7.146673\n",
      "std       139.416268       5.953919\n",
      "min      1000.000000       0.000000\n",
      "25%      1128.000000       2.000000\n",
      "50%      1247.000000       6.000000\n",
      "75%      1365.000000      11.000000\n",
      "max      1499.000000      38.000000\n"
     ]
    }
   ],
   "source": [
    "call['duration'] = np.ceil(call['duration'])\n",
    "call = call.astype({\"duration\":'int'})\n",
    "\n",
    "print(call.shape)\n",
    "print(call.info())\n",
    "print(call.describe())"
   ]
  },
  {
   "cell_type": "code",
   "execution_count": 10,
   "metadata": {},
   "outputs": [
    {
     "data": {
      "text/html": [
       "<div>\n",
       "<style scoped>\n",
       "    .dataframe tbody tr th:only-of-type {\n",
       "        vertical-align: middle;\n",
       "    }\n",
       "\n",
       "    .dataframe tbody tr th {\n",
       "        vertical-align: top;\n",
       "    }\n",
       "\n",
       "    .dataframe thead th {\n",
       "        text-align: right;\n",
       "    }\n",
       "</style>\n",
       "<table border=\"1\" class=\"dataframe\">\n",
       "  <thead>\n",
       "    <tr style=\"text-align: right;\">\n",
       "      <th></th>\n",
       "      <th>id</th>\n",
       "      <th>user_id</th>\n",
       "      <th>call_date</th>\n",
       "      <th>duration</th>\n",
       "    </tr>\n",
       "  </thead>\n",
       "  <tbody>\n",
       "    <tr>\n",
       "      <th>0</th>\n",
       "      <td>1000_93</td>\n",
       "      <td>1000</td>\n",
       "      <td>2018-12-27</td>\n",
       "      <td>9</td>\n",
       "    </tr>\n",
       "    <tr>\n",
       "      <th>1</th>\n",
       "      <td>1000_145</td>\n",
       "      <td>1000</td>\n",
       "      <td>2018-12-27</td>\n",
       "      <td>14</td>\n",
       "    </tr>\n",
       "    <tr>\n",
       "      <th>2</th>\n",
       "      <td>1000_247</td>\n",
       "      <td>1000</td>\n",
       "      <td>2018-12-27</td>\n",
       "      <td>15</td>\n",
       "    </tr>\n",
       "    <tr>\n",
       "      <th>3</th>\n",
       "      <td>1000_309</td>\n",
       "      <td>1000</td>\n",
       "      <td>2018-12-28</td>\n",
       "      <td>6</td>\n",
       "    </tr>\n",
       "    <tr>\n",
       "      <th>4</th>\n",
       "      <td>1000_380</td>\n",
       "      <td>1000</td>\n",
       "      <td>2018-12-30</td>\n",
       "      <td>5</td>\n",
       "    </tr>\n",
       "  </tbody>\n",
       "</table>\n",
       "</div>"
      ],
      "text/plain": [
       "         id  user_id   call_date  duration\n",
       "0   1000_93     1000  2018-12-27         9\n",
       "1  1000_145     1000  2018-12-27        14\n",
       "2  1000_247     1000  2018-12-27        15\n",
       "3  1000_309     1000  2018-12-28         6\n",
       "4  1000_380     1000  2018-12-30         5"
      ]
     },
     "metadata": {},
     "output_type": "display_data"
    },
    {
     "name": "stdout",
     "output_type": "stream",
     "text": [
      "None\n",
      "<class 'pandas.core.frame.DataFrame'>\n",
      "RangeIndex: 137735 entries, 0 to 137734\n",
      "Data columns (total 4 columns):\n",
      " #   Column     Non-Null Count   Dtype \n",
      "---  ------     --------------   ----- \n",
      " 0   id         137735 non-null  object\n",
      " 1   user_id    137735 non-null  int64 \n",
      " 2   call_date  137735 non-null  object\n",
      " 3   duration   137735 non-null  int64 \n",
      "dtypes: int64(2), object(2)\n",
      "memory usage: 4.2+ MB\n"
     ]
    }
   ],
   "source": [
    "print(display(call.head(5)))\n",
    "call.info()"
   ]
  },
  {
   "cell_type": "markdown",
   "metadata": {},
   "source": [
    "The main issue in this dataframe would be converting the call_date column to datetime as it is a date. We would also convert the id column into an int."
   ]
  },
  {
   "cell_type": "markdown",
   "metadata": {},
   "source": [
    "### Fix data"
   ]
  },
  {
   "cell_type": "code",
   "execution_count": 11,
   "metadata": {},
   "outputs": [
    {
     "name": "stdout",
     "output_type": "stream",
     "text": [
      "<class 'pandas.core.frame.DataFrame'>\n",
      "RangeIndex: 137735 entries, 0 to 137734\n",
      "Data columns (total 4 columns):\n",
      " #   Column     Non-Null Count   Dtype         \n",
      "---  ------     --------------   -----         \n",
      " 0   id         137735 non-null  int64         \n",
      " 1   user_id    137735 non-null  int64         \n",
      " 2   call_date  137735 non-null  datetime64[ns]\n",
      " 3   duration   137735 non-null  int64         \n",
      "dtypes: datetime64[ns](1), int64(3)\n",
      "memory usage: 4.2 MB\n"
     ]
    },
    {
     "data": {
      "text/html": [
       "<div>\n",
       "<style scoped>\n",
       "    .dataframe tbody tr th:only-of-type {\n",
       "        vertical-align: middle;\n",
       "    }\n",
       "\n",
       "    .dataframe tbody tr th {\n",
       "        vertical-align: top;\n",
       "    }\n",
       "\n",
       "    .dataframe thead th {\n",
       "        text-align: right;\n",
       "    }\n",
       "</style>\n",
       "<table border=\"1\" class=\"dataframe\">\n",
       "  <thead>\n",
       "    <tr style=\"text-align: right;\">\n",
       "      <th></th>\n",
       "      <th>id</th>\n",
       "      <th>user_id</th>\n",
       "      <th>call_date</th>\n",
       "      <th>duration</th>\n",
       "    </tr>\n",
       "  </thead>\n",
       "  <tbody>\n",
       "    <tr>\n",
       "      <th>0</th>\n",
       "      <td>100093</td>\n",
       "      <td>1000</td>\n",
       "      <td>2018-12-27</td>\n",
       "      <td>9</td>\n",
       "    </tr>\n",
       "    <tr>\n",
       "      <th>1</th>\n",
       "      <td>1000145</td>\n",
       "      <td>1000</td>\n",
       "      <td>2018-12-27</td>\n",
       "      <td>14</td>\n",
       "    </tr>\n",
       "    <tr>\n",
       "      <th>2</th>\n",
       "      <td>1000247</td>\n",
       "      <td>1000</td>\n",
       "      <td>2018-12-27</td>\n",
       "      <td>15</td>\n",
       "    </tr>\n",
       "    <tr>\n",
       "      <th>3</th>\n",
       "      <td>1000309</td>\n",
       "      <td>1000</td>\n",
       "      <td>2018-12-28</td>\n",
       "      <td>6</td>\n",
       "    </tr>\n",
       "    <tr>\n",
       "      <th>4</th>\n",
       "      <td>1000380</td>\n",
       "      <td>1000</td>\n",
       "      <td>2018-12-30</td>\n",
       "      <td>5</td>\n",
       "    </tr>\n",
       "    <tr>\n",
       "      <th>...</th>\n",
       "      <td>...</td>\n",
       "      <td>...</td>\n",
       "      <td>...</td>\n",
       "      <td>...</td>\n",
       "    </tr>\n",
       "    <tr>\n",
       "      <th>137730</th>\n",
       "      <td>1499199</td>\n",
       "      <td>1499</td>\n",
       "      <td>2018-11-21</td>\n",
       "      <td>9</td>\n",
       "    </tr>\n",
       "    <tr>\n",
       "      <th>137731</th>\n",
       "      <td>1499200</td>\n",
       "      <td>1499</td>\n",
       "      <td>2018-10-20</td>\n",
       "      <td>11</td>\n",
       "    </tr>\n",
       "    <tr>\n",
       "      <th>137732</th>\n",
       "      <td>1499201</td>\n",
       "      <td>1499</td>\n",
       "      <td>2018-09-21</td>\n",
       "      <td>9</td>\n",
       "    </tr>\n",
       "    <tr>\n",
       "      <th>137733</th>\n",
       "      <td>1499202</td>\n",
       "      <td>1499</td>\n",
       "      <td>2018-10-10</td>\n",
       "      <td>1</td>\n",
       "    </tr>\n",
       "    <tr>\n",
       "      <th>137734</th>\n",
       "      <td>1499203</td>\n",
       "      <td>1499</td>\n",
       "      <td>2018-12-29</td>\n",
       "      <td>14</td>\n",
       "    </tr>\n",
       "  </tbody>\n",
       "</table>\n",
       "<p>137735 rows × 4 columns</p>\n",
       "</div>"
      ],
      "text/plain": [
       "             id  user_id  call_date  duration\n",
       "0        100093     1000 2018-12-27         9\n",
       "1       1000145     1000 2018-12-27        14\n",
       "2       1000247     1000 2018-12-27        15\n",
       "3       1000309     1000 2018-12-28         6\n",
       "4       1000380     1000 2018-12-30         5\n",
       "...         ...      ...        ...       ...\n",
       "137730  1499199     1499 2018-11-21         9\n",
       "137731  1499200     1499 2018-10-20        11\n",
       "137732  1499201     1499 2018-09-21         9\n",
       "137733  1499202     1499 2018-10-10         1\n",
       "137734  1499203     1499 2018-12-29        14\n",
       "\n",
       "[137735 rows x 4 columns]"
      ]
     },
     "metadata": {},
     "output_type": "display_data"
    }
   ],
   "source": [
    "call = call.astype({\"id\": int})\n",
    "call['call_date'] = pd.to_datetime(call['call_date'], format='%Y-%m-%d')\n",
    "\n",
    "call.info()\n",
    "display(call)"
   ]
  },
  {
   "cell_type": "markdown",
   "metadata": {},
   "source": [
    "### Enrich data"
   ]
  },
  {
   "cell_type": "code",
   "execution_count": 12,
   "metadata": {},
   "outputs": [
    {
     "data": {
      "text/html": [
       "<div>\n",
       "<style scoped>\n",
       "    .dataframe tbody tr th:only-of-type {\n",
       "        vertical-align: middle;\n",
       "    }\n",
       "\n",
       "    .dataframe tbody tr th {\n",
       "        vertical-align: top;\n",
       "    }\n",
       "\n",
       "    .dataframe thead th {\n",
       "        text-align: right;\n",
       "    }\n",
       "</style>\n",
       "<table border=\"1\" class=\"dataframe\">\n",
       "  <thead>\n",
       "    <tr style=\"text-align: right;\">\n",
       "      <th></th>\n",
       "      <th>id</th>\n",
       "      <th>user_id</th>\n",
       "      <th>call_date</th>\n",
       "      <th>duration</th>\n",
       "      <th>month</th>\n",
       "    </tr>\n",
       "  </thead>\n",
       "  <tbody>\n",
       "    <tr>\n",
       "      <th>0</th>\n",
       "      <td>100093</td>\n",
       "      <td>1000</td>\n",
       "      <td>2018-12-27</td>\n",
       "      <td>9</td>\n",
       "      <td>12/2018</td>\n",
       "    </tr>\n",
       "    <tr>\n",
       "      <th>1</th>\n",
       "      <td>1000145</td>\n",
       "      <td>1000</td>\n",
       "      <td>2018-12-27</td>\n",
       "      <td>14</td>\n",
       "      <td>12/2018</td>\n",
       "    </tr>\n",
       "    <tr>\n",
       "      <th>2</th>\n",
       "      <td>1000247</td>\n",
       "      <td>1000</td>\n",
       "      <td>2018-12-27</td>\n",
       "      <td>15</td>\n",
       "      <td>12/2018</td>\n",
       "    </tr>\n",
       "    <tr>\n",
       "      <th>3</th>\n",
       "      <td>1000309</td>\n",
       "      <td>1000</td>\n",
       "      <td>2018-12-28</td>\n",
       "      <td>6</td>\n",
       "      <td>12/2018</td>\n",
       "    </tr>\n",
       "    <tr>\n",
       "      <th>4</th>\n",
       "      <td>1000380</td>\n",
       "      <td>1000</td>\n",
       "      <td>2018-12-30</td>\n",
       "      <td>5</td>\n",
       "      <td>12/2018</td>\n",
       "    </tr>\n",
       "    <tr>\n",
       "      <th>...</th>\n",
       "      <td>...</td>\n",
       "      <td>...</td>\n",
       "      <td>...</td>\n",
       "      <td>...</td>\n",
       "      <td>...</td>\n",
       "    </tr>\n",
       "    <tr>\n",
       "      <th>137730</th>\n",
       "      <td>1499199</td>\n",
       "      <td>1499</td>\n",
       "      <td>2018-11-21</td>\n",
       "      <td>9</td>\n",
       "      <td>11/2018</td>\n",
       "    </tr>\n",
       "    <tr>\n",
       "      <th>137731</th>\n",
       "      <td>1499200</td>\n",
       "      <td>1499</td>\n",
       "      <td>2018-10-20</td>\n",
       "      <td>11</td>\n",
       "      <td>10/2018</td>\n",
       "    </tr>\n",
       "    <tr>\n",
       "      <th>137732</th>\n",
       "      <td>1499201</td>\n",
       "      <td>1499</td>\n",
       "      <td>2018-09-21</td>\n",
       "      <td>9</td>\n",
       "      <td>09/2018</td>\n",
       "    </tr>\n",
       "    <tr>\n",
       "      <th>137733</th>\n",
       "      <td>1499202</td>\n",
       "      <td>1499</td>\n",
       "      <td>2018-10-10</td>\n",
       "      <td>1</td>\n",
       "      <td>10/2018</td>\n",
       "    </tr>\n",
       "    <tr>\n",
       "      <th>137734</th>\n",
       "      <td>1499203</td>\n",
       "      <td>1499</td>\n",
       "      <td>2018-12-29</td>\n",
       "      <td>14</td>\n",
       "      <td>12/2018</td>\n",
       "    </tr>\n",
       "  </tbody>\n",
       "</table>\n",
       "<p>137735 rows × 5 columns</p>\n",
       "</div>"
      ],
      "text/plain": [
       "             id  user_id  call_date  duration    month\n",
       "0        100093     1000 2018-12-27         9  12/2018\n",
       "1       1000145     1000 2018-12-27        14  12/2018\n",
       "2       1000247     1000 2018-12-27        15  12/2018\n",
       "3       1000309     1000 2018-12-28         6  12/2018\n",
       "4       1000380     1000 2018-12-30         5  12/2018\n",
       "...         ...      ...        ...       ...      ...\n",
       "137730  1499199     1499 2018-11-21         9  11/2018\n",
       "137731  1499200     1499 2018-10-20        11  10/2018\n",
       "137732  1499201     1499 2018-09-21         9  09/2018\n",
       "137733  1499202     1499 2018-10-10         1  10/2018\n",
       "137734  1499203     1499 2018-12-29        14  12/2018\n",
       "\n",
       "[137735 rows x 5 columns]"
      ]
     },
     "metadata": {},
     "output_type": "display_data"
    }
   ],
   "source": [
    "call['month'] = call['call_date'].dt.strftime('%m/%Y')\n",
    "\n",
    "display(call)"
   ]
  },
  {
   "cell_type": "markdown",
   "metadata": {},
   "source": [
    "## Messages"
   ]
  },
  {
   "cell_type": "code",
   "execution_count": 13,
   "metadata": {},
   "outputs": [
    {
     "name": "stdout",
     "output_type": "stream",
     "text": [
      "(76051, 3)\n",
      "<class 'pandas.core.frame.DataFrame'>\n",
      "RangeIndex: 76051 entries, 0 to 76050\n",
      "Data columns (total 3 columns):\n",
      " #   Column        Non-Null Count  Dtype \n",
      "---  ------        --------------  ----- \n",
      " 0   id            76051 non-null  object\n",
      " 1   user_id       76051 non-null  int64 \n",
      " 2   message_date  76051 non-null  object\n",
      "dtypes: int64(1), object(2)\n",
      "memory usage: 1.7+ MB\n",
      "None\n",
      "            user_id\n",
      "count  76051.000000\n",
      "mean    1245.972768\n",
      "std      139.843635\n",
      "min     1000.000000\n",
      "25%     1123.000000\n",
      "50%     1251.000000\n",
      "75%     1362.000000\n",
      "max     1497.000000\n"
     ]
    }
   ],
   "source": [
    "print(msg.shape)\n",
    "print(msg.info())\n",
    "print(msg.describe())"
   ]
  },
  {
   "cell_type": "code",
   "execution_count": 14,
   "metadata": {},
   "outputs": [
    {
     "data": {
      "text/html": [
       "<div>\n",
       "<style scoped>\n",
       "    .dataframe tbody tr th:only-of-type {\n",
       "        vertical-align: middle;\n",
       "    }\n",
       "\n",
       "    .dataframe tbody tr th {\n",
       "        vertical-align: top;\n",
       "    }\n",
       "\n",
       "    .dataframe thead th {\n",
       "        text-align: right;\n",
       "    }\n",
       "</style>\n",
       "<table border=\"1\" class=\"dataframe\">\n",
       "  <thead>\n",
       "    <tr style=\"text-align: right;\">\n",
       "      <th></th>\n",
       "      <th>id</th>\n",
       "      <th>user_id</th>\n",
       "      <th>message_date</th>\n",
       "    </tr>\n",
       "  </thead>\n",
       "  <tbody>\n",
       "    <tr>\n",
       "      <th>0</th>\n",
       "      <td>1000_125</td>\n",
       "      <td>1000</td>\n",
       "      <td>2018-12-27</td>\n",
       "    </tr>\n",
       "    <tr>\n",
       "      <th>1</th>\n",
       "      <td>1000_160</td>\n",
       "      <td>1000</td>\n",
       "      <td>2018-12-31</td>\n",
       "    </tr>\n",
       "    <tr>\n",
       "      <th>2</th>\n",
       "      <td>1000_223</td>\n",
       "      <td>1000</td>\n",
       "      <td>2018-12-31</td>\n",
       "    </tr>\n",
       "    <tr>\n",
       "      <th>3</th>\n",
       "      <td>1000_251</td>\n",
       "      <td>1000</td>\n",
       "      <td>2018-12-27</td>\n",
       "    </tr>\n",
       "    <tr>\n",
       "      <th>4</th>\n",
       "      <td>1000_255</td>\n",
       "      <td>1000</td>\n",
       "      <td>2018-12-26</td>\n",
       "    </tr>\n",
       "  </tbody>\n",
       "</table>\n",
       "</div>"
      ],
      "text/plain": [
       "         id  user_id message_date\n",
       "0  1000_125     1000   2018-12-27\n",
       "1  1000_160     1000   2018-12-31\n",
       "2  1000_223     1000   2018-12-31\n",
       "3  1000_251     1000   2018-12-27\n",
       "4  1000_255     1000   2018-12-26"
      ]
     },
     "metadata": {},
     "output_type": "display_data"
    },
    {
     "name": "stdout",
     "output_type": "stream",
     "text": [
      "None\n"
     ]
    }
   ],
   "source": [
    "print(display(msg.head(5)))"
   ]
  },
  {
   "cell_type": "markdown",
   "metadata": {},
   "source": [
    "The issues in this data are that the id column should be int and the message_date column should be datetime."
   ]
  },
  {
   "cell_type": "markdown",
   "metadata": {},
   "source": [
    " "
   ]
  },
  {
   "cell_type": "markdown",
   "metadata": {},
   "source": [
    "### Fix data"
   ]
  },
  {
   "cell_type": "code",
   "execution_count": 15,
   "metadata": {},
   "outputs": [
    {
     "name": "stdout",
     "output_type": "stream",
     "text": [
      "<class 'pandas.core.frame.DataFrame'>\n",
      "RangeIndex: 76051 entries, 0 to 76050\n",
      "Data columns (total 3 columns):\n",
      " #   Column        Non-Null Count  Dtype         \n",
      "---  ------        --------------  -----         \n",
      " 0   id            76051 non-null  int64         \n",
      " 1   user_id       76051 non-null  int64         \n",
      " 2   message_date  76051 non-null  datetime64[ns]\n",
      "dtypes: datetime64[ns](1), int64(2)\n",
      "memory usage: 1.7 MB\n"
     ]
    }
   ],
   "source": [
    "msg = msg.astype({\"id\": int})\n",
    "msg['message_date'] = pd.to_datetime(msg['message_date'], format='%Y-%m-%d')\n",
    "msg.info()"
   ]
  },
  {
   "cell_type": "markdown",
   "metadata": {},
   "source": [
    "### Enrich data"
   ]
  },
  {
   "cell_type": "code",
   "execution_count": 16,
   "metadata": {},
   "outputs": [
    {
     "data": {
      "text/html": [
       "<div>\n",
       "<style scoped>\n",
       "    .dataframe tbody tr th:only-of-type {\n",
       "        vertical-align: middle;\n",
       "    }\n",
       "\n",
       "    .dataframe tbody tr th {\n",
       "        vertical-align: top;\n",
       "    }\n",
       "\n",
       "    .dataframe thead th {\n",
       "        text-align: right;\n",
       "    }\n",
       "</style>\n",
       "<table border=\"1\" class=\"dataframe\">\n",
       "  <thead>\n",
       "    <tr style=\"text-align: right;\">\n",
       "      <th></th>\n",
       "      <th>id</th>\n",
       "      <th>user_id</th>\n",
       "      <th>message_date</th>\n",
       "      <th>month</th>\n",
       "    </tr>\n",
       "  </thead>\n",
       "  <tbody>\n",
       "    <tr>\n",
       "      <th>0</th>\n",
       "      <td>1000125</td>\n",
       "      <td>1000</td>\n",
       "      <td>2018-12-27</td>\n",
       "      <td>12/2018</td>\n",
       "    </tr>\n",
       "    <tr>\n",
       "      <th>1</th>\n",
       "      <td>1000160</td>\n",
       "      <td>1000</td>\n",
       "      <td>2018-12-31</td>\n",
       "      <td>12/2018</td>\n",
       "    </tr>\n",
       "    <tr>\n",
       "      <th>2</th>\n",
       "      <td>1000223</td>\n",
       "      <td>1000</td>\n",
       "      <td>2018-12-31</td>\n",
       "      <td>12/2018</td>\n",
       "    </tr>\n",
       "    <tr>\n",
       "      <th>3</th>\n",
       "      <td>1000251</td>\n",
       "      <td>1000</td>\n",
       "      <td>2018-12-27</td>\n",
       "      <td>12/2018</td>\n",
       "    </tr>\n",
       "    <tr>\n",
       "      <th>4</th>\n",
       "      <td>1000255</td>\n",
       "      <td>1000</td>\n",
       "      <td>2018-12-26</td>\n",
       "      <td>12/2018</td>\n",
       "    </tr>\n",
       "    <tr>\n",
       "      <th>...</th>\n",
       "      <td>...</td>\n",
       "      <td>...</td>\n",
       "      <td>...</td>\n",
       "      <td>...</td>\n",
       "    </tr>\n",
       "    <tr>\n",
       "      <th>76046</th>\n",
       "      <td>1497526</td>\n",
       "      <td>1497</td>\n",
       "      <td>2018-12-24</td>\n",
       "      <td>12/2018</td>\n",
       "    </tr>\n",
       "    <tr>\n",
       "      <th>76047</th>\n",
       "      <td>1497536</td>\n",
       "      <td>1497</td>\n",
       "      <td>2018-12-24</td>\n",
       "      <td>12/2018</td>\n",
       "    </tr>\n",
       "    <tr>\n",
       "      <th>76048</th>\n",
       "      <td>1497547</td>\n",
       "      <td>1497</td>\n",
       "      <td>2018-12-31</td>\n",
       "      <td>12/2018</td>\n",
       "    </tr>\n",
       "    <tr>\n",
       "      <th>76049</th>\n",
       "      <td>1497558</td>\n",
       "      <td>1497</td>\n",
       "      <td>2018-12-24</td>\n",
       "      <td>12/2018</td>\n",
       "    </tr>\n",
       "    <tr>\n",
       "      <th>76050</th>\n",
       "      <td>1497613</td>\n",
       "      <td>1497</td>\n",
       "      <td>2018-12-23</td>\n",
       "      <td>12/2018</td>\n",
       "    </tr>\n",
       "  </tbody>\n",
       "</table>\n",
       "<p>76051 rows × 4 columns</p>\n",
       "</div>"
      ],
      "text/plain": [
       "            id  user_id message_date    month\n",
       "0      1000125     1000   2018-12-27  12/2018\n",
       "1      1000160     1000   2018-12-31  12/2018\n",
       "2      1000223     1000   2018-12-31  12/2018\n",
       "3      1000251     1000   2018-12-27  12/2018\n",
       "4      1000255     1000   2018-12-26  12/2018\n",
       "...        ...      ...          ...      ...\n",
       "76046  1497526     1497   2018-12-24  12/2018\n",
       "76047  1497536     1497   2018-12-24  12/2018\n",
       "76048  1497547     1497   2018-12-31  12/2018\n",
       "76049  1497558     1497   2018-12-24  12/2018\n",
       "76050  1497613     1497   2018-12-23  12/2018\n",
       "\n",
       "[76051 rows x 4 columns]"
      ]
     },
     "metadata": {},
     "output_type": "display_data"
    }
   ],
   "source": [
    "msg['month'] = msg['message_date'].dt.strftime('%m/%Y')\n",
    "display(msg)"
   ]
  },
  {
   "cell_type": "markdown",
   "metadata": {},
   "source": [
    "## Internet"
   ]
  },
  {
   "cell_type": "code",
   "execution_count": 17,
   "metadata": {},
   "outputs": [
    {
     "name": "stdout",
     "output_type": "stream",
     "text": [
      "(104825, 4)\n",
      "<class 'pandas.core.frame.DataFrame'>\n",
      "RangeIndex: 104825 entries, 0 to 104824\n",
      "Data columns (total 4 columns):\n",
      " #   Column        Non-Null Count   Dtype  \n",
      "---  ------        --------------   -----  \n",
      " 0   id            104825 non-null  object \n",
      " 1   user_id       104825 non-null  int64  \n",
      " 2   session_date  104825 non-null  object \n",
      " 3   mb_used       104825 non-null  float64\n",
      "dtypes: float64(1), int64(1), object(2)\n",
      "memory usage: 3.2+ MB\n",
      "None\n",
      "             user_id        mb_used\n",
      "count  104825.000000  104825.000000\n",
      "mean     1242.496361     366.713701\n",
      "std       142.053913     277.170542\n",
      "min      1000.000000       0.000000\n",
      "25%      1122.000000     136.080000\n",
      "50%      1236.000000     343.980000\n",
      "75%      1367.000000     554.610000\n",
      "max      1499.000000    1693.470000\n"
     ]
    }
   ],
   "source": [
    "print(wifi.shape)\n",
    "print(wifi.info())\n",
    "print(wifi.describe())"
   ]
  },
  {
   "cell_type": "code",
   "execution_count": 18,
   "metadata": {
    "scrolled": true
   },
   "outputs": [
    {
     "data": {
      "text/html": [
       "<div>\n",
       "<style scoped>\n",
       "    .dataframe tbody tr th:only-of-type {\n",
       "        vertical-align: middle;\n",
       "    }\n",
       "\n",
       "    .dataframe tbody tr th {\n",
       "        vertical-align: top;\n",
       "    }\n",
       "\n",
       "    .dataframe thead th {\n",
       "        text-align: right;\n",
       "    }\n",
       "</style>\n",
       "<table border=\"1\" class=\"dataframe\">\n",
       "  <thead>\n",
       "    <tr style=\"text-align: right;\">\n",
       "      <th></th>\n",
       "      <th>id</th>\n",
       "      <th>user_id</th>\n",
       "      <th>session_date</th>\n",
       "      <th>mb_used</th>\n",
       "    </tr>\n",
       "  </thead>\n",
       "  <tbody>\n",
       "    <tr>\n",
       "      <th>0</th>\n",
       "      <td>1000_13</td>\n",
       "      <td>1000</td>\n",
       "      <td>2018-12-29</td>\n",
       "      <td>89.86</td>\n",
       "    </tr>\n",
       "    <tr>\n",
       "      <th>1</th>\n",
       "      <td>1000_204</td>\n",
       "      <td>1000</td>\n",
       "      <td>2018-12-31</td>\n",
       "      <td>0.00</td>\n",
       "    </tr>\n",
       "    <tr>\n",
       "      <th>2</th>\n",
       "      <td>1000_379</td>\n",
       "      <td>1000</td>\n",
       "      <td>2018-12-28</td>\n",
       "      <td>660.40</td>\n",
       "    </tr>\n",
       "    <tr>\n",
       "      <th>3</th>\n",
       "      <td>1000_413</td>\n",
       "      <td>1000</td>\n",
       "      <td>2018-12-26</td>\n",
       "      <td>270.99</td>\n",
       "    </tr>\n",
       "    <tr>\n",
       "      <th>4</th>\n",
       "      <td>1000_442</td>\n",
       "      <td>1000</td>\n",
       "      <td>2018-12-27</td>\n",
       "      <td>880.22</td>\n",
       "    </tr>\n",
       "  </tbody>\n",
       "</table>\n",
       "</div>"
      ],
      "text/plain": [
       "         id  user_id session_date  mb_used\n",
       "0   1000_13     1000   2018-12-29    89.86\n",
       "1  1000_204     1000   2018-12-31     0.00\n",
       "2  1000_379     1000   2018-12-28   660.40\n",
       "3  1000_413     1000   2018-12-26   270.99\n",
       "4  1000_442     1000   2018-12-27   880.22"
      ]
     },
     "metadata": {},
     "output_type": "display_data"
    },
    {
     "name": "stdout",
     "output_type": "stream",
     "text": [
      "None\n"
     ]
    }
   ],
   "source": [
    "print(display(wifi.head(5)))"
   ]
  },
  {
   "cell_type": "markdown",
   "metadata": {},
   "source": [
    "Most of the data in this dataframe is correct however there are some corrections that we can make. It would be best to turn the id column into int and the session_date column into datetime."
   ]
  },
  {
   "cell_type": "markdown",
   "metadata": {},
   "source": [
    "### Fix data"
   ]
  },
  {
   "cell_type": "code",
   "execution_count": 19,
   "metadata": {},
   "outputs": [
    {
     "name": "stdout",
     "output_type": "stream",
     "text": [
      "<class 'pandas.core.frame.DataFrame'>\n",
      "RangeIndex: 104825 entries, 0 to 104824\n",
      "Data columns (total 4 columns):\n",
      " #   Column        Non-Null Count   Dtype         \n",
      "---  ------        --------------   -----         \n",
      " 0   id            104825 non-null  int64         \n",
      " 1   user_id       104825 non-null  int64         \n",
      " 2   session_date  104825 non-null  datetime64[ns]\n",
      " 3   mb_used       104825 non-null  float64       \n",
      "dtypes: datetime64[ns](1), float64(1), int64(2)\n",
      "memory usage: 3.2 MB\n"
     ]
    },
    {
     "data": {
      "text/html": [
       "<div>\n",
       "<style scoped>\n",
       "    .dataframe tbody tr th:only-of-type {\n",
       "        vertical-align: middle;\n",
       "    }\n",
       "\n",
       "    .dataframe tbody tr th {\n",
       "        vertical-align: top;\n",
       "    }\n",
       "\n",
       "    .dataframe thead th {\n",
       "        text-align: right;\n",
       "    }\n",
       "</style>\n",
       "<table border=\"1\" class=\"dataframe\">\n",
       "  <thead>\n",
       "    <tr style=\"text-align: right;\">\n",
       "      <th></th>\n",
       "      <th>id</th>\n",
       "      <th>user_id</th>\n",
       "      <th>session_date</th>\n",
       "      <th>mb_used</th>\n",
       "    </tr>\n",
       "  </thead>\n",
       "  <tbody>\n",
       "    <tr>\n",
       "      <th>0</th>\n",
       "      <td>100013</td>\n",
       "      <td>1000</td>\n",
       "      <td>2018-12-29</td>\n",
       "      <td>89.86</td>\n",
       "    </tr>\n",
       "    <tr>\n",
       "      <th>1</th>\n",
       "      <td>1000204</td>\n",
       "      <td>1000</td>\n",
       "      <td>2018-12-31</td>\n",
       "      <td>0.00</td>\n",
       "    </tr>\n",
       "    <tr>\n",
       "      <th>2</th>\n",
       "      <td>1000379</td>\n",
       "      <td>1000</td>\n",
       "      <td>2018-12-28</td>\n",
       "      <td>660.40</td>\n",
       "    </tr>\n",
       "    <tr>\n",
       "      <th>3</th>\n",
       "      <td>1000413</td>\n",
       "      <td>1000</td>\n",
       "      <td>2018-12-26</td>\n",
       "      <td>270.99</td>\n",
       "    </tr>\n",
       "    <tr>\n",
       "      <th>4</th>\n",
       "      <td>1000442</td>\n",
       "      <td>1000</td>\n",
       "      <td>2018-12-27</td>\n",
       "      <td>880.22</td>\n",
       "    </tr>\n",
       "    <tr>\n",
       "      <th>...</th>\n",
       "      <td>...</td>\n",
       "      <td>...</td>\n",
       "      <td>...</td>\n",
       "      <td>...</td>\n",
       "    </tr>\n",
       "    <tr>\n",
       "      <th>104820</th>\n",
       "      <td>1499215</td>\n",
       "      <td>1499</td>\n",
       "      <td>2018-10-20</td>\n",
       "      <td>218.06</td>\n",
       "    </tr>\n",
       "    <tr>\n",
       "      <th>104821</th>\n",
       "      <td>1499216</td>\n",
       "      <td>1499</td>\n",
       "      <td>2018-12-30</td>\n",
       "      <td>304.72</td>\n",
       "    </tr>\n",
       "    <tr>\n",
       "      <th>104822</th>\n",
       "      <td>1499217</td>\n",
       "      <td>1499</td>\n",
       "      <td>2018-09-22</td>\n",
       "      <td>292.75</td>\n",
       "    </tr>\n",
       "    <tr>\n",
       "      <th>104823</th>\n",
       "      <td>1499218</td>\n",
       "      <td>1499</td>\n",
       "      <td>2018-12-07</td>\n",
       "      <td>0.00</td>\n",
       "    </tr>\n",
       "    <tr>\n",
       "      <th>104824</th>\n",
       "      <td>1499219</td>\n",
       "      <td>1499</td>\n",
       "      <td>2018-12-24</td>\n",
       "      <td>758.31</td>\n",
       "    </tr>\n",
       "  </tbody>\n",
       "</table>\n",
       "<p>104825 rows × 4 columns</p>\n",
       "</div>"
      ],
      "text/plain": [
       "             id  user_id session_date  mb_used\n",
       "0        100013     1000   2018-12-29    89.86\n",
       "1       1000204     1000   2018-12-31     0.00\n",
       "2       1000379     1000   2018-12-28   660.40\n",
       "3       1000413     1000   2018-12-26   270.99\n",
       "4       1000442     1000   2018-12-27   880.22\n",
       "...         ...      ...          ...      ...\n",
       "104820  1499215     1499   2018-10-20   218.06\n",
       "104821  1499216     1499   2018-12-30   304.72\n",
       "104822  1499217     1499   2018-09-22   292.75\n",
       "104823  1499218     1499   2018-12-07     0.00\n",
       "104824  1499219     1499   2018-12-24   758.31\n",
       "\n",
       "[104825 rows x 4 columns]"
      ]
     },
     "metadata": {},
     "output_type": "display_data"
    }
   ],
   "source": [
    "wifi = wifi.astype({\"id\": int})\n",
    "wifi['session_date'] = pd.to_datetime(wifi['session_date'], format='%Y-%m-%d')\n",
    "wifi.info()\n",
    "display(wifi)"
   ]
  },
  {
   "cell_type": "markdown",
   "metadata": {},
   "source": [
    "### Enrich data"
   ]
  },
  {
   "cell_type": "code",
   "execution_count": 20,
   "metadata": {},
   "outputs": [
    {
     "data": {
      "text/html": [
       "<div>\n",
       "<style scoped>\n",
       "    .dataframe tbody tr th:only-of-type {\n",
       "        vertical-align: middle;\n",
       "    }\n",
       "\n",
       "    .dataframe tbody tr th {\n",
       "        vertical-align: top;\n",
       "    }\n",
       "\n",
       "    .dataframe thead th {\n",
       "        text-align: right;\n",
       "    }\n",
       "</style>\n",
       "<table border=\"1\" class=\"dataframe\">\n",
       "  <thead>\n",
       "    <tr style=\"text-align: right;\">\n",
       "      <th></th>\n",
       "      <th>id</th>\n",
       "      <th>user_id</th>\n",
       "      <th>session_date</th>\n",
       "      <th>mb_used</th>\n",
       "      <th>month</th>\n",
       "    </tr>\n",
       "  </thead>\n",
       "  <tbody>\n",
       "    <tr>\n",
       "      <th>0</th>\n",
       "      <td>100013</td>\n",
       "      <td>1000</td>\n",
       "      <td>2018-12-29</td>\n",
       "      <td>89.86</td>\n",
       "      <td>12/2018</td>\n",
       "    </tr>\n",
       "    <tr>\n",
       "      <th>1</th>\n",
       "      <td>1000204</td>\n",
       "      <td>1000</td>\n",
       "      <td>2018-12-31</td>\n",
       "      <td>0.00</td>\n",
       "      <td>12/2018</td>\n",
       "    </tr>\n",
       "    <tr>\n",
       "      <th>2</th>\n",
       "      <td>1000379</td>\n",
       "      <td>1000</td>\n",
       "      <td>2018-12-28</td>\n",
       "      <td>660.40</td>\n",
       "      <td>12/2018</td>\n",
       "    </tr>\n",
       "    <tr>\n",
       "      <th>3</th>\n",
       "      <td>1000413</td>\n",
       "      <td>1000</td>\n",
       "      <td>2018-12-26</td>\n",
       "      <td>270.99</td>\n",
       "      <td>12/2018</td>\n",
       "    </tr>\n",
       "    <tr>\n",
       "      <th>4</th>\n",
       "      <td>1000442</td>\n",
       "      <td>1000</td>\n",
       "      <td>2018-12-27</td>\n",
       "      <td>880.22</td>\n",
       "      <td>12/2018</td>\n",
       "    </tr>\n",
       "    <tr>\n",
       "      <th>...</th>\n",
       "      <td>...</td>\n",
       "      <td>...</td>\n",
       "      <td>...</td>\n",
       "      <td>...</td>\n",
       "      <td>...</td>\n",
       "    </tr>\n",
       "    <tr>\n",
       "      <th>104820</th>\n",
       "      <td>1499215</td>\n",
       "      <td>1499</td>\n",
       "      <td>2018-10-20</td>\n",
       "      <td>218.06</td>\n",
       "      <td>10/2018</td>\n",
       "    </tr>\n",
       "    <tr>\n",
       "      <th>104821</th>\n",
       "      <td>1499216</td>\n",
       "      <td>1499</td>\n",
       "      <td>2018-12-30</td>\n",
       "      <td>304.72</td>\n",
       "      <td>12/2018</td>\n",
       "    </tr>\n",
       "    <tr>\n",
       "      <th>104822</th>\n",
       "      <td>1499217</td>\n",
       "      <td>1499</td>\n",
       "      <td>2018-09-22</td>\n",
       "      <td>292.75</td>\n",
       "      <td>09/2018</td>\n",
       "    </tr>\n",
       "    <tr>\n",
       "      <th>104823</th>\n",
       "      <td>1499218</td>\n",
       "      <td>1499</td>\n",
       "      <td>2018-12-07</td>\n",
       "      <td>0.00</td>\n",
       "      <td>12/2018</td>\n",
       "    </tr>\n",
       "    <tr>\n",
       "      <th>104824</th>\n",
       "      <td>1499219</td>\n",
       "      <td>1499</td>\n",
       "      <td>2018-12-24</td>\n",
       "      <td>758.31</td>\n",
       "      <td>12/2018</td>\n",
       "    </tr>\n",
       "  </tbody>\n",
       "</table>\n",
       "<p>104825 rows × 5 columns</p>\n",
       "</div>"
      ],
      "text/plain": [
       "             id  user_id session_date  mb_used    month\n",
       "0        100013     1000   2018-12-29    89.86  12/2018\n",
       "1       1000204     1000   2018-12-31     0.00  12/2018\n",
       "2       1000379     1000   2018-12-28   660.40  12/2018\n",
       "3       1000413     1000   2018-12-26   270.99  12/2018\n",
       "4       1000442     1000   2018-12-27   880.22  12/2018\n",
       "...         ...      ...          ...      ...      ...\n",
       "104820  1499215     1499   2018-10-20   218.06  10/2018\n",
       "104821  1499216     1499   2018-12-30   304.72  12/2018\n",
       "104822  1499217     1499   2018-09-22   292.75  09/2018\n",
       "104823  1499218     1499   2018-12-07     0.00  12/2018\n",
       "104824  1499219     1499   2018-12-24   758.31  12/2018\n",
       "\n",
       "[104825 rows x 5 columns]"
      ]
     },
     "metadata": {},
     "output_type": "display_data"
    }
   ],
   "source": [
    "wifi['month'] = wifi['session_date'].dt.strftime('%m/%Y')\n",
    "display(wifi)"
   ]
  },
  {
   "cell_type": "markdown",
   "metadata": {},
   "source": [
    "## Study plan conditions"
   ]
  },
  {
   "cell_type": "code",
   "execution_count": 21,
   "metadata": {},
   "outputs": [
    {
     "name": "stdout",
     "output_type": "stream",
     "text": [
      "(2, 7)\n",
      "<class 'pandas.core.frame.DataFrame'>\n",
      "Index: 2 entries, surf to ultimate\n",
      "Data columns (total 7 columns):\n",
      " #   Column                 Non-Null Count  Dtype  \n",
      "---  ------                 --------------  -----  \n",
      " 0   messages_included      2 non-null      int64  \n",
      " 1   mb_per_month_included  2 non-null      int64  \n",
      " 2   minutes_included       2 non-null      int64  \n",
      " 3   usd_monthly_pay        2 non-null      int64  \n",
      " 4   usd_per_gb             2 non-null      int64  \n",
      " 5   usd_per_message        2 non-null      float64\n",
      " 6   usd_per_minute         2 non-null      float64\n",
      "dtypes: float64(2), int64(5)\n",
      "memory usage: 128.0+ bytes\n",
      "None\n"
     ]
    },
    {
     "data": {
      "text/html": [
       "<div>\n",
       "<style scoped>\n",
       "    .dataframe tbody tr th:only-of-type {\n",
       "        vertical-align: middle;\n",
       "    }\n",
       "\n",
       "    .dataframe tbody tr th {\n",
       "        vertical-align: top;\n",
       "    }\n",
       "\n",
       "    .dataframe thead th {\n",
       "        text-align: right;\n",
       "    }\n",
       "</style>\n",
       "<table border=\"1\" class=\"dataframe\">\n",
       "  <thead>\n",
       "    <tr style=\"text-align: right;\">\n",
       "      <th></th>\n",
       "      <th>messages_included</th>\n",
       "      <th>mb_per_month_included</th>\n",
       "      <th>minutes_included</th>\n",
       "      <th>usd_monthly_pay</th>\n",
       "      <th>usd_per_gb</th>\n",
       "      <th>usd_per_message</th>\n",
       "      <th>usd_per_minute</th>\n",
       "    </tr>\n",
       "    <tr>\n",
       "      <th>plan_name</th>\n",
       "      <th></th>\n",
       "      <th></th>\n",
       "      <th></th>\n",
       "      <th></th>\n",
       "      <th></th>\n",
       "      <th></th>\n",
       "      <th></th>\n",
       "    </tr>\n",
       "  </thead>\n",
       "  <tbody>\n",
       "    <tr>\n",
       "      <th>surf</th>\n",
       "      <td>50</td>\n",
       "      <td>15360</td>\n",
       "      <td>500</td>\n",
       "      <td>20</td>\n",
       "      <td>10</td>\n",
       "      <td>0.03</td>\n",
       "      <td>0.03</td>\n",
       "    </tr>\n",
       "    <tr>\n",
       "      <th>ultimate</th>\n",
       "      <td>1000</td>\n",
       "      <td>30720</td>\n",
       "      <td>3000</td>\n",
       "      <td>70</td>\n",
       "      <td>7</td>\n",
       "      <td>0.01</td>\n",
       "      <td>0.01</td>\n",
       "    </tr>\n",
       "  </tbody>\n",
       "</table>\n",
       "</div>"
      ],
      "text/plain": [
       "           messages_included  mb_per_month_included  minutes_included  \\\n",
       "plan_name                                                               \n",
       "surf                      50                  15360               500   \n",
       "ultimate                1000                  30720              3000   \n",
       "\n",
       "           usd_monthly_pay  usd_per_gb  usd_per_message  usd_per_minute  \n",
       "plan_name                                                                \n",
       "surf                    20          10             0.03            0.03  \n",
       "ultimate                70           7             0.01            0.01  "
      ]
     },
     "metadata": {},
     "output_type": "display_data"
    }
   ],
   "source": [
    "print(plans.shape)\n",
    "print(plans.info())\n",
    "display(plans)"
   ]
  },
  {
   "cell_type": "markdown",
   "metadata": {},
   "source": [
    "## Aggregate data per user\n",
    "\n"
   ]
  },
  {
   "cell_type": "code",
   "execution_count": 22,
   "metadata": {},
   "outputs": [
    {
     "name": "stdout",
     "output_type": "stream",
     "text": [
      "                 duration            id\n",
      "user_id month                          \n",
      "1000    12/2018  7.750000  9.442654e+05\n",
      "1001    08/2018  6.740741  9.345431e+05\n",
      "        09/2018  6.428571  8.339501e+05\n",
      "        10/2018  6.046154  8.182951e+05\n",
      "        11/2018  6.656250  8.013700e+05\n",
      "...                   ...           ...\n",
      "1498    12/2018  8.692308  9.727455e+05\n",
      "1499    09/2018  8.439024  1.035156e+06\n",
      "        10/2018  7.264151  7.787315e+05\n",
      "        11/2018  6.844444  7.376020e+05\n",
      "        12/2018  7.630769  8.100211e+05\n",
      "\n",
      "[2258 rows x 2 columns]\n"
     ]
    }
   ],
   "source": [
    "call_per_month = call.pivot_table(index=['user_id', 'month'])\n",
    "print(call_per_month)"
   ]
  },
  {
   "cell_type": "code",
   "execution_count": 23,
   "metadata": {},
   "outputs": [
    {
     "name": "stdout",
     "output_type": "stream",
     "text": [
      "                     sum\n",
      "                duration\n",
      "user_id month           \n",
      "1000    12/2018      124\n",
      "1001    08/2018      182\n",
      "        09/2018      315\n",
      "        10/2018      393\n",
      "        11/2018      426\n",
      "...                  ...\n",
      "1498    12/2018      339\n",
      "1499    09/2018      346\n",
      "        10/2018      385\n",
      "        11/2018      308\n",
      "        12/2018      496\n",
      "\n",
      "[2258 rows x 1 columns]\n"
     ]
    }
   ],
   "source": [
    "minutes_per_month = call.pivot_table(index=['user_id', 'month'], values='duration', aggfunc=['sum'])\n",
    "print(minutes_per_month)"
   ]
  },
  {
   "cell_type": "code",
   "execution_count": 24,
   "metadata": {},
   "outputs": [
    {
     "name": "stdout",
     "output_type": "stream",
     "text": [
      "      user_id    month   0\n",
      "0        1000  12/2018  11\n",
      "1        1001  08/2018  30\n",
      "2        1001  09/2018  44\n",
      "3        1001  10/2018  53\n",
      "4        1001  11/2018  36\n",
      "...       ...      ...  ..\n",
      "1801     1496  09/2018  21\n",
      "1802     1496  10/2018  18\n",
      "1803     1496  11/2018  13\n",
      "1804     1496  12/2018  11\n",
      "1805     1497  12/2018  50\n",
      "\n",
      "[1806 rows x 3 columns]\n"
     ]
    }
   ],
   "source": [
    "messages_per_month = msg.groupby(by=['user_id','month']).size().reset_index()\n",
    "print(messages_per_month)"
   ]
  },
  {
   "cell_type": "code",
   "execution_count": 25,
   "metadata": {},
   "outputs": [
    {
     "data": {
      "text/html": [
       "<div>\n",
       "<style scoped>\n",
       "    .dataframe tbody tr th:only-of-type {\n",
       "        vertical-align: middle;\n",
       "    }\n",
       "\n",
       "    .dataframe tbody tr th {\n",
       "        vertical-align: top;\n",
       "    }\n",
       "\n",
       "    .dataframe thead tr th {\n",
       "        text-align: left;\n",
       "    }\n",
       "\n",
       "    .dataframe thead tr:last-of-type th {\n",
       "        text-align: right;\n",
       "    }\n",
       "</style>\n",
       "<table border=\"1\" class=\"dataframe\">\n",
       "  <thead>\n",
       "    <tr>\n",
       "      <th></th>\n",
       "      <th></th>\n",
       "      <th>sum</th>\n",
       "    </tr>\n",
       "    <tr>\n",
       "      <th></th>\n",
       "      <th></th>\n",
       "      <th>mb_used</th>\n",
       "    </tr>\n",
       "    <tr>\n",
       "      <th>user_id</th>\n",
       "      <th>month</th>\n",
       "      <th></th>\n",
       "    </tr>\n",
       "  </thead>\n",
       "  <tbody>\n",
       "    <tr>\n",
       "      <th>1000</th>\n",
       "      <th>12/2018</th>\n",
       "      <td>1901.47</td>\n",
       "    </tr>\n",
       "    <tr>\n",
       "      <th rowspan=\"4\" valign=\"top\">1001</th>\n",
       "      <th>08/2018</th>\n",
       "      <td>6919.15</td>\n",
       "    </tr>\n",
       "    <tr>\n",
       "      <th>09/2018</th>\n",
       "      <td>13314.82</td>\n",
       "    </tr>\n",
       "    <tr>\n",
       "      <th>10/2018</th>\n",
       "      <td>22330.49</td>\n",
       "    </tr>\n",
       "    <tr>\n",
       "      <th>11/2018</th>\n",
       "      <td>18504.30</td>\n",
       "    </tr>\n",
       "    <tr>\n",
       "      <th>...</th>\n",
       "      <th>...</th>\n",
       "      <td>...</td>\n",
       "    </tr>\n",
       "    <tr>\n",
       "      <th>1498</th>\n",
       "      <th>12/2018</th>\n",
       "      <td>23137.69</td>\n",
       "    </tr>\n",
       "    <tr>\n",
       "      <th rowspan=\"4\" valign=\"top\">1499</th>\n",
       "      <th>09/2018</th>\n",
       "      <td>12984.76</td>\n",
       "    </tr>\n",
       "    <tr>\n",
       "      <th>10/2018</th>\n",
       "      <td>19492.43</td>\n",
       "    </tr>\n",
       "    <tr>\n",
       "      <th>11/2018</th>\n",
       "      <td>16813.83</td>\n",
       "    </tr>\n",
       "    <tr>\n",
       "      <th>12/2018</th>\n",
       "      <td>22059.21</td>\n",
       "    </tr>\n",
       "  </tbody>\n",
       "</table>\n",
       "<p>2277 rows × 1 columns</p>\n",
       "</div>"
      ],
      "text/plain": [
       "                      sum\n",
       "                  mb_used\n",
       "user_id month            \n",
       "1000    12/2018   1901.47\n",
       "1001    08/2018   6919.15\n",
       "        09/2018  13314.82\n",
       "        10/2018  22330.49\n",
       "        11/2018  18504.30\n",
       "...                   ...\n",
       "1498    12/2018  23137.69\n",
       "1499    09/2018  12984.76\n",
       "        10/2018  19492.43\n",
       "        11/2018  16813.83\n",
       "        12/2018  22059.21\n",
       "\n",
       "[2277 rows x 1 columns]"
      ]
     },
     "execution_count": 25,
     "metadata": {},
     "output_type": "execute_result"
    }
   ],
   "source": [
    "volume_per_month = wifi.pivot_table(index=['user_id', 'month'], values='mb_used', aggfunc=['sum'])\n",
    "volume_per_month"
   ]
  },
  {
   "cell_type": "code",
   "execution_count": 26,
   "metadata": {},
   "outputs": [
    {
     "data": {
      "text/html": [
       "<div>\n",
       "<style scoped>\n",
       "    .dataframe tbody tr th:only-of-type {\n",
       "        vertical-align: middle;\n",
       "    }\n",
       "\n",
       "    .dataframe tbody tr th {\n",
       "        vertical-align: top;\n",
       "    }\n",
       "\n",
       "    .dataframe thead tr th {\n",
       "        text-align: left;\n",
       "    }\n",
       "\n",
       "    .dataframe thead tr:last-of-type th {\n",
       "        text-align: right;\n",
       "    }\n",
       "</style>\n",
       "<table border=\"1\" class=\"dataframe\">\n",
       "  <thead>\n",
       "    <tr>\n",
       "      <th></th>\n",
       "      <th></th>\n",
       "      <th>sum</th>\n",
       "    </tr>\n",
       "    <tr>\n",
       "      <th></th>\n",
       "      <th></th>\n",
       "      <th>mb_used</th>\n",
       "    </tr>\n",
       "    <tr>\n",
       "      <th>user_id</th>\n",
       "      <th>month</th>\n",
       "      <th></th>\n",
       "    </tr>\n",
       "  </thead>\n",
       "  <tbody>\n",
       "    <tr>\n",
       "      <th>1000</th>\n",
       "      <th>12/2018</th>\n",
       "      <td>2.0</td>\n",
       "    </tr>\n",
       "    <tr>\n",
       "      <th rowspan=\"4\" valign=\"top\">1001</th>\n",
       "      <th>08/2018</th>\n",
       "      <td>7.0</td>\n",
       "    </tr>\n",
       "    <tr>\n",
       "      <th>09/2018</th>\n",
       "      <td>14.0</td>\n",
       "    </tr>\n",
       "    <tr>\n",
       "      <th>10/2018</th>\n",
       "      <td>22.0</td>\n",
       "    </tr>\n",
       "    <tr>\n",
       "      <th>11/2018</th>\n",
       "      <td>19.0</td>\n",
       "    </tr>\n",
       "    <tr>\n",
       "      <th>...</th>\n",
       "      <th>...</th>\n",
       "      <td>...</td>\n",
       "    </tr>\n",
       "    <tr>\n",
       "      <th>1498</th>\n",
       "      <th>12/2018</th>\n",
       "      <td>23.0</td>\n",
       "    </tr>\n",
       "    <tr>\n",
       "      <th rowspan=\"4\" valign=\"top\">1499</th>\n",
       "      <th>09/2018</th>\n",
       "      <td>13.0</td>\n",
       "    </tr>\n",
       "    <tr>\n",
       "      <th>10/2018</th>\n",
       "      <td>20.0</td>\n",
       "    </tr>\n",
       "    <tr>\n",
       "      <th>11/2018</th>\n",
       "      <td>17.0</td>\n",
       "    </tr>\n",
       "    <tr>\n",
       "      <th>12/2018</th>\n",
       "      <td>22.0</td>\n",
       "    </tr>\n",
       "  </tbody>\n",
       "</table>\n",
       "<p>2277 rows × 1 columns</p>\n",
       "</div>"
      ],
      "text/plain": [
       "                    sum\n",
       "                mb_used\n",
       "user_id month          \n",
       "1000    12/2018     2.0\n",
       "1001    08/2018     7.0\n",
       "        09/2018    14.0\n",
       "        10/2018    22.0\n",
       "        11/2018    19.0\n",
       "...                 ...\n",
       "1498    12/2018    23.0\n",
       "1499    09/2018    13.0\n",
       "        10/2018    20.0\n",
       "        11/2018    17.0\n",
       "        12/2018    22.0\n",
       "\n",
       "[2277 rows x 1 columns]"
      ]
     },
     "execution_count": 26,
     "metadata": {},
     "output_type": "execute_result"
    }
   ],
   "source": [
    "def round_to_gb(value):\n",
    "    return np.ceil(value/1024)\n",
    "volume_per_month[('sum', 'mb_used')] = volume_per_month[('sum', 'mb_used')].apply(round_to_gb)\n",
    "volume_per_month"
   ]
  },
  {
   "cell_type": "code",
   "execution_count": 27,
   "metadata": {},
   "outputs": [
    {
     "name": "stdout",
     "output_type": "stream",
     "text": [
      "                          age\n",
      "user_id plan     month       \n",
      "1000    ultimate 12/2018   45\n",
      "1001    surf     08/2018   28\n",
      "1002    surf     10/2018   36\n",
      "1003    surf     01/2018   52\n",
      "1004    surf     05/2018   40\n",
      "...                       ...\n",
      "1495    surf     09/2018   67\n",
      "1496    surf     02/2018   49\n",
      "1497    ultimate 12/2018   49\n",
      "1498    surf     02/2018   51\n",
      "1499    surf     05/2018   37\n",
      "\n",
      "[500 rows x 1 columns]\n"
     ]
    },
    {
     "data": {
      "text/html": [
       "<div>\n",
       "<style scoped>\n",
       "    .dataframe tbody tr th:only-of-type {\n",
       "        vertical-align: middle;\n",
       "    }\n",
       "\n",
       "    .dataframe tbody tr th {\n",
       "        vertical-align: top;\n",
       "    }\n",
       "\n",
       "    .dataframe thead th {\n",
       "        text-align: right;\n",
       "    }\n",
       "</style>\n",
       "<table border=\"1\" class=\"dataframe\">\n",
       "  <thead>\n",
       "    <tr style=\"text-align: right;\">\n",
       "      <th></th>\n",
       "      <th></th>\n",
       "      <th></th>\n",
       "      <th>age</th>\n",
       "    </tr>\n",
       "    <tr>\n",
       "      <th>user_id</th>\n",
       "      <th>plan</th>\n",
       "      <th>month</th>\n",
       "      <th></th>\n",
       "    </tr>\n",
       "  </thead>\n",
       "  <tbody>\n",
       "    <tr>\n",
       "      <th>1000</th>\n",
       "      <th>ultimate</th>\n",
       "      <th>12/2018</th>\n",
       "      <td>45</td>\n",
       "    </tr>\n",
       "    <tr>\n",
       "      <th>1001</th>\n",
       "      <th>surf</th>\n",
       "      <th>08/2018</th>\n",
       "      <td>28</td>\n",
       "    </tr>\n",
       "    <tr>\n",
       "      <th>1002</th>\n",
       "      <th>surf</th>\n",
       "      <th>10/2018</th>\n",
       "      <td>36</td>\n",
       "    </tr>\n",
       "    <tr>\n",
       "      <th>1003</th>\n",
       "      <th>surf</th>\n",
       "      <th>01/2018</th>\n",
       "      <td>52</td>\n",
       "    </tr>\n",
       "    <tr>\n",
       "      <th>1004</th>\n",
       "      <th>surf</th>\n",
       "      <th>05/2018</th>\n",
       "      <td>40</td>\n",
       "    </tr>\n",
       "    <tr>\n",
       "      <th>...</th>\n",
       "      <th>...</th>\n",
       "      <th>...</th>\n",
       "      <td>...</td>\n",
       "    </tr>\n",
       "    <tr>\n",
       "      <th>1495</th>\n",
       "      <th>surf</th>\n",
       "      <th>09/2018</th>\n",
       "      <td>67</td>\n",
       "    </tr>\n",
       "    <tr>\n",
       "      <th>1496</th>\n",
       "      <th>surf</th>\n",
       "      <th>02/2018</th>\n",
       "      <td>49</td>\n",
       "    </tr>\n",
       "    <tr>\n",
       "      <th>1497</th>\n",
       "      <th>ultimate</th>\n",
       "      <th>12/2018</th>\n",
       "      <td>49</td>\n",
       "    </tr>\n",
       "    <tr>\n",
       "      <th>1498</th>\n",
       "      <th>surf</th>\n",
       "      <th>02/2018</th>\n",
       "      <td>51</td>\n",
       "    </tr>\n",
       "    <tr>\n",
       "      <th>1499</th>\n",
       "      <th>surf</th>\n",
       "      <th>05/2018</th>\n",
       "      <td>37</td>\n",
       "    </tr>\n",
       "  </tbody>\n",
       "</table>\n",
       "<p>500 rows × 1 columns</p>\n",
       "</div>"
      ],
      "text/plain": [
       "                          age\n",
       "user_id plan     month       \n",
       "1000    ultimate 12/2018   45\n",
       "1001    surf     08/2018   28\n",
       "1002    surf     10/2018   36\n",
       "1003    surf     01/2018   52\n",
       "1004    surf     05/2018   40\n",
       "...                       ...\n",
       "1495    surf     09/2018   67\n",
       "1496    surf     02/2018   49\n",
       "1497    ultimate 12/2018   49\n",
       "1498    surf     02/2018   51\n",
       "1499    surf     05/2018   37\n",
       "\n",
       "[500 rows x 1 columns]"
      ]
     },
     "metadata": {},
     "output_type": "display_data"
    }
   ],
   "source": [
    "user_plan = user.pivot_table(index=['user_id', 'plan','month'])\n",
    "print(user_plan)\n",
    "display(user_plan)"
   ]
  },
  {
   "cell_type": "code",
   "execution_count": 28,
   "metadata": {
    "scrolled": true
   },
   "outputs": [
    {
     "name": "stdout",
     "output_type": "stream",
     "text": [
      "      user_id    month  duration             id  (sum, duration)     0  \\\n",
      "0        1000  12/2018  7.750000  944265.375000            124.0  11.0   \n",
      "1        1001  08/2018  6.740741  934543.074074            182.0  30.0   \n",
      "2        1001  09/2018  6.428571  833950.081633            315.0  44.0   \n",
      "3        1001  10/2018  6.046154  818295.107692            393.0  53.0   \n",
      "4        1001  11/2018  6.656250  801370.000000            426.0  36.0   \n",
      "...       ...      ...       ...            ...              ...   ...   \n",
      "2541     1492  03/2018       NaN            NaN              NaN   NaN   \n",
      "2542     1493  03/2018       NaN            NaN              NaN   NaN   \n",
      "2543     1494  04/2018       NaN            NaN              NaN   NaN   \n",
      "2544     1496  02/2018       NaN            NaN              NaN   NaN   \n",
      "2545     1499  05/2018       NaN            NaN              NaN   NaN   \n",
      "\n",
      "      (sum, mb_used)   age  \n",
      "0                2.0  45.0  \n",
      "1                7.0  28.0  \n",
      "2               14.0   NaN  \n",
      "3               22.0   NaN  \n",
      "4               19.0   NaN  \n",
      "...              ...   ...  \n",
      "2541             NaN  63.0  \n",
      "2542             NaN  18.0  \n",
      "2543             NaN  70.0  \n",
      "2544             NaN  49.0  \n",
      "2545             NaN  37.0  \n",
      "\n",
      "[2546 rows x 8 columns]\n"
     ]
    },
    {
     "name": "stderr",
     "output_type": "stream",
     "text": [
      "/opt/conda/lib/python3.9/site-packages/pandas/core/reshape/merge.py:648: UserWarning: merging between different levels can give an unintended result (1 levels on the left,2 on the right)\n",
      "  warnings.warn(msg, UserWarning)\n"
     ]
    },
    {
     "data": {
      "text/html": [
       "<div>\n",
       "<style scoped>\n",
       "    .dataframe tbody tr th:only-of-type {\n",
       "        vertical-align: middle;\n",
       "    }\n",
       "\n",
       "    .dataframe tbody tr th {\n",
       "        vertical-align: top;\n",
       "    }\n",
       "\n",
       "    .dataframe thead th {\n",
       "        text-align: right;\n",
       "    }\n",
       "</style>\n",
       "<table border=\"1\" class=\"dataframe\">\n",
       "  <thead>\n",
       "    <tr style=\"text-align: right;\">\n",
       "      <th></th>\n",
       "      <th>user_id</th>\n",
       "      <th>month</th>\n",
       "      <th>duration</th>\n",
       "      <th>id</th>\n",
       "      <th>(sum, duration)</th>\n",
       "      <th>0</th>\n",
       "      <th>(sum, mb_used)</th>\n",
       "      <th>age</th>\n",
       "    </tr>\n",
       "  </thead>\n",
       "  <tbody>\n",
       "    <tr>\n",
       "      <th>0</th>\n",
       "      <td>1000</td>\n",
       "      <td>12/2018</td>\n",
       "      <td>7.750000</td>\n",
       "      <td>944265.375000</td>\n",
       "      <td>124.0</td>\n",
       "      <td>11.0</td>\n",
       "      <td>2.0</td>\n",
       "      <td>45.0</td>\n",
       "    </tr>\n",
       "    <tr>\n",
       "      <th>1</th>\n",
       "      <td>1001</td>\n",
       "      <td>08/2018</td>\n",
       "      <td>6.740741</td>\n",
       "      <td>934543.074074</td>\n",
       "      <td>182.0</td>\n",
       "      <td>30.0</td>\n",
       "      <td>7.0</td>\n",
       "      <td>28.0</td>\n",
       "    </tr>\n",
       "    <tr>\n",
       "      <th>2</th>\n",
       "      <td>1001</td>\n",
       "      <td>09/2018</td>\n",
       "      <td>6.428571</td>\n",
       "      <td>833950.081633</td>\n",
       "      <td>315.0</td>\n",
       "      <td>44.0</td>\n",
       "      <td>14.0</td>\n",
       "      <td>NaN</td>\n",
       "    </tr>\n",
       "    <tr>\n",
       "      <th>3</th>\n",
       "      <td>1001</td>\n",
       "      <td>10/2018</td>\n",
       "      <td>6.046154</td>\n",
       "      <td>818295.107692</td>\n",
       "      <td>393.0</td>\n",
       "      <td>53.0</td>\n",
       "      <td>22.0</td>\n",
       "      <td>NaN</td>\n",
       "    </tr>\n",
       "    <tr>\n",
       "      <th>4</th>\n",
       "      <td>1001</td>\n",
       "      <td>11/2018</td>\n",
       "      <td>6.656250</td>\n",
       "      <td>801370.000000</td>\n",
       "      <td>426.0</td>\n",
       "      <td>36.0</td>\n",
       "      <td>19.0</td>\n",
       "      <td>NaN</td>\n",
       "    </tr>\n",
       "    <tr>\n",
       "      <th>...</th>\n",
       "      <td>...</td>\n",
       "      <td>...</td>\n",
       "      <td>...</td>\n",
       "      <td>...</td>\n",
       "      <td>...</td>\n",
       "      <td>...</td>\n",
       "      <td>...</td>\n",
       "      <td>...</td>\n",
       "    </tr>\n",
       "    <tr>\n",
       "      <th>2541</th>\n",
       "      <td>1492</td>\n",
       "      <td>03/2018</td>\n",
       "      <td>NaN</td>\n",
       "      <td>NaN</td>\n",
       "      <td>NaN</td>\n",
       "      <td>NaN</td>\n",
       "      <td>NaN</td>\n",
       "      <td>63.0</td>\n",
       "    </tr>\n",
       "    <tr>\n",
       "      <th>2542</th>\n",
       "      <td>1493</td>\n",
       "      <td>03/2018</td>\n",
       "      <td>NaN</td>\n",
       "      <td>NaN</td>\n",
       "      <td>NaN</td>\n",
       "      <td>NaN</td>\n",
       "      <td>NaN</td>\n",
       "      <td>18.0</td>\n",
       "    </tr>\n",
       "    <tr>\n",
       "      <th>2543</th>\n",
       "      <td>1494</td>\n",
       "      <td>04/2018</td>\n",
       "      <td>NaN</td>\n",
       "      <td>NaN</td>\n",
       "      <td>NaN</td>\n",
       "      <td>NaN</td>\n",
       "      <td>NaN</td>\n",
       "      <td>70.0</td>\n",
       "    </tr>\n",
       "    <tr>\n",
       "      <th>2544</th>\n",
       "      <td>1496</td>\n",
       "      <td>02/2018</td>\n",
       "      <td>NaN</td>\n",
       "      <td>NaN</td>\n",
       "      <td>NaN</td>\n",
       "      <td>NaN</td>\n",
       "      <td>NaN</td>\n",
       "      <td>49.0</td>\n",
       "    </tr>\n",
       "    <tr>\n",
       "      <th>2545</th>\n",
       "      <td>1499</td>\n",
       "      <td>05/2018</td>\n",
       "      <td>NaN</td>\n",
       "      <td>NaN</td>\n",
       "      <td>NaN</td>\n",
       "      <td>NaN</td>\n",
       "      <td>NaN</td>\n",
       "      <td>37.0</td>\n",
       "    </tr>\n",
       "  </tbody>\n",
       "</table>\n",
       "<p>2546 rows × 8 columns</p>\n",
       "</div>"
      ],
      "text/plain": [
       "      user_id    month  duration             id  (sum, duration)     0  \\\n",
       "0        1000  12/2018  7.750000  944265.375000            124.0  11.0   \n",
       "1        1001  08/2018  6.740741  934543.074074            182.0  30.0   \n",
       "2        1001  09/2018  6.428571  833950.081633            315.0  44.0   \n",
       "3        1001  10/2018  6.046154  818295.107692            393.0  53.0   \n",
       "4        1001  11/2018  6.656250  801370.000000            426.0  36.0   \n",
       "...       ...      ...       ...            ...              ...   ...   \n",
       "2541     1492  03/2018       NaN            NaN              NaN   NaN   \n",
       "2542     1493  03/2018       NaN            NaN              NaN   NaN   \n",
       "2543     1494  04/2018       NaN            NaN              NaN   NaN   \n",
       "2544     1496  02/2018       NaN            NaN              NaN   NaN   \n",
       "2545     1499  05/2018       NaN            NaN              NaN   NaN   \n",
       "\n",
       "      (sum, mb_used)   age  \n",
       "0                2.0  45.0  \n",
       "1                7.0  28.0  \n",
       "2               14.0   NaN  \n",
       "3               22.0   NaN  \n",
       "4               19.0   NaN  \n",
       "...              ...   ...  \n",
       "2541             NaN  63.0  \n",
       "2542             NaN  18.0  \n",
       "2543             NaN  70.0  \n",
       "2544             NaN  49.0  \n",
       "2545             NaN  37.0  \n",
       "\n",
       "[2546 rows x 8 columns]"
      ]
     },
     "metadata": {},
     "output_type": "display_data"
    }
   ],
   "source": [
    "call_data = call_per_month.merge(minutes_per_month, on=['user_id', 'month'], how='outer')\n",
    "\n",
    "call_data = call_data.merge(messages_per_month, on=['user_id', 'month'], how='outer')\n",
    "\n",
    "call_data = call_data.merge(volume_per_month, on=['user_id', 'month'], how='outer')\n",
    "\n",
    "call_data = call_data.merge(user_plan, on=['user_id', 'month'], how='outer')\n",
    "\n",
    "print(call_data)\n",
    "\n",
    "display(call_data)"
   ]
  },
  {
   "cell_type": "code",
   "execution_count": 29,
   "metadata": {},
   "outputs": [
    {
     "data": {
      "text/html": [
       "<div>\n",
       "<style scoped>\n",
       "    .dataframe tbody tr th:only-of-type {\n",
       "        vertical-align: middle;\n",
       "    }\n",
       "\n",
       "    .dataframe tbody tr th {\n",
       "        vertical-align: top;\n",
       "    }\n",
       "\n",
       "    .dataframe thead th {\n",
       "        text-align: right;\n",
       "    }\n",
       "</style>\n",
       "<table border=\"1\" class=\"dataframe\">\n",
       "  <thead>\n",
       "    <tr style=\"text-align: right;\">\n",
       "      <th></th>\n",
       "      <th>user_id</th>\n",
       "      <th>first_name</th>\n",
       "      <th>last_name</th>\n",
       "      <th>age</th>\n",
       "      <th>city</th>\n",
       "      <th>reg_date</th>\n",
       "      <th>plan</th>\n",
       "      <th>churn_date</th>\n",
       "      <th>month</th>\n",
       "    </tr>\n",
       "  </thead>\n",
       "  <tbody>\n",
       "    <tr>\n",
       "      <th>0</th>\n",
       "      <td>1000</td>\n",
       "      <td>Anamaria</td>\n",
       "      <td>Bauer</td>\n",
       "      <td>45</td>\n",
       "      <td>Atlanta-Sandy Springs-Roswell, GA MSA</td>\n",
       "      <td>2018-12-24</td>\n",
       "      <td>ultimate</td>\n",
       "      <td>NaT</td>\n",
       "      <td>12/2018</td>\n",
       "    </tr>\n",
       "    <tr>\n",
       "      <th>1</th>\n",
       "      <td>1001</td>\n",
       "      <td>Mickey</td>\n",
       "      <td>Wilkerson</td>\n",
       "      <td>28</td>\n",
       "      <td>Seattle-Tacoma-Bellevue, WA MSA</td>\n",
       "      <td>2018-08-13</td>\n",
       "      <td>surf</td>\n",
       "      <td>NaT</td>\n",
       "      <td>08/2018</td>\n",
       "    </tr>\n",
       "    <tr>\n",
       "      <th>2</th>\n",
       "      <td>1002</td>\n",
       "      <td>Carlee</td>\n",
       "      <td>Hoffman</td>\n",
       "      <td>36</td>\n",
       "      <td>Las Vegas-Henderson-Paradise, NV MSA</td>\n",
       "      <td>2018-10-21</td>\n",
       "      <td>surf</td>\n",
       "      <td>NaT</td>\n",
       "      <td>10/2018</td>\n",
       "    </tr>\n",
       "    <tr>\n",
       "      <th>3</th>\n",
       "      <td>1003</td>\n",
       "      <td>Reynaldo</td>\n",
       "      <td>Jenkins</td>\n",
       "      <td>52</td>\n",
       "      <td>Tulsa, OK MSA</td>\n",
       "      <td>2018-01-28</td>\n",
       "      <td>surf</td>\n",
       "      <td>NaT</td>\n",
       "      <td>01/2018</td>\n",
       "    </tr>\n",
       "    <tr>\n",
       "      <th>4</th>\n",
       "      <td>1004</td>\n",
       "      <td>Leonila</td>\n",
       "      <td>Thompson</td>\n",
       "      <td>40</td>\n",
       "      <td>Seattle-Tacoma-Bellevue, WA MSA</td>\n",
       "      <td>2018-05-23</td>\n",
       "      <td>surf</td>\n",
       "      <td>NaT</td>\n",
       "      <td>05/2018</td>\n",
       "    </tr>\n",
       "    <tr>\n",
       "      <th>...</th>\n",
       "      <td>...</td>\n",
       "      <td>...</td>\n",
       "      <td>...</td>\n",
       "      <td>...</td>\n",
       "      <td>...</td>\n",
       "      <td>...</td>\n",
       "      <td>...</td>\n",
       "      <td>...</td>\n",
       "      <td>...</td>\n",
       "    </tr>\n",
       "    <tr>\n",
       "      <th>495</th>\n",
       "      <td>1495</td>\n",
       "      <td>Fidel</td>\n",
       "      <td>Sharpe</td>\n",
       "      <td>67</td>\n",
       "      <td>New York-Newark-Jersey City, NY-NJ-PA MSA</td>\n",
       "      <td>2018-09-04</td>\n",
       "      <td>surf</td>\n",
       "      <td>NaT</td>\n",
       "      <td>09/2018</td>\n",
       "    </tr>\n",
       "    <tr>\n",
       "      <th>496</th>\n",
       "      <td>1496</td>\n",
       "      <td>Ariel</td>\n",
       "      <td>Shepherd</td>\n",
       "      <td>49</td>\n",
       "      <td>New Orleans-Metairie, LA MSA</td>\n",
       "      <td>2018-02-20</td>\n",
       "      <td>surf</td>\n",
       "      <td>NaT</td>\n",
       "      <td>02/2018</td>\n",
       "    </tr>\n",
       "    <tr>\n",
       "      <th>497</th>\n",
       "      <td>1497</td>\n",
       "      <td>Donte</td>\n",
       "      <td>Barrera</td>\n",
       "      <td>49</td>\n",
       "      <td>Los Angeles-Long Beach-Anaheim, CA MSA</td>\n",
       "      <td>2018-12-10</td>\n",
       "      <td>ultimate</td>\n",
       "      <td>NaT</td>\n",
       "      <td>12/2018</td>\n",
       "    </tr>\n",
       "    <tr>\n",
       "      <th>498</th>\n",
       "      <td>1498</td>\n",
       "      <td>Scot</td>\n",
       "      <td>Williamson</td>\n",
       "      <td>51</td>\n",
       "      <td>New York-Newark-Jersey City, NY-NJ-PA MSA</td>\n",
       "      <td>2018-02-04</td>\n",
       "      <td>surf</td>\n",
       "      <td>NaT</td>\n",
       "      <td>02/2018</td>\n",
       "    </tr>\n",
       "    <tr>\n",
       "      <th>499</th>\n",
       "      <td>1499</td>\n",
       "      <td>Shena</td>\n",
       "      <td>Dickson</td>\n",
       "      <td>37</td>\n",
       "      <td>Orlando-Kissimmee-Sanford, FL MSA</td>\n",
       "      <td>2018-05-06</td>\n",
       "      <td>surf</td>\n",
       "      <td>NaT</td>\n",
       "      <td>05/2018</td>\n",
       "    </tr>\n",
       "  </tbody>\n",
       "</table>\n",
       "<p>500 rows × 9 columns</p>\n",
       "</div>"
      ],
      "text/plain": [
       "     user_id first_name   last_name  age  \\\n",
       "0       1000   Anamaria       Bauer   45   \n",
       "1       1001     Mickey   Wilkerson   28   \n",
       "2       1002     Carlee     Hoffman   36   \n",
       "3       1003   Reynaldo     Jenkins   52   \n",
       "4       1004    Leonila    Thompson   40   \n",
       "..       ...        ...         ...  ...   \n",
       "495     1495      Fidel      Sharpe   67   \n",
       "496     1496      Ariel    Shepherd   49   \n",
       "497     1497      Donte     Barrera   49   \n",
       "498     1498       Scot  Williamson   51   \n",
       "499     1499      Shena     Dickson   37   \n",
       "\n",
       "                                          city   reg_date      plan  \\\n",
       "0        Atlanta-Sandy Springs-Roswell, GA MSA 2018-12-24  ultimate   \n",
       "1              Seattle-Tacoma-Bellevue, WA MSA 2018-08-13      surf   \n",
       "2         Las Vegas-Henderson-Paradise, NV MSA 2018-10-21      surf   \n",
       "3                                Tulsa, OK MSA 2018-01-28      surf   \n",
       "4              Seattle-Tacoma-Bellevue, WA MSA 2018-05-23      surf   \n",
       "..                                         ...        ...       ...   \n",
       "495  New York-Newark-Jersey City, NY-NJ-PA MSA 2018-09-04      surf   \n",
       "496               New Orleans-Metairie, LA MSA 2018-02-20      surf   \n",
       "497     Los Angeles-Long Beach-Anaheim, CA MSA 2018-12-10  ultimate   \n",
       "498  New York-Newark-Jersey City, NY-NJ-PA MSA 2018-02-04      surf   \n",
       "499          Orlando-Kissimmee-Sanford, FL MSA 2018-05-06      surf   \n",
       "\n",
       "    churn_date    month  \n",
       "0          NaT  12/2018  \n",
       "1          NaT  08/2018  \n",
       "2          NaT  10/2018  \n",
       "3          NaT  01/2018  \n",
       "4          NaT  05/2018  \n",
       "..         ...      ...  \n",
       "495        NaT  09/2018  \n",
       "496        NaT  02/2018  \n",
       "497        NaT  12/2018  \n",
       "498        NaT  02/2018  \n",
       "499        NaT  05/2018  \n",
       "\n",
       "[500 rows x 9 columns]"
      ]
     },
     "execution_count": 29,
     "metadata": {},
     "output_type": "execute_result"
    }
   ],
   "source": [
    "user"
   ]
  },
  {
   "cell_type": "code",
   "execution_count": 30,
   "metadata": {},
   "outputs": [],
   "source": [
    "call_data = call_data.reset_index().merge(user, left_on='user_id', right_on='user_id')"
   ]
  },
  {
   "cell_type": "code",
   "execution_count": 31,
   "metadata": {
    "scrolled": true
   },
   "outputs": [
    {
     "data": {
      "text/html": [
       "<div>\n",
       "<style scoped>\n",
       "    .dataframe tbody tr th:only-of-type {\n",
       "        vertical-align: middle;\n",
       "    }\n",
       "\n",
       "    .dataframe tbody tr th {\n",
       "        vertical-align: top;\n",
       "    }\n",
       "\n",
       "    .dataframe thead th {\n",
       "        text-align: right;\n",
       "    }\n",
       "</style>\n",
       "<table border=\"1\" class=\"dataframe\">\n",
       "  <thead>\n",
       "    <tr style=\"text-align: right;\">\n",
       "      <th></th>\n",
       "      <th>index</th>\n",
       "      <th>user_id</th>\n",
       "      <th>month_x</th>\n",
       "      <th>duration</th>\n",
       "      <th>id</th>\n",
       "      <th>(sum, duration)</th>\n",
       "      <th>0</th>\n",
       "      <th>(sum, mb_used)</th>\n",
       "      <th>age_x</th>\n",
       "      <th>first_name</th>\n",
       "      <th>last_name</th>\n",
       "      <th>age_y</th>\n",
       "      <th>city</th>\n",
       "      <th>reg_date</th>\n",
       "      <th>plan</th>\n",
       "      <th>churn_date</th>\n",
       "      <th>month_y</th>\n",
       "    </tr>\n",
       "  </thead>\n",
       "  <tbody>\n",
       "    <tr>\n",
       "      <th>0</th>\n",
       "      <td>0</td>\n",
       "      <td>1000</td>\n",
       "      <td>12/2018</td>\n",
       "      <td>7.750000</td>\n",
       "      <td>944265.375000</td>\n",
       "      <td>124.0</td>\n",
       "      <td>11.0</td>\n",
       "      <td>2.0</td>\n",
       "      <td>45.0</td>\n",
       "      <td>Anamaria</td>\n",
       "      <td>Bauer</td>\n",
       "      <td>45</td>\n",
       "      <td>Atlanta-Sandy Springs-Roswell, GA MSA</td>\n",
       "      <td>2018-12-24</td>\n",
       "      <td>ultimate</td>\n",
       "      <td>NaT</td>\n",
       "      <td>12/2018</td>\n",
       "    </tr>\n",
       "    <tr>\n",
       "      <th>1</th>\n",
       "      <td>1</td>\n",
       "      <td>1001</td>\n",
       "      <td>08/2018</td>\n",
       "      <td>6.740741</td>\n",
       "      <td>934543.074074</td>\n",
       "      <td>182.0</td>\n",
       "      <td>30.0</td>\n",
       "      <td>7.0</td>\n",
       "      <td>28.0</td>\n",
       "      <td>Mickey</td>\n",
       "      <td>Wilkerson</td>\n",
       "      <td>28</td>\n",
       "      <td>Seattle-Tacoma-Bellevue, WA MSA</td>\n",
       "      <td>2018-08-13</td>\n",
       "      <td>surf</td>\n",
       "      <td>NaT</td>\n",
       "      <td>08/2018</td>\n",
       "    </tr>\n",
       "    <tr>\n",
       "      <th>2</th>\n",
       "      <td>2</td>\n",
       "      <td>1001</td>\n",
       "      <td>09/2018</td>\n",
       "      <td>6.428571</td>\n",
       "      <td>833950.081633</td>\n",
       "      <td>315.0</td>\n",
       "      <td>44.0</td>\n",
       "      <td>14.0</td>\n",
       "      <td>NaN</td>\n",
       "      <td>Mickey</td>\n",
       "      <td>Wilkerson</td>\n",
       "      <td>28</td>\n",
       "      <td>Seattle-Tacoma-Bellevue, WA MSA</td>\n",
       "      <td>2018-08-13</td>\n",
       "      <td>surf</td>\n",
       "      <td>NaT</td>\n",
       "      <td>08/2018</td>\n",
       "    </tr>\n",
       "    <tr>\n",
       "      <th>3</th>\n",
       "      <td>3</td>\n",
       "      <td>1001</td>\n",
       "      <td>10/2018</td>\n",
       "      <td>6.046154</td>\n",
       "      <td>818295.107692</td>\n",
       "      <td>393.0</td>\n",
       "      <td>53.0</td>\n",
       "      <td>22.0</td>\n",
       "      <td>NaN</td>\n",
       "      <td>Mickey</td>\n",
       "      <td>Wilkerson</td>\n",
       "      <td>28</td>\n",
       "      <td>Seattle-Tacoma-Bellevue, WA MSA</td>\n",
       "      <td>2018-08-13</td>\n",
       "      <td>surf</td>\n",
       "      <td>NaT</td>\n",
       "      <td>08/2018</td>\n",
       "    </tr>\n",
       "    <tr>\n",
       "      <th>4</th>\n",
       "      <td>4</td>\n",
       "      <td>1001</td>\n",
       "      <td>11/2018</td>\n",
       "      <td>6.656250</td>\n",
       "      <td>801370.000000</td>\n",
       "      <td>426.0</td>\n",
       "      <td>36.0</td>\n",
       "      <td>19.0</td>\n",
       "      <td>NaN</td>\n",
       "      <td>Mickey</td>\n",
       "      <td>Wilkerson</td>\n",
       "      <td>28</td>\n",
       "      <td>Seattle-Tacoma-Bellevue, WA MSA</td>\n",
       "      <td>2018-08-13</td>\n",
       "      <td>surf</td>\n",
       "      <td>NaT</td>\n",
       "      <td>08/2018</td>\n",
       "    </tr>\n",
       "    <tr>\n",
       "      <th>...</th>\n",
       "      <td>...</td>\n",
       "      <td>...</td>\n",
       "      <td>...</td>\n",
       "      <td>...</td>\n",
       "      <td>...</td>\n",
       "      <td>...</td>\n",
       "      <td>...</td>\n",
       "      <td>...</td>\n",
       "      <td>...</td>\n",
       "      <td>...</td>\n",
       "      <td>...</td>\n",
       "      <td>...</td>\n",
       "      <td>...</td>\n",
       "      <td>...</td>\n",
       "      <td>...</td>\n",
       "      <td>...</td>\n",
       "      <td>...</td>\n",
       "    </tr>\n",
       "    <tr>\n",
       "      <th>2541</th>\n",
       "      <td>2441</td>\n",
       "      <td>1307</td>\n",
       "      <td>12/2018</td>\n",
       "      <td>NaN</td>\n",
       "      <td>NaN</td>\n",
       "      <td>NaN</td>\n",
       "      <td>NaN</td>\n",
       "      <td>NaN</td>\n",
       "      <td>28.0</td>\n",
       "      <td>Kristopher</td>\n",
       "      <td>Lang</td>\n",
       "      <td>28</td>\n",
       "      <td>Boston-Cambridge-Newton, MA-NH MSA</td>\n",
       "      <td>2018-12-31</td>\n",
       "      <td>surf</td>\n",
       "      <td>NaT</td>\n",
       "      <td>12/2018</td>\n",
       "    </tr>\n",
       "    <tr>\n",
       "      <th>2542</th>\n",
       "      <td>2447</td>\n",
       "      <td>1319</td>\n",
       "      <td>06/2018</td>\n",
       "      <td>NaN</td>\n",
       "      <td>NaN</td>\n",
       "      <td>NaN</td>\n",
       "      <td>NaN</td>\n",
       "      <td>NaN</td>\n",
       "      <td>21.0</td>\n",
       "      <td>Eliseo</td>\n",
       "      <td>Carson</td>\n",
       "      <td>21</td>\n",
       "      <td>Colorado Springs, CO MSA</td>\n",
       "      <td>2018-06-17</td>\n",
       "      <td>surf</td>\n",
       "      <td>NaT</td>\n",
       "      <td>06/2018</td>\n",
       "    </tr>\n",
       "    <tr>\n",
       "      <th>2543</th>\n",
       "      <td>2479</td>\n",
       "      <td>1378</td>\n",
       "      <td>12/2018</td>\n",
       "      <td>NaN</td>\n",
       "      <td>NaN</td>\n",
       "      <td>NaN</td>\n",
       "      <td>NaN</td>\n",
       "      <td>NaN</td>\n",
       "      <td>22.0</td>\n",
       "      <td>Mckinley</td>\n",
       "      <td>Clayton</td>\n",
       "      <td>22</td>\n",
       "      <td>Denver-Aurora-Lakewood, CO MSA</td>\n",
       "      <td>2018-12-17</td>\n",
       "      <td>surf</td>\n",
       "      <td>NaT</td>\n",
       "      <td>12/2018</td>\n",
       "    </tr>\n",
       "    <tr>\n",
       "      <th>2544</th>\n",
       "      <td>2527</td>\n",
       "      <td>1463</td>\n",
       "      <td>11/2018</td>\n",
       "      <td>NaN</td>\n",
       "      <td>NaN</td>\n",
       "      <td>NaN</td>\n",
       "      <td>NaN</td>\n",
       "      <td>NaN</td>\n",
       "      <td>30.0</td>\n",
       "      <td>Dinorah</td>\n",
       "      <td>Simmons</td>\n",
       "      <td>30</td>\n",
       "      <td>Atlanta-Sandy Springs-Roswell, GA MSA</td>\n",
       "      <td>2018-11-27</td>\n",
       "      <td>ultimate</td>\n",
       "      <td>NaT</td>\n",
       "      <td>11/2018</td>\n",
       "    </tr>\n",
       "    <tr>\n",
       "      <th>2545</th>\n",
       "      <td>2532</td>\n",
       "      <td>1473</td>\n",
       "      <td>12/2018</td>\n",
       "      <td>NaN</td>\n",
       "      <td>NaN</td>\n",
       "      <td>NaN</td>\n",
       "      <td>NaN</td>\n",
       "      <td>NaN</td>\n",
       "      <td>61.0</td>\n",
       "      <td>Kirk</td>\n",
       "      <td>Velez</td>\n",
       "      <td>61</td>\n",
       "      <td>Louisville/Jefferson County, KY-IN MSA</td>\n",
       "      <td>2018-12-31</td>\n",
       "      <td>surf</td>\n",
       "      <td>NaT</td>\n",
       "      <td>12/2018</td>\n",
       "    </tr>\n",
       "  </tbody>\n",
       "</table>\n",
       "<p>2546 rows × 17 columns</p>\n",
       "</div>"
      ],
      "text/plain": [
       "      index  user_id  month_x  duration             id  (sum, duration)     0  \\\n",
       "0         0     1000  12/2018  7.750000  944265.375000            124.0  11.0   \n",
       "1         1     1001  08/2018  6.740741  934543.074074            182.0  30.0   \n",
       "2         2     1001  09/2018  6.428571  833950.081633            315.0  44.0   \n",
       "3         3     1001  10/2018  6.046154  818295.107692            393.0  53.0   \n",
       "4         4     1001  11/2018  6.656250  801370.000000            426.0  36.0   \n",
       "...     ...      ...      ...       ...            ...              ...   ...   \n",
       "2541   2441     1307  12/2018       NaN            NaN              NaN   NaN   \n",
       "2542   2447     1319  06/2018       NaN            NaN              NaN   NaN   \n",
       "2543   2479     1378  12/2018       NaN            NaN              NaN   NaN   \n",
       "2544   2527     1463  11/2018       NaN            NaN              NaN   NaN   \n",
       "2545   2532     1473  12/2018       NaN            NaN              NaN   NaN   \n",
       "\n",
       "      (sum, mb_used)  age_x  first_name  last_name  age_y  \\\n",
       "0                2.0   45.0    Anamaria      Bauer     45   \n",
       "1                7.0   28.0      Mickey  Wilkerson     28   \n",
       "2               14.0    NaN      Mickey  Wilkerson     28   \n",
       "3               22.0    NaN      Mickey  Wilkerson     28   \n",
       "4               19.0    NaN      Mickey  Wilkerson     28   \n",
       "...              ...    ...         ...        ...    ...   \n",
       "2541             NaN   28.0  Kristopher       Lang     28   \n",
       "2542             NaN   21.0      Eliseo     Carson     21   \n",
       "2543             NaN   22.0    Mckinley    Clayton     22   \n",
       "2544             NaN   30.0     Dinorah    Simmons     30   \n",
       "2545             NaN   61.0        Kirk      Velez     61   \n",
       "\n",
       "                                        city   reg_date      plan churn_date  \\\n",
       "0      Atlanta-Sandy Springs-Roswell, GA MSA 2018-12-24  ultimate        NaT   \n",
       "1            Seattle-Tacoma-Bellevue, WA MSA 2018-08-13      surf        NaT   \n",
       "2            Seattle-Tacoma-Bellevue, WA MSA 2018-08-13      surf        NaT   \n",
       "3            Seattle-Tacoma-Bellevue, WA MSA 2018-08-13      surf        NaT   \n",
       "4            Seattle-Tacoma-Bellevue, WA MSA 2018-08-13      surf        NaT   \n",
       "...                                      ...        ...       ...        ...   \n",
       "2541      Boston-Cambridge-Newton, MA-NH MSA 2018-12-31      surf        NaT   \n",
       "2542                Colorado Springs, CO MSA 2018-06-17      surf        NaT   \n",
       "2543          Denver-Aurora-Lakewood, CO MSA 2018-12-17      surf        NaT   \n",
       "2544   Atlanta-Sandy Springs-Roswell, GA MSA 2018-11-27  ultimate        NaT   \n",
       "2545  Louisville/Jefferson County, KY-IN MSA 2018-12-31      surf        NaT   \n",
       "\n",
       "      month_y  \n",
       "0     12/2018  \n",
       "1     08/2018  \n",
       "2     08/2018  \n",
       "3     08/2018  \n",
       "4     08/2018  \n",
       "...       ...  \n",
       "2541  12/2018  \n",
       "2542  06/2018  \n",
       "2543  12/2018  \n",
       "2544  11/2018  \n",
       "2545  12/2018  \n",
       "\n",
       "[2546 rows x 17 columns]"
      ]
     },
     "metadata": {},
     "output_type": "display_data"
    }
   ],
   "source": [
    "display(call_data)"
   ]
  },
  {
   "cell_type": "code",
   "execution_count": 32,
   "metadata": {
    "scrolled": false
   },
   "outputs": [
    {
     "data": {
      "text/html": [
       "<div>\n",
       "<style scoped>\n",
       "    .dataframe tbody tr th:only-of-type {\n",
       "        vertical-align: middle;\n",
       "    }\n",
       "\n",
       "    .dataframe tbody tr th {\n",
       "        vertical-align: top;\n",
       "    }\n",
       "\n",
       "    .dataframe thead th {\n",
       "        text-align: right;\n",
       "    }\n",
       "</style>\n",
       "<table border=\"1\" class=\"dataframe\">\n",
       "  <thead>\n",
       "    <tr style=\"text-align: right;\">\n",
       "      <th></th>\n",
       "      <th>index</th>\n",
       "      <th>user_id</th>\n",
       "      <th>month_x</th>\n",
       "      <th>duration</th>\n",
       "      <th>id</th>\n",
       "      <th>(sum, duration)</th>\n",
       "      <th>0</th>\n",
       "      <th>(sum, mb_used)</th>\n",
       "      <th>age_x</th>\n",
       "      <th>first_name</th>\n",
       "      <th>last_name</th>\n",
       "      <th>age_y</th>\n",
       "      <th>city</th>\n",
       "      <th>reg_date</th>\n",
       "      <th>plan</th>\n",
       "      <th>churn_date</th>\n",
       "      <th>month_y</th>\n",
       "    </tr>\n",
       "  </thead>\n",
       "  <tbody>\n",
       "    <tr>\n",
       "      <th>0</th>\n",
       "      <td>0</td>\n",
       "      <td>1000</td>\n",
       "      <td>12/2018</td>\n",
       "      <td>7.750000</td>\n",
       "      <td>944265.375000</td>\n",
       "      <td>124.0</td>\n",
       "      <td>11.0</td>\n",
       "      <td>2.0</td>\n",
       "      <td>45.0</td>\n",
       "      <td>Anamaria</td>\n",
       "      <td>Bauer</td>\n",
       "      <td>45</td>\n",
       "      <td>Atlanta-Sandy Springs-Roswell, GA MSA</td>\n",
       "      <td>2018-12-24</td>\n",
       "      <td>ultimate</td>\n",
       "      <td>0</td>\n",
       "      <td>12/2018</td>\n",
       "    </tr>\n",
       "    <tr>\n",
       "      <th>1</th>\n",
       "      <td>1</td>\n",
       "      <td>1001</td>\n",
       "      <td>08/2018</td>\n",
       "      <td>6.740741</td>\n",
       "      <td>934543.074074</td>\n",
       "      <td>182.0</td>\n",
       "      <td>30.0</td>\n",
       "      <td>7.0</td>\n",
       "      <td>28.0</td>\n",
       "      <td>Mickey</td>\n",
       "      <td>Wilkerson</td>\n",
       "      <td>28</td>\n",
       "      <td>Seattle-Tacoma-Bellevue, WA MSA</td>\n",
       "      <td>2018-08-13</td>\n",
       "      <td>surf</td>\n",
       "      <td>0</td>\n",
       "      <td>08/2018</td>\n",
       "    </tr>\n",
       "    <tr>\n",
       "      <th>2</th>\n",
       "      <td>2</td>\n",
       "      <td>1001</td>\n",
       "      <td>09/2018</td>\n",
       "      <td>6.428571</td>\n",
       "      <td>833950.081633</td>\n",
       "      <td>315.0</td>\n",
       "      <td>44.0</td>\n",
       "      <td>14.0</td>\n",
       "      <td>0.0</td>\n",
       "      <td>Mickey</td>\n",
       "      <td>Wilkerson</td>\n",
       "      <td>28</td>\n",
       "      <td>Seattle-Tacoma-Bellevue, WA MSA</td>\n",
       "      <td>2018-08-13</td>\n",
       "      <td>surf</td>\n",
       "      <td>0</td>\n",
       "      <td>08/2018</td>\n",
       "    </tr>\n",
       "    <tr>\n",
       "      <th>3</th>\n",
       "      <td>3</td>\n",
       "      <td>1001</td>\n",
       "      <td>10/2018</td>\n",
       "      <td>6.046154</td>\n",
       "      <td>818295.107692</td>\n",
       "      <td>393.0</td>\n",
       "      <td>53.0</td>\n",
       "      <td>22.0</td>\n",
       "      <td>0.0</td>\n",
       "      <td>Mickey</td>\n",
       "      <td>Wilkerson</td>\n",
       "      <td>28</td>\n",
       "      <td>Seattle-Tacoma-Bellevue, WA MSA</td>\n",
       "      <td>2018-08-13</td>\n",
       "      <td>surf</td>\n",
       "      <td>0</td>\n",
       "      <td>08/2018</td>\n",
       "    </tr>\n",
       "    <tr>\n",
       "      <th>4</th>\n",
       "      <td>4</td>\n",
       "      <td>1001</td>\n",
       "      <td>11/2018</td>\n",
       "      <td>6.656250</td>\n",
       "      <td>801370.000000</td>\n",
       "      <td>426.0</td>\n",
       "      <td>36.0</td>\n",
       "      <td>19.0</td>\n",
       "      <td>0.0</td>\n",
       "      <td>Mickey</td>\n",
       "      <td>Wilkerson</td>\n",
       "      <td>28</td>\n",
       "      <td>Seattle-Tacoma-Bellevue, WA MSA</td>\n",
       "      <td>2018-08-13</td>\n",
       "      <td>surf</td>\n",
       "      <td>0</td>\n",
       "      <td>08/2018</td>\n",
       "    </tr>\n",
       "  </tbody>\n",
       "</table>\n",
       "</div>"
      ],
      "text/plain": [
       "   index  user_id  month_x  duration             id  (sum, duration)     0  \\\n",
       "0      0     1000  12/2018  7.750000  944265.375000            124.0  11.0   \n",
       "1      1     1001  08/2018  6.740741  934543.074074            182.0  30.0   \n",
       "2      2     1001  09/2018  6.428571  833950.081633            315.0  44.0   \n",
       "3      3     1001  10/2018  6.046154  818295.107692            393.0  53.0   \n",
       "4      4     1001  11/2018  6.656250  801370.000000            426.0  36.0   \n",
       "\n",
       "   (sum, mb_used)  age_x first_name  last_name  age_y  \\\n",
       "0             2.0   45.0   Anamaria      Bauer     45   \n",
       "1             7.0   28.0     Mickey  Wilkerson     28   \n",
       "2            14.0    0.0     Mickey  Wilkerson     28   \n",
       "3            22.0    0.0     Mickey  Wilkerson     28   \n",
       "4            19.0    0.0     Mickey  Wilkerson     28   \n",
       "\n",
       "                                    city   reg_date      plan churn_date  \\\n",
       "0  Atlanta-Sandy Springs-Roswell, GA MSA 2018-12-24  ultimate          0   \n",
       "1        Seattle-Tacoma-Bellevue, WA MSA 2018-08-13      surf          0   \n",
       "2        Seattle-Tacoma-Bellevue, WA MSA 2018-08-13      surf          0   \n",
       "3        Seattle-Tacoma-Bellevue, WA MSA 2018-08-13      surf          0   \n",
       "4        Seattle-Tacoma-Bellevue, WA MSA 2018-08-13      surf          0   \n",
       "\n",
       "   month_y  \n",
       "0  12/2018  \n",
       "1  08/2018  \n",
       "2  08/2018  \n",
       "3  08/2018  \n",
       "4  08/2018  "
      ]
     },
     "metadata": {},
     "output_type": "display_data"
    }
   ],
   "source": [
    "call_data.fillna(0, inplace=True)\n",
    "display(call_data.head())"
   ]
  },
  {
   "cell_type": "code",
   "execution_count": 33,
   "metadata": {},
   "outputs": [],
   "source": [
    "call_data = call_data.rename(columns={('duration'):\"number of calls\",('sum', 'duration'): \"amount of minutes\",('sum', 'mb_used'): \"gb used\",('id_y'):'messages sent'})\n"
   ]
  },
  {
   "cell_type": "code",
   "execution_count": 34,
   "metadata": {},
   "outputs": [
    {
     "data": {
      "text/html": [
       "<div>\n",
       "<style scoped>\n",
       "    .dataframe tbody tr th:only-of-type {\n",
       "        vertical-align: middle;\n",
       "    }\n",
       "\n",
       "    .dataframe tbody tr th {\n",
       "        vertical-align: top;\n",
       "    }\n",
       "\n",
       "    .dataframe thead th {\n",
       "        text-align: right;\n",
       "    }\n",
       "</style>\n",
       "<table border=\"1\" class=\"dataframe\">\n",
       "  <thead>\n",
       "    <tr style=\"text-align: right;\">\n",
       "      <th></th>\n",
       "      <th>index</th>\n",
       "      <th>user_id</th>\n",
       "      <th>month_x</th>\n",
       "      <th>number of calls</th>\n",
       "      <th>id</th>\n",
       "      <th>amount of minutes</th>\n",
       "      <th>0</th>\n",
       "      <th>gb used</th>\n",
       "      <th>age_x</th>\n",
       "      <th>first_name</th>\n",
       "      <th>last_name</th>\n",
       "      <th>age_y</th>\n",
       "      <th>city</th>\n",
       "      <th>reg_date</th>\n",
       "      <th>plan</th>\n",
       "      <th>churn_date</th>\n",
       "      <th>month_y</th>\n",
       "    </tr>\n",
       "  </thead>\n",
       "  <tbody>\n",
       "    <tr>\n",
       "      <th>0</th>\n",
       "      <td>0</td>\n",
       "      <td>1000</td>\n",
       "      <td>12/2018</td>\n",
       "      <td>7.750000</td>\n",
       "      <td>944265.375000</td>\n",
       "      <td>124.0</td>\n",
       "      <td>11.0</td>\n",
       "      <td>2.0</td>\n",
       "      <td>45.0</td>\n",
       "      <td>Anamaria</td>\n",
       "      <td>Bauer</td>\n",
       "      <td>45</td>\n",
       "      <td>Atlanta-Sandy Springs-Roswell, GA MSA</td>\n",
       "      <td>2018-12-24</td>\n",
       "      <td>ultimate</td>\n",
       "      <td>0</td>\n",
       "      <td>12/2018</td>\n",
       "    </tr>\n",
       "    <tr>\n",
       "      <th>1</th>\n",
       "      <td>1</td>\n",
       "      <td>1001</td>\n",
       "      <td>08/2018</td>\n",
       "      <td>6.740741</td>\n",
       "      <td>934543.074074</td>\n",
       "      <td>182.0</td>\n",
       "      <td>30.0</td>\n",
       "      <td>7.0</td>\n",
       "      <td>28.0</td>\n",
       "      <td>Mickey</td>\n",
       "      <td>Wilkerson</td>\n",
       "      <td>28</td>\n",
       "      <td>Seattle-Tacoma-Bellevue, WA MSA</td>\n",
       "      <td>2018-08-13</td>\n",
       "      <td>surf</td>\n",
       "      <td>0</td>\n",
       "      <td>08/2018</td>\n",
       "    </tr>\n",
       "    <tr>\n",
       "      <th>2</th>\n",
       "      <td>2</td>\n",
       "      <td>1001</td>\n",
       "      <td>09/2018</td>\n",
       "      <td>6.428571</td>\n",
       "      <td>833950.081633</td>\n",
       "      <td>315.0</td>\n",
       "      <td>44.0</td>\n",
       "      <td>14.0</td>\n",
       "      <td>0.0</td>\n",
       "      <td>Mickey</td>\n",
       "      <td>Wilkerson</td>\n",
       "      <td>28</td>\n",
       "      <td>Seattle-Tacoma-Bellevue, WA MSA</td>\n",
       "      <td>2018-08-13</td>\n",
       "      <td>surf</td>\n",
       "      <td>0</td>\n",
       "      <td>08/2018</td>\n",
       "    </tr>\n",
       "    <tr>\n",
       "      <th>3</th>\n",
       "      <td>3</td>\n",
       "      <td>1001</td>\n",
       "      <td>10/2018</td>\n",
       "      <td>6.046154</td>\n",
       "      <td>818295.107692</td>\n",
       "      <td>393.0</td>\n",
       "      <td>53.0</td>\n",
       "      <td>22.0</td>\n",
       "      <td>0.0</td>\n",
       "      <td>Mickey</td>\n",
       "      <td>Wilkerson</td>\n",
       "      <td>28</td>\n",
       "      <td>Seattle-Tacoma-Bellevue, WA MSA</td>\n",
       "      <td>2018-08-13</td>\n",
       "      <td>surf</td>\n",
       "      <td>0</td>\n",
       "      <td>08/2018</td>\n",
       "    </tr>\n",
       "    <tr>\n",
       "      <th>4</th>\n",
       "      <td>4</td>\n",
       "      <td>1001</td>\n",
       "      <td>11/2018</td>\n",
       "      <td>6.656250</td>\n",
       "      <td>801370.000000</td>\n",
       "      <td>426.0</td>\n",
       "      <td>36.0</td>\n",
       "      <td>19.0</td>\n",
       "      <td>0.0</td>\n",
       "      <td>Mickey</td>\n",
       "      <td>Wilkerson</td>\n",
       "      <td>28</td>\n",
       "      <td>Seattle-Tacoma-Bellevue, WA MSA</td>\n",
       "      <td>2018-08-13</td>\n",
       "      <td>surf</td>\n",
       "      <td>0</td>\n",
       "      <td>08/2018</td>\n",
       "    </tr>\n",
       "    <tr>\n",
       "      <th>...</th>\n",
       "      <td>...</td>\n",
       "      <td>...</td>\n",
       "      <td>...</td>\n",
       "      <td>...</td>\n",
       "      <td>...</td>\n",
       "      <td>...</td>\n",
       "      <td>...</td>\n",
       "      <td>...</td>\n",
       "      <td>...</td>\n",
       "      <td>...</td>\n",
       "      <td>...</td>\n",
       "      <td>...</td>\n",
       "      <td>...</td>\n",
       "      <td>...</td>\n",
       "      <td>...</td>\n",
       "      <td>...</td>\n",
       "      <td>...</td>\n",
       "    </tr>\n",
       "    <tr>\n",
       "      <th>2541</th>\n",
       "      <td>2441</td>\n",
       "      <td>1307</td>\n",
       "      <td>12/2018</td>\n",
       "      <td>0.000000</td>\n",
       "      <td>0.000000</td>\n",
       "      <td>0.0</td>\n",
       "      <td>0.0</td>\n",
       "      <td>0.0</td>\n",
       "      <td>28.0</td>\n",
       "      <td>Kristopher</td>\n",
       "      <td>Lang</td>\n",
       "      <td>28</td>\n",
       "      <td>Boston-Cambridge-Newton, MA-NH MSA</td>\n",
       "      <td>2018-12-31</td>\n",
       "      <td>surf</td>\n",
       "      <td>0</td>\n",
       "      <td>12/2018</td>\n",
       "    </tr>\n",
       "    <tr>\n",
       "      <th>2542</th>\n",
       "      <td>2447</td>\n",
       "      <td>1319</td>\n",
       "      <td>06/2018</td>\n",
       "      <td>0.000000</td>\n",
       "      <td>0.000000</td>\n",
       "      <td>0.0</td>\n",
       "      <td>0.0</td>\n",
       "      <td>0.0</td>\n",
       "      <td>21.0</td>\n",
       "      <td>Eliseo</td>\n",
       "      <td>Carson</td>\n",
       "      <td>21</td>\n",
       "      <td>Colorado Springs, CO MSA</td>\n",
       "      <td>2018-06-17</td>\n",
       "      <td>surf</td>\n",
       "      <td>0</td>\n",
       "      <td>06/2018</td>\n",
       "    </tr>\n",
       "    <tr>\n",
       "      <th>2543</th>\n",
       "      <td>2479</td>\n",
       "      <td>1378</td>\n",
       "      <td>12/2018</td>\n",
       "      <td>0.000000</td>\n",
       "      <td>0.000000</td>\n",
       "      <td>0.0</td>\n",
       "      <td>0.0</td>\n",
       "      <td>0.0</td>\n",
       "      <td>22.0</td>\n",
       "      <td>Mckinley</td>\n",
       "      <td>Clayton</td>\n",
       "      <td>22</td>\n",
       "      <td>Denver-Aurora-Lakewood, CO MSA</td>\n",
       "      <td>2018-12-17</td>\n",
       "      <td>surf</td>\n",
       "      <td>0</td>\n",
       "      <td>12/2018</td>\n",
       "    </tr>\n",
       "    <tr>\n",
       "      <th>2544</th>\n",
       "      <td>2527</td>\n",
       "      <td>1463</td>\n",
       "      <td>11/2018</td>\n",
       "      <td>0.000000</td>\n",
       "      <td>0.000000</td>\n",
       "      <td>0.0</td>\n",
       "      <td>0.0</td>\n",
       "      <td>0.0</td>\n",
       "      <td>30.0</td>\n",
       "      <td>Dinorah</td>\n",
       "      <td>Simmons</td>\n",
       "      <td>30</td>\n",
       "      <td>Atlanta-Sandy Springs-Roswell, GA MSA</td>\n",
       "      <td>2018-11-27</td>\n",
       "      <td>ultimate</td>\n",
       "      <td>0</td>\n",
       "      <td>11/2018</td>\n",
       "    </tr>\n",
       "    <tr>\n",
       "      <th>2545</th>\n",
       "      <td>2532</td>\n",
       "      <td>1473</td>\n",
       "      <td>12/2018</td>\n",
       "      <td>0.000000</td>\n",
       "      <td>0.000000</td>\n",
       "      <td>0.0</td>\n",
       "      <td>0.0</td>\n",
       "      <td>0.0</td>\n",
       "      <td>61.0</td>\n",
       "      <td>Kirk</td>\n",
       "      <td>Velez</td>\n",
       "      <td>61</td>\n",
       "      <td>Louisville/Jefferson County, KY-IN MSA</td>\n",
       "      <td>2018-12-31</td>\n",
       "      <td>surf</td>\n",
       "      <td>0</td>\n",
       "      <td>12/2018</td>\n",
       "    </tr>\n",
       "  </tbody>\n",
       "</table>\n",
       "<p>2546 rows × 17 columns</p>\n",
       "</div>"
      ],
      "text/plain": [
       "      index  user_id  month_x  number of calls             id  \\\n",
       "0         0     1000  12/2018         7.750000  944265.375000   \n",
       "1         1     1001  08/2018         6.740741  934543.074074   \n",
       "2         2     1001  09/2018         6.428571  833950.081633   \n",
       "3         3     1001  10/2018         6.046154  818295.107692   \n",
       "4         4     1001  11/2018         6.656250  801370.000000   \n",
       "...     ...      ...      ...              ...            ...   \n",
       "2541   2441     1307  12/2018         0.000000       0.000000   \n",
       "2542   2447     1319  06/2018         0.000000       0.000000   \n",
       "2543   2479     1378  12/2018         0.000000       0.000000   \n",
       "2544   2527     1463  11/2018         0.000000       0.000000   \n",
       "2545   2532     1473  12/2018         0.000000       0.000000   \n",
       "\n",
       "      amount of minutes     0  gb used  age_x  first_name  last_name  age_y  \\\n",
       "0                 124.0  11.0      2.0   45.0    Anamaria      Bauer     45   \n",
       "1                 182.0  30.0      7.0   28.0      Mickey  Wilkerson     28   \n",
       "2                 315.0  44.0     14.0    0.0      Mickey  Wilkerson     28   \n",
       "3                 393.0  53.0     22.0    0.0      Mickey  Wilkerson     28   \n",
       "4                 426.0  36.0     19.0    0.0      Mickey  Wilkerson     28   \n",
       "...                 ...   ...      ...    ...         ...        ...    ...   \n",
       "2541                0.0   0.0      0.0   28.0  Kristopher       Lang     28   \n",
       "2542                0.0   0.0      0.0   21.0      Eliseo     Carson     21   \n",
       "2543                0.0   0.0      0.0   22.0    Mckinley    Clayton     22   \n",
       "2544                0.0   0.0      0.0   30.0     Dinorah    Simmons     30   \n",
       "2545                0.0   0.0      0.0   61.0        Kirk      Velez     61   \n",
       "\n",
       "                                        city   reg_date      plan churn_date  \\\n",
       "0      Atlanta-Sandy Springs-Roswell, GA MSA 2018-12-24  ultimate          0   \n",
       "1            Seattle-Tacoma-Bellevue, WA MSA 2018-08-13      surf          0   \n",
       "2            Seattle-Tacoma-Bellevue, WA MSA 2018-08-13      surf          0   \n",
       "3            Seattle-Tacoma-Bellevue, WA MSA 2018-08-13      surf          0   \n",
       "4            Seattle-Tacoma-Bellevue, WA MSA 2018-08-13      surf          0   \n",
       "...                                      ...        ...       ...        ...   \n",
       "2541      Boston-Cambridge-Newton, MA-NH MSA 2018-12-31      surf          0   \n",
       "2542                Colorado Springs, CO MSA 2018-06-17      surf          0   \n",
       "2543          Denver-Aurora-Lakewood, CO MSA 2018-12-17      surf          0   \n",
       "2544   Atlanta-Sandy Springs-Roswell, GA MSA 2018-11-27  ultimate          0   \n",
       "2545  Louisville/Jefferson County, KY-IN MSA 2018-12-31      surf          0   \n",
       "\n",
       "      month_y  \n",
       "0     12/2018  \n",
       "1     08/2018  \n",
       "2     08/2018  \n",
       "3     08/2018  \n",
       "4     08/2018  \n",
       "...       ...  \n",
       "2541  12/2018  \n",
       "2542  06/2018  \n",
       "2543  12/2018  \n",
       "2544  11/2018  \n",
       "2545  12/2018  \n",
       "\n",
       "[2546 rows x 17 columns]"
      ]
     },
     "metadata": {},
     "output_type": "display_data"
    }
   ],
   "source": [
    "display(call_data)"
   ]
  },
  {
   "cell_type": "code",
   "execution_count": 35,
   "metadata": {},
   "outputs": [],
   "source": [
    "call_data = call_data.drop(columns=['id','reg_date','churn_date','month_y','age_x','first_name','last_name'])\n"
   ]
  },
  {
   "cell_type": "code",
   "execution_count": 36,
   "metadata": {},
   "outputs": [],
   "source": [
    "call_data = call_data.rename(columns={'month_x': \"month\",'user_id': \"user id\",'first_name': \"first name\", 'last_name':\"last name\", 'age_y':\"age\", 0:\"messages sent\"})\n"
   ]
  },
  {
   "cell_type": "code",
   "execution_count": 37,
   "metadata": {},
   "outputs": [],
   "source": [
    "call_data = call_data.drop_duplicates(keep = 'first')\n"
   ]
  },
  {
   "cell_type": "code",
   "execution_count": 38,
   "metadata": {},
   "outputs": [],
   "source": [
    "def get_revenue(call_data):\n",
    "    \n",
    "    plan = call_data['plan']\n",
    "    minutes_used = call_data['amount of minutes']\n",
    "    number_of_messages = call_data['messages sent']\n",
    "    gb_used = call_data['gb used']\n",
    "    \n",
    "    revenue = plans.loc[plan,'usd_monthly_pay']\n",
    "    \n",
    "    if minutes_used > plans.loc[plan,'minutes_included']:\n",
    "        revenue += (minutes_used - plans.loc[plan,'minutes_included']) * plans.loc[plan,'usd_per_minute']\n",
    "    if number_of_messages > plans.loc[plan,'messages_included']:\n",
    "        revenue += (number_of_messages - plans.loc[plan, 'messages_included']) * plans.loc[plan, 'usd_per_message']\n",
    "    if gb_used > plans.loc[plan,'mb_per_month_included']:\n",
    "        revenue += (gb_used - plans.loc[plan,'mb_per_month_included']) * plans.loc[plan,'usd_per_gb']\n",
    "        \n",
    "    return revenue\n",
    "\n",
    "call_data['revenue'] = call_data.apply(get_revenue, axis=1)\n"
   ]
  },
  {
   "cell_type": "markdown",
   "metadata": {},
   "source": [
    "## Study user behaviour"
   ]
  },
  {
   "cell_type": "code",
   "execution_count": 39,
   "metadata": {},
   "outputs": [
    {
     "data": {
      "text/html": [
       "<div>\n",
       "<style scoped>\n",
       "    .dataframe tbody tr th:only-of-type {\n",
       "        vertical-align: middle;\n",
       "    }\n",
       "\n",
       "    .dataframe tbody tr th {\n",
       "        vertical-align: top;\n",
       "    }\n",
       "\n",
       "    .dataframe thead th {\n",
       "        text-align: right;\n",
       "    }\n",
       "</style>\n",
       "<table border=\"1\" class=\"dataframe\">\n",
       "  <thead>\n",
       "    <tr style=\"text-align: right;\">\n",
       "      <th></th>\n",
       "      <th>index</th>\n",
       "      <th>user id</th>\n",
       "      <th>month</th>\n",
       "      <th>number of calls</th>\n",
       "      <th>amount of minutes</th>\n",
       "      <th>messages sent</th>\n",
       "      <th>gb used</th>\n",
       "      <th>age</th>\n",
       "      <th>city</th>\n",
       "      <th>plan</th>\n",
       "      <th>revenue</th>\n",
       "    </tr>\n",
       "  </thead>\n",
       "  <tbody>\n",
       "    <tr>\n",
       "      <th>0</th>\n",
       "      <td>0</td>\n",
       "      <td>1000</td>\n",
       "      <td>12/2018</td>\n",
       "      <td>7.750000</td>\n",
       "      <td>124.0</td>\n",
       "      <td>11.0</td>\n",
       "      <td>2.0</td>\n",
       "      <td>45</td>\n",
       "      <td>Atlanta-Sandy Springs-Roswell, GA MSA</td>\n",
       "      <td>ultimate</td>\n",
       "      <td>70.00</td>\n",
       "    </tr>\n",
       "    <tr>\n",
       "      <th>1</th>\n",
       "      <td>1</td>\n",
       "      <td>1001</td>\n",
       "      <td>08/2018</td>\n",
       "      <td>6.740741</td>\n",
       "      <td>182.0</td>\n",
       "      <td>30.0</td>\n",
       "      <td>7.0</td>\n",
       "      <td>28</td>\n",
       "      <td>Seattle-Tacoma-Bellevue, WA MSA</td>\n",
       "      <td>surf</td>\n",
       "      <td>20.00</td>\n",
       "    </tr>\n",
       "    <tr>\n",
       "      <th>2</th>\n",
       "      <td>2</td>\n",
       "      <td>1001</td>\n",
       "      <td>09/2018</td>\n",
       "      <td>6.428571</td>\n",
       "      <td>315.0</td>\n",
       "      <td>44.0</td>\n",
       "      <td>14.0</td>\n",
       "      <td>28</td>\n",
       "      <td>Seattle-Tacoma-Bellevue, WA MSA</td>\n",
       "      <td>surf</td>\n",
       "      <td>20.00</td>\n",
       "    </tr>\n",
       "    <tr>\n",
       "      <th>3</th>\n",
       "      <td>3</td>\n",
       "      <td>1001</td>\n",
       "      <td>10/2018</td>\n",
       "      <td>6.046154</td>\n",
       "      <td>393.0</td>\n",
       "      <td>53.0</td>\n",
       "      <td>22.0</td>\n",
       "      <td>28</td>\n",
       "      <td>Seattle-Tacoma-Bellevue, WA MSA</td>\n",
       "      <td>surf</td>\n",
       "      <td>20.09</td>\n",
       "    </tr>\n",
       "    <tr>\n",
       "      <th>4</th>\n",
       "      <td>4</td>\n",
       "      <td>1001</td>\n",
       "      <td>11/2018</td>\n",
       "      <td>6.656250</td>\n",
       "      <td>426.0</td>\n",
       "      <td>36.0</td>\n",
       "      <td>19.0</td>\n",
       "      <td>28</td>\n",
       "      <td>Seattle-Tacoma-Bellevue, WA MSA</td>\n",
       "      <td>surf</td>\n",
       "      <td>20.00</td>\n",
       "    </tr>\n",
       "    <tr>\n",
       "      <th>...</th>\n",
       "      <td>...</td>\n",
       "      <td>...</td>\n",
       "      <td>...</td>\n",
       "      <td>...</td>\n",
       "      <td>...</td>\n",
       "      <td>...</td>\n",
       "      <td>...</td>\n",
       "      <td>...</td>\n",
       "      <td>...</td>\n",
       "      <td>...</td>\n",
       "      <td>...</td>\n",
       "    </tr>\n",
       "    <tr>\n",
       "      <th>2541</th>\n",
       "      <td>2441</td>\n",
       "      <td>1307</td>\n",
       "      <td>12/2018</td>\n",
       "      <td>0.000000</td>\n",
       "      <td>0.0</td>\n",
       "      <td>0.0</td>\n",
       "      <td>0.0</td>\n",
       "      <td>28</td>\n",
       "      <td>Boston-Cambridge-Newton, MA-NH MSA</td>\n",
       "      <td>surf</td>\n",
       "      <td>20.00</td>\n",
       "    </tr>\n",
       "    <tr>\n",
       "      <th>2542</th>\n",
       "      <td>2447</td>\n",
       "      <td>1319</td>\n",
       "      <td>06/2018</td>\n",
       "      <td>0.000000</td>\n",
       "      <td>0.0</td>\n",
       "      <td>0.0</td>\n",
       "      <td>0.0</td>\n",
       "      <td>21</td>\n",
       "      <td>Colorado Springs, CO MSA</td>\n",
       "      <td>surf</td>\n",
       "      <td>20.00</td>\n",
       "    </tr>\n",
       "    <tr>\n",
       "      <th>2543</th>\n",
       "      <td>2479</td>\n",
       "      <td>1378</td>\n",
       "      <td>12/2018</td>\n",
       "      <td>0.000000</td>\n",
       "      <td>0.0</td>\n",
       "      <td>0.0</td>\n",
       "      <td>0.0</td>\n",
       "      <td>22</td>\n",
       "      <td>Denver-Aurora-Lakewood, CO MSA</td>\n",
       "      <td>surf</td>\n",
       "      <td>20.00</td>\n",
       "    </tr>\n",
       "    <tr>\n",
       "      <th>2544</th>\n",
       "      <td>2527</td>\n",
       "      <td>1463</td>\n",
       "      <td>11/2018</td>\n",
       "      <td>0.000000</td>\n",
       "      <td>0.0</td>\n",
       "      <td>0.0</td>\n",
       "      <td>0.0</td>\n",
       "      <td>30</td>\n",
       "      <td>Atlanta-Sandy Springs-Roswell, GA MSA</td>\n",
       "      <td>ultimate</td>\n",
       "      <td>70.00</td>\n",
       "    </tr>\n",
       "    <tr>\n",
       "      <th>2545</th>\n",
       "      <td>2532</td>\n",
       "      <td>1473</td>\n",
       "      <td>12/2018</td>\n",
       "      <td>0.000000</td>\n",
       "      <td>0.0</td>\n",
       "      <td>0.0</td>\n",
       "      <td>0.0</td>\n",
       "      <td>61</td>\n",
       "      <td>Louisville/Jefferson County, KY-IN MSA</td>\n",
       "      <td>surf</td>\n",
       "      <td>20.00</td>\n",
       "    </tr>\n",
       "  </tbody>\n",
       "</table>\n",
       "<p>2546 rows × 11 columns</p>\n",
       "</div>"
      ],
      "text/plain": [
       "      index  user id    month  number of calls  amount of minutes  \\\n",
       "0         0     1000  12/2018         7.750000              124.0   \n",
       "1         1     1001  08/2018         6.740741              182.0   \n",
       "2         2     1001  09/2018         6.428571              315.0   \n",
       "3         3     1001  10/2018         6.046154              393.0   \n",
       "4         4     1001  11/2018         6.656250              426.0   \n",
       "...     ...      ...      ...              ...                ...   \n",
       "2541   2441     1307  12/2018         0.000000                0.0   \n",
       "2542   2447     1319  06/2018         0.000000                0.0   \n",
       "2543   2479     1378  12/2018         0.000000                0.0   \n",
       "2544   2527     1463  11/2018         0.000000                0.0   \n",
       "2545   2532     1473  12/2018         0.000000                0.0   \n",
       "\n",
       "      messages sent  gb used  age                                    city  \\\n",
       "0              11.0      2.0   45   Atlanta-Sandy Springs-Roswell, GA MSA   \n",
       "1              30.0      7.0   28         Seattle-Tacoma-Bellevue, WA MSA   \n",
       "2              44.0     14.0   28         Seattle-Tacoma-Bellevue, WA MSA   \n",
       "3              53.0     22.0   28         Seattle-Tacoma-Bellevue, WA MSA   \n",
       "4              36.0     19.0   28         Seattle-Tacoma-Bellevue, WA MSA   \n",
       "...             ...      ...  ...                                     ...   \n",
       "2541            0.0      0.0   28      Boston-Cambridge-Newton, MA-NH MSA   \n",
       "2542            0.0      0.0   21                Colorado Springs, CO MSA   \n",
       "2543            0.0      0.0   22          Denver-Aurora-Lakewood, CO MSA   \n",
       "2544            0.0      0.0   30   Atlanta-Sandy Springs-Roswell, GA MSA   \n",
       "2545            0.0      0.0   61  Louisville/Jefferson County, KY-IN MSA   \n",
       "\n",
       "          plan  revenue  \n",
       "0     ultimate    70.00  \n",
       "1         surf    20.00  \n",
       "2         surf    20.00  \n",
       "3         surf    20.09  \n",
       "4         surf    20.00  \n",
       "...        ...      ...  \n",
       "2541      surf    20.00  \n",
       "2542      surf    20.00  \n",
       "2543      surf    20.00  \n",
       "2544  ultimate    70.00  \n",
       "2545      surf    20.00  \n",
       "\n",
       "[2546 rows x 11 columns]"
      ]
     },
     "metadata": {},
     "output_type": "display_data"
    }
   ],
   "source": [
    "display(call_data)"
   ]
  },
  {
   "cell_type": "code",
   "execution_count": 40,
   "metadata": {},
   "outputs": [],
   "source": [
    "call_data2 = call_data.copy()\n",
    "call_data2 = call_data2.drop(columns=['city','month'])"
   ]
  },
  {
   "cell_type": "markdown",
   "metadata": {},
   "source": [
    "### Calls"
   ]
  },
  {
   "cell_type": "code",
   "execution_count": 41,
   "metadata": {},
   "outputs": [
    {
     "data": {
      "image/png": "[encoded data removed]",
      "text/plain": [
       "<Figure size 432x288 with 1 Axes>"
      ]
     },
     "metadata": {
      "needs_background": "light"
     },
     "output_type": "display_data"
    }
   ],
   "source": [
    "# Compare average duration of calls per each plan per each distinct month. Plot a bar plat to visualize it.\n",
    "#ax = call_data.plot.bar(x='amount of minutes', y='user id', rot=0)\n",
    "\n",
    "#ax = sns.barplot(x=\"amount of minutes\", y=\"plan\", data=call_data)\n",
    "\n",
    "y = call_data.pivot_table(index='plan',columns='month',values='amount of minutes' ).plot(kind='bar')\n"
   ]
  },
  {
   "cell_type": "code",
   "execution_count": 42,
   "metadata": {},
   "outputs": [
    {
     "data": {
      "image/png": "[encoded data removed]",
      "text/plain": [
       "<Figure size 576x504 with 1 Axes>"
      ]
     },
     "metadata": {
      "needs_background": "light"
     },
     "output_type": "display_data"
    }
   ],
   "source": [
    "# Compare tcall_data.hist(columns=['amount of minutes'],by=['month'], figsize=(10,10))he number of minutes users of each plan require each month. Plot a histogram.\n",
    "fig, ax = plt.subplots(figsize=(8,7))\n",
    "ax = sns.histplot(call_data, x=\"amount of minutes\", hue=\"plan\")"
   ]
  },
  {
   "cell_type": "code",
   "execution_count": 43,
   "metadata": {},
   "outputs": [
    {
     "data": {
      "image/png": "[encoded data removed]",
      "text/plain": [
       "<Figure size 648x648 with 1 Axes>"
      ]
     },
     "metadata": {
      "needs_background": "light"
     },
     "output_type": "display_data"
    }
   ],
   "source": [
    "call_data['amount of minutes'].describe()\n",
    "diff = call_data.boxplot(column=['amount of minutes'], by=['plan'],fontsize=12, figsize=(9,9))"
   ]
  },
  {
   "cell_type": "markdown",
   "metadata": {},
   "source": [
    "Calling behavior between the surf and ultimate plans are not too far off. There is essentially the same boxplot for the two plans. The median,min,max and iqr's are the same or very similar. This shows that the behavior between the two plans are close in nature"
   ]
  },
  {
   "cell_type": "markdown",
   "metadata": {},
   "source": [
    " "
   ]
  },
  {
   "cell_type": "markdown",
   "metadata": {},
   "source": [
    "### Messages"
   ]
  },
  {
   "cell_type": "code",
   "execution_count": 44,
   "metadata": {},
   "outputs": [
    {
     "data": {
      "image/png": "[encoded data removed]",
      "text/plain": [
       "<Figure size 432x288 with 1 Axes>"
      ]
     },
     "metadata": {
      "needs_background": "light"
     },
     "output_type": "display_data"
    }
   ],
   "source": [
    "# Compare the number of messages users of each plan tend to send each month\n",
    "\n",
    "y = call_data.pivot_table(index='plan',columns='month',values='messages sent' ).plot(kind='bar')\n"
   ]
  },
  {
   "cell_type": "code",
   "execution_count": 45,
   "metadata": {},
   "outputs": [
    {
     "data": {
      "image/png": "[encoded data removed]",
      "text/plain": [
       "<Figure size 576x504 with 1 Axes>"
      ]
     },
     "metadata": {
      "needs_background": "light"
     },
     "output_type": "display_data"
    }
   ],
   "source": [
    "# Compare the amount of internet traffic consumed by users per plan\n",
    "\n",
    "fig, ax = plt.subplots(figsize=(8,7))\n",
    "ax = sns.histplot(call_data, x=\"messages sent\", hue=\"plan\")"
   ]
  },
  {
   "cell_type": "code",
   "execution_count": 46,
   "metadata": {},
   "outputs": [
    {
     "name": "stdout",
     "output_type": "stream",
     "text": [
      "count    2546.000000\n",
      "mean       29.870778\n",
      "std        33.821074\n",
      "min         0.000000\n",
      "25%         0.000000\n",
      "50%        21.000000\n",
      "75%        48.000000\n",
      "max       266.000000\n",
      "Name: messages sent, dtype: float64\n"
     ]
    },
    {
     "data": {
      "image/png": "[encoded data removed]",
      "text/plain": [
       "<Figure size 648x648 with 1 Axes>"
      ]
     },
     "metadata": {
      "needs_background": "light"
     },
     "output_type": "display_data"
    }
   ],
   "source": [
    "print(call_data['messages sent'].describe())\n",
    "diff = call_data.boxplot(column=['messages sent'], by=['plan'],fontsize=12, figsize=(9,9))"
   ]
  },
  {
   "cell_type": "markdown",
   "metadata": {},
   "source": [
    "Behvaior is definetily different in terms of messaging between the surf and ultimate plans. The median is slightly lower for the surf plan and the max is a little bit higher for the ultimate. All together , there seemed to be vastly more particpants of the surf plan but they seemed to send less messages as compared to lower volume but higher message counts for the ultimate plan."
   ]
  },
  {
   "cell_type": "markdown",
   "metadata": {},
   "source": [
    " "
   ]
  },
  {
   "cell_type": "markdown",
   "metadata": {},
   "source": [
    "### Internet"
   ]
  },
  {
   "cell_type": "code",
   "execution_count": 47,
   "metadata": {},
   "outputs": [
    {
     "data": {
      "image/png": "[encoded data removed]",
      "text/plain": [
       "<Figure size 432x288 with 1 Axes>"
      ]
     },
     "metadata": {
      "needs_background": "light"
     },
     "output_type": "display_data"
    }
   ],
   "source": [
    "#call_data.groupby(['month'])['amount of minutes'].agg(['sum']).reset_index().sort_values(by='sum', ascending=False).plot(x='month', y='sum',kind='bar')\n",
    "#call_data.groupby('gb used').count().plot.bar()\n",
    "\n",
    "y = call_data.pivot_table(index='plan',columns='month',values='gb used' ).plot(kind='bar')\n"
   ]
  },
  {
   "cell_type": "code",
   "execution_count": 48,
   "metadata": {},
   "outputs": [
    {
     "data": {
      "image/png": "[encoded data removed]",
      "text/plain": [
       "<Figure size 576x504 with 1 Axes>"
      ]
     },
     "metadata": {
      "needs_background": "light"
     },
     "output_type": "display_data"
    }
   ],
   "source": [
    "fig, ax = plt.subplots(figsize=(8,7))\n",
    "ax = sns.histplot(call_data, x=\"gb used\", hue=\"plan\")"
   ]
  },
  {
   "cell_type": "code",
   "execution_count": 49,
   "metadata": {},
   "outputs": [
    {
     "name": "stdout",
     "output_type": "stream",
     "text": [
      "count    2546.000000\n",
      "mean       15.194030\n",
      "std         8.956567\n",
      "min         0.000000\n",
      "25%        10.000000\n",
      "50%        16.000000\n",
      "75%        21.000000\n",
      "max        70.000000\n",
      "Name: gb used, dtype: float64\n"
     ]
    },
    {
     "data": {
      "image/png": "[encoded data removed]",
      "text/plain": [
       "<Figure size 648x648 with 1 Axes>"
      ]
     },
     "metadata": {
      "needs_background": "light"
     },
     "output_type": "display_data"
    }
   ],
   "source": [
    "print(call_data['gb used'].describe())\n",
    "diff = call_data.boxplot(column=['gb used'], by=['plan'],fontsize=12, figsize=(9,9))"
   ]
  },
  {
   "cell_type": "markdown",
   "metadata": {},
   "source": [
    "Behavior is slightly different between the two phone plans. The minimums and medians are equal but surf's max slightly edges out the ultimate plan. It seems as if participants of the surf plan use more gb's and at a higher volume than ultimate plan holders."
   ]
  },
  {
   "cell_type": "markdown",
   "metadata": {},
   "source": [
    " "
   ]
  },
  {
   "cell_type": "markdown",
   "metadata": {},
   "source": [
    "## Revenue"
   ]
  },
  {
   "cell_type": "markdown",
   "metadata": {},
   "source": [
    "[Likewise you have studied the user behaviour, statistically describe the revenue between the plans.]"
   ]
  },
  {
   "cell_type": "code",
   "execution_count": 50,
   "metadata": {},
   "outputs": [
    {
     "data": {
      "image/png": "[encoded data removed]",
      "text/plain": [
       "<Figure size 576x504 with 1 Axes>"
      ]
     },
     "metadata": {
      "needs_background": "light"
     },
     "output_type": "display_data"
    }
   ],
   "source": [
    "fig, ax = plt.subplots(figsize=(8,7))\n",
    "ax = sns.histplot(call_data, x=\"revenue\", hue=\"plan\")"
   ]
  },
  {
   "cell_type": "code",
   "execution_count": 51,
   "metadata": {},
   "outputs": [
    {
     "data": {
      "image/png": "[encoded data removed]",
      "text/plain": [
       "<Figure size 432x288 with 1 Axes>"
      ]
     },
     "metadata": {
      "needs_background": "light"
     },
     "output_type": "display_data"
    }
   ],
   "source": [
    "y = call_data.pivot_table(index='plan',columns='month',values='revenue' ).plot(kind='bar')\n"
   ]
  },
  {
   "cell_type": "code",
   "execution_count": 52,
   "metadata": {},
   "outputs": [
    {
     "name": "stdout",
     "output_type": "stream",
     "text": [
      "count    2546.000000\n",
      "mean       37.078233\n",
      "std        22.610965\n",
      "min        20.000000\n",
      "25%        20.000000\n",
      "50%        21.770000\n",
      "75%        70.000000\n",
      "max        70.000000\n",
      "Name: revenue, dtype: float64\n"
     ]
    },
    {
     "data": {
      "image/png": "[encoded data removed]",
      "text/plain": [
       "<Figure size 432x432 with 1 Axes>"
      ]
     },
     "metadata": {
      "needs_background": "light"
     },
     "output_type": "display_data"
    }
   ],
   "source": [
    "print(call_data['revenue'].describe())\n",
    "\n",
    "dihff = call_data.boxplot(column=['revenue'], by=['plan'], fontsize=12, figsize=(6,6))\n",
    "\n",
    "t = sns.boxplot(x= \"plan\", y=\"revenue\", data=call_data)\n"
   ]
  },
  {
   "cell_type": "markdown",
   "metadata": {},
   "source": [
    "The revenue differs drastically between the two plans. Revenue for the ultimate plan sits right at 70 usd whilsts the median for the surf plan is 20 usd but goes out into the range of the mid 50's. The revnue is substantially higher for the surf team."
   ]
  },
  {
   "cell_type": "markdown",
   "metadata": {},
   "source": [
    " "
   ]
  },
  {
   "cell_type": "code",
   "execution_count": 53,
   "metadata": {},
   "outputs": [
    {
     "name": "stdout",
     "output_type": "stream",
     "text": [
      "About 68% of the values in the «amount of minutes» column will fall between   130 and 644.\n",
      "About 68% of the values in the «messages sent» column will fall between    -4 and 64.\n",
      "About 68% of the values in the «gb used» column will fall between     6 and 24.\n",
      "About 68% of the values in the «age» column will fall between    29 and 62.\n"
     ]
    }
   ],
   "source": [
    "from scipy import stats as st\n",
    "\n",
    "prob = 0.68    \n",
    "\n",
    "lower_limit = (1 - prob) / 2\n",
    "upper_limit = 1 - (1 - prob) / 2\n",
    "\n",
    "cols = call_data2.columns[3:-2]\n",
    "\n",
    "for col in cols:\n",
    "    mean = call_data2[col].mean()\n",
    "    std = call_data2[col].std()\n",
    "    \n",
    "    distr = st.norm(mean, std)\n",
    "\n",
    "    lower_range = distr.ppf(lower_limit)\n",
    "    upper_range = distr.ppf(upper_limit)\n",
    "    \n",
    "    print(f'About {prob:.0%} of the values in the «{col}» column will fall between {round(lower_range):5} and {round(upper_range)}.')\n",
    "    \n"
   ]
  },
  {
   "cell_type": "code",
   "execution_count": 54,
   "metadata": {},
   "outputs": [
    {
     "name": "stdout",
     "output_type": "stream",
     "text": [
      "For 68% of users 508 of amount of minutes will be enough.\n",
      "For 68% of users 46 of messages sent will be enough.\n",
      "For 68% of users 19 of gb used will be enough.\n",
      "For 68% of users 53 of age will be enough.\n"
     ]
    }
   ],
   "source": [
    "prob = 0.68\n",
    "\n",
    "for col in cols:\n",
    "    mean = call_data2[col].mean()\n",
    "    std = call_data2[col].std()\n",
    "    \n",
    "    distr = st.norm(mean, std)\n",
    "    \n",
    "    result = distr.ppf(prob)\n",
    "    \n",
    "    print(f'For {prob:.0%} of users {round(result)} of {col} will be enough.')"
   ]
  },
  {
   "cell_type": "code",
   "execution_count": 55,
   "metadata": {},
   "outputs": [
    {
     "name": "stdout",
     "output_type": "stream",
     "text": [
      "For 70% of users 20 of gb used per month will be enough.\n",
      "For 67% of users 500 of amount of minutes per month will be enough.\n"
     ]
    }
   ],
   "source": [
    "# Determine the amount needed.\n",
    "amount = {\n",
    "    'gb used':20, \n",
    "    'amount of minutes':500\n",
    "}\n",
    "\n",
    "# Loop through the keyes.\n",
    "for col in amount:\n",
    "    \n",
    "    # Calculate statistics for building a theoretical distribution.\n",
    "    mean = call_data2[col].mean()\n",
    "    std = call_data2[col].std()\n",
    "    \n",
    "    # Build a normal distribution and calculate the expected percentage.\n",
    "    result = st.norm(mean, std).cdf(amount[col])\n",
    "    \n",
    "    print(f'For {result:.0%} of users {amount[col]} of {col} per month will be enough.')"
   ]
  },
  {
   "cell_type": "code",
   "execution_count": 68,
   "metadata": {},
   "outputs": [
    {
     "data": {
      "text/html": [
       "<div>\n",
       "<style scoped>\n",
       "    .dataframe tbody tr th:only-of-type {\n",
       "        vertical-align: middle;\n",
       "    }\n",
       "\n",
       "    .dataframe tbody tr th {\n",
       "        vertical-align: top;\n",
       "    }\n",
       "\n",
       "    .dataframe thead th {\n",
       "        text-align: right;\n",
       "    }\n",
       "</style>\n",
       "<table border=\"1\" class=\"dataframe\">\n",
       "  <thead>\n",
       "    <tr style=\"text-align: right;\">\n",
       "      <th></th>\n",
       "      <th>index</th>\n",
       "      <th>user id</th>\n",
       "      <th>month</th>\n",
       "      <th>number of calls</th>\n",
       "      <th>amount of minutes</th>\n",
       "      <th>messages sent</th>\n",
       "      <th>gb used</th>\n",
       "      <th>age</th>\n",
       "      <th>city</th>\n",
       "      <th>plan</th>\n",
       "      <th>revenue</th>\n",
       "    </tr>\n",
       "  </thead>\n",
       "  <tbody>\n",
       "    <tr>\n",
       "      <th>63</th>\n",
       "      <td>56</td>\n",
       "      <td>1014</td>\n",
       "      <td>11/2018</td>\n",
       "      <td>5.821429</td>\n",
       "      <td>163.0</td>\n",
       "      <td>9.0</td>\n",
       "      <td>2.0</td>\n",
       "      <td>61</td>\n",
       "      <td>New York-Newark-Jersey City, NY-NJ-PA MSA</td>\n",
       "      <td>surf</td>\n",
       "      <td>20.00</td>\n",
       "    </tr>\n",
       "    <tr>\n",
       "      <th>64</th>\n",
       "      <td>57</td>\n",
       "      <td>1014</td>\n",
       "      <td>12/2018</td>\n",
       "      <td>7.426667</td>\n",
       "      <td>1114.0</td>\n",
       "      <td>64.0</td>\n",
       "      <td>8.0</td>\n",
       "      <td>61</td>\n",
       "      <td>New York-Newark-Jersey City, NY-NJ-PA MSA</td>\n",
       "      <td>surf</td>\n",
       "      <td>38.84</td>\n",
       "    </tr>\n",
       "    <tr>\n",
       "      <th>83</th>\n",
       "      <td>75</td>\n",
       "      <td>1022</td>\n",
       "      <td>05/2018</td>\n",
       "      <td>7.743590</td>\n",
       "      <td>302.0</td>\n",
       "      <td>0.0</td>\n",
       "      <td>5.0</td>\n",
       "      <td>73</td>\n",
       "      <td>New York-Newark-Jersey City, NY-NJ-PA MSA</td>\n",
       "      <td>surf</td>\n",
       "      <td>20.00</td>\n",
       "    </tr>\n",
       "    <tr>\n",
       "      <th>84</th>\n",
       "      <td>76</td>\n",
       "      <td>1022</td>\n",
       "      <td>06/2018</td>\n",
       "      <td>6.447368</td>\n",
       "      <td>490.0</td>\n",
       "      <td>0.0</td>\n",
       "      <td>23.0</td>\n",
       "      <td>73</td>\n",
       "      <td>New York-Newark-Jersey City, NY-NJ-PA MSA</td>\n",
       "      <td>surf</td>\n",
       "      <td>20.00</td>\n",
       "    </tr>\n",
       "    <tr>\n",
       "      <th>85</th>\n",
       "      <td>77</td>\n",
       "      <td>1022</td>\n",
       "      <td>07/2018</td>\n",
       "      <td>6.785714</td>\n",
       "      <td>475.0</td>\n",
       "      <td>0.0</td>\n",
       "      <td>10.0</td>\n",
       "      <td>73</td>\n",
       "      <td>New York-Newark-Jersey City, NY-NJ-PA MSA</td>\n",
       "      <td>surf</td>\n",
       "      <td>20.00</td>\n",
       "    </tr>\n",
       "    <tr>\n",
       "      <th>...</th>\n",
       "      <td>...</td>\n",
       "      <td>...</td>\n",
       "      <td>...</td>\n",
       "      <td>...</td>\n",
       "      <td>...</td>\n",
       "      <td>...</td>\n",
       "      <td>...</td>\n",
       "      <td>...</td>\n",
       "      <td>...</td>\n",
       "      <td>...</td>\n",
       "      <td>...</td>\n",
       "    </tr>\n",
       "    <tr>\n",
       "      <th>2502</th>\n",
       "      <td>2260</td>\n",
       "      <td>1080</td>\n",
       "      <td>09/2018</td>\n",
       "      <td>0.000000</td>\n",
       "      <td>0.0</td>\n",
       "      <td>64.0</td>\n",
       "      <td>25.0</td>\n",
       "      <td>45</td>\n",
       "      <td>New York-Newark-Jersey City, NY-NJ-PA MSA</td>\n",
       "      <td>surf</td>\n",
       "      <td>20.42</td>\n",
       "    </tr>\n",
       "    <tr>\n",
       "      <th>2503</th>\n",
       "      <td>2261</td>\n",
       "      <td>1080</td>\n",
       "      <td>10/2018</td>\n",
       "      <td>0.000000</td>\n",
       "      <td>0.0</td>\n",
       "      <td>59.0</td>\n",
       "      <td>30.0</td>\n",
       "      <td>45</td>\n",
       "      <td>New York-Newark-Jersey City, NY-NJ-PA MSA</td>\n",
       "      <td>surf</td>\n",
       "      <td>20.27</td>\n",
       "    </tr>\n",
       "    <tr>\n",
       "      <th>2504</th>\n",
       "      <td>2262</td>\n",
       "      <td>1080</td>\n",
       "      <td>11/2018</td>\n",
       "      <td>0.000000</td>\n",
       "      <td>0.0</td>\n",
       "      <td>50.0</td>\n",
       "      <td>33.0</td>\n",
       "      <td>45</td>\n",
       "      <td>New York-Newark-Jersey City, NY-NJ-PA MSA</td>\n",
       "      <td>surf</td>\n",
       "      <td>20.00</td>\n",
       "    </tr>\n",
       "    <tr>\n",
       "      <th>2505</th>\n",
       "      <td>2263</td>\n",
       "      <td>1080</td>\n",
       "      <td>12/2018</td>\n",
       "      <td>0.000000</td>\n",
       "      <td>0.0</td>\n",
       "      <td>61.0</td>\n",
       "      <td>24.0</td>\n",
       "      <td>45</td>\n",
       "      <td>New York-Newark-Jersey City, NY-NJ-PA MSA</td>\n",
       "      <td>surf</td>\n",
       "      <td>20.33</td>\n",
       "    </tr>\n",
       "    <tr>\n",
       "      <th>2540</th>\n",
       "      <td>2424</td>\n",
       "      <td>1275</td>\n",
       "      <td>11/2018</td>\n",
       "      <td>0.000000</td>\n",
       "      <td>0.0</td>\n",
       "      <td>0.0</td>\n",
       "      <td>0.0</td>\n",
       "      <td>33</td>\n",
       "      <td>New York-Newark-Jersey City, NY-NJ-PA MSA</td>\n",
       "      <td>ultimate</td>\n",
       "      <td>70.00</td>\n",
       "    </tr>\n",
       "  </tbody>\n",
       "</table>\n",
       "<p>417 rows × 11 columns</p>\n",
       "</div>"
      ],
      "text/plain": [
       "      index  user id    month  number of calls  amount of minutes  \\\n",
       "63       56     1014  11/2018         5.821429              163.0   \n",
       "64       57     1014  12/2018         7.426667             1114.0   \n",
       "83       75     1022  05/2018         7.743590              302.0   \n",
       "84       76     1022  06/2018         6.447368              490.0   \n",
       "85       77     1022  07/2018         6.785714              475.0   \n",
       "...     ...      ...      ...              ...                ...   \n",
       "2502   2260     1080  09/2018         0.000000                0.0   \n",
       "2503   2261     1080  10/2018         0.000000                0.0   \n",
       "2504   2262     1080  11/2018         0.000000                0.0   \n",
       "2505   2263     1080  12/2018         0.000000                0.0   \n",
       "2540   2424     1275  11/2018         0.000000                0.0   \n",
       "\n",
       "      messages sent  gb used  age                                       city  \\\n",
       "63              9.0      2.0   61  New York-Newark-Jersey City, NY-NJ-PA MSA   \n",
       "64             64.0      8.0   61  New York-Newark-Jersey City, NY-NJ-PA MSA   \n",
       "83              0.0      5.0   73  New York-Newark-Jersey City, NY-NJ-PA MSA   \n",
       "84              0.0     23.0   73  New York-Newark-Jersey City, NY-NJ-PA MSA   \n",
       "85              0.0     10.0   73  New York-Newark-Jersey City, NY-NJ-PA MSA   \n",
       "...             ...      ...  ...                                        ...   \n",
       "2502           64.0     25.0   45  New York-Newark-Jersey City, NY-NJ-PA MSA   \n",
       "2503           59.0     30.0   45  New York-Newark-Jersey City, NY-NJ-PA MSA   \n",
       "2504           50.0     33.0   45  New York-Newark-Jersey City, NY-NJ-PA MSA   \n",
       "2505           61.0     24.0   45  New York-Newark-Jersey City, NY-NJ-PA MSA   \n",
       "2540            0.0      0.0   33  New York-Newark-Jersey City, NY-NJ-PA MSA   \n",
       "\n",
       "          plan  revenue  \n",
       "63        surf    20.00  \n",
       "64        surf    38.84  \n",
       "83        surf    20.00  \n",
       "84        surf    20.00  \n",
       "85        surf    20.00  \n",
       "...        ...      ...  \n",
       "2502      surf    20.42  \n",
       "2503      surf    20.27  \n",
       "2504      surf    20.00  \n",
       "2505      surf    20.33  \n",
       "2540  ultimate    70.00  \n",
       "\n",
       "[417 rows x 11 columns]"
      ]
     },
     "execution_count": 68,
     "metadata": {},
     "output_type": "execute_result"
    }
   ],
   "source": [
    "gg = call_data.loc[call_data['city'].str.contains('NY-NJ')]\n",
    "gg"
   ]
  },
  {
   "cell_type": "markdown",
   "metadata": {},
   "source": [
    "## Test statistical hypotheses"
   ]
  },
  {
   "cell_type": "code",
   "execution_count": 70,
   "metadata": {},
   "outputs": [
    {
     "name": "stdout",
     "output_type": "stream",
     "text": [
      "p-value:  1.6216802972448582e-34\n",
      "We reject the null hypothesis\n"
     ]
    }
   ],
   "source": [
    "# Test the hypotheses\n",
    "avgrev = gg.groupby(\"revenue\")[\"plan\"].count()\n",
    "\n",
    "rev = 40\n",
    "\n",
    "alpha = 0.05  \n",
    "\n",
    "results = st.ttest_1samp(avgrev, rev)\n",
    "\n",
    "print('p-value: ', results.pvalue)\n",
    "\n",
    "if results.pvalue < alpha:\n",
    "    print('We reject the null hypothesis')\n",
    "else:\n",
    "    print(\"We can't reject the null hypothesis\") "
   ]
  },
  {
   "cell_type": "code",
   "execution_count": 71,
   "metadata": {},
   "outputs": [
    {
     "name": "stdout",
     "output_type": "stream",
     "text": [
      "p-value:  0.000728200307575808\n",
      "We reject the null hypothesis\n"
     ]
    }
   ],
   "source": [
    "avgrevnynj = call_data.groupby(\"revenue\")[\"plan\"].count()\n",
    "\n",
    "rev = 20\n",
    "\n",
    "alpha = 0.05  \n",
    "\n",
    "results = st.ttest_1samp(avgrevnynj, rev)\n",
    "\n",
    "print('p-value: ', results.pvalue)\n",
    "\n",
    "if results.pvalue < alpha:\n",
    "    print('We reject the null hypothesis')\n",
    "else:\n",
    "    print(\"We can't reject the null hypothesis\") "
   ]
  },
  {
   "cell_type": "code",
   "execution_count": 65,
   "metadata": {},
   "outputs": [
    {
     "data": {
      "text/plain": [
       "pandas.core.series.Series"
      ]
     },
     "execution_count": 65,
     "metadata": {},
     "output_type": "execute_result"
    }
   ],
   "source": [
    "type(call_data['city'])"
   ]
  },
  {
   "cell_type": "markdown",
   "metadata": {},
   "source": [
    "For regular dataset- We are testing to see if the average revenue (irregardless of plan) is less than $20.\n",
    "\n",
    "H0: p < 20\n",
    "\n",
    "H1: p > 20\n",
    "\n",
    "\n",
    "For NY-NJ dataset- We are testing to see if the average revenue (irregardless of plan) for cities in New York or New Jersey is less than $40.\n",
    "\n",
    "\n",
    "H0: p < 40\n",
    "\n",
    "H1: p > 40"
   ]
  },
  {
   "cell_type": "markdown",
   "metadata": {},
   "source": [
    "## General conclusion\n",
    "\n",
    "\n",
    "\n",
    "After much deliberation it seems as if the ultimate plan is the better option as far as bringing in revenue. As opposed to the surf plan which brings in a median of around 20 usd, the ultimate plan's bring in a median of a whopping $70. To discover this amount I had to do EDA. I had to corret different errors that were prevelant in every dataset. After the errors were taken care of I had to merge the 5 indivivual datasets into one major dataset so graphs and hypthosis were easy to create and read. After the master dataframe was created I started to  create different kind of graphs/charts so I could visualize on what was occuring with specific sets of the data. After the charts allowed for a better grasp of the data I tested the hypothesis of the revenues by plan and Ultimate won the test."
   ]
  },
  {
   "cell_type": "markdown",
   "metadata": {},
   "source": [
    " "
   ]
  }
 ],
 "metadata": {
  "ExecuteTimeLog": [
   {
    "duration": 828,
    "start_time": "2021-11-16T09:21:11.304Z"
   },
   {
    "duration": 893,
    "start_time": "2021-11-16T09:21:17.728Z"
   },
   {
    "duration": 1150,
    "start_time": "2021-11-16T09:21:29.568Z"
   },
   {
    "duration": 3,
    "start_time": "2021-11-16T09:24:14.495Z"
   },
   {
    "duration": 120,
    "start_time": "2021-11-16T09:24:46.630Z"
   },
   {
    "duration": 3,
    "start_time": "2021-11-16T09:28:27.882Z"
   },
   {
    "duration": 4,
    "start_time": "2021-11-16T09:29:54.281Z"
   },
   {
    "duration": 3,
    "start_time": "2021-11-16T09:30:45.936Z"
   },
   {
    "duration": 4,
    "start_time": "2021-11-16T09:31:06.300Z"
   },
   {
    "duration": 113,
    "start_time": "2021-11-16T09:31:37.208Z"
   },
   {
    "duration": 143,
    "start_time": "2021-11-16T09:31:48.656Z"
   },
   {
    "duration": 98,
    "start_time": "2021-11-16T09:31:55.678Z"
   },
   {
    "duration": 3,
    "start_time": "2021-11-16T09:32:08.535Z"
   },
   {
    "duration": 111,
    "start_time": "2021-11-16T09:32:10.120Z"
   },
   {
    "duration": 3,
    "start_time": "2021-11-16T09:32:15.732Z"
   },
   {
    "duration": 4,
    "start_time": "2021-11-16T09:32:29.423Z"
   },
   {
    "duration": 3,
    "start_time": "2021-11-16T10:03:03.074Z"
   },
   {
    "duration": 3,
    "start_time": "2021-11-16T10:10:01.288Z"
   },
   {
    "duration": 3,
    "start_time": "2021-11-16T10:10:46.923Z"
   },
   {
    "duration": 121,
    "start_time": "2021-11-16T10:37:46.494Z"
   },
   {
    "duration": 125,
    "start_time": "2021-11-16T10:38:20.632Z"
   },
   {
    "duration": 112,
    "start_time": "2021-11-16T10:46:53.001Z"
   },
   {
    "duration": 110,
    "start_time": "2021-11-16T10:48:25.775Z"
   },
   {
    "duration": 3,
    "start_time": "2021-11-16T10:50:18.720Z"
   },
   {
    "duration": 4,
    "start_time": "2021-11-16T10:50:37.649Z"
   },
   {
    "duration": 2,
    "start_time": "2021-11-16T10:50:51.884Z"
   },
   {
    "duration": 3,
    "start_time": "2021-11-16T10:51:56.237Z"
   },
   {
    "duration": 101,
    "start_time": "2021-11-16T10:53:13.791Z"
   },
   {
    "duration": 3,
    "start_time": "2021-11-16T10:55:59.186Z"
   },
   {
    "duration": 3,
    "start_time": "2021-11-16T10:56:10.751Z"
   },
   {
    "duration": 3,
    "start_time": "2021-11-16T10:56:49.038Z"
   },
   {
    "duration": 3,
    "start_time": "2021-11-16T10:56:49.174Z"
   },
   {
    "duration": 4,
    "start_time": "2021-11-16T10:56:49.414Z"
   },
   {
    "duration": 3,
    "start_time": "2021-11-16T10:56:49.680Z"
   },
   {
    "duration": 3,
    "start_time": "2021-11-16T10:56:50.370Z"
   },
   {
    "duration": 114,
    "start_time": "2021-11-16T10:59:34.518Z"
   },
   {
    "duration": 3,
    "start_time": "2021-11-16T11:01:41.201Z"
   },
   {
    "duration": 116,
    "start_time": "2021-11-16T11:01:48.754Z"
   },
   {
    "duration": 3,
    "start_time": "2021-11-16T11:02:16.685Z"
   },
   {
    "duration": 3,
    "start_time": "2021-11-16T11:02:19.479Z"
   },
   {
    "duration": 3,
    "start_time": "2021-11-16T11:02:47.067Z"
   },
   {
    "duration": 3,
    "start_time": "2021-11-16T11:02:49.353Z"
   },
   {
    "duration": 3,
    "start_time": "2021-11-16T11:03:07.835Z"
   },
   {
    "duration": 3,
    "start_time": "2021-11-16T11:03:07.953Z"
   },
   {
    "duration": 112,
    "start_time": "2021-11-16T11:07:52.072Z"
   },
   {
    "duration": 187,
    "start_time": "2021-11-16T11:09:23.468Z"
   },
   {
    "duration": 4,
    "start_time": "2021-11-16T11:10:01.455Z"
   },
   {
    "duration": 3,
    "start_time": "2021-11-16T11:10:05.069Z"
   },
   {
    "duration": 4,
    "start_time": "2021-11-16T11:10:13.376Z"
   },
   {
    "duration": 3,
    "start_time": "2021-11-16T11:10:14.434Z"
   },
   {
    "duration": 3,
    "start_time": "2021-11-16T11:10:22.853Z"
   },
   {
    "duration": 4,
    "start_time": "2021-11-16T11:27:29.279Z"
   },
   {
    "duration": 4,
    "start_time": "2021-11-16T11:29:08.919Z"
   },
   {
    "duration": 118,
    "start_time": "2021-11-16T11:29:46.703Z"
   },
   {
    "duration": 437,
    "start_time": "2021-11-16T11:36:02.181Z"
   },
   {
    "duration": 157,
    "start_time": "2021-11-16T11:36:14.388Z"
   },
   {
    "duration": 207,
    "start_time": "2021-11-16T11:47:15.898Z"
   },
   {
    "duration": 3,
    "start_time": "2021-11-16T11:53:52.092Z"
   },
   {
    "duration": 3,
    "start_time": "2021-11-16T11:53:52.236Z"
   },
   {
    "duration": 3,
    "start_time": "2021-11-16T11:59:12.005Z"
   },
   {
    "duration": 112,
    "start_time": "2021-11-16T12:00:33.446Z"
   },
   {
    "duration": 3,
    "start_time": "2021-11-16T12:02:14.453Z"
   },
   {
    "duration": 3,
    "start_time": "2021-11-16T12:02:39.512Z"
   },
   {
    "duration": 106,
    "start_time": "2021-11-16T12:03:03.460Z"
   },
   {
    "duration": 3,
    "start_time": "2021-11-17T20:37:21.139Z"
   },
   {
    "duration": 3,
    "start_time": "2021-11-17T20:37:22.229Z"
   },
   {
    "duration": 3,
    "start_time": "2021-11-17T20:38:38.806Z"
   },
   {
    "duration": 3,
    "start_time": "2021-11-17T20:38:41.958Z"
   },
   {
    "duration": 3,
    "start_time": "2021-11-17T20:43:46.551Z"
   },
   {
    "duration": 4,
    "start_time": "2021-11-17T20:58:21.835Z"
   },
   {
    "duration": 3,
    "start_time": "2021-11-17T20:59:21.872Z"
   },
   {
    "duration": 4,
    "start_time": "2021-11-17T20:59:45.352Z"
   },
   {
    "duration": 4,
    "start_time": "2021-11-17T20:59:49.646Z"
   },
   {
    "duration": 159,
    "start_time": "2021-11-17T21:02:26.949Z"
   },
   {
    "duration": 3,
    "start_time": "2021-11-17T21:03:53.461Z"
   },
   {
    "duration": 3,
    "start_time": "2021-11-17T21:03:53.694Z"
   },
   {
    "duration": 3,
    "start_time": "2021-11-17T21:05:28.145Z"
   },
   {
    "duration": 116,
    "start_time": "2021-11-17T21:05:57.787Z"
   },
   {
    "duration": 3,
    "start_time": "2021-11-17T21:06:37.993Z"
   },
   {
    "duration": 3,
    "start_time": "2021-11-17T21:06:38.261Z"
   },
   {
    "duration": 3,
    "start_time": "2021-11-17T21:11:54.358Z"
   },
   {
    "duration": 3,
    "start_time": "2021-11-17T21:12:43.846Z"
   },
   {
    "duration": 4,
    "start_time": "2021-11-17T21:13:08.773Z"
   },
   {
    "duration": 3,
    "start_time": "2021-11-17T21:14:44.441Z"
   },
   {
    "duration": 3,
    "start_time": "2021-11-17T21:15:42.059Z"
   },
   {
    "duration": 4,
    "start_time": "2021-11-17T21:15:51.995Z"
   },
   {
    "duration": 3,
    "start_time": "2021-11-17T21:15:53.923Z"
   },
   {
    "duration": 3,
    "start_time": "2021-11-17T21:15:55.282Z"
   },
   {
    "duration": 3,
    "start_time": "2021-11-17T21:16:28.492Z"
   },
   {
    "duration": 3,
    "start_time": "2021-11-17T21:16:32.603Z"
   },
   {
    "duration": 3,
    "start_time": "2021-11-17T21:17:06.941Z"
   },
   {
    "duration": 98,
    "start_time": "2021-11-17T21:18:05.733Z"
   },
   {
    "duration": 4,
    "start_time": "2021-11-17T21:21:35.255Z"
   },
   {
    "duration": 3,
    "start_time": "2021-11-17T21:21:37.804Z"
   },
   {
    "duration": 4,
    "start_time": "2021-11-17T21:23:06.071Z"
   },
   {
    "duration": 3,
    "start_time": "2021-11-17T21:23:24.799Z"
   },
   {
    "duration": 3,
    "start_time": "2021-11-17T21:23:32.591Z"
   },
   {
    "duration": 98,
    "start_time": "2021-11-17T21:28:31.559Z"
   },
   {
    "duration": 3,
    "start_time": "2021-11-17T21:28:45.448Z"
   },
   {
    "duration": 3,
    "start_time": "2021-11-17T21:29:17.303Z"
   },
   {
    "duration": 3,
    "start_time": "2021-11-17T21:29:29.617Z"
   },
   {
    "duration": 3,
    "start_time": "2021-11-17T21:29:32.681Z"
   },
   {
    "duration": 3,
    "start_time": "2021-11-17T21:36:11.474Z"
   },
   {
    "duration": 3,
    "start_time": "2021-11-17T21:36:14.791Z"
   },
   {
    "duration": 3,
    "start_time": "2021-11-17T21:36:53.943Z"
   },
   {
    "duration": 3,
    "start_time": "2021-11-17T21:36:56.165Z"
   },
   {
    "duration": 4,
    "start_time": "2021-11-17T21:37:16.590Z"
   },
   {
    "duration": 3,
    "start_time": "2021-11-17T21:37:22.702Z"
   },
   {
    "duration": 4,
    "start_time": "2021-11-17T21:38:03.479Z"
   },
   {
    "duration": 3,
    "start_time": "2021-11-17T21:38:08.601Z"
   },
   {
    "duration": 3,
    "start_time": "2021-11-17T21:38:12.928Z"
   },
   {
    "duration": 3,
    "start_time": "2021-11-17T21:38:48.896Z"
   },
   {
    "duration": 2,
    "start_time": "2021-11-17T21:38:49.171Z"
   },
   {
    "duration": 4,
    "start_time": "2021-11-17T21:39:57.889Z"
   },
   {
    "duration": 3,
    "start_time": "2021-11-17T21:39:58.057Z"
   },
   {
    "duration": 3,
    "start_time": "2021-11-17T21:41:20.108Z"
   },
   {
    "duration": 3,
    "start_time": "2021-11-17T21:41:20.629Z"
   },
   {
    "duration": 3,
    "start_time": "2021-11-17T21:42:49.136Z"
   },
   {
    "duration": 3,
    "start_time": "2021-11-17T21:43:15.137Z"
   },
   {
    "duration": 4,
    "start_time": "2021-11-17T21:43:16.766Z"
   },
   {
    "duration": 4,
    "start_time": "2021-11-17T21:43:31.711Z"
   },
   {
    "duration": 3,
    "start_time": "2021-11-17T21:43:36.312Z"
   },
   {
    "duration": 4,
    "start_time": "2021-11-17T21:45:08.825Z"
   },
   {
    "duration": 4,
    "start_time": "2021-11-17T21:45:10.119Z"
   },
   {
    "duration": 4,
    "start_time": "2021-11-17T21:45:13.748Z"
   },
   {
    "duration": 3,
    "start_time": "2021-11-17T21:45:22.219Z"
   },
   {
    "duration": 3,
    "start_time": "2021-11-17T21:45:33.412Z"
   },
   {
    "duration": 2,
    "start_time": "2021-11-17T21:46:01.885Z"
   },
   {
    "duration": 3,
    "start_time": "2021-11-17T21:46:03.628Z"
   },
   {
    "duration": 107,
    "start_time": "2021-11-17T21:47:32.512Z"
   },
   {
    "duration": 103,
    "start_time": "2021-11-17T21:50:36.243Z"
   },
   {
    "duration": 3,
    "start_time": "2021-11-18T06:28:31.440Z"
   },
   {
    "duration": 3,
    "start_time": "2021-11-18T06:29:00.168Z"
   },
   {
    "duration": 3,
    "start_time": "2021-11-18T06:31:27.008Z"
   },
   {
    "duration": 2,
    "start_time": "2021-11-18T06:35:34.288Z"
   },
   {
    "duration": 2,
    "start_time": "2021-11-18T06:38:04.527Z"
   },
   {
    "duration": 1296,
    "start_time": "2022-06-23T21:29:44.524Z"
   },
   {
    "duration": 915,
    "start_time": "2022-06-23T21:29:50.018Z"
   },
   {
    "duration": 10,
    "start_time": "2022-06-23T21:48:18.573Z"
   },
   {
    "duration": 19,
    "start_time": "2022-06-23T21:49:33.676Z"
   },
   {
    "duration": 16,
    "start_time": "2022-06-23T21:49:37.415Z"
   },
   {
    "duration": 4,
    "start_time": "2022-06-23T21:49:58.249Z"
   },
   {
    "duration": 16,
    "start_time": "2022-06-23T21:50:24.688Z"
   },
   {
    "duration": 8,
    "start_time": "2022-06-23T21:50:25.598Z"
   },
   {
    "duration": 10,
    "start_time": "2022-06-23T21:51:06.088Z"
   },
   {
    "duration": 15,
    "start_time": "2022-06-23T21:51:07.187Z"
   },
   {
    "duration": 102,
    "start_time": "2022-06-23T21:51:23.549Z"
   },
   {
    "duration": 11,
    "start_time": "2022-06-23T21:51:36.284Z"
   },
   {
    "duration": 20,
    "start_time": "2022-06-23T21:51:38.856Z"
   },
   {
    "duration": 8,
    "start_time": "2022-06-23T21:51:53.997Z"
   },
   {
    "duration": 21,
    "start_time": "2022-06-23T21:51:55.718Z"
   },
   {
    "duration": 16,
    "start_time": "2022-06-23T22:08:23.538Z"
   },
   {
    "duration": 13,
    "start_time": "2022-06-23T22:08:30.568Z"
   },
   {
    "duration": 13,
    "start_time": "2022-06-23T22:08:44.047Z"
   },
   {
    "duration": 11,
    "start_time": "2022-06-23T22:12:43.806Z"
   },
   {
    "duration": 12,
    "start_time": "2022-06-23T22:12:57.495Z"
   },
   {
    "duration": 44,
    "start_time": "2022-06-24T21:22:59.872Z"
   },
   {
    "duration": 1272,
    "start_time": "2022-06-24T21:23:14.877Z"
   },
   {
    "duration": 884,
    "start_time": "2022-06-24T21:23:16.151Z"
   },
   {
    "duration": 13,
    "start_time": "2022-06-24T21:23:17.037Z"
   },
   {
    "duration": 29,
    "start_time": "2022-06-24T21:23:17.052Z"
   },
   {
    "duration": 10,
    "start_time": "2022-06-24T21:23:17.083Z"
   },
   {
    "duration": 9,
    "start_time": "2022-06-24T21:23:17.095Z"
   },
   {
    "duration": 19,
    "start_time": "2022-06-24T21:23:17.106Z"
   },
   {
    "duration": 46,
    "start_time": "2022-06-24T21:23:17.126Z"
   },
   {
    "duration": 122,
    "start_time": "2022-06-24T21:23:17.173Z"
   },
   {
    "duration": 0,
    "start_time": "2022-06-24T21:23:17.298Z"
   },
   {
    "duration": 0,
    "start_time": "2022-06-24T21:23:17.299Z"
   },
   {
    "duration": 0,
    "start_time": "2022-06-24T21:23:17.301Z"
   },
   {
    "duration": 0,
    "start_time": "2022-06-24T21:23:17.302Z"
   },
   {
    "duration": 0,
    "start_time": "2022-06-24T21:23:17.304Z"
   },
   {
    "duration": 0,
    "start_time": "2022-06-24T21:23:17.306Z"
   },
   {
    "duration": 0,
    "start_time": "2022-06-24T21:23:17.307Z"
   },
   {
    "duration": 0,
    "start_time": "2022-06-24T21:23:17.309Z"
   },
   {
    "duration": 0,
    "start_time": "2022-06-24T21:23:17.310Z"
   },
   {
    "duration": 0,
    "start_time": "2022-06-24T21:23:17.311Z"
   },
   {
    "duration": 0,
    "start_time": "2022-06-24T21:23:17.313Z"
   },
   {
    "duration": 0,
    "start_time": "2022-06-24T21:23:17.314Z"
   },
   {
    "duration": 0,
    "start_time": "2022-06-24T21:23:17.315Z"
   },
   {
    "duration": 0,
    "start_time": "2022-06-24T21:23:17.317Z"
   },
   {
    "duration": 0,
    "start_time": "2022-06-24T21:23:17.360Z"
   },
   {
    "duration": 0,
    "start_time": "2022-06-24T21:23:17.362Z"
   },
   {
    "duration": 0,
    "start_time": "2022-06-24T21:23:17.363Z"
   },
   {
    "duration": 0,
    "start_time": "2022-06-24T21:23:17.363Z"
   },
   {
    "duration": 0,
    "start_time": "2022-06-24T21:23:17.364Z"
   },
   {
    "duration": 0,
    "start_time": "2022-06-24T21:23:17.364Z"
   },
   {
    "duration": 9,
    "start_time": "2022-06-24T21:23:26.498Z"
   },
   {
    "duration": 9,
    "start_time": "2022-06-24T21:23:35.838Z"
   },
   {
    "duration": 8,
    "start_time": "2022-06-24T21:24:18.004Z"
   },
   {
    "duration": 820,
    "start_time": "2022-06-24T21:24:23.603Z"
   },
   {
    "duration": 881,
    "start_time": "2022-06-24T21:24:34.414Z"
   },
   {
    "duration": 36,
    "start_time": "2022-06-24T21:25:51.768Z"
   },
   {
    "duration": 13,
    "start_time": "2022-06-24T21:26:52.236Z"
   },
   {
    "duration": 11,
    "start_time": "2022-06-24T21:27:02.430Z"
   },
   {
    "duration": 12,
    "start_time": "2022-06-24T21:27:14.172Z"
   },
   {
    "duration": 8,
    "start_time": "2022-06-24T21:27:15.546Z"
   },
   {
    "duration": 11,
    "start_time": "2022-06-24T21:27:22.091Z"
   },
   {
    "duration": 18,
    "start_time": "2022-06-24T21:27:28.254Z"
   },
   {
    "duration": 26,
    "start_time": "2022-06-24T21:27:36.043Z"
   },
   {
    "duration": 37,
    "start_time": "2022-06-24T21:28:00.640Z"
   },
   {
    "duration": 7,
    "start_time": "2022-06-24T21:28:14.845Z"
   },
   {
    "duration": 11,
    "start_time": "2022-06-24T21:28:28.374Z"
   },
   {
    "duration": 16,
    "start_time": "2022-06-24T21:28:44.591Z"
   },
   {
    "duration": 5,
    "start_time": "2022-06-24T21:32:14.348Z"
   },
   {
    "duration": 16,
    "start_time": "2022-06-24T21:32:23.774Z"
   },
   {
    "duration": 25,
    "start_time": "2022-06-24T21:32:39.424Z"
   },
   {
    "duration": 14,
    "start_time": "2022-06-24T21:33:14.224Z"
   },
   {
    "duration": 40,
    "start_time": "2022-06-24T21:33:54.434Z"
   },
   {
    "duration": 33,
    "start_time": "2022-06-24T21:34:51.351Z"
   },
   {
    "duration": 26,
    "start_time": "2022-06-24T21:35:55.700Z"
   },
   {
    "duration": 20,
    "start_time": "2022-06-24T21:43:47.540Z"
   },
   {
    "duration": 666,
    "start_time": "2022-06-24T21:45:14.150Z"
   },
   {
    "duration": 650,
    "start_time": "2022-06-24T21:45:26.288Z"
   },
   {
    "duration": 37,
    "start_time": "2022-06-24T21:45:58.476Z"
   },
   {
    "duration": 707,
    "start_time": "2022-06-24T21:46:21.805Z"
   },
   {
    "duration": 18,
    "start_time": "2022-06-24T21:46:39.424Z"
   },
   {
    "duration": 18,
    "start_time": "2022-06-24T21:46:54.489Z"
   },
   {
    "duration": 25,
    "start_time": "2022-06-24T21:46:59.432Z"
   },
   {
    "duration": 693,
    "start_time": "2022-06-24T21:47:19.742Z"
   },
   {
    "duration": 25,
    "start_time": "2022-06-24T21:47:30.298Z"
   },
   {
    "duration": 20,
    "start_time": "2022-06-24T21:47:57.726Z"
   },
   {
    "duration": 1094,
    "start_time": "2022-06-24T21:48:42.897Z"
   },
   {
    "duration": 314,
    "start_time": "2022-06-24T21:48:43.992Z"
   },
   {
    "duration": 12,
    "start_time": "2022-06-24T21:48:44.307Z"
   },
   {
    "duration": 13,
    "start_time": "2022-06-24T21:48:44.321Z"
   },
   {
    "duration": 11,
    "start_time": "2022-06-24T21:48:50.588Z"
   },
   {
    "duration": 11,
    "start_time": "2022-06-24T21:48:51.274Z"
   },
   {
    "duration": 106,
    "start_time": "2022-06-24T21:49:29.975Z"
   },
   {
    "duration": 17,
    "start_time": "2022-06-24T21:49:39.900Z"
   },
   {
    "duration": 16,
    "start_time": "2022-06-24T21:49:49.142Z"
   },
   {
    "duration": 14,
    "start_time": "2022-06-24T21:50:09.196Z"
   },
   {
    "duration": 13,
    "start_time": "2022-06-24T21:55:50.544Z"
   },
   {
    "duration": 18,
    "start_time": "2022-06-24T21:57:30.422Z"
   },
   {
    "duration": 666,
    "start_time": "2022-06-24T21:57:42.908Z"
   },
   {
    "duration": 48,
    "start_time": "2022-06-24T22:01:27.185Z"
   },
   {
    "duration": 685,
    "start_time": "2022-06-24T22:01:39.724Z"
   },
   {
    "duration": 86,
    "start_time": "2022-06-25T01:30:38.589Z"
   },
   {
    "duration": 1427,
    "start_time": "2022-06-25T01:30:44.063Z"
   },
   {
    "duration": 1075,
    "start_time": "2022-06-25T01:30:45.492Z"
   },
   {
    "duration": 19,
    "start_time": "2022-06-25T01:30:46.569Z"
   },
   {
    "duration": 14,
    "start_time": "2022-06-25T01:30:46.590Z"
   },
   {
    "duration": 12,
    "start_time": "2022-06-25T01:30:50.449Z"
   },
   {
    "duration": 12,
    "start_time": "2022-06-25T01:30:51.049Z"
   },
   {
    "duration": 84,
    "start_time": "2022-06-25T01:30:57.791Z"
   },
   {
    "duration": 20,
    "start_time": "2022-06-25T01:31:09.084Z"
   },
   {
    "duration": 29,
    "start_time": "2022-06-25T01:31:16.176Z"
   },
   {
    "duration": 22,
    "start_time": "2022-06-25T01:32:07.658Z"
   },
   {
    "duration": 37,
    "start_time": "2022-06-25T01:32:08.174Z"
   },
   {
    "duration": 67,
    "start_time": "2022-06-25T01:32:09.541Z"
   },
   {
    "duration": 15,
    "start_time": "2022-06-25T01:32:10.999Z"
   },
   {
    "duration": 8,
    "start_time": "2022-06-25T01:32:17.174Z"
   },
   {
    "duration": 29,
    "start_time": "2022-06-25T01:32:18.476Z"
   },
   {
    "duration": 67,
    "start_time": "2022-06-25T19:52:34.471Z"
   },
   {
    "duration": 1541,
    "start_time": "2022-06-25T19:52:44.569Z"
   },
   {
    "duration": 1473,
    "start_time": "2022-06-25T19:52:46.113Z"
   },
   {
    "duration": 16,
    "start_time": "2022-06-25T19:52:47.589Z"
   },
   {
    "duration": 17,
    "start_time": "2022-06-25T19:52:47.607Z"
   },
   {
    "duration": 12,
    "start_time": "2022-06-25T19:52:47.628Z"
   },
   {
    "duration": 24,
    "start_time": "2022-06-25T19:52:47.643Z"
   },
   {
    "duration": 43,
    "start_time": "2022-06-25T19:52:47.669Z"
   },
   {
    "duration": 42,
    "start_time": "2022-06-25T19:52:47.715Z"
   },
   {
    "duration": 31,
    "start_time": "2022-06-25T19:52:47.761Z"
   },
   {
    "duration": 85,
    "start_time": "2022-06-25T19:52:47.794Z"
   },
   {
    "duration": 19,
    "start_time": "2022-06-25T19:52:47.882Z"
   },
   {
    "duration": 10,
    "start_time": "2022-06-25T19:52:47.904Z"
   },
   {
    "duration": 78,
    "start_time": "2022-06-25T19:52:47.916Z"
   },
   {
    "duration": 21,
    "start_time": "2022-06-25T19:52:47.999Z"
   },
   {
    "duration": 36,
    "start_time": "2022-06-25T19:52:48.023Z"
   },
   {
    "duration": 57,
    "start_time": "2022-06-25T19:52:48.063Z"
   },
   {
    "duration": 45,
    "start_time": "2022-06-25T19:52:48.122Z"
   },
   {
    "duration": 51,
    "start_time": "2022-06-25T19:52:48.168Z"
   },
   {
    "duration": 0,
    "start_time": "2022-06-25T19:52:48.221Z"
   },
   {
    "duration": 0,
    "start_time": "2022-06-25T19:52:48.222Z"
   },
   {
    "duration": 0,
    "start_time": "2022-06-25T19:52:48.224Z"
   },
   {
    "duration": 0,
    "start_time": "2022-06-25T19:52:48.226Z"
   },
   {
    "duration": 0,
    "start_time": "2022-06-25T19:52:48.227Z"
   },
   {
    "duration": 0,
    "start_time": "2022-06-25T19:52:48.228Z"
   },
   {
    "duration": 0,
    "start_time": "2022-06-25T19:52:48.229Z"
   },
   {
    "duration": 0,
    "start_time": "2022-06-25T19:52:48.230Z"
   },
   {
    "duration": 0,
    "start_time": "2022-06-25T19:52:48.232Z"
   },
   {
    "duration": 0,
    "start_time": "2022-06-25T19:52:48.233Z"
   },
   {
    "duration": 0,
    "start_time": "2022-06-25T19:52:48.234Z"
   },
   {
    "duration": 0,
    "start_time": "2022-06-25T19:52:48.236Z"
   },
   {
    "duration": 0,
    "start_time": "2022-06-25T19:52:48.237Z"
   },
   {
    "duration": 0,
    "start_time": "2022-06-25T19:52:48.239Z"
   },
   {
    "duration": 124,
    "start_time": "2022-06-25T19:55:11.576Z"
   },
   {
    "duration": 4,
    "start_time": "2022-06-25T19:55:35.900Z"
   },
   {
    "duration": 3,
    "start_time": "2022-06-25T19:55:38.723Z"
   },
   {
    "duration": 5,
    "start_time": "2022-06-25T19:56:10.476Z"
   },
   {
    "duration": 23,
    "start_time": "2022-06-25T19:56:17.503Z"
   },
   {
    "duration": 47,
    "start_time": "2022-06-25T19:57:17.214Z"
   },
   {
    "duration": 30,
    "start_time": "2022-06-25T19:57:31.454Z"
   },
   {
    "duration": 4,
    "start_time": "2022-06-25T19:59:07.291Z"
   },
   {
    "duration": 4,
    "start_time": "2022-06-25T19:59:30.337Z"
   },
   {
    "duration": 5,
    "start_time": "2022-06-25T19:59:46.581Z"
   },
   {
    "duration": 15,
    "start_time": "2022-06-25T20:00:06.598Z"
   },
   {
    "duration": 26,
    "start_time": "2022-06-25T20:02:17.635Z"
   },
   {
    "duration": 25,
    "start_time": "2022-06-25T20:02:43.536Z"
   },
   {
    "duration": 13,
    "start_time": "2022-06-25T20:03:18.902Z"
   },
   {
    "duration": 12,
    "start_time": "2022-06-25T20:03:20.037Z"
   },
   {
    "duration": 22,
    "start_time": "2022-06-25T20:03:23.245Z"
   },
   {
    "duration": 13,
    "start_time": "2022-06-25T20:04:05.710Z"
   },
   {
    "duration": 24,
    "start_time": "2022-06-25T20:04:22.788Z"
   },
   {
    "duration": 13,
    "start_time": "2022-06-25T20:04:48.776Z"
   },
   {
    "duration": 20,
    "start_time": "2022-06-25T20:04:57.312Z"
   },
   {
    "duration": 69,
    "start_time": "2022-06-25T20:05:36.551Z"
   },
   {
    "duration": 60,
    "start_time": "2022-06-25T20:05:46.802Z"
   },
   {
    "duration": 76,
    "start_time": "2022-06-25T20:06:17.432Z"
   },
   {
    "duration": 19,
    "start_time": "2022-06-25T20:09:41.575Z"
   },
   {
    "duration": 55,
    "start_time": "2022-06-25T20:10:08.279Z"
   },
   {
    "duration": 14,
    "start_time": "2022-06-25T20:10:33.097Z"
   },
   {
    "duration": 25,
    "start_time": "2022-06-25T20:11:20.237Z"
   },
   {
    "duration": 63,
    "start_time": "2022-06-25T20:11:45.031Z"
   },
   {
    "duration": 59,
    "start_time": "2022-06-25T20:11:51.641Z"
   },
   {
    "duration": 57,
    "start_time": "2022-06-25T20:12:10.880Z"
   },
   {
    "duration": 79,
    "start_time": "2022-06-25T20:12:22.115Z"
   },
   {
    "duration": 21,
    "start_time": "2022-06-25T20:13:06.825Z"
   },
   {
    "duration": 73,
    "start_time": "2022-06-25T20:14:20.348Z"
   },
   {
    "duration": 72,
    "start_time": "2022-06-25T20:14:34.120Z"
   },
   {
    "duration": 16,
    "start_time": "2022-06-25T20:14:40.969Z"
   },
   {
    "duration": 63,
    "start_time": "2022-06-25T20:14:58.002Z"
   },
   {
    "duration": 21,
    "start_time": "2022-06-25T20:15:04.107Z"
   },
   {
    "duration": 115,
    "start_time": "2022-06-25T20:15:46.993Z"
   },
   {
    "duration": 22,
    "start_time": "2022-06-25T20:15:57.542Z"
   },
   {
    "duration": 16,
    "start_time": "2022-06-25T20:16:03.119Z"
   },
   {
    "duration": 23,
    "start_time": "2022-06-25T20:16:11.036Z"
   },
   {
    "duration": 45,
    "start_time": "2022-06-25T20:16:41.493Z"
   },
   {
    "duration": 33,
    "start_time": "2022-06-25T20:17:55.909Z"
   },
   {
    "duration": 56,
    "start_time": "2022-06-25T20:18:22.261Z"
   },
   {
    "duration": 21,
    "start_time": "2022-06-25T20:18:33.826Z"
   },
   {
    "duration": 71,
    "start_time": "2022-06-25T20:18:35.123Z"
   },
   {
    "duration": 12,
    "start_time": "2022-06-25T20:43:05.890Z"
   },
   {
    "duration": 11,
    "start_time": "2022-06-25T20:43:52.531Z"
   },
   {
    "duration": 11,
    "start_time": "2022-06-25T20:44:51.478Z"
   },
   {
    "duration": 1003,
    "start_time": "2022-06-25T20:56:46.066Z"
   },
   {
    "duration": 7,
    "start_time": "2022-06-25T20:56:57.981Z"
   },
   {
    "duration": 7,
    "start_time": "2022-06-25T20:57:02.495Z"
   },
   {
    "duration": 16,
    "start_time": "2022-06-25T20:57:17.112Z"
   },
   {
    "duration": 36,
    "start_time": "2022-06-25T20:57:34.088Z"
   },
   {
    "duration": 667,
    "start_time": "2022-06-25T20:58:49.860Z"
   },
   {
    "duration": 38,
    "start_time": "2022-06-25T20:59:13.147Z"
   },
   {
    "duration": 744,
    "start_time": "2022-06-25T20:59:40.527Z"
   },
   {
    "duration": 46,
    "start_time": "2022-06-25T20:59:58.824Z"
   },
   {
    "duration": 36,
    "start_time": "2022-06-25T21:00:26.900Z"
   },
   {
    "duration": 706,
    "start_time": "2022-06-25T21:02:02.881Z"
   },
   {
    "duration": 430,
    "start_time": "2022-06-25T21:02:39.956Z"
   },
   {
    "duration": 552,
    "start_time": "2022-06-25T21:03:12.929Z"
   },
   {
    "duration": 20,
    "start_time": "2022-06-25T21:03:18.370Z"
   },
   {
    "duration": 29,
    "start_time": "2022-06-25T21:03:37.570Z"
   },
   {
    "duration": 4,
    "start_time": "2022-06-25T21:04:11.688Z"
   },
   {
    "duration": 5,
    "start_time": "2022-06-25T21:04:26.325Z"
   },
   {
    "duration": 25,
    "start_time": "2022-06-25T21:04:32.380Z"
   },
   {
    "duration": 90,
    "start_time": "2022-06-25T21:04:40.515Z"
   },
   {
    "duration": 75,
    "start_time": "2022-06-25T21:04:52.337Z"
   },
   {
    "duration": 29,
    "start_time": "2022-06-25T21:04:55.381Z"
   },
   {
    "duration": 52,
    "start_time": "2022-06-25T21:05:00.070Z"
   },
   {
    "duration": 66,
    "start_time": "2022-06-25T21:05:07.048Z"
   },
   {
    "duration": 54,
    "start_time": "2022-06-25T21:05:19.325Z"
   },
   {
    "duration": 47,
    "start_time": "2022-06-25T21:05:33.321Z"
   },
   {
    "duration": 1237,
    "start_time": "2022-06-27T21:45:39.460Z"
   },
   {
    "duration": 510,
    "start_time": "2022-06-27T21:45:40.699Z"
   },
   {
    "duration": 12,
    "start_time": "2022-06-27T21:45:41.211Z"
   },
   {
    "duration": 22,
    "start_time": "2022-06-27T21:45:41.225Z"
   },
   {
    "duration": 11,
    "start_time": "2022-06-27T21:45:41.248Z"
   },
   {
    "duration": 18,
    "start_time": "2022-06-27T21:45:41.260Z"
   },
   {
    "duration": 32,
    "start_time": "2022-06-27T21:45:41.279Z"
   },
   {
    "duration": 37,
    "start_time": "2022-06-27T21:45:41.312Z"
   },
   {
    "duration": 20,
    "start_time": "2022-06-27T21:45:41.351Z"
   },
   {
    "duration": 23,
    "start_time": "2022-06-27T21:45:41.374Z"
   },
   {
    "duration": 79,
    "start_time": "2022-06-27T21:45:41.399Z"
   },
   {
    "duration": 481,
    "start_time": "2022-06-27T21:45:41.480Z"
   },
   {
    "duration": 14,
    "start_time": "2022-06-27T21:45:41.963Z"
   },
   {
    "duration": 7,
    "start_time": "2022-06-27T21:45:41.979Z"
   },
   {
    "duration": 46,
    "start_time": "2022-06-27T21:45:41.987Z"
   },
   {
    "duration": 279,
    "start_time": "2022-06-27T21:45:42.034Z"
   },
   {
    "duration": 22,
    "start_time": "2022-06-27T21:45:42.314Z"
   },
   {
    "duration": 8,
    "start_time": "2022-06-27T21:45:42.338Z"
   },
   {
    "duration": 48,
    "start_time": "2022-06-27T21:45:42.348Z"
   },
   {
    "duration": 402,
    "start_time": "2022-06-27T21:45:42.398Z"
   },
   {
    "duration": 27,
    "start_time": "2022-06-27T21:45:42.802Z"
   },
   {
    "duration": 35,
    "start_time": "2022-06-27T21:45:42.830Z"
   },
   {
    "duration": 62,
    "start_time": "2022-06-27T21:45:42.867Z"
   },
   {
    "duration": 23,
    "start_time": "2022-06-27T21:45:42.931Z"
   },
   {
    "duration": 52,
    "start_time": "2022-06-27T21:45:42.956Z"
   },
   {
    "duration": 18,
    "start_time": "2022-06-27T21:45:43.010Z"
   },
   {
    "duration": 7,
    "start_time": "2022-06-27T21:45:43.029Z"
   },
   {
    "duration": 3,
    "start_time": "2022-06-27T21:45:43.039Z"
   },
   {
    "duration": 5,
    "start_time": "2022-06-27T21:45:43.044Z"
   },
   {
    "duration": 5,
    "start_time": "2022-06-27T21:45:43.050Z"
   },
   {
    "duration": 5,
    "start_time": "2022-06-27T21:45:43.056Z"
   },
   {
    "duration": 5,
    "start_time": "2022-06-27T21:45:43.062Z"
   },
   {
    "duration": 4,
    "start_time": "2022-06-27T21:45:43.069Z"
   },
   {
    "duration": 5,
    "start_time": "2022-06-27T21:45:43.075Z"
   },
   {
    "duration": 5,
    "start_time": "2022-06-27T21:45:43.081Z"
   },
   {
    "duration": 4,
    "start_time": "2022-06-27T21:45:43.088Z"
   },
   {
    "duration": 3,
    "start_time": "2022-06-27T22:21:21.280Z"
   },
   {
    "duration": 257,
    "start_time": "2022-06-27T22:21:21.647Z"
   },
   {
    "duration": 12,
    "start_time": "2022-06-27T22:21:22.266Z"
   },
   {
    "duration": 9,
    "start_time": "2022-06-27T22:21:22.457Z"
   },
   {
    "duration": 10,
    "start_time": "2022-06-27T22:21:24.660Z"
   },
   {
    "duration": 10,
    "start_time": "2022-06-27T22:21:24.871Z"
   },
   {
    "duration": 27,
    "start_time": "2022-06-27T22:21:25.933Z"
   },
   {
    "duration": 30,
    "start_time": "2022-06-27T22:21:26.555Z"
   },
   {
    "duration": 22,
    "start_time": "2022-06-27T22:21:26.952Z"
   },
   {
    "duration": 25,
    "start_time": "2022-06-27T22:21:27.177Z"
   },
   {
    "duration": 52,
    "start_time": "2022-06-27T22:21:28.304Z"
   },
   {
    "duration": 487,
    "start_time": "2022-06-27T22:21:29.435Z"
   },
   {
    "duration": 15,
    "start_time": "2022-06-27T22:21:29.926Z"
   },
   {
    "duration": 8,
    "start_time": "2022-06-27T22:21:30.131Z"
   },
   {
    "duration": 28,
    "start_time": "2022-06-27T22:21:31.204Z"
   },
   {
    "duration": 267,
    "start_time": "2022-06-27T22:21:32.009Z"
   },
   {
    "duration": 19,
    "start_time": "2022-06-27T22:21:32.684Z"
   },
   {
    "duration": 9,
    "start_time": "2022-06-27T22:21:32.925Z"
   },
   {
    "duration": 43,
    "start_time": "2022-06-27T22:21:35.589Z"
   },
   {
    "duration": 371,
    "start_time": "2022-06-27T22:21:36.687Z"
   },
   {
    "duration": 16,
    "start_time": "2022-06-27T22:21:44.239Z"
   },
   {
    "duration": 33,
    "start_time": "2022-06-27T22:21:46.974Z"
   },
   {
    "duration": 35,
    "start_time": "2022-06-27T22:22:22.336Z"
   },
   {
    "duration": 39,
    "start_time": "2022-06-27T22:22:32.417Z"
   },
   {
    "duration": 39,
    "start_time": "2022-06-27T22:23:21.075Z"
   },
   {
    "duration": 36,
    "start_time": "2022-06-27T22:23:29.699Z"
   },
   {
    "duration": 37,
    "start_time": "2022-06-27T22:25:06.259Z"
   },
   {
    "duration": 98,
    "start_time": "2022-06-27T22:26:03.892Z"
   },
   {
    "duration": 11,
    "start_time": "2022-06-27T22:26:16.825Z"
   },
   {
    "duration": 23,
    "start_time": "2022-06-27T22:26:31.200Z"
   },
   {
    "duration": 35,
    "start_time": "2022-06-27T22:27:35.543Z"
   },
   {
    "duration": 32,
    "start_time": "2022-06-27T22:28:29.515Z"
   },
   {
    "duration": 30,
    "start_time": "2022-06-27T22:28:42.145Z"
   },
   {
    "duration": 31,
    "start_time": "2022-06-27T22:29:09.484Z"
   },
   {
    "duration": 1150,
    "start_time": "2022-06-27T22:30:14.418Z"
   },
   {
    "duration": 270,
    "start_time": "2022-06-27T22:30:15.569Z"
   },
   {
    "duration": 12,
    "start_time": "2022-06-27T22:30:15.840Z"
   },
   {
    "duration": 15,
    "start_time": "2022-06-27T22:30:15.854Z"
   },
   {
    "duration": 11,
    "start_time": "2022-06-27T22:30:17.745Z"
   },
   {
    "duration": 11,
    "start_time": "2022-06-27T22:30:17.937Z"
   },
   {
    "duration": 27,
    "start_time": "2022-06-27T22:30:19.030Z"
   },
   {
    "duration": 29,
    "start_time": "2022-06-27T22:30:19.675Z"
   },
   {
    "duration": 21,
    "start_time": "2022-06-27T22:30:20.099Z"
   },
   {
    "duration": 25,
    "start_time": "2022-06-27T22:30:20.308Z"
   },
   {
    "duration": 56,
    "start_time": "2022-06-27T22:30:21.343Z"
   },
   {
    "duration": 501,
    "start_time": "2022-06-27T22:30:21.946Z"
   },
   {
    "duration": 14,
    "start_time": "2022-06-27T22:30:22.449Z"
   },
   {
    "duration": 8,
    "start_time": "2022-06-27T22:30:22.607Z"
   },
   {
    "duration": 28,
    "start_time": "2022-06-27T22:30:24.080Z"
   },
   {
    "duration": 277,
    "start_time": "2022-06-27T22:30:24.965Z"
   },
   {
    "duration": 19,
    "start_time": "2022-06-27T22:30:25.769Z"
   },
   {
    "duration": 10,
    "start_time": "2022-06-27T22:30:26.040Z"
   },
   {
    "duration": 46,
    "start_time": "2022-06-27T22:30:27.379Z"
   },
   {
    "duration": 379,
    "start_time": "2022-06-27T22:30:28.216Z"
   },
   {
    "duration": 16,
    "start_time": "2022-06-27T22:30:29.394Z"
   },
   {
    "duration": 40,
    "start_time": "2022-06-27T22:30:30.300Z"
   },
   {
    "duration": 41,
    "start_time": "2022-06-27T22:30:30.602Z"
   },
   {
    "duration": 92,
    "start_time": "2022-06-27T22:31:10.693Z"
   },
   {
    "duration": 111,
    "start_time": "2022-06-27T22:31:33.242Z"
   },
   {
    "duration": 81,
    "start_time": "2022-06-27T22:31:41.919Z"
   },
   {
    "duration": 31,
    "start_time": "2022-06-27T22:32:06.641Z"
   },
   {
    "duration": 56,
    "start_time": "2022-06-27T22:32:29.604Z"
   },
   {
    "duration": 87,
    "start_time": "2022-06-27T22:32:37.999Z"
   },
   {
    "duration": 30,
    "start_time": "2022-06-27T22:32:49.933Z"
   },
   {
    "duration": 8,
    "start_time": "2022-06-27T22:38:47.657Z"
   },
   {
    "duration": 25,
    "start_time": "2022-06-27T22:38:56.493Z"
   },
   {
    "duration": 30,
    "start_time": "2022-06-27T22:38:57.552Z"
   },
   {
    "duration": 13,
    "start_time": "2022-06-27T22:39:00.417Z"
   },
   {
    "duration": 18,
    "start_time": "2022-06-27T22:39:09.128Z"
   },
   {
    "duration": 21,
    "start_time": "2022-06-27T22:39:25.144Z"
   },
   {
    "duration": 33,
    "start_time": "2022-06-27T22:40:41.358Z"
   },
   {
    "duration": 23,
    "start_time": "2022-06-27T22:41:36.347Z"
   },
   {
    "duration": 13,
    "start_time": "2022-06-27T22:42:29.698Z"
   },
   {
    "duration": 21,
    "start_time": "2022-06-27T22:46:03.850Z"
   },
   {
    "duration": 23,
    "start_time": "2022-06-27T22:46:26.886Z"
   },
   {
    "duration": 35,
    "start_time": "2022-06-27T22:47:37.142Z"
   },
   {
    "duration": 3,
    "start_time": "2022-06-27T22:56:17.597Z"
   },
   {
    "duration": 10,
    "start_time": "2022-06-27T23:27:32.939Z"
   },
   {
    "duration": 12,
    "start_time": "2022-06-27T23:29:11.935Z"
   },
   {
    "duration": 35,
    "start_time": "2022-06-27T23:29:56.232Z"
   },
   {
    "duration": 32,
    "start_time": "2022-06-27T23:30:09.333Z"
   },
   {
    "duration": 31,
    "start_time": "2022-06-27T23:32:09.343Z"
   },
   {
    "duration": 29,
    "start_time": "2022-06-27T23:32:23.442Z"
   },
   {
    "duration": 32,
    "start_time": "2022-06-27T23:33:00.560Z"
   },
   {
    "duration": 12,
    "start_time": "2022-06-28T01:35:13.210Z"
   },
   {
    "duration": 13,
    "start_time": "2022-06-28T01:37:06.152Z"
   },
   {
    "duration": 14,
    "start_time": "2022-06-28T01:37:19.186Z"
   },
   {
    "duration": 5,
    "start_time": "2022-06-28T01:38:16.026Z"
   },
   {
    "duration": 5,
    "start_time": "2022-06-28T01:39:39.990Z"
   },
   {
    "duration": 18,
    "start_time": "2022-06-28T01:40:09.789Z"
   },
   {
    "duration": 17,
    "start_time": "2022-06-28T01:40:22.101Z"
   },
   {
    "duration": 9,
    "start_time": "2022-06-28T01:42:39.411Z"
   },
   {
    "duration": 1393,
    "start_time": "2022-06-28T20:31:22.168Z"
   },
   {
    "duration": 988,
    "start_time": "2022-06-28T20:31:23.563Z"
   },
   {
    "duration": 14,
    "start_time": "2022-06-28T20:31:24.552Z"
   },
   {
    "duration": 19,
    "start_time": "2022-06-28T20:31:24.568Z"
   },
   {
    "duration": 11,
    "start_time": "2022-06-28T20:31:24.588Z"
   },
   {
    "duration": 11,
    "start_time": "2022-06-28T20:31:24.601Z"
   },
   {
    "duration": 52,
    "start_time": "2022-06-28T20:31:24.614Z"
   },
   {
    "duration": 31,
    "start_time": "2022-06-28T20:31:24.668Z"
   },
   {
    "duration": 47,
    "start_time": "2022-06-28T20:31:24.701Z"
   },
   {
    "duration": 23,
    "start_time": "2022-06-28T20:31:24.751Z"
   },
   {
    "duration": 80,
    "start_time": "2022-06-28T20:31:24.776Z"
   },
   {
    "duration": 524,
    "start_time": "2022-06-28T20:31:24.858Z"
   },
   {
    "duration": 14,
    "start_time": "2022-06-28T20:31:25.384Z"
   },
   {
    "duration": 9,
    "start_time": "2022-06-28T20:31:25.400Z"
   },
   {
    "duration": 59,
    "start_time": "2022-06-28T20:31:25.411Z"
   },
   {
    "duration": 298,
    "start_time": "2022-06-28T20:31:25.472Z"
   },
   {
    "duration": 15,
    "start_time": "2022-06-28T20:31:25.772Z"
   },
   {
    "duration": 8,
    "start_time": "2022-06-28T20:31:25.789Z"
   },
   {
    "duration": 69,
    "start_time": "2022-06-28T20:31:25.798Z"
   },
   {
    "duration": 402,
    "start_time": "2022-06-28T20:31:25.869Z"
   },
   {
    "duration": 16,
    "start_time": "2022-06-28T20:31:26.272Z"
   },
   {
    "duration": 37,
    "start_time": "2022-06-28T20:31:26.289Z"
   },
   {
    "duration": 54,
    "start_time": "2022-06-28T20:31:26.328Z"
   },
   {
    "duration": 20,
    "start_time": "2022-06-28T20:31:26.384Z"
   },
   {
    "duration": 53,
    "start_time": "2022-06-28T20:31:26.405Z"
   },
   {
    "duration": 34,
    "start_time": "2022-06-28T20:31:26.460Z"
   },
   {
    "duration": 104,
    "start_time": "2022-06-28T20:31:26.495Z"
   },
   {
    "duration": 0,
    "start_time": "2022-06-28T20:31:26.601Z"
   },
   {
    "duration": 0,
    "start_time": "2022-06-28T20:31:26.602Z"
   },
   {
    "duration": 0,
    "start_time": "2022-06-28T20:31:26.603Z"
   },
   {
    "duration": 0,
    "start_time": "2022-06-28T20:31:26.605Z"
   },
   {
    "duration": 0,
    "start_time": "2022-06-28T20:31:26.606Z"
   },
   {
    "duration": 0,
    "start_time": "2022-06-28T20:31:26.607Z"
   },
   {
    "duration": 0,
    "start_time": "2022-06-28T20:31:26.608Z"
   },
   {
    "duration": 0,
    "start_time": "2022-06-28T20:31:26.609Z"
   },
   {
    "duration": 0,
    "start_time": "2022-06-28T20:31:26.610Z"
   },
   {
    "duration": 44,
    "start_time": "2022-06-28T20:57:01.735Z"
   },
   {
    "duration": 33,
    "start_time": "2022-06-28T20:57:15.269Z"
   },
   {
    "duration": 18,
    "start_time": "2022-06-28T21:02:16.800Z"
   },
   {
    "duration": 12,
    "start_time": "2022-06-28T21:04:25.087Z"
   },
   {
    "duration": 3,
    "start_time": "2022-06-28T21:04:33.200Z"
   },
   {
    "duration": 318,
    "start_time": "2022-06-28T21:04:33.581Z"
   },
   {
    "duration": 13,
    "start_time": "2022-06-28T21:04:34.141Z"
   },
   {
    "duration": 10,
    "start_time": "2022-06-28T21:04:34.313Z"
   },
   {
    "duration": 11,
    "start_time": "2022-06-28T21:04:36.285Z"
   },
   {
    "duration": 11,
    "start_time": "2022-06-28T21:04:36.486Z"
   },
   {
    "duration": 30,
    "start_time": "2022-06-28T21:04:37.499Z"
   },
   {
    "duration": 32,
    "start_time": "2022-06-28T21:04:38.126Z"
   },
   {
    "duration": 20,
    "start_time": "2022-06-28T21:04:38.551Z"
   },
   {
    "duration": 24,
    "start_time": "2022-06-28T21:04:38.767Z"
   },
   {
    "duration": 50,
    "start_time": "2022-06-28T21:04:39.769Z"
   },
   {
    "duration": 542,
    "start_time": "2022-06-28T21:04:40.394Z"
   },
   {
    "duration": 22,
    "start_time": "2022-06-28T21:04:40.937Z"
   },
   {
    "duration": 7,
    "start_time": "2022-06-28T21:04:40.996Z"
   },
   {
    "duration": 39,
    "start_time": "2022-06-28T21:04:42.037Z"
   },
   {
    "duration": 349,
    "start_time": "2022-06-28T21:04:42.672Z"
   },
   {
    "duration": 16,
    "start_time": "2022-06-28T21:04:43.111Z"
   },
   {
    "duration": 9,
    "start_time": "2022-06-28T21:04:43.331Z"
   },
   {
    "duration": 41,
    "start_time": "2022-06-28T21:04:44.886Z"
   },
   {
    "duration": 445,
    "start_time": "2022-06-28T21:04:45.074Z"
   },
   {
    "duration": 17,
    "start_time": "2022-06-28T21:04:45.723Z"
   },
   {
    "duration": 40,
    "start_time": "2022-06-28T21:04:46.172Z"
   },
   {
    "duration": 36,
    "start_time": "2022-06-28T21:04:46.379Z"
   },
   {
    "duration": 21,
    "start_time": "2022-06-28T21:04:46.588Z"
   },
   {
    "duration": 33,
    "start_time": "2022-06-28T21:04:46.787Z"
   },
   {
    "duration": 45,
    "start_time": "2022-06-28T21:04:47.230Z"
   },
   {
    "duration": 13,
    "start_time": "2022-06-28T21:04:47.472Z"
   },
   {
    "duration": 2,
    "start_time": "2022-06-28T21:04:47.880Z"
   },
   {
    "duration": 85,
    "start_time": "2022-06-28T21:05:10.980Z"
   },
   {
    "duration": 79,
    "start_time": "2022-06-28T21:05:18.142Z"
   },
   {
    "duration": 75,
    "start_time": "2022-06-28T21:05:24.654Z"
   },
   {
    "duration": 14,
    "start_time": "2022-06-28T21:11:06.574Z"
   },
   {
    "duration": 20,
    "start_time": "2022-06-28T21:12:06.427Z"
   },
   {
    "duration": 19,
    "start_time": "2022-06-28T21:12:13.249Z"
   },
   {
    "duration": 41,
    "start_time": "2022-06-28T21:12:21.419Z"
   },
   {
    "duration": 12,
    "start_time": "2022-06-28T21:14:25.178Z"
   },
   {
    "duration": 15,
    "start_time": "2022-06-28T21:14:38.079Z"
   },
   {
    "duration": 16,
    "start_time": "2022-06-28T21:15:41.868Z"
   },
   {
    "duration": 16,
    "start_time": "2022-06-28T21:15:52.780Z"
   },
   {
    "duration": 40,
    "start_time": "2022-06-28T21:16:10.140Z"
   },
   {
    "duration": 2,
    "start_time": "2022-06-28T22:08:56.921Z"
   },
   {
    "duration": 4,
    "start_time": "2022-06-28T22:10:38.777Z"
   },
   {
    "duration": 4,
    "start_time": "2022-06-28T22:10:57.955Z"
   },
   {
    "duration": 38447,
    "start_time": "2022-06-28T22:11:02.334Z"
   },
   {
    "duration": 9,
    "start_time": "2022-06-28T22:11:43.798Z"
   },
   {
    "duration": 1484,
    "start_time": "2022-06-28T22:12:11.417Z"
   },
   {
    "duration": 1317,
    "start_time": "2022-06-28T22:12:41.071Z"
   },
   {
    "duration": 1266,
    "start_time": "2022-06-28T22:12:54.671Z"
   },
   {
    "duration": 45,
    "start_time": "2022-06-28T22:15:35.885Z"
   },
   {
    "duration": 6,
    "start_time": "2022-06-28T22:15:46.282Z"
   },
   {
    "duration": 90,
    "start_time": "2022-06-28T22:15:52.527Z"
   },
   {
    "duration": 6,
    "start_time": "2022-06-28T22:15:57.895Z"
   },
   {
    "duration": 6,
    "start_time": "2022-06-28T22:16:16.269Z"
   },
   {
    "duration": 1106,
    "start_time": "2022-06-28T22:16:24.443Z"
   },
   {
    "duration": 284,
    "start_time": "2022-06-28T22:16:25.551Z"
   },
   {
    "duration": 11,
    "start_time": "2022-06-28T22:16:25.837Z"
   },
   {
    "duration": 21,
    "start_time": "2022-06-28T22:16:25.850Z"
   },
   {
    "duration": 11,
    "start_time": "2022-06-28T22:16:27.554Z"
   },
   {
    "duration": 10,
    "start_time": "2022-06-28T22:16:27.750Z"
   },
   {
    "duration": 26,
    "start_time": "2022-06-28T22:16:28.813Z"
   },
   {
    "duration": 32,
    "start_time": "2022-06-28T22:16:29.339Z"
   },
   {
    "duration": 20,
    "start_time": "2022-06-28T22:16:29.673Z"
   },
   {
    "duration": 23,
    "start_time": "2022-06-28T22:16:29.923Z"
   },
   {
    "duration": 53,
    "start_time": "2022-06-28T22:16:30.819Z"
   },
   {
    "duration": 488,
    "start_time": "2022-06-28T22:16:31.595Z"
   },
   {
    "duration": 13,
    "start_time": "2022-06-28T22:16:32.085Z"
   },
   {
    "duration": 8,
    "start_time": "2022-06-28T22:16:32.198Z"
   },
   {
    "duration": 31,
    "start_time": "2022-06-28T22:16:33.191Z"
   },
   {
    "duration": 292,
    "start_time": "2022-06-28T22:16:33.938Z"
   },
   {
    "duration": 17,
    "start_time": "2022-06-28T22:16:34.330Z"
   },
   {
    "duration": 8,
    "start_time": "2022-06-28T22:16:34.527Z"
   },
   {
    "duration": 49,
    "start_time": "2022-06-28T22:16:36.008Z"
   },
   {
    "duration": 395,
    "start_time": "2022-06-28T22:16:37.839Z"
   },
   {
    "duration": 17,
    "start_time": "2022-06-28T22:16:39.846Z"
   },
   {
    "duration": 39,
    "start_time": "2022-06-28T22:16:41.511Z"
   },
   {
    "duration": 45,
    "start_time": "2022-06-28T22:16:42.455Z"
   },
   {
    "duration": 24,
    "start_time": "2022-06-28T22:16:43.373Z"
   },
   {
    "duration": 29,
    "start_time": "2022-06-28T22:16:44.116Z"
   },
   {
    "duration": 15,
    "start_time": "2022-06-28T22:16:44.285Z"
   },
   {
    "duration": 39,
    "start_time": "2022-06-28T22:16:45.022Z"
   },
   {
    "duration": 2,
    "start_time": "2022-06-28T22:16:45.063Z"
   },
   {
    "duration": 2,
    "start_time": "2022-06-28T22:16:46.454Z"
   },
   {
    "duration": 46,
    "start_time": "2022-06-28T22:25:59.477Z"
   },
   {
    "duration": 1058,
    "start_time": "2022-06-28T22:26:06.395Z"
   },
   {
    "duration": 967,
    "start_time": "2022-06-28T22:26:07.455Z"
   },
   {
    "duration": 12,
    "start_time": "2022-06-28T22:26:08.424Z"
   },
   {
    "duration": 16,
    "start_time": "2022-06-28T22:26:08.437Z"
   },
   {
    "duration": 10,
    "start_time": "2022-06-28T22:26:08.456Z"
   },
   {
    "duration": 15,
    "start_time": "2022-06-28T22:26:08.467Z"
   },
   {
    "duration": 27,
    "start_time": "2022-06-28T22:26:08.484Z"
   },
   {
    "duration": 47,
    "start_time": "2022-06-28T22:26:08.513Z"
   },
   {
    "duration": 17,
    "start_time": "2022-06-28T22:26:08.561Z"
   },
   {
    "duration": 22,
    "start_time": "2022-06-28T22:26:08.580Z"
   },
   {
    "duration": 76,
    "start_time": "2022-06-28T22:26:08.603Z"
   },
   {
    "duration": 499,
    "start_time": "2022-06-28T22:26:08.680Z"
   },
   {
    "duration": 13,
    "start_time": "2022-06-28T22:26:09.181Z"
   },
   {
    "duration": 7,
    "start_time": "2022-06-28T22:26:09.197Z"
   },
   {
    "duration": 43,
    "start_time": "2022-06-28T22:26:09.205Z"
   },
   {
    "duration": 286,
    "start_time": "2022-06-28T22:26:09.250Z"
   },
   {
    "duration": 18,
    "start_time": "2022-06-28T22:26:09.538Z"
   },
   {
    "duration": 8,
    "start_time": "2022-06-28T22:26:09.558Z"
   },
   {
    "duration": 47,
    "start_time": "2022-06-28T22:26:09.568Z"
   },
   {
    "duration": 392,
    "start_time": "2022-06-28T22:26:09.617Z"
   },
   {
    "duration": 15,
    "start_time": "2022-06-28T22:26:10.010Z"
   },
   {
    "duration": 48,
    "start_time": "2022-06-28T22:26:10.027Z"
   },
   {
    "duration": 37,
    "start_time": "2022-06-28T22:26:10.077Z"
   },
   {
    "duration": 38,
    "start_time": "2022-06-28T22:26:10.116Z"
   },
   {
    "duration": 28,
    "start_time": "2022-06-28T22:26:10.156Z"
   },
   {
    "duration": 12,
    "start_time": "2022-06-28T22:26:10.185Z"
   },
   {
    "duration": 59,
    "start_time": "2022-06-28T22:26:10.199Z"
   },
   {
    "duration": 2,
    "start_time": "2022-06-28T22:26:10.260Z"
   },
   {
    "duration": 8,
    "start_time": "2022-06-28T22:26:10.264Z"
   },
   {
    "duration": 93,
    "start_time": "2022-06-28T22:26:10.273Z"
   },
   {
    "duration": 0,
    "start_time": "2022-06-28T22:26:10.368Z"
   },
   {
    "duration": 0,
    "start_time": "2022-06-28T22:26:10.369Z"
   },
   {
    "duration": 0,
    "start_time": "2022-06-28T22:26:10.370Z"
   },
   {
    "duration": 0,
    "start_time": "2022-06-28T22:26:10.371Z"
   },
   {
    "duration": 0,
    "start_time": "2022-06-28T22:26:10.372Z"
   },
   {
    "duration": 0,
    "start_time": "2022-06-28T22:26:10.373Z"
   },
   {
    "duration": 0,
    "start_time": "2022-06-28T22:26:10.374Z"
   },
   {
    "duration": 0,
    "start_time": "2022-06-28T22:27:36.070Z"
   },
   {
    "duration": 9,
    "start_time": "2022-06-28T23:12:20.145Z"
   },
   {
    "duration": 1342,
    "start_time": "2022-06-29T21:20:59.785Z"
   },
   {
    "duration": 548,
    "start_time": "2022-06-29T21:21:01.129Z"
   },
   {
    "duration": 12,
    "start_time": "2022-06-29T21:21:01.679Z"
   },
   {
    "duration": 59,
    "start_time": "2022-06-29T21:21:01.693Z"
   },
   {
    "duration": 13,
    "start_time": "2022-06-29T21:21:03.276Z"
   },
   {
    "duration": 11,
    "start_time": "2022-06-29T21:21:03.498Z"
   },
   {
    "duration": 27,
    "start_time": "2022-06-29T21:21:04.665Z"
   },
   {
    "duration": 28,
    "start_time": "2022-06-29T21:21:05.341Z"
   },
   {
    "duration": 20,
    "start_time": "2022-06-29T21:21:05.777Z"
   },
   {
    "duration": 33,
    "start_time": "2022-06-29T21:21:05.979Z"
   },
   {
    "duration": 57,
    "start_time": "2022-06-29T21:21:07.056Z"
   },
   {
    "duration": 517,
    "start_time": "2022-06-29T21:21:07.732Z"
   },
   {
    "duration": 16,
    "start_time": "2022-06-29T21:21:08.251Z"
   },
   {
    "duration": 8,
    "start_time": "2022-06-29T21:21:08.395Z"
   },
   {
    "duration": 29,
    "start_time": "2022-06-29T21:21:09.556Z"
   },
   {
    "duration": 277,
    "start_time": "2022-06-29T21:21:10.244Z"
   },
   {
    "duration": 17,
    "start_time": "2022-06-29T21:21:10.686Z"
   },
   {
    "duration": 9,
    "start_time": "2022-06-29T21:21:10.914Z"
   },
   {
    "duration": 46,
    "start_time": "2022-06-29T21:21:12.105Z"
   },
   {
    "duration": 381,
    "start_time": "2022-06-29T21:21:12.786Z"
   },
   {
    "duration": 18,
    "start_time": "2022-06-29T21:21:13.483Z"
   },
   {
    "duration": 42,
    "start_time": "2022-06-29T21:21:13.953Z"
   },
   {
    "duration": 44,
    "start_time": "2022-06-29T21:21:14.200Z"
   },
   {
    "duration": 28,
    "start_time": "2022-06-29T21:21:14.443Z"
   },
   {
    "duration": 29,
    "start_time": "2022-06-29T21:21:14.689Z"
   },
   {
    "duration": 14,
    "start_time": "2022-06-29T21:21:15.181Z"
   },
   {
    "duration": 39,
    "start_time": "2022-06-29T21:21:15.410Z"
   },
   {
    "duration": 8,
    "start_time": "2022-06-29T21:21:15.649Z"
   },
   {
    "duration": 2,
    "start_time": "2022-06-29T21:21:16.160Z"
   },
   {
    "duration": 1238,
    "start_time": "2022-06-29T21:27:27.131Z"
   },
   {
    "duration": 509,
    "start_time": "2022-06-29T21:27:28.371Z"
   },
   {
    "duration": 11,
    "start_time": "2022-06-29T21:27:28.882Z"
   },
   {
    "duration": 20,
    "start_time": "2022-06-29T21:27:28.895Z"
   },
   {
    "duration": 11,
    "start_time": "2022-06-29T21:27:28.917Z"
   },
   {
    "duration": 14,
    "start_time": "2022-06-29T21:27:28.929Z"
   },
   {
    "duration": 40,
    "start_time": "2022-06-29T21:27:28.945Z"
   },
   {
    "duration": 27,
    "start_time": "2022-06-29T21:27:28.987Z"
   },
   {
    "duration": 19,
    "start_time": "2022-06-29T21:27:29.026Z"
   },
   {
    "duration": 24,
    "start_time": "2022-06-29T21:27:29.048Z"
   },
   {
    "duration": 74,
    "start_time": "2022-06-29T21:27:29.074Z"
   },
   {
    "duration": 503,
    "start_time": "2022-06-29T21:27:29.149Z"
   },
   {
    "duration": 15,
    "start_time": "2022-06-29T21:27:29.653Z"
   },
   {
    "duration": 6,
    "start_time": "2022-06-29T21:27:29.670Z"
   },
   {
    "duration": 49,
    "start_time": "2022-06-29T21:27:29.677Z"
   },
   {
    "duration": 263,
    "start_time": "2022-06-29T21:27:29.728Z"
   },
   {
    "duration": 34,
    "start_time": "2022-06-29T21:27:29.993Z"
   },
   {
    "duration": 9,
    "start_time": "2022-06-29T21:27:30.029Z"
   },
   {
    "duration": 70,
    "start_time": "2022-06-29T21:27:30.039Z"
   },
   {
    "duration": 399,
    "start_time": "2022-06-29T21:27:30.110Z"
   },
   {
    "duration": 22,
    "start_time": "2022-06-29T21:27:30.510Z"
   },
   {
    "duration": 66,
    "start_time": "2022-06-29T21:27:30.533Z"
   },
   {
    "duration": 46,
    "start_time": "2022-06-29T21:27:30.601Z"
   },
   {
    "duration": 22,
    "start_time": "2022-06-29T21:27:30.648Z"
   },
   {
    "duration": 29,
    "start_time": "2022-06-29T21:27:30.672Z"
   },
   {
    "duration": 32,
    "start_time": "2022-06-29T21:27:30.703Z"
   },
   {
    "duration": 33,
    "start_time": "2022-06-29T21:27:30.736Z"
   },
   {
    "duration": 8,
    "start_time": "2022-06-29T21:27:30.771Z"
   },
   {
    "duration": 12,
    "start_time": "2022-06-29T21:27:30.781Z"
   },
   {
    "duration": 1125,
    "start_time": "2022-06-29T21:34:13.037Z"
   },
   {
    "duration": 576,
    "start_time": "2022-06-29T21:34:14.164Z"
   },
   {
    "duration": 11,
    "start_time": "2022-06-29T21:34:14.742Z"
   },
   {
    "duration": 22,
    "start_time": "2022-06-29T21:34:14.755Z"
   },
   {
    "duration": 11,
    "start_time": "2022-06-29T21:34:23.410Z"
   },
   {
    "duration": 10,
    "start_time": "2022-06-29T21:34:23.603Z"
   },
   {
    "duration": 28,
    "start_time": "2022-06-29T21:34:24.724Z"
   },
   {
    "duration": 29,
    "start_time": "2022-06-29T21:34:25.266Z"
   },
   {
    "duration": 21,
    "start_time": "2022-06-29T21:34:25.655Z"
   },
   {
    "duration": 25,
    "start_time": "2022-06-29T21:34:25.955Z"
   },
   {
    "duration": 56,
    "start_time": "2022-06-29T21:34:26.965Z"
   },
   {
    "duration": 488,
    "start_time": "2022-06-29T21:34:27.592Z"
   },
   {
    "duration": 15,
    "start_time": "2022-06-29T21:34:28.081Z"
   },
   {
    "duration": 8,
    "start_time": "2022-06-29T21:34:28.207Z"
   },
   {
    "duration": 32,
    "start_time": "2022-06-29T21:34:29.201Z"
   },
   {
    "duration": 287,
    "start_time": "2022-06-29T21:34:29.824Z"
   },
   {
    "duration": 23,
    "start_time": "2022-06-29T21:34:30.444Z"
   },
   {
    "duration": 10,
    "start_time": "2022-06-29T21:34:30.675Z"
   },
   {
    "duration": 45,
    "start_time": "2022-06-29T21:34:31.799Z"
   },
   {
    "duration": 376,
    "start_time": "2022-06-29T21:34:32.482Z"
   },
   {
    "duration": 18,
    "start_time": "2022-06-29T21:34:33.230Z"
   },
   {
    "duration": 39,
    "start_time": "2022-06-29T21:34:33.683Z"
   },
   {
    "duration": 42,
    "start_time": "2022-06-29T21:34:33.890Z"
   },
   {
    "duration": 24,
    "start_time": "2022-06-29T21:34:34.099Z"
   },
   {
    "duration": 31,
    "start_time": "2022-06-29T21:34:34.333Z"
   },
   {
    "duration": 13,
    "start_time": "2022-06-29T21:34:36.062Z"
   },
   {
    "duration": 32,
    "start_time": "2022-06-29T21:34:36.447Z"
   },
   {
    "duration": 37,
    "start_time": "2022-06-29T21:43:00.952Z"
   },
   {
    "duration": 89,
    "start_time": "2022-06-29T22:32:43.338Z"
   },
   {
    "duration": 8,
    "start_time": "2022-06-29T22:32:56.763Z"
   },
   {
    "duration": 9,
    "start_time": "2022-06-29T22:37:14.000Z"
   },
   {
    "duration": 9,
    "start_time": "2022-06-29T22:39:27.058Z"
   },
   {
    "duration": 3,
    "start_time": "2022-06-29T22:51:33.953Z"
   },
   {
    "duration": 309,
    "start_time": "2022-06-29T22:51:34.323Z"
   },
   {
    "duration": 11,
    "start_time": "2022-06-29T22:51:34.894Z"
   },
   {
    "duration": 10,
    "start_time": "2022-06-29T22:51:35.087Z"
   },
   {
    "duration": 11,
    "start_time": "2022-06-29T22:51:36.965Z"
   },
   {
    "duration": 11,
    "start_time": "2022-06-29T22:51:37.180Z"
   },
   {
    "duration": 28,
    "start_time": "2022-06-29T22:51:38.243Z"
   },
   {
    "duration": 31,
    "start_time": "2022-06-29T22:51:38.902Z"
   },
   {
    "duration": 22,
    "start_time": "2022-06-29T22:51:39.345Z"
   },
   {
    "duration": 27,
    "start_time": "2022-06-29T22:51:39.592Z"
   },
   {
    "duration": 58,
    "start_time": "2022-06-29T22:51:40.682Z"
   },
   {
    "duration": 519,
    "start_time": "2022-06-29T22:51:41.338Z"
   },
   {
    "duration": 16,
    "start_time": "2022-06-29T22:51:41.859Z"
   },
   {
    "duration": 7,
    "start_time": "2022-06-29T22:51:41.963Z"
   },
   {
    "duration": 30,
    "start_time": "2022-06-29T22:51:43.455Z"
   },
   {
    "duration": 308,
    "start_time": "2022-06-29T22:51:44.083Z"
   },
   {
    "duration": 23,
    "start_time": "2022-06-29T22:51:44.523Z"
   },
   {
    "duration": 10,
    "start_time": "2022-06-29T22:51:44.728Z"
   },
   {
    "duration": 41,
    "start_time": "2022-06-29T22:51:45.805Z"
   },
   {
    "duration": 379,
    "start_time": "2022-06-29T22:51:46.397Z"
   },
   {
    "duration": 16,
    "start_time": "2022-06-29T22:51:47.000Z"
   },
   {
    "duration": 36,
    "start_time": "2022-06-29T22:51:47.404Z"
   },
   {
    "duration": 40,
    "start_time": "2022-06-29T22:51:47.622Z"
   },
   {
    "duration": 22,
    "start_time": "2022-06-29T22:51:47.829Z"
   },
   {
    "duration": 30,
    "start_time": "2022-06-29T22:51:48.017Z"
   },
   {
    "duration": 14,
    "start_time": "2022-06-29T22:51:48.402Z"
   },
   {
    "duration": 8,
    "start_time": "2022-06-29T22:51:48.600Z"
   },
   {
    "duration": 16,
    "start_time": "2022-06-29T22:51:48.808Z"
   },
   {
    "duration": 2,
    "start_time": "2022-06-29T22:51:49.004Z"
   },
   {
    "duration": 2,
    "start_time": "2022-06-29T22:51:53.611Z"
   },
   {
    "duration": 43,
    "start_time": "2022-06-29T22:57:28.563Z"
   },
   {
    "duration": 59,
    "start_time": "2022-06-29T22:57:37.653Z"
   },
   {
    "duration": 46,
    "start_time": "2022-06-29T22:57:54.600Z"
   },
   {
    "duration": 48,
    "start_time": "2022-06-29T22:57:58.782Z"
   },
   {
    "duration": 9,
    "start_time": "2022-06-29T22:58:22.623Z"
   },
   {
    "duration": 9,
    "start_time": "2022-06-29T23:00:26.870Z"
   },
   {
    "duration": 3,
    "start_time": "2022-06-29T23:00:52.080Z"
   },
   {
    "duration": 265,
    "start_time": "2022-06-29T23:00:53.107Z"
   },
   {
    "duration": 12,
    "start_time": "2022-06-29T23:00:53.596Z"
   },
   {
    "duration": 10,
    "start_time": "2022-06-29T23:00:53.759Z"
   },
   {
    "duration": 11,
    "start_time": "2022-06-29T23:00:55.414Z"
   },
   {
    "duration": 10,
    "start_time": "2022-06-29T23:00:55.579Z"
   },
   {
    "duration": 27,
    "start_time": "2022-06-29T23:00:56.501Z"
   },
   {
    "duration": 34,
    "start_time": "2022-06-29T23:00:57.082Z"
   },
   {
    "duration": 22,
    "start_time": "2022-06-29T23:00:57.489Z"
   },
   {
    "duration": 27,
    "start_time": "2022-06-29T23:00:57.680Z"
   },
   {
    "duration": 58,
    "start_time": "2022-06-29T23:00:58.648Z"
   },
   {
    "duration": 538,
    "start_time": "2022-06-29T23:00:59.246Z"
   },
   {
    "duration": 15,
    "start_time": "2022-06-29T23:00:59.786Z"
   },
   {
    "duration": 9,
    "start_time": "2022-06-29T23:00:59.864Z"
   },
   {
    "duration": 32,
    "start_time": "2022-06-29T23:01:00.948Z"
   },
   {
    "duration": 287,
    "start_time": "2022-06-29T23:01:01.612Z"
   },
   {
    "duration": 18,
    "start_time": "2022-06-29T23:01:02.099Z"
   },
   {
    "duration": 9,
    "start_time": "2022-06-29T23:01:02.332Z"
   },
   {
    "duration": 47,
    "start_time": "2022-06-29T23:01:03.514Z"
   },
   {
    "duration": 437,
    "start_time": "2022-06-29T23:01:04.196Z"
   },
   {
    "duration": 16,
    "start_time": "2022-06-29T23:01:04.901Z"
   },
   {
    "duration": 40,
    "start_time": "2022-06-29T23:01:05.353Z"
   },
   {
    "duration": 43,
    "start_time": "2022-06-29T23:01:05.609Z"
   },
   {
    "duration": 22,
    "start_time": "2022-06-29T23:01:05.839Z"
   },
   {
    "duration": 37,
    "start_time": "2022-06-29T23:01:06.105Z"
   },
   {
    "duration": 15,
    "start_time": "2022-06-29T23:01:06.527Z"
   },
   {
    "duration": 165,
    "start_time": "2022-06-29T23:01:06.779Z"
   },
   {
    "duration": 14,
    "start_time": "2022-06-29T23:01:07.023Z"
   },
   {
    "duration": 121,
    "start_time": "2022-06-29T23:01:27.945Z"
   },
   {
    "duration": 122,
    "start_time": "2022-06-29T23:01:39.683Z"
   },
   {
    "duration": 33,
    "start_time": "2022-06-29T23:01:54.915Z"
   },
   {
    "duration": 118,
    "start_time": "2022-06-29T23:02:18.061Z"
   },
   {
    "duration": 32,
    "start_time": "2022-06-29T23:03:22.633Z"
   },
   {
    "duration": 2,
    "start_time": "2022-06-29T23:03:30.219Z"
   },
   {
    "duration": 9,
    "start_time": "2022-06-29T23:10:23.381Z"
   },
   {
    "duration": 3,
    "start_time": "2022-06-29T23:10:28.882Z"
   },
   {
    "duration": 12,
    "start_time": "2022-06-29T23:13:24.983Z"
   },
   {
    "duration": 8,
    "start_time": "2022-06-29T23:13:40.106Z"
   },
   {
    "duration": 10,
    "start_time": "2022-06-29T23:14:10.768Z"
   },
   {
    "duration": 9,
    "start_time": "2022-06-29T23:14:28.232Z"
   },
   {
    "duration": 9,
    "start_time": "2022-06-29T23:14:34.921Z"
   },
   {
    "duration": 10,
    "start_time": "2022-06-29T23:47:27.500Z"
   },
   {
    "duration": 16,
    "start_time": "2022-06-29T23:47:37.676Z"
   },
   {
    "duration": 26,
    "start_time": "2022-06-29T23:51:12.704Z"
   },
   {
    "duration": 30,
    "start_time": "2022-06-29T23:51:36.294Z"
   },
   {
    "duration": 30,
    "start_time": "2022-06-29T23:54:00.854Z"
   },
   {
    "duration": 34,
    "start_time": "2022-06-29T23:54:10.778Z"
   },
   {
    "duration": 36,
    "start_time": "2022-06-29T23:54:37.621Z"
   },
   {
    "duration": 32,
    "start_time": "2022-06-29T23:56:04.006Z"
   },
   {
    "duration": 34,
    "start_time": "2022-06-29T23:56:25.532Z"
   },
   {
    "duration": 38,
    "start_time": "2022-06-29T23:56:40.035Z"
   },
   {
    "duration": 15,
    "start_time": "2022-06-30T00:27:12.001Z"
   },
   {
    "duration": 28,
    "start_time": "2022-06-30T00:28:13.985Z"
   },
   {
    "duration": 17,
    "start_time": "2022-06-30T00:28:40.275Z"
   },
   {
    "duration": 40,
    "start_time": "2022-06-30T00:29:16.194Z"
   },
   {
    "duration": 30,
    "start_time": "2022-06-30T00:29:49.097Z"
   },
   {
    "duration": 41,
    "start_time": "2022-06-30T00:30:02.443Z"
   },
   {
    "duration": 57,
    "start_time": "2022-06-30T00:31:19.342Z"
   },
   {
    "duration": 788,
    "start_time": "2022-06-30T00:31:23.537Z"
   },
   {
    "duration": 41,
    "start_time": "2022-06-30T00:31:57.156Z"
   },
   {
    "duration": 61,
    "start_time": "2022-06-30T00:32:31.200Z"
   },
   {
    "duration": 45,
    "start_time": "2022-06-30T00:32:55.063Z"
   },
   {
    "duration": 66,
    "start_time": "2022-06-30T00:33:04.465Z"
   },
   {
    "duration": 45,
    "start_time": "2022-06-30T00:33:27.149Z"
   },
   {
    "duration": 39,
    "start_time": "2022-06-30T00:33:35.163Z"
   },
   {
    "duration": 13,
    "start_time": "2022-06-30T01:32:45.089Z"
   },
   {
    "duration": 23,
    "start_time": "2022-06-30T01:33:18.090Z"
   },
   {
    "duration": 41,
    "start_time": "2022-06-30T01:34:24.529Z"
   },
   {
    "duration": 4,
    "start_time": "2022-06-30T01:36:25.720Z"
   },
   {
    "duration": 237,
    "start_time": "2022-06-30T01:36:26.109Z"
   },
   {
    "duration": 11,
    "start_time": "2022-06-30T01:36:26.708Z"
   },
   {
    "duration": 10,
    "start_time": "2022-06-30T01:36:26.921Z"
   },
   {
    "duration": 11,
    "start_time": "2022-06-30T01:36:33.785Z"
   },
   {
    "duration": 11,
    "start_time": "2022-06-30T01:36:33.993Z"
   },
   {
    "duration": 28,
    "start_time": "2022-06-30T01:36:35.010Z"
   },
   {
    "duration": 29,
    "start_time": "2022-06-30T01:36:35.661Z"
   },
   {
    "duration": 21,
    "start_time": "2022-06-30T01:36:36.093Z"
   },
   {
    "duration": 26,
    "start_time": "2022-06-30T01:36:36.301Z"
   },
   {
    "duration": 63,
    "start_time": "2022-06-30T01:36:37.373Z"
   },
   {
    "duration": 532,
    "start_time": "2022-06-30T01:36:38.007Z"
   },
   {
    "duration": 15,
    "start_time": "2022-06-30T01:36:38.541Z"
   },
   {
    "duration": 9,
    "start_time": "2022-06-30T01:36:38.660Z"
   },
   {
    "duration": 28,
    "start_time": "2022-06-30T01:36:44.585Z"
   },
   {
    "duration": 284,
    "start_time": "2022-06-30T01:36:45.500Z"
   },
   {
    "duration": 18,
    "start_time": "2022-06-30T01:36:46.090Z"
   },
   {
    "duration": 10,
    "start_time": "2022-06-30T01:36:46.594Z"
   },
   {
    "duration": 44,
    "start_time": "2022-06-30T01:36:48.067Z"
   },
   {
    "duration": 382,
    "start_time": "2022-06-30T01:36:48.684Z"
   },
   {
    "duration": 16,
    "start_time": "2022-06-30T01:36:49.365Z"
   },
   {
    "duration": 33,
    "start_time": "2022-06-30T01:36:49.828Z"
   },
   {
    "duration": 32,
    "start_time": "2022-06-30T01:36:50.077Z"
   },
   {
    "duration": 23,
    "start_time": "2022-06-30T01:36:50.462Z"
   },
   {
    "duration": 27,
    "start_time": "2022-06-30T01:36:50.719Z"
   },
   {
    "duration": 24,
    "start_time": "2022-06-30T01:36:51.237Z"
   },
   {
    "duration": 40,
    "start_time": "2022-06-30T01:38:50.974Z"
   },
   {
    "duration": 34,
    "start_time": "2022-06-30T01:39:10.583Z"
   },
   {
    "duration": 807,
    "start_time": "2022-06-30T02:02:45.424Z"
   },
   {
    "duration": 1305,
    "start_time": "2022-06-30T23:58:36.054Z"
   },
   {
    "duration": 538,
    "start_time": "2022-06-30T23:58:37.361Z"
   },
   {
    "duration": 13,
    "start_time": "2022-06-30T23:58:37.901Z"
   },
   {
    "duration": 16,
    "start_time": "2022-06-30T23:58:37.916Z"
   },
   {
    "duration": 12,
    "start_time": "2022-06-30T23:58:39.670Z"
   },
   {
    "duration": 11,
    "start_time": "2022-06-30T23:58:39.912Z"
   },
   {
    "duration": 38,
    "start_time": "2022-06-30T23:58:41.081Z"
   },
   {
    "duration": 40,
    "start_time": "2022-06-30T23:58:41.772Z"
   },
   {
    "duration": 20,
    "start_time": "2022-06-30T23:58:42.254Z"
   },
   {
    "duration": 26,
    "start_time": "2022-06-30T23:58:42.490Z"
   },
   {
    "duration": 60,
    "start_time": "2022-06-30T23:58:43.642Z"
   },
   {
    "duration": 561,
    "start_time": "2022-06-30T23:58:44.316Z"
   },
   {
    "duration": 16,
    "start_time": "2022-06-30T23:58:44.879Z"
   },
   {
    "duration": 8,
    "start_time": "2022-06-30T23:58:44.999Z"
   },
   {
    "duration": 30,
    "start_time": "2022-06-30T23:58:46.371Z"
   },
   {
    "duration": 299,
    "start_time": "2022-06-30T23:58:47.081Z"
   },
   {
    "duration": 18,
    "start_time": "2022-06-30T23:58:47.526Z"
   },
   {
    "duration": 10,
    "start_time": "2022-06-30T23:58:47.777Z"
   },
   {
    "duration": 52,
    "start_time": "2022-06-30T23:58:48.943Z"
   },
   {
    "duration": 459,
    "start_time": "2022-06-30T23:58:49.719Z"
   },
   {
    "duration": 22,
    "start_time": "2022-06-30T23:58:50.511Z"
   },
   {
    "duration": 58,
    "start_time": "2022-06-30T23:58:50.931Z"
   },
   {
    "duration": 57,
    "start_time": "2022-06-30T23:58:51.177Z"
   },
   {
    "duration": 24,
    "start_time": "2022-06-30T23:58:51.540Z"
   },
   {
    "duration": 31,
    "start_time": "2022-06-30T23:58:51.744Z"
   },
   {
    "duration": 23,
    "start_time": "2022-06-30T23:58:52.120Z"
   },
   {
    "duration": 909,
    "start_time": "2022-06-30T23:58:52.342Z"
   },
   {
    "duration": 0,
    "start_time": "2022-06-30T23:58:53.253Z"
   },
   {
    "duration": 1,
    "start_time": "2022-06-30T23:58:53.254Z"
   },
   {
    "duration": 1177,
    "start_time": "2022-07-01T00:01:43.933Z"
   },
   {
    "duration": 280,
    "start_time": "2022-07-01T00:01:45.112Z"
   },
   {
    "duration": 14,
    "start_time": "2022-07-01T00:01:45.393Z"
   },
   {
    "duration": 15,
    "start_time": "2022-07-01T00:01:45.409Z"
   },
   {
    "duration": 11,
    "start_time": "2022-07-01T00:01:45.427Z"
   },
   {
    "duration": 20,
    "start_time": "2022-07-01T00:01:45.440Z"
   },
   {
    "duration": 31,
    "start_time": "2022-07-01T00:01:45.462Z"
   },
   {
    "duration": 58,
    "start_time": "2022-07-01T00:01:45.495Z"
   },
   {
    "duration": 23,
    "start_time": "2022-07-01T00:01:45.555Z"
   },
   {
    "duration": 27,
    "start_time": "2022-07-01T00:01:45.581Z"
   },
   {
    "duration": 85,
    "start_time": "2022-07-01T00:01:45.610Z"
   },
   {
    "duration": 545,
    "start_time": "2022-07-01T00:01:45.697Z"
   },
   {
    "duration": 19,
    "start_time": "2022-07-01T00:01:46.244Z"
   },
   {
    "duration": 15,
    "start_time": "2022-07-01T00:01:46.264Z"
   },
   {
    "duration": 36,
    "start_time": "2022-07-01T00:01:46.281Z"
   },
   {
    "duration": 303,
    "start_time": "2022-07-01T00:01:46.320Z"
   },
   {
    "duration": 27,
    "start_time": "2022-07-01T00:01:46.625Z"
   },
   {
    "duration": 12,
    "start_time": "2022-07-01T00:01:46.654Z"
   },
   {
    "duration": 52,
    "start_time": "2022-07-01T00:01:46.668Z"
   },
   {
    "duration": 430,
    "start_time": "2022-07-01T00:01:46.721Z"
   },
   {
    "duration": 17,
    "start_time": "2022-07-01T00:01:47.153Z"
   },
   {
    "duration": 40,
    "start_time": "2022-07-01T00:01:47.171Z"
   },
   {
    "duration": 47,
    "start_time": "2022-07-01T00:01:47.213Z"
   },
   {
    "duration": 22,
    "start_time": "2022-07-01T00:01:47.262Z"
   },
   {
    "duration": 29,
    "start_time": "2022-07-01T00:01:47.286Z"
   },
   {
    "duration": 45,
    "start_time": "2022-07-01T00:01:47.316Z"
   },
   {
    "duration": 39,
    "start_time": "2022-07-01T00:01:47.363Z"
   },
   {
    "duration": 171,
    "start_time": "2022-07-01T00:01:47.405Z"
   },
   {
    "duration": 0,
    "start_time": "2022-07-01T00:01:47.577Z"
   },
   {
    "duration": 0,
    "start_time": "2022-07-01T00:01:47.579Z"
   },
   {
    "duration": 0,
    "start_time": "2022-07-01T00:01:47.580Z"
   },
   {
    "duration": 0,
    "start_time": "2022-07-01T00:01:47.581Z"
   },
   {
    "duration": 0,
    "start_time": "2022-07-01T00:01:47.582Z"
   },
   {
    "duration": 0,
    "start_time": "2022-07-01T00:01:47.583Z"
   },
   {
    "duration": 0,
    "start_time": "2022-07-01T00:01:47.584Z"
   },
   {
    "duration": 0,
    "start_time": "2022-07-01T00:01:47.585Z"
   },
   {
    "duration": 0,
    "start_time": "2022-07-01T00:01:47.586Z"
   },
   {
    "duration": 0,
    "start_time": "2022-07-01T00:01:47.587Z"
   },
   {
    "duration": 0,
    "start_time": "2022-07-01T00:01:47.588Z"
   },
   {
    "duration": 0,
    "start_time": "2022-07-01T00:01:47.589Z"
   },
   {
    "duration": 0,
    "start_time": "2022-07-01T00:01:47.590Z"
   },
   {
    "duration": 0,
    "start_time": "2022-07-01T00:01:47.591Z"
   },
   {
    "duration": 0,
    "start_time": "2022-07-01T00:01:47.592Z"
   },
   {
    "duration": 0,
    "start_time": "2022-07-01T00:01:47.593Z"
   },
   {
    "duration": 49,
    "start_time": "2022-07-01T00:02:52.183Z"
   },
   {
    "duration": 58,
    "start_time": "2022-07-01T00:03:50.132Z"
   },
   {
    "duration": 50,
    "start_time": "2022-07-01T00:04:09.529Z"
   },
   {
    "duration": 42,
    "start_time": "2022-07-01T00:04:17.440Z"
   },
   {
    "duration": 42,
    "start_time": "2022-07-01T00:04:39.806Z"
   },
   {
    "duration": 39,
    "start_time": "2022-07-01T00:04:45.249Z"
   },
   {
    "duration": 1056,
    "start_time": "2022-07-01T00:05:05.508Z"
   },
   {
    "duration": 259,
    "start_time": "2022-07-01T00:05:06.566Z"
   },
   {
    "duration": 13,
    "start_time": "2022-07-01T00:05:06.827Z"
   },
   {
    "duration": 14,
    "start_time": "2022-07-01T00:05:06.842Z"
   },
   {
    "duration": 11,
    "start_time": "2022-07-01T00:05:06.858Z"
   },
   {
    "duration": 12,
    "start_time": "2022-07-01T00:05:06.870Z"
   },
   {
    "duration": 29,
    "start_time": "2022-07-01T00:05:06.884Z"
   },
   {
    "duration": 59,
    "start_time": "2022-07-01T00:05:06.915Z"
   },
   {
    "duration": 18,
    "start_time": "2022-07-01T00:05:06.975Z"
   },
   {
    "duration": 24,
    "start_time": "2022-07-01T00:05:06.996Z"
   },
   {
    "duration": 77,
    "start_time": "2022-07-01T00:05:07.022Z"
   },
   {
    "duration": 531,
    "start_time": "2022-07-01T00:05:07.101Z"
   },
   {
    "duration": 21,
    "start_time": "2022-07-01T00:05:07.633Z"
   },
   {
    "duration": 7,
    "start_time": "2022-07-01T00:05:07.656Z"
   },
   {
    "duration": 32,
    "start_time": "2022-07-01T00:05:07.665Z"
   },
   {
    "duration": 297,
    "start_time": "2022-07-01T00:05:07.698Z"
   },
   {
    "duration": 17,
    "start_time": "2022-07-01T00:05:07.997Z"
   },
   {
    "duration": 8,
    "start_time": "2022-07-01T00:05:08.016Z"
   },
   {
    "duration": 63,
    "start_time": "2022-07-01T00:05:08.026Z"
   },
   {
    "duration": 395,
    "start_time": "2022-07-01T00:05:08.090Z"
   },
   {
    "duration": 17,
    "start_time": "2022-07-01T00:05:08.488Z"
   },
   {
    "duration": 56,
    "start_time": "2022-07-01T00:05:08.507Z"
   },
   {
    "duration": 38,
    "start_time": "2022-07-01T00:05:08.565Z"
   },
   {
    "duration": 21,
    "start_time": "2022-07-01T00:05:08.605Z"
   },
   {
    "duration": 49,
    "start_time": "2022-07-01T00:05:08.628Z"
   },
   {
    "duration": 24,
    "start_time": "2022-07-01T00:05:08.678Z"
   },
   {
    "duration": 60,
    "start_time": "2022-07-01T00:05:08.704Z"
   },
   {
    "duration": 95,
    "start_time": "2022-07-01T00:05:08.767Z"
   },
   {
    "duration": 0,
    "start_time": "2022-07-01T00:05:08.863Z"
   },
   {
    "duration": 0,
    "start_time": "2022-07-01T00:05:08.865Z"
   },
   {
    "duration": 0,
    "start_time": "2022-07-01T00:05:08.866Z"
   },
   {
    "duration": 0,
    "start_time": "2022-07-01T00:05:08.867Z"
   },
   {
    "duration": 0,
    "start_time": "2022-07-01T00:05:08.868Z"
   },
   {
    "duration": 0,
    "start_time": "2022-07-01T00:05:08.869Z"
   },
   {
    "duration": 0,
    "start_time": "2022-07-01T00:05:08.870Z"
   },
   {
    "duration": 0,
    "start_time": "2022-07-01T00:05:08.872Z"
   },
   {
    "duration": 0,
    "start_time": "2022-07-01T00:05:08.872Z"
   },
   {
    "duration": 0,
    "start_time": "2022-07-01T00:05:08.873Z"
   },
   {
    "duration": 0,
    "start_time": "2022-07-01T00:05:08.875Z"
   },
   {
    "duration": 0,
    "start_time": "2022-07-01T00:05:08.876Z"
   },
   {
    "duration": 0,
    "start_time": "2022-07-01T00:05:08.877Z"
   },
   {
    "duration": 0,
    "start_time": "2022-07-01T00:05:08.878Z"
   },
   {
    "duration": 0,
    "start_time": "2022-07-01T00:05:08.878Z"
   },
   {
    "duration": 0,
    "start_time": "2022-07-01T00:05:08.879Z"
   },
   {
    "duration": 45,
    "start_time": "2022-07-01T00:12:43.617Z"
   },
   {
    "duration": 33,
    "start_time": "2022-07-01T00:15:52.998Z"
   },
   {
    "duration": 56,
    "start_time": "2022-07-01T00:15:56.390Z"
   },
   {
    "duration": 16,
    "start_time": "2022-07-01T00:16:01.442Z"
   },
   {
    "duration": 52,
    "start_time": "2022-07-01T00:20:07.142Z"
   },
   {
    "duration": 1130,
    "start_time": "2022-07-01T00:20:11.569Z"
   },
   {
    "duration": 281,
    "start_time": "2022-07-01T00:20:12.701Z"
   },
   {
    "duration": 12,
    "start_time": "2022-07-01T00:20:12.983Z"
   },
   {
    "duration": 17,
    "start_time": "2022-07-01T00:20:12.997Z"
   },
   {
    "duration": 13,
    "start_time": "2022-07-01T00:20:14.585Z"
   },
   {
    "duration": 11,
    "start_time": "2022-07-01T00:20:15.435Z"
   },
   {
    "duration": 31,
    "start_time": "2022-07-01T00:20:16.450Z"
   },
   {
    "duration": 46,
    "start_time": "2022-07-01T00:20:17.035Z"
   },
   {
    "duration": 21,
    "start_time": "2022-07-01T00:20:17.435Z"
   },
   {
    "duration": 24,
    "start_time": "2022-07-01T00:20:17.625Z"
   },
   {
    "duration": 56,
    "start_time": "2022-07-01T00:20:18.670Z"
   },
   {
    "duration": 578,
    "start_time": "2022-07-01T00:20:19.321Z"
   },
   {
    "duration": 19,
    "start_time": "2022-07-01T00:20:19.901Z"
   },
   {
    "duration": 9,
    "start_time": "2022-07-01T00:20:20.269Z"
   },
   {
    "duration": 30,
    "start_time": "2022-07-01T00:20:25.964Z"
   },
   {
    "duration": 327,
    "start_time": "2022-07-01T00:20:26.801Z"
   },
   {
    "duration": 19,
    "start_time": "2022-07-01T00:20:27.363Z"
   },
   {
    "duration": 9,
    "start_time": "2022-07-01T00:20:27.665Z"
   },
   {
    "duration": 52,
    "start_time": "2022-07-01T00:20:28.917Z"
   },
   {
    "duration": 432,
    "start_time": "2022-07-01T00:20:29.516Z"
   },
   {
    "duration": 22,
    "start_time": "2022-07-01T00:20:30.165Z"
   },
   {
    "duration": 41,
    "start_time": "2022-07-01T00:20:30.597Z"
   },
   {
    "duration": 47,
    "start_time": "2022-07-01T00:20:30.804Z"
   },
   {
    "duration": 23,
    "start_time": "2022-07-01T00:20:31.002Z"
   },
   {
    "duration": 32,
    "start_time": "2022-07-01T00:20:31.263Z"
   },
   {
    "duration": 28,
    "start_time": "2022-07-01T00:20:31.671Z"
   },
   {
    "duration": 37,
    "start_time": "2022-07-01T00:20:31.876Z"
   },
   {
    "duration": 15,
    "start_time": "2022-07-01T00:20:32.077Z"
   },
   {
    "duration": 15,
    "start_time": "2022-07-01T00:25:35.703Z"
   },
   {
    "duration": 15,
    "start_time": "2022-07-01T00:26:22.548Z"
   },
   {
    "duration": 72,
    "start_time": "2022-07-01T00:27:04.821Z"
   },
   {
    "duration": 15,
    "start_time": "2022-07-01T00:27:15.919Z"
   },
   {
    "duration": 20,
    "start_time": "2022-07-01T00:27:27.028Z"
   },
   {
    "duration": 1124,
    "start_time": "2022-07-01T00:28:13.201Z"
   },
   {
    "duration": 320,
    "start_time": "2022-07-01T00:28:14.327Z"
   },
   {
    "duration": 18,
    "start_time": "2022-07-01T00:28:14.649Z"
   },
   {
    "duration": 14,
    "start_time": "2022-07-01T00:28:14.669Z"
   },
   {
    "duration": 11,
    "start_time": "2022-07-01T00:28:14.686Z"
   },
   {
    "duration": 13,
    "start_time": "2022-07-01T00:28:14.699Z"
   },
   {
    "duration": 67,
    "start_time": "2022-07-01T00:28:14.714Z"
   },
   {
    "duration": 28,
    "start_time": "2022-07-01T00:28:14.783Z"
   },
   {
    "duration": 44,
    "start_time": "2022-07-01T00:28:14.813Z"
   },
   {
    "duration": 26,
    "start_time": "2022-07-01T00:28:14.859Z"
   },
   {
    "duration": 82,
    "start_time": "2022-07-01T00:28:14.887Z"
   },
   {
    "duration": 546,
    "start_time": "2022-07-01T00:28:14.971Z"
   },
   {
    "duration": 14,
    "start_time": "2022-07-01T00:28:15.518Z"
   },
   {
    "duration": 20,
    "start_time": "2022-07-01T00:28:15.535Z"
   },
   {
    "duration": 35,
    "start_time": "2022-07-01T00:28:15.559Z"
   },
   {
    "duration": 330,
    "start_time": "2022-07-01T00:28:15.596Z"
   },
   {
    "duration": 25,
    "start_time": "2022-07-01T00:28:15.928Z"
   },
   {
    "duration": 15,
    "start_time": "2022-07-01T00:28:15.954Z"
   },
   {
    "duration": 46,
    "start_time": "2022-07-01T00:28:15.971Z"
   },
   {
    "duration": 441,
    "start_time": "2022-07-01T00:28:16.018Z"
   },
   {
    "duration": 18,
    "start_time": "2022-07-01T00:28:16.461Z"
   },
   {
    "duration": 42,
    "start_time": "2022-07-01T00:28:16.481Z"
   },
   {
    "duration": 60,
    "start_time": "2022-07-01T00:28:16.524Z"
   },
   {
    "duration": 21,
    "start_time": "2022-07-01T00:28:16.585Z"
   },
   {
    "duration": 53,
    "start_time": "2022-07-01T00:28:16.608Z"
   },
   {
    "duration": 26,
    "start_time": "2022-07-01T00:28:16.663Z"
   },
   {
    "duration": 35,
    "start_time": "2022-07-01T00:28:16.690Z"
   },
   {
    "duration": 27,
    "start_time": "2022-07-01T00:28:16.727Z"
   },
   {
    "duration": 24,
    "start_time": "2022-07-01T00:28:16.756Z"
   },
   {
    "duration": 111,
    "start_time": "2022-07-01T00:28:16.781Z"
   },
   {
    "duration": 0,
    "start_time": "2022-07-01T00:28:16.894Z"
   },
   {
    "duration": 0,
    "start_time": "2022-07-01T00:28:16.895Z"
   },
   {
    "duration": 0,
    "start_time": "2022-07-01T00:28:16.896Z"
   },
   {
    "duration": 0,
    "start_time": "2022-07-01T00:28:16.898Z"
   },
   {
    "duration": 0,
    "start_time": "2022-07-01T00:28:16.899Z"
   },
   {
    "duration": 0,
    "start_time": "2022-07-01T00:28:16.900Z"
   },
   {
    "duration": 0,
    "start_time": "2022-07-01T00:28:16.901Z"
   },
   {
    "duration": 0,
    "start_time": "2022-07-01T00:28:16.902Z"
   },
   {
    "duration": 0,
    "start_time": "2022-07-01T00:28:16.903Z"
   },
   {
    "duration": 0,
    "start_time": "2022-07-01T00:28:16.904Z"
   },
   {
    "duration": 0,
    "start_time": "2022-07-01T00:28:16.905Z"
   },
   {
    "duration": 0,
    "start_time": "2022-07-01T00:28:16.905Z"
   },
   {
    "duration": 0,
    "start_time": "2022-07-01T00:28:16.906Z"
   },
   {
    "duration": 0,
    "start_time": "2022-07-01T00:28:16.908Z"
   },
   {
    "duration": 0,
    "start_time": "2022-07-01T00:28:16.908Z"
   },
   {
    "duration": 0,
    "start_time": "2022-07-01T00:28:16.909Z"
   },
   {
    "duration": 12,
    "start_time": "2022-07-01T00:33:56.370Z"
   },
   {
    "duration": 9,
    "start_time": "2022-07-01T00:34:07.508Z"
   },
   {
    "duration": 72,
    "start_time": "2022-07-01T00:36:27.932Z"
   },
   {
    "duration": 8,
    "start_time": "2022-07-01T00:36:38.229Z"
   },
   {
    "duration": 12,
    "start_time": "2022-07-01T00:38:25.258Z"
   },
   {
    "duration": 17,
    "start_time": "2022-07-01T00:38:34.612Z"
   },
   {
    "duration": 4,
    "start_time": "2022-07-01T00:47:21.579Z"
   },
   {
    "duration": 17,
    "start_time": "2022-07-01T00:47:31.627Z"
   },
   {
    "duration": 9,
    "start_time": "2022-07-01T00:47:36.878Z"
   },
   {
    "duration": 37,
    "start_time": "2022-07-01T00:58:01.763Z"
   },
   {
    "duration": 15,
    "start_time": "2022-07-01T00:58:02.563Z"
   },
   {
    "duration": 26,
    "start_time": "2022-07-01T00:58:03.336Z"
   },
   {
    "duration": 19,
    "start_time": "2022-07-01T00:58:51.199Z"
   },
   {
    "duration": 20,
    "start_time": "2022-07-01T01:00:16.361Z"
   },
   {
    "duration": 21,
    "start_time": "2022-07-01T01:00:31.843Z"
   },
   {
    "duration": 21,
    "start_time": "2022-07-01T01:00:33.143Z"
   },
   {
    "duration": 28,
    "start_time": "2022-07-01T01:00:37.234Z"
   },
   {
    "duration": 13,
    "start_time": "2022-07-01T01:00:52.269Z"
   },
   {
    "duration": 17,
    "start_time": "2022-07-01T01:00:53.025Z"
   },
   {
    "duration": 24,
    "start_time": "2022-07-01T01:00:54.522Z"
   },
   {
    "duration": 9,
    "start_time": "2022-07-01T01:00:56.170Z"
   },
   {
    "duration": 1164,
    "start_time": "2022-07-01T01:01:34.420Z"
   },
   {
    "duration": 258,
    "start_time": "2022-07-01T01:01:35.586Z"
   },
   {
    "duration": 12,
    "start_time": "2022-07-01T01:01:36.204Z"
   },
   {
    "duration": 14,
    "start_time": "2022-07-01T01:01:36.482Z"
   },
   {
    "duration": 11,
    "start_time": "2022-07-01T01:01:39.193Z"
   },
   {
    "duration": 12,
    "start_time": "2022-07-01T01:01:39.433Z"
   },
   {
    "duration": 28,
    "start_time": "2022-07-01T01:01:40.780Z"
   },
   {
    "duration": 28,
    "start_time": "2022-07-01T01:01:41.448Z"
   },
   {
    "duration": 31,
    "start_time": "2022-07-01T01:01:41.893Z"
   },
   {
    "duration": 25,
    "start_time": "2022-07-01T01:01:42.117Z"
   },
   {
    "duration": 58,
    "start_time": "2022-07-01T01:01:43.273Z"
   },
   {
    "duration": 543,
    "start_time": "2022-07-01T01:01:43.940Z"
   },
   {
    "duration": 22,
    "start_time": "2022-07-01T01:01:44.486Z"
   },
   {
    "duration": 7,
    "start_time": "2022-07-01T01:01:44.609Z"
   },
   {
    "duration": 32,
    "start_time": "2022-07-01T01:01:45.700Z"
   },
   {
    "duration": 290,
    "start_time": "2022-07-01T01:01:46.488Z"
   },
   {
    "duration": 17,
    "start_time": "2022-07-01T01:01:47.217Z"
   },
   {
    "duration": 8,
    "start_time": "2022-07-01T01:01:47.363Z"
   },
   {
    "duration": 45,
    "start_time": "2022-07-01T01:01:48.565Z"
   },
   {
    "duration": 413,
    "start_time": "2022-07-01T01:01:49.300Z"
   },
   {
    "duration": 18,
    "start_time": "2022-07-01T01:01:50.010Z"
   },
   {
    "duration": 57,
    "start_time": "2022-07-01T01:01:51.104Z"
   },
   {
    "duration": 55,
    "start_time": "2022-07-01T01:01:51.320Z"
   },
   {
    "duration": 22,
    "start_time": "2022-07-01T01:01:51.548Z"
   },
   {
    "duration": 29,
    "start_time": "2022-07-01T01:01:51.760Z"
   },
   {
    "duration": 26,
    "start_time": "2022-07-01T01:01:52.193Z"
   },
   {
    "duration": 35,
    "start_time": "2022-07-01T01:01:52.436Z"
   },
   {
    "duration": 13,
    "start_time": "2022-07-01T01:01:52.633Z"
   },
   {
    "duration": 18,
    "start_time": "2022-07-01T01:01:52.895Z"
   },
   {
    "duration": 20,
    "start_time": "2022-07-01T01:01:53.998Z"
   },
   {
    "duration": 98,
    "start_time": "2022-07-01T01:01:54.925Z"
   },
   {
    "duration": 4,
    "start_time": "2022-07-01T01:02:11.703Z"
   },
   {
    "duration": 19,
    "start_time": "2022-07-01T01:02:12.623Z"
   },
   {
    "duration": 13,
    "start_time": "2022-07-01T01:03:45.586Z"
   },
   {
    "duration": 14,
    "start_time": "2022-07-01T01:04:00.692Z"
   },
   {
    "duration": 26,
    "start_time": "2022-07-01T01:04:28.987Z"
   },
   {
    "duration": 1425,
    "start_time": "2022-07-01T18:24:49.164Z"
   },
   {
    "duration": 732,
    "start_time": "2022-07-01T18:24:50.591Z"
   },
   {
    "duration": 18,
    "start_time": "2022-07-01T18:24:51.325Z"
   },
   {
    "duration": 25,
    "start_time": "2022-07-01T18:24:51.346Z"
   },
   {
    "duration": 16,
    "start_time": "2022-07-01T18:24:53.458Z"
   },
   {
    "duration": 12,
    "start_time": "2022-07-01T18:24:53.674Z"
   },
   {
    "duration": 45,
    "start_time": "2022-07-01T18:24:54.858Z"
   },
   {
    "duration": 45,
    "start_time": "2022-07-01T18:24:55.557Z"
   },
   {
    "duration": 28,
    "start_time": "2022-07-01T18:24:56.020Z"
   },
   {
    "duration": 43,
    "start_time": "2022-07-01T18:24:56.477Z"
   },
   {
    "duration": 66,
    "start_time": "2022-07-01T18:24:57.691Z"
   },
   {
    "duration": 536,
    "start_time": "2022-07-01T18:24:58.462Z"
   },
   {
    "duration": 26,
    "start_time": "2022-07-01T18:24:59.000Z"
   },
   {
    "duration": 9,
    "start_time": "2022-07-01T18:24:59.162Z"
   },
   {
    "duration": 54,
    "start_time": "2022-07-01T18:25:00.282Z"
   },
   {
    "duration": 384,
    "start_time": "2022-07-01T18:25:00.953Z"
   },
   {
    "duration": 23,
    "start_time": "2022-07-01T18:25:01.372Z"
   },
   {
    "duration": 10,
    "start_time": "2022-07-01T18:25:01.599Z"
   },
   {
    "duration": 87,
    "start_time": "2022-07-01T18:25:02.830Z"
   },
   {
    "duration": 569,
    "start_time": "2022-07-01T18:25:03.552Z"
   },
   {
    "duration": 20,
    "start_time": "2022-07-01T18:25:04.305Z"
   },
   {
    "duration": 102,
    "start_time": "2022-07-01T18:25:04.829Z"
   },
   {
    "duration": 50,
    "start_time": "2022-07-01T18:25:05.135Z"
   },
   {
    "duration": 26,
    "start_time": "2022-07-01T18:25:05.373Z"
   },
   {
    "duration": 37,
    "start_time": "2022-07-01T18:25:05.630Z"
   },
   {
    "duration": 33,
    "start_time": "2022-07-01T18:25:06.194Z"
   },
   {
    "duration": 50,
    "start_time": "2022-07-01T18:25:06.520Z"
   },
   {
    "duration": 21,
    "start_time": "2022-07-01T18:25:06.753Z"
   },
   {
    "duration": 5,
    "start_time": "2022-07-01T18:25:07.122Z"
   },
   {
    "duration": 19,
    "start_time": "2022-07-01T18:25:07.701Z"
   },
   {
    "duration": 117,
    "start_time": "2022-07-01T18:25:07.998Z"
   },
   {
    "duration": 3,
    "start_time": "2022-07-01T18:25:08.750Z"
   },
   {
    "duration": 1473,
    "start_time": "2022-07-02T17:09:42.828Z"
   },
   {
    "duration": 569,
    "start_time": "2022-07-02T17:09:44.304Z"
   },
   {
    "duration": 14,
    "start_time": "2022-07-02T17:09:44.874Z"
   },
   {
    "duration": 17,
    "start_time": "2022-07-02T17:09:44.891Z"
   },
   {
    "duration": 17,
    "start_time": "2022-07-02T17:09:45.825Z"
   },
   {
    "duration": 14,
    "start_time": "2022-07-02T17:09:46.002Z"
   },
   {
    "duration": 35,
    "start_time": "2022-07-02T17:09:47.175Z"
   },
   {
    "duration": 48,
    "start_time": "2022-07-02T17:09:47.730Z"
   },
   {
    "duration": 36,
    "start_time": "2022-07-02T17:09:48.148Z"
   },
   {
    "duration": 46,
    "start_time": "2022-07-02T17:09:48.348Z"
   },
   {
    "duration": 87,
    "start_time": "2022-07-02T17:09:49.354Z"
   },
   {
    "duration": 612,
    "start_time": "2022-07-02T17:09:49.953Z"
   },
   {
    "duration": 23,
    "start_time": "2022-07-02T17:09:50.567Z"
   },
   {
    "duration": 18,
    "start_time": "2022-07-02T17:09:50.593Z"
   },
   {
    "duration": 50,
    "start_time": "2022-07-02T17:09:51.522Z"
   },
   {
    "duration": 305,
    "start_time": "2022-07-02T17:09:52.099Z"
   },
   {
    "duration": 30,
    "start_time": "2022-07-02T17:09:52.479Z"
   },
   {
    "duration": 10,
    "start_time": "2022-07-02T17:09:52.664Z"
   },
   {
    "duration": 74,
    "start_time": "2022-07-02T17:09:53.603Z"
   },
   {
    "duration": 480,
    "start_time": "2022-07-02T17:09:54.188Z"
   },
   {
    "duration": 26,
    "start_time": "2022-07-02T17:09:54.945Z"
   },
   {
    "duration": 45,
    "start_time": "2022-07-02T17:09:55.351Z"
   },
   {
    "duration": 65,
    "start_time": "2022-07-02T17:09:55.545Z"
   },
   {
    "duration": 24,
    "start_time": "2022-07-02T17:09:55.746Z"
   },
   {
    "duration": 32,
    "start_time": "2022-07-02T17:09:56.121Z"
   },
   {
    "duration": 25,
    "start_time": "2022-07-02T17:09:56.330Z"
   },
   {
    "duration": 56,
    "start_time": "2022-07-02T17:09:56.518Z"
   },
   {
    "duration": 19,
    "start_time": "2022-07-02T17:09:56.721Z"
   },
   {
    "duration": 6,
    "start_time": "2022-07-02T17:09:56.910Z"
   },
   {
    "duration": 26,
    "start_time": "2022-07-02T17:09:57.113Z"
   },
   {
    "duration": 100,
    "start_time": "2022-07-02T17:09:57.293Z"
   },
   {
    "duration": 3,
    "start_time": "2022-07-02T17:09:57.688Z"
   },
   {
    "duration": 20,
    "start_time": "2022-07-02T17:16:10.956Z"
   },
   {
    "duration": 19,
    "start_time": "2022-07-02T17:16:54.080Z"
   },
   {
    "duration": 14,
    "start_time": "2022-07-02T17:19:17.842Z"
   },
   {
    "duration": 13,
    "start_time": "2022-07-02T17:24:52.792Z"
   },
   {
    "duration": 1471,
    "start_time": "2022-07-02T17:25:04.026Z"
   },
   {
    "duration": 421,
    "start_time": "2022-07-02T17:25:05.501Z"
   },
   {
    "duration": 16,
    "start_time": "2022-07-02T17:25:05.924Z"
   },
   {
    "duration": 44,
    "start_time": "2022-07-02T17:25:05.943Z"
   },
   {
    "duration": 30,
    "start_time": "2022-07-02T17:25:05.990Z"
   },
   {
    "duration": 43,
    "start_time": "2022-07-02T17:25:06.023Z"
   },
   {
    "duration": 50,
    "start_time": "2022-07-02T17:25:06.067Z"
   },
   {
    "duration": 43,
    "start_time": "2022-07-02T17:25:06.119Z"
   },
   {
    "duration": 50,
    "start_time": "2022-07-02T17:25:06.164Z"
   },
   {
    "duration": 36,
    "start_time": "2022-07-02T17:25:06.221Z"
   },
   {
    "duration": 74,
    "start_time": "2022-07-02T17:25:06.259Z"
   },
   {
    "duration": 745,
    "start_time": "2022-07-02T17:25:06.336Z"
   },
   {
    "duration": 18,
    "start_time": "2022-07-02T17:25:07.083Z"
   },
   {
    "duration": 27,
    "start_time": "2022-07-02T17:25:07.103Z"
   },
   {
    "duration": 109,
    "start_time": "2022-07-02T17:25:07.133Z"
   },
   {
    "duration": 501,
    "start_time": "2022-07-02T17:25:07.245Z"
   },
   {
    "duration": 32,
    "start_time": "2022-07-02T17:25:07.749Z"
   },
   {
    "duration": 14,
    "start_time": "2022-07-02T17:25:07.783Z"
   },
   {
    "duration": 82,
    "start_time": "2022-07-02T17:25:07.799Z"
   },
   {
    "duration": 606,
    "start_time": "2022-07-02T17:25:07.883Z"
   },
   {
    "duration": 38,
    "start_time": "2022-07-02T17:25:08.491Z"
   },
   {
    "duration": 63,
    "start_time": "2022-07-02T17:25:08.531Z"
   },
   {
    "duration": 81,
    "start_time": "2022-07-02T17:25:08.596Z"
   },
   {
    "duration": 28,
    "start_time": "2022-07-02T17:25:08.679Z"
   },
   {
    "duration": 59,
    "start_time": "2022-07-02T17:25:08.727Z"
   },
   {
    "duration": 53,
    "start_time": "2022-07-02T17:25:08.788Z"
   },
   {
    "duration": 49,
    "start_time": "2022-07-02T17:25:08.844Z"
   },
   {
    "duration": 42,
    "start_time": "2022-07-02T17:25:08.896Z"
   },
   {
    "duration": 7,
    "start_time": "2022-07-02T17:25:08.940Z"
   },
   {
    "duration": 36,
    "start_time": "2022-07-02T17:25:08.949Z"
   },
   {
    "duration": 204,
    "start_time": "2022-07-02T17:25:08.988Z"
   },
   {
    "duration": 0,
    "start_time": "2022-07-02T17:25:09.194Z"
   },
   {
    "duration": 0,
    "start_time": "2022-07-02T17:25:09.195Z"
   },
   {
    "duration": 0,
    "start_time": "2022-07-02T17:25:09.197Z"
   },
   {
    "duration": 0,
    "start_time": "2022-07-02T17:25:09.198Z"
   },
   {
    "duration": 0,
    "start_time": "2022-07-02T17:25:09.200Z"
   },
   {
    "duration": 0,
    "start_time": "2022-07-02T17:25:09.201Z"
   },
   {
    "duration": 0,
    "start_time": "2022-07-02T17:25:09.203Z"
   },
   {
    "duration": 0,
    "start_time": "2022-07-02T17:25:09.226Z"
   },
   {
    "duration": 0,
    "start_time": "2022-07-02T17:25:09.228Z"
   },
   {
    "duration": 0,
    "start_time": "2022-07-02T17:25:09.230Z"
   },
   {
    "duration": 0,
    "start_time": "2022-07-02T17:25:09.231Z"
   },
   {
    "duration": 0,
    "start_time": "2022-07-02T17:25:09.232Z"
   },
   {
    "duration": 0,
    "start_time": "2022-07-02T17:25:09.233Z"
   },
   {
    "duration": 0,
    "start_time": "2022-07-02T17:25:09.235Z"
   },
   {
    "duration": 0,
    "start_time": "2022-07-02T17:25:09.236Z"
   },
   {
    "duration": 0,
    "start_time": "2022-07-02T17:25:09.239Z"
   },
   {
    "duration": 0,
    "start_time": "2022-07-02T17:25:09.241Z"
   },
   {
    "duration": 0,
    "start_time": "2022-07-02T17:25:09.242Z"
   },
   {
    "duration": 15,
    "start_time": "2022-07-02T17:26:11.782Z"
   },
   {
    "duration": 7,
    "start_time": "2022-07-02T17:30:58.980Z"
   },
   {
    "duration": 24,
    "start_time": "2022-07-02T17:31:12.863Z"
   },
   {
    "duration": 25,
    "start_time": "2022-07-02T17:31:29.565Z"
   },
   {
    "duration": 23,
    "start_time": "2022-07-02T17:33:59.204Z"
   },
   {
    "duration": 18,
    "start_time": "2022-07-02T17:34:19.414Z"
   },
   {
    "duration": 39,
    "start_time": "2022-07-02T17:39:32.352Z"
   },
   {
    "duration": 39,
    "start_time": "2022-07-02T17:39:59.090Z"
   },
   {
    "duration": 16,
    "start_time": "2022-07-02T17:40:05.939Z"
   },
   {
    "duration": 38,
    "start_time": "2022-07-02T17:40:35.786Z"
   },
   {
    "duration": 43,
    "start_time": "2022-07-02T17:40:48.914Z"
   },
   {
    "duration": 38,
    "start_time": "2022-07-02T17:40:59.959Z"
   },
   {
    "duration": 39,
    "start_time": "2022-07-02T17:41:37.798Z"
   },
   {
    "duration": 36,
    "start_time": "2022-07-02T17:41:48.847Z"
   },
   {
    "duration": 1220,
    "start_time": "2022-07-03T14:38:49.465Z"
   },
   {
    "duration": 517,
    "start_time": "2022-07-03T14:38:50.687Z"
   },
   {
    "duration": 13,
    "start_time": "2022-07-03T14:38:51.205Z"
   },
   {
    "duration": 15,
    "start_time": "2022-07-03T14:38:51.220Z"
   },
   {
    "duration": 10,
    "start_time": "2022-07-03T14:38:51.237Z"
   },
   {
    "duration": 14,
    "start_time": "2022-07-03T14:38:51.249Z"
   },
   {
    "duration": 28,
    "start_time": "2022-07-03T14:38:51.265Z"
   },
   {
    "duration": 58,
    "start_time": "2022-07-03T14:38:51.295Z"
   },
   {
    "duration": 21,
    "start_time": "2022-07-03T14:38:51.354Z"
   },
   {
    "duration": 23,
    "start_time": "2022-07-03T14:38:51.377Z"
   },
   {
    "duration": 76,
    "start_time": "2022-07-03T14:38:51.401Z"
   },
   {
    "duration": 528,
    "start_time": "2022-07-03T14:38:51.479Z"
   },
   {
    "duration": 24,
    "start_time": "2022-07-03T14:38:52.008Z"
   },
   {
    "duration": 7,
    "start_time": "2022-07-03T14:38:52.034Z"
   },
   {
    "duration": 30,
    "start_time": "2022-07-03T14:38:52.042Z"
   },
   {
    "duration": 297,
    "start_time": "2022-07-03T14:38:52.074Z"
   },
   {
    "duration": 17,
    "start_time": "2022-07-03T14:38:52.372Z"
   },
   {
    "duration": 10,
    "start_time": "2022-07-03T14:38:52.390Z"
   },
   {
    "duration": 60,
    "start_time": "2022-07-03T14:38:52.401Z"
   },
   {
    "duration": 397,
    "start_time": "2022-07-03T14:38:52.462Z"
   },
   {
    "duration": 15,
    "start_time": "2022-07-03T14:38:52.860Z"
   },
   {
    "duration": 34,
    "start_time": "2022-07-03T14:38:52.877Z"
   },
   {
    "duration": 36,
    "start_time": "2022-07-03T14:38:52.926Z"
   },
   {
    "duration": 19,
    "start_time": "2022-07-03T14:38:52.963Z"
   },
   {
    "duration": 48,
    "start_time": "2022-07-03T14:38:52.984Z"
   },
   {
    "duration": 22,
    "start_time": "2022-07-03T14:38:53.034Z"
   },
   {
    "duration": 42,
    "start_time": "2022-07-03T14:38:53.057Z"
   },
   {
    "duration": 34,
    "start_time": "2022-07-03T14:38:53.103Z"
   },
   {
    "duration": 4,
    "start_time": "2022-07-03T14:38:53.139Z"
   },
   {
    "duration": 18,
    "start_time": "2022-07-03T14:38:53.144Z"
   },
   {
    "duration": 123,
    "start_time": "2022-07-03T14:38:53.163Z"
   },
   {
    "duration": 0,
    "start_time": "2022-07-03T14:38:53.288Z"
   },
   {
    "duration": 0,
    "start_time": "2022-07-03T14:38:53.290Z"
   },
   {
    "duration": 0,
    "start_time": "2022-07-03T14:38:53.291Z"
   },
   {
    "duration": 0,
    "start_time": "2022-07-03T14:38:53.292Z"
   },
   {
    "duration": 0,
    "start_time": "2022-07-03T14:38:53.294Z"
   },
   {
    "duration": 1,
    "start_time": "2022-07-03T14:38:53.294Z"
   },
   {
    "duration": 0,
    "start_time": "2022-07-03T14:38:53.296Z"
   },
   {
    "duration": 0,
    "start_time": "2022-07-03T14:38:53.297Z"
   },
   {
    "duration": 0,
    "start_time": "2022-07-03T14:38:53.298Z"
   },
   {
    "duration": 0,
    "start_time": "2022-07-03T14:38:53.300Z"
   },
   {
    "duration": 0,
    "start_time": "2022-07-03T14:38:53.301Z"
   },
   {
    "duration": 0,
    "start_time": "2022-07-03T14:38:53.302Z"
   },
   {
    "duration": 0,
    "start_time": "2022-07-03T14:38:53.303Z"
   },
   {
    "duration": 0,
    "start_time": "2022-07-03T14:38:53.304Z"
   },
   {
    "duration": 0,
    "start_time": "2022-07-03T14:38:53.327Z"
   },
   {
    "duration": 0,
    "start_time": "2022-07-03T14:38:53.329Z"
   },
   {
    "duration": 0,
    "start_time": "2022-07-03T14:38:53.330Z"
   },
   {
    "duration": 0,
    "start_time": "2022-07-03T14:38:53.331Z"
   },
   {
    "duration": 19,
    "start_time": "2022-07-03T14:40:18.897Z"
   },
   {
    "duration": 2,
    "start_time": "2022-07-03T14:40:38.137Z"
   },
   {
    "duration": 16,
    "start_time": "2022-07-03T14:41:24.810Z"
   },
   {
    "duration": 15,
    "start_time": "2022-07-03T14:41:39.322Z"
   },
   {
    "duration": 21,
    "start_time": "2022-07-03T14:42:34.663Z"
   },
   {
    "duration": 13,
    "start_time": "2022-07-03T14:42:56.195Z"
   },
   {
    "duration": 3,
    "start_time": "2022-07-03T14:43:04.712Z"
   },
   {
    "duration": 296,
    "start_time": "2022-07-03T14:43:05.060Z"
   },
   {
    "duration": 15,
    "start_time": "2022-07-03T14:43:05.631Z"
   },
   {
    "duration": 12,
    "start_time": "2022-07-03T14:43:05.830Z"
   },
   {
    "duration": 11,
    "start_time": "2022-07-03T14:43:07.672Z"
   },
   {
    "duration": 10,
    "start_time": "2022-07-03T14:43:07.860Z"
   },
   {
    "duration": 30,
    "start_time": "2022-07-03T14:43:08.808Z"
   },
   {
    "duration": 39,
    "start_time": "2022-07-03T14:43:09.387Z"
   },
   {
    "duration": 22,
    "start_time": "2022-07-03T14:43:09.793Z"
   },
   {
    "duration": 32,
    "start_time": "2022-07-03T14:43:09.995Z"
   },
   {
    "duration": 53,
    "start_time": "2022-07-03T14:43:10.970Z"
   },
   {
    "duration": 569,
    "start_time": "2022-07-03T14:43:11.575Z"
   },
   {
    "duration": 27,
    "start_time": "2022-07-03T14:43:12.148Z"
   },
   {
    "duration": 36,
    "start_time": "2022-07-03T14:43:12.178Z"
   },
   {
    "duration": 32,
    "start_time": "2022-07-03T14:43:13.114Z"
   },
   {
    "duration": 338,
    "start_time": "2022-07-03T14:43:13.693Z"
   },
   {
    "duration": 28,
    "start_time": "2022-07-03T14:43:14.101Z"
   },
   {
    "duration": 10,
    "start_time": "2022-07-03T14:43:14.300Z"
   },
   {
    "duration": 62,
    "start_time": "2022-07-03T14:43:15.317Z"
   },
   {
    "duration": 476,
    "start_time": "2022-07-03T14:43:15.986Z"
   },
   {
    "duration": 17,
    "start_time": "2022-07-03T14:43:16.653Z"
   },
   {
    "duration": 35,
    "start_time": "2022-07-03T14:43:17.075Z"
   },
   {
    "duration": 35,
    "start_time": "2022-07-03T14:43:17.290Z"
   },
   {
    "duration": 22,
    "start_time": "2022-07-03T14:43:17.512Z"
   },
   {
    "duration": 28,
    "start_time": "2022-07-03T14:43:17.735Z"
   },
   {
    "duration": 21,
    "start_time": "2022-07-03T14:43:18.661Z"
   },
   {
    "duration": 36,
    "start_time": "2022-07-03T14:43:18.903Z"
   },
   {
    "duration": 13,
    "start_time": "2022-07-03T14:43:20.011Z"
   },
   {
    "duration": 4,
    "start_time": "2022-07-03T14:43:20.287Z"
   },
   {
    "duration": 19,
    "start_time": "2022-07-03T14:43:21.020Z"
   },
   {
    "duration": 11,
    "start_time": "2022-07-03T14:43:21.941Z"
   },
   {
    "duration": 15,
    "start_time": "2022-07-03T14:45:05.302Z"
   },
   {
    "duration": 9,
    "start_time": "2022-07-03T14:45:05.875Z"
   },
   {
    "duration": 26,
    "start_time": "2022-07-03T14:45:32.131Z"
   },
   {
    "duration": 10,
    "start_time": "2022-07-03T14:45:57.192Z"
   },
   {
    "duration": 17,
    "start_time": "2022-07-03T14:46:35.368Z"
   },
   {
    "duration": 10,
    "start_time": "2022-07-03T14:46:57.852Z"
   },
   {
    "duration": 24,
    "start_time": "2022-07-03T14:47:16.499Z"
   },
   {
    "duration": 9,
    "start_time": "2022-07-03T14:48:00.670Z"
   },
   {
    "duration": 25,
    "start_time": "2022-07-03T14:48:03.043Z"
   },
   {
    "duration": 13,
    "start_time": "2022-07-03T14:48:15.686Z"
   },
   {
    "duration": 12,
    "start_time": "2022-07-03T14:48:27.085Z"
   },
   {
    "duration": 10,
    "start_time": "2022-07-03T14:48:36.363Z"
   },
   {
    "duration": 9,
    "start_time": "2022-07-03T14:48:41.371Z"
   },
   {
    "duration": 21,
    "start_time": "2022-07-03T14:48:48.620Z"
   },
   {
    "duration": 15,
    "start_time": "2022-07-03T14:48:55.339Z"
   },
   {
    "duration": 11,
    "start_time": "2022-07-03T14:49:09.043Z"
   },
   {
    "duration": 10,
    "start_time": "2022-07-03T14:49:12.269Z"
   },
   {
    "duration": 9,
    "start_time": "2022-07-03T14:49:12.784Z"
   },
   {
    "duration": 9,
    "start_time": "2022-07-03T14:49:23.670Z"
   },
   {
    "duration": 8,
    "start_time": "2022-07-03T14:49:24.670Z"
   },
   {
    "duration": 11,
    "start_time": "2022-07-03T14:49:32.971Z"
   },
   {
    "duration": 11,
    "start_time": "2022-07-03T14:49:33.687Z"
   },
   {
    "duration": 2,
    "start_time": "2022-07-03T14:49:34.645Z"
   },
   {
    "duration": 14,
    "start_time": "2022-07-03T14:49:47.670Z"
   },
   {
    "duration": 11,
    "start_time": "2022-07-03T14:49:48.141Z"
   },
   {
    "duration": 9,
    "start_time": "2022-07-03T14:50:44.910Z"
   },
   {
    "duration": 12,
    "start_time": "2022-07-03T14:50:49.505Z"
   },
   {
    "duration": 10,
    "start_time": "2022-07-03T14:50:50.388Z"
   },
   {
    "duration": 13,
    "start_time": "2022-07-03T14:50:50.988Z"
   },
   {
    "duration": 48,
    "start_time": "2022-07-03T14:50:59.572Z"
   },
   {
    "duration": 14,
    "start_time": "2022-07-03T14:51:00.539Z"
   },
   {
    "duration": 7,
    "start_time": "2022-07-03T14:51:01.627Z"
   },
   {
    "duration": 17,
    "start_time": "2022-07-03T14:51:02.473Z"
   },
   {
    "duration": 13,
    "start_time": "2022-07-03T14:51:03.150Z"
   },
   {
    "duration": 7,
    "start_time": "2022-07-03T14:51:14.871Z"
   },
   {
    "duration": 17,
    "start_time": "2022-07-03T14:51:15.975Z"
   },
   {
    "duration": 38,
    "start_time": "2022-07-03T14:51:36.972Z"
   },
   {
    "duration": 17,
    "start_time": "2022-07-03T14:51:37.438Z"
   },
   {
    "duration": 4,
    "start_time": "2022-07-03T14:51:38.150Z"
   },
   {
    "duration": 19,
    "start_time": "2022-07-03T14:51:38.918Z"
   },
   {
    "duration": 8,
    "start_time": "2022-07-03T14:51:40.182Z"
   },
   {
    "duration": 18,
    "start_time": "2022-07-03T14:51:40.577Z"
   },
   {
    "duration": 1168,
    "start_time": "2022-07-03T14:52:05.351Z"
   },
   {
    "duration": 277,
    "start_time": "2022-07-03T14:52:06.521Z"
   },
   {
    "duration": 16,
    "start_time": "2022-07-03T14:52:07.519Z"
   },
   {
    "duration": 14,
    "start_time": "2022-07-03T14:52:07.787Z"
   },
   {
    "duration": 13,
    "start_time": "2022-07-03T14:52:10.321Z"
   },
   {
    "duration": 11,
    "start_time": "2022-07-03T14:52:10.574Z"
   },
   {
    "duration": 29,
    "start_time": "2022-07-03T14:52:11.772Z"
   },
   {
    "duration": 31,
    "start_time": "2022-07-03T14:52:12.470Z"
   },
   {
    "duration": 29,
    "start_time": "2022-07-03T14:52:12.922Z"
   },
   {
    "duration": 26,
    "start_time": "2022-07-03T14:52:13.154Z"
   },
   {
    "duration": 62,
    "start_time": "2022-07-03T14:52:14.327Z"
   },
   {
    "duration": 526,
    "start_time": "2022-07-03T14:52:14.972Z"
   },
   {
    "duration": 14,
    "start_time": "2022-07-03T14:52:15.500Z"
   },
   {
    "duration": 7,
    "start_time": "2022-07-03T14:52:15.641Z"
   },
   {
    "duration": 40,
    "start_time": "2022-07-03T14:52:17.720Z"
   },
   {
    "duration": 292,
    "start_time": "2022-07-03T14:52:18.488Z"
   },
   {
    "duration": 19,
    "start_time": "2022-07-03T14:52:18.993Z"
   },
   {
    "duration": 8,
    "start_time": "2022-07-03T14:52:19.545Z"
   },
   {
    "duration": 46,
    "start_time": "2022-07-03T14:52:21.053Z"
   },
   {
    "duration": 433,
    "start_time": "2022-07-03T14:52:21.837Z"
   },
   {
    "duration": 20,
    "start_time": "2022-07-03T14:52:22.844Z"
   },
   {
    "duration": 44,
    "start_time": "2022-07-03T14:52:24.115Z"
   },
   {
    "duration": 39,
    "start_time": "2022-07-03T14:52:25.275Z"
   },
   {
    "duration": 22,
    "start_time": "2022-07-03T14:52:25.872Z"
   },
   {
    "duration": 28,
    "start_time": "2022-07-03T14:52:26.739Z"
   },
   {
    "duration": 21,
    "start_time": "2022-07-03T14:52:32.962Z"
   },
   {
    "duration": 35,
    "start_time": "2022-07-03T14:52:33.540Z"
   },
   {
    "duration": 12,
    "start_time": "2022-07-03T14:52:34.295Z"
   },
   {
    "duration": 41,
    "start_time": "2022-07-03T14:53:04.604Z"
   },
   {
    "duration": 12,
    "start_time": "2022-07-03T14:53:08.985Z"
   },
   {
    "duration": 4,
    "start_time": "2022-07-03T14:53:09.740Z"
   },
   {
    "duration": 15,
    "start_time": "2022-07-03T14:53:10.467Z"
   },
   {
    "duration": 9,
    "start_time": "2022-07-03T14:53:11.729Z"
   },
   {
    "duration": 19,
    "start_time": "2022-07-03T14:53:13.739Z"
   },
   {
    "duration": 54,
    "start_time": "2022-07-03T14:54:26.924Z"
   },
   {
    "duration": 58,
    "start_time": "2022-07-03T14:54:44.687Z"
   },
   {
    "duration": 13,
    "start_time": "2022-07-03T14:54:45.579Z"
   },
   {
    "duration": 4,
    "start_time": "2022-07-03T14:54:51.018Z"
   },
   {
    "duration": 20,
    "start_time": "2022-07-03T14:54:51.843Z"
   },
   {
    "duration": 9,
    "start_time": "2022-07-03T14:54:52.683Z"
   },
   {
    "duration": 22,
    "start_time": "2022-07-03T14:54:53.286Z"
   },
   {
    "duration": 32,
    "start_time": "2022-07-03T14:54:59.816Z"
   },
   {
    "duration": 140,
    "start_time": "2022-07-03T14:55:08.428Z"
   },
   {
    "duration": 31,
    "start_time": "2022-07-03T14:55:09.414Z"
   },
   {
    "duration": 18,
    "start_time": "2022-07-03T14:55:17.133Z"
   },
   {
    "duration": 60,
    "start_time": "2022-07-03T14:57:57.796Z"
   },
   {
    "duration": 14,
    "start_time": "2022-07-03T14:58:02.886Z"
   },
   {
    "duration": 21,
    "start_time": "2022-07-03T14:58:08.123Z"
   },
   {
    "duration": 8,
    "start_time": "2022-07-03T14:58:19.187Z"
   },
   {
    "duration": 22,
    "start_time": "2022-07-03T14:58:37.386Z"
   },
   {
    "duration": 10,
    "start_time": "2022-07-03T14:59:37.499Z"
   },
   {
    "duration": 22,
    "start_time": "2022-07-03T14:59:39.978Z"
   },
   {
    "duration": 20,
    "start_time": "2022-07-03T15:00:03.298Z"
   },
   {
    "duration": 21,
    "start_time": "2022-07-03T15:00:04.041Z"
   },
   {
    "duration": 9,
    "start_time": "2022-07-03T15:00:15.583Z"
   },
   {
    "duration": 25,
    "start_time": "2022-07-03T15:00:17.147Z"
   },
   {
    "duration": 50,
    "start_time": "2022-07-03T15:01:53.439Z"
   },
   {
    "duration": 57,
    "start_time": "2022-07-03T15:02:07.184Z"
   },
   {
    "duration": 18,
    "start_time": "2022-07-03T15:02:56.430Z"
   },
   {
    "duration": 12,
    "start_time": "2022-07-03T15:03:09.056Z"
   },
   {
    "duration": 8,
    "start_time": "2022-07-03T15:03:23.424Z"
   },
   {
    "duration": 30,
    "start_time": "2022-07-03T15:03:25.639Z"
   },
   {
    "duration": 1352,
    "start_time": "2022-07-03T15:03:57.246Z"
   },
   {
    "duration": 314,
    "start_time": "2022-07-03T15:03:58.599Z"
   },
   {
    "duration": 12,
    "start_time": "2022-07-03T15:03:58.915Z"
   },
   {
    "duration": 53,
    "start_time": "2022-07-03T15:03:58.931Z"
   },
   {
    "duration": 11,
    "start_time": "2022-07-03T15:03:58.986Z"
   },
   {
    "duration": 15,
    "start_time": "2022-07-03T15:03:58.999Z"
   },
   {
    "duration": 40,
    "start_time": "2022-07-03T15:03:59.016Z"
   },
   {
    "duration": 29,
    "start_time": "2022-07-03T15:03:59.058Z"
   },
   {
    "duration": 56,
    "start_time": "2022-07-03T15:03:59.089Z"
   },
   {
    "duration": 27,
    "start_time": "2022-07-03T15:03:59.147Z"
   },
   {
    "duration": 71,
    "start_time": "2022-07-03T15:03:59.176Z"
   },
   {
    "duration": 643,
    "start_time": "2022-07-03T15:03:59.250Z"
   },
   {
    "duration": 15,
    "start_time": "2022-07-03T15:03:59.895Z"
   },
   {
    "duration": 59,
    "start_time": "2022-07-03T15:03:59.913Z"
   },
   {
    "duration": 29,
    "start_time": "2022-07-03T15:03:59.974Z"
   },
   {
    "duration": 375,
    "start_time": "2022-07-03T15:04:00.005Z"
   },
   {
    "duration": 22,
    "start_time": "2022-07-03T15:04:00.382Z"
   },
   {
    "duration": 31,
    "start_time": "2022-07-03T15:04:00.405Z"
   },
   {
    "duration": 119,
    "start_time": "2022-07-03T15:04:00.438Z"
   },
   {
    "duration": 504,
    "start_time": "2022-07-03T15:04:00.564Z"
   },
   {
    "duration": 19,
    "start_time": "2022-07-03T15:04:01.070Z"
   },
   {
    "duration": 60,
    "start_time": "2022-07-03T15:04:01.091Z"
   },
   {
    "duration": 51,
    "start_time": "2022-07-03T15:04:01.152Z"
   },
   {
    "duration": 39,
    "start_time": "2022-07-03T15:04:01.205Z"
   },
   {
    "duration": 45,
    "start_time": "2022-07-03T15:04:01.246Z"
   },
   {
    "duration": 49,
    "start_time": "2022-07-03T15:04:01.294Z"
   },
   {
    "duration": 103,
    "start_time": "2022-07-03T15:04:01.346Z"
   },
   {
    "duration": 15,
    "start_time": "2022-07-03T15:04:01.451Z"
   },
   {
    "duration": 31,
    "start_time": "2022-07-03T15:04:01.468Z"
   },
   {
    "duration": 168,
    "start_time": "2022-07-03T15:04:01.500Z"
   },
   {
    "duration": 0,
    "start_time": "2022-07-03T15:04:01.671Z"
   },
   {
    "duration": 1,
    "start_time": "2022-07-03T15:04:01.673Z"
   },
   {
    "duration": 0,
    "start_time": "2022-07-03T15:04:01.675Z"
   },
   {
    "duration": 0,
    "start_time": "2022-07-03T15:04:01.675Z"
   },
   {
    "duration": 0,
    "start_time": "2022-07-03T15:04:01.676Z"
   },
   {
    "duration": 0,
    "start_time": "2022-07-03T15:04:01.678Z"
   },
   {
    "duration": 0,
    "start_time": "2022-07-03T15:04:01.679Z"
   },
   {
    "duration": 0,
    "start_time": "2022-07-03T15:04:01.680Z"
   },
   {
    "duration": 0,
    "start_time": "2022-07-03T15:04:01.682Z"
   },
   {
    "duration": 0,
    "start_time": "2022-07-03T15:04:01.683Z"
   },
   {
    "duration": 0,
    "start_time": "2022-07-03T15:04:01.684Z"
   },
   {
    "duration": 0,
    "start_time": "2022-07-03T15:04:01.685Z"
   },
   {
    "duration": 0,
    "start_time": "2022-07-03T15:04:01.687Z"
   },
   {
    "duration": 0,
    "start_time": "2022-07-03T15:04:01.687Z"
   },
   {
    "duration": 0,
    "start_time": "2022-07-03T15:04:01.688Z"
   },
   {
    "duration": 0,
    "start_time": "2022-07-03T15:04:01.689Z"
   },
   {
    "duration": 0,
    "start_time": "2022-07-03T15:04:01.690Z"
   },
   {
    "duration": 0,
    "start_time": "2022-07-03T15:04:01.691Z"
   },
   {
    "duration": 0,
    "start_time": "2022-07-03T15:04:01.692Z"
   },
   {
    "duration": 0,
    "start_time": "2022-07-03T15:04:01.728Z"
   },
   {
    "duration": 13,
    "start_time": "2022-07-03T15:05:24.889Z"
   },
   {
    "duration": 21,
    "start_time": "2022-07-03T15:05:29.870Z"
   },
   {
    "duration": 16,
    "start_time": "2022-07-03T15:05:37.255Z"
   },
   {
    "duration": 15,
    "start_time": "2022-07-03T15:05:40.193Z"
   },
   {
    "duration": 13,
    "start_time": "2022-07-03T15:05:52.455Z"
   },
   {
    "duration": 16,
    "start_time": "2022-07-03T15:06:06.344Z"
   },
   {
    "duration": 13,
    "start_time": "2022-07-03T15:06:26.883Z"
   },
   {
    "duration": 12,
    "start_time": "2022-07-03T15:06:46.958Z"
   },
   {
    "duration": 12,
    "start_time": "2022-07-03T15:07:23.978Z"
   },
   {
    "duration": 16,
    "start_time": "2022-07-03T15:07:40.183Z"
   },
   {
    "duration": 14,
    "start_time": "2022-07-03T15:16:16.097Z"
   },
   {
    "duration": 18,
    "start_time": "2022-07-03T15:16:29.126Z"
   },
   {
    "duration": 14,
    "start_time": "2022-07-03T15:16:45.308Z"
   },
   {
    "duration": 17,
    "start_time": "2022-07-03T15:17:26.658Z"
   },
   {
    "duration": 19,
    "start_time": "2022-07-03T15:18:01.826Z"
   },
   {
    "duration": 11,
    "start_time": "2022-07-03T15:18:28.385Z"
   },
   {
    "duration": 21,
    "start_time": "2022-07-03T15:18:30.053Z"
   },
   {
    "duration": 17,
    "start_time": "2022-07-03T17:57:07.677Z"
   },
   {
    "duration": 18,
    "start_time": "2022-07-03T17:57:08.292Z"
   },
   {
    "duration": 4,
    "start_time": "2022-07-03T17:57:18.785Z"
   },
   {
    "duration": 321,
    "start_time": "2022-07-03T17:57:19.169Z"
   },
   {
    "duration": 12,
    "start_time": "2022-07-03T17:57:19.780Z"
   },
   {
    "duration": 12,
    "start_time": "2022-07-03T17:57:20.012Z"
   },
   {
    "duration": 20,
    "start_time": "2022-07-03T17:57:23.029Z"
   },
   {
    "duration": 56,
    "start_time": "2022-07-03T17:57:23.054Z"
   },
   {
    "duration": 31,
    "start_time": "2022-07-03T17:57:24.053Z"
   },
   {
    "duration": 50,
    "start_time": "2022-07-03T17:57:24.824Z"
   },
   {
    "duration": 37,
    "start_time": "2022-07-03T17:57:25.313Z"
   },
   {
    "duration": 33,
    "start_time": "2022-07-03T17:57:25.554Z"
   },
   {
    "duration": 78,
    "start_time": "2022-07-03T17:57:26.747Z"
   },
   {
    "duration": 630,
    "start_time": "2022-07-03T17:57:27.476Z"
   },
   {
    "duration": 36,
    "start_time": "2022-07-03T17:57:28.108Z"
   },
   {
    "duration": 11,
    "start_time": "2022-07-03T17:57:28.192Z"
   },
   {
    "duration": 41,
    "start_time": "2022-07-03T17:57:29.449Z"
   },
   {
    "duration": 357,
    "start_time": "2022-07-03T17:57:30.158Z"
   },
   {
    "duration": 30,
    "start_time": "2022-07-03T17:57:30.618Z"
   },
   {
    "duration": 16,
    "start_time": "2022-07-03T17:57:30.917Z"
   },
   {
    "duration": 48,
    "start_time": "2022-07-03T17:57:32.269Z"
   },
   {
    "duration": 557,
    "start_time": "2022-07-03T17:57:33.053Z"
   },
   {
    "duration": 20,
    "start_time": "2022-07-03T17:57:33.868Z"
   },
   {
    "duration": 68,
    "start_time": "2022-07-03T17:57:34.415Z"
   },
   {
    "duration": 38,
    "start_time": "2022-07-03T17:57:34.688Z"
   },
   {
    "duration": 27,
    "start_time": "2022-07-03T17:57:34.958Z"
   },
   {
    "duration": 61,
    "start_time": "2022-07-03T17:57:35.196Z"
   },
   {
    "duration": 40,
    "start_time": "2022-07-03T17:57:35.724Z"
   },
   {
    "duration": 96,
    "start_time": "2022-07-03T17:57:36.015Z"
   },
   {
    "duration": 14,
    "start_time": "2022-07-03T17:57:36.293Z"
   },
   {
    "duration": 17,
    "start_time": "2022-07-03T17:57:36.580Z"
   },
   {
    "duration": 58,
    "start_time": "2022-07-03T17:57:37.073Z"
   },
   {
    "duration": 36,
    "start_time": "2022-07-03T17:59:53.410Z"
   },
   {
    "duration": 73,
    "start_time": "2022-07-03T18:00:23.221Z"
   },
   {
    "duration": 19,
    "start_time": "2022-07-03T18:00:25.956Z"
   },
   {
    "duration": 38,
    "start_time": "2022-07-03T18:00:26.289Z"
   },
   {
    "duration": 22,
    "start_time": "2022-07-03T18:00:46.813Z"
   },
   {
    "duration": 18,
    "start_time": "2022-07-03T18:02:40.108Z"
   },
   {
    "duration": 57,
    "start_time": "2022-07-03T18:02:43.894Z"
   },
   {
    "duration": 36,
    "start_time": "2022-07-03T18:02:51.253Z"
   },
   {
    "duration": 12,
    "start_time": "2022-07-03T18:02:59.290Z"
   },
   {
    "duration": 4,
    "start_time": "2022-07-03T18:03:11.557Z"
   },
   {
    "duration": 12,
    "start_time": "2022-07-03T18:04:04.247Z"
   },
   {
    "duration": 13,
    "start_time": "2022-07-03T18:04:16.202Z"
   },
   {
    "duration": 10,
    "start_time": "2022-07-03T18:04:23.566Z"
   },
   {
    "duration": 10,
    "start_time": "2022-07-03T18:04:39.283Z"
   },
   {
    "duration": 11,
    "start_time": "2022-07-03T18:04:47.282Z"
   },
   {
    "duration": 14,
    "start_time": "2022-07-03T18:05:00.086Z"
   },
   {
    "duration": 1359,
    "start_time": "2022-07-03T18:05:16.954Z"
   },
   {
    "duration": 397,
    "start_time": "2022-07-03T18:05:18.320Z"
   },
   {
    "duration": 18,
    "start_time": "2022-07-03T18:05:18.719Z"
   },
   {
    "duration": 35,
    "start_time": "2022-07-03T18:05:18.743Z"
   },
   {
    "duration": 12,
    "start_time": "2022-07-03T18:05:20.412Z"
   },
   {
    "duration": 12,
    "start_time": "2022-07-03T18:05:20.612Z"
   },
   {
    "duration": 36,
    "start_time": "2022-07-03T18:05:21.797Z"
   },
   {
    "duration": 40,
    "start_time": "2022-07-03T18:05:22.536Z"
   },
   {
    "duration": 34,
    "start_time": "2022-07-03T18:05:22.915Z"
   },
   {
    "duration": 28,
    "start_time": "2022-07-03T18:05:23.152Z"
   },
   {
    "duration": 73,
    "start_time": "2022-07-03T18:05:24.294Z"
   },
   {
    "duration": 626,
    "start_time": "2022-07-03T18:05:24.974Z"
   },
   {
    "duration": 27,
    "start_time": "2022-07-03T18:05:25.602Z"
   },
   {
    "duration": 9,
    "start_time": "2022-07-03T18:05:25.686Z"
   },
   {
    "duration": 41,
    "start_time": "2022-07-03T18:05:27.176Z"
   },
   {
    "duration": 338,
    "start_time": "2022-07-03T18:05:28.079Z"
   },
   {
    "duration": 20,
    "start_time": "2022-07-03T18:05:28.582Z"
   },
   {
    "duration": 14,
    "start_time": "2022-07-03T18:05:28.821Z"
   },
   {
    "duration": 51,
    "start_time": "2022-07-03T18:05:30.356Z"
   },
   {
    "duration": 444,
    "start_time": "2022-07-03T18:05:32.510Z"
   },
   {
    "duration": 20,
    "start_time": "2022-07-03T18:05:33.682Z"
   },
   {
    "duration": 57,
    "start_time": "2022-07-03T18:05:34.888Z"
   },
   {
    "duration": 57,
    "start_time": "2022-07-03T18:05:35.520Z"
   },
   {
    "duration": 30,
    "start_time": "2022-07-03T18:05:35.792Z"
   },
   {
    "duration": 43,
    "start_time": "2022-07-03T18:05:36.017Z"
   },
   {
    "duration": 31,
    "start_time": "2022-07-03T18:05:37.159Z"
   },
   {
    "duration": 74,
    "start_time": "2022-07-03T18:05:37.732Z"
   },
   {
    "duration": 57,
    "start_time": "2022-07-03T18:09:13.093Z"
   },
   {
    "duration": 10,
    "start_time": "2022-07-03T18:09:13.992Z"
   },
   {
    "duration": 30,
    "start_time": "2022-07-03T18:09:15.376Z"
   },
   {
    "duration": 118,
    "start_time": "2022-07-03T18:09:21.451Z"
   },
   {
    "duration": 67,
    "start_time": "2022-07-03T18:10:01.891Z"
   },
   {
    "duration": 497,
    "start_time": "2022-07-03T18:11:33.522Z"
   },
   {
    "duration": 14,
    "start_time": "2022-07-03T18:11:39.314Z"
   },
   {
    "duration": 14,
    "start_time": "2022-07-03T18:11:44.122Z"
   },
   {
    "duration": 22,
    "start_time": "2022-07-03T18:12:21.152Z"
   },
   {
    "duration": 19,
    "start_time": "2022-07-03T18:12:39.305Z"
   },
   {
    "duration": 3,
    "start_time": "2022-07-03T18:12:53.411Z"
   },
   {
    "duration": 358,
    "start_time": "2022-07-03T18:12:53.790Z"
   },
   {
    "duration": 15,
    "start_time": "2022-07-03T18:12:54.355Z"
   },
   {
    "duration": 14,
    "start_time": "2022-07-03T18:12:54.570Z"
   },
   {
    "duration": 22,
    "start_time": "2022-07-03T18:12:56.518Z"
   },
   {
    "duration": 15,
    "start_time": "2022-07-03T18:12:56.750Z"
   },
   {
    "duration": 44,
    "start_time": "2022-07-03T18:12:58.127Z"
   },
   {
    "duration": 41,
    "start_time": "2022-07-03T18:12:59.424Z"
   },
   {
    "duration": 38,
    "start_time": "2022-07-03T18:13:00.190Z"
   },
   {
    "duration": 48,
    "start_time": "2022-07-03T18:13:00.493Z"
   },
   {
    "duration": 70,
    "start_time": "2022-07-03T18:13:03.406Z"
   },
   {
    "duration": 770,
    "start_time": "2022-07-03T18:13:04.662Z"
   },
   {
    "duration": 17,
    "start_time": "2022-07-03T18:13:05.555Z"
   },
   {
    "duration": 10,
    "start_time": "2022-07-03T18:13:05.790Z"
   },
   {
    "duration": 40,
    "start_time": "2022-07-03T18:13:07.534Z"
   },
   {
    "duration": 468,
    "start_time": "2022-07-03T18:13:08.856Z"
   },
   {
    "duration": 36,
    "start_time": "2022-07-03T18:13:09.898Z"
   },
   {
    "duration": 11,
    "start_time": "2022-07-03T18:13:10.457Z"
   },
   {
    "duration": 72,
    "start_time": "2022-07-03T18:13:11.890Z"
   },
   {
    "duration": 440,
    "start_time": "2022-07-03T18:13:13.063Z"
   },
   {
    "duration": 24,
    "start_time": "2022-07-03T18:13:15.657Z"
   },
   {
    "duration": 63,
    "start_time": "2022-07-03T18:13:16.727Z"
   },
   {
    "duration": 61,
    "start_time": "2022-07-03T18:13:17.493Z"
   },
   {
    "duration": 38,
    "start_time": "2022-07-03T18:13:22.634Z"
   },
   {
    "duration": 38,
    "start_time": "2022-07-03T18:13:23.401Z"
   },
   {
    "duration": 44,
    "start_time": "2022-07-03T18:13:27.605Z"
   },
   {
    "duration": 66,
    "start_time": "2022-07-03T18:13:31.801Z"
   },
   {
    "duration": 16,
    "start_time": "2022-07-03T18:13:33.893Z"
   },
   {
    "duration": 36,
    "start_time": "2022-07-03T18:13:34.459Z"
   },
   {
    "duration": 14,
    "start_time": "2022-07-03T18:13:34.595Z"
   },
   {
    "duration": 16,
    "start_time": "2022-07-03T18:13:41.890Z"
   },
   {
    "duration": 28,
    "start_time": "2022-07-03T18:19:06.417Z"
   },
   {
    "duration": 18,
    "start_time": "2022-07-03T18:19:11.905Z"
   },
   {
    "duration": 10,
    "start_time": "2022-07-03T18:20:18.567Z"
   },
   {
    "duration": 69,
    "start_time": "2022-07-03T18:20:20.430Z"
   },
   {
    "duration": 27,
    "start_time": "2022-07-03T18:20:38.212Z"
   },
   {
    "duration": 16,
    "start_time": "2022-07-03T18:20:55.025Z"
   },
   {
    "duration": 27,
    "start_time": "2022-07-03T18:20:56.151Z"
   },
   {
    "duration": 1319,
    "start_time": "2022-07-04T01:09:48.049Z"
   },
   {
    "duration": 673,
    "start_time": "2022-07-04T01:09:49.370Z"
   },
   {
    "duration": 19,
    "start_time": "2022-07-04T01:09:50.045Z"
   },
   {
    "duration": 57,
    "start_time": "2022-07-04T01:09:50.065Z"
   },
   {
    "duration": 10,
    "start_time": "2022-07-04T01:09:50.992Z"
   },
   {
    "duration": 10,
    "start_time": "2022-07-04T01:09:51.190Z"
   },
   {
    "duration": 34,
    "start_time": "2022-07-04T01:09:52.172Z"
   },
   {
    "duration": 36,
    "start_time": "2022-07-04T01:09:52.744Z"
   },
   {
    "duration": 18,
    "start_time": "2022-07-04T01:09:53.117Z"
   },
   {
    "duration": 21,
    "start_time": "2022-07-04T01:09:53.307Z"
   },
   {
    "duration": 50,
    "start_time": "2022-07-04T01:09:54.292Z"
   },
   {
    "duration": 590,
    "start_time": "2022-07-04T01:09:54.884Z"
   },
   {
    "duration": 24,
    "start_time": "2022-07-04T01:09:55.486Z"
   },
   {
    "duration": 18,
    "start_time": "2022-07-04T01:09:55.512Z"
   },
   {
    "duration": 33,
    "start_time": "2022-07-04T01:09:56.535Z"
   },
   {
    "duration": 310,
    "start_time": "2022-07-04T01:09:57.151Z"
   },
   {
    "duration": 23,
    "start_time": "2022-07-04T01:09:57.579Z"
   },
   {
    "duration": 10,
    "start_time": "2022-07-04T01:09:57.789Z"
   },
   {
    "duration": 51,
    "start_time": "2022-07-04T01:09:59.278Z"
   },
   {
    "duration": 481,
    "start_time": "2022-07-04T01:10:00.781Z"
   },
   {
    "duration": 19,
    "start_time": "2022-07-04T01:10:01.413Z"
   },
   {
    "duration": 44,
    "start_time": "2022-07-04T01:10:01.883Z"
   },
   {
    "duration": 42,
    "start_time": "2022-07-04T01:10:02.108Z"
   },
   {
    "duration": 26,
    "start_time": "2022-07-04T01:10:02.337Z"
   },
   {
    "duration": 46,
    "start_time": "2022-07-04T01:10:02.571Z"
   },
   {
    "duration": 30,
    "start_time": "2022-07-04T01:10:03.674Z"
   },
   {
    "duration": 52,
    "start_time": "2022-07-04T01:10:04.811Z"
   },
   {
    "duration": 9,
    "start_time": "2022-07-04T01:10:05.789Z"
   },
   {
    "duration": 55,
    "start_time": "2022-07-04T01:11:10.841Z"
   },
   {
    "duration": 31,
    "start_time": "2022-07-04T01:11:27.533Z"
   },
   {
    "duration": 31,
    "start_time": "2022-07-04T01:11:31.719Z"
   },
   {
    "duration": 107,
    "start_time": "2022-07-04T01:13:07.803Z"
   },
   {
    "duration": 6,
    "start_time": "2022-07-04T01:13:13.781Z"
   },
   {
    "duration": 9,
    "start_time": "2022-07-04T01:13:22.423Z"
   },
   {
    "duration": 14,
    "start_time": "2022-07-04T01:13:23.183Z"
   },
   {
    "duration": 9,
    "start_time": "2022-07-04T01:13:23.402Z"
   },
   {
    "duration": 1142,
    "start_time": "2022-07-04T01:13:40.891Z"
   },
   {
    "duration": 363,
    "start_time": "2022-07-04T01:13:42.035Z"
   },
   {
    "duration": 15,
    "start_time": "2022-07-04T01:13:42.400Z"
   },
   {
    "duration": 17,
    "start_time": "2022-07-04T01:13:42.417Z"
   },
   {
    "duration": 13,
    "start_time": "2022-07-04T01:13:43.893Z"
   },
   {
    "duration": 11,
    "start_time": "2022-07-04T01:13:44.424Z"
   },
   {
    "duration": 46,
    "start_time": "2022-07-04T01:13:45.499Z"
   },
   {
    "duration": 40,
    "start_time": "2022-07-04T01:13:46.124Z"
   },
   {
    "duration": 38,
    "start_time": "2022-07-04T01:13:46.549Z"
   },
   {
    "duration": 49,
    "start_time": "2022-07-04T01:13:46.771Z"
   },
   {
    "duration": 63,
    "start_time": "2022-07-04T01:13:47.826Z"
   },
   {
    "duration": 594,
    "start_time": "2022-07-04T01:13:48.498Z"
   },
   {
    "duration": 20,
    "start_time": "2022-07-04T01:13:49.093Z"
   },
   {
    "duration": 32,
    "start_time": "2022-07-04T01:13:49.158Z"
   },
   {
    "duration": 30,
    "start_time": "2022-07-04T01:13:50.291Z"
   },
   {
    "duration": 357,
    "start_time": "2022-07-04T01:13:50.887Z"
   },
   {
    "duration": 28,
    "start_time": "2022-07-04T01:13:51.378Z"
   },
   {
    "duration": 10,
    "start_time": "2022-07-04T01:13:51.520Z"
   },
   {
    "duration": 54,
    "start_time": "2022-07-04T01:13:52.622Z"
   },
   {
    "duration": 457,
    "start_time": "2022-07-04T01:13:53.270Z"
   },
   {
    "duration": 22,
    "start_time": "2022-07-04T01:13:54.518Z"
   },
   {
    "duration": 49,
    "start_time": "2022-07-04T01:13:55.295Z"
   },
   {
    "duration": 54,
    "start_time": "2022-07-04T01:13:55.959Z"
   },
   {
    "duration": 37,
    "start_time": "2022-07-04T01:13:56.166Z"
   },
   {
    "duration": 35,
    "start_time": "2022-07-04T01:13:56.392Z"
   },
   {
    "duration": 31,
    "start_time": "2022-07-04T01:13:56.845Z"
   },
   {
    "duration": 60,
    "start_time": "2022-07-04T01:13:57.140Z"
   },
   {
    "duration": 19,
    "start_time": "2022-07-04T01:13:57.375Z"
   },
   {
    "duration": 26,
    "start_time": "2022-07-04T01:13:58.026Z"
   },
   {
    "duration": 53,
    "start_time": "2022-07-04T01:13:58.232Z"
   },
   {
    "duration": 38,
    "start_time": "2022-07-04T01:13:59.036Z"
   },
   {
    "duration": 111,
    "start_time": "2022-07-04T01:14:06.685Z"
   },
   {
    "duration": 9,
    "start_time": "2022-07-04T01:14:28.496Z"
   },
   {
    "duration": 10,
    "start_time": "2022-07-04T01:14:51.310Z"
   },
   {
    "duration": 10,
    "start_time": "2022-07-04T01:36:28.832Z"
   },
   {
    "duration": 13,
    "start_time": "2022-07-04T01:40:27.541Z"
   },
   {
    "duration": 13,
    "start_time": "2022-07-04T01:40:36.145Z"
   },
   {
    "duration": 9,
    "start_time": "2022-07-04T01:40:44.927Z"
   },
   {
    "duration": 9,
    "start_time": "2022-07-04T01:40:56.105Z"
   },
   {
    "duration": 10,
    "start_time": "2022-07-04T01:42:00.319Z"
   },
   {
    "duration": 11,
    "start_time": "2022-07-04T01:42:23.302Z"
   },
   {
    "duration": 10,
    "start_time": "2022-07-04T01:43:29.722Z"
   },
   {
    "duration": 18,
    "start_time": "2022-07-04T01:43:40.179Z"
   },
   {
    "duration": 11,
    "start_time": "2022-07-04T01:43:57.732Z"
   },
   {
    "duration": 11,
    "start_time": "2022-07-04T01:47:19.451Z"
   },
   {
    "duration": 9,
    "start_time": "2022-07-04T01:48:57.503Z"
   },
   {
    "duration": 11,
    "start_time": "2022-07-04T01:49:15.838Z"
   },
   {
    "duration": 11,
    "start_time": "2022-07-04T01:49:20.804Z"
   },
   {
    "duration": 17,
    "start_time": "2022-07-04T01:49:40.441Z"
   },
   {
    "duration": 16,
    "start_time": "2022-07-04T01:55:52.648Z"
   },
   {
    "duration": 10,
    "start_time": "2022-07-04T01:57:55.577Z"
   },
   {
    "duration": 9,
    "start_time": "2022-07-04T01:58:29.680Z"
   },
   {
    "duration": 4,
    "start_time": "2022-07-04T01:58:42.684Z"
   },
   {
    "duration": 8,
    "start_time": "2022-07-04T01:58:43.490Z"
   },
   {
    "duration": 16,
    "start_time": "2022-07-04T01:58:43.851Z"
   },
   {
    "duration": 9,
    "start_time": "2022-07-04T01:58:44.082Z"
   },
   {
    "duration": 8,
    "start_time": "2022-07-04T01:58:44.392Z"
   },
   {
    "duration": 8,
    "start_time": "2022-07-04T01:58:44.676Z"
   },
   {
    "duration": 3,
    "start_time": "2022-07-04T01:58:44.895Z"
   },
   {
    "duration": 8,
    "start_time": "2022-07-04T01:58:50.714Z"
   },
   {
    "duration": 12,
    "start_time": "2022-07-04T02:01:04.071Z"
   },
   {
    "duration": 9,
    "start_time": "2022-07-04T02:01:10.995Z"
   },
   {
    "duration": 1239,
    "start_time": "2022-07-05T03:13:25.571Z"
   },
   {
    "duration": 529,
    "start_time": "2022-07-05T03:13:26.812Z"
   },
   {
    "duration": 12,
    "start_time": "2022-07-05T03:13:27.343Z"
   },
   {
    "duration": 13,
    "start_time": "2022-07-05T03:13:27.530Z"
   },
   {
    "duration": 11,
    "start_time": "2022-07-05T03:13:31.150Z"
   },
   {
    "duration": 10,
    "start_time": "2022-07-05T03:13:31.535Z"
   },
   {
    "duration": 25,
    "start_time": "2022-07-05T03:13:33.470Z"
   },
   {
    "duration": 32,
    "start_time": "2022-07-05T03:13:34.566Z"
   },
   {
    "duration": 21,
    "start_time": "2022-07-05T03:13:35.509Z"
   },
   {
    "duration": 25,
    "start_time": "2022-07-05T03:13:35.873Z"
   },
   {
    "duration": 53,
    "start_time": "2022-07-05T03:13:38.232Z"
   },
   {
    "duration": 455,
    "start_time": "2022-07-05T03:13:39.276Z"
   },
   {
    "duration": 17,
    "start_time": "2022-07-05T03:13:39.996Z"
   },
   {
    "duration": 7,
    "start_time": "2022-07-05T03:13:40.343Z"
   },
   {
    "duration": 27,
    "start_time": "2022-07-05T03:13:42.779Z"
   },
   {
    "duration": 282,
    "start_time": "2022-07-05T03:13:44.110Z"
   },
   {
    "duration": 19,
    "start_time": "2022-07-05T03:13:45.012Z"
   },
   {
    "duration": 9,
    "start_time": "2022-07-05T03:13:45.509Z"
   },
   {
    "duration": 45,
    "start_time": "2022-07-05T03:13:48.275Z"
   },
   {
    "duration": 367,
    "start_time": "2022-07-05T03:13:49.410Z"
   },
   {
    "duration": 23,
    "start_time": "2022-07-05T03:13:50.621Z"
   },
   {
    "duration": 41,
    "start_time": "2022-07-05T03:13:51.629Z"
   },
   {
    "duration": 39,
    "start_time": "2022-07-05T03:13:52.065Z"
   },
   {
    "duration": 23,
    "start_time": "2022-07-05T03:13:52.547Z"
   },
   {
    "duration": 28,
    "start_time": "2022-07-05T03:13:53.510Z"
   },
   {
    "duration": 22,
    "start_time": "2022-07-05T03:13:54.705Z"
   },
   {
    "duration": 47,
    "start_time": "2022-07-05T03:13:55.483Z"
   },
   {
    "duration": 12,
    "start_time": "2022-07-05T03:13:57.227Z"
   },
   {
    "duration": 25,
    "start_time": "2022-07-05T03:13:58.597Z"
   },
   {
    "duration": 37,
    "start_time": "2022-07-05T03:14:00.406Z"
   },
   {
    "duration": 3,
    "start_time": "2022-07-05T03:14:02.013Z"
   },
   {
    "duration": 90,
    "start_time": "2022-07-05T03:14:02.762Z"
   },
   {
    "duration": 9,
    "start_time": "2022-07-05T03:14:22.859Z"
   },
   {
    "duration": 3,
    "start_time": "2022-07-05T03:17:05.011Z"
   },
   {
    "duration": 9,
    "start_time": "2022-07-05T03:17:10.208Z"
   },
   {
    "duration": 4,
    "start_time": "2022-07-05T03:17:16.838Z"
   },
   {
    "duration": 1133,
    "start_time": "2022-07-05T03:17:56.336Z"
   },
   {
    "duration": 250,
    "start_time": "2022-07-05T03:17:58.660Z"
   },
   {
    "duration": 16,
    "start_time": "2022-07-05T03:17:59.819Z"
   },
   {
    "duration": 14,
    "start_time": "2022-07-05T03:18:00.365Z"
   },
   {
    "duration": 11,
    "start_time": "2022-07-05T03:18:02.844Z"
   },
   {
    "duration": 10,
    "start_time": "2022-07-05T03:18:03.250Z"
   },
   {
    "duration": 29,
    "start_time": "2022-07-05T03:18:04.431Z"
   },
   {
    "duration": 28,
    "start_time": "2022-07-05T03:18:05.138Z"
   },
   {
    "duration": 20,
    "start_time": "2022-07-05T03:18:05.622Z"
   },
   {
    "duration": 24,
    "start_time": "2022-07-05T03:18:05.862Z"
   },
   {
    "duration": 70,
    "start_time": "2022-07-05T03:18:07.087Z"
   },
   {
    "duration": 513,
    "start_time": "2022-07-05T03:18:07.799Z"
   },
   {
    "duration": 19,
    "start_time": "2022-07-05T03:18:08.314Z"
   },
   {
    "duration": 7,
    "start_time": "2022-07-05T03:18:08.544Z"
   },
   {
    "duration": 30,
    "start_time": "2022-07-05T03:18:09.821Z"
   },
   {
    "duration": 280,
    "start_time": "2022-07-05T03:18:10.551Z"
   },
   {
    "duration": 18,
    "start_time": "2022-07-05T03:18:11.033Z"
   },
   {
    "duration": 8,
    "start_time": "2022-07-05T03:18:11.498Z"
   },
   {
    "duration": 42,
    "start_time": "2022-07-05T03:18:13.021Z"
   },
   {
    "duration": 396,
    "start_time": "2022-07-05T03:18:14.003Z"
   },
   {
    "duration": 15,
    "start_time": "2022-07-05T03:18:15.456Z"
   },
   {
    "duration": 35,
    "start_time": "2022-07-05T03:18:15.972Z"
   },
   {
    "duration": 42,
    "start_time": "2022-07-05T03:18:16.540Z"
   },
   {
    "duration": 24,
    "start_time": "2022-07-05T03:18:16.778Z"
   },
   {
    "duration": 28,
    "start_time": "2022-07-05T03:18:17.288Z"
   },
   {
    "duration": 22,
    "start_time": "2022-07-05T03:18:18.130Z"
   },
   {
    "duration": 49,
    "start_time": "2022-07-05T03:18:18.633Z"
   },
   {
    "duration": 9,
    "start_time": "2022-07-05T03:18:18.957Z"
   },
   {
    "duration": 25,
    "start_time": "2022-07-05T03:18:20.649Z"
   },
   {
    "duration": 40,
    "start_time": "2022-07-05T03:18:21.979Z"
   },
   {
    "duration": 19,
    "start_time": "2022-07-05T03:18:22.278Z"
   },
   {
    "duration": 4,
    "start_time": "2022-07-05T03:18:23.669Z"
   },
   {
    "duration": 102,
    "start_time": "2022-07-05T03:18:24.460Z"
   },
   {
    "duration": 4,
    "start_time": "2022-07-05T03:18:52.246Z"
   },
   {
    "duration": 25,
    "start_time": "2022-07-05T03:19:17.100Z"
   },
   {
    "duration": 8,
    "start_time": "2022-07-05T03:19:34.028Z"
   },
   {
    "duration": 8,
    "start_time": "2022-07-05T03:19:59.163Z"
   },
   {
    "duration": 23,
    "start_time": "2022-07-05T03:20:32.628Z"
   },
   {
    "duration": 1388,
    "start_time": "2022-07-05T21:03:55.077Z"
   },
   {
    "duration": 564,
    "start_time": "2022-07-05T21:03:56.467Z"
   },
   {
    "duration": 14,
    "start_time": "2022-07-05T21:03:57.033Z"
   },
   {
    "duration": 32,
    "start_time": "2022-07-05T21:03:57.050Z"
   },
   {
    "duration": 17,
    "start_time": "2022-07-05T21:03:58.589Z"
   },
   {
    "duration": 11,
    "start_time": "2022-07-05T21:03:58.792Z"
   },
   {
    "duration": 35,
    "start_time": "2022-07-05T21:03:59.771Z"
   },
   {
    "duration": 33,
    "start_time": "2022-07-05T21:04:00.363Z"
   },
   {
    "duration": 35,
    "start_time": "2022-07-05T21:04:00.768Z"
   },
   {
    "duration": 34,
    "start_time": "2022-07-05T21:04:00.966Z"
   },
   {
    "duration": 79,
    "start_time": "2022-07-05T21:04:02.006Z"
   },
   {
    "duration": 560,
    "start_time": "2022-07-05T21:04:02.632Z"
   },
   {
    "duration": 17,
    "start_time": "2022-07-05T21:04:03.194Z"
   },
   {
    "duration": 12,
    "start_time": "2022-07-05T21:04:03.253Z"
   },
   {
    "duration": 32,
    "start_time": "2022-07-05T21:04:04.360Z"
   },
   {
    "duration": 319,
    "start_time": "2022-07-05T21:04:05.324Z"
   },
   {
    "duration": 31,
    "start_time": "2022-07-05T21:04:05.765Z"
   },
   {
    "duration": 13,
    "start_time": "2022-07-05T21:04:05.968Z"
   },
   {
    "duration": 71,
    "start_time": "2022-07-05T21:04:06.931Z"
   },
   {
    "duration": 413,
    "start_time": "2022-07-05T21:04:07.502Z"
   },
   {
    "duration": 19,
    "start_time": "2022-07-05T21:04:12.874Z"
   },
   {
    "duration": 41,
    "start_time": "2022-07-05T21:04:13.459Z"
   },
   {
    "duration": 44,
    "start_time": "2022-07-05T21:04:13.812Z"
   },
   {
    "duration": 23,
    "start_time": "2022-07-05T21:04:14.169Z"
   },
   {
    "duration": 44,
    "start_time": "2022-07-05T21:04:14.442Z"
   },
   {
    "duration": 26,
    "start_time": "2022-07-05T21:04:14.934Z"
   },
   {
    "duration": 55,
    "start_time": "2022-07-05T21:04:15.198Z"
   },
   {
    "duration": 16,
    "start_time": "2022-07-05T21:04:15.386Z"
   },
   {
    "duration": 35,
    "start_time": "2022-07-05T21:04:15.625Z"
   },
   {
    "duration": 41,
    "start_time": "2022-07-05T21:04:16.260Z"
   },
   {
    "duration": 14,
    "start_time": "2022-07-05T21:04:17.390Z"
   },
   {
    "duration": 5,
    "start_time": "2022-07-05T21:04:22.729Z"
   },
   {
    "duration": 38,
    "start_time": "2022-07-05T21:04:23.316Z"
   },
   {
    "duration": 31,
    "start_time": "2022-07-05T21:04:33.239Z"
   },
   {
    "duration": 7,
    "start_time": "2022-07-05T21:04:41.576Z"
   },
   {
    "duration": 11,
    "start_time": "2022-07-05T21:04:44.364Z"
   },
   {
    "duration": 34,
    "start_time": "2022-07-05T21:05:12.529Z"
   },
   {
    "duration": 110,
    "start_time": "2022-07-05T21:05:57.276Z"
   },
   {
    "duration": 9,
    "start_time": "2022-07-05T21:05:57.802Z"
   },
   {
    "duration": 1246,
    "start_time": "2022-07-05T21:07:18.334Z"
   },
   {
    "duration": 276,
    "start_time": "2022-07-05T21:07:19.583Z"
   },
   {
    "duration": 18,
    "start_time": "2022-07-05T21:07:19.861Z"
   },
   {
    "duration": 20,
    "start_time": "2022-07-05T21:07:19.882Z"
   },
   {
    "duration": 12,
    "start_time": "2022-07-05T21:07:21.842Z"
   },
   {
    "duration": 10,
    "start_time": "2022-07-05T21:07:22.072Z"
   },
   {
    "duration": 35,
    "start_time": "2022-07-05T21:07:23.124Z"
   },
   {
    "duration": 32,
    "start_time": "2022-07-05T21:07:23.744Z"
   },
   {
    "duration": 20,
    "start_time": "2022-07-05T21:07:24.179Z"
   },
   {
    "duration": 37,
    "start_time": "2022-07-05T21:07:24.398Z"
   },
   {
    "duration": 85,
    "start_time": "2022-07-05T21:07:25.514Z"
   },
   {
    "duration": 552,
    "start_time": "2022-07-05T21:07:26.248Z"
   },
   {
    "duration": 19,
    "start_time": "2022-07-05T21:07:26.802Z"
   },
   {
    "duration": 10,
    "start_time": "2022-07-05T21:07:27.015Z"
   },
   {
    "duration": 34,
    "start_time": "2022-07-05T21:07:28.641Z"
   },
   {
    "duration": 339,
    "start_time": "2022-07-05T21:07:29.415Z"
   },
   {
    "duration": 18,
    "start_time": "2022-07-05T21:07:30.347Z"
   },
   {
    "duration": 9,
    "start_time": "2022-07-05T21:07:30.575Z"
   },
   {
    "duration": 49,
    "start_time": "2022-07-05T21:07:31.942Z"
   },
   {
    "duration": 429,
    "start_time": "2022-07-05T21:07:32.589Z"
   },
   {
    "duration": 18,
    "start_time": "2022-07-05T21:07:33.304Z"
   },
   {
    "duration": 42,
    "start_time": "2022-07-05T21:07:33.770Z"
   },
   {
    "duration": 42,
    "start_time": "2022-07-05T21:07:34.017Z"
   },
   {
    "duration": 22,
    "start_time": "2022-07-05T21:07:34.229Z"
   },
   {
    "duration": 35,
    "start_time": "2022-07-05T21:07:34.445Z"
   },
   {
    "duration": 23,
    "start_time": "2022-07-05T21:07:34.898Z"
   },
   {
    "duration": 50,
    "start_time": "2022-07-05T21:07:35.131Z"
   },
   {
    "duration": 12,
    "start_time": "2022-07-05T21:07:35.359Z"
   },
   {
    "duration": 29,
    "start_time": "2022-07-05T21:07:35.586Z"
   },
   {
    "duration": 42,
    "start_time": "2022-07-05T21:07:35.985Z"
   },
   {
    "duration": 15,
    "start_time": "2022-07-05T21:07:36.283Z"
   },
   {
    "duration": 4,
    "start_time": "2022-07-05T21:07:36.549Z"
   },
   {
    "duration": 26,
    "start_time": "2022-07-05T21:07:37.546Z"
   },
   {
    "duration": 25,
    "start_time": "2022-07-05T21:07:38.174Z"
   },
   {
    "duration": 5,
    "start_time": "2022-07-05T21:07:42.584Z"
   },
   {
    "duration": 8,
    "start_time": "2022-07-05T21:07:43.651Z"
   },
   {
    "duration": 24,
    "start_time": "2022-07-05T21:07:44.467Z"
   },
   {
    "duration": 23,
    "start_time": "2022-07-05T21:10:31.784Z"
   },
   {
    "duration": 23,
    "start_time": "2022-07-05T21:12:11.534Z"
   },
   {
    "duration": 131,
    "start_time": "2022-07-05T21:12:12.152Z"
   },
   {
    "duration": 8,
    "start_time": "2022-07-05T21:12:12.520Z"
   },
   {
    "duration": 21,
    "start_time": "2022-07-05T21:12:12.960Z"
   },
   {
    "duration": 25,
    "start_time": "2022-07-05T21:12:12.984Z"
   },
   {
    "duration": 4,
    "start_time": "2022-07-05T21:19:39.292Z"
   },
   {
    "duration": 389,
    "start_time": "2022-07-05T21:19:40.045Z"
   },
   {
    "duration": 14,
    "start_time": "2022-07-05T21:19:40.811Z"
   },
   {
    "duration": 13,
    "start_time": "2022-07-05T21:19:41.096Z"
   },
   {
    "duration": 15,
    "start_time": "2022-07-05T21:19:44.223Z"
   },
   {
    "duration": 14,
    "start_time": "2022-07-05T21:19:44.527Z"
   },
   {
    "duration": 40,
    "start_time": "2022-07-05T21:19:46.117Z"
   },
   {
    "duration": 32,
    "start_time": "2022-07-05T21:19:47.100Z"
   },
   {
    "duration": 21,
    "start_time": "2022-07-05T21:19:47.681Z"
   },
   {
    "duration": 33,
    "start_time": "2022-07-05T21:19:47.940Z"
   },
   {
    "duration": 75,
    "start_time": "2022-07-05T21:19:49.608Z"
   },
   {
    "duration": 634,
    "start_time": "2022-07-05T21:19:50.683Z"
   },
   {
    "duration": 35,
    "start_time": "2022-07-05T21:19:51.320Z"
   },
   {
    "duration": 13,
    "start_time": "2022-07-05T21:19:51.499Z"
   },
   {
    "duration": 37,
    "start_time": "2022-07-05T21:19:52.823Z"
   },
   {
    "duration": 367,
    "start_time": "2022-07-05T21:19:53.653Z"
   },
   {
    "duration": 18,
    "start_time": "2022-07-05T21:19:54.216Z"
   },
   {
    "duration": 10,
    "start_time": "2022-07-05T21:19:54.857Z"
   },
   {
    "duration": 53,
    "start_time": "2022-07-05T21:19:56.831Z"
   },
   {
    "duration": 487,
    "start_time": "2022-07-05T21:19:57.969Z"
   },
   {
    "duration": 26,
    "start_time": "2022-07-05T21:19:58.912Z"
   },
   {
    "duration": 40,
    "start_time": "2022-07-05T21:19:59.451Z"
   },
   {
    "duration": 39,
    "start_time": "2022-07-05T21:19:59.697Z"
   },
   {
    "duration": 32,
    "start_time": "2022-07-05T21:19:59.928Z"
   },
   {
    "duration": 35,
    "start_time": "2022-07-05T21:20:00.141Z"
   },
   {
    "duration": 38,
    "start_time": "2022-07-05T21:20:00.777Z"
   },
   {
    "duration": 67,
    "start_time": "2022-07-05T21:20:01.274Z"
   },
   {
    "duration": 15,
    "start_time": "2022-07-05T21:20:01.533Z"
   },
   {
    "duration": 35,
    "start_time": "2022-07-05T21:20:01.745Z"
   },
   {
    "duration": 44,
    "start_time": "2022-07-05T21:20:01.977Z"
   },
   {
    "duration": 15,
    "start_time": "2022-07-05T21:20:02.222Z"
   },
   {
    "duration": 4,
    "start_time": "2022-07-05T21:20:02.466Z"
   },
   {
    "duration": 33,
    "start_time": "2022-07-05T21:20:06.113Z"
   },
   {
    "duration": 32,
    "start_time": "2022-07-05T21:20:19.016Z"
   },
   {
    "duration": 7,
    "start_time": "2022-07-05T21:20:25.893Z"
   },
   {
    "duration": 13,
    "start_time": "2022-07-05T21:20:28.661Z"
   },
   {
    "duration": 21,
    "start_time": "2022-07-05T21:20:29.694Z"
   },
   {
    "duration": 3,
    "start_time": "2022-07-05T21:21:18.000Z"
   },
   {
    "duration": 338,
    "start_time": "2022-07-05T21:21:18.584Z"
   },
   {
    "duration": 15,
    "start_time": "2022-07-05T21:21:19.223Z"
   },
   {
    "duration": 11,
    "start_time": "2022-07-05T21:21:19.464Z"
   },
   {
    "duration": 13,
    "start_time": "2022-07-05T21:21:21.566Z"
   },
   {
    "duration": 12,
    "start_time": "2022-07-05T21:21:21.764Z"
   },
   {
    "duration": 33,
    "start_time": "2022-07-05T21:21:22.778Z"
   },
   {
    "duration": 33,
    "start_time": "2022-07-05T21:21:23.385Z"
   },
   {
    "duration": 22,
    "start_time": "2022-07-05T21:21:23.793Z"
   },
   {
    "duration": 25,
    "start_time": "2022-07-05T21:21:24.005Z"
   },
   {
    "duration": 63,
    "start_time": "2022-07-05T21:21:25.068Z"
   },
   {
    "duration": 639,
    "start_time": "2022-07-05T21:22:41.148Z"
   },
   {
    "duration": 16,
    "start_time": "2022-07-05T21:22:41.790Z"
   },
   {
    "duration": 22,
    "start_time": "2022-07-05T21:22:41.808Z"
   },
   {
    "duration": 45,
    "start_time": "2022-07-05T21:22:42.821Z"
   },
   {
    "duration": 390,
    "start_time": "2022-07-05T21:22:43.516Z"
   },
   {
    "duration": 21,
    "start_time": "2022-07-05T21:22:43.951Z"
   },
   {
    "duration": 15,
    "start_time": "2022-07-05T21:22:44.148Z"
   },
   {
    "duration": 49,
    "start_time": "2022-07-05T21:22:45.688Z"
   },
   {
    "duration": 492,
    "start_time": "2022-07-05T21:22:46.474Z"
   },
   {
    "duration": 19,
    "start_time": "2022-07-05T21:22:47.361Z"
   },
   {
    "duration": 52,
    "start_time": "2022-07-05T21:22:47.932Z"
   },
   {
    "duration": 42,
    "start_time": "2022-07-05T21:22:48.158Z"
   },
   {
    "duration": 23,
    "start_time": "2022-07-05T21:22:48.582Z"
   },
   {
    "duration": 35,
    "start_time": "2022-07-05T21:22:48.773Z"
   },
   {
    "duration": 26,
    "start_time": "2022-07-05T21:22:49.165Z"
   },
   {
    "duration": 73,
    "start_time": "2022-07-05T21:22:49.340Z"
   },
   {
    "duration": 11,
    "start_time": "2022-07-05T21:22:49.517Z"
   },
   {
    "duration": 26,
    "start_time": "2022-07-05T21:22:49.701Z"
   },
   {
    "duration": 53,
    "start_time": "2022-07-05T21:22:49.909Z"
   },
   {
    "duration": 15,
    "start_time": "2022-07-05T21:22:50.085Z"
   },
   {
    "duration": 4,
    "start_time": "2022-07-05T21:22:50.272Z"
   },
   {
    "duration": 29,
    "start_time": "2022-07-05T21:22:53.120Z"
   },
   {
    "duration": 6,
    "start_time": "2022-07-05T21:22:58.965Z"
   },
   {
    "duration": 24,
    "start_time": "2022-07-05T21:22:59.768Z"
   },
   {
    "duration": 4,
    "start_time": "2022-07-05T21:23:40.571Z"
   },
   {
    "duration": 28,
    "start_time": "2022-07-05T21:23:52.118Z"
   },
   {
    "duration": 34,
    "start_time": "2022-07-05T21:23:58.331Z"
   },
   {
    "duration": 9,
    "start_time": "2022-07-05T21:23:59.682Z"
   },
   {
    "duration": 26,
    "start_time": "2022-07-05T21:24:00.517Z"
   },
   {
    "duration": 9,
    "start_time": "2022-07-05T21:29:33.532Z"
   },
   {
    "duration": 19,
    "start_time": "2022-07-05T21:29:34.107Z"
   },
   {
    "duration": 20,
    "start_time": "2022-07-05T21:29:40.918Z"
   },
   {
    "duration": 13,
    "start_time": "2022-07-05T21:29:42.342Z"
   },
   {
    "duration": 35,
    "start_time": "2022-07-05T21:29:42.715Z"
   },
   {
    "duration": 1248,
    "start_time": "2022-07-05T21:30:24.082Z"
   },
   {
    "duration": 295,
    "start_time": "2022-07-05T21:30:25.333Z"
   },
   {
    "duration": 14,
    "start_time": "2022-07-05T21:30:26.128Z"
   },
   {
    "duration": 16,
    "start_time": "2022-07-05T21:30:26.453Z"
   },
   {
    "duration": 21,
    "start_time": "2022-07-05T21:30:29.145Z"
   },
   {
    "duration": 11,
    "start_time": "2022-07-05T21:30:29.402Z"
   },
   {
    "duration": 32,
    "start_time": "2022-07-05T21:30:30.671Z"
   },
   {
    "duration": 51,
    "start_time": "2022-07-05T21:30:31.412Z"
   },
   {
    "duration": 32,
    "start_time": "2022-07-05T21:30:31.948Z"
   },
   {
    "duration": 25,
    "start_time": "2022-07-05T21:30:32.211Z"
   },
   {
    "duration": 73,
    "start_time": "2022-07-05T21:30:33.511Z"
   },
   {
    "duration": 733,
    "start_time": "2022-07-05T21:30:34.264Z"
   },
   {
    "duration": 17,
    "start_time": "2022-07-05T21:30:34.998Z"
   },
   {
    "duration": 39,
    "start_time": "2022-07-05T21:30:35.017Z"
   },
   {
    "duration": 42,
    "start_time": "2022-07-05T21:30:36.312Z"
   },
   {
    "duration": 339,
    "start_time": "2022-07-05T21:30:36.972Z"
   },
   {
    "duration": 31,
    "start_time": "2022-07-05T21:30:37.473Z"
   },
   {
    "duration": 10,
    "start_time": "2022-07-05T21:30:37.723Z"
   },
   {
    "duration": 64,
    "start_time": "2022-07-05T21:30:39.822Z"
   },
   {
    "duration": 468,
    "start_time": "2022-07-05T21:30:40.613Z"
   },
   {
    "duration": 21,
    "start_time": "2022-07-05T21:30:41.417Z"
   },
   {
    "duration": 41,
    "start_time": "2022-07-05T21:30:41.994Z"
   },
   {
    "duration": 42,
    "start_time": "2022-07-05T21:30:42.266Z"
   },
   {
    "duration": 29,
    "start_time": "2022-07-05T21:30:42.483Z"
   },
   {
    "duration": 40,
    "start_time": "2022-07-05T21:30:42.737Z"
   },
   {
    "duration": 28,
    "start_time": "2022-07-05T21:30:43.431Z"
   },
   {
    "duration": 56,
    "start_time": "2022-07-05T21:30:43.682Z"
   },
   {
    "duration": 14,
    "start_time": "2022-07-05T21:30:43.942Z"
   },
   {
    "duration": 37,
    "start_time": "2022-07-05T21:30:44.563Z"
   },
   {
    "duration": 42,
    "start_time": "2022-07-05T21:30:44.798Z"
   },
   {
    "duration": 15,
    "start_time": "2022-07-05T21:30:45.489Z"
   },
   {
    "duration": 6,
    "start_time": "2022-07-05T21:30:46.457Z"
   },
   {
    "duration": 27,
    "start_time": "2022-07-05T21:30:46.961Z"
   },
   {
    "duration": 5,
    "start_time": "2022-07-05T21:30:47.814Z"
   },
   {
    "duration": 28,
    "start_time": "2022-07-05T21:30:48.527Z"
   },
   {
    "duration": 8,
    "start_time": "2022-07-05T21:30:50.322Z"
   },
   {
    "duration": 30,
    "start_time": "2022-07-05T21:30:51.539Z"
   },
   {
    "duration": 4,
    "start_time": "2022-07-05T21:31:11.470Z"
   },
   {
    "duration": 8,
    "start_time": "2022-07-05T21:31:14.289Z"
   },
   {
    "duration": 22,
    "start_time": "2022-07-05T21:31:14.767Z"
   },
   {
    "duration": 865,
    "start_time": "2022-07-05T22:01:39.867Z"
   },
   {
    "duration": 771,
    "start_time": "2022-07-05T22:01:58.177Z"
   },
   {
    "duration": 739,
    "start_time": "2022-07-05T22:02:13.101Z"
   },
   {
    "duration": 795,
    "start_time": "2022-07-05T22:02:27.794Z"
   },
   {
    "duration": 800,
    "start_time": "2022-07-05T22:03:51.201Z"
   },
   {
    "duration": 201,
    "start_time": "2022-07-05T22:05:40.753Z"
   },
   {
    "duration": 34038,
    "start_time": "2022-07-05T22:05:40.956Z"
   },
   {
    "duration": 38757,
    "start_time": "2022-07-05T22:21:00.123Z"
   },
   {
    "duration": 265,
    "start_time": "2022-07-05T22:21:38.883Z"
   },
   {
    "duration": 19,
    "start_time": "2022-07-05T22:27:21.444Z"
   },
   {
    "duration": 16,
    "start_time": "2022-07-05T22:27:43.625Z"
   },
   {
    "duration": 118,
    "start_time": "2022-07-05T22:27:55.743Z"
   },
   {
    "duration": 113,
    "start_time": "2022-07-05T22:28:34.929Z"
   },
   {
    "duration": 116,
    "start_time": "2022-07-05T22:28:48.510Z"
   },
   {
    "duration": 114,
    "start_time": "2022-07-05T22:29:08.964Z"
   },
   {
    "duration": 142,
    "start_time": "2022-07-05T22:29:25.184Z"
   },
   {
    "duration": 465,
    "start_time": "2022-07-05T22:29:50.679Z"
   },
   {
    "duration": 128,
    "start_time": "2022-07-05T22:30:13.633Z"
   },
   {
    "duration": 127,
    "start_time": "2022-07-05T22:30:36.000Z"
   },
   {
    "duration": 149,
    "start_time": "2022-07-05T22:31:22.543Z"
   },
   {
    "duration": 127,
    "start_time": "2022-07-05T22:31:34.793Z"
   },
   {
    "duration": 150,
    "start_time": "2022-07-05T22:32:02.717Z"
   },
   {
    "duration": 156,
    "start_time": "2022-07-05T22:32:15.557Z"
   },
   {
    "duration": 151,
    "start_time": "2022-07-05T22:32:32.465Z"
   },
   {
    "duration": 11,
    "start_time": "2022-07-05T22:34:23.929Z"
   },
   {
    "duration": 10,
    "start_time": "2022-07-05T22:34:34.027Z"
   },
   {
    "duration": 159,
    "start_time": "2022-07-05T22:40:52.189Z"
   },
   {
    "duration": 164,
    "start_time": "2022-07-05T22:41:13.662Z"
   },
   {
    "duration": 175,
    "start_time": "2022-07-05T22:43:13.638Z"
   },
   {
    "duration": 169,
    "start_time": "2022-07-05T22:44:16.657Z"
   },
   {
    "duration": 53,
    "start_time": "2022-07-05T22:49:38.533Z"
   },
   {
    "duration": 15,
    "start_time": "2022-07-05T22:49:45.215Z"
   },
   {
    "duration": 17,
    "start_time": "2022-07-05T22:50:19.858Z"
   },
   {
    "duration": 801,
    "start_time": "2022-07-05T22:50:36.948Z"
   },
   {
    "duration": 46,
    "start_time": "2022-07-05T22:50:48.361Z"
   },
   {
    "duration": 778,
    "start_time": "2022-07-05T22:51:04.514Z"
   },
   {
    "duration": 690,
    "start_time": "2022-07-05T22:56:58.087Z"
   },
   {
    "duration": 805,
    "start_time": "2022-07-05T22:57:23.923Z"
   },
   {
    "duration": 769,
    "start_time": "2022-07-05T22:57:44.323Z"
   },
   {
    "duration": 1243,
    "start_time": "2022-07-05T22:58:04.034Z"
   },
   {
    "duration": 262,
    "start_time": "2022-07-05T22:58:05.279Z"
   },
   {
    "duration": 12,
    "start_time": "2022-07-05T22:58:05.543Z"
   },
   {
    "duration": 14,
    "start_time": "2022-07-05T22:58:05.557Z"
   },
   {
    "duration": 14,
    "start_time": "2022-07-05T22:58:07.219Z"
   },
   {
    "duration": 11,
    "start_time": "2022-07-05T22:58:07.419Z"
   },
   {
    "duration": 29,
    "start_time": "2022-07-05T22:58:08.405Z"
   },
   {
    "duration": 38,
    "start_time": "2022-07-05T22:58:08.996Z"
   },
   {
    "duration": 21,
    "start_time": "2022-07-05T22:58:09.400Z"
   },
   {
    "duration": 26,
    "start_time": "2022-07-05T22:58:09.594Z"
   },
   {
    "duration": 58,
    "start_time": "2022-07-05T22:58:10.566Z"
   },
   {
    "duration": 534,
    "start_time": "2022-07-05T22:58:11.290Z"
   },
   {
    "duration": 24,
    "start_time": "2022-07-05T22:58:11.826Z"
   },
   {
    "duration": 9,
    "start_time": "2022-07-05T22:58:11.854Z"
   },
   {
    "duration": 30,
    "start_time": "2022-07-05T22:58:12.897Z"
   },
   {
    "duration": 367,
    "start_time": "2022-07-05T22:58:13.570Z"
   },
   {
    "duration": 27,
    "start_time": "2022-07-05T22:58:14.002Z"
   },
   {
    "duration": 11,
    "start_time": "2022-07-05T22:58:14.249Z"
   },
   {
    "duration": 56,
    "start_time": "2022-07-05T22:58:15.311Z"
   },
   {
    "duration": 430,
    "start_time": "2022-07-05T22:58:15.895Z"
   },
   {
    "duration": 18,
    "start_time": "2022-07-05T22:58:16.516Z"
   },
   {
    "duration": 42,
    "start_time": "2022-07-05T22:58:16.933Z"
   },
   {
    "duration": 57,
    "start_time": "2022-07-05T22:58:17.130Z"
   },
   {
    "duration": 28,
    "start_time": "2022-07-05T22:58:17.334Z"
   },
   {
    "duration": 33,
    "start_time": "2022-07-05T22:58:17.537Z"
   },
   {
    "duration": 32,
    "start_time": "2022-07-05T22:58:17.951Z"
   },
   {
    "duration": 52,
    "start_time": "2022-07-05T22:58:18.168Z"
   },
   {
    "duration": 15,
    "start_time": "2022-07-05T22:58:18.384Z"
   },
   {
    "duration": 28,
    "start_time": "2022-07-05T22:58:18.581Z"
   },
   {
    "duration": 59,
    "start_time": "2022-07-05T22:58:18.817Z"
   },
   {
    "duration": 20,
    "start_time": "2022-07-05T22:58:19.064Z"
   },
   {
    "duration": 5,
    "start_time": "2022-07-05T22:58:19.743Z"
   },
   {
    "duration": 35,
    "start_time": "2022-07-05T22:58:20.047Z"
   },
   {
    "duration": 6,
    "start_time": "2022-07-05T22:58:20.317Z"
   },
   {
    "duration": 5,
    "start_time": "2022-07-05T22:58:20.580Z"
   },
   {
    "duration": 9,
    "start_time": "2022-07-05T22:58:20.837Z"
   },
   {
    "duration": 20,
    "start_time": "2022-07-05T22:58:21.094Z"
   },
   {
    "duration": 2,
    "start_time": "2022-07-05T22:58:22.838Z"
   },
   {
    "duration": 843,
    "start_time": "2022-07-05T22:58:25.179Z"
   },
   {
    "duration": 45,
    "start_time": "2022-07-05T22:58:58.663Z"
   },
   {
    "duration": 14,
    "start_time": "2022-07-05T22:59:04.247Z"
   },
   {
    "duration": 732,
    "start_time": "2022-07-05T22:59:21.648Z"
   },
   {
    "duration": 787,
    "start_time": "2022-07-05T23:00:04.546Z"
   },
   {
    "duration": 211,
    "start_time": "2022-07-05T23:00:31.870Z"
   },
   {
    "duration": 212,
    "start_time": "2022-07-05T23:00:49.811Z"
   },
   {
    "duration": 250,
    "start_time": "2022-07-05T23:02:00.376Z"
   },
   {
    "duration": 207,
    "start_time": "2022-07-05T23:02:17.002Z"
   },
   {
    "duration": 17,
    "start_time": "2022-07-05T23:02:35.947Z"
   },
   {
    "duration": 15,
    "start_time": "2022-07-05T23:02:48.727Z"
   },
   {
    "duration": 15,
    "start_time": "2022-07-05T23:02:56.571Z"
   },
   {
    "duration": 783,
    "start_time": "2022-07-05T23:03:03.368Z"
   },
   {
    "duration": 193,
    "start_time": "2022-07-05T23:03:12.475Z"
   },
   {
    "duration": 8,
    "start_time": "2022-07-05T23:09:44.959Z"
   },
   {
    "duration": 9,
    "start_time": "2022-07-05T23:09:45.258Z"
   },
   {
    "duration": 163,
    "start_time": "2022-07-05T23:09:45.529Z"
   },
   {
    "duration": 3,
    "start_time": "2022-07-05T23:09:48.106Z"
   },
   {
    "duration": 9,
    "start_time": "2022-07-05T23:09:48.379Z"
   },
   {
    "duration": 164,
    "start_time": "2022-07-05T23:09:48.684Z"
   },
   {
    "duration": 3,
    "start_time": "2022-07-05T23:09:50.292Z"
   },
   {
    "duration": 183,
    "start_time": "2022-07-05T23:09:50.637Z"
   },
   {
    "duration": 3,
    "start_time": "2022-07-05T23:09:50.828Z"
   },
   {
    "duration": 5,
    "start_time": "2022-07-05T23:12:21.591Z"
   },
   {
    "duration": 13,
    "start_time": "2022-07-05T23:12:50.247Z"
   },
   {
    "duration": 269,
    "start_time": "2022-07-05T23:13:00.176Z"
   },
   {
    "duration": 15,
    "start_time": "2022-07-05T23:13:47.173Z"
   },
   {
    "duration": 763,
    "start_time": "2022-07-05T23:13:54.529Z"
   },
   {
    "duration": 173,
    "start_time": "2022-07-05T23:14:07.677Z"
   },
   {
    "duration": 15,
    "start_time": "2022-07-05T23:14:36.681Z"
   },
   {
    "duration": 173,
    "start_time": "2022-07-05T23:14:44.749Z"
   },
   {
    "duration": 13,
    "start_time": "2022-07-05T23:15:26.862Z"
   },
   {
    "duration": 182,
    "start_time": "2022-07-05T23:15:35.809Z"
   },
   {
    "duration": 1862,
    "start_time": "2022-07-06T19:14:22.473Z"
   },
   {
    "duration": 1595,
    "start_time": "2022-07-06T19:14:24.338Z"
   },
   {
    "duration": 27,
    "start_time": "2022-07-06T19:14:25.934Z"
   },
   {
    "duration": 64,
    "start_time": "2022-07-06T19:14:25.968Z"
   },
   {
    "duration": 25,
    "start_time": "2022-07-06T19:14:26.034Z"
   },
   {
    "duration": 69,
    "start_time": "2022-07-06T19:14:26.061Z"
   },
   {
    "duration": 94,
    "start_time": "2022-07-06T19:14:26.133Z"
   },
   {
    "duration": 49,
    "start_time": "2022-07-06T19:14:26.230Z"
   },
   {
    "duration": 90,
    "start_time": "2022-07-06T19:14:26.281Z"
   },
   {
    "duration": 45,
    "start_time": "2022-07-06T19:14:26.384Z"
   },
   {
    "duration": 89,
    "start_time": "2022-07-06T19:14:26.431Z"
   },
   {
    "duration": 869,
    "start_time": "2022-07-06T19:14:26.522Z"
   },
   {
    "duration": 26,
    "start_time": "2022-07-06T19:14:27.396Z"
   },
   {
    "duration": 39,
    "start_time": "2022-07-06T19:14:27.424Z"
   },
   {
    "duration": 99,
    "start_time": "2022-07-06T19:14:27.468Z"
   },
   {
    "duration": 465,
    "start_time": "2022-07-06T19:14:27.574Z"
   },
   {
    "duration": 27,
    "start_time": "2022-07-06T19:14:28.047Z"
   },
   {
    "duration": 51,
    "start_time": "2022-07-06T19:14:28.076Z"
   },
   {
    "duration": 89,
    "start_time": "2022-07-06T19:14:28.129Z"
   },
   {
    "duration": 616,
    "start_time": "2022-07-06T19:14:28.220Z"
   },
   {
    "duration": 27,
    "start_time": "2022-07-06T19:14:28.838Z"
   },
   {
    "duration": 98,
    "start_time": "2022-07-06T19:14:28.866Z"
   },
   {
    "duration": 58,
    "start_time": "2022-07-06T19:14:28.966Z"
   },
   {
    "duration": 31,
    "start_time": "2022-07-06T19:14:29.026Z"
   },
   {
    "duration": 44,
    "start_time": "2022-07-06T19:14:29.059Z"
   },
   {
    "duration": 43,
    "start_time": "2022-07-06T19:14:29.105Z"
   },
   {
    "duration": 74,
    "start_time": "2022-07-06T19:14:29.151Z"
   },
   {
    "duration": 10,
    "start_time": "2022-07-06T19:14:29.230Z"
   },
   {
    "duration": 47,
    "start_time": "2022-07-06T19:14:29.263Z"
   },
   {
    "duration": 56,
    "start_time": "2022-07-06T19:14:29.312Z"
   },
   {
    "duration": 30,
    "start_time": "2022-07-06T19:14:29.378Z"
   },
   {
    "duration": 5,
    "start_time": "2022-07-06T19:14:29.411Z"
   },
   {
    "duration": 29,
    "start_time": "2022-07-06T19:14:29.418Z"
   },
   {
    "duration": 5,
    "start_time": "2022-07-06T19:14:29.449Z"
   },
   {
    "duration": 62,
    "start_time": "2022-07-06T19:14:29.455Z"
   },
   {
    "duration": 13,
    "start_time": "2022-07-06T19:14:29.519Z"
   },
   {
    "duration": 35,
    "start_time": "2022-07-06T19:14:29.534Z"
   },
   {
    "duration": 44,
    "start_time": "2022-07-06T19:14:29.571Z"
   },
   {
    "duration": 295,
    "start_time": "2022-07-06T19:14:29.617Z"
   },
   {
    "duration": 6,
    "start_time": "2022-07-06T19:14:29.914Z"
   },
   {
    "duration": 1880,
    "start_time": "2022-07-06T19:14:29.921Z"
   },
   {
    "duration": 0,
    "start_time": "2022-07-06T19:14:31.807Z"
   },
   {
    "duration": 0,
    "start_time": "2022-07-06T19:14:31.809Z"
   },
   {
    "duration": 1,
    "start_time": "2022-07-06T19:14:31.810Z"
   },
   {
    "duration": 0,
    "start_time": "2022-07-06T19:14:31.812Z"
   },
   {
    "duration": 0,
    "start_time": "2022-07-06T19:14:31.814Z"
   },
   {
    "duration": 0,
    "start_time": "2022-07-06T19:14:31.816Z"
   },
   {
    "duration": 0,
    "start_time": "2022-07-06T19:14:31.817Z"
   },
   {
    "duration": 0,
    "start_time": "2022-07-06T19:14:31.819Z"
   },
   {
    "duration": 0,
    "start_time": "2022-07-06T19:14:31.821Z"
   },
   {
    "duration": 0,
    "start_time": "2022-07-06T19:14:31.822Z"
   },
   {
    "duration": 0,
    "start_time": "2022-07-06T19:14:31.823Z"
   },
   {
    "duration": 0,
    "start_time": "2022-07-06T19:14:31.825Z"
   },
   {
    "duration": 0,
    "start_time": "2022-07-06T19:14:31.827Z"
   },
   {
    "duration": 200,
    "start_time": "2022-07-06T19:14:48.200Z"
   },
   {
    "duration": 20,
    "start_time": "2022-07-06T19:14:53.667Z"
   },
   {
    "duration": 61,
    "start_time": "2022-07-06T21:05:11.879Z"
   },
   {
    "duration": 1499,
    "start_time": "2022-07-06T21:05:16.272Z"
   },
   {
    "duration": 596,
    "start_time": "2022-07-06T21:05:17.774Z"
   },
   {
    "duration": 43,
    "start_time": "2022-07-06T21:05:19.628Z"
   },
   {
    "duration": 1402,
    "start_time": "2022-07-07T21:25:47.838Z"
   },
   {
    "duration": 548,
    "start_time": "2022-07-07T21:25:49.242Z"
   },
   {
    "duration": 34,
    "start_time": "2022-07-07T21:25:49.792Z"
   },
   {
    "duration": 11,
    "start_time": "2022-07-07T21:25:49.828Z"
   },
   {
    "duration": 21,
    "start_time": "2022-07-07T21:25:51.217Z"
   },
   {
    "duration": 11,
    "start_time": "2022-07-07T21:25:51.423Z"
   },
   {
    "duration": 30,
    "start_time": "2022-07-07T21:25:52.503Z"
   },
   {
    "duration": 31,
    "start_time": "2022-07-07T21:25:53.150Z"
   },
   {
    "duration": 40,
    "start_time": "2022-07-07T21:25:53.546Z"
   },
   {
    "duration": 30,
    "start_time": "2022-07-07T21:25:53.767Z"
   },
   {
    "duration": 61,
    "start_time": "2022-07-07T21:25:54.832Z"
   },
   {
    "duration": 516,
    "start_time": "2022-07-07T21:25:55.466Z"
   },
   {
    "duration": 22,
    "start_time": "2022-07-07T21:25:55.984Z"
   },
   {
    "duration": 8,
    "start_time": "2022-07-07T21:25:56.116Z"
   },
   {
    "duration": 30,
    "start_time": "2022-07-07T21:25:57.192Z"
   },
   {
    "duration": 290,
    "start_time": "2022-07-07T21:25:57.828Z"
   },
   {
    "duration": 32,
    "start_time": "2022-07-07T21:25:58.223Z"
   },
   {
    "duration": 9,
    "start_time": "2022-07-07T21:25:58.432Z"
   },
   {
    "duration": 51,
    "start_time": "2022-07-07T21:25:59.459Z"
   },
   {
    "duration": 387,
    "start_time": "2022-07-07T21:26:00.134Z"
   },
   {
    "duration": 19,
    "start_time": "2022-07-07T21:26:10.728Z"
   },
   {
    "duration": 130,
    "start_time": "2022-07-07T21:26:11.762Z"
   },
   {
    "duration": 44,
    "start_time": "2022-07-07T21:26:11.978Z"
   },
   {
    "duration": 23,
    "start_time": "2022-07-07T21:26:12.193Z"
   },
   {
    "duration": 33,
    "start_time": "2022-07-07T21:26:12.769Z"
   },
   {
    "duration": 25,
    "start_time": "2022-07-07T21:26:13.652Z"
   },
   {
    "duration": 50,
    "start_time": "2022-07-07T21:26:14.139Z"
   },
   {
    "duration": 11,
    "start_time": "2022-07-07T21:26:14.965Z"
   },
   {
    "duration": 34,
    "start_time": "2022-07-07T21:26:15.395Z"
   },
   {
    "duration": 42,
    "start_time": "2022-07-07T21:26:16.347Z"
   },
   {
    "duration": 49,
    "start_time": "2022-07-07T21:27:14.916Z"
   },
   {
    "duration": 51,
    "start_time": "2022-07-07T21:27:47.847Z"
   },
   {
    "duration": 50,
    "start_time": "2022-07-07T21:28:00.684Z"
   },
   {
    "duration": 52,
    "start_time": "2022-07-07T21:30:08.541Z"
   },
   {
    "duration": 49,
    "start_time": "2022-07-07T21:31:14.145Z"
   },
   {
    "duration": 22,
    "start_time": "2022-07-07T21:31:20.441Z"
   },
   {
    "duration": 48,
    "start_time": "2022-07-07T21:31:27.335Z"
   },
   {
    "duration": 23,
    "start_time": "2022-07-07T21:31:41.884Z"
   },
   {
    "duration": 47,
    "start_time": "2022-07-07T21:32:27.609Z"
   },
   {
    "duration": 559,
    "start_time": "2022-07-07T21:32:34.769Z"
   },
   {
    "duration": 25,
    "start_time": "2022-07-07T21:32:39.684Z"
   },
   {
    "duration": 8,
    "start_time": "2022-07-07T21:32:44.164Z"
   },
   {
    "duration": 26,
    "start_time": "2022-07-07T21:32:51.844Z"
   },
   {
    "duration": 305,
    "start_time": "2022-07-07T21:32:53.822Z"
   },
   {
    "duration": 34,
    "start_time": "2022-07-07T21:32:54.991Z"
   },
   {
    "duration": 10,
    "start_time": "2022-07-07T21:32:55.804Z"
   },
   {
    "duration": 32,
    "start_time": "2022-07-07T21:33:50.957Z"
   },
   {
    "duration": 32,
    "start_time": "2022-07-07T21:33:58.068Z"
   },
   {
    "duration": 17,
    "start_time": "2022-07-07T21:34:03.392Z"
   },
   {
    "duration": 31,
    "start_time": "2022-07-07T21:34:03.833Z"
   },
   {
    "duration": 40,
    "start_time": "2022-07-07T21:34:04.055Z"
   },
   {
    "duration": 23,
    "start_time": "2022-07-07T21:34:04.279Z"
   },
   {
    "duration": 28,
    "start_time": "2022-07-07T21:34:04.488Z"
   },
   {
    "duration": 23,
    "start_time": "2022-07-07T21:34:04.978Z"
   },
   {
    "duration": 47,
    "start_time": "2022-07-07T21:34:05.211Z"
   },
   {
    "duration": 10,
    "start_time": "2022-07-07T21:34:05.442Z"
   },
   {
    "duration": 26,
    "start_time": "2022-07-07T21:34:05.687Z"
   },
   {
    "duration": 35,
    "start_time": "2022-07-07T21:34:05.918Z"
   },
   {
    "duration": 15,
    "start_time": "2022-07-07T21:34:06.144Z"
   },
   {
    "duration": 5,
    "start_time": "2022-07-07T21:34:06.397Z"
   },
   {
    "duration": 24,
    "start_time": "2022-07-07T21:34:06.679Z"
   },
   {
    "duration": 5,
    "start_time": "2022-07-07T21:34:06.972Z"
   },
   {
    "duration": 5,
    "start_time": "2022-07-07T21:34:07.183Z"
   },
   {
    "duration": 8,
    "start_time": "2022-07-07T21:34:07.427Z"
   },
   {
    "duration": 20,
    "start_time": "2022-07-07T21:34:07.661Z"
   },
   {
    "duration": 3,
    "start_time": "2022-07-07T21:34:08.308Z"
   },
   {
    "duration": 188,
    "start_time": "2022-07-07T21:34:13.784Z"
   },
   {
    "duration": 4,
    "start_time": "2022-07-07T21:34:14.326Z"
   },
   {
    "duration": 35,
    "start_time": "2022-07-07T21:42:08.782Z"
   },
   {
    "duration": 45,
    "start_time": "2022-07-07T21:43:42.051Z"
   },
   {
    "duration": 780,
    "start_time": "2022-07-07T21:44:10.778Z"
   },
   {
    "duration": 919,
    "start_time": "2022-07-07T21:44:30.869Z"
   },
   {
    "duration": 890,
    "start_time": "2022-07-07T21:45:16.675Z"
   },
   {
    "duration": 1097,
    "start_time": "2022-07-07T21:45:40.896Z"
   },
   {
    "duration": 295,
    "start_time": "2022-07-07T21:45:41.994Z"
   },
   {
    "duration": 32,
    "start_time": "2022-07-07T21:45:42.291Z"
   },
   {
    "duration": 12,
    "start_time": "2022-07-07T21:45:42.326Z"
   },
   {
    "duration": 20,
    "start_time": "2022-07-07T21:45:44.424Z"
   },
   {
    "duration": 11,
    "start_time": "2022-07-07T21:45:44.676Z"
   },
   {
    "duration": 28,
    "start_time": "2022-07-07T21:45:45.900Z"
   },
   {
    "duration": 31,
    "start_time": "2022-07-07T21:45:46.622Z"
   },
   {
    "duration": 52,
    "start_time": "2022-07-07T21:45:47.045Z"
   },
   {
    "duration": 25,
    "start_time": "2022-07-07T21:45:47.271Z"
   },
   {
    "duration": 55,
    "start_time": "2022-07-07T21:45:48.445Z"
   },
   {
    "duration": 531,
    "start_time": "2022-07-07T21:45:49.087Z"
   },
   {
    "duration": 32,
    "start_time": "2022-07-07T21:45:49.620Z"
   },
   {
    "duration": 8,
    "start_time": "2022-07-07T21:45:49.763Z"
   },
   {
    "duration": 34,
    "start_time": "2022-07-07T21:45:51.010Z"
   },
   {
    "duration": 328,
    "start_time": "2022-07-07T21:45:51.896Z"
   },
   {
    "duration": 34,
    "start_time": "2022-07-07T21:45:52.374Z"
   },
   {
    "duration": 9,
    "start_time": "2022-07-07T21:45:52.624Z"
   },
   {
    "duration": 50,
    "start_time": "2022-07-07T21:45:53.784Z"
   },
   {
    "duration": 415,
    "start_time": "2022-07-07T21:45:54.621Z"
   },
   {
    "duration": 17,
    "start_time": "2022-07-07T21:45:56.700Z"
   },
   {
    "duration": 41,
    "start_time": "2022-07-07T21:45:57.459Z"
   },
   {
    "duration": 44,
    "start_time": "2022-07-07T21:45:57.790Z"
   },
   {
    "duration": 23,
    "start_time": "2022-07-07T21:45:58.090Z"
   },
   {
    "duration": 890,
    "start_time": "2022-07-07T21:45:58.934Z"
   },
   {
    "duration": 40,
    "start_time": "2022-07-07T21:46:25.869Z"
   },
   {
    "duration": 925,
    "start_time": "2022-07-07T21:48:29.403Z"
   },
   {
    "duration": 38,
    "start_time": "2022-07-07T21:50:25.888Z"
   },
   {
    "duration": 921,
    "start_time": "2022-07-07T21:51:02.168Z"
   },
   {
    "duration": 60,
    "start_time": "2022-07-07T21:52:25.850Z"
   },
   {
    "duration": 812,
    "start_time": "2022-07-07T21:52:51.155Z"
   },
   {
    "duration": 15,
    "start_time": "2022-07-07T21:55:44.122Z"
   },
   {
    "duration": 40,
    "start_time": "2022-07-07T21:55:54.912Z"
   },
   {
    "duration": 861,
    "start_time": "2022-07-07T21:56:35.184Z"
   },
   {
    "duration": 901,
    "start_time": "2022-07-07T21:57:10.659Z"
   },
   {
    "duration": 33,
    "start_time": "2022-07-07T21:57:40.157Z"
   },
   {
    "duration": 39,
    "start_time": "2022-07-07T21:58:11.201Z"
   },
   {
    "duration": 34,
    "start_time": "2022-07-07T21:58:25.867Z"
   },
   {
    "duration": 36,
    "start_time": "2022-07-07T21:59:01.870Z"
   },
   {
    "duration": 16,
    "start_time": "2022-07-07T21:59:30.540Z"
   },
   {
    "duration": 10,
    "start_time": "2022-07-07T21:59:47.633Z"
   },
   {
    "duration": 19,
    "start_time": "2022-07-07T21:59:56.334Z"
   },
   {
    "duration": 25,
    "start_time": "2022-07-07T22:00:00.204Z"
   },
   {
    "duration": 61,
    "start_time": "2022-07-07T22:00:01.068Z"
   },
   {
    "duration": 11,
    "start_time": "2022-07-07T22:00:02.186Z"
   },
   {
    "duration": 38,
    "start_time": "2022-07-07T22:00:02.743Z"
   },
   {
    "duration": 61,
    "start_time": "2022-07-07T22:00:03.132Z"
   },
   {
    "duration": 15,
    "start_time": "2022-07-07T22:00:04.983Z"
   },
   {
    "duration": 5,
    "start_time": "2022-07-07T22:00:05.936Z"
   },
   {
    "duration": 26,
    "start_time": "2022-07-07T22:00:06.684Z"
   },
   {
    "duration": 5,
    "start_time": "2022-07-07T22:00:07.113Z"
   },
   {
    "duration": 4,
    "start_time": "2022-07-07T22:00:08.132Z"
   },
   {
    "duration": 8,
    "start_time": "2022-07-07T22:00:09.537Z"
   },
   {
    "duration": 19,
    "start_time": "2022-07-07T22:00:10.256Z"
   },
   {
    "duration": 4,
    "start_time": "2022-07-07T22:00:33.616Z"
   },
   {
    "duration": 19,
    "start_time": "2022-07-07T22:00:34.175Z"
   },
   {
    "duration": 14,
    "start_time": "2022-07-07T22:00:35.633Z"
   },
   {
    "duration": 4,
    "start_time": "2022-07-07T22:00:36.613Z"
   },
   {
    "duration": 9,
    "start_time": "2022-07-07T22:00:37.546Z"
   },
   {
    "duration": 19,
    "start_time": "2022-07-07T22:00:38.339Z"
   },
   {
    "duration": 1209,
    "start_time": "2022-07-07T22:02:17.821Z"
   },
   {
    "duration": 300,
    "start_time": "2022-07-07T22:02:19.033Z"
   },
   {
    "duration": 36,
    "start_time": "2022-07-07T22:02:19.335Z"
   },
   {
    "duration": 12,
    "start_time": "2022-07-07T22:02:19.373Z"
   },
   {
    "duration": 23,
    "start_time": "2022-07-07T22:02:21.413Z"
   },
   {
    "duration": 11,
    "start_time": "2022-07-07T22:02:21.623Z"
   },
   {
    "duration": 31,
    "start_time": "2022-07-07T22:02:22.697Z"
   },
   {
    "duration": 45,
    "start_time": "2022-07-07T22:02:23.304Z"
   },
   {
    "duration": 63,
    "start_time": "2022-07-07T22:02:23.702Z"
   },
   {
    "duration": 33,
    "start_time": "2022-07-07T22:02:23.926Z"
   },
   {
    "duration": 58,
    "start_time": "2022-07-07T22:02:24.919Z"
   },
   {
    "duration": 517,
    "start_time": "2022-07-07T22:02:25.520Z"
   },
   {
    "duration": 27,
    "start_time": "2022-07-07T22:02:26.039Z"
   },
   {
    "duration": 8,
    "start_time": "2022-07-07T22:02:26.103Z"
   },
   {
    "duration": 31,
    "start_time": "2022-07-07T22:02:27.101Z"
   },
   {
    "duration": 280,
    "start_time": "2022-07-07T22:02:27.718Z"
   },
   {
    "duration": 40,
    "start_time": "2022-07-07T22:02:28.821Z"
   },
   {
    "duration": 9,
    "start_time": "2022-07-07T22:02:29.265Z"
   },
   {
    "duration": 48,
    "start_time": "2022-07-07T22:02:30.463Z"
   },
   {
    "duration": 414,
    "start_time": "2022-07-07T22:02:31.147Z"
   },
   {
    "duration": 17,
    "start_time": "2022-07-07T22:02:31.832Z"
   },
   {
    "duration": 38,
    "start_time": "2022-07-07T22:02:32.281Z"
   },
   {
    "duration": 43,
    "start_time": "2022-07-07T22:02:32.633Z"
   },
   {
    "duration": 33,
    "start_time": "2022-07-07T22:02:32.839Z"
   },
   {
    "duration": 45,
    "start_time": "2022-07-07T22:02:33.138Z"
   },
   {
    "duration": 20,
    "start_time": "2022-07-07T22:02:33.761Z"
   },
   {
    "duration": 27,
    "start_time": "2022-07-07T22:02:34.719Z"
   },
   {
    "duration": 60,
    "start_time": "2022-07-07T22:02:35.416Z"
   },
   {
    "duration": 10,
    "start_time": "2022-07-07T22:02:36.176Z"
   },
   {
    "duration": 38,
    "start_time": "2022-07-07T22:02:36.796Z"
   },
   {
    "duration": 38,
    "start_time": "2022-07-07T22:02:37.272Z"
   },
   {
    "duration": 13,
    "start_time": "2022-07-07T22:02:37.958Z"
   },
   {
    "duration": 4,
    "start_time": "2022-07-07T22:02:39.343Z"
   },
   {
    "duration": 25,
    "start_time": "2022-07-07T22:02:40.042Z"
   },
   {
    "duration": 5,
    "start_time": "2022-07-07T22:02:40.788Z"
   },
   {
    "duration": 4,
    "start_time": "2022-07-07T22:02:41.321Z"
   },
   {
    "duration": 7,
    "start_time": "2022-07-07T22:02:42.167Z"
   },
   {
    "duration": 18,
    "start_time": "2022-07-07T22:02:43.141Z"
   },
   {
    "duration": 22,
    "start_time": "2022-07-07T22:05:02.276Z"
   },
   {
    "duration": 61,
    "start_time": "2022-07-07T22:20:05.491Z"
   },
   {
    "duration": 47,
    "start_time": "2022-07-07T22:20:17.699Z"
   },
   {
    "duration": 3,
    "start_time": "2022-07-07T22:21:32.770Z"
   },
   {
    "duration": 1814,
    "start_time": "2022-07-08T15:10:25.679Z"
   },
   {
    "duration": 602,
    "start_time": "2022-07-08T15:10:27.495Z"
   },
   {
    "duration": 33,
    "start_time": "2022-07-08T15:10:35.178Z"
   },
   {
    "duration": 19,
    "start_time": "2022-07-08T15:10:35.433Z"
   },
   {
    "duration": 27,
    "start_time": "2022-07-08T15:10:37.807Z"
   },
   {
    "duration": 12,
    "start_time": "2022-07-08T15:10:38.008Z"
   },
   {
    "duration": 48,
    "start_time": "2022-07-08T15:10:39.220Z"
   },
   {
    "duration": 36,
    "start_time": "2022-07-08T15:10:39.900Z"
   },
   {
    "duration": 60,
    "start_time": "2022-07-08T15:10:40.316Z"
   },
   {
    "duration": 23,
    "start_time": "2022-07-08T15:10:40.564Z"
   },
   {
    "duration": 59,
    "start_time": "2022-07-08T15:10:41.764Z"
   },
   {
    "duration": 657,
    "start_time": "2022-07-08T15:10:42.416Z"
   },
   {
    "duration": 23,
    "start_time": "2022-07-08T15:10:43.075Z"
   },
   {
    "duration": 9,
    "start_time": "2022-07-08T15:10:43.145Z"
   },
   {
    "duration": 44,
    "start_time": "2022-07-08T15:10:44.311Z"
   },
   {
    "duration": 341,
    "start_time": "2022-07-08T15:10:44.965Z"
   },
   {
    "duration": 32,
    "start_time": "2022-07-08T15:10:45.575Z"
   },
   {
    "duration": 10,
    "start_time": "2022-07-08T15:10:45.610Z"
   },
   {
    "duration": 66,
    "start_time": "2022-07-08T15:10:47.499Z"
   },
   {
    "duration": 474,
    "start_time": "2022-07-08T15:10:47.567Z"
   },
   {
    "duration": 19,
    "start_time": "2022-07-08T15:10:48.145Z"
   },
   {
    "duration": 47,
    "start_time": "2022-07-08T15:10:48.625Z"
   },
   {
    "duration": 45,
    "start_time": "2022-07-08T15:10:48.857Z"
   },
   {
    "duration": 29,
    "start_time": "2022-07-08T15:10:49.084Z"
   },
   {
    "duration": 49,
    "start_time": "2022-07-08T15:10:49.314Z"
   },
   {
    "duration": 20,
    "start_time": "2022-07-08T15:10:49.549Z"
   },
   {
    "duration": 30,
    "start_time": "2022-07-08T15:10:50.401Z"
   },
   {
    "duration": 60,
    "start_time": "2022-07-08T15:10:50.852Z"
   },
   {
    "duration": 16,
    "start_time": "2022-07-08T15:10:51.212Z"
   },
   {
    "duration": 29,
    "start_time": "2022-07-08T15:10:51.492Z"
   },
   {
    "duration": 41,
    "start_time": "2022-07-08T15:10:51.754Z"
   },
   {
    "duration": 15,
    "start_time": "2022-07-08T15:10:52.366Z"
   },
   {
    "duration": 4,
    "start_time": "2022-07-08T15:10:52.744Z"
   },
   {
    "duration": 27,
    "start_time": "2022-07-08T15:10:53.335Z"
   },
   {
    "duration": 6,
    "start_time": "2022-07-08T15:10:53.643Z"
   },
   {
    "duration": 5,
    "start_time": "2022-07-08T15:10:54.490Z"
   },
   {
    "duration": 8,
    "start_time": "2022-07-08T15:10:54.800Z"
   },
   {
    "duration": 26,
    "start_time": "2022-07-08T15:10:55.143Z"
   },
   {
    "duration": 23,
    "start_time": "2022-07-08T15:10:55.499Z"
   },
   {
    "duration": 4,
    "start_time": "2022-07-08T15:10:57.172Z"
   },
   {
    "duration": 81,
    "start_time": "2022-07-08T15:11:49.518Z"
   },
   {
    "duration": 55,
    "start_time": "2022-07-08T15:12:07.692Z"
   },
   {
    "duration": 4,
    "start_time": "2022-07-08T15:12:37.510Z"
   },
   {
    "duration": 21,
    "start_time": "2022-07-08T15:12:38.080Z"
   },
   {
    "duration": 138,
    "start_time": "2022-07-08T15:12:39.103Z"
   },
   {
    "duration": 3,
    "start_time": "2022-07-08T15:12:39.682Z"
   },
   {
    "duration": 8,
    "start_time": "2022-07-08T15:12:40.195Z"
   },
   {
    "duration": 24,
    "start_time": "2022-07-08T15:12:40.962Z"
   },
   {
    "duration": 30,
    "start_time": "2022-07-08T15:12:42.143Z"
   },
   {
    "duration": 1189,
    "start_time": "2022-07-08T15:12:59.671Z"
   },
   {
    "duration": 335,
    "start_time": "2022-07-08T15:13:00.862Z"
   },
   {
    "duration": 38,
    "start_time": "2022-07-08T15:13:01.199Z"
   },
   {
    "duration": 18,
    "start_time": "2022-07-08T15:13:01.243Z"
   },
   {
    "duration": 21,
    "start_time": "2022-07-08T15:13:03.569Z"
   },
   {
    "duration": 12,
    "start_time": "2022-07-08T15:13:03.784Z"
   },
   {
    "duration": 32,
    "start_time": "2022-07-08T15:13:04.879Z"
   },
   {
    "duration": 32,
    "start_time": "2022-07-08T15:13:05.571Z"
   },
   {
    "duration": 57,
    "start_time": "2022-07-08T15:13:06.053Z"
   },
   {
    "duration": 25,
    "start_time": "2022-07-08T15:13:06.279Z"
   },
   {
    "duration": 60,
    "start_time": "2022-07-08T15:13:07.449Z"
   },
   {
    "duration": 662,
    "start_time": "2022-07-08T15:13:08.114Z"
   },
   {
    "duration": 24,
    "start_time": "2022-07-08T15:13:08.779Z"
   },
   {
    "duration": 35,
    "start_time": "2022-07-08T15:13:08.811Z"
   },
   {
    "duration": 36,
    "start_time": "2022-07-08T15:13:10.149Z"
   },
   {
    "duration": 322,
    "start_time": "2022-07-08T15:13:11.865Z"
   },
   {
    "duration": 37,
    "start_time": "2022-07-08T15:13:12.441Z"
   },
   {
    "duration": 9,
    "start_time": "2022-07-08T15:13:12.694Z"
   },
   {
    "duration": 53,
    "start_time": "2022-07-08T15:13:14.245Z"
   },
   {
    "duration": 485,
    "start_time": "2022-07-08T15:13:15.491Z"
   },
   {
    "duration": 19,
    "start_time": "2022-07-08T15:13:17.813Z"
   },
   {
    "duration": 37,
    "start_time": "2022-07-08T15:13:19.282Z"
   },
   {
    "duration": 43,
    "start_time": "2022-07-08T15:13:19.759Z"
   },
   {
    "duration": 25,
    "start_time": "2022-07-08T15:13:20.192Z"
   },
   {
    "duration": 47,
    "start_time": "2022-07-08T15:13:20.597Z"
   },
   {
    "duration": 19,
    "start_time": "2022-07-08T15:13:21.054Z"
   },
   {
    "duration": 26,
    "start_time": "2022-07-08T15:13:22.380Z"
   },
   {
    "duration": 49,
    "start_time": "2022-07-08T15:13:23.348Z"
   },
   {
    "duration": 10,
    "start_time": "2022-07-08T15:13:24.250Z"
   },
   {
    "duration": 26,
    "start_time": "2022-07-08T15:13:24.847Z"
   },
   {
    "duration": 42,
    "start_time": "2022-07-08T15:13:25.356Z"
   },
   {
    "duration": 15,
    "start_time": "2022-07-08T15:13:25.860Z"
   },
   {
    "duration": 4,
    "start_time": "2022-07-08T15:13:26.359Z"
   },
   {
    "duration": 35,
    "start_time": "2022-07-08T15:13:26.828Z"
   },
   {
    "duration": 5,
    "start_time": "2022-07-08T15:13:27.379Z"
   },
   {
    "duration": 5,
    "start_time": "2022-07-08T15:13:27.973Z"
   },
   {
    "duration": 8,
    "start_time": "2022-07-08T15:13:28.453Z"
   },
   {
    "duration": 28,
    "start_time": "2022-07-08T15:13:29.225Z"
   },
   {
    "duration": 25,
    "start_time": "2022-07-08T15:13:29.774Z"
   },
   {
    "duration": 63,
    "start_time": "2022-07-08T15:13:32.315Z"
   },
   {
    "duration": 66,
    "start_time": "2022-07-08T15:13:46.513Z"
   },
   {
    "duration": 60,
    "start_time": "2022-07-08T15:14:05.986Z"
   },
   {
    "duration": 114,
    "start_time": "2022-07-08T15:14:31.450Z"
   },
   {
    "duration": 10,
    "start_time": "2022-07-08T15:16:17.040Z"
   },
   {
    "duration": 24,
    "start_time": "2022-07-08T15:16:31.849Z"
   },
   {
    "duration": 1284,
    "start_time": "2022-07-08T15:26:15.243Z"
   },
   {
    "duration": 377,
    "start_time": "2022-07-08T15:26:16.529Z"
   },
   {
    "duration": 53,
    "start_time": "2022-07-08T15:26:16.908Z"
   },
   {
    "duration": 25,
    "start_time": "2022-07-08T15:26:16.965Z"
   },
   {
    "duration": 22,
    "start_time": "2022-07-08T15:26:18.387Z"
   },
   {
    "duration": 12,
    "start_time": "2022-07-08T15:26:18.591Z"
   },
   {
    "duration": 32,
    "start_time": "2022-07-08T15:26:19.568Z"
   },
   {
    "duration": 33,
    "start_time": "2022-07-08T15:26:20.161Z"
   },
   {
    "duration": 53,
    "start_time": "2022-07-08T15:26:20.551Z"
   },
   {
    "duration": 25,
    "start_time": "2022-07-08T15:26:20.756Z"
   },
   {
    "duration": 74,
    "start_time": "2022-07-08T15:26:21.819Z"
   },
   {
    "duration": 722,
    "start_time": "2022-07-08T15:26:22.440Z"
   },
   {
    "duration": 24,
    "start_time": "2022-07-08T15:26:23.164Z"
   },
   {
    "duration": 9,
    "start_time": "2022-07-08T15:26:23.192Z"
   },
   {
    "duration": 34,
    "start_time": "2022-07-08T15:26:24.063Z"
   },
   {
    "duration": 386,
    "start_time": "2022-07-08T15:26:24.706Z"
   },
   {
    "duration": 43,
    "start_time": "2022-07-08T15:26:25.148Z"
   },
   {
    "duration": 11,
    "start_time": "2022-07-08T15:26:25.346Z"
   },
   {
    "duration": 58,
    "start_time": "2022-07-08T15:26:26.438Z"
   },
   {
    "duration": 531,
    "start_time": "2022-07-08T15:26:27.548Z"
   },
   {
    "duration": 18,
    "start_time": "2022-07-08T15:26:30.592Z"
   },
   {
    "duration": 48,
    "start_time": "2022-07-08T15:26:35.976Z"
   },
   {
    "duration": 61,
    "start_time": "2022-07-08T15:26:46.313Z"
   },
   {
    "duration": 38,
    "start_time": "2022-07-08T15:26:46.991Z"
   },
   {
    "duration": 35,
    "start_time": "2022-07-08T15:26:49.658Z"
   },
   {
    "duration": 20,
    "start_time": "2022-07-08T15:26:54.457Z"
   },
   {
    "duration": 24,
    "start_time": "2022-07-08T15:26:59.356Z"
   },
   {
    "duration": 53,
    "start_time": "2022-07-08T15:27:03.546Z"
   },
   {
    "duration": 11,
    "start_time": "2022-07-08T15:27:56.681Z"
   },
   {
    "duration": 47,
    "start_time": "2022-07-08T15:28:00.390Z"
   },
   {
    "duration": 46,
    "start_time": "2022-07-08T15:28:04.940Z"
   },
   {
    "duration": 5,
    "start_time": "2022-07-08T15:29:14.667Z"
   },
   {
    "duration": 34,
    "start_time": "2022-07-08T15:29:15.361Z"
   },
   {
    "duration": 5,
    "start_time": "2022-07-08T15:29:45.504Z"
   },
   {
    "duration": 118,
    "start_time": "2022-07-08T15:29:53.944Z"
   },
   {
    "duration": 21,
    "start_time": "2022-07-08T15:30:04.328Z"
   },
   {
    "duration": 1148,
    "start_time": "2022-07-08T15:30:26.466Z"
   },
   {
    "duration": 3,
    "start_time": "2022-07-08T15:30:31.495Z"
   },
   {
    "duration": 298,
    "start_time": "2022-07-08T15:30:32.507Z"
   },
   {
    "duration": 37,
    "start_time": "2022-07-08T15:30:33.158Z"
   },
   {
    "duration": 13,
    "start_time": "2022-07-08T15:30:33.366Z"
   },
   {
    "duration": 24,
    "start_time": "2022-07-08T15:30:35.410Z"
   },
   {
    "duration": 11,
    "start_time": "2022-07-08T15:30:35.791Z"
   },
   {
    "duration": 37,
    "start_time": "2022-07-08T15:30:36.905Z"
   },
   {
    "duration": 38,
    "start_time": "2022-07-08T15:30:37.649Z"
   },
   {
    "duration": 63,
    "start_time": "2022-07-08T15:30:39.033Z"
   },
   {
    "duration": 27,
    "start_time": "2022-07-08T15:30:39.447Z"
   },
   {
    "duration": 73,
    "start_time": "2022-07-08T15:30:42.292Z"
   },
   {
    "duration": 673,
    "start_time": "2022-07-08T15:30:43.267Z"
   },
   {
    "duration": 28,
    "start_time": "2022-07-08T15:30:43.942Z"
   },
   {
    "duration": 8,
    "start_time": "2022-07-08T15:30:43.976Z"
   },
   {
    "duration": 38,
    "start_time": "2022-07-08T15:30:44.942Z"
   },
   {
    "duration": 364,
    "start_time": "2022-07-08T15:30:45.648Z"
   },
   {
    "duration": 38,
    "start_time": "2022-07-08T15:30:46.071Z"
   },
   {
    "duration": 9,
    "start_time": "2022-07-08T15:30:46.452Z"
   },
   {
    "duration": 52,
    "start_time": "2022-07-08T15:30:47.355Z"
   },
   {
    "duration": 527,
    "start_time": "2022-07-08T15:30:47.978Z"
   },
   {
    "duration": 19,
    "start_time": "2022-07-08T15:30:48.676Z"
   },
   {
    "duration": 53,
    "start_time": "2022-07-08T15:30:49.133Z"
   },
   {
    "duration": 42,
    "start_time": "2022-07-08T15:30:50.059Z"
   },
   {
    "duration": 24,
    "start_time": "2022-07-08T15:30:50.291Z"
   },
   {
    "duration": 38,
    "start_time": "2022-07-08T15:30:50.554Z"
   },
   {
    "duration": 20,
    "start_time": "2022-07-08T15:30:50.892Z"
   },
   {
    "duration": 29,
    "start_time": "2022-07-08T15:30:52.063Z"
   },
   {
    "duration": 56,
    "start_time": "2022-07-08T15:30:52.851Z"
   },
   {
    "duration": 10,
    "start_time": "2022-07-08T15:30:53.267Z"
   },
   {
    "duration": 42,
    "start_time": "2022-07-08T15:30:53.717Z"
   },
   {
    "duration": 50,
    "start_time": "2022-07-08T15:30:54.040Z"
   },
   {
    "duration": 4,
    "start_time": "2022-07-08T15:30:54.289Z"
   },
   {
    "duration": 38,
    "start_time": "2022-07-08T15:30:54.713Z"
   },
   {
    "duration": 7,
    "start_time": "2022-07-08T15:30:59.014Z"
   },
   {
    "duration": 5,
    "start_time": "2022-07-08T15:30:59.854Z"
   },
   {
    "duration": 10,
    "start_time": "2022-07-08T15:31:00.862Z"
   },
   {
    "duration": 19,
    "start_time": "2022-07-08T15:31:01.594Z"
   },
   {
    "duration": 23,
    "start_time": "2022-07-08T15:31:13.098Z"
   },
   {
    "duration": 13,
    "start_time": "2022-07-08T15:33:42.241Z"
   },
   {
    "duration": 102,
    "start_time": "2022-07-08T15:33:50.523Z"
   },
   {
    "duration": 10,
    "start_time": "2022-07-08T15:33:55.272Z"
   },
   {
    "duration": 9,
    "start_time": "2022-07-08T15:34:13.469Z"
   },
   {
    "duration": 9,
    "start_time": "2022-07-08T15:34:20.075Z"
   },
   {
    "duration": 12,
    "start_time": "2022-07-08T15:36:11.669Z"
   },
   {
    "duration": 28,
    "start_time": "2022-07-08T15:36:29.008Z"
   },
   {
    "duration": 24,
    "start_time": "2022-07-08T15:36:35.599Z"
   },
   {
    "duration": 14,
    "start_time": "2022-07-08T15:36:36.957Z"
   },
   {
    "duration": 33,
    "start_time": "2022-07-08T15:36:37.830Z"
   },
   {
    "duration": 1240,
    "start_time": "2022-07-08T15:36:56.304Z"
   },
   {
    "duration": 295,
    "start_time": "2022-07-08T15:36:57.546Z"
   },
   {
    "duration": 35,
    "start_time": "2022-07-08T15:36:57.842Z"
   },
   {
    "duration": 19,
    "start_time": "2022-07-08T15:36:57.880Z"
   },
   {
    "duration": 20,
    "start_time": "2022-07-08T15:36:59.585Z"
   },
   {
    "duration": 16,
    "start_time": "2022-07-08T15:36:59.789Z"
   },
   {
    "duration": 43,
    "start_time": "2022-07-08T15:37:00.801Z"
   },
   {
    "duration": 33,
    "start_time": "2022-07-08T15:37:01.374Z"
   },
   {
    "duration": 51,
    "start_time": "2022-07-08T15:37:01.767Z"
   },
   {
    "duration": 27,
    "start_time": "2022-07-08T15:37:01.992Z"
   },
   {
    "duration": 59,
    "start_time": "2022-07-08T15:37:03.041Z"
   },
   {
    "duration": 577,
    "start_time": "2022-07-08T15:37:03.661Z"
   },
   {
    "duration": 23,
    "start_time": "2022-07-08T15:37:04.240Z"
   },
   {
    "duration": 8,
    "start_time": "2022-07-08T15:37:04.309Z"
   },
   {
    "duration": 43,
    "start_time": "2022-07-08T15:37:05.404Z"
   },
   {
    "duration": 346,
    "start_time": "2022-07-08T15:37:05.996Z"
   },
   {
    "duration": 40,
    "start_time": "2022-07-08T15:37:06.426Z"
   },
   {
    "duration": 14,
    "start_time": "2022-07-08T15:37:06.631Z"
   },
   {
    "duration": 63,
    "start_time": "2022-07-08T15:37:07.722Z"
   },
   {
    "duration": 457,
    "start_time": "2022-07-08T15:37:08.351Z"
   },
   {
    "duration": 35,
    "start_time": "2022-07-08T15:37:08.997Z"
   },
   {
    "duration": 39,
    "start_time": "2022-07-08T15:37:09.476Z"
   },
   {
    "duration": 47,
    "start_time": "2022-07-08T15:37:09.710Z"
   },
   {
    "duration": 27,
    "start_time": "2022-07-08T15:37:09.914Z"
   },
   {
    "duration": 37,
    "start_time": "2022-07-08T15:37:10.290Z"
   },
   {
    "duration": 21,
    "start_time": "2022-07-08T15:37:10.738Z"
   },
   {
    "duration": 28,
    "start_time": "2022-07-08T15:37:11.696Z"
   },
   {
    "duration": 52,
    "start_time": "2022-07-08T15:37:12.269Z"
   },
   {
    "duration": 11,
    "start_time": "2022-07-08T15:37:13.204Z"
   },
   {
    "duration": 35,
    "start_time": "2022-07-08T15:37:14.181Z"
   },
   {
    "duration": 53,
    "start_time": "2022-07-08T15:37:14.587Z"
   },
   {
    "duration": 5,
    "start_time": "2022-07-08T15:37:15.437Z"
   },
   {
    "duration": 27,
    "start_time": "2022-07-08T15:37:17.444Z"
   },
   {
    "duration": 6,
    "start_time": "2022-07-08T15:37:18.976Z"
   },
   {
    "duration": 4,
    "start_time": "2022-07-08T15:37:21.020Z"
   },
   {
    "duration": 17,
    "start_time": "2022-07-08T15:37:25.922Z"
   },
   {
    "duration": 21,
    "start_time": "2022-07-08T15:37:26.945Z"
   },
   {
    "duration": 11,
    "start_time": "2022-07-08T15:37:34.202Z"
   },
   {
    "duration": 27,
    "start_time": "2022-07-08T15:37:40.344Z"
   },
   {
    "duration": 23,
    "start_time": "2022-07-08T16:20:45.535Z"
   },
   {
    "duration": 1190,
    "start_time": "2022-07-08T16:21:15.123Z"
   },
   {
    "duration": 297,
    "start_time": "2022-07-08T16:21:16.315Z"
   },
   {
    "duration": 41,
    "start_time": "2022-07-08T16:21:16.614Z"
   },
   {
    "duration": 14,
    "start_time": "2022-07-08T16:21:16.657Z"
   },
   {
    "duration": 22,
    "start_time": "2022-07-08T16:21:19.445Z"
   },
   {
    "duration": 13,
    "start_time": "2022-07-08T16:21:19.658Z"
   },
   {
    "duration": 38,
    "start_time": "2022-07-08T16:21:20.905Z"
   },
   {
    "duration": 36,
    "start_time": "2022-07-08T16:21:21.600Z"
   },
   {
    "duration": 65,
    "start_time": "2022-07-08T16:21:22.076Z"
   },
   {
    "duration": 23,
    "start_time": "2022-07-08T16:21:22.298Z"
   },
   {
    "duration": 69,
    "start_time": "2022-07-08T16:21:23.707Z"
   },
   {
    "duration": 616,
    "start_time": "2022-07-08T16:21:24.442Z"
   },
   {
    "duration": 22,
    "start_time": "2022-07-08T16:21:25.060Z"
   },
   {
    "duration": 16,
    "start_time": "2022-07-08T16:21:25.221Z"
   },
   {
    "duration": 30,
    "start_time": "2022-07-08T16:21:26.551Z"
   },
   {
    "duration": 328,
    "start_time": "2022-07-08T16:21:27.249Z"
   },
   {
    "duration": 33,
    "start_time": "2022-07-08T16:21:27.977Z"
   },
   {
    "duration": 19,
    "start_time": "2022-07-08T16:21:28.223Z"
   },
   {
    "duration": 64,
    "start_time": "2022-07-08T16:21:29.478Z"
   },
   {
    "duration": 481,
    "start_time": "2022-07-08T16:21:30.209Z"
   },
   {
    "duration": 18,
    "start_time": "2022-07-08T16:21:30.951Z"
   },
   {
    "duration": 41,
    "start_time": "2022-07-08T16:21:31.449Z"
   },
   {
    "duration": 53,
    "start_time": "2022-07-08T16:21:31.677Z"
   },
   {
    "duration": 21,
    "start_time": "2022-07-08T16:21:31.963Z"
   },
   {
    "duration": 48,
    "start_time": "2022-07-08T16:21:32.213Z"
   },
   {
    "duration": 20,
    "start_time": "2022-07-08T16:21:32.476Z"
   },
   {
    "duration": 31,
    "start_time": "2022-07-08T16:21:32.961Z"
   },
   {
    "duration": 56,
    "start_time": "2022-07-08T16:21:33.202Z"
   },
   {
    "duration": 10,
    "start_time": "2022-07-08T16:21:33.490Z"
   },
   {
    "duration": 28,
    "start_time": "2022-07-08T16:21:33.751Z"
   },
   {
    "duration": 49,
    "start_time": "2022-07-08T16:21:34.001Z"
   },
   {
    "duration": 5,
    "start_time": "2022-07-08T16:21:34.276Z"
   },
   {
    "duration": 34,
    "start_time": "2022-07-08T16:21:34.541Z"
   },
   {
    "duration": 6,
    "start_time": "2022-07-08T16:21:34.780Z"
   },
   {
    "duration": 4,
    "start_time": "2022-07-08T16:21:35.051Z"
   },
   {
    "duration": 9,
    "start_time": "2022-07-08T16:21:35.277Z"
   },
   {
    "duration": 22,
    "start_time": "2022-07-08T16:21:35.556Z"
   },
   {
    "duration": 12,
    "start_time": "2022-07-08T16:21:35.801Z"
   },
   {
    "duration": 21,
    "start_time": "2022-07-08T16:21:36.076Z"
   },
   {
    "duration": 111,
    "start_time": "2022-07-08T16:21:37.176Z"
   },
   {
    "duration": 227,
    "start_time": "2022-07-08T16:21:37.778Z"
   },
   {
    "duration": 4,
    "start_time": "2022-07-08T16:21:38.352Z"
   },
   {
    "duration": 7,
    "start_time": "2022-07-08T16:22:01.902Z"
   },
   {
    "duration": 7,
    "start_time": "2022-07-08T16:23:28.898Z"
   },
   {
    "duration": 10,
    "start_time": "2022-07-08T16:23:35.160Z"
   },
   {
    "duration": 3,
    "start_time": "2022-07-08T16:23:44.058Z"
   },
   {
    "duration": 687,
    "start_time": "2022-07-08T16:23:53.982Z"
   },
   {
    "duration": 674,
    "start_time": "2022-07-08T16:24:10.240Z"
   },
   {
    "duration": 1395,
    "start_time": "2022-07-08T16:24:28.016Z"
   },
   {
    "duration": 356,
    "start_time": "2022-07-08T16:24:29.413Z"
   },
   {
    "duration": 40,
    "start_time": "2022-07-08T16:24:29.774Z"
   },
   {
    "duration": 29,
    "start_time": "2022-07-08T16:24:29.816Z"
   },
   {
    "duration": 23,
    "start_time": "2022-07-08T16:24:32.350Z"
   },
   {
    "duration": 11,
    "start_time": "2022-07-08T16:24:32.580Z"
   },
   {
    "duration": 43,
    "start_time": "2022-07-08T16:24:33.892Z"
   },
   {
    "duration": 33,
    "start_time": "2022-07-08T16:24:34.481Z"
   },
   {
    "duration": 50,
    "start_time": "2022-07-08T16:24:35.366Z"
   },
   {
    "duration": 32,
    "start_time": "2022-07-08T16:24:35.805Z"
   },
   {
    "duration": 80,
    "start_time": "2022-07-08T16:24:37.912Z"
   },
   {
    "duration": 746,
    "start_time": "2022-07-08T16:24:40.656Z"
   },
   {
    "duration": 36,
    "start_time": "2022-07-08T16:24:41.812Z"
   },
   {
    "duration": 8,
    "start_time": "2022-07-08T16:24:42.389Z"
   },
   {
    "duration": 40,
    "start_time": "2022-07-08T16:24:45.151Z"
   },
   {
    "duration": 400,
    "start_time": "2022-07-08T16:24:47.070Z"
   },
   {
    "duration": 36,
    "start_time": "2022-07-08T16:24:48.275Z"
   },
   {
    "duration": 26,
    "start_time": "2022-07-08T16:24:48.853Z"
   },
   {
    "duration": 59,
    "start_time": "2022-07-08T16:24:51.750Z"
   },
   {
    "duration": 545,
    "start_time": "2022-07-08T16:24:54.308Z"
   },
   {
    "duration": 20,
    "start_time": "2022-07-08T16:24:56.245Z"
   },
   {
    "duration": 38,
    "start_time": "2022-07-08T16:24:57.560Z"
   },
   {
    "duration": 45,
    "start_time": "2022-07-08T16:24:58.275Z"
   },
   {
    "duration": 25,
    "start_time": "2022-07-08T16:24:58.739Z"
   },
   {
    "duration": 49,
    "start_time": "2022-07-08T16:24:59.227Z"
   },
   {
    "duration": 20,
    "start_time": "2022-07-08T16:24:59.367Z"
   },
   {
    "duration": 34,
    "start_time": "2022-07-08T16:25:00.728Z"
   },
   {
    "duration": 81,
    "start_time": "2022-07-08T16:25:01.585Z"
   },
   {
    "duration": 16,
    "start_time": "2022-07-08T16:25:02.423Z"
   },
   {
    "duration": 34,
    "start_time": "2022-07-08T16:25:02.899Z"
   },
   {
    "duration": 44,
    "start_time": "2022-07-08T16:25:03.368Z"
   },
   {
    "duration": 5,
    "start_time": "2022-07-08T16:25:03.869Z"
   },
   {
    "duration": 50,
    "start_time": "2022-07-08T16:25:04.625Z"
   },
   {
    "duration": 5,
    "start_time": "2022-07-08T16:25:04.989Z"
   },
   {
    "duration": 4,
    "start_time": "2022-07-08T16:25:05.573Z"
   },
   {
    "duration": 17,
    "start_time": "2022-07-08T16:25:06.020Z"
   },
   {
    "duration": 21,
    "start_time": "2022-07-08T16:25:06.690Z"
   },
   {
    "duration": 14,
    "start_time": "2022-07-08T16:25:07.524Z"
   },
   {
    "duration": 6,
    "start_time": "2022-07-08T16:25:08.775Z"
   },
   {
    "duration": 22,
    "start_time": "2022-07-08T16:25:09.685Z"
   },
   {
    "duration": 29,
    "start_time": "2022-07-08T16:29:25.862Z"
   },
   {
    "duration": 1247,
    "start_time": "2022-07-08T16:29:50.366Z"
   },
   {
    "duration": 351,
    "start_time": "2022-07-08T16:29:51.615Z"
   },
   {
    "duration": 35,
    "start_time": "2022-07-08T16:29:51.968Z"
   },
   {
    "duration": 13,
    "start_time": "2022-07-08T16:29:52.005Z"
   },
   {
    "duration": 36,
    "start_time": "2022-07-08T16:29:52.021Z"
   },
   {
    "duration": 26,
    "start_time": "2022-07-08T16:29:52.060Z"
   },
   {
    "duration": 31,
    "start_time": "2022-07-08T16:29:52.087Z"
   },
   {
    "duration": 52,
    "start_time": "2022-07-08T16:29:52.120Z"
   },
   {
    "duration": 65,
    "start_time": "2022-07-08T16:29:52.174Z"
   },
   {
    "duration": 30,
    "start_time": "2022-07-08T16:29:52.243Z"
   },
   {
    "duration": 90,
    "start_time": "2022-07-08T16:29:52.275Z"
   },
   {
    "duration": 721,
    "start_time": "2022-07-08T16:29:52.367Z"
   },
   {
    "duration": 23,
    "start_time": "2022-07-08T16:29:53.090Z"
   },
   {
    "duration": 12,
    "start_time": "2022-07-08T16:29:53.117Z"
   },
   {
    "duration": 77,
    "start_time": "2022-07-08T16:29:53.131Z"
   },
   {
    "duration": 381,
    "start_time": "2022-07-08T16:29:53.210Z"
   },
   {
    "duration": 42,
    "start_time": "2022-07-08T16:29:53.593Z"
   },
   {
    "duration": 13,
    "start_time": "2022-07-08T16:29:53.637Z"
   },
   {
    "duration": 55,
    "start_time": "2022-07-08T16:29:53.657Z"
   },
   {
    "duration": 529,
    "start_time": "2022-07-08T16:29:53.729Z"
   },
   {
    "duration": 28,
    "start_time": "2022-07-08T16:29:54.260Z"
   },
   {
    "duration": 44,
    "start_time": "2022-07-08T16:29:54.290Z"
   },
   {
    "duration": 46,
    "start_time": "2022-07-08T16:29:54.336Z"
   },
   {
    "duration": 24,
    "start_time": "2022-07-08T16:29:54.384Z"
   },
   {
    "duration": 62,
    "start_time": "2022-07-08T16:29:54.410Z"
   },
   {
    "duration": 19,
    "start_time": "2022-07-08T16:29:54.474Z"
   },
   {
    "duration": 56,
    "start_time": "2022-07-08T16:29:54.495Z"
   },
   {
    "duration": 75,
    "start_time": "2022-07-08T16:29:54.556Z"
   },
   {
    "duration": 21,
    "start_time": "2022-07-08T16:29:54.633Z"
   },
   {
    "duration": 38,
    "start_time": "2022-07-08T16:29:54.660Z"
   },
   {
    "duration": 56,
    "start_time": "2022-07-08T16:29:54.700Z"
   },
   {
    "duration": 5,
    "start_time": "2022-07-08T16:29:54.758Z"
   },
   {
    "duration": 31,
    "start_time": "2022-07-08T16:29:54.765Z"
   },
   {
    "duration": 9,
    "start_time": "2022-07-08T16:29:54.798Z"
   },
   {
    "duration": 23,
    "start_time": "2022-07-08T16:29:54.809Z"
   },
   {
    "duration": 21,
    "start_time": "2022-07-08T16:29:54.833Z"
   },
   {
    "duration": 26,
    "start_time": "2022-07-08T16:29:54.856Z"
   },
   {
    "duration": 12,
    "start_time": "2022-07-08T16:29:54.884Z"
   },
   {
    "duration": 7,
    "start_time": "2022-07-08T16:29:54.898Z"
   },
   {
    "duration": 58,
    "start_time": "2022-07-08T16:29:54.907Z"
   },
   {
    "duration": 144,
    "start_time": "2022-07-08T16:29:54.970Z"
   },
   {
    "duration": 0,
    "start_time": "2022-07-08T16:29:55.117Z"
   },
   {
    "duration": 0,
    "start_time": "2022-07-08T16:29:55.123Z"
   },
   {
    "duration": 0,
    "start_time": "2022-07-08T16:29:55.123Z"
   },
   {
    "duration": 0,
    "start_time": "2022-07-08T16:29:55.138Z"
   },
   {
    "duration": 0,
    "start_time": "2022-07-08T16:29:55.139Z"
   },
   {
    "duration": 0,
    "start_time": "2022-07-08T16:29:55.141Z"
   },
   {
    "duration": 0,
    "start_time": "2022-07-08T16:29:55.149Z"
   },
   {
    "duration": 0,
    "start_time": "2022-07-08T16:29:55.151Z"
   },
   {
    "duration": 0,
    "start_time": "2022-07-08T16:29:55.152Z"
   },
   {
    "duration": 0,
    "start_time": "2022-07-08T16:29:55.154Z"
   },
   {
    "duration": 0,
    "start_time": "2022-07-08T16:29:55.156Z"
   },
   {
    "duration": 0,
    "start_time": "2022-07-08T16:29:55.157Z"
   },
   {
    "duration": 0,
    "start_time": "2022-07-08T16:29:55.158Z"
   },
   {
    "duration": 0,
    "start_time": "2022-07-08T16:29:55.159Z"
   },
   {
    "duration": 0,
    "start_time": "2022-07-08T16:29:55.160Z"
   },
   {
    "duration": 1,
    "start_time": "2022-07-08T16:29:55.161Z"
   },
   {
    "duration": 3,
    "start_time": "2022-07-08T16:30:12.491Z"
   },
   {
    "duration": 374,
    "start_time": "2022-07-08T16:30:12.916Z"
   },
   {
    "duration": 33,
    "start_time": "2022-07-08T16:30:13.758Z"
   },
   {
    "duration": 10,
    "start_time": "2022-07-08T16:30:14.002Z"
   },
   {
    "duration": 23,
    "start_time": "2022-07-08T16:30:16.267Z"
   },
   {
    "duration": 14,
    "start_time": "2022-07-08T16:30:16.481Z"
   },
   {
    "duration": 53,
    "start_time": "2022-07-08T16:30:17.618Z"
   },
   {
    "duration": 36,
    "start_time": "2022-07-08T16:30:18.298Z"
   },
   {
    "duration": 57,
    "start_time": "2022-07-08T16:30:18.801Z"
   },
   {
    "duration": 30,
    "start_time": "2022-07-08T16:30:19.056Z"
   },
   {
    "duration": 64,
    "start_time": "2022-07-08T16:30:20.153Z"
   },
   {
    "duration": 711,
    "start_time": "2022-07-08T16:30:20.809Z"
   },
   {
    "duration": 30,
    "start_time": "2022-07-08T16:30:21.523Z"
   },
   {
    "duration": 13,
    "start_time": "2022-07-08T16:30:21.556Z"
   },
   {
    "duration": 53,
    "start_time": "2022-07-08T16:30:22.604Z"
   },
   {
    "duration": 382,
    "start_time": "2022-07-08T16:30:23.709Z"
   },
   {
    "duration": 38,
    "start_time": "2022-07-08T16:30:25.146Z"
   },
   {
    "duration": 10,
    "start_time": "2022-07-08T16:30:25.577Z"
   },
   {
    "duration": 52,
    "start_time": "2022-07-08T16:30:27.541Z"
   },
   {
    "duration": 624,
    "start_time": "2022-07-08T16:30:28.721Z"
   },
   {
    "duration": 19,
    "start_time": "2022-07-08T16:30:29.888Z"
   },
   {
    "duration": 36,
    "start_time": "2022-07-08T16:30:34.161Z"
   },
   {
    "duration": 39,
    "start_time": "2022-07-08T16:30:34.746Z"
   },
   {
    "duration": 28,
    "start_time": "2022-07-08T16:30:35.252Z"
   },
   {
    "duration": 39,
    "start_time": "2022-07-08T16:30:35.777Z"
   },
   {
    "duration": 21,
    "start_time": "2022-07-08T16:30:36.238Z"
   },
   {
    "duration": 31,
    "start_time": "2022-07-08T16:30:37.020Z"
   },
   {
    "duration": 66,
    "start_time": "2022-07-08T16:30:37.298Z"
   },
   {
    "duration": 12,
    "start_time": "2022-07-08T16:30:37.653Z"
   },
   {
    "duration": 27,
    "start_time": "2022-07-08T16:30:38.353Z"
   },
   {
    "duration": 46,
    "start_time": "2022-07-08T16:30:38.750Z"
   },
   {
    "duration": 5,
    "start_time": "2022-07-08T16:30:39.041Z"
   },
   {
    "duration": 39,
    "start_time": "2022-07-08T16:30:39.797Z"
   },
   {
    "duration": 6,
    "start_time": "2022-07-08T16:30:41.649Z"
   },
   {
    "duration": 4,
    "start_time": "2022-07-08T16:30:41.985Z"
   },
   {
    "duration": 9,
    "start_time": "2022-07-08T16:30:42.859Z"
   },
   {
    "duration": 32,
    "start_time": "2022-07-08T16:30:43.126Z"
   },
   {
    "duration": 13,
    "start_time": "2022-07-08T16:30:52.202Z"
   },
   {
    "duration": 9,
    "start_time": "2022-07-08T16:30:56.019Z"
   },
   {
    "duration": 25,
    "start_time": "2022-07-08T16:30:57.088Z"
   },
   {
    "duration": 30,
    "start_time": "2022-07-08T16:31:07.157Z"
   },
   {
    "duration": 18,
    "start_time": "2022-07-08T16:31:34.654Z"
   },
   {
    "duration": 26,
    "start_time": "2022-07-08T16:40:39.351Z"
   },
   {
    "duration": 17,
    "start_time": "2022-07-08T16:40:39.846Z"
   },
   {
    "duration": 5,
    "start_time": "2022-07-08T16:40:40.584Z"
   },
   {
    "duration": 26,
    "start_time": "2022-07-08T16:40:51.694Z"
   },
   {
    "duration": 30,
    "start_time": "2022-07-08T16:49:06.009Z"
   },
   {
    "duration": 22,
    "start_time": "2022-07-08T16:51:10.183Z"
   },
   {
    "duration": 20,
    "start_time": "2022-07-08T16:51:30.192Z"
   },
   {
    "duration": 19,
    "start_time": "2022-07-08T16:51:40.987Z"
   },
   {
    "duration": 57,
    "start_time": "2022-07-08T16:51:50.996Z"
   },
   {
    "duration": 18,
    "start_time": "2022-07-08T16:51:57.299Z"
   },
   {
    "duration": 40,
    "start_time": "2022-07-08T16:52:30.919Z"
   },
   {
    "duration": 21,
    "start_time": "2022-07-08T16:52:46.586Z"
   },
   {
    "duration": 34,
    "start_time": "2022-07-08T16:53:47.123Z"
   },
   {
    "duration": 19,
    "start_time": "2022-07-08T16:54:27.008Z"
   },
   {
    "duration": 23,
    "start_time": "2022-07-08T16:54:37.404Z"
   },
   {
    "duration": 1220,
    "start_time": "2022-07-09T17:13:37.176Z"
   },
   {
    "duration": 538,
    "start_time": "2022-07-09T17:13:38.643Z"
   },
   {
    "duration": 32,
    "start_time": "2022-07-09T17:13:39.274Z"
   },
   {
    "duration": 12,
    "start_time": "2022-07-09T17:13:39.678Z"
   },
   {
    "duration": 18,
    "start_time": "2022-07-09T17:13:41.859Z"
   },
   {
    "duration": 9,
    "start_time": "2022-07-09T17:13:42.068Z"
   },
   {
    "duration": 28,
    "start_time": "2022-07-09T17:13:43.154Z"
   },
   {
    "duration": 27,
    "start_time": "2022-07-09T17:13:43.809Z"
   },
   {
    "duration": 50,
    "start_time": "2022-07-09T17:13:44.248Z"
   },
   {
    "duration": 25,
    "start_time": "2022-07-09T17:13:44.464Z"
   },
   {
    "duration": 52,
    "start_time": "2022-07-09T17:13:45.588Z"
   },
   {
    "duration": 530,
    "start_time": "2022-07-09T17:13:46.466Z"
   },
   {
    "duration": 25,
    "start_time": "2022-07-09T17:13:47.022Z"
   },
   {
    "duration": 12,
    "start_time": "2022-07-09T17:13:47.150Z"
   },
   {
    "duration": 29,
    "start_time": "2022-07-09T17:13:48.563Z"
   },
   {
    "duration": 268,
    "start_time": "2022-07-09T17:13:49.246Z"
   },
   {
    "duration": 33,
    "start_time": "2022-07-09T17:13:49.951Z"
   },
   {
    "duration": 9,
    "start_time": "2022-07-09T17:13:50.262Z"
   },
   {
    "duration": 44,
    "start_time": "2022-07-09T17:13:51.494Z"
   },
   {
    "duration": 377,
    "start_time": "2022-07-09T17:13:52.228Z"
   },
   {
    "duration": 16,
    "start_time": "2022-07-09T17:13:52.946Z"
   },
   {
    "duration": 37,
    "start_time": "2022-07-09T17:13:53.400Z"
   },
   {
    "duration": 40,
    "start_time": "2022-07-09T17:13:53.613Z"
   },
   {
    "duration": 22,
    "start_time": "2022-07-09T17:13:53.844Z"
   },
   {
    "duration": 35,
    "start_time": "2022-07-09T17:13:54.120Z"
   },
   {
    "duration": 18,
    "start_time": "2022-07-09T17:13:54.656Z"
   },
   {
    "duration": 23,
    "start_time": "2022-07-09T17:13:55.321Z"
   },
   {
    "duration": 48,
    "start_time": "2022-07-09T17:13:55.565Z"
   },
   {
    "duration": 10,
    "start_time": "2022-07-09T17:13:55.804Z"
   },
   {
    "duration": 25,
    "start_time": "2022-07-09T17:13:56.415Z"
   },
   {
    "duration": 38,
    "start_time": "2022-07-09T17:13:56.853Z"
   },
   {
    "duration": 5,
    "start_time": "2022-07-09T17:13:57.166Z"
   },
   {
    "duration": 25,
    "start_time": "2022-07-09T17:13:57.401Z"
   },
   {
    "duration": 5,
    "start_time": "2022-07-09T17:13:57.645Z"
   },
   {
    "duration": 4,
    "start_time": "2022-07-09T17:13:57.945Z"
   },
   {
    "duration": 8,
    "start_time": "2022-07-09T17:13:58.247Z"
   },
   {
    "duration": 18,
    "start_time": "2022-07-09T17:13:59.214Z"
   },
   {
    "duration": 12,
    "start_time": "2022-07-09T17:13:59.948Z"
   },
   {
    "duration": 19,
    "start_time": "2022-07-09T17:14:01.619Z"
   },
   {
    "duration": 850,
    "start_time": "2022-07-09T17:25:52.321Z"
   },
   {
    "duration": 888,
    "start_time": "2022-07-09T17:26:13.154Z"
   },
   {
    "duration": 848,
    "start_time": "2022-07-09T17:26:25.218Z"
   },
   {
    "duration": 25,
    "start_time": "2022-07-09T17:26:35.678Z"
   },
   {
    "duration": 24,
    "start_time": "2022-07-09T17:44:16.527Z"
   },
   {
    "duration": 24,
    "start_time": "2022-07-09T17:46:31.841Z"
   },
   {
    "duration": 4,
    "start_time": "2022-07-09T17:48:21.660Z"
   },
   {
    "duration": 5,
    "start_time": "2022-07-09T17:48:26.141Z"
   },
   {
    "duration": 21,
    "start_time": "2022-07-09T17:48:37.811Z"
   },
   {
    "duration": 568,
    "start_time": "2022-07-09T17:48:51.172Z"
   },
   {
    "duration": 652,
    "start_time": "2022-07-09T17:49:10.125Z"
   },
   {
    "duration": 23,
    "start_time": "2022-07-09T17:53:02.291Z"
   },
   {
    "duration": 21,
    "start_time": "2022-07-09T17:53:16.908Z"
   },
   {
    "duration": 18,
    "start_time": "2022-07-09T17:56:38.076Z"
   },
   {
    "duration": 17,
    "start_time": "2022-07-09T17:57:07.754Z"
   },
   {
    "duration": 22,
    "start_time": "2022-07-09T17:57:19.168Z"
   },
   {
    "duration": 17,
    "start_time": "2022-07-09T17:59:51.836Z"
   },
   {
    "duration": 18,
    "start_time": "2022-07-09T18:00:02.571Z"
   },
   {
    "duration": 18,
    "start_time": "2022-07-09T18:00:33.170Z"
   },
   {
    "duration": 18,
    "start_time": "2022-07-09T18:01:56.208Z"
   },
   {
    "duration": 16,
    "start_time": "2022-07-09T18:02:38.412Z"
   },
   {
    "duration": 17,
    "start_time": "2022-07-09T18:02:45.735Z"
   },
   {
    "duration": 1130,
    "start_time": "2022-07-09T18:03:02.539Z"
   },
   {
    "duration": 262,
    "start_time": "2022-07-09T18:03:03.671Z"
   },
   {
    "duration": 34,
    "start_time": "2022-07-09T18:03:04.085Z"
   },
   {
    "duration": 17,
    "start_time": "2022-07-09T18:03:04.361Z"
   },
   {
    "duration": 17,
    "start_time": "2022-07-09T18:03:47.883Z"
   },
   {
    "duration": 1102,
    "start_time": "2022-07-09T18:04:26.047Z"
   },
   {
    "duration": 257,
    "start_time": "2022-07-09T18:04:27.450Z"
   },
   {
    "duration": 31,
    "start_time": "2022-07-09T18:04:28.744Z"
   },
   {
    "duration": 12,
    "start_time": "2022-07-09T18:04:29.486Z"
   },
   {
    "duration": 18,
    "start_time": "2022-07-09T18:04:33.801Z"
   },
   {
    "duration": 11,
    "start_time": "2022-07-09T18:04:34.003Z"
   },
   {
    "duration": 32,
    "start_time": "2022-07-09T18:04:35.003Z"
   },
   {
    "duration": 25,
    "start_time": "2022-07-09T18:04:35.635Z"
   },
   {
    "duration": 48,
    "start_time": "2022-07-09T18:04:36.066Z"
   },
   {
    "duration": 24,
    "start_time": "2022-07-09T18:04:36.271Z"
   },
   {
    "duration": 69,
    "start_time": "2022-07-09T18:04:37.248Z"
   },
   {
    "duration": 511,
    "start_time": "2022-07-09T18:04:37.847Z"
   },
   {
    "duration": 26,
    "start_time": "2022-07-09T18:04:38.360Z"
   },
   {
    "duration": 7,
    "start_time": "2022-07-09T18:04:38.453Z"
   },
   {
    "duration": 29,
    "start_time": "2022-07-09T18:04:39.502Z"
   },
   {
    "duration": 273,
    "start_time": "2022-07-09T18:04:40.096Z"
   },
   {
    "duration": 33,
    "start_time": "2022-07-09T18:04:40.522Z"
   },
   {
    "duration": 8,
    "start_time": "2022-07-09T18:04:40.718Z"
   },
   {
    "duration": 45,
    "start_time": "2022-07-09T18:04:41.777Z"
   },
   {
    "duration": 371,
    "start_time": "2022-07-09T18:04:42.396Z"
   },
   {
    "duration": 18,
    "start_time": "2022-07-09T18:04:43.041Z"
   },
   {
    "duration": 37,
    "start_time": "2022-07-09T18:04:43.470Z"
   },
   {
    "duration": 38,
    "start_time": "2022-07-09T18:04:43.692Z"
   },
   {
    "duration": 21,
    "start_time": "2022-07-09T18:04:43.911Z"
   },
   {
    "duration": 34,
    "start_time": "2022-07-09T18:04:44.117Z"
   },
   {
    "duration": 20,
    "start_time": "2022-07-09T18:04:44.334Z"
   },
   {
    "duration": 22,
    "start_time": "2022-07-09T18:04:44.764Z"
   },
   {
    "duration": 49,
    "start_time": "2022-07-09T18:04:44.996Z"
   },
   {
    "duration": 10,
    "start_time": "2022-07-09T18:04:45.200Z"
   },
   {
    "duration": 24,
    "start_time": "2022-07-09T18:04:45.405Z"
   },
   {
    "duration": 35,
    "start_time": "2022-07-09T18:04:45.639Z"
   },
   {
    "duration": 4,
    "start_time": "2022-07-09T18:04:45.849Z"
   },
   {
    "duration": 23,
    "start_time": "2022-07-09T18:04:46.057Z"
   },
   {
    "duration": 5,
    "start_time": "2022-07-09T18:04:46.273Z"
   },
   {
    "duration": 4,
    "start_time": "2022-07-09T18:04:46.483Z"
   },
   {
    "duration": 6,
    "start_time": "2022-07-09T18:04:46.697Z"
   },
   {
    "duration": 18,
    "start_time": "2022-07-09T18:04:46.918Z"
   },
   {
    "duration": 15,
    "start_time": "2022-07-09T18:04:47.135Z"
   },
   {
    "duration": 145,
    "start_time": "2022-07-09T18:04:47.342Z"
   },
   {
    "duration": 1095,
    "start_time": "2022-07-09T18:18:15.825Z"
   },
   {
    "duration": 266,
    "start_time": "2022-07-09T18:18:16.922Z"
   },
   {
    "duration": 31,
    "start_time": "2022-07-09T18:18:18.342Z"
   },
   {
    "duration": 12,
    "start_time": "2022-07-09T18:18:18.860Z"
   },
   {
    "duration": 18,
    "start_time": "2022-07-09T18:18:36.836Z"
   },
   {
    "duration": 9,
    "start_time": "2022-07-09T18:18:37.021Z"
   },
   {
    "duration": 26,
    "start_time": "2022-07-09T18:18:37.994Z"
   },
   {
    "duration": 29,
    "start_time": "2022-07-09T18:18:38.575Z"
   },
   {
    "duration": 48,
    "start_time": "2022-07-09T18:18:38.970Z"
   },
   {
    "duration": 24,
    "start_time": "2022-07-09T18:18:39.159Z"
   },
   {
    "duration": 54,
    "start_time": "2022-07-09T18:18:40.177Z"
   },
   {
    "duration": 511,
    "start_time": "2022-07-09T18:18:40.785Z"
   },
   {
    "duration": 30,
    "start_time": "2022-07-09T18:18:41.298Z"
   },
   {
    "duration": 7,
    "start_time": "2022-07-09T18:18:41.391Z"
   },
   {
    "duration": 30,
    "start_time": "2022-07-09T18:18:42.442Z"
   },
   {
    "duration": 279,
    "start_time": "2022-07-09T18:18:43.051Z"
   },
   {
    "duration": 30,
    "start_time": "2022-07-09T18:18:43.475Z"
   },
   {
    "duration": 8,
    "start_time": "2022-07-09T18:18:43.674Z"
   },
   {
    "duration": 47,
    "start_time": "2022-07-09T18:18:44.754Z"
   },
   {
    "duration": 403,
    "start_time": "2022-07-09T18:18:45.395Z"
   },
   {
    "duration": 17,
    "start_time": "2022-07-09T18:18:46.051Z"
   },
   {
    "duration": 37,
    "start_time": "2022-07-09T18:18:46.700Z"
   },
   {
    "duration": 36,
    "start_time": "2022-07-09T18:18:46.961Z"
   },
   {
    "duration": 21,
    "start_time": "2022-07-09T18:18:48.083Z"
   },
   {
    "duration": 32,
    "start_time": "2022-07-09T18:18:48.758Z"
   },
   {
    "duration": 16,
    "start_time": "2022-07-09T18:18:49.281Z"
   },
   {
    "duration": 22,
    "start_time": "2022-07-09T18:18:49.778Z"
   },
   {
    "duration": 44,
    "start_time": "2022-07-09T18:18:50.095Z"
   },
   {
    "duration": 10,
    "start_time": "2022-07-09T18:18:50.341Z"
   },
   {
    "duration": 25,
    "start_time": "2022-07-09T18:18:50.561Z"
   },
   {
    "duration": 37,
    "start_time": "2022-07-09T18:18:50.841Z"
   },
   {
    "duration": 4,
    "start_time": "2022-07-09T18:18:57.072Z"
   },
   {
    "duration": 26,
    "start_time": "2022-07-09T18:18:57.734Z"
   },
   {
    "duration": 6,
    "start_time": "2022-07-09T18:18:58.071Z"
   },
   {
    "duration": 4,
    "start_time": "2022-07-09T18:18:58.291Z"
   },
   {
    "duration": 8,
    "start_time": "2022-07-09T18:18:58.511Z"
   },
   {
    "duration": 18,
    "start_time": "2022-07-09T18:18:58.735Z"
   },
   {
    "duration": 11,
    "start_time": "2022-07-09T18:18:58.936Z"
   },
   {
    "duration": 112,
    "start_time": "2022-07-09T18:18:59.174Z"
   },
   {
    "duration": 10,
    "start_time": "2022-07-09T18:19:45.736Z"
   },
   {
    "duration": 21,
    "start_time": "2022-07-09T18:19:49.650Z"
   },
   {
    "duration": 11,
    "start_time": "2022-07-09T18:19:49.843Z"
   },
   {
    "duration": 28,
    "start_time": "2022-07-09T18:19:50.823Z"
   },
   {
    "duration": 27,
    "start_time": "2022-07-09T18:19:51.438Z"
   },
   {
    "duration": 45,
    "start_time": "2022-07-09T18:19:51.799Z"
   },
   {
    "duration": 20,
    "start_time": "2022-07-09T18:19:52.008Z"
   },
   {
    "duration": 41,
    "start_time": "2022-07-09T18:19:52.974Z"
   },
   {
    "duration": 491,
    "start_time": "2022-07-09T18:19:53.558Z"
   },
   {
    "duration": 21,
    "start_time": "2022-07-09T18:19:54.051Z"
   },
   {
    "duration": 8,
    "start_time": "2022-07-09T18:19:54.142Z"
   },
   {
    "duration": 29,
    "start_time": "2022-07-09T18:19:55.144Z"
   },
   {
    "duration": 284,
    "start_time": "2022-07-09T18:19:55.742Z"
   },
   {
    "duration": 34,
    "start_time": "2022-07-09T18:19:56.153Z"
   },
   {
    "duration": 8,
    "start_time": "2022-07-09T18:19:56.354Z"
   },
   {
    "duration": 49,
    "start_time": "2022-07-09T18:19:57.364Z"
   },
   {
    "duration": 398,
    "start_time": "2022-07-09T18:19:57.979Z"
   },
   {
    "duration": 9,
    "start_time": "2022-07-09T18:19:58.569Z"
   },
   {
    "duration": 32,
    "start_time": "2022-07-09T18:19:59.019Z"
   },
   {
    "duration": 31,
    "start_time": "2022-07-09T18:19:59.235Z"
   },
   {
    "duration": 21,
    "start_time": "2022-07-09T18:19:59.449Z"
   },
   {
    "duration": 31,
    "start_time": "2022-07-09T18:19:59.652Z"
   },
   {
    "duration": 18,
    "start_time": "2022-07-09T18:19:59.877Z"
   },
   {
    "duration": 23,
    "start_time": "2022-07-09T18:20:00.404Z"
   },
   {
    "duration": 48,
    "start_time": "2022-07-09T18:20:00.750Z"
   },
   {
    "duration": 11,
    "start_time": "2022-07-09T18:20:01.539Z"
   },
   {
    "duration": 26,
    "start_time": "2022-07-09T18:20:01.940Z"
   },
   {
    "duration": 47,
    "start_time": "2022-07-09T18:20:02.286Z"
   },
   {
    "duration": 4,
    "start_time": "2022-07-09T18:20:02.864Z"
   },
   {
    "duration": 23,
    "start_time": "2022-07-09T18:20:04.461Z"
   },
   {
    "duration": 5,
    "start_time": "2022-07-09T18:20:06.373Z"
   },
   {
    "duration": 3,
    "start_time": "2022-07-09T18:20:06.653Z"
   },
   {
    "duration": 7,
    "start_time": "2022-07-09T18:20:07.043Z"
   },
   {
    "duration": 24,
    "start_time": "2022-07-09T18:20:07.335Z"
   },
   {
    "duration": 10,
    "start_time": "2022-07-09T18:20:07.591Z"
   },
   {
    "duration": 18,
    "start_time": "2022-07-09T18:20:08.377Z"
   },
   {
    "duration": 742,
    "start_time": "2022-07-09T18:20:28.198Z"
   },
   {
    "duration": 745,
    "start_time": "2022-07-09T18:20:45.135Z"
   },
   {
    "duration": 174,
    "start_time": "2022-07-09T18:21:20.923Z"
   },
   {
    "duration": 16,
    "start_time": "2022-07-09T18:28:32.657Z"
   },
   {
    "duration": 10,
    "start_time": "2022-07-09T18:30:28.889Z"
   },
   {
    "duration": 16,
    "start_time": "2022-07-09T18:30:47.393Z"
   },
   {
    "duration": 20,
    "start_time": "2022-07-09T18:30:52.851Z"
   },
   {
    "duration": 24,
    "start_time": "2022-07-09T18:31:07.883Z"
   },
   {
    "duration": 20,
    "start_time": "2022-07-09T18:31:25.603Z"
   },
   {
    "duration": 33,
    "start_time": "2022-07-09T19:07:30.808Z"
   },
   {
    "duration": 9,
    "start_time": "2022-07-09T19:08:11.678Z"
   },
   {
    "duration": 27,
    "start_time": "2022-07-09T19:08:13.780Z"
   },
   {
    "duration": 321,
    "start_time": "2022-07-09T19:08:14.481Z"
   },
   {
    "duration": 31,
    "start_time": "2022-07-09T19:08:14.920Z"
   },
   {
    "duration": 10,
    "start_time": "2022-07-09T19:08:15.153Z"
   },
   {
    "duration": 37,
    "start_time": "2022-07-09T19:08:16.920Z"
   },
   {
    "duration": 384,
    "start_time": "2022-07-09T19:08:17.815Z"
   },
   {
    "duration": 15,
    "start_time": "2022-07-09T19:08:21.865Z"
   },
   {
    "duration": 32,
    "start_time": "2022-07-09T19:08:22.550Z"
   },
   {
    "duration": 31,
    "start_time": "2022-07-09T19:08:23.069Z"
   },
   {
    "duration": 31,
    "start_time": "2022-07-09T19:09:29.158Z"
   },
   {
    "duration": 17,
    "start_time": "2022-07-09T19:09:47.271Z"
   },
   {
    "duration": 14,
    "start_time": "2022-07-09T19:09:56.032Z"
   },
   {
    "duration": 33,
    "start_time": "2022-07-09T19:09:57.036Z"
   },
   {
    "duration": 16,
    "start_time": "2022-07-09T19:09:57.601Z"
   },
   {
    "duration": 25,
    "start_time": "2022-07-09T19:09:58.404Z"
   },
   {
    "duration": 21,
    "start_time": "2022-07-09T19:09:58.649Z"
   },
   {
    "duration": 10,
    "start_time": "2022-07-09T19:09:58.937Z"
   },
   {
    "duration": 23,
    "start_time": "2022-07-09T19:09:59.948Z"
   },
   {
    "duration": 34,
    "start_time": "2022-07-09T19:10:01.170Z"
   },
   {
    "duration": 4,
    "start_time": "2022-07-09T19:10:01.206Z"
   },
   {
    "duration": 23,
    "start_time": "2022-07-09T19:10:01.499Z"
   },
   {
    "duration": 13,
    "start_time": "2022-07-09T19:10:01.777Z"
   },
   {
    "duration": 4,
    "start_time": "2022-07-09T19:10:02.066Z"
   },
   {
    "duration": 9,
    "start_time": "2022-07-09T19:10:02.402Z"
   },
   {
    "duration": 21,
    "start_time": "2022-07-09T19:10:02.734Z"
   },
   {
    "duration": 14,
    "start_time": "2022-07-09T19:10:04.497Z"
   },
   {
    "duration": 1025,
    "start_time": "2022-07-09T19:10:05.076Z"
   },
   {
    "duration": 16,
    "start_time": "2022-07-09T19:11:21.604Z"
   },
   {
    "duration": 30,
    "start_time": "2022-07-09T19:11:22.901Z"
   },
   {
    "duration": 17,
    "start_time": "2022-07-09T19:11:23.310Z"
   },
   {
    "duration": 21,
    "start_time": "2022-07-09T19:11:24.096Z"
   },
   {
    "duration": 42,
    "start_time": "2022-07-09T19:11:24.373Z"
   },
   {
    "duration": 12,
    "start_time": "2022-07-09T19:11:24.614Z"
   },
   {
    "duration": 32,
    "start_time": "2022-07-09T19:11:24.902Z"
   },
   {
    "duration": 37,
    "start_time": "2022-07-09T19:11:25.581Z"
   },
   {
    "duration": 4,
    "start_time": "2022-07-09T19:11:26.033Z"
   },
   {
    "duration": 26,
    "start_time": "2022-07-09T19:11:26.408Z"
   },
   {
    "duration": 12,
    "start_time": "2022-07-09T19:11:26.754Z"
   },
   {
    "duration": 3,
    "start_time": "2022-07-09T19:11:27.848Z"
   },
   {
    "duration": 9,
    "start_time": "2022-07-09T19:11:28.829Z"
   },
   {
    "duration": 28,
    "start_time": "2022-07-09T19:11:29.384Z"
   },
   {
    "duration": 12,
    "start_time": "2022-07-09T19:11:41.175Z"
   },
   {
    "duration": 1025,
    "start_time": "2022-07-09T19:11:41.813Z"
   },
   {
    "duration": 1088,
    "start_time": "2022-07-09T19:11:59.066Z"
   },
   {
    "duration": 297,
    "start_time": "2022-07-09T19:12:00.156Z"
   },
   {
    "duration": 33,
    "start_time": "2022-07-09T19:12:00.455Z"
   },
   {
    "duration": 13,
    "start_time": "2022-07-09T19:12:00.490Z"
   },
   {
    "duration": 20,
    "start_time": "2022-07-09T19:12:02.130Z"
   },
   {
    "duration": 10,
    "start_time": "2022-07-09T19:12:02.340Z"
   },
   {
    "duration": 27,
    "start_time": "2022-07-09T19:12:03.286Z"
   },
   {
    "duration": 27,
    "start_time": "2022-07-09T19:12:03.851Z"
   },
   {
    "duration": 49,
    "start_time": "2022-07-09T19:12:04.254Z"
   },
   {
    "duration": 27,
    "start_time": "2022-07-09T19:12:04.471Z"
   },
   {
    "duration": 51,
    "start_time": "2022-07-09T19:12:05.460Z"
   },
   {
    "duration": 507,
    "start_time": "2022-07-09T19:12:06.074Z"
   },
   {
    "duration": 125,
    "start_time": "2022-07-09T19:12:06.583Z"
   },
   {
    "duration": 8,
    "start_time": "2022-07-09T19:12:06.733Z"
   },
   {
    "duration": 29,
    "start_time": "2022-07-09T19:12:08.166Z"
   },
   {
    "duration": 276,
    "start_time": "2022-07-09T19:12:08.845Z"
   },
   {
    "duration": 36,
    "start_time": "2022-07-09T19:12:09.290Z"
   },
   {
    "duration": 11,
    "start_time": "2022-07-09T19:12:09.507Z"
   },
   {
    "duration": 47,
    "start_time": "2022-07-09T19:12:10.574Z"
   },
   {
    "duration": 383,
    "start_time": "2022-07-09T19:12:11.181Z"
   },
   {
    "duration": 17,
    "start_time": "2022-07-09T19:12:11.834Z"
   },
   {
    "duration": 40,
    "start_time": "2022-07-09T19:12:12.233Z"
   },
   {
    "duration": 39,
    "start_time": "2022-07-09T19:12:12.438Z"
   },
   {
    "duration": 16,
    "start_time": "2022-07-09T19:12:12.665Z"
   },
   {
    "duration": 36,
    "start_time": "2022-07-09T19:12:12.860Z"
   },
   {
    "duration": 19,
    "start_time": "2022-07-09T19:12:13.066Z"
   },
   {
    "duration": 22,
    "start_time": "2022-07-09T19:12:13.532Z"
   },
   {
    "duration": 48,
    "start_time": "2022-07-09T19:12:13.741Z"
   },
   {
    "duration": 10,
    "start_time": "2022-07-09T19:12:13.953Z"
   },
   {
    "duration": 27,
    "start_time": "2022-07-09T19:12:14.184Z"
   },
   {
    "duration": 38,
    "start_time": "2022-07-09T19:12:14.842Z"
   },
   {
    "duration": 4,
    "start_time": "2022-07-09T19:12:15.082Z"
   },
   {
    "duration": 26,
    "start_time": "2022-07-09T19:12:15.845Z"
   },
   {
    "duration": 18,
    "start_time": "2022-07-09T19:12:16.676Z"
   },
   {
    "duration": 4,
    "start_time": "2022-07-09T19:12:17.232Z"
   },
   {
    "duration": 6,
    "start_time": "2022-07-09T19:12:38.779Z"
   },
   {
    "duration": 4,
    "start_time": "2022-07-09T19:12:40.464Z"
   },
   {
    "duration": 9,
    "start_time": "2022-07-09T19:12:42.732Z"
   },
   {
    "duration": 18,
    "start_time": "2022-07-09T19:12:43.654Z"
   },
   {
    "duration": 4,
    "start_time": "2022-07-09T19:13:27.780Z"
   },
   {
    "duration": 9,
    "start_time": "2022-07-09T19:13:28.833Z"
   },
   {
    "duration": 21,
    "start_time": "2022-07-09T19:13:29.532Z"
   },
   {
    "duration": 11,
    "start_time": "2022-07-09T19:13:30.734Z"
   },
   {
    "duration": 1088,
    "start_time": "2022-07-09T19:13:32.234Z"
   },
   {
    "duration": 4,
    "start_time": "2022-07-09T19:13:54.292Z"
   },
   {
    "duration": 8,
    "start_time": "2022-07-09T19:13:54.988Z"
   },
   {
    "duration": 20,
    "start_time": "2022-07-09T19:13:56.133Z"
   },
   {
    "duration": 4,
    "start_time": "2022-07-09T19:14:08.664Z"
   },
   {
    "duration": 7,
    "start_time": "2022-07-09T19:14:09.167Z"
   },
   {
    "duration": 21,
    "start_time": "2022-07-09T19:14:09.940Z"
   },
   {
    "duration": 11,
    "start_time": "2022-07-09T19:14:11.246Z"
   },
   {
    "duration": 708,
    "start_time": "2022-07-09T19:14:11.941Z"
   },
   {
    "duration": 1156,
    "start_time": "2022-07-09T19:14:34.040Z"
   },
   {
    "duration": 254,
    "start_time": "2022-07-09T19:14:37.697Z"
   },
   {
    "duration": 36,
    "start_time": "2022-07-09T19:14:38.752Z"
   },
   {
    "duration": 13,
    "start_time": "2022-07-09T19:14:39.041Z"
   },
   {
    "duration": 20,
    "start_time": "2022-07-09T19:14:42.026Z"
   },
   {
    "duration": 10,
    "start_time": "2022-07-09T19:14:42.277Z"
   },
   {
    "duration": 30,
    "start_time": "2022-07-09T19:14:43.960Z"
   },
   {
    "duration": 29,
    "start_time": "2022-07-09T19:14:44.785Z"
   },
   {
    "duration": 46,
    "start_time": "2022-07-09T19:14:45.303Z"
   },
   {
    "duration": 23,
    "start_time": "2022-07-09T19:14:45.554Z"
   },
   {
    "duration": 51,
    "start_time": "2022-07-09T19:14:46.741Z"
   },
   {
    "duration": 492,
    "start_time": "2022-07-09T19:14:47.504Z"
   },
   {
    "duration": 111,
    "start_time": "2022-07-09T19:14:48.013Z"
   },
   {
    "duration": 7,
    "start_time": "2022-07-09T19:14:48.280Z"
   },
   {
    "duration": 29,
    "start_time": "2022-07-09T19:14:49.527Z"
   },
   {
    "duration": 288,
    "start_time": "2022-07-09T19:14:50.340Z"
   },
   {
    "duration": 32,
    "start_time": "2022-07-09T19:14:50.840Z"
   },
   {
    "duration": 9,
    "start_time": "2022-07-09T19:14:51.113Z"
   },
   {
    "duration": 45,
    "start_time": "2022-07-09T19:14:52.395Z"
   },
   {
    "duration": 393,
    "start_time": "2022-07-09T19:14:53.168Z"
   },
   {
    "duration": 18,
    "start_time": "2022-07-09T19:14:54.050Z"
   },
   {
    "duration": 36,
    "start_time": "2022-07-09T19:14:58.811Z"
   },
   {
    "duration": 36,
    "start_time": "2022-07-09T19:15:08.345Z"
   },
   {
    "duration": 15,
    "start_time": "2022-07-09T19:15:09.845Z"
   },
   {
    "duration": 22,
    "start_time": "2022-07-09T19:16:17.340Z"
   },
   {
    "duration": 16,
    "start_time": "2022-07-09T19:16:24.710Z"
   },
   {
    "duration": 36,
    "start_time": "2022-07-09T19:16:25.190Z"
   },
   {
    "duration": 18,
    "start_time": "2022-07-09T19:16:25.845Z"
   },
   {
    "duration": 25,
    "start_time": "2022-07-09T19:16:26.672Z"
   },
   {
    "duration": 44,
    "start_time": "2022-07-09T19:16:27.041Z"
   },
   {
    "duration": 10,
    "start_time": "2022-07-09T19:16:27.737Z"
   },
   {
    "duration": 26,
    "start_time": "2022-07-09T19:16:28.193Z"
   },
   {
    "duration": 42,
    "start_time": "2022-07-09T19:16:28.492Z"
   },
   {
    "duration": 4,
    "start_time": "2022-07-09T19:16:28.706Z"
   },
   {
    "duration": 25,
    "start_time": "2022-07-09T19:16:28.937Z"
   },
   {
    "duration": 5,
    "start_time": "2022-07-09T19:16:29.109Z"
   },
   {
    "duration": 4,
    "start_time": "2022-07-09T19:16:29.779Z"
   },
   {
    "duration": 9,
    "start_time": "2022-07-09T19:16:34.439Z"
   },
   {
    "duration": 17,
    "start_time": "2022-07-09T19:16:35.205Z"
   },
   {
    "duration": 4,
    "start_time": "2022-07-09T19:16:43.335Z"
   },
   {
    "duration": 7,
    "start_time": "2022-07-09T19:16:44.229Z"
   },
   {
    "duration": 19,
    "start_time": "2022-07-09T19:16:45.093Z"
   },
   {
    "duration": 12,
    "start_time": "2022-07-09T19:16:48.760Z"
   },
   {
    "duration": 154,
    "start_time": "2022-07-09T19:16:49.403Z"
   },
   {
    "duration": 15,
    "start_time": "2022-07-09T19:17:41.909Z"
   },
   {
    "duration": 144,
    "start_time": "2022-07-09T19:18:10.319Z"
   },
   {
    "duration": 20,
    "start_time": "2022-07-09T19:18:20.933Z"
   },
   {
    "duration": 184,
    "start_time": "2022-07-09T19:19:19.006Z"
   },
   {
    "duration": 4,
    "start_time": "2022-07-09T19:19:26.062Z"
   },
   {
    "duration": 858,
    "start_time": "2022-07-09T19:19:26.872Z"
   },
   {
    "duration": 7,
    "start_time": "2022-07-09T19:19:28.937Z"
   },
   {
    "duration": 136,
    "start_time": "2022-07-09T19:19:29.510Z"
   },
   {
    "duration": 9,
    "start_time": "2022-07-09T19:19:30.472Z"
   },
   {
    "duration": 8,
    "start_time": "2022-07-09T19:19:30.674Z"
   },
   {
    "duration": 140,
    "start_time": "2022-07-09T19:19:30.876Z"
   },
   {
    "duration": 2,
    "start_time": "2022-07-09T19:19:31.684Z"
   },
   {
    "duration": 8,
    "start_time": "2022-07-09T19:19:31.869Z"
   },
   {
    "duration": 727,
    "start_time": "2022-07-09T19:19:32.065Z"
   },
   {
    "duration": 3,
    "start_time": "2022-07-09T19:19:33.099Z"
   },
   {
    "duration": 153,
    "start_time": "2022-07-09T19:19:33.449Z"
   },
   {
    "duration": 2,
    "start_time": "2022-07-09T19:19:34.644Z"
   },
   {
    "duration": 155,
    "start_time": "2022-07-09T19:20:00.188Z"
   },
   {
    "duration": 810,
    "start_time": "2022-07-09T19:20:25.743Z"
   },
   {
    "duration": 743,
    "start_time": "2022-07-09T19:20:49.265Z"
   },
   {
    "duration": 970,
    "start_time": "2022-07-09T19:21:03.751Z"
   },
   {
    "duration": 42,
    "start_time": "2022-07-09T23:18:26.864Z"
   },
   {
    "duration": 1230,
    "start_time": "2022-07-09T23:22:48.114Z"
   },
   {
    "duration": 521,
    "start_time": "2022-07-09T23:22:49.346Z"
   },
   {
    "duration": 37,
    "start_time": "2022-07-09T23:22:49.869Z"
   },
   {
    "duration": 13,
    "start_time": "2022-07-09T23:22:49.908Z"
   },
   {
    "duration": 21,
    "start_time": "2022-07-09T23:22:50.463Z"
   },
   {
    "duration": 11,
    "start_time": "2022-07-09T23:22:50.673Z"
   },
   {
    "duration": 26,
    "start_time": "2022-07-09T23:22:51.500Z"
   },
   {
    "duration": 28,
    "start_time": "2022-07-09T23:22:51.903Z"
   },
   {
    "duration": 48,
    "start_time": "2022-07-09T23:22:52.322Z"
   },
   {
    "duration": 23,
    "start_time": "2022-07-09T23:22:53.042Z"
   },
   {
    "duration": 53,
    "start_time": "2022-07-09T23:22:53.201Z"
   },
   {
    "duration": 509,
    "start_time": "2022-07-09T23:22:53.621Z"
   },
   {
    "duration": 125,
    "start_time": "2022-07-09T23:22:54.131Z"
   },
   {
    "duration": 0,
    "start_time": "2022-07-09T23:22:54.257Z"
   },
   {
    "duration": 29,
    "start_time": "2022-07-09T23:23:11.601Z"
   },
   {
    "duration": 268,
    "start_time": "2022-07-09T23:23:12.629Z"
   },
   {
    "duration": 24,
    "start_time": "2022-07-09T23:23:22.462Z"
   },
   {
    "duration": 8,
    "start_time": "2022-07-09T23:23:23.215Z"
   },
   {
    "duration": 28,
    "start_time": "2022-07-09T23:23:24.508Z"
   },
   {
    "duration": 337,
    "start_time": "2022-07-09T23:23:25.074Z"
   },
   {
    "duration": 32,
    "start_time": "2022-07-09T23:23:25.806Z"
   },
   {
    "duration": 9,
    "start_time": "2022-07-09T23:23:26.069Z"
   },
   {
    "duration": 43,
    "start_time": "2022-07-09T23:23:27.027Z"
   },
   {
    "duration": 397,
    "start_time": "2022-07-09T23:23:28.590Z"
   },
   {
    "duration": 21,
    "start_time": "2022-07-09T23:23:29.357Z"
   },
   {
    "duration": 38,
    "start_time": "2022-07-09T23:23:30.416Z"
   },
   {
    "duration": 37,
    "start_time": "2022-07-09T23:23:30.923Z"
   },
   {
    "duration": 16,
    "start_time": "2022-07-09T23:23:31.345Z"
   },
   {
    "duration": 35,
    "start_time": "2022-07-09T23:23:31.773Z"
   },
   {
    "duration": 21,
    "start_time": "2022-07-09T23:23:32.162Z"
   },
   {
    "duration": 23,
    "start_time": "2022-07-09T23:23:32.586Z"
   },
   {
    "duration": 45,
    "start_time": "2022-07-09T23:23:32.988Z"
   },
   {
    "duration": 10,
    "start_time": "2022-07-09T23:23:33.458Z"
   },
   {
    "duration": 33,
    "start_time": "2022-07-09T23:23:33.913Z"
   },
   {
    "duration": 35,
    "start_time": "2022-07-09T23:23:34.257Z"
   },
   {
    "duration": 4,
    "start_time": "2022-07-09T23:23:34.625Z"
   },
   {
    "duration": 23,
    "start_time": "2022-07-09T23:23:35.127Z"
   },
   {
    "duration": 5,
    "start_time": "2022-07-09T23:23:35.519Z"
   },
   {
    "duration": 4,
    "start_time": "2022-07-09T23:23:35.966Z"
   },
   {
    "duration": 8,
    "start_time": "2022-07-09T23:23:36.390Z"
   },
   {
    "duration": 141,
    "start_time": "2022-07-09T23:23:36.901Z"
   },
   {
    "duration": 28,
    "start_time": "2022-07-09T23:23:38.887Z"
   },
   {
    "duration": 178,
    "start_time": "2022-07-09T23:24:26.945Z"
   },
   {
    "duration": 705,
    "start_time": "2022-07-09T23:24:44.164Z"
   },
   {
    "duration": 13,
    "start_time": "2022-07-09T23:24:57.810Z"
   },
   {
    "duration": 125,
    "start_time": "2022-07-09T23:26:45.908Z"
   },
   {
    "duration": 193,
    "start_time": "2022-07-09T23:30:11.319Z"
   },
   {
    "duration": 787,
    "start_time": "2022-07-09T23:30:25.685Z"
   },
   {
    "duration": 1002,
    "start_time": "2022-07-09T23:30:32.033Z"
   },
   {
    "duration": 1130,
    "start_time": "2022-07-09T23:30:59.788Z"
   },
   {
    "duration": 901,
    "start_time": "2022-07-09T23:31:11.504Z"
   },
   {
    "duration": 138,
    "start_time": "2022-07-09T23:31:24.661Z"
   },
   {
    "duration": 48,
    "start_time": "2022-07-10T00:17:13.747Z"
   },
   {
    "duration": 48,
    "start_time": "2022-07-10T00:17:23.152Z"
   },
   {
    "duration": 50,
    "start_time": "2022-07-10T00:17:33.127Z"
   },
   {
    "duration": 61,
    "start_time": "2022-07-10T00:17:41.373Z"
   },
   {
    "duration": 48,
    "start_time": "2022-07-10T00:17:45.042Z"
   },
   {
    "duration": 47,
    "start_time": "2022-07-10T00:18:35.869Z"
   },
   {
    "duration": 491,
    "start_time": "2022-07-10T00:19:01.511Z"
   },
   {
    "duration": 170,
    "start_time": "2022-07-10T00:19:37.348Z"
   },
   {
    "duration": 120,
    "start_time": "2022-07-10T00:19:54.313Z"
   },
   {
    "duration": 236,
    "start_time": "2022-07-10T00:20:08.744Z"
   },
   {
    "duration": 122,
    "start_time": "2022-07-10T00:20:27.347Z"
   },
   {
    "duration": 217,
    "start_time": "2022-07-10T00:21:39.356Z"
   },
   {
    "duration": 205,
    "start_time": "2022-07-10T00:21:53.701Z"
   },
   {
    "duration": 211,
    "start_time": "2022-07-10T00:21:59.851Z"
   },
   {
    "duration": 231,
    "start_time": "2022-07-10T00:22:06.973Z"
   },
   {
    "duration": 225,
    "start_time": "2022-07-10T00:22:24.585Z"
   },
   {
    "duration": 222,
    "start_time": "2022-07-10T00:22:31.557Z"
   },
   {
    "duration": 340,
    "start_time": "2022-07-10T00:22:36.427Z"
   },
   {
    "duration": 227,
    "start_time": "2022-07-10T00:22:42.605Z"
   },
   {
    "duration": 207,
    "start_time": "2022-07-10T00:22:46.645Z"
   },
   {
    "duration": 225,
    "start_time": "2022-07-10T00:22:54.115Z"
   },
   {
    "duration": 2160,
    "start_time": "2022-07-10T00:23:18.088Z"
   },
   {
    "duration": 2621,
    "start_time": "2022-07-10T00:23:51.191Z"
   },
   {
    "duration": 2456,
    "start_time": "2022-07-10T00:24:05.572Z"
   },
   {
    "duration": 1027,
    "start_time": "2022-07-10T00:25:17.758Z"
   },
   {
    "duration": 512,
    "start_time": "2022-07-10T00:25:35.695Z"
   },
   {
    "duration": 5,
    "start_time": "2022-07-10T00:26:24.145Z"
   },
   {
    "duration": 601,
    "start_time": "2022-07-10T00:26:28.384Z"
   },
   {
    "duration": 768,
    "start_time": "2022-07-10T00:26:42.436Z"
   },
   {
    "duration": 762,
    "start_time": "2022-07-10T00:26:47.150Z"
   },
   {
    "duration": 4070,
    "start_time": "2022-07-10T00:27:11.422Z"
   },
   {
    "duration": 25,
    "start_time": "2022-07-10T00:28:10.292Z"
   },
   {
    "duration": 16,
    "start_time": "2022-07-10T00:30:02.661Z"
   },
   {
    "duration": 4528,
    "start_time": "2022-07-10T00:30:33.573Z"
   },
   {
    "duration": 14,
    "start_time": "2022-07-10T00:31:25.524Z"
   },
   {
    "duration": 1416,
    "start_time": "2022-07-10T00:31:36.713Z"
   },
   {
    "duration": 1485,
    "start_time": "2022-07-10T00:31:51.068Z"
   },
   {
    "duration": 2,
    "start_time": "2022-07-10T00:32:12.596Z"
   },
   {
    "duration": 266,
    "start_time": "2022-07-10T00:32:13.375Z"
   },
   {
    "duration": 30,
    "start_time": "2022-07-10T00:32:13.956Z"
   },
   {
    "duration": 12,
    "start_time": "2022-07-10T00:32:14.146Z"
   },
   {
    "duration": 19,
    "start_time": "2022-07-10T00:32:14.909Z"
   },
   {
    "duration": 9,
    "start_time": "2022-07-10T00:32:15.107Z"
   },
   {
    "duration": 26,
    "start_time": "2022-07-10T00:32:15.896Z"
   },
   {
    "duration": 28,
    "start_time": "2022-07-10T00:32:16.278Z"
   },
   {
    "duration": 39,
    "start_time": "2022-07-10T00:32:16.676Z"
   },
   {
    "duration": 23,
    "start_time": "2022-07-10T00:32:16.873Z"
   },
   {
    "duration": 52,
    "start_time": "2022-07-10T00:32:17.454Z"
   },
   {
    "duration": 488,
    "start_time": "2022-07-10T00:32:17.810Z"
   },
   {
    "duration": 19,
    "start_time": "2022-07-10T00:32:18.301Z"
   },
   {
    "duration": 7,
    "start_time": "2022-07-10T00:32:18.397Z"
   },
   {
    "duration": 26,
    "start_time": "2022-07-10T00:32:19.226Z"
   },
   {
    "duration": 279,
    "start_time": "2022-07-10T00:32:19.582Z"
   },
   {
    "duration": 30,
    "start_time": "2022-07-10T00:32:19.961Z"
   },
   {
    "duration": 9,
    "start_time": "2022-07-10T00:32:20.179Z"
   },
   {
    "duration": 41,
    "start_time": "2022-07-10T00:32:20.755Z"
   },
   {
    "duration": 391,
    "start_time": "2022-07-10T00:32:21.162Z"
   },
   {
    "duration": 15,
    "start_time": "2022-07-10T00:32:21.555Z"
   },
   {
    "duration": 31,
    "start_time": "2022-07-10T00:32:21.956Z"
   },
   {
    "duration": 30,
    "start_time": "2022-07-10T00:32:22.159Z"
   },
   {
    "duration": 16,
    "start_time": "2022-07-10T00:32:22.357Z"
   },
   {
    "duration": 32,
    "start_time": "2022-07-10T00:32:22.570Z"
   },
   {
    "duration": 17,
    "start_time": "2022-07-10T00:32:22.770Z"
   },
   {
    "duration": 22,
    "start_time": "2022-07-10T00:32:22.974Z"
   },
   {
    "duration": 40,
    "start_time": "2022-07-10T00:32:23.187Z"
   },
   {
    "duration": 9,
    "start_time": "2022-07-10T00:32:23.345Z"
   },
   {
    "duration": 28,
    "start_time": "2022-07-10T00:32:23.534Z"
   },
   {
    "duration": 40,
    "start_time": "2022-07-10T00:32:23.742Z"
   },
   {
    "duration": 5,
    "start_time": "2022-07-10T00:32:23.913Z"
   },
   {
    "duration": 24,
    "start_time": "2022-07-10T00:32:24.130Z"
   },
   {
    "duration": 4,
    "start_time": "2022-07-10T00:32:24.366Z"
   },
   {
    "duration": 4,
    "start_time": "2022-07-10T00:32:24.606Z"
   },
   {
    "duration": 7,
    "start_time": "2022-07-10T00:32:24.831Z"
   },
   {
    "duration": 145,
    "start_time": "2022-07-10T00:32:25.047Z"
   },
   {
    "duration": 23,
    "start_time": "2022-07-10T00:32:25.485Z"
   },
   {
    "duration": 13,
    "start_time": "2022-07-10T00:32:25.908Z"
   },
   {
    "duration": 4,
    "start_time": "2022-07-10T00:32:26.148Z"
   },
   {
    "duration": 1326,
    "start_time": "2022-07-10T00:32:26.374Z"
   },
   {
    "duration": 950,
    "start_time": "2022-07-10T00:32:39.816Z"
   },
   {
    "duration": 2,
    "start_time": "2022-07-10T00:32:49.997Z"
   },
   {
    "duration": 1396,
    "start_time": "2022-07-10T00:33:02.401Z"
   },
   {
    "duration": 8,
    "start_time": "2022-07-10T00:33:22.805Z"
   },
   {
    "duration": 9,
    "start_time": "2022-07-10T00:33:39.167Z"
   },
   {
    "duration": 9,
    "start_time": "2022-07-10T00:34:24.847Z"
   },
   {
    "duration": 147,
    "start_time": "2022-07-10T00:34:42.411Z"
   },
   {
    "duration": 775,
    "start_time": "2022-07-10T00:34:49.995Z"
   },
   {
    "duration": 142,
    "start_time": "2022-07-10T00:35:05.547Z"
   },
   {
    "duration": 142,
    "start_time": "2022-07-10T00:35:29.625Z"
   },
   {
    "duration": 153,
    "start_time": "2022-07-10T00:36:10.733Z"
   },
   {
    "duration": 146,
    "start_time": "2022-07-10T00:36:42.931Z"
   },
   {
    "duration": 139,
    "start_time": "2022-07-10T00:37:07.476Z"
   },
   {
    "duration": 137,
    "start_time": "2022-07-10T00:37:24.366Z"
   },
   {
    "duration": 2,
    "start_time": "2022-07-10T00:38:41.182Z"
   },
   {
    "duration": 16,
    "start_time": "2022-07-10T00:38:50.463Z"
   },
   {
    "duration": 17,
    "start_time": "2022-07-10T00:50:41.368Z"
   },
   {
    "duration": 12,
    "start_time": "2022-07-10T00:53:09.894Z"
   },
   {
    "duration": 29190,
    "start_time": "2022-07-10T00:55:53.907Z"
   },
   {
    "duration": 29295,
    "start_time": "2022-07-10T01:03:39.436Z"
   },
   {
    "duration": 16,
    "start_time": "2022-07-10T01:05:49.062Z"
   },
   {
    "duration": 15,
    "start_time": "2022-07-10T01:05:58.322Z"
   },
   {
    "duration": 30079,
    "start_time": "2022-07-10T01:06:13.329Z"
   },
   {
    "duration": 16,
    "start_time": "2022-07-10T01:25:13.221Z"
   },
   {
    "duration": 27952,
    "start_time": "2022-07-10T01:25:38.126Z"
   },
   {
    "duration": 29760,
    "start_time": "2022-07-10T01:27:28.764Z"
   },
   {
    "duration": 917,
    "start_time": "2022-07-10T01:29:19.412Z"
   },
   {
    "duration": 775,
    "start_time": "2022-07-10T01:29:37.867Z"
   },
   {
    "duration": 10,
    "start_time": "2022-07-10T01:29:49.798Z"
   },
   {
    "duration": 30140,
    "start_time": "2022-07-10T01:30:11.465Z"
   },
   {
    "duration": 11,
    "start_time": "2022-07-10T01:33:35.485Z"
   },
   {
    "duration": 31,
    "start_time": "2022-07-10T01:33:52.212Z"
   },
   {
    "duration": 34,
    "start_time": "2022-07-10T01:34:55.203Z"
   },
   {
    "duration": 2,
    "start_time": "2022-07-10T01:37:54.235Z"
   },
   {
    "duration": 29,
    "start_time": "2022-07-10T01:38:49.410Z"
   },
   {
    "duration": 1094,
    "start_time": "2022-07-10T01:40:57.871Z"
   },
   {
    "duration": 250,
    "start_time": "2022-07-10T01:40:58.967Z"
   },
   {
    "duration": 34,
    "start_time": "2022-07-10T01:40:59.218Z"
   },
   {
    "duration": 12,
    "start_time": "2022-07-10T01:40:59.254Z"
   },
   {
    "duration": 19,
    "start_time": "2022-07-10T01:40:59.268Z"
   },
   {
    "duration": 19,
    "start_time": "2022-07-10T01:40:59.288Z"
   },
   {
    "duration": 29,
    "start_time": "2022-07-10T01:40:59.309Z"
   },
   {
    "duration": 27,
    "start_time": "2022-07-10T01:40:59.339Z"
   },
   {
    "duration": 76,
    "start_time": "2022-07-10T01:40:59.368Z"
   },
   {
    "duration": 24,
    "start_time": "2022-07-10T01:40:59.446Z"
   },
   {
    "duration": 76,
    "start_time": "2022-07-10T01:40:59.472Z"
   },
   {
    "duration": 496,
    "start_time": "2022-07-10T01:40:59.550Z"
   },
   {
    "duration": 22,
    "start_time": "2022-07-10T01:41:00.047Z"
   },
   {
    "duration": 7,
    "start_time": "2022-07-10T01:41:00.071Z"
   },
   {
    "duration": 50,
    "start_time": "2022-07-10T01:41:00.080Z"
   },
   {
    "duration": 286,
    "start_time": "2022-07-10T01:41:00.132Z"
   },
   {
    "duration": 30,
    "start_time": "2022-07-10T01:41:00.420Z"
   },
   {
    "duration": 9,
    "start_time": "2022-07-10T01:41:00.452Z"
   },
   {
    "duration": 66,
    "start_time": "2022-07-10T01:41:00.463Z"
   },
   {
    "duration": 380,
    "start_time": "2022-07-10T01:41:00.531Z"
   },
   {
    "duration": 16,
    "start_time": "2022-07-10T01:41:00.912Z"
   },
   {
    "duration": 54,
    "start_time": "2022-07-10T01:41:00.930Z"
   },
   {
    "duration": 71,
    "start_time": "2022-07-10T01:41:00.986Z"
   },
   {
    "duration": 19,
    "start_time": "2022-07-10T01:41:01.059Z"
   },
   {
    "duration": 59,
    "start_time": "2022-07-10T01:41:01.080Z"
   },
   {
    "duration": 28,
    "start_time": "2022-07-10T01:41:01.140Z"
   },
   {
    "duration": 42,
    "start_time": "2022-07-10T01:41:01.169Z"
   },
   {
    "duration": 51,
    "start_time": "2022-07-10T01:41:01.215Z"
   },
   {
    "duration": 14,
    "start_time": "2022-07-10T01:41:01.268Z"
   },
   {
    "duration": 69,
    "start_time": "2022-07-10T01:41:01.284Z"
   },
   {
    "duration": 50,
    "start_time": "2022-07-10T01:41:01.355Z"
   },
   {
    "duration": 4,
    "start_time": "2022-07-10T01:41:01.406Z"
   },
   {
    "duration": 100,
    "start_time": "2022-07-10T01:41:01.412Z"
   },
   {
    "duration": 34,
    "start_time": "2022-07-10T01:41:01.513Z"
   },
   {
    "duration": 30,
    "start_time": "2022-07-10T01:41:01.549Z"
   },
   {
    "duration": 41,
    "start_time": "2022-07-10T01:41:01.580Z"
   },
   {
    "duration": 175,
    "start_time": "2022-07-10T01:41:01.623Z"
   },
   {
    "duration": 20,
    "start_time": "2022-07-10T01:41:01.800Z"
   },
   {
    "duration": 30697,
    "start_time": "2022-07-10T01:41:01.822Z"
   },
   {
    "duration": 5,
    "start_time": "2022-07-10T01:41:32.520Z"
   },
   {
    "duration": 7,
    "start_time": "2022-07-10T01:41:32.527Z"
   },
   {
    "duration": 158,
    "start_time": "2022-07-10T01:41:32.536Z"
   },
   {
    "duration": 29341,
    "start_time": "2022-07-10T01:41:32.695Z"
   },
   {
    "duration": 109,
    "start_time": "2022-07-10T01:42:02.038Z"
   },
   {
    "duration": 0,
    "start_time": "2022-07-10T01:42:02.149Z"
   },
   {
    "duration": 0,
    "start_time": "2022-07-10T01:42:02.150Z"
   },
   {
    "duration": 0,
    "start_time": "2022-07-10T01:42:02.151Z"
   },
   {
    "duration": 0,
    "start_time": "2022-07-10T01:42:02.152Z"
   },
   {
    "duration": 0,
    "start_time": "2022-07-10T01:42:02.153Z"
   },
   {
    "duration": 0,
    "start_time": "2022-07-10T01:42:02.154Z"
   },
   {
    "duration": 0,
    "start_time": "2022-07-10T01:42:02.155Z"
   },
   {
    "duration": 0,
    "start_time": "2022-07-10T01:42:02.158Z"
   },
   {
    "duration": 0,
    "start_time": "2022-07-10T01:42:02.158Z"
   },
   {
    "duration": 0,
    "start_time": "2022-07-10T01:42:02.159Z"
   },
   {
    "duration": 0,
    "start_time": "2022-07-10T01:42:02.160Z"
   },
   {
    "duration": 0,
    "start_time": "2022-07-10T01:42:02.161Z"
   },
   {
    "duration": 71,
    "start_time": "2022-07-10T01:45:47.170Z"
   },
   {
    "duration": 1285,
    "start_time": "2022-07-10T13:21:31.952Z"
   },
   {
    "duration": 700,
    "start_time": "2022-07-10T13:21:33.238Z"
   },
   {
    "duration": 34,
    "start_time": "2022-07-10T13:21:33.940Z"
   },
   {
    "duration": 12,
    "start_time": "2022-07-10T13:21:33.976Z"
   },
   {
    "duration": 19,
    "start_time": "2022-07-10T13:21:33.990Z"
   },
   {
    "duration": 14,
    "start_time": "2022-07-10T13:21:34.011Z"
   },
   {
    "duration": 29,
    "start_time": "2022-07-10T13:21:34.705Z"
   },
   {
    "duration": 29,
    "start_time": "2022-07-10T13:21:35.095Z"
   },
   {
    "duration": 53,
    "start_time": "2022-07-10T13:21:35.470Z"
   },
   {
    "duration": 26,
    "start_time": "2022-07-10T13:21:35.677Z"
   },
   {
    "duration": 72,
    "start_time": "2022-07-10T13:21:36.240Z"
   },
   {
    "duration": 527,
    "start_time": "2022-07-10T13:21:36.618Z"
   },
   {
    "duration": 28,
    "start_time": "2022-07-10T13:21:37.147Z"
   },
   {
    "duration": 7,
    "start_time": "2022-07-10T13:21:37.213Z"
   },
   {
    "duration": 31,
    "start_time": "2022-07-10T13:21:37.994Z"
   },
   {
    "duration": 270,
    "start_time": "2022-07-10T13:21:38.372Z"
   },
   {
    "duration": 32,
    "start_time": "2022-07-10T13:21:38.769Z"
   },
   {
    "duration": 8,
    "start_time": "2022-07-10T13:21:38.957Z"
   },
   {
    "duration": 59,
    "start_time": "2022-07-10T13:22:16.329Z"
   },
   {
    "duration": 384,
    "start_time": "2022-07-10T13:22:16.987Z"
   },
   {
    "duration": 17,
    "start_time": "2022-07-10T13:22:17.586Z"
   },
   {
    "duration": 38,
    "start_time": "2022-07-10T13:22:18.379Z"
   },
   {
    "duration": 37,
    "start_time": "2022-07-10T13:22:18.789Z"
   },
   {
    "duration": 16,
    "start_time": "2022-07-10T13:22:19.082Z"
   },
   {
    "duration": 34,
    "start_time": "2022-07-10T13:22:19.426Z"
   },
   {
    "duration": 18,
    "start_time": "2022-07-10T13:22:19.704Z"
   },
   {
    "duration": 24,
    "start_time": "2022-07-10T13:22:19.995Z"
   },
   {
    "duration": 48,
    "start_time": "2022-07-10T13:22:20.425Z"
   },
   {
    "duration": 11,
    "start_time": "2022-07-10T13:22:20.692Z"
   },
   {
    "duration": 27,
    "start_time": "2022-07-10T13:22:20.996Z"
   },
   {
    "duration": 48,
    "start_time": "2022-07-10T13:22:21.257Z"
   },
   {
    "duration": 4,
    "start_time": "2022-07-10T13:22:22.085Z"
   },
   {
    "duration": 26,
    "start_time": "2022-07-10T13:22:22.440Z"
   },
   {
    "duration": 6,
    "start_time": "2022-07-10T13:22:22.729Z"
   },
   {
    "duration": 4,
    "start_time": "2022-07-10T13:22:23.046Z"
   },
   {
    "duration": 7,
    "start_time": "2022-07-10T13:22:23.296Z"
   },
   {
    "duration": 134,
    "start_time": "2022-07-10T13:22:23.533Z"
   },
   {
    "duration": 22,
    "start_time": "2022-07-10T13:22:24.006Z"
   },
   {
    "duration": 31537,
    "start_time": "2022-07-10T13:22:24.566Z"
   },
   {
    "duration": 105,
    "start_time": "2022-07-10T13:27:48.697Z"
   },
   {
    "duration": 13,
    "start_time": "2022-07-10T13:28:22.737Z"
   },
   {
    "duration": 11,
    "start_time": "2022-07-10T13:28:36.533Z"
   },
   {
    "duration": 12,
    "start_time": "2022-07-10T13:28:44.559Z"
   },
   {
    "duration": 10,
    "start_time": "2022-07-10T13:29:13.963Z"
   },
   {
    "duration": 1157,
    "start_time": "2022-07-10T13:29:31.196Z"
   },
   {
    "duration": 3,
    "start_time": "2022-07-10T13:29:44.638Z"
   },
   {
    "duration": 258,
    "start_time": "2022-07-10T13:29:46.727Z"
   },
   {
    "duration": 30,
    "start_time": "2022-07-10T13:29:47.326Z"
   },
   {
    "duration": 12,
    "start_time": "2022-07-10T13:29:47.523Z"
   },
   {
    "duration": 21,
    "start_time": "2022-07-10T13:29:48.308Z"
   },
   {
    "duration": 10,
    "start_time": "2022-07-10T13:29:48.507Z"
   },
   {
    "duration": 29,
    "start_time": "2022-07-10T13:29:49.305Z"
   },
   {
    "duration": 29,
    "start_time": "2022-07-10T13:29:49.757Z"
   },
   {
    "duration": 47,
    "start_time": "2022-07-10T13:29:50.249Z"
   },
   {
    "duration": 40,
    "start_time": "2022-07-10T13:29:50.474Z"
   },
   {
    "duration": 55,
    "start_time": "2022-07-10T13:29:51.093Z"
   },
   {
    "duration": 508,
    "start_time": "2022-07-10T13:29:51.557Z"
   },
   {
    "duration": 20,
    "start_time": "2022-07-10T13:29:52.067Z"
   },
   {
    "duration": 8,
    "start_time": "2022-07-10T13:29:52.245Z"
   },
   {
    "duration": 36,
    "start_time": "2022-07-10T13:29:53.161Z"
   },
   {
    "duration": 281,
    "start_time": "2022-07-10T13:30:52.038Z"
   },
   {
    "duration": 32,
    "start_time": "2022-07-10T13:30:52.408Z"
   },
   {
    "duration": 9,
    "start_time": "2022-07-10T13:30:52.579Z"
   },
   {
    "duration": 49,
    "start_time": "2022-07-10T13:30:53.069Z"
   },
   {
    "duration": 396,
    "start_time": "2022-07-10T13:30:53.400Z"
   },
   {
    "duration": 15,
    "start_time": "2022-07-10T13:30:53.798Z"
   },
   {
    "duration": 51,
    "start_time": "2022-07-10T13:30:54.075Z"
   },
   {
    "duration": 40,
    "start_time": "2022-07-10T13:30:54.246Z"
   },
   {
    "duration": 16,
    "start_time": "2022-07-10T13:30:54.423Z"
   },
   {
    "duration": 34,
    "start_time": "2022-07-10T13:30:54.579Z"
   },
   {
    "duration": 19,
    "start_time": "2022-07-10T13:30:54.739Z"
   },
   {
    "duration": 23,
    "start_time": "2022-07-10T13:30:54.901Z"
   },
   {
    "duration": 42,
    "start_time": "2022-07-10T13:30:55.072Z"
   },
   {
    "duration": 10,
    "start_time": "2022-07-10T13:30:55.240Z"
   },
   {
    "duration": 28,
    "start_time": "2022-07-10T13:30:55.428Z"
   },
   {
    "duration": 37,
    "start_time": "2022-07-10T13:30:55.603Z"
   },
   {
    "duration": 4,
    "start_time": "2022-07-10T13:30:55.788Z"
   },
   {
    "duration": 24,
    "start_time": "2022-07-10T13:30:55.967Z"
   },
   {
    "duration": 5,
    "start_time": "2022-07-10T13:30:56.161Z"
   },
   {
    "duration": 4,
    "start_time": "2022-07-10T13:30:56.342Z"
   },
   {
    "duration": 9,
    "start_time": "2022-07-10T13:30:56.527Z"
   },
   {
    "duration": 131,
    "start_time": "2022-07-10T13:30:56.718Z"
   },
   {
    "duration": 23,
    "start_time": "2022-07-10T13:30:57.093Z"
   },
   {
    "duration": 15,
    "start_time": "2022-07-10T13:30:57.540Z"
   },
   {
    "duration": 5,
    "start_time": "2022-07-10T13:30:57.765Z"
   },
   {
    "duration": 2,
    "start_time": "2022-07-10T13:30:58.045Z"
   },
   {
    "duration": 156,
    "start_time": "2022-07-10T13:30:58.291Z"
   },
   {
    "duration": 172,
    "start_time": "2022-07-10T13:31:08.485Z"
   },
   {
    "duration": 12,
    "start_time": "2022-07-10T13:36:23.403Z"
   },
   {
    "duration": 111,
    "start_time": "2022-07-10T13:36:40.795Z"
   },
   {
    "duration": 151,
    "start_time": "2022-07-10T13:37:08.528Z"
   },
   {
    "duration": 147,
    "start_time": "2022-07-10T13:40:59.729Z"
   },
   {
    "duration": 70,
    "start_time": "2022-07-10T13:41:26.770Z"
   },
   {
    "duration": 41,
    "start_time": "2022-07-10T13:42:22.553Z"
   },
   {
    "duration": 734,
    "start_time": "2022-07-10T13:42:24.545Z"
   },
   {
    "duration": 736,
    "start_time": "2022-07-10T13:42:39.558Z"
   },
   {
    "duration": 713,
    "start_time": "2022-07-10T13:43:07.953Z"
   },
   {
    "duration": 6,
    "start_time": "2022-07-10T13:51:51.425Z"
   },
   {
    "duration": 274,
    "start_time": "2022-07-10T13:51:52.893Z"
   },
   {
    "duration": 29,
    "start_time": "2022-07-10T13:51:53.445Z"
   },
   {
    "duration": 11,
    "start_time": "2022-07-10T13:51:53.683Z"
   },
   {
    "duration": 20,
    "start_time": "2022-07-10T13:51:54.460Z"
   },
   {
    "duration": 10,
    "start_time": "2022-07-10T13:51:54.649Z"
   },
   {
    "duration": 29,
    "start_time": "2022-07-10T13:51:55.409Z"
   },
   {
    "duration": 29,
    "start_time": "2022-07-10T13:51:55.805Z"
   },
   {
    "duration": 89,
    "start_time": "2022-07-10T13:51:56.202Z"
   },
   {
    "duration": 35,
    "start_time": "2022-07-10T13:51:56.411Z"
   },
   {
    "duration": 53,
    "start_time": "2022-07-10T13:51:57.035Z"
   },
   {
    "duration": 518,
    "start_time": "2022-07-10T13:51:57.450Z"
   },
   {
    "duration": 22,
    "start_time": "2022-07-10T13:51:57.970Z"
   },
   {
    "duration": 8,
    "start_time": "2022-07-10T13:51:58.062Z"
   },
   {
    "duration": 31,
    "start_time": "2022-07-10T13:51:58.889Z"
   },
   {
    "duration": 293,
    "start_time": "2022-07-10T13:51:59.316Z"
   },
   {
    "duration": 32,
    "start_time": "2022-07-10T13:51:59.711Z"
   },
   {
    "duration": 9,
    "start_time": "2022-07-10T13:51:59.937Z"
   },
   {
    "duration": 49,
    "start_time": "2022-07-10T13:52:00.582Z"
   },
   {
    "duration": 465,
    "start_time": "2022-07-10T13:52:01.205Z"
   },
   {
    "duration": 16,
    "start_time": "2022-07-10T13:52:01.672Z"
   },
   {
    "duration": 40,
    "start_time": "2022-07-10T13:52:02.064Z"
   },
   {
    "duration": 38,
    "start_time": "2022-07-10T13:52:02.290Z"
   },
   {
    "duration": 17,
    "start_time": "2022-07-10T13:52:02.506Z"
   },
   {
    "duration": 38,
    "start_time": "2022-07-10T13:52:02.699Z"
   },
   {
    "duration": 18,
    "start_time": "2022-07-10T13:52:02.892Z"
   },
   {
    "duration": 23,
    "start_time": "2022-07-10T13:52:03.108Z"
   },
   {
    "duration": 41,
    "start_time": "2022-07-10T13:52:03.361Z"
   },
   {
    "duration": 10,
    "start_time": "2022-07-10T13:52:03.517Z"
   },
   {
    "duration": 28,
    "start_time": "2022-07-10T13:52:03.696Z"
   },
   {
    "duration": 41,
    "start_time": "2022-07-10T13:52:03.907Z"
   },
   {
    "duration": 5,
    "start_time": "2022-07-10T13:52:04.193Z"
   },
   {
    "duration": 25,
    "start_time": "2022-07-10T13:52:05.096Z"
   },
   {
    "duration": 5,
    "start_time": "2022-07-10T13:52:05.122Z"
   },
   {
    "duration": 8,
    "start_time": "2022-07-10T13:52:05.128Z"
   },
   {
    "duration": 8,
    "start_time": "2022-07-10T13:52:05.153Z"
   },
   {
    "duration": 135,
    "start_time": "2022-07-10T13:52:05.353Z"
   },
   {
    "duration": 20,
    "start_time": "2022-07-10T13:52:05.796Z"
   },
   {
    "duration": 152,
    "start_time": "2022-07-10T13:52:08.151Z"
   },
   {
    "duration": 4,
    "start_time": "2022-07-10T13:58:13.249Z"
   },
   {
    "duration": 210,
    "start_time": "2022-07-10T13:59:02.792Z"
   },
   {
    "duration": 277,
    "start_time": "2022-07-10T13:59:38.473Z"
   },
   {
    "duration": 242,
    "start_time": "2022-07-10T14:00:02.044Z"
   },
   {
    "duration": 207,
    "start_time": "2022-07-10T14:00:22.681Z"
   },
   {
    "duration": 1247,
    "start_time": "2022-07-10T14:01:10.965Z"
   },
   {
    "duration": 4567,
    "start_time": "2022-07-10T14:01:25.618Z"
   },
   {
    "duration": 21697,
    "start_time": "2022-07-10T14:01:40.678Z"
   },
   {
    "duration": 9083,
    "start_time": "2022-07-10T14:02:12.064Z"
   },
   {
    "duration": 2,
    "start_time": "2022-07-10T14:04:04.471Z"
   },
   {
    "duration": 21689,
    "start_time": "2022-07-10T14:04:13.438Z"
   },
   {
    "duration": 3,
    "start_time": "2022-07-10T14:04:35.129Z"
   },
   {
    "duration": 8820,
    "start_time": "2022-07-10T14:05:10.387Z"
   },
   {
    "duration": 122,
    "start_time": "2022-07-10T15:37:04.759Z"
   },
   {
    "duration": 116,
    "start_time": "2022-07-10T15:37:13.726Z"
   },
   {
    "duration": 149,
    "start_time": "2022-07-10T15:37:24.766Z"
   },
   {
    "duration": 231,
    "start_time": "2022-07-10T15:37:38.642Z"
   },
   {
    "duration": 312,
    "start_time": "2022-07-10T15:39:34.936Z"
   },
   {
    "duration": 336,
    "start_time": "2022-07-10T15:41:34.852Z"
   },
   {
    "duration": 352,
    "start_time": "2022-07-10T15:42:06.109Z"
   },
   {
    "duration": 1151,
    "start_time": "2022-07-10T15:42:27.552Z"
   },
   {
    "duration": 266,
    "start_time": "2022-07-10T15:42:28.705Z"
   },
   {
    "duration": 31,
    "start_time": "2022-07-10T15:42:28.973Z"
   },
   {
    "duration": 21,
    "start_time": "2022-07-10T15:42:29.006Z"
   },
   {
    "duration": 46,
    "start_time": "2022-07-10T15:42:29.028Z"
   },
   {
    "duration": 19,
    "start_time": "2022-07-10T15:42:29.076Z"
   },
   {
    "duration": 46,
    "start_time": "2022-07-10T15:42:29.097Z"
   },
   {
    "duration": 26,
    "start_time": "2022-07-10T15:42:29.145Z"
   },
   {
    "duration": 68,
    "start_time": "2022-07-10T15:42:29.173Z"
   },
   {
    "duration": 25,
    "start_time": "2022-07-10T15:42:29.243Z"
   },
   {
    "duration": 54,
    "start_time": "2022-07-10T15:42:29.269Z"
   },
   {
    "duration": 519,
    "start_time": "2022-07-10T15:42:29.325Z"
   },
   {
    "duration": 27,
    "start_time": "2022-07-10T15:42:29.846Z"
   },
   {
    "duration": 7,
    "start_time": "2022-07-10T15:42:29.874Z"
   },
   {
    "duration": 34,
    "start_time": "2022-07-10T15:42:29.883Z"
   },
   {
    "duration": 306,
    "start_time": "2022-07-10T15:42:29.919Z"
   },
   {
    "duration": 35,
    "start_time": "2022-07-10T15:42:30.227Z"
   },
   {
    "duration": 8,
    "start_time": "2022-07-10T15:42:30.263Z"
   },
   {
    "duration": 62,
    "start_time": "2022-07-10T15:42:30.272Z"
   },
   {
    "duration": 415,
    "start_time": "2022-07-10T15:42:30.335Z"
   },
   {
    "duration": 21,
    "start_time": "2022-07-10T15:42:30.752Z"
   },
   {
    "duration": 37,
    "start_time": "2022-07-10T15:42:30.774Z"
   },
   {
    "duration": 56,
    "start_time": "2022-07-10T15:42:30.813Z"
   },
   {
    "duration": 14,
    "start_time": "2022-07-10T15:42:30.871Z"
   },
   {
    "duration": 43,
    "start_time": "2022-07-10T15:42:30.887Z"
   },
   {
    "duration": 29,
    "start_time": "2022-07-10T15:42:30.932Z"
   },
   {
    "duration": 27,
    "start_time": "2022-07-10T15:42:30.963Z"
   },
   {
    "duration": 43,
    "start_time": "2022-07-10T15:42:30.994Z"
   },
   {
    "duration": 22,
    "start_time": "2022-07-10T15:42:31.038Z"
   },
   {
    "duration": 27,
    "start_time": "2022-07-10T15:42:31.062Z"
   },
   {
    "duration": 37,
    "start_time": "2022-07-10T15:42:31.091Z"
   },
   {
    "duration": 31,
    "start_time": "2022-07-10T15:42:31.129Z"
   },
   {
    "duration": 24,
    "start_time": "2022-07-10T15:42:31.162Z"
   },
   {
    "duration": 4,
    "start_time": "2022-07-10T15:42:31.188Z"
   },
   {
    "duration": 19,
    "start_time": "2022-07-10T15:42:31.194Z"
   },
   {
    "duration": 16,
    "start_time": "2022-07-10T15:42:31.214Z"
   },
   {
    "duration": 144,
    "start_time": "2022-07-10T15:42:31.231Z"
   },
   {
    "duration": 18,
    "start_time": "2022-07-10T15:42:31.376Z"
   },
   {
    "duration": 20346,
    "start_time": "2022-07-10T15:42:31.396Z"
   },
   {
    "duration": 258,
    "start_time": "2022-07-10T15:42:51.743Z"
   },
   {
    "duration": 159,
    "start_time": "2022-07-10T15:42:52.003Z"
   },
   {
    "duration": 4439,
    "start_time": "2022-07-10T15:42:52.164Z"
   },
   {
    "duration": 276,
    "start_time": "2022-07-10T15:42:56.604Z"
   },
   {
    "duration": 150,
    "start_time": "2022-07-10T15:42:56.882Z"
   },
   {
    "duration": 1168,
    "start_time": "2022-07-10T15:42:57.034Z"
   },
   {
    "duration": 319,
    "start_time": "2022-07-10T15:42:58.204Z"
   },
   {
    "duration": 142,
    "start_time": "2022-07-10T15:42:58.524Z"
   },
   {
    "duration": 216,
    "start_time": "2022-07-10T15:42:58.668Z"
   },
   {
    "duration": 8311,
    "start_time": "2022-07-10T15:42:58.885Z"
   },
   {
    "duration": 163,
    "start_time": "2022-07-10T15:43:07.198Z"
   },
   {
    "duration": 177,
    "start_time": "2022-07-10T15:43:07.363Z"
   },
   {
    "duration": 0,
    "start_time": "2022-07-10T15:43:07.544Z"
   },
   {
    "duration": 0,
    "start_time": "2022-07-10T15:43:07.545Z"
   },
   {
    "duration": 0,
    "start_time": "2022-07-10T15:43:07.546Z"
   },
   {
    "duration": 0,
    "start_time": "2022-07-10T15:43:07.547Z"
   },
   {
    "duration": 1411,
    "start_time": "2022-07-10T19:39:20.177Z"
   },
   {
    "duration": 642,
    "start_time": "2022-07-10T19:39:21.590Z"
   },
   {
    "duration": 38,
    "start_time": "2022-07-10T19:39:22.234Z"
   },
   {
    "duration": 19,
    "start_time": "2022-07-10T19:39:22.274Z"
   },
   {
    "duration": 23,
    "start_time": "2022-07-10T19:39:22.411Z"
   },
   {
    "duration": 14,
    "start_time": "2022-07-10T19:39:22.619Z"
   },
   {
    "duration": 27,
    "start_time": "2022-07-10T19:39:23.495Z"
   },
   {
    "duration": 33,
    "start_time": "2022-07-10T19:39:24.144Z"
   },
   {
    "duration": 55,
    "start_time": "2022-07-10T19:39:24.630Z"
   },
   {
    "duration": 35,
    "start_time": "2022-07-10T19:39:24.860Z"
   },
   {
    "duration": 55,
    "start_time": "2022-07-10T19:39:25.600Z"
   },
   {
    "duration": 591,
    "start_time": "2022-07-10T19:39:26.061Z"
   },
   {
    "duration": 36,
    "start_time": "2022-07-10T19:39:26.654Z"
   },
   {
    "duration": 9,
    "start_time": "2022-07-10T19:39:26.731Z"
   },
   {
    "duration": 40,
    "start_time": "2022-07-10T19:39:27.847Z"
   },
   {
    "duration": 319,
    "start_time": "2022-07-10T19:39:28.343Z"
   },
   {
    "duration": 43,
    "start_time": "2022-07-10T19:39:28.845Z"
   },
   {
    "duration": 11,
    "start_time": "2022-07-10T19:39:29.091Z"
   },
   {
    "duration": 65,
    "start_time": "2022-07-10T19:39:29.821Z"
   },
   {
    "duration": 496,
    "start_time": "2022-07-10T19:39:30.328Z"
   },
   {
    "duration": 18,
    "start_time": "2022-07-10T19:39:30.885Z"
   },
   {
    "duration": 43,
    "start_time": "2022-07-10T19:39:31.393Z"
   },
   {
    "duration": 54,
    "start_time": "2022-07-10T19:39:31.620Z"
   },
   {
    "duration": 17,
    "start_time": "2022-07-10T19:39:31.847Z"
   },
   {
    "duration": 36,
    "start_time": "2022-07-10T19:39:32.088Z"
   },
   {
    "duration": 19,
    "start_time": "2022-07-10T19:39:32.327Z"
   },
   {
    "duration": 35,
    "start_time": "2022-07-10T19:39:32.546Z"
   },
   {
    "duration": 61,
    "start_time": "2022-07-10T19:39:32.781Z"
   },
   {
    "duration": 14,
    "start_time": "2022-07-10T19:39:32.977Z"
   },
   {
    "duration": 30,
    "start_time": "2022-07-10T19:39:33.190Z"
   },
   {
    "duration": 48,
    "start_time": "2022-07-10T19:39:33.453Z"
   },
   {
    "duration": 5,
    "start_time": "2022-07-10T19:39:33.748Z"
   },
   {
    "duration": 25,
    "start_time": "2022-07-10T19:39:34.008Z"
   },
   {
    "duration": 6,
    "start_time": "2022-07-10T19:39:34.238Z"
   },
   {
    "duration": 4,
    "start_time": "2022-07-10T19:39:34.490Z"
   },
   {
    "duration": 7,
    "start_time": "2022-07-10T19:39:34.724Z"
   },
   {
    "duration": 141,
    "start_time": "2022-07-10T19:39:34.964Z"
   },
   {
    "duration": 22,
    "start_time": "2022-07-10T19:39:35.439Z"
   },
   {
    "duration": 22352,
    "start_time": "2022-07-10T19:39:35.904Z"
   },
   {
    "duration": 290,
    "start_time": "2022-07-10T19:39:58.264Z"
   },
   {
    "duration": 163,
    "start_time": "2022-07-10T19:39:58.556Z"
   },
   {
    "duration": 4969,
    "start_time": "2022-07-10T19:39:58.721Z"
   },
   {
    "duration": 306,
    "start_time": "2022-07-10T19:40:03.692Z"
   },
   {
    "duration": 163,
    "start_time": "2022-07-10T19:40:04.000Z"
   },
   {
    "duration": 1259,
    "start_time": "2022-07-10T19:40:04.174Z"
   },
   {
    "duration": 324,
    "start_time": "2022-07-10T19:40:05.434Z"
   },
   {
    "duration": 166,
    "start_time": "2022-07-10T19:40:05.759Z"
   },
   {
    "duration": 227,
    "start_time": "2022-07-10T19:40:05.927Z"
   },
   {
    "duration": 9283,
    "start_time": "2022-07-10T19:40:06.156Z"
   },
   {
    "duration": 162,
    "start_time": "2022-07-10T19:40:15.440Z"
   },
   {
    "duration": 171,
    "start_time": "2022-07-10T19:40:15.604Z"
   },
   {
    "duration": 0,
    "start_time": "2022-07-10T19:40:15.782Z"
   },
   {
    "duration": 0,
    "start_time": "2022-07-10T19:40:15.784Z"
   },
   {
    "duration": 0,
    "start_time": "2022-07-10T19:40:15.786Z"
   },
   {
    "duration": 1274,
    "start_time": "2022-07-11T02:26:59.139Z"
   },
   {
    "duration": 540,
    "start_time": "2022-07-11T02:27:00.414Z"
   },
   {
    "duration": 32,
    "start_time": "2022-07-11T02:27:00.956Z"
   },
   {
    "duration": 13,
    "start_time": "2022-07-11T02:27:00.991Z"
   },
   {
    "duration": 21,
    "start_time": "2022-07-11T02:27:01.305Z"
   },
   {
    "duration": 11,
    "start_time": "2022-07-11T02:27:01.529Z"
   },
   {
    "duration": 27,
    "start_time": "2022-07-11T02:27:02.330Z"
   },
   {
    "duration": 28,
    "start_time": "2022-07-11T02:27:02.760Z"
   },
   {
    "duration": 48,
    "start_time": "2022-07-11T02:27:03.218Z"
   },
   {
    "duration": 23,
    "start_time": "2022-07-11T02:27:03.462Z"
   },
   {
    "duration": 56,
    "start_time": "2022-07-11T02:27:04.148Z"
   },
   {
    "duration": 487,
    "start_time": "2022-07-11T02:27:04.585Z"
   },
   {
    "duration": 21,
    "start_time": "2022-07-11T02:27:05.073Z"
   },
   {
    "duration": 8,
    "start_time": "2022-07-11T02:27:05.361Z"
   },
   {
    "duration": 30,
    "start_time": "2022-07-11T02:27:06.935Z"
   },
   {
    "duration": 263,
    "start_time": "2022-07-11T02:27:07.414Z"
   },
   {
    "duration": 33,
    "start_time": "2022-07-11T02:27:07.786Z"
   },
   {
    "duration": 9,
    "start_time": "2022-07-11T02:27:07.981Z"
   },
   {
    "duration": 44,
    "start_time": "2022-07-11T02:27:08.526Z"
   },
   {
    "duration": 356,
    "start_time": "2022-07-11T02:27:08.962Z"
   },
   {
    "duration": 14,
    "start_time": "2022-07-11T02:27:09.415Z"
   },
   {
    "duration": 42,
    "start_time": "2022-07-11T02:27:14.612Z"
   },
   {
    "duration": 39,
    "start_time": "2022-07-11T02:27:15.160Z"
   },
   {
    "duration": 15,
    "start_time": "2022-07-11T02:27:15.481Z"
   },
   {
    "duration": 35,
    "start_time": "2022-07-11T02:27:15.797Z"
   },
   {
    "duration": 18,
    "start_time": "2022-07-11T02:27:16.113Z"
   },
   {
    "duration": 21,
    "start_time": "2022-07-11T02:27:16.475Z"
   },
   {
    "duration": 40,
    "start_time": "2022-07-11T02:27:16.777Z"
   },
   {
    "duration": 9,
    "start_time": "2022-07-11T02:27:17.091Z"
   },
   {
    "duration": 24,
    "start_time": "2022-07-11T02:27:17.419Z"
   },
   {
    "duration": 37,
    "start_time": "2022-07-11T02:27:17.683Z"
   },
   {
    "duration": 5,
    "start_time": "2022-07-11T02:27:17.969Z"
   },
   {
    "duration": 28,
    "start_time": "2022-07-11T02:27:18.292Z"
   },
   {
    "duration": 5,
    "start_time": "2022-07-11T02:27:18.555Z"
   },
   {
    "duration": 3,
    "start_time": "2022-07-11T02:27:18.859Z"
   },
   {
    "duration": 7,
    "start_time": "2022-07-11T02:27:19.151Z"
   },
   {
    "duration": 130,
    "start_time": "2022-07-11T02:27:19.482Z"
   },
   {
    "duration": 20,
    "start_time": "2022-07-11T02:27:20.322Z"
   },
   {
    "duration": 19439,
    "start_time": "2022-07-11T02:27:21.354Z"
   },
   {
    "duration": 243,
    "start_time": "2022-07-11T02:27:40.795Z"
   },
   {
    "duration": 153,
    "start_time": "2022-07-11T02:27:41.040Z"
   },
   {
    "duration": 4194,
    "start_time": "2022-07-11T02:27:41.195Z"
   },
   {
    "duration": 279,
    "start_time": "2022-07-11T02:27:45.390Z"
   },
   {
    "duration": 148,
    "start_time": "2022-07-11T02:27:45.671Z"
   },
   {
    "duration": 1125,
    "start_time": "2022-07-11T02:27:45.820Z"
   },
   {
    "duration": 338,
    "start_time": "2022-07-11T02:27:46.947Z"
   },
   {
    "duration": 144,
    "start_time": "2022-07-11T02:27:47.286Z"
   },
   {
    "duration": 218,
    "start_time": "2022-07-11T02:27:47.432Z"
   },
   {
    "duration": 8047,
    "start_time": "2022-07-11T02:27:47.652Z"
   },
   {
    "duration": 152,
    "start_time": "2022-07-11T02:27:55.700Z"
   },
   {
    "duration": 179,
    "start_time": "2022-07-11T02:27:55.854Z"
   },
   {
    "duration": 0,
    "start_time": "2022-07-11T02:27:56.038Z"
   },
   {
    "duration": 0,
    "start_time": "2022-07-11T02:27:56.039Z"
   },
   {
    "duration": 13,
    "start_time": "2022-07-11T02:30:17.519Z"
   },
   {
    "duration": 140,
    "start_time": "2022-07-11T02:30:28.368Z"
   },
   {
    "duration": 137,
    "start_time": "2022-07-11T02:32:11.253Z"
   },
   {
    "duration": 131,
    "start_time": "2022-07-11T02:32:35.253Z"
   },
   {
    "duration": 133,
    "start_time": "2022-07-11T02:33:41.941Z"
   },
   {
    "duration": 1238,
    "start_time": "2022-07-11T05:20:45.562Z"
   },
   {
    "duration": 743,
    "start_time": "2022-07-11T05:20:46.802Z"
   },
   {
    "duration": 31,
    "start_time": "2022-07-11T05:20:47.547Z"
   },
   {
    "duration": 11,
    "start_time": "2022-07-11T05:20:47.580Z"
   },
   {
    "duration": 23,
    "start_time": "2022-07-11T05:20:47.593Z"
   },
   {
    "duration": 10,
    "start_time": "2022-07-11T05:20:47.617Z"
   },
   {
    "duration": 34,
    "start_time": "2022-07-11T05:20:47.629Z"
   },
   {
    "duration": 29,
    "start_time": "2022-07-11T05:20:47.665Z"
   },
   {
    "duration": 63,
    "start_time": "2022-07-11T05:20:47.695Z"
   },
   {
    "duration": 23,
    "start_time": "2022-07-11T05:20:47.760Z"
   },
   {
    "duration": 73,
    "start_time": "2022-07-11T05:20:47.785Z"
   },
   {
    "duration": 482,
    "start_time": "2022-07-11T05:20:47.860Z"
   },
   {
    "duration": 22,
    "start_time": "2022-07-11T05:20:48.344Z"
   },
   {
    "duration": 7,
    "start_time": "2022-07-11T05:20:48.370Z"
   },
   {
    "duration": 54,
    "start_time": "2022-07-11T05:20:48.378Z"
   },
   {
    "duration": 279,
    "start_time": "2022-07-11T05:20:48.434Z"
   },
   {
    "duration": 43,
    "start_time": "2022-07-11T05:20:48.715Z"
   },
   {
    "duration": 9,
    "start_time": "2022-07-11T05:20:48.760Z"
   },
   {
    "duration": 69,
    "start_time": "2022-07-11T05:20:48.771Z"
   },
   {
    "duration": 383,
    "start_time": "2022-07-11T05:20:48.842Z"
   },
   {
    "duration": 14,
    "start_time": "2022-07-11T05:20:49.226Z"
   },
   {
    "duration": 42,
    "start_time": "2022-07-11T05:20:49.242Z"
   },
   {
    "duration": 50,
    "start_time": "2022-07-11T05:20:49.286Z"
   },
   {
    "duration": 14,
    "start_time": "2022-07-11T05:20:49.338Z"
   },
   {
    "duration": 32,
    "start_time": "2022-07-11T05:20:49.354Z"
   },
   {
    "duration": 15,
    "start_time": "2022-07-11T05:20:49.387Z"
   },
   {
    "duration": 20,
    "start_time": "2022-07-11T05:20:49.424Z"
   },
   {
    "duration": 39,
    "start_time": "2022-07-11T05:20:49.445Z"
   },
   {
    "duration": 9,
    "start_time": "2022-07-11T05:20:49.486Z"
   },
   {
    "duration": 49,
    "start_time": "2022-07-11T05:20:49.496Z"
   },
   {
    "duration": 36,
    "start_time": "2022-07-11T05:20:49.546Z"
   },
   {
    "duration": 4,
    "start_time": "2022-07-11T05:20:49.584Z"
   },
   {
    "duration": 42,
    "start_time": "2022-07-11T05:20:49.589Z"
   },
   {
    "duration": 4,
    "start_time": "2022-07-11T05:20:49.633Z"
   },
   {
    "duration": 7,
    "start_time": "2022-07-11T05:20:49.638Z"
   },
   {
    "duration": 11,
    "start_time": "2022-07-11T05:20:49.646Z"
   },
   {
    "duration": 148,
    "start_time": "2022-07-11T05:20:49.658Z"
   },
   {
    "duration": 23,
    "start_time": "2022-07-11T05:20:49.807Z"
   },
   {
    "duration": 151,
    "start_time": "2022-07-11T05:20:49.832Z"
   },
   {
    "duration": 244,
    "start_time": "2022-07-11T05:20:49.985Z"
   },
   {
    "duration": 150,
    "start_time": "2022-07-11T05:20:50.233Z"
   },
   {
    "duration": 143,
    "start_time": "2022-07-11T05:20:50.385Z"
   },
   {
    "duration": 265,
    "start_time": "2022-07-11T05:20:50.529Z"
   },
   {
    "duration": 209,
    "start_time": "2022-07-11T05:20:50.796Z"
   },
   {
    "duration": 148,
    "start_time": "2022-07-11T05:20:51.007Z"
   },
   {
    "duration": 283,
    "start_time": "2022-07-11T05:20:51.156Z"
   },
   {
    "duration": 138,
    "start_time": "2022-07-11T05:20:51.441Z"
   },
   {
    "duration": 205,
    "start_time": "2022-07-11T05:20:51.580Z"
   },
   {
    "duration": 141,
    "start_time": "2022-07-11T05:20:51.787Z"
   },
   {
    "duration": 145,
    "start_time": "2022-07-11T05:20:51.929Z"
   },
   {
    "duration": 140,
    "start_time": "2022-07-11T05:20:52.076Z"
   },
   {
    "duration": 0,
    "start_time": "2022-07-11T05:20:52.224Z"
   },
   {
    "duration": 0,
    "start_time": "2022-07-11T05:20:52.225Z"
   },
   {
    "duration": 0,
    "start_time": "2022-07-11T05:20:52.226Z"
   },
   {
    "duration": 0,
    "start_time": "2022-07-11T05:20:52.227Z"
   },
   {
    "duration": 37,
    "start_time": "2022-07-11T05:21:12.299Z"
   },
   {
    "duration": 269,
    "start_time": "2022-07-11T05:26:36.501Z"
   },
   {
    "duration": 13,
    "start_time": "2022-07-11T05:26:40.724Z"
   },
   {
    "duration": 6,
    "start_time": "2022-07-11T05:26:48.276Z"
   },
   {
    "duration": 11,
    "start_time": "2022-07-11T05:26:57.957Z"
   },
   {
    "duration": 10,
    "start_time": "2022-07-11T05:27:02.243Z"
   },
   {
    "duration": 7,
    "start_time": "2022-07-11T05:27:09.760Z"
   },
   {
    "duration": 9,
    "start_time": "2022-07-11T05:55:15.212Z"
   },
   {
    "duration": 1059,
    "start_time": "2022-07-11T05:55:28.977Z"
   },
   {
    "duration": 260,
    "start_time": "2022-07-11T05:55:30.038Z"
   },
   {
    "duration": 33,
    "start_time": "2022-07-11T05:55:30.300Z"
   },
   {
    "duration": 13,
    "start_time": "2022-07-11T05:55:30.336Z"
   },
   {
    "duration": 23,
    "start_time": "2022-07-11T05:55:30.350Z"
   },
   {
    "duration": 16,
    "start_time": "2022-07-11T05:55:30.375Z"
   },
   {
    "duration": 43,
    "start_time": "2022-07-11T05:55:30.392Z"
   },
   {
    "duration": 25,
    "start_time": "2022-07-11T05:55:30.437Z"
   },
   {
    "duration": 63,
    "start_time": "2022-07-11T05:55:30.463Z"
   },
   {
    "duration": 24,
    "start_time": "2022-07-11T05:55:30.528Z"
   },
   {
    "duration": 72,
    "start_time": "2022-07-11T05:55:30.553Z"
   },
   {
    "duration": 482,
    "start_time": "2022-07-11T05:55:30.626Z"
   },
   {
    "duration": 30,
    "start_time": "2022-07-11T05:55:31.110Z"
   },
   {
    "duration": 23,
    "start_time": "2022-07-11T05:55:31.141Z"
   },
   {
    "duration": 51,
    "start_time": "2022-07-11T05:55:31.166Z"
   },
   {
    "duration": 269,
    "start_time": "2022-07-11T05:55:31.218Z"
   },
   {
    "duration": 38,
    "start_time": "2022-07-11T05:55:31.489Z"
   },
   {
    "duration": 8,
    "start_time": "2022-07-11T05:55:31.528Z"
   },
   {
    "duration": 62,
    "start_time": "2022-07-11T05:55:31.537Z"
   },
   {
    "duration": 375,
    "start_time": "2022-07-11T05:55:31.600Z"
   },
   {
    "duration": 15,
    "start_time": "2022-07-11T05:55:31.977Z"
   },
   {
    "duration": 54,
    "start_time": "2022-07-11T05:55:31.993Z"
   },
   {
    "duration": 42,
    "start_time": "2022-07-11T05:55:32.049Z"
   },
   {
    "duration": 36,
    "start_time": "2022-07-11T05:55:32.093Z"
   },
   {
    "duration": 33,
    "start_time": "2022-07-11T05:55:32.131Z"
   },
   {
    "duration": 16,
    "start_time": "2022-07-11T05:55:32.166Z"
   },
   {
    "duration": 43,
    "start_time": "2022-07-11T05:55:32.184Z"
   },
   {
    "duration": 41,
    "start_time": "2022-07-11T05:55:32.231Z"
   },
   {
    "duration": 5,
    "start_time": "2022-07-11T05:55:32.274Z"
   },
   {
    "duration": 9,
    "start_time": "2022-07-11T05:55:32.281Z"
   },
   {
    "duration": 52,
    "start_time": "2022-07-11T05:55:32.292Z"
   },
   {
    "duration": 36,
    "start_time": "2022-07-11T05:55:32.346Z"
   },
   {
    "duration": 4,
    "start_time": "2022-07-11T05:55:32.384Z"
   },
   {
    "duration": 39,
    "start_time": "2022-07-11T05:55:32.389Z"
   },
   {
    "duration": 4,
    "start_time": "2022-07-11T05:55:32.430Z"
   },
   {
    "duration": 11,
    "start_time": "2022-07-11T05:55:32.435Z"
   },
   {
    "duration": 13,
    "start_time": "2022-07-11T05:55:32.447Z"
   },
   {
    "duration": 135,
    "start_time": "2022-07-11T05:55:32.461Z"
   },
   {
    "duration": 18,
    "start_time": "2022-07-11T05:55:32.597Z"
   },
   {
    "duration": 151,
    "start_time": "2022-07-11T05:55:32.624Z"
   },
   {
    "duration": 249,
    "start_time": "2022-07-11T05:55:32.776Z"
   },
   {
    "duration": 152,
    "start_time": "2022-07-11T05:55:33.027Z"
   },
   {
    "duration": 139,
    "start_time": "2022-07-11T05:55:33.181Z"
   },
   {
    "duration": 260,
    "start_time": "2022-07-11T05:55:33.324Z"
   },
   {
    "duration": 204,
    "start_time": "2022-07-11T05:55:33.586Z"
   },
   {
    "duration": 150,
    "start_time": "2022-07-11T05:55:33.791Z"
   },
   {
    "duration": 300,
    "start_time": "2022-07-11T05:55:33.943Z"
   },
   {
    "duration": 164,
    "start_time": "2022-07-11T05:55:34.245Z"
   },
   {
    "duration": 226,
    "start_time": "2022-07-11T05:55:34.411Z"
   },
   {
    "duration": 152,
    "start_time": "2022-07-11T05:55:34.638Z"
   },
   {
    "duration": 152,
    "start_time": "2022-07-11T05:55:34.792Z"
   },
   {
    "duration": 144,
    "start_time": "2022-07-11T05:55:34.946Z"
   },
   {
    "duration": 0,
    "start_time": "2022-07-11T05:55:35.094Z"
   },
   {
    "duration": 0,
    "start_time": "2022-07-11T05:55:35.095Z"
   },
   {
    "duration": 0,
    "start_time": "2022-07-11T05:55:35.096Z"
   },
   {
    "duration": 0,
    "start_time": "2022-07-11T05:55:35.097Z"
   },
   {
    "duration": 19,
    "start_time": "2022-07-11T06:12:54.055Z"
   },
   {
    "duration": 1137,
    "start_time": "2022-07-11T06:13:46.008Z"
   },
   {
    "duration": 260,
    "start_time": "2022-07-11T06:13:47.484Z"
   },
   {
    "duration": 34,
    "start_time": "2022-07-11T06:13:48.999Z"
   },
   {
    "duration": 13,
    "start_time": "2022-07-11T06:13:49.901Z"
   },
   {
    "duration": 20,
    "start_time": "2022-07-11T06:13:51.161Z"
   },
   {
    "duration": 12,
    "start_time": "2022-07-11T06:13:51.432Z"
   },
   {
    "duration": 28,
    "start_time": "2022-07-11T06:13:52.622Z"
   },
   {
    "duration": 28,
    "start_time": "2022-07-11T06:13:53.149Z"
   },
   {
    "duration": 49,
    "start_time": "2022-07-11T06:13:54.185Z"
   },
   {
    "duration": 26,
    "start_time": "2022-07-11T06:13:54.764Z"
   },
   {
    "duration": 54,
    "start_time": "2022-07-11T06:13:55.534Z"
   },
   {
    "duration": 500,
    "start_time": "2022-07-11T06:13:56.008Z"
   },
   {
    "duration": 22,
    "start_time": "2022-07-11T06:13:56.882Z"
   },
   {
    "duration": 9,
    "start_time": "2022-07-11T06:13:57.172Z"
   },
   {
    "duration": 30,
    "start_time": "2022-07-11T06:13:58.169Z"
   },
   {
    "duration": 261,
    "start_time": "2022-07-11T06:13:58.639Z"
   },
   {
    "duration": 31,
    "start_time": "2022-07-11T06:13:59.618Z"
   },
   {
    "duration": 9,
    "start_time": "2022-07-11T06:13:59.963Z"
   },
   {
    "duration": 45,
    "start_time": "2022-07-11T06:14:01.223Z"
   },
   {
    "duration": 365,
    "start_time": "2022-07-11T06:14:02.508Z"
   },
   {
    "duration": 16,
    "start_time": "2022-07-11T06:14:04.113Z"
   },
   {
    "duration": 36,
    "start_time": "2022-07-11T06:14:04.882Z"
   },
   {
    "duration": 39,
    "start_time": "2022-07-11T06:14:05.193Z"
   },
   {
    "duration": 17,
    "start_time": "2022-07-11T06:14:05.558Z"
   },
   {
    "duration": 35,
    "start_time": "2022-07-11T06:14:06.057Z"
   },
   {
    "duration": 17,
    "start_time": "2022-07-11T06:14:06.507Z"
   },
   {
    "duration": 24,
    "start_time": "2022-07-11T06:14:07.097Z"
   },
   {
    "duration": 19,
    "start_time": "2022-07-11T06:14:38.887Z"
   },
   {
    "duration": 90,
    "start_time": "2022-07-11T06:15:05.588Z"
   },
   {
    "duration": 8,
    "start_time": "2022-07-11T06:15:05.955Z"
   },
   {
    "duration": 56,
    "start_time": "2022-07-11T06:15:17.297Z"
   },
   {
    "duration": 20,
    "start_time": "2022-07-11T06:15:19.770Z"
   },
   {
    "duration": 9,
    "start_time": "2022-07-11T06:15:21.359Z"
   },
   {
    "duration": 26,
    "start_time": "2022-07-11T06:15:23.352Z"
   },
   {
    "duration": 39,
    "start_time": "2022-07-11T06:16:59.891Z"
   },
   {
    "duration": 5,
    "start_time": "2022-07-11T06:17:00.843Z"
   },
   {
    "duration": 25,
    "start_time": "2022-07-11T06:17:01.404Z"
   },
   {
    "duration": 5,
    "start_time": "2022-07-11T06:17:01.976Z"
   },
   {
    "duration": 4,
    "start_time": "2022-07-11T06:17:03.167Z"
   },
   {
    "duration": 6,
    "start_time": "2022-07-11T06:17:03.564Z"
   },
   {
    "duration": 151,
    "start_time": "2022-07-11T06:17:04.520Z"
   },
   {
    "duration": 20,
    "start_time": "2022-07-11T06:17:13.578Z"
   },
   {
    "duration": 1050,
    "start_time": "2022-07-11T06:19:22.478Z"
   },
   {
    "duration": 258,
    "start_time": "2022-07-11T06:19:23.530Z"
   },
   {
    "duration": 30,
    "start_time": "2022-07-11T06:19:23.795Z"
   },
   {
    "duration": 12,
    "start_time": "2022-07-11T06:19:23.828Z"
   },
   {
    "duration": 20,
    "start_time": "2022-07-11T06:19:23.842Z"
   },
   {
    "duration": 10,
    "start_time": "2022-07-11T06:19:23.863Z"
   },
   {
    "duration": 55,
    "start_time": "2022-07-11T06:19:23.875Z"
   },
   {
    "duration": 26,
    "start_time": "2022-07-11T06:19:23.932Z"
   },
   {
    "duration": 68,
    "start_time": "2022-07-11T06:19:23.960Z"
   },
   {
    "duration": 24,
    "start_time": "2022-07-11T06:19:24.031Z"
   },
   {
    "duration": 69,
    "start_time": "2022-07-11T06:19:24.056Z"
   },
   {
    "duration": 532,
    "start_time": "2022-07-11T06:19:24.126Z"
   },
   {
    "duration": 24,
    "start_time": "2022-07-11T06:19:24.660Z"
   },
   {
    "duration": 7,
    "start_time": "2022-07-11T06:19:24.686Z"
   },
   {
    "duration": 52,
    "start_time": "2022-07-11T06:19:24.694Z"
   },
   {
    "duration": 293,
    "start_time": "2022-07-11T06:19:24.748Z"
   },
   {
    "duration": 37,
    "start_time": "2022-07-11T06:19:25.043Z"
   },
   {
    "duration": 8,
    "start_time": "2022-07-11T06:19:25.081Z"
   },
   {
    "duration": 62,
    "start_time": "2022-07-11T06:19:25.091Z"
   },
   {
    "duration": 418,
    "start_time": "2022-07-11T06:19:25.154Z"
   },
   {
    "duration": 17,
    "start_time": "2022-07-11T06:19:25.574Z"
   },
   {
    "duration": 44,
    "start_time": "2022-07-11T06:19:25.592Z"
   },
   {
    "duration": 39,
    "start_time": "2022-07-11T06:19:25.638Z"
   },
   {
    "duration": 15,
    "start_time": "2022-07-11T06:19:25.678Z"
   },
   {
    "duration": 35,
    "start_time": "2022-07-11T06:19:25.695Z"
   },
   {
    "duration": 16,
    "start_time": "2022-07-11T06:19:25.732Z"
   },
   {
    "duration": 34,
    "start_time": "2022-07-11T06:19:25.750Z"
   },
   {
    "duration": 104,
    "start_time": "2022-07-11T06:19:25.828Z"
   },
   {
    "duration": 17,
    "start_time": "2022-07-11T06:19:25.934Z"
   },
   {
    "duration": 13,
    "start_time": "2022-07-11T06:19:25.953Z"
   },
   {
    "duration": 67,
    "start_time": "2022-07-11T06:19:25.968Z"
   },
   {
    "duration": 41,
    "start_time": "2022-07-11T06:19:26.036Z"
   },
   {
    "duration": 5,
    "start_time": "2022-07-11T06:19:26.123Z"
   },
   {
    "duration": 38,
    "start_time": "2022-07-11T06:19:26.130Z"
   },
   {
    "duration": 4,
    "start_time": "2022-07-11T06:19:26.225Z"
   },
   {
    "duration": 7,
    "start_time": "2022-07-11T06:19:26.230Z"
   },
   {
    "duration": 13,
    "start_time": "2022-07-11T06:19:26.239Z"
   },
   {
    "duration": 145,
    "start_time": "2022-07-11T06:19:26.253Z"
   },
   {
    "duration": 25,
    "start_time": "2022-07-11T06:19:26.399Z"
   },
   {
    "duration": 148,
    "start_time": "2022-07-11T06:19:26.426Z"
   },
   {
    "duration": 260,
    "start_time": "2022-07-11T06:19:26.576Z"
   },
   {
    "duration": 151,
    "start_time": "2022-07-11T06:19:26.838Z"
   },
   {
    "duration": 164,
    "start_time": "2022-07-11T06:19:26.990Z"
   },
   {
    "duration": 329,
    "start_time": "2022-07-11T06:19:27.157Z"
   },
   {
    "duration": 206,
    "start_time": "2022-07-11T06:19:27.488Z"
   },
   {
    "duration": 146,
    "start_time": "2022-07-11T06:19:27.695Z"
   },
   {
    "duration": 296,
    "start_time": "2022-07-11T06:19:27.843Z"
   },
   {
    "duration": 151,
    "start_time": "2022-07-11T06:19:28.140Z"
   },
   {
    "duration": 213,
    "start_time": "2022-07-11T06:19:28.293Z"
   },
   {
    "duration": 141,
    "start_time": "2022-07-11T06:19:28.507Z"
   },
   {
    "duration": 142,
    "start_time": "2022-07-11T06:19:28.649Z"
   },
   {
    "duration": 141,
    "start_time": "2022-07-11T06:19:28.792Z"
   },
   {
    "duration": 0,
    "start_time": "2022-07-11T06:19:28.937Z"
   },
   {
    "duration": 0,
    "start_time": "2022-07-11T06:19:28.938Z"
   },
   {
    "duration": 0,
    "start_time": "2022-07-11T06:19:28.940Z"
   },
   {
    "duration": 0,
    "start_time": "2022-07-11T06:19:28.941Z"
   },
   {
    "duration": 20,
    "start_time": "2022-07-11T06:20:23.697Z"
   },
   {
    "duration": 135,
    "start_time": "2022-07-11T06:20:53.158Z"
   },
   {
    "duration": 144,
    "start_time": "2022-07-11T06:21:06.182Z"
   },
   {
    "duration": 20,
    "start_time": "2022-07-11T06:26:07.613Z"
   },
   {
    "duration": 4,
    "start_time": "2022-07-11T06:26:44.854Z"
   },
   {
    "duration": 45,
    "start_time": "2022-07-11T21:54:32.013Z"
   },
   {
    "duration": 1202,
    "start_time": "2022-07-11T21:54:38.307Z"
   },
   {
    "duration": 491,
    "start_time": "2022-07-11T21:54:39.511Z"
   },
   {
    "duration": 29,
    "start_time": "2022-07-11T21:54:40.004Z"
   },
   {
    "duration": 15,
    "start_time": "2022-07-11T21:54:44.494Z"
   },
   {
    "duration": 117,
    "start_time": "2022-07-11T21:58:15.795Z"
   },
   {
    "duration": 50,
    "start_time": "2022-07-11T21:58:37.814Z"
   },
   {
    "duration": 56,
    "start_time": "2022-07-11T22:00:42.824Z"
   },
   {
    "duration": 39,
    "start_time": "2022-07-11T22:00:56.143Z"
   },
   {
    "duration": 58,
    "start_time": "2022-07-11T22:01:55.143Z"
   },
   {
    "duration": 39,
    "start_time": "2022-07-11T22:02:05.869Z"
   },
   {
    "duration": 80,
    "start_time": "2022-07-11T22:02:06.894Z"
   },
   {
    "duration": 945,
    "start_time": "2022-07-11T22:02:07.283Z"
   },
   {
    "duration": 30,
    "start_time": "2022-07-11T22:02:08.231Z"
   },
   {
    "duration": 10,
    "start_time": "2022-07-11T22:02:08.264Z"
   },
   {
    "duration": 55,
    "start_time": "2022-07-11T22:02:08.851Z"
   },
   {
    "duration": 520,
    "start_time": "2022-07-11T22:02:09.248Z"
   },
   {
    "duration": 50,
    "start_time": "2022-07-11T22:02:09.804Z"
   },
   {
    "duration": 11,
    "start_time": "2022-07-11T22:02:10.004Z"
   },
   {
    "duration": 73,
    "start_time": "2022-07-11T22:02:10.559Z"
   },
   {
    "duration": 643,
    "start_time": "2022-07-11T22:02:10.954Z"
   },
   {
    "duration": 27,
    "start_time": "2022-07-11T22:02:11.600Z"
   },
   {
    "duration": 48,
    "start_time": "2022-07-11T22:02:11.907Z"
   },
   {
    "duration": 53,
    "start_time": "2022-07-11T22:02:12.103Z"
   },
   {
    "duration": 25,
    "start_time": "2022-07-11T22:02:12.311Z"
   },
   {
    "duration": 46,
    "start_time": "2022-07-11T22:02:12.515Z"
   },
   {
    "duration": 24,
    "start_time": "2022-07-11T22:02:12.719Z"
   },
   {
    "duration": 26,
    "start_time": "2022-07-11T22:02:12.921Z"
   },
   {
    "duration": 36,
    "start_time": "2022-07-11T22:02:13.312Z"
   },
   {
    "duration": 18,
    "start_time": "2022-07-11T22:02:13.725Z"
   },
   {
    "duration": 11,
    "start_time": "2022-07-11T22:02:13.925Z"
   },
   {
    "duration": 23,
    "start_time": "2022-07-11T22:02:24.461Z"
   },
   {
    "duration": 39,
    "start_time": "2022-07-11T22:02:25.534Z"
   },
   {
    "duration": 21,
    "start_time": "2022-07-11T22:02:25.911Z"
   },
   {
    "duration": 11,
    "start_time": "2022-07-11T22:02:26.099Z"
   },
   {
    "duration": 24,
    "start_time": "2022-07-11T22:02:26.467Z"
   },
   {
    "duration": 1039,
    "start_time": "2022-07-11T22:02:36.007Z"
   },
   {
    "duration": 378,
    "start_time": "2022-07-11T22:02:37.168Z"
   },
   {
    "duration": 33,
    "start_time": "2022-07-11T22:02:38.371Z"
   },
   {
    "duration": 16,
    "start_time": "2022-07-11T22:02:39.498Z"
   },
   {
    "duration": 28,
    "start_time": "2022-07-11T22:02:41.231Z"
   },
   {
    "duration": 15,
    "start_time": "2022-07-11T22:02:41.434Z"
   },
   {
    "duration": 30,
    "start_time": "2022-07-11T22:02:43.064Z"
   },
   {
    "duration": 31,
    "start_time": "2022-07-11T22:02:44.182Z"
   },
   {
    "duration": 64,
    "start_time": "2022-07-11T22:02:45.505Z"
   },
   {
    "duration": 34,
    "start_time": "2022-07-11T22:02:46.613Z"
   },
   {
    "duration": 82,
    "start_time": "2022-07-11T22:02:47.584Z"
   },
   {
    "duration": 564,
    "start_time": "2022-07-11T22:02:48.221Z"
   },
   {
    "duration": 21,
    "start_time": "2022-07-11T22:02:49.062Z"
   },
   {
    "duration": 8,
    "start_time": "2022-07-11T22:02:49.267Z"
   },
   {
    "duration": 32,
    "start_time": "2022-07-11T22:02:50.371Z"
   },
   {
    "duration": 295,
    "start_time": "2022-07-11T22:02:51.094Z"
   },
   {
    "duration": 31,
    "start_time": "2022-07-11T22:02:51.771Z"
   },
   {
    "duration": 11,
    "start_time": "2022-07-11T22:02:52.190Z"
   },
   {
    "duration": 67,
    "start_time": "2022-07-11T22:02:53.136Z"
   },
   {
    "duration": 453,
    "start_time": "2022-07-11T22:02:54.000Z"
   },
   {
    "duration": 16,
    "start_time": "2022-07-11T22:02:55.525Z"
   },
   {
    "duration": 47,
    "start_time": "2022-07-11T22:02:56.437Z"
   },
   {
    "duration": 48,
    "start_time": "2022-07-11T22:02:57.164Z"
   },
   {
    "duration": 15,
    "start_time": "2022-07-11T22:02:57.380Z"
   },
   {
    "duration": 33,
    "start_time": "2022-07-11T22:02:57.954Z"
   },
   {
    "duration": 17,
    "start_time": "2022-07-11T22:02:58.154Z"
   },
   {
    "duration": 22,
    "start_time": "2022-07-11T22:02:58.713Z"
   },
   {
    "duration": 42,
    "start_time": "2022-07-11T22:02:59.469Z"
   },
   {
    "duration": 20,
    "start_time": "2022-07-11T22:03:00.101Z"
   },
   {
    "duration": 9,
    "start_time": "2022-07-11T22:03:00.321Z"
   },
   {
    "duration": 37,
    "start_time": "2022-07-11T22:03:01.238Z"
   },
   {
    "duration": 51,
    "start_time": "2022-07-11T22:03:01.855Z"
   },
   {
    "duration": 4,
    "start_time": "2022-07-11T22:03:02.618Z"
   },
   {
    "duration": 29,
    "start_time": "2022-07-11T22:03:03.276Z"
   },
   {
    "duration": 5,
    "start_time": "2022-07-11T22:03:03.487Z"
   },
   {
    "duration": 4,
    "start_time": "2022-07-11T22:03:04.349Z"
   },
   {
    "duration": 9,
    "start_time": "2022-07-11T22:03:05.243Z"
   },
   {
    "duration": 134,
    "start_time": "2022-07-11T22:03:05.459Z"
   },
   {
    "duration": 26,
    "start_time": "2022-07-11T22:03:06.756Z"
   },
   {
    "duration": 144,
    "start_time": "2022-07-11T22:03:08.263Z"
   },
   {
    "duration": 235,
    "start_time": "2022-07-11T22:03:09.361Z"
   },
   {
    "duration": 156,
    "start_time": "2022-07-11T22:03:09.598Z"
   },
   {
    "duration": 148,
    "start_time": "2022-07-11T22:03:10.633Z"
   },
   {
    "duration": 314,
    "start_time": "2022-07-11T22:03:10.835Z"
   },
   {
    "duration": 228,
    "start_time": "2022-07-11T22:03:11.152Z"
   },
   {
    "duration": 145,
    "start_time": "2022-07-11T22:03:11.847Z"
   },
   {
    "duration": 303,
    "start_time": "2022-07-11T22:03:12.058Z"
   },
   {
    "duration": 147,
    "start_time": "2022-07-11T22:03:12.363Z"
   },
   {
    "duration": 254,
    "start_time": "2022-07-11T22:03:14.454Z"
   },
   {
    "duration": 159,
    "start_time": "2022-07-11T22:03:14.710Z"
   },
   {
    "duration": 151,
    "start_time": "2022-07-11T22:03:14.871Z"
   },
   {
    "duration": 156,
    "start_time": "2022-07-11T22:03:28.113Z"
   },
   {
    "duration": 39,
    "start_time": "2022-07-11T22:03:29.595Z"
   },
   {
    "duration": 1415,
    "start_time": "2022-07-11T22:03:30.139Z"
   },
   {
    "duration": 89,
    "start_time": "2022-07-11T22:04:13.045Z"
   },
   {
    "duration": 11,
    "start_time": "2022-07-11T22:04:21.295Z"
   },
   {
    "duration": 36,
    "start_time": "2022-07-11T22:04:29.870Z"
   },
   {
    "duration": 11,
    "start_time": "2022-07-11T22:04:40.761Z"
   },
   {
    "duration": 12,
    "start_time": "2022-07-11T22:04:55.935Z"
   },
   {
    "duration": 10,
    "start_time": "2022-07-11T22:05:12.324Z"
   },
   {
    "duration": 23,
    "start_time": "2022-07-11T22:05:17.262Z"
   },
   {
    "duration": 8,
    "start_time": "2022-07-11T22:06:13.082Z"
   },
   {
    "duration": 908,
    "start_time": "2022-07-11T22:06:44.206Z"
   },
   {
    "duration": 934,
    "start_time": "2022-07-11T22:06:56.199Z"
   },
   {
    "duration": 894,
    "start_time": "2022-07-11T22:07:01.506Z"
   },
   {
    "duration": 753,
    "start_time": "2022-07-11T22:07:06.679Z"
   },
   {
    "duration": 962,
    "start_time": "2022-07-11T22:07:12.092Z"
   },
   {
    "duration": 29,
    "start_time": "2022-07-11T22:07:21.712Z"
   },
   {
    "duration": 9,
    "start_time": "2022-07-11T22:07:35.862Z"
   },
   {
    "duration": 11,
    "start_time": "2022-07-11T22:09:48.605Z"
   },
   {
    "duration": 8,
    "start_time": "2022-07-11T22:10:16.026Z"
   },
   {
    "duration": 3,
    "start_time": "2022-07-11T22:10:29.603Z"
   },
   {
    "duration": 4,
    "start_time": "2022-07-11T22:12:30.347Z"
   },
   {
    "duration": 40,
    "start_time": "2022-07-11T22:12:44.931Z"
   },
   {
    "duration": 13,
    "start_time": "2022-07-11T22:12:56.302Z"
   },
   {
    "duration": 11,
    "start_time": "2022-07-11T22:13:08.421Z"
   },
   {
    "duration": 1061,
    "start_time": "2022-07-11T22:13:18.682Z"
   },
   {
    "duration": 860,
    "start_time": "2022-07-11T22:14:11.734Z"
   },
   {
    "duration": 9,
    "start_time": "2022-07-11T22:19:19.001Z"
   },
   {
    "duration": 786,
    "start_time": "2022-07-11T22:19:33.427Z"
   },
   {
    "duration": 811,
    "start_time": "2022-07-11T22:19:44.973Z"
   },
   {
    "duration": 1084,
    "start_time": "2022-07-11T22:19:59.640Z"
   },
   {
    "duration": 7,
    "start_time": "2022-07-11T22:20:29.146Z"
   },
   {
    "duration": 157,
    "start_time": "2022-07-11T22:43:58.221Z"
   },
   {
    "duration": 141,
    "start_time": "2022-07-11T22:44:13.294Z"
   },
   {
    "duration": 164,
    "start_time": "2022-07-11T22:44:24.211Z"
   },
   {
    "duration": 9329,
    "start_time": "2022-07-11T22:47:02.652Z"
   },
   {
    "duration": 19096,
    "start_time": "2022-07-11T22:48:16.632Z"
   },
   {
    "duration": 1472,
    "start_time": "2022-07-11T22:48:52.036Z"
   },
   {
    "duration": 12,
    "start_time": "2022-07-11T22:49:35.296Z"
   },
   {
    "duration": 17,
    "start_time": "2022-07-11T22:49:49.626Z"
   },
   {
    "duration": 220,
    "start_time": "2022-07-11T22:49:59.603Z"
   },
   {
    "duration": 228,
    "start_time": "2022-07-11T22:50:11.186Z"
   },
   {
    "duration": 783,
    "start_time": "2022-07-11T22:50:50.638Z"
   },
   {
    "duration": 216,
    "start_time": "2022-07-11T22:50:57.681Z"
   },
   {
    "duration": 357,
    "start_time": "2022-07-11T22:51:36.540Z"
   },
   {
    "duration": 215,
    "start_time": "2022-07-11T22:51:46.928Z"
   },
   {
    "duration": 365,
    "start_time": "2022-07-11T22:55:40.917Z"
   },
   {
    "duration": 218,
    "start_time": "2022-07-11T22:56:03.279Z"
   },
   {
    "duration": 239,
    "start_time": "2022-07-11T22:56:26.277Z"
   },
   {
    "duration": 232,
    "start_time": "2022-07-11T22:57:05.399Z"
   },
   {
    "duration": 266,
    "start_time": "2022-07-11T22:57:47.147Z"
   },
   {
    "duration": 1179,
    "start_time": "2022-07-11T22:58:02.836Z"
   },
   {
    "duration": 168,
    "start_time": "2022-07-11T22:58:21.486Z"
   },
   {
    "duration": 163,
    "start_time": "2022-07-11T23:07:29.907Z"
   },
   {
    "duration": 200,
    "start_time": "2022-07-11T23:08:16.079Z"
   },
   {
    "duration": 163,
    "start_time": "2022-07-11T23:08:33.002Z"
   },
   {
    "duration": 150,
    "start_time": "2022-07-11T23:08:55.185Z"
   },
   {
    "duration": 194,
    "start_time": "2022-07-11T23:09:04.404Z"
   },
   {
    "duration": 167,
    "start_time": "2022-07-11T23:09:23.684Z"
   },
   {
    "duration": 23,
    "start_time": "2022-07-11T23:09:40.686Z"
   },
   {
    "duration": 164,
    "start_time": "2022-07-11T23:09:52.359Z"
   },
   {
    "duration": 208,
    "start_time": "2022-07-11T23:10:09.528Z"
   },
   {
    "duration": 20,
    "start_time": "2022-07-11T23:10:19.159Z"
   },
   {
    "duration": 107,
    "start_time": "2022-07-11T23:10:32.497Z"
   },
   {
    "duration": 122,
    "start_time": "2022-07-11T23:13:43.546Z"
   },
   {
    "duration": 111,
    "start_time": "2022-07-11T23:19:58.295Z"
   },
   {
    "duration": 111,
    "start_time": "2022-07-11T23:20:58.433Z"
   },
   {
    "duration": 108,
    "start_time": "2022-07-11T23:21:12.398Z"
   },
   {
    "duration": 163,
    "start_time": "2022-07-11T23:21:33.301Z"
   },
   {
    "duration": 79,
    "start_time": "2022-07-11T23:24:17.003Z"
   },
   {
    "duration": 127,
    "start_time": "2022-07-11T23:24:29.376Z"
   },
   {
    "duration": 164,
    "start_time": "2022-07-11T23:44:59.156Z"
   },
   {
    "duration": 149,
    "start_time": "2022-07-11T23:45:09.247Z"
   },
   {
    "duration": 100,
    "start_time": "2022-07-11T23:45:19.683Z"
   },
   {
    "duration": 121,
    "start_time": "2022-07-11T23:45:36.343Z"
   },
   {
    "duration": 206,
    "start_time": "2022-07-11T23:45:53.886Z"
   },
   {
    "duration": 176,
    "start_time": "2022-07-11T23:46:00.310Z"
   },
   {
    "duration": 157,
    "start_time": "2022-07-11T23:46:13.406Z"
   },
   {
    "duration": 155,
    "start_time": "2022-07-11T23:46:25.928Z"
   },
   {
    "duration": 148,
    "start_time": "2022-07-11T23:46:41.760Z"
   },
   {
    "duration": 152,
    "start_time": "2022-07-11T23:46:54.727Z"
   },
   {
    "duration": 154,
    "start_time": "2022-07-11T23:48:18.050Z"
   },
   {
    "duration": 157,
    "start_time": "2022-07-11T23:53:06.438Z"
   },
   {
    "duration": 13,
    "start_time": "2022-07-11T23:53:07.255Z"
   },
   {
    "duration": 12,
    "start_time": "2022-07-11T23:53:08.129Z"
   },
   {
    "duration": 9,
    "start_time": "2022-07-11T23:53:08.457Z"
   },
   {
    "duration": 414,
    "start_time": "2022-07-12T02:55:27.764Z"
   },
   {
    "duration": 5,
    "start_time": "2022-07-12T02:55:43.762Z"
   },
   {
    "duration": 255,
    "start_time": "2022-07-12T02:55:44.177Z"
   },
   {
    "duration": 29,
    "start_time": "2022-07-12T02:55:44.811Z"
   },
   {
    "duration": 9,
    "start_time": "2022-07-12T02:55:45.325Z"
   },
   {
    "duration": 18,
    "start_time": "2022-07-12T02:55:46.459Z"
   },
   {
    "duration": 10,
    "start_time": "2022-07-12T02:55:46.680Z"
   },
   {
    "duration": 24,
    "start_time": "2022-07-12T02:55:47.779Z"
   },
   {
    "duration": 28,
    "start_time": "2022-07-12T02:55:48.215Z"
   },
   {
    "duration": 38,
    "start_time": "2022-07-12T02:55:48.821Z"
   },
   {
    "duration": 25,
    "start_time": "2022-07-12T02:55:49.212Z"
   },
   {
    "duration": 49,
    "start_time": "2022-07-12T02:55:49.992Z"
   },
   {
    "duration": 485,
    "start_time": "2022-07-12T02:55:50.303Z"
   },
   {
    "duration": 111,
    "start_time": "2022-07-12T02:55:50.953Z"
   },
   {
    "duration": 8,
    "start_time": "2022-07-12T02:55:51.170Z"
   },
   {
    "duration": 29,
    "start_time": "2022-07-12T02:55:52.029Z"
   },
   {
    "duration": 273,
    "start_time": "2022-07-12T02:55:52.442Z"
   },
   {
    "duration": 30,
    "start_time": "2022-07-12T02:55:53.093Z"
   },
   {
    "duration": 9,
    "start_time": "2022-07-12T02:55:53.309Z"
   },
   {
    "duration": 40,
    "start_time": "2022-07-12T02:55:53.945Z"
   },
   {
    "duration": 401,
    "start_time": "2022-07-12T02:55:54.378Z"
   },
   {
    "duration": 15,
    "start_time": "2022-07-12T02:55:55.010Z"
   },
   {
    "duration": 31,
    "start_time": "2022-07-12T02:55:55.456Z"
   },
   {
    "duration": 32,
    "start_time": "2022-07-12T02:55:55.710Z"
   },
   {
    "duration": 16,
    "start_time": "2022-07-12T02:55:55.924Z"
   },
   {
    "duration": 31,
    "start_time": "2022-07-12T02:55:56.133Z"
   },
   {
    "duration": 18,
    "start_time": "2022-07-12T02:55:56.328Z"
   },
   {
    "duration": 22,
    "start_time": "2022-07-12T02:55:56.547Z"
   },
   {
    "duration": 39,
    "start_time": "2022-07-12T02:55:56.971Z"
   },
   {
    "duration": 16,
    "start_time": "2022-07-12T02:55:57.421Z"
   },
   {
    "duration": 9,
    "start_time": "2022-07-12T02:55:57.656Z"
   },
   {
    "duration": 26,
    "start_time": "2022-07-12T02:55:58.062Z"
   },
   {
    "duration": 37,
    "start_time": "2022-07-12T02:55:58.308Z"
   },
   {
    "duration": 5,
    "start_time": "2022-07-12T02:55:58.792Z"
   },
   {
    "duration": 24,
    "start_time": "2022-07-12T02:55:59.280Z"
   },
   {
    "duration": 5,
    "start_time": "2022-07-12T02:55:59.505Z"
   },
   {
    "duration": 4,
    "start_time": "2022-07-12T02:55:59.955Z"
   },
   {
    "duration": 7,
    "start_time": "2022-07-12T02:56:00.193Z"
   },
   {
    "duration": 130,
    "start_time": "2022-07-12T02:56:00.431Z"
   },
   {
    "duration": 21,
    "start_time": "2022-07-12T02:56:01.154Z"
   },
   {
    "duration": 5,
    "start_time": "2022-07-12T02:56:01.401Z"
   },
   {
    "duration": 217,
    "start_time": "2022-07-12T02:56:01.919Z"
   },
   {
    "duration": 245,
    "start_time": "2022-07-12T02:56:02.488Z"
   },
   {
    "duration": 139,
    "start_time": "2022-07-12T02:56:02.774Z"
   },
   {
    "duration": 198,
    "start_time": "2022-07-12T02:56:04.103Z"
   },
   {
    "duration": 302,
    "start_time": "2022-07-12T02:56:04.321Z"
   },
   {
    "duration": 135,
    "start_time": "2022-07-12T02:56:04.625Z"
   },
   {
    "duration": 243,
    "start_time": "2022-07-12T02:56:05.540Z"
   },
   {
    "duration": 385,
    "start_time": "2022-07-12T02:56:05.784Z"
   },
   {
    "duration": 145,
    "start_time": "2022-07-12T02:56:06.171Z"
   },
   {
    "duration": 190,
    "start_time": "2022-07-12T02:56:07.305Z"
   },
   {
    "duration": 223,
    "start_time": "2022-07-12T02:56:07.557Z"
   },
   {
    "duration": 149,
    "start_time": "2022-07-12T02:56:07.784Z"
   },
   {
    "duration": 14,
    "start_time": "2022-07-12T02:56:08.813Z"
   },
   {
    "duration": 11,
    "start_time": "2022-07-12T02:56:09.374Z"
   },
   {
    "duration": 8,
    "start_time": "2022-07-12T02:56:09.688Z"
   },
   {
    "duration": 404,
    "start_time": "2022-07-12T02:56:10.983Z"
   },
   {
    "duration": 675,
    "start_time": "2022-07-12T02:56:27.437Z"
   },
   {
    "duration": 561,
    "start_time": "2022-07-12T02:56:57.258Z"
   },
   {
    "duration": 573,
    "start_time": "2022-07-12T02:57:08.098Z"
   },
   {
    "duration": 762,
    "start_time": "2022-07-12T03:00:41.000Z"
   },
   {
    "duration": 8,
    "start_time": "2022-07-12T03:08:19.482Z"
   },
   {
    "duration": 8,
    "start_time": "2022-07-12T03:08:26.177Z"
   },
   {
    "duration": 134,
    "start_time": "2022-07-12T03:09:08.828Z"
   },
   {
    "duration": 115,
    "start_time": "2022-07-12T03:09:15.213Z"
   },
   {
    "duration": 4,
    "start_time": "2022-07-12T03:11:52.249Z"
   },
   {
    "duration": 117,
    "start_time": "2022-07-12T03:15:09.013Z"
   },
   {
    "duration": 16,
    "start_time": "2022-07-12T03:17:22.862Z"
   },
   {
    "duration": 160,
    "start_time": "2022-07-12T03:17:37.453Z"
   },
   {
    "duration": 867,
    "start_time": "2022-07-12T03:17:59.262Z"
   },
   {
    "duration": 106,
    "start_time": "2022-07-12T03:18:17.189Z"
   },
   {
    "duration": 2,
    "start_time": "2022-07-12T03:20:03.801Z"
   },
   {
    "duration": 17,
    "start_time": "2022-07-12T03:30:08.848Z"
   },
   {
    "duration": 17,
    "start_time": "2022-07-12T03:30:25.632Z"
   },
   {
    "duration": 11,
    "start_time": "2022-07-12T03:31:17.982Z"
   },
   {
    "duration": 13,
    "start_time": "2022-07-12T03:31:39.459Z"
   },
   {
    "duration": 21,
    "start_time": "2022-07-12T03:31:48.573Z"
   },
   {
    "duration": 2,
    "start_time": "2022-07-12T03:32:13.721Z"
   },
   {
    "duration": 50,
    "start_time": "2022-07-12T03:37:39.177Z"
   },
   {
    "duration": 72,
    "start_time": "2022-07-12T03:37:46.719Z"
   },
   {
    "duration": 2,
    "start_time": "2022-07-12T03:38:45.683Z"
   },
   {
    "duration": 93,
    "start_time": "2022-07-12T03:41:10.976Z"
   },
   {
    "duration": 113,
    "start_time": "2022-07-12T03:41:30.791Z"
   },
   {
    "duration": 5,
    "start_time": "2022-07-12T03:41:55.882Z"
   },
   {
    "duration": 10,
    "start_time": "2022-07-12T03:45:49.574Z"
   },
   {
    "duration": 77,
    "start_time": "2022-07-12T03:45:58.180Z"
   },
   {
    "duration": 1145,
    "start_time": "2022-07-12T03:46:14.676Z"
   },
   {
    "duration": 6,
    "start_time": "2022-07-12T03:46:27.174Z"
   },
   {
    "duration": 149,
    "start_time": "2022-07-12T03:46:38.537Z"
   },
   {
    "duration": 6,
    "start_time": "2022-07-12T03:47:07.888Z"
   },
   {
    "duration": 9,
    "start_time": "2022-07-12T03:48:17.576Z"
   },
   {
    "duration": 12,
    "start_time": "2022-07-12T03:49:58.170Z"
   },
   {
    "duration": 7,
    "start_time": "2022-07-12T03:50:23.926Z"
   },
   {
    "duration": 6,
    "start_time": "2022-07-12T03:50:41.278Z"
   },
   {
    "duration": 11,
    "start_time": "2022-07-12T03:50:57.868Z"
   },
   {
    "duration": 94,
    "start_time": "2022-07-13T21:57:28.497Z"
   },
   {
    "duration": 66,
    "start_time": "2022-07-13T21:57:49.283Z"
   },
   {
    "duration": 58,
    "start_time": "2022-07-13T21:58:00.353Z"
   },
   {
    "duration": 1517,
    "start_time": "2022-07-13T21:58:12.125Z"
   },
   {
    "duration": 707,
    "start_time": "2022-07-13T21:58:13.644Z"
   },
   {
    "duration": 52,
    "start_time": "2022-07-13T21:58:14.353Z"
   },
   {
    "duration": 13,
    "start_time": "2022-07-13T21:58:14.407Z"
   },
   {
    "duration": 20,
    "start_time": "2022-07-13T21:58:14.422Z"
   },
   {
    "duration": 17,
    "start_time": "2022-07-13T21:58:14.462Z"
   },
   {
    "duration": 48,
    "start_time": "2022-07-13T21:58:14.481Z"
   },
   {
    "duration": 31,
    "start_time": "2022-07-13T21:58:14.531Z"
   },
   {
    "duration": 64,
    "start_time": "2022-07-13T21:58:14.565Z"
   },
   {
    "duration": 60,
    "start_time": "2022-07-13T21:58:14.632Z"
   },
   {
    "duration": 90,
    "start_time": "2022-07-13T21:58:14.695Z"
   },
   {
    "duration": 617,
    "start_time": "2022-07-13T21:58:14.793Z"
   },
   {
    "duration": 22,
    "start_time": "2022-07-13T21:58:15.412Z"
   },
   {
    "duration": 35,
    "start_time": "2022-07-13T21:58:15.435Z"
   },
   {
    "duration": 55,
    "start_time": "2022-07-13T21:58:15.471Z"
   },
   {
    "duration": 309,
    "start_time": "2022-07-13T21:58:15.528Z"
   },
   {
    "duration": 47,
    "start_time": "2022-07-13T21:58:15.839Z"
   },
   {
    "duration": 9,
    "start_time": "2022-07-13T21:58:15.891Z"
   },
   {
    "duration": 49,
    "start_time": "2022-07-13T21:58:15.901Z"
   },
   {
    "duration": 492,
    "start_time": "2022-07-13T21:58:15.951Z"
   },
   {
    "duration": 54,
    "start_time": "2022-07-13T21:58:16.445Z"
   },
   {
    "duration": 53,
    "start_time": "2022-07-13T21:58:16.501Z"
   },
   {
    "duration": 68,
    "start_time": "2022-07-13T21:58:16.556Z"
   },
   {
    "duration": 17,
    "start_time": "2022-07-13T21:58:16.626Z"
   },
   {
    "duration": 51,
    "start_time": "2022-07-13T21:58:16.645Z"
   },
   {
    "duration": 22,
    "start_time": "2022-07-13T21:58:16.699Z"
   },
   {
    "duration": 47,
    "start_time": "2022-07-13T21:58:16.723Z"
   },
   {
    "duration": 71,
    "start_time": "2022-07-13T21:58:16.775Z"
   },
   {
    "duration": 35,
    "start_time": "2022-07-13T21:58:16.847Z"
   },
   {
    "duration": 15,
    "start_time": "2022-07-13T21:58:16.891Z"
   },
   {
    "duration": 38,
    "start_time": "2022-07-13T21:58:16.908Z"
   },
   {
    "duration": 66,
    "start_time": "2022-07-13T21:58:16.948Z"
   },
   {
    "duration": 5,
    "start_time": "2022-07-13T21:58:17.018Z"
   },
   {
    "duration": 42,
    "start_time": "2022-07-13T21:58:17.024Z"
   },
   {
    "duration": 49,
    "start_time": "2022-07-13T21:58:17.069Z"
   },
   {
    "duration": 13,
    "start_time": "2022-07-13T21:58:17.120Z"
   },
   {
    "duration": 29,
    "start_time": "2022-07-13T21:58:17.135Z"
   },
   {
    "duration": 177,
    "start_time": "2022-07-13T21:58:17.171Z"
   },
   {
    "duration": 28,
    "start_time": "2022-07-13T21:58:17.350Z"
   },
   {
    "duration": 32,
    "start_time": "2022-07-13T21:58:17.380Z"
   },
   {
    "duration": 300,
    "start_time": "2022-07-13T21:58:17.414Z"
   },
   {
    "duration": 296,
    "start_time": "2022-07-13T21:58:17.717Z"
   },
   {
    "duration": 182,
    "start_time": "2022-07-13T21:58:18.015Z"
   },
   {
    "duration": 371,
    "start_time": "2022-07-13T21:58:18.199Z"
   },
   {
    "duration": 319,
    "start_time": "2022-07-13T21:58:18.572Z"
   },
   {
    "duration": 228,
    "start_time": "2022-07-13T21:58:18.894Z"
   },
   {
    "duration": 276,
    "start_time": "2022-07-13T21:58:19.123Z"
   },
   {
    "duration": 343,
    "start_time": "2022-07-13T21:58:19.401Z"
   },
   {
    "duration": 168,
    "start_time": "2022-07-13T21:58:19.746Z"
   },
   {
    "duration": 248,
    "start_time": "2022-07-13T21:58:19.917Z"
   },
   {
    "duration": 256,
    "start_time": "2022-07-13T21:58:20.174Z"
   },
   {
    "duration": 209,
    "start_time": "2022-07-13T21:58:20.432Z"
   },
   {
    "duration": 42,
    "start_time": "2022-07-13T21:58:20.644Z"
   },
   {
    "duration": 22,
    "start_time": "2022-07-13T21:58:20.692Z"
   },
   {
    "duration": 8,
    "start_time": "2022-07-13T21:58:20.716Z"
   },
   {
    "duration": 8,
    "start_time": "2022-07-13T21:58:20.726Z"
   },
   {
    "duration": 6,
    "start_time": "2022-07-13T21:58:20.735Z"
   },
   {
    "duration": 1443,
    "start_time": "2022-07-14T00:37:03.414Z"
   },
   {
    "duration": 965,
    "start_time": "2022-07-14T00:37:04.859Z"
   },
   {
    "duration": 35,
    "start_time": "2022-07-14T00:37:05.825Z"
   },
   {
    "duration": 13,
    "start_time": "2022-07-14T00:37:05.862Z"
   },
   {
    "duration": 21,
    "start_time": "2022-07-14T00:37:05.876Z"
   },
   {
    "duration": 12,
    "start_time": "2022-07-14T00:37:05.964Z"
   },
   {
    "duration": 32,
    "start_time": "2022-07-14T00:37:06.945Z"
   },
   {
    "duration": 30,
    "start_time": "2022-07-14T00:37:07.331Z"
   },
   {
    "duration": 52,
    "start_time": "2022-07-14T00:37:07.912Z"
   },
   {
    "duration": 24,
    "start_time": "2022-07-14T00:37:08.489Z"
   },
   {
    "duration": 58,
    "start_time": "2022-07-14T00:37:09.088Z"
   },
   {
    "duration": 575,
    "start_time": "2022-07-14T00:37:09.496Z"
   },
   {
    "duration": 22,
    "start_time": "2022-07-14T00:37:10.081Z"
   },
   {
    "duration": 8,
    "start_time": "2022-07-14T00:37:10.275Z"
   },
   {
    "duration": 32,
    "start_time": "2022-07-14T00:37:11.028Z"
   },
   {
    "duration": 308,
    "start_time": "2022-07-14T00:37:11.403Z"
   },
   {
    "duration": 35,
    "start_time": "2022-07-14T00:37:11.976Z"
   },
   {
    "duration": 9,
    "start_time": "2022-07-14T00:37:12.174Z"
   },
   {
    "duration": 49,
    "start_time": "2022-07-14T00:37:12.792Z"
   },
   {
    "duration": 429,
    "start_time": "2022-07-14T00:37:13.229Z"
   },
   {
    "duration": 18,
    "start_time": "2022-07-14T00:37:13.961Z"
   },
   {
    "duration": 41,
    "start_time": "2022-07-14T00:37:14.386Z"
   },
   {
    "duration": 40,
    "start_time": "2022-07-14T00:37:14.604Z"
   },
   {
    "duration": 16,
    "start_time": "2022-07-14T00:37:14.816Z"
   },
   {
    "duration": 36,
    "start_time": "2022-07-14T00:37:15.011Z"
   },
   {
    "duration": 20,
    "start_time": "2022-07-14T00:37:15.234Z"
   },
   {
    "duration": 26,
    "start_time": "2022-07-14T00:37:15.474Z"
   },
   {
    "duration": 47,
    "start_time": "2022-07-14T00:37:16.037Z"
   },
   {
    "duration": 19,
    "start_time": "2022-07-14T00:37:16.537Z"
   },
   {
    "duration": 10,
    "start_time": "2022-07-14T00:37:16.786Z"
   },
   {
    "duration": 29,
    "start_time": "2022-07-14T00:37:17.239Z"
   },
   {
    "duration": 41,
    "start_time": "2022-07-14T00:37:17.458Z"
   },
   {
    "duration": 5,
    "start_time": "2022-07-14T00:37:17.893Z"
   },
   {
    "duration": 26,
    "start_time": "2022-07-14T00:37:18.515Z"
   },
   {
    "duration": 5,
    "start_time": "2022-07-14T00:37:18.813Z"
   },
   {
    "duration": 4,
    "start_time": "2022-07-14T00:37:19.464Z"
   },
   {
    "duration": 8,
    "start_time": "2022-07-14T00:37:20.261Z"
   },
   {
    "duration": 160,
    "start_time": "2022-07-14T00:37:20.695Z"
   },
   {
    "duration": 27,
    "start_time": "2022-07-14T00:37:21.589Z"
   },
   {
    "duration": 5,
    "start_time": "2022-07-14T00:37:21.826Z"
   },
   {
    "duration": 269,
    "start_time": "2022-07-14T00:37:22.545Z"
   },
   {
    "duration": 284,
    "start_time": "2022-07-14T00:37:23.731Z"
   },
   {
    "duration": 175,
    "start_time": "2022-07-14T00:37:24.017Z"
   },
   {
    "duration": 249,
    "start_time": "2022-07-14T00:37:25.270Z"
   },
   {
    "duration": 315,
    "start_time": "2022-07-14T00:37:25.522Z"
   },
   {
    "duration": 243,
    "start_time": "2022-07-14T00:37:25.840Z"
   },
   {
    "duration": 307,
    "start_time": "2022-07-14T00:37:26.556Z"
   },
   {
    "duration": 349,
    "start_time": "2022-07-14T00:37:26.866Z"
   },
   {
    "duration": 174,
    "start_time": "2022-07-14T00:37:27.218Z"
   },
   {
    "duration": 227,
    "start_time": "2022-07-14T00:37:29.637Z"
   },
   {
    "duration": 263,
    "start_time": "2022-07-14T00:37:29.883Z"
   },
   {
    "duration": 164,
    "start_time": "2022-07-14T00:37:30.164Z"
   },
   {
    "duration": 14,
    "start_time": "2022-07-14T00:38:04.493Z"
   },
   {
    "duration": 14,
    "start_time": "2022-07-14T00:38:05.831Z"
   },
   {
    "duration": 9,
    "start_time": "2022-07-14T00:38:06.083Z"
   },
   {
    "duration": 8,
    "start_time": "2022-07-14T00:38:06.810Z"
   },
   {
    "duration": 6,
    "start_time": "2022-07-14T00:38:07.494Z"
   },
   {
    "duration": 10,
    "start_time": "2022-07-14T00:38:33.290Z"
   },
   {
    "duration": 7,
    "start_time": "2022-07-14T00:38:33.759Z"
   },
   {
    "duration": 6,
    "start_time": "2022-07-14T00:38:35.241Z"
   },
   {
    "duration": 1190,
    "start_time": "2022-07-14T00:44:53.764Z"
   },
   {
    "duration": 313,
    "start_time": "2022-07-14T00:44:54.957Z"
   },
   {
    "duration": 34,
    "start_time": "2022-07-14T00:44:55.272Z"
   },
   {
    "duration": 11,
    "start_time": "2022-07-14T00:44:55.308Z"
   },
   {
    "duration": 21,
    "start_time": "2022-07-14T00:44:55.321Z"
   },
   {
    "duration": 11,
    "start_time": "2022-07-14T00:44:55.344Z"
   },
   {
    "duration": 58,
    "start_time": "2022-07-14T00:44:55.356Z"
   },
   {
    "duration": 31,
    "start_time": "2022-07-14T00:44:55.416Z"
   },
   {
    "duration": 72,
    "start_time": "2022-07-14T00:44:55.449Z"
   },
   {
    "duration": 24,
    "start_time": "2022-07-14T00:44:55.523Z"
   },
   {
    "duration": 86,
    "start_time": "2022-07-14T00:44:55.548Z"
   },
   {
    "duration": 571,
    "start_time": "2022-07-14T00:44:55.636Z"
   },
   {
    "duration": 22,
    "start_time": "2022-07-14T00:44:56.209Z"
   },
   {
    "duration": 8,
    "start_time": "2022-07-14T00:44:56.232Z"
   },
   {
    "duration": 31,
    "start_time": "2022-07-14T00:44:56.241Z"
   },
   {
    "duration": 352,
    "start_time": "2022-07-14T00:44:56.273Z"
   },
   {
    "duration": 41,
    "start_time": "2022-07-14T00:44:56.628Z"
   },
   {
    "duration": 26,
    "start_time": "2022-07-14T00:44:56.672Z"
   },
   {
    "duration": 65,
    "start_time": "2022-07-14T00:44:56.701Z"
   },
   {
    "duration": 487,
    "start_time": "2022-07-14T00:44:56.768Z"
   },
   {
    "duration": 17,
    "start_time": "2022-07-14T00:44:57.257Z"
   },
   {
    "duration": 57,
    "start_time": "2022-07-14T00:44:57.276Z"
   },
   {
    "duration": 41,
    "start_time": "2022-07-14T00:44:57.334Z"
   },
   {
    "duration": 30,
    "start_time": "2022-07-14T00:44:57.377Z"
   },
   {
    "duration": 36,
    "start_time": "2022-07-14T00:44:57.409Z"
   },
   {
    "duration": 20,
    "start_time": "2022-07-14T00:44:57.447Z"
   },
   {
    "duration": 49,
    "start_time": "2022-07-14T00:44:57.469Z"
   },
   {
    "duration": 47,
    "start_time": "2022-07-14T00:44:57.522Z"
   },
   {
    "duration": 40,
    "start_time": "2022-07-14T00:44:57.571Z"
   },
   {
    "duration": 11,
    "start_time": "2022-07-14T00:44:57.614Z"
   },
   {
    "duration": 31,
    "start_time": "2022-07-14T00:44:57.627Z"
   },
   {
    "duration": 64,
    "start_time": "2022-07-14T00:44:57.660Z"
   },
   {
    "duration": 4,
    "start_time": "2022-07-14T00:44:57.726Z"
   },
   {
    "duration": 41,
    "start_time": "2022-07-14T00:44:57.732Z"
   },
   {
    "duration": 9,
    "start_time": "2022-07-14T00:44:57.775Z"
   },
   {
    "duration": 18,
    "start_time": "2022-07-14T00:44:57.786Z"
   },
   {
    "duration": 15,
    "start_time": "2022-07-14T00:44:57.806Z"
   },
   {
    "duration": 172,
    "start_time": "2022-07-14T00:44:57.824Z"
   },
   {
    "duration": 22,
    "start_time": "2022-07-14T00:44:57.998Z"
   },
   {
    "duration": 21,
    "start_time": "2022-07-14T00:44:58.022Z"
   },
   {
    "duration": 270,
    "start_time": "2022-07-14T00:44:58.045Z"
   },
   {
    "duration": 296,
    "start_time": "2022-07-14T00:44:58.317Z"
   },
   {
    "duration": 165,
    "start_time": "2022-07-14T00:44:58.614Z"
   },
   {
    "duration": 274,
    "start_time": "2022-07-14T00:44:58.781Z"
   },
   {
    "duration": 318,
    "start_time": "2022-07-14T00:44:59.058Z"
   },
   {
    "duration": 237,
    "start_time": "2022-07-14T00:44:59.377Z"
   },
   {
    "duration": 283,
    "start_time": "2022-07-14T00:44:59.617Z"
   },
   {
    "duration": 357,
    "start_time": "2022-07-14T00:44:59.902Z"
   },
   {
    "duration": 167,
    "start_time": "2022-07-14T00:45:00.261Z"
   },
   {
    "duration": 247,
    "start_time": "2022-07-14T00:45:00.430Z"
   },
   {
    "duration": 275,
    "start_time": "2022-07-14T00:45:00.679Z"
   },
   {
    "duration": 171,
    "start_time": "2022-07-14T00:45:00.956Z"
   },
   {
    "duration": 13,
    "start_time": "2022-07-14T00:45:01.129Z"
   },
   {
    "duration": 22,
    "start_time": "2022-07-14T00:45:01.144Z"
   },
   {
    "duration": 9,
    "start_time": "2022-07-14T00:45:01.168Z"
   },
   {
    "duration": 39,
    "start_time": "2022-07-14T00:45:01.179Z"
   },
   {
    "duration": 1669,
    "start_time": "2022-07-14T00:45:01.219Z"
   },
   {
    "duration": 0,
    "start_time": "2022-07-14T00:45:02.889Z"
   },
   {
    "duration": 996,
    "start_time": "2022-07-14T00:45:26.797Z"
   },
   {
    "duration": 6,
    "start_time": "2022-07-14T00:45:39.519Z"
   },
   {
    "duration": 842,
    "start_time": "2022-07-14T00:45:54.455Z"
   },
   {
    "duration": 952,
    "start_time": "2022-07-14T00:51:15.532Z"
   },
   {
    "duration": 863,
    "start_time": "2022-07-14T00:51:25.974Z"
   },
   {
    "duration": 1135,
    "start_time": "2022-07-14T00:51:44.667Z"
   },
   {
    "duration": 927,
    "start_time": "2022-07-14T00:52:50.246Z"
   },
   {
    "duration": 7,
    "start_time": "2022-07-14T00:52:58.626Z"
   },
   {
    "duration": 961,
    "start_time": "2022-07-14T00:54:04.203Z"
   },
   {
    "duration": 329,
    "start_time": "2022-07-14T01:00:42.135Z"
   },
   {
    "duration": 31,
    "start_time": "2022-07-14T01:00:42.773Z"
   },
   {
    "duration": 11,
    "start_time": "2022-07-14T01:00:43.181Z"
   },
   {
    "duration": 21,
    "start_time": "2022-07-14T01:00:44.136Z"
   },
   {
    "duration": 12,
    "start_time": "2022-07-14T01:00:44.329Z"
   },
   {
    "duration": 29,
    "start_time": "2022-07-14T01:00:45.270Z"
   },
   {
    "duration": 32,
    "start_time": "2022-07-14T01:00:45.748Z"
   },
   {
    "duration": 49,
    "start_time": "2022-07-14T01:00:47.257Z"
   },
   {
    "duration": 26,
    "start_time": "2022-07-14T01:00:47.894Z"
   },
   {
    "duration": 55,
    "start_time": "2022-07-14T01:00:48.546Z"
   },
   {
    "duration": 592,
    "start_time": "2022-07-14T01:00:48.913Z"
   },
   {
    "duration": 23,
    "start_time": "2022-07-14T01:00:49.538Z"
   },
   {
    "duration": 8,
    "start_time": "2022-07-14T01:00:49.770Z"
   },
   {
    "duration": 32,
    "start_time": "2022-07-14T01:00:50.654Z"
   },
   {
    "duration": 332,
    "start_time": "2022-07-14T01:00:51.124Z"
   },
   {
    "duration": 33,
    "start_time": "2022-07-14T01:00:51.898Z"
   },
   {
    "duration": 12,
    "start_time": "2022-07-14T01:00:52.178Z"
   },
   {
    "duration": 47,
    "start_time": "2022-07-14T01:00:53.020Z"
   },
   {
    "duration": 452,
    "start_time": "2022-07-14T01:00:53.436Z"
   },
   {
    "duration": 18,
    "start_time": "2022-07-14T01:00:54.126Z"
   },
   {
    "duration": 39,
    "start_time": "2022-07-14T01:00:54.634Z"
   },
   {
    "duration": 40,
    "start_time": "2022-07-14T01:00:54.881Z"
   },
   {
    "duration": 17,
    "start_time": "2022-07-14T01:00:55.128Z"
   },
   {
    "duration": 37,
    "start_time": "2022-07-14T01:00:55.380Z"
   },
   {
    "duration": 21,
    "start_time": "2022-07-14T01:00:55.601Z"
   },
   {
    "duration": 25,
    "start_time": "2022-07-14T01:00:55.879Z"
   },
   {
    "duration": 56,
    "start_time": "2022-07-14T01:00:56.595Z"
   },
   {
    "duration": 19,
    "start_time": "2022-07-14T01:01:15.854Z"
   },
   {
    "duration": 10,
    "start_time": "2022-07-14T01:01:16.023Z"
   },
   {
    "duration": 30,
    "start_time": "2022-07-14T01:01:16.382Z"
   },
   {
    "duration": 56,
    "start_time": "2022-07-14T01:01:16.591Z"
   },
   {
    "duration": 4,
    "start_time": "2022-07-14T01:01:16.975Z"
   },
   {
    "duration": 28,
    "start_time": "2022-07-14T01:01:17.364Z"
   },
   {
    "duration": 5,
    "start_time": "2022-07-14T01:01:17.572Z"
   },
   {
    "duration": 5,
    "start_time": "2022-07-14T01:01:17.995Z"
   },
   {
    "duration": 9,
    "start_time": "2022-07-14T01:01:18.217Z"
   },
   {
    "duration": 157,
    "start_time": "2022-07-14T01:01:18.437Z"
   },
   {
    "duration": 21,
    "start_time": "2022-07-14T01:01:19.187Z"
   },
   {
    "duration": 5,
    "start_time": "2022-07-14T01:01:19.798Z"
   },
   {
    "duration": 246,
    "start_time": "2022-07-14T01:01:20.294Z"
   },
   {
    "duration": 278,
    "start_time": "2022-07-14T01:01:20.916Z"
   },
   {
    "duration": 269,
    "start_time": "2022-07-14T01:01:21.198Z"
   },
   {
    "duration": 252,
    "start_time": "2022-07-14T01:01:22.296Z"
   },
   {
    "duration": 314,
    "start_time": "2022-07-14T01:01:22.550Z"
   },
   {
    "duration": 162,
    "start_time": "2022-07-14T01:01:22.867Z"
   },
   {
    "duration": 261,
    "start_time": "2022-07-14T01:01:23.603Z"
   },
   {
    "duration": 343,
    "start_time": "2022-07-14T01:01:24.073Z"
   },
   {
    "duration": 161,
    "start_time": "2022-07-14T01:01:24.419Z"
   },
   {
    "duration": 260,
    "start_time": "2022-07-14T01:01:26.884Z"
   },
   {
    "duration": 283,
    "start_time": "2022-07-14T01:01:27.147Z"
   },
   {
    "duration": 316,
    "start_time": "2022-07-14T01:01:27.432Z"
   },
   {
    "duration": 14,
    "start_time": "2022-07-14T01:01:28.417Z"
   },
   {
    "duration": 12,
    "start_time": "2022-07-14T01:01:29.119Z"
   },
   {
    "duration": 9,
    "start_time": "2022-07-14T01:01:29.414Z"
   },
   {
    "duration": 8,
    "start_time": "2022-07-14T01:01:29.886Z"
   },
   {
    "duration": 974,
    "start_time": "2022-07-14T01:01:30.363Z"
   },
   {
    "duration": 8,
    "start_time": "2022-07-14T01:01:31.868Z"
   },
   {
    "duration": 15,
    "start_time": "2022-07-14T01:03:11.024Z"
   },
   {
    "duration": 1271,
    "start_time": "2022-07-14T01:04:47.374Z"
   },
   {
    "duration": 1138,
    "start_time": "2022-07-14T01:04:56.451Z"
   },
   {
    "duration": 1341,
    "start_time": "2022-07-14T01:10:52.127Z"
   },
   {
    "duration": 1199,
    "start_time": "2022-07-14T01:11:00.887Z"
   },
   {
    "duration": 1159,
    "start_time": "2022-07-14T01:11:33.674Z"
   },
   {
    "duration": 3,
    "start_time": "2022-07-14T01:11:46.699Z"
   },
   {
    "duration": 3,
    "start_time": "2022-07-14T01:11:56.583Z"
   },
   {
    "duration": 6,
    "start_time": "2022-07-14T01:12:04.297Z"
   },
   {
    "duration": 17,
    "start_time": "2022-07-14T01:13:36.670Z"
   },
   {
    "duration": 12,
    "start_time": "2022-07-14T01:14:00.037Z"
   },
   {
    "duration": 11,
    "start_time": "2022-07-14T01:14:45.203Z"
   },
   {
    "duration": 5,
    "start_time": "2022-07-14T01:15:02.756Z"
   },
   {
    "duration": 7,
    "start_time": "2022-07-14T01:15:10.857Z"
   },
   {
    "duration": 1279,
    "start_time": "2022-07-14T01:15:48.082Z"
   },
   {
    "duration": 338,
    "start_time": "2022-07-14T01:15:49.362Z"
   },
   {
    "duration": 34,
    "start_time": "2022-07-14T01:15:49.703Z"
   },
   {
    "duration": 12,
    "start_time": "2022-07-14T01:15:49.739Z"
   },
   {
    "duration": 22,
    "start_time": "2022-07-14T01:15:49.753Z"
   },
   {
    "duration": 29,
    "start_time": "2022-07-14T01:15:49.777Z"
   },
   {
    "duration": 29,
    "start_time": "2022-07-14T01:15:49.808Z"
   },
   {
    "duration": 59,
    "start_time": "2022-07-14T01:15:49.840Z"
   },
   {
    "duration": 55,
    "start_time": "2022-07-14T01:15:49.901Z"
   },
   {
    "duration": 48,
    "start_time": "2022-07-14T01:15:49.959Z"
   },
   {
    "duration": 59,
    "start_time": "2022-07-14T01:15:50.008Z"
   },
   {
    "duration": 570,
    "start_time": "2022-07-14T01:15:50.068Z"
   },
   {
    "duration": 22,
    "start_time": "2022-07-14T01:15:50.639Z"
   },
   {
    "duration": 7,
    "start_time": "2022-07-14T01:15:50.663Z"
   },
   {
    "duration": 54,
    "start_time": "2022-07-14T01:15:50.672Z"
   },
   {
    "duration": 323,
    "start_time": "2022-07-14T01:15:50.728Z"
   },
   {
    "duration": 45,
    "start_time": "2022-07-14T01:15:51.053Z"
   },
   {
    "duration": 10,
    "start_time": "2022-07-14T01:15:51.100Z"
   },
   {
    "duration": 53,
    "start_time": "2022-07-14T01:15:51.112Z"
   },
   {
    "duration": 443,
    "start_time": "2022-07-14T01:15:51.167Z"
   },
   {
    "duration": 19,
    "start_time": "2022-07-14T01:15:51.612Z"
   },
   {
    "duration": 46,
    "start_time": "2022-07-14T01:15:51.633Z"
   },
   {
    "duration": 55,
    "start_time": "2022-07-14T01:15:51.680Z"
   },
   {
    "duration": 20,
    "start_time": "2022-07-14T01:15:51.737Z"
   },
   {
    "duration": 83,
    "start_time": "2022-07-14T01:15:51.759Z"
   },
   {
    "duration": 20,
    "start_time": "2022-07-14T01:15:51.843Z"
   },
   {
    "duration": 42,
    "start_time": "2022-07-14T01:15:51.864Z"
   },
   {
    "duration": 48,
    "start_time": "2022-07-14T01:15:51.910Z"
   },
   {
    "duration": 45,
    "start_time": "2022-07-14T01:15:51.959Z"
   },
   {
    "duration": 11,
    "start_time": "2022-07-14T01:15:52.006Z"
   },
   {
    "duration": 28,
    "start_time": "2022-07-14T01:15:52.019Z"
   },
   {
    "duration": 63,
    "start_time": "2022-07-14T01:15:52.049Z"
   },
   {
    "duration": 4,
    "start_time": "2022-07-14T01:15:52.114Z"
   },
   {
    "duration": 31,
    "start_time": "2022-07-14T01:15:52.119Z"
   },
   {
    "duration": 10,
    "start_time": "2022-07-14T01:15:52.151Z"
   },
   {
    "duration": 10,
    "start_time": "2022-07-14T01:15:52.163Z"
   },
   {
    "duration": 12,
    "start_time": "2022-07-14T01:15:52.174Z"
   },
   {
    "duration": 157,
    "start_time": "2022-07-14T01:15:52.199Z"
   },
   {
    "duration": 23,
    "start_time": "2022-07-14T01:15:52.357Z"
   },
   {
    "duration": 4,
    "start_time": "2022-07-14T01:15:52.398Z"
   },
   {
    "duration": 274,
    "start_time": "2022-07-14T01:15:52.404Z"
   },
   {
    "duration": 298,
    "start_time": "2022-07-14T01:15:52.680Z"
   },
   {
    "duration": 171,
    "start_time": "2022-07-14T01:15:52.979Z"
   },
   {
    "duration": 256,
    "start_time": "2022-07-14T01:15:53.151Z"
   },
   {
    "duration": 327,
    "start_time": "2022-07-14T01:15:53.408Z"
   },
   {
    "duration": 236,
    "start_time": "2022-07-14T01:15:53.737Z"
   },
   {
    "duration": 290,
    "start_time": "2022-07-14T01:15:53.974Z"
   },
   {
    "duration": 352,
    "start_time": "2022-07-14T01:15:54.266Z"
   },
   {
    "duration": 182,
    "start_time": "2022-07-14T01:15:54.620Z"
   },
   {
    "duration": 243,
    "start_time": "2022-07-14T01:15:54.804Z"
   },
   {
    "duration": 268,
    "start_time": "2022-07-14T01:15:55.049Z"
   },
   {
    "duration": 175,
    "start_time": "2022-07-14T01:15:55.319Z"
   },
   {
    "duration": 13,
    "start_time": "2022-07-14T01:15:55.499Z"
   },
   {
    "duration": 14,
    "start_time": "2022-07-14T01:15:55.514Z"
   },
   {
    "duration": 8,
    "start_time": "2022-07-14T01:15:55.530Z"
   },
   {
    "duration": 9,
    "start_time": "2022-07-14T01:15:55.540Z"
   },
   {
    "duration": 6,
    "start_time": "2022-07-14T01:15:55.551Z"
   },
   {
    "duration": 39,
    "start_time": "2022-07-14T01:15:55.560Z"
   },
   {
    "duration": 7,
    "start_time": "2022-07-14T01:16:34.802Z"
   },
   {
    "duration": 5,
    "start_time": "2022-07-14T01:16:51.268Z"
   },
   {
    "duration": 6,
    "start_time": "2022-07-14T01:17:22.839Z"
   },
   {
    "duration": 5,
    "start_time": "2022-07-14T01:20:32.683Z"
   },
   {
    "duration": 117,
    "start_time": "2022-07-14T01:23:51.496Z"
   },
   {
    "duration": 6,
    "start_time": "2022-07-14T01:24:15.603Z"
   },
   {
    "duration": 14,
    "start_time": "2022-07-14T01:25:59.470Z"
   },
   {
    "duration": 13,
    "start_time": "2022-07-14T01:26:26.312Z"
   },
   {
    "duration": 5,
    "start_time": "2022-07-14T01:26:34.413Z"
   },
   {
    "duration": 14,
    "start_time": "2022-07-14T01:26:41.761Z"
   },
   {
    "duration": 5,
    "start_time": "2022-07-14T01:26:53.729Z"
   },
   {
    "duration": 15,
    "start_time": "2022-07-14T01:30:31.044Z"
   },
   {
    "duration": 9,
    "start_time": "2022-07-14T01:40:42.213Z"
   },
   {
    "duration": 9,
    "start_time": "2022-07-14T01:41:05.823Z"
   },
   {
    "duration": 6,
    "start_time": "2022-07-14T01:41:15.333Z"
   },
   {
    "duration": 5,
    "start_time": "2022-07-14T01:41:24.167Z"
   },
   {
    "duration": 5,
    "start_time": "2022-07-14T01:41:35.753Z"
   },
   {
    "duration": 16,
    "start_time": "2022-07-14T01:41:53.155Z"
   },
   {
    "duration": 15,
    "start_time": "2022-07-14T01:42:07.811Z"
   },
   {
    "duration": 17,
    "start_time": "2022-07-14T01:42:49.812Z"
   },
   {
    "duration": 16,
    "start_time": "2022-07-14T01:43:01.440Z"
   },
   {
    "duration": 9,
    "start_time": "2022-07-14T01:43:09.065Z"
   },
   {
    "duration": 9,
    "start_time": "2022-07-14T01:43:45.407Z"
   },
   {
    "duration": 9,
    "start_time": "2022-07-14T01:45:01.941Z"
   },
   {
    "duration": 9,
    "start_time": "2022-07-14T01:45:03.088Z"
   },
   {
    "duration": 10,
    "start_time": "2022-07-14T01:45:53.860Z"
   },
   {
    "duration": 8,
    "start_time": "2022-07-14T01:46:00.003Z"
   },
   {
    "duration": 82,
    "start_time": "2022-07-14T01:51:28.689Z"
   },
   {
    "duration": 12,
    "start_time": "2022-07-14T01:51:33.679Z"
   },
   {
    "duration": 6,
    "start_time": "2022-07-14T01:51:54.918Z"
   },
   {
    "duration": 7,
    "start_time": "2022-07-14T01:52:12.552Z"
   },
   {
    "duration": 7,
    "start_time": "2022-07-14T01:52:42.433Z"
   },
   {
    "duration": 1227,
    "start_time": "2022-07-14T02:22:36.446Z"
   },
   {
    "duration": 361,
    "start_time": "2022-07-14T02:22:37.675Z"
   },
   {
    "duration": 34,
    "start_time": "2022-07-14T02:22:38.038Z"
   },
   {
    "duration": 13,
    "start_time": "2022-07-14T02:22:38.074Z"
   },
   {
    "duration": 36,
    "start_time": "2022-07-14T02:22:38.088Z"
   },
   {
    "duration": 11,
    "start_time": "2022-07-14T02:22:38.125Z"
   },
   {
    "duration": 29,
    "start_time": "2022-07-14T02:22:38.138Z"
   },
   {
    "duration": 41,
    "start_time": "2022-07-14T02:22:38.168Z"
   },
   {
    "duration": 52,
    "start_time": "2022-07-14T02:22:38.211Z"
   },
   {
    "duration": 43,
    "start_time": "2022-07-14T02:22:38.266Z"
   },
   {
    "duration": 112,
    "start_time": "2022-07-14T02:22:38.311Z"
   },
   {
    "duration": 773,
    "start_time": "2022-07-14T02:22:38.425Z"
   },
   {
    "duration": 24,
    "start_time": "2022-07-14T02:22:39.210Z"
   },
   {
    "duration": 8,
    "start_time": "2022-07-14T02:22:39.236Z"
   },
   {
    "duration": 33,
    "start_time": "2022-07-14T02:22:39.245Z"
   },
   {
    "duration": 457,
    "start_time": "2022-07-14T02:22:39.280Z"
   },
   {
    "duration": 70,
    "start_time": "2022-07-14T02:22:39.740Z"
   },
   {
    "duration": 9,
    "start_time": "2022-07-14T02:22:39.814Z"
   },
   {
    "duration": 97,
    "start_time": "2022-07-14T02:22:39.825Z"
   },
   {
    "duration": 488,
    "start_time": "2022-07-14T02:22:39.923Z"
   },
   {
    "duration": 18,
    "start_time": "2022-07-14T02:22:40.413Z"
   },
   {
    "duration": 41,
    "start_time": "2022-07-14T02:22:40.433Z"
   },
   {
    "duration": 62,
    "start_time": "2022-07-14T02:22:40.476Z"
   },
   {
    "duration": 17,
    "start_time": "2022-07-14T02:22:40.540Z"
   },
   {
    "duration": 55,
    "start_time": "2022-07-14T02:22:40.559Z"
   },
   {
    "duration": 19,
    "start_time": "2022-07-14T02:22:40.616Z"
   },
   {
    "duration": 27,
    "start_time": "2022-07-14T02:22:40.637Z"
   },
   {
    "duration": 71,
    "start_time": "2022-07-14T02:22:40.669Z"
   },
   {
    "duration": 18,
    "start_time": "2022-07-14T02:22:40.742Z"
   },
   {
    "duration": 11,
    "start_time": "2022-07-14T02:22:40.762Z"
   },
   {
    "duration": 54,
    "start_time": "2022-07-14T02:22:40.775Z"
   },
   {
    "duration": 46,
    "start_time": "2022-07-14T02:22:40.831Z"
   },
   {
    "duration": 25,
    "start_time": "2022-07-14T02:22:40.879Z"
   },
   {
    "duration": 28,
    "start_time": "2022-07-14T02:22:40.910Z"
   },
   {
    "duration": 6,
    "start_time": "2022-07-14T02:22:40.940Z"
   },
   {
    "duration": 7,
    "start_time": "2022-07-14T02:22:40.947Z"
   },
   {
    "duration": 11,
    "start_time": "2022-07-14T02:22:40.956Z"
   },
   {
    "duration": 176,
    "start_time": "2022-07-14T02:22:40.969Z"
   },
   {
    "duration": 22,
    "start_time": "2022-07-14T02:22:41.147Z"
   },
   {
    "duration": 8,
    "start_time": "2022-07-14T02:22:41.171Z"
   },
   {
    "duration": 299,
    "start_time": "2022-07-14T02:22:41.181Z"
   },
   {
    "duration": 309,
    "start_time": "2022-07-14T02:22:41.482Z"
   },
   {
    "duration": 168,
    "start_time": "2022-07-14T02:22:41.793Z"
   },
   {
    "duration": 266,
    "start_time": "2022-07-14T02:22:41.963Z"
   },
   {
    "duration": 321,
    "start_time": "2022-07-14T02:22:42.231Z"
   },
   {
    "duration": 261,
    "start_time": "2022-07-14T02:22:42.554Z"
   },
   {
    "duration": 260,
    "start_time": "2022-07-14T02:22:42.817Z"
   },
   {
    "duration": 360,
    "start_time": "2022-07-14T02:22:43.078Z"
   },
   {
    "duration": 180,
    "start_time": "2022-07-14T02:22:43.440Z"
   },
   {
    "duration": 245,
    "start_time": "2022-07-14T02:22:43.622Z"
   },
   {
    "duration": 294,
    "start_time": "2022-07-14T02:22:43.869Z"
   },
   {
    "duration": 182,
    "start_time": "2022-07-14T02:22:44.164Z"
   },
   {
    "duration": 15,
    "start_time": "2022-07-14T02:22:44.349Z"
   },
   {
    "duration": 33,
    "start_time": "2022-07-14T02:22:44.366Z"
   },
   {
    "duration": 11,
    "start_time": "2022-07-14T02:22:44.414Z"
   },
   {
    "duration": 9,
    "start_time": "2022-07-14T02:22:44.427Z"
   },
   {
    "duration": 4,
    "start_time": "2022-07-14T02:22:44.438Z"
   },
   {
    "duration": 16,
    "start_time": "2022-07-14T02:22:44.444Z"
   },
   {
    "duration": 4,
    "start_time": "2022-07-14T02:22:49.468Z"
   },
   {
    "duration": 5,
    "start_time": "2022-07-14T02:22:56.333Z"
   },
   {
    "duration": 116,
    "start_time": "2022-07-14T02:27:01.095Z"
   },
   {
    "duration": 9,
    "start_time": "2022-07-14T02:27:18.247Z"
   },
   {
    "duration": 5,
    "start_time": "2022-07-14T02:27:33.235Z"
   },
   {
    "duration": 8,
    "start_time": "2022-07-14T02:28:22.085Z"
   },
   {
    "duration": 9,
    "start_time": "2022-07-14T02:28:28.074Z"
   },
   {
    "duration": 9,
    "start_time": "2022-07-14T02:28:31.446Z"
   },
   {
    "duration": 7,
    "start_time": "2022-07-14T02:28:49.483Z"
   },
   {
    "duration": 20,
    "start_time": "2022-07-14T02:30:59.537Z"
   },
   {
    "duration": 16,
    "start_time": "2022-07-14T02:31:23.773Z"
   },
   {
    "duration": 17,
    "start_time": "2022-07-14T02:32:57.918Z"
   },
   {
    "duration": 16,
    "start_time": "2022-07-14T02:33:22.729Z"
   },
   {
    "duration": 16,
    "start_time": "2022-07-14T02:34:14.813Z"
   },
   {
    "duration": 16,
    "start_time": "2022-07-14T02:35:03.449Z"
   },
   {
    "duration": 16,
    "start_time": "2022-07-14T02:40:13.178Z"
   },
   {
    "duration": 1902,
    "start_time": "2022-07-14T12:35:00.065Z"
   },
   {
    "duration": 890,
    "start_time": "2022-07-14T12:35:01.969Z"
   },
   {
    "duration": 50,
    "start_time": "2022-07-14T12:35:02.871Z"
   },
   {
    "duration": 16,
    "start_time": "2022-07-14T12:35:02.923Z"
   },
   {
    "duration": 40,
    "start_time": "2022-07-14T12:35:02.941Z"
   },
   {
    "duration": 19,
    "start_time": "2022-07-14T12:35:02.984Z"
   },
   {
    "duration": 56,
    "start_time": "2022-07-14T12:35:03.005Z"
   },
   {
    "duration": 48,
    "start_time": "2022-07-14T12:35:03.063Z"
   },
   {
    "duration": 90,
    "start_time": "2022-07-14T12:35:03.114Z"
   },
   {
    "duration": 38,
    "start_time": "2022-07-14T12:35:03.207Z"
   },
   {
    "duration": 107,
    "start_time": "2022-07-14T12:35:03.247Z"
   },
   {
    "duration": 614,
    "start_time": "2022-07-14T12:35:03.359Z"
   },
   {
    "duration": 30,
    "start_time": "2022-07-14T12:35:03.975Z"
   },
   {
    "duration": 9,
    "start_time": "2022-07-14T12:35:04.007Z"
   },
   {
    "duration": 43,
    "start_time": "2022-07-14T12:35:04.018Z"
   },
   {
    "duration": 333,
    "start_time": "2022-07-14T12:35:04.063Z"
   },
   {
    "duration": 38,
    "start_time": "2022-07-14T12:35:04.398Z"
   },
   {
    "duration": 11,
    "start_time": "2022-07-14T12:35:04.438Z"
   },
   {
    "duration": 70,
    "start_time": "2022-07-14T12:35:04.451Z"
   },
   {
    "duration": 403,
    "start_time": "2022-07-14T12:35:04.523Z"
   },
   {
    "duration": 20,
    "start_time": "2022-07-14T12:35:04.928Z"
   },
   {
    "duration": 68,
    "start_time": "2022-07-14T12:35:04.949Z"
   },
   {
    "duration": 47,
    "start_time": "2022-07-14T12:35:05.018Z"
   },
   {
    "duration": 35,
    "start_time": "2022-07-14T12:35:05.067Z"
   },
   {
    "duration": 43,
    "start_time": "2022-07-14T12:35:05.105Z"
   },
   {
    "duration": 34,
    "start_time": "2022-07-14T12:35:05.149Z"
   },
   {
    "duration": 37,
    "start_time": "2022-07-14T12:35:05.185Z"
   },
   {
    "duration": 102,
    "start_time": "2022-07-14T12:35:05.226Z"
   },
   {
    "duration": 22,
    "start_time": "2022-07-14T12:35:05.330Z"
   },
   {
    "duration": 10,
    "start_time": "2022-07-14T12:35:05.354Z"
   },
   {
    "duration": 63,
    "start_time": "2022-07-14T12:35:05.366Z"
   },
   {
    "duration": 52,
    "start_time": "2022-07-14T12:35:05.431Z"
   },
   {
    "duration": 5,
    "start_time": "2022-07-14T12:35:05.485Z"
   },
   {
    "duration": 35,
    "start_time": "2022-07-14T12:35:05.501Z"
   },
   {
    "duration": 17,
    "start_time": "2022-07-14T12:35:05.538Z"
   },
   {
    "duration": 7,
    "start_time": "2022-07-14T12:35:05.557Z"
   },
   {
    "duration": 12,
    "start_time": "2022-07-14T12:35:05.566Z"
   },
   {
    "duration": 137,
    "start_time": "2022-07-14T12:35:05.580Z"
   },
   {
    "duration": 25,
    "start_time": "2022-07-14T12:35:05.718Z"
   },
   {
    "duration": 5,
    "start_time": "2022-07-14T12:35:05.745Z"
   },
   {
    "duration": 381,
    "start_time": "2022-07-14T12:35:05.752Z"
   },
   {
    "duration": 398,
    "start_time": "2022-07-14T12:35:06.136Z"
   },
   {
    "duration": 223,
    "start_time": "2022-07-14T12:35:06.536Z"
   },
   {
    "duration": 361,
    "start_time": "2022-07-14T12:35:06.762Z"
   },
   {
    "duration": 435,
    "start_time": "2022-07-14T12:35:07.126Z"
   },
   {
    "duration": 312,
    "start_time": "2022-07-14T12:35:07.563Z"
   },
   {
    "duration": 379,
    "start_time": "2022-07-14T12:35:07.877Z"
   },
   {
    "duration": 492,
    "start_time": "2022-07-14T12:35:08.260Z"
   },
   {
    "duration": 227,
    "start_time": "2022-07-14T12:35:08.754Z"
   },
   {
    "duration": 325,
    "start_time": "2022-07-14T12:35:08.983Z"
   },
   {
    "duration": 370,
    "start_time": "2022-07-14T12:35:09.311Z"
   },
   {
    "duration": 237,
    "start_time": "2022-07-14T12:35:09.683Z"
   },
   {
    "duration": 19,
    "start_time": "2022-07-14T12:35:09.922Z"
   },
   {
    "duration": 23,
    "start_time": "2022-07-14T12:35:09.943Z"
   },
   {
    "duration": 29,
    "start_time": "2022-07-14T12:35:09.971Z"
   },
   {
    "duration": 18,
    "start_time": "2022-07-14T12:35:10.003Z"
   },
   {
    "duration": 15,
    "start_time": "2022-07-14T12:35:10.023Z"
   },
   {
    "duration": 152,
    "start_time": "2022-07-14T12:35:10.044Z"
   },
   {
    "duration": 16,
    "start_time": "2022-07-14T12:41:15.315Z"
   },
   {
    "duration": 9,
    "start_time": "2022-07-14T12:48:01.994Z"
   },
   {
    "duration": 13,
    "start_time": "2022-07-14T12:57:49.965Z"
   },
   {
    "duration": 10,
    "start_time": "2022-07-14T12:58:00.324Z"
   },
   {
    "duration": 10,
    "start_time": "2022-07-14T13:06:26.183Z"
   },
   {
    "duration": 4,
    "start_time": "2022-07-14T13:06:48.520Z"
   },
   {
    "duration": 5,
    "start_time": "2022-07-14T13:07:21.330Z"
   },
   {
    "duration": 7,
    "start_time": "2022-07-14T13:12:02.163Z"
   },
   {
    "duration": 21,
    "start_time": "2022-07-14T13:12:10.157Z"
   },
   {
    "duration": 20,
    "start_time": "2022-07-14T13:13:13.176Z"
   },
   {
    "duration": 7,
    "start_time": "2022-07-14T13:13:20.171Z"
   },
   {
    "duration": 6,
    "start_time": "2022-07-14T13:13:31.020Z"
   },
   {
    "duration": 6,
    "start_time": "2022-07-14T13:13:33.327Z"
   }
  ],
  "kernelspec": {
   "display_name": "Python 3 (ipykernel)",
   "language": "python",
   "name": "python3"
  },
  "language_info": {
   "codemirror_mode": {
    "name": "ipython",
    "version": 3
   },
   "file_extension": ".py",
   "mimetype": "text/x-python",
   "name": "python",
   "nbconvert_exporter": "python",
   "pygments_lexer": "ipython3",
   "version": "3.9.5"
  },
  "toc": {
   "base_numbering": 1,
   "nav_menu": {},
   "number_sections": true,
   "sideBar": true,
   "skip_h1_title": false,
   "title_cell": "Table of Contents",
   "title_sidebar": "Contents",
   "toc_cell": false,
   "toc_position": {
    "height": "calc(100% - 180px)",
    "left": "10px",
    "top": "150px",
    "width": "165px"
   },
   "toc_section_display": true,
   "toc_window_display": true
  }
 },
 "nbformat": 4,
 "nbformat_minor": 2
}
