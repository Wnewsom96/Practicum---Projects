{
 "cells": [
  {
   "cell_type": "markdown",
   "metadata": {},
   "source": [
    "# Introduction"
   ]
  },
  {
   "cell_type": "markdown",
   "metadata": {},
   "source": [
    "You work for the OilyGiant mining company. Your task is to find the best place for a new well.\n",
    "Steps to choose the location:\n",
    "- Collect the oil well parameters in the selected region: oil quality and volume of reserves;\n",
    "- Build a model for predicting the volume of reserves in the new wells;\n",
    "- Pick the oil wells with the highest estimated values;\n",
    "- Pick the region with the highest total profit for the selected oil wells.\n",
    "You have data on oil samples from three regions. \n",
    "\n",
    "Parameters of each oil well in the region are already known. Build a model that will help to pick the region with the highest profit margin. \n",
    "\n",
    "Analyze potential profit and risks using the Bootstrapping technique."
   ]
  },
  {
   "cell_type": "markdown",
   "metadata": {},
   "source": [
    "# Download and preparing the data"
   ]
  },
  {
   "cell_type": "code",
   "execution_count": 28,
   "metadata": {},
   "outputs": [],
   "source": [
    "import pandas as pd\n",
    "import numpy as np\n",
    "import matplotlib.pyplot as plt\n",
    "%matplotlib inline\n",
    "import seaborn as sns\n",
    "from sklearn.metrics import *\n",
    "from sklearn.model_selection import train_test_split, GridSearchCV, KFold\n",
    "from sklearn.preprocessing import *\n",
    "from sklearn.pipeline import make_pipeline, Pipeline\n",
    "from sklearn.tree import DecisionTreeClassifier\n",
    "from sklearn.ensemble import RandomForestClassifier\n",
    "from sklearn.linear_model import LogisticRegression, LinearRegression, Lasso, LogisticRegressionCV\n",
    "from sklearn.utils import shuffle\n",
    "from scipy import stats as st"
   ]
  },
  {
   "cell_type": "code",
   "execution_count": 29,
   "metadata": {},
   "outputs": [],
   "source": [
    "geo0 = pd.read_csv('https://code.s3.yandex.net/datasets/geo_data_0.csv')\n",
    "\n",
    "geo1 = pd.read_csv('https://code.s3.yandex.net/datasets/geo_data_1.csv')\n",
    "\n",
    "geo2 = pd.read_csv('https://code.s3.yandex.net/datasets/geo_data_2.csv')"
   ]
  },
  {
   "cell_type": "code",
   "execution_count": 30,
   "metadata": {},
   "outputs": [
    {
     "name": "stdout",
     "output_type": "stream",
     "text": [
      "      id        f0        f1        f2     product\n",
      "0  txEyH  0.705745 -0.497823  1.221170  105.280062\n",
      "1  2acmU  1.334711 -0.340164  4.365080   73.037750\n",
      "2  409Wp  1.022732  0.151990  1.419926   85.265647\n",
      "3  iJLyR -0.032172  0.139033  2.978566  168.620776\n",
      "4  Xdl7t  1.988431  0.155413  4.751769  154.036647\n",
      "id         0\n",
      "f0         0\n",
      "f1         0\n",
      "f2         0\n",
      "product    0\n",
      "dtype: int64\n",
      "<class 'pandas.core.frame.DataFrame'>\n",
      "RangeIndex: 100000 entries, 0 to 99999\n",
      "Data columns (total 5 columns):\n",
      " #   Column   Non-Null Count   Dtype  \n",
      "---  ------   --------------   -----  \n",
      " 0   id       100000 non-null  object \n",
      " 1   f0       100000 non-null  float64\n",
      " 2   f1       100000 non-null  float64\n",
      " 3   f2       100000 non-null  float64\n",
      " 4   product  100000 non-null  float64\n",
      "dtypes: float64(4), object(1)\n",
      "memory usage: 3.8+ MB\n",
      "None\n",
      "                  f0             f1             f2        product\n",
      "count  100000.000000  100000.000000  100000.000000  100000.000000\n",
      "mean        0.500419       0.250143       2.502647      92.500000\n",
      "std         0.871832       0.504433       3.248248      44.288691\n",
      "min        -1.408605      -0.848218     -12.088328       0.000000\n",
      "25%        -0.072580      -0.200881       0.287748      56.497507\n",
      "50%         0.502360       0.250252       2.515969      91.849972\n",
      "75%         1.073581       0.700646       4.715088     128.564089\n",
      "max         2.362331       1.343769      16.003790     185.364347\n",
      "      id         f0         f1        f2     product\n",
      "0  kBEdx -15.001348  -8.276000 -0.005876    3.179103\n",
      "1  62mP7  14.272088  -3.475083  0.999183   26.953261\n",
      "2  vyE1P   6.263187  -5.948386  5.001160  134.766305\n",
      "3  KcrkZ -13.081196 -11.506057  4.999415  137.945408\n",
      "4  AHL4O  12.702195  -8.147433  5.004363  134.766305\n",
      "id         0\n",
      "f0         0\n",
      "f1         0\n",
      "f2         0\n",
      "product    0\n",
      "dtype: int64\n",
      "<class 'pandas.core.frame.DataFrame'>\n",
      "RangeIndex: 100000 entries, 0 to 99999\n",
      "Data columns (total 5 columns):\n",
      " #   Column   Non-Null Count   Dtype  \n",
      "---  ------   --------------   -----  \n",
      " 0   id       100000 non-null  object \n",
      " 1   f0       100000 non-null  float64\n",
      " 2   f1       100000 non-null  float64\n",
      " 3   f2       100000 non-null  float64\n",
      " 4   product  100000 non-null  float64\n",
      "dtypes: float64(4), object(1)\n",
      "memory usage: 3.8+ MB\n",
      "None\n",
      "                  f0             f1             f2        product\n",
      "count  100000.000000  100000.000000  100000.000000  100000.000000\n",
      "mean        1.141296      -4.796579       2.494541      68.825000\n",
      "std         8.965932       5.119872       1.703572      45.944423\n",
      "min       -31.609576     -26.358598      -0.018144       0.000000\n",
      "25%        -6.298551      -8.267985       1.000021      26.953261\n",
      "50%         1.153055      -4.813172       2.011479      57.085625\n",
      "75%         8.621015      -1.332816       3.999904     107.813044\n",
      "max        29.421755      18.734063       5.019721     137.945408\n",
      "      id        f0        f1        f2     product\n",
      "0  fwXo0 -1.146987  0.963328 -0.828965   27.758673\n",
      "1  WJtFt  0.262778  0.269839 -2.530187   56.069697\n",
      "2  ovLUW  0.194587  0.289035 -5.586433   62.871910\n",
      "3  q6cA6  2.236060 -0.553760  0.930038  114.572842\n",
      "4  WPMUX -0.515993  1.716266  5.899011  149.600746\n",
      "id         0\n",
      "f0         0\n",
      "f1         0\n",
      "f2         0\n",
      "product    0\n",
      "dtype: int64\n",
      "<class 'pandas.core.frame.DataFrame'>\n",
      "RangeIndex: 100000 entries, 0 to 99999\n",
      "Data columns (total 5 columns):\n",
      " #   Column   Non-Null Count   Dtype  \n",
      "---  ------   --------------   -----  \n",
      " 0   id       100000 non-null  object \n",
      " 1   f0       100000 non-null  float64\n",
      " 2   f1       100000 non-null  float64\n",
      " 3   f2       100000 non-null  float64\n",
      " 4   product  100000 non-null  float64\n",
      "dtypes: float64(4), object(1)\n",
      "memory usage: 3.8+ MB\n",
      "None\n",
      "                  f0             f1             f2        product\n",
      "count  100000.000000  100000.000000  100000.000000  100000.000000\n",
      "mean        0.002023      -0.002081       2.495128      95.000000\n",
      "std         1.732045       1.730417       3.473445      44.749921\n",
      "min        -8.760004      -7.084020     -11.970335       0.000000\n",
      "25%        -1.162288      -1.174820       0.130359      59.450441\n",
      "50%         0.009424      -0.009482       2.484236      94.925613\n",
      "75%         1.158535       1.163678       4.858794     130.595027\n",
      "max         7.238262       7.844801      16.739402     190.029838\n"
     ]
    }
   ],
   "source": [
    "def process_data(geo):\n",
    "    print(geo.head())\n",
    "    print(geo.isna().sum())\n",
    "    print(geo.info())\n",
    "    print(geo.describe())\n",
    "    \n",
    "process_data(geo0)\n",
    "process_data(geo1)\n",
    "process_data(geo2)"
   ]
  },
  {
   "cell_type": "markdown",
   "metadata": {},
   "source": [
    "\n",
    "The datasets are in great form\n",
    "- There are no null values in the datasets.\n",
    "- The datatypes work for the columns.\n"
   ]
  },
  {
   "cell_type": "markdown",
   "metadata": {},
   "source": [
    "# Train and test the model for each region\n"
   ]
  },
  {
   "cell_type": "code",
   "execution_count": 31,
   "metadata": {},
   "outputs": [
    {
     "name": "stdout",
     "output_type": "stream",
     "text": [
      "Length of split dataset:\n",
      "75000\n",
      "75000\n",
      "25000\n",
      "25000\n",
      "Length of split dataset:\n",
      "75000\n",
      "75000\n",
      "25000\n",
      "25000\n",
      "Length of split dataset:\n",
      "75000\n",
      "75000\n",
      "25000\n",
      "25000\n"
     ]
    }
   ],
   "source": [
    "def split(geo):\n",
    "    features = geo.drop(columns=['product', 'id'])\n",
    "    target =  geo[\"product\"]\n",
    "    features_train, features_test, target_train, target_test = train_test_split(features, target, test_size=0.25, random_state=12345)\n",
    "    print('Length of split dataset:')\n",
    "    print(len(features_train))\n",
    "    print(len(target_train))\n",
    "    print(len(features_test))\n",
    "    print(len(target_test))\n",
    "    return features_train, features_test, target_train, target_test\n",
    "\n",
    "features_train0, features_test0, target_train0, target_test0 = split(geo0)\n",
    "features_train1, features_test1, target_train1, target_test1 = split(geo1)\n",
    "features_train2, features_test2, target_train2, target_test2 = split(geo2)\n"
   ]
  },
  {
   "cell_type": "code",
   "execution_count": 32,
   "metadata": {},
   "outputs": [
    {
     "name": "stdout",
     "output_type": "stream",
     "text": [
      "R2 0.27994321524487786\n",
      "RMSE: 37.5794217150813\n",
      "Average predicted volume of reserve: 92.59256778438035\n",
      "R2 0.9996233978805127\n",
      "RMSE: 0.893099286775617\n",
      "Average predicted volume of reserve: 68.728546895446\n",
      "R2 0.20524758386040443\n",
      "RMSE: 40.02970873393434\n",
      "Average predicted volume of reserve: 94.96504596800489\n"
     ]
    }
   ],
   "source": [
    "def linearreg(features_train, features_test, target_train, target_test):\n",
    "    to_normalize = ['f0','f1','f2']\n",
    "    scaler = StandardScaler()\n",
    "    scaler.fit(features_train[to_normalize])\n",
    "    features_train.loc[:,to_normalize] = scaler.transform(features_train[to_normalize])\n",
    "    features_test.loc[:,to_normalize] = scaler.transform(features_test[to_normalize])\n",
    "    lreg = LinearRegression().fit(features_train,target_train)\n",
    "    predicted_value = lreg.predict(features_test)\n",
    "    print('R2', lreg.score(features_test, target_test))\n",
    "    print('RMSE:', np.sqrt(mean_squared_error(target_test, predicted_value)))\n",
    "    print('Average predicted volume of reserve:',predicted_value.mean() )\n",
    "    return predicted_value\n",
    "\n",
    "predicted_value0 = linearreg(features_train0, features_test0, target_train0, target_test0)\n",
    "predicted_value1 = linearreg(features_train1, features_test1, target_train1, target_test1)\n",
    "predicted_value2 = linearreg(features_train2, features_test2, target_train2, target_test2)\n",
    "    "
   ]
  },
  {
   "cell_type": "markdown",
   "metadata": {},
   "source": [
    "The average predicted volume of reserve(s) for the first region is 92.59, for the second region it's 68.73 and for the third region it's 94.97.\n",
    "This shows that the first and third regions should be favored as opposed to the second."
   ]
  },
  {
   "cell_type": "markdown",
   "metadata": {},
   "source": [
    "# Prepare for profit calculation\n"
   ]
  },
  {
   "cell_type": "markdown",
   "metadata": {},
   "source": [
    "We must adhere to the following conditions:\n",
    "\n",
    "- Only linear regression is suitable for model training (the rest are not sufficiently predictable).\n",
    "\n",
    "- When exploring the region, a study of 500 points is carried with picking the best 200 points for the profit calculation.\n",
    "\n",
    "- The budget for development of 200 oil wells is 100 USD million.\n",
    "\n",
    "- One barrel of raw materials brings 4.5 USD of revenue The revenue from one unit of product is 4,500 dollars (volume of reserves is in thousand barrels).\n",
    "\n",
    "- After the risk evaluation, keep only the regions with the risk of losses lower than 2.5%. From the ones that fit the criteria, the region with the highest average profit should be selected."
   ]
  },
  {
   "cell_type": "code",
   "execution_count": 33,
   "metadata": {},
   "outputs": [
    {
     "name": "stdout",
     "output_type": "stream",
     "text": [
      "The volume of reserves sufficient for developing a new well without losses is: 111.11111111111111\n"
     ]
    }
   ],
   "source": [
    "points = 500\n",
    "bestpoints = 200\n",
    "wells = 200\n",
    "budget = 100000000\n",
    "price = 4.5\n",
    "unit = 1000\n",
    "risk = 0.025\n",
    "print('The volume of reserves sufficient for developing a new well without losses is:', budget/bestpoints/(price*unit))"
   ]
  },
  {
   "cell_type": "code",
   "execution_count": 34,
   "metadata": {},
   "outputs": [
    {
     "name": "stdout",
     "output_type": "stream",
     "text": [
      "$ 33208260.43139851\n",
      "$ 24150866.966815114\n",
      "$ 27103499.635998324\n"
     ]
    }
   ],
   "source": [
    "def profit(target, probabilities):\n",
    "    target = pd.Series(target).reset_index(drop=True)\n",
    "    probabilities = pd.Series(probabilities)\n",
    "    probs_sorted = probabilities.sort_values(ascending=False)\n",
    "    selected = target[probs_sorted.index][:bestpoints]\n",
    "    return (selected.sum()* (price*unit)) - budget\n",
    "\n",
    "print('$',profit(target_test0, predicted_values0))\n",
    "print('$',profit(target_test1, predicted_values1))\n",
    "print('$',profit(target_test2, predicted_values2))\n"
   ]
  },
  {
   "cell_type": "markdown",
   "metadata": {},
   "source": [
    "The function above calculates the profit from the best 200 wells based on model predictions.\n",
    "\n",
    "\n",
    "\n",
    "The first region  gives us a predicted profit of USD 33,208,260.43. This will be the best place to develop wells. "
   ]
  },
  {
   "cell_type": "markdown",
   "metadata": {},
   "source": [
    " # Pick the wells with the highest values of prediction"
   ]
  },
  {
   "cell_type": "code",
   "execution_count": 44,
   "metadata": {},
   "outputs": [
    {
     "name": "stdout",
     "output_type": "stream",
     "text": [
      "9317     162.810993\n",
      "219      153.639837\n",
      "10015    162.153488\n",
      "11584     96.893581\n",
      "23388    178.879516\n",
      "Name: product, dtype: float64\n",
      "20430    137.945408\n",
      "7777     137.945408\n",
      "8755     137.945408\n",
      "1178     137.945408\n",
      "4285     137.945408\n",
      "Name: product, dtype: float64\n",
      "22636    175.103291\n",
      "24690    131.627481\n",
      "7811     141.160070\n",
      "1581     159.676082\n",
      "6751     142.135203\n",
      "Name: product, dtype: float64\n"
     ]
    }
   ],
   "source": [
    "def highest_wells(target, probabilities,number):\n",
    "    target = pd.Series(target).reset_index(drop=True)\n",
    "    probabilities = pd.Series(probabilities)\n",
    "    probs_sorted = probabilities.sort_values(ascending=False)\n",
    "    selected = target[probs_sorted.index][:bestpoints]\n",
    "    return selected.head(number)\n",
    "\n",
    "print(highest_wells(target_test0, predicted_values0, 5))\n",
    "print(highest_wells(target_test1, predicted_values1, 5))\n",
    "print(highest_wells(target_test2, predicted_values2, 5))\n"
   ]
  },
  {
   "cell_type": "markdown",
   "metadata": {},
   "source": [
    "Wells with the highest values for each region are printed above. "
   ]
  },
  {
   "cell_type": "markdown",
   "metadata": {},
   "source": [
    "# Calculate risks and profit for each region"
   ]
  },
  {
   "cell_type": "code",
   "execution_count": 45,
   "metadata": {},
   "outputs": [
    {
     "name": "stdout",
     "output_type": "stream",
     "text": [
      "Wells that make a profit: 931\n",
      "Proportion of wells that make a profit: 0.931\n"
     ]
    },
    {
     "data": {
      "image/png": "[encoded data removed]",
      "text/plain": [
       "<Figure size 432x288 with 1 Axes>"
      ]
     },
     "metadata": {
      "needs_background": "light"
     },
     "output_type": "display_data"
    }
   ],
   "source": [
    "def bs_profit(target, probabilities):\n",
    "    profits = []\n",
    "    target = pd.Series(target).reset_index(drop=True)\n",
    "    state = np.random.RandomState(12345)\n",
    "    for i in range(1000):\n",
    "        target_subsample = target.sample(n=points, replace=True, random_state = state)\n",
    "        probs_subsample = probabilities[target_subsample.index]\n",
    "        profits.append(profit(target_subsample, probs_subsample))\n",
    "\n",
    "    profits = pd.Series(profits)\n",
    "    print('Wells that make a profit:',profits.gt(0).sum())\n",
    "    print('Proportion of wells that make a profit:', profits.gt(0).sum()/len(profits))\n",
    "    \n",
    "    profits.hist()\n",
    "    plt.suptitle('How many bootstrapped samples make profit.', x=0.5, y=1.05, ha='center', fontsize='xx-large')\n",
    "\n",
    "    return profits\n",
    "\n",
    "bs0 = bs_profit(target_test0, predicted_values0)\n"
   ]
  },
  {
   "cell_type": "code",
   "execution_count": 46,
   "metadata": {},
   "outputs": [
    {
     "name": "stdout",
     "output_type": "stream",
     "text": [
      "Wells that make a profit: 985\n",
      "Proportion of wells that make a profit: 0.985\n"
     ]
    },
    {
     "data": {
      "image/png": "[encoded data removed]",
      "text/plain": [
       "<Figure size 432x288 with 1 Axes>"
      ]
     },
     "metadata": {
      "needs_background": "light"
     },
     "output_type": "display_data"
    }
   ],
   "source": [
    "bs1 = bs_profit(target_test1, predicted_values1)\n"
   ]
  },
  {
   "cell_type": "code",
   "execution_count": 47,
   "metadata": {},
   "outputs": [
    {
     "name": "stdout",
     "output_type": "stream",
     "text": [
      "Wells that make a profit: 924\n",
      "Proportion of wells that make a profit: 0.924\n"
     ]
    },
    {
     "data": {
      "image/png": "[encoded data removed]",
      "text/plain": [
       "<Figure size 432x288 with 1 Axes>"
      ]
     },
     "metadata": {
      "needs_background": "light"
     },
     "output_type": "display_data"
    }
   ],
   "source": [
    "bs2 = bs_profit(target_test2, predicted_values2)\n"
   ]
  },
  {
   "cell_type": "markdown",
   "metadata": {},
   "source": [
    "The histograms above show us that it's unlikely for the investment to end in an loss. The bootstrapping with 1000 iterations gives us good confidence since the resulting histogram(s) follows normal distribution."
   ]
  },
  {
   "cell_type": "code",
   "execution_count": 50,
   "metadata": {},
   "outputs": [
    {
     "name": "stdout",
     "output_type": "stream",
     "text": [
      "The average profit for this region is:  3961649.8480237117\n",
      "The 95% confidence interval is: 3796203.1514797257 , 4127096.5445676977\n",
      "The risk of losses is 0.069\n",
      "Confidence interval from the quantile method: -1112155.4589049604 , 9097669.41553423\n",
      "The average profit for this region is:  4560451.057866608\n",
      "The 95% confidence interval is: 4431472.486639005 , 4689429.62909421\n",
      "The risk of losses is 0.015\n",
      "Confidence interval from the quantile method: 338205.0939898458 , 8522894.538660347\n",
      "The average profit for this region is:  4044038.665683568\n",
      "The 95% confidence interval is: 3874457.974712804 , 4213619.356654332\n",
      "The risk of losses is 0.076\n",
      "Confidence interval from the quantile method: -1633504.1339559986 , 9503595.749237997\n"
     ]
    }
   ],
   "source": [
    "def conf_int(profits):\n",
    "    ci = st.t.interval(0.95, len(profits)-1, profits.mean(), profits.sem())\n",
    "    risk = len(profits[profits < 0]) / len(profits)\n",
    "    print('The average profit for this region is: ',profits.mean())\n",
    "    print('The 95% confidence interval is:', ci[0], ',' ,ci[1] )\n",
    "    print('The risk of losses is', risk)\n",
    "    \n",
    "def bs_conf_int(profits):\n",
    "\n",
    "    \n",
    "    lower = profits.quantile(0.025)\n",
    "    upper = profits.quantile(0.975)\n",
    "    print('Confidence interval from the quantile method:', lower, ',',upper)\n",
    "    \n",
    "conf_int(bs0)\n",
    "bs_conf_int(bs0)\n",
    "\n",
    "conf_int(bs1)\n",
    "bs_conf_int(bs1)\n",
    "\n",
    "conf_int(bs2)\n",
    "bs_conf_int(bs2)"
   ]
  },
  {
   "cell_type": "markdown",
   "metadata": {},
   "source": [
    "The results we arrived at from bootstrapping are different from Linear Regression. "
   ]
  },
  {
   "cell_type": "markdown",
   "metadata": {},
   "source": [
    " #  Conclusion"
   ]
  },
  {
   "cell_type": "markdown",
   "metadata": {},
   "source": [
    "The quality of the models was evaluated and we got satisfactory R-squared metrics for each region's model. We found that the volume of reserves sufficient for developing a new well without losses is: 111.11.\n",
    "\n",
    "Bootstrapping gave us a different insight into the who the company should invest into.\n",
    "We saw that all three of the regions have a great, profit prediction. The risk of loss is 0.015 for the second region. With this substantial difference from the first and third region we see where the company should dig their wells in."
   ]
  }
 ],
 "metadata": {
  "kernelspec": {
   "display_name": "Python 3 (ipykernel)",
   "language": "python",
   "name": "python3"
  },
  "language_info": {
   "codemirror_mode": {
    "name": "ipython",
    "version": 3
   },
   "file_extension": ".py",
   "mimetype": "text/x-python",
   "name": "python",
   "nbconvert_exporter": "python",
   "pygments_lexer": "ipython3",
   "version": "3.9.5"
  },
  "toc": {
   "base_numbering": 1,
   "nav_menu": {},
   "number_sections": true,
   "sideBar": true,
   "skip_h1_title": true,
   "title_cell": "Table of Contents",
   "title_sidebar": "Contents",
   "toc_cell": false,
   "toc_position": {},
   "toc_section_display": true,
   "toc_window_display": false
  }
 },
 "nbformat": 4,
 "nbformat_minor": 2
}
